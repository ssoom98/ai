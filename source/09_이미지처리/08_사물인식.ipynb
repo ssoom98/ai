{
 "cells": [
  {
   "cell_type": "markdown",
   "id": "efad5a79",
   "metadata": {},
   "source": [
    "# 1. Yolo8을 위한 패키지 설치 및 import"
   ]
  },
  {
   "cell_type": "code",
   "execution_count": null,
   "id": "76735ef1",
   "metadata": {},
   "outputs": [],
   "source": [
    "# ! pip install ultralytics"
   ]
  },
  {
   "cell_type": "code",
   "execution_count": 2,
   "id": "c8fa0d84",
   "metadata": {
    "ExecuteTime": {
     "end_time": "2024-12-27T03:58:10.374914Z",
     "start_time": "2024-12-27T03:58:06.887324Z"
    }
   },
   "outputs": [],
   "source": [
    "from ultralytics import YOLO\n",
    "import cv2\n",
    "import matplotlib.pyplot as plt"
   ]
  },
  {
   "cell_type": "markdown",
   "id": "432226ac",
   "metadata": {},
   "source": [
    "# 2. YOLO 인스턴스 생성하여 사물인식 처리"
   ]
  },
  {
   "cell_type": "code",
   "execution_count": 7,
   "id": "c640a60b",
   "metadata": {
    "ExecuteTime": {
     "end_time": "2024-12-27T03:58:23.590768Z",
     "start_time": "2024-12-27T03:58:23.534811Z"
    }
   },
   "outputs": [],
   "source": [
    "model = YOLO('yolov8n.pt')"
   ]
  },
  {
   "cell_type": "code",
   "execution_count": 8,
   "id": "7fa41c63",
   "metadata": {
    "ExecuteTime": {
     "end_time": "2024-12-27T03:58:26.206085Z",
     "start_time": "2024-12-27T03:58:24.919313Z"
    }
   },
   "outputs": [
    {
     "name": "stdout",
     "output_type": "stream",
     "text": [
      "\n",
      "image 1/1 D:\\ai\\source\\09_\\data\\mission_impossible_yolo.jpg: 352x640 1 person, 9 cars, 6 motorcycles, 84.3ms\n",
      "Speed: 3.0ms preprocess, 84.3ms inference, 2.0ms postprocess per image at shape (1, 3, 352, 640)\n"
     ]
    }
   ],
   "source": [
    "result = model.predict('data/mission_impossible_yolo.jpg')"
   ]
  },
  {
   "cell_type": "markdown",
   "id": "d23d2933",
   "metadata": {},
   "source": [
    "# 3. 결과 시각화"
   ]
  },
  {
   "cell_type": "code",
   "execution_count": 9,
   "id": "a8211654",
   "metadata": {
    "ExecuteTime": {
     "end_time": "2024-12-27T03:58:26.518365Z",
     "start_time": "2024-12-27T03:58:26.510385Z"
    }
   },
   "outputs": [],
   "source": [
    "result_image = result[0].plot() # BGR포맷\n"
   ]
  },
  {
   "cell_type": "code",
   "execution_count": 10,
   "id": "f71cf145",
   "metadata": {
    "ExecuteTime": {
     "end_time": "2024-12-27T03:58:28.148007Z",
     "start_time": "2024-12-27T03:58:28.127035Z"
    }
   },
   "outputs": [
    {
     "data": {
      "text/plain": [
       "True"
      ]
     },
     "execution_count": 10,
     "metadata": {},
     "output_type": "execute_result"
    }
   ],
   "source": [
    "cv2.imwrite('data/mission_impossible_yoloresult.jpg',result_image)"
   ]
  },
  {
   "cell_type": "code",
   "execution_count": null,
   "id": "a43a2a5f",
   "metadata": {
    "ExecuteTime": {
     "start_time": "2024-12-27T03:58:29.508Z"
    }
   },
   "outputs": [],
   "source": [
    "plt.imshow(cv2.cvtColor(result_image,cv2.COLOR_BGR2RGB))\n",
    "plt.show()"
   ]
  }
 ],
 "metadata": {
  "kernelspec": {
   "display_name": "Python 3 (ipykernel)",
   "language": "python",
   "name": "python3"
  },
  "language_info": {
   "codemirror_mode": {
    "name": "ipython",
    "version": 3
   },
   "file_extension": ".py",
   "mimetype": "text/x-python",
   "name": "python",
   "nbconvert_exporter": "python",
   "pygments_lexer": "ipython3",
   "version": "3.10.9"
  },
  "toc": {
   "base_numbering": 1,
   "nav_menu": {},
   "number_sections": true,
   "sideBar": true,
   "skip_h1_title": false,
   "title_cell": "Table of Contents",
   "title_sidebar": "Contents",
   "toc_cell": false,
   "toc_position": {},
   "toc_section_display": true,
   "toc_window_display": false
  }
 },
 "nbformat": 4,
 "nbformat_minor": 5
}
