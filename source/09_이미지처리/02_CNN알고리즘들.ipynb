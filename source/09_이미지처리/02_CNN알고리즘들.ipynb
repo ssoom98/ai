{
 "cells": [
  {
   "cell_type": "code",
   "execution_count": 2,
   "id": "90296a65",
   "metadata": {
    "ExecuteTime": {
     "end_time": "2024-12-24T00:43:14.138372Z",
     "start_time": "2024-12-24T00:43:14.131391Z"
    }
   },
   "outputs": [
    {
     "data": {
      "text/html": [
       "\n",
       "<style>\n",
       "div.container{width:99% !important;}\n",
       "div.cell.code_cell.rendered{width:90%;}\n",
       "div.CodeMirror {font-family:Consolas; font-size:18pt;}\n",
       "div.output {font-size:19pt; font-weight:bold;}\n",
       "div.input {font-family:Consolas; font-size:19pt;}\n",
       "div.prompt {min-width:70px;}\n",
       "div#toc-wrapper{padding-top:120px;}\n",
       "span.toc-item-num{display:none;}\n",
       "div.text_cell_render ul li{font-size:16pt;padding:5px;}\n",
       "div.CodeMirror-lines > div {padding-left:10px;}\n",
       "table.dataframe{font-size:19px;}\n",
       "</style>\n"
      ],
      "text/plain": [
       "<IPython.core.display.HTML object>"
      ]
     },
     "metadata": {},
     "output_type": "display_data"
    }
   ],
   "source": [
    "from IPython.display import display, HTML\n",
    "display(HTML(\"\"\"\n",
    "<style>\n",
    "div.container{width:99% !important;}\n",
    "div.cell.code_cell.rendered{width:90%;}\n",
    "div.CodeMirror {font-family:Consolas; font-size:18pt;}\n",
    "div.output {font-size:19pt; font-weight:bold;}\n",
    "div.input {font-family:Consolas; font-size:19pt;}\n",
    "div.prompt {min-width:70px;}\n",
    "div#toc-wrapper{padding-top:120px;}\n",
    "span.toc-item-num{display:none;}\n",
    "div.text_cell_render ul li{font-size:16pt;padding:5px;}\n",
    "div.CodeMirror-lines > div {padding-left:10px;}\n",
    "table.dataframe{font-size:19px;}\n",
    "</style>\n",
    "\"\"\"))"
   ]
  },
  {
   "cell_type": "markdown",
   "id": "0acafb9c",
   "metadata": {},
   "source": [
    "# 1. LeNet: 최초의 CNN\n",
    "```\n",
    "<img src='image/LeNet.png' alt='LeNet' width=\"300\">\n",
    "```\n",
    "![LeNet](image/LeNet.png)\n",
    "FC(120): 120개 출력층인 뉴런을 가진 Fully connected 레이어 "
   ]
  },
  {
   "cell_type": "code",
   "execution_count": null,
   "id": "574524e1",
   "metadata": {
    "ExecuteTime": {
     "start_time": "2024-12-23T08:46:40.867Z"
    }
   },
   "outputs": [],
   "source": [
    "from tensorflow.keras import Sequential\n",
    "from tensorflow.keras.layers import Input, Conv2D, AvgPool2D, Flatten, Dense\n",
    "                                            # AveragePooling2D 동일\n",
    "from tensorflow.keras.callbacks import EarlyStopping, Callback\n",
    "import pandas as pd\n",
    "import matplotlib.pyplot as plt\n",
    "import numpy as np\n",
    "from sklearn.metrics import confusion_matrix"
   ]
  },
  {
   "cell_type": "code",
   "execution_count": 3,
   "id": "b643187e",
   "metadata": {
    "ExecuteTime": {
     "end_time": "2024-12-23T06:08:30.838768Z",
     "start_time": "2024-12-23T06:08:30.831460Z"
    }
   },
   "outputs": [],
   "source": [
    "class CustomHistory(Callback): # on_epoch_end()는 각 에포크 종료시 호출\n",
    "    def __init__(self, times=5):  # 생성자 함수\n",
    "        self.epoch = 0\n",
    "        self.times = times\n",
    "    def on_epoch_end(self, batch, logs={}):\n",
    "        self.epoch += 1\n",
    "        if self.epoch%self.times == 0:\n",
    "            print('epoch:{}, loss:{}, acc:{}, val_loss:{}, val_accuracy:{}'.\\\n",
    "                 format(self.epoch,\n",
    "                        logs.get('loss'),\n",
    "                        logs.get('accuracy'),\n",
    "                        logs.get('val_loss'),\n",
    "                        logs.get('val_accuracy')\n",
    "                       ))\n",
    "\n"
   ]
  },
  {
   "cell_type": "code",
   "execution_count": 4,
   "id": "0eec7901",
   "metadata": {
    "ExecuteTime": {
     "end_time": "2024-12-23T06:08:30.855047Z",
     "start_time": "2024-12-23T06:08:30.841740Z"
    }
   },
   "outputs": [],
   "source": [
    "# 출력사이즈 = (입력사이즈 - 커널사이즈)/스트라이드 +1\n",
    "class LeNet:\n",
    "    @staticmethod\n",
    "    def build(input_shape=(32,32,1), activation='relu'):\n",
    "        model = Sequential()\n",
    "        model.add(Input(shape=input_shape))\n",
    "        model.add(Conv2D(6, # 커널갯수\n",
    "                         kernel_size=(5,5),\n",
    "                        activation=activation,\n",
    "                        kernel_initializer='he_normal',\n",
    "                        padding='valid'))\n",
    "        model.add(AvgPool2D(pool_size=(2,2),\n",
    "                           #strides=2,\n",
    "                            strides=(2,2)\n",
    "                           ))\n",
    "        model.add(Conv2D(16,kernel_size=(5,5),\n",
    "                        activation=activation,\n",
    "                        kernel_initializer='he_normal'))\n",
    "        model.add(AvgPool2D(pool_size=(2,2),strides=2))\n",
    "        model.add(Flatten())\n",
    "        model.add(Dense(120,activation='relu', kernel_initializer='he_normal'))\n",
    "        model.add(Dense(84,activation='relu', kernel_initializer='he_normal'))\n",
    "        model.add(Dense(10,activation='softmax')) # 출력층\n",
    "        return model"
   ]
  },
  {
   "cell_type": "code",
   "execution_count": 5,
   "id": "48d354d2",
   "metadata": {
    "ExecuteTime": {
     "end_time": "2024-12-23T06:08:30.866651Z",
     "start_time": "2024-12-23T06:08:30.857449Z"
    }
   },
   "outputs": [],
   "source": [
    "class LeNet:\n",
    "    @staticmethod\n",
    "    def build(input_shape=(32,32,1),activation='relu'):\n",
    "        model= Sequential([\n",
    "            Input(shape=input_shape),\n",
    "            Conv2D(6, # 커널갯수\n",
    "                         kernel_size=(5,5),\n",
    "                        activation=activation,\n",
    "                        kernel_initializer='he_normal',\n",
    "                        padding='valid'),\n",
    "            AvgPool2D(pool_size=(2,2),\n",
    "                           #strides=2,\n",
    "                            strides=(2,2)\n",
    "                           ),\n",
    "            Conv2D(16, # 커널갯수\n",
    "                        kernel_size=(5,5),\n",
    "                        activation=activation,\n",
    "                        kernel_initializer='he_normal',\n",
    "                        padding='valid'),\n",
    "            AvgPool2D(pool_size=(2,2),strides=2),\n",
    "            Flatten(),\n",
    "            Dense(120,activation='relu', kernel_initializer='he_normal'),\n",
    "            Dense(84,activation='relu', kernel_initializer='he_normal'),\n",
    "            Dense(10,activation='softmax'),\n",
    "                                  ])\n",
    "        return model"
   ]
  },
  {
   "cell_type": "code",
   "execution_count": 6,
   "id": "ed7f5e74",
   "metadata": {
    "ExecuteTime": {
     "end_time": "2024-12-23T06:08:31.898322Z",
     "start_time": "2024-12-23T06:08:30.869922Z"
    }
   },
   "outputs": [
    {
     "name": "stdout",
     "output_type": "stream",
     "text": [
      "Model: \"sequential\"\n",
      "_________________________________________________________________\n",
      " Layer (type)                Output Shape              Param #   \n",
      "=================================================================\n",
      " conv2d (Conv2D)             (None, 24, 24, 6)         156       \n",
      "                                                                 \n",
      " average_pooling2d (AverageP  (None, 12, 12, 6)        0         \n",
      " ooling2D)                                                       \n",
      "                                                                 \n",
      " conv2d_1 (Conv2D)           (None, 8, 8, 16)          2416      \n",
      "                                                                 \n",
      " average_pooling2d_1 (Averag  (None, 4, 4, 16)         0         \n",
      " ePooling2D)                                                     \n",
      "                                                                 \n",
      " flatten (Flatten)           (None, 256)               0         \n",
      "                                                                 \n",
      " dense (Dense)               (None, 120)               30840     \n",
      "                                                                 \n",
      " dense_1 (Dense)             (None, 84)                10164     \n",
      "                                                                 \n",
      " dense_2 (Dense)             (None, 10)                850       \n",
      "                                                                 \n",
      "=================================================================\n",
      "Total params: 44,426\n",
      "Trainable params: 44,426\n",
      "Non-trainable params: 0\n",
      "_________________________________________________________________\n",
      "None\n"
     ]
    }
   ],
   "source": [
    "model = LeNet.build(input_shape=(28,28,1), activation='relu')\n",
    "print(model.summary()) # 156 = 5*5*6+6\n",
    "                       # 5*5*16*6+16= 2416\n",
    "    #input 28 - 5*5사이즈 + strides 1 = 24 \n",
    "    #flatten * dense + dense= 30840\n",
    "    #dense_1 * dense + dense_1 = 10164\n",
    "    \n",
    "    "
   ]
  },
  {
   "cell_type": "code",
   "execution_count": 7,
   "id": "cc1b80ab",
   "metadata": {
    "ExecuteTime": {
     "end_time": "2024-12-23T06:08:32.289802Z",
     "start_time": "2024-12-23T06:08:31.899661Z"
    }
   },
   "outputs": [
    {
     "name": "stdout",
     "output_type": "stream",
     "text": [
      "(60000, 28, 28) (60000,) (10000, 28, 28) (10000,)\n",
      "(60000, 28, 28, 1) (60000,) (10000, 28, 28, 1) (10000,)\n"
     ]
    }
   ],
   "source": [
    "# 1. 데이터\n",
    "from tensorflow.keras.datasets import mnist\n",
    "(X_train,y_train), (X_test,y_test) = mnist.load_data()\n",
    "print(X_train.shape,y_train.shape,X_test.shape,y_test.shape)\n",
    "X_train = X_train.reshape(-1,28,28,1).astype('float32')\n",
    "X_test = X_test.reshape(-1,28,28,1).astype('float32')\n",
    "print(X_train.shape,y_train.shape,X_test.shape,y_test.shape)"
   ]
  },
  {
   "cell_type": "code",
   "execution_count": 8,
   "id": "dca85c8d",
   "metadata": {
    "ExecuteTime": {
     "end_time": "2024-12-23T06:11:20.546769Z",
     "start_time": "2024-12-23T06:08:32.292794Z"
    }
   },
   "outputs": [
    {
     "name": "stdout",
     "output_type": "stream",
     "text": [
      "epoch:3, loss:0.12864917516708374, acc:0.9667500257492065, val_loss:0.13693764805793762, val_accuracy:0.9649166464805603\n",
      "epoch:6, loss:0.06636416912078857, acc:0.9804375171661377, val_loss:0.10214439779520035, val_accuracy:0.9734166860580444\n",
      "epoch:9, loss:0.043260347098112106, acc:0.9871249794960022, val_loss:0.09039922803640366, val_accuracy:0.9776666760444641\n",
      "epoch:12, loss:0.030253127217292786, acc:0.9912291765213013, val_loss:0.07631182670593262, val_accuracy:0.9831666946411133\n",
      "epoch:15, loss:0.020710458979010582, acc:0.9939166903495789, val_loss:0.0806790292263031, val_accuracy:0.9848333597183228\n",
      "epoch:18, loss:0.017836812883615494, acc:0.9948541522026062, val_loss:0.08118350803852081, val_accuracy:0.9849166870117188\n"
     ]
    }
   ],
   "source": [
    "# 2. 모델생성\n",
    "model =LeNet.build(input_shape= (28,28,1), activation='relu')\n",
    "# 3. 학습설정\n",
    "model.compile(loss='sparse_categorical_crossentropy', # 원핫인코딩을 안하고 분류분석을 하는경우)\n",
    "              optimizer= 'adam',\n",
    "              metrics=['accuracy'])\n",
    "# 4. 학습\n",
    "customHistory= CustomHistory(3)\n",
    "earlystopping = EarlyStopping(patience=10)\n",
    "hist = model.fit(X_train, y_train,\n",
    "                validation_split=0.2,\n",
    "                 epochs=50,\n",
    "                 callbacks=[customHistory,earlystopping],\n",
    "                 verbose=0)"
   ]
  },
  {
   "cell_type": "code",
   "execution_count": 9,
   "id": "961250d2",
   "metadata": {
    "ExecuteTime": {
     "end_time": "2024-12-23T06:11:22.090871Z",
     "start_time": "2024-12-23T06:11:20.548744Z"
    }
   },
   "outputs": [
    {
     "name": "stdout",
     "output_type": "stream",
     "text": [
      "313/313 [==============================] - 1s 4ms/step - loss: 0.0887 - accuracy: 0.9848\n",
      "accuracy:98.48%\n"
     ]
    }
   ],
   "source": [
    "loss, accuracy = model.evaluate(X_test,y_test)\n",
    "print(\"accuracy:{:.2f}%\".format(accuracy*100))"
   ]
  },
  {
   "cell_type": "code",
   "execution_count": 10,
   "id": "b271a648",
   "metadata": {
    "ExecuteTime": {
     "end_time": "2024-12-23T06:11:23.413122Z",
     "start_time": "2024-12-23T06:11:22.092845Z"
    }
   },
   "outputs": [
    {
     "name": "stdout",
     "output_type": "stream",
     "text": [
      "313/313 [==============================] - 1s 2ms/step\n"
     ]
    },
    {
     "data": {
      "text/html": [
       "<div>\n",
       "<style scoped>\n",
       "    .dataframe tbody tr th:only-of-type {\n",
       "        vertical-align: middle;\n",
       "    }\n",
       "\n",
       "    .dataframe tbody tr th {\n",
       "        vertical-align: top;\n",
       "    }\n",
       "\n",
       "    .dataframe thead th {\n",
       "        text-align: right;\n",
       "    }\n",
       "</style>\n",
       "<table border=\"1\" class=\"dataframe\">\n",
       "  <thead>\n",
       "    <tr style=\"text-align: right;\">\n",
       "      <th>col_0</th>\n",
       "      <th>0</th>\n",
       "      <th>1</th>\n",
       "      <th>2</th>\n",
       "      <th>3</th>\n",
       "      <th>4</th>\n",
       "      <th>5</th>\n",
       "      <th>6</th>\n",
       "      <th>7</th>\n",
       "      <th>8</th>\n",
       "      <th>9</th>\n",
       "    </tr>\n",
       "    <tr>\n",
       "      <th>row_0</th>\n",
       "      <th></th>\n",
       "      <th></th>\n",
       "      <th></th>\n",
       "      <th></th>\n",
       "      <th></th>\n",
       "      <th></th>\n",
       "      <th></th>\n",
       "      <th></th>\n",
       "      <th></th>\n",
       "      <th></th>\n",
       "    </tr>\n",
       "  </thead>\n",
       "  <tbody>\n",
       "    <tr>\n",
       "      <th>0</th>\n",
       "      <td>974</td>\n",
       "      <td>0</td>\n",
       "      <td>0</td>\n",
       "      <td>0</td>\n",
       "      <td>0</td>\n",
       "      <td>0</td>\n",
       "      <td>1</td>\n",
       "      <td>1</td>\n",
       "      <td>1</td>\n",
       "      <td>3</td>\n",
       "    </tr>\n",
       "    <tr>\n",
       "      <th>1</th>\n",
       "      <td>1</td>\n",
       "      <td>1125</td>\n",
       "      <td>1</td>\n",
       "      <td>1</td>\n",
       "      <td>1</td>\n",
       "      <td>0</td>\n",
       "      <td>1</td>\n",
       "      <td>5</td>\n",
       "      <td>0</td>\n",
       "      <td>0</td>\n",
       "    </tr>\n",
       "    <tr>\n",
       "      <th>2</th>\n",
       "      <td>4</td>\n",
       "      <td>1</td>\n",
       "      <td>1017</td>\n",
       "      <td>2</td>\n",
       "      <td>0</td>\n",
       "      <td>0</td>\n",
       "      <td>0</td>\n",
       "      <td>5</td>\n",
       "      <td>2</td>\n",
       "      <td>1</td>\n",
       "    </tr>\n",
       "    <tr>\n",
       "      <th>3</th>\n",
       "      <td>1</td>\n",
       "      <td>0</td>\n",
       "      <td>1</td>\n",
       "      <td>995</td>\n",
       "      <td>0</td>\n",
       "      <td>7</td>\n",
       "      <td>0</td>\n",
       "      <td>0</td>\n",
       "      <td>4</td>\n",
       "      <td>2</td>\n",
       "    </tr>\n",
       "    <tr>\n",
       "      <th>4</th>\n",
       "      <td>0</td>\n",
       "      <td>2</td>\n",
       "      <td>1</td>\n",
       "      <td>0</td>\n",
       "      <td>958</td>\n",
       "      <td>0</td>\n",
       "      <td>5</td>\n",
       "      <td>3</td>\n",
       "      <td>2</td>\n",
       "      <td>11</td>\n",
       "    </tr>\n",
       "    <tr>\n",
       "      <th>5</th>\n",
       "      <td>2</td>\n",
       "      <td>0</td>\n",
       "      <td>1</td>\n",
       "      <td>5</td>\n",
       "      <td>0</td>\n",
       "      <td>861</td>\n",
       "      <td>5</td>\n",
       "      <td>1</td>\n",
       "      <td>11</td>\n",
       "      <td>6</td>\n",
       "    </tr>\n",
       "    <tr>\n",
       "      <th>6</th>\n",
       "      <td>5</td>\n",
       "      <td>4</td>\n",
       "      <td>0</td>\n",
       "      <td>1</td>\n",
       "      <td>2</td>\n",
       "      <td>1</td>\n",
       "      <td>942</td>\n",
       "      <td>0</td>\n",
       "      <td>3</td>\n",
       "      <td>0</td>\n",
       "    </tr>\n",
       "    <tr>\n",
       "      <th>7</th>\n",
       "      <td>0</td>\n",
       "      <td>3</td>\n",
       "      <td>5</td>\n",
       "      <td>1</td>\n",
       "      <td>0</td>\n",
       "      <td>0</td>\n",
       "      <td>0</td>\n",
       "      <td>1016</td>\n",
       "      <td>1</td>\n",
       "      <td>2</td>\n",
       "    </tr>\n",
       "    <tr>\n",
       "      <th>8</th>\n",
       "      <td>2</td>\n",
       "      <td>0</td>\n",
       "      <td>1</td>\n",
       "      <td>0</td>\n",
       "      <td>1</td>\n",
       "      <td>0</td>\n",
       "      <td>0</td>\n",
       "      <td>2</td>\n",
       "      <td>965</td>\n",
       "      <td>3</td>\n",
       "    </tr>\n",
       "    <tr>\n",
       "      <th>9</th>\n",
       "      <td>0</td>\n",
       "      <td>0</td>\n",
       "      <td>1</td>\n",
       "      <td>1</td>\n",
       "      <td>4</td>\n",
       "      <td>3</td>\n",
       "      <td>0</td>\n",
       "      <td>4</td>\n",
       "      <td>1</td>\n",
       "      <td>995</td>\n",
       "    </tr>\n",
       "  </tbody>\n",
       "</table>\n",
       "</div>"
      ],
      "text/plain": [
       "col_0    0     1     2    3    4    5    6     7    8    9\n",
       "row_0                                                     \n",
       "0      974     0     0    0    0    0    1     1    1    3\n",
       "1        1  1125     1    1    1    0    1     5    0    0\n",
       "2        4     1  1017    2    0    0    0     5    2    1\n",
       "3        1     0     1  995    0    7    0     0    4    2\n",
       "4        0     2     1    0  958    0    5     3    2   11\n",
       "5        2     0     1    5    0  861    5     1   11    6\n",
       "6        5     4     0    1    2    1  942     0    3    0\n",
       "7        0     3     5    1    0    0    0  1016    1    2\n",
       "8        2     0     1    0    1    0    0     2  965    3\n",
       "9        0     0     1    1    4    3    0     4    1  995"
      ]
     },
     "metadata": {},
     "output_type": "display_data"
    },
    {
     "name": "stdout",
     "output_type": "stream",
     "text": [
      "예측이 틀린갯수: 152\n"
     ]
    }
   ],
   "source": [
    "yhat= model.predict(X_test).argmax(axis=1)\n",
    "display(pd.crosstab(y_test,yhat)) # 결과가 데이터 프레임\n",
    "#print(confusion_matrix(y_test,yhat))  #결과가 넘파이 배열\n",
    "cnt = 0\n",
    "for y,h in zip(y_test,yhat):\n",
    "    if y!=h:\n",
    "        cnt+=1\n",
    "print('예측이 틀린갯수:', cnt)"
   ]
  },
  {
   "cell_type": "code",
   "execution_count": 11,
   "id": "2916624a",
   "metadata": {
    "ExecuteTime": {
     "end_time": "2024-12-23T06:11:23.747301Z",
     "start_time": "2024-12-23T06:11:23.416108Z"
    }
   },
   "outputs": [
    {
     "data": {
      "image/png": "[encoded data removed]",
      "text/plain": [
       "<Figure size 1000x400 with 2 Axes>"
      ]
     },
     "metadata": {},
     "output_type": "display_data"
    }
   ],
   "source": [
    "# 학습과정 중의 loss와 accuracy\n",
    "import matplotlib.pyplot as plt\n",
    "fig, loss_ax = plt.subplots(figsize=(10,4))\n",
    "loss_ax.plot(hist.history['loss'],'y',label='train loss')\n",
    "loss_ax.plot(hist.history['val_loss'],'r--',label='validation loss')\n",
    "acc_ax = loss_ax.twinx() # loss_ax와 x축을 공유하는 acc_ax 생성\n",
    "acc_ax.plot(hist.history['accuracy'],'g',label='train accuracy')\n",
    "acc_ax.plot(hist.history['val_accuracy'],'b',label='val accuracy')\n",
    "loss_ax.set_xlabel('epoch')\n",
    "loss_ax.set_ylabel('loss')\n",
    "acc_ax.set_ylabel('accuracy')\n",
    "loss_ax.legend(loc='center')\n",
    "acc_ax.legend(loc='center right')\n",
    "plt.show()"
   ]
  },
  {
   "cell_type": "code",
   "execution_count": 12,
   "id": "e5f3830c",
   "metadata": {
    "ExecuteTime": {
     "end_time": "2024-12-23T06:11:27.524396Z",
     "start_time": "2024-12-23T06:11:23.753396Z"
    }
   },
   "outputs": [
    {
     "name": "stdout",
     "output_type": "stream",
     "text": [
      "i =  2996\n",
      "cnt =  70\n"
     ]
    },
    {
     "data": {
      "image/png": "[encoded data removed]",
      "text/plain": [
       "<Figure size 1000x700 with 70 Axes>"
      ]
     },
     "metadata": {},
     "output_type": "display_data"
    }
   ],
   "source": [
    "plt_row = 7\n",
    "plt_col = 10\n",
    "plt.rcParams['figure.figsize'] = (plt_col, plt_row)\n",
    "plt.rc('font', family='Malgun Gothic') # 윈도우즈\n",
    "fig, axarr = plt.subplots(nrows=plt_row, ncols=plt_col)\n",
    "plt.subplots_adjust(hspace=0.9, wspace=0.2)\n",
    "\n",
    "i = 0 # yhat , y_test 를 엑세스 할 index\n",
    "cnt = 0 # 출력할 횟수\n",
    "while (cnt<plt_row*plt_col) & (i < len(y_test)):\n",
    "    # 예측한 결과가 틀렸을 경우만 imshow(X_test[i]), 실제값과 예측치를 title에 출력\n",
    "    if yhat[i]==y_test[i]:\n",
    "        i += 1\n",
    "        continue\n",
    "    # 예측한 값과 실제값이 다른 경우\n",
    "    sub_plot = axarr[cnt//plt_col, cnt%plt_col]\n",
    "    sub_plot.imshow(X_test[i].reshape(28,28))\n",
    "    title = 'r:{},p:{}'.format(y_test[i],yhat[i])\n",
    "    sub_plot.set_title(title)\n",
    "    sub_plot.axis('off')\n",
    "    i += 1\n",
    "    cnt += 1\n",
    "print('i = ', i)\n",
    "print('cnt = ', cnt)"
   ]
  },
  {
   "cell_type": "markdown",
   "id": "a8d41835",
   "metadata": {},
   "source": [
    "# 2. AlexNet\n",
    "- GPU를 사용하여 실현 가능한 모델. 알렉스와 제프리 힌튼이 공동 설계한 CNN아키텍쳐이름\n"
   ]
  },
  {
   "cell_type": "code",
   "execution_count": 13,
   "id": "d2791a45",
   "metadata": {
    "ExecuteTime": {
     "end_time": "2024-12-23T06:11:27.531378Z",
     "start_time": "2024-12-23T06:11:27.527360Z"
    }
   },
   "outputs": [],
   "source": [
    "from tensorflow.keras import Sequential\n",
    "from tensorflow.keras.layers import Input,Conv2D, MaxPooling2D\n",
    "from tensorflow.keras.layers import Flatten, Dense, Dropout\n",
    "from tensorflow.keras.layers import BatchNormalization # 배치 정규화\n",
    "import matplotlib.pyplot as plt"
   ]
  },
  {
   "cell_type": "code",
   "execution_count": 14,
   "id": "c571b878",
   "metadata": {
    "ExecuteTime": {
     "end_time": "2024-12-23T06:11:27.543402Z",
     "start_time": "2024-12-23T06:11:27.534408Z"
    }
   },
   "outputs": [
    {
     "name": "stdout",
     "output_type": "stream",
     "text": [
      "2.10.0\n"
     ]
    },
    {
     "data": {
      "text/plain": [
       "[PhysicalDevice(name='/physical_device:GPU:0', device_type='GPU')]"
      ]
     },
     "execution_count": 14,
     "metadata": {},
     "output_type": "execute_result"
    }
   ],
   "source": [
    "import tensorflow as tf\n",
    "print(tf.__version__)\n",
    "tf.config.list_physical_devices('GPU')"
   ]
  },
  {
   "cell_type": "code",
   "execution_count": 15,
   "id": "a4461602",
   "metadata": {
    "ExecuteTime": {
     "end_time": "2024-12-23T06:11:27.557598Z",
     "start_time": "2024-12-23T06:11:27.546376Z"
    }
   },
   "outputs": [],
   "source": [
    "# 출력사이즈 = (입력사이즈 - 커널사이즈) / 스트라이드 + 1\n",
    "class AlexNet:\n",
    "    @staticmethod\n",
    "    def build(input_shape=(224, 224, 3), activation='relu', class_num=1000):\n",
    "        model = Sequential([\n",
    "            Input(shape=input_shape),\n",
    "            Conv2D(96,  # 커널갯수\n",
    "                   kernel_size=(11, 11),\n",
    "                   strides=(4, 4),\n",
    "                   activation=activation,\n",
    "                   padding='same'),  # 두 번째 MaxPooling 오류 방지를 위함\n",
    "            MaxPooling2D(pool_size=(3, 3), strides=2),\n",
    "            BatchNormalization(),  # 배치졍규화\n",
    "            Conv2D(256, kernel_size=(5, 5), activation=activation, padding='same'),\n",
    "            MaxPooling2D(pool_size=(3, 3), strides=2),\n",
    "            BatchNormalization(),\n",
    "            Conv2D(384, kernel_size=(3, 3), activation=activation, padding='same'),\n",
    "            Conv2D(384, kernel_size=(3, 3), activation=activation, padding='same'),\n",
    "            Conv2D(256, kernel_size=(3, 3), activation=activation, padding='same'),\n",
    "            # AlexNet은 224*224 이미지에 맞춰서 3*3 pooling이 되나,\n",
    "            # cifar 32*32 이미지에서는 아래의 MaxPooling단계는 생략\n",
    "            # MaxPooling2D(pool_size=(3, 3), strides=2),\n",
    "            Flatten(),            \n",
    "            Dense(units=4096, activation=activation),\n",
    "            Dropout(0.5),\n",
    "            Dense(units=4096, activation=activation),\n",
    "            Dropout(0.5),\n",
    "            Dense(units=class_num, activation='softmax')  # 출력층\n",
    "        ])\n",
    "        return model"
   ]
  },
  {
   "cell_type": "code",
   "execution_count": 16,
   "id": "ef46dee4",
   "metadata": {
    "ExecuteTime": {
     "end_time": "2024-12-23T06:11:27.778147Z",
     "start_time": "2024-12-23T06:11:27.561588Z"
    }
   },
   "outputs": [
    {
     "name": "stdout",
     "output_type": "stream",
     "text": [
      "Model: \"sequential_2\"\n",
      "_________________________________________________________________\n",
      " Layer (type)                Output Shape              Param #   \n",
      "=================================================================\n",
      " conv2d_4 (Conv2D)           (None, 8, 8, 96)          34944     \n",
      "                                                                 \n",
      " max_pooling2d (MaxPooling2D  (None, 3, 3, 96)         0         \n",
      " )                                                               \n",
      "                                                                 \n",
      " batch_normalization (BatchN  (None, 3, 3, 96)         384       \n",
      " ormalization)                                                   \n",
      "                                                                 \n",
      " conv2d_5 (Conv2D)           (None, 3, 3, 256)         614656    \n",
      "                                                                 \n",
      " max_pooling2d_1 (MaxPooling  (None, 1, 1, 256)        0         \n",
      " 2D)                                                             \n",
      "                                                                 \n",
      " batch_normalization_1 (Batc  (None, 1, 1, 256)        1024      \n",
      " hNormalization)                                                 \n",
      "                                                                 \n",
      " conv2d_6 (Conv2D)           (None, 1, 1, 384)         885120    \n",
      "                                                                 \n",
      " conv2d_7 (Conv2D)           (None, 1, 1, 384)         1327488   \n",
      "                                                                 \n",
      " conv2d_8 (Conv2D)           (None, 1, 1, 256)         884992    \n",
      "                                                                 \n",
      " flatten_2 (Flatten)         (None, 256)               0         \n",
      "                                                                 \n",
      " dense_6 (Dense)             (None, 4096)              1052672   \n",
      "                                                                 \n",
      " dropout (Dropout)           (None, 4096)              0         \n",
      "                                                                 \n",
      " dense_7 (Dense)             (None, 4096)              16781312  \n",
      "                                                                 \n",
      " dropout_1 (Dropout)         (None, 4096)              0         \n",
      "                                                                 \n",
      " dense_8 (Dense)             (None, 1000)              4097000   \n",
      "                                                                 \n",
      "=================================================================\n",
      "Total params: 25,679,592\n",
      "Trainable params: 25,678,888\n",
      "Non-trainable params: 704\n",
      "_________________________________________________________________\n"
     ]
    }
   ],
   "source": [
    "model = AlexNet.build(input_shape=(32,32,3))\n",
    "model.summary()"
   ]
  },
  {
   "cell_type": "code",
   "execution_count": 17,
   "id": "7ef319be",
   "metadata": {
    "ExecuteTime": {
     "end_time": "2024-12-23T06:11:28.626845Z",
     "start_time": "2024-12-23T06:11:27.782147Z"
    }
   },
   "outputs": [
    {
     "data": {
      "text/plain": [
       "((50000, 32, 32, 3),\n",
       " (50000, 1),\n",
       " array([[[[158, 112,  49],\n",
       "          [159, 111,  47],\n",
       "          [165, 116,  51],\n",
       "          ...,\n",
       "          [137,  95,  36],\n",
       "          [126,  91,  36],\n",
       "          [116,  85,  33]],\n",
       " \n",
       "         [[152, 112,  51],\n",
       "          [151, 110,  40],\n",
       "          [159, 114,  45],\n",
       "          ...,\n",
       "          [136,  95,  31],\n",
       "          [125,  91,  32],\n",
       "          [119,  88,  34]],\n",
       " \n",
       "         [[151, 110,  47],\n",
       "          [151, 109,  33],\n",
       "          [158, 111,  36],\n",
       "          ...,\n",
       "          [139,  98,  34],\n",
       "          [130,  95,  34],\n",
       "          [120,  89,  33]],\n",
       " \n",
       "         ...,\n",
       " \n",
       "         [[ 68, 124, 177],\n",
       "          [ 42, 100, 148],\n",
       "          [ 31,  88, 137],\n",
       "          ...,\n",
       "          [ 38,  97, 146],\n",
       "          [ 13,  64, 108],\n",
       "          [ 40,  85, 127]],\n",
       " \n",
       "         [[ 61, 116, 168],\n",
       "          [ 49, 102, 148],\n",
       "          [ 35,  85, 132],\n",
       "          ...,\n",
       "          [ 26,  82, 130],\n",
       "          [ 29,  82, 126],\n",
       "          [ 20,  64, 107]],\n",
       " \n",
       "         [[ 54, 107, 160],\n",
       "          [ 56, 105, 149],\n",
       "          [ 45,  89, 132],\n",
       "          ...,\n",
       "          [ 24,  77, 124],\n",
       "          [ 34,  84, 129],\n",
       "          [ 21,  67, 110]]],\n",
       " \n",
       " \n",
       "        [[[235, 235, 235],\n",
       "          [231, 231, 231],\n",
       "          [232, 232, 232],\n",
       "          ...,\n",
       "          [233, 233, 233],\n",
       "          [233, 233, 233],\n",
       "          [232, 232, 232]],\n",
       " \n",
       "         [[238, 238, 238],\n",
       "          [235, 235, 235],\n",
       "          [235, 235, 235],\n",
       "          ...,\n",
       "          [236, 236, 236],\n",
       "          [236, 236, 236],\n",
       "          [235, 235, 235]],\n",
       " \n",
       "         [[237, 237, 237],\n",
       "          [234, 234, 234],\n",
       "          [234, 234, 234],\n",
       "          ...,\n",
       "          [235, 235, 235],\n",
       "          [235, 235, 235],\n",
       "          [234, 234, 234]],\n",
       " \n",
       "         ...,\n",
       " \n",
       "         [[ 87,  99,  89],\n",
       "          [ 43,  51,  37],\n",
       "          [ 19,  23,  11],\n",
       "          ...,\n",
       "          [169, 184, 179],\n",
       "          [182, 197, 193],\n",
       "          [188, 202, 201]],\n",
       " \n",
       "         [[ 82,  96,  82],\n",
       "          [ 46,  57,  36],\n",
       "          [ 36,  44,  22],\n",
       "          ...,\n",
       "          [174, 189, 183],\n",
       "          [185, 200, 196],\n",
       "          [187, 202, 200]],\n",
       " \n",
       "         [[ 85, 101,  83],\n",
       "          [ 62,  75,  48],\n",
       "          [ 58,  67,  38],\n",
       "          ...,\n",
       "          [168, 183, 178],\n",
       "          [180, 195, 191],\n",
       "          [186, 200, 199]]],\n",
       " \n",
       " \n",
       "        [[[158, 190, 222],\n",
       "          [158, 187, 218],\n",
       "          [139, 166, 194],\n",
       "          ...,\n",
       "          [228, 231, 234],\n",
       "          [237, 239, 243],\n",
       "          [238, 241, 246]],\n",
       " \n",
       "         [[170, 200, 229],\n",
       "          [172, 199, 226],\n",
       "          [151, 176, 201],\n",
       "          ...,\n",
       "          [232, 232, 236],\n",
       "          [246, 246, 250],\n",
       "          [246, 247, 251]],\n",
       " \n",
       "         [[174, 201, 225],\n",
       "          [176, 200, 222],\n",
       "          [157, 179, 199],\n",
       "          ...,\n",
       "          [230, 229, 232],\n",
       "          [250, 249, 251],\n",
       "          [245, 244, 247]],\n",
       " \n",
       "         ...,\n",
       " \n",
       "         [[ 31,  40,  45],\n",
       "          [ 30,  39,  44],\n",
       "          [ 26,  35,  40],\n",
       "          ...,\n",
       "          [ 37,  40,  46],\n",
       "          [  9,  13,  14],\n",
       "          [  4,   7,   5]],\n",
       " \n",
       "         [[ 23,  34,  39],\n",
       "          [ 27,  38,  43],\n",
       "          [ 25,  36,  41],\n",
       "          ...,\n",
       "          [ 19,  20,  24],\n",
       "          [  4,   6,   3],\n",
       "          [  5,   7,   3]],\n",
       " \n",
       "         [[ 28,  41,  47],\n",
       "          [ 30,  43,  50],\n",
       "          [ 32,  45,  52],\n",
       "          ...,\n",
       "          [  5,   6,   8],\n",
       "          [  4,   5,   3],\n",
       "          [  7,   8,   7]]],\n",
       " \n",
       " \n",
       "        ...,\n",
       " \n",
       " \n",
       "        [[[ 20,  15,  12],\n",
       "          [ 19,  14,  11],\n",
       "          [ 15,  14,  11],\n",
       "          ...,\n",
       "          [ 10,   9,   7],\n",
       "          [ 12,  11,   9],\n",
       "          [ 13,  12,  10]],\n",
       " \n",
       "         [[ 21,  16,  13],\n",
       "          [ 20,  16,  13],\n",
       "          [ 18,  17,  12],\n",
       "          ...,\n",
       "          [ 10,   9,   7],\n",
       "          [ 10,   9,   7],\n",
       "          [ 12,  11,   9]],\n",
       " \n",
       "         [[ 21,  16,  13],\n",
       "          [ 21,  17,  12],\n",
       "          [ 20,  18,  11],\n",
       "          ...,\n",
       "          [ 12,  11,   9],\n",
       "          [ 12,  11,   9],\n",
       "          [ 13,  12,  10]],\n",
       " \n",
       "         ...,\n",
       " \n",
       "         [[ 33,  25,  13],\n",
       "          [ 34,  26,  15],\n",
       "          [ 34,  26,  15],\n",
       "          ...,\n",
       "          [ 28,  25,  52],\n",
       "          [ 29,  25,  58],\n",
       "          [ 23,  20,  42]],\n",
       " \n",
       "         [[ 33,  25,  14],\n",
       "          [ 34,  26,  15],\n",
       "          [ 34,  26,  15],\n",
       "          ...,\n",
       "          [ 27,  24,  52],\n",
       "          [ 27,  24,  56],\n",
       "          [ 25,  22,  47]],\n",
       " \n",
       "         [[ 31,  23,  12],\n",
       "          [ 32,  24,  13],\n",
       "          [ 33,  25,  14],\n",
       "          ...,\n",
       "          [ 24,  23,  50],\n",
       "          [ 26,  23,  53],\n",
       "          [ 25,  20,  47]]],\n",
       " \n",
       " \n",
       "        [[[ 25,  40,  12],\n",
       "          [ 15,  36,   3],\n",
       "          [ 23,  41,  18],\n",
       "          ...,\n",
       "          [ 61,  82,  78],\n",
       "          [ 92, 113, 112],\n",
       "          [ 75,  89,  92]],\n",
       " \n",
       "         [[ 12,  25,   6],\n",
       "          [ 20,  37,   7],\n",
       "          [ 24,  36,  15],\n",
       "          ...,\n",
       "          [115, 134, 138],\n",
       "          [149, 168, 177],\n",
       "          [104, 117, 131]],\n",
       " \n",
       "         [[ 12,  25,  11],\n",
       "          [ 15,  29,   6],\n",
       "          [ 34,  40,  24],\n",
       "          ...,\n",
       "          [154, 172, 182],\n",
       "          [157, 175, 192],\n",
       "          [116, 129, 151]],\n",
       " \n",
       "         ...,\n",
       " \n",
       "         [[100, 129,  81],\n",
       "          [103, 132,  84],\n",
       "          [104, 134,  86],\n",
       "          ...,\n",
       "          [ 97, 128,  84],\n",
       "          [ 98, 126,  84],\n",
       "          [ 91, 121,  79]],\n",
       " \n",
       "         [[103, 132,  83],\n",
       "          [104, 131,  83],\n",
       "          [107, 135,  87],\n",
       "          ...,\n",
       "          [101, 132,  87],\n",
       "          [ 99, 127,  84],\n",
       "          [ 92, 121,  79]],\n",
       " \n",
       "         [[ 95, 126,  78],\n",
       "          [ 95, 123,  76],\n",
       "          [101, 128,  81],\n",
       "          ...,\n",
       "          [ 93, 124,  80],\n",
       "          [ 95, 123,  81],\n",
       "          [ 92, 120,  80]]],\n",
       " \n",
       " \n",
       "        [[[ 73,  78,  75],\n",
       "          [ 98, 103, 113],\n",
       "          [ 99, 106, 114],\n",
       "          ...,\n",
       "          [135, 150, 152],\n",
       "          [135, 149, 154],\n",
       "          [203, 215, 223]],\n",
       " \n",
       "         [[ 69,  73,  70],\n",
       "          [ 84,  89,  97],\n",
       "          [ 68,  75,  81],\n",
       "          ...,\n",
       "          [ 85,  95,  89],\n",
       "          [ 71,  82,  80],\n",
       "          [120, 133, 135]],\n",
       " \n",
       "         [[ 69,  73,  70],\n",
       "          [ 90,  95, 100],\n",
       "          [ 62,  71,  74],\n",
       "          ...,\n",
       "          [ 74,  81,  70],\n",
       "          [ 53,  62,  54],\n",
       "          [ 62,  74,  69]],\n",
       " \n",
       "         ...,\n",
       " \n",
       "         [[123, 128,  96],\n",
       "          [132, 132, 102],\n",
       "          [129, 128, 100],\n",
       "          ...,\n",
       "          [108, 107,  88],\n",
       "          [ 62,  60,  55],\n",
       "          [ 27,  27,  28]],\n",
       " \n",
       "         [[115, 121,  91],\n",
       "          [123, 124,  95],\n",
       "          [129, 126,  99],\n",
       "          ...,\n",
       "          [115, 116,  94],\n",
       "          [ 66,  65,  59],\n",
       "          [ 27,  27,  27]],\n",
       " \n",
       "         [[116, 120,  90],\n",
       "          [121, 122,  94],\n",
       "          [129, 128, 101],\n",
       "          ...,\n",
       "          [116, 115,  94],\n",
       "          [ 68,  65,  58],\n",
       "          [ 27,  26,  26]]]], dtype=uint8),\n",
       " (10000, 1))"
      ]
     },
     "execution_count": 17,
     "metadata": {},
     "output_type": "execute_result"
    }
   ],
   "source": [
    "# 1. 데이터\n",
    "from tensorflow.keras.datasets import cifar10\n",
    "(X_train,y_train),(X_test, y_test) = cifar10.load_data()\n",
    "X_train.shape,y_train.shape,X_test,y_test.shape"
   ]
  },
  {
   "cell_type": "code",
   "execution_count": 18,
   "id": "f4f0ca83",
   "metadata": {
    "ExecuteTime": {
     "end_time": "2024-12-23T06:11:28.666757Z",
     "start_time": "2024-12-23T06:11:28.629971Z"
    }
   },
   "outputs": [
    {
     "data": {
      "image/png": "[encoded data removed]",
      "text/plain": [
       "<Figure size 70x70 with 1 Axes>"
      ]
     },
     "metadata": {},
     "output_type": "display_data"
    }
   ],
   "source": [
    "plt.figure(figsize=(0.7,0.7))\n",
    "plt.imshow(X_train[0])\n",
    "plt.axis('off')\n",
    "plt.show()"
   ]
  },
  {
   "cell_type": "code",
   "execution_count": 19,
   "id": "bda44e6e",
   "metadata": {
    "ExecuteTime": {
     "end_time": "2024-12-23T06:11:28.678835Z",
     "start_time": "2024-12-23T06:11:28.669706Z"
    },
    "scrolled": true
   },
   "outputs": [
    {
     "data": {
      "text/plain": [
       "array([[[ 59,  62,  63],\n",
       "        [ 43,  46,  45],\n",
       "        [ 50,  48,  43],\n",
       "        ...,\n",
       "        [158, 132, 108],\n",
       "        [152, 125, 102],\n",
       "        [148, 124, 103]],\n",
       "\n",
       "       [[ 16,  20,  20],\n",
       "        [  0,   0,   0],\n",
       "        [ 18,   8,   0],\n",
       "        ...,\n",
       "        [123,  88,  55],\n",
       "        [119,  83,  50],\n",
       "        [122,  87,  57]],\n",
       "\n",
       "       [[ 25,  24,  21],\n",
       "        [ 16,   7,   0],\n",
       "        [ 49,  27,   8],\n",
       "        ...,\n",
       "        [118,  84,  50],\n",
       "        [120,  84,  50],\n",
       "        [109,  73,  42]],\n",
       "\n",
       "       ...,\n",
       "\n",
       "       [[208, 170,  96],\n",
       "        [201, 153,  34],\n",
       "        [198, 161,  26],\n",
       "        ...,\n",
       "        [160, 133,  70],\n",
       "        [ 56,  31,   7],\n",
       "        [ 53,  34,  20]],\n",
       "\n",
       "       [[180, 139,  96],\n",
       "        [173, 123,  42],\n",
       "        [186, 144,  30],\n",
       "        ...,\n",
       "        [184, 148,  94],\n",
       "        [ 97,  62,  34],\n",
       "        [ 83,  53,  34]],\n",
       "\n",
       "       [[177, 144, 116],\n",
       "        [168, 129,  94],\n",
       "        [179, 142,  87],\n",
       "        ...,\n",
       "        [216, 184, 140],\n",
       "        [151, 118,  84],\n",
       "        [123,  92,  72]]], dtype=uint8)"
      ]
     },
     "execution_count": 19,
     "metadata": {},
     "output_type": "execute_result"
    }
   ],
   "source": [
    "X_train[0]"
   ]
  },
  {
   "cell_type": "code",
   "execution_count": 20,
   "id": "1dffdc6c",
   "metadata": {
    "ExecuteTime": {
     "end_time": "2024-12-23T06:11:29.533221Z",
     "start_time": "2024-12-23T06:11:28.682797Z"
    }
   },
   "outputs": [
    {
     "data": {
      "text/plain": [
       "((50000, 32, 32, 3),\n",
       " (50000, 1),\n",
       " array([[[[0.61960784, 0.43921569, 0.19215686],\n",
       "          [0.62352941, 0.43529412, 0.18431373],\n",
       "          [0.64705882, 0.45490196, 0.2       ],\n",
       "          ...,\n",
       "          [0.5372549 , 0.37254902, 0.14117647],\n",
       "          [0.49411765, 0.35686275, 0.14117647],\n",
       "          [0.45490196, 0.33333333, 0.12941176]],\n",
       " \n",
       "         [[0.59607843, 0.43921569, 0.2       ],\n",
       "          [0.59215686, 0.43137255, 0.15686275],\n",
       "          [0.62352941, 0.44705882, 0.17647059],\n",
       "          ...,\n",
       "          [0.53333333, 0.37254902, 0.12156863],\n",
       "          [0.49019608, 0.35686275, 0.1254902 ],\n",
       "          [0.46666667, 0.34509804, 0.13333333]],\n",
       " \n",
       "         [[0.59215686, 0.43137255, 0.18431373],\n",
       "          [0.59215686, 0.42745098, 0.12941176],\n",
       "          [0.61960784, 0.43529412, 0.14117647],\n",
       "          ...,\n",
       "          [0.54509804, 0.38431373, 0.13333333],\n",
       "          [0.50980392, 0.37254902, 0.13333333],\n",
       "          [0.47058824, 0.34901961, 0.12941176]],\n",
       " \n",
       "         ...,\n",
       " \n",
       "         [[0.26666667, 0.48627451, 0.69411765],\n",
       "          [0.16470588, 0.39215686, 0.58039216],\n",
       "          [0.12156863, 0.34509804, 0.5372549 ],\n",
       "          ...,\n",
       "          [0.14901961, 0.38039216, 0.57254902],\n",
       "          [0.05098039, 0.25098039, 0.42352941],\n",
       "          [0.15686275, 0.33333333, 0.49803922]],\n",
       " \n",
       "         [[0.23921569, 0.45490196, 0.65882353],\n",
       "          [0.19215686, 0.4       , 0.58039216],\n",
       "          [0.1372549 , 0.33333333, 0.51764706],\n",
       "          ...,\n",
       "          [0.10196078, 0.32156863, 0.50980392],\n",
       "          [0.11372549, 0.32156863, 0.49411765],\n",
       "          [0.07843137, 0.25098039, 0.41960784]],\n",
       " \n",
       "         [[0.21176471, 0.41960784, 0.62745098],\n",
       "          [0.21960784, 0.41176471, 0.58431373],\n",
       "          [0.17647059, 0.34901961, 0.51764706],\n",
       "          ...,\n",
       "          [0.09411765, 0.30196078, 0.48627451],\n",
       "          [0.13333333, 0.32941176, 0.50588235],\n",
       "          [0.08235294, 0.2627451 , 0.43137255]]],\n",
       " \n",
       " \n",
       "        [[[0.92156863, 0.92156863, 0.92156863],\n",
       "          [0.90588235, 0.90588235, 0.90588235],\n",
       "          [0.90980392, 0.90980392, 0.90980392],\n",
       "          ...,\n",
       "          [0.91372549, 0.91372549, 0.91372549],\n",
       "          [0.91372549, 0.91372549, 0.91372549],\n",
       "          [0.90980392, 0.90980392, 0.90980392]],\n",
       " \n",
       "         [[0.93333333, 0.93333333, 0.93333333],\n",
       "          [0.92156863, 0.92156863, 0.92156863],\n",
       "          [0.92156863, 0.92156863, 0.92156863],\n",
       "          ...,\n",
       "          [0.9254902 , 0.9254902 , 0.9254902 ],\n",
       "          [0.9254902 , 0.9254902 , 0.9254902 ],\n",
       "          [0.92156863, 0.92156863, 0.92156863]],\n",
       " \n",
       "         [[0.92941176, 0.92941176, 0.92941176],\n",
       "          [0.91764706, 0.91764706, 0.91764706],\n",
       "          [0.91764706, 0.91764706, 0.91764706],\n",
       "          ...,\n",
       "          [0.92156863, 0.92156863, 0.92156863],\n",
       "          [0.92156863, 0.92156863, 0.92156863],\n",
       "          [0.91764706, 0.91764706, 0.91764706]],\n",
       " \n",
       "         ...,\n",
       " \n",
       "         [[0.34117647, 0.38823529, 0.34901961],\n",
       "          [0.16862745, 0.2       , 0.14509804],\n",
       "          [0.0745098 , 0.09019608, 0.04313725],\n",
       "          ...,\n",
       "          [0.6627451 , 0.72156863, 0.70196078],\n",
       "          [0.71372549, 0.77254902, 0.75686275],\n",
       "          [0.7372549 , 0.79215686, 0.78823529]],\n",
       " \n",
       "         [[0.32156863, 0.37647059, 0.32156863],\n",
       "          [0.18039216, 0.22352941, 0.14117647],\n",
       "          [0.14117647, 0.17254902, 0.08627451],\n",
       "          ...,\n",
       "          [0.68235294, 0.74117647, 0.71764706],\n",
       "          [0.7254902 , 0.78431373, 0.76862745],\n",
       "          [0.73333333, 0.79215686, 0.78431373]],\n",
       " \n",
       "         [[0.33333333, 0.39607843, 0.3254902 ],\n",
       "          [0.24313725, 0.29411765, 0.18823529],\n",
       "          [0.22745098, 0.2627451 , 0.14901961],\n",
       "          ...,\n",
       "          [0.65882353, 0.71764706, 0.69803922],\n",
       "          [0.70588235, 0.76470588, 0.74901961],\n",
       "          [0.72941176, 0.78431373, 0.78039216]]],\n",
       " \n",
       " \n",
       "        [[[0.61960784, 0.74509804, 0.87058824],\n",
       "          [0.61960784, 0.73333333, 0.85490196],\n",
       "          [0.54509804, 0.65098039, 0.76078431],\n",
       "          ...,\n",
       "          [0.89411765, 0.90588235, 0.91764706],\n",
       "          [0.92941176, 0.9372549 , 0.95294118],\n",
       "          [0.93333333, 0.94509804, 0.96470588]],\n",
       " \n",
       "         [[0.66666667, 0.78431373, 0.89803922],\n",
       "          [0.6745098 , 0.78039216, 0.88627451],\n",
       "          [0.59215686, 0.69019608, 0.78823529],\n",
       "          ...,\n",
       "          [0.90980392, 0.90980392, 0.9254902 ],\n",
       "          [0.96470588, 0.96470588, 0.98039216],\n",
       "          [0.96470588, 0.96862745, 0.98431373]],\n",
       " \n",
       "         [[0.68235294, 0.78823529, 0.88235294],\n",
       "          [0.69019608, 0.78431373, 0.87058824],\n",
       "          [0.61568627, 0.70196078, 0.78039216],\n",
       "          ...,\n",
       "          [0.90196078, 0.89803922, 0.90980392],\n",
       "          [0.98039216, 0.97647059, 0.98431373],\n",
       "          [0.96078431, 0.95686275, 0.96862745]],\n",
       " \n",
       "         ...,\n",
       " \n",
       "         [[0.12156863, 0.15686275, 0.17647059],\n",
       "          [0.11764706, 0.15294118, 0.17254902],\n",
       "          [0.10196078, 0.1372549 , 0.15686275],\n",
       "          ...,\n",
       "          [0.14509804, 0.15686275, 0.18039216],\n",
       "          [0.03529412, 0.05098039, 0.05490196],\n",
       "          [0.01568627, 0.02745098, 0.01960784]],\n",
       " \n",
       "         [[0.09019608, 0.13333333, 0.15294118],\n",
       "          [0.10588235, 0.14901961, 0.16862745],\n",
       "          [0.09803922, 0.14117647, 0.16078431],\n",
       "          ...,\n",
       "          [0.0745098 , 0.07843137, 0.09411765],\n",
       "          [0.01568627, 0.02352941, 0.01176471],\n",
       "          [0.01960784, 0.02745098, 0.01176471]],\n",
       " \n",
       "         [[0.10980392, 0.16078431, 0.18431373],\n",
       "          [0.11764706, 0.16862745, 0.19607843],\n",
       "          [0.1254902 , 0.17647059, 0.20392157],\n",
       "          ...,\n",
       "          [0.01960784, 0.02352941, 0.03137255],\n",
       "          [0.01568627, 0.01960784, 0.01176471],\n",
       "          [0.02745098, 0.03137255, 0.02745098]]],\n",
       " \n",
       " \n",
       "        ...,\n",
       " \n",
       " \n",
       "        [[[0.07843137, 0.05882353, 0.04705882],\n",
       "          [0.0745098 , 0.05490196, 0.04313725],\n",
       "          [0.05882353, 0.05490196, 0.04313725],\n",
       "          ...,\n",
       "          [0.03921569, 0.03529412, 0.02745098],\n",
       "          [0.04705882, 0.04313725, 0.03529412],\n",
       "          [0.05098039, 0.04705882, 0.03921569]],\n",
       " \n",
       "         [[0.08235294, 0.0627451 , 0.05098039],\n",
       "          [0.07843137, 0.0627451 , 0.05098039],\n",
       "          [0.07058824, 0.06666667, 0.04705882],\n",
       "          ...,\n",
       "          [0.03921569, 0.03529412, 0.02745098],\n",
       "          [0.03921569, 0.03529412, 0.02745098],\n",
       "          [0.04705882, 0.04313725, 0.03529412]],\n",
       " \n",
       "         [[0.08235294, 0.0627451 , 0.05098039],\n",
       "          [0.08235294, 0.06666667, 0.04705882],\n",
       "          [0.07843137, 0.07058824, 0.04313725],\n",
       "          ...,\n",
       "          [0.04705882, 0.04313725, 0.03529412],\n",
       "          [0.04705882, 0.04313725, 0.03529412],\n",
       "          [0.05098039, 0.04705882, 0.03921569]],\n",
       " \n",
       "         ...,\n",
       " \n",
       "         [[0.12941176, 0.09803922, 0.05098039],\n",
       "          [0.13333333, 0.10196078, 0.05882353],\n",
       "          [0.13333333, 0.10196078, 0.05882353],\n",
       "          ...,\n",
       "          [0.10980392, 0.09803922, 0.20392157],\n",
       "          [0.11372549, 0.09803922, 0.22745098],\n",
       "          [0.09019608, 0.07843137, 0.16470588]],\n",
       " \n",
       "         [[0.12941176, 0.09803922, 0.05490196],\n",
       "          [0.13333333, 0.10196078, 0.05882353],\n",
       "          [0.13333333, 0.10196078, 0.05882353],\n",
       "          ...,\n",
       "          [0.10588235, 0.09411765, 0.20392157],\n",
       "          [0.10588235, 0.09411765, 0.21960784],\n",
       "          [0.09803922, 0.08627451, 0.18431373]],\n",
       " \n",
       "         [[0.12156863, 0.09019608, 0.04705882],\n",
       "          [0.1254902 , 0.09411765, 0.05098039],\n",
       "          [0.12941176, 0.09803922, 0.05490196],\n",
       "          ...,\n",
       "          [0.09411765, 0.09019608, 0.19607843],\n",
       "          [0.10196078, 0.09019608, 0.20784314],\n",
       "          [0.09803922, 0.07843137, 0.18431373]]],\n",
       " \n",
       " \n",
       "        [[[0.09803922, 0.15686275, 0.04705882],\n",
       "          [0.05882353, 0.14117647, 0.01176471],\n",
       "          [0.09019608, 0.16078431, 0.07058824],\n",
       "          ...,\n",
       "          [0.23921569, 0.32156863, 0.30588235],\n",
       "          [0.36078431, 0.44313725, 0.43921569],\n",
       "          [0.29411765, 0.34901961, 0.36078431]],\n",
       " \n",
       "         [[0.04705882, 0.09803922, 0.02352941],\n",
       "          [0.07843137, 0.14509804, 0.02745098],\n",
       "          [0.09411765, 0.14117647, 0.05882353],\n",
       "          ...,\n",
       "          [0.45098039, 0.5254902 , 0.54117647],\n",
       "          [0.58431373, 0.65882353, 0.69411765],\n",
       "          [0.40784314, 0.45882353, 0.51372549]],\n",
       " \n",
       "         [[0.04705882, 0.09803922, 0.04313725],\n",
       "          [0.05882353, 0.11372549, 0.02352941],\n",
       "          [0.13333333, 0.15686275, 0.09411765],\n",
       "          ...,\n",
       "          [0.60392157, 0.6745098 , 0.71372549],\n",
       "          [0.61568627, 0.68627451, 0.75294118],\n",
       "          [0.45490196, 0.50588235, 0.59215686]],\n",
       " \n",
       "         ...,\n",
       " \n",
       "         [[0.39215686, 0.50588235, 0.31764706],\n",
       "          [0.40392157, 0.51764706, 0.32941176],\n",
       "          [0.40784314, 0.5254902 , 0.3372549 ],\n",
       "          ...,\n",
       "          [0.38039216, 0.50196078, 0.32941176],\n",
       "          [0.38431373, 0.49411765, 0.32941176],\n",
       "          [0.35686275, 0.4745098 , 0.30980392]],\n",
       " \n",
       "         [[0.40392157, 0.51764706, 0.3254902 ],\n",
       "          [0.40784314, 0.51372549, 0.3254902 ],\n",
       "          [0.41960784, 0.52941176, 0.34117647],\n",
       "          ...,\n",
       "          [0.39607843, 0.51764706, 0.34117647],\n",
       "          [0.38823529, 0.49803922, 0.32941176],\n",
       "          [0.36078431, 0.4745098 , 0.30980392]],\n",
       " \n",
       "         [[0.37254902, 0.49411765, 0.30588235],\n",
       "          [0.37254902, 0.48235294, 0.29803922],\n",
       "          [0.39607843, 0.50196078, 0.31764706],\n",
       "          ...,\n",
       "          [0.36470588, 0.48627451, 0.31372549],\n",
       "          [0.37254902, 0.48235294, 0.31764706],\n",
       "          [0.36078431, 0.47058824, 0.31372549]]],\n",
       " \n",
       " \n",
       "        [[[0.28627451, 0.30588235, 0.29411765],\n",
       "          [0.38431373, 0.40392157, 0.44313725],\n",
       "          [0.38823529, 0.41568627, 0.44705882],\n",
       "          ...,\n",
       "          [0.52941176, 0.58823529, 0.59607843],\n",
       "          [0.52941176, 0.58431373, 0.60392157],\n",
       "          [0.79607843, 0.84313725, 0.8745098 ]],\n",
       " \n",
       "         [[0.27058824, 0.28627451, 0.2745098 ],\n",
       "          [0.32941176, 0.34901961, 0.38039216],\n",
       "          [0.26666667, 0.29411765, 0.31764706],\n",
       "          ...,\n",
       "          [0.33333333, 0.37254902, 0.34901961],\n",
       "          [0.27843137, 0.32156863, 0.31372549],\n",
       "          [0.47058824, 0.52156863, 0.52941176]],\n",
       " \n",
       "         [[0.27058824, 0.28627451, 0.2745098 ],\n",
       "          [0.35294118, 0.37254902, 0.39215686],\n",
       "          [0.24313725, 0.27843137, 0.29019608],\n",
       "          ...,\n",
       "          [0.29019608, 0.31764706, 0.2745098 ],\n",
       "          [0.20784314, 0.24313725, 0.21176471],\n",
       "          [0.24313725, 0.29019608, 0.27058824]],\n",
       " \n",
       "         ...,\n",
       " \n",
       "         [[0.48235294, 0.50196078, 0.37647059],\n",
       "          [0.51764706, 0.51764706, 0.4       ],\n",
       "          [0.50588235, 0.50196078, 0.39215686],\n",
       "          ...,\n",
       "          [0.42352941, 0.41960784, 0.34509804],\n",
       "          [0.24313725, 0.23529412, 0.21568627],\n",
       "          [0.10588235, 0.10588235, 0.10980392]],\n",
       " \n",
       "         [[0.45098039, 0.4745098 , 0.35686275],\n",
       "          [0.48235294, 0.48627451, 0.37254902],\n",
       "          [0.50588235, 0.49411765, 0.38823529],\n",
       "          ...,\n",
       "          [0.45098039, 0.45490196, 0.36862745],\n",
       "          [0.25882353, 0.25490196, 0.23137255],\n",
       "          [0.10588235, 0.10588235, 0.10588235]],\n",
       " \n",
       "         [[0.45490196, 0.47058824, 0.35294118],\n",
       "          [0.4745098 , 0.47843137, 0.36862745],\n",
       "          [0.50588235, 0.50196078, 0.39607843],\n",
       "          ...,\n",
       "          [0.45490196, 0.45098039, 0.36862745],\n",
       "          [0.26666667, 0.25490196, 0.22745098],\n",
       "          [0.10588235, 0.10196078, 0.10196078]]]]),\n",
       " (10000, 1))"
      ]
     },
     "execution_count": 20,
     "metadata": {},
     "output_type": "execute_result"
    }
   ],
   "source": [
    "# 스케일 조정\n",
    "X_train = X_train/255.0\n",
    "X_test = X_test/255.0\n",
    "X_train.shape,y_train.shape,X_test,y_test.shape"
   ]
  },
  {
   "cell_type": "code",
   "execution_count": 21,
   "id": "1594e69e",
   "metadata": {
    "ExecuteTime": {
     "end_time": "2024-12-23T06:11:29.687320Z",
     "start_time": "2024-12-23T06:11:29.537180Z"
    }
   },
   "outputs": [
    {
     "name": "stdout",
     "output_type": "stream",
     "text": [
      "Model: \"sequential_3\"\n",
      "_________________________________________________________________\n",
      " Layer (type)                Output Shape              Param #   \n",
      "=================================================================\n",
      " conv2d_9 (Conv2D)           (None, 8, 8, 96)          34944     \n",
      "                                                                 \n",
      " max_pooling2d_2 (MaxPooling  (None, 3, 3, 96)         0         \n",
      " 2D)                                                             \n",
      "                                                                 \n",
      " batch_normalization_2 (Batc  (None, 3, 3, 96)         384       \n",
      " hNormalization)                                                 \n",
      "                                                                 \n",
      " conv2d_10 (Conv2D)          (None, 3, 3, 384)         332160    \n",
      "                                                                 \n",
      " conv2d_11 (Conv2D)          (None, 3, 3, 256)         884992    \n",
      "                                                                 \n",
      " flatten_3 (Flatten)         (None, 2304)              0         \n",
      "                                                                 \n",
      " dense_9 (Dense)             (None, 1024)              2360320   \n",
      "                                                                 \n",
      " dropout_2 (Dropout)         (None, 1024)              0         \n",
      "                                                                 \n",
      " dense_10 (Dense)            (None, 512)               524800    \n",
      "                                                                 \n",
      " dropout_3 (Dropout)         (None, 512)               0         \n",
      "                                                                 \n",
      " dense_11 (Dense)            (None, 10)                5130      \n",
      "                                                                 \n",
      "=================================================================\n",
      "Total params: 4,142,730\n",
      "Trainable params: 4,142,538\n",
      "Non-trainable params: 192\n",
      "_________________________________________________________________\n"
     ]
    }
   ],
   "source": [
    "# 2. 모델\n",
    "# model = AlexNet.build(input_shape=(32,32,3),class_num=10) 학습시간 단축을 위해 아래 사용\n",
    "model = Sequential([\n",
    "        Input(shape=(32,32,3)),\n",
    "        Conv2D(96,  # 커널갯수\n",
    "               kernel_size=(11, 11),\n",
    "               strides=(4, 4),\n",
    "               activation='relu',\n",
    "               padding='same'),  # => 파라미터수 = 11*11*96*3(채널수)+96(출력수)=34944\n",
    "        MaxPooling2D(pool_size=(3, 3), strides=2),\n",
    "        BatchNormalization(),  # 배치졍규화\n",
    "        Conv2D(384, kernel_size=(3, 3), activation='relu', padding='same'), #=>96*3*3*384+384\n",
    "        Conv2D(256, kernel_size=(3, 3), activation='relu', padding='same'), #=>96*3*3*384+384\n",
    "        # AlexNet은 224*224 이미지에 맞춰서 3*3 pooling이 되나,\n",
    "        # cifar 32*32 이미지에서는 아래의 MaxPooling단계는 생략\n",
    "        # MaxPooling2D(pool_size=(3, 3), strides=2),\n",
    "        Flatten(),            \n",
    "        Dense(units=1024, activation='relu'),\n",
    "        Dropout(0.5),\n",
    "        Dense(units=512, activation='relu'),\n",
    "        Dropout(0.5),\n",
    "        Dense(units=10, activation='softmax')  # 출력층\n",
    "    ])\n",
    "model.summary()  "
   ]
  },
  {
   "cell_type": "code",
   "execution_count": 22,
   "id": "22293c3e",
   "metadata": {
    "ExecuteTime": {
     "end_time": "2024-12-23T06:16:54.438391Z",
     "start_time": "2024-12-23T06:11:29.691755Z"
    }
   },
   "outputs": [
    {
     "name": "stdout",
     "output_type": "stream",
     "text": [
      "Epoch 1/20\n",
      "1563/1563 [==============================] - 18s 11ms/step - loss: 1.6572 - accuracy: 0.4032 - val_loss: 1.5847 - val_accuracy: 0.4361\n",
      "Epoch 2/20\n",
      "1563/1563 [==============================] - 16s 10ms/step - loss: 1.3962 - accuracy: 0.5121 - val_loss: 1.5911 - val_accuracy: 0.4630\n",
      "Epoch 3/20\n",
      "1563/1563 [==============================] - 16s 10ms/step - loss: 1.2681 - accuracy: 0.5604 - val_loss: 1.4497 - val_accuracy: 0.5034\n",
      "Epoch 4/20\n",
      "1563/1563 [==============================] - 16s 10ms/step - loss: 1.1730 - accuracy: 0.5969 - val_loss: 1.2907 - val_accuracy: 0.5571\n",
      "Epoch 5/20\n",
      "1563/1563 [==============================] - 16s 10ms/step - loss: 1.0956 - accuracy: 0.6206 - val_loss: 1.5547 - val_accuracy: 0.5082\n",
      "Epoch 6/20\n",
      "1563/1563 [==============================] - 16s 10ms/step - loss: 1.0273 - accuracy: 0.6466 - val_loss: 1.3097 - val_accuracy: 0.5570\n",
      "Epoch 7/20\n",
      "1563/1563 [==============================] - 16s 10ms/step - loss: 0.9597 - accuracy: 0.6649 - val_loss: 1.2675 - val_accuracy: 0.5713\n",
      "Epoch 8/20\n",
      "1563/1563 [==============================] - 16s 10ms/step - loss: 0.9077 - accuracy: 0.6904 - val_loss: 1.1961 - val_accuracy: 0.5980\n",
      "Epoch 9/20\n",
      "1563/1563 [==============================] - 16s 10ms/step - loss: 0.8415 - accuracy: 0.7095 - val_loss: 1.2415 - val_accuracy: 0.5929\n",
      "Epoch 10/20\n",
      "1563/1563 [==============================] - 16s 10ms/step - loss: 0.7881 - accuracy: 0.7282 - val_loss: 1.2339 - val_accuracy: 0.6059\n",
      "Epoch 11/20\n",
      "1563/1563 [==============================] - 16s 10ms/step - loss: 0.7457 - accuracy: 0.7463 - val_loss: 1.2492 - val_accuracy: 0.5999\n",
      "Epoch 12/20\n",
      "1563/1563 [==============================] - 16s 10ms/step - loss: 0.6813 - accuracy: 0.7655 - val_loss: 1.2928 - val_accuracy: 0.5871\n",
      "Epoch 13/20\n",
      "1563/1563 [==============================] - 16s 10ms/step - loss: 0.6316 - accuracy: 0.7854 - val_loss: 1.3952 - val_accuracy: 0.5997\n",
      "Epoch 14/20\n",
      "1563/1563 [==============================] - 16s 10ms/step - loss: 0.5876 - accuracy: 0.8000 - val_loss: 1.4038 - val_accuracy: 0.5880\n",
      "Epoch 15/20\n",
      "1563/1563 [==============================] - 16s 10ms/step - loss: 0.5540 - accuracy: 0.8149 - val_loss: 1.3892 - val_accuracy: 0.5946\n",
      "Epoch 16/20\n",
      "1563/1563 [==============================] - 16s 10ms/step - loss: 0.5152 - accuracy: 0.8262 - val_loss: 1.4390 - val_accuracy: 0.6020\n",
      "Epoch 17/20\n",
      "1563/1563 [==============================] - 16s 10ms/step - loss: 0.4595 - accuracy: 0.8477 - val_loss: 1.5340 - val_accuracy: 0.6011\n",
      "Epoch 18/20\n",
      "1563/1563 [==============================] - 16s 10ms/step - loss: 0.4358 - accuracy: 0.8557 - val_loss: 1.5323 - val_accuracy: 0.6022\n",
      "Epoch 19/20\n",
      "1563/1563 [==============================] - 16s 10ms/step - loss: 0.4027 - accuracy: 0.8667 - val_loss: 1.6009 - val_accuracy: 0.6050\n",
      "Epoch 20/20\n",
      "1563/1563 [==============================] - 16s 10ms/step - loss: 0.3858 - accuracy: 0.8733 - val_loss: 1.6531 - val_accuracy: 0.5953\n"
     ]
    }
   ],
   "source": [
    "# 3. 학습설정\n",
    "model.compile(loss='sparse_categorical_crossentropy', # 원핫인코딩 안했을때 사용\n",
    "             optimizer='adam',\n",
    "             metrics=['accuracy'])\n",
    "hist = model.fit(X_train, y_train,\n",
    "                epochs=20,\n",
    "                validation_data=[X_test, y_test])"
   ]
  },
  {
   "cell_type": "code",
   "execution_count": 23,
   "id": "b981885a",
   "metadata": {
    "ExecuteTime": {
     "end_time": "2024-12-23T06:16:54.744480Z",
     "start_time": "2024-12-23T06:16:54.441519Z"
    }
   },
   "outputs": [
    {
     "data": {
      "image/png": "[encoded data removed]",
      "text/plain": [
       "<Figure size 1000x400 with 2 Axes>"
      ]
     },
     "metadata": {},
     "output_type": "display_data"
    }
   ],
   "source": [
    "# 학습과정 중의 loss와 accuracy\n",
    "import matplotlib.pyplot as plt\n",
    "fig, loss_ax = plt.subplots(figsize=(10,4))\n",
    "loss_ax.plot(hist.history['loss'],'y',label='train loss')\n",
    "loss_ax.plot(hist.history['val_loss'],'r--',label='validation loss')\n",
    "acc_ax = loss_ax.twinx() # loss_ax와 x축을 공유하는 acc_ax 생성\n",
    "acc_ax.plot(hist.history['accuracy'],'g',label='train accuracy')\n",
    "acc_ax.plot(hist.history['val_accuracy'],'b',label='val accuracy')\n",
    "loss_ax.set_xlabel('epoch')\n",
    "loss_ax.set_ylabel('loss')\n",
    "acc_ax.set_ylabel('accuracy')\n",
    "loss_ax.legend(loc='center')\n",
    "acc_ax.legend(loc='center right')\n",
    "plt.show()"
   ]
  },
  {
   "cell_type": "code",
   "execution_count": 27,
   "id": "0c478ffd",
   "metadata": {
    "ExecuteTime": {
     "end_time": "2024-12-23T06:31:56.404794Z",
     "start_time": "2024-12-23T06:31:54.952650Z"
    }
   },
   "outputs": [
    {
     "name": "stdout",
     "output_type": "stream",
     "text": [
      "313/313 [==============================] - 1s 3ms/step\n"
     ]
    },
    {
     "data": {
      "text/html": [
       "<div>\n",
       "<style scoped>\n",
       "    .dataframe tbody tr th:only-of-type {\n",
       "        vertical-align: middle;\n",
       "    }\n",
       "\n",
       "    .dataframe tbody tr th {\n",
       "        vertical-align: top;\n",
       "    }\n",
       "\n",
       "    .dataframe thead th {\n",
       "        text-align: right;\n",
       "    }\n",
       "</style>\n",
       "<table border=\"1\" class=\"dataframe\">\n",
       "  <thead>\n",
       "    <tr style=\"text-align: right;\">\n",
       "      <th>predict</th>\n",
       "      <th>airplane(0)</th>\n",
       "      <th>automobile(1)</th>\n",
       "      <th>bird(2)</th>\n",
       "      <th>cat(3)</th>\n",
       "      <th>deer(4)</th>\n",
       "      <th>dog(5)</th>\n",
       "      <th>frog(6)</th>\n",
       "      <th>horse(7)</th>\n",
       "      <th>ship(8)</th>\n",
       "      <th>truck(9)</th>\n",
       "    </tr>\n",
       "    <tr>\n",
       "      <th>real</th>\n",
       "      <th></th>\n",
       "      <th></th>\n",
       "      <th></th>\n",
       "      <th></th>\n",
       "      <th></th>\n",
       "      <th></th>\n",
       "      <th></th>\n",
       "      <th></th>\n",
       "      <th></th>\n",
       "      <th></th>\n",
       "    </tr>\n",
       "  </thead>\n",
       "  <tbody>\n",
       "    <tr>\n",
       "      <th>airplane(0)</th>\n",
       "      <td>710</td>\n",
       "      <td>22</td>\n",
       "      <td>31</td>\n",
       "      <td>27</td>\n",
       "      <td>44</td>\n",
       "      <td>13</td>\n",
       "      <td>7</td>\n",
       "      <td>14</td>\n",
       "      <td>85</td>\n",
       "      <td>47</td>\n",
       "    </tr>\n",
       "    <tr>\n",
       "      <th>automobile(1)</th>\n",
       "      <td>39</td>\n",
       "      <td>664</td>\n",
       "      <td>9</td>\n",
       "      <td>25</td>\n",
       "      <td>8</td>\n",
       "      <td>15</td>\n",
       "      <td>7</td>\n",
       "      <td>15</td>\n",
       "      <td>63</td>\n",
       "      <td>155</td>\n",
       "    </tr>\n",
       "    <tr>\n",
       "      <th>bird(2)</th>\n",
       "      <td>93</td>\n",
       "      <td>11</td>\n",
       "      <td>422</td>\n",
       "      <td>103</td>\n",
       "      <td>145</td>\n",
       "      <td>66</td>\n",
       "      <td>49</td>\n",
       "      <td>61</td>\n",
       "      <td>21</td>\n",
       "      <td>29</td>\n",
       "    </tr>\n",
       "    <tr>\n",
       "      <th>cat(3)</th>\n",
       "      <td>33</td>\n",
       "      <td>20</td>\n",
       "      <td>44</td>\n",
       "      <td>431</td>\n",
       "      <td>85</td>\n",
       "      <td>202</td>\n",
       "      <td>50</td>\n",
       "      <td>61</td>\n",
       "      <td>28</td>\n",
       "      <td>46</td>\n",
       "    </tr>\n",
       "    <tr>\n",
       "      <th>deer(4)</th>\n",
       "      <td>35</td>\n",
       "      <td>13</td>\n",
       "      <td>71</td>\n",
       "      <td>97</td>\n",
       "      <td>554</td>\n",
       "      <td>55</td>\n",
       "      <td>19</td>\n",
       "      <td>114</td>\n",
       "      <td>26</td>\n",
       "      <td>16</td>\n",
       "    </tr>\n",
       "    <tr>\n",
       "      <th>dog(5)</th>\n",
       "      <td>15</td>\n",
       "      <td>12</td>\n",
       "      <td>58</td>\n",
       "      <td>206</td>\n",
       "      <td>45</td>\n",
       "      <td>522</td>\n",
       "      <td>24</td>\n",
       "      <td>87</td>\n",
       "      <td>9</td>\n",
       "      <td>22</td>\n",
       "    </tr>\n",
       "    <tr>\n",
       "      <th>frog(6)</th>\n",
       "      <td>13</td>\n",
       "      <td>16</td>\n",
       "      <td>56</td>\n",
       "      <td>108</td>\n",
       "      <td>96</td>\n",
       "      <td>53</td>\n",
       "      <td>566</td>\n",
       "      <td>29</td>\n",
       "      <td>22</td>\n",
       "      <td>41</td>\n",
       "    </tr>\n",
       "    <tr>\n",
       "      <th>horse(7)</th>\n",
       "      <td>24</td>\n",
       "      <td>8</td>\n",
       "      <td>35</td>\n",
       "      <td>50</td>\n",
       "      <td>53</td>\n",
       "      <td>88</td>\n",
       "      <td>4</td>\n",
       "      <td>680</td>\n",
       "      <td>10</td>\n",
       "      <td>48</td>\n",
       "    </tr>\n",
       "    <tr>\n",
       "      <th>ship(8)</th>\n",
       "      <td>113</td>\n",
       "      <td>40</td>\n",
       "      <td>7</td>\n",
       "      <td>25</td>\n",
       "      <td>19</td>\n",
       "      <td>9</td>\n",
       "      <td>4</td>\n",
       "      <td>6</td>\n",
       "      <td>723</td>\n",
       "      <td>54</td>\n",
       "    </tr>\n",
       "    <tr>\n",
       "      <th>truck(9)</th>\n",
       "      <td>50</td>\n",
       "      <td>124</td>\n",
       "      <td>8</td>\n",
       "      <td>27</td>\n",
       "      <td>13</td>\n",
       "      <td>9</td>\n",
       "      <td>10</td>\n",
       "      <td>36</td>\n",
       "      <td>42</td>\n",
       "      <td>681</td>\n",
       "    </tr>\n",
       "  </tbody>\n",
       "</table>\n",
       "</div>"
      ],
      "text/plain": [
       "predict        airplane(0)  automobile(1)  bird(2)  cat(3)  deer(4)  dog(5)  \\\n",
       "real                                                                          \n",
       "airplane(0)            710             22       31      27       44      13   \n",
       "automobile(1)           39            664        9      25        8      15   \n",
       "bird(2)                 93             11      422     103      145      66   \n",
       "cat(3)                  33             20       44     431       85     202   \n",
       "deer(4)                 35             13       71      97      554      55   \n",
       "dog(5)                  15             12       58     206       45     522   \n",
       "frog(6)                 13             16       56     108       96      53   \n",
       "horse(7)                24              8       35      50       53      88   \n",
       "ship(8)                113             40        7      25       19       9   \n",
       "truck(9)                50            124        8      27       13       9   \n",
       "\n",
       "predict        frog(6)  horse(7)  ship(8)  truck(9)  \n",
       "real                                                 \n",
       "airplane(0)          7        14       85        47  \n",
       "automobile(1)        7        15       63       155  \n",
       "bird(2)             49        61       21        29  \n",
       "cat(3)              50        61       28        46  \n",
       "deer(4)             19       114       26        16  \n",
       "dog(5)              24        87        9        22  \n",
       "frog(6)            566        29       22        41  \n",
       "horse(7)             4       680       10        48  \n",
       "ship(8)              4         6      723        54  \n",
       "truck(9)            10        36       42       681  "
      ]
     },
     "execution_count": 27,
     "metadata": {},
     "output_type": "execute_result"
    }
   ],
   "source": [
    "# 5. 모델평가\n",
    "# airplane(0), automobile(1), bird(2), cat(3), deer(4), dog(5), frog(6), horse(7), ship(8), truck(9)\n",
    "#y_test.reshape(-1)# 실제값을 1차원으로 변경한값\n",
    "y_hat = np.argmax(model.predict(X_test),axis=1)\n",
    "ctab = pd.crosstab(y_test.reshape(-1),y_hat)\n",
    "ctab.columns=['airplane(0)', 'automobile(1)', 'bird(2)', 'cat(3)', 'deer(4)', 'dog(5)', 'frog(6)', 'horse(7)', 'ship(8)', 'truck(9)']\n",
    "ctab.columns.name='predict'\n",
    "ctab.index=['airplane(0)', 'automobile(1)', 'bird(2)', 'cat(3)', 'deer(4)', 'dog(5)', 'frog(6)', 'horse(7)', 'ship(8)', 'truck(9)']\n",
    "ctab.index.name='real'\n",
    "ctab"
   ]
  },
  {
   "cell_type": "code",
   "execution_count": 31,
   "id": "d5582ef3",
   "metadata": {
    "ExecuteTime": {
     "end_time": "2024-12-23T06:36:41.978176Z",
     "start_time": "2024-12-23T06:36:41.849443Z"
    }
   },
   "outputs": [
    {
     "data": {
      "text/plain": [
       "array([3], dtype=uint8)"
      ]
     },
     "execution_count": 31,
     "metadata": {},
     "output_type": "execute_result"
    },
    {
     "data": {
      "image/png": "[encoded data removed]",
      "text/plain": [
       "<Figure size 70x70 with 1 Axes>"
      ]
     },
     "metadata": {},
     "output_type": "display_data"
    }
   ],
   "source": [
    "plt.figure(figsize=(0.7,0.7))\n",
    "plt.imshow(X_test[0])\n",
    "y_test[0]"
   ]
  },
  {
   "cell_type": "code",
   "execution_count": 35,
   "id": "7a02cd95",
   "metadata": {
    "ExecuteTime": {
     "end_time": "2024-12-23T06:51:37.411112Z",
     "start_time": "2024-12-23T06:51:37.335849Z"
    }
   },
   "outputs": [
    {
     "name": "stdout",
     "output_type": "stream",
     "text": [
      "1/1 [==============================] - 0s 22ms/step\n"
     ]
    },
    {
     "data": {
      "text/plain": [
       "(array([8], dtype=int64), array([8], dtype=uint8))"
      ]
     },
     "execution_count": 35,
     "metadata": {},
     "output_type": "execute_result"
    }
   ],
   "source": [
    "pred = model.predict(X_test[1].reshape(-1,32,32,3)).argmax(axis=1)\n",
    "pred,y_test[1]\n"
   ]
  },
  {
   "cell_type": "markdown",
   "id": "43282f51",
   "metadata": {},
   "source": [
    "# 3. VGG\n",
    "- 옥스포드 대 VGG팀에서 구현한 CNN( 컨볼루션과 맥스폴링 19개층)\n",
    "- VGG-19 구현"
   ]
  },
  {
   "cell_type": "code",
   "execution_count": 1,
   "id": "ce7d8830",
   "metadata": {
    "ExecuteTime": {
     "end_time": "2024-12-23T08:47:34.715171Z",
     "start_time": "2024-12-23T08:47:31.804544Z"
    }
   },
   "outputs": [],
   "source": [
    "from tensorflow.keras.models import Sequential\n",
    "from tensorflow.keras.layers import Input, Conv2D, MaxPooling2D, Flatten, Dense\n",
    "from tensorflow.keras.applications.vgg19 import VGG19"
   ]
  },
  {
   "cell_type": "code",
   "execution_count": 2,
   "id": "ca1c746f",
   "metadata": {
    "ExecuteTime": {
     "end_time": "2024-12-23T08:47:36.439787Z",
     "start_time": "2024-12-23T08:47:36.429648Z"
    }
   },
   "outputs": [],
   "source": [
    "class Vgg19:\n",
    "    @staticmethod\n",
    "    def build(input_shape = (224, 224, 3), activation = 'relu', class_num = 1000):\n",
    "        model = Sequential([\n",
    "            Input(shape = input_shape),\n",
    "            Conv2D(64, (3, 3), activation = activation, padding = 'same'),\n",
    "            Conv2D(64, (3, 3), activation = activation, padding = 'same'),\n",
    "            MaxPooling2D(),\n",
    "            Conv2D(128, (3, 3), activation = activation, padding = 'same'),\n",
    "            Conv2D(128, (3, 3), activation = activation, padding = 'same'),\n",
    "            MaxPooling2D(),\n",
    "            Conv2D(256, (3,3), activation = activation, padding = 'same'),\n",
    "            Conv2D(256, (3,3), activation = activation, padding = 'same'),\n",
    "            Conv2D(256, (3,3), activation = activation, padding = 'same'),\n",
    "            Conv2D(256, (3,3), activation = activation, padding = 'same'),\n",
    "            MaxPooling2D(),\n",
    "            Conv2D(512, (3,3), activation = activation, padding = 'same'),\n",
    "            Conv2D(512, (3,3), activation = activation, padding = 'same'),\n",
    "            Conv2D(512, (3,3), activation = activation, padding = 'same'),\n",
    "            Conv2D(512, (3,3), activation = activation, padding = 'same'),\n",
    "            MaxPooling2D(),\n",
    "            Conv2D(512, (3,3), activation = activation, padding = 'same'),\n",
    "            Conv2D(512, (3,3), activation = activation, padding = 'same'),\n",
    "            Conv2D(512, (3,3), activation = activation, padding = 'same'),\n",
    "            Conv2D(512, (3,3), activation = activation, padding = 'same'),\n",
    "            MaxPooling2D(),\n",
    "            Flatten(),\n",
    "            Dense(4096, activation = 'relu'),\n",
    "            Dense(4096, activation = 'relu'),\n",
    "            Dense(1000, activation = 'softmax')\n",
    "        ])\n",
    "        return model"
   ]
  },
  {
   "cell_type": "code",
   "execution_count": 3,
   "id": "b173b9d0",
   "metadata": {
    "ExecuteTime": {
     "end_time": "2024-12-23T08:47:40.675274Z",
     "start_time": "2024-12-23T08:47:39.293441Z"
    }
   },
   "outputs": [
    {
     "name": "stdout",
     "output_type": "stream",
     "text": [
      "Model: \"sequential\"\n",
      "_________________________________________________________________\n",
      " Layer (type)                Output Shape              Param #   \n",
      "=================================================================\n",
      " conv2d (Conv2D)             (None, 224, 224, 64)      1792      \n",
      "                                                                 \n",
      " conv2d_1 (Conv2D)           (None, 224, 224, 64)      36928     \n",
      "                                                                 \n",
      " max_pooling2d (MaxPooling2D  (None, 112, 112, 64)     0         \n",
      " )                                                               \n",
      "                                                                 \n",
      " conv2d_2 (Conv2D)           (None, 112, 112, 128)     73856     \n",
      "                                                                 \n",
      " conv2d_3 (Conv2D)           (None, 112, 112, 128)     147584    \n",
      "                                                                 \n",
      " max_pooling2d_1 (MaxPooling  (None, 56, 56, 128)      0         \n",
      " 2D)                                                             \n",
      "                                                                 \n",
      " conv2d_4 (Conv2D)           (None, 56, 56, 256)       295168    \n",
      "                                                                 \n",
      " conv2d_5 (Conv2D)           (None, 56, 56, 256)       590080    \n",
      "                                                                 \n",
      " conv2d_6 (Conv2D)           (None, 56, 56, 256)       590080    \n",
      "                                                                 \n",
      " conv2d_7 (Conv2D)           (None, 56, 56, 256)       590080    \n",
      "                                                                 \n",
      " max_pooling2d_2 (MaxPooling  (None, 28, 28, 256)      0         \n",
      " 2D)                                                             \n",
      "                                                                 \n",
      " conv2d_8 (Conv2D)           (None, 28, 28, 512)       1180160   \n",
      "                                                                 \n",
      " conv2d_9 (Conv2D)           (None, 28, 28, 512)       2359808   \n",
      "                                                                 \n",
      " conv2d_10 (Conv2D)          (None, 28, 28, 512)       2359808   \n",
      "                                                                 \n",
      " conv2d_11 (Conv2D)          (None, 28, 28, 512)       2359808   \n",
      "                                                                 \n",
      " max_pooling2d_3 (MaxPooling  (None, 14, 14, 512)      0         \n",
      " 2D)                                                             \n",
      "                                                                 \n",
      " conv2d_12 (Conv2D)          (None, 14, 14, 512)       2359808   \n",
      "                                                                 \n",
      " conv2d_13 (Conv2D)          (None, 14, 14, 512)       2359808   \n",
      "                                                                 \n",
      " conv2d_14 (Conv2D)          (None, 14, 14, 512)       2359808   \n",
      "                                                                 \n",
      " conv2d_15 (Conv2D)          (None, 14, 14, 512)       2359808   \n",
      "                                                                 \n",
      " max_pooling2d_4 (MaxPooling  (None, 7, 7, 512)        0         \n",
      " 2D)                                                             \n",
      "                                                                 \n",
      " flatten (Flatten)           (None, 25088)             0         \n",
      "                                                                 \n",
      " dense (Dense)               (None, 4096)              102764544 \n",
      "                                                                 \n",
      " dense_1 (Dense)             (None, 4096)              16781312  \n",
      "                                                                 \n",
      " dense_2 (Dense)             (None, 1000)              4097000   \n",
      "                                                                 \n",
      "=================================================================\n",
      "Total params: 143,667,240\n",
      "Trainable params: 143,667,240\n",
      "Non-trainable params: 0\n",
      "_________________________________________________________________\n"
     ]
    }
   ],
   "source": [
    "model= Vgg19.build()\n",
    "model.summary()"
   ]
  },
  {
   "cell_type": "code",
   "execution_count": 4,
   "id": "740e752e",
   "metadata": {
    "ExecuteTime": {
     "end_time": "2024-12-23T08:47:46.505239Z",
     "start_time": "2024-12-23T08:47:43.781481Z"
    }
   },
   "outputs": [],
   "source": [
    "vggModel = VGG19() # 학습을 하지 않고 imageNet으로 학습이 끝난 model*weights 내려받아 가중치만 사용\n",
    "weights = vggModel.get_weights()\n",
    "model.set_weights(weights=weights) # 학습이 끝난 가중치를 model에 이식\n",
    "# 추가적인 재학습도 가능함"
   ]
  },
  {
   "cell_type": "code",
   "execution_count": 5,
   "id": "cc19206e",
   "metadata": {
    "ExecuteTime": {
     "end_time": "2024-12-23T08:45:05.280341Z",
     "start_time": "2024-12-23T08:45:05.244710Z"
    }
   },
   "outputs": [],
   "source": [
    "import cv2"
   ]
  },
  {
   "cell_type": "code",
   "execution_count": null,
   "id": "0361b771",
   "metadata": {
    "ExecuteTime": {
     "start_time": "2024-12-23T08:46:21.642Z"
    }
   },
   "outputs": [],
   "source": [
    "# 방법1\n",
    "img_cv2= cv2.imread('data/sample.jpg',\n",
    "                    cv2.IMREAD_COLOR,#BGR포맷, 알파채널 무시\n",
    "                    #cv2.IMREAD_UNCHANGED, # 투명도까지 그대로 읽음\n",
    "                    #cv2.IMREAD_GRAYSCALE, # 흑백으로 읽음\n",
    "                   )\n",
    "img_cv2 = cv2.resize(img_cv2,dsize=(224,224),\n",
    "                    interpolation=cv2.INTER_NEAREST) # 보간법을 이용하여 사이즈 보정\n",
    "cv2.imshow('sample',img_cv2)\n",
    "cv2.waitKey(0) # 키보드입력을 기다림. 이미지가 화면에 표시된 상태를 유지\n",
    "cv2.destroyAllWindows()# openCV를 통해 생성된 모든 창을 닫음\n",
    "img_cv2.shape"
   ]
  },
  {
   "cell_type": "code",
   "execution_count": null,
   "id": "ff05d7bc",
   "metadata": {
    "ExecuteTime": {
     "start_time": "2024-12-23T08:45:08.522Z"
    }
   },
   "outputs": [],
   "source": [
    "plt.figure(figsize=(2,2))\n",
    "# BGR 포맷인 img_cv2를 RGB포맷으로\n",
    "img_cv2_rgb = cv2.cvtColor(img_cv2, cv2.COLOR_BGR2RGB)\n",
    "plt.imshow(img_cv2_rgb)\n",
    "plt.show()\n",
    "type(img_cv2_rgb)"
   ]
  },
  {
   "cell_type": "code",
   "execution_count": 6,
   "id": "5b9835af",
   "metadata": {
    "ExecuteTime": {
     "end_time": "2024-12-23T08:48:00.669423Z",
     "start_time": "2024-12-23T08:48:00.645460Z"
    }
   },
   "outputs": [
    {
     "name": "stdout",
     "output_type": "stream",
     "text": [
      "<class 'PIL.Image.Image'>\n",
      "읽어온 img_data의 type: <class 'numpy.ndarray'> ,img_data의 shape: (224, 224, 3)\n"
     ]
    }
   ],
   "source": [
    "# 방법 2\n",
    "from tensorflow.keras.preprocessing import image\n",
    "img = image.load_img('data/sample.jpg',target_size=(224,224))\n",
    "print(type(img))\n",
    "img_data= image.img_to_array(img)\n",
    "print('읽어온 img_data의 type:', type(img_data),',img_data의 shape:', img_data.shape)\n"
   ]
  },
  {
   "cell_type": "code",
   "execution_count": 29,
   "id": "c1649aac",
   "metadata": {
    "ExecuteTime": {
     "end_time": "2024-12-23T08:19:10.376539Z",
     "start_time": "2024-12-23T08:19:10.261092Z"
    }
   },
   "outputs": [
    {
     "data": {
      "image/png": "[encoded data removed]",
      "text/plain": [
       "<Figure size 150x150 with 1 Axes>"
      ]
     },
     "metadata": {},
     "output_type": "display_data"
    }
   ],
   "source": [
    "plt.figure(figsize=(1.5,1.5))\n",
    "plt.imshow(img)\n",
    "plt.show()"
   ]
  },
  {
   "cell_type": "code",
   "execution_count": 35,
   "id": "aac987dd",
   "metadata": {
    "ExecuteTime": {
     "end_time": "2024-12-23T08:27:49.138915Z",
     "start_time": "2024-12-23T08:27:48.990542Z"
    }
   },
   "outputs": [
    {
     "data": {
      "text/plain": [
       "(numpy.ndarray, (224, 224, 3))"
      ]
     },
     "execution_count": 35,
     "metadata": {},
     "output_type": "execute_result"
    },
    {
     "data": {
      "image/png": "[encoded data removed]",
      "text/plain": [
       "<Figure size 150x150 with 1 Axes>"
      ]
     },
     "metadata": {},
     "output_type": "display_data"
    }
   ],
   "source": [
    "# 방법3\n",
    "img_data1=plt.imread('data/sample.jpg')\n",
    "img_data1=cv2.resize(img_data1,dsize=(224,224),\n",
    "                    interpolation=cv2.INTER_NEAREST)\n",
    "plt.figure(figsize=(1.5,1.5))\n",
    "plt.imshow(img_data1)\n",
    "type(img_data1),img_data1.shape\n"
   ]
  },
  {
   "cell_type": "code",
   "execution_count": 8,
   "id": "2e9049aa",
   "metadata": {
    "ExecuteTime": {
     "end_time": "2024-12-23T08:48:09.307464Z",
     "start_time": "2024-12-23T08:48:09.301483Z"
    }
   },
   "outputs": [
    {
     "name": "stdout",
     "output_type": "stream",
     "text": [
      "a 배열의 축추가(3행1열) :\n",
      " [[1]\n",
      " [2]\n",
      " [3]]\n",
      "a 배열의 축추가(1행3열) : [[1 2 3]]\n",
      "a 배열의 축추가(1행3열) : [[1 2 3]]\n"
     ]
    }
   ],
   "source": [
    "# 차원변경( 224,224,3)=> (1,224,224,3)\n",
    "import numpy as np\n",
    "a = np.array([1,2,3])\n",
    "# a의 shape(3,) => (1,3) ; newaxis를 이용한 축추가, reshape을 이용한 shape\n",
    "print('a 배열의 축추가(3행1열) :\\n',a[:,np.newaxis])\n",
    "print('a 배열의 축추가(1행3열) :',a[np.newaxis,:])\n",
    "print('a 배열의 축추가(1행3열) :',a[np.newaxis, ...])\n"
   ]
  },
  {
   "cell_type": "code",
   "execution_count": 9,
   "id": "0cbb98c8",
   "metadata": {
    "ExecuteTime": {
     "end_time": "2024-12-23T08:48:13.232874Z",
     "start_time": "2024-12-23T08:48:10.964377Z"
    }
   },
   "outputs": [
    {
     "name": "stdout",
     "output_type": "stream",
     "text": [
      "1/1 [==============================] - 2s 2s/step\n"
     ]
    },
    {
     "data": {
      "text/plain": [
       "208"
      ]
     },
     "execution_count": 9,
     "metadata": {},
     "output_type": "execute_result"
    }
   ],
   "source": [
    "#예측하기 \n",
    "pred= model.predict(img_data[np.newaxis, ...])\n",
    "pred.argmax()"
   ]
  },
  {
   "cell_type": "code",
   "execution_count": 21,
   "id": "4c47b7ff",
   "metadata": {
    "ExecuteTime": {
     "end_time": "2024-12-23T08:55:20.186977Z",
     "start_time": "2024-12-23T08:55:20.179996Z"
    }
   },
   "outputs": [
    {
     "name": "stdout",
     "output_type": "stream",
     "text": [
      "Labrador_retriever일 확률: 86.15%\n",
      "kuvasz일 확률: 8.55%\n",
      "Weimaraner일 확률: 1.46%\n",
      "bloodhound일 확률: 0.8%\n",
      "Great_Pyrenees일 확률: 0.49%\n"
     ]
    }
   ],
   "source": [
    "from tensorflow.keras.applications.vgg19 import decode_predictions\n",
    "result = decode_predictions(pred,top=5)[0]\n",
    "for row in result:\n",
    "    print(\"{}일 확률: {}%\".format(row[1], round(row[2]*100,2)))"
   ]
  },
  {
   "cell_type": "markdown",
   "id": "eb4c306f",
   "metadata": {},
   "source": [
    "# 4. 인셉션 모듈\n",
    "- 교안 55pt\n",
    "    - 1x1 컨볼루션을 하는 이유: 채널 수를 줄여 연산속도를 높이려고"
   ]
  },
  {
   "cell_type": "code",
   "execution_count": 4,
   "id": "16ef7863",
   "metadata": {
    "ExecuteTime": {
     "end_time": "2024-12-24T01:14:51.501249Z",
     "start_time": "2024-12-24T01:14:51.496306Z"
    }
   },
   "outputs": [],
   "source": [
    "from tensorflow.keras import Model\n",
    "from tensorflow.keras.layers import Input,Dense,Conv2D\n",
    "from tensorflow.keras.layers import concatenate,MaxPooling2D\n"
   ]
  },
  {
   "cell_type": "code",
   "execution_count": 5,
   "id": "cf1a29a7",
   "metadata": {
    "ExecuteTime": {
     "end_time": "2024-12-24T01:19:04.736390Z",
     "start_time": "2024-12-24T01:19:01.713548Z"
    }
   },
   "outputs": [
    {
     "name": "stdout",
     "output_type": "stream",
     "text": [
      "Model: \"model\"\n",
      "__________________________________________________________________________________________________\n",
      " Layer (type)                   Output Shape         Param #     Connected to                     \n",
      "==================================================================================================\n",
      " input_1 (InputLayer)           [(None, 28, 28, 3)]  0           []                               \n",
      "                                                                                                  \n",
      " dense (Dense)                  (None, 28, 28, 192)  768         ['input_1[0][0]']                \n",
      "                                                                                                  \n",
      " conv2d (Conv2D)                (None, 28, 28, 64)   12352       ['dense[0][0]']                  \n",
      "                                                                                                  \n",
      " conv2d_1 (Conv2D)              (None, 28, 28, 128)  221312      ['dense[0][0]']                  \n",
      "                                                                                                  \n",
      " conv2d_2 (Conv2D)              (None, 28, 28, 32)   153632      ['dense[0][0]']                  \n",
      "                                                                                                  \n",
      " max_pooling2d (MaxPooling2D)   (None, 28, 28, 192)  0           ['dense[0][0]']                  \n",
      "                                                                                                  \n",
      " concatenate (Concatenate)      (None, 28, 28, 416)  0           ['conv2d[0][0]',                 \n",
      "                                                                  'conv2d_1[0][0]',               \n",
      "                                                                  'conv2d_2[0][0]',               \n",
      "                                                                  'max_pooling2d[0][0]']          \n",
      "                                                                                                  \n",
      "==================================================================================================\n",
      "Total params: 388,064\n",
      "Trainable params: 388,064\n",
      "Non-trainable params: 0\n",
      "__________________________________________________________________________________________________\n"
     ]
    }
   ],
   "source": [
    "model_input = Input(shape=(28,28,3))\n",
    "pre = Dense(192)(model_input)\n",
    "conv1= Conv2D(64,1, padding = 'same')(pre)\n",
    "conv2= Conv2D(128,3, padding = 'same')(pre)\n",
    "conv3= Conv2D(32,5,padding='same')(pre)\n",
    "pool = MaxPooling2D(pool_size=(3,3),strides=1,padding='same')(pre)\n",
    "model_out = concatenate([conv1,conv2,conv3,pool])\n",
    "model = Model(inputs=model_input,outputs=model_out)\n",
    "model.summary()"
   ]
  },
  {
   "cell_type": "markdown",
   "id": "9922d6fe",
   "metadata": {},
   "source": [
    "# 4. GoogLeNet\n",
    "- GoogLeNet 중 Inception 모듈, Bottle Neck 구조\n",
    "- GoogLeNet에서 소개된 핵심 요소로, 이미지 분류와 같은 작업에서 효율적이고 강력한 성능을 제공\n",
    "\n",
    "```\n",
    "![image](image/인셉션모듈.png)\n",
    "```\n",
    "<img src=\"image/인셉션모듈.png\" alt=\"image\" width=\"600\">"
   ]
  },
  {
   "cell_type": "code",
   "execution_count": 10,
   "id": "756a8ed5",
   "metadata": {
    "ExecuteTime": {
     "end_time": "2024-12-24T02:06:46.725843Z",
     "start_time": "2024-12-24T02:06:46.584221Z"
    }
   },
   "outputs": [
    {
     "name": "stdout",
     "output_type": "stream",
     "text": [
      "Model: \"model_4\"\n",
      "__________________________________________________________________________________________________\n",
      " Layer (type)                   Output Shape         Param #     Connected to                     \n",
      "==================================================================================================\n",
      " input_6 (InputLayer)           [(None, 28, 28, 1)]  0           []                               \n",
      "                                                                                                  \n",
      " dense_5 (Dense)                (None, 28, 28, 192)  384         ['input_6[0][0]']                \n",
      "                                                                                                  \n",
      " conv2d_28 (Conv2D)             (None, 28, 28, 96)   18528       ['dense_5[0][0]']                \n",
      "                                                                                                  \n",
      " conv2d_30 (Conv2D)             (None, 28, 28, 16)   3088        ['dense_5[0][0]']                \n",
      "                                                                                                  \n",
      " max_pooling2d_5 (MaxPooling2D)  (None, 28, 28, 192)  0          ['dense_5[0][0]']                \n",
      "                                                                                                  \n",
      " conv2d_27 (Conv2D)             (None, 28, 28, 64)   12352       ['dense_5[0][0]']                \n",
      "                                                                                                  \n",
      " conv2d_29 (Conv2D)             (None, 28, 28, 128)  110720      ['conv2d_28[0][0]']              \n",
      "                                                                                                  \n",
      " conv2d_31 (Conv2D)             (None, 28, 28, 32)   12832       ['conv2d_30[0][0]']              \n",
      "                                                                                                  \n",
      " conv2d_32 (Conv2D)             (None, 28, 28, 32)   6176        ['max_pooling2d_5[0][0]']        \n",
      "                                                                                                  \n",
      " concatenate_4 (Concatenate)    (None, 28, 28, 256)  0           ['conv2d_27[0][0]',              \n",
      "                                                                  'conv2d_29[0][0]',              \n",
      "                                                                  'conv2d_31[0][0]',              \n",
      "                                                                  'conv2d_32[0][0]']              \n",
      "                                                                                                  \n",
      "==================================================================================================\n",
      "Total params: 164,080\n",
      "Trainable params: 164,080\n",
      "Non-trainable params: 0\n",
      "__________________________________________________________________________________________________\n"
     ]
    }
   ],
   "source": [
    "from tensorflow.keras import Model\n",
    "from tensorflow.keras.layers import Input, Dense, Conv2D, MaxPooling2D, concatenate\n",
    "model_input = Input(shape=(28,28,1))\n",
    "pre = Dense(192)(model_input)\n",
    "conv1 = Conv2D(64,\n",
    "              1,\n",
    "              padding='same')(pre)\n",
    "conv2_1 = Conv2D(96,\n",
    "                1,\n",
    "                padding='same')(pre)\n",
    "conv2 = Conv2D(128,\n",
    "              3,\n",
    "              padding='same')(conv2_1)\n",
    "conv3_1 = Conv2D(16,\n",
    "                1,\n",
    "                padding='same')(pre)\n",
    "conv3 = Conv2D(32,\n",
    "              5,\n",
    "              padding='same')(conv3_1)\n",
    "pool = MaxPooling2D(pool_size=(3,3),\n",
    "                   strides=1,\n",
    "                   padding='same')(pre)\n",
    "conv4 = Conv2D(32,\n",
    "              1,\n",
    "              padding='same')(pool)\n",
    "model_out = concatenate([conv1, conv2, conv3, conv4])\n",
    "model = Model(inputs=model_input, outputs=model_out)\n",
    "model.summary()"
   ]
  },
  {
   "cell_type": "markdown",
   "id": "1757a70c",
   "metadata": {},
   "source": [
    "# 5. Residual block\n",
    "```\n",
    "![Residual block](image/residual_block.png)\n",
    "```\n",
    "<img src=\"image/residual_block.png\" alt=\"image\" width=\"200\" style=\"float:left;\">"
   ]
  },
  {
   "cell_type": "code",
   "execution_count": 3,
   "id": "1cde472d",
   "metadata": {
    "ExecuteTime": {
     "end_time": "2024-12-24T02:41:36.384333Z",
     "start_time": "2024-12-24T02:41:36.272644Z"
    }
   },
   "outputs": [
    {
     "name": "stdout",
     "output_type": "stream",
     "text": [
      "Model: \"model\"\n",
      "__________________________________________________________________________________________________\n",
      " Layer (type)                   Output Shape         Param #     Connected to                     \n",
      "==================================================================================================\n",
      " input_2 (InputLayer)           [(None, 28, 28, 3)]  0           []                               \n",
      "                                                                                                  \n",
      " conv2d_3 (Conv2D)              (None, 28, 28, 64)   1792        ['input_2[0][0]']                \n",
      "                                                                                                  \n",
      " conv2d_4 (Conv2D)              (None, 28, 28, 32)   18464       ['conv2d_3[0][0]']               \n",
      "                                                                                                  \n",
      " conv2d_5 (Conv2D)              (None, 28, 28, 64)   18496       ['conv2d_4[0][0]']               \n",
      "                                                                                                  \n",
      " add_1 (Add)                    (None, 28, 28, 64)   0           ['conv2d_5[0][0]',               \n",
      "                                                                  'conv2d_3[0][0]']               \n",
      "                                                                                                  \n",
      " activation (Activation)        (None, 28, 28, 64)   0           ['add_1[0][0]']                  \n",
      "                                                                                                  \n",
      " conv2d_6 (Conv2D)              (None, 26, 26, 64)   36928       ['activation[0][0]']             \n",
      "                                                                                                  \n",
      "==================================================================================================\n",
      "Total params: 75,680\n",
      "Trainable params: 75,680\n",
      "Non-trainable params: 0\n",
      "__________________________________________________________________________________________________\n"
     ]
    }
   ],
   "source": [
    "from tensorflow.keras import Model\n",
    "from tensorflow.keras.layers import Input,Conv2D,Activation,add\n",
    "model_input = Input(shape=(28,28,3))\n",
    "# residual black\n",
    "x = Conv2D(64,3,padding='same',activation='relu')(model_input)\n",
    "conv = Conv2D(32,3,padding='same',activation='relu')(x)\n",
    "conv = Conv2D(64,3,padding='same',activation='relu')(conv)\n",
    "\n",
    "y = add([conv,x])\n",
    "y = Activation('relu')(y)\n",
    "\n",
    "model_output = Conv2D(64,3, activation='relu')(y)\n",
    "model = Model(inputs = model_input, outputs=model_output)\n",
    "model.summary()"
   ]
  },
  {
   "cell_type": "markdown",
   "id": "0807b2eb",
   "metadata": {},
   "source": [
    "# 6. 케라스 모델 가져오기\n"
   ]
  },
  {
   "cell_type": "code",
   "execution_count": 7,
   "id": "37d55bc7",
   "metadata": {
    "ExecuteTime": {
     "end_time": "2024-12-24T02:55:43.940790Z",
     "start_time": "2024-12-24T02:55:41.670084Z"
    }
   },
   "outputs": [
    {
     "name": "stdout",
     "output_type": "stream",
     "text": [
      "Model: \"resnet50\"\n",
      "__________________________________________________________________________________________________\n",
      " Layer (type)                   Output Shape         Param #     Connected to                     \n",
      "==================================================================================================\n",
      " input_5 (InputLayer)           [(None, 224, 224, 3  0           []                               \n",
      "                                )]                                                                \n",
      "                                                                                                  \n",
      " conv1_pad (ZeroPadding2D)      (None, 230, 230, 3)  0           ['input_5[0][0]']                \n",
      "                                                                                                  \n",
      " conv1_conv (Conv2D)            (None, 112, 112, 64  9472        ['conv1_pad[0][0]']              \n",
      "                                )                                                                 \n",
      "                                                                                                  \n",
      " conv1_bn (BatchNormalization)  (None, 112, 112, 64  256         ['conv1_conv[0][0]']             \n",
      "                                )                                                                 \n",
      "                                                                                                  \n",
      " conv1_relu (Activation)        (None, 112, 112, 64  0           ['conv1_bn[0][0]']               \n",
      "                                )                                                                 \n",
      "                                                                                                  \n",
      " pool1_pad (ZeroPadding2D)      (None, 114, 114, 64  0           ['conv1_relu[0][0]']             \n",
      "                                )                                                                 \n",
      "                                                                                                  \n",
      " pool1_pool (MaxPooling2D)      (None, 56, 56, 64)   0           ['pool1_pad[0][0]']              \n",
      "                                                                                                  \n",
      " conv2_block1_1_conv (Conv2D)   (None, 56, 56, 64)   4160        ['pool1_pool[0][0]']             \n",
      "                                                                                                  \n",
      " conv2_block1_1_bn (BatchNormal  (None, 56, 56, 64)  256         ['conv2_block1_1_conv[0][0]']    \n",
      " ization)                                                                                         \n",
      "                                                                                                  \n",
      " conv2_block1_1_relu (Activatio  (None, 56, 56, 64)  0           ['conv2_block1_1_bn[0][0]']      \n",
      " n)                                                                                               \n",
      "                                                                                                  \n",
      " conv2_block1_2_conv (Conv2D)   (None, 56, 56, 64)   36928       ['conv2_block1_1_relu[0][0]']    \n",
      "                                                                                                  \n",
      " conv2_block1_2_bn (BatchNormal  (None, 56, 56, 64)  256         ['conv2_block1_2_conv[0][0]']    \n",
      " ization)                                                                                         \n",
      "                                                                                                  \n",
      " conv2_block1_2_relu (Activatio  (None, 56, 56, 64)  0           ['conv2_block1_2_bn[0][0]']      \n",
      " n)                                                                                               \n",
      "                                                                                                  \n",
      " conv2_block1_0_conv (Conv2D)   (None, 56, 56, 256)  16640       ['pool1_pool[0][0]']             \n",
      "                                                                                                  \n",
      " conv2_block1_3_conv (Conv2D)   (None, 56, 56, 256)  16640       ['conv2_block1_2_relu[0][0]']    \n",
      "                                                                                                  \n",
      " conv2_block1_0_bn (BatchNormal  (None, 56, 56, 256)  1024       ['conv2_block1_0_conv[0][0]']    \n",
      " ization)                                                                                         \n",
      "                                                                                                  \n",
      " conv2_block1_3_bn (BatchNormal  (None, 56, 56, 256)  1024       ['conv2_block1_3_conv[0][0]']    \n",
      " ization)                                                                                         \n",
      "                                                                                                  \n",
      " conv2_block1_add (Add)         (None, 56, 56, 256)  0           ['conv2_block1_0_bn[0][0]',      \n",
      "                                                                  'conv2_block1_3_bn[0][0]']      \n",
      "                                                                                                  \n",
      " conv2_block1_out (Activation)  (None, 56, 56, 256)  0           ['conv2_block1_add[0][0]']       \n",
      "                                                                                                  \n",
      " conv2_block2_1_conv (Conv2D)   (None, 56, 56, 64)   16448       ['conv2_block1_out[0][0]']       \n",
      "                                                                                                  \n",
      " conv2_block2_1_bn (BatchNormal  (None, 56, 56, 64)  256         ['conv2_block2_1_conv[0][0]']    \n",
      " ization)                                                                                         \n",
      "                                                                                                  \n",
      " conv2_block2_1_relu (Activatio  (None, 56, 56, 64)  0           ['conv2_block2_1_bn[0][0]']      \n",
      " n)                                                                                               \n",
      "                                                                                                  \n",
      " conv2_block2_2_conv (Conv2D)   (None, 56, 56, 64)   36928       ['conv2_block2_1_relu[0][0]']    \n",
      "                                                                                                  \n",
      " conv2_block2_2_bn (BatchNormal  (None, 56, 56, 64)  256         ['conv2_block2_2_conv[0][0]']    \n",
      " ization)                                                                                         \n",
      "                                                                                                  \n",
      " conv2_block2_2_relu (Activatio  (None, 56, 56, 64)  0           ['conv2_block2_2_bn[0][0]']      \n",
      " n)                                                                                               \n",
      "                                                                                                  \n",
      " conv2_block2_3_conv (Conv2D)   (None, 56, 56, 256)  16640       ['conv2_block2_2_relu[0][0]']    \n",
      "                                                                                                  \n",
      " conv2_block2_3_bn (BatchNormal  (None, 56, 56, 256)  1024       ['conv2_block2_3_conv[0][0]']    \n",
      " ization)                                                                                         \n",
      "                                                                                                  \n",
      " conv2_block2_add (Add)         (None, 56, 56, 256)  0           ['conv2_block1_out[0][0]',       \n",
      "                                                                  'conv2_block2_3_bn[0][0]']      \n",
      "                                                                                                  \n",
      " conv2_block2_out (Activation)  (None, 56, 56, 256)  0           ['conv2_block2_add[0][0]']       \n",
      "                                                                                                  \n",
      " conv2_block3_1_conv (Conv2D)   (None, 56, 56, 64)   16448       ['conv2_block2_out[0][0]']       \n",
      "                                                                                                  \n",
      " conv2_block3_1_bn (BatchNormal  (None, 56, 56, 64)  256         ['conv2_block3_1_conv[0][0]']    \n",
      " ization)                                                                                         \n"
     ]
    },
    {
     "name": "stdout",
     "output_type": "stream",
     "text": [
      "                                                                                                  \n",
      " conv2_block3_1_relu (Activatio  (None, 56, 56, 64)  0           ['conv2_block3_1_bn[0][0]']      \n",
      " n)                                                                                               \n",
      "                                                                                                  \n",
      " conv2_block3_2_conv (Conv2D)   (None, 56, 56, 64)   36928       ['conv2_block3_1_relu[0][0]']    \n",
      "                                                                                                  \n",
      " conv2_block3_2_bn (BatchNormal  (None, 56, 56, 64)  256         ['conv2_block3_2_conv[0][0]']    \n",
      " ization)                                                                                         \n",
      "                                                                                                  \n",
      " conv2_block3_2_relu (Activatio  (None, 56, 56, 64)  0           ['conv2_block3_2_bn[0][0]']      \n",
      " n)                                                                                               \n",
      "                                                                                                  \n",
      " conv2_block3_3_conv (Conv2D)   (None, 56, 56, 256)  16640       ['conv2_block3_2_relu[0][0]']    \n",
      "                                                                                                  \n",
      " conv2_block3_3_bn (BatchNormal  (None, 56, 56, 256)  1024       ['conv2_block3_3_conv[0][0]']    \n",
      " ization)                                                                                         \n",
      "                                                                                                  \n",
      " conv2_block3_add (Add)         (None, 56, 56, 256)  0           ['conv2_block2_out[0][0]',       \n",
      "                                                                  'conv2_block3_3_bn[0][0]']      \n",
      "                                                                                                  \n",
      " conv2_block3_out (Activation)  (None, 56, 56, 256)  0           ['conv2_block3_add[0][0]']       \n",
      "                                                                                                  \n",
      " conv3_block1_1_conv (Conv2D)   (None, 28, 28, 128)  32896       ['conv2_block3_out[0][0]']       \n",
      "                                                                                                  \n",
      " conv3_block1_1_bn (BatchNormal  (None, 28, 28, 128)  512        ['conv3_block1_1_conv[0][0]']    \n",
      " ization)                                                                                         \n",
      "                                                                                                  \n",
      " conv3_block1_1_relu (Activatio  (None, 28, 28, 128)  0          ['conv3_block1_1_bn[0][0]']      \n",
      " n)                                                                                               \n",
      "                                                                                                  \n",
      " conv3_block1_2_conv (Conv2D)   (None, 28, 28, 128)  147584      ['conv3_block1_1_relu[0][0]']    \n",
      "                                                                                                  \n",
      " conv3_block1_2_bn (BatchNormal  (None, 28, 28, 128)  512        ['conv3_block1_2_conv[0][0]']    \n",
      " ization)                                                                                         \n",
      "                                                                                                  \n",
      " conv3_block1_2_relu (Activatio  (None, 28, 28, 128)  0          ['conv3_block1_2_bn[0][0]']      \n",
      " n)                                                                                               \n",
      "                                                                                                  \n",
      " conv3_block1_0_conv (Conv2D)   (None, 28, 28, 512)  131584      ['conv2_block3_out[0][0]']       \n",
      "                                                                                                  \n",
      " conv3_block1_3_conv (Conv2D)   (None, 28, 28, 512)  66048       ['conv3_block1_2_relu[0][0]']    \n",
      "                                                                                                  \n",
      " conv3_block1_0_bn (BatchNormal  (None, 28, 28, 512)  2048       ['conv3_block1_0_conv[0][0]']    \n",
      " ization)                                                                                         \n",
      "                                                                                                  \n",
      " conv3_block1_3_bn (BatchNormal  (None, 28, 28, 512)  2048       ['conv3_block1_3_conv[0][0]']    \n",
      " ization)                                                                                         \n",
      "                                                                                                  \n",
      " conv3_block1_add (Add)         (None, 28, 28, 512)  0           ['conv3_block1_0_bn[0][0]',      \n",
      "                                                                  'conv3_block1_3_bn[0][0]']      \n",
      "                                                                                                  \n",
      " conv3_block1_out (Activation)  (None, 28, 28, 512)  0           ['conv3_block1_add[0][0]']       \n",
      "                                                                                                  \n",
      " conv3_block2_1_conv (Conv2D)   (None, 28, 28, 128)  65664       ['conv3_block1_out[0][0]']       \n",
      "                                                                                                  \n",
      " conv3_block2_1_bn (BatchNormal  (None, 28, 28, 128)  512        ['conv3_block2_1_conv[0][0]']    \n",
      " ization)                                                                                         \n",
      "                                                                                                  \n",
      " conv3_block2_1_relu (Activatio  (None, 28, 28, 128)  0          ['conv3_block2_1_bn[0][0]']      \n",
      " n)                                                                                               \n",
      "                                                                                                  \n",
      " conv3_block2_2_conv (Conv2D)   (None, 28, 28, 128)  147584      ['conv3_block2_1_relu[0][0]']    \n",
      "                                                                                                  \n",
      " conv3_block2_2_bn (BatchNormal  (None, 28, 28, 128)  512        ['conv3_block2_2_conv[0][0]']    \n",
      " ization)                                                                                         \n",
      "                                                                                                  \n",
      " conv3_block2_2_relu (Activatio  (None, 28, 28, 128)  0          ['conv3_block2_2_bn[0][0]']      \n",
      " n)                                                                                               \n",
      "                                                                                                  \n",
      " conv3_block2_3_conv (Conv2D)   (None, 28, 28, 512)  66048       ['conv3_block2_2_relu[0][0]']    \n",
      "                                                                                                  \n",
      " conv3_block2_3_bn (BatchNormal  (None, 28, 28, 512)  2048       ['conv3_block2_3_conv[0][0]']    \n",
      " ization)                                                                                         \n",
      "                                                                                                  \n",
      " conv3_block2_add (Add)         (None, 28, 28, 512)  0           ['conv3_block1_out[0][0]',       \n",
      "                                                                  'conv3_block2_3_bn[0][0]']      \n",
      "                                                                                                  \n",
      " conv3_block2_out (Activation)  (None, 28, 28, 512)  0           ['conv3_block2_add[0][0]']       \n",
      "                                                                                                  \n",
      " conv3_block3_1_conv (Conv2D)   (None, 28, 28, 128)  65664       ['conv3_block2_out[0][0]']       \n",
      "                                                                                                  \n",
      " conv3_block3_1_bn (BatchNormal  (None, 28, 28, 128)  512        ['conv3_block3_1_conv[0][0]']    \n",
      " ization)                                                                                         \n"
     ]
    },
    {
     "name": "stdout",
     "output_type": "stream",
     "text": [
      "                                                                                                  \n",
      " conv3_block3_1_relu (Activatio  (None, 28, 28, 128)  0          ['conv3_block3_1_bn[0][0]']      \n",
      " n)                                                                                               \n",
      "                                                                                                  \n",
      " conv3_block3_2_conv (Conv2D)   (None, 28, 28, 128)  147584      ['conv3_block3_1_relu[0][0]']    \n",
      "                                                                                                  \n",
      " conv3_block3_2_bn (BatchNormal  (None, 28, 28, 128)  512        ['conv3_block3_2_conv[0][0]']    \n",
      " ization)                                                                                         \n",
      "                                                                                                  \n",
      " conv3_block3_2_relu (Activatio  (None, 28, 28, 128)  0          ['conv3_block3_2_bn[0][0]']      \n",
      " n)                                                                                               \n",
      "                                                                                                  \n",
      " conv3_block3_3_conv (Conv2D)   (None, 28, 28, 512)  66048       ['conv3_block3_2_relu[0][0]']    \n",
      "                                                                                                  \n",
      " conv3_block3_3_bn (BatchNormal  (None, 28, 28, 512)  2048       ['conv3_block3_3_conv[0][0]']    \n",
      " ization)                                                                                         \n",
      "                                                                                                  \n",
      " conv3_block3_add (Add)         (None, 28, 28, 512)  0           ['conv3_block2_out[0][0]',       \n",
      "                                                                  'conv3_block3_3_bn[0][0]']      \n",
      "                                                                                                  \n",
      " conv3_block3_out (Activation)  (None, 28, 28, 512)  0           ['conv3_block3_add[0][0]']       \n",
      "                                                                                                  \n",
      " conv3_block4_1_conv (Conv2D)   (None, 28, 28, 128)  65664       ['conv3_block3_out[0][0]']       \n",
      "                                                                                                  \n",
      " conv3_block4_1_bn (BatchNormal  (None, 28, 28, 128)  512        ['conv3_block4_1_conv[0][0]']    \n",
      " ization)                                                                                         \n",
      "                                                                                                  \n",
      " conv3_block4_1_relu (Activatio  (None, 28, 28, 128)  0          ['conv3_block4_1_bn[0][0]']      \n",
      " n)                                                                                               \n",
      "                                                                                                  \n",
      " conv3_block4_2_conv (Conv2D)   (None, 28, 28, 128)  147584      ['conv3_block4_1_relu[0][0]']    \n",
      "                                                                                                  \n",
      " conv3_block4_2_bn (BatchNormal  (None, 28, 28, 128)  512        ['conv3_block4_2_conv[0][0]']    \n",
      " ization)                                                                                         \n",
      "                                                                                                  \n",
      " conv3_block4_2_relu (Activatio  (None, 28, 28, 128)  0          ['conv3_block4_2_bn[0][0]']      \n",
      " n)                                                                                               \n",
      "                                                                                                  \n",
      " conv3_block4_3_conv (Conv2D)   (None, 28, 28, 512)  66048       ['conv3_block4_2_relu[0][0]']    \n",
      "                                                                                                  \n",
      " conv3_block4_3_bn (BatchNormal  (None, 28, 28, 512)  2048       ['conv3_block4_3_conv[0][0]']    \n",
      " ization)                                                                                         \n",
      "                                                                                                  \n",
      " conv3_block4_add (Add)         (None, 28, 28, 512)  0           ['conv3_block3_out[0][0]',       \n",
      "                                                                  'conv3_block4_3_bn[0][0]']      \n",
      "                                                                                                  \n",
      " conv3_block4_out (Activation)  (None, 28, 28, 512)  0           ['conv3_block4_add[0][0]']       \n",
      "                                                                                                  \n",
      " conv4_block1_1_conv (Conv2D)   (None, 14, 14, 256)  131328      ['conv3_block4_out[0][0]']       \n",
      "                                                                                                  \n",
      " conv4_block1_1_bn (BatchNormal  (None, 14, 14, 256)  1024       ['conv4_block1_1_conv[0][0]']    \n",
      " ization)                                                                                         \n",
      "                                                                                                  \n",
      " conv4_block1_1_relu (Activatio  (None, 14, 14, 256)  0          ['conv4_block1_1_bn[0][0]']      \n",
      " n)                                                                                               \n",
      "                                                                                                  \n",
      " conv4_block1_2_conv (Conv2D)   (None, 14, 14, 256)  590080      ['conv4_block1_1_relu[0][0]']    \n",
      "                                                                                                  \n",
      " conv4_block1_2_bn (BatchNormal  (None, 14, 14, 256)  1024       ['conv4_block1_2_conv[0][0]']    \n",
      " ization)                                                                                         \n",
      "                                                                                                  \n",
      " conv4_block1_2_relu (Activatio  (None, 14, 14, 256)  0          ['conv4_block1_2_bn[0][0]']      \n",
      " n)                                                                                               \n",
      "                                                                                                  \n",
      " conv4_block1_0_conv (Conv2D)   (None, 14, 14, 1024  525312      ['conv3_block4_out[0][0]']       \n",
      "                                )                                                                 \n",
      "                                                                                                  \n",
      " conv4_block1_3_conv (Conv2D)   (None, 14, 14, 1024  263168      ['conv4_block1_2_relu[0][0]']    \n",
      "                                )                                                                 \n",
      "                                                                                                  \n",
      " conv4_block1_0_bn (BatchNormal  (None, 14, 14, 1024  4096       ['conv4_block1_0_conv[0][0]']    \n",
      " ization)                       )                                                                 \n",
      "                                                                                                  \n",
      " conv4_block1_3_bn (BatchNormal  (None, 14, 14, 1024  4096       ['conv4_block1_3_conv[0][0]']    \n",
      " ization)                       )                                                                 \n",
      "                                                                                                  \n",
      " conv4_block1_add (Add)         (None, 14, 14, 1024  0           ['conv4_block1_0_bn[0][0]',      \n",
      "                                )                                 'conv4_block1_3_bn[0][0]']      \n",
      "                                                                                                  \n",
      " conv4_block1_out (Activation)  (None, 14, 14, 1024  0           ['conv4_block1_add[0][0]']       \n",
      "                                )                                                                 \n",
      "                                                                                                  \n",
      " conv4_block2_1_conv (Conv2D)   (None, 14, 14, 256)  262400      ['conv4_block1_out[0][0]']       \n"
     ]
    },
    {
     "name": "stdout",
     "output_type": "stream",
     "text": [
      "                                                                                                  \n",
      " conv4_block2_1_bn (BatchNormal  (None, 14, 14, 256)  1024       ['conv4_block2_1_conv[0][0]']    \n",
      " ization)                                                                                         \n",
      "                                                                                                  \n",
      " conv4_block2_1_relu (Activatio  (None, 14, 14, 256)  0          ['conv4_block2_1_bn[0][0]']      \n",
      " n)                                                                                               \n",
      "                                                                                                  \n",
      " conv4_block2_2_conv (Conv2D)   (None, 14, 14, 256)  590080      ['conv4_block2_1_relu[0][0]']    \n",
      "                                                                                                  \n",
      " conv4_block2_2_bn (BatchNormal  (None, 14, 14, 256)  1024       ['conv4_block2_2_conv[0][0]']    \n",
      " ization)                                                                                         \n",
      "                                                                                                  \n",
      " conv4_block2_2_relu (Activatio  (None, 14, 14, 256)  0          ['conv4_block2_2_bn[0][0]']      \n",
      " n)                                                                                               \n",
      "                                                                                                  \n",
      " conv4_block2_3_conv (Conv2D)   (None, 14, 14, 1024  263168      ['conv4_block2_2_relu[0][0]']    \n",
      "                                )                                                                 \n",
      "                                                                                                  \n",
      " conv4_block2_3_bn (BatchNormal  (None, 14, 14, 1024  4096       ['conv4_block2_3_conv[0][0]']    \n",
      " ization)                       )                                                                 \n",
      "                                                                                                  \n",
      " conv4_block2_add (Add)         (None, 14, 14, 1024  0           ['conv4_block1_out[0][0]',       \n",
      "                                )                                 'conv4_block2_3_bn[0][0]']      \n",
      "                                                                                                  \n",
      " conv4_block2_out (Activation)  (None, 14, 14, 1024  0           ['conv4_block2_add[0][0]']       \n",
      "                                )                                                                 \n",
      "                                                                                                  \n",
      " conv4_block3_1_conv (Conv2D)   (None, 14, 14, 256)  262400      ['conv4_block2_out[0][0]']       \n",
      "                                                                                                  \n",
      " conv4_block3_1_bn (BatchNormal  (None, 14, 14, 256)  1024       ['conv4_block3_1_conv[0][0]']    \n",
      " ization)                                                                                         \n",
      "                                                                                                  \n",
      " conv4_block3_1_relu (Activatio  (None, 14, 14, 256)  0          ['conv4_block3_1_bn[0][0]']      \n",
      " n)                                                                                               \n",
      "                                                                                                  \n",
      " conv4_block3_2_conv (Conv2D)   (None, 14, 14, 256)  590080      ['conv4_block3_1_relu[0][0]']    \n",
      "                                                                                                  \n",
      " conv4_block3_2_bn (BatchNormal  (None, 14, 14, 256)  1024       ['conv4_block3_2_conv[0][0]']    \n",
      " ization)                                                                                         \n",
      "                                                                                                  \n",
      " conv4_block3_2_relu (Activatio  (None, 14, 14, 256)  0          ['conv4_block3_2_bn[0][0]']      \n",
      " n)                                                                                               \n",
      "                                                                                                  \n",
      " conv4_block3_3_conv (Conv2D)   (None, 14, 14, 1024  263168      ['conv4_block3_2_relu[0][0]']    \n",
      "                                )                                                                 \n",
      "                                                                                                  \n",
      " conv4_block3_3_bn (BatchNormal  (None, 14, 14, 1024  4096       ['conv4_block3_3_conv[0][0]']    \n",
      " ization)                       )                                                                 \n",
      "                                                                                                  \n",
      " conv4_block3_add (Add)         (None, 14, 14, 1024  0           ['conv4_block2_out[0][0]',       \n",
      "                                )                                 'conv4_block3_3_bn[0][0]']      \n",
      "                                                                                                  \n",
      " conv4_block3_out (Activation)  (None, 14, 14, 1024  0           ['conv4_block3_add[0][0]']       \n",
      "                                )                                                                 \n",
      "                                                                                                  \n",
      " conv4_block4_1_conv (Conv2D)   (None, 14, 14, 256)  262400      ['conv4_block3_out[0][0]']       \n",
      "                                                                                                  \n",
      " conv4_block4_1_bn (BatchNormal  (None, 14, 14, 256)  1024       ['conv4_block4_1_conv[0][0]']    \n",
      " ization)                                                                                         \n",
      "                                                                                                  \n",
      " conv4_block4_1_relu (Activatio  (None, 14, 14, 256)  0          ['conv4_block4_1_bn[0][0]']      \n",
      " n)                                                                                               \n",
      "                                                                                                  \n",
      " conv4_block4_2_conv (Conv2D)   (None, 14, 14, 256)  590080      ['conv4_block4_1_relu[0][0]']    \n",
      "                                                                                                  \n",
      " conv4_block4_2_bn (BatchNormal  (None, 14, 14, 256)  1024       ['conv4_block4_2_conv[0][0]']    \n",
      " ization)                                                                                         \n",
      "                                                                                                  \n",
      " conv4_block4_2_relu (Activatio  (None, 14, 14, 256)  0          ['conv4_block4_2_bn[0][0]']      \n",
      " n)                                                                                               \n",
      "                                                                                                  \n",
      " conv4_block4_3_conv (Conv2D)   (None, 14, 14, 1024  263168      ['conv4_block4_2_relu[0][0]']    \n",
      "                                )                                                                 \n",
      "                                                                                                  \n",
      " conv4_block4_3_bn (BatchNormal  (None, 14, 14, 1024  4096       ['conv4_block4_3_conv[0][0]']    \n",
      " ization)                       )                                                                 \n",
      "                                                                                                  \n",
      " conv4_block4_add (Add)         (None, 14, 14, 1024  0           ['conv4_block3_out[0][0]',       \n",
      "                                )                                 'conv4_block4_3_bn[0][0]']      \n",
      "                                                                                                  \n",
      " conv4_block4_out (Activation)  (None, 14, 14, 1024  0           ['conv4_block4_add[0][0]']       \n",
      "                                )                                                                 \n",
      "                                                                                                  \n"
     ]
    },
    {
     "name": "stdout",
     "output_type": "stream",
     "text": [
      " conv4_block5_1_conv (Conv2D)   (None, 14, 14, 256)  262400      ['conv4_block4_out[0][0]']       \n",
      "                                                                                                  \n",
      " conv4_block5_1_bn (BatchNormal  (None, 14, 14, 256)  1024       ['conv4_block5_1_conv[0][0]']    \n",
      " ization)                                                                                         \n",
      "                                                                                                  \n",
      " conv4_block5_1_relu (Activatio  (None, 14, 14, 256)  0          ['conv4_block5_1_bn[0][0]']      \n",
      " n)                                                                                               \n",
      "                                                                                                  \n",
      " conv4_block5_2_conv (Conv2D)   (None, 14, 14, 256)  590080      ['conv4_block5_1_relu[0][0]']    \n",
      "                                                                                                  \n",
      " conv4_block5_2_bn (BatchNormal  (None, 14, 14, 256)  1024       ['conv4_block5_2_conv[0][0]']    \n",
      " ization)                                                                                         \n",
      "                                                                                                  \n",
      " conv4_block5_2_relu (Activatio  (None, 14, 14, 256)  0          ['conv4_block5_2_bn[0][0]']      \n",
      " n)                                                                                               \n",
      "                                                                                                  \n",
      " conv4_block5_3_conv (Conv2D)   (None, 14, 14, 1024  263168      ['conv4_block5_2_relu[0][0]']    \n",
      "                                )                                                                 \n",
      "                                                                                                  \n",
      " conv4_block5_3_bn (BatchNormal  (None, 14, 14, 1024  4096       ['conv4_block5_3_conv[0][0]']    \n",
      " ization)                       )                                                                 \n",
      "                                                                                                  \n",
      " conv4_block5_add (Add)         (None, 14, 14, 1024  0           ['conv4_block4_out[0][0]',       \n",
      "                                )                                 'conv4_block5_3_bn[0][0]']      \n",
      "                                                                                                  \n",
      " conv4_block5_out (Activation)  (None, 14, 14, 1024  0           ['conv4_block5_add[0][0]']       \n",
      "                                )                                                                 \n",
      "                                                                                                  \n",
      " conv4_block6_1_conv (Conv2D)   (None, 14, 14, 256)  262400      ['conv4_block5_out[0][0]']       \n",
      "                                                                                                  \n",
      " conv4_block6_1_bn (BatchNormal  (None, 14, 14, 256)  1024       ['conv4_block6_1_conv[0][0]']    \n",
      " ization)                                                                                         \n",
      "                                                                                                  \n",
      " conv4_block6_1_relu (Activatio  (None, 14, 14, 256)  0          ['conv4_block6_1_bn[0][0]']      \n",
      " n)                                                                                               \n",
      "                                                                                                  \n",
      " conv4_block6_2_conv (Conv2D)   (None, 14, 14, 256)  590080      ['conv4_block6_1_relu[0][0]']    \n",
      "                                                                                                  \n",
      " conv4_block6_2_bn (BatchNormal  (None, 14, 14, 256)  1024       ['conv4_block6_2_conv[0][0]']    \n",
      " ization)                                                                                         \n",
      "                                                                                                  \n",
      " conv4_block6_2_relu (Activatio  (None, 14, 14, 256)  0          ['conv4_block6_2_bn[0][0]']      \n",
      " n)                                                                                               \n",
      "                                                                                                  \n",
      " conv4_block6_3_conv (Conv2D)   (None, 14, 14, 1024  263168      ['conv4_block6_2_relu[0][0]']    \n",
      "                                )                                                                 \n",
      "                                                                                                  \n",
      " conv4_block6_3_bn (BatchNormal  (None, 14, 14, 1024  4096       ['conv4_block6_3_conv[0][0]']    \n",
      " ization)                       )                                                                 \n",
      "                                                                                                  \n",
      " conv4_block6_add (Add)         (None, 14, 14, 1024  0           ['conv4_block5_out[0][0]',       \n",
      "                                )                                 'conv4_block6_3_bn[0][0]']      \n",
      "                                                                                                  \n",
      " conv4_block6_out (Activation)  (None, 14, 14, 1024  0           ['conv4_block6_add[0][0]']       \n",
      "                                )                                                                 \n",
      "                                                                                                  \n",
      " conv5_block1_1_conv (Conv2D)   (None, 7, 7, 512)    524800      ['conv4_block6_out[0][0]']       \n",
      "                                                                                                  \n",
      " conv5_block1_1_bn (BatchNormal  (None, 7, 7, 512)   2048        ['conv5_block1_1_conv[0][0]']    \n",
      " ization)                                                                                         \n",
      "                                                                                                  \n",
      " conv5_block1_1_relu (Activatio  (None, 7, 7, 512)   0           ['conv5_block1_1_bn[0][0]']      \n",
      " n)                                                                                               \n",
      "                                                                                                  \n",
      " conv5_block1_2_conv (Conv2D)   (None, 7, 7, 512)    2359808     ['conv5_block1_1_relu[0][0]']    \n",
      "                                                                                                  \n",
      " conv5_block1_2_bn (BatchNormal  (None, 7, 7, 512)   2048        ['conv5_block1_2_conv[0][0]']    \n",
      " ization)                                                                                         \n",
      "                                                                                                  \n",
      " conv5_block1_2_relu (Activatio  (None, 7, 7, 512)   0           ['conv5_block1_2_bn[0][0]']      \n",
      " n)                                                                                               \n",
      "                                                                                                  \n",
      " conv5_block1_0_conv (Conv2D)   (None, 7, 7, 2048)   2099200     ['conv4_block6_out[0][0]']       \n",
      "                                                                                                  \n",
      " conv5_block1_3_conv (Conv2D)   (None, 7, 7, 2048)   1050624     ['conv5_block1_2_relu[0][0]']    \n",
      "                                                                                                  \n",
      " conv5_block1_0_bn (BatchNormal  (None, 7, 7, 2048)  8192        ['conv5_block1_0_conv[0][0]']    \n",
      " ization)                                                                                         \n",
      "                                                                                                  \n",
      " conv5_block1_3_bn (BatchNormal  (None, 7, 7, 2048)  8192        ['conv5_block1_3_conv[0][0]']    \n",
      " ization)                                                                                         \n",
      "                                                                                                  \n",
      " conv5_block1_add (Add)         (None, 7, 7, 2048)   0           ['conv5_block1_0_bn[0][0]',      \n"
     ]
    },
    {
     "name": "stdout",
     "output_type": "stream",
     "text": [
      "                                                                  'conv5_block1_3_bn[0][0]']      \n",
      "                                                                                                  \n",
      " conv5_block1_out (Activation)  (None, 7, 7, 2048)   0           ['conv5_block1_add[0][0]']       \n",
      "                                                                                                  \n",
      " conv5_block2_1_conv (Conv2D)   (None, 7, 7, 512)    1049088     ['conv5_block1_out[0][0]']       \n",
      "                                                                                                  \n",
      " conv5_block2_1_bn (BatchNormal  (None, 7, 7, 512)   2048        ['conv5_block2_1_conv[0][0]']    \n",
      " ization)                                                                                         \n",
      "                                                                                                  \n",
      " conv5_block2_1_relu (Activatio  (None, 7, 7, 512)   0           ['conv5_block2_1_bn[0][0]']      \n",
      " n)                                                                                               \n",
      "                                                                                                  \n",
      " conv5_block2_2_conv (Conv2D)   (None, 7, 7, 512)    2359808     ['conv5_block2_1_relu[0][0]']    \n",
      "                                                                                                  \n",
      " conv5_block2_2_bn (BatchNormal  (None, 7, 7, 512)   2048        ['conv5_block2_2_conv[0][0]']    \n",
      " ization)                                                                                         \n",
      "                                                                                                  \n",
      " conv5_block2_2_relu (Activatio  (None, 7, 7, 512)   0           ['conv5_block2_2_bn[0][0]']      \n",
      " n)                                                                                               \n",
      "                                                                                                  \n",
      " conv5_block2_3_conv (Conv2D)   (None, 7, 7, 2048)   1050624     ['conv5_block2_2_relu[0][0]']    \n",
      "                                                                                                  \n",
      " conv5_block2_3_bn (BatchNormal  (None, 7, 7, 2048)  8192        ['conv5_block2_3_conv[0][0]']    \n",
      " ization)                                                                                         \n",
      "                                                                                                  \n",
      " conv5_block2_add (Add)         (None, 7, 7, 2048)   0           ['conv5_block1_out[0][0]',       \n",
      "                                                                  'conv5_block2_3_bn[0][0]']      \n",
      "                                                                                                  \n",
      " conv5_block2_out (Activation)  (None, 7, 7, 2048)   0           ['conv5_block2_add[0][0]']       \n",
      "                                                                                                  \n",
      " conv5_block3_1_conv (Conv2D)   (None, 7, 7, 512)    1049088     ['conv5_block2_out[0][0]']       \n",
      "                                                                                                  \n",
      " conv5_block3_1_bn (BatchNormal  (None, 7, 7, 512)   2048        ['conv5_block3_1_conv[0][0]']    \n",
      " ization)                                                                                         \n",
      "                                                                                                  \n",
      " conv5_block3_1_relu (Activatio  (None, 7, 7, 512)   0           ['conv5_block3_1_bn[0][0]']      \n",
      " n)                                                                                               \n",
      "                                                                                                  \n",
      " conv5_block3_2_conv (Conv2D)   (None, 7, 7, 512)    2359808     ['conv5_block3_1_relu[0][0]']    \n",
      "                                                                                                  \n",
      " conv5_block3_2_bn (BatchNormal  (None, 7, 7, 512)   2048        ['conv5_block3_2_conv[0][0]']    \n",
      " ization)                                                                                         \n",
      "                                                                                                  \n",
      " conv5_block3_2_relu (Activatio  (None, 7, 7, 512)   0           ['conv5_block3_2_bn[0][0]']      \n",
      " n)                                                                                               \n",
      "                                                                                                  \n",
      " conv5_block3_3_conv (Conv2D)   (None, 7, 7, 2048)   1050624     ['conv5_block3_2_relu[0][0]']    \n",
      "                                                                                                  \n",
      " conv5_block3_3_bn (BatchNormal  (None, 7, 7, 2048)  8192        ['conv5_block3_3_conv[0][0]']    \n",
      " ization)                                                                                         \n",
      "                                                                                                  \n",
      " conv5_block3_add (Add)         (None, 7, 7, 2048)   0           ['conv5_block2_out[0][0]',       \n",
      "                                                                  'conv5_block3_3_bn[0][0]']      \n",
      "                                                                                                  \n",
      " conv5_block3_out (Activation)  (None, 7, 7, 2048)   0           ['conv5_block3_add[0][0]']       \n",
      "                                                                                                  \n",
      " avg_pool (GlobalAveragePooling  (None, 2048)        0           ['conv5_block3_out[0][0]']       \n",
      " 2D)                                                                                              \n",
      "                                                                                                  \n",
      " predictions (Dense)            (None, 1000)         2049000     ['avg_pool[0][0]']               \n",
      "                                                                                                  \n",
      "==================================================================================================\n",
      "Total params: 25,636,712\n",
      "Trainable params: 25,583,592\n",
      "Non-trainable params: 53,120\n",
      "__________________________________________________________________________________________________\n"
     ]
    }
   ],
   "source": [
    "from tensorflow.keras.applications import ResNet50\n",
    "from tensorflow.keras.applications.resnet50 import decode_predictions\n",
    "import numpy as np\n",
    "\n",
    "model = ResNet50()\n",
    "# weights=None : 랜덤값으로 초기화된 상태의 가중치\n",
    "# weights='imagenet'(기본값): imagenet 데이터로 학습이 끝난 가중치\n",
    "model.summary()"
   ]
  },
  {
   "cell_type": "code",
   "execution_count": 9,
   "id": "6d0ea01c",
   "metadata": {
    "ExecuteTime": {
     "end_time": "2024-12-24T03:07:25.292426Z",
     "start_time": "2024-12-24T03:07:25.223527Z"
    }
   },
   "outputs": [],
   "source": [
    "json_str = model.to_json()\n",
    "#json_str\n",
    "with open('model/model.json','w') as json_file:\n",
    "    json_file.write(json_str)\n",
    "    "
   ]
  },
  {
   "cell_type": "code",
   "execution_count": 14,
   "id": "26c57024",
   "metadata": {
    "ExecuteTime": {
     "end_time": "2024-12-24T03:11:17.235695Z",
     "start_time": "2024-12-24T03:11:15.510638Z"
    }
   },
   "outputs": [
    {
     "name": "stdout",
     "output_type": "stream",
     "text": [
      "Model: \"resnet50\"\n",
      "__________________________________________________________________________________________________\n",
      " Layer (type)                   Output Shape         Param #     Connected to                     \n",
      "==================================================================================================\n",
      " input_5 (InputLayer)           [(None, 224, 224, 3  0           []                               \n",
      "                                )]                                                                \n",
      "                                                                                                  \n",
      " conv1_pad (ZeroPadding2D)      (None, 230, 230, 3)  0           ['input_5[0][0]']                \n",
      "                                                                                                  \n",
      " conv1_conv (Conv2D)            (None, 112, 112, 64  9472        ['conv1_pad[0][0]']              \n",
      "                                )                                                                 \n",
      "                                                                                                  \n",
      " conv1_bn (BatchNormalization)  (None, 112, 112, 64  256         ['conv1_conv[0][0]']             \n",
      "                                )                                                                 \n",
      "                                                                                                  \n",
      " conv1_relu (Activation)        (None, 112, 112, 64  0           ['conv1_bn[0][0]']               \n",
      "                                )                                                                 \n",
      "                                                                                                  \n",
      " pool1_pad (ZeroPadding2D)      (None, 114, 114, 64  0           ['conv1_relu[0][0]']             \n",
      "                                )                                                                 \n",
      "                                                                                                  \n",
      " pool1_pool (MaxPooling2D)      (None, 56, 56, 64)   0           ['pool1_pad[0][0]']              \n",
      "                                                                                                  \n",
      " conv2_block1_1_conv (Conv2D)   (None, 56, 56, 64)   4160        ['pool1_pool[0][0]']             \n",
      "                                                                                                  \n",
      " conv2_block1_1_bn (BatchNormal  (None, 56, 56, 64)  256         ['conv2_block1_1_conv[0][0]']    \n",
      " ization)                                                                                         \n",
      "                                                                                                  \n",
      " conv2_block1_1_relu (Activatio  (None, 56, 56, 64)  0           ['conv2_block1_1_bn[0][0]']      \n",
      " n)                                                                                               \n",
      "                                                                                                  \n",
      " conv2_block1_2_conv (Conv2D)   (None, 56, 56, 64)   36928       ['conv2_block1_1_relu[0][0]']    \n",
      "                                                                                                  \n",
      " conv2_block1_2_bn (BatchNormal  (None, 56, 56, 64)  256         ['conv2_block1_2_conv[0][0]']    \n",
      " ization)                                                                                         \n",
      "                                                                                                  \n",
      " conv2_block1_2_relu (Activatio  (None, 56, 56, 64)  0           ['conv2_block1_2_bn[0][0]']      \n",
      " n)                                                                                               \n",
      "                                                                                                  \n",
      " conv2_block1_0_conv (Conv2D)   (None, 56, 56, 256)  16640       ['pool1_pool[0][0]']             \n",
      "                                                                                                  \n",
      " conv2_block1_3_conv (Conv2D)   (None, 56, 56, 256)  16640       ['conv2_block1_2_relu[0][0]']    \n",
      "                                                                                                  \n",
      " conv2_block1_0_bn (BatchNormal  (None, 56, 56, 256)  1024       ['conv2_block1_0_conv[0][0]']    \n",
      " ization)                                                                                         \n",
      "                                                                                                  \n",
      " conv2_block1_3_bn (BatchNormal  (None, 56, 56, 256)  1024       ['conv2_block1_3_conv[0][0]']    \n",
      " ization)                                                                                         \n",
      "                                                                                                  \n",
      " conv2_block1_add (Add)         (None, 56, 56, 256)  0           ['conv2_block1_0_bn[0][0]',      \n",
      "                                                                  'conv2_block1_3_bn[0][0]']      \n",
      "                                                                                                  \n",
      " conv2_block1_out (Activation)  (None, 56, 56, 256)  0           ['conv2_block1_add[0][0]']       \n",
      "                                                                                                  \n",
      " conv2_block2_1_conv (Conv2D)   (None, 56, 56, 64)   16448       ['conv2_block1_out[0][0]']       \n",
      "                                                                                                  \n",
      " conv2_block2_1_bn (BatchNormal  (None, 56, 56, 64)  256         ['conv2_block2_1_conv[0][0]']    \n",
      " ization)                                                                                         \n",
      "                                                                                                  \n",
      " conv2_block2_1_relu (Activatio  (None, 56, 56, 64)  0           ['conv2_block2_1_bn[0][0]']      \n",
      " n)                                                                                               \n",
      "                                                                                                  \n",
      " conv2_block2_2_conv (Conv2D)   (None, 56, 56, 64)   36928       ['conv2_block2_1_relu[0][0]']    \n",
      "                                                                                                  \n",
      " conv2_block2_2_bn (BatchNormal  (None, 56, 56, 64)  256         ['conv2_block2_2_conv[0][0]']    \n",
      " ization)                                                                                         \n",
      "                                                                                                  \n",
      " conv2_block2_2_relu (Activatio  (None, 56, 56, 64)  0           ['conv2_block2_2_bn[0][0]']      \n",
      " n)                                                                                               \n",
      "                                                                                                  \n",
      " conv2_block2_3_conv (Conv2D)   (None, 56, 56, 256)  16640       ['conv2_block2_2_relu[0][0]']    \n",
      "                                                                                                  \n",
      " conv2_block2_3_bn (BatchNormal  (None, 56, 56, 256)  1024       ['conv2_block2_3_conv[0][0]']    \n",
      " ization)                                                                                         \n",
      "                                                                                                  \n",
      " conv2_block2_add (Add)         (None, 56, 56, 256)  0           ['conv2_block1_out[0][0]',       \n",
      "                                                                  'conv2_block2_3_bn[0][0]']      \n",
      "                                                                                                  \n",
      " conv2_block2_out (Activation)  (None, 56, 56, 256)  0           ['conv2_block2_add[0][0]']       \n",
      "                                                                                                  \n",
      " conv2_block3_1_conv (Conv2D)   (None, 56, 56, 64)   16448       ['conv2_block2_out[0][0]']       \n",
      "                                                                                                  \n",
      " conv2_block3_1_bn (BatchNormal  (None, 56, 56, 64)  256         ['conv2_block3_1_conv[0][0]']    \n",
      " ization)                                                                                         \n"
     ]
    },
    {
     "name": "stdout",
     "output_type": "stream",
     "text": [
      "                                                                                                  \n",
      " conv2_block3_1_relu (Activatio  (None, 56, 56, 64)  0           ['conv2_block3_1_bn[0][0]']      \n",
      " n)                                                                                               \n",
      "                                                                                                  \n",
      " conv2_block3_2_conv (Conv2D)   (None, 56, 56, 64)   36928       ['conv2_block3_1_relu[0][0]']    \n",
      "                                                                                                  \n",
      " conv2_block3_2_bn (BatchNormal  (None, 56, 56, 64)  256         ['conv2_block3_2_conv[0][0]']    \n",
      " ization)                                                                                         \n",
      "                                                                                                  \n",
      " conv2_block3_2_relu (Activatio  (None, 56, 56, 64)  0           ['conv2_block3_2_bn[0][0]']      \n",
      " n)                                                                                               \n",
      "                                                                                                  \n",
      " conv2_block3_3_conv (Conv2D)   (None, 56, 56, 256)  16640       ['conv2_block3_2_relu[0][0]']    \n",
      "                                                                                                  \n",
      " conv2_block3_3_bn (BatchNormal  (None, 56, 56, 256)  1024       ['conv2_block3_3_conv[0][0]']    \n",
      " ization)                                                                                         \n",
      "                                                                                                  \n",
      " conv2_block3_add (Add)         (None, 56, 56, 256)  0           ['conv2_block2_out[0][0]',       \n",
      "                                                                  'conv2_block3_3_bn[0][0]']      \n",
      "                                                                                                  \n",
      " conv2_block3_out (Activation)  (None, 56, 56, 256)  0           ['conv2_block3_add[0][0]']       \n",
      "                                                                                                  \n",
      " conv3_block1_1_conv (Conv2D)   (None, 28, 28, 128)  32896       ['conv2_block3_out[0][0]']       \n",
      "                                                                                                  \n",
      " conv3_block1_1_bn (BatchNormal  (None, 28, 28, 128)  512        ['conv3_block1_1_conv[0][0]']    \n",
      " ization)                                                                                         \n",
      "                                                                                                  \n",
      " conv3_block1_1_relu (Activatio  (None, 28, 28, 128)  0          ['conv3_block1_1_bn[0][0]']      \n",
      " n)                                                                                               \n",
      "                                                                                                  \n",
      " conv3_block1_2_conv (Conv2D)   (None, 28, 28, 128)  147584      ['conv3_block1_1_relu[0][0]']    \n",
      "                                                                                                  \n",
      " conv3_block1_2_bn (BatchNormal  (None, 28, 28, 128)  512        ['conv3_block1_2_conv[0][0]']    \n",
      " ization)                                                                                         \n",
      "                                                                                                  \n",
      " conv3_block1_2_relu (Activatio  (None, 28, 28, 128)  0          ['conv3_block1_2_bn[0][0]']      \n",
      " n)                                                                                               \n",
      "                                                                                                  \n",
      " conv3_block1_0_conv (Conv2D)   (None, 28, 28, 512)  131584      ['conv2_block3_out[0][0]']       \n",
      "                                                                                                  \n",
      " conv3_block1_3_conv (Conv2D)   (None, 28, 28, 512)  66048       ['conv3_block1_2_relu[0][0]']    \n",
      "                                                                                                  \n",
      " conv3_block1_0_bn (BatchNormal  (None, 28, 28, 512)  2048       ['conv3_block1_0_conv[0][0]']    \n",
      " ization)                                                                                         \n",
      "                                                                                                  \n",
      " conv3_block1_3_bn (BatchNormal  (None, 28, 28, 512)  2048       ['conv3_block1_3_conv[0][0]']    \n",
      " ization)                                                                                         \n",
      "                                                                                                  \n",
      " conv3_block1_add (Add)         (None, 28, 28, 512)  0           ['conv3_block1_0_bn[0][0]',      \n",
      "                                                                  'conv3_block1_3_bn[0][0]']      \n",
      "                                                                                                  \n",
      " conv3_block1_out (Activation)  (None, 28, 28, 512)  0           ['conv3_block1_add[0][0]']       \n",
      "                                                                                                  \n",
      " conv3_block2_1_conv (Conv2D)   (None, 28, 28, 128)  65664       ['conv3_block1_out[0][0]']       \n",
      "                                                                                                  \n",
      " conv3_block2_1_bn (BatchNormal  (None, 28, 28, 128)  512        ['conv3_block2_1_conv[0][0]']    \n",
      " ization)                                                                                         \n",
      "                                                                                                  \n",
      " conv3_block2_1_relu (Activatio  (None, 28, 28, 128)  0          ['conv3_block2_1_bn[0][0]']      \n",
      " n)                                                                                               \n",
      "                                                                                                  \n",
      " conv3_block2_2_conv (Conv2D)   (None, 28, 28, 128)  147584      ['conv3_block2_1_relu[0][0]']    \n",
      "                                                                                                  \n",
      " conv3_block2_2_bn (BatchNormal  (None, 28, 28, 128)  512        ['conv3_block2_2_conv[0][0]']    \n",
      " ization)                                                                                         \n",
      "                                                                                                  \n",
      " conv3_block2_2_relu (Activatio  (None, 28, 28, 128)  0          ['conv3_block2_2_bn[0][0]']      \n",
      " n)                                                                                               \n",
      "                                                                                                  \n",
      " conv3_block2_3_conv (Conv2D)   (None, 28, 28, 512)  66048       ['conv3_block2_2_relu[0][0]']    \n",
      "                                                                                                  \n",
      " conv3_block2_3_bn (BatchNormal  (None, 28, 28, 512)  2048       ['conv3_block2_3_conv[0][0]']    \n",
      " ization)                                                                                         \n",
      "                                                                                                  \n",
      " conv3_block2_add (Add)         (None, 28, 28, 512)  0           ['conv3_block1_out[0][0]',       \n",
      "                                                                  'conv3_block2_3_bn[0][0]']      \n",
      "                                                                                                  \n",
      " conv3_block2_out (Activation)  (None, 28, 28, 512)  0           ['conv3_block2_add[0][0]']       \n",
      "                                                                                                  \n",
      " conv3_block3_1_conv (Conv2D)   (None, 28, 28, 128)  65664       ['conv3_block2_out[0][0]']       \n",
      "                                                                                                  \n",
      " conv3_block3_1_bn (BatchNormal  (None, 28, 28, 128)  512        ['conv3_block3_1_conv[0][0]']    \n",
      " ization)                                                                                         \n"
     ]
    },
    {
     "name": "stdout",
     "output_type": "stream",
     "text": [
      "                                                                                                  \n",
      " conv3_block3_1_relu (Activatio  (None, 28, 28, 128)  0          ['conv3_block3_1_bn[0][0]']      \n",
      " n)                                                                                               \n",
      "                                                                                                  \n",
      " conv3_block3_2_conv (Conv2D)   (None, 28, 28, 128)  147584      ['conv3_block3_1_relu[0][0]']    \n",
      "                                                                                                  \n",
      " conv3_block3_2_bn (BatchNormal  (None, 28, 28, 128)  512        ['conv3_block3_2_conv[0][0]']    \n",
      " ization)                                                                                         \n",
      "                                                                                                  \n",
      " conv3_block3_2_relu (Activatio  (None, 28, 28, 128)  0          ['conv3_block3_2_bn[0][0]']      \n",
      " n)                                                                                               \n",
      "                                                                                                  \n",
      " conv3_block3_3_conv (Conv2D)   (None, 28, 28, 512)  66048       ['conv3_block3_2_relu[0][0]']    \n",
      "                                                                                                  \n",
      " conv3_block3_3_bn (BatchNormal  (None, 28, 28, 512)  2048       ['conv3_block3_3_conv[0][0]']    \n",
      " ization)                                                                                         \n",
      "                                                                                                  \n",
      " conv3_block3_add (Add)         (None, 28, 28, 512)  0           ['conv3_block2_out[0][0]',       \n",
      "                                                                  'conv3_block3_3_bn[0][0]']      \n",
      "                                                                                                  \n",
      " conv3_block3_out (Activation)  (None, 28, 28, 512)  0           ['conv3_block3_add[0][0]']       \n",
      "                                                                                                  \n",
      " conv3_block4_1_conv (Conv2D)   (None, 28, 28, 128)  65664       ['conv3_block3_out[0][0]']       \n",
      "                                                                                                  \n",
      " conv3_block4_1_bn (BatchNormal  (None, 28, 28, 128)  512        ['conv3_block4_1_conv[0][0]']    \n",
      " ization)                                                                                         \n",
      "                                                                                                  \n",
      " conv3_block4_1_relu (Activatio  (None, 28, 28, 128)  0          ['conv3_block4_1_bn[0][0]']      \n",
      " n)                                                                                               \n",
      "                                                                                                  \n",
      " conv3_block4_2_conv (Conv2D)   (None, 28, 28, 128)  147584      ['conv3_block4_1_relu[0][0]']    \n",
      "                                                                                                  \n",
      " conv3_block4_2_bn (BatchNormal  (None, 28, 28, 128)  512        ['conv3_block4_2_conv[0][0]']    \n",
      " ization)                                                                                         \n",
      "                                                                                                  \n",
      " conv3_block4_2_relu (Activatio  (None, 28, 28, 128)  0          ['conv3_block4_2_bn[0][0]']      \n",
      " n)                                                                                               \n",
      "                                                                                                  \n",
      " conv3_block4_3_conv (Conv2D)   (None, 28, 28, 512)  66048       ['conv3_block4_2_relu[0][0]']    \n",
      "                                                                                                  \n",
      " conv3_block4_3_bn (BatchNormal  (None, 28, 28, 512)  2048       ['conv3_block4_3_conv[0][0]']    \n",
      " ization)                                                                                         \n",
      "                                                                                                  \n",
      " conv3_block4_add (Add)         (None, 28, 28, 512)  0           ['conv3_block3_out[0][0]',       \n",
      "                                                                  'conv3_block4_3_bn[0][0]']      \n",
      "                                                                                                  \n",
      " conv3_block4_out (Activation)  (None, 28, 28, 512)  0           ['conv3_block4_add[0][0]']       \n",
      "                                                                                                  \n",
      " conv4_block1_1_conv (Conv2D)   (None, 14, 14, 256)  131328      ['conv3_block4_out[0][0]']       \n",
      "                                                                                                  \n",
      " conv4_block1_1_bn (BatchNormal  (None, 14, 14, 256)  1024       ['conv4_block1_1_conv[0][0]']    \n",
      " ization)                                                                                         \n",
      "                                                                                                  \n",
      " conv4_block1_1_relu (Activatio  (None, 14, 14, 256)  0          ['conv4_block1_1_bn[0][0]']      \n",
      " n)                                                                                               \n",
      "                                                                                                  \n",
      " conv4_block1_2_conv (Conv2D)   (None, 14, 14, 256)  590080      ['conv4_block1_1_relu[0][0]']    \n",
      "                                                                                                  \n",
      " conv4_block1_2_bn (BatchNormal  (None, 14, 14, 256)  1024       ['conv4_block1_2_conv[0][0]']    \n",
      " ization)                                                                                         \n",
      "                                                                                                  \n",
      " conv4_block1_2_relu (Activatio  (None, 14, 14, 256)  0          ['conv4_block1_2_bn[0][0]']      \n",
      " n)                                                                                               \n",
      "                                                                                                  \n",
      " conv4_block1_0_conv (Conv2D)   (None, 14, 14, 1024  525312      ['conv3_block4_out[0][0]']       \n",
      "                                )                                                                 \n",
      "                                                                                                  \n",
      " conv4_block1_3_conv (Conv2D)   (None, 14, 14, 1024  263168      ['conv4_block1_2_relu[0][0]']    \n",
      "                                )                                                                 \n",
      "                                                                                                  \n",
      " conv4_block1_0_bn (BatchNormal  (None, 14, 14, 1024  4096       ['conv4_block1_0_conv[0][0]']    \n",
      " ization)                       )                                                                 \n",
      "                                                                                                  \n",
      " conv4_block1_3_bn (BatchNormal  (None, 14, 14, 1024  4096       ['conv4_block1_3_conv[0][0]']    \n",
      " ization)                       )                                                                 \n",
      "                                                                                                  \n",
      " conv4_block1_add (Add)         (None, 14, 14, 1024  0           ['conv4_block1_0_bn[0][0]',      \n",
      "                                )                                 'conv4_block1_3_bn[0][0]']      \n",
      "                                                                                                  \n",
      " conv4_block1_out (Activation)  (None, 14, 14, 1024  0           ['conv4_block1_add[0][0]']       \n",
      "                                )                                                                 \n",
      "                                                                                                  \n",
      " conv4_block2_1_conv (Conv2D)   (None, 14, 14, 256)  262400      ['conv4_block1_out[0][0]']       \n"
     ]
    },
    {
     "name": "stdout",
     "output_type": "stream",
     "text": [
      "                                                                                                  \n",
      " conv4_block2_1_bn (BatchNormal  (None, 14, 14, 256)  1024       ['conv4_block2_1_conv[0][0]']    \n",
      " ization)                                                                                         \n",
      "                                                                                                  \n",
      " conv4_block2_1_relu (Activatio  (None, 14, 14, 256)  0          ['conv4_block2_1_bn[0][0]']      \n",
      " n)                                                                                               \n",
      "                                                                                                  \n",
      " conv4_block2_2_conv (Conv2D)   (None, 14, 14, 256)  590080      ['conv4_block2_1_relu[0][0]']    \n",
      "                                                                                                  \n",
      " conv4_block2_2_bn (BatchNormal  (None, 14, 14, 256)  1024       ['conv4_block2_2_conv[0][0]']    \n",
      " ization)                                                                                         \n",
      "                                                                                                  \n",
      " conv4_block2_2_relu (Activatio  (None, 14, 14, 256)  0          ['conv4_block2_2_bn[0][0]']      \n",
      " n)                                                                                               \n",
      "                                                                                                  \n",
      " conv4_block2_3_conv (Conv2D)   (None, 14, 14, 1024  263168      ['conv4_block2_2_relu[0][0]']    \n",
      "                                )                                                                 \n",
      "                                                                                                  \n",
      " conv4_block2_3_bn (BatchNormal  (None, 14, 14, 1024  4096       ['conv4_block2_3_conv[0][0]']    \n",
      " ization)                       )                                                                 \n",
      "                                                                                                  \n",
      " conv4_block2_add (Add)         (None, 14, 14, 1024  0           ['conv4_block1_out[0][0]',       \n",
      "                                )                                 'conv4_block2_3_bn[0][0]']      \n",
      "                                                                                                  \n",
      " conv4_block2_out (Activation)  (None, 14, 14, 1024  0           ['conv4_block2_add[0][0]']       \n",
      "                                )                                                                 \n",
      "                                                                                                  \n",
      " conv4_block3_1_conv (Conv2D)   (None, 14, 14, 256)  262400      ['conv4_block2_out[0][0]']       \n",
      "                                                                                                  \n",
      " conv4_block3_1_bn (BatchNormal  (None, 14, 14, 256)  1024       ['conv4_block3_1_conv[0][0]']    \n",
      " ization)                                                                                         \n",
      "                                                                                                  \n",
      " conv4_block3_1_relu (Activatio  (None, 14, 14, 256)  0          ['conv4_block3_1_bn[0][0]']      \n",
      " n)                                                                                               \n",
      "                                                                                                  \n",
      " conv4_block3_2_conv (Conv2D)   (None, 14, 14, 256)  590080      ['conv4_block3_1_relu[0][0]']    \n",
      "                                                                                                  \n",
      " conv4_block3_2_bn (BatchNormal  (None, 14, 14, 256)  1024       ['conv4_block3_2_conv[0][0]']    \n",
      " ization)                                                                                         \n",
      "                                                                                                  \n",
      " conv4_block3_2_relu (Activatio  (None, 14, 14, 256)  0          ['conv4_block3_2_bn[0][0]']      \n",
      " n)                                                                                               \n",
      "                                                                                                  \n",
      " conv4_block3_3_conv (Conv2D)   (None, 14, 14, 1024  263168      ['conv4_block3_2_relu[0][0]']    \n",
      "                                )                                                                 \n",
      "                                                                                                  \n",
      " conv4_block3_3_bn (BatchNormal  (None, 14, 14, 1024  4096       ['conv4_block3_3_conv[0][0]']    \n",
      " ization)                       )                                                                 \n",
      "                                                                                                  \n",
      " conv4_block3_add (Add)         (None, 14, 14, 1024  0           ['conv4_block2_out[0][0]',       \n",
      "                                )                                 'conv4_block3_3_bn[0][0]']      \n",
      "                                                                                                  \n",
      " conv4_block3_out (Activation)  (None, 14, 14, 1024  0           ['conv4_block3_add[0][0]']       \n",
      "                                )                                                                 \n",
      "                                                                                                  \n",
      " conv4_block4_1_conv (Conv2D)   (None, 14, 14, 256)  262400      ['conv4_block3_out[0][0]']       \n",
      "                                                                                                  \n",
      " conv4_block4_1_bn (BatchNormal  (None, 14, 14, 256)  1024       ['conv4_block4_1_conv[0][0]']    \n",
      " ization)                                                                                         \n",
      "                                                                                                  \n",
      " conv4_block4_1_relu (Activatio  (None, 14, 14, 256)  0          ['conv4_block4_1_bn[0][0]']      \n",
      " n)                                                                                               \n",
      "                                                                                                  \n",
      " conv4_block4_2_conv (Conv2D)   (None, 14, 14, 256)  590080      ['conv4_block4_1_relu[0][0]']    \n",
      "                                                                                                  \n",
      " conv4_block4_2_bn (BatchNormal  (None, 14, 14, 256)  1024       ['conv4_block4_2_conv[0][0]']    \n",
      " ization)                                                                                         \n",
      "                                                                                                  \n",
      " conv4_block4_2_relu (Activatio  (None, 14, 14, 256)  0          ['conv4_block4_2_bn[0][0]']      \n",
      " n)                                                                                               \n",
      "                                                                                                  \n",
      " conv4_block4_3_conv (Conv2D)   (None, 14, 14, 1024  263168      ['conv4_block4_2_relu[0][0]']    \n",
      "                                )                                                                 \n",
      "                                                                                                  \n",
      " conv4_block4_3_bn (BatchNormal  (None, 14, 14, 1024  4096       ['conv4_block4_3_conv[0][0]']    \n",
      " ization)                       )                                                                 \n",
      "                                                                                                  \n",
      " conv4_block4_add (Add)         (None, 14, 14, 1024  0           ['conv4_block3_out[0][0]',       \n",
      "                                )                                 'conv4_block4_3_bn[0][0]']      \n",
      "                                                                                                  \n",
      " conv4_block4_out (Activation)  (None, 14, 14, 1024  0           ['conv4_block4_add[0][0]']       \n",
      "                                )                                                                 \n",
      "                                                                                                  \n"
     ]
    },
    {
     "name": "stdout",
     "output_type": "stream",
     "text": [
      " conv4_block5_1_conv (Conv2D)   (None, 14, 14, 256)  262400      ['conv4_block4_out[0][0]']       \n",
      "                                                                                                  \n",
      " conv4_block5_1_bn (BatchNormal  (None, 14, 14, 256)  1024       ['conv4_block5_1_conv[0][0]']    \n",
      " ization)                                                                                         \n",
      "                                                                                                  \n",
      " conv4_block5_1_relu (Activatio  (None, 14, 14, 256)  0          ['conv4_block5_1_bn[0][0]']      \n",
      " n)                                                                                               \n",
      "                                                                                                  \n",
      " conv4_block5_2_conv (Conv2D)   (None, 14, 14, 256)  590080      ['conv4_block5_1_relu[0][0]']    \n",
      "                                                                                                  \n",
      " conv4_block5_2_bn (BatchNormal  (None, 14, 14, 256)  1024       ['conv4_block5_2_conv[0][0]']    \n",
      " ization)                                                                                         \n",
      "                                                                                                  \n",
      " conv4_block5_2_relu (Activatio  (None, 14, 14, 256)  0          ['conv4_block5_2_bn[0][0]']      \n",
      " n)                                                                                               \n",
      "                                                                                                  \n",
      " conv4_block5_3_conv (Conv2D)   (None, 14, 14, 1024  263168      ['conv4_block5_2_relu[0][0]']    \n",
      "                                )                                                                 \n",
      "                                                                                                  \n",
      " conv4_block5_3_bn (BatchNormal  (None, 14, 14, 1024  4096       ['conv4_block5_3_conv[0][0]']    \n",
      " ization)                       )                                                                 \n",
      "                                                                                                  \n",
      " conv4_block5_add (Add)         (None, 14, 14, 1024  0           ['conv4_block4_out[0][0]',       \n",
      "                                )                                 'conv4_block5_3_bn[0][0]']      \n",
      "                                                                                                  \n",
      " conv4_block5_out (Activation)  (None, 14, 14, 1024  0           ['conv4_block5_add[0][0]']       \n",
      "                                )                                                                 \n",
      "                                                                                                  \n",
      " conv4_block6_1_conv (Conv2D)   (None, 14, 14, 256)  262400      ['conv4_block5_out[0][0]']       \n",
      "                                                                                                  \n",
      " conv4_block6_1_bn (BatchNormal  (None, 14, 14, 256)  1024       ['conv4_block6_1_conv[0][0]']    \n",
      " ization)                                                                                         \n",
      "                                                                                                  \n",
      " conv4_block6_1_relu (Activatio  (None, 14, 14, 256)  0          ['conv4_block6_1_bn[0][0]']      \n",
      " n)                                                                                               \n",
      "                                                                                                  \n",
      " conv4_block6_2_conv (Conv2D)   (None, 14, 14, 256)  590080      ['conv4_block6_1_relu[0][0]']    \n",
      "                                                                                                  \n",
      " conv4_block6_2_bn (BatchNormal  (None, 14, 14, 256)  1024       ['conv4_block6_2_conv[0][0]']    \n",
      " ization)                                                                                         \n",
      "                                                                                                  \n",
      " conv4_block6_2_relu (Activatio  (None, 14, 14, 256)  0          ['conv4_block6_2_bn[0][0]']      \n",
      " n)                                                                                               \n",
      "                                                                                                  \n",
      " conv4_block6_3_conv (Conv2D)   (None, 14, 14, 1024  263168      ['conv4_block6_2_relu[0][0]']    \n",
      "                                )                                                                 \n",
      "                                                                                                  \n",
      " conv4_block6_3_bn (BatchNormal  (None, 14, 14, 1024  4096       ['conv4_block6_3_conv[0][0]']    \n",
      " ization)                       )                                                                 \n",
      "                                                                                                  \n",
      " conv4_block6_add (Add)         (None, 14, 14, 1024  0           ['conv4_block5_out[0][0]',       \n",
      "                                )                                 'conv4_block6_3_bn[0][0]']      \n",
      "                                                                                                  \n",
      " conv4_block6_out (Activation)  (None, 14, 14, 1024  0           ['conv4_block6_add[0][0]']       \n",
      "                                )                                                                 \n",
      "                                                                                                  \n",
      " conv5_block1_1_conv (Conv2D)   (None, 7, 7, 512)    524800      ['conv4_block6_out[0][0]']       \n",
      "                                                                                                  \n",
      " conv5_block1_1_bn (BatchNormal  (None, 7, 7, 512)   2048        ['conv5_block1_1_conv[0][0]']    \n",
      " ization)                                                                                         \n",
      "                                                                                                  \n",
      " conv5_block1_1_relu (Activatio  (None, 7, 7, 512)   0           ['conv5_block1_1_bn[0][0]']      \n",
      " n)                                                                                               \n",
      "                                                                                                  \n",
      " conv5_block1_2_conv (Conv2D)   (None, 7, 7, 512)    2359808     ['conv5_block1_1_relu[0][0]']    \n",
      "                                                                                                  \n",
      " conv5_block1_2_bn (BatchNormal  (None, 7, 7, 512)   2048        ['conv5_block1_2_conv[0][0]']    \n",
      " ization)                                                                                         \n",
      "                                                                                                  \n",
      " conv5_block1_2_relu (Activatio  (None, 7, 7, 512)   0           ['conv5_block1_2_bn[0][0]']      \n",
      " n)                                                                                               \n",
      "                                                                                                  \n",
      " conv5_block1_0_conv (Conv2D)   (None, 7, 7, 2048)   2099200     ['conv4_block6_out[0][0]']       \n",
      "                                                                                                  \n",
      " conv5_block1_3_conv (Conv2D)   (None, 7, 7, 2048)   1050624     ['conv5_block1_2_relu[0][0]']    \n",
      "                                                                                                  \n",
      " conv5_block1_0_bn (BatchNormal  (None, 7, 7, 2048)  8192        ['conv5_block1_0_conv[0][0]']    \n",
      " ization)                                                                                         \n",
      "                                                                                                  \n",
      " conv5_block1_3_bn (BatchNormal  (None, 7, 7, 2048)  8192        ['conv5_block1_3_conv[0][0]']    \n",
      " ization)                                                                                         \n",
      "                                                                                                  \n",
      " conv5_block1_add (Add)         (None, 7, 7, 2048)   0           ['conv5_block1_0_bn[0][0]',      \n"
     ]
    },
    {
     "name": "stdout",
     "output_type": "stream",
     "text": [
      "                                                                  'conv5_block1_3_bn[0][0]']      \n",
      "                                                                                                  \n",
      " conv5_block1_out (Activation)  (None, 7, 7, 2048)   0           ['conv5_block1_add[0][0]']       \n",
      "                                                                                                  \n",
      " conv5_block2_1_conv (Conv2D)   (None, 7, 7, 512)    1049088     ['conv5_block1_out[0][0]']       \n",
      "                                                                                                  \n",
      " conv5_block2_1_bn (BatchNormal  (None, 7, 7, 512)   2048        ['conv5_block2_1_conv[0][0]']    \n",
      " ization)                                                                                         \n",
      "                                                                                                  \n",
      " conv5_block2_1_relu (Activatio  (None, 7, 7, 512)   0           ['conv5_block2_1_bn[0][0]']      \n",
      " n)                                                                                               \n",
      "                                                                                                  \n",
      " conv5_block2_2_conv (Conv2D)   (None, 7, 7, 512)    2359808     ['conv5_block2_1_relu[0][0]']    \n",
      "                                                                                                  \n",
      " conv5_block2_2_bn (BatchNormal  (None, 7, 7, 512)   2048        ['conv5_block2_2_conv[0][0]']    \n",
      " ization)                                                                                         \n",
      "                                                                                                  \n",
      " conv5_block2_2_relu (Activatio  (None, 7, 7, 512)   0           ['conv5_block2_2_bn[0][0]']      \n",
      " n)                                                                                               \n",
      "                                                                                                  \n",
      " conv5_block2_3_conv (Conv2D)   (None, 7, 7, 2048)   1050624     ['conv5_block2_2_relu[0][0]']    \n",
      "                                                                                                  \n",
      " conv5_block2_3_bn (BatchNormal  (None, 7, 7, 2048)  8192        ['conv5_block2_3_conv[0][0]']    \n",
      " ization)                                                                                         \n",
      "                                                                                                  \n",
      " conv5_block2_add (Add)         (None, 7, 7, 2048)   0           ['conv5_block1_out[0][0]',       \n",
      "                                                                  'conv5_block2_3_bn[0][0]']      \n",
      "                                                                                                  \n",
      " conv5_block2_out (Activation)  (None, 7, 7, 2048)   0           ['conv5_block2_add[0][0]']       \n",
      "                                                                                                  \n",
      " conv5_block3_1_conv (Conv2D)   (None, 7, 7, 512)    1049088     ['conv5_block2_out[0][0]']       \n",
      "                                                                                                  \n",
      " conv5_block3_1_bn (BatchNormal  (None, 7, 7, 512)   2048        ['conv5_block3_1_conv[0][0]']    \n",
      " ization)                                                                                         \n",
      "                                                                                                  \n",
      " conv5_block3_1_relu (Activatio  (None, 7, 7, 512)   0           ['conv5_block3_1_bn[0][0]']      \n",
      " n)                                                                                               \n",
      "                                                                                                  \n",
      " conv5_block3_2_conv (Conv2D)   (None, 7, 7, 512)    2359808     ['conv5_block3_1_relu[0][0]']    \n",
      "                                                                                                  \n",
      " conv5_block3_2_bn (BatchNormal  (None, 7, 7, 512)   2048        ['conv5_block3_2_conv[0][0]']    \n",
      " ization)                                                                                         \n",
      "                                                                                                  \n",
      " conv5_block3_2_relu (Activatio  (None, 7, 7, 512)   0           ['conv5_block3_2_bn[0][0]']      \n",
      " n)                                                                                               \n",
      "                                                                                                  \n",
      " conv5_block3_3_conv (Conv2D)   (None, 7, 7, 2048)   1050624     ['conv5_block3_2_relu[0][0]']    \n",
      "                                                                                                  \n",
      " conv5_block3_3_bn (BatchNormal  (None, 7, 7, 2048)  8192        ['conv5_block3_3_conv[0][0]']    \n",
      " ization)                                                                                         \n",
      "                                                                                                  \n",
      " conv5_block3_add (Add)         (None, 7, 7, 2048)   0           ['conv5_block2_out[0][0]',       \n",
      "                                                                  'conv5_block3_3_bn[0][0]']      \n",
      "                                                                                                  \n",
      " conv5_block3_out (Activation)  (None, 7, 7, 2048)   0           ['conv5_block3_add[0][0]']       \n",
      "                                                                                                  \n",
      " avg_pool (GlobalAveragePooling  (None, 2048)        0           ['conv5_block3_out[0][0]']       \n",
      " 2D)                                                                                              \n",
      "                                                                                                  \n",
      " predictions (Dense)            (None, 1000)         2049000     ['avg_pool[0][0]']               \n",
      "                                                                                                  \n",
      "==================================================================================================\n",
      "Total params: 25,636,712\n",
      "Trainable params: 25,583,592\n",
      "Non-trainable params: 53,120\n",
      "__________________________________________________________________________________________________\n"
     ]
    }
   ],
   "source": [
    "from tensorflow.keras.models import model_from_json\n",
    "with open('model/model.json','r') as f:\n",
    "    json_str2 = f.read()\n",
    "model2 = model_from_json(json_str2)\n",
    "model2.summary()"
   ]
  },
  {
   "cell_type": "code",
   "execution_count": 21,
   "id": "e6ab3662",
   "metadata": {
    "ExecuteTime": {
     "end_time": "2024-12-24T03:50:04.562146Z",
     "start_time": "2024-12-24T03:50:04.523250Z"
    }
   },
   "outputs": [
    {
     "name": "stdout",
     "output_type": "stream",
     "text": [
      "방법 1(모두 넘파이) : (224, 224, 3) (224, 224, 3) (577, 700, 3)\n",
      "방법 2 (Image 타입으로 읽어 넘파이로 변환): (224, 224, 3) <class 'PIL.Image.Image'>\n",
      "방법3(모두 넘파이): (224, 224, 3) (577, 700, 3)\n",
      "방법 4: (224, 224, 3)\n"
     ]
    }
   ],
   "source": [
    "# 이미지를 예측하기 위해서 이미지 파일을 넘파이 배열로 가져오는 방법 4가지\n",
    "# 방법1\n",
    "import cv2\n",
    "img_cv =  cv2.imread('data/sample.jpg',cv2.IMREAD_COLOR)# 넘파이 배열\n",
    "img_cv2 = cv2.resize(img_cv,dsize=(224,224), interpolation=cv2.INTER_NEAREST)\n",
    "img_data = cv2.cvtColor(img_cv2,cv2.COLOR_BGR2RGB)\n",
    "print('방법 1(모두 넘파이) :',img_data.shape, img_cv2.shape, img_cv.shape)\n",
    "\n",
    "from tensorflow.keras.preprocessing import image\n",
    "img = image.load_img('data/sample.jpg', target_size=(224,224))\n",
    "img_data = image.img_to_array(img)\n",
    "print('방법 2 (Image 타입으로 읽어 넘파이로 변환):', img_data.shape,type(img))\n",
    "\n",
    "from matplotlib import pyplot as plt\n",
    "import cv2\n",
    "img_plt = plt.imread('data/sample.jpg')\n",
    "img_data = cv2.resize(img_plt,dsize=(224,224),interpolation=cv2.INTER_NEAREST)\n",
    "print('방법3(모두 넘파이):',img_data.shape,img_plt.shape)\n",
    "\n",
    "from PIL import Image # pip install pillow\n",
    "import numpy as np\n",
    "import cv2\n",
    "imageFile = Image.open('data/sample.jpg') # 이미지파일\n",
    "img_numpy = np.array(imageFile) # 넘파이로 변경 \n",
    "img_data = cv2.resize(img_numpy,dsize=(224,224),interpolation=cv2.INTER_NEAREST)\n",
    "print('방법 4:',img_data.shape)"
   ]
  },
  {
   "cell_type": "code",
   "execution_count": 22,
   "id": "365cf592",
   "metadata": {
    "ExecuteTime": {
     "end_time": "2024-12-24T03:54:10.466207Z",
     "start_time": "2024-12-24T03:54:10.459213Z"
    }
   },
   "outputs": [
    {
     "name": "stdout",
     "output_type": "stream",
     "text": [
      "방법1: (1, 224, 224, 3)\n",
      "방법2: (1, 224, 224, 3)\n",
      "방법3: (1, 224, 224, 3)\n",
      "방법4: (1, 224, 224, 3)\n"
     ]
    }
   ],
   "source": [
    "# 모델 사용하기\n",
    "# 모델 예측시 매개변수로 들어갈 데이터의 축추가\n",
    "x = np.expand_dims(img_data,axis=0)\n",
    "print('방법1:',x.shape)\n",
    "# 방법 2 \n",
    "x = img_data[np.newaxis,...]\n",
    "print('방법2:',x.shape)\n",
    "x = img_data[np.newaxis,:]\n",
    "print('방법3:',x.shape)\n",
    "x = img_data.reshape(-1,224,224,3)\n",
    "print('방법4:',x.shape)"
   ]
  },
  {
   "cell_type": "code",
   "execution_count": 25,
   "id": "423ab8e2",
   "metadata": {
    "ExecuteTime": {
     "end_time": "2024-12-24T04:03:52.523580Z",
     "start_time": "2024-12-24T04:03:52.402884Z"
    }
   },
   "outputs": [
    {
     "name": "stdout",
     "output_type": "stream",
     "text": [
      "1/1 [==============================] - 0s 33ms/step\n"
     ]
    },
    {
     "data": {
      "text/plain": [
       "array([[1.06626185e-05, 4.47209095e-06, 1.34225647e-05, 3.34985525e-05,\n",
       "        2.76744322e-05, 3.55630664e-06, 2.06901700e-06, 4.54466572e-05,\n",
       "        1.71644151e-05, 1.77759375e-05, 1.79275418e-07, 1.93920505e-06,\n",
       "        1.84320606e-06, 1.26094699e-06, 4.18905483e-06, 5.55955182e-07,\n",
       "        2.29042234e-06, 7.38006293e-06, 2.35500647e-06, 1.28336308e-06,\n",
       "        3.55830963e-07, 5.62097057e-06, 1.89223420e-06, 8.40151770e-05,\n",
       "        1.15284238e-05, 2.71165868e-06, 1.29340151e-06, 2.13626913e-06,\n",
       "        2.75236039e-06, 1.36855906e-05, 5.10379732e-06, 9.55774522e-06,\n",
       "        2.18370496e-06, 2.25802360e-05, 8.96922302e-06, 6.15826650e-07,\n",
       "        2.84289445e-06, 1.40034426e-05, 3.60089462e-06, 8.34738421e-06,\n",
       "        3.29241652e-06, 3.25504584e-06, 5.96984682e-06, 3.94204744e-06,\n",
       "        5.15119063e-06, 6.11402947e-06, 1.46722086e-05, 7.00475721e-06,\n",
       "        6.28607013e-05, 1.77631512e-06, 6.50014954e-06, 8.29010605e-06,\n",
       "        1.86063680e-05, 1.61253433e-06, 1.98433463e-06, 1.59932115e-05,\n",
       "        1.83576969e-06, 1.67065855e-06, 3.61143884e-06, 7.03419846e-06,\n",
       "        2.59199783e-06, 3.25718684e-05, 5.01304476e-06, 2.26165594e-06,\n",
       "        6.44813827e-06, 1.60490872e-05, 1.89122579e-06, 2.02515571e-06,\n",
       "        1.32882622e-06, 5.79412517e-06, 2.72281454e-06, 1.08850591e-05,\n",
       "        5.60575108e-06, 9.76179945e-06, 2.38032189e-05, 4.24470772e-06,\n",
       "        7.47640570e-06, 3.26412119e-05, 1.83499178e-05, 5.03988122e-05,\n",
       "        4.25351516e-07, 1.29130990e-06, 1.59761748e-06, 9.59858994e-07,\n",
       "        7.86971359e-05, 7.43591681e-06, 2.59860849e-06, 2.09442951e-05,\n",
       "        3.35643472e-06, 1.17801901e-05, 8.82908262e-06, 4.12285289e-07,\n",
       "        1.78820108e-06, 3.44902469e-06, 1.84696796e-06, 4.57164288e-06,\n",
       "        6.72825195e-07, 2.35803168e-06, 1.85427382e-07, 3.64511652e-06,\n",
       "        1.79548842e-05, 2.34847903e-05, 8.46397961e-06, 1.20293555e-06,\n",
       "        3.04208061e-05, 4.86760291e-06, 3.67732650e-06, 4.78571383e-05,\n",
       "        4.41376369e-06, 2.08099732e-06, 4.23788634e-07, 8.89982311e-06,\n",
       "        1.19106535e-05, 1.14034738e-05, 1.21910025e-05, 3.75757518e-05,\n",
       "        9.01052545e-07, 1.04922256e-05, 7.13430791e-06, 5.48534899e-06,\n",
       "        3.36588964e-05, 1.49144296e-06, 2.74980493e-06, 8.31433317e-06,\n",
       "        5.22939990e-05, 4.17812271e-06, 3.14631579e-05, 4.58691056e-06,\n",
       "        3.86935909e-07, 3.14413483e-05, 1.85483805e-05, 3.95270126e-06,\n",
       "        2.56891667e-06, 4.14089243e-07, 4.25515236e-06, 2.75762022e-06,\n",
       "        3.87444925e-06, 6.94136270e-06, 7.11951770e-06, 1.97558279e-06,\n",
       "        3.46499945e-07, 1.87204023e-07, 5.24372695e-07, 2.03494415e-06,\n",
       "        9.82407255e-06, 2.53996404e-06, 1.57513878e-05, 4.61471018e-06,\n",
       "        5.69219139e-07, 1.36656236e-05, 3.72881163e-06, 7.55918853e-04,\n",
       "        6.45387554e-05, 1.19471777e-04, 1.79609979e-05, 2.38585038e-04,\n",
       "        5.27371230e-05, 3.53475953e-05, 2.73606653e-04, 1.26523124e-02,\n",
       "        1.12977775e-03, 1.09661378e-04, 6.35635108e-03, 2.73253047e-03,\n",
       "        8.95436853e-03, 2.90507381e-03, 7.03270361e-02, 2.84013897e-02,\n",
       "        1.35109378e-02, 2.11119861e-03, 5.00050606e-03, 2.89977179e-04,\n",
       "        5.91026386e-04, 1.36558264e-02, 2.73537799e-03, 6.98152871e-04,\n",
       "        9.14557558e-03, 8.58333253e-04, 5.35022430e-02, 2.33805296e-03,\n",
       "        7.19987368e-03, 4.32582991e-03, 2.77653872e-03, 2.91143614e-03,\n",
       "        8.35137849e-04, 1.89686520e-03, 1.55157195e-05, 1.43777303e-04,\n",
       "        1.39672728e-03, 2.45581358e-03, 1.61329590e-04, 4.01530322e-03,\n",
       "        3.25366796e-04, 2.17184439e-04, 3.20428917e-05, 1.27362565e-03,\n",
       "        5.51368436e-03, 3.37294750e-02, 2.24638218e-03, 1.39496944e-04,\n",
       "        2.80297478e-03, 1.67743105e-03, 2.14430620e-03, 3.12582888e-05,\n",
       "        4.84610646e-04, 2.28977087e-03, 4.04579844e-03, 5.40395221e-03,\n",
       "        1.15230285e-01, 1.06657729e-01, 6.93231355e-03, 1.70704350e-03,\n",
       "        9.46316682e-03, 1.46524154e-03, 8.72045872e-04, 2.49260128e-03,\n",
       "        3.37537058e-04, 2.00220718e-04, 1.78162809e-05, 1.53278888e-04,\n",
       "        1.18662487e-04, 1.43655459e-04, 3.95419486e-02, 6.42807398e-04,\n",
       "        2.01899253e-04, 2.64788512e-03, 1.30984525e-04, 4.91408492e-03,\n",
       "        4.00026562e-04, 6.40830665e-04, 1.37782437e-04, 1.40015400e-04,\n",
       "        4.82229458e-04, 4.34550107e-04, 9.07946378e-03, 1.73738261e-03,\n",
       "        6.38052002e-02, 1.11187494e-03, 7.82010052e-03, 4.71503590e-04,\n",
       "        6.14986231e-04, 4.61016723e-04, 1.12391077e-01, 1.61019322e-02,\n",
       "        3.62089858e-03, 1.82613308e-04, 3.11230402e-02, 3.92153207e-03,\n",
       "        2.99426494e-03, 5.73863392e-04, 2.87038833e-03, 2.01485623e-02,\n",
       "        1.52213237e-04, 1.43953133e-03, 9.91836283e-03, 2.27888901e-04,\n",
       "        2.05556280e-03, 2.12489697e-03, 2.34329309e-05, 2.66723000e-05,\n",
       "        2.17219233e-04, 5.41897243e-05, 1.23887113e-03, 1.09128371e-06,\n",
       "        2.45610931e-06, 4.66951751e-04, 5.36859618e-04, 2.62860227e-02,\n",
       "        2.39335262e-04, 1.01204932e-04, 4.75927984e-04, 7.58691458e-05,\n",
       "        2.13201754e-04, 2.89461203e-03, 1.75922651e-05, 3.75179588e-05,\n",
       "        5.71350211e-06, 5.27127838e-07, 1.96696669e-06, 8.40547546e-06,\n",
       "        2.97082738e-06, 2.07815629e-05, 2.90888693e-05, 2.29683465e-07,\n",
       "        2.28127865e-05, 3.24201683e-05, 3.61132857e-06, 3.87760247e-06,\n",
       "        4.34458934e-06, 3.58727675e-06, 4.09263566e-06, 6.65538828e-05,\n",
       "        2.59661811e-05, 1.28015017e-05, 4.96065468e-06, 1.28855436e-06,\n",
       "        1.13245860e-05, 1.39482961e-06, 2.23946131e-06, 3.30136645e-05,\n",
       "        3.31372348e-06, 2.35725474e-05, 2.91122478e-06, 7.18731462e-06,\n",
       "        2.65109120e-05, 9.90678200e-06, 3.11407603e-05, 1.81246887e-05,\n",
       "        5.64497304e-06, 8.89988223e-06, 1.64277990e-05, 1.78048242e-04,\n",
       "        1.32769701e-05, 1.04532937e-05, 2.88142019e-05, 1.01309752e-05,\n",
       "        8.17675573e-06, 4.53001412e-05, 2.47857156e-06, 5.16663431e-06,\n",
       "        1.17565583e-06, 2.69247653e-06, 1.24535825e-06, 2.39465567e-06,\n",
       "        2.12484815e-06, 3.95797997e-07, 2.25479903e-06, 1.11212838e-04,\n",
       "        1.49724247e-05, 7.66895937e-06, 5.34135279e-06, 5.23424678e-05,\n",
       "        1.28455815e-06, 1.45369597e-06, 2.45120032e-06, 2.53319428e-07,\n",
       "        2.13886707e-07, 9.29957366e-07, 2.57089710e-06, 5.27896103e-04,\n",
       "        6.29303031e-05, 1.28557367e-05, 2.14189731e-06, 1.43932793e-05,\n",
       "        5.09990514e-06, 7.06595747e-05, 1.08467593e-05, 4.34355343e-06,\n",
       "        8.18623288e-04, 5.30383877e-05, 5.48285971e-06, 2.76136507e-06,\n",
       "        2.04916432e-06, 2.79714768e-05, 1.87445679e-04, 3.37148558e-05,\n",
       "        5.33521325e-06, 8.78127594e-06, 9.75238163e-06, 7.36742641e-06,\n",
       "        2.29409079e-06, 4.67533664e-06, 3.81034215e-06, 1.75725454e-05,\n",
       "        4.61469290e-06, 1.18285061e-05, 1.29412274e-05, 2.36249070e-06,\n",
       "        9.30408441e-06, 1.20110610e-06, 1.96182623e-06, 4.35035436e-05,\n",
       "        1.94664553e-05, 5.91244543e-06, 1.58616172e-06, 3.28083479e-06,\n",
       "        8.01220449e-06, 4.20538572e-06, 3.35998016e-06, 3.80960091e-06,\n",
       "        7.08023299e-06, 2.91640481e-06, 1.91152003e-06, 3.53146925e-06,\n",
       "        1.38135749e-06, 8.95101311e-06, 1.26361037e-05, 1.17879040e-06,\n",
       "        1.67072221e-06, 3.65303895e-05, 7.57308180e-06, 1.97708596e-05,\n",
       "        2.07446624e-06, 1.26025034e-05, 1.31460751e-04, 2.89520103e-05,\n",
       "        3.68600449e-05, 7.51361677e-06, 6.41979705e-06, 1.38796604e-05,\n",
       "        5.59870168e-05, 1.60474028e-05, 6.19190132e-06, 3.77117590e-06,\n",
       "        1.04507274e-06, 3.00513852e-06, 3.66179211e-06, 1.57839277e-05,\n",
       "        5.62345849e-06, 9.15864985e-06, 8.94459572e-06, 1.97314912e-05,\n",
       "        5.84439113e-05, 6.89089848e-06, 1.04313349e-05, 5.25689018e-07,\n",
       "        1.18790831e-05, 3.49521470e-05, 1.05534869e-04, 1.65386209e-05,\n",
       "        2.28170938e-05, 1.69652667e-05, 2.35901352e-05, 1.35176506e-05,\n",
       "        3.69821350e-06, 7.44470844e-06, 1.68622682e-06, 6.10550196e-05,\n",
       "        2.66914256e-04, 1.34139391e-05, 1.02786662e-05, 1.71021369e-04,\n",
       "        2.80759486e-05, 1.78766659e-05, 2.28944980e-03, 9.87506883e-06,\n",
       "        1.03507700e-05, 1.36743711e-05, 7.90458398e-06, 2.64940791e-05,\n",
       "        4.39414434e-05, 2.07121357e-05, 5.54444341e-06, 5.56981577e-05,\n",
       "        2.02074261e-05, 1.11510526e-04, 2.61056107e-06, 1.15734565e-05,\n",
       "        1.09842395e-05, 5.84079453e-06, 8.40240682e-06, 8.25710886e-05,\n",
       "        2.05766526e-04, 5.12651059e-06, 1.58213315e-05, 5.66730978e-06,\n",
       "        3.05274079e-05, 1.26149738e-04, 7.41589320e-05, 1.43115376e-05,\n",
       "        7.04817876e-06, 1.90231531e-05, 3.34377978e-06, 1.77946902e-04,\n",
       "        1.94591066e-05, 3.93426380e-05, 1.60344212e-06, 5.40938390e-06,\n",
       "        6.00883541e-05, 8.67555791e-05, 8.34297589e-06, 7.87027693e-06,\n",
       "        1.42316669e-04, 1.23274031e-05, 4.39228597e-06, 1.86007437e-05,\n",
       "        1.44972892e-05, 2.95082168e-06, 8.08523328e-06, 2.32377624e-05,\n",
       "        6.97049181e-05, 3.15190618e-06, 7.95398591e-06, 2.19932044e-05,\n",
       "        1.33064041e-05, 2.73990986e-06, 5.42357384e-06, 3.00895117e-05,\n",
       "        1.12488951e-05, 4.23787424e-05, 1.77437742e-05, 2.74364902e-06,\n",
       "        1.78249484e-05, 7.07796517e-06, 2.11894303e-06, 2.17729721e-05,\n",
       "        4.35007023e-05, 2.87895500e-06, 5.58523834e-06, 1.29036889e-05,\n",
       "        4.00491263e-06, 1.53812769e-04, 1.24237667e-05, 1.60464388e-05,\n",
       "        3.02825611e-05, 2.47502994e-05, 8.26366340e-06, 1.85051103e-05,\n",
       "        3.37360507e-05, 1.00119189e-06, 5.20685353e-06, 1.37043580e-05,\n",
       "        5.24035750e-05, 6.40151338e-05, 1.24516300e-05, 1.83568394e-04,\n",
       "        3.21645930e-05, 1.50943811e-06, 1.56325204e-05, 3.20553008e-05,\n",
       "        3.66177778e-06, 6.88224964e-06, 8.27691401e-05, 4.06456675e-04,\n",
       "        2.43897357e-05, 2.89982563e-06, 7.31382352e-06, 5.88762077e-06,\n",
       "        5.16341288e-06, 7.23718549e-05, 1.27005833e-05, 8.11762038e-06,\n",
       "        1.81660635e-05, 2.33150568e-05, 1.25244333e-04, 3.21171888e-06,\n",
       "        3.76620869e-06, 2.80521665e-04, 8.69209180e-06, 6.97388256e-04,\n",
       "        2.24886094e-06, 1.13352189e-05, 9.98400628e-06, 2.29979618e-04,\n",
       "        2.28386507e-05, 6.77198432e-06, 5.27405155e-06, 8.25589154e-07,\n",
       "        2.28502040e-06, 2.72033703e-05, 3.69239547e-06, 3.16793216e-06,\n",
       "        7.67381716e-05, 1.75416353e-05, 2.68622875e-06, 3.07188270e-06,\n",
       "        3.16224236e-06, 4.03492886e-05, 2.63355400e-06, 6.62547172e-05,\n",
       "        3.81030055e-04, 1.45227214e-05, 1.87845260e-04, 2.45477236e-06,\n",
       "        2.63714560e-06, 1.73283513e-06, 9.91975321e-06, 2.36675187e-05,\n",
       "        3.02554272e-05, 7.35145204e-06, 1.62858178e-05, 9.29259295e-06,\n",
       "        3.25555047e-05, 9.08079346e-06, 3.30157418e-05, 3.32797972e-05,\n",
       "        8.46252624e-06, 5.99447549e-06, 2.20577014e-04, 4.08863743e-05,\n",
       "        4.06702657e-06, 1.54833033e-05, 9.18930618e-06, 5.03720730e-06,\n",
       "        2.27996734e-05, 3.71215501e-05, 5.11199596e-06, 2.48868164e-05,\n",
       "        4.74096632e-05, 1.22075449e-04, 2.58968498e-06, 4.32637025e-05,\n",
       "        2.25367012e-06, 1.07616406e-05, 7.00163127e-06, 3.90630839e-06,\n",
       "        1.68030354e-04, 3.03170673e-05, 5.59477030e-06, 1.16833662e-05,\n",
       "        1.47263327e-05, 2.16873632e-05, 1.96140063e-05, 6.82330137e-05,\n",
       "        2.12322334e-06, 2.41837588e-05, 7.09911728e-06, 8.55331018e-06,\n",
       "        4.96153429e-04, 5.04281452e-05, 5.68958021e-05, 1.87604728e-05,\n",
       "        8.34399361e-06, 2.26703833e-05, 2.17754859e-05, 1.37640191e-05,\n",
       "        1.66264945e-04, 3.18952661e-05, 1.22732081e-05, 7.71479881e-06,\n",
       "        7.34812274e-05, 1.28599233e-04, 2.32068451e-05, 1.45236372e-05,\n",
       "        3.57951899e-06, 3.22968390e-06, 1.25756342e-05, 4.00180124e-06,\n",
       "        3.14475437e-06, 1.72293164e-06, 1.19057131e-05, 1.35088740e-05,\n",
       "        2.36610849e-05, 1.59841238e-05, 1.95817006e-06, 4.56162616e-06,\n",
       "        1.87939604e-05, 8.96882557e-05, 1.85772282e-04, 1.11840680e-04,\n",
       "        1.09231758e-06, 8.51019940e-05, 1.56814676e-05, 1.95106531e-05,\n",
       "        9.54214483e-05, 1.48520830e-05, 2.82018082e-05, 1.78021492e-05,\n",
       "        3.73044463e-06, 3.60818535e-06, 1.60736399e-05, 6.36312234e-06,\n",
       "        3.67810353e-05, 5.36228872e-05, 1.70821604e-05, 5.61487650e-05,\n",
       "        3.22487795e-05, 9.74822615e-06, 9.17204125e-06, 6.36127152e-06,\n",
       "        4.42068540e-06, 8.74843408e-06, 1.68577262e-05, 2.93057929e-06,\n",
       "        2.17152829e-05, 8.56308088e-06, 4.85913824e-06, 5.87303184e-05,\n",
       "        3.84973146e-06, 9.96936797e-05, 8.25932966e-06, 6.85230634e-06,\n",
       "        3.32887794e-05, 5.50741152e-06, 1.40269940e-05, 4.89327613e-06,\n",
       "        1.00603690e-02, 4.17699493e-06, 3.35364639e-05, 5.44651448e-06,\n",
       "        9.20846560e-06, 4.89677041e-05, 3.34482911e-06, 2.66842580e-05,\n",
       "        3.34696711e-06, 5.98351471e-06, 4.63092556e-06, 2.75730986e-06,\n",
       "        2.12943451e-06, 8.69384075e-06, 1.96049168e-05, 1.77656511e-05,\n",
       "        1.17311174e-05, 2.55613941e-05, 3.79290327e-06, 1.90350202e-05,\n",
       "        7.27852375e-06, 6.63274841e-05, 3.89603229e-05, 1.55116650e-05,\n",
       "        4.47904240e-05, 1.09582033e-04, 2.10583767e-05, 8.24696908e-05,\n",
       "        1.50263601e-04, 3.15439320e-06, 4.32347042e-05, 4.57057922e-06,\n",
       "        5.69343429e-05, 2.42149258e-06, 3.91530784e-06, 6.48042942e-06,\n",
       "        1.67181258e-06, 4.15334489e-06, 3.04347509e-06, 3.51873450e-06,\n",
       "        4.43013305e-05, 1.95551929e-05, 1.08172044e-05, 4.77139074e-05,\n",
       "        1.08085833e-05, 1.19697528e-04, 6.15346744e-06, 2.83452118e-06,\n",
       "        6.07116681e-06, 3.93155933e-05, 2.73676847e-06, 3.73636544e-06,\n",
       "        4.59968396e-05, 5.80384221e-06, 4.73955624e-05, 7.94017324e-05,\n",
       "        1.40720003e-05, 1.05156359e-05, 4.89644981e-06, 4.40601725e-05,\n",
       "        2.79112028e-05, 1.77369729e-05, 1.35838163e-05, 1.68388226e-06,\n",
       "        8.21196954e-06, 9.98696760e-06, 5.08636322e-06, 6.84879797e-06,\n",
       "        5.91401340e-06, 1.43679072e-05, 1.75736513e-05, 1.35765504e-05,\n",
       "        1.09718858e-05, 1.91072613e-05, 8.03998701e-05, 4.54513838e-06,\n",
       "        1.32830119e-05, 1.90357478e-05, 1.33137837e-06, 3.57512522e-06,\n",
       "        9.12664764e-05, 2.97448314e-05, 8.02117302e-06, 5.83897918e-06,\n",
       "        4.56556736e-05, 7.44594436e-05, 1.52019049e-06, 1.14884733e-05,\n",
       "        2.52410046e-05, 1.75051071e-04, 1.11775480e-05, 2.83711211e-06,\n",
       "        4.34721296e-05, 7.04474496e-06, 3.91713220e-05, 1.92244406e-05,\n",
       "        9.72819362e-06, 1.85978188e-05, 4.90693783e-05, 4.08974265e-05,\n",
       "        2.87749353e-05, 4.15720069e-06, 9.36377262e-07, 5.38531003e-06,\n",
       "        5.24920824e-06, 1.45333897e-05, 7.94463194e-05, 6.99974262e-05,\n",
       "        9.15213695e-06, 9.02639003e-04, 1.38396899e-05, 1.32205178e-05,\n",
       "        1.81026971e-05, 7.01738054e-06, 1.27057438e-05, 2.82702968e-04,\n",
       "        1.94959030e-05, 4.22681042e-05, 4.91059873e-05, 2.31116201e-06,\n",
       "        2.15702639e-05, 4.61378477e-05, 2.01488388e-06, 1.10194524e-04,\n",
       "        2.25236795e-06, 1.23242338e-04, 4.66263543e-07, 7.90609590e-07,\n",
       "        1.29191176e-05, 5.25578344e-03, 1.10724395e-05, 3.27883936e-06,\n",
       "        9.22807594e-05, 3.58077741e-05, 8.12156213e-06, 3.61319399e-05,\n",
       "        3.72197292e-06, 4.59838566e-06, 9.22076015e-06, 1.61539665e-05,\n",
       "        1.19488232e-05, 1.59425997e-06, 5.63529866e-05, 3.12758493e-05,\n",
       "        1.31958961e-06, 3.20925267e-07, 6.49056074e-06, 1.21667381e-05,\n",
       "        1.14860588e-04, 5.99609630e-05, 1.42305453e-05, 6.24610993e-06,\n",
       "        1.80822099e-04, 8.24441577e-06, 1.53137225e-05, 6.00560743e-05,\n",
       "        1.08988274e-06, 2.09712880e-06, 1.09740729e-04, 7.11899520e-06,\n",
       "        2.18504065e-04, 4.87709156e-04, 1.00718258e-04, 2.77746790e-06,\n",
       "        1.96044130e-05, 3.80087353e-04, 8.35139799e-05, 2.86098511e-05,\n",
       "        9.70751807e-06, 4.36731025e-05, 9.03055661e-06, 2.16224225e-06,\n",
       "        3.47897435e-06, 7.12767724e-06, 1.29898835e-05, 6.36430850e-05,\n",
       "        1.81154953e-03, 5.71621649e-06, 8.68755887e-06, 3.98878910e-06,\n",
       "        1.46712009e-05, 1.19261676e-05, 6.68432358e-06, 2.69425641e-06,\n",
       "        9.94938318e-07, 7.54234816e-06, 3.48560498e-05, 3.72921045e-06,\n",
       "        2.31553918e-06, 1.67553717e-05, 9.44233307e-06, 1.20761035e-06,\n",
       "        1.32646937e-05, 1.59961692e-05, 4.49097352e-05, 6.65076277e-06,\n",
       "        3.05998401e-05, 6.77460048e-06, 3.56983236e-07, 8.56096540e-06,\n",
       "        4.12286099e-05, 2.14993611e-06, 6.88528189e-06, 4.70256055e-05,\n",
       "        4.42548162e-06, 1.38967453e-05, 3.94375675e-05, 1.88211161e-05,\n",
       "        9.84249073e-06, 6.60347287e-05, 5.59878936e-06, 7.16221030e-06,\n",
       "        2.98323448e-06, 1.80422703e-05, 5.25587575e-06, 6.42613077e-06,\n",
       "        4.39898076e-06, 4.78249749e-05, 1.75467312e-06, 1.02081640e-05,\n",
       "        5.42032103e-06, 2.59210265e-05, 4.22382909e-05, 1.19811493e-05,\n",
       "        1.31148317e-05, 4.54693281e-06, 3.30150797e-05, 8.61484841e-06,\n",
       "        2.18452897e-05, 2.88049864e-06, 4.29779948e-06, 2.59196913e-05,\n",
       "        2.02349820e-05, 2.55674763e-06, 3.71339083e-05, 7.28689774e-05,\n",
       "        3.57442441e-05, 4.40754484e-05, 2.94720081e-07, 1.49748530e-05,\n",
       "        7.78102549e-05, 1.07185497e-05, 4.22469493e-05, 1.78272603e-05,\n",
       "        1.71068007e-06, 8.14026498e-05, 3.44489581e-06, 4.03936565e-06,\n",
       "        1.95503635e-05, 3.05225899e-06, 9.91799766e-07, 1.30810236e-06,\n",
       "        3.79612061e-06, 3.11627286e-04, 4.68966209e-06, 5.06138576e-06,\n",
       "        5.23236486e-06, 3.28070041e-06, 3.31355272e-06, 5.01628449e-07,\n",
       "        1.36225017e-05, 5.18605975e-06, 1.29328373e-05, 1.44536934e-05,\n",
       "        1.23006794e-06, 2.69863608e-06, 2.45074671e-06, 5.99246323e-06,\n",
       "        6.27560530e-06, 6.06269577e-06, 1.77699633e-06, 8.75060323e-06,\n",
       "        5.72367890e-06, 8.50501874e-06, 4.80357630e-06, 2.96596263e-05,\n",
       "        9.16656609e-06, 8.17326327e-06, 2.46938544e-05, 2.25576241e-06,\n",
       "        1.40087514e-06, 5.50293817e-06, 6.49449248e-06, 1.25606884e-05,\n",
       "        3.37799497e-06, 2.20055927e-06, 5.79405378e-06, 3.01661566e-06,\n",
       "        1.20851473e-06, 1.05702320e-05, 3.40794395e-05, 5.31934165e-06,\n",
       "        3.95233401e-05, 9.81861194e-06, 2.38810044e-05, 6.84928891e-05,\n",
       "        1.21437051e-05, 2.77931736e-06, 3.71000533e-06, 1.82265230e-03,\n",
       "        2.50338690e-06, 2.36841035e-04, 4.47075872e-05, 1.08952572e-05,\n",
       "        7.68681389e-07, 9.84411508e-06, 5.31542719e-05, 5.86049600e-06,\n",
       "        8.99255429e-06, 1.72041382e-05, 2.36842027e-07, 6.46565059e-06,\n",
       "        4.49350546e-06, 4.15192699e-05, 2.59343287e-05, 3.52998086e-06,\n",
       "        1.47621886e-05, 8.41160613e-07, 7.20237585e-06, 9.13798976e-06,\n",
       "        8.27314466e-07, 1.40494376e-06, 3.61578277e-05, 1.30679080e-04]],\n",
       "      dtype=float32)"
      ]
     },
     "execution_count": 25,
     "metadata": {},
     "output_type": "execute_result"
    }
   ],
   "source": [
    "pred = model.predict(x)\n",
    "pred"
   ]
  },
  {
   "cell_type": "code",
   "execution_count": 26,
   "id": "54721296",
   "metadata": {
    "ExecuteTime": {
     "end_time": "2024-12-24T04:03:53.709951Z",
     "start_time": "2024-12-24T04:03:53.697960Z"
    }
   },
   "outputs": [
    {
     "data": {
      "text/plain": [
       "[[('n02099712', 'Labrador_retriever', 0.115230285),\n",
       "  ('n02108089', 'boxer', 0.11239108),\n",
       "  ('n02099849', 'Chesapeake_Bay_retriever', 0.10665773)]]"
      ]
     },
     "execution_count": 26,
     "metadata": {},
     "output_type": "execute_result"
    }
   ],
   "source": [
    "decode_predictions(pred,top=3)"
   ]
  },
  {
   "cell_type": "markdown",
   "id": "f678eb90",
   "metadata": {},
   "source": [
    "# 7. 전이학습"
   ]
  },
  {
   "cell_type": "code",
   "execution_count": 28,
   "id": "1c5ff6a8",
   "metadata": {
    "ExecuteTime": {
     "end_time": "2024-12-24T05:21:54.035723Z",
     "start_time": "2024-12-24T05:21:51.568953Z"
    }
   },
   "outputs": [
    {
     "name": "stdout",
     "output_type": "stream",
     "text": [
      "Model: \"sequential_1\"\n",
      "_________________________________________________________________\n",
      " Layer (type)                Output Shape              Param #   \n",
      "=================================================================\n",
      " resnet50 (Functional)       (None, 7, 7, 2048)        23587712  \n",
      "                                                                 \n",
      " flatten (Flatten)           (None, 100352)            0         \n",
      "                                                                 \n",
      " dense (Dense)               (None, 1024)              102761472 \n",
      "                                                                 \n",
      " dense_1 (Dense)             (None, 3)                 3075      \n",
      "                                                                 \n",
      "=================================================================\n",
      "Total params: 126,352,259\n",
      "Trainable params: 126,299,139\n",
      "Non-trainable params: 53,120\n",
      "_________________________________________________________________\n"
     ]
    }
   ],
   "source": [
    "from tensorflow.keras.applications import ResNet50\n",
    "from tensorflow.keras.models import Sequential\n",
    "from tensorflow.keras.layers import Dense,Flatten\n",
    "resnet_model = ResNet50(input_shape=(200,200,3),\n",
    "                        include_top = False, # 모델의 최상휘 계층은 포함하지 않고 가져옴\n",
    "                       )\n",
    "resnet_model.trainable=True\n",
    "\n",
    "model= Sequential()\n",
    "model.add(resnet_model)\n",
    "model.add(Flatten())\n",
    "model.add(Dense(1024,activation='relu'))\n",
    "model.add(Dense(3,activation='softmax'))\n",
    "model.summary()"
   ]
  },
  {
   "cell_type": "code",
   "execution_count": 30,
   "id": "9be1f093",
   "metadata": {
    "ExecuteTime": {
     "end_time": "2024-12-24T05:41:10.937501Z",
     "start_time": "2024-12-24T05:41:10.927528Z"
    }
   },
   "outputs": [
    {
     "data": {
      "image/png": "[encoded data removed]",
      "text/plain": [
       "<PIL.PngImagePlugin.PngImageFile image mode=RGBA size=28x28>"
      ]
     },
     "metadata": {},
     "output_type": "display_data"
    },
    {
     "data": {
      "text/plain": [
       "(28, 28, 4)"
      ]
     },
     "execution_count": 30,
     "metadata": {},
     "output_type": "execute_result"
    }
   ],
   "source": [
    "from PIL import Image\n",
    "import numpy as np\n",
    "c0= Image.open('data/test/0/1.png')\n",
    "display(c0)\n",
    "c0_numpy = np.array(c0)\n",
    "c0_numpy.shape"
   ]
  },
  {
   "cell_type": "code",
   "execution_count": 32,
   "id": "b515d16a",
   "metadata": {
    "ExecuteTime": {
     "end_time": "2024-12-24T05:42:48.311382Z",
     "start_time": "2024-12-24T05:42:48.305397Z"
    }
   },
   "outputs": [
    {
     "data": {
      "text/plain": [
       "(28, 28, 3)"
      ]
     },
     "execution_count": 32,
     "metadata": {},
     "output_type": "execute_result"
    }
   ],
   "source": [
    "c0_numpy[:,:,:-1].shape"
   ]
  },
  {
   "cell_type": "markdown",
   "id": "9fabcc5e",
   "metadata": {},
   "source": [
    "# 1. CNN"
   ]
  },
  {
   "cell_type": "code",
   "execution_count": 33,
   "id": "7ee29c48",
   "metadata": {
    "ExecuteTime": {
     "end_time": "2024-12-24T05:49:10.974307Z",
     "start_time": "2024-12-24T05:49:10.968338Z"
    }
   },
   "outputs": [],
   "source": [
    "import numpy as np\n",
    "from tensorflow.keras.preprocessing.image import ImageDataGenerator\n",
    "from tensorflow.keras.models import Sequential\n",
    "from tensorflow.keras.layers import Conv2D,MaxPooling2D,Flatten,Dense,Dropout\n",
    "from PIL import Image\n",
    "np.random.seed(3)"
   ]
  },
  {
   "cell_type": "code",
   "execution_count": 34,
   "id": "2e6940bb",
   "metadata": {
    "ExecuteTime": {
     "end_time": "2024-12-24T05:51:39.780232Z",
     "start_time": "2024-12-24T05:51:39.768259Z"
    }
   },
   "outputs": [
    {
     "data": {
      "text/plain": [
       "(24, 24, 4)"
      ]
     },
     "execution_count": 34,
     "metadata": {},
     "output_type": "execute_result"
    }
   ],
   "source": [
    "circle =Image.open('data/handwriting/handwriting_shape/train/circle/circle003.png')\n",
    "np.array(circle).shape\n",
    "# 모든 이미지의 shape이 같을 필요는 없음\n"
   ]
  },
  {
   "cell_type": "code",
   "execution_count": 36,
   "id": "fa21284e",
   "metadata": {
    "ExecuteTime": {
     "end_time": "2024-12-24T06:16:21.131597Z",
     "start_time": "2024-12-24T06:16:21.103671Z"
    }
   },
   "outputs": [
    {
     "name": "stdout",
     "output_type": "stream",
     "text": [
      "Found 45 images belonging to 3 classes.\n",
      "Found 15 images belonging to 3 classes.\n"
     ]
    }
   ],
   "source": [
    "# 1. 데이터 생성하기 학습훈련셋: data/handwriting/handwriting_shape/train/*\n",
    "                #  테스트셋 :data/handwriting/handwriting_shape/test/*\n",
    "train_datagen = ImageDataGenerator(rescale=1./255) # 0~1 사이의 값으로 스케일 조정\n",
    "train_data = train_datagen.flow_from_directory(\n",
    "            'data/handwriting/handwriting_shape/train',# train 아래 폴더명이 라벨\n",
    "            target_size=(24,24), # 넘파이 배열의 이미지 크기 조정\n",
    "            class_mode='categorical', # 원핫인코딩 형식으로 반환\n",
    "            batch_size=3) # 한번에 반환할 이미지와 라벨수\n",
    "\n",
    "test_datagen = ImageDataGenerator(rescale=1./255) # 0~1 사이의 값으로 스케일 조정\n",
    "test_data = test_datagen.flow_from_directory(\n",
    "            'data/handwriting/handwriting_shape/test',\n",
    "            target_size=(24,24), # 넘파이 배열의 이미지 크기 조정\n",
    "            class_mode='categorical', # 원핫인코딩 형식으로 반환\n",
    "            batch_size=3,\n",
    "            shuffle=False) # 한번에 반환할 이미지와 라벨수 "
   ]
  },
  {
   "cell_type": "code",
   "execution_count": 37,
   "id": "59476eb1",
   "metadata": {
    "ExecuteTime": {
     "end_time": "2024-12-24T06:16:26.406092Z",
     "start_time": "2024-12-24T06:16:26.398129Z"
    }
   },
   "outputs": [
    {
     "data": {
      "text/plain": [
       "<keras.preprocessing.image.DirectoryIterator at 0x230e98cdbd0>"
      ]
     },
     "execution_count": 37,
     "metadata": {},
     "output_type": "execute_result"
    }
   ],
   "source": [
    "test_data"
   ]
  },
  {
   "cell_type": "code",
   "execution_count": 39,
   "id": "cc7bd929",
   "metadata": {
    "ExecuteTime": {
     "end_time": "2024-12-24T06:20:47.503525Z",
     "start_time": "2024-12-24T06:20:47.495533Z"
    }
   },
   "outputs": [
    {
     "data": {
      "text/plain": [
       "array([[1., 0., 0.],\n",
       "       [1., 0., 0.],\n",
       "       [0., 1., 0.]], dtype=float32)"
      ]
     },
     "execution_count": 39,
     "metadata": {},
     "output_type": "execute_result"
    }
   ],
   "source": [
    "X_images,Y_labels = next(test_data) # 한 배치사이즈 만큼만 데이터 가져오기\n",
    "Y_labels"
   ]
  },
  {
   "cell_type": "code",
   "execution_count": 40,
   "id": "20794257",
   "metadata": {
    "ExecuteTime": {
     "end_time": "2024-12-24T06:23:37.373472Z",
     "start_time": "2024-12-24T06:23:37.368458Z"
    }
   },
   "outputs": [
    {
     "name": "stdout",
     "output_type": "stream",
     "text": [
      "데이터 전체 갯수 : 15\n",
      "배치사이즈: 3\n"
     ]
    }
   ],
   "source": [
    "print('데이터 전체 갯수 :', test_data.n)\n",
    "print('배치사이즈:', test_data.batch_size)\n"
   ]
  },
  {
   "cell_type": "code",
   "execution_count": 42,
   "id": "50ea84bf",
   "metadata": {
    "ExecuteTime": {
     "end_time": "2024-12-24T06:29:45.062472Z",
     "start_time": "2024-12-24T06:29:45.046510Z"
    }
   },
   "outputs": [
    {
     "data": {
      "text/plain": [
       "((15, 24, 24, 3), (15, 3))"
      ]
     },
     "execution_count": 42,
     "metadata": {},
     "output_type": "execute_result"
    }
   ],
   "source": [
    "#전체 가져오기\n",
    "all_images =[] # 독립변수\n",
    "all_labels =[] # 종속변수\n",
    "for images, labels in test_data:\n",
    "    all_images.append(images)\n",
    "    all_labels.append(labels)\n",
    "    \n",
    "    if len(all_images) * test_data.batch_size >= test_data.n:\n",
    "        break\n",
    "X_test_images = np.concatenate(all_images)\n",
    "Y_test_labels = np.concatenate(all_labels)\n",
    "\n",
    "X_test_images.shape, Y_test_labels.shape"
   ]
  },
  {
   "cell_type": "code",
   "execution_count": 51,
   "id": "0bf2015d",
   "metadata": {
    "ExecuteTime": {
     "end_time": "2024-12-24T06:44:29.005664Z",
     "start_time": "2024-12-24T06:44:28.902939Z"
    }
   },
   "outputs": [
    {
     "name": "stdout",
     "output_type": "stream",
     "text": [
      "Model: \"sequential_6\"\n",
      "_________________________________________________________________\n",
      " Layer (type)                Output Shape              Param #   \n",
      "=================================================================\n",
      " conv2d_15 (Conv2D)          (None, 22, 22, 32)        896       \n",
      "                                                                 \n",
      " conv2d_16 (Conv2D)          (None, 20, 20, 64)        18496     \n",
      "                                                                 \n",
      " max_pooling2d_2 (MaxPooling  (None, 10, 10, 64)       0         \n",
      " 2D)                                                             \n",
      "                                                                 \n",
      " flatten_3 (Flatten)         (None, 6400)              0         \n",
      "                                                                 \n",
      " dense_6 (Dense)             (None, 128)               819328    \n",
      "                                                                 \n",
      " dense_7 (Dense)             (None, 3)                 387       \n",
      "                                                                 \n",
      "=================================================================\n",
      "Total params: 839,107\n",
      "Trainable params: 839,107\n",
      "Non-trainable params: 0\n",
      "_________________________________________________________________\n"
     ]
    }
   ],
   "source": [
    "# 2. 모델 구성\n",
    "model = Sequential()\n",
    "model.add(Conv2D(32,\n",
    "                kernel_size=(3,3),\n",
    "                activation='relu',\n",
    "                input_shape=(24,24,3)))\n",
    "model.add(Conv2D(64,\n",
    "                kernel_size=(3,3),\n",
    "                activation='relu',\n",
    "                ))\n",
    "model.add(MaxPooling2D(pool_size=(2,2)))\n",
    "model.add(Flatten()) # 3차원 데이터를 1차원으로\n",
    "model.add(Dense(units=128,\n",
    "               activation='relu'))\n",
    "model.add(Dense(units=3,\n",
    "               activation='softmax'))\n",
    "model.summary()"
   ]
  },
  {
   "cell_type": "code",
   "execution_count": 52,
   "id": "94f7c61f",
   "metadata": {
    "ExecuteTime": {
     "end_time": "2024-12-24T06:44:41.372860Z",
     "start_time": "2024-12-24T06:44:31.910315Z"
    }
   },
   "outputs": [
    {
     "name": "stdout",
     "output_type": "stream",
     "text": [
      "Epoch 1/50\n",
      "15/15 [==============================] - 1s 22ms/step - loss: 1.1525 - accuracy: 0.6889 - val_loss: 0.6874 - val_accuracy: 0.8000\n",
      "Epoch 2/50\n",
      "15/15 [==============================] - 0s 10ms/step - loss: 0.2915 - accuracy: 0.9778 - val_loss: 0.1304 - val_accuracy: 1.0000\n",
      "Epoch 3/50\n",
      "15/15 [==============================] - 0s 10ms/step - loss: 0.0270 - accuracy: 1.0000 - val_loss: 0.0601 - val_accuracy: 1.0000\n",
      "Epoch 4/50\n",
      "15/15 [==============================] - 0s 10ms/step - loss: 0.0032 - accuracy: 1.0000 - val_loss: 0.0215 - val_accuracy: 1.0000\n",
      "Epoch 5/50\n",
      "15/15 [==============================] - 0s 10ms/step - loss: 0.0013 - accuracy: 1.0000 - val_loss: 0.0189 - val_accuracy: 1.0000\n",
      "Epoch 6/50\n",
      "15/15 [==============================] - 0s 10ms/step - loss: 6.3368e-04 - accuracy: 1.0000 - val_loss: 0.0186 - val_accuracy: 1.0000\n",
      "Epoch 7/50\n",
      "15/15 [==============================] - 0s 10ms/step - loss: 3.6058e-04 - accuracy: 1.0000 - val_loss: 0.0153 - val_accuracy: 1.0000\n",
      "Epoch 8/50\n",
      "15/15 [==============================] - 0s 9ms/step - loss: 2.7976e-04 - accuracy: 1.0000 - val_loss: 0.0154 - val_accuracy: 1.0000\n",
      "Epoch 9/50\n",
      "15/15 [==============================] - 0s 10ms/step - loss: 2.1859e-04 - accuracy: 1.0000 - val_loss: 0.0153 - val_accuracy: 1.0000\n",
      "Epoch 10/50\n",
      "15/15 [==============================] - 0s 11ms/step - loss: 1.7750e-04 - accuracy: 1.0000 - val_loss: 0.0158 - val_accuracy: 1.0000\n",
      "Epoch 11/50\n",
      "15/15 [==============================] - 0s 10ms/step - loss: 1.4676e-04 - accuracy: 1.0000 - val_loss: 0.0162 - val_accuracy: 1.0000\n",
      "Epoch 12/50\n",
      "15/15 [==============================] - 0s 10ms/step - loss: 1.1527e-04 - accuracy: 1.0000 - val_loss: 0.0142 - val_accuracy: 1.0000\n",
      "Epoch 13/50\n",
      "15/15 [==============================] - 0s 10ms/step - loss: 9.5860e-05 - accuracy: 1.0000 - val_loss: 0.0127 - val_accuracy: 1.0000\n",
      "Epoch 14/50\n",
      "15/15 [==============================] - 0s 10ms/step - loss: 7.5530e-05 - accuracy: 1.0000 - val_loss: 0.0159 - val_accuracy: 1.0000\n",
      "Epoch 15/50\n",
      "15/15 [==============================] - 0s 10ms/step - loss: 6.3728e-05 - accuracy: 1.0000 - val_loss: 0.0158 - val_accuracy: 1.0000\n",
      "Epoch 16/50\n",
      "15/15 [==============================] - 0s 12ms/step - loss: 4.9751e-05 - accuracy: 1.0000 - val_loss: 0.0133 - val_accuracy: 1.0000\n",
      "Epoch 17/50\n",
      "15/15 [==============================] - 0s 10ms/step - loss: 3.9837e-05 - accuracy: 1.0000 - val_loss: 0.0148 - val_accuracy: 1.0000\n",
      "Epoch 18/50\n",
      "15/15 [==============================] - 0s 11ms/step - loss: 3.4068e-05 - accuracy: 1.0000 - val_loss: 0.0150 - val_accuracy: 1.0000\n",
      "Epoch 19/50\n",
      "15/15 [==============================] - 0s 11ms/step - loss: 2.7385e-05 - accuracy: 1.0000 - val_loss: 0.0141 - val_accuracy: 1.0000\n",
      "Epoch 20/50\n",
      "15/15 [==============================] - 0s 10ms/step - loss: 2.3229e-05 - accuracy: 1.0000 - val_loss: 0.0146 - val_accuracy: 1.0000\n",
      "Epoch 21/50\n",
      "15/15 [==============================] - 0s 10ms/step - loss: 2.0480e-05 - accuracy: 1.0000 - val_loss: 0.0134 - val_accuracy: 1.0000\n",
      "Epoch 22/50\n",
      "15/15 [==============================] - 0s 10ms/step - loss: 1.7918e-05 - accuracy: 1.0000 - val_loss: 0.0131 - val_accuracy: 1.0000\n",
      "Epoch 23/50\n",
      "15/15 [==============================] - 0s 11ms/step - loss: 1.5338e-05 - accuracy: 1.0000 - val_loss: 0.0130 - val_accuracy: 1.0000\n",
      "Epoch 24/50\n",
      "15/15 [==============================] - 0s 11ms/step - loss: 1.4246e-05 - accuracy: 1.0000 - val_loss: 0.0150 - val_accuracy: 1.0000\n",
      "Epoch 25/50\n",
      "15/15 [==============================] - 0s 10ms/step - loss: 1.2652e-05 - accuracy: 1.0000 - val_loss: 0.0115 - val_accuracy: 1.0000\n",
      "Epoch 26/50\n",
      "15/15 [==============================] - 0s 10ms/step - loss: 1.0885e-05 - accuracy: 1.0000 - val_loss: 0.0134 - val_accuracy: 1.0000\n",
      "Epoch 27/50\n",
      "15/15 [==============================] - 0s 10ms/step - loss: 9.9260e-06 - accuracy: 1.0000 - val_loss: 0.0118 - val_accuracy: 1.0000\n",
      "Epoch 28/50\n",
      "15/15 [==============================] - 0s 10ms/step - loss: 8.6042e-06 - accuracy: 1.0000 - val_loss: 0.0130 - val_accuracy: 1.0000\n",
      "Epoch 29/50\n",
      "15/15 [==============================] - 0s 11ms/step - loss: 7.8280e-06 - accuracy: 1.0000 - val_loss: 0.0135 - val_accuracy: 1.0000\n",
      "Epoch 30/50\n",
      "15/15 [==============================] - 0s 10ms/step - loss: 7.2319e-06 - accuracy: 1.0000 - val_loss: 0.0133 - val_accuracy: 1.0000\n",
      "Epoch 31/50\n",
      "15/15 [==============================] - 0s 10ms/step - loss: 6.6598e-06 - accuracy: 1.0000 - val_loss: 0.0103 - val_accuracy: 1.0000\n",
      "Epoch 32/50\n",
      "15/15 [==============================] - 0s 9ms/step - loss: 6.0531e-06 - accuracy: 1.0000 - val_loss: 0.0121 - val_accuracy: 1.0000\n",
      "Epoch 33/50\n",
      "15/15 [==============================] - 0s 10ms/step - loss: 5.3856e-06 - accuracy: 1.0000 - val_loss: 0.0122 - val_accuracy: 1.0000\n",
      "Epoch 34/50\n",
      "15/15 [==============================] - 0s 10ms/step - loss: 5.0677e-06 - accuracy: 1.0000 - val_loss: 0.0128 - val_accuracy: 1.0000\n",
      "Epoch 35/50\n",
      "15/15 [==============================] - 0s 10ms/step - loss: 4.5299e-06 - accuracy: 1.0000 - val_loss: 0.0110 - val_accuracy: 1.0000\n",
      "Epoch 36/50\n",
      "15/15 [==============================] - 0s 10ms/step - loss: 4.1935e-06 - accuracy: 1.0000 - val_loss: 0.0110 - val_accuracy: 1.0000\n",
      "Epoch 37/50\n",
      "15/15 [==============================] - 0s 9ms/step - loss: 3.8253e-06 - accuracy: 1.0000 - val_loss: 0.0121 - val_accuracy: 1.0000\n",
      "Epoch 38/50\n",
      "15/15 [==============================] - 0s 10ms/step - loss: 3.4994e-06 - accuracy: 1.0000 - val_loss: 0.0108 - val_accuracy: 1.0000\n",
      "Epoch 39/50\n",
      "15/15 [==============================] - 0s 10ms/step - loss: 3.1789e-06 - accuracy: 1.0000 - val_loss: 0.0111 - val_accuracy: 1.0000\n",
      "Epoch 40/50\n",
      "15/15 [==============================] - 0s 11ms/step - loss: 2.9246e-06 - accuracy: 1.0000 - val_loss: 0.0110 - val_accuracy: 1.0000\n",
      "Epoch 41/50\n",
      "15/15 [==============================] - 0s 10ms/step - loss: 2.7603e-06 - accuracy: 1.0000 - val_loss: 0.0115 - val_accuracy: 1.0000\n",
      "Epoch 42/50\n",
      "15/15 [==============================] - 0s 10ms/step - loss: 2.4636e-06 - accuracy: 1.0000 - val_loss: 0.0099 - val_accuracy: 1.0000\n",
      "Epoch 43/50\n",
      "15/15 [==============================] - 0s 10ms/step - loss: 2.2517e-06 - accuracy: 1.0000 - val_loss: 0.0096 - val_accuracy: 1.0000\n",
      "Epoch 44/50\n",
      "15/15 [==============================] - 0s 10ms/step - loss: 2.0583e-06 - accuracy: 1.0000 - val_loss: 0.0097 - val_accuracy: 1.0000\n",
      "Epoch 45/50\n",
      "15/15 [==============================] - 0s 10ms/step - loss: 1.8650e-06 - accuracy: 1.0000 - val_loss: 0.0102 - val_accuracy: 1.0000\n",
      "Epoch 46/50\n",
      "15/15 [==============================] - 0s 10ms/step - loss: 1.7272e-06 - accuracy: 1.0000 - val_loss: 0.0095 - val_accuracy: 1.0000\n",
      "Epoch 47/50\n",
      "15/15 [==============================] - 0s 10ms/step - loss: 1.5789e-06 - accuracy: 1.0000 - val_loss: 0.0091 - val_accuracy: 1.0000\n",
      "Epoch 48/50\n",
      "15/15 [==============================] - 0s 10ms/step - loss: 1.4517e-06 - accuracy: 1.0000 - val_loss: 0.0089 - val_accuracy: 1.0000\n",
      "Epoch 49/50\n",
      "15/15 [==============================] - 0s 10ms/step - loss: 1.3590e-06 - accuracy: 1.0000 - val_loss: 0.0083 - val_accuracy: 1.0000\n",
      "Epoch 50/50\n",
      "15/15 [==============================] - 0s 10ms/step - loss: 1.2345e-06 - accuracy: 1.0000 - val_loss: 0.0089 - val_accuracy: 1.0000\n"
     ]
    },
    {
     "data": {
      "text/plain": [
       "<keras.callbacks.History at 0x23075f868f0>"
      ]
     },
     "execution_count": 52,
     "metadata": {},
     "output_type": "execute_result"
    }
   ],
   "source": [
    "model.compile(loss='categorical_crossentropy', optimizer='adam', metrics=['accuracy'])\n",
    "\n",
    "model.fit(train_data, epochs=50, validation_data=test_data)\n",
    "\n"
   ]
  },
  {
   "cell_type": "code",
   "execution_count": 53,
   "id": "5caac61a",
   "metadata": {
    "ExecuteTime": {
     "end_time": "2024-12-24T06:45:51.526511Z",
     "start_time": "2024-12-24T06:45:51.407840Z"
    }
   },
   "outputs": [
    {
     "name": "stdout",
     "output_type": "stream",
     "text": [
      "5/5 [==============================] - 0s 5ms/step - loss: 0.0089 - accuracy: 1.0000\n",
      "0.008887593634426594\n",
      "1.0\n"
     ]
    }
   ],
   "source": [
    "loss, accuracy = model.evaluate(test_data)\n",
    "print(loss)\n",
    "print(accuracy)"
   ]
  },
  {
   "cell_type": "code",
   "execution_count": 54,
   "id": "61770d76",
   "metadata": {
    "ExecuteTime": {
     "end_time": "2024-12-24T06:47:34.895362Z",
     "start_time": "2024-12-24T06:47:34.686865Z"
    }
   },
   "outputs": [
    {
     "name": "stdout",
     "output_type": "stream",
     "text": [
      "5/5 [==============================] - 0s 4ms/step\n"
     ]
    },
    {
     "data": {
      "text/plain": [
       "array([0, 0, 0, 0, 0, 1, 1, 1, 1, 1, 2, 2, 2, 2, 2], dtype=int64)"
      ]
     },
     "execution_count": 54,
     "metadata": {},
     "output_type": "execute_result"
    }
   ],
   "source": [
    "yhat= model.predict(test_data)\n",
    "yhat.argmax(axis=1)"
   ]
  },
  {
   "cell_type": "code",
   "execution_count": 55,
   "id": "1aa678c5",
   "metadata": {
    "ExecuteTime": {
     "end_time": "2024-12-24T06:48:02.765831Z",
     "start_time": "2024-12-24T06:48:02.759863Z"
    }
   },
   "outputs": [
    {
     "data": {
      "text/plain": [
       "array([0, 0, 0, 0, 0, 1, 1, 1, 1, 1, 2, 2, 2, 2, 2])"
      ]
     },
     "execution_count": 55,
     "metadata": {},
     "output_type": "execute_result"
    }
   ],
   "source": [
    "test_data.labels"
   ]
  },
  {
   "cell_type": "code",
   "execution_count": 58,
   "id": "fb02d214",
   "metadata": {
    "ExecuteTime": {
     "end_time": "2024-12-24T06:50:33.461072Z",
     "start_time": "2024-12-24T06:50:33.454086Z"
    }
   },
   "outputs": [
    {
     "data": {
      "text/plain": [
       "array([[1.00, 0.00, 0.00],\n",
       "       [1.00, 0.00, 0.00],\n",
       "       [1.00, 0.00, 0.00],\n",
       "       [1.00, 0.00, 0.00],\n",
       "       [1.00, 0.00, 0.00],\n",
       "       [0.00, 1.00, 0.00],\n",
       "       [0.00, 1.00, 0.00],\n",
       "       [0.00, 1.00, 0.00],\n",
       "       [0.00, 1.00, 0.00],\n",
       "       [0.05, 0.88, 0.07],\n",
       "       [0.00, 0.00, 1.00],\n",
       "       [0.00, 0.00, 1.00],\n",
       "       [0.00, 0.01, 0.99],\n",
       "       [0.00, 0.00, 1.00],\n",
       "       [0.00, 0.00, 1.00]], dtype=float32)"
      ]
     },
     "execution_count": 58,
     "metadata": {},
     "output_type": "execute_result"
    }
   ],
   "source": [
    "np.set_printoptions(formatter={'float':lambda x : \"{:0.2f}\".format(x)})\n",
    "yhat"
   ]
  },
  {
   "cell_type": "markdown",
   "id": "13a16fd4",
   "metadata": {},
   "source": [
    " # 2. 데이터 증강을 통한 CNN accuracy 올리기\n",
    " - 데이터 추가확보\n",
    " - 이미지 데이터를 증강(데이터부풀리기) : train set에서만\n",
    " - 레이어층(Conv2D,MaxPooling,배치정규화,Dense)\n",
    " - 활성화 함수, 옵티마이저, Dropout(과적합 다소 해결)\n"
   ]
  },
  {
   "cell_type": "code",
   "execution_count": 62,
   "id": "788d076d",
   "metadata": {
    "ExecuteTime": {
     "end_time": "2024-12-24T07:19:46.172668Z",
     "start_time": "2024-12-24T07:19:46.141723Z"
    }
   },
   "outputs": [
    {
     "name": "stdout",
     "output_type": "stream",
     "text": [
      "Found 45 images belonging to 3 classes.\n",
      "Found 15 images belonging to 3 classes.\n"
     ]
    }
   ],
   "source": [
    "# 1. 데이터 생성\n",
    "train_datagen= ImageDataGenerator(rescale=1.0/255,# 스케일 조정\n",
    "                                  rotation_range=10, # 이미지를 최대 +10~ - 10도 회전\n",
    "                                  width_shift_range=0.2, # 가로 방향으로 최대 20% 이동\n",
    "                                  height_shift_range=0.2, # 세로 방향으로 최대 20% 이동\n",
    "                                  shear_range= 0.7, # 최대 0.7 라디안으로 이미지 밀림\n",
    "                                  zoom_range=[0.9,1.5], # 90~150% 크기로 확대/축소\n",
    "                                  fill_mode='nearest', # 이미지 확대시 채우는 방식\n",
    "                                  horizontal_flip=True, # 수평방향으로 뒤집기\n",
    "                                  vertical_flip=True, # 수직방향 뒤집기                                  \n",
    "                                 )\n",
    "train_data = train_datagen.flow_from_directory(\n",
    "        'data/handwriting/handwriting_shape/train/',\n",
    "        target_size=(24,24),\n",
    "        class_mode='categorical',\n",
    "        batch_size=3\n",
    ")\n",
    "test_datagen = ImageDataGenerator(rescale=1./255)\n",
    "test_data = test_datagen.flow_from_directory(\n",
    "        'data/handwriting/handwriting_shape/test/',\n",
    "        target_size=(24,24),\n",
    "        class_mode='categorical',\n",
    "        batch_size=3,\n",
    "        # shuffle=True 기본값\n",
    ")\n"
   ]
  },
  {
   "cell_type": "code",
   "execution_count": 63,
   "id": "7041d8eb",
   "metadata": {
    "ExecuteTime": {
     "end_time": "2024-12-24T07:22:02.644228Z",
     "start_time": "2024-12-24T07:21:52.581876Z"
    }
   },
   "outputs": [
    {
     "name": "stdout",
     "output_type": "stream",
     "text": [
      "Model: \"sequential_7\"\n",
      "_________________________________________________________________\n",
      " Layer (type)                Output Shape              Param #   \n",
      "=================================================================\n",
      " conv2d_17 (Conv2D)          (None, 22, 22, 32)        896       \n",
      "                                                                 \n",
      " conv2d_18 (Conv2D)          (None, 20, 20, 64)        18496     \n",
      "                                                                 \n",
      " max_pooling2d_3 (MaxPooling  (None, 10, 10, 64)       0         \n",
      " 2D)                                                             \n",
      "                                                                 \n",
      " flatten_4 (Flatten)         (None, 6400)              0         \n",
      "                                                                 \n",
      " dense_8 (Dense)             (None, 128)               819328    \n",
      "                                                                 \n",
      " dense_9 (Dense)             (None, 3)                 387       \n",
      "                                                                 \n",
      "=================================================================\n",
      "Total params: 839,107\n",
      "Trainable params: 839,107\n",
      "Non-trainable params: 0\n",
      "_________________________________________________________________\n",
      "Epoch 1/50\n",
      "15/15 [==============================] - 1s 25ms/step - loss: 1.2914 - accuracy: 0.3778 - val_loss: 1.0362 - val_accuracy: 0.6000\n",
      "Epoch 2/50\n",
      "15/15 [==============================] - 0s 10ms/step - loss: 1.1008 - accuracy: 0.4444 - val_loss: 0.8887 - val_accuracy: 0.7333\n",
      "Epoch 3/50\n",
      "15/15 [==============================] - 0s 11ms/step - loss: 0.9810 - accuracy: 0.6000 - val_loss: 0.7153 - val_accuracy: 0.6667\n",
      "Epoch 4/50\n",
      "15/15 [==============================] - 0s 10ms/step - loss: 0.8537 - accuracy: 0.6000 - val_loss: 1.2198 - val_accuracy: 0.3333\n",
      "Epoch 5/50\n",
      "15/15 [==============================] - 0s 13ms/step - loss: 0.7185 - accuracy: 0.6667 - val_loss: 0.5418 - val_accuracy: 0.8000\n",
      "Epoch 6/50\n",
      "15/15 [==============================] - 0s 11ms/step - loss: 0.6326 - accuracy: 0.6667 - val_loss: 0.5859 - val_accuracy: 0.8000\n",
      "Epoch 7/50\n",
      "15/15 [==============================] - 0s 12ms/step - loss: 0.6804 - accuracy: 0.6222 - val_loss: 1.2290 - val_accuracy: 0.6667\n",
      "Epoch 8/50\n",
      "15/15 [==============================] - 0s 11ms/step - loss: 0.7217 - accuracy: 0.6444 - val_loss: 0.3477 - val_accuracy: 0.9333\n",
      "Epoch 9/50\n",
      "15/15 [==============================] - 0s 11ms/step - loss: 0.4824 - accuracy: 0.8667 - val_loss: 0.1714 - val_accuracy: 1.0000\n",
      "Epoch 10/50\n",
      "15/15 [==============================] - 0s 13ms/step - loss: 0.4228 - accuracy: 0.7778 - val_loss: 0.1839 - val_accuracy: 0.9333\n",
      "Epoch 11/50\n",
      "15/15 [==============================] - 0s 10ms/step - loss: 0.2731 - accuracy: 0.8889 - val_loss: 0.2625 - val_accuracy: 0.8667\n",
      "Epoch 12/50\n",
      "15/15 [==============================] - 0s 10ms/step - loss: 0.5275 - accuracy: 0.8222 - val_loss: 0.2348 - val_accuracy: 0.8667\n",
      "Epoch 13/50\n",
      "15/15 [==============================] - 0s 10ms/step - loss: 0.4403 - accuracy: 0.8000 - val_loss: 0.1331 - val_accuracy: 1.0000\n",
      "Epoch 14/50\n",
      "15/15 [==============================] - 0s 10ms/step - loss: 0.3096 - accuracy: 0.8667 - val_loss: 0.0113 - val_accuracy: 1.0000\n",
      "Epoch 15/50\n",
      "15/15 [==============================] - 0s 10ms/step - loss: 0.3079 - accuracy: 0.9111 - val_loss: 0.0317 - val_accuracy: 1.0000\n",
      "Epoch 16/50\n",
      "15/15 [==============================] - 0s 11ms/step - loss: 0.3388 - accuracy: 0.8667 - val_loss: 0.0110 - val_accuracy: 1.0000\n",
      "Epoch 17/50\n",
      "15/15 [==============================] - 0s 10ms/step - loss: 0.2923 - accuracy: 0.9333 - val_loss: 0.0120 - val_accuracy: 1.0000\n",
      "Epoch 18/50\n",
      "15/15 [==============================] - 0s 10ms/step - loss: 0.2478 - accuracy: 0.9333 - val_loss: 0.0226 - val_accuracy: 1.0000\n",
      "Epoch 19/50\n",
      "15/15 [==============================] - 0s 12ms/step - loss: 0.1672 - accuracy: 0.9556 - val_loss: 0.0033 - val_accuracy: 1.0000\n",
      "Epoch 20/50\n",
      "15/15 [==============================] - 0s 12ms/step - loss: 0.1997 - accuracy: 0.8889 - val_loss: 0.0018 - val_accuracy: 1.0000\n",
      "Epoch 21/50\n",
      "15/15 [==============================] - 0s 10ms/step - loss: 0.1917 - accuracy: 0.9333 - val_loss: 0.0041 - val_accuracy: 1.0000\n",
      "Epoch 22/50\n",
      "15/15 [==============================] - 0s 10ms/step - loss: 0.1602 - accuracy: 0.9333 - val_loss: 0.0021 - val_accuracy: 1.0000\n",
      "Epoch 23/50\n",
      "15/15 [==============================] - 0s 11ms/step - loss: 0.1090 - accuracy: 0.9778 - val_loss: 0.0303 - val_accuracy: 1.0000\n",
      "Epoch 24/50\n",
      "15/15 [==============================] - 0s 10ms/step - loss: 0.2383 - accuracy: 0.9333 - val_loss: 0.0099 - val_accuracy: 1.0000\n",
      "Epoch 25/50\n",
      "15/15 [==============================] - 0s 10ms/step - loss: 0.1369 - accuracy: 0.9333 - val_loss: 0.0060 - val_accuracy: 1.0000\n",
      "Epoch 26/50\n",
      "15/15 [==============================] - 0s 10ms/step - loss: 0.2377 - accuracy: 0.9111 - val_loss: 0.0071 - val_accuracy: 1.0000\n",
      "Epoch 27/50\n",
      "15/15 [==============================] - 0s 12ms/step - loss: 0.1587 - accuracy: 0.9556 - val_loss: 0.0265 - val_accuracy: 1.0000\n",
      "Epoch 28/50\n",
      "15/15 [==============================] - 0s 10ms/step - loss: 0.1175 - accuracy: 0.9556 - val_loss: 0.0173 - val_accuracy: 1.0000\n",
      "Epoch 29/50\n",
      "15/15 [==============================] - 0s 10ms/step - loss: 0.0659 - accuracy: 1.0000 - val_loss: 0.0169 - val_accuracy: 1.0000\n",
      "Epoch 30/50\n",
      "15/15 [==============================] - 0s 10ms/step - loss: 0.1263 - accuracy: 0.9333 - val_loss: 2.0631e-04 - val_accuracy: 1.0000\n",
      "Epoch 31/50\n",
      "15/15 [==============================] - 0s 10ms/step - loss: 0.3544 - accuracy: 0.9333 - val_loss: 0.0070 - val_accuracy: 1.0000\n",
      "Epoch 32/50\n",
      "15/15 [==============================] - 0s 10ms/step - loss: 0.0610 - accuracy: 0.9778 - val_loss: 0.0095 - val_accuracy: 1.0000\n",
      "Epoch 33/50\n",
      "15/15 [==============================] - 0s 10ms/step - loss: 0.0360 - accuracy: 1.0000 - val_loss: 0.0022 - val_accuracy: 1.0000\n",
      "Epoch 34/50\n",
      "15/15 [==============================] - 0s 10ms/step - loss: 0.0345 - accuracy: 1.0000 - val_loss: 0.0015 - val_accuracy: 1.0000\n",
      "Epoch 35/50\n",
      "15/15 [==============================] - 0s 10ms/step - loss: 0.0688 - accuracy: 0.9778 - val_loss: 0.0047 - val_accuracy: 1.0000\n",
      "Epoch 36/50\n",
      "15/15 [==============================] - 0s 10ms/step - loss: 0.0363 - accuracy: 1.0000 - val_loss: 4.2915e-04 - val_accuracy: 1.0000\n",
      "Epoch 37/50\n",
      "15/15 [==============================] - 0s 10ms/step - loss: 0.1163 - accuracy: 0.9778 - val_loss: 1.5034e-04 - val_accuracy: 1.0000\n",
      "Epoch 38/50\n",
      "15/15 [==============================] - 0s 10ms/step - loss: 0.0088 - accuracy: 1.0000 - val_loss: 3.5217e-04 - val_accuracy: 1.0000\n",
      "Epoch 39/50\n",
      "15/15 [==============================] - 0s 10ms/step - loss: 0.0576 - accuracy: 0.9778 - val_loss: 1.9726e-04 - val_accuracy: 1.0000\n",
      "Epoch 40/50\n",
      "15/15 [==============================] - 0s 10ms/step - loss: 0.1962 - accuracy: 0.9556 - val_loss: 2.7899e-04 - val_accuracy: 1.0000\n",
      "Epoch 41/50\n",
      "15/15 [==============================] - 0s 10ms/step - loss: 0.0532 - accuracy: 0.9778 - val_loss: 7.7851e-04 - val_accuracy: 1.0000\n",
      "Epoch 42/50\n",
      "15/15 [==============================] - 0s 14ms/step - loss: 0.0255 - accuracy: 1.0000 - val_loss: 7.5012e-04 - val_accuracy: 1.0000\n",
      "Epoch 43/50\n",
      "15/15 [==============================] - 0s 11ms/step - loss: 0.0254 - accuracy: 1.0000 - val_loss: 0.0012 - val_accuracy: 1.0000\n",
      "Epoch 44/50\n",
      "15/15 [==============================] - 0s 11ms/step - loss: 0.0096 - accuracy: 1.0000 - val_loss: 7.6727e-04 - val_accuracy: 1.0000\n",
      "Epoch 45/50\n",
      "15/15 [==============================] - 0s 12ms/step - loss: 0.0690 - accuracy: 0.9778 - val_loss: 4.1088e-05 - val_accuracy: 1.0000\n",
      "Epoch 46/50\n",
      "15/15 [==============================] - 0s 11ms/step - loss: 0.0091 - accuracy: 1.0000 - val_loss: 4.4857e-05 - val_accuracy: 1.0000\n",
      "Epoch 47/50\n",
      "15/15 [==============================] - 0s 12ms/step - loss: 0.0322 - accuracy: 0.9778 - val_loss: 7.2921e-05 - val_accuracy: 1.0000\n",
      "Epoch 48/50\n",
      "15/15 [==============================] - 0s 10ms/step - loss: 0.0113 - accuracy: 1.0000 - val_loss: 4.6556e-05 - val_accuracy: 1.0000\n",
      "Epoch 49/50\n"
     ]
    },
    {
     "name": "stdout",
     "output_type": "stream",
     "text": [
      "15/15 [==============================] - 0s 10ms/step - loss: 0.0038 - accuracy: 1.0000 - val_loss: 4.7788e-05 - val_accuracy: 1.0000\n",
      "Epoch 50/50\n",
      "15/15 [==============================] - 0s 10ms/step - loss: 0.1573 - accuracy: 0.9333 - val_loss: 1.4657e-04 - val_accuracy: 1.0000\n"
     ]
    },
    {
     "data": {
      "text/plain": [
       "<keras.callbacks.History at 0x230e9f57250>"
      ]
     },
     "execution_count": 63,
     "metadata": {},
     "output_type": "execute_result"
    }
   ],
   "source": [
    "# 2. 모델 구성\n",
    "model = Sequential()\n",
    "model.add(Conv2D(32,\n",
    "                kernel_size=(3,3),\n",
    "                activation='relu',\n",
    "                input_shape=(24,24,3)))\n",
    "model.add(Conv2D(64,\n",
    "                kernel_size=(3,3),\n",
    "                activation='relu',\n",
    "                ))\n",
    "model.add(MaxPooling2D(pool_size=(2,2)))\n",
    "model.add(Flatten()) # 3차원 데이터를 1차원으로\n",
    "model.add(Dense(units=128,\n",
    "               activation='relu'))\n",
    "model.add(Dense(units=3,\n",
    "               activation='softmax'))\n",
    "model.summary()\n",
    "\n",
    "model.compile(loss='categorical_crossentropy', optimizer='adam', metrics=['accuracy'])\n",
    "\n",
    "model.fit(train_data, epochs=50, validation_data=test_data)\n",
    "\n",
    "\n"
   ]
  },
  {
   "cell_type": "code",
   "execution_count": 64,
   "id": "30385881",
   "metadata": {
    "ExecuteTime": {
     "end_time": "2024-12-24T07:24:09.515782Z",
     "start_time": "2024-12-24T07:24:09.390195Z"
    }
   },
   "outputs": [
    {
     "name": "stdout",
     "output_type": "stream",
     "text": [
      "5/5 [==============================] - 0s 5ms/step - loss: 1.4657e-04 - accuracy: 1.0000\n",
      "정확도(accuracy): 1.0\n"
     ]
    }
   ],
   "source": [
    "# 평가하기\n",
    "score = model.evaluate(test_data)\n",
    "print('정확도(accuracy):', score[1])"
   ]
  },
  {
   "cell_type": "code",
   "execution_count": 65,
   "id": "ec32276f",
   "metadata": {
    "ExecuteTime": {
     "end_time": "2024-12-24T07:25:45.756227Z",
     "start_time": "2024-12-24T07:25:45.573206Z"
    }
   },
   "outputs": [
    {
     "name": "stdout",
     "output_type": "stream",
     "text": [
      "5/5 [==============================] - 0s 5ms/step\n"
     ]
    },
    {
     "data": {
      "text/plain": [
       "array([[1.00, 0.00, 0.00],\n",
       "       [1.00, 0.00, 0.00],\n",
       "       [0.00, 1.00, 0.00],\n",
       "       [0.00, 0.00, 1.00],\n",
       "       [1.00, 0.00, 0.00],\n",
       "       [0.00, 0.00, 1.00],\n",
       "       [0.00, 0.00, 1.00],\n",
       "       [0.00, 1.00, 0.00],\n",
       "       [0.00, 1.00, 0.00],\n",
       "       [0.00, 1.00, 0.00],\n",
       "       [1.00, 0.00, 0.00],\n",
       "       [0.00, 0.00, 1.00],\n",
       "       [0.00, 0.00, 1.00],\n",
       "       [1.00, 0.00, 0.00],\n",
       "       [0.00, 1.00, 0.00]], dtype=float32)"
      ]
     },
     "execution_count": 65,
     "metadata": {},
     "output_type": "execute_result"
    }
   ],
   "source": [
    "pred = model.predict(test_data)\n",
    "pred"
   ]
  },
  {
   "cell_type": "code",
   "execution_count": null,
   "id": "97f52598",
   "metadata": {},
   "outputs": [],
   "source": []
  },
  {
   "cell_type": "code",
   "execution_count": null,
   "id": "27be27ad",
   "metadata": {},
   "outputs": [],
   "source": []
  },
  {
   "cell_type": "code",
   "execution_count": null,
   "id": "6a5083cb",
   "metadata": {},
   "outputs": [],
   "source": []
  },
  {
   "cell_type": "code",
   "execution_count": null,
   "id": "03f66315",
   "metadata": {},
   "outputs": [],
   "source": []
  }
 ],
 "metadata": {
  "kernelspec": {
   "display_name": "Python 3 (ipykernel)",
   "language": "python",
   "name": "python3"
  },
  "language_info": {
   "codemirror_mode": {
    "name": "ipython",
    "version": 3
   },
   "file_extension": ".py",
   "mimetype": "text/x-python",
   "name": "python",
   "nbconvert_exporter": "python",
   "pygments_lexer": "ipython3",
   "version": "3.10.9"
  },
  "toc": {
   "base_numbering": 1,
   "nav_menu": {},
   "number_sections": true,
   "sideBar": true,
   "skip_h1_title": false,
   "title_cell": "Table of Contents",
   "title_sidebar": "Contents",
   "toc_cell": false,
   "toc_position": {
    "height": "calc(100% - 180px)",
    "left": "10px",
    "top": "150px",
    "width": "183.477px"
   },
   "toc_section_display": true,
   "toc_window_display": true
  }
 },
 "nbformat": 4,
 "nbformat_minor": 5
}
