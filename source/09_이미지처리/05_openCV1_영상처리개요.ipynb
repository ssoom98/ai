{
 "cells": [
  {
   "cell_type": "code",
   "execution_count": 1,
   "id": "895f63a1",
   "metadata": {
    "ExecuteTime": {
     "end_time": "2024-12-26T02:20:04.936831Z",
     "start_time": "2024-12-26T02:20:04.927827Z"
    }
   },
   "outputs": [
    {
     "data": {
      "text/html": [
       "\n",
       "<style>\n",
       "div.container{width:99% !important;}\n",
       "div.cell.code_cell.rendered{width:99%;}\n",
       "div.CodeMirror {font-family:Consolas; font-size:20pt;}\n",
       "div.output {font-size:18pt; font-weight:bold;}\n",
       "div.input {font-family:Consolas; font-size:19pt;}\n",
       "div.prompt {min-width:70px;}\n",
       "div#toc-wrapper{padding-top:120px;}\n",
       "span.toc-item-num{display:none;}\n",
       "div.text_cell_render ul li{font-size:16pt;padding:5px;}\n",
       "div.CodeMirror-lines > div {padding-left:10px;}\n",
       "table.dataframe{font-size:19px;}\n",
       "</style>\n"
      ],
      "text/plain": [
       "<IPython.core.display.HTML object>"
      ]
     },
     "metadata": {},
     "output_type": "display_data"
    }
   ],
   "source": [
    "from IPython.display import display, HTML\n",
    "display(HTML(\"\"\"\n",
    "<style>\n",
    "div.container{width:99% !important;}\n",
    "div.cell.code_cell.rendered{width:99%;}\n",
    "div.CodeMirror {font-family:Consolas; font-size:20pt;}\n",
    "div.output {font-size:18pt; font-weight:bold;}\n",
    "div.input {font-family:Consolas; font-size:19pt;}\n",
    "div.prompt {min-width:70px;}\n",
    "div#toc-wrapper{padding-top:120px;}\n",
    "span.toc-item-num{display:none;}\n",
    "div.text_cell_render ul li{font-size:16pt;padding:5px;}\n",
    "div.CodeMirror-lines > div {padding-left:10px;}\n",
    "table.dataframe{font-size:19px;}\n",
    "</style>\n",
    "\"\"\"))"
   ]
  },
  {
   "cell_type": "markdown",
   "id": "56a8941b",
   "metadata": {},
   "source": [
    "<font color = 'red' size='5'> ch01 영상처리 개요</font>\n",
    "# 1절 이미지 읽기/쓰기\n",
    "\n",
    "- pip install opencv-python : 파이썬용 openCV 설치\n",
    "- pip install opencv-contrib-python : 추가설치\n",
    "- openCV는 numpy 패키지 필수 설치"
   ]
  },
  {
   "cell_type": "code",
   "execution_count": 2,
   "id": "1d5b5f51",
   "metadata": {
    "ExecuteTime": {
     "end_time": "2024-12-26T02:23:14.509026Z",
     "start_time": "2024-12-26T02:23:13.798004Z"
    }
   },
   "outputs": [],
   "source": [
    "import cv2\n",
    "import numpy as np\n",
    "import matplotlib.pyplot as plt"
   ]
  },
  {
   "cell_type": "code",
   "execution_count": 3,
   "id": "f6ab9142",
   "metadata": {
    "ExecuteTime": {
     "end_time": "2024-12-26T02:23:18.227487Z",
     "start_time": "2024-12-26T02:23:18.190083Z"
    }
   },
   "outputs": [
    {
     "name": "stdout",
     "output_type": "stream",
     "text": [
      "(577, 700, 3) (577, 700, 3)\n"
     ]
    }
   ],
   "source": [
    "image_bgr = cv2.imread('data/sample.jpg', cv2.IMREAD_ANYCOLOR)\n",
    "image_rgb = cv2.cvtColor(image_bgr, cv2.COLOR_BGR2RGB)\n",
    "print(image_bgr.shape, image_rgb.shape)"
   ]
  }
 ],
 "metadata": {
  "kernelspec": {
   "display_name": "Python 3 (ipykernel)",
   "language": "python",
   "name": "python3"
  },
  "language_info": {
   "codemirror_mode": {
    "name": "ipython",
    "version": 3
   },
   "file_extension": ".py",
   "mimetype": "text/x-python",
   "name": "python",
   "nbconvert_exporter": "python",
   "pygments_lexer": "ipython3",
   "version": "3.10.9"
  },
  "toc": {
   "base_numbering": 1,
   "nav_menu": {},
   "number_sections": true,
   "sideBar": true,
   "skip_h1_title": false,
   "title_cell": "Table of Contents",
   "title_sidebar": "Contents",
   "toc_cell": false,
   "toc_position": {},
   "toc_section_display": true,
   "toc_window_display": false
  }
 },
 "nbformat": 4,
 "nbformat_minor": 5
}
