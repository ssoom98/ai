{
 "cells": [
  {
   "cell_type": "markdown",
   "id": "20acea97",
   "metadata": {
    "ExecuteTime": {
     "end_time": "2024-12-31T08:38:39.460339Z",
     "start_time": "2024-12-31T08:38:39.455352Z"
    }
   },
   "source": [
    "**<font size='6' color='aqua'>ch4. RNN</font>**"
   ]
  },
  {
   "cell_type": "code",
   "execution_count": null,
   "id": "ae011ca8",
   "metadata": {},
   "outputs": [],
   "source": [
    "text = "
   ]
  },
  {
   "cell_type": "code",
   "execution_count": null,
   "id": "ef0ab0d9",
   "metadata": {},
   "outputs": [],
   "source": []
  }
 ],
 "metadata": {
  "kernelspec": {
   "display_name": "Python 3 (ipykernel)",
   "language": "python",
   "name": "python3"
  },
  "language_info": {
   "codemirror_mode": {
    "name": "ipython",
    "version": 3
   },
   "file_extension": ".py",
   "mimetype": "text/x-python",
   "name": "python",
   "nbconvert_exporter": "python",
   "pygments_lexer": "ipython3",
   "version": "3.10.9"
  },
  "toc": {
   "base_numbering": 1,
   "nav_menu": {},
   "number_sections": true,
   "sideBar": true,
   "skip_h1_title": false,
   "title_cell": "Table of Contents",
   "title_sidebar": "Contents",
   "toc_cell": false,
   "toc_position": {},
   "toc_section_display": true,
   "toc_window_display": false
  }
 },
 "nbformat": 4,
 "nbformat_minor": 5
}
