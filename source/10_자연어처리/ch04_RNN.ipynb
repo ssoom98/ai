{
 "cells": [
  {
   "cell_type": "markdown",
   "id": "20acea97",
   "metadata": {
    "ExecuteTime": {
     "end_time": "2024-12-31T08:38:39.460339Z",
     "start_time": "2024-12-31T08:38:39.455352Z"
    }
   },
   "source": [
    "**<font size='6' color='aqua'>ch04. RNN</font>**\n",
    "\n",
    "# 1. 문맥을 이용하여 모델만들기"
   ]
  },
  {
   "cell_type": "code",
   "execution_count": 1,
   "id": "ae011ca8",
   "metadata": {
    "ExecuteTime": {
     "end_time": "2025-01-02T05:25:59.698273Z",
     "start_time": "2025-01-02T05:25:59.693286Z"
    }
   },
   "outputs": [],
   "source": [
    "text = \"\"\"경마장에 있는 말이 뛰고 있다\n",
    "그의 말이 법이다\n",
    "가는 말이 고와야 오는 말이 곱다\"\"\""
   ]
  },
  {
   "cell_type": "code",
   "execution_count": 2,
   "id": "ef0ab0d9",
   "metadata": {
    "ExecuteTime": {
     "end_time": "2025-01-02T05:25:59.828148Z",
     "start_time": "2025-01-02T05:25:59.701265Z"
    }
   },
   "outputs": [
    {
     "name": "stdout",
     "output_type": "stream",
     "text": [
      "[2, 3, 1, 4, 5, 6, 1, 7, 8, 1, 9, 10, 1, 11]\n",
      "{'말이': 1, '경마장에': 2, '있는': 3, '뛰고': 4, '있다': 5, '그의': 6, '법이다': 7, '가는': 8, '고와야': 9, '오는': 10, '곱다': 11}\n"
     ]
    }
   ],
   "source": [
    "from keras_preprocessing.text import Tokenizer\n",
    "t = Tokenizer()\n",
    "t.fit_on_texts([text])\n",
    "encoded = t.texts_to_sequences([text])[0]\n",
    "print(encoded)\n",
    "print(t.word_index)"
   ]
  },
  {
   "cell_type": "code",
   "execution_count": 3,
   "id": "f553d62c",
   "metadata": {
    "ExecuteTime": {
     "end_time": "2025-01-02T05:25:59.837131Z",
     "start_time": "2025-01-02T05:25:59.832139Z"
    }
   },
   "outputs": [
    {
     "name": "stdout",
     "output_type": "stream",
     "text": [
      "[[2, 1, 5], [1, 11]]\n",
      "[2, 1, 5]\n"
     ]
    }
   ],
   "source": [
    "# 문자열 리스트를 인덱스 시퀀스로 반환\n",
    "print(t.texts_to_sequences(['경마장에  말이 있다','말이 곱다'])) \n",
    "print(t.texts_to_sequences(['경마장에  말이 있다'])[0]) "
   ]
  },
  {
   "cell_type": "code",
   "execution_count": 4,
   "id": "7c3cf18c",
   "metadata": {
    "ExecuteTime": {
     "end_time": "2025-01-02T05:25:59.849093Z",
     "start_time": "2025-01-02T05:25:59.840117Z"
    }
   },
   "outputs": [
    {
     "data": {
      "text/plain": [
       "array([[0., 1., 0., 0., 1., 0., 0., 0., 0., 0., 0., 0.]])"
      ]
     },
     "execution_count": 4,
     "metadata": {},
     "output_type": "execute_result"
    }
   ],
   "source": [
    "t.texts_to_matrix(['말이 뛰고'])"
   ]
  },
  {
   "cell_type": "code",
   "execution_count": 5,
   "id": "58eb848e",
   "metadata": {
    "ExecuteTime": {
     "end_time": "2025-01-02T05:25:59.862575Z",
     "start_time": "2025-01-02T05:25:59.855078Z"
    }
   },
   "outputs": [
    {
     "name": "stdout",
     "output_type": "stream",
     "text": [
      "{'말이': 1, '경마장에': 2, '있는': 3, '뛰고': 4, '있다': 5, '그의': 6, '법이다': 7, '가는': 8, '고와야': 9, '오는': 10, '곱다': 11}\n",
      "2: 경마장에\n"
     ]
    }
   ],
   "source": [
    "print(t.word_index)\n",
    "for word, value in t.word_index.items():\n",
    "    if value==2:\n",
    "        print(\"2:\", word)\n",
    "        break\n",
    "        "
   ]
  },
  {
   "cell_type": "code",
   "execution_count": 6,
   "id": "476fd70b",
   "metadata": {
    "ExecuteTime": {
     "end_time": "2025-01-02T05:25:59.881298Z",
     "start_time": "2025-01-02T05:25:59.865567Z"
    }
   },
   "outputs": [
    {
     "name": "stdout",
     "output_type": "stream",
     "text": [
      "원래 문장 : 경마장에 있는 말이 뛰고 있다\n",
      "encoded 문장 : [2, 3, 1, 4, 5]\n",
      "원래 문장 : 그의 말이 법이다\n",
      "encoded 문장 : [6, 1, 7]\n",
      "원래 문장 : 가는 말이 고와야 오는 말이 곱다\n",
      "encoded 문장 : [8, 1, 9, 10, 1, 11]\n",
      "sequences와 해석을 출력\n",
      "[2:경마장에3:있는]\n",
      "[2:경마장에3:있는1:말이]\n",
      "[2:경마장에3:있는1:말이4:뛰고]\n",
      "[2:경마장에3:있는1:말이4:뛰고5:있다]\n",
      "[3:있는1:말이]\n",
      "[3:있는1:말이4:뛰고]\n",
      "[3:있는1:말이4:뛰고5:있다]\n",
      "[1:말이4:뛰고]\n",
      "[1:말이4:뛰고5:있다]\n",
      "[4:뛰고5:있다]\n",
      "[6:그의1:말이]\n",
      "[6:그의1:말이7:법이다]\n",
      "[1:말이7:법이다]\n",
      "[8:가는1:말이]\n",
      "[8:가는1:말이9:고와야]\n",
      "[8:가는1:말이9:고와야10:오는]\n",
      "[8:가는1:말이9:고와야10:오는1:말이]\n",
      "[8:가는1:말이9:고와야10:오는1:말이11:곱다]\n",
      "[1:말이9:고와야]\n",
      "[1:말이9:고와야10:오는]\n",
      "[1:말이9:고와야10:오는1:말이]\n",
      "[1:말이9:고와야10:오는1:말이11:곱다]\n",
      "[9:고와야10:오는]\n",
      "[9:고와야10:오는1:말이]\n",
      "[9:고와야10:오는1:말이11:곱다]\n",
      "[10:오는1:말이]\n",
      "[10:오는1:말이11:곱다]\n",
      "[1:말이11:곱다]\n"
     ]
    }
   ],
   "source": [
    "# text 를 학습시키기 위해 ['경마장에 있는', '경마장에 있는 말이', '경마장에 있는 말이 뛰고', '경마장에 있는 말이 뛰고']\n",
    "sequences = []\n",
    "for line in text.split('\\n'):\n",
    "    print('원래 문장 :', line)\n",
    "    encoded = t.texts_to_sequences([line])[0]\n",
    "    print('encoded 문장 :', encoded)\n",
    "    for i in range(0, len(encoded)-1): # 시작 index \n",
    "        for j in range(i+2, len(encoded)+1): # 끝나는 index\n",
    "            sequences.append(encoded[i:j])\n",
    "# sequences\n",
    "print('sequences와 해석을 출력')\n",
    "for sequence in sequences:\n",
    "    print('[', end='')\n",
    "    for word_seq in sequence:\n",
    "        for word, value in t.word_index.items():\n",
    "            if word_seq==value:\n",
    "                print(\"{}:{}\".format(word_seq, word), end='')\n",
    "                break\n",
    "    print(']')"
   ]
  },
  {
   "cell_type": "code",
   "execution_count": 7,
   "id": "3d369499",
   "metadata": {
    "ExecuteTime": {
     "end_time": "2025-01-02T05:25:59.889275Z",
     "start_time": "2025-01-02T05:25:59.883292Z"
    }
   },
   "outputs": [
    {
     "data": {
      "text/plain": [
       "[[2, 3], [2, 3, 1], [2, 3, 1, 4], [2, 3, 1, 4, 5], [3, 1]]"
      ]
     },
     "execution_count": 7,
     "metadata": {},
     "output_type": "execute_result"
    }
   ],
   "source": [
    "sequences[:5]"
   ]
  },
  {
   "cell_type": "code",
   "execution_count": 8,
   "id": "f1c701ac",
   "metadata": {
    "ExecuteTime": {
     "end_time": "2025-01-02T05:25:59.899249Z",
     "start_time": "2025-01-02T05:25:59.893267Z"
    }
   },
   "outputs": [
    {
     "name": "stdout",
     "output_type": "stream",
     "text": [
      "[2, 3, 4, 5, 2, 3, 4, 2, 3, 2, 2, 3, 2, 2, 3, 4, 5, 6, 2, 3, 4, 5, 2, 3, 4, 2, 3, 2]\n"
     ]
    }
   ],
   "source": [
    "# sequence 별 len\n",
    "print([len(sequence) for sequence in sequences])\n"
   ]
  },
  {
   "cell_type": "code",
   "execution_count": 9,
   "id": "84168779",
   "metadata": {
    "ExecuteTime": {
     "end_time": "2025-01-02T05:25:59.908224Z",
     "start_time": "2025-01-02T05:25:59.902242Z"
    }
   },
   "outputs": [
    {
     "data": {
      "text/plain": [
       "6"
      ]
     },
     "execution_count": 9,
     "metadata": {},
     "output_type": "execute_result"
    }
   ],
   "source": [
    "my_len = max([len(sequence) for sequence in sequences])\n",
    "my_len"
   ]
  },
  {
   "cell_type": "code",
   "execution_count": 10,
   "id": "30833277",
   "metadata": {
    "ExecuteTime": {
     "end_time": "2025-01-02T05:26:03.311874Z",
     "start_time": "2025-01-02T05:25:59.912214Z"
    }
   },
   "outputs": [
    {
     "data": {
      "text/plain": [
       "(numpy.ndarray,\n",
       " (28, 6),\n",
       " array([[ 0,  0,  0,  0,  2,  3],\n",
       "        [ 0,  0,  0,  2,  3,  1],\n",
       "        [ 0,  0,  2,  3,  1,  4],\n",
       "        [ 0,  2,  3,  1,  4,  5],\n",
       "        [ 0,  0,  0,  0,  3,  1],\n",
       "        [ 0,  0,  0,  3,  1,  4],\n",
       "        [ 0,  0,  3,  1,  4,  5],\n",
       "        [ 0,  0,  0,  0,  1,  4],\n",
       "        [ 0,  0,  0,  1,  4,  5],\n",
       "        [ 0,  0,  0,  0,  4,  5],\n",
       "        [ 0,  0,  0,  0,  6,  1],\n",
       "        [ 0,  0,  0,  6,  1,  7],\n",
       "        [ 0,  0,  0,  0,  1,  7],\n",
       "        [ 0,  0,  0,  0,  8,  1],\n",
       "        [ 0,  0,  0,  8,  1,  9],\n",
       "        [ 0,  0,  8,  1,  9, 10],\n",
       "        [ 0,  8,  1,  9, 10,  1],\n",
       "        [ 8,  1,  9, 10,  1, 11],\n",
       "        [ 0,  0,  0,  0,  1,  9],\n",
       "        [ 0,  0,  0,  1,  9, 10],\n",
       "        [ 0,  0,  1,  9, 10,  1],\n",
       "        [ 0,  1,  9, 10,  1, 11],\n",
       "        [ 0,  0,  0,  0,  9, 10],\n",
       "        [ 0,  0,  0,  9, 10,  1],\n",
       "        [ 0,  0,  9, 10,  1, 11],\n",
       "        [ 0,  0,  0,  0, 10,  1],\n",
       "        [ 0,  0,  0, 10,  1, 11],\n",
       "        [ 0,  0,  0,  0,  1, 11]]))"
      ]
     },
     "execution_count": 10,
     "metadata": {},
     "output_type": "execute_result"
    }
   ],
   "source": [
    "# sequences 를 훈련 가능하도록 6개열로 조정\n",
    "from tensorflow.keras.preprocessing.sequence import pad_sequences\n",
    "padded_sequences = pad_sequences(sequences=sequences,\n",
    "                                maxlen= my_len, # 최대 열수\n",
    "                                padding='pre', # 최대 열수보다 작은 경우 0을 채울위치\n",
    "                                # truncating='post' # 최대 열수보다 많은 경우 데이터를 짜를 위치\n",
    "                                )\n",
    "type(padded_sequences),padded_sequences.shape, padded_sequences"
   ]
  },
  {
   "cell_type": "code",
   "execution_count": 11,
   "id": "c963ba99",
   "metadata": {
    "ExecuteTime": {
     "end_time": "2025-01-02T05:26:03.320850Z",
     "start_time": "2025-01-02T05:26:03.313869Z"
    }
   },
   "outputs": [
    {
     "data": {
      "text/plain": [
       "array([ 3,  1,  4,  5,  1,  4,  5,  4,  5,  5,  1,  7,  7,  1,  9, 10,  1,\n",
       "       11,  9, 10,  1, 11, 10,  1, 11,  1, 11, 11])"
      ]
     },
     "execution_count": 11,
     "metadata": {},
     "output_type": "execute_result"
    }
   ],
   "source": [
    "# 독립변수(X) 와 타겟변수(종속변수 Y)로 분리\n",
    "X = padded_sequences[:,:-1]\n",
    "y = padded_sequences[:,-1]\n",
    "y"
   ]
  },
  {
   "cell_type": "code",
   "execution_count": 12,
   "id": "9ad12417",
   "metadata": {
    "ExecuteTime": {
     "end_time": "2025-01-02T05:26:03.335360Z",
     "start_time": "2025-01-02T05:26:03.327832Z"
    }
   },
   "outputs": [],
   "source": [
    "# 단어 갯수\n",
    "vocab_size = len(t.word_index)"
   ]
  },
  {
   "cell_type": "code",
   "execution_count": 13,
   "id": "61860c6d",
   "metadata": {
    "ExecuteTime": {
     "end_time": "2025-01-02T05:26:03.353128Z",
     "start_time": "2025-01-02T05:26:03.337541Z"
    }
   },
   "outputs": [
    {
     "data": {
      "text/plain": [
       "array([[0., 0., 0., 1., 0., 0., 0., 0., 0., 0., 0., 0.],\n",
       "       [0., 1., 0., 0., 0., 0., 0., 0., 0., 0., 0., 0.],\n",
       "       [0., 0., 0., 0., 1., 0., 0., 0., 0., 0., 0., 0.],\n",
       "       [0., 0., 0., 0., 0., 1., 0., 0., 0., 0., 0., 0.],\n",
       "       [0., 1., 0., 0., 0., 0., 0., 0., 0., 0., 0., 0.],\n",
       "       [0., 0., 0., 0., 1., 0., 0., 0., 0., 0., 0., 0.],\n",
       "       [0., 0., 0., 0., 0., 1., 0., 0., 0., 0., 0., 0.],\n",
       "       [0., 0., 0., 0., 1., 0., 0., 0., 0., 0., 0., 0.],\n",
       "       [0., 0., 0., 0., 0., 1., 0., 0., 0., 0., 0., 0.],\n",
       "       [0., 0., 0., 0., 0., 1., 0., 0., 0., 0., 0., 0.],\n",
       "       [0., 1., 0., 0., 0., 0., 0., 0., 0., 0., 0., 0.],\n",
       "       [0., 0., 0., 0., 0., 0., 0., 1., 0., 0., 0., 0.],\n",
       "       [0., 0., 0., 0., 0., 0., 0., 1., 0., 0., 0., 0.],\n",
       "       [0., 1., 0., 0., 0., 0., 0., 0., 0., 0., 0., 0.],\n",
       "       [0., 0., 0., 0., 0., 0., 0., 0., 0., 1., 0., 0.],\n",
       "       [0., 0., 0., 0., 0., 0., 0., 0., 0., 0., 1., 0.],\n",
       "       [0., 1., 0., 0., 0., 0., 0., 0., 0., 0., 0., 0.],\n",
       "       [0., 0., 0., 0., 0., 0., 0., 0., 0., 0., 0., 1.],\n",
       "       [0., 0., 0., 0., 0., 0., 0., 0., 0., 1., 0., 0.],\n",
       "       [0., 0., 0., 0., 0., 0., 0., 0., 0., 0., 1., 0.],\n",
       "       [0., 1., 0., 0., 0., 0., 0., 0., 0., 0., 0., 0.],\n",
       "       [0., 0., 0., 0., 0., 0., 0., 0., 0., 0., 0., 1.],\n",
       "       [0., 0., 0., 0., 0., 0., 0., 0., 0., 0., 1., 0.],\n",
       "       [0., 1., 0., 0., 0., 0., 0., 0., 0., 0., 0., 0.],\n",
       "       [0., 0., 0., 0., 0., 0., 0., 0., 0., 0., 0., 1.],\n",
       "       [0., 1., 0., 0., 0., 0., 0., 0., 0., 0., 0., 0.],\n",
       "       [0., 0., 0., 0., 0., 0., 0., 0., 0., 0., 0., 1.],\n",
       "       [0., 0., 0., 0., 0., 0., 0., 0., 0., 0., 0., 1.]], dtype=float32)"
      ]
     },
     "execution_count": 13,
     "metadata": {},
     "output_type": "execute_result"
    }
   ],
   "source": [
    "# One-Hot Encoding \n",
    "# to_categorical 사용 (2, 8 없음 고려)\n",
    "from tensorflow.keras.utils import to_categorical\n",
    "Y = to_categorical(y, \n",
    "                   vocab_size + 1) #  One-Hot Encoding 카테고리 수\n",
    "Y"
   ]
  },
  {
   "cell_type": "code",
   "execution_count": null,
   "id": "41a4ae34",
   "metadata": {},
   "outputs": [],
   "source": []
  },
  {
   "cell_type": "markdown",
   "id": "226eef70",
   "metadata": {},
   "source": [
    "# 2. 모델 생성(RNN)\n",
    "- 순서가 의미 있는 데이터를 학습할 경우"
   ]
  },
  {
   "cell_type": "code",
   "execution_count": 14,
   "id": "47885a2a",
   "metadata": {
    "ExecuteTime": {
     "end_time": "2025-01-02T05:26:04.585409Z",
     "start_time": "2025-01-02T05:26:03.356121Z"
    }
   },
   "outputs": [
    {
     "name": "stdout",
     "output_type": "stream",
     "text": [
      "Model: \"sequential\"\n",
      "_________________________________________________________________\n",
      " Layer (type)                Output Shape              Param #   \n",
      "=================================================================\n",
      " embedding (Embedding)       (None, 5, 10)             120       \n",
      "                                                                 \n",
      " simple_rnn (SimpleRNN)      (None, 32)                1376      \n",
      "                                                                 \n",
      " dense (Dense)               (None, 12)                396       \n",
      "                                                                 \n",
      "=================================================================\n",
      "Total params: 1,892\n",
      "Trainable params: 1,892\n",
      "Non-trainable params: 0\n",
      "_________________________________________________________________\n",
      "None\n"
     ]
    }
   ],
   "source": [
    "from tensorflow.keras.models import Sequential # 순차적 레이어 모델 생성\n",
    "from tensorflow.keras.layers import Embedding, SimpleRNN # 긴 희소행렬 변환\n",
    "from tensorflow.keras.layers import Dense\n",
    "\n",
    "model = Sequential()\n",
    "# 희소행렬(12) -> 10열 행렬 (31개행 = 독립변수 행수)\n",
    "model.add(Embedding(input_dim=vocab_size+1, # 12개 입력\n",
    "                    output_dim=vocab_size-1, # 10개를 출력하기 위한 embedding\n",
    "                    input_length=X.shape[1], # 독립변수 데이터 수\n",
    "                   ))\n",
    "model.add(SimpleRNN(units=32))\n",
    "model.add(Dense(units=Y.shape[1], activation='softmax'))\n",
    "print(model.summary())"
   ]
  },
  {
   "cell_type": "code",
   "execution_count": 51,
   "id": "08cfaea5",
   "metadata": {
    "ExecuteTime": {
     "end_time": "2025-01-02T05:40:14.134795Z",
     "start_time": "2025-01-02T05:40:04.765697Z"
    }
   },
   "outputs": [
    {
     "name": "stdout",
     "output_type": "stream",
     "text": [
      "Epoch 1/300\n",
      "1/1 - 1s - loss: 0.2761 - accuracy: 0.8929 - 1s/epoch - 1s/step\n",
      "Epoch 2/300\n",
      "1/1 - 0s - loss: 0.2740 - accuracy: 0.8929 - 24ms/epoch - 24ms/step\n",
      "Epoch 3/300\n",
      "1/1 - 0s - loss: 0.2727 - accuracy: 0.8929 - 27ms/epoch - 27ms/step\n",
      "Epoch 4/300\n",
      "1/1 - 0s - loss: 0.2702 - accuracy: 0.8929 - 23ms/epoch - 23ms/step\n",
      "Epoch 5/300\n",
      "1/1 - 0s - loss: 0.2688 - accuracy: 0.8929 - 23ms/epoch - 23ms/step\n",
      "Epoch 6/300\n",
      "1/1 - 0s - loss: 0.2669 - accuracy: 0.8929 - 22ms/epoch - 22ms/step\n",
      "Epoch 7/300\n",
      "1/1 - 0s - loss: 0.2649 - accuracy: 0.8929 - 23ms/epoch - 23ms/step\n",
      "Epoch 8/300\n",
      "1/1 - 0s - loss: 0.2634 - accuracy: 0.8929 - 20ms/epoch - 20ms/step\n",
      "Epoch 9/300\n",
      "1/1 - 0s - loss: 0.2618 - accuracy: 0.8929 - 20ms/epoch - 20ms/step\n",
      "Epoch 10/300\n",
      "1/1 - 0s - loss: 0.2601 - accuracy: 0.8929 - 25ms/epoch - 25ms/step\n",
      "Epoch 11/300\n",
      "1/1 - 0s - loss: 0.2585 - accuracy: 0.8929 - 22ms/epoch - 22ms/step\n",
      "Epoch 12/300\n",
      "1/1 - 0s - loss: 0.2571 - accuracy: 0.8929 - 23ms/epoch - 23ms/step\n",
      "Epoch 13/300\n",
      "1/1 - 0s - loss: 0.2556 - accuracy: 0.8929 - 24ms/epoch - 24ms/step\n",
      "Epoch 14/300\n",
      "1/1 - 0s - loss: 0.2540 - accuracy: 0.8929 - 20ms/epoch - 20ms/step\n",
      "Epoch 15/300\n",
      "1/1 - 0s - loss: 0.2526 - accuracy: 0.8929 - 22ms/epoch - 22ms/step\n",
      "Epoch 16/300\n",
      "1/1 - 0s - loss: 0.2513 - accuracy: 0.8929 - 23ms/epoch - 23ms/step\n",
      "Epoch 17/300\n",
      "1/1 - 0s - loss: 0.2500 - accuracy: 0.8929 - 24ms/epoch - 24ms/step\n",
      "Epoch 18/300\n",
      "1/1 - 0s - loss: 0.2486 - accuracy: 0.8929 - 20ms/epoch - 20ms/step\n",
      "Epoch 19/300\n",
      "1/1 - 0s - loss: 0.2474 - accuracy: 0.8929 - 20ms/epoch - 20ms/step\n",
      "Epoch 20/300\n",
      "1/1 - 0s - loss: 0.2462 - accuracy: 0.8929 - 22ms/epoch - 22ms/step\n",
      "Epoch 21/300\n",
      "1/1 - 0s - loss: 0.2450 - accuracy: 0.8929 - 21ms/epoch - 21ms/step\n",
      "Epoch 22/300\n",
      "1/1 - 0s - loss: 0.2438 - accuracy: 0.8929 - 24ms/epoch - 24ms/step\n",
      "Epoch 23/300\n",
      "1/1 - 0s - loss: 0.2426 - accuracy: 0.8929 - 23ms/epoch - 23ms/step\n",
      "Epoch 24/300\n",
      "1/1 - 0s - loss: 0.2416 - accuracy: 0.8929 - 22ms/epoch - 22ms/step\n",
      "Epoch 25/300\n",
      "1/1 - 0s - loss: 0.2405 - accuracy: 0.8929 - 26ms/epoch - 26ms/step\n",
      "Epoch 26/300\n",
      "1/1 - 0s - loss: 0.2394 - accuracy: 0.8929 - 22ms/epoch - 22ms/step\n",
      "Epoch 27/300\n",
      "1/1 - 0s - loss: 0.2384 - accuracy: 0.8929 - 23ms/epoch - 23ms/step\n",
      "Epoch 28/300\n",
      "1/1 - 0s - loss: 0.2375 - accuracy: 0.8929 - 22ms/epoch - 22ms/step\n",
      "Epoch 29/300\n",
      "1/1 - 0s - loss: 0.2365 - accuracy: 0.8929 - 21ms/epoch - 21ms/step\n",
      "Epoch 30/300\n",
      "1/1 - 0s - loss: 0.2356 - accuracy: 0.8929 - 24ms/epoch - 24ms/step\n",
      "Epoch 31/300\n",
      "1/1 - 0s - loss: 0.2347 - accuracy: 0.8929 - 23ms/epoch - 23ms/step\n",
      "Epoch 32/300\n",
      "1/1 - 0s - loss: 0.2339 - accuracy: 0.8929 - 22ms/epoch - 22ms/step\n",
      "Epoch 33/300\n",
      "1/1 - 0s - loss: 0.2330 - accuracy: 0.8929 - 24ms/epoch - 24ms/step\n",
      "Epoch 34/300\n",
      "1/1 - 0s - loss: 0.2322 - accuracy: 0.8929 - 20ms/epoch - 20ms/step\n",
      "Epoch 35/300\n",
      "1/1 - 0s - loss: 0.2314 - accuracy: 0.8929 - 21ms/epoch - 21ms/step\n",
      "Epoch 36/300\n",
      "1/1 - 0s - loss: 0.2307 - accuracy: 0.8929 - 25ms/epoch - 25ms/step\n",
      "Epoch 37/300\n",
      "1/1 - 0s - loss: 0.2299 - accuracy: 0.8929 - 23ms/epoch - 23ms/step\n",
      "Epoch 38/300\n",
      "1/1 - 0s - loss: 0.2292 - accuracy: 0.8929 - 20ms/epoch - 20ms/step\n",
      "Epoch 39/300\n",
      "1/1 - 0s - loss: 0.2285 - accuracy: 0.8929 - 22ms/epoch - 22ms/step\n",
      "Epoch 40/300\n",
      "1/1 - 0s - loss: 0.2278 - accuracy: 0.8929 - 21ms/epoch - 21ms/step\n",
      "Epoch 41/300\n",
      "1/1 - 0s - loss: 0.2271 - accuracy: 0.8929 - 25ms/epoch - 25ms/step\n",
      "Epoch 42/300\n",
      "1/1 - 0s - loss: 0.2265 - accuracy: 0.8929 - 21ms/epoch - 21ms/step\n",
      "Epoch 43/300\n",
      "1/1 - 0s - loss: 0.2259 - accuracy: 0.8929 - 21ms/epoch - 21ms/step\n",
      "Epoch 44/300\n",
      "1/1 - 0s - loss: 0.2253 - accuracy: 0.8929 - 21ms/epoch - 21ms/step\n",
      "Epoch 45/300\n",
      "1/1 - 0s - loss: 0.2247 - accuracy: 0.8929 - 22ms/epoch - 22ms/step\n",
      "Epoch 46/300\n",
      "1/1 - 0s - loss: 0.2241 - accuracy: 0.8929 - 23ms/epoch - 23ms/step\n",
      "Epoch 47/300\n",
      "1/1 - 0s - loss: 0.2236 - accuracy: 0.8929 - 22ms/epoch - 22ms/step\n",
      "Epoch 48/300\n",
      "1/1 - 0s - loss: 0.2231 - accuracy: 0.8929 - 22ms/epoch - 22ms/step\n",
      "Epoch 49/300\n",
      "1/1 - 0s - loss: 0.2225 - accuracy: 0.8929 - 21ms/epoch - 21ms/step\n",
      "Epoch 50/300\n",
      "1/1 - 0s - loss: 0.2220 - accuracy: 0.8929 - 28ms/epoch - 28ms/step\n",
      "Epoch 51/300\n",
      "1/1 - 0s - loss: 0.2215 - accuracy: 0.8929 - 24ms/epoch - 24ms/step\n",
      "Epoch 52/300\n",
      "1/1 - 0s - loss: 0.2211 - accuracy: 0.8929 - 20ms/epoch - 20ms/step\n",
      "Epoch 53/300\n",
      "1/1 - 0s - loss: 0.2206 - accuracy: 0.8929 - 22ms/epoch - 22ms/step\n",
      "Epoch 54/300\n",
      "1/1 - 0s - loss: 0.2202 - accuracy: 0.8929 - 34ms/epoch - 34ms/step\n",
      "Epoch 55/300\n",
      "1/1 - 0s - loss: 0.2197 - accuracy: 0.8929 - 21ms/epoch - 21ms/step\n",
      "Epoch 56/300\n",
      "1/1 - 0s - loss: 0.2193 - accuracy: 0.8929 - 20ms/epoch - 20ms/step\n",
      "Epoch 57/300\n",
      "1/1 - 0s - loss: 0.2189 - accuracy: 0.8929 - 24ms/epoch - 24ms/step\n",
      "Epoch 58/300\n",
      "1/1 - 0s - loss: 0.2185 - accuracy: 0.8929 - 21ms/epoch - 21ms/step\n",
      "Epoch 59/300\n",
      "1/1 - 0s - loss: 0.2181 - accuracy: 0.8929 - 23ms/epoch - 23ms/step\n",
      "Epoch 60/300\n",
      "1/1 - 0s - loss: 0.2177 - accuracy: 0.8929 - 22ms/epoch - 22ms/step\n",
      "Epoch 61/300\n",
      "1/1 - 0s - loss: 0.2174 - accuracy: 0.8929 - 22ms/epoch - 22ms/step\n",
      "Epoch 62/300\n",
      "1/1 - 0s - loss: 0.2170 - accuracy: 0.8929 - 25ms/epoch - 25ms/step\n",
      "Epoch 63/300\n",
      "1/1 - 0s - loss: 0.2166 - accuracy: 0.8929 - 24ms/epoch - 24ms/step\n",
      "Epoch 64/300\n",
      "1/1 - 0s - loss: 0.2163 - accuracy: 0.8929 - 22ms/epoch - 22ms/step\n",
      "Epoch 65/300\n",
      "1/1 - 0s - loss: 0.2160 - accuracy: 0.8929 - 25ms/epoch - 25ms/step\n",
      "Epoch 66/300\n",
      "1/1 - 0s - loss: 0.2157 - accuracy: 0.8929 - 28ms/epoch - 28ms/step\n",
      "Epoch 67/300\n",
      "1/1 - 0s - loss: 0.2153 - accuracy: 0.8929 - 20ms/epoch - 20ms/step\n",
      "Epoch 68/300\n",
      "1/1 - 0s - loss: 0.2150 - accuracy: 0.8929 - 23ms/epoch - 23ms/step\n",
      "Epoch 69/300\n",
      "1/1 - 0s - loss: 0.2147 - accuracy: 0.8929 - 26ms/epoch - 26ms/step\n",
      "Epoch 70/300\n",
      "1/1 - 0s - loss: 0.2145 - accuracy: 0.8929 - 26ms/epoch - 26ms/step\n",
      "Epoch 71/300\n",
      "1/1 - 0s - loss: 0.2142 - accuracy: 0.8929 - 23ms/epoch - 23ms/step\n",
      "Epoch 72/300\n",
      "1/1 - 0s - loss: 0.2139 - accuracy: 0.8929 - 21ms/epoch - 21ms/step\n",
      "Epoch 73/300\n",
      "1/1 - 0s - loss: 0.2136 - accuracy: 0.8929 - 23ms/epoch - 23ms/step\n",
      "Epoch 74/300\n",
      "1/1 - 0s - loss: 0.2134 - accuracy: 0.8929 - 20ms/epoch - 20ms/step\n",
      "Epoch 75/300\n",
      "1/1 - 0s - loss: 0.2131 - accuracy: 0.8929 - 25ms/epoch - 25ms/step\n",
      "Epoch 76/300\n",
      "1/1 - 0s - loss: 0.2129 - accuracy: 0.8929 - 26ms/epoch - 26ms/step\n",
      "Epoch 77/300\n",
      "1/1 - 0s - loss: 0.2126 - accuracy: 0.8929 - 23ms/epoch - 23ms/step\n",
      "Epoch 78/300\n",
      "1/1 - 0s - loss: 0.2124 - accuracy: 0.8929 - 24ms/epoch - 24ms/step\n",
      "Epoch 79/300\n",
      "1/1 - 0s - loss: 0.2122 - accuracy: 0.8929 - 23ms/epoch - 23ms/step\n",
      "Epoch 80/300\n",
      "1/1 - 0s - loss: 0.2119 - accuracy: 0.8929 - 27ms/epoch - 27ms/step\n",
      "Epoch 81/300\n",
      "1/1 - 0s - loss: 0.2117 - accuracy: 0.8929 - 21ms/epoch - 21ms/step\n",
      "Epoch 82/300\n",
      "1/1 - 0s - loss: 0.2115 - accuracy: 0.8929 - 25ms/epoch - 25ms/step\n",
      "Epoch 83/300\n",
      "1/1 - 0s - loss: 0.2113 - accuracy: 0.8929 - 23ms/epoch - 23ms/step\n",
      "Epoch 84/300\n",
      "1/1 - 0s - loss: 0.2111 - accuracy: 0.8929 - 23ms/epoch - 23ms/step\n",
      "Epoch 85/300\n",
      "1/1 - 0s - loss: 0.2109 - accuracy: 0.8929 - 25ms/epoch - 25ms/step\n",
      "Epoch 86/300\n",
      "1/1 - 0s - loss: 0.2107 - accuracy: 0.8929 - 19ms/epoch - 19ms/step\n",
      "Epoch 87/300\n",
      "1/1 - 0s - loss: 0.2105 - accuracy: 0.8929 - 25ms/epoch - 25ms/step\n",
      "Epoch 88/300\n",
      "1/1 - 0s - loss: 0.2103 - accuracy: 0.8929 - 24ms/epoch - 24ms/step\n",
      "Epoch 89/300\n",
      "1/1 - 0s - loss: 0.2101 - accuracy: 0.8929 - 25ms/epoch - 25ms/step\n",
      "Epoch 90/300\n",
      "1/1 - 0s - loss: 0.2099 - accuracy: 0.8929 - 22ms/epoch - 22ms/step\n",
      "Epoch 91/300\n",
      "1/1 - 0s - loss: 0.2098 - accuracy: 0.8929 - 24ms/epoch - 24ms/step\n",
      "Epoch 92/300\n",
      "1/1 - 0s - loss: 0.2096 - accuracy: 0.8929 - 24ms/epoch - 24ms/step\n",
      "Epoch 93/300\n",
      "1/1 - 0s - loss: 0.2094 - accuracy: 0.8929 - 36ms/epoch - 36ms/step\n",
      "Epoch 94/300\n",
      "1/1 - 0s - loss: 0.2093 - accuracy: 0.8929 - 23ms/epoch - 23ms/step\n",
      "Epoch 95/300\n",
      "1/1 - 0s - loss: 0.2091 - accuracy: 0.8929 - 22ms/epoch - 22ms/step\n",
      "Epoch 96/300\n",
      "1/1 - 0s - loss: 0.2090 - accuracy: 0.8929 - 22ms/epoch - 22ms/step\n",
      "Epoch 97/300\n",
      "1/1 - 0s - loss: 0.2088 - accuracy: 0.8929 - 20ms/epoch - 20ms/step\n",
      "Epoch 98/300\n",
      "1/1 - 0s - loss: 0.2086 - accuracy: 0.8929 - 25ms/epoch - 25ms/step\n",
      "Epoch 99/300\n",
      "1/1 - 0s - loss: 0.2085 - accuracy: 0.8929 - 22ms/epoch - 22ms/step\n",
      "Epoch 100/300\n",
      "1/1 - 0s - loss: 0.2084 - accuracy: 0.8929 - 23ms/epoch - 23ms/step\n",
      "Epoch 101/300\n",
      "1/1 - 0s - loss: 0.2082 - accuracy: 0.8929 - 25ms/epoch - 25ms/step\n",
      "Epoch 102/300\n",
      "1/1 - 0s - loss: 0.2081 - accuracy: 0.8929 - 26ms/epoch - 26ms/step\n"
     ]
    },
    {
     "name": "stdout",
     "output_type": "stream",
     "text": [
      "Epoch 103/300\n",
      "1/1 - 0s - loss: 0.2079 - accuracy: 0.8929 - 22ms/epoch - 22ms/step\n",
      "Epoch 104/300\n",
      "1/1 - 0s - loss: 0.2078 - accuracy: 0.8929 - 23ms/epoch - 23ms/step\n",
      "Epoch 105/300\n",
      "1/1 - 0s - loss: 0.2077 - accuracy: 0.8929 - 26ms/epoch - 26ms/step\n",
      "Epoch 106/300\n",
      "1/1 - 0s - loss: 0.2076 - accuracy: 0.8929 - 22ms/epoch - 22ms/step\n",
      "Epoch 107/300\n",
      "1/1 - 0s - loss: 0.2074 - accuracy: 0.8929 - 22ms/epoch - 22ms/step\n",
      "Epoch 108/300\n",
      "1/1 - 0s - loss: 0.2073 - accuracy: 0.8929 - 23ms/epoch - 23ms/step\n",
      "Epoch 109/300\n",
      "1/1 - 0s - loss: 0.2072 - accuracy: 0.8929 - 24ms/epoch - 24ms/step\n",
      "Epoch 110/300\n",
      "1/1 - 0s - loss: 0.2071 - accuracy: 0.8929 - 27ms/epoch - 27ms/step\n",
      "Epoch 111/300\n",
      "1/1 - 0s - loss: 0.2070 - accuracy: 0.8929 - 23ms/epoch - 23ms/step\n",
      "Epoch 112/300\n",
      "1/1 - 0s - loss: 0.2068 - accuracy: 0.8929 - 24ms/epoch - 24ms/step\n",
      "Epoch 113/300\n",
      "1/1 - 0s - loss: 0.2067 - accuracy: 0.8929 - 21ms/epoch - 21ms/step\n",
      "Epoch 114/300\n",
      "1/1 - 0s - loss: 0.2066 - accuracy: 0.8929 - 26ms/epoch - 26ms/step\n",
      "Epoch 115/300\n",
      "1/1 - 0s - loss: 0.2065 - accuracy: 0.8929 - 25ms/epoch - 25ms/step\n",
      "Epoch 116/300\n",
      "1/1 - 0s - loss: 0.2064 - accuracy: 0.8929 - 23ms/epoch - 23ms/step\n",
      "Epoch 117/300\n",
      "1/1 - 0s - loss: 0.2063 - accuracy: 0.8929 - 25ms/epoch - 25ms/step\n",
      "Epoch 118/300\n",
      "1/1 - 0s - loss: 0.2062 - accuracy: 0.8929 - 22ms/epoch - 22ms/step\n",
      "Epoch 119/300\n",
      "1/1 - 0s - loss: 0.2061 - accuracy: 0.8929 - 24ms/epoch - 24ms/step\n",
      "Epoch 120/300\n",
      "1/1 - 0s - loss: 0.2060 - accuracy: 0.8929 - 25ms/epoch - 25ms/step\n",
      "Epoch 121/300\n",
      "1/1 - 0s - loss: 0.2059 - accuracy: 0.8929 - 24ms/epoch - 24ms/step\n",
      "Epoch 122/300\n",
      "1/1 - 0s - loss: 0.2058 - accuracy: 0.8929 - 22ms/epoch - 22ms/step\n",
      "Epoch 123/300\n",
      "1/1 - 0s - loss: 0.2057 - accuracy: 0.8929 - 27ms/epoch - 27ms/step\n",
      "Epoch 124/300\n",
      "1/1 - 0s - loss: 0.2056 - accuracy: 0.8929 - 26ms/epoch - 26ms/step\n",
      "Epoch 125/300\n",
      "1/1 - 0s - loss: 0.2056 - accuracy: 0.8929 - 22ms/epoch - 22ms/step\n",
      "Epoch 126/300\n",
      "1/1 - 0s - loss: 0.2055 - accuracy: 0.8929 - 24ms/epoch - 24ms/step\n",
      "Epoch 127/300\n",
      "1/1 - 0s - loss: 0.2054 - accuracy: 0.8929 - 24ms/epoch - 24ms/step\n",
      "Epoch 128/300\n",
      "1/1 - 0s - loss: 0.2053 - accuracy: 0.8929 - 23ms/epoch - 23ms/step\n",
      "Epoch 129/300\n",
      "1/1 - 0s - loss: 0.2052 - accuracy: 0.8929 - 28ms/epoch - 28ms/step\n",
      "Epoch 130/300\n",
      "1/1 - 0s - loss: 0.2051 - accuracy: 0.8929 - 20ms/epoch - 20ms/step\n",
      "Epoch 131/300\n",
      "1/1 - 0s - loss: 0.2051 - accuracy: 0.8929 - 24ms/epoch - 24ms/step\n",
      "Epoch 132/300\n",
      "1/1 - 0s - loss: 0.2050 - accuracy: 0.8929 - 25ms/epoch - 25ms/step\n",
      "Epoch 133/300\n",
      "1/1 - 0s - loss: 0.2049 - accuracy: 0.8929 - 30ms/epoch - 30ms/step\n",
      "Epoch 134/300\n",
      "1/1 - 0s - loss: 0.2048 - accuracy: 0.8929 - 27ms/epoch - 27ms/step\n",
      "Epoch 135/300\n",
      "1/1 - 0s - loss: 0.2048 - accuracy: 0.8929 - 23ms/epoch - 23ms/step\n",
      "Epoch 136/300\n",
      "1/1 - 0s - loss: 0.2047 - accuracy: 0.8929 - 22ms/epoch - 22ms/step\n",
      "Epoch 137/300\n",
      "1/1 - 0s - loss: 0.2046 - accuracy: 0.8929 - 24ms/epoch - 24ms/step\n",
      "Epoch 138/300\n",
      "1/1 - 0s - loss: 0.2045 - accuracy: 0.8929 - 26ms/epoch - 26ms/step\n",
      "Epoch 139/300\n",
      "1/1 - 0s - loss: 0.2045 - accuracy: 0.8929 - 23ms/epoch - 23ms/step\n",
      "Epoch 140/300\n",
      "1/1 - 0s - loss: 0.2044 - accuracy: 0.8929 - 26ms/epoch - 26ms/step\n",
      "Epoch 141/300\n",
      "1/1 - 0s - loss: 0.2043 - accuracy: 0.8929 - 24ms/epoch - 24ms/step\n",
      "Epoch 142/300\n",
      "1/1 - 0s - loss: 0.2043 - accuracy: 0.8929 - 22ms/epoch - 22ms/step\n",
      "Epoch 143/300\n",
      "1/1 - 0s - loss: 0.2042 - accuracy: 0.8929 - 25ms/epoch - 25ms/step\n",
      "Epoch 144/300\n",
      "1/1 - 0s - loss: 0.2041 - accuracy: 0.8929 - 26ms/epoch - 26ms/step\n",
      "Epoch 145/300\n",
      "1/1 - 0s - loss: 0.2041 - accuracy: 0.8929 - 26ms/epoch - 26ms/step\n",
      "Epoch 146/300\n",
      "1/1 - 0s - loss: 0.2040 - accuracy: 0.8929 - 23ms/epoch - 23ms/step\n",
      "Epoch 147/300\n",
      "1/1 - 0s - loss: 0.2040 - accuracy: 0.8929 - 27ms/epoch - 27ms/step\n",
      "Epoch 148/300\n",
      "1/1 - 0s - loss: 0.2039 - accuracy: 0.8929 - 27ms/epoch - 27ms/step\n",
      "Epoch 149/300\n",
      "1/1 - 0s - loss: 0.2038 - accuracy: 0.8929 - 24ms/epoch - 24ms/step\n",
      "Epoch 150/300\n",
      "1/1 - 0s - loss: 0.2038 - accuracy: 0.8929 - 22ms/epoch - 22ms/step\n",
      "Epoch 151/300\n",
      "1/1 - 0s - loss: 0.2037 - accuracy: 0.8929 - 21ms/epoch - 21ms/step\n",
      "Epoch 152/300\n",
      "1/1 - 0s - loss: 0.2037 - accuracy: 0.8929 - 25ms/epoch - 25ms/step\n",
      "Epoch 153/300\n",
      "1/1 - 0s - loss: 0.2036 - accuracy: 0.8929 - 21ms/epoch - 21ms/step\n",
      "Epoch 154/300\n",
      "1/1 - 0s - loss: 0.2035 - accuracy: 0.8929 - 22ms/epoch - 22ms/step\n",
      "Epoch 155/300\n",
      "1/1 - 0s - loss: 0.2035 - accuracy: 0.8929 - 25ms/epoch - 25ms/step\n",
      "Epoch 156/300\n",
      "1/1 - 0s - loss: 0.2034 - accuracy: 0.8929 - 20ms/epoch - 20ms/step\n",
      "Epoch 157/300\n",
      "1/1 - 0s - loss: 0.2034 - accuracy: 0.8929 - 21ms/epoch - 21ms/step\n",
      "Epoch 158/300\n",
      "1/1 - 0s - loss: 0.2033 - accuracy: 0.8929 - 23ms/epoch - 23ms/step\n",
      "Epoch 159/300\n",
      "1/1 - 0s - loss: 0.2033 - accuracy: 0.8929 - 22ms/epoch - 22ms/step\n",
      "Epoch 160/300\n",
      "1/1 - 0s - loss: 0.2032 - accuracy: 0.8929 - 22ms/epoch - 22ms/step\n",
      "Epoch 161/300\n",
      "1/1 - 0s - loss: 0.2032 - accuracy: 0.8929 - 21ms/epoch - 21ms/step\n",
      "Epoch 162/300\n",
      "1/1 - 0s - loss: 0.2031 - accuracy: 0.8929 - 21ms/epoch - 21ms/step\n",
      "Epoch 163/300\n",
      "1/1 - 0s - loss: 0.2031 - accuracy: 0.8929 - 19ms/epoch - 19ms/step\n",
      "Epoch 164/300\n",
      "1/1 - 0s - loss: 0.2030 - accuracy: 0.8929 - 26ms/epoch - 26ms/step\n",
      "Epoch 165/300\n",
      "1/1 - 0s - loss: 0.2030 - accuracy: 0.8929 - 24ms/epoch - 24ms/step\n",
      "Epoch 166/300\n",
      "1/1 - 0s - loss: 0.2029 - accuracy: 0.8929 - 23ms/epoch - 23ms/step\n",
      "Epoch 167/300\n",
      "1/1 - 0s - loss: 0.2029 - accuracy: 0.8929 - 21ms/epoch - 21ms/step\n",
      "Epoch 168/300\n",
      "1/1 - 0s - loss: 0.2029 - accuracy: 0.8929 - 20ms/epoch - 20ms/step\n",
      "Epoch 169/300\n",
      "1/1 - 0s - loss: 0.2028 - accuracy: 0.8929 - 23ms/epoch - 23ms/step\n",
      "Epoch 170/300\n",
      "1/1 - 0s - loss: 0.2028 - accuracy: 0.8929 - 23ms/epoch - 23ms/step\n",
      "Epoch 171/300\n",
      "1/1 - 0s - loss: 0.2027 - accuracy: 0.8929 - 21ms/epoch - 21ms/step\n",
      "Epoch 172/300\n",
      "1/1 - 0s - loss: 0.2027 - accuracy: 0.8929 - 22ms/epoch - 22ms/step\n",
      "Epoch 173/300\n",
      "1/1 - 0s - loss: 0.2026 - accuracy: 0.8929 - 21ms/epoch - 21ms/step\n",
      "Epoch 174/300\n",
      "1/1 - 0s - loss: 0.2026 - accuracy: 0.8929 - 24ms/epoch - 24ms/step\n",
      "Epoch 175/300\n",
      "1/1 - 0s - loss: 0.2026 - accuracy: 0.8929 - 21ms/epoch - 21ms/step\n",
      "Epoch 176/300\n",
      "1/1 - 0s - loss: 0.2025 - accuracy: 0.8929 - 24ms/epoch - 24ms/step\n",
      "Epoch 177/300\n",
      "1/1 - 0s - loss: 0.2025 - accuracy: 0.8929 - 27ms/epoch - 27ms/step\n",
      "Epoch 178/300\n",
      "1/1 - 0s - loss: 0.2024 - accuracy: 0.8929 - 21ms/epoch - 21ms/step\n",
      "Epoch 179/300\n",
      "1/1 - 0s - loss: 0.2024 - accuracy: 0.8929 - 20ms/epoch - 20ms/step\n",
      "Epoch 180/300\n",
      "1/1 - 0s - loss: 0.2024 - accuracy: 0.8929 - 22ms/epoch - 22ms/step\n",
      "Epoch 181/300\n",
      "1/1 - 0s - loss: 0.2023 - accuracy: 0.8929 - 24ms/epoch - 24ms/step\n",
      "Epoch 182/300\n",
      "1/1 - 0s - loss: 0.2023 - accuracy: 0.8929 - 23ms/epoch - 23ms/step\n",
      "Epoch 183/300\n",
      "1/1 - 0s - loss: 0.2023 - accuracy: 0.8929 - 21ms/epoch - 21ms/step\n",
      "Epoch 184/300\n",
      "1/1 - 0s - loss: 0.2022 - accuracy: 0.8929 - 24ms/epoch - 24ms/step\n",
      "Epoch 185/300\n",
      "1/1 - 0s - loss: 0.2022 - accuracy: 0.8929 - 23ms/epoch - 23ms/step\n",
      "Epoch 186/300\n",
      "1/1 - 0s - loss: 0.2022 - accuracy: 0.8929 - 23ms/epoch - 23ms/step\n",
      "Epoch 187/300\n",
      "1/1 - 0s - loss: 0.2021 - accuracy: 0.8929 - 25ms/epoch - 25ms/step\n",
      "Epoch 188/300\n",
      "1/1 - 0s - loss: 0.2021 - accuracy: 0.8929 - 20ms/epoch - 20ms/step\n",
      "Epoch 189/300\n",
      "1/1 - 0s - loss: 0.2021 - accuracy: 0.8929 - 21ms/epoch - 21ms/step\n",
      "Epoch 190/300\n",
      "1/1 - 0s - loss: 0.2020 - accuracy: 0.8929 - 22ms/epoch - 22ms/step\n",
      "Epoch 191/300\n",
      "1/1 - 0s - loss: 0.2020 - accuracy: 0.8929 - 26ms/epoch - 26ms/step\n",
      "Epoch 192/300\n",
      "1/1 - 0s - loss: 0.2020 - accuracy: 0.8929 - 25ms/epoch - 25ms/step\n",
      "Epoch 193/300\n",
      "1/1 - 0s - loss: 0.2019 - accuracy: 0.8929 - 20ms/epoch - 20ms/step\n",
      "Epoch 194/300\n",
      "1/1 - 0s - loss: 0.2019 - accuracy: 0.8929 - 27ms/epoch - 27ms/step\n",
      "Epoch 195/300\n",
      "1/1 - 0s - loss: 0.2019 - accuracy: 0.8929 - 21ms/epoch - 21ms/step\n",
      "Epoch 196/300\n",
      "1/1 - 0s - loss: 0.2018 - accuracy: 0.8929 - 22ms/epoch - 22ms/step\n",
      "Epoch 197/300\n",
      "1/1 - 0s - loss: 0.2018 - accuracy: 0.8929 - 24ms/epoch - 24ms/step\n",
      "Epoch 198/300\n",
      "1/1 - 0s - loss: 0.2018 - accuracy: 0.8929 - 23ms/epoch - 23ms/step\n",
      "Epoch 199/300\n",
      "1/1 - 0s - loss: 0.2017 - accuracy: 0.8929 - 30ms/epoch - 30ms/step\n",
      "Epoch 200/300\n",
      "1/1 - 0s - loss: 0.2017 - accuracy: 0.8929 - 21ms/epoch - 21ms/step\n",
      "Epoch 201/300\n",
      "1/1 - 0s - loss: 0.2017 - accuracy: 0.8929 - 20ms/epoch - 20ms/step\n",
      "Epoch 202/300\n",
      "1/1 - 0s - loss: 0.2016 - accuracy: 0.8929 - 24ms/epoch - 24ms/step\n"
     ]
    },
    {
     "name": "stdout",
     "output_type": "stream",
     "text": [
      "Epoch 203/300\n",
      "1/1 - 0s - loss: 0.2016 - accuracy: 0.8929 - 24ms/epoch - 24ms/step\n",
      "Epoch 204/300\n",
      "1/1 - 0s - loss: 0.2016 - accuracy: 0.8929 - 20ms/epoch - 20ms/step\n",
      "Epoch 205/300\n",
      "1/1 - 0s - loss: 0.2016 - accuracy: 0.8929 - 23ms/epoch - 23ms/step\n",
      "Epoch 206/300\n",
      "1/1 - 0s - loss: 0.2015 - accuracy: 0.8929 - 25ms/epoch - 25ms/step\n",
      "Epoch 207/300\n",
      "1/1 - 0s - loss: 0.2015 - accuracy: 0.8929 - 25ms/epoch - 25ms/step\n",
      "Epoch 208/300\n",
      "1/1 - 0s - loss: 0.2015 - accuracy: 0.8929 - 21ms/epoch - 21ms/step\n",
      "Epoch 209/300\n",
      "1/1 - 0s - loss: 0.2015 - accuracy: 0.8929 - 21ms/epoch - 21ms/step\n",
      "Epoch 210/300\n",
      "1/1 - 0s - loss: 0.2014 - accuracy: 0.8929 - 26ms/epoch - 26ms/step\n",
      "Epoch 211/300\n",
      "1/1 - 0s - loss: 0.2014 - accuracy: 0.8929 - 24ms/epoch - 24ms/step\n",
      "Epoch 212/300\n",
      "1/1 - 0s - loss: 0.2014 - accuracy: 0.8929 - 21ms/epoch - 21ms/step\n",
      "Epoch 213/300\n",
      "1/1 - 0s - loss: 0.2014 - accuracy: 0.8929 - 22ms/epoch - 22ms/step\n",
      "Epoch 214/300\n",
      "1/1 - 0s - loss: 0.2013 - accuracy: 0.8929 - 24ms/epoch - 24ms/step\n",
      "Epoch 215/300\n",
      "1/1 - 0s - loss: 0.2013 - accuracy: 0.8929 - 25ms/epoch - 25ms/step\n",
      "Epoch 216/300\n",
      "1/1 - 0s - loss: 0.2013 - accuracy: 0.8929 - 25ms/epoch - 25ms/step\n",
      "Epoch 217/300\n",
      "1/1 - 0s - loss: 0.2013 - accuracy: 0.8929 - 23ms/epoch - 23ms/step\n",
      "Epoch 218/300\n",
      "1/1 - 0s - loss: 0.2012 - accuracy: 0.8929 - 22ms/epoch - 22ms/step\n",
      "Epoch 219/300\n",
      "1/1 - 0s - loss: 0.2012 - accuracy: 0.8929 - 25ms/epoch - 25ms/step\n",
      "Epoch 220/300\n",
      "1/1 - 0s - loss: 0.2012 - accuracy: 0.8929 - 26ms/epoch - 26ms/step\n",
      "Epoch 221/300\n",
      "1/1 - 0s - loss: 0.2012 - accuracy: 0.8929 - 24ms/epoch - 24ms/step\n",
      "Epoch 222/300\n",
      "1/1 - 0s - loss: 0.2011 - accuracy: 0.8929 - 20ms/epoch - 20ms/step\n",
      "Epoch 223/300\n",
      "1/1 - 0s - loss: 0.2011 - accuracy: 0.8929 - 22ms/epoch - 22ms/step\n",
      "Epoch 224/300\n",
      "1/1 - 0s - loss: 0.2011 - accuracy: 0.8929 - 22ms/epoch - 22ms/step\n",
      "Epoch 225/300\n",
      "1/1 - 0s - loss: 0.2011 - accuracy: 0.8929 - 23ms/epoch - 23ms/step\n",
      "Epoch 226/300\n",
      "1/1 - 0s - loss: 0.2011 - accuracy: 0.8929 - 25ms/epoch - 25ms/step\n",
      "Epoch 227/300\n",
      "1/1 - 0s - loss: 0.2010 - accuracy: 0.8929 - 23ms/epoch - 23ms/step\n",
      "Epoch 228/300\n",
      "1/1 - 0s - loss: 0.2010 - accuracy: 0.8929 - 20ms/epoch - 20ms/step\n",
      "Epoch 229/300\n",
      "1/1 - 0s - loss: 0.2010 - accuracy: 0.8929 - 24ms/epoch - 24ms/step\n",
      "Epoch 230/300\n",
      "1/1 - 0s - loss: 0.2010 - accuracy: 0.8929 - 24ms/epoch - 24ms/step\n",
      "Epoch 231/300\n",
      "1/1 - 0s - loss: 0.2009 - accuracy: 0.8929 - 21ms/epoch - 21ms/step\n",
      "Epoch 232/300\n",
      "1/1 - 0s - loss: 0.2009 - accuracy: 0.8929 - 25ms/epoch - 25ms/step\n",
      "Epoch 233/300\n",
      "1/1 - 0s - loss: 0.2009 - accuracy: 0.8929 - 24ms/epoch - 24ms/step\n",
      "Epoch 234/300\n",
      "1/1 - 0s - loss: 0.2009 - accuracy: 0.8929 - 21ms/epoch - 21ms/step\n",
      "Epoch 235/300\n",
      "1/1 - 0s - loss: 0.2009 - accuracy: 0.8929 - 22ms/epoch - 22ms/step\n",
      "Epoch 236/300\n",
      "1/1 - 0s - loss: 0.2008 - accuracy: 0.8929 - 23ms/epoch - 23ms/step\n",
      "Epoch 237/300\n",
      "1/1 - 0s - loss: 0.2008 - accuracy: 0.8929 - 22ms/epoch - 22ms/step\n",
      "Epoch 238/300\n",
      "1/1 - 0s - loss: 0.2008 - accuracy: 0.8929 - 21ms/epoch - 21ms/step\n",
      "Epoch 239/300\n",
      "1/1 - 0s - loss: 0.2008 - accuracy: 0.8929 - 23ms/epoch - 23ms/step\n",
      "Epoch 240/300\n",
      "1/1 - 0s - loss: 0.2008 - accuracy: 0.8929 - 20ms/epoch - 20ms/step\n",
      "Epoch 241/300\n",
      "1/1 - 0s - loss: 0.2008 - accuracy: 0.8929 - 23ms/epoch - 23ms/step\n",
      "Epoch 242/300\n",
      "1/1 - 0s - loss: 0.2007 - accuracy: 0.8929 - 23ms/epoch - 23ms/step\n",
      "Epoch 243/300\n",
      "1/1 - 0s - loss: 0.2007 - accuracy: 0.8929 - 21ms/epoch - 21ms/step\n",
      "Epoch 244/300\n",
      "1/1 - 0s - loss: 0.2007 - accuracy: 0.8929 - 22ms/epoch - 22ms/step\n",
      "Epoch 245/300\n",
      "1/1 - 0s - loss: 0.2007 - accuracy: 0.8929 - 25ms/epoch - 25ms/step\n",
      "Epoch 246/300\n",
      "1/1 - 0s - loss: 0.2007 - accuracy: 0.8929 - 24ms/epoch - 24ms/step\n",
      "Epoch 247/300\n",
      "1/1 - 0s - loss: 0.2006 - accuracy: 0.8929 - 20ms/epoch - 20ms/step\n",
      "Epoch 248/300\n",
      "1/1 - 0s - loss: 0.2006 - accuracy: 0.8929 - 23ms/epoch - 23ms/step\n",
      "Epoch 249/300\n",
      "1/1 - 0s - loss: 0.2006 - accuracy: 0.8929 - 25ms/epoch - 25ms/step\n",
      "Epoch 250/300\n",
      "1/1 - 0s - loss: 0.2006 - accuracy: 0.8929 - 21ms/epoch - 21ms/step\n",
      "Epoch 251/300\n",
      "1/1 - 0s - loss: 0.2006 - accuracy: 0.8929 - 19ms/epoch - 19ms/step\n",
      "Epoch 252/300\n",
      "1/1 - 0s - loss: 0.2006 - accuracy: 0.8929 - 25ms/epoch - 25ms/step\n",
      "Epoch 253/300\n",
      "1/1 - 0s - loss: 0.2005 - accuracy: 0.8929 - 23ms/epoch - 23ms/step\n",
      "Epoch 254/300\n",
      "1/1 - 0s - loss: 0.2005 - accuracy: 0.8929 - 21ms/epoch - 21ms/step\n",
      "Epoch 255/300\n",
      "1/1 - 0s - loss: 0.2005 - accuracy: 0.8929 - 21ms/epoch - 21ms/step\n",
      "Epoch 256/300\n",
      "1/1 - 0s - loss: 0.2005 - accuracy: 0.8929 - 24ms/epoch - 24ms/step\n",
      "Epoch 257/300\n",
      "1/1 - 0s - loss: 0.2005 - accuracy: 0.8929 - 22ms/epoch - 22ms/step\n",
      "Epoch 258/300\n",
      "1/1 - 0s - loss: 0.2005 - accuracy: 0.8929 - 22ms/epoch - 22ms/step\n",
      "Epoch 259/300\n",
      "1/1 - 0s - loss: 0.2005 - accuracy: 0.8929 - 22ms/epoch - 22ms/step\n",
      "Epoch 260/300\n",
      "1/1 - 0s - loss: 0.2004 - accuracy: 0.8929 - 25ms/epoch - 25ms/step\n",
      "Epoch 261/300\n",
      "1/1 - 0s - loss: 0.2004 - accuracy: 0.8929 - 26ms/epoch - 26ms/step\n",
      "Epoch 262/300\n",
      "1/1 - 0s - loss: 0.2004 - accuracy: 0.8929 - 20ms/epoch - 20ms/step\n",
      "Epoch 263/300\n",
      "1/1 - 0s - loss: 0.2004 - accuracy: 0.8929 - 25ms/epoch - 25ms/step\n",
      "Epoch 264/300\n",
      "1/1 - 0s - loss: 0.2004 - accuracy: 0.8929 - 22ms/epoch - 22ms/step\n",
      "Epoch 265/300\n",
      "1/1 - 0s - loss: 0.2004 - accuracy: 0.8929 - 19ms/epoch - 19ms/step\n",
      "Epoch 266/300\n",
      "1/1 - 0s - loss: 0.2003 - accuracy: 0.8929 - 22ms/epoch - 22ms/step\n",
      "Epoch 267/300\n",
      "1/1 - 0s - loss: 0.2003 - accuracy: 0.8929 - 25ms/epoch - 25ms/step\n",
      "Epoch 268/300\n",
      "1/1 - 0s - loss: 0.2003 - accuracy: 0.8929 - 20ms/epoch - 20ms/step\n",
      "Epoch 269/300\n",
      "1/1 - 0s - loss: 0.2003 - accuracy: 0.8929 - 21ms/epoch - 21ms/step\n",
      "Epoch 270/300\n",
      "1/1 - 0s - loss: 0.2003 - accuracy: 0.8929 - 24ms/epoch - 24ms/step\n",
      "Epoch 271/300\n",
      "1/1 - 0s - loss: 0.2003 - accuracy: 0.8929 - 25ms/epoch - 25ms/step\n",
      "Epoch 272/300\n",
      "1/1 - 0s - loss: 0.2003 - accuracy: 0.8929 - 22ms/epoch - 22ms/step\n",
      "Epoch 273/300\n",
      "1/1 - 0s - loss: 0.2003 - accuracy: 0.8929 - 22ms/epoch - 22ms/step\n",
      "Epoch 274/300\n",
      "1/1 - 0s - loss: 0.2003 - accuracy: 0.8929 - 23ms/epoch - 23ms/step\n",
      "Epoch 275/300\n",
      "1/1 - 0s - loss: 0.2003 - accuracy: 0.8929 - 22ms/epoch - 22ms/step\n",
      "Epoch 276/300\n",
      "1/1 - 0s - loss: 0.2003 - accuracy: 0.8929 - 23ms/epoch - 23ms/step\n",
      "Epoch 277/300\n",
      "1/1 - 0s - loss: 0.2002 - accuracy: 0.8929 - 21ms/epoch - 21ms/step\n",
      "Epoch 278/300\n",
      "1/1 - 0s - loss: 0.2002 - accuracy: 0.8929 - 26ms/epoch - 26ms/step\n",
      "Epoch 279/300\n",
      "1/1 - 0s - loss: 0.2002 - accuracy: 0.8929 - 21ms/epoch - 21ms/step\n",
      "Epoch 280/300\n",
      "1/1 - 0s - loss: 0.2002 - accuracy: 0.8929 - 24ms/epoch - 24ms/step\n",
      "Epoch 281/300\n",
      "1/1 - 0s - loss: 0.2002 - accuracy: 0.8929 - 23ms/epoch - 23ms/step\n",
      "Epoch 282/300\n",
      "1/1 - 0s - loss: 0.2002 - accuracy: 0.8929 - 21ms/epoch - 21ms/step\n",
      "Epoch 283/300\n",
      "1/1 - 0s - loss: 0.2001 - accuracy: 0.8929 - 21ms/epoch - 21ms/step\n",
      "Epoch 284/300\n",
      "1/1 - 0s - loss: 0.2001 - accuracy: 0.8929 - 22ms/epoch - 22ms/step\n",
      "Epoch 285/300\n",
      "1/1 - 0s - loss: 0.2001 - accuracy: 0.8929 - 22ms/epoch - 22ms/step\n",
      "Epoch 286/300\n",
      "1/1 - 0s - loss: 0.2001 - accuracy: 0.8929 - 25ms/epoch - 25ms/step\n",
      "Epoch 287/300\n",
      "1/1 - 0s - loss: 0.2001 - accuracy: 0.8929 - 24ms/epoch - 24ms/step\n",
      "Epoch 288/300\n",
      "1/1 - 0s - loss: 0.2001 - accuracy: 0.8929 - 21ms/epoch - 21ms/step\n",
      "Epoch 289/300\n",
      "1/1 - 0s - loss: 0.2001 - accuracy: 0.8929 - 25ms/epoch - 25ms/step\n",
      "Epoch 290/300\n",
      "1/1 - 0s - loss: 0.2001 - accuracy: 0.8929 - 22ms/epoch - 22ms/step\n",
      "Epoch 291/300\n",
      "1/1 - 0s - loss: 0.2000 - accuracy: 0.8929 - 20ms/epoch - 20ms/step\n",
      "Epoch 292/300\n",
      "1/1 - 0s - loss: 0.2000 - accuracy: 0.8929 - 24ms/epoch - 24ms/step\n",
      "Epoch 293/300\n",
      "1/1 - 0s - loss: 0.2000 - accuracy: 0.8929 - 25ms/epoch - 25ms/step\n",
      "Epoch 294/300\n",
      "1/1 - 0s - loss: 0.2000 - accuracy: 0.8929 - 23ms/epoch - 23ms/step\n",
      "Epoch 295/300\n",
      "1/1 - 0s - loss: 0.2000 - accuracy: 0.8929 - 26ms/epoch - 26ms/step\n",
      "Epoch 296/300\n",
      "1/1 - 0s - loss: 0.2000 - accuracy: 0.8929 - 24ms/epoch - 24ms/step\n",
      "Epoch 297/300\n",
      "1/1 - 0s - loss: 0.2000 - accuracy: 0.8929 - 21ms/epoch - 21ms/step\n",
      "Epoch 298/300\n",
      "1/1 - 0s - loss: 0.2000 - accuracy: 0.8929 - 22ms/epoch - 22ms/step\n",
      "Epoch 299/300\n",
      "1/1 - 0s - loss: 0.2000 - accuracy: 0.8929 - 26ms/epoch - 26ms/step\n",
      "Epoch 300/300\n",
      "1/1 - 0s - loss: 0.1999 - accuracy: 0.8929 - 22ms/epoch - 22ms/step\n"
     ]
    }
   ],
   "source": [
    "model.compile(loss='categorical_crossentropy', optimizer='adam', metrics=['accuracy'])\n",
    "hist = model.fit(x=X, y=Y, verbose=2, epochs=300)"
   ]
  },
  {
   "cell_type": "code",
   "execution_count": 16,
   "id": "cd71f3df",
   "metadata": {
    "ExecuteTime": {
     "end_time": "2025-01-02T05:26:15.242637Z",
     "start_time": "2025-01-02T05:26:14.478004Z"
    }
   },
   "outputs": [
    {
     "data": {
      "image/png": "[encoded data removed]",
      "text/plain": [
       "<Figure size 1000x500 with 2 Axes>"
      ]
     },
     "metadata": {},
     "output_type": "display_data"
    }
   ],
   "source": [
    "import matplotlib.pyplot as plt\n",
    "fig, loss_ax = plt.subplots(figsize=(10,5))\n",
    "loss_ax.plot(hist.history['loss'], 'r', label='train loss')\n",
    "loss_ax.set_xlabel('epoch')\n",
    "loss_ax.set_ylabel('loss')\n",
    "acc_ax = loss_ax.twinx()\n",
    "acc_ax.plot(hist.history['accuracy'], 'b', label='train accuracy')\n",
    "acc_ax.set_ylabel('accuracy')\n",
    "loss_ax.legend(bbox_to_anchor=(1.1, 1), loc=2, borderaxespad=0.)\n",
    "acc_ax.legend(bbox_to_anchor=(1.1, .85), loc=2, borderaxespad=0.)\n",
    "plt.show()"
   ]
  },
  {
   "cell_type": "markdown",
   "id": "aa028298",
   "metadata": {},
   "source": [
    "# 4.다음 문맥 예측해보기"
   ]
  },
  {
   "cell_type": "code",
   "execution_count": 17,
   "id": "6e0b4df6",
   "metadata": {
    "ExecuteTime": {
     "end_time": "2025-01-02T05:26:15.251619Z",
     "start_time": "2025-01-02T05:26:15.245629Z"
    }
   },
   "outputs": [
    {
     "data": {
      "text/plain": [
       "{'말이': 1,\n",
       " '경마장에': 2,\n",
       " '있는': 3,\n",
       " '뛰고': 4,\n",
       " '있다': 5,\n",
       " '그의': 6,\n",
       " '법이다': 7,\n",
       " '가는': 8,\n",
       " '고와야': 9,\n",
       " '오는': 10,\n",
       " '곱다': 11}"
      ]
     },
     "execution_count": 17,
     "metadata": {},
     "output_type": "execute_result"
    }
   ],
   "source": [
    "t.word_index"
   ]
  },
  {
   "cell_type": "code",
   "execution_count": 52,
   "id": "77d35b35",
   "metadata": {
    "ExecuteTime": {
     "end_time": "2025-01-02T05:40:21.329157Z",
     "start_time": "2025-01-02T05:40:18.022600Z"
    }
   },
   "outputs": [
    {
     "name": "stdout",
     "output_type": "stream",
     "text": [
      "입력단어 :경마장에\n",
      "1/1 [==============================] - 0s 168ms/step\n",
      "예측된 단어 : 있는\n"
     ]
    }
   ],
   "source": [
    "# 모델 사용하기(문자-> sequence로 수정 -> predict)\n",
    "word = input('입력단어 :' )\n",
    "encoded = t.texts_to_sequences([word])[0]\n",
    "\n",
    "input_data = pad_sequences([encoded],maxlen=X.shape[1],padding='pre')\n",
    "# print('입력한 단어:{},encoded:{}'.format(word,input_data))\n",
    "pred = model.predict(input_data).argmax()\n",
    "for word,value in t.word_index.items():\n",
    "    if pred ==value:\n",
    "        print('예측된 단어 :', word)"
   ]
  },
  {
   "cell_type": "code",
   "execution_count": 78,
   "id": "ec8e5207",
   "metadata": {
    "ExecuteTime": {
     "end_time": "2025-01-02T05:49:48.629419Z",
     "start_time": "2025-01-02T05:49:48.621440Z"
    }
   },
   "outputs": [],
   "source": [
    "# 단어(가는), 5 => 가는 말이 고와야 오는 말이 곱다\n",
    "def sentence_generation(model, t, current_word, n):\n",
    "    for i in range(n): # n번 반복\n",
    "        # current_word -> sequence -> padding -> predict.argmax -> 결과 단어(result)\n",
    "        # current_word = current_word + ' ' + result\n",
    "        encoded = t.texts_to_sequences([current_word])[0]\n",
    "        input_data = pad_sequences([encoded],\n",
    "                                  maxlen=5,\n",
    "                                  padding=\"pre\")\n",
    "        pred = model.predict(input_data,\n",
    "                               verbose=0).argmax()\n",
    "        for word, value in t.word_index.items():\n",
    "            if pred==value:\n",
    "                result = word\n",
    "#                 print(f\"{i+1}:{result}\")\n",
    "                current_word = current_word + ' ' + result\n",
    "#                 print(f\"{i+1}:{current_word}\")\n",
    "                break\n",
    "    return current_word"
   ]
  },
  {
   "cell_type": "code",
   "execution_count": 79,
   "id": "1bc42dfd",
   "metadata": {
    "ExecuteTime": {
     "end_time": "2025-01-02T05:49:50.033244Z",
     "start_time": "2025-01-02T05:49:49.726498Z"
    }
   },
   "outputs": [
    {
     "data": {
      "text/plain": [
       "'계란 말이 고와야 오는 말이 곱다'"
      ]
     },
     "execution_count": 79,
     "metadata": {},
     "output_type": "execute_result"
    }
   ],
   "source": [
    "#문맥 예측해보기\n",
    "sentence_generation(model,t,\"계란\",5)"
   ]
  },
  {
   "cell_type": "code",
   "execution_count": null,
   "id": "71fa899e",
   "metadata": {},
   "outputs": [],
   "source": []
  },
  {
   "cell_type": "code",
   "execution_count": null,
   "id": "a36c0111",
   "metadata": {},
   "outputs": [],
   "source": []
  },
  {
   "cell_type": "code",
   "execution_count": null,
   "id": "cd40614f",
   "metadata": {},
   "outputs": [],
   "source": []
  },
  {
   "cell_type": "code",
   "execution_count": null,
   "id": "2fd2e863",
   "metadata": {},
   "outputs": [],
   "source": []
  },
  {
   "cell_type": "code",
   "execution_count": null,
   "id": "c462beb3",
   "metadata": {},
   "outputs": [],
   "source": []
  },
  {
   "cell_type": "code",
   "execution_count": null,
   "id": "4e2b0999",
   "metadata": {},
   "outputs": [],
   "source": []
  },
  {
   "cell_type": "code",
   "execution_count": null,
   "id": "205fc0f7",
   "metadata": {},
   "outputs": [],
   "source": []
  },
  {
   "cell_type": "code",
   "execution_count": null,
   "id": "efae721b",
   "metadata": {},
   "outputs": [],
   "source": []
  },
  {
   "cell_type": "code",
   "execution_count": null,
   "id": "b556d838",
   "metadata": {},
   "outputs": [],
   "source": []
  }
 ],
 "metadata": {
  "kernelspec": {
   "display_name": "Python 3 (ipykernel)",
   "language": "python",
   "name": "python3"
  },
  "language_info": {
   "codemirror_mode": {
    "name": "ipython",
    "version": 3
   },
   "file_extension": ".py",
   "mimetype": "text/x-python",
   "name": "python",
   "nbconvert_exporter": "python",
   "pygments_lexer": "ipython3",
   "version": "3.10.9"
  },
  "toc": {
   "base_numbering": 1,
   "nav_menu": {},
   "number_sections": true,
   "sideBar": true,
   "skip_h1_title": false,
   "title_cell": "Table of Contents",
   "title_sidebar": "Contents",
   "toc_cell": false,
   "toc_position": {},
   "toc_section_display": true,
   "toc_window_display": false
  }
 },
 "nbformat": 4,
 "nbformat_minor": 5
}
