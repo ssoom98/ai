{
 "cells": [
  {
   "cell_type": "markdown",
   "id": "271f6b8e",
   "metadata": {
    "ExecuteTime": {
     "end_time": "2024-12-31T06:28:46.623797Z",
     "start_time": "2024-12-31T06:28:46.617794Z"
    }
   },
   "source": [
    "<b><font color=\"red\" size=\"6\">ch03_연관분석</font></b>\n",
    "\n",
    "- pip install apyori"
   ]
  },
  {
   "cell_type": "markdown",
   "id": "5cc2045c",
   "metadata": {
    "ExecuteTime": {
     "end_time": "2024-12-31T06:40:50.825645Z",
     "start_time": "2024-12-31T06:40:50.817668Z"
    }
   },
   "source": [
    "# 1. 연관분석 개요\n",
    "- 데이터들 사이에 자주 발생하는 속성을 찾고, 그 속성들 사이에 연관성이 어느 정도 있는지 분석하는 방법\n",
    "- 활용분야 : 상품진열, 사기보험적발, 신상품 카테고리 구성 ...\n",
    "    \n",
    "```\n",
    "{조건 }->{결과}\n",
    "연관분석과 관련된 지표\n",
    "1. 지지도(support) : 전체 데이터 중에 조건결과 항목들의 포함된 거래 비율\n",
    "        (X,Y)의 항목수/ 전체 데이터 수 ex)0.2\n",
    "\n",
    "2. 신뢰도(confidence): 조건이 발생했을 때, 결과가 동시에 일어날 확률\n",
    "        (X,Y)의 항목수/ 조건항목수 ex)0.5\n",
    "\n",
    "3. 향상도(lift): 우연히 발생한 규칙은 아닌지 확인\n",
    "        조건결과 지지도/ (조건지지도)*(결과지지도)\n",
    "        <1 : 음의 상관관계\n",
    "        >1 : 양의 상관관계\n",
    "                        지지도       신뢰도           향상도\n",
    "{오렌지주스} ->{와인}    1/5(0.2)    1/2(0.5)    0.2/0.4*0.6(0.833)     \n",
    "\n",
    "```"
   ]
  },
  {
   "cell_type": "code",
   "execution_count": 3,
   "id": "1236ce53",
   "metadata": {
    "ExecuteTime": {
     "end_time": "2024-12-31T06:58:21.015180Z",
     "start_time": "2024-12-31T06:58:20.994236Z"
    }
   },
   "outputs": [
    {
     "name": "stdout",
     "output_type": "stream",
     "text": [
      " D 드라이브의 볼륨: 새 볼륨\n",
      " 볼륨 일련 번호: A822-4F57\n",
      "\n",
      " D:\\ai\\source\\10_자연어처리\\data 디렉터리\n",
      "\n",
      "2024-12-30  오전 09:03               119 cf_basket.csv\n",
      "               1개 파일                 119 바이트\n",
      "               0개 디렉터리  399,558,959,104 바이트 남음\n"
     ]
    }
   ],
   "source": [
    "%ls data\\cf_basket.csv"
   ]
  },
  {
   "cell_type": "markdown",
   "id": "660be966",
   "metadata": {},
   "source": [
    "# 2. 연관분석 구현"
   ]
  },
  {
   "cell_type": "code",
   "execution_count": 4,
   "id": "2f48c5f6",
   "metadata": {
    "ExecuteTime": {
     "end_time": "2024-12-31T06:58:35.628407Z",
     "start_time": "2024-12-31T06:58:35.616323Z"
    }
   },
   "outputs": [
    {
     "data": {
      "text/plain": [
       "[['소주', '콜라', '와인'],\n",
       " ['소주', '오렌지주스', '콜라'],\n",
       " ['맥주', '콜라', '와인'],\n",
       " ['소주', '콜라', '맥주'],\n",
       " ['오렌지주스', '와인']]"
      ]
     },
     "execution_count": 4,
     "metadata": {},
     "output_type": "execute_result"
    }
   ],
   "source": [
    "\n",
    "# 트랜젝션 데이터 가져오기\n",
    "import csv\n",
    "transaction = []\n",
    "with open('data/cf_basket.csv','r', encoding='utf-8') as f:\n",
    "    csvdata = csv.reader(f)\n",
    "    #print(list(csvdata))\n",
    "    for row in csvdata:\n",
    "        transaction.append(row)\n",
    "transaction"
   ]
  },
  {
   "cell_type": "code",
   "execution_count": 12,
   "id": "de4e9656",
   "metadata": {
    "ExecuteTime": {
     "end_time": "2024-12-31T07:22:33.109868Z",
     "start_time": "2024-12-31T07:22:33.102846Z"
    }
   },
   "outputs": [
    {
     "data": {
      "text/plain": [
       "RelationRecord(items=frozenset({'맥주', '콜라', '와인'}), support=0.2, ordered_statistics=[OrderedStatistic(items_base=frozenset(), items_add=frozenset({'맥주', '콜라', '와인'}), confidence=0.2, lift=1.0), OrderedStatistic(items_base=frozenset({'맥주'}), items_add=frozenset({'콜라', '와인'}), confidence=0.5, lift=1.25), OrderedStatistic(items_base=frozenset({'와인'}), items_add=frozenset({'맥주', '콜라'}), confidence=0.33333333333333337, lift=0.8333333333333334), OrderedStatistic(items_base=frozenset({'콜라'}), items_add=frozenset({'맥주', '와인'}), confidence=0.25, lift=1.25), OrderedStatistic(items_base=frozenset({'맥주', '와인'}), items_add=frozenset({'콜라'}), confidence=1.0, lift=1.25), OrderedStatistic(items_base=frozenset({'맥주', '콜라'}), items_add=frozenset({'와인'}), confidence=0.5, lift=0.8333333333333334), OrderedStatistic(items_base=frozenset({'콜라', '와인'}), items_add=frozenset({'맥주'}), confidence=0.5, lift=1.25)])"
      ]
     },
     "execution_count": 12,
     "metadata": {},
     "output_type": "execute_result"
    }
   ],
   "source": [
    "from apyori import apriori\n",
    "rules = apriori(transaction,min_support=0.15,min_confidence=0.1)\n",
    "rules = list(rules)\n",
    "rules[15]"
   ]
  },
  {
   "cell_type": "code",
   "execution_count": 20,
   "id": "205d38ca",
   "metadata": {
    "ExecuteTime": {
     "end_time": "2024-12-31T07:28:54.598600Z",
     "start_time": "2024-12-31T07:28:54.592587Z"
    }
   },
   "outputs": [
    {
     "name": "stdout",
     "output_type": "stream",
     "text": [
      "맥주=>콜라, 와인 \t 0.2\t 0.5\t1.25\n",
      "콜라=>맥주, 와인 \t 0.2\t 0.25\t1.25\n",
      "맥주, 와인=>콜라 \t 0.2\t 1.0\t1.25\n",
      "콜라, 와인=>맥주 \t 0.2\t 0.5\t1.25\n"
     ]
    }
   ],
   "source": [
    "#items_frozenset({'와인','콜라','맥주'}), support=0.2 : 이 세트가 함께 나타날 확률\n",
    "#items_base : 조건(lhs)left hand side\n",
    "#items_add : 결과(rhs)right hand side\n",
    "row = rules[15]\n",
    "support = row[1]\n",
    "ordered_st = row[2]\n",
    "for item in ordered_st:\n",
    "    lhs = ', '.join([x for x in item[0]])\n",
    "    rhs = ', '.join([x for x in item[1]])\n",
    "    confidence = item[2]\n",
    "    lift = item[3]\n",
    "    if lift>1:\n",
    "        print(\"{}=>{} \\t {}\\t {}\\t{}\".format(lhs,rhs,support,confidence,lift))\n",
    "    "
   ]
  },
  {
   "cell_type": "code",
   "execution_count": 32,
   "id": "89db2b1d",
   "metadata": {
    "ExecuteTime": {
     "end_time": "2024-12-31T07:34:43.582588Z",
     "start_time": "2024-12-31T07:34:43.574610Z"
    }
   },
   "outputs": [
    {
     "name": "stdout",
     "output_type": "stream",
     "text": [
      "조건 \t    -> 결과 \t\t 지지도 신뢰도 향상도\n",
      "맥주        ->콜라         \t 0.4\t 1.0\t1.25\n",
      "콜라        ->맥주         \t 0.4\t 0.5\t1.25\n",
      "소주        ->콜라         \t 0.6\t 1.0\t1.25\n",
      "콜라        ->소주         \t 0.6\t 0.75\t1.25\n",
      "콜라        ->소주, 맥주     \t 0.2\t 0.25\t1.25\n",
      "소주, 맥주    ->콜라         \t 0.2\t 1.0\t1.25\n",
      "맥주        ->콜라, 와인     \t 0.2\t 0.5\t1.25\n",
      "콜라        ->맥주, 와인     \t 0.2\t 0.25\t1.25\n",
      "맥주, 와인    ->콜라         \t 0.2\t 1.0\t1.25\n",
      "콜라, 와인    ->맥주         \t 0.2\t 0.5\t1.25\n",
      "소주        ->오렌지주스, 콜라  \t 0.2\t 0.33\t1.67\n",
      "콜라        ->소주, 오렌지주스  \t 0.2\t 0.25\t1.25\n",
      "소주, 오렌지주스 ->콜라         \t 0.2\t 1.0\t1.25\n",
      "오렌지주스, 콜라 ->소주         \t 0.2\t 1.0\t1.67\n",
      "콜라        ->소주, 와인     \t 0.2\t 0.25\t1.25\n",
      "소주, 와인    ->콜라         \t 0.2\t 1.0\t1.25\n"
     ]
    }
   ],
   "source": [
    "print('조건 \\t    -> 결과 \\t\\t 지지도 신뢰도 향상도')\n",
    "for row in rules:\n",
    "        support = row[1]\n",
    "        ordered_st=row[2]\n",
    "        for item in ordered_st:\n",
    "            lhs = ', '.join([x for x in item[0]])\n",
    "            rhs = ', '.join([x for x in item[1]])\n",
    "            confidence = item[2]\n",
    "            lift = item[3]\n",
    "            if lift>1:\n",
    "                print(\"{:10}->{:10} \\t {}\\t {}\\t{}\".format(lhs,rhs,support,round(confidence,2),round(lift,2)))"
   ]
  },
  {
   "cell_type": "code",
   "execution_count": 37,
   "id": "86330ad8",
   "metadata": {
    "ExecuteTime": {
     "end_time": "2024-12-31T07:42:05.963111Z",
     "start_time": "2024-12-31T07:42:05.896380Z"
    }
   },
   "outputs": [
    {
     "data": {
      "text/html": [
       "<div>\n",
       "<style scoped>\n",
       "    .dataframe tbody tr th:only-of-type {\n",
       "        vertical-align: middle;\n",
       "    }\n",
       "\n",
       "    .dataframe tbody tr th {\n",
       "        vertical-align: top;\n",
       "    }\n",
       "\n",
       "    .dataframe thead th {\n",
       "        text-align: right;\n",
       "    }\n",
       "</style>\n",
       "<table border=\"1\" class=\"dataframe\">\n",
       "  <thead>\n",
       "    <tr style=\"text-align: right;\">\n",
       "      <th></th>\n",
       "      <th>lhs</th>\n",
       "      <th>rhs</th>\n",
       "      <th>support</th>\n",
       "      <th>confidence</th>\n",
       "      <th>lift</th>\n",
       "    </tr>\n",
       "  </thead>\n",
       "  <tbody>\n",
       "    <tr>\n",
       "      <th>13</th>\n",
       "      <td>오렌지주스, 콜라</td>\n",
       "      <td>소주</td>\n",
       "      <td>0.2</td>\n",
       "      <td>1.000000</td>\n",
       "      <td>1.666667</td>\n",
       "    </tr>\n",
       "    <tr>\n",
       "      <th>0</th>\n",
       "      <td>맥주</td>\n",
       "      <td>콜라</td>\n",
       "      <td>0.4</td>\n",
       "      <td>1.000000</td>\n",
       "      <td>1.250000</td>\n",
       "    </tr>\n",
       "    <tr>\n",
       "      <th>2</th>\n",
       "      <td>소주</td>\n",
       "      <td>콜라</td>\n",
       "      <td>0.6</td>\n",
       "      <td>1.000000</td>\n",
       "      <td>1.250000</td>\n",
       "    </tr>\n",
       "    <tr>\n",
       "      <th>5</th>\n",
       "      <td>소주, 맥주</td>\n",
       "      <td>콜라</td>\n",
       "      <td>0.2</td>\n",
       "      <td>1.000000</td>\n",
       "      <td>1.250000</td>\n",
       "    </tr>\n",
       "    <tr>\n",
       "      <th>8</th>\n",
       "      <td>맥주, 와인</td>\n",
       "      <td>콜라</td>\n",
       "      <td>0.2</td>\n",
       "      <td>1.000000</td>\n",
       "      <td>1.250000</td>\n",
       "    </tr>\n",
       "    <tr>\n",
       "      <th>12</th>\n",
       "      <td>소주, 오렌지주스</td>\n",
       "      <td>콜라</td>\n",
       "      <td>0.2</td>\n",
       "      <td>1.000000</td>\n",
       "      <td>1.250000</td>\n",
       "    </tr>\n",
       "    <tr>\n",
       "      <th>15</th>\n",
       "      <td>소주, 와인</td>\n",
       "      <td>콜라</td>\n",
       "      <td>0.2</td>\n",
       "      <td>1.000000</td>\n",
       "      <td>1.250000</td>\n",
       "    </tr>\n",
       "    <tr>\n",
       "      <th>3</th>\n",
       "      <td>콜라</td>\n",
       "      <td>소주</td>\n",
       "      <td>0.6</td>\n",
       "      <td>0.750000</td>\n",
       "      <td>1.250000</td>\n",
       "    </tr>\n",
       "    <tr>\n",
       "      <th>1</th>\n",
       "      <td>콜라</td>\n",
       "      <td>맥주</td>\n",
       "      <td>0.4</td>\n",
       "      <td>0.500000</td>\n",
       "      <td>1.250000</td>\n",
       "    </tr>\n",
       "    <tr>\n",
       "      <th>6</th>\n",
       "      <td>맥주</td>\n",
       "      <td>콜라, 와인</td>\n",
       "      <td>0.2</td>\n",
       "      <td>0.500000</td>\n",
       "      <td>1.250000</td>\n",
       "    </tr>\n",
       "    <tr>\n",
       "      <th>9</th>\n",
       "      <td>콜라, 와인</td>\n",
       "      <td>맥주</td>\n",
       "      <td>0.2</td>\n",
       "      <td>0.500000</td>\n",
       "      <td>1.250000</td>\n",
       "    </tr>\n",
       "    <tr>\n",
       "      <th>10</th>\n",
       "      <td>소주</td>\n",
       "      <td>오렌지주스, 콜라</td>\n",
       "      <td>0.2</td>\n",
       "      <td>0.333333</td>\n",
       "      <td>1.666667</td>\n",
       "    </tr>\n",
       "    <tr>\n",
       "      <th>4</th>\n",
       "      <td>콜라</td>\n",
       "      <td>소주, 맥주</td>\n",
       "      <td>0.2</td>\n",
       "      <td>0.250000</td>\n",
       "      <td>1.250000</td>\n",
       "    </tr>\n",
       "    <tr>\n",
       "      <th>7</th>\n",
       "      <td>콜라</td>\n",
       "      <td>맥주, 와인</td>\n",
       "      <td>0.2</td>\n",
       "      <td>0.250000</td>\n",
       "      <td>1.250000</td>\n",
       "    </tr>\n",
       "    <tr>\n",
       "      <th>11</th>\n",
       "      <td>콜라</td>\n",
       "      <td>소주, 오렌지주스</td>\n",
       "      <td>0.2</td>\n",
       "      <td>0.250000</td>\n",
       "      <td>1.250000</td>\n",
       "    </tr>\n",
       "    <tr>\n",
       "      <th>14</th>\n",
       "      <td>콜라</td>\n",
       "      <td>소주, 와인</td>\n",
       "      <td>0.2</td>\n",
       "      <td>0.250000</td>\n",
       "      <td>1.250000</td>\n",
       "    </tr>\n",
       "  </tbody>\n",
       "</table>\n",
       "</div>"
      ],
      "text/plain": [
       "          lhs        rhs  support  confidence      lift\n",
       "13  오렌지주스, 콜라         소주      0.2    1.000000  1.666667\n",
       "0          맥주         콜라      0.4    1.000000  1.250000\n",
       "2          소주         콜라      0.6    1.000000  1.250000\n",
       "5      소주, 맥주         콜라      0.2    1.000000  1.250000\n",
       "8      맥주, 와인         콜라      0.2    1.000000  1.250000\n",
       "12  소주, 오렌지주스         콜라      0.2    1.000000  1.250000\n",
       "15     소주, 와인         콜라      0.2    1.000000  1.250000\n",
       "3          콜라         소주      0.6    0.750000  1.250000\n",
       "1          콜라         맥주      0.4    0.500000  1.250000\n",
       "6          맥주     콜라, 와인      0.2    0.500000  1.250000\n",
       "9      콜라, 와인         맥주      0.2    0.500000  1.250000\n",
       "10         소주  오렌지주스, 콜라      0.2    0.333333  1.666667\n",
       "4          콜라     소주, 맥주      0.2    0.250000  1.250000\n",
       "7          콜라     맥주, 와인      0.2    0.250000  1.250000\n",
       "11         콜라  소주, 오렌지주스      0.2    0.250000  1.250000\n",
       "14         콜라     소주, 와인      0.2    0.250000  1.250000"
      ]
     },
     "execution_count": 37,
     "metadata": {},
     "output_type": "execute_result"
    }
   ],
   "source": [
    "import pandas as pd\n",
    "rules_df= pd.DataFrame(None,columns=['lhs','rhs','support','confidence','lift'])\n",
    "index=0\n",
    "for row in rules:\n",
    "        support = row[1]\n",
    "        ordered_st=row[2]\n",
    "        for item in ordered_st:\n",
    "            lhs = ', '.join([x for x in item[0]])\n",
    "            rhs = ', '.join([x for x in item[1]])\n",
    "            confidence = item[2]\n",
    "            lift = item[3]\n",
    "            if lift>1:\n",
    "                rules_df.loc[index] = [lhs,rhs,support,confidence,lift]\n",
    "                index +=1\n",
    "rules_df.sort_values(by= ['confidence','lift'],ascending=False)\n",
    "                "
   ]
  },
  {
   "cell_type": "markdown",
   "id": "79b2ca75",
   "metadata": {},
   "source": [
    "# 3. 뉴스 연관 분석\n",
    "- \"http://fs.jtbc.joins.com/RSS/economy.xml\"-> 기사 검색후 ->명사 추출(기자, 앵커 제외) -> 연관분석(min_support=0.15,min_confidence=0.1)"
   ]
  },
  {
   "cell_type": "code",
   "execution_count": 69,
   "id": "96485ea9",
   "metadata": {
    "ExecuteTime": {
     "end_time": "2024-12-31T08:27:17.256273Z",
     "start_time": "2024-12-31T08:27:13.174691Z"
    }
   },
   "outputs": [
    {
     "name": "stdout",
     "output_type": "stream",
     "text": [
      "20\n",
      "[['촌주', '전세', '홍수', '예상', '눈치', '게임', '시작', '뉴스', '단군', '최대', '규모', '재건축', '촌주', '아파트', '입주', '다음', '시작', '규모', '입주', '보니', '전세', '매물도', '현장', '분위기', '이상화', '다음', '세대', '입주', '시작', '서울', '둔촌동', '올림픽', '파크', '포레', '국내', '재건축', '가운데', '역대', '최대', '규모', '이용택', '공인중개사', '공개', '행사', '이후', '판단', '연령', '세대', '관심', '단지', '보니', '입주', '시기', '전세', '물량', '관심', '세대', '입주', '서울', '헬리', '시티', '당시', '전세', '매매', '가격', '동반', '하락', '이번', '현장', '분위기', '김복수', '공인중개사', '일반', '아파트', '입주', '정도', '전세', '시장', '모습', '전세', '입주', '전세', '본인', '가격', '거주', '의무', '폐지', '신축', '선호', '현상', '가세', '전세', '매물', '자체', '부족', '인터넷', '매물', '세대', '최근', '정부', '대출', '관리', '전세', '대출', '규제', '해진', '한몫', '대중', '서강대', '부동산', '학과', '교수', '전세', '대출', '세입자', '물량', '전세', '대출', '입주', '현상', '임대', '물량', '상대', '전세', '집주인', '주변', '전셋값', '신축', '중심', '추세', '영지', '데이터', '규모', '주장', '전세', '가격', '하락', '매물', '유통', '기대', '영상', '취재', '승규', '영상', '편집', '김지우'], ['실제', '보니', '완전', '사기', '캠핑', '관리', '소홀', '뉴스', '캠핑장', '예약', '예약', '플랫폼', '사진', '기대', '보니', '사진', '당황', '캠핑장', '사진', '앞으로', '예약', '업체', '책임', '아람', '인터넷 카페', '소비자', '캠핑장', '상태', '예약', '플랫폼', '사진', '불만', '토로', '사진', '신축', '건물', '보니', '신축', '김정식', '피해자', '사이트', '사진', '선택', '사기', '호소', '소비자', '입장', '한국소비자원', '조사', '보니', '캠핑', '예약', '플랫폼', '이용자', '플랫폼', '정보', '실제', '불편', '그동안', '불공', '정한', '약관', '소비자', '보상', '실제', '자와', '예약', '플랫폼', '약관', '정보', '신뢰도', '사업자', '책임', '면제', '조항', '앞으로', '실제', '모습', '사실', '경우', '플랫폼', '책임', '용호', '공정위', '약관', '특수', '거래', '플랫폼', '사업자', '플랫폼', '운영', '관리', '주체', '관리자', '주의의무', '이용자', '분쟁', '발생', '해결', '필요', '조치', '이행', '의무', '캠핑장', '사진', '정보', '최근', '실제', '모습', '플랫폼', '업체', '정기', '점검', '고지', '공정위', '약관', '시정', '캠핑장', '자연휴양림', '확대', '관계', '부처', '협의'], ['요즘', '편의점', '정도', '뉴스', '육박', '점심', '편의점', '도시락', '편의점', '도시락', '식비', '부담', '아람', '서울'], ['오늘', '이유', '편의점', '도시락', '천원', '시대', '뉴스', '주머니', '직장인', '자취', '편의점', '도시락', '편의점', '도시락', '천원', '눈앞', '아람', '서울', '편의점', '도시락'], ['경영', '분쟁', '주총', '대결', '롤러코스터', '고려아연', '주가', '뉴스', '오늘', '고려아연', '주가', '포인트', '롤러코스터', '공개매수', '절차', '마무리', '뚜껑', '양측', '과반', '확보', '실패'], ['결혼', '걱정', '예비부부', '뉴스', '저출산', '문제', '결혼', '현실', '예비', '부부', '결혼식', '비용', '문제', '소식', '아람', '내년', '5월', '결혼'], ['예비부부', '웨딩', '물가', '올해', '예식장', '비용', '뉴스', '한편', '결혼식', '비용', '예비부부', '소식', '아람', '내년', '5월', '결혼', '현대', '김세현', '결혼'], ['20대', '비정규직', '비중', '역대', '최고', '뉴스', '20대', '비정규직', '임금', '근로자', '비정규직', '통계청', '8월', '기준', '20대', '임금', '근로자', '가운데', '비정규직', '전체', '차지'], ['대통령', '아난다', '경제', '뉴스', '어제', '예상', '분기', '경제성장', '공개', '경제', '우려', '대통령', '경제', '장담', '정부', '인식'], ['수출', '뒷걸음질', '3분', '경제성장', '뉴스', '한국은행', '오늘', '경제', '분기', '성적표', '예상', '걱정', '소비', '개선', '경제', '효자', '역할', '수출'], ['날개', 'SK하이닉스', '삼성전자', '역대', '실적', '뉴스', 'SK하이닉스', '올해', '분기', '영업', '이익', '기록', '사상', '최대', '실적', '부가가치', '메모리', '대역폭', '메모리', '불티', '영향', '삼성전자', '반도체', '실적'], ['배추', '정부', '11월', '중순', '천원', '뉴스', '포기', '배추', '가격', '최근', '평년', '대비', '정부', '오늘', '수급', '안정', '대책', '김장', '재료'], ['내년', '추석', '황금', '연휴', '항공권', '예약', '전쟁', '뉴스', '내년', '추석', '얘기', '준비', '사람', '최대', '열흘', '황금', '연휴', '여행', '계획', '매진', '항공', '노선도'], ['역대', '여름', '폭염', '제철', '전어', '뉴스', '전어', '제철', '계절', '가을', '폭염', '조업', '꽃게', '갈치', '상황', '생선', '인플레이션', '정도', '이상화'], ['바다', '해진', '전어', '현실화', '피시', '플레이', '뉴스', '이상', '기온', '가을', '전어', '제철', '가격', '한여름', '폭염', '바닷물', '온도', '조업', '꽃게', '갈치', '상황', '수산물'], ['정부', '자본잠식', '재무', '상태도', '예산', '책정', '뉴스', '티몬', '위메프', '정산', '사태', '나기', '직전', '정부', '지원', '사업', '업체', '매출', '사실', '확인', '판매자', '판매', '피해', '정부'], ['정부', '피해', '정부', '재무', '상태', '티몬', '지원', '뉴스', '티몬', '위메프', '정산', '사태', '직전', '정부', '지원', '사업', '마지막', '업체', '매출', '사실', '취재', '결과', '확인', '지원', '예산', '책정', '정부', '재무', '상태'], ['이상', '아파트', '거래', '최근', '최고', '서울', '뉴스', '부동산', '가격', '상승', '영향', '서울', '중심', '전국', '고가', '아파트', '거래', '비중', '최근', '국토', '교통부', '올해', '1월', '8월', '전국', '아파트', '매매', '건수'], ['서민', '동아줄', '디딤돌', '대출', '불안', '뉴스', '정부', '주택', '서민', '마련', '디딤돌', '대출', '한도', '대출', '실수요자', '혼란', '반발', '규제', '시행', '이상화'], ['뉴욕', '증시', '다우', '500', '사상', '최고', '연속', '상승세', '뉴스', '어제', '미국', '뉴욕', '증시', '분기', '실적', '호조', '강세', '다우존스', '지수', '지수', '사상', '고치', '경신', '뉴욕', '증시', '지수', '주간', '기준', '연속', '올해', '장기간']]\n"
     ]
    },
    {
     "data": {
      "text/plain": [
       "[RelationRecord(items=frozenset({'가격'}), support=0.2, ordered_statistics=[OrderedStatistic(items_base=frozenset(), items_add=frozenset({'가격'}), confidence=0.2, lift=1.0)]),\n",
       " RelationRecord(items=frozenset({'내년'}), support=0.15, ordered_statistics=[OrderedStatistic(items_base=frozenset(), items_add=frozenset({'내년'}), confidence=0.15, lift=1.0)]),\n",
       " RelationRecord(items=frozenset({'뉴스'}), support=1.0, ordered_statistics=[OrderedStatistic(items_base=frozenset(), items_add=frozenset({'뉴스'}), confidence=1.0, lift=1.0)]),\n",
       " RelationRecord(items=frozenset({'분기'}), support=0.2, ordered_statistics=[OrderedStatistic(items_base=frozenset(), items_add=frozenset({'분기'}), confidence=0.2, lift=1.0)]),\n",
       " RelationRecord(items=frozenset({'사실'}), support=0.15, ordered_statistics=[OrderedStatistic(items_base=frozenset(), items_add=frozenset({'사실'}), confidence=0.15, lift=1.0)]),\n",
       " RelationRecord(items=frozenset({'서울'}), support=0.2, ordered_statistics=[OrderedStatistic(items_base=frozenset(), items_add=frozenset({'서울'}), confidence=0.2, lift=1.0)]),\n",
       " RelationRecord(items=frozenset({'아람'}), support=0.25, ordered_statistics=[OrderedStatistic(items_base=frozenset(), items_add=frozenset({'아람'}), confidence=0.25, lift=1.0)]),\n",
       " RelationRecord(items=frozenset({'업체'}), support=0.15, ordered_statistics=[OrderedStatistic(items_base=frozenset(), items_add=frozenset({'업체'}), confidence=0.15, lift=1.0)]),\n",
       " RelationRecord(items=frozenset({'역대'}), support=0.2, ordered_statistics=[OrderedStatistic(items_base=frozenset(), items_add=frozenset({'역대'}), confidence=0.2, lift=1.0)]),\n",
       " RelationRecord(items=frozenset({'예상'}), support=0.15, ordered_statistics=[OrderedStatistic(items_base=frozenset(), items_add=frozenset({'예상'}), confidence=0.15, lift=1.0)]),\n",
       " RelationRecord(items=frozenset({'오늘'}), support=0.2, ordered_statistics=[OrderedStatistic(items_base=frozenset(), items_add=frozenset({'오늘'}), confidence=0.2, lift=1.0)]),\n",
       " RelationRecord(items=frozenset({'올해'}), support=0.2, ordered_statistics=[OrderedStatistic(items_base=frozenset(), items_add=frozenset({'올해'}), confidence=0.2, lift=1.0)]),\n",
       " RelationRecord(items=frozenset({'이상화'}), support=0.15, ordered_statistics=[OrderedStatistic(items_base=frozenset(), items_add=frozenset({'이상화'}), confidence=0.15, lift=1.0)]),\n",
       " RelationRecord(items=frozenset({'정도'}), support=0.15, ordered_statistics=[OrderedStatistic(items_base=frozenset(), items_add=frozenset({'정도'}), confidence=0.15, lift=1.0)]),\n",
       " RelationRecord(items=frozenset({'정부'}), support=0.3, ordered_statistics=[OrderedStatistic(items_base=frozenset(), items_add=frozenset({'정부'}), confidence=0.3, lift=1.0)]),\n",
       " RelationRecord(items=frozenset({'최고'}), support=0.15, ordered_statistics=[OrderedStatistic(items_base=frozenset(), items_add=frozenset({'최고'}), confidence=0.15, lift=1.0)]),\n",
       " RelationRecord(items=frozenset({'최근'}), support=0.2, ordered_statistics=[OrderedStatistic(items_base=frozenset(), items_add=frozenset({'최근'}), confidence=0.2, lift=1.0)]),\n",
       " RelationRecord(items=frozenset({'최대'}), support=0.15, ordered_statistics=[OrderedStatistic(items_base=frozenset(), items_add=frozenset({'최대'}), confidence=0.15, lift=1.0)]),\n",
       " RelationRecord(items=frozenset({'뉴스', '가격'}), support=0.2, ordered_statistics=[OrderedStatistic(items_base=frozenset(), items_add=frozenset({'뉴스', '가격'}), confidence=0.2, lift=1.0), OrderedStatistic(items_base=frozenset({'가격'}), items_add=frozenset({'뉴스'}), confidence=1.0, lift=1.0), OrderedStatistic(items_base=frozenset({'뉴스'}), items_add=frozenset({'가격'}), confidence=0.2, lift=1.0)]),\n",
       " RelationRecord(items=frozenset({'최근', '가격'}), support=0.15, ordered_statistics=[OrderedStatistic(items_base=frozenset(), items_add=frozenset({'최근', '가격'}), confidence=0.15, lift=1.0), OrderedStatistic(items_base=frozenset({'가격'}), items_add=frozenset({'최근'}), confidence=0.7499999999999999, lift=3.749999999999999), OrderedStatistic(items_base=frozenset({'최근'}), items_add=frozenset({'가격'}), confidence=0.7499999999999999, lift=3.749999999999999)]),\n",
       " RelationRecord(items=frozenset({'뉴스', '내년'}), support=0.15, ordered_statistics=[OrderedStatistic(items_base=frozenset(), items_add=frozenset({'뉴스', '내년'}), confidence=0.15, lift=1.0), OrderedStatistic(items_base=frozenset({'내년'}), items_add=frozenset({'뉴스'}), confidence=1.0, lift=1.0), OrderedStatistic(items_base=frozenset({'뉴스'}), items_add=frozenset({'내년'}), confidence=0.15, lift=1.0)]),\n",
       " RelationRecord(items=frozenset({'분기', '뉴스'}), support=0.2, ordered_statistics=[OrderedStatistic(items_base=frozenset(), items_add=frozenset({'분기', '뉴스'}), confidence=0.2, lift=1.0), OrderedStatistic(items_base=frozenset({'뉴스'}), items_add=frozenset({'분기'}), confidence=0.2, lift=1.0), OrderedStatistic(items_base=frozenset({'분기'}), items_add=frozenset({'뉴스'}), confidence=1.0, lift=1.0)]),\n",
       " RelationRecord(items=frozenset({'뉴스', '사실'}), support=0.15, ordered_statistics=[OrderedStatistic(items_base=frozenset(), items_add=frozenset({'뉴스', '사실'}), confidence=0.15, lift=1.0), OrderedStatistic(items_base=frozenset({'뉴스'}), items_add=frozenset({'사실'}), confidence=0.15, lift=1.0), OrderedStatistic(items_base=frozenset({'사실'}), items_add=frozenset({'뉴스'}), confidence=1.0, lift=1.0)]),\n",
       " RelationRecord(items=frozenset({'뉴스', '서울'}), support=0.2, ordered_statistics=[OrderedStatistic(items_base=frozenset(), items_add=frozenset({'뉴스', '서울'}), confidence=0.2, lift=1.0), OrderedStatistic(items_base=frozenset({'뉴스'}), items_add=frozenset({'서울'}), confidence=0.2, lift=1.0), OrderedStatistic(items_base=frozenset({'서울'}), items_add=frozenset({'뉴스'}), confidence=1.0, lift=1.0)]),\n",
       " RelationRecord(items=frozenset({'아람', '뉴스'}), support=0.25, ordered_statistics=[OrderedStatistic(items_base=frozenset(), items_add=frozenset({'아람', '뉴스'}), confidence=0.25, lift=1.0), OrderedStatistic(items_base=frozenset({'뉴스'}), items_add=frozenset({'아람'}), confidence=0.25, lift=1.0), OrderedStatistic(items_base=frozenset({'아람'}), items_add=frozenset({'뉴스'}), confidence=1.0, lift=1.0)]),\n",
       " RelationRecord(items=frozenset({'뉴스', '업체'}), support=0.15, ordered_statistics=[OrderedStatistic(items_base=frozenset(), items_add=frozenset({'뉴스', '업체'}), confidence=0.15, lift=1.0), OrderedStatistic(items_base=frozenset({'뉴스'}), items_add=frozenset({'업체'}), confidence=0.15, lift=1.0), OrderedStatistic(items_base=frozenset({'업체'}), items_add=frozenset({'뉴스'}), confidence=1.0, lift=1.0)]),\n",
       " RelationRecord(items=frozenset({'뉴스', '역대'}), support=0.2, ordered_statistics=[OrderedStatistic(items_base=frozenset(), items_add=frozenset({'뉴스', '역대'}), confidence=0.2, lift=1.0), OrderedStatistic(items_base=frozenset({'뉴스'}), items_add=frozenset({'역대'}), confidence=0.2, lift=1.0), OrderedStatistic(items_base=frozenset({'역대'}), items_add=frozenset({'뉴스'}), confidence=1.0, lift=1.0)]),\n",
       " RelationRecord(items=frozenset({'뉴스', '예상'}), support=0.15, ordered_statistics=[OrderedStatistic(items_base=frozenset(), items_add=frozenset({'뉴스', '예상'}), confidence=0.15, lift=1.0), OrderedStatistic(items_base=frozenset({'뉴스'}), items_add=frozenset({'예상'}), confidence=0.15, lift=1.0), OrderedStatistic(items_base=frozenset({'예상'}), items_add=frozenset({'뉴스'}), confidence=1.0, lift=1.0)]),\n",
       " RelationRecord(items=frozenset({'뉴스', '오늘'}), support=0.2, ordered_statistics=[OrderedStatistic(items_base=frozenset(), items_add=frozenset({'뉴스', '오늘'}), confidence=0.2, lift=1.0), OrderedStatistic(items_base=frozenset({'뉴스'}), items_add=frozenset({'오늘'}), confidence=0.2, lift=1.0), OrderedStatistic(items_base=frozenset({'오늘'}), items_add=frozenset({'뉴스'}), confidence=1.0, lift=1.0)]),\n",
       " RelationRecord(items=frozenset({'올해', '뉴스'}), support=0.2, ordered_statistics=[OrderedStatistic(items_base=frozenset(), items_add=frozenset({'뉴스', '올해'}), confidence=0.2, lift=1.0), OrderedStatistic(items_base=frozenset({'뉴스'}), items_add=frozenset({'올해'}), confidence=0.2, lift=1.0), OrderedStatistic(items_base=frozenset({'올해'}), items_add=frozenset({'뉴스'}), confidence=1.0, lift=1.0)]),\n",
       " RelationRecord(items=frozenset({'이상화', '뉴스'}), support=0.15, ordered_statistics=[OrderedStatistic(items_base=frozenset(), items_add=frozenset({'이상화', '뉴스'}), confidence=0.15, lift=1.0), OrderedStatistic(items_base=frozenset({'뉴스'}), items_add=frozenset({'이상화'}), confidence=0.15, lift=1.0), OrderedStatistic(items_base=frozenset({'이상화'}), items_add=frozenset({'뉴스'}), confidence=1.0, lift=1.0)]),\n",
       " RelationRecord(items=frozenset({'정도', '뉴스'}), support=0.15, ordered_statistics=[OrderedStatistic(items_base=frozenset(), items_add=frozenset({'정도', '뉴스'}), confidence=0.15, lift=1.0), OrderedStatistic(items_base=frozenset({'뉴스'}), items_add=frozenset({'정도'}), confidence=0.15, lift=1.0), OrderedStatistic(items_base=frozenset({'정도'}), items_add=frozenset({'뉴스'}), confidence=1.0, lift=1.0)]),\n",
       " RelationRecord(items=frozenset({'뉴스', '정부'}), support=0.3, ordered_statistics=[OrderedStatistic(items_base=frozenset(), items_add=frozenset({'뉴스', '정부'}), confidence=0.3, lift=1.0), OrderedStatistic(items_base=frozenset({'뉴스'}), items_add=frozenset({'정부'}), confidence=0.3, lift=1.0), OrderedStatistic(items_base=frozenset({'정부'}), items_add=frozenset({'뉴스'}), confidence=1.0, lift=1.0)]),\n",
       " RelationRecord(items=frozenset({'최고', '뉴스'}), support=0.15, ordered_statistics=[OrderedStatistic(items_base=frozenset(), items_add=frozenset({'뉴스', '최고'}), confidence=0.15, lift=1.0), OrderedStatistic(items_base=frozenset({'뉴스'}), items_add=frozenset({'최고'}), confidence=0.15, lift=1.0), OrderedStatistic(items_base=frozenset({'최고'}), items_add=frozenset({'뉴스'}), confidence=1.0, lift=1.0)]),\n",
       " RelationRecord(items=frozenset({'최근', '뉴스'}), support=0.2, ordered_statistics=[OrderedStatistic(items_base=frozenset(), items_add=frozenset({'뉴스', '최근'}), confidence=0.2, lift=1.0), OrderedStatistic(items_base=frozenset({'뉴스'}), items_add=frozenset({'최근'}), confidence=0.2, lift=1.0), OrderedStatistic(items_base=frozenset({'최근'}), items_add=frozenset({'뉴스'}), confidence=1.0, lift=1.0)]),\n",
       " RelationRecord(items=frozenset({'뉴스', '최대'}), support=0.15, ordered_statistics=[OrderedStatistic(items_base=frozenset(), items_add=frozenset({'뉴스', '최대'}), confidence=0.15, lift=1.0), OrderedStatistic(items_base=frozenset({'뉴스'}), items_add=frozenset({'최대'}), confidence=0.15, lift=1.0), OrderedStatistic(items_base=frozenset({'최대'}), items_add=frozenset({'뉴스'}), confidence=1.0, lift=1.0)]),\n",
       " RelationRecord(items=frozenset({'업체', '사실'}), support=0.15, ordered_statistics=[OrderedStatistic(items_base=frozenset(), items_add=frozenset({'사실', '업체'}), confidence=0.15, lift=1.0), OrderedStatistic(items_base=frozenset({'사실'}), items_add=frozenset({'업체'}), confidence=1.0, lift=6.666666666666667), OrderedStatistic(items_base=frozenset({'업체'}), items_add=frozenset({'사실'}), confidence=1.0, lift=6.666666666666667)]),\n",
       " RelationRecord(items=frozenset({'최근', '뉴스', '가격'}), support=0.15, ordered_statistics=[OrderedStatistic(items_base=frozenset(), items_add=frozenset({'뉴스', '최근', '가격'}), confidence=0.15, lift=1.0), OrderedStatistic(items_base=frozenset({'가격'}), items_add=frozenset({'뉴스', '최근'}), confidence=0.7499999999999999, lift=3.749999999999999), OrderedStatistic(items_base=frozenset({'뉴스'}), items_add=frozenset({'최근', '가격'}), confidence=0.15, lift=1.0), OrderedStatistic(items_base=frozenset({'최근'}), items_add=frozenset({'뉴스', '가격'}), confidence=0.7499999999999999, lift=3.749999999999999), OrderedStatistic(items_base=frozenset({'뉴스', '가격'}), items_add=frozenset({'최근'}), confidence=0.7499999999999999, lift=3.749999999999999), OrderedStatistic(items_base=frozenset({'최근', '가격'}), items_add=frozenset({'뉴스'}), confidence=1.0, lift=1.0), OrderedStatistic(items_base=frozenset({'최근', '뉴스'}), items_add=frozenset({'가격'}), confidence=0.7499999999999999, lift=3.749999999999999)]),\n",
       " RelationRecord(items=frozenset({'업체', '뉴스', '사실'}), support=0.15, ordered_statistics=[OrderedStatistic(items_base=frozenset(), items_add=frozenset({'사실', '뉴스', '업체'}), confidence=0.15, lift=1.0), OrderedStatistic(items_base=frozenset({'뉴스'}), items_add=frozenset({'사실', '업체'}), confidence=0.15, lift=1.0), OrderedStatistic(items_base=frozenset({'사실'}), items_add=frozenset({'뉴스', '업체'}), confidence=1.0, lift=6.666666666666667), OrderedStatistic(items_base=frozenset({'업체'}), items_add=frozenset({'뉴스', '사실'}), confidence=1.0, lift=6.666666666666667), OrderedStatistic(items_base=frozenset({'뉴스', '사실'}), items_add=frozenset({'업체'}), confidence=1.0, lift=6.666666666666667), OrderedStatistic(items_base=frozenset({'뉴스', '업체'}), items_add=frozenset({'사실'}), confidence=1.0, lift=6.666666666666667), OrderedStatistic(items_base=frozenset({'업체', '사실'}), items_add=frozenset({'뉴스'}), confidence=1.0, lift=1.0)])]"
      ]
     },
     "execution_count": 69,
     "metadata": {},
     "output_type": "execute_result"
    }
   ],
   "source": [
    "import requests\n",
    "from bs4 import BeautifulSoup\n",
    "rss_url = \"http://fs.jtbc.joins.com/RSS/economy.xml\"\n",
    "\n",
    "jtbc_economy = requests.get(rss_url)\n",
    "soup = BeautifulSoup(jtbc_economy.content,'xml')\n",
    "link_ele= soup.select('item link')\n",
    "link_list = [link.text for link in link_ele]\n",
    "print(len(link_list))\n",
    "link_list\n",
    "\n",
    "# link_list 들의 뉴스 기사 중 명사만 뽑아 list\n",
    "from konlpy.tag import Komoran\n",
    "komoran = Komoran()\n",
    "news = []\n",
    "stopwords=['기자','앵커']\n",
    "for link in link_list:\n",
    "    response = requests.get(link)\n",
    "    news_soup = BeautifulSoup(response.content, \"html.parser\")\n",
    "    title=news_soup.select_one('title').text\n",
    "    content = str(news_soup.select_one('meta[name=\"description\"]'))\n",
    "    content = content.replace('<meta content=\"', '').replace('\" name=\"description\"/>','')\n",
    "    noun_list = komoran.nouns(title+' '+content)\n",
    "    #print(\"nouns 함수 사용:\", noun_list)\n",
    "    noun_list = [ word for word, tag in komoran.pos(title+' ' +content)\\\n",
    "                    if tag in ('NNG','NNP') and len(word)>1]\n",
    "    filter_noun_list = list(filter(lambda word : word not in stopwords,noun_list))\n",
    "    news.append(filter_noun_list)\n",
    "print(news)\n",
    "\n",
    "rules = apriori(news,min_support=0.15,min_confidence=0.1)\n",
    "rules = list(rules)\n",
    "rules\n"
   ]
  },
  {
   "cell_type": "code",
   "execution_count": 73,
   "id": "a2eec492",
   "metadata": {
    "ExecuteTime": {
     "end_time": "2024-12-31T08:27:43.451007Z",
     "start_time": "2024-12-31T08:27:43.438044Z"
    }
   },
   "outputs": [
    {
     "data": {
      "text/plain": [
       "[RelationRecord(items=frozenset({'가격'}), support=0.2, ordered_statistics=[OrderedStatistic(items_base=frozenset(), items_add=frozenset({'가격'}), confidence=0.2, lift=1.0)]),\n",
       " RelationRecord(items=frozenset({'내년'}), support=0.15, ordered_statistics=[OrderedStatistic(items_base=frozenset(), items_add=frozenset({'내년'}), confidence=0.15, lift=1.0)]),\n",
       " RelationRecord(items=frozenset({'뉴스'}), support=1.0, ordered_statistics=[OrderedStatistic(items_base=frozenset(), items_add=frozenset({'뉴스'}), confidence=1.0, lift=1.0)]),\n",
       " RelationRecord(items=frozenset({'분기'}), support=0.2, ordered_statistics=[OrderedStatistic(items_base=frozenset(), items_add=frozenset({'분기'}), confidence=0.2, lift=1.0)]),\n",
       " RelationRecord(items=frozenset({'사실'}), support=0.15, ordered_statistics=[OrderedStatistic(items_base=frozenset(), items_add=frozenset({'사실'}), confidence=0.15, lift=1.0)]),\n",
       " RelationRecord(items=frozenset({'서울'}), support=0.2, ordered_statistics=[OrderedStatistic(items_base=frozenset(), items_add=frozenset({'서울'}), confidence=0.2, lift=1.0)]),\n",
       " RelationRecord(items=frozenset({'아람'}), support=0.25, ordered_statistics=[OrderedStatistic(items_base=frozenset(), items_add=frozenset({'아람'}), confidence=0.25, lift=1.0)]),\n",
       " RelationRecord(items=frozenset({'업체'}), support=0.15, ordered_statistics=[OrderedStatistic(items_base=frozenset(), items_add=frozenset({'업체'}), confidence=0.15, lift=1.0)]),\n",
       " RelationRecord(items=frozenset({'역대'}), support=0.2, ordered_statistics=[OrderedStatistic(items_base=frozenset(), items_add=frozenset({'역대'}), confidence=0.2, lift=1.0)]),\n",
       " RelationRecord(items=frozenset({'예상'}), support=0.15, ordered_statistics=[OrderedStatistic(items_base=frozenset(), items_add=frozenset({'예상'}), confidence=0.15, lift=1.0)]),\n",
       " RelationRecord(items=frozenset({'오늘'}), support=0.2, ordered_statistics=[OrderedStatistic(items_base=frozenset(), items_add=frozenset({'오늘'}), confidence=0.2, lift=1.0)]),\n",
       " RelationRecord(items=frozenset({'올해'}), support=0.2, ordered_statistics=[OrderedStatistic(items_base=frozenset(), items_add=frozenset({'올해'}), confidence=0.2, lift=1.0)]),\n",
       " RelationRecord(items=frozenset({'이상화'}), support=0.15, ordered_statistics=[OrderedStatistic(items_base=frozenset(), items_add=frozenset({'이상화'}), confidence=0.15, lift=1.0)]),\n",
       " RelationRecord(items=frozenset({'정도'}), support=0.15, ordered_statistics=[OrderedStatistic(items_base=frozenset(), items_add=frozenset({'정도'}), confidence=0.15, lift=1.0)]),\n",
       " RelationRecord(items=frozenset({'정부'}), support=0.3, ordered_statistics=[OrderedStatistic(items_base=frozenset(), items_add=frozenset({'정부'}), confidence=0.3, lift=1.0)]),\n",
       " RelationRecord(items=frozenset({'최고'}), support=0.15, ordered_statistics=[OrderedStatistic(items_base=frozenset(), items_add=frozenset({'최고'}), confidence=0.15, lift=1.0)]),\n",
       " RelationRecord(items=frozenset({'최근'}), support=0.2, ordered_statistics=[OrderedStatistic(items_base=frozenset(), items_add=frozenset({'최근'}), confidence=0.2, lift=1.0)]),\n",
       " RelationRecord(items=frozenset({'최대'}), support=0.15, ordered_statistics=[OrderedStatistic(items_base=frozenset(), items_add=frozenset({'최대'}), confidence=0.15, lift=1.0)]),\n",
       " RelationRecord(items=frozenset({'뉴스', '가격'}), support=0.2, ordered_statistics=[OrderedStatistic(items_base=frozenset(), items_add=frozenset({'뉴스', '가격'}), confidence=0.2, lift=1.0), OrderedStatistic(items_base=frozenset({'가격'}), items_add=frozenset({'뉴스'}), confidence=1.0, lift=1.0), OrderedStatistic(items_base=frozenset({'뉴스'}), items_add=frozenset({'가격'}), confidence=0.2, lift=1.0)]),\n",
       " RelationRecord(items=frozenset({'최근', '가격'}), support=0.15, ordered_statistics=[OrderedStatistic(items_base=frozenset(), items_add=frozenset({'최근', '가격'}), confidence=0.15, lift=1.0), OrderedStatistic(items_base=frozenset({'가격'}), items_add=frozenset({'최근'}), confidence=0.7499999999999999, lift=3.749999999999999), OrderedStatistic(items_base=frozenset({'최근'}), items_add=frozenset({'가격'}), confidence=0.7499999999999999, lift=3.749999999999999)]),\n",
       " RelationRecord(items=frozenset({'뉴스', '내년'}), support=0.15, ordered_statistics=[OrderedStatistic(items_base=frozenset(), items_add=frozenset({'뉴스', '내년'}), confidence=0.15, lift=1.0), OrderedStatistic(items_base=frozenset({'내년'}), items_add=frozenset({'뉴스'}), confidence=1.0, lift=1.0), OrderedStatistic(items_base=frozenset({'뉴스'}), items_add=frozenset({'내년'}), confidence=0.15, lift=1.0)]),\n",
       " RelationRecord(items=frozenset({'분기', '뉴스'}), support=0.2, ordered_statistics=[OrderedStatistic(items_base=frozenset(), items_add=frozenset({'분기', '뉴스'}), confidence=0.2, lift=1.0), OrderedStatistic(items_base=frozenset({'뉴스'}), items_add=frozenset({'분기'}), confidence=0.2, lift=1.0), OrderedStatistic(items_base=frozenset({'분기'}), items_add=frozenset({'뉴스'}), confidence=1.0, lift=1.0)]),\n",
       " RelationRecord(items=frozenset({'뉴스', '사실'}), support=0.15, ordered_statistics=[OrderedStatistic(items_base=frozenset(), items_add=frozenset({'뉴스', '사실'}), confidence=0.15, lift=1.0), OrderedStatistic(items_base=frozenset({'뉴스'}), items_add=frozenset({'사실'}), confidence=0.15, lift=1.0), OrderedStatistic(items_base=frozenset({'사실'}), items_add=frozenset({'뉴스'}), confidence=1.0, lift=1.0)]),\n",
       " RelationRecord(items=frozenset({'뉴스', '서울'}), support=0.2, ordered_statistics=[OrderedStatistic(items_base=frozenset(), items_add=frozenset({'뉴스', '서울'}), confidence=0.2, lift=1.0), OrderedStatistic(items_base=frozenset({'뉴스'}), items_add=frozenset({'서울'}), confidence=0.2, lift=1.0), OrderedStatistic(items_base=frozenset({'서울'}), items_add=frozenset({'뉴스'}), confidence=1.0, lift=1.0)]),\n",
       " RelationRecord(items=frozenset({'아람', '뉴스'}), support=0.25, ordered_statistics=[OrderedStatistic(items_base=frozenset(), items_add=frozenset({'아람', '뉴스'}), confidence=0.25, lift=1.0), OrderedStatistic(items_base=frozenset({'뉴스'}), items_add=frozenset({'아람'}), confidence=0.25, lift=1.0), OrderedStatistic(items_base=frozenset({'아람'}), items_add=frozenset({'뉴스'}), confidence=1.0, lift=1.0)]),\n",
       " RelationRecord(items=frozenset({'뉴스', '업체'}), support=0.15, ordered_statistics=[OrderedStatistic(items_base=frozenset(), items_add=frozenset({'뉴스', '업체'}), confidence=0.15, lift=1.0), OrderedStatistic(items_base=frozenset({'뉴스'}), items_add=frozenset({'업체'}), confidence=0.15, lift=1.0), OrderedStatistic(items_base=frozenset({'업체'}), items_add=frozenset({'뉴스'}), confidence=1.0, lift=1.0)]),\n",
       " RelationRecord(items=frozenset({'뉴스', '역대'}), support=0.2, ordered_statistics=[OrderedStatistic(items_base=frozenset(), items_add=frozenset({'뉴스', '역대'}), confidence=0.2, lift=1.0), OrderedStatistic(items_base=frozenset({'뉴스'}), items_add=frozenset({'역대'}), confidence=0.2, lift=1.0), OrderedStatistic(items_base=frozenset({'역대'}), items_add=frozenset({'뉴스'}), confidence=1.0, lift=1.0)]),\n",
       " RelationRecord(items=frozenset({'뉴스', '예상'}), support=0.15, ordered_statistics=[OrderedStatistic(items_base=frozenset(), items_add=frozenset({'뉴스', '예상'}), confidence=0.15, lift=1.0), OrderedStatistic(items_base=frozenset({'뉴스'}), items_add=frozenset({'예상'}), confidence=0.15, lift=1.0), OrderedStatistic(items_base=frozenset({'예상'}), items_add=frozenset({'뉴스'}), confidence=1.0, lift=1.0)]),\n",
       " RelationRecord(items=frozenset({'뉴스', '오늘'}), support=0.2, ordered_statistics=[OrderedStatistic(items_base=frozenset(), items_add=frozenset({'뉴스', '오늘'}), confidence=0.2, lift=1.0), OrderedStatistic(items_base=frozenset({'뉴스'}), items_add=frozenset({'오늘'}), confidence=0.2, lift=1.0), OrderedStatistic(items_base=frozenset({'오늘'}), items_add=frozenset({'뉴스'}), confidence=1.0, lift=1.0)]),\n",
       " RelationRecord(items=frozenset({'올해', '뉴스'}), support=0.2, ordered_statistics=[OrderedStatistic(items_base=frozenset(), items_add=frozenset({'뉴스', '올해'}), confidence=0.2, lift=1.0), OrderedStatistic(items_base=frozenset({'뉴스'}), items_add=frozenset({'올해'}), confidence=0.2, lift=1.0), OrderedStatistic(items_base=frozenset({'올해'}), items_add=frozenset({'뉴스'}), confidence=1.0, lift=1.0)]),\n",
       " RelationRecord(items=frozenset({'이상화', '뉴스'}), support=0.15, ordered_statistics=[OrderedStatistic(items_base=frozenset(), items_add=frozenset({'이상화', '뉴스'}), confidence=0.15, lift=1.0), OrderedStatistic(items_base=frozenset({'뉴스'}), items_add=frozenset({'이상화'}), confidence=0.15, lift=1.0), OrderedStatistic(items_base=frozenset({'이상화'}), items_add=frozenset({'뉴스'}), confidence=1.0, lift=1.0)]),\n",
       " RelationRecord(items=frozenset({'정도', '뉴스'}), support=0.15, ordered_statistics=[OrderedStatistic(items_base=frozenset(), items_add=frozenset({'정도', '뉴스'}), confidence=0.15, lift=1.0), OrderedStatistic(items_base=frozenset({'뉴스'}), items_add=frozenset({'정도'}), confidence=0.15, lift=1.0), OrderedStatistic(items_base=frozenset({'정도'}), items_add=frozenset({'뉴스'}), confidence=1.0, lift=1.0)]),\n",
       " RelationRecord(items=frozenset({'뉴스', '정부'}), support=0.3, ordered_statistics=[OrderedStatistic(items_base=frozenset(), items_add=frozenset({'뉴스', '정부'}), confidence=0.3, lift=1.0), OrderedStatistic(items_base=frozenset({'뉴스'}), items_add=frozenset({'정부'}), confidence=0.3, lift=1.0), OrderedStatistic(items_base=frozenset({'정부'}), items_add=frozenset({'뉴스'}), confidence=1.0, lift=1.0)]),\n",
       " RelationRecord(items=frozenset({'최고', '뉴스'}), support=0.15, ordered_statistics=[OrderedStatistic(items_base=frozenset(), items_add=frozenset({'뉴스', '최고'}), confidence=0.15, lift=1.0), OrderedStatistic(items_base=frozenset({'뉴스'}), items_add=frozenset({'최고'}), confidence=0.15, lift=1.0), OrderedStatistic(items_base=frozenset({'최고'}), items_add=frozenset({'뉴스'}), confidence=1.0, lift=1.0)]),\n",
       " RelationRecord(items=frozenset({'최근', '뉴스'}), support=0.2, ordered_statistics=[OrderedStatistic(items_base=frozenset(), items_add=frozenset({'뉴스', '최근'}), confidence=0.2, lift=1.0), OrderedStatistic(items_base=frozenset({'뉴스'}), items_add=frozenset({'최근'}), confidence=0.2, lift=1.0), OrderedStatistic(items_base=frozenset({'최근'}), items_add=frozenset({'뉴스'}), confidence=1.0, lift=1.0)]),\n",
       " RelationRecord(items=frozenset({'뉴스', '최대'}), support=0.15, ordered_statistics=[OrderedStatistic(items_base=frozenset(), items_add=frozenset({'뉴스', '최대'}), confidence=0.15, lift=1.0), OrderedStatistic(items_base=frozenset({'뉴스'}), items_add=frozenset({'최대'}), confidence=0.15, lift=1.0), OrderedStatistic(items_base=frozenset({'최대'}), items_add=frozenset({'뉴스'}), confidence=1.0, lift=1.0)]),\n",
       " RelationRecord(items=frozenset({'업체', '사실'}), support=0.15, ordered_statistics=[OrderedStatistic(items_base=frozenset(), items_add=frozenset({'사실', '업체'}), confidence=0.15, lift=1.0), OrderedStatistic(items_base=frozenset({'사실'}), items_add=frozenset({'업체'}), confidence=1.0, lift=6.666666666666667), OrderedStatistic(items_base=frozenset({'업체'}), items_add=frozenset({'사실'}), confidence=1.0, lift=6.666666666666667)]),\n",
       " RelationRecord(items=frozenset({'최근', '뉴스', '가격'}), support=0.15, ordered_statistics=[OrderedStatistic(items_base=frozenset(), items_add=frozenset({'뉴스', '최근', '가격'}), confidence=0.15, lift=1.0), OrderedStatistic(items_base=frozenset({'가격'}), items_add=frozenset({'뉴스', '최근'}), confidence=0.7499999999999999, lift=3.749999999999999), OrderedStatistic(items_base=frozenset({'뉴스'}), items_add=frozenset({'최근', '가격'}), confidence=0.15, lift=1.0), OrderedStatistic(items_base=frozenset({'최근'}), items_add=frozenset({'뉴스', '가격'}), confidence=0.7499999999999999, lift=3.749999999999999), OrderedStatistic(items_base=frozenset({'뉴스', '가격'}), items_add=frozenset({'최근'}), confidence=0.7499999999999999, lift=3.749999999999999), OrderedStatistic(items_base=frozenset({'최근', '가격'}), items_add=frozenset({'뉴스'}), confidence=1.0, lift=1.0), OrderedStatistic(items_base=frozenset({'최근', '뉴스'}), items_add=frozenset({'가격'}), confidence=0.7499999999999999, lift=3.749999999999999)]),\n",
       " RelationRecord(items=frozenset({'업체', '뉴스', '사실'}), support=0.15, ordered_statistics=[OrderedStatistic(items_base=frozenset(), items_add=frozenset({'사실', '뉴스', '업체'}), confidence=0.15, lift=1.0), OrderedStatistic(items_base=frozenset({'뉴스'}), items_add=frozenset({'사실', '업체'}), confidence=0.15, lift=1.0), OrderedStatistic(items_base=frozenset({'사실'}), items_add=frozenset({'뉴스', '업체'}), confidence=1.0, lift=6.666666666666667), OrderedStatistic(items_base=frozenset({'업체'}), items_add=frozenset({'뉴스', '사실'}), confidence=1.0, lift=6.666666666666667), OrderedStatistic(items_base=frozenset({'뉴스', '사실'}), items_add=frozenset({'업체'}), confidence=1.0, lift=6.666666666666667), OrderedStatistic(items_base=frozenset({'뉴스', '업체'}), items_add=frozenset({'사실'}), confidence=1.0, lift=6.666666666666667), OrderedStatistic(items_base=frozenset({'업체', '사실'}), items_add=frozenset({'뉴스'}), confidence=1.0, lift=1.0)])]"
      ]
     },
     "execution_count": 73,
     "metadata": {},
     "output_type": "execute_result"
    }
   ],
   "source": [
    "rules = apriori(news,min_support=0.15,min_confidence=0.1)\n",
    "rules = list(rules)\n",
    "rules\n"
   ]
  },
  {
   "cell_type": "code",
   "execution_count": 74,
   "id": "a4174ec3",
   "metadata": {
    "ExecuteTime": {
     "end_time": "2024-12-31T08:27:44.554287Z",
     "start_time": "2024-12-31T08:27:44.512292Z"
    }
   },
   "outputs": [
    {
     "data": {
      "text/html": [
       "<div>\n",
       "<style scoped>\n",
       "    .dataframe tbody tr th:only-of-type {\n",
       "        vertical-align: middle;\n",
       "    }\n",
       "\n",
       "    .dataframe tbody tr th {\n",
       "        vertical-align: top;\n",
       "    }\n",
       "\n",
       "    .dataframe thead th {\n",
       "        text-align: right;\n",
       "    }\n",
       "</style>\n",
       "<table border=\"1\" class=\"dataframe\">\n",
       "  <thead>\n",
       "    <tr style=\"text-align: right;\">\n",
       "      <th></th>\n",
       "      <th>lhs</th>\n",
       "      <th>rhs</th>\n",
       "      <th>support</th>\n",
       "      <th>confidence</th>\n",
       "      <th>lift</th>\n",
       "    </tr>\n",
       "  </thead>\n",
       "  <tbody>\n",
       "    <tr>\n",
       "      <th>2</th>\n",
       "      <td>사실</td>\n",
       "      <td>업체</td>\n",
       "      <td>0.15</td>\n",
       "      <td>1.00</td>\n",
       "      <td>6.666667</td>\n",
       "    </tr>\n",
       "    <tr>\n",
       "      <th>3</th>\n",
       "      <td>업체</td>\n",
       "      <td>사실</td>\n",
       "      <td>0.15</td>\n",
       "      <td>1.00</td>\n",
       "      <td>6.666667</td>\n",
       "    </tr>\n",
       "    <tr>\n",
       "      <th>8</th>\n",
       "      <td>사실</td>\n",
       "      <td>뉴스, 업체</td>\n",
       "      <td>0.15</td>\n",
       "      <td>1.00</td>\n",
       "      <td>6.666667</td>\n",
       "    </tr>\n",
       "    <tr>\n",
       "      <th>9</th>\n",
       "      <td>업체</td>\n",
       "      <td>뉴스, 사실</td>\n",
       "      <td>0.15</td>\n",
       "      <td>1.00</td>\n",
       "      <td>6.666667</td>\n",
       "    </tr>\n",
       "    <tr>\n",
       "      <th>10</th>\n",
       "      <td>뉴스, 사실</td>\n",
       "      <td>업체</td>\n",
       "      <td>0.15</td>\n",
       "      <td>1.00</td>\n",
       "      <td>6.666667</td>\n",
       "    </tr>\n",
       "    <tr>\n",
       "      <th>11</th>\n",
       "      <td>뉴스, 업체</td>\n",
       "      <td>사실</td>\n",
       "      <td>0.15</td>\n",
       "      <td>1.00</td>\n",
       "      <td>6.666667</td>\n",
       "    </tr>\n",
       "    <tr>\n",
       "      <th>0</th>\n",
       "      <td>가격</td>\n",
       "      <td>최근</td>\n",
       "      <td>0.15</td>\n",
       "      <td>0.75</td>\n",
       "      <td>3.750000</td>\n",
       "    </tr>\n",
       "    <tr>\n",
       "      <th>1</th>\n",
       "      <td>최근</td>\n",
       "      <td>가격</td>\n",
       "      <td>0.15</td>\n",
       "      <td>0.75</td>\n",
       "      <td>3.750000</td>\n",
       "    </tr>\n",
       "    <tr>\n",
       "      <th>4</th>\n",
       "      <td>가격</td>\n",
       "      <td>뉴스, 최근</td>\n",
       "      <td>0.15</td>\n",
       "      <td>0.75</td>\n",
       "      <td>3.750000</td>\n",
       "    </tr>\n",
       "    <tr>\n",
       "      <th>5</th>\n",
       "      <td>최근</td>\n",
       "      <td>뉴스, 가격</td>\n",
       "      <td>0.15</td>\n",
       "      <td>0.75</td>\n",
       "      <td>3.750000</td>\n",
       "    </tr>\n",
       "    <tr>\n",
       "      <th>6</th>\n",
       "      <td>뉴스, 가격</td>\n",
       "      <td>최근</td>\n",
       "      <td>0.15</td>\n",
       "      <td>0.75</td>\n",
       "      <td>3.750000</td>\n",
       "    </tr>\n",
       "    <tr>\n",
       "      <th>7</th>\n",
       "      <td>최근, 뉴스</td>\n",
       "      <td>가격</td>\n",
       "      <td>0.15</td>\n",
       "      <td>0.75</td>\n",
       "      <td>3.750000</td>\n",
       "    </tr>\n",
       "  </tbody>\n",
       "</table>\n",
       "</div>"
      ],
      "text/plain": [
       "       lhs     rhs  support  confidence      lift\n",
       "2       사실      업체     0.15        1.00  6.666667\n",
       "3       업체      사실     0.15        1.00  6.666667\n",
       "8       사실  뉴스, 업체     0.15        1.00  6.666667\n",
       "9       업체  뉴스, 사실     0.15        1.00  6.666667\n",
       "10  뉴스, 사실      업체     0.15        1.00  6.666667\n",
       "11  뉴스, 업체      사실     0.15        1.00  6.666667\n",
       "0       가격      최근     0.15        0.75  3.750000\n",
       "1       최근      가격     0.15        0.75  3.750000\n",
       "4       가격  뉴스, 최근     0.15        0.75  3.750000\n",
       "5       최근  뉴스, 가격     0.15        0.75  3.750000\n",
       "6   뉴스, 가격      최근     0.15        0.75  3.750000\n",
       "7   최근, 뉴스      가격     0.15        0.75  3.750000"
      ]
     },
     "execution_count": 74,
     "metadata": {},
     "output_type": "execute_result"
    }
   ],
   "source": [
    "import pandas as pd\n",
    "rules_df= pd.DataFrame(None,columns=['lhs','rhs','support','confidence','lift'])\n",
    "index=0\n",
    "for row in rules:\n",
    "        support = row[1]\n",
    "        ordered_st=row[2]\n",
    "        for item in ordered_st:\n",
    "            lhs = ', '.join([x for x in item[0]])\n",
    "            rhs = ', '.join([x for x in item[1]])\n",
    "            confidence = item[2]\n",
    "            lift = item[3]\n",
    "            if lift>1:\n",
    "                rules_df.loc[index] = [lhs,rhs,support,confidence,lift]\n",
    "                index +=1\n",
    "rules_df.sort_values(by= ['confidence','lift'],ascending=False)"
   ]
  },
  {
   "cell_type": "code",
   "execution_count": null,
   "id": "783e4be7",
   "metadata": {},
   "outputs": [],
   "source": []
  },
  {
   "cell_type": "code",
   "execution_count": null,
   "id": "43880dbb",
   "metadata": {},
   "outputs": [],
   "source": []
  }
 ],
 "metadata": {
  "kernelspec": {
   "display_name": "Python 3 (ipykernel)",
   "language": "python",
   "name": "python3"
  },
  "language_info": {
   "codemirror_mode": {
    "name": "ipython",
    "version": 3
   },
   "file_extension": ".py",
   "mimetype": "text/x-python",
   "name": "python",
   "nbconvert_exporter": "python",
   "pygments_lexer": "ipython3",
   "version": "3.10.9"
  },
  "toc": {
   "base_numbering": 1,
   "nav_menu": {},
   "number_sections": true,
   "sideBar": true,
   "skip_h1_title": false,
   "title_cell": "Table of Contents",
   "title_sidebar": "Contents",
   "toc_cell": false,
   "toc_position": {},
   "toc_section_display": true,
   "toc_window_display": false
  }
 },
 "nbformat": 4,
 "nbformat_minor": 5
}
