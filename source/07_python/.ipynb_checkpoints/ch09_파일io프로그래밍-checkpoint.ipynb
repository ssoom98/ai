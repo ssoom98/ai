{
 "cells": [
  {
   "cell_type": "code",
   "execution_count": 2,
   "id": "536605ff",
   "metadata": {},
   "outputs": [
    {
     "data": {
      "text/html": [
       "\n",
       "<style>\n",
       "div.container{width:80% !important;}\n",
       "div.CodeMirror {font-family:Consolas; font-size:12pt;}\n",
       "div.output {font-size:12pt; font-weight:bold;}\n",
       "div.input {font-family:Consolas; font-size:12pt;}\n",
       "div.prompt {min-width:70px;}\n",
       "div#toc-header{margin-top:150px;}\n",
       "</style>\n",
       "<style>\n",
       "span.toc-item-num{\n",
       "display:none;\n",
       "}\n",
       "</style>\n"
      ],
      "text/plain": [
       "<IPython.core.display.HTML object>"
      ]
     },
     "metadata": {},
     "output_type": "display_data"
    }
   ],
   "source": [
    "from IPython.display import display, HTML\n",
    "display(HTML(\"\"\"\n",
    "<style>\n",
    "div.container{width:80% !important;}\n",
    "div.CodeMirror {font-family:Consolas; font-size:12pt;}\n",
    "div.output {font-size:12pt; font-weight:bold;}\n",
    "div.input {font-family:Consolas; font-size:12pt;}\n",
    "div.prompt {min-width:70px;}\n",
    "div#toc-header{margin-top:150px;}\n",
    "</style>\n",
    "<style>\n",
    "span.toc-item-num{\n",
    "display:none;\n",
    "}\n",
    "</style>\n",
    "\"\"\"))"
   ]
  },
  {
   "cell_type": "markdown",
   "id": "8acf3f72",
   "metadata": {},
   "source": [
    "<b><font size=\"6\" color=\"red\">ch09. 파일 I/O 프로그래밍</font></b>"
   ]
  },
  {
   "cell_type": "markdown",
   "id": "dab2f30d",
   "metadata": {},
   "source": [
    "# 1절. 파일에 데이터 저장하고 불러오기"
   ]
  },
  {
   "cell_type": "code",
   "execution_count": 22,
   "id": "bdb28456",
   "metadata": {},
   "outputs": [
    {
     "name": "stdout",
     "output_type": "stream",
     "text": [
      "True\n"
     ]
    }
   ],
   "source": [
    "# w또는 wt: 기존의 파일이 있는 경우 덮어쓰기 모드, 파일이 없는 경우 생성하여 쓰기\n",
    "# a 또는 at : 기본의 파일이 있는 경우 append, 파일이 없는 경우 생성하여 쓰기\n",
    "            #쓰기모드는 폴더가 없는 경우 예외 발생\n",
    "# r 또는 rt : 기본의 파일을 읽는 경우, 파일이 없는 경우\n",
    "f = open('data/ch09_sample.txt','w')\n",
    "print(f.writable())"
   ]
  },
  {
   "cell_type": "code",
   "execution_count": 19,
   "id": "cb399c24",
   "metadata": {},
   "outputs": [],
   "source": [
    "f.write('Hello\\nWorld\\nHello\\nPython\\n') # 한글을 Write 하면 CP949로 저장(win)\n",
    "f.close()"
   ]
  },
  {
   "cell_type": "code",
   "execution_count": 23,
   "id": "9c09c2ea",
   "metadata": {},
   "outputs": [
    {
     "name": "stdout",
     "output_type": "stream",
     "text": [
      "쓰기 가능한지 여부 True\n"
     ]
    }
   ],
   "source": [
    "# with 구문을 사용하면 매번 close 하는 코드가 불필요\n",
    "with open('data/ch09_sample.txt','wt') as f:\n",
    "    print('쓰기 가능한지 여부',f.writable())\n",
    "    f.write('Python is easy.\\nPython is smart')"
   ]
  },
  {
   "cell_type": "code",
   "execution_count": 24,
   "id": "b0458ddb",
   "metadata": {},
   "outputs": [
    {
     "name": "stdout",
     "output_type": "stream",
     "text": [
      "프린트 함수로 파일 쓰기가 가능합니다 - 콘솔 출력\n"
     ]
    }
   ],
   "source": [
    "with open('data/ch09_sample.txt','at') as f:\n",
    "    print('프린트 함수로 파일 쓰기가 가능합니다 - 콘솔 출력')\n",
    "    print('프린트 함수로 파일 쓰기가 가능합니다 - 파일 출력', file=f)"
   ]
  },
  {
   "cell_type": "markdown",
   "id": "5c577026",
   "metadata": {},
   "source": [
    "- euc-kr : 한글완성형(믜x)\n",
    "- cp949 : 확장된 한글 완성형 (믜o) - 엑셀에서\n",
    "- utf-8 : 한글조합형(초중종성 따로 조합해서 저장)"
   ]
  },
  {
   "cell_type": "code",
   "execution_count": 30,
   "id": "a5ebaa48",
   "metadata": {},
   "outputs": [],
   "source": [
    "with open('data/ch09_sample.txt','w',encoding='utf-8') as f:\n",
    "    f.write('= 여러 줄의 text를 쓰기 =\\n')\n",
    "    f.write('1방법: Hello\\nWorld\\n')\n",
    "    textlist=['홍길동,30,서울\\n','김길동,20,안양\\n']\n",
    "    f.write('2방법 :\\n')\n",
    "    for line in textlist:\n",
    "        f.write(line)\n",
    "    f.write('3방법 :\\n')\n",
    "    f.writelines(textlist)"
   ]
  },
  {
   "cell_type": "code",
   "execution_count": 33,
   "id": "c09387b4",
   "metadata": {},
   "outputs": [
    {
     "name": "stdout",
     "output_type": "stream",
     "text": [
      "= 여러 줄의 text를 쓰기 =\n",
      "1방법: Hello\n",
      "World\n",
      "2방법 :\n",
      "홍길동,30,서울\n",
      "김길동,20,안양\n",
      "3방법 :\n",
      "홍길동,30,서울\n",
      "김길동,20,안양\n"
     ]
    }
   ],
   "source": [
    "# 파일을 한줄씩 읽고 출력, 한줄 읽고 출력,....\n",
    "with open('data/ch09_sample.txt','r',encoding='utf-8')as f:\n",
    "    line= f.readline() # 한줄읽기\n",
    "    while line != '':\n",
    "        print(line,end='') #파일에 \\n이 포함되어서 출력시 개행은 제거 \n",
    "        line = f.readline()\n",
    "    "
   ]
  },
  {
   "cell_type": "code",
   "execution_count": 35,
   "id": "a742c73a",
   "metadata": {},
   "outputs": [
    {
     "name": "stdout",
     "output_type": "stream",
     "text": [
      "['= 여러 줄의 text를 쓰기 =\\n', '1방법: Hello\\n', 'World\\n', '2방법 :\\n', '홍길동,30,서울\\n', '김길동,20,안양\\n', '3방법 :\\n', '홍길동,30,서울\\n', '김길동,20,안양\\n']\n"
     ]
    }
   ],
   "source": [
    "# 파일을 한꺼번에 여러줄 읽어 list로 return\n",
    "with open('data/ch09_sample.txt','rt', encoding='utf-8') as f:\n",
    "    lines= f.readlines() #list로 return\n",
    "    print(lines)"
   ]
  },
  {
   "cell_type": "code",
   "execution_count": 36,
   "id": "e773675c",
   "metadata": {},
   "outputs": [
    {
     "name": "stdout",
     "output_type": "stream",
     "text": [
      "= 여러 줄의 text를 쓰기 =\n",
      "1방법: Hello\n",
      "World\n",
      "2방법 :\n",
      "홍길동,30,서울\n",
      "김길동,20,안양\n",
      "3방법 :\n",
      "홍길동,30,서울\n",
      "김길동,20,안양\n"
     ]
    }
   ],
   "source": [
    "for line in lines:\n",
    "    print(line,end='')"
   ]
  },
  {
   "cell_type": "markdown",
   "id": "abff7aff",
   "metadata": {},
   "source": [
    "# 2절. 피클을 이용한 객체 저장 및 불러오기\n",
    "## 2.1 형식이 있는 텍스트 데이터 불러오기"
   ]
  },
  {
   "cell_type": "code",
   "execution_count": 52,
   "id": "f9fc87ea",
   "metadata": {},
   "outputs": [
    {
     "name": "stdout",
     "output_type": "stream",
     "text": [
      "이름: 홍길동, 나이: 20, 메일: kildong@hong.com, \t주소: 서울시 관악구\n",
      "이름: 홍길숙, 나이: 30, 메일: kilsukg@hong.com, \t주소: 서울시 강남구\n",
      "이름: 신길동, 나이: 20, 메일: kildong@sin.com, \t주소: 서울시 중구\n"
     ]
    }
   ],
   "source": [
    "with open('data/ch09_member.txt','r',encoding='utf-8')as f :\n",
    "    lines = f.readlines()\n",
    "for line in lines:\n",
    "    #print(line)\n",
    "    data=line.strip().split(',')\n",
    "    name = data[0]\n",
    "    age = int(data[1].strip())# strip은 앞뒤 white space 제거\n",
    "    email= data[2].strip()\n",
    "    address = data[3].strip()\n",
    "    print('이름: {}, 나이: {}, 메일: {}, \\t주소: {}'.format(name,age,email,address))"
   ]
  },
  {
   "cell_type": "code",
   "execution_count": 50,
   "id": "d8aaec3c",
   "metadata": {},
   "outputs": [],
   "source": [
    "class Member:\n",
    "    def __init__(self,name, age,email,address):\n",
    "        self.name= name\n",
    "        self.age= age\n",
    "        self.email= email\n",
    "        self.address=address\n",
    "    def __str__(self):\n",
    "        return \"이름: {},나이: {}, 메일: {},\\t주소: {}\".format(self.name,self.age,self.email,self.address)\n",
    "    def as_dict(self): # 객체를 딕셔너리로 바꿔 return\n",
    "        return{'name': self.name,'age':self.age,'email':self.email,'address':self.address}"
   ]
  },
  {
   "cell_type": "code",
   "execution_count": 51,
   "id": "82e877e4",
   "metadata": {},
   "outputs": [
    {
     "name": "stdout",
     "output_type": "stream",
     "text": [
      "이름: 홍길동,나이: 22, 메일: hong@hong.com,\t주소: 서울\n",
      "{'name': '홍길동', 'age': 22, 'email': 'hong@hong.com', 'address': '서울'}\n"
     ]
    }
   ],
   "source": [
    "user = Member('홍길동',22,'hong@hong.com','서울')# 생성자 test\n",
    "print(user) #__str__ test\n",
    "print(user.as_dict()) # as_dict test"
   ]
  },
  {
   "cell_type": "code",
   "execution_count": 55,
   "id": "8c29142e",
   "metadata": {},
   "outputs": [],
   "source": [
    "# 파일의 내용을 member list나 딕셔너리 list로 읽기\n",
    "user_list = [] # member list\n",
    "user_dict =[] # 딕셔너리 list\n",
    "with open('data/ch09_member.txt','r',encoding='utf-8') as f:\n",
    "    lines = f.readlines()\n",
    "for line in lines:\n",
    "    data = line.strip().split(',')\n",
    "    name = data[0]\n",
    "    age = int(data[1].strip())\n",
    "    email = data[2].strip()\n",
    "    address = data[3].strip()\n",
    "    user = Member(name,age,email,address)\n",
    "    user_list.append(user)\n",
    "    user_dict.append(user.as_dict())"
   ]
  },
  {
   "cell_type": "code",
   "execution_count": 57,
   "id": "87aaf3d4",
   "metadata": {},
   "outputs": [
    {
     "name": "stdout",
     "output_type": "stream",
     "text": [
      "이름: 홍길동,나이: 20, 메일: kildong@hong.com,\t주소: 서울시 관악구\n",
      "이름: 홍길숙,나이: 30, 메일: kilsukg@hong.com,\t주소: 서울시 강남구\n",
      "이름: 신길동,나이: 20, 메일: kildong@sin.com,\t주소: 서울시 중구\n"
     ]
    }
   ],
   "source": [
    "# user_list (객체 list)\n",
    "for user in user_list:\n",
    "    print(user)"
   ]
  },
  {
   "cell_type": "code",
   "execution_count": 58,
   "id": "5bd62ce6",
   "metadata": {},
   "outputs": [
    {
     "data": {
      "text/plain": [
       "[{'name': '홍길동', 'age': 20, 'email': 'kildong@hong.com', 'address': '서울시 관악구'},\n",
       " {'name': '홍길숙', 'age': 30, 'email': 'kilsukg@hong.com', 'address': '서울시 강남구'},\n",
       " {'name': '신길동', 'age': 20, 'email': 'kildong@sin.com', 'address': '서울시 중구'}]"
      ]
     },
     "execution_count": 58,
     "metadata": {},
     "output_type": "execute_result"
    }
   ],
   "source": [
    "# user_dict (딕셔너리 list)\n",
    "user_dict"
   ]
  },
  {
   "cell_type": "markdown",
   "id": "f32827dd",
   "metadata": {},
   "source": [
    "## 2.2 피클링"
   ]
  },
  {
   "cell_type": "code",
   "execution_count": 19,
   "id": "539a41a8",
   "metadata": {},
   "outputs": [
    {
     "name": "stdout",
     "output_type": "stream",
     "text": [
      "True\n",
      "True\n"
     ]
    }
   ],
   "source": [
    "class Member:\n",
    "    def __init__(self,name, age,email,address):\n",
    "        self.name= name\n",
    "        self.age= age\n",
    "        self.email= email\n",
    "        self.address=address\n",
    "    def __str__(self):\n",
    "        return \"이름: {},나이: {}, 메일: {},\\t주소: {}\".format(self.name,self.age,self.email,self.address)\n",
    "    \n",
    "    def __eq__(self,other):\n",
    "        '''\n",
    "        user1.__eq__(user2) 호출시 user1의 속성변수들과 user2의 속성변수들이 모두 같은 여부\n",
    "        '''\n",
    "        if isinstance(other,Member):\n",
    "            return self.name==other.name and self.age ==other.age\\\n",
    "                    and self.email==other.email and self.address==other.address\n",
    "        else:\n",
    "            return False\n",
    "    \n",
    "    def as_dict(self): # 객체를 딕셔너리로 바꿔 return\n",
    "        return{'name': self.name,\n",
    "               'age':self.age,\n",
    "               'email':self.email,\n",
    "               'address':self.address}\n",
    "    \n",
    "user1 = Member(\"홍길동\",20,'h@h.com','서울')\n",
    "user2 = Member(\"홍길동\",20,'h@h.com','서울')\n",
    "print(user1.__eq__(user2))\n",
    "print(user1 == user2)"
   ]
  },
  {
   "cell_type": "code",
   "execution_count": 20,
   "id": "b3a929ea",
   "metadata": {},
   "outputs": [],
   "source": [
    "user1 = Member(\"홍길동\",20,'h@h.com','서울')\n",
    "user2 = Member(\"홍길순\",24,'ks@sk.com','인천')\n",
    "user3 = Member(\"신길동\",25,'s@s.com','울진')\n",
    "\n",
    "user_list = [user1,user2,user3]\n"
   ]
  },
  {
   "cell_type": "code",
   "execution_count": 21,
   "id": "e20a0b8a",
   "metadata": {},
   "outputs": [
    {
     "name": "stdout",
     "output_type": "stream",
     "text": [
      "이름: 홍길동,나이: 20, 메일: h@h.com,\t주소: 서울\n",
      "이름: 홍길순,나이: 24, 메일: ks@sk.com,\t주소: 인천\n",
      "이름: 신길동,나이: 25, 메일: s@s.com,\t주소: 울진\n"
     ]
    }
   ],
   "source": [
    "for user in user_list:\n",
    "    print(user)"
   ]
  },
  {
   "cell_type": "code",
   "execution_count": 23,
   "id": "9bdae86f",
   "metadata": {},
   "outputs": [],
   "source": [
    "# 피클링을 이용한 객체를 파일에 저장하기\n",
    "import pickle\n",
    "with open('data/ch09_member.data','wb') as f:\n",
    "    pickle.dump(user_list,f)"
   ]
  },
  {
   "cell_type": "code",
   "execution_count": 24,
   "id": "94f2d7ce",
   "metadata": {},
   "outputs": [],
   "source": [
    "del user1, user2, user3"
   ]
  },
  {
   "cell_type": "code",
   "execution_count": 26,
   "id": "7502eca7",
   "metadata": {},
   "outputs": [],
   "source": [
    "# 피클링을 이용한 파일에서 객체 데이터 읽기 \n",
    "with open('data/ch09_member.data','rb') as f:\n",
    "    load_user_list= pickle.load(f)"
   ]
  },
  {
   "cell_type": "code",
   "execution_count": 27,
   "id": "a6f0015c",
   "metadata": {},
   "outputs": [
    {
     "name": "stdout",
     "output_type": "stream",
     "text": [
      "이름: 홍길동,나이: 20, 메일: h@h.com,\t주소: 서울\n",
      "이름: 홍길순,나이: 24, 메일: ks@sk.com,\t주소: 인천\n",
      "이름: 신길동,나이: 25, 메일: s@s.com,\t주소: 울진\n"
     ]
    }
   ],
   "source": [
    "for user in load_user_list:\n",
    "    print(user)"
   ]
  },
  {
   "cell_type": "code",
   "execution_count": 29,
   "id": "ac320cda",
   "metadata": {},
   "outputs": [
    {
     "data": {
      "text/plain": [
       "[True, True, True]"
      ]
     },
     "execution_count": 29,
     "metadata": {},
     "output_type": "execute_result"
    }
   ],
   "source": [
    "# user_list와 load_user_list가 모두 같은지 여부\n",
    "result = []\n",
    "for idx in range(len(user_list)):\n",
    "    result.append(user_list[idx]==load_user_list[idx])\n",
    "result\n",
    "    \n",
    "    "
   ]
  },
  {
   "cell_type": "code",
   "execution_count": 30,
   "id": "40bf49bb",
   "metadata": {},
   "outputs": [
    {
     "data": {
      "text/plain": [
       "True"
      ]
     },
     "execution_count": 30,
     "metadata": {},
     "output_type": "execute_result"
    }
   ],
   "source": [
    "all(result) # 모든 요소들이 True인지 여부"
   ]
  },
  {
   "cell_type": "markdown",
   "id": "01a5434a",
   "metadata": {},
   "source": [
    "# 3절. csv 형식 파일 읽기/쓰기\n",
    "- csv파일의 자료를 리스트 데이터로 읽기 3.1과 3.2\n",
    "- csv파일의 자료를 딕셔너리 데이터로 읽기 3.3과 3.4\n",
    "## 3.1 reader"
   ]
  },
  {
   "cell_type": "code",
   "execution_count": 34,
   "id": "98f91fbf",
   "metadata": {},
   "outputs": [
    {
     "name": "stdout",
     "output_type": "stream",
     "text": [
      "['홍길동', '20', 'kildong@hong.com', '서울시 관악구']\n",
      "['김길동', '23', 'kimdong@hong.com', '서울시 영등포구']\n",
      "['신길동', '24', 'sindong@hong.com', '서울시 동작구']\n"
     ]
    }
   ],
   "source": [
    "# utf-8로 인코딩된 csv 파일 읽기\n",
    "import csv\n",
    "with open('data/ch09_member1.csv','r',encoding='UTF-8')as f:\n",
    "    reader = csv.reader(f)\n",
    "    #print(list(reader))\n",
    "    for row in reader:\n",
    "        print(row)"
   ]
  },
  {
   "cell_type": "code",
   "execution_count": 38,
   "id": "b782eb06",
   "metadata": {},
   "outputs": [
    {
     "name": "stdout",
     "output_type": "stream",
     "text": [
      "홍길동 - 20 - kildong@hong.com - 서울시 관악구\n",
      "김길동 - 23 - kimdong@hong.com - 서울시 영등포구\n",
      "신길동 - 24 - sindong@hong.com - 서울시 동작구\n"
     ]
    }
   ],
   "source": [
    "# CP949로 인코딩된 csv 파일 read\n",
    "with open('data/ch09_member1-cp.csv','r',encoding='CP949')as f:\n",
    "    reader = csv.reader(f)\n",
    "    #print(list(reader))\n",
    "    result= list(reader)\n",
    "for row in result:\n",
    "    print(' - '.join(row))"
   ]
  },
  {
   "cell_type": "code",
   "execution_count": 40,
   "id": "c3673ce9",
   "metadata": {},
   "outputs": [
    {
     "name": "stdout",
     "output_type": "stream",
     "text": [
      "['홍길동', 20.0, 'kildong@hong.com', '서울시 관악구']\n",
      "['김길동', 23.0, 'kimdong@hong.com', '서울시 영등포구']\n",
      "['신길동', 24.0, 'sindong@hong.com', '서울시 동작구']\n"
     ]
    }
   ],
   "source": [
    "# \"\"(따옴표)가 없는 데이터는 numeric으로\n",
    "with open('data/ch09_member1.csv', 'r', encoding='utf-8') as f:\n",
    "    reader = csv.reader(f,quotechar='\"',quoting=csv.QUOTE_NONNUMERIC)\n",
    "    for row in reader:\n",
    "        print(row)"
   ]
  },
  {
   "cell_type": "code",
   "execution_count": 43,
   "id": "a6014448",
   "metadata": {},
   "outputs": [
    {
     "name": "stdout",
     "output_type": "stream",
     "text": [
      "파일에서 읽어온 딕셔너리 리스트\n",
      "[{'name': '홍길동', 'age': 20.0, 'email': 'kildong@hong.com', 'address': '서울시 관악구'}, {'name': '김길동', 'age': 23.0, 'email': 'kimdong@hong.com', 'address': '서울시 영등포구'}, {'name': '신길동', 'age': 24.0, 'email': 'sindong@hong.com', 'address': '서울시 동작구'}]\n"
     ]
    }
   ],
   "source": [
    "# csv 파일의 내용을 딕셔너리 리스트로 가져오기\n",
    "user_dict = []\n",
    "with open('data/ch09_member1.csv',encoding='utf-8') as f:\n",
    "    reader = csv.reader(f,quotechar='\"',quoting=csv.QUOTE_NONNUMERIC)\n",
    "    \n",
    "    for row in reader:\n",
    "        user_dict.append({'name':row[0],\n",
    "                         'age':row[1],\n",
    "                         'email':row[2],\n",
    "                         'address':row[3]})\n",
    "print('파일에서 읽어온 딕셔너리 리스트')\n",
    "print(user_dict)"
   ]
  },
  {
   "cell_type": "markdown",
   "id": "fb657846",
   "metadata": {},
   "source": [
    "## 3.2 writer"
   ]
  },
  {
   "cell_type": "code",
   "execution_count": 49,
   "id": "0ddbd237",
   "metadata": {},
   "outputs": [],
   "source": [
    "user_list = [['홍길동',20,'hong@hong.com','서울'],\n",
    "            ['신길동',30,'sin@sin.com','인천'],\n",
    "            ['금길동',68,'kim@hong.com','강원']]\n"
   ]
  },
  {
   "cell_type": "code",
   "execution_count": 50,
   "id": "7e6771bc",
   "metadata": {},
   "outputs": [],
   "source": [
    "# newline = '' 옵션을 빼면 개행이 2번\n",
    "try:\n",
    "    with open('data/ch09_member2-write-cp.csv','w',newline='') as f:\n",
    "        writer = csv.writer(f)\n",
    "        for user in user_list:\n",
    "            writer.writerow(user)\n",
    "except FileNotFoundError as e:\n",
    "    print(e)"
   ]
  },
  {
   "cell_type": "code",
   "execution_count": 53,
   "id": "7368633d",
   "metadata": {},
   "outputs": [],
   "source": [
    "with open('data/ch09_member2-write.csv','w',encoding='utf-8')as f:\n",
    "    writer = csv.writer(f,quoting=csv.QUOTE_NONNUMERIC)\n",
    "    writer.writerows(user_list)\n",
    "    "
   ]
  },
  {
   "cell_type": "markdown",
   "id": "aec92e3b",
   "metadata": {},
   "source": [
    "## 3.3 DictReader\n",
    "- csv 파일의 자료를 딕셔너리 데이터 읽기"
   ]
  },
  {
   "cell_type": "code",
   "execution_count": 57,
   "id": "a199900c",
   "metadata": {},
   "outputs": [
    {
     "name": "stdout",
     "output_type": "stream",
     "text": [
      "홍길동 20 h@h.com 서울시 관악구\n",
      "신길동 30 k@k.com 서울시 영등포구  팀장\n",
      "김길동 33 k@h.com 서울시 동작구\n"
     ]
    }
   ],
   "source": [
    "# header가 있는 csv파일을 딕셔너리로 읽기 (ch09_member3.csv)\n",
    "with open('data/ch09_member3.csv','r',encoding='utf-8') as f:\n",
    "    dict_reader = csv.DictReader(f)\n",
    "    #print(list(dict_reader))\n",
    "    for row in dict_reader:\n",
    "        if row['job'] is None:\n",
    "            print(row['name'],row['age'],row['email'],row['address'])\n",
    "        else:\n",
    "            print(row['name'],row['age'],row['email'],row['address'],row['job'])"
   ]
  },
  {
   "cell_type": "code",
   "execution_count": 61,
   "id": "a9017803",
   "metadata": {},
   "outputs": [
    {
     "data": {
      "text/plain": [
       "pandas.core.frame.DataFrame"
      ]
     },
     "execution_count": 61,
     "metadata": {},
     "output_type": "execute_result"
    }
   ],
   "source": [
    "# cf. csv 파일을 데이터 프레임으로\n",
    "import pandas as pd\n",
    "member = pd.read_csv('data/ch09_member3.csv') # encoding= 'utf-8'\n",
    "type(member)"
   ]
  },
  {
   "cell_type": "code",
   "execution_count": 65,
   "id": "1ad8081d",
   "metadata": {},
   "outputs": [
    {
     "name": "stdout",
     "output_type": "stream",
     "text": [
      "홍길동 20 kildong@hong.com 서울시 관악구\n",
      "김길동 23 kimdong@hong.com 서울시 영등포구\n",
      "신길동 24 sindong@hong.com 서울시 동작구\n"
     ]
    }
   ],
   "source": [
    "# header가 없는 csv 파일을 딕셔너리로 읽기(ch09_member1-cp.csv)\n",
    "with open('data/ch09_member1-cp.csv','r',encoding='cp949') as f:\n",
    "    dict_reader = csv.DictReader(f, fieldnames=['Name','Age','Email','Address'])\n",
    "    for row in dict_reader:\n",
    "        print(row['Name'],row['Age'],row['Email'],row['Address'])"
   ]
  },
  {
   "cell_type": "code",
   "execution_count": 69,
   "id": "74aff4f5",
   "metadata": {},
   "outputs": [
    {
     "name": "stdout",
     "output_type": "stream",
     "text": [
      "홍길동 20 kildong@hong.com 서울시 관악구 \n",
      "김길동 23 kimdong@hong.com 서울시 영등포구 팀장\n",
      "신길동 24 sindong@hong.com 서울시 동작구 \n"
     ]
    }
   ],
   "source": [
    "# header가 없는 csv 파일을 딕셔너리로 읽기(ch09_member1-cp.csv)\n",
    "with open('data/ch09_member1-cp.csv','r',encoding='cp949') as f:\n",
    "    dict_reader = csv.DictReader(f, fieldnames=['Name','Age','Email','Address','Job'])\n",
    "    for row in dict_reader:\n",
    "           #print(row)\n",
    "            print(row['Name'],row['Age'],row['Email'],row['Address'],row['Job'])"
   ]
  },
  {
   "cell_type": "code",
   "execution_count": 73,
   "id": "18849308",
   "metadata": {},
   "outputs": [
    {
     "name": "stdout",
     "output_type": "stream",
     "text": [
      "홍길동 20 kildong@hong.com 서울시 관악구\n",
      "김길동 23 kimdong@hong.com 서울시 영등포구 팀장\n",
      "신길동 24 sindong@hong.com 서울시 동작구\n"
     ]
    }
   ],
   "source": [
    "# header가 없는 csv 파일을 딕셔너리로 읽기(ch09_member1-cp.csv)\n",
    "with open('data/ch09_member1-cp.csv','r',encoding='cp949') as f:\n",
    "    dict_reader = csv.DictReader(f, fieldnames=['Name','Age','Email','Address'], restkey='Job')\n",
    "    for row in dict_reader:\n",
    "        #print(row)\n",
    "        if row['Job'][0]=='':\n",
    "            print(row['Name'],row['Age'],row['Email'],row['Address'])\n",
    "        else:\n",
    "            print(row['Name'],row['Age'],row['Email'],row['Address'],row['Job'][0])"
   ]
  },
  {
   "cell_type": "code",
   "execution_count": 76,
   "id": "b54344e3",
   "metadata": {},
   "outputs": [
    {
     "data": {
      "text/plain": [
       "[{'name': '홍길동',\n",
       "  'age': '20',\n",
       "  'email': 'kildong@hong.com',\n",
       "  'address': '서울시 관악구',\n",
       "  'job': ''},\n",
       " {'name': '김길동',\n",
       "  'age': '23',\n",
       "  'email': 'kimdong@hong.com',\n",
       "  'address': '서울시 영등포구',\n",
       "  'job': '팀장'},\n",
       " {'name': '신길동',\n",
       "  'age': '24',\n",
       "  'email': 'sindong@hong.com',\n",
       "  'address': '서울시 동작구',\n",
       "  'job': ''}]"
      ]
     },
     "execution_count": 76,
     "metadata": {},
     "output_type": "execute_result"
    }
   ],
   "source": [
    "# ch09_member1-cp.csv의 내용을 딕셔너리 list로 받아 보세요\n",
    "userlist = [] #딕셔너리 list\n",
    "# 파일의 내용을 userlist에 담기\n",
    "with open('data/ch09_member1-cp.csv','r',encoding='cp949') as f:\n",
    "    dict_reader = csv.DictReader(f, fieldnames=['name','age','email','address','job'])\n",
    "    for row in dict_reader:\n",
    "        userlist.append(row)\n",
    "userlist"
   ]
  },
  {
   "cell_type": "markdown",
   "id": "ca65fbb6",
   "metadata": {},
   "source": [
    "## 3.4 DictWriter\n",
    "- 딕셔너리 리스트를 csv파일로 쓰기"
   ]
  },
  {
   "cell_type": "code",
   "execution_count": 92,
   "id": "860495b4",
   "metadata": {},
   "outputs": [
    {
     "name": "stdout",
     "output_type": "stream",
     "text": [
      "['name', 'age', 'email', 'address']\n"
     ]
    }
   ],
   "source": [
    "user1 = {'name':'홍길동','age':'10','email':'hong@hong.com','address':'서울'}\n",
    "user2 = {'name':'신길동','age':'20','email':'sin@sin.com','address':'경북'}\n",
    "user3 = {'name':'김길동','age':'30','email':'kim@kim.com','address':'전남'}\n",
    "user_list = [user1,user2,user3]\n",
    "fieldnames = list(user1.keys())\n",
    "print(fieldnames)"
   ]
  },
  {
   "cell_type": "markdown",
   "id": "c96505bc",
   "metadata": {},
   "source": [
    "```csv 파일 내용\n",
    "name,age,email,address\n",
    "홍길동,20,h@hong.com,서울\n",
    "\n",
    "```\n"
   ]
  },
  {
   "cell_type": "code",
   "execution_count": 96,
   "id": "24108356",
   "metadata": {},
   "outputs": [],
   "source": [
    "with open('data/ch09_member4.csv','w',encoding='UTF-8',newline='')as f:\n",
    "    dict_writer = csv.DictWriter(f,fieldnames=fieldnames)\n",
    "    #dict_writer.writeheader() # header 한줄 쓰기\n",
    "#    for user in user_list:\n",
    "#        dict_writer.writerow(user)\n",
    "    dict_writer.writerows(user_list)"
   ]
  },
  {
   "cell_type": "markdown",
   "id": "92cefb53",
   "metadata": {},
   "source": [
    "# 4절. JSON파일에 저장하고 불러오기(dump,load)\n",
    "## 4.1 JSON dump(파일에 저장)"
   ]
  },
  {
   "cell_type": "code",
   "execution_count": null,
   "id": "c867c775",
   "metadata": {},
   "outputs": [],
   "source": []
  },
  {
   "cell_type": "code",
   "execution_count": null,
   "id": "2ce6c1af",
   "metadata": {},
   "outputs": [],
   "source": []
  },
  {
   "cell_type": "code",
   "execution_count": null,
   "id": "1b94c1df",
   "metadata": {},
   "outputs": [],
   "source": []
  },
  {
   "cell_type": "code",
   "execution_count": null,
   "id": "a291468c",
   "metadata": {},
   "outputs": [],
   "source": []
  },
  {
   "cell_type": "code",
   "execution_count": null,
   "id": "643388c2",
   "metadata": {},
   "outputs": [],
   "source": []
  },
  {
   "cell_type": "code",
   "execution_count": null,
   "id": "cca04a70",
   "metadata": {},
   "outputs": [],
   "source": []
  }
 ],
 "metadata": {
  "kernelspec": {
   "display_name": "Python 3 (ipykernel)",
   "language": "python",
   "name": "python3"
  },
  "language_info": {
   "codemirror_mode": {
    "name": "ipython",
    "version": 3
   },
   "file_extension": ".py",
   "mimetype": "text/x-python",
   "name": "python",
   "nbconvert_exporter": "python",
   "pygments_lexer": "ipython3",
   "version": "3.10.9"
  },
  "toc": {
   "base_numbering": 1,
   "nav_menu": {},
   "number_sections": true,
   "sideBar": true,
   "skip_h1_title": false,
   "title_cell": "Table of Contents",
   "title_sidebar": "Contents",
   "toc_cell": false,
   "toc_position": {
    "height": "calc(100% - 180px)",
    "left": "10px",
    "top": "150px",
    "width": "319px"
   },
   "toc_section_display": true,
   "toc_window_display": true
  }
 },
 "nbformat": 4,
 "nbformat_minor": 5
}
