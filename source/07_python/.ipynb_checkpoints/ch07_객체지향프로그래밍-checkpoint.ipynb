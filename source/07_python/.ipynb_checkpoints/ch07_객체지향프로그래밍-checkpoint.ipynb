{
 "cells": [
  {
   "cell_type": "code",
   "execution_count": 1,
   "id": "5da230a6",
   "metadata": {},
   "outputs": [
    {
     "data": {
      "text/html": [
       "\n",
       "<style>\n",
       "div.container{width:80% !important;}\n",
       "div.CodeMirror {font-family:Consolas; font-size:12pt;}\n",
       "div.output {font-size:12pt; font-weight:bold;}\n",
       "div.input {font-family:Consolas; font-size:12pt;}\n",
       "div.prompt {min-width:70px;}\n",
       "div#toc-header{margin-top:150px;}\n",
       "</style>\n",
       "<style>\n",
       "span.toc-item-num{\n",
       "display:none;\n",
       "}\n",
       "</style>\n"
      ],
      "text/plain": [
       "<IPython.core.display.HTML object>"
      ]
     },
     "metadata": {},
     "output_type": "display_data"
    }
   ],
   "source": [
    "from IPython.display import display, HTML\n",
    "display(HTML(\"\"\"\n",
    "<style>\n",
    "div.container{width:80% !important;}\n",
    "div.CodeMirror {font-family:Consolas; font-size:12pt;}\n",
    "div.output {font-size:12pt; font-weight:bold;}\n",
    "div.input {font-family:Consolas; font-size:12pt;}\n",
    "div.prompt {min-width:70px;}\n",
    "div#toc-header{margin-top:150px;}\n",
    "</style>\n",
    "<style>\n",
    "span.toc-item-num{\n",
    "display:none;\n",
    "}\n",
    "</style>\n",
    "\"\"\"))"
   ]
  },
  {
   "cell_type": "markdown",
   "id": "3d3776c7",
   "metadata": {},
   "source": [
    "<b><font size=\"6\" color=\"red\">ch07. 객체지향프로그래밍</font></b>"
   ]
  },
  {
   "cell_type": "code",
   "execution_count": null,
   "id": "a9d932fe",
   "metadata": {},
   "outputs": [],
   "source": []
  },
  {
   "cell_type": "markdown",
   "id": "7da017fa",
   "metadata": {},
   "source": [
    "# 2절. 변수와 메소드\n",
    "- 클래스변수 vs. 인스턴스변수 vs. static변수\n",
    "- 인스턴스메소드 vs static메소드 vs 클래스메소드"
   ]
  },
  {
   "cell_type": "code",
   "execution_count": 2,
   "id": "89d8a0ce",
   "metadata": {},
   "outputs": [
    {
     "name": "stdout",
     "output_type": "stream",
     "text": [
      "홍길동 남자\n",
      "<class '__main__.Person'>\n"
     ]
    }
   ],
   "source": [
    "# 클래스 변수 추가 : 클래스 내부에 선언되며,\n",
    "# 생성된 모든 인스턴스에서 동일한 값 가진다.\n",
    "# 클래스명. 클래스 변수를 수정하면 모든 인스턴스에 반영될 수 있음\n",
    "# 인스턴스.클래스변수로 수정하면 해당 인스턴스에만 반영됨\n",
    "class Person:\n",
    "    name = '홍길동'\n",
    "    gender='남자'\n",
    "print(Person.name, Person.gender) # 클래스변수\n",
    "print(Person)"
   ]
  },
  {
   "cell_type": "code",
   "execution_count": 3,
   "id": "b3d35169",
   "metadata": {},
   "outputs": [
    {
     "name": "stdout",
     "output_type": "stream",
     "text": [
      "클래스 영역 변수 : 홍길동 남자\n",
      "p1객체의 변수 : 홍길동 남자\n",
      "p1객체의 변수 : 홍길동 남자\n"
     ]
    }
   ],
   "source": [
    "p1 = Person()\n",
    "p2 = Person()\n",
    "print('클래스 영역 변수 :', Person.name, Person.gender)\n",
    "print('p1객체의 변수 :', p1.name,p1.gender)\n",
    "print('p1객체의 변수 :', p2.name,p2.gender)"
   ]
  },
  {
   "cell_type": "code",
   "execution_count": 4,
   "id": "3c311bf7",
   "metadata": {},
   "outputs": [
    {
     "name": "stdout",
     "output_type": "stream",
     "text": [
      "클래스 영역 변수 : 홍길동 남자\n",
      "p1객체의 변수 : 이순신 남자\n",
      "p1객체의 변수 : 홍길동 남자\n"
     ]
    }
   ],
   "source": [
    "p1.name= '이순신'\n",
    "print('클래스 영역 변수 :', Person.name, Person.gender)\n",
    "print('p1객체의 변수 :', p1.name,p1.gender)\n",
    "print('p1객체의 변수 :', p2.name,p2.gender)"
   ]
  },
  {
   "cell_type": "code",
   "execution_count": 5,
   "id": "d95b4103",
   "metadata": {},
   "outputs": [],
   "source": [
    "Person.name='유관순'\n",
    "Person.gender='여자'"
   ]
  },
  {
   "cell_type": "code",
   "execution_count": 6,
   "id": "c3b4ced2",
   "metadata": {},
   "outputs": [],
   "source": [
    "#메소드 추가\n",
    "class Person:\n",
    "    name='홍길동'\n",
    "    gender='남자'\n",
    "    def print_info():\n",
    "        print('Person 메소드')\n",
    "        print(\"{}은{}입니다.\".format(Person.name, Person.gender))"
   ]
  },
  {
   "cell_type": "code",
   "execution_count": 7,
   "id": "7af1aae1",
   "metadata": {},
   "outputs": [
    {
     "name": "stdout",
     "output_type": "stream",
     "text": [
      "홍길동 남자\n",
      "Person 메소드\n",
      "홍길동은남자입니다.\n"
     ]
    }
   ],
   "source": [
    "print(Person.name,Person.gender)\n",
    "Person.print_info()"
   ]
  },
  {
   "cell_type": "code",
   "execution_count": 8,
   "id": "0060315f",
   "metadata": {},
   "outputs": [
    {
     "name": "stdout",
     "output_type": "stream",
     "text": [
      "클래스 변수 영역: 홍길동 남자\n",
      "객체 영역: 유관순 여자\n"
     ]
    },
    {
     "ename": "TypeError",
     "evalue": "Person.print_info() takes 0 positional arguments but 1 was given",
     "output_type": "error",
     "traceback": [
      "\u001b[1;31m---------------------------------------------------------------------------\u001b[0m",
      "\u001b[1;31mTypeError\u001b[0m                                 Traceback (most recent call last)",
      "Cell \u001b[1;32mIn[8], line 6\u001b[0m\n\u001b[0;32m      4\u001b[0m \u001b[38;5;28mprint\u001b[39m(\u001b[38;5;124m'\u001b[39m\u001b[38;5;124m클래스 변수 영역:\u001b[39m\u001b[38;5;124m'\u001b[39m,Person\u001b[38;5;241m.\u001b[39mname,Person\u001b[38;5;241m.\u001b[39mgender)\n\u001b[0;32m      5\u001b[0m \u001b[38;5;28mprint\u001b[39m(\u001b[38;5;124m'\u001b[39m\u001b[38;5;124m객체 영역:\u001b[39m\u001b[38;5;124m'\u001b[39m,p1\u001b[38;5;241m.\u001b[39mname,p1\u001b[38;5;241m.\u001b[39mgender)\n\u001b[1;32m----> 6\u001b[0m \u001b[43mp1\u001b[49m\u001b[38;5;241;43m.\u001b[39;49m\u001b[43mprint_info\u001b[49m\u001b[43m(\u001b[49m\u001b[43m)\u001b[49m\n",
      "\u001b[1;31mTypeError\u001b[0m: Person.print_info() takes 0 positional arguments but 1 was given"
     ]
    }
   ],
   "source": [
    "p1 = Person()\n",
    "p1.name= '유관순'\n",
    "p1.gender = '여자'\n",
    "print('클래스 변수 영역:',Person.name,Person.gender)\n",
    "print('객체 영역:',p1.name,p1.gender)\n",
    "p1.print_info()"
   ]
  },
  {
   "cell_type": "code",
   "execution_count": null,
   "id": "31ec75de",
   "metadata": {},
   "outputs": [],
   "source": [
    "# 에러나는 이유는 인스턴스 메소드도 아니고, 클래스 메소드도 아니고 staticmethod도 아님\n",
    "# staticmethod처럼 실행은 가능"
   ]
  },
  {
   "cell_type": "markdown",
   "id": "035508df",
   "metadata": {},
   "source": [
    "※ 인스턴스 메소드 & 클래스 메소드 & static 메소드\n",
    "- 인스턴스 메소드 : 첫번째 인자에 self를 꼭 명시. 객체를 통해서만 호출할 메소드\n",
    "- 클래스 메소드 : @classmethod 선언한 메소드. 첫번째 인자에 cls(clz) 꼭 명시\n",
    "- static 메소드 : 메소드 위에 @staticmethod 선언한 메소드. 인자를 넣지 않음"
   ]
  },
  {
   "cell_type": "code",
   "execution_count": null,
   "id": "30e2739a",
   "metadata": {},
   "outputs": [],
   "source": [
    "# 인스턴스 메소드(객체가 호출할 수 있는 함수)\n",
    "class Person:\n",
    "    name= \"홍길동\"\n",
    "    gender=\"남자\"\n",
    "    age = 30\n",
    "    # 인스턴스 메소드 선언시 첫번째 인자에 self를 넣고 선언.\n",
    "    # 실제 호출시에는 매개변수 self 이용 안함. self의 의미는 자바에서의 this \n",
    "    def print_info(self):\n",
    "        print('인스턴스 변수 정보 : {}는 {}살이고, {}입니다'.format(self.name,\n",
    "                                                   self.age,self.gender))\n",
    "        print('클래스 정보 : {}는 {}살이고, {}입니다.'.format(Person.name,Person.age,Person.gender))"
   ]
  },
  {
   "cell_type": "code",
   "execution_count": null,
   "id": "c8331a41",
   "metadata": {},
   "outputs": [],
   "source": [
    "print(Person.name,Person.gender,Person.age)\n",
    "p1 =Person()\n",
    "p2=Person()\n",
    "p1.name = \"신사임당\"\n",
    "p1.print_info()\n"
   ]
  },
  {
   "cell_type": "code",
   "execution_count": null,
   "id": "4da64743",
   "metadata": {},
   "outputs": [],
   "source": [
    "Person.print_info(p1) \n",
    "#클래스.을사용하면 객체인 self를 넣고 아닐시 객체. 으로 사용 위와 같은 방식으로는 사용안함"
   ]
  },
  {
   "cell_type": "code",
   "execution_count": null,
   "id": "988610c2",
   "metadata": {},
   "outputs": [],
   "source": [
    "p2.print_info()"
   ]
  },
  {
   "cell_type": "code",
   "execution_count": null,
   "id": "6ff131d6",
   "metadata": {},
   "outputs": [],
   "source": [
    "# 객체의 변수를 추가\n",
    "p1.address = \"서울시\"\n",
    "p1.nickname = \"곰돌이 푸\"\n"
   ]
  },
  {
   "cell_type": "code",
   "execution_count": null,
   "id": "bd926460",
   "metadata": {},
   "outputs": [],
   "source": [
    "print(p1.name,p1.gender,p1.age,p1.address,p1.nickname)\n",
    "print(p2.name,p2.gender,p2.age)"
   ]
  },
  {
   "cell_type": "code",
   "execution_count": null,
   "id": "514d4f21",
   "metadata": {},
   "outputs": [],
   "source": [
    "p1.print_info()"
   ]
  },
  {
   "cell_type": "code",
   "execution_count": null,
   "id": "ce204d09",
   "metadata": {},
   "outputs": [],
   "source": [
    "# 3가지 메소드를 다 사용\n",
    "class Person :\n",
    "    name=\"홍길동\"\n",
    "    gender=\"남자\"\n",
    "    def print_info(self): # 변수.print_info()로 호출\n",
    "        print(\"일반(인스턴스=객체) 메소드-{}는 {}입니다\".format(self.name,self.gender))\n",
    "        \n",
    "    def change_info(self, name, gender=\"남자\"):       # 변수.change_info(\"신길숙\",\"여자\")로 호출\n",
    "        self.name = name\n",
    "        # self.gender= gender\n",
    "        print(\"일반(인스턴스) 메소드를 통해 {}로 이름 변경 완료\".format(self.name))\n",
    "    @classmethod\n",
    "    def do_(clz): # clz == Person 클래스 변수를 이용한 로직\n",
    "        clz.name = '신사임당' #클래스영역의 클래스 변수 수정\n",
    "        clz.gender ='여자'\n",
    "        print(\"클래스 메소드 - {}는 {}로 클래스 변수 변경.\".format(clz.name,clz.gender))\n",
    "        \n",
    "    @staticmethod\n",
    "    def that_():#클래스 변수를 이용하는 경우보다 로직이 우선일 경우\n",
    "        Person.name=\"신길동\"\n",
    "        Person.gender=\"남자\"\n",
    "        print(\"static 메소드 - {}는 {}입니다\".format(Person.name,Person.gender))\n",
    "    "
   ]
  },
  {
   "cell_type": "code",
   "execution_count": null,
   "id": "dd64991f",
   "metadata": {},
   "outputs": [],
   "source": []
  },
  {
   "cell_type": "code",
   "execution_count": null,
   "id": "231a4ded",
   "metadata": {},
   "outputs": [],
   "source": [
    "p1 = Person()\n",
    "p1.print_info()\n",
    "p1.change_info(\"이순신\",\"남자\")\n",
    "p1.print_info()"
   ]
  },
  {
   "cell_type": "code",
   "execution_count": null,
   "id": "f7c84f8e",
   "metadata": {},
   "outputs": [],
   "source": [
    "p1.name = \"이순신\"\n",
    "p1.print_info()"
   ]
  },
  {
   "cell_type": "code",
   "execution_count": null,
   "id": "63800751",
   "metadata": {},
   "outputs": [],
   "source": [
    "Person.do_() # 클래스 변수 수정\n",
    "p1.print_info()"
   ]
  },
  {
   "cell_type": "code",
   "execution_count": null,
   "id": "4cc1c687",
   "metadata": {},
   "outputs": [],
   "source": [
    "p2 = Person()\n",
    "p2.print_info()"
   ]
  },
  {
   "cell_type": "code",
   "execution_count": null,
   "id": "faf5a397",
   "metadata": {},
   "outputs": [],
   "source": [
    "Person.that_()"
   ]
  },
  {
   "cell_type": "code",
   "execution_count": null,
   "id": "4e802624",
   "metadata": {},
   "outputs": [],
   "source": [
    "p2.print_info()"
   ]
  },
  {
   "cell_type": "code",
   "execution_count": null,
   "id": "5d1bfb00",
   "metadata": {},
   "outputs": [],
   "source": [
    "Person.do_()\n",
    "p2.print_info()"
   ]
  },
  {
   "cell_type": "code",
   "execution_count": null,
   "id": "73c5739d",
   "metadata": {},
   "outputs": [],
   "source": [
    "p2.age = 30"
   ]
  },
  {
   "cell_type": "code",
   "execution_count": 9,
   "id": "4856a689",
   "metadata": {},
   "outputs": [
    {
     "ename": "TypeError",
     "evalue": "Person.print_info() takes 0 positional arguments but 1 was given",
     "output_type": "error",
     "traceback": [
      "\u001b[1;31m---------------------------------------------------------------------------\u001b[0m",
      "\u001b[1;31mTypeError\u001b[0m                                 Traceback (most recent call last)",
      "Cell \u001b[1;32mIn[9], line 1\u001b[0m\n\u001b[1;32m----> 1\u001b[0m \u001b[43mp1\u001b[49m\u001b[38;5;241;43m.\u001b[39;49m\u001b[43mprint_info\u001b[49m\u001b[43m(\u001b[49m\u001b[43m)\u001b[49m\n\u001b[0;32m      2\u001b[0m p2\u001b[38;5;241m.\u001b[39mprint_info()\n",
      "\u001b[1;31mTypeError\u001b[0m: Person.print_info() takes 0 positional arguments but 1 was given"
     ]
    }
   ],
   "source": [
    "p1.print_info()\n",
    "p2.print_info()\n"
   ]
  },
  {
   "cell_type": "markdown",
   "id": "29d8c7a5",
   "metadata": {},
   "source": [
    "# 3절. 생성자(__init__)와 소멸자 (__del__)\n",
    "```\n",
    "생성자: __init__(self,매개변수....) 객체가 생성될 때 자동 실행\n",
    "        생성시 필요한 코드 (인스턴스 변수 초기화)를 포함\n",
    "소멸자: _del_(self) : 객체가 소멸될 때 자동 실행\n",
    "        소멸시 필요한 코드를 포함\n",
    "        인스턴스 객체의 레퍼런스 카운트가 0이 될 때 실행\n",
    "```\n"
   ]
  },
  {
   "cell_type": "code",
   "execution_count": 1,
   "id": "ab841992",
   "metadata": {},
   "outputs": [],
   "source": [
    "class Person:\n",
    "    def __init__(self,name=\"홍길동\",gender=\"남자\"):\n",
    "        self.name =name # 인스턴스 변수 \n",
    "        self.gender = gender\n",
    "        print('Person 객체를 생성합니다')\n",
    "    def __del__(self):\n",
    "        print('Person 객체를 소멸합니다')\n",
    "    def print_info(self):\n",
    "        print(\"{}는 {}입니다\".format(self.name,self.gender))\n",
    "    def __str__(self):\n",
    "        return \"%s는 %s\" % (self.name,self.gender)"
   ]
  },
  {
   "cell_type": "code",
   "execution_count": 13,
   "id": "e4c41284",
   "metadata": {},
   "outputs": [
    {
     "name": "stdout",
     "output_type": "stream",
     "text": [
      "Person 객체를 생성합니다\n",
      "Person 객체를 생성합니다\n",
      "Person 객체를 생성합니다\n",
      "Person 객체를 생성합니다\n",
      "Person 객체를 생성합니다\n"
     ]
    }
   ],
   "source": [
    "p1 = Person(\"홍길동\",\"남자\")\n",
    "p2 = Person(gender=\"여자\",name=\"홍길숙\")\n",
    "p3 = Person(\"신길동\") # 성별은 기본값 '남자'로 생성\n",
    "p4 = Person(gender=\"여자\") # 이름은 기본값 '홍길동'으로 생성\n",
    "p5 = Person()"
   ]
  },
  {
   "cell_type": "code",
   "execution_count": 3,
   "id": "57b79b4f",
   "metadata": {},
   "outputs": [
    {
     "name": "stdout",
     "output_type": "stream",
     "text": [
      "홍길동는 남자입니다\n",
      "홍길숙는 여자입니다\n",
      "신길동는 남자입니다\n",
      "홍길동는 여자입니다\n",
      "홍길동는 남자입니다\n"
     ]
    }
   ],
   "source": [
    "p1.print_info()\n",
    "p2.print_info()\n",
    "p3.print_info()\n",
    "p4.print_info()\n",
    "p5.print_info()"
   ]
  },
  {
   "cell_type": "code",
   "execution_count": 5,
   "id": "189004c7",
   "metadata": {},
   "outputs": [
    {
     "name": "stdout",
     "output_type": "stream",
     "text": [
      "p1= 홍길동는 남자\n",
      "p2= 홍길숙는 여자\n",
      "p3= 신길동는 남자\n",
      "p4= 홍길동는 여자\n",
      "p5= 홍길동는 남자\n"
     ]
    }
   ],
   "source": [
    "print('p1=',p1)\n",
    "print('p2=',p2)\n",
    "print('p3=',p3)\n",
    "print('p4=',p4)\n",
    "print('p5=',p5)"
   ]
  },
  {
   "cell_type": "code",
   "execution_count": 7,
   "id": "794509d6",
   "metadata": {
    "collapsed": true
   },
   "outputs": [
    {
     "ename": "NameError",
     "evalue": "name 'p2' is not defined",
     "output_type": "error",
     "traceback": [
      "\u001b[1;31m---------------------------------------------------------------------------\u001b[0m",
      "\u001b[1;31mNameError\u001b[0m                                 Traceback (most recent call last)",
      "Cell \u001b[1;32mIn[7], line 1\u001b[0m\n\u001b[1;32m----> 1\u001b[0m \u001b[38;5;28;01mdel\u001b[39;00m p2,p3,p4,p5\n",
      "\u001b[1;31mNameError\u001b[0m: name 'p2' is not defined"
     ]
    }
   ],
   "source": [
    "del p2,p3,p4,p5"
   ]
  },
  {
   "cell_type": "code",
   "execution_count": 8,
   "id": "f8b471d3",
   "metadata": {},
   "outputs": [],
   "source": [
    "p2 = p1"
   ]
  },
  {
   "cell_type": "code",
   "execution_count": 9,
   "id": "c1ae682f",
   "metadata": {},
   "outputs": [
    {
     "data": {
      "text/plain": [
       "(2169688560384, 2169688560384)"
      ]
     },
     "execution_count": 9,
     "metadata": {},
     "output_type": "execute_result"
    }
   ],
   "source": [
    "id(p1), id(p2) #한객체를 두 인스턴스 변수가 참조 (객체의 레퍼런스 카운트가 2)"
   ]
  },
  {
   "cell_type": "code",
   "execution_count": 10,
   "id": "7eed1c99",
   "metadata": {},
   "outputs": [],
   "source": [
    "del p1 # 객체 레퍼런스 카운트가 1이여서 소멸자 생성 안함"
   ]
  },
  {
   "cell_type": "code",
   "execution_count": 11,
   "id": "7736bc66",
   "metadata": {},
   "outputs": [
    {
     "name": "stdout",
     "output_type": "stream",
     "text": [
      "Person 객체를 소멸합니다\n"
     ]
    }
   ],
   "source": [
    "del p2"
   ]
  },
  {
   "cell_type": "code",
   "execution_count": 15,
   "id": "1cb86c1b",
   "metadata": {},
   "outputs": [
    {
     "data": {
      "text/plain": [
       "(2169712100640, 2169688699568, 2169694041136, 2169712751664, 2169694043152)"
      ]
     },
     "execution_count": 15,
     "metadata": {},
     "output_type": "execute_result"
    }
   ],
   "source": [
    "id(p1),id(p2),id(p3),id(p4),id(p5)"
   ]
  },
  {
   "cell_type": "markdown",
   "id": "cdd68532",
   "metadata": {},
   "source": [
    "# 4절. static 변수\n",
    "- 변수종류 :\n",
    "    *인스턴스 변수 (생성자를 통함)\n",
    "    *클래스변수(클래스내 선언)\n",
    "    *static변수 : 변수명 앞에 __(under score 2개)를 붙임\n",
    "        변수명앞에 __를 붙이면, 클래스명.__클래스명__static변수명으로 참조함\n",
    "        클래스 변수는 클래스나 인스턴스에서 바로접근 가능.\n",
    "        반면, __로 시작하는 변수는 바로 접근 불가하고 클래스명.__클래스명__ static변수명으로\n",
    "        접근해야 하므로 외부에서 실수로 접근하거나 변경하는 것을 방지\n",
    "        static 변수는 클래스 내부에서만 접근하도록 하려는 의도를 전달하는 용도"
   ]
  },
  {
   "cell_type": "code",
   "execution_count": 16,
   "id": "a7341fa8",
   "metadata": {},
   "outputs": [
    {
     "data": {
      "text/plain": [
       "'홍길동'"
      ]
     },
     "execution_count": 16,
     "metadata": {},
     "output_type": "execute_result"
    }
   ],
   "source": [
    "class Person :\n",
    "    name = \"홍길동\"\n",
    "    __count = 0\n",
    "p= Person()\n",
    "p.name"
   ]
  },
  {
   "cell_type": "code",
   "execution_count": 18,
   "id": "b278a563",
   "metadata": {},
   "outputs": [
    {
     "ename": "AttributeError",
     "evalue": "'Person' object has no attribute '__count'",
     "output_type": "error",
     "traceback": [
      "\u001b[1;31m---------------------------------------------------------------------------\u001b[0m",
      "\u001b[1;31mAttributeError\u001b[0m                            Traceback (most recent call last)",
      "Cell \u001b[1;32mIn[18], line 1\u001b[0m\n\u001b[1;32m----> 1\u001b[0m \u001b[43mp\u001b[49m\u001b[38;5;241;43m.\u001b[39;49m\u001b[43m__count\u001b[49m()\n",
      "\u001b[1;31mAttributeError\u001b[0m: 'Person' object has no attribute '__count'"
     ]
    }
   ],
   "source": [
    "p.__count()"
   ]
  },
  {
   "cell_type": "markdown",
   "id": "730982cd",
   "metadata": {},
   "source": [
    "# 5절. 상속과 재정의"
   ]
  },
  {
   "cell_type": "code",
   "execution_count": 21,
   "id": "4613b376",
   "metadata": {},
   "outputs": [
    {
     "name": "stdout",
     "output_type": "stream",
     "text": [
      "두수를 초기화\n",
      "num1은 2,num2는 2\n"
     ]
    }
   ],
   "source": [
    "class Cal :\n",
    "    def __init__(self, num1=1, num2=2):\n",
    "        print('두수를 초기화')\n",
    "        self.num1= num1\n",
    "        self.num2= num2\n",
    "    def add(self):\n",
    "        return self.num1+self.num2\n",
    "    def sub(self):\n",
    "        return self.num1-self.num2 if self.num1>self.num2 else self.num2-self.num1\n",
    "    def __str__(self):\n",
    "        return 'num1은 %d,num2는 %d'%(self.num1, self.num2)\n",
    "    \n",
    "class Cal_inherit(Cal):\n",
    "    def mul(self):\n",
    "        return self.num1*self.num2\n",
    "obj = Cal_inherit(2,2)\n",
    "print(obj)\n",
    "    "
   ]
  },
  {
   "cell_type": "code",
   "execution_count": 23,
   "id": "bf226914",
   "metadata": {},
   "outputs": [
    {
     "name": "stdout",
     "output_type": "stream",
     "text": [
      "4\n",
      "0\n",
      "4\n"
     ]
    }
   ],
   "source": [
    "print(obj.add())\n",
    "print(obj.sub())\n",
    "print(obj.mul())"
   ]
  },
  {
   "cell_type": "code",
   "execution_count": 25,
   "id": "b4238fdc",
   "metadata": {},
   "outputs": [],
   "source": [
    "class Person:\n",
    "    'Person은 이름과 성별 멤버변수가 있고, 어쩌구 저쩌구...'\n",
    "    def __init__(self,name,gender):\n",
    "        print('Person 객체 생성')\n",
    "        self.name = name\n",
    "        self.gender = gender\n",
    "    def __del__(self):\n",
    "        print('Person 객체 소멸')\n",
    "    def print_info(self):\n",
    "        '객체 이름과 성별을 출력합니다'\n",
    "        print('{}님은 {}입니다'. format(self.name,self.gender))\n",
    "    def __str__(self):\n",
    "        return '{}님은 {}입니다'. format(self.name,self.gender)"
   ]
  },
  {
   "cell_type": "markdown",
   "id": "203fc0ad",
   "metadata": {},
   "source": [
    "## super() 이용"
   ]
  },
  {
   "cell_type": "code",
   "execution_count": 27,
   "id": "fdf9f151",
   "metadata": {},
   "outputs": [],
   "source": [
    "class Student(Person):\n",
    "    'name과 gender(상속받음)에 major 변수를 갖는 Student 타입'\n",
    "    def __init__(self,name,gender,major):\n",
    "        # 부모 클래스의 생성자를 호출해서 name과 gender초기화\n",
    "        # Person.__init__(self, name, gender)\n",
    "        super().__init__(name,gender)\n",
    "        self.major = major\n",
    "    def __del__(self):\n",
    "        pass\n",
    "    def print_info(self): # 재정의(override)\n",
    "        #print(\"{}는 {}입니다 \\n 전공은 {}입니다\".format(self.name,self.gender,self.major))\n",
    "        \n",
    "        super().print_info() #상위클래스 Person의 print_info()\n",
    "        print(\"전공은 {}입니다\".format(self.major))\n",
    "    def __str__(self):\n",
    "        return super().__str__()+ \\\n",
    "                \"전공은 {}입니다\".format(self.major)\n",
    "    #return person().__str__(self)+\"전공은 {}입니다\".format(self.major)\n"
   ]
  },
  {
   "cell_type": "code",
   "execution_count": 28,
   "id": "4a5a8636",
   "metadata": {},
   "outputs": [
    {
     "name": "stdout",
     "output_type": "stream",
     "text": [
      "Person 객체 생성\n",
      "홍길동님은 남자입니다전공은 AI 빅데이터입니다\n"
     ]
    }
   ],
   "source": [
    "s1 = Student (\"홍길동\", \"남자\",\"AI 빅데이터\")\n",
    "print(s1)"
   ]
  },
  {
   "cell_type": "code",
   "execution_count": 30,
   "id": "55b1a4c1",
   "metadata": {},
   "outputs": [
    {
     "name": "stdout",
     "output_type": "stream",
     "text": [
      "홍길동님은 남자입니다\n",
      "전공은 AI 빅데이터입니다\n"
     ]
    }
   ],
   "source": [
    "s1.print_info()"
   ]
  },
  {
   "cell_type": "code",
   "execution_count": 31,
   "id": "8f8b9a20",
   "metadata": {},
   "outputs": [
    {
     "name": "stdout",
     "output_type": "stream",
     "text": [
      "True\n",
      "True\n"
     ]
    }
   ],
   "source": [
    "print(isinstance(s1, Student))\n",
    "print(isinstance(s1, Person))"
   ]
  },
  {
   "cell_type": "markdown",
   "id": "2f9079b3",
   "metadata": {},
   "source": [
    "## 상속과 static 변수 활용\n"
   ]
  },
  {
   "cell_type": "code",
   "execution_count": 4,
   "id": "727128cb",
   "metadata": {},
   "outputs": [],
   "source": [
    "class Person:\n",
    "    'Person = name, gender'\n",
    "    def __init__(self,name, gender):\n",
    "        self.name = name\n",
    "        self.gender = gender\n",
    "    def print_info(self): # 추상메소드 흉내\n",
    "        raise Exception('이 메소드는 반드시 구현되어야 합니다')\n",
    "    def __str__(self):\n",
    "        return '{}님은{}'.format(self.name,self.gender)\n",
    "class Student(Person):\n",
    "    '''\n",
    "    name과 gender(상속)에 major변수는 갖는 Student 타입\n",
    "    객체 생성마다 몇번째 객체인지 저장(static 변수)\n",
    "    '''\n",
    "    __count = 0 #  static 변수 (객체 갯수가 저장될 변수)\n",
    "    # 변수명 앞에 __붙으면, \"클래스명._클래스명__static변수\"로 사용\n",
    "    def __init__(self,name,gender,major):\n",
    "        #__count += 1 불가능\n",
    "        Student._Student__count += 1 \n",
    "        # Person.__init__(self,name,gender)\n",
    "        super().__init__(name,gender)\n",
    "        self.major = major\n",
    "    \n",
    "    def __del__(self):\n",
    "        Student._Student__count -= 1\n",
    "        # 객체가 생성될때마다 __count 1 증가\n",
    "        # 객체가 소멸될때마다 __count 1 감소\n",
    "    def print_info(self):\n",
    "        print(\"{}님은 {}, 전공은{}입니다 - 이상 {}번째 인스턴스(객체변수)입니다\".format(self.name,\n",
    "                                                                 self.gender,self.major,student._Student__count))\n",
    "    \n",
    "    def __str__(self):\n",
    "        return super().__str__()+ ', 전공은 {}입니다'.format(self.major)\n",
    "    @classmethod\n",
    "    def get_count(cls):\n",
    "            return Student._Student__count\n",
    "        "
   ]
  },
  {
   "cell_type": "code",
   "execution_count": 5,
   "id": "316f47b7",
   "metadata": {},
   "outputs": [
    {
     "name": "stdout",
     "output_type": "stream",
     "text": [
      "홍길동님은남자\n"
     ]
    }
   ],
   "source": [
    "p = Person(\"홍길동\",\"남자\")\n",
    "print(p)"
   ]
  },
  {
   "cell_type": "code",
   "execution_count": 9,
   "id": "0d06862f",
   "metadata": {},
   "outputs": [
    {
     "name": "stdout",
     "output_type": "stream",
     "text": [
      "홍학생님은남자, 전공은 빅데이터분석vs빅데이터 개발입니다\n",
      "객체의 갯수 : 1\n",
      "객체의 갯수 : 1\n"
     ]
    }
   ],
   "source": [
    "s1=Student(\"홍학생\",\"남자\",\"빅데이터분석vs빅데이터 개발\")\n",
    "print(s1)\n",
    "print('객체의 갯수 :',Student.get_count())\n",
    "print('객체의 갯수 :',Student._Student__count)"
   ]
  },
  {
   "cell_type": "code",
   "execution_count": 42,
   "id": "c1e8aca1",
   "metadata": {},
   "outputs": [
    {
     "name": "stdout",
     "output_type": "stream",
     "text": [
      "홍길동님은 남자입니다\n",
      "전공은 AI 빅데이터입니다\n"
     ]
    }
   ],
   "source": [
    "s1.print_info()"
   ]
  },
  {
   "cell_type": "code",
   "execution_count": 12,
   "id": "7337569d",
   "metadata": {},
   "outputs": [
    {
     "name": "stdout",
     "output_type": "stream",
     "text": [
      "신길숙님은여자, 전공은 통계학입니다\n",
      "객체의 갯수 : 2\n",
      "객체의 갯수 : 2\n"
     ]
    }
   ],
   "source": [
    "s2 = Student(\"신길숙\",\"여자\",\"통계학\")\n",
    "print(s2)\n",
    "print('객체의 갯수 :',Student.get_count())\n",
    "print('객체의 갯수 :',Student._Student__count)"
   ]
  },
  {
   "cell_type": "code",
   "execution_count": 20,
   "id": "d65a80bc",
   "metadata": {},
   "outputs": [
    {
     "ename": "NameError",
     "evalue": "name 's1' is not defined",
     "output_type": "error",
     "traceback": [
      "\u001b[1;31m---------------------------------------------------------------------------\u001b[0m",
      "\u001b[1;31mNameError\u001b[0m                                 Traceback (most recent call last)",
      "Cell \u001b[1;32mIn[20], line 1\u001b[0m\n\u001b[1;32m----> 1\u001b[0m \u001b[38;5;28;01mdel\u001b[39;00m s1\n\u001b[0;32m      2\u001b[0m \u001b[38;5;28mprint\u001b[39m(\u001b[38;5;124m'\u001b[39m\u001b[38;5;124m객체 갯수:\u001b[39m\u001b[38;5;124m'\u001b[39m,Student\u001b[38;5;241m.\u001b[39mget_count())\n",
      "\u001b[1;31mNameError\u001b[0m: name 's1' is not defined"
     ]
    }
   ],
   "source": [
    "del s1\n",
    "print('객체 갯수:',Student.get_count())"
   ]
  },
  {
   "cell_type": "code",
   "execution_count": 22,
   "id": "bb777f63",
   "metadata": {},
   "outputs": [
    {
     "data": {
      "text/plain": [
       "(True, True)"
      ]
     },
     "execution_count": 22,
     "metadata": {},
     "output_type": "execute_result"
    }
   ],
   "source": [
    "isinstance(s2,Student), isinstance(s2,Person)"
   ]
  },
  {
   "cell_type": "code",
   "execution_count": null,
   "id": "54da71d7",
   "metadata": {},
   "outputs": [],
   "source": []
  },
  {
   "cell_type": "code",
   "execution_count": null,
   "id": "c1e0eea0",
   "metadata": {},
   "outputs": [],
   "source": []
  },
  {
   "cell_type": "code",
   "execution_count": 14,
   "id": "9ab2b348",
   "metadata": {},
   "outputs": [],
   "source": [
    "class Product :\n",
    "    __count =100\n",
    "    def __init__(self, name, price):\n",
    "        Product._Product__count +=1\n",
    "        self.serialno= Product._Product__count\n",
    "        self.name = name\n",
    "        self.price = price\n",
    "    def __str__(self):\n",
    "        return 'serialNo :{}\\n상품명 : {}\\n가격 : {}'.format(self.serialno,self.name,self.price)"
   ]
  },
  {
   "cell_type": "code",
   "execution_count": 16,
   "id": "b1cdf121",
   "metadata": {},
   "outputs": [],
   "source": [
    "p1 =Product('새우깡',1600)\n",
    "p2 =Product('양파깡',1800)\n",
    "p3 =Product('페르로쉐',10000)"
   ]
  },
  {
   "cell_type": "code",
   "execution_count": 18,
   "id": "baef8f97",
   "metadata": {},
   "outputs": [
    {
     "name": "stdout",
     "output_type": "stream",
     "text": [
      "serialNo :104\n",
      "상품명 : 새우깡\n",
      "가격 : 1600\n",
      "serialNo :105\n",
      "상품명 : 양파깡\n",
      "가격 : 1800\n",
      "serialNo :106\n",
      "상품명 : 페르로쉐\n",
      "가격 : 10000\n"
     ]
    }
   ],
   "source": [
    "print(p1)\n",
    "print(p2)\n",
    "print(p3)"
   ]
  },
  {
   "cell_type": "code",
   "execution_count": 19,
   "id": "ed464e1f",
   "metadata": {},
   "outputs": [
    {
     "name": "stdout",
     "output_type": "stream",
     "text": [
      "생성된 최종 시리얼 번호 : 106\n"
     ]
    }
   ],
   "source": [
    "print('생성된 최종 시리얼 번호 :', Product._Product__count)"
   ]
  },
  {
   "cell_type": "code",
   "execution_count": 79,
   "id": "41b208d2",
   "metadata": {},
   "outputs": [],
   "source": [
    "class Shape:\n",
    "    def __init__(self,x=0,y=0):\n",
    "        self.x= x\n",
    "        self.y= y\n",
    "    def move(self,x,y):\n",
    "        self.x+=x\n",
    "        self.y+=y\n",
    "        \n",
    "    def calc_area(self):\n",
    "        raise Exception('이 메소드는 반드시 구현되어야 합니다')\n",
    "    \n",
    "    def __str__(self):\n",
    "        return 'x좌표는 :{} y좌표는 :{}'.format(self.x,self.y)\n",
    "    @staticmethod\n",
    "    def staticmethod_():\n",
    "        print(\"도형 클래스 staticmethod 호출\")\n",
    "        \n",
    "class Triangle(Shape):\n",
    "    \n",
    "    __count = 0 #삼각형의 갯수\n",
    "    \n",
    "    def __init__(self,width,height,x=0,y=0):\n",
    "        Triangle._Triangle__count +=1\n",
    "        super().__init__(x,y)\n",
    "        self.width =width\n",
    "        self.height =height\n",
    "        \n",
    "    def __del__(self):\n",
    "        Student._Student__count -=1\n",
    "    \n",
    "    def calc_area(self):\n",
    "        return(self.width*self.height)/2\n",
    "       \n",
    "    def __str__(self):\n",
    "        return super().__str__()+',width:{} height:{} 넓이는 {}입니다'.format(self.width,self.height,self.calc_area())"
   ]
  },
  {
   "cell_type": "code",
   "execution_count": 67,
   "id": "844b168c",
   "metadata": {},
   "outputs": [
    {
     "name": "stdout",
     "output_type": "stream",
     "text": [
      "x좌표는 :5 y좌표는 :5\n",
      "x좌표는 :20 y좌표는 :5\n"
     ]
    }
   ],
   "source": [
    "s1 = Shape(5,5)\n",
    "print(s1)\n",
    "s1.move(15,0) # 좌표 이동\n",
    "print(s1)"
   ]
  },
  {
   "cell_type": "code",
   "execution_count": 68,
   "id": "6afd0f85",
   "metadata": {},
   "outputs": [
    {
     "name": "stdout",
     "output_type": "stream",
     "text": [
      "도형 클래스 staticmethod 호출\n"
     ]
    }
   ],
   "source": [
    "Shape.staticmethod_()"
   ]
  },
  {
   "cell_type": "code",
   "execution_count": null,
   "id": "ddf1b561",
   "metadata": {},
   "outputs": [],
   "source": []
  },
  {
   "cell_type": "code",
   "execution_count": 80,
   "id": "a78ab1c2",
   "metadata": {},
   "outputs": [
    {
     "name": "stdout",
     "output_type": "stream",
     "text": [
      "x좌표는 :0 y좌표는 :0,width:10 height:20 넓이는 100.0입니다\n",
      "x좌표는 :5 y좌표는 :3,width:10 height:20 넓이는 100.0입니다\n",
      "x좌표는 :5 y좌표는 :3,width:10 height:20 넓이는 100.0입니다\n",
      "x좌표는 :5 y좌표는 :0,width:10 height:20 넓이는 100.0입니다\n",
      "x좌표는 :0 y좌표는 :3,width:10 height:20 넓이는 100.0입니다\n"
     ]
    }
   ],
   "source": [
    "t1 = Triangle(10,20)\n",
    "t2 = Triangle(10,20, 5, 3)\n",
    "t3 = Triangle(10,20, x=5, y=3)\n",
    "t4 = Triangle(10,20, 5)\n",
    "t5 = Triangle(10,20, y=3)\n",
    "print(t1)\n",
    "print(t2)\n",
    "print(t3)\n",
    "print(t4)\n",
    "print(t5)"
   ]
  },
  {
   "cell_type": "code",
   "execution_count": null,
   "id": "8afcc080",
   "metadata": {},
   "outputs": [],
   "source": [
    "#1 1\n",
    "#2 2\n",
    "#3 4\n",
    "#4 1 \n",
    "#5 2\n",
    "#6 \n",
    "#7 2\n",
    "#8 3\n",
    "#9 "
   ]
  }
 ],
 "metadata": {
  "kernelspec": {
   "display_name": "Python 3 (ipykernel)",
   "language": "python",
   "name": "python3"
  },
  "language_info": {
   "codemirror_mode": {
    "name": "ipython",
    "version": 3
   },
   "file_extension": ".py",
   "mimetype": "text/x-python",
   "name": "python",
   "nbconvert_exporter": "python",
   "pygments_lexer": "ipython3",
   "version": "3.10.9"
  },
  "toc": {
   "base_numbering": 1,
   "nav_menu": {},
   "number_sections": true,
   "sideBar": true,
   "skip_h1_title": false,
   "title_cell": "Table of Contents",
   "title_sidebar": "Contents",
   "toc_cell": false,
   "toc_position": {},
   "toc_section_display": true,
   "toc_window_display": false
  }
 },
 "nbformat": 4,
 "nbformat_minor": 5
}
