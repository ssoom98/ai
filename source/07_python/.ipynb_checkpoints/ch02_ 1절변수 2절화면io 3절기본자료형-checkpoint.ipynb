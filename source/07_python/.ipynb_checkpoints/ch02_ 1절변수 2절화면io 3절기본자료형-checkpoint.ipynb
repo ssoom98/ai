{
 "cells": [
  {
   "cell_type": "code",
   "execution_count": 102,
   "id": "ecc298ee",
   "metadata": {
    "ExecuteTime": {
     "end_time": "2024-11-05T02:10:56.844095Z",
     "start_time": "2024-11-05T02:10:56.838110Z"
    }
   },
   "outputs": [
    {
     "data": {
      "text/html": [
       "\n",
       "<style>\n",
       "div.container{width:80% !important;}\n",
       "div.CodeMirror {font-family:Consolas; font-size:12pt;}\n",
       "div.output {font-size:12pt; font-weight:bold;}\n",
       "div.input {font-family:Consolas; font-size:12pt;}\n",
       "div.prompt {min-width:70px;}\n",
       "div#toc-header{margin-top:150px;}\n",
       ".cm-s-ipython span.cm-comment{font-size:12pt; font-style:normal; color:orange;}\n",
       ".ansi-yellow-bg{color:black;font-size:15pt;}\n",
       "\n",
       "</style>\n",
       "<style>\n",
       "span.toc-item-num{display:none;}\n",
       "</style>\n"
      ],
      "text/plain": [
       "<IPython.core.display.HTML object>"
      ]
     },
     "metadata": {},
     "output_type": "display_data"
    }
   ],
   "source": [
    "from IPython.display import display, HTML\n",
    "display(HTML(\"\"\"\n",
    "<style>\n",
    "div.container{width:80% !important;}\n",
    "div.CodeMirror {font-family:Consolas; font-size:12pt;}\n",
    "div.output {font-size:12pt; font-weight:bold;}\n",
    "div.input {font-family:Consolas; font-size:12pt;}\n",
    "div.prompt {min-width:70px;}\n",
    "div#toc-header{margin-top:150px;}\n",
    ".cm-s-ipython span.cm-comment{font-size:12pt; font-style:normal; color:orange;}\n",
    ".ansi-yellow-bg{color:black;font-size:15pt;}\n",
    "\n",
    "</style>\n",
    "<style>\n",
    "span.toc-item-num{display:none;}\n",
    "</style>\n",
    "\"\"\"))\n"
   ]
  },
  {
   "cell_type": "markdown",
   "id": "064b8dbe",
   "metadata": {},
   "source": [
    "<b><font size=\"6\" color=\"red\"> ch02. 자료형과 연산자</font><b>"
   ]
  },
  {
   "cell_type": "markdown",
   "id": "375a8a3c",
   "metadata": {},
   "source": [
    "# 1절. 변수"
   ]
  },
  {
   "cell_type": "markdown",
   "id": "d15ce536",
   "metadata": {},
   "source": [
    "## 1.1 변수 선언\n",
    "- 파이썬은 변수 선언을 위한 타입이 없고, 별도의 선언 과정도 없음\n"
   ]
  },
  {
   "cell_type": "markdown",
   "id": "15d82ef2",
   "metadata": {},
   "source": [
    "## 1.2 변수 할당\n",
    "- 할당연산자를 이용해서 변수값을 할당하면 타입이 셋팅\n",
    "- 파이썬에서의 모든 변수는 객체"
   ]
  },
  {
   "cell_type": "code",
   "execution_count": 8,
   "id": "40ba6bfc",
   "metadata": {
    "ExecuteTime": {
     "end_time": "2024-11-04T07:35:40.281719Z",
     "start_time": "2024-11-04T07:35:40.276051Z"
    }
   },
   "outputs": [
    {
     "name": "stdout",
     "output_type": "stream",
     "text": [
      "계산된 넓이는 78.5\n"
     ]
    }
   ],
   "source": [
    "r = 5\n",
    "area = 3.14 *r*r\n",
    "print('계산된 넓이는', area)"
   ]
  },
  {
   "cell_type": "code",
   "execution_count": 11,
   "id": "7b0889e0",
   "metadata": {
    "ExecuteTime": {
     "end_time": "2024-11-04T07:37:43.817215Z",
     "start_time": "2024-11-04T07:37:43.812211Z"
    }
   },
   "outputs": [],
   "source": [
    "import numpy as np # numpy라는 패키지(폴더)를 np라는 이름으로 사용"
   ]
  },
  {
   "cell_type": "code",
   "execution_count": 18,
   "id": "5620ddd5",
   "metadata": {
    "ExecuteTime": {
     "end_time": "2024-11-04T07:38:57.317377Z",
     "start_time": "2024-11-04T07:38:57.309396Z"
    }
   },
   "outputs": [
    {
     "name": "stdout",
     "output_type": "stream",
     "text": [
      "78.53981633974483\n"
     ]
    },
    {
     "data": {
      "text/plain": [
       "5"
      ]
     },
     "execution_count": 18,
     "metadata": {},
     "output_type": "execute_result"
    }
   ],
   "source": [
    "area = np.pi * r * r\n",
    "print (area)\n",
    "r"
   ]
  },
  {
   "cell_type": "code",
   "execution_count": 21,
   "id": "67c940aa",
   "metadata": {
    "ExecuteTime": {
     "end_time": "2024-11-04T07:43:22.370776Z",
     "start_time": "2024-11-04T07:43:22.365788Z"
    }
   },
   "outputs": [
    {
     "name": "stdout",
     "output_type": "stream",
     "text": [
      "area의 id :  1857864029712\n",
      "area의 타입 :  <class 'float'>\n"
     ]
    }
   ],
   "source": [
    "print('area의 id : ',id(area)) # id(area) : area변수(객체)의 주소값\n",
    "print('area의 타입 : ',type(area))"
   ]
  },
  {
   "cell_type": "code",
   "execution_count": 22,
   "id": "124e50d8",
   "metadata": {
    "ExecuteTime": {
     "end_time": "2024-11-04T07:43:36.236162Z",
     "start_time": "2024-11-04T07:43:36.229004Z"
    }
   },
   "outputs": [
    {
     "data": {
      "text/plain": [
       "False"
      ]
     },
     "execution_count": 22,
     "metadata": {},
     "output_type": "execute_result"
    }
   ],
   "source": [
    "area.is_integer()"
   ]
  },
  {
   "cell_type": "code",
   "execution_count": 23,
   "id": "a2fe4929",
   "metadata": {
    "ExecuteTime": {
     "end_time": "2024-11-04T07:45:12.947412Z",
     "start_time": "2024-11-04T07:45:12.942426Z"
    }
   },
   "outputs": [],
   "source": [
    "area = 10"
   ]
  },
  {
   "cell_type": "code",
   "execution_count": 24,
   "id": "76aae7f8",
   "metadata": {
    "ExecuteTime": {
     "end_time": "2024-11-04T07:45:14.827446Z",
     "start_time": "2024-11-04T07:45:14.821270Z"
    }
   },
   "outputs": [
    {
     "name": "stdout",
     "output_type": "stream",
     "text": [
      "area의 id :  1857750106640\n",
      "area의 타입 :  <class 'int'>\n"
     ]
    }
   ],
   "source": [
    "print('area의 id : ',id(area)) # id(area) : area변수(객체)의 주소값\n",
    "print('area의 타입 : ',type(area))"
   ]
  },
  {
   "cell_type": "code",
   "execution_count": 26,
   "id": "a60f53c2",
   "metadata": {
    "ExecuteTime": {
     "end_time": "2024-11-04T07:46:47.011400Z",
     "start_time": "2024-11-04T07:46:47.006386Z"
    }
   },
   "outputs": [
    {
     "name": "stdout",
     "output_type": "stream",
     "text": [
      "area의 id :  1857867732176\n",
      "area의 타입 :  <class 'str'>\n"
     ]
    }
   ],
   "source": [
    "area = '파이썬'\n",
    "print('area의 id : ',id(area)) # id(area) : area변수(객체)의 주소값\n",
    "print('area의 타입 : ',type(area))"
   ]
  },
  {
   "cell_type": "markdown",
   "id": "25fedc76",
   "metadata": {},
   "source": [
    "## 1.3 변수 이름 규칙\n",
    "- 문자로 시작\n",
    "- 문자(특수문자는 _제외하고는 안됨), 숫자, _로 변수명 작성\n",
    "- 한글이나 함수명은 변수이름으로 가능하나 피한다. 써야한다면 int_식으로 _를 붙여서 사용\n",
    "- 파이썬 예약어 (if, while...)는 변수 이름 사용 불가.\n",
    "- 한글 변수는 꼭 필요시만 사용"
   ]
  },
  {
   "cell_type": "code",
   "execution_count": 27,
   "id": "6ab561cc",
   "metadata": {
    "ExecuteTime": {
     "end_time": "2024-11-04T07:49:44.341441Z",
     "start_time": "2024-11-04T07:49:44.334610Z"
    }
   },
   "outputs": [
    {
     "data": {
      "text/plain": [
       "'홍길동'"
      ]
     },
     "execution_count": 27,
     "metadata": {},
     "output_type": "execute_result"
    }
   ],
   "source": [
    "이름 = \"홍길동\"\n",
    "이름"
   ]
  },
  {
   "cell_type": "code",
   "execution_count": 29,
   "id": "afbc528a",
   "metadata": {
    "ExecuteTime": {
     "end_time": "2024-11-04T07:50:13.555584Z",
     "start_time": "2024-11-04T07:50:13.549658Z"
    }
   },
   "outputs": [
    {
     "name": "stdout",
     "output_type": "stream",
     "text": [
      "홍길동\n"
     ]
    }
   ],
   "source": [
    "print(이름)"
   ]
  },
  {
   "cell_type": "code",
   "execution_count": 30,
   "id": "48d81fdd",
   "metadata": {
    "ExecuteTime": {
     "end_time": "2024-11-04T07:50:23.067796Z",
     "start_time": "2024-11-04T07:50:23.062802Z"
    },
    "collapsed": true
   },
   "outputs": [
    {
     "ename": "SyntaxError",
     "evalue": "invalid syntax (2630263448.py, line 1)",
     "output_type": "error",
     "traceback": [
      "\u001b[1;36m  Cell \u001b[1;32mIn[30], line 1\u001b[1;36m\u001b[0m\n\u001b[1;33m    if = 5\u001b[0m\n\u001b[1;37m       ^\u001b[0m\n\u001b[1;31mSyntaxError\u001b[0m\u001b[1;31m:\u001b[0m invalid syntax\n"
     ]
    }
   ],
   "source": [
    "if = 5"
   ]
  },
  {
   "cell_type": "code",
   "execution_count": 37,
   "id": "3b044534",
   "metadata": {
    "ExecuteTime": {
     "end_time": "2024-11-04T07:55:42.027924Z",
     "start_time": "2024-11-04T07:55:42.007661Z"
    },
    "collapsed": true
   },
   "outputs": [
    {
     "ename": "NameError",
     "evalue": "name 'member' is not defined",
     "output_type": "error",
     "traceback": [
      "\u001b[1;31m---------------------------------------------------------------------------\u001b[0m",
      "\u001b[1;31mNameError\u001b[0m                                 Traceback (most recent call last)",
      "Cell \u001b[1;32mIn[37], line 1\u001b[0m\n\u001b[1;32m----> 1\u001b[0m \u001b[43mmember\u001b[49m\u001b[38;5;241m.\u001b[39mname \u001b[38;5;241m=\u001b[39m \u001b[38;5;241m5\u001b[39m\n",
      "\u001b[1;31mNameError\u001b[0m: name 'member' is not defined"
     ]
    }
   ],
   "source": [
    "member.name = 5 # 변수에 . 은 사용불가(R에서는 . 변수명에 사용 가능)"
   ]
  },
  {
   "cell_type": "code",
   "execution_count": 36,
   "id": "bf25d71f",
   "metadata": {
    "ExecuteTime": {
     "end_time": "2024-11-04T07:55:32.918467Z",
     "start_time": "2024-11-04T07:55:32.912484Z"
    }
   },
   "outputs": [],
   "source": [
    "member_name = 5 #스멜표기법\n",
    "memberName = 5 # 카멜표기법"
   ]
  },
  {
   "cell_type": "code",
   "execution_count": 32,
   "id": "4ea4eea7",
   "metadata": {
    "ExecuteTime": {
     "end_time": "2024-11-04T07:52:29.779128Z",
     "start_time": "2024-11-04T07:52:29.774030Z"
    }
   },
   "outputs": [],
   "source": [
    "print = 5"
   ]
  },
  {
   "cell_type": "code",
   "execution_count": 34,
   "id": "5bf36419",
   "metadata": {
    "ExecuteTime": {
     "end_time": "2024-11-04T07:53:00.851216Z",
     "start_time": "2024-11-04T07:53:00.846211Z"
    }
   },
   "outputs": [],
   "source": [
    "del print # print 변수 삭제"
   ]
  },
  {
   "cell_type": "code",
   "execution_count": 35,
   "id": "c04ecd9b",
   "metadata": {
    "ExecuteTime": {
     "end_time": "2024-11-04T07:53:20.053359Z",
     "start_time": "2024-11-04T07:53:20.047389Z"
    }
   },
   "outputs": [
    {
     "name": "stdout",
     "output_type": "stream",
     "text": [
      "홍길동\n"
     ]
    }
   ],
   "source": [
    "print_ = 5\n",
    "print(이름)"
   ]
  },
  {
   "cell_type": "code",
   "execution_count": 38,
   "id": "d47b058d",
   "metadata": {
    "ExecuteTime": {
     "end_time": "2024-11-04T07:57:01.445640Z",
     "start_time": "2024-11-04T07:57:01.439656Z"
    }
   },
   "outputs": [
    {
     "data": {
      "text/plain": [
       "complex"
      ]
     },
     "execution_count": 38,
     "metadata": {},
     "output_type": "execute_result"
    }
   ],
   "source": [
    "# 숫자 , 정수, 실수, 복소수\n",
    "i = 3 +3j\n",
    "type(i)"
   ]
  },
  {
   "cell_type": "code",
   "execution_count": 41,
   "id": "c434cc7a",
   "metadata": {
    "ExecuteTime": {
     "end_time": "2024-11-04T07:58:40.084456Z",
     "start_time": "2024-11-04T07:58:40.078454Z"
    }
   },
   "outputs": [
    {
     "data": {
      "text/plain": [
       "True"
      ]
     },
     "execution_count": 41,
     "metadata": {},
     "output_type": "execute_result"
    }
   ],
   "source": [
    "isinstance(i,complex) #i변수(객체)가 complex타입인지 여부"
   ]
  },
  {
   "cell_type": "code",
   "execution_count": 42,
   "id": "165890c0",
   "metadata": {
    "ExecuteTime": {
     "end_time": "2024-11-04T07:58:52.061100Z",
     "start_time": "2024-11-04T07:58:52.055869Z"
    }
   },
   "outputs": [
    {
     "name": "stdout",
     "output_type": "stream",
     "text": [
      "Help on built-in function print in module builtins:\n",
      "\n",
      "print(...)\n",
      "    print(value, ..., sep=' ', end='\\n', file=sys.stdout, flush=False)\n",
      "    \n",
      "    Prints the values to a stream, or to sys.stdout by default.\n",
      "    Optional keyword arguments:\n",
      "    file:  a file-like object (stream); defaults to the current sys.stdout.\n",
      "    sep:   string inserted between values, default a space.\n",
      "    end:   string appended after the last value, default a newline.\n",
      "    flush: whether to forcibly flush the stream.\n",
      "\n"
     ]
    }
   ],
   "source": [
    "help(print)"
   ]
  },
  {
   "cell_type": "code",
   "execution_count": 44,
   "id": "03d99115",
   "metadata": {
    "ExecuteTime": {
     "end_time": "2024-11-04T07:59:56.577477Z",
     "start_time": "2024-11-04T07:59:53.959588Z"
    }
   },
   "outputs": [
    {
     "name": "stdout",
     "output_type": "stream",
     "text": [
      "\n",
      "Welcome to Python 3.10's help utility!\n",
      "\n",
      "If this is your first time using Python, you should definitely check out\n",
      "the tutorial on the internet at https://docs.python.org/3.10/tutorial/.\n",
      "\n",
      "Enter the name of any module, keyword, or topic to get help on writing\n",
      "Python programs and using Python modules.  To quit this help utility and\n",
      "return to the interpreter, just type \"quit\".\n",
      "\n",
      "To get a list of available modules, keywords, symbols, or topics, type\n",
      "\"modules\", \"keywords\", \"symbols\", or \"topics\".  Each module also comes\n",
      "with a one-line summary of what it does; to list the modules whose name\n",
      "or summary contain a given string such as \"spam\", type \"modules spam\".\n",
      "\n",
      "help> q\n",
      "\n",
      "You are now leaving help and returning to the Python interpreter.\n",
      "If you want to ask for help on a particular object directly from the\n",
      "interpreter, you can type \"help(object)\".  Executing \"help('string')\"\n",
      "has the same effect as typing a particular string at the help> prompt.\n"
     ]
    }
   ],
   "source": [
    "help()"
   ]
  },
  {
   "cell_type": "code",
   "execution_count": 45,
   "id": "4f6e3c53",
   "metadata": {
    "ExecuteTime": {
     "end_time": "2024-11-04T08:11:13.541694Z",
     "start_time": "2024-11-04T08:11:13.536707Z"
    }
   },
   "outputs": [
    {
     "name": "stdout",
     "output_type": "stream",
     "text": [
      "\n"
     ]
    }
   ],
   "source": [
    "# 도움말 기능 :shift+Tab 키\n",
    "print()"
   ]
  },
  {
   "cell_type": "code",
   "execution_count": 47,
   "id": "8c1cff09",
   "metadata": {
    "ExecuteTime": {
     "end_time": "2024-11-04T08:13:39.182092Z",
     "start_time": "2024-11-04T08:13:39.177079Z"
    }
   },
   "outputs": [],
   "source": [
    "def add(x, y=0) :\n",
    "    '''\n",
    "    매개변수 2개를 받아 두자릴 숫자로 만들어요\n",
    "    x = 10의 자리수가 됨\n",
    "    y= 1의 자리수가 됨(default값 0)\n",
    "    '''\n",
    "    return x*10 + y"
   ]
  },
  {
   "cell_type": "code",
   "execution_count": 48,
   "id": "0498882c",
   "metadata": {
    "ExecuteTime": {
     "end_time": "2024-11-04T08:15:00.032449Z",
     "start_time": "2024-11-04T08:15:00.024364Z"
    }
   },
   "outputs": [
    {
     "data": {
      "text/plain": [
       "54"
      ]
     },
     "execution_count": 48,
     "metadata": {},
     "output_type": "execute_result"
    }
   ],
   "source": [
    "add(5,4)"
   ]
  },
  {
   "cell_type": "code",
   "execution_count": 49,
   "id": "460b066c",
   "metadata": {
    "ExecuteTime": {
     "end_time": "2024-11-04T08:15:25.846523Z",
     "start_time": "2024-11-04T08:15:25.840375Z"
    }
   },
   "outputs": [
    {
     "data": {
      "text/plain": [
       "50"
      ]
     },
     "execution_count": 49,
     "metadata": {},
     "output_type": "execute_result"
    }
   ],
   "source": [
    "add(5)"
   ]
  },
  {
   "cell_type": "code",
   "execution_count": 50,
   "id": "39ead1d0",
   "metadata": {
    "ExecuteTime": {
     "end_time": "2024-11-04T08:16:42.501400Z",
     "start_time": "2024-11-04T08:16:42.496385Z"
    }
   },
   "outputs": [],
   "source": [
    "a = add # 함수형 언어는 변수에 함수 할당 가능"
   ]
  },
  {
   "cell_type": "code",
   "execution_count": 51,
   "id": "84ce4de5",
   "metadata": {
    "ExecuteTime": {
     "end_time": "2024-11-04T08:17:01.718463Z",
     "start_time": "2024-11-04T08:17:01.712331Z"
    }
   },
   "outputs": [
    {
     "data": {
      "text/plain": [
       "54"
      ]
     },
     "execution_count": 51,
     "metadata": {},
     "output_type": "execute_result"
    }
   ],
   "source": [
    "a(5,4) "
   ]
  },
  {
   "cell_type": "code",
   "execution_count": 53,
   "id": "832fcaf1",
   "metadata": {
    "ExecuteTime": {
     "end_time": "2024-11-04T08:17:49.158331Z",
     "start_time": "2024-11-04T08:17:49.152106Z"
    }
   },
   "outputs": [
    {
     "data": {
      "text/plain": [
       "50"
      ]
     },
     "execution_count": 53,
     "metadata": {},
     "output_type": "execute_result"
    }
   ],
   "source": [
    "a(5)"
   ]
  },
  {
   "cell_type": "markdown",
   "id": "9c9b102c",
   "metadata": {},
   "source": [
    "## 1.5 다중 변수 선언"
   ]
  },
  {
   "cell_type": "code",
   "execution_count": 57,
   "id": "16ae4258",
   "metadata": {
    "ExecuteTime": {
     "end_time": "2024-11-04T08:19:07.756750Z",
     "start_time": "2024-11-04T08:19:07.752758Z"
    }
   },
   "outputs": [],
   "source": [
    "a,b = 10,20 # 동시에 다중 변수 선언 a에 10이 들어갈때 b에는 20이 출력\n"
   ]
  },
  {
   "cell_type": "code",
   "execution_count": 59,
   "id": "7336d193",
   "metadata": {
    "ExecuteTime": {
     "end_time": "2024-11-04T08:19:28.142016Z",
     "start_time": "2024-11-04T08:19:28.136840Z"
    }
   },
   "outputs": [],
   "source": [
    "a,b = b, a+b #다중 변수 할당시 순차적 할당이 아니고 일괄 동시 할당"
   ]
  },
  {
   "cell_type": "code",
   "execution_count": 62,
   "id": "58c2334f",
   "metadata": {
    "ExecuteTime": {
     "end_time": "2024-11-04T08:21:00.103044Z",
     "start_time": "2024-11-04T08:21:00.097086Z"
    }
   },
   "outputs": [
    {
     "name": "stdout",
     "output_type": "stream",
     "text": [
      "30 50\n"
     ]
    }
   ],
   "source": [
    "print(a,b)"
   ]
  },
  {
   "cell_type": "markdown",
   "id": "b31c89ff",
   "metadata": {},
   "source": [
    "# 2절.화면 i/o"
   ]
  },
  {
   "cell_type": "code",
   "execution_count": 64,
   "id": "aed89d65",
   "metadata": {
    "ExecuteTime": {
     "end_time": "2024-11-04T08:23:52.538000Z",
     "start_time": "2024-11-04T08:23:48.793593Z"
    }
   },
   "outputs": [
    {
     "name": "stdout",
     "output_type": "stream",
     "text": [
      "첫번째 숫자는?10\n",
      "두번째 숫자는?50\n"
     ]
    }
   ],
   "source": [
    "# input(): 사용자로부터 값을 입력받기 위한 함수 . 입력값은 문자열\n",
    "first = input('첫번째 숫자는?')\n",
    "second = input('두번째 숫자는?')"
   ]
  },
  {
   "cell_type": "code",
   "execution_count": 65,
   "id": "4e774e0a",
   "metadata": {
    "ExecuteTime": {
     "end_time": "2024-11-04T08:24:34.022243Z",
     "start_time": "2024-11-04T08:24:34.017218Z"
    }
   },
   "outputs": [
    {
     "name": "stdout",
     "output_type": "stream",
     "text": [
      "두수의 합은 1050\n"
     ]
    }
   ],
   "source": [
    "print('두수의 합은', first+second)"
   ]
  },
  {
   "cell_type": "code",
   "execution_count": 67,
   "id": "4d120050",
   "metadata": {
    "ExecuteTime": {
     "end_time": "2024-11-04T08:26:34.406949Z",
     "start_time": "2024-11-04T08:26:34.402920Z"
    }
   },
   "outputs": [],
   "source": [
    "sum = int(first) + int(second)"
   ]
  },
  {
   "cell_type": "code",
   "execution_count": 68,
   "id": "20ef89e2",
   "metadata": {
    "ExecuteTime": {
     "end_time": "2024-11-04T08:26:51.737289Z",
     "start_time": "2024-11-04T08:26:51.731119Z"
    }
   },
   "outputs": [
    {
     "name": "stdout",
     "output_type": "stream",
     "text": [
      "합 60\n"
     ]
    }
   ],
   "source": [
    "print('합', sum)"
   ]
  },
  {
   "cell_type": "code",
   "execution_count": 72,
   "id": "ce1fc50d",
   "metadata": {
    "ExecuteTime": {
     "end_time": "2024-11-04T08:31:24.128164Z",
     "start_time": "2024-11-04T08:31:24.122151Z"
    }
   },
   "outputs": [
    {
     "name": "stdout",
     "output_type": "stream",
     "text": [
      "합 / 60 / Hello / World \t\t Hello ~ Python\n"
     ]
    }
   ],
   "source": [
    "print('합',sum, 'Hello','World', sep=' / ', end=' \\t\\t ')\n",
    "print('Hello','Python', sep=' ~ ')"
   ]
  },
  {
   "cell_type": "code",
   "execution_count": 73,
   "id": "53f427c9",
   "metadata": {
    "ExecuteTime": {
     "end_time": "2024-11-04T08:35:22.313479Z",
     "start_time": "2024-11-04T08:35:22.307301Z"
    }
   },
   "outputs": [
    {
     "name": "stdout",
     "output_type": "stream",
     "text": [
      "hello world Hello python\n"
     ]
    }
   ],
   "source": [
    "import sys\n",
    "print('hello','world','Hello','python',end='\\n')"
   ]
  },
  {
   "cell_type": "markdown",
   "id": "13e4f3c2",
   "metadata": {},
   "source": [
    "# 3절. 기본 자료형\n",
    "- 프로그래밍 언어들은 변수가 가져야 할 값의 형식, 범위에 따라 값의 유형을 정해 놓고 사용.\n",
    "- 자료형에 따라 값의 크기와 저장 방식이 달라짐\n",
    "- 자료형에 따라 수행할 수 있는 명령어들이 달라짐.\n",
    "\n",
    "    * `숫자` - int, float, complex\n",
    "    * `문자` - str\n",
    "    * `논리` - bool"
   ]
  },
  {
   "cell_type": "markdown",
   "id": "f6f7b5ad",
   "metadata": {},
   "source": [
    "### 3.1 숫자형"
   ]
  },
  {
   "cell_type": "code",
   "execution_count": 75,
   "id": "e7ba3a68",
   "metadata": {
    "ExecuteTime": {
     "end_time": "2024-11-04T08:44:25.473267Z",
     "start_time": "2024-11-04T08:44:25.468287Z"
    }
   },
   "outputs": [
    {
     "name": "stdout",
     "output_type": "stream",
     "text": [
      "9223372036854775807\n"
     ]
    }
   ],
   "source": [
    "import sys\n",
    "print(sys.maxsize)# 정수의 최대값 : 2^63-1"
   ]
  },
  {
   "cell_type": "code",
   "execution_count": 76,
   "id": "48de5daa",
   "metadata": {
    "ExecuteTime": {
     "end_time": "2024-11-04T08:45:13.746621Z",
     "start_time": "2024-11-04T08:45:13.739644Z"
    }
   },
   "outputs": [
    {
     "name": "stdout",
     "output_type": "stream",
     "text": [
      "i값: 9223372036854775808\n",
      "<class 'int'>\n"
     ]
    }
   ],
   "source": [
    "i= sys.maxsize +1\n",
    "print('i값:',i)\n",
    "print(type(i))"
   ]
  },
  {
   "cell_type": "code",
   "execution_count": 77,
   "id": "df4484ea",
   "metadata": {
    "ExecuteTime": {
     "end_time": "2024-11-04T08:46:16.924298Z",
     "start_time": "2024-11-04T08:46:16.918313Z"
    }
   },
   "outputs": [
    {
     "data": {
      "text/plain": [
       "1.5"
      ]
     },
     "execution_count": 77,
     "metadata": {},
     "output_type": "execute_result"
    }
   ],
   "source": [
    "f = 3/2 # 정수/ 정수는 실수 무조건 실수\n",
    "f"
   ]
  },
  {
   "cell_type": "code",
   "execution_count": 78,
   "id": "a7219e05",
   "metadata": {
    "ExecuteTime": {
     "end_time": "2024-11-04T08:46:36.059749Z",
     "start_time": "2024-11-04T08:46:36.054723Z"
    }
   },
   "outputs": [
    {
     "data": {
      "text/plain": [
       "1.0"
      ]
     },
     "execution_count": 78,
     "metadata": {},
     "output_type": "execute_result"
    }
   ],
   "source": [
    "f= 3/3\n",
    "f"
   ]
  },
  {
   "cell_type": "code",
   "execution_count": 83,
   "id": "c09740ce",
   "metadata": {
    "ExecuteTime": {
     "end_time": "2024-11-04T08:48:21.011019Z",
     "start_time": "2024-11-04T08:48:21.004038Z"
    }
   },
   "outputs": [
    {
     "data": {
      "text/plain": [
       "1"
      ]
     },
     "execution_count": 83,
     "metadata": {},
     "output_type": "execute_result"
    }
   ],
   "source": [
    "# 자바 처럼 정수/ 정수의 결과 정수로\n",
    "f = int(3/2) #int() : int로 형변환\n",
    "f\n",
    "f = 3//2 #몫연산자\n",
    "f"
   ]
  },
  {
   "cell_type": "code",
   "execution_count": 84,
   "id": "88d9ad33",
   "metadata": {
    "ExecuteTime": {
     "end_time": "2024-11-04T08:50:21.978203Z",
     "start_time": "2024-11-04T08:50:21.973231Z"
    }
   },
   "outputs": [
    {
     "name": "stdout",
     "output_type": "stream",
     "text": [
      "(-1+0j)\n"
     ]
    }
   ],
   "source": [
    "c=1j #수학시간 1i\n",
    "print(c**2) #c의 제곱"
   ]
  },
  {
   "cell_type": "code",
   "execution_count": 85,
   "id": "7022c165",
   "metadata": {
    "ExecuteTime": {
     "end_time": "2024-11-04T08:53:20.795881Z",
     "start_time": "2024-11-04T08:53:20.789688Z"
    }
   },
   "outputs": [
    {
     "name": "stdout",
     "output_type": "stream",
     "text": [
      "지수형은 실수형으로 저장: 1120000000000.0\n",
      "지수형표현으로 할당시 실수형으로 저장 : 1.12e-12\n"
     ]
    }
   ],
   "source": [
    "f = 1.12e12# 1.12*10의 12승\n",
    "print('지수형은 실수형으로 저장:' ,f)\n",
    "f = 1.12e-12 # 1.12*10의 -12\n",
    "print('지수형표현으로 할당시 실수형으로 저장 :',f) "
   ]
  },
  {
   "cell_type": "markdown",
   "id": "cd318f22",
   "metadata": {},
   "source": [
    "### 3.2 문자형"
   ]
  },
  {
   "cell_type": "code",
   "execution_count": 95,
   "id": "6240617a",
   "metadata": {
    "ExecuteTime": {
     "end_time": "2024-11-04T08:55:50.324389Z",
     "start_time": "2024-11-04T08:55:50.318379Z"
    }
   },
   "outputs": [
    {
     "name": "stdout",
     "output_type": "stream",
     "text": [
      "홍길동'짱' 서울시 관악구 신림동\n"
     ]
    }
   ],
   "source": [
    "name='홍길동\\'짱\\''  # 홍길동'짱'\n",
    "address='서울시 관악구 신림동'\n",
    "print(name, address)"
   ]
  },
  {
   "cell_type": "code",
   "execution_count": 96,
   "id": "076bf53b",
   "metadata": {
    "ExecuteTime": {
     "end_time": "2024-11-04T08:56:38.596207Z",
     "start_time": "2024-11-04T08:56:38.590195Z"
    }
   },
   "outputs": [
    {
     "name": "stdout",
     "output_type": "stream",
     "text": [
      "여러줄짜리 내용을 저장 \n",
      " 줄바꿈 문자를 쓰면 당연히 여러줄 \n",
      " 줄바꿈은 가독성 떨어져\n"
     ]
    }
   ],
   "source": [
    "text = '여러줄짜리 내용을 저장 \\n 줄바꿈 문자를 쓰면 당연히 여러줄 \\n 줄바꿈은 가독성 떨어져'\n",
    "print(text)"
   ]
  },
  {
   "cell_type": "code",
   "execution_count": 97,
   "id": "136f1ccc",
   "metadata": {
    "ExecuteTime": {
     "end_time": "2024-11-04T08:57:55.949086Z",
     "start_time": "2024-11-04T08:57:55.943101Z"
    }
   },
   "outputs": [
    {
     "name": "stdout",
     "output_type": "stream",
     "text": [
      "여러줄짜리 내용을 저장 \n",
      "줄바꿈문자쓰지 않고 따옴표 3개로 처리\n",
      "이처럼 쓰는경우가 더 많아요\n",
      "\n"
     ]
    }
   ],
   "source": [
    "text='''여러줄짜리 내용을 저장 \n",
    "줄바꿈문자쓰지 않고 따옴표 3개로 처리\n",
    "이처럼 쓰는경우가 더 많아요\n",
    "'''\n",
    "print(text)"
   ]
  },
  {
   "cell_type": "markdown",
   "id": "91e21884",
   "metadata": {},
   "source": [
    "#### ※문자열 연산"
   ]
  },
  {
   "cell_type": "code",
   "execution_count": 4,
   "id": "57db1481",
   "metadata": {
    "ExecuteTime": {
     "end_time": "2024-11-05T00:50:00.645218Z",
     "start_time": "2024-11-05T00:50:00.639230Z"
    }
   },
   "outputs": [
    {
     "name": "stdout",
     "output_type": "stream",
     "text": [
      "홍길동동해번쩍\n"
     ]
    }
   ],
   "source": [
    "'''\n",
    "    여러줄 주석 용도\n",
    "    2024.11.5 문자열 연산 by 아무개\n",
    "'''\n",
    "name1= \"홍길동\"\n",
    "name2 =\"동해번쩍\"\n",
    "print(name1+name2)"
   ]
  },
  {
   "cell_type": "code",
   "execution_count": 5,
   "id": "949543a9",
   "metadata": {
    "ExecuteTime": {
     "end_time": "2024-11-05T00:50:42.443746Z",
     "start_time": "2024-11-05T00:50:42.437750Z"
    }
   },
   "outputs": [
    {
     "name": "stdout",
     "output_type": "stream",
     "text": [
      "홍길동홍길동홍길동\n"
     ]
    }
   ],
   "source": [
    "print(name1*3)"
   ]
  },
  {
   "cell_type": "markdown",
   "id": "db867af5",
   "metadata": {},
   "source": [
    "#### ※raw 데이터\n",
    "    - 용도 : "
   ]
  },
  {
   "cell_type": "code",
   "execution_count": null,
   "id": "3cd977ac",
   "metadata": {},
   "outputs": [],
   "source": [
    "# raw 데이터 처리시 이스케이프문자(\\n,\\t,\\r,\\',\\\")\n",
    "print('Hello\\nWorld')"
   ]
  },
  {
   "cell_type": "code",
   "execution_count": 28,
   "id": "32da0fd7",
   "metadata": {
    "ExecuteTime": {
     "end_time": "2024-11-05T01:15:41.508323Z",
     "start_time": "2024-11-05T01:15:41.504176Z"
    }
   },
   "outputs": [
    {
     "name": "stdout",
     "output_type": "stream",
     "text": [
      "이름:홍길동, 주소:서울, 전화:02-888-8888, 핸드폰:010-9999-9999, 특징:동해번쩍 서해번쩍 혈액형:B\n"
     ]
    }
   ],
   "source": [
    "# 정규표현식 이용\n",
    "import re\n",
    "data = \"이름:홍길동, 주소:서울, 전화:02-888-8888, 핸드폰:010-9999-9999, 특징:동해번쩍 서해번쩍 \\\n",
    "혈액형:B\"\n",
    "print(data)"
   ]
  },
  {
   "cell_type": "code",
   "execution_count": 29,
   "id": "c85f3b3e",
   "metadata": {
    "ExecuteTime": {
     "end_time": "2024-11-05T01:15:44.102011Z",
     "start_time": "2024-11-05T01:15:44.095897Z"
    }
   },
   "outputs": [
    {
     "data": {
      "text/plain": [
       "['02-888-8888', '010-9999-9999']"
      ]
     },
     "execution_count": 29,
     "metadata": {},
     "output_type": "execute_result"
    }
   ],
   "source": [
    "#정규표현식 처리에서는 raw 데이터 처리를 하지 않아도 실행은되나\n",
    "# 실수를 줄이고, 가독성을 높이는 용도로 raw 데이터 처리를 사용\n",
    "tel_pattern=r'\\d{2,3}-\\d{3,4}-\\d{4}'\n",
    "tels = re.findall(tel_pattern, data)\n",
    "tels"
   ]
  },
  {
   "cell_type": "code",
   "execution_count": 31,
   "id": "6d48703c",
   "metadata": {
    "ExecuteTime": {
     "end_time": "2024-11-05T01:15:54.180859Z",
     "start_time": "2024-11-05T01:15:54.174875Z"
    }
   },
   "outputs": [
    {
     "data": {
      "text/plain": [
       "<re.Match object; span=(18, 29), match='02-888-8888'>"
      ]
     },
     "execution_count": 31,
     "metadata": {},
     "output_type": "execute_result"
    }
   ],
   "source": [
    "#정규표현식 패턴과 처음 match되는 것을 찾아준다\n",
    "firstTel = re.search(tel_pattern,data)\n",
    "firstTel"
   ]
  },
  {
   "cell_type": "code",
   "execution_count": 33,
   "id": "1d6971f8",
   "metadata": {
    "ExecuteTime": {
     "end_time": "2024-11-05T01:17:48.684782Z",
     "start_time": "2024-11-05T01:17:48.679781Z"
    }
   },
   "outputs": [
    {
     "name": "stdout",
     "output_type": "stream",
     "text": [
      "02-888-8888\n",
      "\n"
     ]
    }
   ],
   "source": [
    "print(data[18:29])\n",
    "print()"
   ]
  },
  {
   "cell_type": "code",
   "execution_count": 34,
   "id": "6266af7b",
   "metadata": {
    "ExecuteTime": {
     "end_time": "2024-11-05T01:19:02.855274Z",
     "start_time": "2024-11-05T01:19:02.848122Z"
    }
   },
   "outputs": [
    {
     "data": {
      "text/plain": [
       "<re.Match object; span=(18, 29), match='02-888-8888'>"
      ]
     },
     "execution_count": 34,
     "metadata": {},
     "output_type": "execute_result"
    }
   ],
   "source": [
    "phone_pattern =r'(\\d{2,3})-(\\d{3,4})-(\\d{4})'\n",
    "first_phone = re.search(phone_pattern,data)\n",
    "first_phone"
   ]
  },
  {
   "cell_type": "code",
   "execution_count": 35,
   "id": "cb669f24",
   "metadata": {
    "ExecuteTime": {
     "end_time": "2024-11-05T01:20:35.446574Z",
     "start_time": "2024-11-05T01:20:35.441297Z"
    }
   },
   "outputs": [
    {
     "name": "stdout",
     "output_type": "stream",
     "text": [
      "전체전화번호 :  02-888-8888\n",
      "국번 :  02\n",
      "중간번호 :  888\n",
      "끝번호 :  8888\n"
     ]
    }
   ],
   "source": [
    "print('전체전화번호 : ', first_phone.group(0))\n",
    "print('국번 : ', first_phone.group(1))\n",
    "print('중간번호 : ', first_phone.group(2))\n",
    "print('끝번호 : ', first_phone.group(3))"
   ]
  },
  {
   "cell_type": "code",
   "execution_count": 49,
   "id": "59aa8202",
   "metadata": {
    "ExecuteTime": {
     "end_time": "2024-11-05T01:42:44.870326Z",
     "start_time": "2024-11-05T01:42:44.866337Z"
    }
   },
   "outputs": [],
   "source": [
    "# 파일경로에는 반드시 r을 이용\n",
    "file_path=r'D:\\ai\\source\\07_python\\test.txt'\n",
    "# file_path='D:/ai/source/07_python/test.txt'"
   ]
  },
  {
   "cell_type": "code",
   "execution_count": 52,
   "id": "067718a0",
   "metadata": {
    "ExecuteTime": {
     "end_time": "2024-11-05T01:43:54.128084Z",
     "start_time": "2024-11-05T01:43:54.122100Z"
    }
   },
   "outputs": [
    {
     "name": "stdout",
     "output_type": "stream",
     "text": [
      "Hello, World\n",
      "Hello,Python\n"
     ]
    }
   ],
   "source": [
    "file_stream = open(file_path,'w')\n",
    "print('Hello, World','Hello,Python', sep='\\n' )# 콘솔 출력\n",
    "print('Hello, World','Hello,Python', sep='\\n', file=file_stream) #파일 출력\n",
    "file_stream.close()"
   ]
  },
  {
   "cell_type": "markdown",
   "id": "861718cd",
   "metadata": {
    "ExecuteTime": {
     "end_time": "2024-11-05T01:47:57.487262Z",
     "start_time": "2024-11-05T01:47:57.483272Z"
    }
   },
   "source": [
    "### ※문자열 슬라이싱"
   ]
  },
  {
   "cell_type": "code",
   "execution_count": 57,
   "id": "770f66e6",
   "metadata": {
    "ExecuteTime": {
     "end_time": "2024-11-05T01:50:44.095018Z",
     "start_time": "2024-11-05T01:50:44.091029Z"
    }
   },
   "outputs": [],
   "source": [
    "str_='012356789'"
   ]
  },
  {
   "cell_type": "code",
   "execution_count": 58,
   "id": "1ac8d6f1",
   "metadata": {
    "ExecuteTime": {
     "end_time": "2024-11-05T01:51:58.416782Z",
     "start_time": "2024-11-05T01:51:58.411607Z"
    }
   },
   "outputs": [
    {
     "data": {
      "text/plain": [
       "('0', '2', '9')"
      ]
     },
     "execution_count": 58,
     "metadata": {},
     "output_type": "execute_result"
    }
   ],
   "source": [
    "str_[0],str_[2],str_[-1] #음수 인덱싱은 맨 마지막이 -1"
   ]
  },
  {
   "cell_type": "code",
   "execution_count": 59,
   "id": "6cbf8924",
   "metadata": {
    "ExecuteTime": {
     "end_time": "2024-11-05T01:53:05.725848Z",
     "start_time": "2024-11-05T01:53:05.707604Z"
    }
   },
   "outputs": [
    {
     "ename": "IndexError",
     "evalue": "string index out of range",
     "output_type": "error",
     "traceback": [
      "\u001b[1;31m---------------------------------------------------------------------------\u001b[0m",
      "\u001b[1;31mIndexError\u001b[0m                                Traceback (most recent call last)",
      "Cell \u001b[1;32mIn[59], line 1\u001b[0m\n\u001b[1;32m----> 1\u001b[0m \u001b[43mstr_\u001b[49m\u001b[43m[\u001b[49m\u001b[38;5;241;43m10\u001b[39;49m\u001b[43m]\u001b[49m\n",
      "\u001b[1;31mIndexError\u001b[0m: string index out of range"
     ]
    }
   ],
   "source": [
    "str_[10] #없는 인덱싱은 에러"
   ]
  },
  {
   "cell_type": "markdown",
   "id": "d3557e3a",
   "metadata": {},
   "source": [
    "### ※문자열변수"
   ]
  },
  {
   "cell_type": "code",
   "execution_count": 61,
   "id": "c8d3499b",
   "metadata": {
    "ExecuteTime": {
     "end_time": "2024-11-05T01:55:46.131374Z",
     "start_time": "2024-11-05T01:55:46.124247Z"
    }
   },
   "outputs": [
    {
     "data": {
      "text/plain": [
       "'012'"
      ]
     },
     "execution_count": 61,
     "metadata": {},
     "output_type": "execute_result"
    }
   ],
   "source": [
    "'''\n",
    "문자열변수[from:stop] :from 부터 stop앞까지 추출\n",
    "문자열변수[from:stop:step] : from부터 stop앞까지 step씩 전진하면서 추출\n",
    "    from 생략시 처음부터\n",
    "    stop 생략시 끝까지\n",
    "    step 생략시 1\n",
    "'''\n",
    "str_[0:3] # 0번째부터 3번째 앞까지"
   ]
  },
  {
   "cell_type": "code",
   "execution_count": 62,
   "id": "bcc22d89",
   "metadata": {
    "ExecuteTime": {
     "end_time": "2024-11-05T01:56:11.732580Z",
     "start_time": "2024-11-05T01:56:11.725596Z"
    }
   },
   "outputs": [
    {
     "data": {
      "text/plain": [
       "'5678'"
      ]
     },
     "execution_count": 62,
     "metadata": {},
     "output_type": "execute_result"
    }
   ],
   "source": [
    "str_[-5:-1] #  -5번째부터 -1번째 앞까지"
   ]
  },
  {
   "cell_type": "code",
   "execution_count": 65,
   "id": "92970e55",
   "metadata": {
    "ExecuteTime": {
     "end_time": "2024-11-05T01:59:45.963452Z",
     "start_time": "2024-11-05T01:59:45.956471Z"
    }
   },
   "outputs": [
    {
     "data": {
      "text/plain": [
       "'6789'"
      ]
     },
     "execution_count": 65,
     "metadata": {},
     "output_type": "execute_result"
    }
   ],
   "source": [
    "# 인덱싱시 없는 인덱스번호를 사용하면 에러\n",
    "# 슬라이싱시 없는 인덱스 번호를 사용하면 끝가지를 의미\n",
    "str_[5:19]"
   ]
  },
  {
   "cell_type": "code",
   "execution_count": 67,
   "id": "a56db19d",
   "metadata": {
    "ExecuteTime": {
     "end_time": "2024-11-05T02:01:07.400608Z",
     "start_time": "2024-11-05T02:01:07.389453Z"
    }
   },
   "outputs": [
    {
     "name": "stdout",
     "output_type": "stream",
     "text": [
      "012356789\n",
      "02579\n"
     ]
    }
   ],
   "source": [
    "print(str_[0:10])\n",
    "print(str_[0:10:2])"
   ]
  },
  {
   "cell_type": "code",
   "execution_count": 72,
   "id": "094e4a31",
   "metadata": {
    "ExecuteTime": {
     "end_time": "2024-11-05T02:03:05.441147Z",
     "start_time": "2024-11-05T02:03:05.436159Z"
    }
   },
   "outputs": [
    {
     "name": "stdout",
     "output_type": "stream",
     "text": [
      "012356\n",
      "01235\n"
     ]
    }
   ],
   "source": [
    "print(str_[:6]) #첫번째부터 6번까지\n",
    "print(str_[:5]) # 5번까지"
   ]
  },
  {
   "cell_type": "code",
   "execution_count": 73,
   "id": "0c1f0927",
   "metadata": {
    "ExecuteTime": {
     "end_time": "2024-11-05T02:03:25.569580Z",
     "start_time": "2024-11-05T02:03:25.565404Z"
    }
   },
   "outputs": [
    {
     "name": "stdout",
     "output_type": "stream",
     "text": [
      "98765321\n"
     ]
    }
   ],
   "source": [
    "print(str_[9:0:-1]) # 9부터 0번째전까지 -1칸씩"
   ]
  },
  {
   "cell_type": "code",
   "execution_count": 82,
   "id": "4966423b",
   "metadata": {
    "ExecuteTime": {
     "end_time": "2024-11-05T02:11:51.594646Z",
     "start_time": "2024-11-05T02:11:51.589660Z"
    }
   },
   "outputs": [
    {
     "name": "stdout",
     "output_type": "stream",
     "text": [
      "987653210\n",
      "987653210\n",
      "987653210\n"
     ]
    }
   ],
   "source": [
    "# 마지막부터 처음까지 거꾸로 출력\n",
    "print(str_[9::-1])\n",
    "print(str_[::-1])\n",
    "print(str_[-1::-1])"
   ]
  },
  {
   "cell_type": "markdown",
   "id": "50c6940e",
   "metadata": {},
   "source": [
    "## 3.3논리형(True,Flase)"
   ]
  },
  {
   "cell_type": "code",
   "execution_count": 84,
   "id": "823d84b6",
   "metadata": {
    "ExecuteTime": {
     "end_time": "2024-11-05T02:15:37.050861Z",
     "start_time": "2024-11-05T02:15:37.045888Z"
    }
   },
   "outputs": [
    {
     "name": "stdout",
     "output_type": "stream",
     "text": [
      "True\n",
      "<class 'bool'>\n",
      "True\n"
     ]
    }
   ],
   "source": [
    "a = True\n",
    "print(a)\n",
    "print(type(a))\n",
    "print(isinstance(a,bool)) # bool 타입인지 여부"
   ]
  },
  {
   "cell_type": "code",
   "execution_count": 87,
   "id": "9063f9b7",
   "metadata": {
    "ExecuteTime": {
     "end_time": "2024-11-05T02:16:12.563162Z",
     "start_time": "2024-11-05T02:16:12.557199Z"
    }
   },
   "outputs": [
    {
     "data": {
      "text/plain": [
       "(1, 0)"
      ]
     },
     "execution_count": 87,
     "metadata": {},
     "output_type": "execute_result"
    }
   ],
   "source": [
    "int(True), int(False)"
   ]
  },
  {
   "cell_type": "code",
   "execution_count": 89,
   "id": "5c8a136a",
   "metadata": {
    "ExecuteTime": {
     "end_time": "2024-11-05T02:16:40.634993Z",
     "start_time": "2024-11-05T02:16:40.630006Z"
    }
   },
   "outputs": [],
   "source": [
    "# False로 간주되는 것 :0,''-빈스트링, None, []-빈리스트,()-빈리스트, {}-빈딕셔너리"
   ]
  },
  {
   "cell_type": "code",
   "execution_count": 92,
   "id": "b905cd50",
   "metadata": {
    "ExecuteTime": {
     "end_time": "2024-11-05T02:17:25.977316Z",
     "start_time": "2024-11-05T02:17:25.973174Z"
    }
   },
   "outputs": [
    {
     "name": "stdout",
     "output_type": "stream",
     "text": [
      "False다\n"
     ]
    }
   ],
   "source": [
    "if 0:\n",
    "        pirnt('True다')\n",
    "else:\n",
    "        print(\"False다\")"
   ]
  },
  {
   "cell_type": "markdown",
   "id": "35a0443e",
   "metadata": {},
   "source": [
    "## 3.4 자료형 확인 및 형변환 함수\n",
    "    -type()\n",
    "    -int() : 정수형 변환\n",
    "    -float() : 실수형 변환\n",
    "    -str() : 문자형 변환\n",
    "    -bool() : 논리형 변환"
   ]
  },
  {
   "cell_type": "code",
   "execution_count": 94,
   "id": "4d8058e1",
   "metadata": {},
   "outputs": [
    {
     "data": {
      "text/plain": [
       "(123, 123)"
      ]
     },
     "execution_count": 94,
     "metadata": {},
     "output_type": "execute_result"
    }
   ],
   "source": [
    "int('123'), int(123.55)"
   ]
  },
  {
   "cell_type": "code",
   "execution_count": 96,
   "id": "7e40a3e1",
   "metadata": {},
   "outputs": [
    {
     "ename": "ValueError",
     "evalue": "invalid literal for int() with base 10: ''",
     "output_type": "error",
     "traceback": [
      "\u001b[1;31m---------------------------------------------------------------------------\u001b[0m",
      "\u001b[1;31mValueError\u001b[0m                                Traceback (most recent call last)",
      "Cell \u001b[1;32mIn[96], line 1\u001b[0m\n\u001b[1;32m----> 1\u001b[0m \u001b[38;5;28;43mint\u001b[39;49m\u001b[43m(\u001b[49m\u001b[38;5;124;43m'\u001b[39;49m\u001b[38;5;124;43m'\u001b[39;49m\u001b[43m)\u001b[49m,\u001b[38;5;28mint\u001b[39m(\u001b[38;5;124m'\u001b[39m\u001b[38;5;124m   \u001b[39m\u001b[38;5;124m'\u001b[39m), \u001b[38;5;28mint\u001b[39m(\u001b[38;5;28;01mNone\u001b[39;00m), \u001b[38;5;28mint\u001b[39m(\u001b[38;5;124m'\u001b[39m\u001b[38;5;124m123.45\u001b[39m\u001b[38;5;124m'\u001b[39m)\n",
      "\u001b[1;31mValueError\u001b[0m: invalid literal for int() with base 10: ''"
     ]
    }
   ],
   "source": [
    "# 에러나는것들\n",
    "int(''),int('   '), int(None), int('123.45')"
   ]
  },
  {
   "cell_type": "code",
   "execution_count": 97,
   "id": "aad1c277",
   "metadata": {},
   "outputs": [
    {
     "data": {
      "text/plain": [
       "(123.45, 123.0, 0.0)"
      ]
     },
     "execution_count": 97,
     "metadata": {},
     "output_type": "execute_result"
    }
   ],
   "source": [
    "float('123.45'),float(123),float(False)"
   ]
  },
  {
   "cell_type": "code",
   "execution_count": 101,
   "id": "6afa8bf8",
   "metadata": {},
   "outputs": [
    {
     "data": {
      "text/plain": [
       "('10', '10.9', '11200000000.0')"
      ]
     },
     "execution_count": 101,
     "metadata": {},
     "output_type": "execute_result"
    }
   ],
   "source": [
    "str(10),str(10.9), str(1.12e10)"
   ]
  },
  {
   "cell_type": "markdown",
   "id": "6ab2f22d",
   "metadata": {},
   "source": [
    "파이썬 기본 자료형\n",
    "1. 숫자 - int, float, complex\n",
    "2. 문자 - str, 문자슬라이싱, raw데이터처리시 이스케이프문자(\\n, \\\\,\\',\\t)를 그대로 저장\n",
    "3. 논리 - False로 판별되는 경우 0,'',None, [],(),{}"
   ]
  }
 ],
 "metadata": {
  "kernelspec": {
   "display_name": "Python 3 (ipykernel)",
   "language": "python",
   "name": "python3"
  },
  "language_info": {
   "codemirror_mode": {
    "name": "ipython",
    "version": 3
   },
   "file_extension": ".py",
   "mimetype": "text/x-python",
   "name": "python",
   "nbconvert_exporter": "python",
   "pygments_lexer": "ipython3",
   "version": "3.10.9"
  },
  "toc": {
   "base_numbering": 1,
   "nav_menu": {},
   "number_sections": true,
   "sideBar": true,
   "skip_h1_title": false,
   "title_cell": "Table of Contents",
   "title_sidebar": "Contents",
   "toc_cell": false,
   "toc_position": {
    "height": "calc(100% - 180px)",
    "left": "10px",
    "top": "150px",
    "width": "197.594px"
   },
   "toc_section_display": true,
   "toc_window_display": true
  }
 },
 "nbformat": 4,
 "nbformat_minor": 5
}
