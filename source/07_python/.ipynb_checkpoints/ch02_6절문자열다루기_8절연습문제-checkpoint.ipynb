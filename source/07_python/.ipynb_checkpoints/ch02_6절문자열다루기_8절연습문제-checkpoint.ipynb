{
 "cells": [
  {
   "cell_type": "code",
   "execution_count": 21,
   "id": "62a376d6",
   "metadata": {},
   "outputs": [
    {
     "data": {
      "text/html": [
       "\n",
       "<style>\n",
       "div.container{width:80% !important;}\n",
       "div.CodeMirror {font-family:Consolas; font-size:12pt;}\n",
       "div.output {font-size:12pt; font-weight:bold;}\n",
       "div.input {font-family:Consolas; font-size:12pt;}\n",
       "div.prompt {min-width:70px;}\n",
       "div#toc-header{margin-top:150px;}\n",
       ".cm-s-ipython span.cm-comment{font-size:12pt; font-style:normal; color:orange;}\n",
       ".ansi-yellow-bg{color:black;font-size:15pt;}\n",
       "\n",
       "</style>\n",
       "<style>\n",
       "span.toc-item-num{display:none;}\n",
       "</style>\n"
      ],
      "text/plain": [
       "<IPython.core.display.HTML object>"
      ]
     },
     "metadata": {},
     "output_type": "display_data"
    }
   ],
   "source": [
    "from IPython.display import display, HTML\n",
    "display(HTML(\"\"\"\n",
    "<style>\n",
    "div.container{width:80% !important;}\n",
    "div.CodeMirror {font-family:Consolas; font-size:12pt;}\n",
    "div.output {font-size:12pt; font-weight:bold;}\n",
    "div.input {font-family:Consolas; font-size:12pt;}\n",
    "div.prompt {min-width:70px;}\n",
    "div#toc-header{margin-top:150px;}\n",
    ".cm-s-ipython span.cm-comment{font-size:12pt; font-style:normal; color:orange;}\n",
    ".ansi-yellow-bg{color:black;font-size:15pt;}\n",
    "\n",
    "</style>\n",
    "<style>\n",
    "span.toc-item-num{display:none;}\n",
    "</style>\n",
    "\"\"\"))"
   ]
  },
  {
   "cell_type": "markdown",
   "id": "cc3443e2",
   "metadata": {},
   "source": [
    "<b><font size=\"6\" color=\"red\"> ch02. 자료형과 연산자</font><b>\n"
   ]
  },
  {
   "cell_type": "markdown",
   "id": "400d9228",
   "metadata": {},
   "source": [
    "# 6절. 문자열 다루기\n",
    "- 문자열슬라이싱변수[from:to:by]\n",
    "- len(문자열변수)\n",
    "- upper() : 대문자\n",
    "- lower() : 소문자\n",
    "- title() : 각 음절의 앞글자만 대문자로 python is easy\n",
    "- capitalize() : 첫문자만 대문자로\n",
    "- count('찾을문자열') : '찾을문자열'이 몇개 들어있는지 갯수 반환\n",
    "- find('찾을문자열') : '찾을문자열' 이  왼쪽부터 시작하여 몇번째에 있는지 index를 반환\n",
    "- rfind('찾을문자열') : '찾을문자열' 이 오른쪽부터 시작하여 몇번째에 있는지 index를 반환 (찾을 문자열이 없으면 -1을 반환)\n",
    " - cf. index('찾을문자열') : '찾을문자열' 이 왼쪽부터 시작하여 몇번째 있는지 index를 반환 (찾을 문자열이 없으면 error)\n",
    "- startswith('특정문자열') :'특정문자열'로 시작하는지 여부 반환\n",
    "- endswith('특정문자열') :'특정문자열'로 끝나는지 여부 반환\n",
    "- strip() : 좌우공백제거(trim)\n",
    "- rstrip() : 오른쪽 공백제거\n",
    "- lstrip() : 왼쪽 공백제거\n",
    "- split() : 문자열을 공백이나 다른 문자 기준으로 나누어 리스트로 반환\n",
    "- isdigit() : 문자열이 숫자 문자열인지 여부 반환\n",
    "- islower() : 문자열이 소문자인지 여부 반환\n",
    "- isupper() : 문자열이 대문자인지 여부 반환\n",
    "- replace(oldStr,newStr) : oldStr을 newStr을 변경"
   ]
  },
  {
   "cell_type": "code",
   "execution_count": 5,
   "id": "febf5ee5",
   "metadata": {},
   "outputs": [
    {
     "data": {
      "text/plain": [
       "('python is easy. python is smary. python', 39)"
      ]
     },
     "execution_count": 5,
     "metadata": {},
     "output_type": "execute_result"
    }
   ],
   "source": [
    "temp = \"python is easy. python is smary. python\"\n",
    "temp, len(temp)"
   ]
  },
  {
   "cell_type": "code",
   "execution_count": 9,
   "id": "72cbf776",
   "metadata": {},
   "outputs": [
    {
     "name": "stdout",
     "output_type": "stream",
     "text": [
      "첫번째 글자는 p이고, 마지막 글자는 n입니다\n"
     ]
    }
   ],
   "source": [
    "print('첫번째 글자는 {}이고, 마지막 글자는 {}입니다'.format(temp[0],temp[-1]))"
   ]
  },
  {
   "cell_type": "code",
   "execution_count": 11,
   "id": "8dfde936",
   "metadata": {},
   "outputs": [
    {
     "name": "stdout",
     "output_type": "stream",
     "text": [
      "전화번호 끝자리: 2132\n"
     ]
    }
   ],
   "source": [
    "tel = \"010-7898-2132\"\n",
    "print('전화번호 끝자리:',tel[-4:])"
   ]
  },
  {
   "cell_type": "code",
   "execution_count": 24,
   "id": "a6ce4eb2",
   "metadata": {},
   "outputs": [
    {
     "name": "stdout",
     "output_type": "stream",
     "text": [
      "대문자로 :  PYTHON IS EASY. PYTHON IS SMART. PYTHON\n",
      "소문자로 :  python is easy. python is smart. python\n",
      "title(): Python Is Easy. Python Is Smart. Python\n",
      "capitalize() : Python is easy. python is smart. python\n",
      "python이 몇번 나오는지 :  2\n",
      "대소문자 구분없이 python이 몇번 나오는지 : 3\n",
      "대소문자 구분없이 python이 몇번 나오는지 : 3\n",
      "대소문자 구분없이 python이 몇번 나오는지 : 3\n",
      "python이 나오는 첫 index 위치 :  0\n",
      "python이 나오는 마지막 index 위치 : 33\n",
      "Java가 나오는 첫 index 위치: -1\n",
      "python이 나오는 첫 index 위치 0\n",
      "python으로 시작하는 문자열인지 : False\n",
      "python으로 끝나는 문자열인지 : False\n",
      "python 대신 R로 변경 : R is easy. R is smart. R\n"
     ]
    }
   ],
   "source": [
    "temp = \"python is easy. pyTHon is smart. python\"\n",
    "print('대문자로 : ', temp.upper())\n",
    "print('소문자로 : ', temp.lower())\n",
    "print('title():' , temp.title())\n",
    "print('capitalize() :', temp.capitalize())\n",
    "print('python이 몇번 나오는지 : ', temp.count('python'))\n",
    "print('대소문자 구분없이 python이 몇번 나오는지 :', temp.upper().count('PYTHON'))\n",
    "print('대소문자 구분없이 python이 몇번 나오는지 :', temp.lower().count('python'))\n",
    "print('대소문자 구분없이 python이 몇번 나오는지 :', temp.title().count('Python'))\n",
    "print('python이 나오는 첫 index 위치 : ',temp.find('python'))\n",
    "print('python이 나오는 마지막 index 위치 :', temp.rfind('python'))\n",
    "print('Java가 나오는 첫 index 위치:', temp.find('Java'))\n",
    "print('python이 나오는 첫 index 위치', temp.index('python'))\n",
    "#print('Java가 나오는 첫 index 위치:', temp.index('Java'))\n",
    "print('python으로 시작하는 문자열인지 :', temp.startswith('Python'))\n",
    "print('python으로 끝나는 문자열인지 :', temp.endswith('Python'))\n",
    "print('python 대신 R로 변경 :', temp.replace('python','R').replace('pyTHon','R'))\n",
    "print('')"
   ]
  },
  {
   "cell_type": "code",
   "execution_count": 33,
   "id": "19c23d7d",
   "metadata": {},
   "outputs": [
    {
     "name": "stdout",
     "output_type": "stream",
     "text": [
      "strip() : [python is easy] \n",
      "lstrip() : [python is easy   ] \n",
      "rstrip() : [  python is easy] \n",
      "isdigit() : True\n",
      "대문자인지 : False\n",
      "소문자인지 : True\n"
     ]
    }
   ],
   "source": [
    "temp = '  python is easy   '\n",
    "notdisit='1,234'\n",
    "print('strip() : [{}] '.format(temp.strip()))\n",
    "print('lstrip() : [{}] '.format(temp.lstrip()))\n",
    "print('rstrip() : [{}] '.format(temp.rstrip()))\n",
    "print('isdigit() : {}'.format(notdisit.replace(',','').isdigit()))\n",
    "print('대문자인지 : {}'.format(temp.isupper()))\n",
    "print('소문자인지 : {}'.format(temp.islower()))"
   ]
  },
  {
   "cell_type": "code",
   "execution_count": 34,
   "id": "8abaee87",
   "metadata": {},
   "outputs": [
    {
     "name": "stdout",
     "output_type": "stream",
     "text": [
      "space 단위로 temp를 분리(list로 반환) : ['홍길동', '김길동', '신길똥', '유길뚱']\n"
     ]
    }
   ],
   "source": [
    "temp = '홍길동 김길동 신길똥 유길뚱'\n",
    "print('space 단위로 temp를 분리(list로 반환) :', temp.split())\n"
   ]
  },
  {
   "cell_type": "code",
   "execution_count": 37,
   "id": "39ffafd2",
   "metadata": {},
   "outputs": [
    {
     "name": "stdout",
     "output_type": "stream",
     "text": [
      "-단위로 date를 분리 (list로 반환)합니다\n",
      "년 : 2024\n",
      "월 : 11\n",
      "일 : 05\n"
     ]
    }
   ],
   "source": [
    "date='2024-11-05'\n",
    "print('-단위로 date를 분리 (list로 반환)합니다')\n",
    "date_list = date.split('-')\n",
    "date_list\n",
    "print('년 :', date_list[0])\n",
    "print('월 :', date_list[1])\n",
    "print('일 :', date_list[2])"
   ]
  },
  {
   "cell_type": "code",
   "execution_count": 42,
   "id": "c71a1df8",
   "metadata": {},
   "outputs": [
    {
     "name": "stdout",
     "output_type": "stream",
     "text": [
      "분리된 temp : ['Java', 'Oracle', '웹표준', 'JSP', 'PYTHON']\n",
      "합쳐진 temp : Java/Oracle/웹표준/JSP/PYTHON\n"
     ]
    }
   ],
   "source": [
    "# ' - ' 을 '/'로 바꾸기\n",
    "temp='Java - Oracle - 웹표준 - JSP - PYTHON'\n",
    "splited_temp = temp.split(' - ')\n",
    "print('분리된 temp :',splited_temp)\n",
    "joined_temp ='/'.join(splited_temp)\n",
    "print('합쳐진 temp :' ,joined_temp)"
   ]
  },
  {
   "cell_type": "code",
   "execution_count": 44,
   "id": "dc59e406",
   "metadata": {},
   "outputs": [
    {
     "name": "stdout",
     "output_type": "stream",
     "text": [
      "A\n",
      "B\n",
      "C\n"
     ]
    }
   ],
   "source": [
    "str_='ABC' # ['A','B','C']\n",
    "for s in str_:\n",
    "    print(s)"
   ]
  },
  {
   "cell_type": "code",
   "execution_count": 47,
   "id": "aaada573",
   "metadata": {},
   "outputs": [
    {
     "name": "stdout",
     "output_type": "stream",
     "text": [
      "A\n",
      "B\n",
      "C\n"
     ]
    }
   ],
   "source": [
    "str_list = ['A','B','C']\n",
    "for s in str_list:\n",
    "    print(s)"
   ]
  },
  {
   "cell_type": "code",
   "execution_count": 1,
   "id": "74f5c89d",
   "metadata": {},
   "outputs": [
    {
     "data": {
      "text/plain": [
       "['__add__',\n",
       " '__class__',\n",
       " '__contains__',\n",
       " '__delattr__',\n",
       " '__dir__',\n",
       " '__doc__',\n",
       " '__eq__',\n",
       " '__format__',\n",
       " '__ge__',\n",
       " '__getattribute__',\n",
       " '__getitem__',\n",
       " '__getnewargs__',\n",
       " '__gt__',\n",
       " '__hash__',\n",
       " '__init__',\n",
       " '__init_subclass__',\n",
       " '__iter__',\n",
       " '__le__',\n",
       " '__len__',\n",
       " '__lt__',\n",
       " '__mod__',\n",
       " '__mul__',\n",
       " '__ne__',\n",
       " '__new__',\n",
       " '__reduce__',\n",
       " '__reduce_ex__',\n",
       " '__repr__',\n",
       " '__rmod__',\n",
       " '__rmul__',\n",
       " '__setattr__',\n",
       " '__sizeof__',\n",
       " '__str__',\n",
       " '__subclasshook__',\n",
       " 'capitalize',\n",
       " 'casefold',\n",
       " 'center',\n",
       " 'count',\n",
       " 'encode',\n",
       " 'endswith',\n",
       " 'expandtabs',\n",
       " 'find',\n",
       " 'format',\n",
       " 'format_map',\n",
       " 'index',\n",
       " 'isalnum',\n",
       " 'isalpha',\n",
       " 'isascii',\n",
       " 'isdecimal',\n",
       " 'isdigit',\n",
       " 'isidentifier',\n",
       " 'islower',\n",
       " 'isnumeric',\n",
       " 'isprintable',\n",
       " 'isspace',\n",
       " 'istitle',\n",
       " 'isupper',\n",
       " 'join',\n",
       " 'ljust',\n",
       " 'lower',\n",
       " 'lstrip',\n",
       " 'maketrans',\n",
       " 'partition',\n",
       " 'removeprefix',\n",
       " 'removesuffix',\n",
       " 'replace',\n",
       " 'rfind',\n",
       " 'rindex',\n",
       " 'rjust',\n",
       " 'rpartition',\n",
       " 'rsplit',\n",
       " 'rstrip',\n",
       " 'split',\n",
       " 'splitlines',\n",
       " 'startswith',\n",
       " 'strip',\n",
       " 'swapcase',\n",
       " 'title',\n",
       " 'translate',\n",
       " 'upper',\n",
       " 'zfill']"
      ]
     },
     "execution_count": 1,
     "metadata": {},
     "output_type": "execute_result"
    }
   ],
   "source": [
    "# 문자열을  다룰 수 있는 함수들 목록\n",
    "dir(str)"
   ]
  },
  {
   "cell_type": "markdown",
   "id": "c9e8d334",
   "metadata": {},
   "source": [
    "# 7절. 시간,날짜다루기"
   ]
  },
  {
   "cell_type": "code",
   "execution_count": 23,
   "id": "634c3b45",
   "metadata": {},
   "outputs": [],
   "source": [
    "# datetime 모듈(~.py) 안의 datetime, date, time 을 import\n",
    "from datetime import datetime, date,time"
   ]
  },
  {
   "cell_type": "markdown",
   "id": "7dc461a2",
   "metadata": {},
   "source": [
    "## 7.1 시간과 날짜"
   ]
  },
  {
   "cell_type": "code",
   "execution_count": 30,
   "id": "9aa23d61",
   "metadata": {},
   "outputs": [
    {
     "data": {
      "text/plain": [
       "datetime.datetime(2025, 3, 7, 18, 0)"
      ]
     },
     "execution_count": 30,
     "metadata": {},
     "output_type": "execute_result"
    }
   ],
   "source": [
    "# 특정 시점을 갖는 datetime 객체 생성\n",
    "thatday = datetime(2025, 3, 7, 18, 0)\n",
    "thatday"
   ]
  },
  {
   "cell_type": "code",
   "execution_count": 31,
   "id": "882922b6",
   "metadata": {},
   "outputs": [
    {
     "name": "stdout",
     "output_type": "stream",
     "text": [
      "2025-03-07 18:00:00\n",
      "2025년 03월 07일 PM 06시 00분\n",
      "25년03월07일 18시00분00초\n"
     ]
    }
   ],
   "source": [
    "print(thatday)\n",
    "print(thatday.strftime(\"%Y년 %m월 %d일 %p %I시 %M분\"))\n",
    "print(\"{:%y년%m월%d일 %H시%M분%S초}\".format(thatday))"
   ]
  },
  {
   "cell_type": "code",
   "execution_count": 33,
   "id": "af204633",
   "metadata": {},
   "outputs": [
    {
     "name": "stdout",
     "output_type": "stream",
     "text": [
      "Wed Nov  6 10:16:04 2024\n",
      "2024-11-06 10:16:04.898241\n",
      "2024년 11월 06일 AM 10시 16분\n",
      "24년11월06일 10시16분04초\n"
     ]
    }
   ],
   "source": [
    "# 지금을 저장하는 datetime 객체 생성\n",
    "now = datetime.now()\n",
    "print(now.ctime()) # 사람이 읽기 쉬는 형태로 \n",
    "print(now)\n",
    "print(now.strftime(\"%Y년 %m월 %d일 %p %I시 %M분\"))\n",
    "print(\"{:%y년%m월%d일 %H시%M분%S초}\".format(now))"
   ]
  },
  {
   "cell_type": "markdown",
   "id": "9561f0b5",
   "metadata": {},
   "source": [
    "### 7.2날짜"
   ]
  },
  {
   "cell_type": "code",
   "execution_count": 9,
   "id": "dd7b2af9",
   "metadata": {},
   "outputs": [
    {
     "data": {
      "text/plain": [
       "datetime.date(2025, 3, 7)"
      ]
     },
     "execution_count": 9,
     "metadata": {},
     "output_type": "execute_result"
    }
   ],
   "source": [
    "# 특정한 날짜를 갖는 date 객체 생성\n",
    "someday = date(2025, 3, 7)\n",
    "someday"
   ]
  },
  {
   "cell_type": "code",
   "execution_count": 13,
   "id": "00cd7f44",
   "metadata": {},
   "outputs": [
    {
     "name": "stdout",
     "output_type": "stream",
     "text": [
      "2025-03-07\n",
      "2025년03월07일 00시00분\n",
      "2025년03월07일 00시00분\n"
     ]
    }
   ],
   "source": [
    "print(someday)\n",
    "print(someday.strftime(\"%Y년%m월%d일 %H시%M분\"))\n",
    "print(\"{:%Y년%m월%d일 %H시%M분}\".format(someday))"
   ]
  },
  {
   "cell_type": "code",
   "execution_count": 14,
   "id": "6bfe679f",
   "metadata": {},
   "outputs": [],
   "source": [
    "# 오늘을 갖는 date 객체 생성\n",
    "today = date.today()\n"
   ]
  },
  {
   "cell_type": "code",
   "execution_count": 16,
   "id": "18376391",
   "metadata": {},
   "outputs": [
    {
     "name": "stdout",
     "output_type": "stream",
     "text": [
      "2024-11-06\n",
      "2024년11월06일 00시00분\n",
      "2024년11월06일 00시00분\n"
     ]
    }
   ],
   "source": [
    "print(today)\n",
    "print(today.strftime(\"%Y년%m월%d일 %H시%M분\"))\n",
    "print(\"{:%Y년%m월%d일 %H시%M분}\".format(today))"
   ]
  },
  {
   "cell_type": "markdown",
   "id": "714b1b4e",
   "metadata": {},
   "source": [
    "### 7.3 시간"
   ]
  },
  {
   "cell_type": "code",
   "execution_count": 18,
   "id": "939f0a8c",
   "metadata": {},
   "outputs": [
    {
     "ename": "NameError",
     "evalue": "name 'time' is not defined",
     "output_type": "error",
     "traceback": [
      "\u001b[1;31m---------------------------------------------------------------------------\u001b[0m",
      "\u001b[1;31mNameError\u001b[0m                                 Traceback (most recent call last)",
      "Cell \u001b[1;32mIn[18], line 2\u001b[0m\n\u001b[0;32m      1\u001b[0m \u001b[38;5;66;03m#특정한 시간을 저장하는 time 객체 생성\u001b[39;00m\n\u001b[1;32m----> 2\u001b[0m t \u001b[38;5;241m=\u001b[39m \u001b[43mtime\u001b[49m(\u001b[38;5;241m13\u001b[39m,\u001b[38;5;241m12\u001b[39m)\n",
      "\u001b[1;31mNameError\u001b[0m: name 'time' is not defined"
     ]
    }
   ],
   "source": [
    "#특정한 시간을 저장하는 time 객체 생성\n",
    "t = time(13,12)\n",
    "print(t.strftime(\"%Y년%m월%d일 %p %I시%M분%S초\"))\n",
    "print(\"{:%Y년%m월%d일 %p %I시%M분%S초}\".format(t))"
   ]
  },
  {
   "cell_type": "code",
   "execution_count": 24,
   "id": "3ee96322",
   "metadata": {},
   "outputs": [
    {
     "data": {
      "text/plain": [
       "(2024, 11, 6, 10, 9, 40, 402963)"
      ]
     },
     "execution_count": 24,
     "metadata": {},
     "output_type": "execute_result"
    }
   ],
   "source": [
    "now = datetime.now() #현재날짜와 현재 시간\n",
    "now.year, now.month, now.day, now.hour,now.minute, now.second, now.microsecond"
   ]
  },
  {
   "cell_type": "code",
   "execution_count": 29,
   "id": "cd567d8e",
   "metadata": {},
   "outputs": [
    {
     "name": "stdout",
     "output_type": "stream",
     "text": [
      "10:12:04.826683\n"
     ]
    },
    {
     "ename": "AttributeError",
     "evalue": "'datetime.time' object has no attribute 'strtime'",
     "output_type": "error",
     "traceback": [
      "\u001b[1;31m---------------------------------------------------------------------------\u001b[0m",
      "\u001b[1;31mAttributeError\u001b[0m                            Traceback (most recent call last)",
      "Cell \u001b[1;32mIn[29], line 5\u001b[0m\n\u001b[0;32m      2\u001b[0m now_time\u001b[38;5;241m=\u001b[39m time(now\u001b[38;5;241m.\u001b[39mhour, now\u001b[38;5;241m.\u001b[39mminute, now\u001b[38;5;241m.\u001b[39msecond,now\u001b[38;5;241m.\u001b[39mmicrosecond)\n\u001b[0;32m      4\u001b[0m \u001b[38;5;28mprint\u001b[39m(now_time)\n\u001b[1;32m----> 5\u001b[0m \u001b[38;5;28mprint\u001b[39m(\u001b[43mnow_time\u001b[49m\u001b[38;5;241;43m.\u001b[39;49m\u001b[43mstrtime\u001b[49m(\u001b[38;5;124m\"\u001b[39m\u001b[38;5;124m%\u001b[39m\u001b[38;5;124mY년\u001b[39m\u001b[38;5;124m%\u001b[39m\u001b[38;5;124mm월\u001b[39m\u001b[38;5;132;01m%d\u001b[39;00m\u001b[38;5;124m일 \u001b[39m\u001b[38;5;124m%\u001b[39m\u001b[38;5;124mp \u001b[39m\u001b[38;5;124m%\u001b[39m\u001b[38;5;124mI시\u001b[39m\u001b[38;5;124m%\u001b[39m\u001b[38;5;124mM분\u001b[39m\u001b[38;5;124m%\u001b[39m\u001b[38;5;124mS초\u001b[39m\u001b[38;5;124m\"\u001b[39m))\n\u001b[0;32m      6\u001b[0m \u001b[38;5;28mprint\u001b[39m(\u001b[38;5;124m\"\u001b[39m\u001b[38;5;124m{\u001b[39m\u001b[38;5;124m:\u001b[39m\u001b[38;5;124m%\u001b[39m\u001b[38;5;124mY년\u001b[39m\u001b[38;5;124m%\u001b[39m\u001b[38;5;124mm월\u001b[39m\u001b[38;5;132;01m%d\u001b[39;00m\u001b[38;5;124m일 \u001b[39m\u001b[38;5;124m%\u001b[39m\u001b[38;5;124mp \u001b[39m\u001b[38;5;124m%\u001b[39m\u001b[38;5;124mI시\u001b[39m\u001b[38;5;124m%\u001b[39m\u001b[38;5;124mM분\u001b[39m\u001b[38;5;124m%\u001b[39m\u001b[38;5;124mS초}\u001b[39m\u001b[38;5;124m\"\u001b[39m)\n",
      "\u001b[1;31mAttributeError\u001b[0m: 'datetime.time' object has no attribute 'strtime'"
     ]
    }
   ],
   "source": [
    "now = datetime.now()\n",
    "now_time= time(now.hour, now.minute, now.second,now.microsecond)\n",
    "\n",
    "print(now_time)\n",
    "print(now_time.strtime(\"%Y년%m월%d일 %p %I시%M분%S초\"))\n",
    "print(\"{:%Y년%m월%d일 %p %I시%M분%S초}\")"
   ]
  },
  {
   "cell_type": "markdown",
   "id": "ebe5bbfb",
   "metadata": {},
   "source": [
    "# 8절.연습문제"
   ]
  },
  {
   "cell_type": "markdown",
   "id": "882b9d8e",
   "metadata": {},
   "source": [
    "1. 이름과 나이 변수를 다음 형식으로 출력하도록 format() 함수를 이용해 형식화하세요\n",
    "[출력형식 : 홍길동님의 나이는 23살입니다]"
   ]
  },
  {
   "cell_type": "code",
   "execution_count": 37,
   "id": "a179ba1d",
   "metadata": {},
   "outputs": [
    {
     "name": "stdout",
     "output_type": "stream",
     "text": [
      "홍길동님의 나이는 23살입니다\n"
     ]
    }
   ],
   "source": [
    "name = \"홍길동\"\n",
    "age = 23\n",
    "print(\"{}님의 나이는 {}살입니다\".format(name,age))"
   ]
  },
  {
   "cell_type": "markdown",
   "id": "8e1c1460",
   "metadata": {},
   "source": [
    "2. 두 정수를 입력받아 두 수의 덧셈, 뺄셈, 곱셈, 나눗셈, 몫, 나머지를 출력하세요"
   ]
  },
  {
   "cell_type": "code",
   "execution_count": 120,
   "id": "a3d38eb6",
   "metadata": {},
   "outputs": [
    {
     "name": "stdout",
     "output_type": "stream",
     "text": [
      "첫번째 정수는? 5\n",
      "두번째 정수는? 0\n"
     ]
    },
    {
     "ename": "ZeroDivisionError",
     "evalue": "division by zero",
     "output_type": "error",
     "traceback": [
      "\u001b[1;31m---------------------------------------------------------------------------\u001b[0m",
      "\u001b[1;31mZeroDivisionError\u001b[0m                         Traceback (most recent call last)",
      "Cell \u001b[1;32mIn[120], line 6\u001b[0m\n\u001b[0;32m      4\u001b[0m d\u001b[38;5;241m=\u001b[39m a\u001b[38;5;241m-\u001b[39mb\n\u001b[0;32m      5\u001b[0m e\u001b[38;5;241m=\u001b[39m a\u001b[38;5;241m*\u001b[39mb\n\u001b[1;32m----> 6\u001b[0m f\u001b[38;5;241m=\u001b[39m \u001b[43ma\u001b[49m\u001b[38;5;241;43m/\u001b[39;49m\u001b[43mb\u001b[49m\n\u001b[0;32m      7\u001b[0m g\u001b[38;5;241m=\u001b[39m a\u001b[38;5;241m/\u001b[39m\u001b[38;5;241m/\u001b[39mb\n\u001b[0;32m      8\u001b[0m h\u001b[38;5;241m=\u001b[39m a\u001b[38;5;241m%\u001b[39mb\n",
      "\u001b[1;31mZeroDivisionError\u001b[0m: division by zero"
     ]
    }
   ],
   "source": [
    "a= int(input('첫번째 정수는? '))\n",
    "b= int(input('두번째 정수는? '))\n",
    "c= a+b\n",
    "d= a-b\n",
    "e= a*b\n",
    "f= a/b\n",
    "g= a//b\n",
    "h= a%b\n",
    "print(\"합은 {}+{}={}\".format(a,b,c))\n",
    "print(\"차는 {}-{}={}\".format(a,b,d))\n",
    "print(\"곱은 {}*{}={}\".format(a,b,e))\n",
    "print(\"나눗셈은 {}/{}={}\".format(a,b,f))\n",
    "print(\"몫은 {}//{}={}\".format(a,b,g))\n",
    "print(\"나머지는 {}%{}={}\".format(a,b,h))\n"
   ]
  },
  {
   "cell_type": "code",
   "execution_count": null,
   "id": "1b24ff85",
   "metadata": {},
   "outputs": [],
   "source": []
  },
  {
   "cell_type": "markdown",
   "id": "c081cad1",
   "metadata": {},
   "source": [
    "3. 문자열의 분리하기와 합치기 기능을 이용하여 ‘Hello World’가 할당된 변수를 이용하여\n",
    "‘World Hello’로 출력하세요"
   ]
  },
  {
   "cell_type": "code",
   "execution_count": 81,
   "id": "e0a72a1c",
   "metadata": {},
   "outputs": [
    {
     "name": "stdout",
     "output_type": "stream",
     "text": [
      "분리된 temp : ['Hello', 'World']\n",
      "World Hello\n"
     ]
    }
   ],
   "source": [
    "temp='Hello World'\n",
    "splited_temp = temp.split(' ')\n",
    "print('분리된 temp :',splited_temp)\n",
    "\n",
    "print(temp[6:],temp[0:5])"
   ]
  },
  {
   "cell_type": "markdown",
   "id": "69248b77",
   "metadata": {},
   "source": [
    "4. x = 'abcdef＇를 이용하여 ‘bcdefa’로 출력하세요(문자 슬라이싱이용)."
   ]
  },
  {
   "cell_type": "code",
   "execution_count": 121,
   "id": "34d1081c",
   "metadata": {},
   "outputs": [
    {
     "name": "stdout",
     "output_type": "stream",
     "text": [
      "bcdefa\n"
     ]
    }
   ],
   "source": [
    "x = 'abcdef'\n",
    "print(x[1:]+x[0])\n"
   ]
  },
  {
   "cell_type": "markdown",
   "id": "3c907462",
   "metadata": {},
   "source": [
    "5. x = ‘abcdef’를 이용하여 ‘fedcba’로 출력하세요"
   ]
  },
  {
   "cell_type": "code",
   "execution_count": 102,
   "id": "ff7d77be",
   "metadata": {},
   "outputs": [
    {
     "name": "stdout",
     "output_type": "stream",
     "text": [
      "fedcba\n"
     ]
    }
   ],
   "source": [
    "print(x[::-1])"
   ]
  },
  {
   "cell_type": "markdown",
   "id": "2f93f3de",
   "metadata": {},
   "source": [
    "6.오늘의 온도를 섭씨온도로 입력받아 화씨 온도로 변환하는 프로그램을 작성하세요. 화씨 온도는 소수점이 있을 경우만 두번째 자리까지 출력되고, 소수점이하 값이 없는 경우 소수점을 출력하지 않도록 합니다.(다음은 섭씨와 화씨의 변환 공식입니다. C는 섭씨,F는 화씨)\n",
    "\n",
    "- C = (F-32) / 1.8\n",
    "\n",
    "- F = (C*1.8) + 32\n"
   ]
  },
  {
   "cell_type": "code",
   "execution_count": 123,
   "id": "e9257f05",
   "metadata": {},
   "outputs": [
    {
     "name": "stdout",
     "output_type": "stream",
     "text": [
      "오늘의 온도는?32\n",
      "89.60\n"
     ]
    }
   ],
   "source": [
    "C= int(input('오늘의 온도는?'))\n",
    "F= (C*1.8) + 32\n",
    "print(\"{:.2f}\".format(F))"
   ]
  },
  {
   "cell_type": "markdown",
   "id": "28b2a301",
   "metadata": {},
   "source": [
    "7. 1 2 3번\n",
    "9. 2\n",
    "10. error"
   ]
  },
  {
   "cell_type": "code",
   "execution_count": 117,
   "id": "74cd0e6a",
   "metadata": {},
   "outputs": [
    {
     "name": "stdout",
     "output_type": "stream",
     "text": [
      " 나라\n"
     ]
    }
   ],
   "source": [
    "#11\n",
    "str_ = \"우리 나라 대한 민국\"\n",
    "print(str_[2:5])"
   ]
  },
  {
   "cell_type": "code",
   "execution_count": 118,
   "id": "b7bdbdba",
   "metadata": {},
   "outputs": [
    {
     "name": "stdout",
     "output_type": "stream",
     "text": [
      "SeounSeoul\n",
      "Seou n Seoul\n"
     ]
    }
   ],
   "source": [
    "text = \"Seoul A001 - programming with python\"\n",
    "print(text[:4]+ text[-1]+ text.split()[0])\n",
    "print(text[:4], text[-1], text.split()[0])"
   ]
  }
 ],
 "metadata": {
  "kernelspec": {
   "display_name": "Python 3 (ipykernel)",
   "language": "python",
   "name": "python3"
  },
  "language_info": {
   "codemirror_mode": {
    "name": "ipython",
    "version": 3
   },
   "file_extension": ".py",
   "mimetype": "text/x-python",
   "name": "python",
   "nbconvert_exporter": "python",
   "pygments_lexer": "ipython3",
   "version": "3.10.9"
  },
  "toc": {
   "base_numbering": 1,
   "nav_menu": {},
   "number_sections": true,
   "sideBar": true,
   "skip_h1_title": false,
   "title_cell": "Table of Contents",
   "title_sidebar": "Contents",
   "toc_cell": false,
   "toc_position": {},
   "toc_section_display": true,
   "toc_window_display": false
  }
 },
 "nbformat": 4,
 "nbformat_minor": 5
}
