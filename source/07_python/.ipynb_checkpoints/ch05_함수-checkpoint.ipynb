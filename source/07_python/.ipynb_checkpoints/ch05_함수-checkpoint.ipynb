{
 "cells": [
  {
   "cell_type": "code",
   "execution_count": 153,
   "id": "8b7cba7f",
   "metadata": {},
   "outputs": [
    {
     "data": {
      "text/html": [
       "\n",
       "<style>\n",
       "div.container{width:80% !important;}\n",
       "div.CodeMirror {font-family:Consolas; font-size:12pt;}\n",
       "div.output {font-size:12pt; font-weight:bold;}\n",
       "div.input {font-family:Consolas; font-size:12pt;}\n",
       "div.prompt {min-width:70px;}\n",
       "div#toc-header{margin-top:150px;}\n",
       ".cm-s-ipython span.cm-comment{font-size:12pt; font-style:normal; color:orange;}\n",
       ".ansi-yellow-bg{color:black;font-size:15pt;}\n",
       "\n",
       "</style>\n",
       "<style>\n",
       "span.toc-item-num{display:none;}\n",
       "</style>\n"
      ],
      "text/plain": [
       "<IPython.core.display.HTML object>"
      ]
     },
     "metadata": {},
     "output_type": "display_data"
    }
   ],
   "source": [
    "from IPython.display import display, HTML\n",
    "display(HTML(\"\"\"\n",
    "<style>\n",
    "div.container{width:80% !important;}\n",
    "div.CodeMirror {font-family:Consolas; font-size:12pt;}\n",
    "div.output {font-size:12pt; font-weight:bold;}\n",
    "div.input {font-family:Consolas; font-size:12pt;}\n",
    "div.prompt {min-width:70px;}\n",
    "div#toc-header{margin-top:150px;}\n",
    ".cm-s-ipython span.cm-comment{font-size:12pt; font-style:normal; color:orange;}\n",
    ".ansi-yellow-bg{color:black;font-size:15pt;}\n",
    "\n",
    "</style>\n",
    "<style>\n",
    "span.toc-item-num{display:none;}\n",
    "</style>\n",
    "\"\"\"))\n",
    "\n"
   ]
  },
  {
   "cell_type": "code",
   "execution_count": null,
   "id": "bf6e9b7f",
   "metadata": {},
   "outputs": [],
   "source": []
  },
  {
   "cell_type": "markdown",
   "id": "2046003a",
   "metadata": {},
   "source": [
    "<b><font size=\"6\" color=\"red\"> ch05. 함수</font><b>\n",
    "- 반복해서 사용할 코드를 묶어 놓고 그것에 이름을 붙인 것.\n",
    "- 오버로딩 불가 \n",
    "- 함수의 정의 \n",
    "```\n",
    "def 함수명([매개변수1, 매개변수2, ..]):\n",
    "    명령어1\n",
    "    명령어2\n",
    "    return 리턴할값\n",
    "    명령어 3\n",
    "```"
   ]
  },
  {
   "cell_type": "markdown",
   "id": "d90e29ce",
   "metadata": {},
   "source": [
    "# 1절. 함수의 정의 및 사용\n",
    "## 1.1 함수정의하기"
   ]
  },
  {
   "cell_type": "code",
   "execution_count": null,
   "id": "d081e26e",
   "metadata": {},
   "outputs": [],
   "source": [
    "def my_hello(x,msg): #함수정의\n",
    "    for i in range(x): # x번 반복\n",
    "        print(i,msg)"
   ]
  },
  {
   "cell_type": "code",
   "execution_count": null,
   "id": "b84ec787",
   "metadata": {},
   "outputs": [],
   "source": [
    "def my_hello():\n",
    "    print('Hello, Python')\n",
    "    print('Hello, World')"
   ]
  },
  {
   "cell_type": "code",
   "execution_count": null,
   "id": "02ff468c",
   "metadata": {},
   "outputs": [],
   "source": [
    "my_hello()"
   ]
  },
  {
   "cell_type": "code",
   "execution_count": null,
   "id": "6fb4cf3b",
   "metadata": {},
   "outputs": [],
   "source": [
    "my_hello"
   ]
  },
  {
   "cell_type": "code",
   "execution_count": null,
   "id": "51376c34",
   "metadata": {},
   "outputs": [],
   "source": [
    "__name__"
   ]
  },
  {
   "cell_type": "code",
   "execution_count": null,
   "id": "955eebb1",
   "metadata": {},
   "outputs": [],
   "source": [
    "import a"
   ]
  },
  {
   "cell_type": "code",
   "execution_count": null,
   "id": "2410c253",
   "metadata": {},
   "outputs": [],
   "source": []
  },
  {
   "cell_type": "code",
   "execution_count": null,
   "id": "a893faef",
   "metadata": {},
   "outputs": [],
   "source": [
    "a.test()"
   ]
  },
  {
   "cell_type": "code",
   "execution_count": null,
   "id": "de2f9458",
   "metadata": {},
   "outputs": [],
   "source": [
    "from a import test# a모듈안의 test 로드"
   ]
  },
  {
   "cell_type": "code",
   "execution_count": null,
   "id": "3be1b0a4",
   "metadata": {},
   "outputs": [],
   "source": [
    "test()"
   ]
  },
  {
   "cell_type": "markdown",
   "id": "2c7e9340",
   "metadata": {},
   "source": [
    "## 1.2 docstring"
   ]
  },
  {
   "cell_type": "code",
   "execution_count": null,
   "id": "7fa8b822",
   "metadata": {},
   "outputs": [],
   "source": [
    "def my_function():\n",
    "    \"\"\"\n",
    "    함수의 첫 라인에 독스트링을 포함 할 수 있습니다.\n",
    "    독스트링 역할은 함수의 설명서를 달아주는 역할.\n",
    "    주석보다 많은 기능(함수 호출시 shif+tab으로 독스트링을 볼 수 있음)\n",
    "    \"\"\"\n",
    "    pass"
   ]
  },
  {
   "cell_type": "code",
   "execution_count": null,
   "id": "17e4d7da",
   "metadata": {},
   "outputs": [],
   "source": [
    "print(my_function.__doc__)"
   ]
  },
  {
   "cell_type": "code",
   "execution_count": null,
   "id": "971cb42d",
   "metadata": {},
   "outputs": [],
   "source": [
    "def fivonacci(n):\n",
    "    '''\n",
    "    매개변수로 들어온 n값 미만의 피보나치 수열을 출력합니다\n",
    "    ex. n=10 : 0,1,1,2,3,5,8,\n",
    "    '''\n",
    "    a, b  = 0,1\n",
    "    while a < n:\n",
    "        print(a,end=' ')\n",
    "        a, b = b, a+b\n",
    "    print()\n",
    "def fibonacci(n):\n",
    "    '''\n",
    "    매개변수로 들어온 n값 미만의 피보나치 수열을 리스트로 return\n",
    "    '''"
   ]
  },
  {
   "cell_type": "code",
   "execution_count": null,
   "id": "a25eaae6",
   "metadata": {},
   "outputs": [],
   "source": []
  },
  {
   "cell_type": "code",
   "execution_count": null,
   "id": "288f6e7b",
   "metadata": {},
   "outputs": [],
   "source": []
  },
  {
   "cell_type": "code",
   "execution_count": null,
   "id": "51395d1f",
   "metadata": {},
   "outputs": [],
   "source": []
  },
  {
   "cell_type": "markdown",
   "id": "8621fa86",
   "metadata": {},
   "source": [
    "## 1.3 지역변수(local var)와 전역변수(globla var)"
   ]
  },
  {
   "cell_type": "code",
   "execution_count": null,
   "id": "91cda573",
   "metadata": {},
   "outputs": [],
   "source": [
    "globla_var = 100 #전역변수\n",
    "def func1():\n",
    "    print(global_var)\n",
    "\n",
    "    func1()\n",
    "print('func1')"
   ]
  },
  {
   "cell_type": "code",
   "execution_count": null,
   "id": "ba8177bb",
   "metadata": {},
   "outputs": [],
   "source": [
    "def func2():\n",
    "    local_var = 200 #지역변수\n",
    "    print('함수안 : ',local_var)\n",
    "func2()\n",
    "print('함수밖 :',local_var) "
   ]
  },
  {
   "cell_type": "code",
   "execution_count": null,
   "id": "17c667ca",
   "metadata": {},
   "outputs": [],
   "source": [
    "g_var = 100 #전역변수(변수 선언과 할당)\n",
    "def func3():\n",
    "    g_var = 200 #지역변수(변수 선언과 할당)\n",
    "    print('지역변수 g_var :', g_var)\n",
    "func3()\n",
    "print('전역변수 g_var :', g_var)"
   ]
  },
  {
   "cell_type": "code",
   "execution_count": null,
   "id": "3f6d71be",
   "metadata": {},
   "outputs": [],
   "source": [
    "# 렉시컬 특성\n",
    "g_var = 100 # 전역변수\n",
    "def func3():\n",
    "    global g_var # func3 함수내에서의 g_var는 전역변수를 쓴다\n",
    "    print('함수 안 g_var :', g_var)\n",
    "    g_var = 200 #지역변수\n",
    "func3()\n",
    "print('함수 밖 g_var :' ,200)"
   ]
  },
  {
   "cell_type": "markdown",
   "id": "6dd46109",
   "metadata": {},
   "source": [
    "##  값에 의한 호출\n",
    "- 함수에 인수로 전달되는 변수가 스칼라변수(문자,숫자, 논리형)일 때"
   ]
  },
  {
   "cell_type": "code",
   "execution_count": null,
   "id": "d24a797d",
   "metadata": {},
   "outputs": [],
   "source": [
    "foo = 'a' #전역변수\n",
    "id(foo)"
   ]
  },
  {
   "cell_type": "code",
   "execution_count": null,
   "id": "f698e48f",
   "metadata": {},
   "outputs": [],
   "source": [
    "def func1(f):\n",
    "    print('Before :', f, '의 주소는', id(f))\n",
    "    f= f*3 #foofoofoo\n",
    "    print('After :', f ,'의 주소는',id(f))\n",
    "func1(foo)"
   ]
  },
  {
   "cell_type": "code",
   "execution_count": null,
   "id": "fbff0f4d",
   "metadata": {},
   "outputs": [],
   "source": [
    "print('foo = ', foo, '의 주소는 ', id(foo))"
   ]
  },
  {
   "cell_type": "code",
   "execution_count": null,
   "id": "78ea44f5",
   "metadata": {},
   "outputs": [],
   "source": []
  },
  {
   "cell_type": "markdown",
   "id": "efa6133b",
   "metadata": {},
   "source": [
    "## 참조에 의한 호출\n",
    "- 함수에 인수로 전달되는 변수가 리스트, 튜플, 셋, 리스트, 딕셔너리, 객체일경우"
   ]
  },
  {
   "cell_type": "code",
   "execution_count": null,
   "id": "39958132",
   "metadata": {},
   "outputs": [],
   "source": [
    "L=[1,2,3,4,6]\n",
    "id(L)"
   ]
  },
  {
   "cell_type": "code",
   "execution_count": null,
   "id": "20e993e6",
   "metadata": {},
   "outputs": [],
   "source": [
    "def func2(f): # 매개변수는 지역변수\n",
    "    print('before :',f,'의 주소는',id(f))\n",
    "    f.append(6)\n",
    "    print('after :',f, '의 주소는 ', id(f))\n",
    "func2(L)"
   ]
  },
  {
   "cell_type": "markdown",
   "id": "e9d3d389",
   "metadata": {},
   "source": [
    "# 2절. 함수의 실행결과 반환하는 return"
   ]
  },
  {
   "cell_type": "code",
   "execution_count": 147,
   "id": "52e5163a",
   "metadata": {},
   "outputs": [],
   "source": [
    "def fibonacci_print(n):\n",
    "    '''\n",
    "    매개변수로 들어온 n값 미만의 피보나치 수열을 출력합니다\n",
    "    ex. n=10 : 0,1,1,2,3,5,8,\n",
    "    '''\n",
    "    a, b  = 0,1\n",
    "    while a < n:\n",
    "        print(a,end=' ')\n",
    "        a, b = b, a+b\n",
    "    print()\n",
    "def fibonacci(n):\n",
    "    '''\n",
    "    매개변수로 들어온 n값 미만의 피보나치 수열을 리스트로 return\n",
    "    '''\n",
    "    result =[]\n",
    "    a, b = 0, 1\n",
    "    while a<n :\n",
    "        result.append(a)\n",
    "        a, b = b, a+b\n",
    "    return result"
   ]
  },
  {
   "cell_type": "code",
   "execution_count": 148,
   "id": "948e2180",
   "metadata": {},
   "outputs": [
    {
     "name": "stdout",
     "output_type": "stream",
     "text": [
      "0 1 1 2 3 5 8 \n",
      "None\n",
      "<class 'NoneType'>\n"
     ]
    }
   ],
   "source": [
    "x = fibonacci_print(10)\n",
    "print(x) # return이 없는 함수는 결측치\n",
    "print(type(x))"
   ]
  },
  {
   "cell_type": "code",
   "execution_count": null,
   "id": "c994658d",
   "metadata": {},
   "outputs": [],
   "source": [
    "x = fibonacci(10)\n",
    "print(x)"
   ]
  },
  {
   "cell_type": "markdown",
   "id": "f29c68bb",
   "metadata": {},
   "source": [
    "## 여러개 값 return"
   ]
  },
  {
   "cell_type": "code",
   "execution_count": 150,
   "id": "85328fe9",
   "metadata": {},
   "outputs": [],
   "source": [
    "def swap(a,b):\n",
    "    '''\n",
    "    매개변수의 순서를 바꿔서 return\n",
    "    '''\n",
    "    return (b,a)"
   ]
  },
  {
   "cell_type": "code",
   "execution_count": 151,
   "id": "46ad58fc",
   "metadata": {},
   "outputs": [
    {
     "name": "stdout",
     "output_type": "stream",
     "text": [
      "함수 실행 전 x,y =  5 10\n",
      "함수 실행 후 x,y = 10 5\n"
     ]
    }
   ],
   "source": [
    "x,y = 5,10\n",
    "print('함수 실행 전 x,y = ', x,y)\n",
    "x,y = swap(x,y)\n",
    "print('함수 실행 후 x,y =',x,y)"
   ]
  },
  {
   "cell_type": "code",
   "execution_count": 152,
   "id": "a383280d",
   "metadata": {},
   "outputs": [
    {
     "name": "stdout",
     "output_type": "stream",
     "text": [
      "<class 'tuple'>\n",
      "(20, 10)\n"
     ]
    }
   ],
   "source": [
    "a = swap(10,20)\n",
    "print(type(a))\n",
    "print(a)"
   ]
  },
  {
   "cell_type": "markdown",
   "id": "b5a64f5e",
   "metadata": {},
   "source": [
    "# 3절. 함수의 매개변수 ★\n",
    "## 3.1 기본값을 갖는 매개변수"
   ]
  },
  {
   "cell_type": "code",
   "execution_count": null,
   "id": "44cbae41",
   "metadata": {},
   "outputs": [],
   "source": [
    "def make_url(ip, port=80): # 순서인수> 기본값을 갖는 매개변수\n",
    "    return\"http://{}:{}\".format(ip,port)"
   ]
  },
  {
   "cell_type": "code",
   "execution_count": null,
   "id": "e772fd35",
   "metadata": {},
   "outputs": [],
   "source": [
    "print(make_url('localhost',8090))\n",
    "print(make_url('localhost'))\n",
    "print(make_url(port=9090, ip='www.naver.com'))"
   ]
  },
  {
   "cell_type": "markdown",
   "id": "00301375",
   "metadata": {},
   "source": [
    "## 3.2 기본변수를 갖는 매개변수\n",
    "- 기본변수가 스칼라 변수(문자,숫자,논리형)일때\n",
    "- 기본변수가 리스트, 셋, 딕셔너리 또는 객체일때"
   ]
  },
  {
   "cell_type": "code",
   "execution_count": null,
   "id": "22ef77a7",
   "metadata": {},
   "outputs": [],
   "source": [
    "i=5\n",
    "# 기본변수가 스칼라변수일 때: arg의 기본값은 함수가 정의되는 시점으로 세팅\n",
    "def func2(arg=i):\n",
    "    print('arg=',arg)"
   ]
  },
  {
   "cell_type": "code",
   "execution_count": null,
   "id": "19bf4bdc",
   "metadata": {},
   "outputs": [],
   "source": [
    "i = 10\n",
    "func2()"
   ]
  },
  {
   "cell_type": "code",
   "execution_count": 50,
   "id": "1ed1a4d5",
   "metadata": {},
   "outputs": [
    {
     "name": "stdout",
     "output_type": "stream",
     "text": [
      "[10]\n",
      "list_: [10]\n"
     ]
    }
   ],
   "source": [
    "# 기본변수가 리스트, 셋, 딕셔너리, 객체일 때 : 실행되는 시점\n",
    "list_ = []\n",
    "def func3(a,L=list_):\n",
    "    L.append(a)\n",
    "    return L\n",
    "print(func3(10))\n",
    "print('list_:',list_)"
   ]
  },
  {
   "cell_type": "code",
   "execution_count": null,
   "id": "0bee5413",
   "metadata": {},
   "outputs": [],
   "source": [
    "print(func3(20))\n",
    "print('list_:',list_)"
   ]
  },
  {
   "cell_type": "code",
   "execution_count": null,
   "id": "3ee3cdfa",
   "metadata": {},
   "outputs": [],
   "source": [
    "print(func3(30))\n",
    "print('list_:',list_)"
   ]
  },
  {
   "cell_type": "code",
   "execution_count": null,
   "id": "e52ea17b",
   "metadata": {},
   "outputs": [],
   "source": [
    "def func3(a, L=[]):\n",
    "    L.append(a)\n",
    "    return L\n",
    "print(func3(10))\n",
    "print(func3((1,2,3)))"
   ]
  },
  {
   "cell_type": "markdown",
   "id": "58c65c85",
   "metadata": {},
   "source": [
    "## 3.3 순서 인수, 키워드인수\n",
    "- 순서 인수 : 함수에 정의된 순서대로 전달\n",
    "- 키워드 인수: 인수의 이름을 명시적으로 전달방식\n",
    "- 함수 선언시 순서인수와 키워드 인수가 같이 올 때는 순서인수 > 키워드 인수 순으로 온다\n",
    "```\n",
    "def function명(변수명1, 변수명2, ...변수명n=기본값)\n",
    "```"
   ]
  },
  {
   "cell_type": "code",
   "execution_count": null,
   "id": "0d48fedf",
   "metadata": {},
   "outputs": [],
   "source": [
    "def func4(a, L=None):\n",
    "    if L is None:\n",
    "        L = []\n",
    "    L.append(a)\n",
    "    return L    "
   ]
  },
  {
   "cell_type": "code",
   "execution_count": null,
   "id": "d5e0dbd0",
   "metadata": {},
   "outputs": [],
   "source": [
    "lst =[]\n",
    "print(func4(10,lst))\n",
    "print(func4(L=lst, a=10))\n",
    "print(func4(20))"
   ]
  },
  {
   "cell_type": "code",
   "execution_count": null,
   "id": "5ca9ad0b",
   "metadata": {},
   "outputs": [],
   "source": [
    "fun(b=3,a=4)"
   ]
  },
  {
   "cell_type": "markdown",
   "id": "24e3869a",
   "metadata": {},
   "source": [
    "## 3.4 튜플 매개변수를 이용한 가변인수 설정"
   ]
  },
  {
   "cell_type": "code",
   "execution_count": null,
   "id": "648fee6d",
   "metadata": {},
   "outputs": [],
   "source": [
    "def add(a, b):\n",
    "    return a+b\n",
    "def add(a,b,c):\n",
    "    return a+b+c"
   ]
  },
  {
   "cell_type": "code",
   "execution_count": null,
   "id": "3e93e3df",
   "metadata": {},
   "outputs": [],
   "source": [
    "add(1,2)"
   ]
  },
  {
   "cell_type": "code",
   "execution_count": null,
   "id": "c76a6469",
   "metadata": {},
   "outputs": [],
   "source": [
    "# 가변인자 함수 add\n",
    "def add(*args):\n",
    "    '전달받은 매개변수들의 합을 return'\n",
    "    # print(args)\n",
    "    sum = 0\n",
    "    for num in args:\n",
    "        sum += num\n",
    "    return sum"
   ]
  },
  {
   "cell_type": "code",
   "execution_count": null,
   "id": "19aa2221",
   "metadata": {},
   "outputs": [],
   "source": [
    "print(add(1))\n",
    "print(add(1,2))\n",
    "print(add(1,2,3,5))"
   ]
  },
  {
   "cell_type": "code",
   "execution_count": null,
   "id": "1f63f177",
   "metadata": {},
   "outputs": [],
   "source": [
    "subject =('Java','Oracle','Web','Python')\n",
    "'-'.join(subject)"
   ]
  },
  {
   "cell_type": "code",
   "execution_count": null,
   "id": "fc9da35c",
   "metadata": {},
   "outputs": [],
   "source": [
    "def concat(*subject,sep):\n",
    "    return sep.join(subject)"
   ]
  },
  {
   "cell_type": "code",
   "execution_count": null,
   "id": "afb5f4d3",
   "metadata": {},
   "outputs": [],
   "source": [
    "# 해결책 1\n",
    "concat('Java','Oracle','Web','Python',sep='~')"
   ]
  },
  {
   "cell_type": "code",
   "execution_count": null,
   "id": "04cb557d",
   "metadata": {},
   "outputs": [],
   "source": [
    "# 해결책2: 기본값을 갖는 키워드 인수 사용\n",
    "def concat(*subject,sep=' '):\n",
    "    return sep.join(subject)"
   ]
  },
  {
   "cell_type": "code",
   "execution_count": null,
   "id": "3d83d867",
   "metadata": {},
   "outputs": [],
   "source": [
    "concat('Java','Oracle','Web','Python','~')"
   ]
  },
  {
   "cell_type": "code",
   "execution_count": null,
   "id": "b40484d3",
   "metadata": {},
   "outputs": [],
   "source": [
    "concat('Java','Oracle','Web','Python',sep='~')"
   ]
  },
  {
   "cell_type": "code",
   "execution_count": null,
   "id": "77d5e666",
   "metadata": {},
   "outputs": [],
   "source": [
    "# 해결책 3 : sep을 순서인수로 앞으로 선언\n",
    "def concat(sep,*subject):\n",
    "    return sep.join(subject)"
   ]
  },
  {
   "cell_type": "code",
   "execution_count": null,
   "id": "7123cda8",
   "metadata": {},
   "outputs": [],
   "source": [
    "concat('~','Java','Oracle','Python')"
   ]
  },
  {
   "cell_type": "markdown",
   "id": "8c059c26",
   "metadata": {},
   "source": [
    "## 3.5 딕셔너리 매개변수\n",
    "- 딕셔너리인수 : 여러개의 키워드 인수를 딕셔너리 형태로 받아서 가변 키워드 인수로 처리\n"
   ]
  },
  {
   "cell_type": "code",
   "execution_count": null,
   "id": "9355b4d6",
   "metadata": {},
   "outputs": [],
   "source": [
    "def func5(**args):\n",
    "    print(args)\n",
    "    print(type(args))\n",
    "    for key, value in args.items:\n",
    "        print(\"{}:{}\".format(key, value))"
   ]
  },
  {
   "cell_type": "code",
   "execution_count": null,
   "id": "0509b4dc",
   "metadata": {},
   "outputs": [],
   "source": [
    "func5(name=\"홍길동\",age=33)"
   ]
  },
  {
   "cell_type": "markdown",
   "id": "af02b3e6",
   "metadata": {},
   "source": [
    "## 3.6 함수 정의시 매개변수의 순서\n",
    "순서인수> 튜플인수(*)>키워드인수(기본값)>딕셔너리인수(**)"
   ]
  },
  {
   "cell_type": "code",
   "execution_count": null,
   "id": "99421608",
   "metadata": {},
   "outputs": [],
   "source": [
    "# 순서인수 > 튜플인수> 딕셔너리인수\n",
    "def func6(a,b,*c,**d):\n",
    "    print('순서인수 a =',a)\n",
    "    print('순서인수 b =',b)\n",
    "    print('순서인수 c =',c)\n",
    "    print('순서인수 d =',d)"
   ]
  },
  {
   "cell_type": "code",
   "execution_count": null,
   "id": "a2d020a5",
   "metadata": {},
   "outputs": [],
   "source": [
    "func6(10,20,1,2,3,4,5,6,7,name=\"kim\",age=30)"
   ]
  },
  {
   "cell_type": "code",
   "execution_count": null,
   "id": "e2777250",
   "metadata": {},
   "outputs": [],
   "source": [
    "# 순서인수> 튜플인수(*)>키워드인수(기본값)>딕셔너리인수(**)\n",
    "def func7(a,b,c,*d,e=10,**f):\n",
    "    print('a=',a)\n",
    "    print('b=',b)\n",
    "    print('c=',c)\n",
    "    print('d=',d)\n",
    "    print('e=',e)\n",
    "    print('f=',f)\n",
    "    "
   ]
  },
  {
   "cell_type": "code",
   "execution_count": null,
   "id": "01b6d9ca",
   "metadata": {},
   "outputs": [],
   "source": [
    "func7(10,20,30)"
   ]
  },
  {
   "cell_type": "code",
   "execution_count": null,
   "id": "158c98cf",
   "metadata": {},
   "outputs": [],
   "source": [
    "func7(10,20,30, e=100)"
   ]
  },
  {
   "cell_type": "code",
   "execution_count": null,
   "id": "81d85591",
   "metadata": {},
   "outputs": [],
   "source": [
    "func7(10,20,30,1,2,3,4,5,e=100,shape=\"rect\", width=20,height=30)"
   ]
  },
  {
   "cell_type": "markdown",
   "id": "44aee52b",
   "metadata": {},
   "source": [
    "## 3.7 인수의 언패킹\n",
    "튜플인수 언패킹"
   ]
  },
  {
   "cell_type": "code",
   "execution_count": null,
   "id": "72b9f369",
   "metadata": {},
   "outputs": [],
   "source": [
    "def add(*args):\n",
    "    sum = 0\n",
    "    for num in args:\n",
    "        sum += num\n",
    "    return sum"
   ]
  },
  {
   "cell_type": "code",
   "execution_count": null,
   "id": "3589ee07",
   "metadata": {},
   "outputs": [],
   "source": [
    "add(1,2,3,4,5)"
   ]
  },
  {
   "cell_type": "code",
   "execution_count": null,
   "id": "b605b057",
   "metadata": {},
   "outputs": [],
   "source": [
    "numbers = (1,2,3,4,5,6,7,8)\n",
    "add(*numbers) # 튜플 언패킹\n",
    "#add(numbers[0],numbers[1],numbers[2],numbers[3],numbers[4])"
   ]
  },
  {
   "cell_type": "code",
   "execution_count": null,
   "id": "a49bfdd1",
   "metadata": {},
   "outputs": [],
   "source": [
    "num_lst = [1,2,3]\n",
    "add(*num_lst)"
   ]
  },
  {
   "cell_type": "markdown",
   "id": "a1dcf126",
   "metadata": {},
   "source": [
    "딕셔너리 언패킹"
   ]
  },
  {
   "cell_type": "code",
   "execution_count": null,
   "id": "53ecfcc1",
   "metadata": {},
   "outputs": [],
   "source": [
    "def func8(**data):\n",
    "    for item in data.items():\n",
    "        print(item)\n",
    "func8(shape=\"lect\",height=30,width=40)"
   ]
  },
  {
   "cell_type": "code",
   "execution_count": null,
   "id": "15106b2f",
   "metadata": {},
   "outputs": [],
   "source": [
    "info = {'shape':'triangle', 'height':30, 'width':30}\n",
    "info"
   ]
  },
  {
   "cell_type": "code",
   "execution_count": null,
   "id": "082ec839",
   "metadata": {},
   "outputs": [],
   "source": [
    "func8(**info) ##딕셔너리 언패킹"
   ]
  },
  {
   "cell_type": "markdown",
   "id": "439b8f55",
   "metadata": {},
   "source": [
    "# 4절. 람다식\n",
    "- return 한줄짜리 작은 익명함수\n",
    "## 4.1 람다식 연습"
   ]
  },
  {
   "cell_type": "code",
   "execution_count": null,
   "id": "27495f99",
   "metadata": {},
   "outputs": [],
   "source": [
    "def add(a,b):\n",
    "    return a+b\n",
    "add(3,5)"
   ]
  },
  {
   "cell_type": "code",
   "execution_count": null,
   "id": "e8f3f79a",
   "metadata": {},
   "outputs": [],
   "source": [
    "add2= lambda a,b : a+b #매개변수 : return\n",
    "add2(10,20)"
   ]
  },
  {
   "cell_type": "code",
   "execution_count": null,
   "id": "000c1d83",
   "metadata": {},
   "outputs": [],
   "source": [
    "print(type(add),type(add2))"
   ]
  },
  {
   "cell_type": "code",
   "execution_count": null,
   "id": "35e6df08",
   "metadata": {},
   "outputs": [],
   "source": [
    "(lambda a, b : a+b)(3,5)"
   ]
  },
  {
   "cell_type": "code",
   "execution_count": null,
   "id": "0bb16f9f",
   "metadata": {},
   "outputs": [],
   "source": [
    "# a와b의 차이를 return\n",
    "def diff(a,b):\n",
    "    if a>=b:\n",
    "        return a-b\n",
    "    else:\n",
    "        return b-a"
   ]
  },
  {
   "cell_type": "code",
   "execution_count": null,
   "id": "c92b9260",
   "metadata": {},
   "outputs": [],
   "source": [
    "diff2 = lambda a,b :a-b if a>=b else b-a"
   ]
  },
  {
   "cell_type": "code",
   "execution_count": null,
   "id": "749660d2",
   "metadata": {},
   "outputs": [],
   "source": [
    "print(diff (3,5))\n",
    "print(diff2 (5,3))\n",
    "print(diff (5,3))\n",
    "print(diff2(3,5))"
   ]
  },
  {
   "cell_type": "code",
   "execution_count": null,
   "id": "92a6ac47",
   "metadata": {},
   "outputs": [],
   "source": [
    "# 매개변수로 잔액을 바아 잔액이 음수면 'negative', 양수면 잔액\n",
    "def get_balance(balance):\n",
    "    if balance>=0:\n",
    "        return balance\n",
    "    else:\n",
    "        return 'negative'"
   ]
  },
  {
   "cell_type": "code",
   "execution_count": null,
   "id": "e9b02e0a",
   "metadata": {},
   "outputs": [],
   "source": [
    "get_balance(100)"
   ]
  },
  {
   "cell_type": "code",
   "execution_count": null,
   "id": "e4acf204",
   "metadata": {},
   "outputs": [],
   "source": [
    "get_balance2= lambda balance : balance if balance>=0 else 'negative'"
   ]
  },
  {
   "cell_type": "code",
   "execution_count": null,
   "id": "30277c7a",
   "metadata": {},
   "outputs": [],
   "source": [
    "get_balance2(-100)"
   ]
  },
  {
   "cell_type": "code",
   "execution_count": null,
   "id": "5098a5d8",
   "metadata": {},
   "outputs": [],
   "source": [
    "balance = - 500\n",
    "if balance>= 0:\n",
    "    result = balance\n",
    "else:\n",
    "    result ='negative'\n",
    "result"
   ]
  },
  {
   "cell_type": "code",
   "execution_count": null,
   "id": "b8fc3441",
   "metadata": {},
   "outputs": [],
   "source": [
    "balance = -500\n",
    "balance if balance>=0 else 'negative'\n",
    "# balance>=0 ? balance : 'negative'"
   ]
  },
  {
   "cell_type": "code",
   "execution_count": null,
   "id": "1c46ff2a",
   "metadata": {},
   "outputs": [],
   "source": [
    "# 아래의 함수도 람다식으로 바꿀 수 있음\n",
    "v= (1,2,3)\n",
    "def safe_index(vector,item):\n",
    "    if item in vector:\n",
    "        return vector.index(item)\n",
    "    else:\n",
    "        return -1\n",
    "safe_index(v,1), safe_index(v,4)"
   ]
  },
  {
   "cell_type": "code",
   "execution_count": null,
   "id": "aa1f34ca",
   "metadata": {},
   "outputs": [],
   "source": [
    "safe_index2 = lambda vector,item : vector.index(item) \\\n",
    "if item in vector else -1"
   ]
  },
  {
   "cell_type": "code",
   "execution_count": null,
   "id": "76565370",
   "metadata": {},
   "outputs": [],
   "source": [
    "safe_index2([1,2,3,4,],1), safe_index2((1,2,3),5)"
   ]
  },
  {
   "cell_type": "code",
   "execution_count": null,
   "id": "42e83b3a",
   "metadata": {},
   "outputs": [],
   "source": [
    "# 매개변수로 들어온 값이 짝수면 '짝수'를, 홀수면 '홀수'를 return 하는 lambda"
   ]
  },
  {
   "cell_type": "code",
   "execution_count": null,
   "id": "c36dc8d6",
   "metadata": {},
   "outputs": [],
   "source": [
    "odd_even = lambda num : '짝수' if num%2==0 else '홀수'"
   ]
  },
  {
   "cell_type": "code",
   "execution_count": null,
   "id": "2fc7a7b6",
   "metadata": {},
   "outputs": [],
   "source": [
    "odd_even (4)"
   ]
  },
  {
   "cell_type": "code",
   "execution_count": null,
   "id": "51e550cd",
   "metadata": {},
   "outputs": [],
   "source": [
    "def levelChk(score):\n",
    "    if score >=80:\n",
    "        return 'A'\n",
    "    elif score>=60:\n",
    "        return 'B'\n",
    "    else:\n",
    "        return 'retest'\n",
    "levelChk(65)"
   ]
  },
  {
   "cell_type": "code",
   "execution_count": null,
   "id": "a73c4a4d",
   "metadata": {},
   "outputs": [],
   "source": [
    "hakjum = lambda score : 'A' if score>=80 else ('B' if score>=70 else 'C')"
   ]
  },
  {
   "cell_type": "code",
   "execution_count": null,
   "id": "9f1806f1",
   "metadata": {},
   "outputs": [],
   "source": [
    "(hakjum(60),hakjum(90))"
   ]
  },
  {
   "cell_type": "code",
   "execution_count": null,
   "id": "6bd9c793",
   "metadata": {},
   "outputs": [],
   "source": [
    "hakjum2 = lambda score : 'A' if 100 >=score>= 90 else \\\n",
    "                         'B' if 90>score>=80 else \\\n",
    "                         'C' if 80>score>=70 else \\\n",
    "                         'D' if 70>score>=60 else \\\n",
    "                         'F' if 60>score>=0 else '유효하지 않은 점수입니다'"
   ]
  },
  {
   "cell_type": "code",
   "execution_count": null,
   "id": "470e4525",
   "metadata": {},
   "outputs": [],
   "source": [
    "hakjum2(100),hakjum2(80),hakjum2(70),hakjum2(60),hakjum2(50),hakjum2(120)"
   ]
  },
  {
   "cell_type": "code",
   "execution_count": null,
   "id": "6307c426",
   "metadata": {},
   "outputs": [],
   "source": [
    "add = lambda a,b : a+b\n",
    "sub = lambda a,b : a-b\n",
    "mul = lambda a,b : a*b\n",
    "div = lambda a,b : a/b if b!=0 else '두번째 인자가 0으로는 못나눕니다.'\n",
    "add(3,0), div(3,0)\n",
    "\n",
    "operations = [add, sub, mul, div]\n",
    "# 매개변수로 함수 list가 옴\n",
    "def act_operations(a,b,operations=operations):\n",
    "    result = []\n",
    "    for op in operations:\n",
    "        result.append(op(a,b))\n",
    "    return result\n",
    "#def pow(a,b):\n",
    "#    return a**b\n",
    "operations.append(lambda a,b : a**b) # 함수추가\n",
    "print(act_operations(10,2, [lambda a, b : a*b, lambda a, b :a**b]))"
   ]
  },
  {
   "cell_type": "code",
   "execution_count": null,
   "id": "78f32d37",
   "metadata": {},
   "outputs": [],
   "source": [
    "lst = [1,2,3]\n",
    "print([l**2 for l in lst])\n",
    "print([l for l in lst if l%2==0])\n"
   ]
  },
  {
   "cell_type": "code",
   "execution_count": null,
   "id": "fb57334b",
   "metadata": {},
   "outputs": [],
   "source": [
    "# act_operations의 함수를 리스트컴프리헨션을 이용하여 람다식 구현\n",
    "def act_operations (a,b,operations=operations):\n",
    "    return [op(a,b) for op in operations]\n",
    "act_operations = lambda a,b,operations=operations :\\\n",
    "                    [op(a,b) for op in operations]\n",
    "print(act_operations(5,2,[lambda a,b : a+b,lambda a,b : a**b]))\n",
    "operations.append(lambda a,b : a//b)\n",
    "print(act_operations(5,2))"
   ]
  },
  {
   "cell_type": "markdown",
   "id": "e9a0d9a1",
   "metadata": {},
   "source": [
    "## 4.2 함수의 매개변수(인수)에 람다식 사용\n"
   ]
  },
  {
   "cell_type": "code",
   "execution_count": 88,
   "id": "90c2505f",
   "metadata": {},
   "outputs": [],
   "source": [
    "def map_template(func, L=[]):\n",
    "    result=[]\n",
    "    for item in L :\n",
    "        result.append(func(item))\n",
    "    return result\n",
    "\n",
    "map_template = lambda func,L=[] : [func(l)  for l in L]\n"
   ]
  },
  {
   "cell_type": "code",
   "execution_count": 63,
   "id": "986cc141",
   "metadata": {},
   "outputs": [
    {
     "data": {
      "text/plain": [
       "[2, 4, 6, 8, 10, 12, 14, 16]"
      ]
     },
     "execution_count": 63,
     "metadata": {},
     "output_type": "execute_result"
    }
   ],
   "source": [
    "list_data = [1,2,3,4,5,6,7,8]\n",
    "#def x_2(x):\n",
    "#    return x*2\n",
    "#map_template(x_2, list_data)\n",
    "map_template(lambda x: x*2,list_data)"
   ]
  },
  {
   "cell_type": "code",
   "execution_count": 66,
   "id": "c6dcc1d7",
   "metadata": {},
   "outputs": [
    {
     "data": {
      "text/plain": [
       "[2, 4, 6, 8, 10, 12, 14, 16]"
      ]
     },
     "execution_count": 66,
     "metadata": {},
     "output_type": "execute_result"
    }
   ],
   "source": [
    "# 리스트 컴프리헨션\n",
    "[x*2 for x in list_data]"
   ]
  },
  {
   "cell_type": "code",
   "execution_count": 65,
   "id": "580b2e1a",
   "metadata": {},
   "outputs": [
    {
     "ename": "TypeError",
     "evalue": "'list' object is not callable",
     "output_type": "error",
     "traceback": [
      "\u001b[1;31m---------------------------------------------------------------------------\u001b[0m",
      "\u001b[1;31mTypeError\u001b[0m                                 Traceback (most recent call last)",
      "Cell \u001b[1;32mIn[65], line 1\u001b[0m\n\u001b[1;32m----> 1\u001b[0m \u001b[38;5;28;43mlist\u001b[39;49m\u001b[43m(\u001b[49m\u001b[38;5;28;43mmap\u001b[39;49m\u001b[43m(\u001b[49m\u001b[38;5;28;43;01mlambda\u001b[39;49;00m\u001b[43m \u001b[49m\u001b[43mx\u001b[49m\u001b[43m \u001b[49m\u001b[43m:\u001b[49m\u001b[43m \u001b[49m\u001b[43mx\u001b[49m\u001b[38;5;241;43m*\u001b[39;49m\u001b[38;5;241;43m2\u001b[39;49m\u001b[43m \u001b[49m\u001b[43m,\u001b[49m\u001b[43m \u001b[49m\u001b[43mlist_data\u001b[49m\u001b[43m)\u001b[49m\u001b[43m)\u001b[49m\n",
      "\u001b[1;31mTypeError\u001b[0m: 'list' object is not callable"
     ]
    }
   ],
   "source": [
    "list(map(lambda x : x*2 , list_data))"
   ]
  },
  {
   "cell_type": "code",
   "execution_count": null,
   "id": "e2d5fad3",
   "metadata": {},
   "outputs": [],
   "source": [
    "list(enumerate(list_data))"
   ]
  },
  {
   "cell_type": "code",
   "execution_count": 89,
   "id": "9e8950b4",
   "metadata": {},
   "outputs": [
    {
     "name": "stdout",
     "output_type": "stream",
     "text": [
      "2 4 6 8 10 12 14 16 "
     ]
    }
   ],
   "source": [
    "for x in map(lambda x:x*2, list_data):\n",
    "    print(x,end=' ')\n",
    "    "
   ]
  },
  {
   "cell_type": "code",
   "execution_count": null,
   "id": "c24938ff",
   "metadata": {},
   "outputs": [],
   "source": [
    "def filter_template(func,L=[]):\n",
    "    result=[]\n",
    "    for item in L :\n",
    "        if func(item):\n",
    "            result.append(item)\n",
    "    return result"
   ]
  },
  {
   "cell_type": "code",
   "execution_count": null,
   "id": "00a5d4f7",
   "metadata": {},
   "outputs": [],
   "source": [
    "def evenChk(value):\n",
    "        return value%2==0\n",
    "#    if value%2==0:\n",
    "#        return True\n",
    "#    else:\n",
    "#        retrun False\n",
    "filter_template(lambda x : x%2==0, L=list_data)"
   ]
  },
  {
   "cell_type": "code",
   "execution_count": null,
   "id": "736b6292",
   "metadata": {},
   "outputs": [],
   "source": [
    "# filter 함수 이용\n",
    "for item in filter(lambda x:x%2==0, list_data):\n",
    "    print(item, end=' ')"
   ]
  },
  {
   "cell_type": "code",
   "execution_count": 73,
   "id": "f24f8937",
   "metadata": {},
   "outputs": [
    {
     "data": {
      "text/plain": [
       "[2, 4, 6, 8]"
      ]
     },
     "execution_count": 73,
     "metadata": {},
     "output_type": "execute_result"
    }
   ],
   "source": [
    "# 리스트컴프리센션 이용 \n",
    "[x for x in list_data if x%2==0]"
   ]
  },
  {
   "cell_type": "code",
   "execution_count": null,
   "id": "9534c887",
   "metadata": {},
   "outputs": [],
   "source": [
    "# quiz : 다음 리스트에서 소수점 이하가 0인 수만 추출하시오\n",
    "# filter함수, 람다식 이용/filter_template / 리스트 컴프리헨션\n",
    "L=[1,1.2,1.5,2,3.0,10.5,100]\n",
    "x = 2\n",
    "#[1,2,3.0,100]\n",
    "print(x%1.0==0)\n",
    "print(x==round(x))\n",
    "print(x==x//1)"
   ]
  },
  {
   "cell_type": "code",
   "execution_count": null,
   "id": "6c2ade93",
   "metadata": {},
   "outputs": [],
   "source": [
    "# 1. filter함수 이용\n",
    "print(list(filter(lambda x:x%1.0==0,L)))\n",
    "print(list(filter(lambda x:x==round(x),L)))\n",
    "print(list(filter(lambda x:x==x//1,L)))\n",
    "# 2. filter_template 함수 이용\n",
    "print(filter_template(lambda x:x==round(x),L))\n",
    "# 3. 리스트 컴프리헨션 이용\n",
    "print([x for x in L if x==round(x)])"
   ]
  },
  {
   "cell_type": "markdown",
   "id": "d17a63fb",
   "metadata": {},
   "source": [
    "**람다식은 함수가 실행할 문장이 한문자의 return 문일 경우만 사용 **<br>\n",
    "**람다식이 가장 많이 사용되는 곳은 함수의 인수로 전달될 때** 나 함수를 return할 때"
   ]
  },
  {
   "cell_type": "code",
   "execution_count": null,
   "id": "1c2692fb",
   "metadata": {},
   "outputs": [],
   "source": [
    "# 예제2 : 베스트 셀러 list 를 가격순으로 sort\n",
    "p=[10,3,6,1]\n",
    "p.sort()# reverse =True # 내림차순\n",
    "p"
   ]
  },
  {
   "cell_type": "code",
   "execution_count": null,
   "id": "95be405d",
   "metadata": {},
   "outputs": [],
   "source": [
    "pairs = [(2,'two'),(1,'one'),(4,'four'),(9,'nine')]\n",
    "pairs.sort()\n",
    "pairs"
   ]
  },
  {
   "cell_type": "code",
   "execution_count": null,
   "id": "66cbd37f",
   "metadata": {},
   "outputs": [],
   "source": [
    "pairs.sort(key=lambda pair : pair[1],reverse=True)\n",
    "pairs"
   ]
  },
  {
   "cell_type": "code",
   "execution_count": null,
   "id": "db90405f",
   "metadata": {},
   "outputs": [],
   "source": [
    "students = [{'name':'홍','score':99},\n",
    "           {'name':'김','score':49},\n",
    "           {'name':'신','score':69},\n",
    "           {'name':'박','score':79}]"
   ]
  },
  {
   "cell_type": "code",
   "execution_count": null,
   "id": "794d6188",
   "metadata": {},
   "outputs": [],
   "source": []
  },
  {
   "cell_type": "code",
   "execution_count": null,
   "id": "53703b9c",
   "metadata": {},
   "outputs": [],
   "source": [
    "# student를 이름 ㄱㄴㄷ순 정렬\n",
    "students.sort(key = lambda student : student ['name'])\n",
    "students"
   ]
  },
  {
   "cell_type": "code",
   "execution_count": null,
   "id": "d38729cb",
   "metadata": {},
   "outputs": [],
   "source": [
    "# student를  score 순 내림차순 정렬\n",
    "students.sort(key = lambda score : score ['score'])\n",
    "students"
   ]
  },
  {
   "cell_type": "code",
   "execution_count": null,
   "id": "a1b7f919",
   "metadata": {},
   "outputs": [],
   "source": [
    "# student를  score 순 오름차순 정렬\n",
    "students.sort(key = lambda score : score.get('score'), reverse=True)\n",
    "students"
   ]
  },
  {
   "cell_type": "code",
   "execution_count": null,
   "id": "8f991bc2",
   "metadata": {},
   "outputs": [],
   "source": [
    "books = [{'no':1,'title':'소년이 온다', 'writer':'한강','price':'13,500'},\n",
    "        {'no':3,'title':'트럼프 2.0시대', 'writer':'박종훈','price':'18,000'},\n",
    "        {'no':2,'title':'트렌드코리아2025', 'writer':'김난도','price':'18,500'},\n",
    "        {'no':5,'title':'가격잘못', 'writer':'ㅁㅁㅁ','price':'ㅁ'},\n",
    "        {'no':4,'title':'가격이없음', 'writer':'신길동','price':'none'},]"
   ]
  },
  {
   "cell_type": "code",
   "execution_count": null,
   "id": "dfd834c0",
   "metadata": {},
   "outputs": [],
   "source": [
    "books.sort(key=lambda book:book['no'])\n",
    "books"
   ]
  },
  {
   "cell_type": "code",
   "execution_count": null,
   "id": "905c5bbe",
   "metadata": {},
   "outputs": [],
   "source": [
    "books = [{'no':1,'title':'소년이 온다', 'writer':'한강','price':'13,500'},\n",
    "        {'no':3,'title':'트럼프 2.0시대', 'writer':'박종훈','price':'18,000'},\n",
    "        {'no':2,'title':'트렌드코리아2025', 'writer':'김난도','price':'18,500'},\n",
    "        {'no':5,'title':'가격잘못', 'writer':'ㅁㅁㅁ','price':'ㅁ'},\n",
    "        {'no':4,'title':'가격이숫자', 'writer':'신길동', 'price': 9200},\n",
    "        {'no':6,'title':'가격이없음', 'writer':'신길동'}]"
   ]
  },
  {
   "cell_type": "code",
   "execution_count": null,
   "id": "84ad51c5",
   "metadata": {},
   "outputs": [],
   "source": [
    "books.sort(key=lambda book:book.get['price'])\n",
    "books"
   ]
  },
  {
   "cell_type": "code",
   "execution_count": null,
   "id": "bff04718",
   "metadata": {},
   "outputs": [],
   "source": [
    "# &: 논리연산, 비트연산, 집합연산이 모두 가능하므로, 좌항이 false\n",
    "# and : 논리연산\n",
    "def parse_int(price):\n",
    "    # print(type(price))\n",
    "    if isinstance(price, str) and price.replace(',','').isdigit():\n",
    "        return int(price.replace(',',''))\n",
    "    elif isinstance(price,int):\n",
    "        return price\n",
    "    else:\n",
    "        return 0"
   ]
  },
  {
   "cell_type": "code",
   "execution_count": null,
   "id": "6f1bd806",
   "metadata": {},
   "outputs": [],
   "source": [
    "print(parse_int('ㅁ'))\n",
    "print(parse_int(None))\n",
    "print(parse_int(9200))\n",
    "print(parse_int('13,500'))"
   ]
  },
  {
   "cell_type": "code",
   "execution_count": null,
   "id": "cb1b67ea",
   "metadata": {},
   "outputs": [],
   "source": [
    "testFunc= lambda book : int(book.get('price').replace(',','')) \\\n",
    "                            if isinstance(book.get('price'), str) and book.get('price').replace(',','').isdigit() \\\n",
    "                            else(book.get('price'))if isinstance(book.get('price'),int)\\\n",
    "                                 else 0\n",
    "\n",
    "[testFunc(book) for book in books]"
   ]
  },
  {
   "cell_type": "code",
   "execution_count": null,
   "id": "fd4dc2cb",
   "metadata": {},
   "outputs": [],
   "source": [
    "copyBooks = books.copy()\n",
    "copyBooks.sort(key= lambda book : int(book.get('price').replace(',',''))\\\n",
    "                if isinstance(book.get('price'),str)\\\n",
    "                and book.get('price').replace(',','').isdigit()\\\n",
    "                else(book.get('price') if isinstance(book.get('price'),int)else 0)\n",
    ")\n",
    "books"
   ]
  },
  {
   "cell_type": "code",
   "execution_count": null,
   "id": "37e4c9be",
   "metadata": {},
   "outputs": [],
   "source": [
    "# map(func, books)\n",
    "\n",
    "'''\n",
    "{'no': 3, 'title': '트럼프', 'writer': '박', 'price': '8,000'} 를 매개변수로 받아\n",
    "{'no': 3, 'title': '트럼프', 'writer': '박', 'price': 8000} 로 return\n",
    "'''"
   ]
  },
  {
   "cell_type": "code",
   "execution_count": null,
   "id": "aff57960",
   "metadata": {},
   "outputs": [],
   "source": [
    "def price_parse_int(book):\n",
    "    #book.get('price')를 정수 가격으로 바꾸기(방법1)\n",
    "    if isinstance (book.get('price'),str) and book.get('price').replace(',','').isdigit():\n",
    "        book['price'] = int(book['price'].replace(',',''))\n",
    "    elif isinstance(book.get('price'),int):\n",
    "        pass\n",
    "    else:\n",
    "        book['price']=0\n",
    "    return book\n",
    "    # book2 복사본을 만들어 books.get('price')를 정수 가격으로 바꾸기 (방법2)\n",
    "    #return book2"
   ]
  },
  {
   "cell_type": "code",
   "execution_count": null,
   "id": "c3a717a7",
   "metadata": {},
   "outputs": [],
   "source": [
    "def price_parse_int(book):\n",
    "    return{'no':book.get('no'),\n",
    "           'title':book.get('title'), \n",
    "            'writer': book.get('writer'), \n",
    "            'price': int(book['price'].replace(',',''))\\\n",
    "                if isinstance(book.get('price'),str) and \\\n",
    "                    book.get('price').replace(',','').isdigit()\\\n",
    "                else(book.get('price') if isinstance(book.get('price'),int)else 0)\n",
    "           }"
   ]
  },
  {
   "cell_type": "code",
   "execution_count": null,
   "id": "b93c08f8",
   "metadata": {},
   "outputs": [],
   "source": [
    "price_parse_int = lambda book: {'no':book.get('no'),\n",
    "           'title':book.get('title'), \n",
    "            'writer': book.get('writer'), \n",
    "            'price': int(book['price'].replace(',',''))\\\n",
    "                if isinstance(book.get('price'),str) and \\\n",
    "                    book.get('price').replace(',','').isdigit()\\\n",
    "                else(book.get('price') if isinstance(book.get('price'),int)else 0)\n",
    "           }\n"
   ]
  },
  {
   "cell_type": "code",
   "execution_count": null,
   "id": "387d83da",
   "metadata": {},
   "outputs": [],
   "source": [
    "bookTemp={'no': 3, 'title': '트럼프', 'writer': '박', 'price': ''}\n",
    "returnBook= price_parse_int(bookTemp)\n",
    "returnBook"
   ]
  },
  {
   "cell_type": "code",
   "execution_count": null,
   "id": "ff8bc9d6",
   "metadata": {},
   "outputs": [],
   "source": [
    "bookTemp"
   ]
  },
  {
   "cell_type": "code",
   "execution_count": null,
   "id": "88cc94e3",
   "metadata": {},
   "outputs": [],
   "source": [
    "newBooks = list(map(lambda book: {'no':book.get('no'),\n",
    "           'title':book.get('title'), \n",
    "            'writer': book.get('writer'), \n",
    "            'price': int(book['price'].replace(',',''))\\\n",
    "                if isinstance(book.get('price'),str) and \\\n",
    "                    book.get('price').replace(',','').isdigit()\\\n",
    "                else(book.get('price') if isinstance(book.get('price'),int)else 0)\n",
    "           },\n",
    "                   books\n",
    "                   ))"
   ]
  },
  {
   "cell_type": "code",
   "execution_count": null,
   "id": "0fa6d76d",
   "metadata": {},
   "outputs": [],
   "source": [
    "'''\n",
    "# 예제3. members =[{'name':'홍길동','birth':'2000-01-01'},\n",
    "    {'name':'홍길동','birth':'2000-01-01'},] 를\n",
    "   \n",
    "   members=[{'name':'홍길동','birth':'2000-01-01','year':2000,'month':1,'day':1},\n",
    "{'name':'홍길동','birth':'2000-01-01',,'year':2000,'month':1,'day':1},\n",
    "\n",
    "'''"
   ]
  },
  {
   "cell_type": "code",
   "execution_count": null,
   "id": "3f9eacaa",
   "metadata": {},
   "outputs": [],
   "source": [
    "members =[{'name':'홍길동','birth':'2000-01-01'},\n",
    "    {'name':'홍길동','birth':'2000-01-01'},] "
   ]
  },
  {
   "cell_type": "code",
   "execution_count": null,
   "id": "288572bc",
   "metadata": {},
   "outputs": [],
   "source": [
    "def split_date(date):\n",
    "    split_data = date.split('-')\n",
    "    return{'year' :int(split_data[0]),\n",
    "            'month' :int(split_data[1]),\n",
    "            'day' :int(split_data[2])}\n",
    "split_date('2001-01-08')"
   ]
  },
  {
   "cell_type": "code",
   "execution_count": null,
   "id": "c1e6fe0e",
   "metadata": {},
   "outputs": [],
   "source": [
    "def split_birth(member): # 'name','birth'\n",
    "    return{\n",
    "        'name':member.get('name'),\n",
    "        'year':int(member.get('birth').split('-')[0]),\n",
    "        'month':int(member.get('birth').split('-')[1]),\n",
    "        'day':int(member.get('birth').split('-')[2]),\n",
    "    }\n",
    "split_birth({'name':'홍길동','birth':'2000-01-01'})\n"
   ]
  },
  {
   "cell_type": "code",
   "execution_count": null,
   "id": "19599586",
   "metadata": {},
   "outputs": [],
   "source": [
    "split_birth = lambda member : {\n",
    "                    'name':member['name'],\n",
    "                    'year':int(member['birth'].split('-')[0]),\n",
    "                    'month':int(member.get('birth').split('-')[1]),\n",
    "                    'day':int(member.get('birth').split('-')[2]),\n",
    "}"
   ]
  },
  {
   "cell_type": "code",
   "execution_count": null,
   "id": "9122d3c6",
   "metadata": {},
   "outputs": [],
   "source": [
    "members = list(map(lambda member : {\n",
    "                    'name':member['name'],\n",
    "                    'year':int(member['birth'].split('-')[0]),\n",
    "                    'month':int(member.get('birth').split('-')[1]),\n",
    "                    'day':int(member.get('birth').split('-')[2]),\n",
    "},members))\n",
    "members"
   ]
  },
  {
   "cell_type": "code",
   "execution_count": null,
   "id": "c64cf7e1",
   "metadata": {},
   "outputs": [],
   "source": [
    "def join_date(date):\n",
    "    return '{year}-{month:02}-{day:02}'.format(**date)"
   ]
  },
  {
   "cell_type": "code",
   "execution_count": null,
   "id": "565ce825",
   "metadata": {},
   "outputs": [],
   "source": [
    "join_date({'year': 2000, 'month': 1, 'day': 1})"
   ]
  },
  {
   "cell_type": "code",
   "execution_count": null,
   "id": "4a7cb4b0",
   "metadata": {},
   "outputs": [],
   "source": [
    "def join_birth(member):\n",
    "    name= member['name']\n",
    "    del member ['name']\n",
    "    #print(member)\n",
    "    join_date = '{year}-{month:02}-{day:02}'.format(**member)\n",
    "    return {'name':name,\n",
    "           'birth':join_date}"
   ]
  },
  {
   "cell_type": "code",
   "execution_count": null,
   "id": "6781475b",
   "metadata": {},
   "outputs": [],
   "source": [
    "join_birth({'name':'kim','year':1995,'month':1,'day':2})"
   ]
  },
  {
   "cell_type": "code",
   "execution_count": null,
   "id": "d756af21",
   "metadata": {},
   "outputs": [],
   "source": [
    "members= list(map(join_birth, members))\n",
    "members"
   ]
  },
  {
   "cell_type": "markdown",
   "id": "36009413",
   "metadata": {},
   "source": [
    "## 4.3 return문의 람다식 사용"
   ]
  },
  {
   "cell_type": "code",
   "execution_count": null,
   "id": "c0a1aeb5",
   "metadata": {},
   "outputs": [],
   "source": [
    "def apply(data, func =None):\n",
    "    # if func == None:\n",
    "    if func is None:\n",
    "        return data\n",
    "    else:\n",
    "        return func(data)"
   ]
  },
  {
   "cell_type": "code",
   "execution_count": null,
   "id": "1b1086a4",
   "metadata": {},
   "outputs": [],
   "source": [
    "print(apply(2))\n",
    "print(apply(2,lambda x:x**3))"
   ]
  },
  {
   "cell_type": "code",
   "execution_count": null,
   "id": "6ad4f165",
   "metadata": {},
   "outputs": [],
   "source": [
    "# 함수를 return\n",
    "'''\n",
    "make_box([2,3]) => 2차원 2행 3열짜리 list 를 만드는 함수를 return\n",
    "    fun= make_box([2,3])\n",
    "    fun(5) => [[5,5,5],[5,5,5]]\n",
    "make_box((2,)) => 1차원 2열짜리 list를 만드는 함수를 return\n",
    "    fun = make_box([2])\n",
    "    fun(7) => [7,7]\n",
    "'''\n",
    "\n",
    "def make_box(shape): #[x],[x,y]\n",
    "    def box(init_value):\n",
    "        if len(shape)==1:\n",
    "            return [init_value]*shape[0]\n",
    "        elif len(shape)==2:\n",
    "            return [[init_value]*shape[1]]*shape[0]\n",
    "    return box"
   ]
  },
  {
   "cell_type": "code",
   "execution_count": null,
   "id": "05047bb1",
   "metadata": {},
   "outputs": [],
   "source": [
    "def make_box(shape):\n",
    "    if len(shape)==1:\n",
    "        return lambda init_value : [init_value]*shape[0]\n",
    "    elif len(shape)==2:\n",
    "        return lambda init_value :[[init_value]*shape[1]]*shape[0]"
   ]
  },
  {
   "cell_type": "code",
   "execution_count": null,
   "id": "2ef8ecd0",
   "metadata": {},
   "outputs": [],
   "source": [
    "line_fun = make_box((3,))\n",
    "line_fun(5)"
   ]
  },
  {
   "cell_type": "code",
   "execution_count": null,
   "id": "fdd255e9",
   "metadata": {},
   "outputs": [],
   "source": [
    "box2d_fun = make_box((4,3))\n",
    "box2d_fun(5)"
   ]
  },
  {
   "cell_type": "markdown",
   "id": "90a22288",
   "metadata": {},
   "source": [
    "# 5절. 파이썬 내장함수\n",
    "- import하지 않고 바로 사용 가능한 함수\n",
    "- keyword처럼 간주되므로, 식별자로 사용하는 것을 피한다"
   ]
  },
  {
   "cell_type": "code",
   "execution_count": 3,
   "id": "7695391f",
   "metadata": {},
   "outputs": [
    {
     "data": {
      "text/plain": [
       "{'__name__': '__main__',\n",
       " '__doc__': 'Automatically created module for IPython interactive environment',\n",
       " '__package__': None,\n",
       " '__loader__': None,\n",
       " '__spec__': None,\n",
       " '__builtin__': <module 'builtins' (built-in)>,\n",
       " '__builtins__': <module 'builtins' (built-in)>,\n",
       " '_ih': ['',\n",
       "  'from IPython.display import display, HTML\\ndisplay(HTML(\"\"\"\\n<style>\\ndiv.container{width:80% !important;}\\ndiv.CodeMirror {font-family:Consolas; font-size:12pt;}\\ndiv.output {font-size:12pt; font-weight:bold;}\\ndiv.input {font-family:Consolas; font-size:12pt;}\\ndiv.prompt {min-width:70px;}\\ndiv#toc-header{margin-top:150px;}\\n.cm-s-ipython span.cm-comment{font-size:12pt; font-style:normal; color:orange;}\\n.ansi-yellow-bg{color:black;font-size:15pt;}\\n\\n</style>\\n<style>\\nspan.toc-item-num{display:none;}\\n</style>\\n\"\"\"))',\n",
       "  'from IPython.display import display, HTML\\ndisplay(HTML(\"\"\"\\n<style>\\ndiv.container{width:80% !important;}\\ndiv.CodeMirror {font-family:Consolas; font-size:12pt;}\\ndiv.output {font-size:12pt; font-weight:bold;}\\ndiv.input {font-family:Consolas; font-size:12pt;}\\ndiv.prompt {min-width:70px;}\\ndiv#toc-header{margin-top:150px;}\\n.cm-s-ipython span.cm-comment{font-size:12pt; font-style:normal; color:orange;}\\n.ansi-yellow-bg{color:black;font-size:15pt;}\\n\\n</style>\\n<style>\\nspan.toc-item-num{display:none;}\\n</style>\\n\"\"\"))',\n",
       "  'globals()'],\n",
       " '_oh': {},\n",
       " '_dh': [WindowsPath('D:/ai/source/07_python')],\n",
       " 'In': ['',\n",
       "  'from IPython.display import display, HTML\\ndisplay(HTML(\"\"\"\\n<style>\\ndiv.container{width:80% !important;}\\ndiv.CodeMirror {font-family:Consolas; font-size:12pt;}\\ndiv.output {font-size:12pt; font-weight:bold;}\\ndiv.input {font-family:Consolas; font-size:12pt;}\\ndiv.prompt {min-width:70px;}\\ndiv#toc-header{margin-top:150px;}\\n.cm-s-ipython span.cm-comment{font-size:12pt; font-style:normal; color:orange;}\\n.ansi-yellow-bg{color:black;font-size:15pt;}\\n\\n</style>\\n<style>\\nspan.toc-item-num{display:none;}\\n</style>\\n\"\"\"))',\n",
       "  'from IPython.display import display, HTML\\ndisplay(HTML(\"\"\"\\n<style>\\ndiv.container{width:80% !important;}\\ndiv.CodeMirror {font-family:Consolas; font-size:12pt;}\\ndiv.output {font-size:12pt; font-weight:bold;}\\ndiv.input {font-family:Consolas; font-size:12pt;}\\ndiv.prompt {min-width:70px;}\\ndiv#toc-header{margin-top:150px;}\\n.cm-s-ipython span.cm-comment{font-size:12pt; font-style:normal; color:orange;}\\n.ansi-yellow-bg{color:black;font-size:15pt;}\\n\\n</style>\\n<style>\\nspan.toc-item-num{display:none;}\\n</style>\\n\"\"\"))',\n",
       "  'globals()'],\n",
       " 'Out': {},\n",
       " 'get_ipython': <bound method InteractiveShell.get_ipython of <ipykernel.zmqshell.ZMQInteractiveShell object at 0x0000019DB58D1060>>,\n",
       " 'exit': <IPython.core.autocall.ZMQExitAutocall at 0x19db58d3160>,\n",
       " 'quit': <IPython.core.autocall.ZMQExitAutocall at 0x19db58d3160>,\n",
       " 'open': <function io.open(file, mode='r', buffering=-1, encoding=None, errors=None, newline=None, closefd=True, opener=None)>,\n",
       " '_': '',\n",
       " '__': '',\n",
       " '___': '',\n",
       " 'json': <module 'json' from 'C:\\\\Users\\\\4545\\\\anaconda3\\\\lib\\\\json\\\\__init__.py'>,\n",
       " 'autopep8': <module 'autopep8' from 'C:\\\\Users\\\\4545\\\\anaconda3\\\\lib\\\\site-packages\\\\autopep8.py'>,\n",
       " 'yapf_reformat': <function __main__.yapf_reformat(cell_text)>,\n",
       " '_i': 'from IPython.display import display, HTML\\ndisplay(HTML(\"\"\"\\n<style>\\ndiv.container{width:80% !important;}\\ndiv.CodeMirror {font-family:Consolas; font-size:12pt;}\\ndiv.output {font-size:12pt; font-weight:bold;}\\ndiv.input {font-family:Consolas; font-size:12pt;}\\ndiv.prompt {min-width:70px;}\\ndiv#toc-header{margin-top:150px;}\\n.cm-s-ipython span.cm-comment{font-size:12pt; font-style:normal; color:orange;}\\n.ansi-yellow-bg{color:black;font-size:15pt;}\\n\\n</style>\\n<style>\\nspan.toc-item-num{display:none;}\\n</style>\\n\"\"\"))',\n",
       " '_ii': 'from IPython.display import display, HTML\\ndisplay(HTML(\"\"\"\\n<style>\\ndiv.container{width:80% !important;}\\ndiv.CodeMirror {font-family:Consolas; font-size:12pt;}\\ndiv.output {font-size:12pt; font-weight:bold;}\\ndiv.input {font-family:Consolas; font-size:12pt;}\\ndiv.prompt {min-width:70px;}\\ndiv#toc-header{margin-top:150px;}\\n.cm-s-ipython span.cm-comment{font-size:12pt; font-style:normal; color:orange;}\\n.ansi-yellow-bg{color:black;font-size:15pt;}\\n\\n</style>\\n<style>\\nspan.toc-item-num{display:none;}\\n</style>\\n\"\"\"))',\n",
       " '_iii': '',\n",
       " '_i1': 'from IPython.display import display, HTML\\ndisplay(HTML(\"\"\"\\n<style>\\ndiv.container{width:80% !important;}\\ndiv.CodeMirror {font-family:Consolas; font-size:12pt;}\\ndiv.output {font-size:12pt; font-weight:bold;}\\ndiv.input {font-family:Consolas; font-size:12pt;}\\ndiv.prompt {min-width:70px;}\\ndiv#toc-header{margin-top:150px;}\\n.cm-s-ipython span.cm-comment{font-size:12pt; font-style:normal; color:orange;}\\n.ansi-yellow-bg{color:black;font-size:15pt;}\\n\\n</style>\\n<style>\\nspan.toc-item-num{display:none;}\\n</style>\\n\"\"\"))',\n",
       " 'display': <function IPython.core.display_functions.display(*objs, include=None, exclude=None, metadata=None, transient=None, display_id=None, raw=False, clear=False, **kwargs)>,\n",
       " 'HTML': IPython.core.display.HTML,\n",
       " '_i2': 'from IPython.display import display, HTML\\ndisplay(HTML(\"\"\"\\n<style>\\ndiv.container{width:80% !important;}\\ndiv.CodeMirror {font-family:Consolas; font-size:12pt;}\\ndiv.output {font-size:12pt; font-weight:bold;}\\ndiv.input {font-family:Consolas; font-size:12pt;}\\ndiv.prompt {min-width:70px;}\\ndiv#toc-header{margin-top:150px;}\\n.cm-s-ipython span.cm-comment{font-size:12pt; font-style:normal; color:orange;}\\n.ansi-yellow-bg{color:black;font-size:15pt;}\\n\\n</style>\\n<style>\\nspan.toc-item-num{display:none;}\\n</style>\\n\"\"\"))',\n",
       " '_i3': 'globals()'}"
      ]
     },
     "execution_count": 3,
     "metadata": {},
     "output_type": "execute_result"
    }
   ],
   "source": [
    "globals()"
   ]
  },
  {
   "cell_type": "code",
   "execution_count": 5,
   "id": "9b975edc",
   "metadata": {},
   "outputs": [],
   "source": [
    "# abc(7)=> [0,1,2,3,4,5,6]\n",
    "def abc(n):\n",
    "    L = []\n",
    "    for i in range(n):\n",
    "        L.append(i)\n",
    "    print(locals()) # 지역변수들을 출력\n",
    "    return L"
   ]
  },
  {
   "cell_type": "code",
   "execution_count": 6,
   "id": "a6ad90a5",
   "metadata": {},
   "outputs": [
    {
     "name": "stdout",
     "output_type": "stream",
     "text": [
      "{'n': 7, 'L': [0, 1, 2, 3, 4, 5, 6], 'i': 6}\n"
     ]
    },
    {
     "data": {
      "text/plain": [
       "[0, 1, 2, 3, 4, 5, 6]"
      ]
     },
     "execution_count": 6,
     "metadata": {},
     "output_type": "execute_result"
    }
   ],
   "source": [
    "abc(7)"
   ]
  },
  {
   "cell_type": "code",
   "execution_count": 7,
   "id": "59523e61",
   "metadata": {},
   "outputs": [
    {
     "data": {
      "text/plain": [
       "True"
      ]
     },
     "execution_count": 7,
     "metadata": {},
     "output_type": "execute_result"
    }
   ],
   "source": [
    "isinstance(3.5,float)"
   ]
  },
  {
   "cell_type": "code",
   "execution_count": 10,
   "id": "579f32e4",
   "metadata": {},
   "outputs": [],
   "source": [
    "class Person:\n",
    "    def __init__(self,name,age):\n",
    "        self.name = name\n",
    "        self.age = age\n",
    "    def print_info(self):\n",
    "        # 객체의 정보를 출력\n",
    "        print(\"이름은{}, 나이는{}\".format(self.name,self.age))"
   ]
  },
  {
   "cell_type": "code",
   "execution_count": 13,
   "id": "cb7c2a53",
   "metadata": {},
   "outputs": [
    {
     "name": "stdout",
     "output_type": "stream",
     "text": [
      "이름은홍길동, 나이는30\n"
     ]
    }
   ],
   "source": [
    "p = Person('홍길동',30)\n",
    "p.print_info()"
   ]
  },
  {
   "cell_type": "code",
   "execution_count": 14,
   "id": "c791f0fa",
   "metadata": {},
   "outputs": [
    {
     "data": {
      "text/plain": [
       "('홍길동', 30)"
      ]
     },
     "execution_count": 14,
     "metadata": {},
     "output_type": "execute_result"
    }
   ],
   "source": [
    "p.name,p.age\n"
   ]
  },
  {
   "cell_type": "code",
   "execution_count": 16,
   "id": "049c0a51",
   "metadata": {},
   "outputs": [
    {
     "data": {
      "text/plain": [
       "True"
      ]
     },
     "execution_count": 16,
     "metadata": {},
     "output_type": "execute_result"
    }
   ],
   "source": [
    "isinstance(p,Person)"
   ]
  },
  {
   "cell_type": "code",
   "execution_count": 17,
   "id": "901e88e1",
   "metadata": {},
   "outputs": [
    {
     "data": {
      "text/plain": [
       "['__class__',\n",
       " '__delattr__',\n",
       " '__dict__',\n",
       " '__dir__',\n",
       " '__doc__',\n",
       " '__eq__',\n",
       " '__format__',\n",
       " '__ge__',\n",
       " '__getattribute__',\n",
       " '__gt__',\n",
       " '__hash__',\n",
       " '__init__',\n",
       " '__init_subclass__',\n",
       " '__le__',\n",
       " '__lt__',\n",
       " '__module__',\n",
       " '__ne__',\n",
       " '__new__',\n",
       " '__reduce__',\n",
       " '__reduce_ex__',\n",
       " '__repr__',\n",
       " '__setattr__',\n",
       " '__sizeof__',\n",
       " '__str__',\n",
       " '__subclasshook__',\n",
       " '__weakref__',\n",
       " 'print_info']"
      ]
     },
     "execution_count": 17,
     "metadata": {},
     "output_type": "execute_result"
    }
   ],
   "source": [
    "dir(Person)\n"
   ]
  },
  {
   "cell_type": "code",
   "execution_count": 19,
   "id": "ac9a53cf",
   "metadata": {},
   "outputs": [
    {
     "data": {
      "text/plain": [
       "False"
      ]
     },
     "execution_count": 19,
     "metadata": {},
     "output_type": "execute_result"
    }
   ],
   "source": [
    "all([True,True,True,False]) # all : 모든 요소가 True인지 여부"
   ]
  },
  {
   "cell_type": "code",
   "execution_count": 20,
   "id": "6dbeae92",
   "metadata": {},
   "outputs": [
    {
     "data": {
      "text/plain": [
       "4"
      ]
     },
     "execution_count": 20,
     "metadata": {},
     "output_type": "execute_result"
    }
   ],
   "source": [
    "round(3.5)"
   ]
  },
  {
   "cell_type": "code",
   "execution_count": 23,
   "id": "ba2356aa",
   "metadata": {},
   "outputs": [
    {
     "data": {
      "text/plain": [
       "4.0"
      ]
     },
     "execution_count": 23,
     "metadata": {},
     "output_type": "execute_result"
    }
   ],
   "source": [
    "import numpy\n",
    "numpy.round(3.5)"
   ]
  },
  {
   "cell_type": "markdown",
   "id": "e5d8269b",
   "metadata": {},
   "source": [
    "# 6절 연습문제"
   ]
  },
  {
   "cell_type": "markdown",
   "id": "6e883cce",
   "metadata": {},
   "source": [
    "## 실습형"
   ]
  },
  {
   "cell_type": "code",
   "execution_count": 23,
   "id": "7c653845",
   "metadata": {},
   "outputs": [],
   "source": [
    "def get_max_min(data_list):\n",
    "    return max(data_list),min(data_list)"
   ]
  },
  {
   "cell_type": "code",
   "execution_count": 25,
   "id": "fc4dd163",
   "metadata": {},
   "outputs": [
    {
     "data": {
      "text/plain": [
       "(7, 1)"
      ]
     },
     "execution_count": 25,
     "metadata": {},
     "output_type": "execute_result"
    }
   ],
   "source": [
    "data_list=[1,2,3,4,6,7]\n",
    "get_max_min(data_list)"
   ]
  },
  {
   "cell_type": "code",
   "execution_count": 186,
   "id": "bcee1283",
   "metadata": {},
   "outputs": [
    {
     "data": {
      "text/plain": [
       "'표준'"
      ]
     },
     "execution_count": 186,
     "metadata": {},
     "output_type": "execute_result"
    }
   ],
   "source": [
    "def BMI(kg,m):\n",
    "    bmi_value= kg / (m*m)\n",
    "\n",
    "    if bmi_value<18.5:\n",
    "        return '마른체형'\n",
    "    elif 18.5<=bmi_value<25:\n",
    "        return '표준'\n",
    "    elif 25<=bmi_value<30:\n",
    "        return '비만'\n",
    "    else:\n",
    "        '고도비만'\n",
    "BMI(60, 1.64)"
   ]
  },
  {
   "cell_type": "code",
   "execution_count": 200,
   "id": "ad0c1193",
   "metadata": {},
   "outputs": [
    {
     "data": {
      "text/plain": [
       "(7.5, 13.8309518948453)"
      ]
     },
     "execution_count": 200,
     "metadata": {},
     "output_type": "execute_result"
    }
   ],
   "source": [
    "import math\n",
    "\n",
    "def get_triangle(width,height):\n",
    "    c= math.sqrt(width**2 + height**2)\n",
    "    return(width*height/2),(width+height+c)\n",
    "\n",
    "    \n",
    "get_triangle(3,5)"
   ]
  },
  {
   "cell_type": "code",
   "execution_count": 182,
   "id": "5015b1cf",
   "metadata": {},
   "outputs": [
    {
     "data": {
      "text/plain": [
       "15"
      ]
     },
     "execution_count": 182,
     "metadata": {},
     "output_type": "execute_result"
    }
   ],
   "source": [
    "def mysum(From, end):\n",
    "    total = 0\n",
    "    for i in range(From,end+1):\n",
    "        total += i\n",
    "    return total\n",
    "mysum(1,5)"
   ]
  },
  {
   "cell_type": "code",
   "execution_count": 194,
   "id": "8a24896c",
   "metadata": {},
   "outputs": [
    {
     "name": "stdout",
     "output_type": "stream",
     "text": [
      "['seo', 'dae', 'kwa', 'jej']\n"
     ]
    }
   ],
   "source": [
    "list=['seoul','daegu','kwangju','jeju']\n",
    "\n",
    "def get_abbrs(list):\n",
    "    return [lst[:3] for lst in list]\n",
    "    \n",
    "print(get_abbrs(list))"
   ]
  },
  {
   "cell_type": "code",
   "execution_count": 58,
   "id": "503412d6",
   "metadata": {},
   "outputs": [
    {
     "data": {
      "text/plain": [
       "27"
      ]
     },
     "execution_count": 58,
     "metadata": {},
     "output_type": "execute_result"
    }
   ],
   "source": [
    "f = lambda x,y : x ** y\n",
    "f(3,3)"
   ]
  },
  {
   "cell_type": "code",
   "execution_count": 97,
   "id": "457362c8",
   "metadata": {},
   "outputs": [
    {
     "name": "stdout",
     "output_type": "stream",
     "text": [
      "1\n",
      "4\n",
      "9\n",
      "16\n",
      "25\n"
     ]
    },
    {
     "data": {
      "text/plain": [
       "[1, 4, 9, 16, 25]"
      ]
     },
     "execution_count": 97,
     "metadata": {},
     "output_type": "execute_result"
    }
   ],
   "source": [
    "ex = [1,2,3,4,5]\n",
    "\n",
    "for x in map(lambda x:x*x, ex):\n",
    "    print(x,end=' ')\n",
    "\n",
    "[x*x for x in ex]"
   ]
  },
  {
   "cell_type": "code",
   "execution_count": 100,
   "id": "54f1236d",
   "metadata": {},
   "outputs": [
    {
     "name": "stdout",
     "output_type": "stream",
     "text": [
      "1 2 3\n",
      "[1, 2, 3]\n"
     ]
    }
   ],
   "source": [
    "a = [1,2,3]\n",
    "print(*a)\n",
    "print(a)"
   ]
  },
  {
   "cell_type": "code",
   "execution_count": 204,
   "id": "9bdc6166",
   "metadata": {},
   "outputs": [
    {
     "data": {
      "text/plain": [
       "'2019-09-06'"
      ]
     },
     "execution_count": 204,
     "metadata": {},
     "output_type": "execute_result"
    }
   ],
   "source": [
    "date_info = {'year':2019,'month':9,'day':6}\n",
    "result = \"{year}-{month:>02}-{day:>02}\".format(**date_info)\n",
    "result"
   ]
  },
  {
   "cell_type": "code",
   "execution_count": 205,
   "id": "77c7f5c3",
   "metadata": {},
   "outputs": [
    {
     "ename": "NameError",
     "evalue": "name 'vector_size_check' is not defined",
     "output_type": "error",
     "traceback": [
      "\u001b[1;31m---------------------------------------------------------------------------\u001b[0m",
      "\u001b[1;31mNameError\u001b[0m                                 Traceback (most recent call last)",
      "Cell \u001b[1;32mIn[205], line 1\u001b[0m\n\u001b[1;32m----> 1\u001b[0m \u001b[43mvector_size_check\u001b[49m(\u001b[38;5;241m*\u001b[39mvector_var)\n",
      "\u001b[1;31mNameError\u001b[0m: name 'vector_size_check' is not defined"
     ]
    }
   ],
   "source": [
    "vector_size_check(*vector_var)"
   ]
  },
  {
   "cell_type": "code",
   "execution_count": null,
   "id": "20569545",
   "metadata": {},
   "outputs": [],
   "source": []
  },
  {
   "cell_type": "markdown",
   "id": "732ec171",
   "metadata": {},
   "source": [
    "## 서술형"
   ]
  },
  {
   "cell_type": "code",
   "execution_count": 106,
   "id": "270d764e",
   "metadata": {},
   "outputs": [
    {
     "name": "stdout",
     "output_type": "stream",
     "text": [
      "902"
     ]
    }
   ],
   "source": [
    "def mapping(addr):\n",
    "    table=[1,2,5,9,6,4,0,3,8,7]\n",
    "    return table[addr//SIZE]\n",
    "SIZE=20\n",
    "group = [9,8,7,6,5,4,3,2,1,0]\n",
    "loc=[127,64,188]\n",
    "for a,b in enumerate(loc):\n",
    "    print(group[mapping(loc[a])],end='')"
   ]
  },
  {
   "cell_type": "code",
   "execution_count": 140,
   "id": "dab68913",
   "metadata": {},
   "outputs": [
    {
     "name": "stdout",
     "output_type": "stream",
     "text": [
      "6"
     ]
    },
    {
     "ename": "UnboundLocalError",
     "evalue": "local variable 'a' referenced before assignment",
     "output_type": "error",
     "traceback": [
      "\u001b[1;31m---------------------------------------------------------------------------\u001b[0m",
      "\u001b[1;31mUnboundLocalError\u001b[0m                         Traceback (most recent call last)",
      "Cell \u001b[1;32mIn[140], line 13\u001b[0m\n\u001b[0;32m     11\u001b[0m         sub()\n\u001b[0;32m     12\u001b[0m         a\u001b[38;5;241m+\u001b[39m\u001b[38;5;241m=\u001b[39m\u001b[38;5;241m1\u001b[39m\n\u001b[1;32m---> 13\u001b[0m \u001b[43mfunc\u001b[49m\u001b[43m(\u001b[49m\u001b[43m)\u001b[49m\n",
      "Cell \u001b[1;32mIn[140], line 11\u001b[0m, in \u001b[0;36mfunc\u001b[1;34m()\u001b[0m\n\u001b[0;32m      9\u001b[0m a \u001b[38;5;241m+\u001b[39m\u001b[38;5;241m=\u001b[39m \u001b[38;5;241m1\u001b[39m\n\u001b[0;32m     10\u001b[0m \u001b[38;5;28mprint\u001b[39m(a,end\u001b[38;5;241m=\u001b[39m\u001b[38;5;124m'\u001b[39m\u001b[38;5;124m'\u001b[39m)\n\u001b[1;32m---> 11\u001b[0m \u001b[43msub\u001b[49m\u001b[43m(\u001b[49m\u001b[43m)\u001b[49m\n\u001b[0;32m     12\u001b[0m a\u001b[38;5;241m+\u001b[39m\u001b[38;5;241m=\u001b[39m\u001b[38;5;241m1\u001b[39m\n",
      "Cell \u001b[1;32mIn[140], line 3\u001b[0m, in \u001b[0;36msub\u001b[1;34m()\u001b[0m\n\u001b[0;32m      2\u001b[0m \u001b[38;5;28;01mdef\u001b[39;00m \u001b[38;5;21msub\u001b[39m():\n\u001b[1;32m----> 3\u001b[0m     a \u001b[38;5;241m+\u001b[39m\u001b[38;5;241m=\u001b[39m\u001b[38;5;241m1\u001b[39m\n\u001b[0;32m      4\u001b[0m     \u001b[38;5;28mprint\u001b[39m(a,end\u001b[38;5;241m=\u001b[39m\u001b[38;5;124m'\u001b[39m\u001b[38;5;124m'\u001b[39m)\n",
      "\u001b[1;31mUnboundLocalError\u001b[0m: local variable 'a' referenced before assignment"
     ]
    }
   ],
   "source": [
    "a = 10\n",
    "def sub():\n",
    "    a +=1\n",
    "    print(a,end='')\n",
    "\n",
    "def func():\n",
    "    for i in range(2):\n",
    "        a = 5\n",
    "        a += 1\n",
    "        print(a,end='')\n",
    "        sub()\n",
    "        a+=1\n",
    "func()\n",
    "    "
   ]
  },
  {
   "cell_type": "code",
   "execution_count": 120,
   "id": "df01974c",
   "metadata": {},
   "outputs": [
    {
     "name": "stdout",
     "output_type": "stream",
     "text": [
      "100\n"
     ]
    }
   ],
   "source": [
    "var = 100\n",
    "def func(var):\n",
    "    var=200\n",
    "func(var)\n",
    "print(var)"
   ]
  },
  {
   "cell_type": "code",
   "execution_count": 122,
   "id": "d4844b9c",
   "metadata": {},
   "outputs": [
    {
     "data": {
      "text/plain": [
       "5"
      ]
     },
     "execution_count": 122,
     "metadata": {},
     "output_type": "execute_result"
    }
   ],
   "source": [
    "def my_func(func,*args):\n",
    "    return func(*args)\n",
    "import numpy as np\n",
    "my_func(np.add,2,3)"
   ]
  },
  {
   "cell_type": "code",
   "execution_count": 124,
   "id": "b02fecc1",
   "metadata": {},
   "outputs": [
    {
     "data": {
      "text/plain": [
       "9"
      ]
     },
     "execution_count": 124,
     "metadata": {},
     "output_type": "execute_result"
    }
   ],
   "source": [
    "def my_func(func,*args):\n",
    "    return func(*args)\n",
    "my_func(lambda a,b : a**b,3,2)"
   ]
  },
  {
   "cell_type": "code",
   "execution_count": 125,
   "id": "ac7ae35c",
   "metadata": {},
   "outputs": [
    {
     "data": {
      "text/plain": [
       "1"
      ]
     },
     "execution_count": 125,
     "metadata": {},
     "output_type": "execute_result"
    }
   ],
   "source": [
    "1"
   ]
  },
  {
   "cell_type": "code",
   "execution_count": 130,
   "id": "4f94078f",
   "metadata": {},
   "outputs": [
    {
     "ename": "TypeError",
     "evalue": "func() got multiple values for argument 'a'",
     "output_type": "error",
     "traceback": [
      "\u001b[1;31m---------------------------------------------------------------------------\u001b[0m",
      "\u001b[1;31mTypeError\u001b[0m                                 Traceback (most recent call last)",
      "Cell \u001b[1;32mIn[130], line 7\u001b[0m\n\u001b[0;32m      5\u001b[0m     L\u001b[38;5;241m.\u001b[39mappend(a)\n\u001b[0;32m      6\u001b[0m     \u001b[38;5;28;01mreturn\u001b[39;00m L\n\u001b[1;32m----> 7\u001b[0m \u001b[43mfunc\u001b[49m\u001b[43m(\u001b[49m\u001b[43m[\u001b[49m\u001b[43m]\u001b[49m\u001b[43m,\u001b[49m\u001b[43ma\u001b[49m\u001b[38;5;241;43m=\u001b[39;49m\u001b[38;5;241;43m40\u001b[39;49m\u001b[43m)\u001b[49m\n",
      "\u001b[1;31mTypeError\u001b[0m: func() got multiple values for argument 'a'"
     ]
    }
   ],
   "source": [
    "list_=[]\n",
    "def func(a,L=None):\n",
    "    if L is None:\n",
    "        L=[]\n",
    "    L.append(a)\n",
    "    return L\n",
    "func([],a=40)"
   ]
  },
  {
   "cell_type": "code",
   "execution_count": 131,
   "id": "52f3b8ff",
   "metadata": {},
   "outputs": [
    {
     "ename": "SyntaxError",
     "evalue": "invalid syntax (864088669.py, line 1)",
     "output_type": "error",
     "traceback": [
      "\u001b[1;36m  Cell \u001b[1;32mIn[131], line 1\u001b[1;36m\u001b[0m\n\u001b[1;33m    lambda\u001b[0m\n\u001b[1;37m          ^\u001b[0m\n\u001b[1;31mSyntaxError\u001b[0m\u001b[1;31m:\u001b[0m invalid syntax\n"
     ]
    }
   ],
   "source": [
    "lambda"
   ]
  },
  {
   "cell_type": "code",
   "execution_count": 134,
   "id": "b2210f72",
   "metadata": {},
   "outputs": [
    {
     "data": {
      "text/plain": [
       "[(4, 'a'), (3, 'b'), (2, 'c'), (1, 'd')]"
      ]
     },
     "execution_count": 134,
     "metadata": {},
     "output_type": "execute_result"
    }
   ],
   "source": [
    "pairs = [(1,'d'),(2,'c'),(3,'b'),(4,'a')]\n",
    "pairs.sort(key=lambda pair:pair[1])\n",
    "pairs"
   ]
  }
 ],
 "metadata": {
  "kernelspec": {
   "display_name": "Python 3 (ipykernel)",
   "language": "python",
   "name": "python3"
  },
  "language_info": {
   "codemirror_mode": {
    "name": "ipython",
    "version": 3
   },
   "file_extension": ".py",
   "mimetype": "text/x-python",
   "name": "python",
   "nbconvert_exporter": "python",
   "pygments_lexer": "ipython3",
   "version": "3.10.9"
  },
  "toc": {
   "base_numbering": 1,
   "nav_menu": {},
   "number_sections": true,
   "sideBar": true,
   "skip_h1_title": false,
   "title_cell": "Table of Contents",
   "title_sidebar": "Contents",
   "toc_cell": false,
   "toc_position": {
    "height": "calc(100% - 180px)",
    "left": "10px",
    "top": "150px",
    "width": "221px"
   },
   "toc_section_display": true,
   "toc_window_display": true
  }
 },
 "nbformat": 4,
 "nbformat_minor": 5
}
