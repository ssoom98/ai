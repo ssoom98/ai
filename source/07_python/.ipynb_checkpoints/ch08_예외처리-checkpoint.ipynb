{
 "cells": [
  {
   "cell_type": "code",
   "execution_count": 2,
   "id": "99d3eceb",
   "metadata": {},
   "outputs": [
    {
     "data": {
      "text/html": [
       "\n",
       "<style>\n",
       "div.container{width:80% !important;}\n",
       "div.CodeMirror {font-family:Consolas; font-size:12pt;}\n",
       "div.output {font-size:12pt; font-weight:bold;}\n",
       "div.input {font-family:Consolas; font-size:12pt;}\n",
       "div.prompt {min-width:70px;}\n",
       "div#toc-header{margin-top:150px;}\n",
       "</style>\n",
       "<style>\n",
       "span.toc-item-num{\n",
       "display:none;\n",
       "}\n",
       "</style>\n"
      ],
      "text/plain": [
       "<IPython.core.display.HTML object>"
      ]
     },
     "metadata": {},
     "output_type": "display_data"
    }
   ],
   "source": [
    "from IPython.display import display, HTML\n",
    "display(HTML(\"\"\"\n",
    "<style>\n",
    "div.container{width:80% !important;}\n",
    "div.CodeMirror {font-family:Consolas; font-size:12pt;}\n",
    "div.output {font-size:12pt; font-weight:bold;}\n",
    "div.input {font-family:Consolas; font-size:12pt;}\n",
    "div.prompt {min-width:70px;}\n",
    "div#toc-header{margin-top:150px;}\n",
    "</style>\n",
    "<style>\n",
    "span.toc-item-num{display:none;}\n",
    "</style>\n",
    "\"\"\"))"
   ]
  },
  {
   "cell_type": "markdown",
   "id": "3d3c5bea",
   "metadata": {},
   "source": [
    "<b><font size=\"6\" color=\"red\">ch08. 예외처리</font></b>"
   ]
  },
  {
   "cell_type": "markdown",
   "id": "b7869954",
   "metadata": {},
   "source": [
    "# 1절. 예외처리\n",
    "- 예외가 날 가능성이 있는 부분에 대해 미리 예상하고, 그에 대한 처리를 프로그래밍 하는 것\n",
    "    (이유: 좀 더 안정적으로 실행할 수 있도록 함)\n",
    "    ex.파일을 다룰때, 파일이 없거나, 쓰기 금지로 인한 오류\n",
    "    ex.데이터베이스 프로그래밍 시 제약조건 등에 의한 CRUD 명령 수행 오류. DBMS 서버 오류\n",
    "    ex.네트워크 프로그래밍 시 네트워크 연결 실패 오류\n",
    "    ex. 웹 프로그래밍 작성시 웹 서버 오류\n",
    "    ex. 리스트나 튜플의 인덱스를 벗어난 참조로 인한 오류\n",
    "    ex. 웹크롤링시\n",
    "        try:\n",
    "            데이터수집코드\n",
    "        except:\n",
    "            오류가 났을 경우 대신 실행할 코드"
   ]
  },
  {
   "cell_type": "code",
   "execution_count": 7,
   "id": "dc56496e",
   "metadata": {},
   "outputs": [
    {
     "name": "stdout",
     "output_type": "stream",
     "text": [
      "파일명?dd\n"
     ]
    },
    {
     "ename": "FileNotFoundError",
     "evalue": "[Errno 2] No such file or directory: 'data/dd'",
     "output_type": "error",
     "traceback": [
      "\u001b[1;31m---------------------------------------------------------------------------\u001b[0m",
      "\u001b[1;31mFileNotFoundError\u001b[0m                         Traceback (most recent call last)",
      "Cell \u001b[1;32mIn[7], line 2\u001b[0m\n\u001b[0;32m      1\u001b[0m filename \u001b[38;5;241m=\u001b[39m \u001b[38;5;28minput\u001b[39m(\u001b[38;5;124m'\u001b[39m\u001b[38;5;124m파일명?\u001b[39m\u001b[38;5;124m'\u001b[39m) \u001b[38;5;66;03m#ch08.txt\u001b[39;00m\n\u001b[1;32m----> 2\u001b[0m f \u001b[38;5;241m=\u001b[39m \u001b[38;5;28;43mopen\u001b[39;49m\u001b[43m(\u001b[49m\u001b[38;5;124;43m'\u001b[39;49m\u001b[38;5;124;43mdata/\u001b[39;49m\u001b[38;5;124;43m'\u001b[39;49m\u001b[38;5;241;43m+\u001b[39;49m\u001b[43mfilename\u001b[49m\u001b[43m,\u001b[49m\u001b[38;5;124;43m'\u001b[39;49m\u001b[38;5;124;43mr\u001b[39;49m\u001b[38;5;124;43m'\u001b[39;49m\u001b[43m)\u001b[49m \u001b[38;5;66;03m#읽기전용으로 파일을 열기(읽기 전용 stream 객체 생성)\u001b[39;00m\n\u001b[0;32m      3\u001b[0m \u001b[38;5;28mprint\u001b[39m(f\u001b[38;5;241m.\u001b[39mread())\n",
      "File \u001b[1;32m~\\anaconda3\\lib\\site-packages\\IPython\\core\\interactiveshell.py:282\u001b[0m, in \u001b[0;36m_modified_open\u001b[1;34m(file, *args, **kwargs)\u001b[0m\n\u001b[0;32m    275\u001b[0m \u001b[38;5;28;01mif\u001b[39;00m file \u001b[38;5;129;01min\u001b[39;00m {\u001b[38;5;241m0\u001b[39m, \u001b[38;5;241m1\u001b[39m, \u001b[38;5;241m2\u001b[39m}:\n\u001b[0;32m    276\u001b[0m     \u001b[38;5;28;01mraise\u001b[39;00m \u001b[38;5;167;01mValueError\u001b[39;00m(\n\u001b[0;32m    277\u001b[0m         \u001b[38;5;124mf\u001b[39m\u001b[38;5;124m\"\u001b[39m\u001b[38;5;124mIPython won\u001b[39m\u001b[38;5;124m'\u001b[39m\u001b[38;5;124mt let you open fd=\u001b[39m\u001b[38;5;132;01m{\u001b[39;00mfile\u001b[38;5;132;01m}\u001b[39;00m\u001b[38;5;124m by default \u001b[39m\u001b[38;5;124m\"\u001b[39m\n\u001b[0;32m    278\u001b[0m         \u001b[38;5;124m\"\u001b[39m\u001b[38;5;124mas it is likely to crash IPython. If you know what you are doing, \u001b[39m\u001b[38;5;124m\"\u001b[39m\n\u001b[0;32m    279\u001b[0m         \u001b[38;5;124m\"\u001b[39m\u001b[38;5;124myou can use builtins\u001b[39m\u001b[38;5;124m'\u001b[39m\u001b[38;5;124m open.\u001b[39m\u001b[38;5;124m\"\u001b[39m\n\u001b[0;32m    280\u001b[0m     )\n\u001b[1;32m--> 282\u001b[0m \u001b[38;5;28;01mreturn\u001b[39;00m io_open(file, \u001b[38;5;241m*\u001b[39margs, \u001b[38;5;241m*\u001b[39m\u001b[38;5;241m*\u001b[39mkwargs)\n",
      "\u001b[1;31mFileNotFoundError\u001b[0m: [Errno 2] No such file or directory: 'data/dd'"
     ]
    }
   ],
   "source": [
    "filename = input('파일명?') #ch08.txt\n",
    "f = open('data/'+filename,'r') #읽기전용으로 파일을 열기(읽기 전용 stream 객체 생성)\n",
    "print(f.read())"
   ]
  },
  {
   "cell_type": "code",
   "execution_count": 8,
   "id": "f81c3a2b",
   "metadata": {},
   "outputs": [
    {
     "ename": "ZeroDivisionError",
     "evalue": "division by zero",
     "output_type": "error",
     "traceback": [
      "\u001b[1;31m---------------------------------------------------------------------------\u001b[0m",
      "\u001b[1;31mZeroDivisionError\u001b[0m                         Traceback (most recent call last)",
      "Cell \u001b[1;32mIn[8], line 1\u001b[0m\n\u001b[1;32m----> 1\u001b[0m \u001b[38;5;241;43m4\u001b[39;49m\u001b[38;5;241;43m/\u001b[39;49m\u001b[38;5;241;43m0\u001b[39;49m\n",
      "\u001b[1;31mZeroDivisionError\u001b[0m: division by zero"
     ]
    }
   ],
   "source": [
    "4/0\n"
   ]
  },
  {
   "cell_type": "code",
   "execution_count": 10,
   "id": "a31b1210",
   "metadata": {},
   "outputs": [
    {
     "ename": "IndexError",
     "evalue": "list index out of range",
     "output_type": "error",
     "traceback": [
      "\u001b[1;31m---------------------------------------------------------------------------\u001b[0m",
      "\u001b[1;31mIndexError\u001b[0m                                Traceback (most recent call last)",
      "Cell \u001b[1;32mIn[10], line 2\u001b[0m\n\u001b[0;32m      1\u001b[0m a\u001b[38;5;241m=\u001b[39m[\u001b[38;5;241m1\u001b[39m,\u001b[38;5;241m2\u001b[39m,\u001b[38;5;241m3\u001b[39m]\n\u001b[1;32m----> 2\u001b[0m \u001b[43ma\u001b[49m\u001b[43m[\u001b[49m\u001b[38;5;241;43m3\u001b[39;49m\u001b[43m]\u001b[49m\n",
      "\u001b[1;31mIndexError\u001b[0m: list index out of range"
     ]
    }
   ],
   "source": [
    "a=[1,2,3]\n",
    "a[3]"
   ]
  },
  {
   "cell_type": "markdown",
   "id": "a38e16d4",
   "metadata": {},
   "source": [
    "# 2절 try~except 로 예외처리\n",
    "## 2.1 try~except\n",
    "```\n",
    "try:\n",
    "    예외가 발생할 가능성이 있는 문장들\n",
    "   ..\n",
    "except:\n",
    "    예외가 발생했을 경우 실행할 명령어들\n",
    "\n",
    "```"
   ]
  },
  {
   "cell_type": "code",
   "execution_count": 11,
   "id": "18962bd1",
   "metadata": {},
   "outputs": [
    {
     "name": "stdout",
     "output_type": "stream",
     "text": [
      "정수를 입력하세요 :2\n",
      "입력한 정수는 2\n",
      "100을 입력한 정수로 나누면 50.00\n"
     ]
    }
   ],
   "source": [
    "# 100을 입력받은 정수값으로 나눠 출력\n",
    "x = int(input('정수를 입력하세요 :'))\n",
    "print('입력한 정수는 {}'.format(x))\n",
    "print('100을 입력한 정수로 나누면 {:.2f}'.format(100/x))\n",
    "# ValueError : 수를 입력하지 않았을 경우\n",
    "# ZeroDivisionError : 0을 입력했을 경우 예외 타입\n"
   ]
  },
  {
   "cell_type": "code",
   "execution_count": 12,
   "id": "876642dd",
   "metadata": {},
   "outputs": [
    {
     "name": "stdout",
     "output_type": "stream",
     "text": [
      "정수를 입력하세요 :0\n",
      "입력한 정수는 0\n",
      "유효한 정수가 아닙니다\n"
     ]
    }
   ],
   "source": [
    "# 100을 입력받은 정수값으로 나눠 출력\n",
    "# ValueError : 수를 입력하지 않았을 경우\n",
    "# ZeroDivisionError : 0을 입력했을 경우 예외 타입\n",
    "try:\n",
    "    x = int(input('정수를 입력하세요 :'))\n",
    "    print('입력한 정수는 {}'.format(x))\n",
    "    print('100을 입력한 정수로 나누면 {:.2f}'.format(100/x))\n",
    "except:\n",
    "    print('유효한 정수가 아닙니다')\n"
   ]
  },
  {
   "cell_type": "code",
   "execution_count": 2,
   "id": "d81f1ff4",
   "metadata": {},
   "outputs": [
    {
     "name": "stdout",
     "output_type": "stream",
     "text": [
      "100을 나눌 정수를 입력하세요:2\n",
      "입력한 정수는 2\n",
      "100을 입력한 수로 나누면 50.000\n"
     ]
    }
   ],
   "source": [
    "# 100을 나눌 유효한 정수를 입력할 때까지 입력받아\n",
    "# 유효한 정수를 입력하면 입력한 정수와 100을 입력한 수로 나눈 결과를 출력\n",
    "\n",
    "while True:\n",
    "    try:\n",
    "        x = int(input('100을 나눌 정수를 입력하세요:'))\n",
    "        print('입력한 정수는 {}'.format(x))\n",
    "        print('100을 입력한 수로 나누면 {:.3f}'.format(100/x))\n",
    "        break\n",
    "    except:\n",
    "        print('유효한 정수가 아닙니다')"
   ]
  },
  {
   "cell_type": "markdown",
   "id": "60d398d2",
   "metadata": {},
   "source": [
    "## 2.2예외를 지정한 처리\n",
    "```\n",
    "try:\n",
    "    예외가 발생할 수 도 있는 문장들\n",
    "except 예외타입1:\n",
    "    해당 예외가 발생할 경우 실행할 문장\n",
    "excetp 예외타입2:\n",
    "    해당 예외가 발생할 경우 실행할 문장\n",
    "    \n",
    "\n",
    "```"
   ]
  },
  {
   "cell_type": "code",
   "execution_count": 4,
   "id": "fefea594",
   "metadata": {},
   "outputs": [
    {
     "name": "stdout",
     "output_type": "stream",
     "text": [
      "100을 나눌 정수를 입력하세요:2\n",
      "입력한 정수는 2\n",
      "100을 입력한 수로 나누면 50.000\n"
     ]
    }
   ],
   "source": [
    "# 100을 나눌 유효한 정수를 입력할 때까지 입력받아\n",
    "# 유효한 정수를 입력하면 입력한 정수와 100을 입력한 수로 나눈 결과를 출력\n",
    "\n",
    "while True:\n",
    "    try:\n",
    "        x = int(input('100을 나눌 정수를 입력하세요:'))\n",
    "        print('입력한 정수는 {}'.format(x))\n",
    "        print('100을 입력한 수로 나누면 {:.3f}'.format(100/x))\n",
    "        break\n",
    "    except (ValueError,ZeroDivisionError):\n",
    "        \n",
    "        print('유효한 정수가 아닙니다')\n",
    "    except ZeroDivisionError:\n",
    "        print('0으로 나눌수 없습니다')\n",
    "    except Exception: # 그외 모든 예외\n",
    "        print('re')"
   ]
  },
  {
   "cell_type": "markdown",
   "id": "6d35b1d3",
   "metadata": {},
   "source": [
    "## 2.3 예외 인수 (e)\n",
    "```\n",
    "try{\n",
    "    예외가 발생할 수도 있는 문장;\n",
    "} catch(예외타입e){\n",
    "    sysout()\n",
    "}\n",
    "try: \n",
    "    예외가 발생 할 수도 있는 문장;\n",
    "except 예외타입 as e:\n",
    "    print(e)\n",
    "    print(e.args[0]\n",
    "```"
   ]
  },
  {
   "cell_type": "code",
   "execution_count": 7,
   "id": "7b1621e8",
   "metadata": {},
   "outputs": [
    {
     "name": "stdout",
     "output_type": "stream",
     "text": [
      "100을 나눌 정수를 입력하세요:1\n",
      "입력한 정수는 1\n",
      "100을 입력한 수로 나누면 100.000\n"
     ]
    }
   ],
   "source": [
    "# 100을 나눌 유효한 정수를 입력할 때까지 입력받아\n",
    "# 유효한 정수를 입력하면 입력한 정수와 100을 입력한 수로 나눈 결과를 출력\n",
    "\n",
    "while True:\n",
    "    try:\n",
    "        x = int(input('100을 나눌 정수를 입력하세요:'))\n",
    "        print('입력한 정수는 {}'.format(x))\n",
    "        print('100을 입력한 수로 나누면 {:.3f}'.format(100/x))\n",
    "        break\n",
    "    except (ValueError,ZeroDivisionError) as e:\n",
    "        print('예외 유형 :', type(e))\n",
    "        print('예외 메세지 :', e)\n",
    "        print('예외 메세지 :', e.args)\n",
    "        print('예외 메세지 :', e.args[0])\n",
    "        print(isinstance(e,Exception))\n",
    "    except ZeroDivisionError:\n",
    "        print('0으로 나눌수 없습니다')\n",
    "    except Exception: # 그외 모든 예외\n",
    "        print('re')"
   ]
  },
  {
   "cell_type": "code",
   "execution_count": 8,
   "id": "ae89c923",
   "metadata": {},
   "outputs": [
    {
     "ename": "IndexError",
     "evalue": "list index out of range",
     "output_type": "error",
     "traceback": [
      "\u001b[1;31m---------------------------------------------------------------------------\u001b[0m",
      "\u001b[1;31mIndexError\u001b[0m                                Traceback (most recent call last)",
      "Cell \u001b[1;32mIn[8], line 2\u001b[0m\n\u001b[0;32m      1\u001b[0m a\u001b[38;5;241m=\u001b[39m[\u001b[38;5;241m1\u001b[39m,\u001b[38;5;241m2\u001b[39m,\u001b[38;5;241m3\u001b[39m]\n\u001b[1;32m----> 2\u001b[0m \u001b[43ma\u001b[49m\u001b[43m[\u001b[49m\u001b[38;5;241;43m3\u001b[39;49m\u001b[43m]\u001b[49m\n",
      "\u001b[1;31mIndexError\u001b[0m: list index out of range"
     ]
    }
   ],
   "source": [
    "try:\n",
    "    a=[1,2,3]\n",
    "    a[3]\n",
    "except IndexError as e :\n",
    "    print(e)"
   ]
  },
  {
   "cell_type": "markdown",
   "id": "58a21e9a",
   "metadata": {},
   "source": [
    "```\n",
    "try:\n",
    "    ~\n",
    "except[예외타입 [as e]]:\n",
    "    ~\n",
    "finally:\n",
    "    ~\n",
    "try절을 수행하다가 예외가 발생되면 except블록을 실행하고 finally블록 수행\n",
    "try절을 수행하다가 예외가 발생안되도, finally블록 수행\n",
    "```   "
   ]
  },
  {
   "cell_type": "code",
   "execution_count": 11,
   "id": "94860316",
   "metadata": {},
   "outputs": [
    {
     "name": "stdout",
     "output_type": "stream",
     "text": [
      "파일이 없습니다\n",
      "[Errno 2] No such file or directory: 'data/ch0.txt'\n"
     ]
    }
   ],
   "source": [
    "try:\n",
    "    f = open('data/ch0.txt','r')\n",
    "    data = f.read()\n",
    "    print(data)\n",
    "except FileNotFoundError as e:\n",
    "    print('파일이 없습니다')\n",
    "    print(e)\n",
    "finally:\n",
    "    f.close()\n",
    "    "
   ]
  },
  {
   "cell_type": "code",
   "execution_count": null,
   "id": "5aa0cd04",
   "metadata": {},
   "outputs": [],
   "source": []
  }
 ],
 "metadata": {
  "kernelspec": {
   "display_name": "Python 3 (ipykernel)",
   "language": "python",
   "name": "python3"
  },
  "language_info": {
   "codemirror_mode": {
    "name": "ipython",
    "version": 3
   },
   "file_extension": ".py",
   "mimetype": "text/x-python",
   "name": "python",
   "nbconvert_exporter": "python",
   "pygments_lexer": "ipython3",
   "version": "3.10.9"
  },
  "toc": {
   "base_numbering": 1,
   "nav_menu": {},
   "number_sections": true,
   "sideBar": true,
   "skip_h1_title": false,
   "title_cell": "Table of Contents",
   "title_sidebar": "Contents",
   "toc_cell": false,
   "toc_position": {},
   "toc_section_display": true,
   "toc_window_display": false
  }
 },
 "nbformat": 4,
 "nbformat_minor": 5
}
