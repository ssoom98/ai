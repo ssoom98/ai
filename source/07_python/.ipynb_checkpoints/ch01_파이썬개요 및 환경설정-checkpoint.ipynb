{
 "cells": [
  {
   "cell_type": "code",
   "execution_count": null,
   "id": "e7bed1fb",
   "metadata": {},
   "outputs": [],
   "source": [
    "import tensorflow as tf\n",
    "print(tf.__version__)\n",
    "tf.config.list_physical_devices('GPU')\n",
    "\n"
   ]
  },
  {
   "cell_type": "code",
   "execution_count": null,
   "id": "e15c4ec4",
   "metadata": {},
   "outputs": [],
   "source": [
    "from IPython.display import display, HTML\n",
    "display(HTML(\"\"\"\n",
    "<style>\n",
    "div.container{width:80% !important;}\n",
    "div.CodeMirror {font-family:Consolas; font-size:12pt;}\n",
    "div.output {font-size:12pt; font-weight:bold;}\n",
    "div.input {font-family:Consolas; font-size:12pt;}\n",
    "div.prompt {min-width:70px;}\n",
    "div#toc-header{margin-top:150px;}\n",
    "</style>\n",
    "<style>\n",
    "span.toc-item-num{\n",
    "display:none;\n",
    "}\n",
    "</style>\n",
    "\"\"\"))"
   ]
  },
  {
   "cell_type": "markdown",
   "id": "3bc9f2fe",
   "metadata": {},
   "source": [
    "<b><font size=\"6\" color=\"red\">ch01. 파이썬 개요 및 환경 설정</font></b>"
   ]
  },
  {
   "cell_type": "markdown",
   "id": "03b41a6c",
   "metadata": {},
   "source": [
    "# 주피터 노트북 사용법(큰제목)\n",
    "- shift+Enter : 포커스된 셀이 실행되고 , 커서가 다음셀로 이동\n",
    "- alt + Enter : 포커스된 셀이 실행되고 다음셀이 생성된후 다음셀로 이동\n",
    "- ctrl + Enter : 포커스된 셀이 실행되고 포커스 이동이 없음"
   ]
  },
  {
   "cell_type": "code",
   "execution_count": null,
   "id": "65c28b2e",
   "metadata": {
    "code_folding": []
   },
   "outputs": [],
   "source": [
    "# 셀 하나하나에 파이썬 실행 소스 입력 -> 실행"
   ]
  },
  {
   "cell_type": "code",
   "execution_count": null,
   "id": "ab99c456",
   "metadata": {},
   "outputs": [],
   "source": [
    "print(\"Hello, World\")"
   ]
  },
  {
   "cell_type": "code",
   "execution_count": null,
   "id": "454c1418",
   "metadata": {},
   "outputs": [],
   "source": [
    "a= 1\n",
    "b=\"2\"\n",
    "print(str(a)+b)\n",
    "print(a+int(b))\n",
    "# view 메뉴 > Show line Numbers 선택"
   ]
  },
  {
   "cell_type": "code",
   "execution_count": null,
   "id": "94a44268",
   "metadata": {
    "code_folding": []
   },
   "outputs": [],
   "source": [
    "# for i in range(100000000000000000000000000000000)\n",
    "# print(i)\n",
    "# stop기능\n",
    "#kernel메뉴의 다양한 restart 기능"
   ]
  },
  {
   "cell_type": "code",
   "execution_count": null,
   "id": "08a9e4cd",
   "metadata": {},
   "outputs": [],
   "source": [
    "print=10\n",
    "print"
   ]
  },
  {
   "cell_type": "code",
   "execution_count": null,
   "id": "27a6f825",
   "metadata": {},
   "outputs": [],
   "source": [
    "print('Hello, World')"
   ]
  },
  {
   "cell_type": "code",
   "execution_count": null,
   "id": "b83e9afd",
   "metadata": {},
   "outputs": [],
   "source": [
    "# 실수로 할당된 print 변수를 삭제 : (1)\n",
    "del print # (1) 변수 삭제\n",
    "#(2) kernel 재시작"
   ]
  },
  {
   "cell_type": "code",
   "execution_count": null,
   "id": "f63fc44d",
   "metadata": {},
   "outputs": [],
   "source": [
    "print('Hello, World')"
   ]
  },
  {
   "cell_type": "markdown",
   "id": "24ebbf0f",
   "metadata": {},
   "source": [
    "# ESC키 누르고(핫키)\n",
    "- dd : 셀삭제\n",
    "- a: 윗셀 추가\n",
    "- b: 아랫셀 추가\n",
    "- m : 마크다운셀 (문서셀)로 변경\n",
    "- y : 코드셀(소스셀)로 변경\n",
    "- h : 핫키 안내\n",
    "- o : 실행결과 접기\n",
    "\n"
   ]
  },
  {
   "cell_type": "markdown",
   "id": "8d3da3aa",
   "metadata": {},
   "source": [
    "# 마크다운이란?\n",
    "- 코드와 함께 : `문서화`를 할 수 있습니다.\n",
    "- 다양한 문서화 문법이 있습니다. \n",
    "\n",
    "        \n",
    "\n"
   ]
  },
  {
   "cell_type": "code",
   "execution_count": 7,
   "id": "90d7dbfc",
   "metadata": {
    "ExecuteTime": {
     "end_time": "2024-11-04T06:59:29.422066Z",
     "start_time": "2024-11-04T06:59:29.401872Z"
    }
   },
   "outputs": [
    {
     "name": "stdout",
     "output_type": "stream",
     "text": [
      " D 드라이브의 볼륨: 새 볼륨\n",
      " 볼륨 일련 번호: A822-4F57\n",
      "\n",
      " D:\\ai\\source\\07_python 디렉터리\n",
      "\n",
      "2024-11-04  오후 03:58    <DIR>          .\n",
      "2024-11-04  오후 03:58    <DIR>          ..\n",
      "2024-11-04  오후 02:33    <DIR>          .ipynb_checkpoints\n",
      "2024-11-04  오후 03:58             6,051 ch01_파이썬개요 및 환경설정.ipynb\n",
      "               1개 파일               6,051 바이트\n",
      "               3개 디렉터리  405,353,316,352 바이트 남음\n"
     ]
    }
   ],
   "source": [
    "# 주피터 노트북에서 cmd명령어(프로프트 창에서 실행할 명령어)를 실행\n",
    "! dir"
   ]
  },
  {
   "cell_type": "code",
   "execution_count": null,
   "id": "11f0a39c",
   "metadata": {},
   "outputs": [],
   "source": []
  }
 ],
 "metadata": {
  "kernelspec": {
   "display_name": "Python 3 (ipykernel)",
   "language": "python",
   "name": "python3"
  },
  "language_info": {
   "codemirror_mode": {
    "name": "ipython",
    "version": 3
   },
   "file_extension": ".py",
   "mimetype": "text/x-python",
   "name": "python",
   "nbconvert_exporter": "python",
   "pygments_lexer": "ipython3",
   "version": "3.10.9"
  },
  "toc": {
   "base_numbering": 1,
   "nav_menu": {},
   "number_sections": true,
   "sideBar": true,
   "skip_h1_title": false,
   "title_cell": "Table of Contents",
   "title_sidebar": "Contents",
   "toc_cell": false,
   "toc_position": {
    "height": "calc(100% - 180px)",
    "left": "10px",
    "top": "150px",
    "width": "384px"
   },
   "toc_section_display": true,
   "toc_window_display": true
  }
 },
 "nbformat": 4,
 "nbformat_minor": 5
}
