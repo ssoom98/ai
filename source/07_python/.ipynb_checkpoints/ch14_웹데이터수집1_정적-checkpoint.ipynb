{
 "cells": [
  {
   "cell_type": "code",
   "execution_count": 1,
   "id": "496d0b6a",
   "metadata": {
    "ExecuteTime": {
     "end_time": "2024-12-10T04:03:55.429845Z",
     "start_time": "2024-12-10T04:03:55.419844Z"
    }
   },
   "outputs": [
    {
     "data": {
      "text/html": [
       "\n",
       "<style>\n",
       "div.container{width:80% !important;}\n",
       "div.CodeMirror {font-family:Consolas; font-size:12pt;}\n",
       "div.output {font-size:12pt; font-weight:bold;}\n",
       "div.input {font-family:Consolas; font-size:12pt;}\n",
       "div.prompt {min-width:70px;}\n",
       "div#toc-header{margin-top:150px;}\n",
       "</style>\n",
       "<style>\n",
       "span.toc-item-num{\n",
       "display:none;\n",
       "}\n",
       "</style>\n"
      ],
      "text/plain": [
       "<IPython.core.display.HTML object>"
      ]
     },
     "metadata": {},
     "output_type": "display_data"
    }
   ],
   "source": [
    "from IPython.display import display, HTML\n",
    "display(HTML(\"\"\"\n",
    "<style>\n",
    "div.container{width:80% !important;}\n",
    "div.CodeMirror {font-family:Consolas; font-size:12pt;}\n",
    "div.output {font-size:12pt; font-weight:bold;}\n",
    "div.input {font-family:Consolas; font-size:12pt;}\n",
    "div.prompt {min-width:70px;}\n",
    "div#toc-header{margin-top:150px;}\n",
    "</style>\n",
    "<style>\n",
    "span.toc-item-num{\n",
    "display:none;\n",
    "}\n",
    "</style>\n",
    "\"\"\"))"
   ]
  },
  {
   "cell_type": "markdown",
   "id": "2c5e168c",
   "metadata": {
    "ExecuteTime": {
     "end_time": "2024-12-06T02:57:31.909469Z",
     "start_time": "2024-12-06T02:57:31.903381Z"
    }
   },
   "source": [
    "<b><font color=\"red\" size=\"6\">ch14. 웹데이터수집</font></b>\n",
    "# 1절. BeautifulSoup과 parser\n",
    "\n",
    "`pip install bs4` 아나콘다를 설치하면 자동 설치되는 패키지 7500개에 포함\n",
    "\n"
   ]
  },
  {
   "cell_type": "code",
   "execution_count": 2,
   "id": "30b7e7dc",
   "metadata": {
    "ExecuteTime": {
     "end_time": "2024-12-10T04:03:55.553838Z",
     "start_time": "2024-12-10T04:03:55.433035Z"
    }
   },
   "outputs": [],
   "source": [
    "import requests\n",
    "from requests_file import FileAdapter"
   ]
  },
  {
   "cell_type": "code",
   "execution_count": 3,
   "id": "97e54255",
   "metadata": {
    "ExecuteTime": {
     "end_time": "2024-12-10T04:03:55.568015Z",
     "start_time": "2024-12-10T04:03:55.557044Z"
    }
   },
   "outputs": [
    {
     "data": {
      "text/plain": [
       "<Response [200]>"
      ]
     },
     "execution_count": 3,
     "metadata": {},
     "output_type": "execute_result"
    }
   ],
   "source": [
    "s= requests.Session()# HTTP 요청관리를 위한 세션객체\n",
    "s.mount(\"file://\",FileAdapter())\n",
    "response= s.get('file:///ai/source/07_python/ch14_sample.html')\n",
    "response"
   ]
  },
  {
   "cell_type": "code",
   "execution_count": 4,
   "id": "ac4c98cb",
   "metadata": {
    "ExecuteTime": {
     "end_time": "2024-12-10T04:03:55.577416Z",
     "start_time": "2024-12-10T04:03:55.571253Z"
    }
   },
   "outputs": [
    {
     "data": {
      "text/plain": [
       "'<!DOCTYPE html>\\r\\n<html lang=\"en\">\\r\\n<head>\\r\\n    <meta charset=\"UTF-8\">\\r\\n<body>\\r\\n    <h1 class=\"greeting css\" id=\"text\">Hello, CSS</h1>\\r\\n    <h1 class=\"css\">Hi, CSS</h1>\\r\\n    <div id=\"subject\">subject 선택자 안의 내용</div>\\r\\n    <p>CSS 선택자는 다양한 곳에서 활용됩니다</p>\\r\\n    <div class=\"contents\">\\r\\n        선택자를 어떻게 작성하는냐에 따라\\r\\n        <span>다른<b>요소가 반환</b></span> 됩니다\\r\\n    </div>\\r\\n    <div>CSS 선택자는 다양한 곳에<b>활용</b>됩니다</div>\\r\\n</body>\\r\\n</html>\\r\\n'"
      ]
     },
     "execution_count": 4,
     "metadata": {},
     "output_type": "execute_result"
    }
   ],
   "source": [
    "response.content.decode('utf-8')"
   ]
  },
  {
   "cell_type": "code",
   "execution_count": 5,
   "id": "cc3c463e",
   "metadata": {
    "ExecuteTime": {
     "end_time": "2024-12-10T04:03:55.587833Z",
     "start_time": "2024-12-10T04:03:55.580408Z"
    }
   },
   "outputs": [
    {
     "data": {
      "text/plain": [
       "'<!DOCTYPE html>\\r\\n<html lang=\"en\">\\r\\n<head>\\r\\n    <meta charset=\"UTF-8\">\\r\\n<body>\\r\\n    <h1 class=\"greeting css\" id=\"text\">Hello, CSS</h1>\\r\\n    <h1 class=\"css\">Hi, CSS</h1>\\r\\n    <div id=\"subject\">subject 선택자 안의 내용</div>\\r\\n    <p>CSS 선택자는 다양한 곳에서 활용됩니다</p>\\r\\n    <div class=\"contents\">\\r\\n        선택자를 어떻게 작성하는냐에 따라\\r\\n        <span>다른<b>요소가 반환</b></span> 됩니다\\r\\n    </div>\\r\\n    <div>CSS 선택자는 다양한 곳에<b>활용</b>됩니다</div>\\r\\n</body>\\r\\n</html>\\r\\n'"
      ]
     },
     "execution_count": 5,
     "metadata": {},
     "output_type": "execute_result"
    }
   ],
   "source": [
    "response.text"
   ]
  },
  {
   "cell_type": "code",
   "execution_count": 6,
   "id": "c48748da",
   "metadata": {
    "ExecuteTime": {
     "end_time": "2024-12-10T04:03:55.723634Z",
     "start_time": "2024-12-10T04:03:55.589828Z"
    }
   },
   "outputs": [],
   "source": [
    "# html파싱\n",
    "from bs4 import BeautifulSoup\n",
    "soup = BeautifulSoup(response.content, # response.text\n",
    "                    \"html.parser\")\n",
    "# soup\n"
   ]
  },
  {
   "cell_type": "code",
   "execution_count": 7,
   "id": "022c6353",
   "metadata": {
    "ExecuteTime": {
     "end_time": "2024-12-10T04:03:55.734996Z",
     "start_time": "2024-12-10T04:03:55.725602Z"
    }
   },
   "outputs": [
    {
     "name": "stdout",
     "output_type": "stream",
     "text": [
      "el: <h1 class=\"greeting css\" id=\"text\">Hello, CSS</h1>\n",
      "el.text: Hello, CSS\n",
      "el.string: Hello, CSS\n",
      "el의 속성들: {'class': ['greeting', 'css'], 'id': 'text'}\n",
      "el의 class속성: ['greeting', 'css']\n",
      "el의 name: h1\n"
     ]
    }
   ],
   "source": [
    "# soup.select_one('선택자') : 해당 선택자 처음 하나만\n",
    "el = soup.select_one('h1') # 처음 나오는 h1태그 하나만\n",
    "print('el:',el)\n",
    "print('el.text:',el.text)\n",
    "print('el.string:',el.string)\n",
    "print('el의 속성들:',el.attrs)\n",
    "print('el의 class속성:',el.attrs['class']) # class 속성은 하나라도 list로 생성\n",
    "print('el의 name:',el.name)"
   ]
  },
  {
   "cell_type": "code",
   "execution_count": 8,
   "id": "8e69fdfc",
   "metadata": {
    "ExecuteTime": {
     "end_time": "2024-12-10T04:03:55.743492Z",
     "start_time": "2024-12-10T04:03:55.737018Z"
    }
   },
   "outputs": [
    {
     "name": "stdout",
     "output_type": "stream",
     "text": [
      "el: [<h1 class=\"greeting css\" id=\"text\">Hello, CSS</h1>, <h1 class=\"css\">Hi, CSS</h1>]\n",
      "el들의 text: [<h1 class=\"greeting css\" id=\"text\">Hello, CSS</h1>, <h1 class=\"css\">Hi, CSS</h1>]\n",
      "el들의 string : ['Hello, CSS', 'Hi, CSS']\n",
      "el들의 속성들 : [{'class': ['greeting', 'css'], 'id': 'text'}, {'class': ['css']}]\n",
      "el들의 class 속성 : [['greeting', 'css'], ['css']]\n"
     ]
    }
   ],
   "source": [
    "# soup.select('선택자') : 해당 선택자 모든 엘리먼트를 리스트로\n",
    "el = soup.select('h1')\n",
    "print('el:',el)\n",
    "print('el들의 text:',[e for e in el])\n",
    "print('el들의 string :', [e.string for e in el])\n",
    "print('el들의 속성들 :', [e.attrs for e in el])\n",
    "print('el들의 class 속성 :', [e.attrs['class'] for e in el])"
   ]
  },
  {
   "cell_type": "code",
   "execution_count": 9,
   "id": "9f7a598c",
   "metadata": {
    "ExecuteTime": {
     "end_time": "2024-12-10T04:03:55.755460Z",
     "start_time": "2024-12-10T04:03:55.746512Z"
    }
   },
   "outputs": [
    {
     "name": "stdout",
     "output_type": "stream",
     "text": [
      "모든 h1, span태그(select):\n",
      "[<h1 class=\"greeting css\" id=\"text\">Hello, CSS</h1>, <h1 class=\"css\">Hi, CSS</h1>, <span>다른<b>요소가 반환</b></span>]\n",
      "모든 h1, span태그(find_all):\n",
      "[<h1 class=\"greeting css\" id=\"text\">Hello, CSS</h1>, <h1 class=\"css\">Hi, CSS</h1>]\n",
      "select_one:\n",
      "<h1 class=\"greeting css\" id=\"text\">Hello, CSS</h1>\n",
      "find:\n",
      "<h1 class=\"greeting css\" id=\"text\">Hello, CSS</h1>\n",
      "find:\n",
      "[<h1 class=\"greeting css\" id=\"text\">Hello, CSS</h1>, <h1 class=\"css\">Hi, CSS</h1>]\n",
      "find:\n",
      "None\n"
     ]
    }
   ],
   "source": [
    "#select('선택자')와 find_all(태그)\n",
    "print('모든 h1, span태그(select):',soup.select('h1,span'),sep='\\n')\n",
    "print('모든 h1, span태그(find_all):',soup.find_all(['h1','span'],\n",
    "                                              class_=['css']),sep='\\n')\n",
    "#select_all('선택자')와 find(태그)\n",
    "print('select_one:', soup.select_one('h1.css'),sep='\\n')\n",
    "print('find:', soup.find('h1',class_='css'),sep='\\n')\n",
    "\n",
    "print('find:', soup.find_all('h1',class_='css'),sep='\\n')\n",
    "print('find:', soup.find('a',class_='css'),sep='\\n')"
   ]
  },
  {
   "cell_type": "markdown",
   "id": "f28aa2de",
   "metadata": {},
   "source": [
    "# 2절. 정적 웹 데이터 수집(정적 웹크롤링)\n",
    "## 2.1 request모듈(GET 요청) / urlib.request 모듈(urlopen)"
   ]
  },
  {
   "cell_type": "code",
   "execution_count": 10,
   "id": "83757bbb",
   "metadata": {
    "ExecuteTime": {
     "end_time": "2024-12-10T04:03:55.761900Z",
     "start_time": "2024-12-10T04:03:55.757456Z"
    }
   },
   "outputs": [],
   "source": [
    "# 크롤링 허용범위마다 사이트마다 ~/robots.txt에서 확인할 수 있습니다\n",
    "    # User-agent: 모든 크롤링을 허용(*), 지침을 적용할 클로러를 지정\n",
    "    # Allow,Disallow: 크롤링을 제한할 경로"
   ]
  },
  {
   "cell_type": "code",
   "execution_count": 11,
   "id": "d5d12ea3",
   "metadata": {
    "ExecuteTime": {
     "end_time": "2024-12-10T04:03:55.835737Z",
     "start_time": "2024-12-10T04:03:55.764853Z"
    }
   },
   "outputs": [
    {
     "data": {
      "text/plain": [
       "(<Response [200]>, 200)"
      ]
     },
     "execution_count": 11,
     "metadata": {},
     "output_type": "execute_result"
    }
   ],
   "source": [
    "# 방법1\n",
    "import requests\n",
    "response = requests.get('http://api.github.com')\n",
    "response, response.status_code"
   ]
  },
  {
   "cell_type": "code",
   "execution_count": 12,
   "id": "377f974b",
   "metadata": {
    "ExecuteTime": {
     "end_time": "2024-12-10T04:03:55.847905Z",
     "start_time": "2024-12-10T04:03:55.841922Z"
    }
   },
   "outputs": [
    {
     "data": {
      "text/plain": [
       "dict"
      ]
     },
     "execution_count": 12,
     "metadata": {},
     "output_type": "execute_result"
    }
   ],
   "source": [
    "jsondata = response.json()\n",
    "type(jsondata)"
   ]
  },
  {
   "cell_type": "code",
   "execution_count": 13,
   "id": "610e5de9",
   "metadata": {
    "ExecuteTime": {
     "end_time": "2024-12-10T04:03:56.096274Z",
     "start_time": "2024-12-10T04:03:55.852314Z"
    }
   },
   "outputs": [
    {
     "data": {
      "text/plain": [
       "200"
      ]
     },
     "execution_count": 13,
     "metadata": {},
     "output_type": "execute_result"
    }
   ],
   "source": [
    "# 방법2\n",
    "from urllib.request import urlopen\n",
    "response = urlopen('http://api.github.com')\n",
    "response.status"
   ]
  },
  {
   "cell_type": "markdown",
   "id": "4afaa174",
   "metadata": {},
   "source": [
    "# 2.2  BeautifulSoup 모듈을 활용 html 웹 데이터 수집\n",
    "### 1) 환율정보 가져오기(네이버금융>시장지표)\n",
    " * https://finance.naver.com/marketindex/"
   ]
  },
  {
   "cell_type": "code",
   "execution_count": 14,
   "id": "596906d1",
   "metadata": {
    "ExecuteTime": {
     "end_time": "2024-12-10T04:03:56.580130Z",
     "start_time": "2024-12-10T04:03:56.098267Z"
    }
   },
   "outputs": [
    {
     "data": {
      "text/plain": [
       "[1427.8,\n",
       " 945.09,\n",
       " 1507.4,\n",
       " 196.91,\n",
       " 150.92,\n",
       " 1.06,\n",
       " 1.28,\n",
       " 106.12,\n",
       " 68.37,\n",
       " 1645.82,\n",
       " 2685.8,\n",
       " 122558.1]"
      ]
     },
     "execution_count": 14,
     "metadata": {},
     "output_type": "execute_result"
    }
   ],
   "source": [
    "# 방법1\n",
    "import requests\n",
    "from bs4 import BeautifulSoup\n",
    "url = 'https://finance.naver.com/marketindex/'\n",
    "response=requests.get(url)\n",
    "soup = BeautifulSoup(response.content,'html.parser')\n",
    "price= soup.select('div.head_info> span.value')\n",
    "[round(float(''.join(p.text.split(','))),2) for p in price]\n",
    "[round(float(p.text.replace(',','')),2)for p in price]"
   ]
  },
  {
   "cell_type": "code",
   "execution_count": 15,
   "id": "936a56cb",
   "metadata": {
    "ExecuteTime": {
     "end_time": "2024-12-10T04:03:57.000055Z",
     "start_time": "2024-12-10T04:03:56.583095Z"
    }
   },
   "outputs": [],
   "source": [
    "# 방법2\n",
    "from urllib.request import urlopen\n",
    "url = 'https://finance.naver.com/marketindex/'\n",
    "response=urlopen(url)\n",
    "soup = BeautifulSoup(response,'html.parser')\n"
   ]
  },
  {
   "cell_type": "code",
   "execution_count": 16,
   "id": "660cd7bd",
   "metadata": {
    "ExecuteTime": {
     "end_time": "2024-12-10T04:03:57.017206Z",
     "start_time": "2024-12-10T04:03:57.002935Z"
    }
   },
   "outputs": [
    {
     "data": {
      "text/plain": [
       "[1427.8,\n",
       " 945.09,\n",
       " 1507.4,\n",
       " 196.91,\n",
       " 150.92,\n",
       " 1.06,\n",
       " 1.28,\n",
       " 106.12,\n",
       " 68.37,\n",
       " 1645.82,\n",
       " 2685.8,\n",
       " 122558.1]"
      ]
     },
     "execution_count": 16,
     "metadata": {},
     "output_type": "execute_result"
    }
   ],
   "source": [
    "price= soup.select('div.head_info> span.value')\n",
    "[round(float(''.join(p.text.split(','))),2) for p in price]\n",
    "[round(float(p.text.replace(',','')),2)for p in price]"
   ]
  },
  {
   "cell_type": "code",
   "execution_count": 17,
   "id": "5b2a647e",
   "metadata": {
    "ExecuteTime": {
     "end_time": "2024-12-10T04:03:57.031659Z",
     "start_time": "2024-12-10T04:03:57.021294Z"
    }
   },
   "outputs": [
    {
     "name": "stdout",
     "output_type": "stream",
     "text": [
      "미국 USD\t일본 JPY(100엔)\t유럽연합 EUR\t중국 CNY\t달러/일본 엔\t유로/달러\t영국 파운드/달러\t달러인덱스\tWTI\t휘발유\t국제 금\t국내 금\t"
     ]
    }
   ],
   "source": [
    "title = soup.select('h3.h_lst > span.blind')\n",
    "for t in title:\n",
    "    print(t.text,end='\\t')"
   ]
  },
  {
   "cell_type": "code",
   "execution_count": 18,
   "id": "17a4ff43",
   "metadata": {
    "ExecuteTime": {
     "end_time": "2024-12-10T04:03:57.048148Z",
     "start_time": "2024-12-10T04:03:57.034652Z"
    }
   },
   "outputs": [
    {
     "data": {
      "text/plain": [
       "['원', '원', '원', '원', '엔', '달러', '달러', '', '달러', '원', '달러', '원']"
      ]
     },
     "execution_count": 18,
     "metadata": {},
     "output_type": "execute_result"
    }
   ],
   "source": [
    "unit = soup.select('div.head_info > span > span.blind')\n",
    "unit = [u.text for u in unit]\n",
    "unit.insert(7,'')\n",
    "unit"
   ]
  },
  {
   "cell_type": "code",
   "execution_count": 19,
   "id": "22998c59",
   "metadata": {
    "ExecuteTime": {
     "end_time": "2024-12-10T04:03:57.065988Z",
     "start_time": "2024-12-10T04:03:57.054582Z"
    }
   },
   "outputs": [
    {
     "name": "stdout",
     "output_type": "stream",
     "text": [
      "하락\t하락\t하락\t하락\t상승\t상승\t상승\t상승\t상승\t상승\t상승\t하락\t"
     ]
    }
   ],
   "source": [
    "status = soup.select('div.head_info> span.blind')\n",
    "for idx in range(len(status)):\n",
    "    print(status[idx].text,end='\\t')"
   ]
  },
  {
   "cell_type": "code",
   "execution_count": 20,
   "id": "f3e95b70",
   "metadata": {
    "ExecuteTime": {
     "end_time": "2024-12-10T04:03:57.079160Z",
     "start_time": "2024-12-10T04:03:57.069986Z"
    }
   },
   "outputs": [
    {
     "data": {
      "text/plain": [
       "(12, 12, 12, 12)"
      ]
     },
     "execution_count": 20,
     "metadata": {},
     "output_type": "execute_result"
    }
   ],
   "source": [
    "len(title),len(price),len(unit),len(status)"
   ]
  },
  {
   "cell_type": "code",
   "execution_count": 21,
   "id": "27d250b1",
   "metadata": {
    "ExecuteTime": {
     "end_time": "2024-12-10T04:03:57.089575Z",
     "start_time": "2024-12-10T04:03:57.082166Z"
    }
   },
   "outputs": [
    {
     "name": "stdout",
     "output_type": "stream",
     "text": [
      "미국 USD:1,427.80 원 - 하락\n",
      "일본 JPY(100엔):945.09 원 - 하락\n",
      "유럽연합 EUR:1,507.40 원 - 하락\n",
      "중국 CNY:196.91 원 - 하락\n",
      "달러/일본 엔:150.9200 엔 - 상승\n",
      "유로/달러:1.0580 달러 - 상승\n",
      "영국 파운드/달러:1.2779 달러 - 상승\n",
      "달러인덱스:106.1200  - 상승\n",
      "WTI:68.37 달러 - 상승\n",
      "휘발유:1645.82 원 - 상승\n",
      "국제 금:2685.8 달러 - 상승\n",
      "국내 금:122558.1 원 - 하락\n"
     ]
    }
   ],
   "source": [
    "for idx in range(len(title)):\n",
    "    print(\"{}:{} {} - {}\".format(title[idx].text,price[idx].text,unit[idx],status[idx].text))"
   ]
  },
  {
   "cell_type": "code",
   "execution_count": 22,
   "id": "db4217a2",
   "metadata": {
    "ExecuteTime": {
     "end_time": "2024-12-10T04:03:57.098543Z",
     "start_time": "2024-12-10T04:03:57.092578Z"
    }
   },
   "outputs": [
    {
     "name": "stdout",
     "output_type": "stream",
     "text": [
      "미국 USD:1,427.80 원 - 하락\n",
      "일본 JPY(100엔):945.09 원 - 하락\n",
      "유럽연합 EUR:1,507.40 원 - 하락\n",
      "중국 CNY:196.91 원 - 하락\n",
      "달러/일본 엔:150.9200 엔 - 상승\n",
      "유로/달러:1.0580 달러 - 상승\n",
      "영국 파운드/달러:1.2779 달러 - 상승\n",
      "달러인덱스:106.1200  - 상승\n",
      "WTI:68.37 달러 - 상승\n",
      "휘발유:1645.82 원 - 상승\n",
      "국제 금:2685.8 달러 - 상승\n",
      "국내 금:122558.1 원 - 하락\n"
     ]
    }
   ],
   "source": [
    "for t,p,u,s in zip(title,price,unit,status):\n",
    "    print(\"{}:{} {} - {}\".format(t.text,p.text,u,s.text))"
   ]
  },
  {
   "cell_type": "markdown",
   "id": "81395ca4",
   "metadata": {},
   "source": [
    "### 2) 이번주 로또번호 출력\n",
    "- https://dhlottery.co.kr/gameResult.do?method=byWin\n",
    "- 1148회 (2024년 11월 20일 추천)\n",
    "당첨번호 : [3,6,13,15,16,22]\n",
    "보너스번호 : 32"
   ]
  },
  {
   "cell_type": "code",
   "execution_count": 23,
   "id": "9c9f9ac0",
   "metadata": {
    "ExecuteTime": {
     "end_time": "2024-12-10T04:03:57.429998Z",
     "start_time": "2024-12-10T04:03:57.100537Z"
    }
   },
   "outputs": [],
   "source": [
    "# 방법2\n",
    "from urllib.request import urlopen\n",
    "url = 'https://dhlottery.co.kr/gameResult.do?method=byWin'\n",
    "response=urlopen(url)\n",
    "soup = BeautifulSoup(response,'html.parser')\n"
   ]
  },
  {
   "cell_type": "code",
   "execution_count": 24,
   "id": "a89b5c13",
   "metadata": {
    "ExecuteTime": {
     "end_time": "2024-12-10T04:03:58.005816Z",
     "start_time": "2024-12-10T04:03:57.433212Z"
    }
   },
   "outputs": [
    {
     "name": "stdout",
     "output_type": "stream",
     "text": [
      "1149회\n",
      "1149회 (2024년 12월 07일 추첨)\n",
      "로또번호 : [8, 15, 19, 21, 32, 36]\n"
     ]
    },
    {
     "ename": "NameError",
     "evalue": "name 'bonus_number' is not defined",
     "output_type": "error",
     "traceback": [
      "\u001b[1;31m---------------------------------------------------------------------------\u001b[0m",
      "\u001b[1;31mNameError\u001b[0m                                 Traceback (most recent call last)",
      "Cell \u001b[1;32mIn[24], line 16\u001b[0m\n\u001b[0;32m     14\u001b[0m bonus \u001b[38;5;241m=\u001b[39m soup\u001b[38;5;241m.\u001b[39mfind(\u001b[38;5;124m'\u001b[39m\u001b[38;5;124mdiv\u001b[39m\u001b[38;5;124m'\u001b[39m,class_\u001b[38;5;241m=\u001b[39m\u001b[38;5;124m'\u001b[39m\u001b[38;5;124mbonus\u001b[39m\u001b[38;5;124m'\u001b[39m)\n\u001b[0;32m     15\u001b[0m bonus_numbers \u001b[38;5;241m=\u001b[39m bonus\u001b[38;5;241m.\u001b[39mfind(\u001b[38;5;124m'\u001b[39m\u001b[38;5;124mspan\u001b[39m\u001b[38;5;124m'\u001b[39m)\u001b[38;5;241m.\u001b[39mtext\n\u001b[1;32m---> 16\u001b[0m \u001b[38;5;28mprint\u001b[39m(\u001b[38;5;124m'\u001b[39m\u001b[38;5;124m보너스 번호:\u001b[39m\u001b[38;5;124m'\u001b[39m,\u001b[43mbonus_number\u001b[49m)\n",
      "\u001b[1;31mNameError\u001b[0m: name 'bonus_number' is not defined"
     ]
    }
   ],
   "source": [
    "# times = soup.select_one('div.win_result strong').text # 1148회\n",
    "winresult= soup.find('div',class_='win_result')\n",
    "times = winresult.find('strong').text\n",
    "date = winresult.find('p',class_='desc').text\n",
    "print(times)\n",
    "# date = soup.select_one('div.win_result p.desc').text # > 를 쓰고싶으면 바로 밑에 있는 자식이어야한다\n",
    "print(times,date)\n",
    "# lotto_number = soup.select('div.num.win span')\n",
    "win = soup.find('div',class_=['win'])\n",
    "lotto_numbers= win.find_all('span')\n",
    "print('로또번호 :',[int(lotto.text) for lotto in lotto_numbers])\n",
    "\n",
    "# bonus_number = soup.select_one('div.num.bonus span').text\n",
    "bonus = soup.find('div',class_='bonus')\n",
    "bonus_numbers = bonus.find('span').text\n",
    "print('보너스 번호:',bonus_number)"
   ]
  },
  {
   "cell_type": "markdown",
   "id": "f06b8e38",
   "metadata": {},
   "source": [
    "### 3) 다음 검색 리스트 가져오기\n",
    "```\n",
    "no title        href\n",
    "- 비트코인 뉴스 - https://search.daum.net/search?w=news&nil_search=btn&DA=NTB&enc=utf8&cluster=y&cluster_page=1&q=%EB%B9%84%ED%8A%B8%EC%BD%94%EC%9D%B8\n",
    "- \"비트코인 8800만원에 주운 사람이 승자\"…한밤 불태운 코인 투자자들 - https://v.daum.net/v/20241204113454203\n",
    "- [속보] 비상계엄 선포에 비트코인 '쇼크'…30% 급락 https://v.daum.net/v/20241203231205730\n",
    "\n",
    "```"
   ]
  },
  {
   "cell_type": "code",
   "execution_count": null,
   "id": "d00efb6c",
   "metadata": {
    "ExecuteTime": {
     "end_time": "2024-12-10T04:03:58.011715Z",
     "start_time": "2024-12-10T04:03:58.011715Z"
    }
   },
   "outputs": [],
   "source": [
    "import requests\n",
    "from bs4 import BeautifulSoup\n",
    "url ='https://search.daum.net/search?w=news&nil_search=btn&DA=NTB&enc=utf8&cluster=y&cluster_page=1&q=%EB%B9%84%ED%8A%B8%EC%BD%94%EC%9D%B8'\n",
    "response = requests.get(url)\n",
    "soup = BeautifulSoup(response.text,\"html.parser\")\n",
    "items_find_list=[] # 검색한 결과를 담을 dict 리스트\n",
    "items_el = soup.select('div.item-title > strong.tit-g > a')\n",
    "for idx, item in enumerate(items_el):\n",
    "    items_find_list.append({'no':idx,\n",
    "                           'title':item.text,\n",
    "                           'link':item.attrs['href']})\n",
    "\n",
    "items_find_list\n",
    "import pandas as pd\n",
    "pd.DataFrame(items_find_list)\n"
   ]
  },
  {
   "cell_type": "code",
   "execution_count": null,
   "id": "25c0ddf2",
   "metadata": {
    "ExecuteTime": {
     "end_time": "2024-12-10T04:03:58.013708Z",
     "start_time": "2024-12-10T04:03:58.013708Z"
    }
   },
   "outputs": [],
   "source": [
    "import requests\n",
    "from bs4 import BeautifulSoup\n",
    "url ='https://search.daum.net/search?w=news&nil_search=btn&DA=NTB&enc=utf8&cluster=y&cluster_page=1&q=%EB%B9%84%ED%8A%B8%EC%BD%94%EC%9D%B8'\n",
    "response = requests.get(url)\n",
    "soup = BeautifulSoup(response.text,\"html.parser\")\n",
    "items_find_list=[] # 검색한 결과를 담을 dict 리스트\n",
    "items_el = soup.select('div.item-title > strong.tit-g > a')\n",
    "for idx, item in enumerate(items_el):\n",
    "    items_find_list.append([idx,item.text,item.attrs['href']])\n",
    "\n",
    "#print(items_find_list)\n",
    "import pandas as pd\n",
    "pd.DataFrame(items_find_list,columns=['no','title','link'])\n"
   ]
  },
  {
   "cell_type": "code",
   "execution_count": null,
   "id": "f604af07",
   "metadata": {
    "ExecuteTime": {
     "end_time": "2024-12-10T04:03:58.016699Z",
     "start_time": "2024-12-10T04:03:58.016699Z"
    }
   },
   "outputs": [],
   "source": [
    "items_find_list=[] # 검색한 결과를 담을 dict 리스트('div.item-title > strong.tit-g > a')\n",
    "item_titles = soup.find_all('div',class_='item-title')\n",
    "\n",
    "for idx, item in enumerate(item_titles):\n",
    "    strong = item.find('strong')\n",
    "    if strong:\n",
    "        a = strong.find('a')\n",
    "        items_find_list.append([idx, a.text,a.attrs['href']])\n",
    "pd.DataFrame(items_find_list, columns=['no','title','link'])        \n",
    "\n"
   ]
  },
  {
   "cell_type": "code",
   "execution_count": null,
   "id": "e9453862",
   "metadata": {
    "ExecuteTime": {
     "end_time": "2024-12-10T04:03:58.018714Z",
     "start_time": "2024-12-10T04:03:58.018714Z"
    }
   },
   "outputs": [],
   "source": [
    "# 다음 검색 (원하는 키워드를 원하는 페이지 수 만큼)\n",
    "import requests\n",
    "from bs4 import BeautifulSoup\n",
    "import time\n",
    "import pandas as pd\n",
    "# print 하는 함수\n",
    "def collect_list(keyword, page):\n",
    "    '다음 검색을 keyword로 한 결과를 출력 '\n",
    "#   url = \"https://search.daum.net/search?w=news&nil_search=btn&DA=NTB&enc=utf8&cluster=y&cluster_page=1&q={}&p={}\".format(keyword,page)\n",
    "#   response = requests.get(url)\n",
    "    url = \"https://search.daum.net/search?w=news&nil_search=btn&DA=NTB&enc=utf8&cluster=y&cluster_y\"\n",
    "    response = requests.get(url,params = {'q':keyword,'p':page})\n",
    "    soup = BeautifulSoup(response.text,\"html.parser\")\n",
    "    items_find_list=[] # 검색한 결과를 담을 dict 리스트('div.item-title > strong.tit-g > a')\n",
    "    item_titles = soup.find_all('div',class_='item-title')\n",
    "\n",
    "    for idx, item in enumerate(item_titles):\n",
    "        strong = item.find('strong')\n",
    "        if strong:\n",
    "            a = strong.find('a')\n",
    "            items_find_list.append([(page-1)*10+idx+1, a.text,a.attrs['href']])\n",
    "            print((page-1)*10+idx, a.text,a['href'])\n",
    "\n"
   ]
  },
  {
   "cell_type": "code",
   "execution_count": null,
   "id": "b38b613a",
   "metadata": {
    "ExecuteTime": {
     "end_time": "2024-12-10T04:03:58.020688Z",
     "start_time": "2024-12-10T04:03:58.020688Z"
    }
   },
   "outputs": [],
   "source": [
    "collect_list('청바지',1)"
   ]
  },
  {
   "cell_type": "code",
   "execution_count": null,
   "id": "c76c94de",
   "metadata": {
    "ExecuteTime": {
     "end_time": "2024-12-10T04:03:58.022683Z",
     "start_time": "2024-12-10T04:03:58.022683Z"
    }
   },
   "outputs": [],
   "source": [
    "import time\n",
    "keywords = ['청바지','닭가슴살']\n",
    "pages = 3\n",
    "for keyword in keywords:\n",
    "    print(f\" {keyword} 검색결과입니다\")\n",
    "    for page in range(1,pages+1):\n",
    "        collect_list(keyword,page)\n",
    "        time.sleep(1) # 1초 잠시 쉼"
   ]
  },
  {
   "cell_type": "code",
   "execution_count": null,
   "id": "acdd1556",
   "metadata": {
    "ExecuteTime": {
     "end_time": "2024-12-10T04:03:58.026246Z",
     "start_time": "2024-12-10T04:03:58.026246Z"
    }
   },
   "outputs": [],
   "source": [
    "# 다음 검색 (원하는 키워드를 원하는 페이지 수 만큼)\n",
    "import requests\n",
    "from bs4 import BeautifulSoup\n",
    "import time\n",
    "import pandas as pd\n",
    "# print 하는 함수\n",
    "def collect_list_return(keyword, page):\n",
    "    '다음 검색을 keyword로 한 결과를 출력 '\n",
    "#   url = \"https://search.daum.net/search?w=news&nil_search=btn&DA=NTB&enc=utf8&cluster=y&cluster_page=1&q={}&p={}\".format(keyword,page)\n",
    "#   response = requests.get(url)\n",
    "    url = \"https://search.daum.net/search?w=news&nil_search=btn&DA=NTB&enc=utf8&cluster=y&cluster_y\"\n",
    "    response = requests.get(url,params = {'q':keyword,'p':page})\n",
    "    soup = BeautifulSoup(response.text,\"html.parser\")\n",
    "    items_find_list=[] # 검색한 결과를 담을 dict 리스트('div.item-title > strong.tit-g > a')\n",
    "    item_titles = soup.find_all('div',class_='item-title')\n",
    "\n",
    "    for idx, item in enumerate(item_titles):\n",
    "        strong = item.find('strong')\n",
    "        if strong:\n",
    "            a = strong.find('a')\n",
    "            items_find_list.append([(page-1)*10+idx+1, a.text,a.attrs['href']])\n",
    "#            items_find_list.append({\n",
    "#                'no':(page-1)*10+idx,\n",
    "#                'title':a.text,\n",
    "#                'link':a['href']\n",
    "#            })\n",
    "            #print((page-1)*10+idx, a.text,a['href'])\n",
    "            if idx == 9 :\n",
    "                print(page,'페이지 완료')\n",
    "    return items_find_list\n",
    "\n"
   ]
  },
  {
   "cell_type": "code",
   "execution_count": null,
   "id": "dbfcaeea",
   "metadata": {
    "ExecuteTime": {
     "end_time": "2024-12-10T04:03:58.028244Z",
     "start_time": "2024-12-10T04:03:58.028244Z"
    }
   },
   "outputs": [],
   "source": [
    "temp = collect_list_return('청바지',2)"
   ]
  },
  {
   "cell_type": "code",
   "execution_count": null,
   "id": "4ed588e0",
   "metadata": {
    "ExecuteTime": {
     "end_time": "2024-12-10T04:03:58.031261Z",
     "start_time": "2024-12-10T04:03:58.031261Z"
    }
   },
   "outputs": [],
   "source": [
    "import pandas as pd\n",
    "pd.DataFrame(collect_list_return('청바지',2),\n",
    "             columns=['no','title','link'])"
   ]
  },
  {
   "cell_type": "code",
   "execution_count": null,
   "id": "da1145e3",
   "metadata": {
    "ExecuteTime": {
     "end_time": "2024-12-10T04:03:58.033256Z",
     "start_time": "2024-12-10T04:03:58.033256Z"
    }
   },
   "outputs": [],
   "source": [
    "keywords = ['청바지','닭가슴살']\n",
    "result0=[]# 청바지 1~pages까지 검색결과를 담을 list\n",
    "result1=[]# 닭가슴살 1~pages까지 검색결과를 담을 list\n",
    "\n",
    "pages = 3\n",
    "for i, keyword in enumerate(keywords):\n",
    "    print(f'============{i+1}번째 검색어 {keyword}검색결과 수집중입니다')\n",
    "    for page in range(1,pages+1):\n",
    "        if i==0:\n",
    "            result0.extend(collect_list_return(keyword,page))\n",
    "        elif i==1:\n",
    "            result1.extend(collect_list_return(keyword,page))"
   ]
  },
  {
   "cell_type": "code",
   "execution_count": null,
   "id": "c92a2be8",
   "metadata": {
    "ExecuteTime": {
     "end_time": "2024-12-10T04:03:58.035222Z",
     "start_time": "2024-12-10T04:03:58.035222Z"
    }
   },
   "outputs": [],
   "source": [
    "result0_df=pd.DataFrame(result0)\n",
    "result1_df=pd.DataFrame(result1)\n"
   ]
  },
  {
   "cell_type": "code",
   "execution_count": null,
   "id": "4b199f5b",
   "metadata": {
    "ExecuteTime": {
     "end_time": "2024-12-10T04:03:58.037219Z",
     "start_time": "2024-12-10T04:03:58.037219Z"
    }
   },
   "outputs": [],
   "source": [
    "result0_df.to_csv('data/ch14_'+keywords[0]+'.csv',index=False)\n",
    "result1_df.to_csv('data/ch14_'+keywords[1]+'.csv',index=False)"
   ]
  },
  {
   "cell_type": "markdown",
   "id": "78979707",
   "metadata": {},
   "source": [
    "### 4) User-Agent를 추가하여 크롤링\n",
    "- 크롤링을 막는 사이트\n",
    "-https://www.melon.com/robots.txt에서 "
   ]
  },
  {
   "cell_type": "code",
   "execution_count": null,
   "id": "98441e1c",
   "metadata": {
    "ExecuteTime": {
     "end_time": "2024-12-10T04:03:58.040632Z",
     "start_time": "2024-12-10T04:03:58.039620Z"
    }
   },
   "outputs": [],
   "source": [
    "# 방법1 \n",
    "from urllib.request import urlopen\n",
    "from bs4 import BeautifulSoup\n",
    "url = \"https://www.melon.com/chart/\"\n",
    "#melonpage = urlopen(url) #error"
   ]
  },
  {
   "cell_type": "code",
   "execution_count": null,
   "id": "4f366227",
   "metadata": {
    "ExecuteTime": {
     "end_time": "2024-12-10T04:03:58.045547Z",
     "start_time": "2024-12-10T04:03:58.045547Z"
    }
   },
   "outputs": [],
   "source": [
    "import requests\n",
    "from bs4 import BeautifulSoup\n",
    "url = \"https://www.melon.com/chart/\"\n",
    "melonpage = requests.get(url)\n",
    "melonpage\n",
    "soup = BeautifulSoup(melonpage.text,\"html.parser\")\n",
    "soup"
   ]
  },
  {
   "cell_type": "code",
   "execution_count": null,
   "id": "4cd1a117",
   "metadata": {
    "ExecuteTime": {
     "end_time": "2024-12-10T04:03:58.047570Z",
     "start_time": "2024-12-10T04:03:58.047570Z"
    }
   },
   "outputs": [],
   "source": [
    "# User-Agent 를 추가\n",
    "import requests\n",
    "from bs4 import BeautifulSoup\n",
    "url = \"https://www.melon.com/chart/\"\n",
    "headers= {'user-agent':'Mozilla/5.0 (Windows NT 10.0; Win64; x64) AppleWebKit/537.36 (KHTML, like Gecko) Chrome/131.0.0.0 Safari/537.36' }\n",
    "melonpage= requests.get(url,headers = headers)\n",
    "# melonpage\n",
    "soup =BeautifulSoup(melonpage.text, # melon.context\n",
    "                    \"html.parser\")\n",
    "title_els = soup.select('div.ellipsis.rank01 > span')\n",
    "divels = soup.find('div', class_='rank01')\n",
    "singer_els = soup.select('div.ellipsis.rank02 > span.checkEllipsis')\n",
    "#[s.text for s in singer_els]\n",
    "[t.text.strip() for t in title_els]\n",
    "#for title_el, singer_el in zip(title_els,singer_els):\n",
    "#    print(title_el.text, '|', singer_el.text)\n",
    "#for idx in range(len(title_els)):\n",
    "#    print(\"{}위 | {}-{}\".format(idx+1,title_els[idx].text.strip(),\n",
    "#                             singer_els[idx].text))\n",
    "\n",
    "for idx,(title_el, singer_el) in enumerate(zip(title_els,singer_els)):\n",
    "    print(\"{}위 | {}-{}\".format(idx+1,\n",
    "                               title_el.text.strip(),\n",
    "                             singer_el.text))"
   ]
  },
  {
   "cell_type": "markdown",
   "id": "498c4021",
   "metadata": {},
   "source": [
    "###  5)네이버 지식인 검색(open API 사용X)\n",
    "- 특정키워드를 특정페이지 수(n페이지)만큼\n"
   ]
  },
  {
   "cell_type": "code",
   "execution_count": null,
   "id": "cbf0ed31",
   "metadata": {
    "ExecuteTime": {
     "end_time": "2024-12-10T04:03:58.050535Z",
     "start_time": "2024-12-10T04:03:58.050535Z"
    }
   },
   "outputs": [],
   "source": [
    "# 방법 1\n",
    "from urllib.request import urlopen\n",
    "from urllib.parse import quote\n",
    "keyword=quote('쳇지피티')\n",
    "# 쳇지피티 =>%EC%B3%87%EC%A7%80%ED%94%BC%ED%8B%B0(url 인코딩 방식으로 전환)\n",
    "url = f\"https://kin.naver.com/search/list.naver?query={keyword}\"\n",
    "response = urlopen(url)\n",
    "print(url)\n",
    "print(response.status)\n"
   ]
  },
  {
   "cell_type": "code",
   "execution_count": null,
   "id": "6a15b36c",
   "metadata": {
    "ExecuteTime": {
     "end_time": "2024-12-10T04:03:58.052530Z",
     "start_time": "2024-12-10T04:03:58.052530Z"
    }
   },
   "outputs": [],
   "source": [
    "# 방법 2\n",
    "from requests import get\n",
    "keyword='쳇지피티'\n",
    "url = f\"https://kin.naver.com/search/list.naver?query={keyword}\"\n",
    "response = get(url)\n",
    "print(url)\n",
    "print(response.status_code)"
   ]
  },
  {
   "cell_type": "code",
   "execution_count": null,
   "id": "15203078",
   "metadata": {
    "ExecuteTime": {
     "end_time": "2024-12-10T04:03:58.055742Z",
     "start_time": "2024-12-10T04:03:58.055742Z"
    }
   },
   "outputs": [],
   "source": [
    "# paging 처리 포함한 (select 사용)\n",
    "keyword= '쳇지피티'\n",
    "pages = 3\n",
    "items_list = [] # 크롤링한 데이터를 담을 list\n",
    "for page in range(1,pages+1):\n",
    "    url = f'https://kin.naver.com/search/list.naver?query={keyword}&page={page}'\n",
    "    # 글 제목과 link를 가져와서 items_list\n",
    "    response = requests.get(url)\n",
    "    soup = BeautifulSoup(response.text,\"html.parser\")\n",
    "    items_find_list=[] # 검색한 결과를 담을 dict 리스트\n",
    "    items_el = soup.select('ul.basic1 >li dl dt > a')\n",
    "    for idx, item in enumerate(items_el):\n",
    "        items_find_list.append({'title':item.text,\n",
    "                           'link':item.attrs['href']})\n",
    "\n",
    "items_find_list\n",
    "import pandas as pd\n",
    "pd.DataFrame(items_find_list)\n",
    "\n"
   ]
  },
  {
   "cell_type": "code",
   "execution_count": null,
   "id": "7211858e",
   "metadata": {
    "ExecuteTime": {
     "end_time": "2024-12-10T04:03:58.055742Z",
     "start_time": "2024-12-10T04:03:58.055742Z"
    }
   },
   "outputs": [],
   "source": [
    "# paging 처리 포함한 (find 사용)\n",
    "keyword= '쳇지피티'\n",
    "pages = 1\n",
    "items_list = [] # 크롤링한 데이터를 담을 list\n",
    "for page in range(1,pages+1):\n",
    "    url = f'https://kin.naver.com/search/list.naver?query={keyword}&page={page}'\n",
    "    # 글 제목과 link를 가져와서 items_list\n",
    "    response = requests.get(url)\n",
    "    soup = BeautifulSoup(response.text,\"html.parser\")\n",
    "    dt_els = soup.find_all('dt')\n",
    "    for dt_el in dt_els:\n",
    "        item=dt_el.find('a')\n",
    "        items_list.append({'title': item.text,\n",
    "                          'link': item.attrs['href']})\n",
    "items_list\n",
    "import pandas as pd\n",
    "pd.DataFrame(items_list)\n",
    "\n"
   ]
  },
  {
   "cell_type": "markdown",
   "id": "dc837ebe",
   "metadata": {},
   "source": [
    "###  6)네이버 지식인 검색(open API 사용O)\n",
    "- 특정키워드를 특정여러 데이터(n개)만큼\n"
   ]
  },
  {
   "cell_type": "code",
   "execution_count": null,
   "id": "f6f96c36",
   "metadata": {
    "ExecuteTime": {
     "end_time": "2024-12-10T04:03:58.055742Z",
     "start_time": "2024-12-10T04:03:58.055742Z"
    },
    "scrolled": true
   },
   "outputs": [],
   "source": [
    "import os\n",
    "import sys\n",
    "import urllib.request\n",
    "client_id = \"iCI8iNLX2KTckJkLS66U\"\n",
    "client_secret = \"G67mYmxEIL\"\n",
    "encText = urllib.parse.quote(\"쳇지피티\")\n",
    "url = \"https://openapi.naver.com/v1/search/kin.json?query=\" + encText # JSON 결과\n",
    "# url = \"https://openapi.naver.com/v1/search/kin.xml?query=\" + encText # XML 결과\n",
    "request = urllib.request.Request(url)\n",
    "request.add_header(\"X-Naver-Client-Id\",client_id)\n",
    "request.add_header(\"X-Naver-Client-Secret\",client_secret)\n",
    "response = urllib.request.urlopen(request)\n",
    "rescode = response.getcode()\n",
    "if(rescode==200):\n",
    "    response_body = response.read()\n",
    "    print(response_body.decode('utf-8'))\n",
    "else:\n",
    "    print(\"Error Code:\" + rescode)"
   ]
  },
  {
   "cell_type": "code",
   "execution_count": null,
   "id": "f9f4821d",
   "metadata": {
    "ExecuteTime": {
     "end_time": "2024-12-10T04:03:58.062712Z",
     "start_time": "2024-12-10T04:03:58.062712Z"
    }
   },
   "outputs": [],
   "source": [
    "import requests\n",
    "import pandas as pd\n",
    "import json # response 텍스트를 json딕셔너리로\n",
    "client_id = \"iCI8iNLX2KTckJkLS66U\"\n",
    "client_secret = \"G67mYmxEIL\"\n",
    "query = '쳇지피티'\n",
    "items_list = []\n",
    "url = f\"https://openapi.naver.com/v1/search/kin.json?query={query}&display=30\"\n",
    "headers = {\"X-Naver-Client-ID\":client_id,\n",
    "          \"X-Naver-Client-Secret\":client_secret}\n",
    "response = requests.get(url,headers=headers)\n",
    "#print(response.text[:500])\n",
    "items = json.loads(response.text)['items']\n",
    "for item in items:\n",
    "    title = item['title'].replace('<b>','').replace('</b>','')\n",
    "    link = item['link']\n",
    "    description = item['description'].replace('<b>','').replace('</b>','')\n",
    "    items_list.append([title,link,description])\n",
    "pd.DataFrame(items_list,columns=['title','link','description'])"
   ]
  },
  {
   "cell_type": "markdown",
   "id": "7717615a",
   "metadata": {},
   "source": [
    "### quiz) 네이버 open API를 이용해서 청바지 이미지 100건의 데이터를 img_list.csv 파일로"
   ]
  },
  {
   "cell_type": "code",
   "execution_count": null,
   "id": "402345d8",
   "metadata": {
    "ExecuteTime": {
     "end_time": "2024-12-10T04:03:58.064706Z",
     "start_time": "2024-12-10T04:03:58.064706Z"
    }
   },
   "outputs": [],
   "source": [
    "def get_image_list(query):\n",
    "    import requests\n",
    "    import json # response 텍스트를 json딕셔너리로\n",
    "    client_id = \"iCI8iNLX2KTckJkLS66U\"\n",
    "    client_secret = \"G67mYmxEIL\"\n",
    "    image_list = []\n",
    "    url = f\"https://openapi.naver.com/v1/search/image.json?query={query}&display=100\"\n",
    "    headers = {\"X-Naver-Client-ID\":client_id,\n",
    "              \"X-Naver-Client-Secret\":client_secret}\n",
    "    response = requests.get(url,headers=headers)\n",
    "    #print(response.text[:500])\n",
    "    items = json.loads(response.text)['items']\n",
    "    for item in items:\n",
    "        title = item['title']\n",
    "        link = item['link']\n",
    "        thumbnail = item['thumbnail']\n",
    "        sizeheight = item['sizeheight']\n",
    "        sizewidth = item['sizewidth']\n",
    "        image_list.append([title,link,thumbnail,sizeheight,sizewidth])\n",
    "        #link 파일을 n.jpg 저장\n",
    "    return image_list"
   ]
  },
  {
   "cell_type": "code",
   "execution_count": null,
   "id": "fa8d64d5",
   "metadata": {
    "ExecuteTime": {
     "end_time": "2024-12-10T04:03:58.067698Z",
     "start_time": "2024-12-10T04:03:58.067698Z"
    }
   },
   "outputs": [],
   "source": [
    "img_list =get_image_list('닭가슴살')\n",
    "df = pd.DataFrame(img_list,columns=['제목','링크','주소','넓이','높이'])\n",
    "df"
   ]
  },
  {
   "cell_type": "code",
   "execution_count": null,
   "id": "5baebc3d",
   "metadata": {
    "ExecuteTime": {
     "end_time": "2024-12-10T04:03:58.069692Z",
     "start_time": "2024-12-10T04:03:58.069692Z"
    }
   },
   "outputs": [],
   "source": [
    "def save_img(i,url):\n",
    "    file_extension = url.split('.')[-1]\n",
    "    quote_index =file_extension.find('?')\n",
    "    if quote_index !=-1:\n",
    "        file_extension = file_extension[:quote_index]\n",
    "    img = requests.get(url).content\n",
    "    open('image/'+str(i+1)+'.'+file_extension,'wb').write(img)"
   ]
  },
  {
   "cell_type": "code",
   "execution_count": null,
   "id": "2b6b7fb1",
   "metadata": {
    "ExecuteTime": {
     "end_time": "2024-12-10T04:03:58.072835Z",
     "start_time": "2024-12-10T04:03:58.072835Z"
    }
   },
   "outputs": [],
   "source": [
    "save_img(0,df.loc[0,'링크'])"
   ]
  },
  {
   "cell_type": "code",
   "execution_count": null,
   "id": "a2f7b427",
   "metadata": {
    "ExecuteTime": {
     "end_time": "2024-12-10T04:03:58.074823Z",
     "start_time": "2024-12-10T04:03:58.074823Z"
    }
   },
   "outputs": [],
   "source": [
    "save_img(9,df.loc[9,'링크'])"
   ]
  },
  {
   "cell_type": "code",
   "execution_count": null,
   "id": "e927f8aa",
   "metadata": {
    "ExecuteTime": {
     "end_time": "2024-12-10T04:03:58.076818Z",
     "start_time": "2024-12-10T04:03:58.076818Z"
    }
   },
   "outputs": [],
   "source": [
    "def get_image_list_save_img(query):\n",
    "    import requests\n",
    "    import pandas as pd\n",
    "    import json # response 텍스트를 json딕셔너리로\n",
    "    client_id = \"iCI8iNLX2KTckJkLS66U\"\n",
    "    client_secret = \"G67mYmxEIL\"\n",
    "    image_list = []\n",
    "    url = f\"https://openapi.naver.com/v1/search/image.json?query={query}&display=100\"\n",
    "    headers = {\"X-Naver-Client-ID\":client_id,\n",
    "              \"X-Naver-Client-Secret\":client_secret}\n",
    "    response = requests.get(url,headers=headers)\n",
    "    #print(response.text[:500])\n",
    "    items = json.loads(response.text)['items']\n",
    "    for idx, item in enumerate(items):\n",
    "        title = item['title']\n",
    "        link = item['link']\n",
    "        thumbnail = item['thumbnail']\n",
    "        sizeheight = item['sizeheight']\n",
    "        sizewidth = item['sizewidth']\n",
    "        image_list.append([title,link,thumbnail,sizeheight,sizewidth])\n",
    "        #link 파일을 n.jpg 저장\n",
    "        save_img(idx,link)\n",
    "        #save_img(idx+1000,thumbnail)\n",
    "    result = pd.DataFrame(image_list)\n",
    "    result.to_csv('image/img_list.csv',index=False)\n",
    "    print('▒▒▒▒▒이미지및 csv 파일 저장완료▒▒▒▒▒▒')\n",
    "    return result"
   ]
  },
  {
   "cell_type": "code",
   "execution_count": null,
   "id": "9a285641",
   "metadata": {
    "ExecuteTime": {
     "end_time": "2024-12-10T04:03:58.078814Z",
     "start_time": "2024-12-10T04:03:58.078814Z"
    }
   },
   "outputs": [],
   "source": [
    "get_image_list_save_img('청바지')"
   ]
  },
  {
   "cell_type": "markdown",
   "id": "6241d6c5",
   "metadata": {},
   "source": [
    "## 2.3 정규표현식을 활요한 데이터 수집\n",
    "- RSS에서 search( 해당 패턴중 처음 내용의 일부), findall(해당 패턴 다 찾기)"
   ]
  },
  {
   "cell_type": "code",
   "execution_count": null,
   "id": "3b514915",
   "metadata": {
    "ExecuteTime": {
     "end_time": "2024-12-10T04:03:58.081804Z",
     "start_time": "2024-12-10T04:03:58.081804Z"
    }
   },
   "outputs": [],
   "source": [
    "import re\n",
    "parsing_str =\"\"\"010-9999-9999 02-888-1234\n",
    "02-777-1212 <city>서울</city> <city>\n",
    "용인</city>\n",
    "<province>서울,인천,경기</province>\n",
    "981212-1052009\n",
    "\"\"\""
   ]
  },
  {
   "cell_type": "code",
   "execution_count": null,
   "id": "70663ed6",
   "metadata": {
    "ExecuteTime": {
     "end_time": "2024-12-10T04:03:58.083799Z",
     "start_time": "2024-12-10T04:03:58.083799Z"
    }
   },
   "outputs": [],
   "source": [
    "phone = re.findall(r'\\d{2,3}-\\d{3,4}-\\d{4}',parsing_str)\n",
    "phone"
   ]
  },
  {
   "cell_type": "code",
   "execution_count": null,
   "id": "4adeb8a4",
   "metadata": {
    "ExecuteTime": {
     "end_time": "2024-12-10T04:03:58.085793Z",
     "start_time": "2024-12-10T04:03:58.085793Z"
    }
   },
   "outputs": [],
   "source": [
    "city = re.findall(r'<city>.+?</city>',parsing_str,re.DOTALL)\n",
    "city"
   ]
  },
  {
   "cell_type": "code",
   "execution_count": null,
   "id": "6d65e2a9",
   "metadata": {
    "ExecuteTime": {
     "end_time": "2024-12-10T04:03:58.087986Z",
     "start_time": "2024-12-10T04:03:58.087986Z"
    }
   },
   "outputs": [],
   "source": [
    "phone = re.search(r'\\d{2,3}-\\d{3,4}-\\d{4}',parsing_str) # 해당 정규표현식의 첫번째 아이만 찾아준다\n",
    "phone"
   ]
  },
  {
   "cell_type": "code",
   "execution_count": null,
   "id": "ef38f00b",
   "metadata": {
    "ExecuteTime": {
     "end_time": "2024-12-10T04:03:58.089981Z",
     "start_time": "2024-12-10T04:03:58.089981Z"
    }
   },
   "outputs": [],
   "source": [
    "phone.group(0)"
   ]
  },
  {
   "cell_type": "code",
   "execution_count": null,
   "id": "72cf5842",
   "metadata": {
    "ExecuteTime": {
     "end_time": "2024-12-10T04:03:58.092972Z",
     "start_time": "2024-12-10T04:03:58.092972Z"
    }
   },
   "outputs": [],
   "source": [
    "province= re.search(r'<province>(.+)</province>',parsing_str)\n",
    "print('정규표현식 내용 전체 :',province.group(0))\n",
    "print('정규표현식 내 괄호 안 추출 :',province.group(1))"
   ]
  },
  {
   "cell_type": "code",
   "execution_count": null,
   "id": "47837637",
   "metadata": {
    "ExecuteTime": {
     "end_time": "2024-12-10T04:03:58.094967Z",
     "start_time": "2024-12-10T04:03:58.094967Z"
    }
   },
   "outputs": [],
   "source": [
    "juminno = re.search(r'(\\d{6})-(\\d{7})',parsing_str)\n",
    "print(juminno.group(0))\n",
    "print(juminno.group(1))\n",
    "print(juminno.group(2))\n"
   ]
  },
  {
   "cell_type": "code",
   "execution_count": null,
   "id": "ab30bc1f",
   "metadata": {
    "ExecuteTime": {
     "end_time": "2024-12-10T04:03:58.097971Z",
     "start_time": "2024-12-10T04:03:58.097971Z"
    }
   },
   "outputs": [],
   "source": [
    "# findall을 이용해서 특정문자 빼기=> replace('뺄문자','')\n",
    "# 특수문자들 빼기 => findall\n",
    "text = \"이 영화는 좋아요★ 이 영화 추천합니다 ^ *$~ㅋㅋ\"\n",
    "temp = re.findall(r'[가-힣a-zA-Z0-9 ]',text)\n",
    "print(''.join(temp))\n"
   ]
  },
  {
   "cell_type": "markdown",
   "id": "807e77a9",
   "metadata": {},
   "source": [
    "### 1) 전국날씨 RSS를 정규표현식을 이용해서 가져오기"
   ]
  },
  {
   "cell_type": "code",
   "execution_count": null,
   "id": "afecd7da",
   "metadata": {
    "ExecuteTime": {
     "end_time": "2024-12-10T04:03:58.099954Z",
     "start_time": "2024-12-10T04:03:58.099954Z"
    }
   },
   "outputs": [],
   "source": [
    "import re\n",
    "from urllib.request import urlopen\n",
    "url = 'http://www.kma.go.kr/weather/forecast/mid-term-rss3.jsp?stnId=108'\n",
    "target = urlopen(url)\n",
    "contents = target.read().decode('utf-8')\n",
    "#print(contents)\n",
    "locations = re.findall(r'<location wl_ver=\"3\">.+?</location>',contents,re.DOTALL)\n",
    "\n",
    "for loc in locations:\n",
    "    province = re.search(r'<province>(.+)</province>',loc)\n",
    "    city = re.search(r'<city>(.+)</city>',loc)\n",
    "    print(province.group(1),'지역의',city.group(1),'도시의 날씨입니다')\n",
    "    data = re.findall(r'<data>.+?</data>',loc,re.DOTALL)\n",
    "    for item in data:\n",
    "        tmEf= re.search(r'<tmEf>(.+)</tmEf>',item).group(1)[:10] # 날짜\n",
    "        time= int(re.search(r'<tmEf>(.+)</tmEf>',item).group(1)[11:13]) # \n",
    "        ampm = '오전' if time<12 else '오후'\n",
    "        wf = re.search(r'<wf>(.+)</wf>',item).group(1) # 날씨\n",
    "        tmn = re.search(r'<tmn>(.+)</tmn>',item).group(1) # 최저기온\n",
    "        tmx = re.search(r'<tmx>(.+)</tmx>',item).group(1) # 최고기온\n",
    "        rnSt = re.search(r'<rnSt>(.+)</rnSt>',item).group(1) # 강수확률\n",
    "        print('\\t날짜:{} {},날씨:{}, 기온:{}~{}, 강수확률:{}'.format(tmEf,ampm, wf,tmn,tmx,rnSt))"
   ]
  },
  {
   "cell_type": "code",
   "execution_count": null,
   "id": "a54ddd02",
   "metadata": {
    "ExecuteTime": {
     "end_time": "2024-12-10T04:03:58.101949Z",
     "start_time": "2024-12-10T04:03:58.101949Z"
    }
   },
   "outputs": [],
   "source": [
    "# request.get() 방식으로 전송,\n",
    "import re\n",
    "import requests\n",
    "from urllib.request import urlopen\n",
    "items_list=[]\n",
    "url = 'http://www.kma.go.kr/weather/forecast/mid-term-rss3.jsp?stnId=108'\n",
    "# target = urlopen(url)\n",
    "#contents = target.read().decode('utf-8')\n",
    "target = requests.get(url)\n",
    "#contents = target.content.decode('utf_8')\n",
    "contents = target.text\n",
    "locations = re.findall(r'<location wl_ver=\"3\">.+?</location>',contents,re.DOTALL)\n",
    "\n",
    "for loc in locations:\n",
    "    province = re.search(r'<province>(.+)</province>',loc).group(1)\n",
    "    city = re.search(r'<city>(.+)</city>',loc).group(1)\n",
    "    data = re.findall(r'<data>.+?</data>',loc,re.DOTALL)\n",
    "    for item in data:\n",
    "        tmEf= re.search(r'<tmEf>(.+)</tmEf>',item).group(1)[:10] # 날짜\n",
    "        time= int(re.search(r'<tmEf>(.+)</tmEf>',item).group(1)[11:13]) # \n",
    "        ampm = '오전' if time<12 else '오후'\n",
    "        wf = re.search(r'<wf>(.+)</wf>',item).group(1) # 날씨\n",
    "        tmn = re.search(r'<tmn>(.+)</tmn>',item).group(1) # 최저기온\n",
    "        tmx = re.search(r'<tmx>(.+)</tmx>',item).group(1) # 최고기온\n",
    "        rnSt = re.search(r'<rnSt>(.+)</rnSt>',item).group(1) # 강수확률\n",
    "        items_list.append({\n",
    "            '지역':province,\n",
    "            '도시':city,\n",
    "            '날짜':tmEf,\n",
    "            'ampm':ampm,\n",
    "            '날씨':wf,\n",
    "            '최저기온':tmn,\n",
    "            '최고기온':tmx,\n",
    "            '강수확률':rnSt     \n",
    "        })\n",
    "import pandas as pd\n",
    "df = pd.DataFrame(items_list)\n",
    "df"
   ]
  },
  {
   "cell_type": "code",
   "execution_count": null,
   "id": "6d6e8253",
   "metadata": {
    "ExecuteTime": {
     "end_time": "2024-12-10T04:03:58.104060Z",
     "start_time": "2024-12-10T04:03:58.104060Z"
    }
   },
   "outputs": [],
   "source": [
    "# 데이터 타입 변경 : astype (유효성 검사가 엄격)\n",
    "    # astype(유효성검사가 엄격)\n",
    "    # to_numeric, to_datetime (데이터가 불안정하거나 비표준형식일 때 편리)\n",
    "df['날짜'].astype('datetime64[ns]')"
   ]
  },
  {
   "cell_type": "code",
   "execution_count": null,
   "id": "4984011b",
   "metadata": {
    "ExecuteTime": {
     "end_time": "2024-12-10T04:03:58.106053Z",
     "start_time": "2024-12-10T04:03:58.106053Z"
    }
   },
   "outputs": [],
   "source": [
    "pd.to_datetime(df['날짜'])"
   ]
  },
  {
   "cell_type": "code",
   "execution_count": null,
   "id": "6f09036a",
   "metadata": {
    "ExecuteTime": {
     "end_time": "2024-12-10T04:03:58.108048Z",
     "start_time": "2024-12-10T04:03:58.108048Z"
    }
   },
   "outputs": [],
   "source": [
    "df['날짜']= pd.to_datetime(df['날짜'])\n",
    "df.info()"
   ]
  },
  {
   "cell_type": "code",
   "execution_count": null,
   "id": "2d3e87a9",
   "metadata": {
    "ExecuteTime": {
     "end_time": "2024-12-10T04:03:58.110043Z",
     "start_time": "2024-12-10T04:03:58.110043Z"
    }
   },
   "outputs": [],
   "source": [
    "df['최저기온'] = df['최저기온'].astype('int')\n",
    "df['최고기온'] = df['최고기온'].astype('int')\n",
    "df['강수확률'] = pd.to_numeric(df['강수확률'])\n",
    "df.info()"
   ]
  },
  {
   "cell_type": "markdown",
   "id": "80f03fb0",
   "metadata": {},
   "source": [
    "### 2)전국날씨 RSS를 BeautifulSoup을 이용한 xml크롤링"
   ]
  },
  {
   "cell_type": "code",
   "execution_count": null,
   "id": "6f0fe9b0",
   "metadata": {
    "ExecuteTime": {
     "end_time": "2024-12-10T04:03:58.113035Z",
     "start_time": "2024-12-10T04:03:58.113035Z"
    }
   },
   "outputs": [],
   "source": [
    "import requests\n",
    "from urllib.request import urlopen\n",
    "from bs4 import BeautifulSoup\n",
    "import pandas as pd\n",
    "import numpy as np\n",
    "\n",
    "items_list = []\n",
    "url = 'http://www.kma.go.kr/weather/forecast/mid-term-rss3.jsp?stnId=108'\n",
    "# target = urlopen(url)\n",
    "# contents = target.read().decode('utf-8')\n",
    "target = requests.get(url)\n",
    "soup = BeautifulSoup(target.text, 'xml') # pip install lxml\n",
    "\n",
    "locations = soup.select('location')\n",
    "# print(locations[0])\n",
    "for loc in locations:\n",
    "    province = loc.select_one('province').text # 지역\n",
    "    city = loc.select_one('city').text # 도시\n",
    "    data = loc.find_all('data')\n",
    "    for item in data:\n",
    "        tmEf = item.select_one('tmEf').text # 날짜와 시간(여기서 오전오후 추출)\n",
    "        ampm = '오전' if tmEf[11]=='0' else '오후'\n",
    "        wf = item.select_one('wf').text # 날씨\n",
    "        tmn = item.select_one('tmn').text # 최저기온\n",
    "        tmx = item.select_one('tmx').text # 최고기온\n",
    "        rnSt = item.select_one('rnSt').text # 강수확률\n",
    "        items_list.append({\n",
    "            '지역':province,\n",
    "            '도시':city,\n",
    "            '날짜':tmEf[:-6],\n",
    "            'ampm':ampm,\n",
    "            '날씨':wf,\n",
    "            '최저':tmn,\n",
    "            '최고':tmx,\n",
    "            '강수확률':rnSt\n",
    "        })\n",
    "df = pd.DataFrame(items_list)\n",
    "df['최저']=df['최저'].astype(np.int16)\n",
    "df['최고']=df['최고'].astype(np.int16)\n",
    "df['강수확률']=df['강수확률'].astype(np.int16)\n",
    "df['날짜']=pd.to_datetime(df['날짜'])\n",
    "df.head()"
   ]
  },
  {
   "cell_type": "markdown",
   "id": "cd5ae04e",
   "metadata": {},
   "source": [
    "### 3) xml 응답하는 Open API 활용\n",
    "- data.go.kr 에서 \n",
    "    * 버스 위치 정보 조회 서비스 활용 신청(실시간 버스 운행 목록)\n",
    "    * 서울특별시_노선정보조회 서비스 활용신청 (버스 id, 버스 정류장 목록)"
   ]
  },
  {
   "cell_type": "code",
   "execution_count": null,
   "id": "7f0ea091",
   "metadata": {
    "ExecuteTime": {
     "end_time": "2024-12-10T04:03:58.115030Z",
     "start_time": "2024-12-10T04:03:58.115030Z"
    }
   },
   "outputs": [],
   "source": [
    "# step1. 버스 번호의 버스 id 받아오기\n",
    "# 서울특별시_노선정보조회 서비스 - 4번() 기능 이용"
   ]
  },
  {
   "cell_type": "code",
   "execution_count": 106,
   "id": "03c6d770",
   "metadata": {
    "ExecuteTime": {
     "end_time": "2024-12-10T06:04:22.395677Z",
     "start_time": "2024-12-10T06:04:22.345902Z"
    }
   },
   "outputs": [
    {
     "name": "stdout",
     "output_type": "stream",
     "text": [
      "버스라우트id : 100100034\n"
     ]
    }
   ],
   "source": [
    "import requests\n",
    "from bs4 import BeautifulSoup\n",
    "from urllib.request import urlretrieve\n",
    "from urllib.parse import quote\n",
    "busNum = '162'\n",
    "#busNum = '강남01'\n",
    "# 인증키\n",
    "key = 'kWiLqR5an3qgHfkycjPmjxAie5mGGzW0LuPktrSNA3kqpsmWfsLSW9TxR9k0khrZgJLecVcO88n5LsStz845eg%3D%3D'\n",
    "# url1= f'http://ws.bus.go.kr/api/rest/busRouteInfo/getBusRouteList?serviceKey={key}&strSrch={quote(busNum)}'\n",
    "url1= f'http://ws.bus.go.kr/api/rest/busRouteInfo/getBusRouteList?serviceKey={key}&strSrch={busNum}'\n",
    "#response = requests.get(url1)\n",
    "#soup = BeautifulSoup(response.text, \"xml\")\n",
    "savefilename1 = 'data/ch14_1busInfo.xml'\n",
    "urlretrieve(url1,savefilename1) # xml 파일을 내 컴에 savefilename1로 저장\n",
    "xml = open(savefilename1,'r',encoding= 'utf-8').read()\n",
    "soup = BeautifulSoup(xml,\"xml\")\n",
    "\n",
    "for itemList in soup.select('itemList'):\n",
    "    busRouteNm = itemList.find('busRouteNm').text\n",
    "    if busRouteNm == busNum:\n",
    "        busRouteId = itemList.find('busRouteId').text\n",
    "        break\n",
    "print('버스라우트id :',busRouteId)"
   ]
  },
  {
   "cell_type": "code",
   "execution_count": null,
   "id": "81728ee9",
   "metadata": {
    "ExecuteTime": {
     "end_time": "2024-12-10T04:03:58.121102Z",
     "start_time": "2024-12-10T04:03:58.121102Z"
    }
   },
   "outputs": [],
   "source": [
    "# step2. 해당 버스 id의 버스 정류장 목록 받아오기"
   ]
  },
  {
   "cell_type": "code",
   "execution_count": 107,
   "id": "ec82876f",
   "metadata": {
    "ExecuteTime": {
     "end_time": "2024-12-10T06:04:25.326462Z",
     "start_time": "2024-12-10T06:04:25.201030Z"
    }
   },
   "outputs": [
    {
     "name": "stdout",
     "output_type": "stream",
     "text": [
      "http://ws.bus.go.kr/api/rest/busRouteInfo/getStaionByRoute?ServiceKey=kWiLqR5an3qgHfkycjPmjxAie5mGGzW0LuPktrSNA3kqpsmWfsLSW9TxR9k0khrZgJLecVcO88n5LsStz845eg%3D%3D&busRouteId=100100034\n"
     ]
    },
    {
     "data": {
      "text/html": [
       "<div>\n",
       "<style scoped>\n",
       "    .dataframe tbody tr th:only-of-type {\n",
       "        vertical-align: middle;\n",
       "    }\n",
       "\n",
       "    .dataframe tbody tr th {\n",
       "        vertical-align: top;\n",
       "    }\n",
       "\n",
       "    .dataframe thead th {\n",
       "        text-align: right;\n",
       "    }\n",
       "</style>\n",
       "<table border=\"1\" class=\"dataframe\">\n",
       "  <thead>\n",
       "    <tr style=\"text-align: right;\">\n",
       "      <th></th>\n",
       "      <th>정류장</th>\n",
       "      <th>id</th>\n",
       "      <th>경도</th>\n",
       "      <th>위도</th>\n",
       "    </tr>\n",
       "  </thead>\n",
       "  <tbody>\n",
       "    <tr>\n",
       "      <th>0</th>\n",
       "      <td>정릉산장아파트</td>\n",
       "      <td>107000071</td>\n",
       "      <td>127.003343</td>\n",
       "      <td>37.616712</td>\n",
       "    </tr>\n",
       "    <tr>\n",
       "      <th>1</th>\n",
       "      <td>정릉4동주민센터.경국사</td>\n",
       "      <td>107000073</td>\n",
       "      <td>127.006345</td>\n",
       "      <td>37.613529</td>\n",
       "    </tr>\n",
       "    <tr>\n",
       "      <th>2</th>\n",
       "      <td>북한산보국문역2번출구</td>\n",
       "      <td>107000518</td>\n",
       "      <td>127.0079858233</td>\n",
       "      <td>37.612293899</td>\n",
       "    </tr>\n",
       "    <tr>\n",
       "      <th>3</th>\n",
       "      <td>성북청수도서관.정릉4동성당</td>\n",
       "      <td>107000075</td>\n",
       "      <td>127.0084193769</td>\n",
       "      <td>37.6115696748</td>\n",
       "    </tr>\n",
       "    <tr>\n",
       "      <th>4</th>\n",
       "      <td>정릉시장입구</td>\n",
       "      <td>107000077</td>\n",
       "      <td>127.0098212542</td>\n",
       "      <td>37.6084653256</td>\n",
       "    </tr>\n",
       "    <tr>\n",
       "      <th>...</th>\n",
       "      <td>...</td>\n",
       "      <td>...</td>\n",
       "      <td>...</td>\n",
       "      <td>...</td>\n",
       "    </tr>\n",
       "    <tr>\n",
       "      <th>72</th>\n",
       "      <td>성북청수도서관.정릉4동성당</td>\n",
       "      <td>107000076</td>\n",
       "      <td>127.009045</td>\n",
       "      <td>37.610876</td>\n",
       "    </tr>\n",
       "    <tr>\n",
       "      <th>73</th>\n",
       "      <td>북한산보국문역1번출구</td>\n",
       "      <td>107000519</td>\n",
       "      <td>127.008329146</td>\n",
       "      <td>37.6120835499</td>\n",
       "    </tr>\n",
       "    <tr>\n",
       "      <th>74</th>\n",
       "      <td>정릉4동주민센터.경국사</td>\n",
       "      <td>107000074</td>\n",
       "      <td>127.006681</td>\n",
       "      <td>37.613335</td>\n",
       "    </tr>\n",
       "    <tr>\n",
       "      <th>75</th>\n",
       "      <td>정릉대우아파트</td>\n",
       "      <td>107000072</td>\n",
       "      <td>127.00386</td>\n",
       "      <td>37.616708</td>\n",
       "    </tr>\n",
       "    <tr>\n",
       "      <th>76</th>\n",
       "      <td>대진여객차고지</td>\n",
       "      <td>107000246</td>\n",
       "      <td>127.000797</td>\n",
       "      <td>37.617689</td>\n",
       "    </tr>\n",
       "  </tbody>\n",
       "</table>\n",
       "<p>77 rows × 4 columns</p>\n",
       "</div>"
      ],
      "text/plain": [
       "               정류장         id              경도             위도\n",
       "0          정릉산장아파트  107000071      127.003343      37.616712\n",
       "1     정릉4동주민센터.경국사  107000073      127.006345      37.613529\n",
       "2      북한산보국문역2번출구  107000518  127.0079858233   37.612293899\n",
       "3   성북청수도서관.정릉4동성당  107000075  127.0084193769  37.6115696748\n",
       "4           정릉시장입구  107000077  127.0098212542  37.6084653256\n",
       "..             ...        ...             ...            ...\n",
       "72  성북청수도서관.정릉4동성당  107000076      127.009045      37.610876\n",
       "73     북한산보국문역1번출구  107000519   127.008329146  37.6120835499\n",
       "74    정릉4동주민센터.경국사  107000074      127.006681      37.613335\n",
       "75         정릉대우아파트  107000072       127.00386      37.616708\n",
       "76         대진여객차고지  107000246      127.000797      37.617689\n",
       "\n",
       "[77 rows x 4 columns]"
      ]
     },
     "execution_count": 107,
     "metadata": {},
     "output_type": "execute_result"
    }
   ],
   "source": [
    "import pandas as pd\n",
    "\n",
    "url2 = f'http://ws.bus.go.kr/api/rest/busRouteInfo/getStaionByRoute?ServiceKey={key}&busRouteId={busRouteId}'\n",
    "print(url2)\n",
    "response = requests.get(url2)  # Ensure the variable is named 'response'\n",
    "soup = BeautifulSoup(response.text, \"xml\")  # Correct use of .text\n",
    "itemLists = soup.find_all('itemList')\n",
    "bus_station=[]\n",
    "for itemList in itemLists:\n",
    "    stationNm = itemList.find('stationNm').text\n",
    "    station = itemList.find('station').text\n",
    "    gpsX = itemList.find('gpsX').text\n",
    "    gpsY = itemList.find('gpsY').text\n",
    "    bus_station.append([stationNm,station,gpsX,gpsY])\n",
    "df = pd.DataFrame(bus_station,columns=['정류장','id','경도','위도'])\n",
    "df"
   ]
  },
  {
   "cell_type": "code",
   "execution_count": null,
   "id": "1f9cb4f6",
   "metadata": {
    "ExecuteTime": {
     "end_time": "2024-12-10T04:03:58.123097Z",
     "start_time": "2024-12-10T04:03:58.123097Z"
    }
   },
   "outputs": [],
   "source": [
    "# step3. 해당 버스의 실시간 위치정보 받아오기 getBusPosByRtidList"
   ]
  },
  {
   "cell_type": "code",
   "execution_count": 108,
   "id": "0d317707",
   "metadata": {
    "ExecuteTime": {
     "end_time": "2024-12-10T06:04:27.340789Z",
     "start_time": "2024-12-10T06:04:27.263947Z"
    }
   },
   "outputs": [
    {
     "name": "stdout",
     "output_type": "stream",
     "text": [
      "http://ws.bus.go.kr/api/rest/buspos/getBusPosByRtid?ServiceKey=kWiLqR5an3qgHfkycjPmjxAie5mGGzW0LuPktrSNA3kqpsmWfsLSW9TxR9k0khrZgJLecVcO88n5LsStz845eg%3D%3D&busRouteId=100100034\n",
      "162번 버스 운행중인 버스는21대 입니다\n"
     ]
    },
    {
     "data": {
      "text/html": [
       "<div>\n",
       "<style scoped>\n",
       "    .dataframe tbody tr th:only-of-type {\n",
       "        vertical-align: middle;\n",
       "    }\n",
       "\n",
       "    .dataframe tbody tr th {\n",
       "        vertical-align: top;\n",
       "    }\n",
       "\n",
       "    .dataframe thead th {\n",
       "        text-align: right;\n",
       "    }\n",
       "</style>\n",
       "<table border=\"1\" class=\"dataframe\">\n",
       "  <thead>\n",
       "    <tr style=\"text-align: right;\">\n",
       "      <th></th>\n",
       "      <th>차량번호</th>\n",
       "      <th>혼잡도</th>\n",
       "      <th>경도</th>\n",
       "      <th>위도</th>\n",
       "      <th>최종정류소ID</th>\n",
       "      <th>다음정류소ID</th>\n",
       "      <th>도착소요시간</th>\n",
       "    </tr>\n",
       "  </thead>\n",
       "  <tbody>\n",
       "    <tr>\n",
       "      <th>0</th>\n",
       "      <td>서울74사3381</td>\n",
       "      <td>여유</td>\n",
       "      <td>127.011763</td>\n",
       "      <td>37.604466</td>\n",
       "      <td>107000079</td>\n",
       "      <td>107000168</td>\n",
       "      <td>125</td>\n",
       "    </tr>\n",
       "    <tr>\n",
       "      <th>1</th>\n",
       "      <td>서울74사3030</td>\n",
       "      <td>여유</td>\n",
       "      <td>127.015301</td>\n",
       "      <td>37.596501</td>\n",
       "      <td>107000172</td>\n",
       "      <td>101000042</td>\n",
       "      <td>1721</td>\n",
       "    </tr>\n",
       "    <tr>\n",
       "      <th>2</th>\n",
       "      <td>서울74사2201</td>\n",
       "      <td>여유</td>\n",
       "      <td>127.001744</td>\n",
       "      <td>37.586243</td>\n",
       "      <td>100000005</td>\n",
       "      <td>101000042</td>\n",
       "      <td>1266</td>\n",
       "    </tr>\n",
       "    <tr>\n",
       "      <th>3</th>\n",
       "      <td>서울74사1967</td>\n",
       "      <td>여유</td>\n",
       "      <td>126.996958</td>\n",
       "      <td>37.577386</td>\n",
       "      <td>100000002</td>\n",
       "      <td>101000042</td>\n",
       "      <td>1035</td>\n",
       "    </tr>\n",
       "    <tr>\n",
       "      <th>4</th>\n",
       "      <td>서울70사6556</td>\n",
       "      <td>여유</td>\n",
       "      <td>126.98272</td>\n",
       "      <td>37.574611</td>\n",
       "      <td>100000107</td>\n",
       "      <td>101000042</td>\n",
       "      <td>498</td>\n",
       "    </tr>\n",
       "    <tr>\n",
       "      <th>5</th>\n",
       "      <td>서울74사3008</td>\n",
       "      <td>여유</td>\n",
       "      <td>126.982635</td>\n",
       "      <td>37.567936</td>\n",
       "      <td>101000141</td>\n",
       "      <td>101000042</td>\n",
       "      <td>207</td>\n",
       "    </tr>\n",
       "    <tr>\n",
       "      <th>6</th>\n",
       "      <td>서울74사1537</td>\n",
       "      <td>여유</td>\n",
       "      <td>126.972779</td>\n",
       "      <td>37.554163</td>\n",
       "      <td>101000004</td>\n",
       "      <td>102000018</td>\n",
       "      <td>395</td>\n",
       "    </tr>\n",
       "    <tr>\n",
       "      <th>7</th>\n",
       "      <td>서울74사1618</td>\n",
       "      <td>여유</td>\n",
       "      <td>126.968665</td>\n",
       "      <td>37.540095</td>\n",
       "      <td>102000045</td>\n",
       "      <td>118000061</td>\n",
       "      <td>522</td>\n",
       "    </tr>\n",
       "    <tr>\n",
       "      <th>8</th>\n",
       "      <td>서울74사3372</td>\n",
       "      <td>여유</td>\n",
       "      <td>126.963196</td>\n",
       "      <td>37.5364</td>\n",
       "      <td>102000050</td>\n",
       "      <td>118000061</td>\n",
       "      <td>319</td>\n",
       "    </tr>\n",
       "    <tr>\n",
       "      <th>9</th>\n",
       "      <td>서울70사6557</td>\n",
       "      <td>여유</td>\n",
       "      <td>126.92323</td>\n",
       "      <td>37.522601</td>\n",
       "      <td>118000076</td>\n",
       "      <td>118000070</td>\n",
       "      <td>167</td>\n",
       "    </tr>\n",
       "    <tr>\n",
       "      <th>10</th>\n",
       "      <td>서울74사1604</td>\n",
       "      <td>여유</td>\n",
       "      <td>126.930211</td>\n",
       "      <td>37.518174</td>\n",
       "      <td>118000066</td>\n",
       "      <td>102000053</td>\n",
       "      <td>366</td>\n",
       "    </tr>\n",
       "    <tr>\n",
       "      <th>11</th>\n",
       "      <td>서울74사3366</td>\n",
       "      <td>여유</td>\n",
       "      <td>126.963663</td>\n",
       "      <td>37.536319</td>\n",
       "      <td>102000049</td>\n",
       "      <td>102000019</td>\n",
       "      <td>452</td>\n",
       "    </tr>\n",
       "    <tr>\n",
       "      <th>12</th>\n",
       "      <td>서울70사6549</td>\n",
       "      <td>여유</td>\n",
       "      <td>126.971025</td>\n",
       "      <td>37.541744</td>\n",
       "      <td>102000046</td>\n",
       "      <td>102000019</td>\n",
       "      <td>252</td>\n",
       "    </tr>\n",
       "    <tr>\n",
       "      <th>13</th>\n",
       "      <td>서울74사2296</td>\n",
       "      <td>여유</td>\n",
       "      <td>126.97276</td>\n",
       "      <td>37.553352</td>\n",
       "      <td>102000011</td>\n",
       "      <td>101000007</td>\n",
       "      <td>111</td>\n",
       "    </tr>\n",
       "    <tr>\n",
       "      <th>14</th>\n",
       "      <td>서울74사2220</td>\n",
       "      <td>여유</td>\n",
       "      <td>126.980881</td>\n",
       "      <td>37.561629</td>\n",
       "      <td>101000114</td>\n",
       "      <td>101000043</td>\n",
       "      <td>213</td>\n",
       "    </tr>\n",
       "    <tr>\n",
       "      <th>15</th>\n",
       "      <td>서울74사8118</td>\n",
       "      <td>여유</td>\n",
       "      <td>126.982949</td>\n",
       "      <td>37.5696</td>\n",
       "      <td>101000040</td>\n",
       "      <td>100000124</td>\n",
       "      <td>984</td>\n",
       "    </tr>\n",
       "    <tr>\n",
       "      <th>16</th>\n",
       "      <td>서울70사6554</td>\n",
       "      <td>여유</td>\n",
       "      <td>126.984209</td>\n",
       "      <td>37.575879</td>\n",
       "      <td>100000104</td>\n",
       "      <td>100000124</td>\n",
       "      <td>639</td>\n",
       "    </tr>\n",
       "    <tr>\n",
       "      <th>17</th>\n",
       "      <td>서울70사6553</td>\n",
       "      <td>보통</td>\n",
       "      <td>126.990097</td>\n",
       "      <td>37.577352</td>\n",
       "      <td>100000103</td>\n",
       "      <td>100000124</td>\n",
       "      <td>484</td>\n",
       "    </tr>\n",
       "    <tr>\n",
       "      <th>18</th>\n",
       "      <td>서울70사6560</td>\n",
       "      <td>여유</td>\n",
       "      <td>127.015417</td>\n",
       "      <td>37.592381</td>\n",
       "      <td>107000010</td>\n",
       "      <td>107000171</td>\n",
       "      <td>452</td>\n",
       "    </tr>\n",
       "    <tr>\n",
       "      <th>19</th>\n",
       "      <td>서울74사3032</td>\n",
       "      <td>여유</td>\n",
       "      <td>127.014805</td>\n",
       "      <td>37.597405</td>\n",
       "      <td>107000173</td>\n",
       "      <td>107000171</td>\n",
       "      <td>155</td>\n",
       "    </tr>\n",
       "    <tr>\n",
       "      <th>20</th>\n",
       "      <td>서울74사2216</td>\n",
       "      <td>여유</td>\n",
       "      <td>127.009928</td>\n",
       "      <td>37.60835</td>\n",
       "      <td>107000078</td>\n",
       "      <td>107000169</td>\n",
       "      <td>108</td>\n",
       "    </tr>\n",
       "  </tbody>\n",
       "</table>\n",
       "</div>"
      ],
      "text/plain": [
       "         차량번호 혼잡도          경도         위도    최종정류소ID    다음정류소ID 도착소요시간\n",
       "0   서울74사3381  여유  127.011763  37.604466  107000079  107000168    125\n",
       "1   서울74사3030  여유  127.015301  37.596501  107000172  101000042   1721\n",
       "2   서울74사2201  여유  127.001744  37.586243  100000005  101000042   1266\n",
       "3   서울74사1967  여유  126.996958  37.577386  100000002  101000042   1035\n",
       "4   서울70사6556  여유   126.98272  37.574611  100000107  101000042    498\n",
       "5   서울74사3008  여유  126.982635  37.567936  101000141  101000042    207\n",
       "6   서울74사1537  여유  126.972779  37.554163  101000004  102000018    395\n",
       "7   서울74사1618  여유  126.968665  37.540095  102000045  118000061    522\n",
       "8   서울74사3372  여유  126.963196    37.5364  102000050  118000061    319\n",
       "9   서울70사6557  여유   126.92323  37.522601  118000076  118000070    167\n",
       "10  서울74사1604  여유  126.930211  37.518174  118000066  102000053    366\n",
       "11  서울74사3366  여유  126.963663  37.536319  102000049  102000019    452\n",
       "12  서울70사6549  여유  126.971025  37.541744  102000046  102000019    252\n",
       "13  서울74사2296  여유   126.97276  37.553352  102000011  101000007    111\n",
       "14  서울74사2220  여유  126.980881  37.561629  101000114  101000043    213\n",
       "15  서울74사8118  여유  126.982949    37.5696  101000040  100000124    984\n",
       "16  서울70사6554  여유  126.984209  37.575879  100000104  100000124    639\n",
       "17  서울70사6553  보통  126.990097  37.577352  100000103  100000124    484\n",
       "18  서울70사6560  여유  127.015417  37.592381  107000010  107000171    452\n",
       "19  서울74사3032  여유  127.014805  37.597405  107000173  107000171    155\n",
       "20  서울74사2216  여유  127.009928   37.60835  107000078  107000169    108"
      ]
     },
     "execution_count": 108,
     "metadata": {},
     "output_type": "execute_result"
    }
   ],
   "source": [
    "key ='kWiLqR5an3qgHfkycjPmjxAie5mGGzW0LuPktrSNA3kqpsmWfsLSW9TxR9k0khrZgJLecVcO88n5LsStz845eg%3D%3D'\n",
    "url3 = f'http://ws.bus.go.kr/api/rest/buspos/getBusPosByRtid?ServiceKey={key}&busRouteId={busRouteId}'\n",
    "print(url3)\n",
    "savefilename3 = 'data/ch14_3busPosition.xml'\n",
    "urlretrieve(url3, savefilename3)\n",
    "xml = open(savefilename3,'r',encoding='utf-8').read()\n",
    "soup = BeautifulSoup(xml,\"xml\")\n",
    "bus_position=[]\n",
    "\n",
    "for itemList in soup.select('itemList'):\n",
    "    plainNo= itemList.find('plainNo').text #차량번호\n",
    "    congetion = itemList.find('congetion').text\n",
    "    congetion = '여유' if congetion=='3' else '보통' if congetion =='4' else '혼잡' if congetion=='5' else '매우혼잡'\n",
    "    gpsX = itemList.find('gpsX').text\n",
    "    gpsY = itemList.find('gpsY').text\n",
    "    lastStnId = itemList.find('lastStnId').text #최종 정류소 ID\n",
    "    nextStId = itemList.find('nextStId').text #다음 정류소 ID\n",
    "    nextStTm = itemList.find('nextStTm').text\n",
    "    bus_position.append({\n",
    "            '차량번호':plainNo,'혼잡도':congetion,'경도':gpsX,'위도':gpsY,'최종정류소ID':lastStnId,'다음정류소ID':nextStId,'도착소요시간':nextStTm\n",
    "        \n",
    "    })\n",
    "df_pos= pd.DataFrame(bus_position)\n",
    "print(f'{busNum}번 버스 운행중인 버스는{len(df_pos)}대 입니다' )\n",
    "df_pos"
   ]
  },
  {
   "cell_type": "code",
   "execution_count": 126,
   "id": "2e98550f",
   "metadata": {
    "ExecuteTime": {
     "end_time": "2024-12-10T06:19:01.304613Z",
     "start_time": "2024-12-10T06:19:01.296639Z"
    }
   },
   "outputs": [
    {
     "data": {
      "text/plain": [
       "'정릉우체국앞'"
      ]
     },
     "execution_count": 126,
     "metadata": {},
     "output_type": "execute_result"
    }
   ],
   "source": [
    "df.loc[df['id']=='107000079', '정류장'].iloc[0]"
   ]
  },
  {
   "cell_type": "code",
   "execution_count": 127,
   "id": "9e79ad59",
   "metadata": {
    "ExecuteTime": {
     "end_time": "2024-12-10T06:19:06.550954Z",
     "start_time": "2024-12-10T06:19:06.544970Z"
    }
   },
   "outputs": [],
   "source": [
    "def station_name(row):\n",
    "    row['최종정류소명'] = df.loc[df['id']==row['최종정류소ID'],'정류장'].iloc[0]\n",
    "    row['다음정류소명'] = df.loc[df['id']==row['다음정류소ID'],'정류장'].iloc[0]\n",
    "    return row"
   ]
  },
  {
   "cell_type": "code",
   "execution_count": 128,
   "id": "0679faa8",
   "metadata": {
    "ExecuteTime": {
     "end_time": "2024-12-10T06:19:07.315784Z",
     "start_time": "2024-12-10T06:19:07.305809Z"
    }
   },
   "outputs": [
    {
     "data": {
      "text/plain": [
       "차량번호        서울74사3381\n",
       "혼잡도                여유\n",
       "경도         127.011763\n",
       "위도          37.604466\n",
       "최종정류소ID     107000079\n",
       "다음정류소ID     107000168\n",
       "도착소요시간            125\n",
       "최종정류소명         정릉우체국앞\n",
       "다음정류소명       정릉입구.정릉역\n",
       "Name: 0, dtype: object"
      ]
     },
     "execution_count": 128,
     "metadata": {},
     "output_type": "execute_result"
    }
   ],
   "source": [
    "station_name(df_pos.loc[0])"
   ]
  },
  {
   "cell_type": "code",
   "execution_count": 129,
   "id": "745c60ad",
   "metadata": {
    "ExecuteTime": {
     "end_time": "2024-12-10T06:19:42.831519Z",
     "start_time": "2024-12-10T06:19:42.768234Z"
    }
   },
   "outputs": [
    {
     "data": {
      "text/html": [
       "<div>\n",
       "<style scoped>\n",
       "    .dataframe tbody tr th:only-of-type {\n",
       "        vertical-align: middle;\n",
       "    }\n",
       "\n",
       "    .dataframe tbody tr th {\n",
       "        vertical-align: top;\n",
       "    }\n",
       "\n",
       "    .dataframe thead th {\n",
       "        text-align: right;\n",
       "    }\n",
       "</style>\n",
       "<table border=\"1\" class=\"dataframe\">\n",
       "  <thead>\n",
       "    <tr style=\"text-align: right;\">\n",
       "      <th></th>\n",
       "      <th>차량번호</th>\n",
       "      <th>혼잡도</th>\n",
       "      <th>경도</th>\n",
       "      <th>위도</th>\n",
       "      <th>최종정류소ID</th>\n",
       "      <th>다음정류소ID</th>\n",
       "      <th>도착소요시간</th>\n",
       "      <th>최종정류소명</th>\n",
       "      <th>다음정류소명</th>\n",
       "    </tr>\n",
       "  </thead>\n",
       "  <tbody>\n",
       "    <tr>\n",
       "      <th>0</th>\n",
       "      <td>서울74사3381</td>\n",
       "      <td>여유</td>\n",
       "      <td>127.011763</td>\n",
       "      <td>37.604466</td>\n",
       "      <td>107000079</td>\n",
       "      <td>107000168</td>\n",
       "      <td>125</td>\n",
       "      <td>정릉우체국앞</td>\n",
       "      <td>정릉입구.정릉역</td>\n",
       "    </tr>\n",
       "    <tr>\n",
       "      <th>1</th>\n",
       "      <td>서울74사3030</td>\n",
       "      <td>여유</td>\n",
       "      <td>127.015301</td>\n",
       "      <td>37.596501</td>\n",
       "      <td>107000172</td>\n",
       "      <td>101000042</td>\n",
       "      <td>1721</td>\n",
       "      <td>돈암2동주민센터입구.흥천사</td>\n",
       "      <td>해운센터.롯데영플라자</td>\n",
       "    </tr>\n",
       "    <tr>\n",
       "      <th>2</th>\n",
       "      <td>서울74사2201</td>\n",
       "      <td>여유</td>\n",
       "      <td>127.001744</td>\n",
       "      <td>37.586243</td>\n",
       "      <td>100000005</td>\n",
       "      <td>101000042</td>\n",
       "      <td>1266</td>\n",
       "      <td>혜화동로터리.여운형활동터</td>\n",
       "      <td>해운센터.롯데영플라자</td>\n",
       "    </tr>\n",
       "    <tr>\n",
       "      <th>3</th>\n",
       "      <td>서울74사1967</td>\n",
       "      <td>여유</td>\n",
       "      <td>126.996958</td>\n",
       "      <td>37.577386</td>\n",
       "      <td>100000002</td>\n",
       "      <td>101000042</td>\n",
       "      <td>1035</td>\n",
       "      <td>창경궁.서울대학교병원</td>\n",
       "      <td>해운센터.롯데영플라자</td>\n",
       "    </tr>\n",
       "    <tr>\n",
       "      <th>4</th>\n",
       "      <td>서울70사6556</td>\n",
       "      <td>여유</td>\n",
       "      <td>126.98272</td>\n",
       "      <td>37.574611</td>\n",
       "      <td>100000107</td>\n",
       "      <td>101000042</td>\n",
       "      <td>498</td>\n",
       "      <td>안국동</td>\n",
       "      <td>해운센터.롯데영플라자</td>\n",
       "    </tr>\n",
       "    <tr>\n",
       "      <th>5</th>\n",
       "      <td>서울74사3008</td>\n",
       "      <td>여유</td>\n",
       "      <td>126.982635</td>\n",
       "      <td>37.567936</td>\n",
       "      <td>101000141</td>\n",
       "      <td>101000042</td>\n",
       "      <td>207</td>\n",
       "      <td>을지로입구역.광교</td>\n",
       "      <td>해운센터.롯데영플라자</td>\n",
       "    </tr>\n",
       "    <tr>\n",
       "      <th>6</th>\n",
       "      <td>서울74사1537</td>\n",
       "      <td>여유</td>\n",
       "      <td>126.972779</td>\n",
       "      <td>37.554163</td>\n",
       "      <td>101000004</td>\n",
       "      <td>102000018</td>\n",
       "      <td>395</td>\n",
       "      <td>서울역버스환승센터</td>\n",
       "      <td>남영역</td>\n",
       "    </tr>\n",
       "    <tr>\n",
       "      <th>7</th>\n",
       "      <td>서울74사1618</td>\n",
       "      <td>여유</td>\n",
       "      <td>126.968665</td>\n",
       "      <td>37.540095</td>\n",
       "      <td>102000045</td>\n",
       "      <td>118000061</td>\n",
       "      <td>522</td>\n",
       "      <td>용산경찰서</td>\n",
       "      <td>시범아파트.대교아파트</td>\n",
       "    </tr>\n",
       "    <tr>\n",
       "      <th>8</th>\n",
       "      <td>서울74사3372</td>\n",
       "      <td>여유</td>\n",
       "      <td>126.963196</td>\n",
       "      <td>37.5364</td>\n",
       "      <td>102000050</td>\n",
       "      <td>118000061</td>\n",
       "      <td>319</td>\n",
       "      <td>원효로2가</td>\n",
       "      <td>시범아파트.대교아파트</td>\n",
       "    </tr>\n",
       "    <tr>\n",
       "      <th>9</th>\n",
       "      <td>서울70사6557</td>\n",
       "      <td>여유</td>\n",
       "      <td>126.92323</td>\n",
       "      <td>37.522601</td>\n",
       "      <td>118000076</td>\n",
       "      <td>118000070</td>\n",
       "      <td>167</td>\n",
       "      <td>한국경제인협회</td>\n",
       "      <td>여의도역6번출구</td>\n",
       "    </tr>\n",
       "    <tr>\n",
       "      <th>10</th>\n",
       "      <td>서울74사1604</td>\n",
       "      <td>여유</td>\n",
       "      <td>126.930211</td>\n",
       "      <td>37.518174</td>\n",
       "      <td>118000066</td>\n",
       "      <td>102000053</td>\n",
       "      <td>366</td>\n",
       "      <td>샛강역3번출구</td>\n",
       "      <td>원효로3가</td>\n",
       "    </tr>\n",
       "    <tr>\n",
       "      <th>11</th>\n",
       "      <td>서울74사3366</td>\n",
       "      <td>여유</td>\n",
       "      <td>126.963663</td>\n",
       "      <td>37.536319</td>\n",
       "      <td>102000049</td>\n",
       "      <td>102000019</td>\n",
       "      <td>452</td>\n",
       "      <td>남정초등학교</td>\n",
       "      <td>남영역</td>\n",
       "    </tr>\n",
       "    <tr>\n",
       "      <th>12</th>\n",
       "      <td>서울70사6549</td>\n",
       "      <td>여유</td>\n",
       "      <td>126.971025</td>\n",
       "      <td>37.541744</td>\n",
       "      <td>102000046</td>\n",
       "      <td>102000019</td>\n",
       "      <td>252</td>\n",
       "      <td>용산경찰서</td>\n",
       "      <td>남영역</td>\n",
       "    </tr>\n",
       "    <tr>\n",
       "      <th>13</th>\n",
       "      <td>서울74사2296</td>\n",
       "      <td>여유</td>\n",
       "      <td>126.97276</td>\n",
       "      <td>37.553352</td>\n",
       "      <td>102000011</td>\n",
       "      <td>101000007</td>\n",
       "      <td>111</td>\n",
       "      <td>갈월동</td>\n",
       "      <td>서울역버스환승센터.강우규의거터</td>\n",
       "    </tr>\n",
       "    <tr>\n",
       "      <th>14</th>\n",
       "      <td>서울74사2220</td>\n",
       "      <td>여유</td>\n",
       "      <td>126.980881</td>\n",
       "      <td>37.561629</td>\n",
       "      <td>101000114</td>\n",
       "      <td>101000043</td>\n",
       "      <td>213</td>\n",
       "      <td>남대문시장앞.이회영활동터</td>\n",
       "      <td>롯데영프라자</td>\n",
       "    </tr>\n",
       "    <tr>\n",
       "      <th>15</th>\n",
       "      <td>서울74사8118</td>\n",
       "      <td>여유</td>\n",
       "      <td>126.982949</td>\n",
       "      <td>37.5696</td>\n",
       "      <td>101000040</td>\n",
       "      <td>100000124</td>\n",
       "      <td>984</td>\n",
       "      <td>우리은행종로지점</td>\n",
       "      <td>혜화역2번출구.마로니에공원</td>\n",
       "    </tr>\n",
       "    <tr>\n",
       "      <th>16</th>\n",
       "      <td>서울70사6554</td>\n",
       "      <td>여유</td>\n",
       "      <td>126.984209</td>\n",
       "      <td>37.575879</td>\n",
       "      <td>100000104</td>\n",
       "      <td>100000124</td>\n",
       "      <td>639</td>\n",
       "      <td>안국역6번출구.인사동</td>\n",
       "      <td>혜화역2번출구.마로니에공원</td>\n",
       "    </tr>\n",
       "    <tr>\n",
       "      <th>17</th>\n",
       "      <td>서울70사6553</td>\n",
       "      <td>보통</td>\n",
       "      <td>126.990097</td>\n",
       "      <td>37.577352</td>\n",
       "      <td>100000103</td>\n",
       "      <td>100000124</td>\n",
       "      <td>484</td>\n",
       "      <td>창덕궁.우리소리박물관</td>\n",
       "      <td>혜화역2번출구.마로니에공원</td>\n",
       "    </tr>\n",
       "    <tr>\n",
       "      <th>18</th>\n",
       "      <td>서울70사6560</td>\n",
       "      <td>여유</td>\n",
       "      <td>127.015417</td>\n",
       "      <td>37.592381</td>\n",
       "      <td>107000010</td>\n",
       "      <td>107000171</td>\n",
       "      <td>452</td>\n",
       "      <td>삼선교.한성대학교.조소앙활동터</td>\n",
       "      <td>아리랑고개.아리랑시네미디어센터</td>\n",
       "    </tr>\n",
       "    <tr>\n",
       "      <th>19</th>\n",
       "      <td>서울74사3032</td>\n",
       "      <td>여유</td>\n",
       "      <td>127.014805</td>\n",
       "      <td>37.597405</td>\n",
       "      <td>107000173</td>\n",
       "      <td>107000171</td>\n",
       "      <td>155</td>\n",
       "      <td>돈암2동주민센터입구.흥천사</td>\n",
       "      <td>아리랑고개.아리랑시네미디어센터</td>\n",
       "    </tr>\n",
       "    <tr>\n",
       "      <th>20</th>\n",
       "      <td>서울74사2216</td>\n",
       "      <td>여유</td>\n",
       "      <td>127.009928</td>\n",
       "      <td>37.60835</td>\n",
       "      <td>107000078</td>\n",
       "      <td>107000169</td>\n",
       "      <td>108</td>\n",
       "      <td>정릉시장입구</td>\n",
       "      <td>정릉입구.정릉역</td>\n",
       "    </tr>\n",
       "  </tbody>\n",
       "</table>\n",
       "</div>"
      ],
      "text/plain": [
       "         차량번호 혼잡도          경도         위도    최종정류소ID    다음정류소ID 도착소요시간  \\\n",
       "0   서울74사3381  여유  127.011763  37.604466  107000079  107000168    125   \n",
       "1   서울74사3030  여유  127.015301  37.596501  107000172  101000042   1721   \n",
       "2   서울74사2201  여유  127.001744  37.586243  100000005  101000042   1266   \n",
       "3   서울74사1967  여유  126.996958  37.577386  100000002  101000042   1035   \n",
       "4   서울70사6556  여유   126.98272  37.574611  100000107  101000042    498   \n",
       "5   서울74사3008  여유  126.982635  37.567936  101000141  101000042    207   \n",
       "6   서울74사1537  여유  126.972779  37.554163  101000004  102000018    395   \n",
       "7   서울74사1618  여유  126.968665  37.540095  102000045  118000061    522   \n",
       "8   서울74사3372  여유  126.963196    37.5364  102000050  118000061    319   \n",
       "9   서울70사6557  여유   126.92323  37.522601  118000076  118000070    167   \n",
       "10  서울74사1604  여유  126.930211  37.518174  118000066  102000053    366   \n",
       "11  서울74사3366  여유  126.963663  37.536319  102000049  102000019    452   \n",
       "12  서울70사6549  여유  126.971025  37.541744  102000046  102000019    252   \n",
       "13  서울74사2296  여유   126.97276  37.553352  102000011  101000007    111   \n",
       "14  서울74사2220  여유  126.980881  37.561629  101000114  101000043    213   \n",
       "15  서울74사8118  여유  126.982949    37.5696  101000040  100000124    984   \n",
       "16  서울70사6554  여유  126.984209  37.575879  100000104  100000124    639   \n",
       "17  서울70사6553  보통  126.990097  37.577352  100000103  100000124    484   \n",
       "18  서울70사6560  여유  127.015417  37.592381  107000010  107000171    452   \n",
       "19  서울74사3032  여유  127.014805  37.597405  107000173  107000171    155   \n",
       "20  서울74사2216  여유  127.009928   37.60835  107000078  107000169    108   \n",
       "\n",
       "              최종정류소명            다음정류소명  \n",
       "0             정릉우체국앞          정릉입구.정릉역  \n",
       "1     돈암2동주민센터입구.흥천사       해운센터.롯데영플라자  \n",
       "2      혜화동로터리.여운형활동터       해운센터.롯데영플라자  \n",
       "3        창경궁.서울대학교병원       해운센터.롯데영플라자  \n",
       "4                안국동       해운센터.롯데영플라자  \n",
       "5          을지로입구역.광교       해운센터.롯데영플라자  \n",
       "6          서울역버스환승센터               남영역  \n",
       "7              용산경찰서       시범아파트.대교아파트  \n",
       "8              원효로2가       시범아파트.대교아파트  \n",
       "9            한국경제인협회          여의도역6번출구  \n",
       "10           샛강역3번출구             원효로3가  \n",
       "11            남정초등학교               남영역  \n",
       "12             용산경찰서               남영역  \n",
       "13               갈월동  서울역버스환승센터.강우규의거터  \n",
       "14     남대문시장앞.이회영활동터            롯데영프라자  \n",
       "15          우리은행종로지점    혜화역2번출구.마로니에공원  \n",
       "16       안국역6번출구.인사동    혜화역2번출구.마로니에공원  \n",
       "17       창덕궁.우리소리박물관    혜화역2번출구.마로니에공원  \n",
       "18  삼선교.한성대학교.조소앙활동터  아리랑고개.아리랑시네미디어센터  \n",
       "19    돈암2동주민센터입구.흥천사  아리랑고개.아리랑시네미디어센터  \n",
       "20            정릉시장입구          정릉입구.정릉역  "
      ]
     },
     "execution_count": 129,
     "metadata": {},
     "output_type": "execute_result"
    }
   ],
   "source": [
    "df_pos = df_pos.apply(station_name,axis=1)\n",
    "df_pos"
   ]
  },
  {
   "cell_type": "markdown",
   "id": "2f0a5524",
   "metadata": {},
   "source": [
    "# 연습문제\n",
    "- YES24 베스트 셀러 정보 csv(txt)로 출력하기(https://www.yes24.com/Product/Category/BestSeller?categoryNumber=001&pageNumber=1&pageSize=40)\n",
    "- 순위, 책이름, 저자, 출판사, 가격(10위까지)\n"
   ]
  },
  {
   "cell_type": "code",
   "execution_count": 204,
   "id": "ae2782cd",
   "metadata": {
    "ExecuteTime": {
     "end_time": "2024-12-10T08:01:51.948307Z",
     "start_time": "2024-12-10T08:01:50.850550Z"
    }
   },
   "outputs": [
    {
     "data": {
      "text/html": [
       "<div>\n",
       "<style scoped>\n",
       "    .dataframe tbody tr th:only-of-type {\n",
       "        vertical-align: middle;\n",
       "    }\n",
       "\n",
       "    .dataframe tbody tr th {\n",
       "        vertical-align: top;\n",
       "    }\n",
       "\n",
       "    .dataframe thead th {\n",
       "        text-align: right;\n",
       "    }\n",
       "</style>\n",
       "<table border=\"1\" class=\"dataframe\">\n",
       "  <thead>\n",
       "    <tr style=\"text-align: right;\">\n",
       "      <th></th>\n",
       "      <th>순위</th>\n",
       "      <th>제목</th>\n",
       "      <th>저자</th>\n",
       "      <th>출판사</th>\n",
       "      <th>가격</th>\n",
       "    </tr>\n",
       "  </thead>\n",
       "  <tbody>\n",
       "    <tr>\n",
       "      <th>0</th>\n",
       "      <td>1</td>\n",
       "      <td>소년이 온다</td>\n",
       "      <td>한강 저</td>\n",
       "      <td>창비</td>\n",
       "      <td>13,500</td>\n",
       "    </tr>\n",
       "    <tr>\n",
       "      <th>1</th>\n",
       "      <td>2</td>\n",
       "      <td>채식주의자</td>\n",
       "      <td>한강 저</td>\n",
       "      <td>창비</td>\n",
       "      <td>13,500</td>\n",
       "    </tr>\n",
       "    <tr>\n",
       "      <th>2</th>\n",
       "      <td>3</td>\n",
       "      <td>작별하지 않는다</td>\n",
       "      <td>한강 저</td>\n",
       "      <td>문학동네</td>\n",
       "      <td>15,120</td>\n",
       "    </tr>\n",
       "    <tr>\n",
       "      <th>3</th>\n",
       "      <td>4</td>\n",
       "      <td>하루 한 장 나의 어휘력을 위한 필사 노트</td>\n",
       "      <td>유선경 저</td>\n",
       "      <td>위즈덤하우스</td>\n",
       "      <td>21,420</td>\n",
       "    </tr>\n",
       "    <tr>\n",
       "      <th>4</th>\n",
       "      <td>5</td>\n",
       "      <td>서랍에 저녁을 넣어 두었다</td>\n",
       "      <td>한강 저</td>\n",
       "      <td>문학과지성사</td>\n",
       "      <td>10,800</td>\n",
       "    </tr>\n",
       "    <tr>\n",
       "      <th>5</th>\n",
       "      <td>6</td>\n",
       "      <td>트렌드 코리아 2025</td>\n",
       "      <td>김난도, 전미영, 최지혜, 권정윤, 한다혜 저 외 5명</td>\n",
       "      <td>미래의창</td>\n",
       "      <td>18,000</td>\n",
       "    </tr>\n",
       "    <tr>\n",
       "      <th>6</th>\n",
       "      <td>7</td>\n",
       "      <td>흰</td>\n",
       "      <td>한강 저/최진혁 사진</td>\n",
       "      <td>문학동네</td>\n",
       "      <td>13,050</td>\n",
       "    </tr>\n",
       "    <tr>\n",
       "      <th>7</th>\n",
       "      <td>8</td>\n",
       "      <td>산타 할아버지의 첫 크리스마스</td>\n",
       "      <td>맥 바넷 글/시드니 스미스 그림/김지은 역</td>\n",
       "      <td>책읽는곰</td>\n",
       "      <td>13,500</td>\n",
       "    </tr>\n",
       "    <tr>\n",
       "      <th>8</th>\n",
       "      <td>9</td>\n",
       "      <td>희랍어 시간</td>\n",
       "      <td>한강 저</td>\n",
       "      <td>문학동네</td>\n",
       "      <td>11,700</td>\n",
       "    </tr>\n",
       "    <tr>\n",
       "      <th>9</th>\n",
       "      <td>10</td>\n",
       "      <td>넥서스</td>\n",
       "      <td>유발 하라리 저/김명주 역</td>\n",
       "      <td>김영사</td>\n",
       "      <td>25,020</td>\n",
       "    </tr>\n",
       "    <tr>\n",
       "      <th>10</th>\n",
       "      <td>11</td>\n",
       "      <td>어른의 행복은 조용하다</td>\n",
       "      <td>태수 저</td>\n",
       "      <td>페이지2북스</td>\n",
       "      <td>16,020</td>\n",
       "    </tr>\n",
       "    <tr>\n",
       "      <th>11</th>\n",
       "      <td>12</td>\n",
       "      <td>트럼프 2.0 시대</td>\n",
       "      <td>박종훈 저</td>\n",
       "      <td>글로퍼스</td>\n",
       "      <td>18,000</td>\n",
       "    </tr>\n",
       "    <tr>\n",
       "      <th>12</th>\n",
       "      <td>13</td>\n",
       "      <td>트럼프와 함께하는 알트코인 대폭등</td>\n",
       "      <td>강환국 저</td>\n",
       "      <td>거인의정원</td>\n",
       "      <td>24,300</td>\n",
       "    </tr>\n",
       "    <tr>\n",
       "      <th>13</th>\n",
       "      <td>14</td>\n",
       "      <td>일의 감각</td>\n",
       "      <td>조수용 저</td>\n",
       "      <td>레퍼런스 바이 비(REFERENCE by B)</td>\n",
       "      <td>19,800</td>\n",
       "    </tr>\n",
       "    <tr>\n",
       "      <th>14</th>\n",
       "      <td>15</td>\n",
       "      <td>해피버쓰데이</td>\n",
       "      <td>백희나 글그림</td>\n",
       "      <td>스토리보울</td>\n",
       "      <td>15,300</td>\n",
       "    </tr>\n",
       "    <tr>\n",
       "      <th>15</th>\n",
       "      <td>16</td>\n",
       "      <td>고전이 답했다 마땅히 살아야 할 삶에 대하여 (나만의 책 만들기 에디션)</td>\n",
       "      <td>고명환 저</td>\n",
       "      <td>라곰</td>\n",
       "      <td>15,120</td>\n",
       "    </tr>\n",
       "    <tr>\n",
       "      <th>16</th>\n",
       "      <td>17</td>\n",
       "      <td>퓨처 셀프 30만 부 기념 스페셜 에디션</td>\n",
       "      <td>벤저민 하디 저/최은아 역</td>\n",
       "      <td>상상스퀘어</td>\n",
       "      <td>19,800</td>\n",
       "    </tr>\n",
       "    <tr>\n",
       "      <th>17</th>\n",
       "      <td>18</td>\n",
       "      <td>린치핀</td>\n",
       "      <td>세스 고딘 저/윤영삼 역</td>\n",
       "      <td>필름</td>\n",
       "      <td>21,420</td>\n",
       "    </tr>\n",
       "    <tr>\n",
       "      <th>18</th>\n",
       "      <td>19</td>\n",
       "      <td>모순</td>\n",
       "      <td>양귀자 저</td>\n",
       "      <td>쓰다</td>\n",
       "      <td>11,700</td>\n",
       "    </tr>\n",
       "    <tr>\n",
       "      <th>19</th>\n",
       "      <td>20</td>\n",
       "      <td>김미경의 딥마인드</td>\n",
       "      <td>김미경 저</td>\n",
       "      <td>어웨이크북스</td>\n",
       "      <td>16,200</td>\n",
       "    </tr>\n",
       "    <tr>\n",
       "      <th>20</th>\n",
       "      <td>21</td>\n",
       "      <td>너에게 들려주는 단단한 말</td>\n",
       "      <td>김종원 저</td>\n",
       "      <td>퍼스트펭귄</td>\n",
       "      <td>16,200</td>\n",
       "    </tr>\n",
       "    <tr>\n",
       "      <th>21</th>\n",
       "      <td>22</td>\n",
       "      <td>ETS 토익 정기시험 기출문제집 1000 Vol. 4 RC</td>\n",
       "      <td>ETS 저</td>\n",
       "      <td>YBM(와이비엠)</td>\n",
       "      <td>17,820</td>\n",
       "    </tr>\n",
       "    <tr>\n",
       "      <th>22</th>\n",
       "      <td>23</td>\n",
       "      <td>세이노의 가르침</td>\n",
       "      <td>세이노(SayNo) 저</td>\n",
       "      <td>데이원</td>\n",
       "      <td>6,480</td>\n",
       "    </tr>\n",
       "    <tr>\n",
       "      <th>23</th>\n",
       "      <td>24</td>\n",
       "      <td>후 who? special 아이브</td>\n",
       "      <td>조약돌 글/백재이 그림</td>\n",
       "      <td>다산어린이</td>\n",
       "      <td>13,500</td>\n",
       "    </tr>\n",
       "    <tr>\n",
       "      <th>24</th>\n",
       "      <td>25</td>\n",
       "      <td>주아쌤의 툭 치면 탁 나오는 영어회화 (특별부록 한정판)</td>\n",
       "      <td>이정은 저</td>\n",
       "      <td>몽스북</td>\n",
       "      <td>16,920</td>\n",
       "    </tr>\n",
       "    <tr>\n",
       "      <th>25</th>\n",
       "      <td>26</td>\n",
       "      <td>인생의 의미</td>\n",
       "      <td>토마스 힐란드 에릭센 저/이영래 역</td>\n",
       "      <td>더퀘스트</td>\n",
       "      <td>16,920</td>\n",
       "    </tr>\n",
       "    <tr>\n",
       "      <th>26</th>\n",
       "      <td>27</td>\n",
       "      <td>이처럼 사소한 것들</td>\n",
       "      <td>클레어 키건 저/홍한별 역</td>\n",
       "      <td>다산책방</td>\n",
       "      <td>12,420</td>\n",
       "    </tr>\n",
       "    <tr>\n",
       "      <th>27</th>\n",
       "      <td>28</td>\n",
       "      <td>경기도 부동산의 힘</td>\n",
       "      <td>김학렬 저</td>\n",
       "      <td>에프엔미디어</td>\n",
       "      <td>26,100</td>\n",
       "    </tr>\n",
       "    <tr>\n",
       "      <th>28</th>\n",
       "      <td>29</td>\n",
       "      <td>ETS 토익 정기시험 기출문제집 1000 Vol. 4 LC</td>\n",
       "      <td>ETS 저</td>\n",
       "      <td>YBM(와이비엠)</td>\n",
       "      <td>17,820</td>\n",
       "    </tr>\n",
       "    <tr>\n",
       "      <th>29</th>\n",
       "      <td>30</td>\n",
       "      <td>부모의 어휘력</td>\n",
       "      <td>김종원 저</td>\n",
       "      <td>카시오페아</td>\n",
       "      <td>17,100</td>\n",
       "    </tr>\n",
       "    <tr>\n",
       "      <th>30</th>\n",
       "      <td>31</td>\n",
       "      <td>아이에게 들려주는 부모의 예쁜 말 필사노트</td>\n",
       "      <td>김종원 저</td>\n",
       "      <td>상상아카데미</td>\n",
       "      <td>19,800</td>\n",
       "    </tr>\n",
       "    <tr>\n",
       "      <th>31</th>\n",
       "      <td>32</td>\n",
       "      <td>대온실 수리 보고서</td>\n",
       "      <td>김금희 저</td>\n",
       "      <td>창비</td>\n",
       "      <td>16,200</td>\n",
       "    </tr>\n",
       "    <tr>\n",
       "      <th>32</th>\n",
       "      <td>33</td>\n",
       "      <td>마음의 기술</td>\n",
       "      <td>안-엘렌 클레르, 뱅상 트리부 저/구영옥 역</td>\n",
       "      <td>상상스퀘어</td>\n",
       "      <td>18,900</td>\n",
       "    </tr>\n",
       "    <tr>\n",
       "      <th>33</th>\n",
       "      <td>34</td>\n",
       "      <td>돈의 심리학 (30만 부 기념 스페셜 에디션)</td>\n",
       "      <td>모건 하우절 저/이지연 역</td>\n",
       "      <td>인플루엔셜</td>\n",
       "      <td>17,820</td>\n",
       "    </tr>\n",
       "    <tr>\n",
       "      <th>34</th>\n",
       "      <td>35</td>\n",
       "      <td>마흔에 읽는 쇼펜하우어 (200쇄 기념 확장판)</td>\n",
       "      <td>강용수 저</td>\n",
       "      <td>유노북스</td>\n",
       "      <td>15,300</td>\n",
       "    </tr>\n",
       "    <tr>\n",
       "      <th>35</th>\n",
       "      <td>36</td>\n",
       "      <td>2024 큰별쌤 최태성의 별별한국사 한국사능력검정시험 심화(1,2,3급) 상</td>\n",
       "      <td>최태성 저</td>\n",
       "      <td>이투스북</td>\n",
       "      <td>14,400</td>\n",
       "    </tr>\n",
       "    <tr>\n",
       "      <th>36</th>\n",
       "      <td>37</td>\n",
       "      <td>행동하지 않으면 인생은 바뀌지 않는다</td>\n",
       "      <td>브라이언 트레이시 저/정지현 역</td>\n",
       "      <td>현대지성</td>\n",
       "      <td>15,210</td>\n",
       "    </tr>\n",
       "    <tr>\n",
       "      <th>37</th>\n",
       "      <td>38</td>\n",
       "      <td>주술회전 28 + 2025 A2 캘린더 세트 (한정판)</td>\n",
       "      <td>아쿠타미 게게 글그림/이정운 역</td>\n",
       "      <td>서울미디어코믹스(서울문화사)</td>\n",
       "      <td>41,400</td>\n",
       "    </tr>\n",
       "    <tr>\n",
       "      <th>38</th>\n",
       "      <td>39</td>\n",
       "      <td>불변의 법칙</td>\n",
       "      <td>모건 하우절 저/이수경 역</td>\n",
       "      <td>서삼독</td>\n",
       "      <td>22,500</td>\n",
       "    </tr>\n",
       "    <tr>\n",
       "      <th>39</th>\n",
       "      <td>40</td>\n",
       "      <td>언젠가 우리가 같은 별을 바라본다면</td>\n",
       "      <td>차인표 저</td>\n",
       "      <td>해결책</td>\n",
       "      <td>10,800</td>\n",
       "    </tr>\n",
       "  </tbody>\n",
       "</table>\n",
       "</div>"
      ],
      "text/plain": [
       "    순위                                          제목  \\\n",
       "0    1                                      소년이 온다   \n",
       "1    2                                       채식주의자   \n",
       "2    3                                    작별하지 않는다   \n",
       "3    4                     하루 한 장 나의 어휘력을 위한 필사 노트   \n",
       "4    5                              서랍에 저녁을 넣어 두었다   \n",
       "5    6                                트렌드 코리아 2025   \n",
       "6    7                                           흰   \n",
       "7    8                            산타 할아버지의 첫 크리스마스   \n",
       "8    9                                      희랍어 시간   \n",
       "9   10                                         넥서스   \n",
       "10  11                                어른의 행복은 조용하다   \n",
       "11  12                                  트럼프 2.0 시대   \n",
       "12  13                          트럼프와 함께하는 알트코인 대폭등   \n",
       "13  14                                       일의 감각   \n",
       "14  15                                      해피버쓰데이   \n",
       "15  16    고전이 답했다 마땅히 살아야 할 삶에 대하여 (나만의 책 만들기 에디션)   \n",
       "16  17                      퓨처 셀프 30만 부 기념 스페셜 에디션   \n",
       "17  18                                         린치핀   \n",
       "18  19                                          모순   \n",
       "19  20                                   김미경의 딥마인드   \n",
       "20  21                              너에게 들려주는 단단한 말   \n",
       "21  22            ETS 토익 정기시험 기출문제집 1000 Vol. 4 RC   \n",
       "22  23                                    세이노의 가르침   \n",
       "23  24                          후 who? special 아이브   \n",
       "24  25             주아쌤의 툭 치면 탁 나오는 영어회화 (특별부록 한정판)   \n",
       "25  26                                      인생의 의미   \n",
       "26  27                                  이처럼 사소한 것들   \n",
       "27  28                                  경기도 부동산의 힘   \n",
       "28  29            ETS 토익 정기시험 기출문제집 1000 Vol. 4 LC   \n",
       "29  30                                     부모의 어휘력   \n",
       "30  31                     아이에게 들려주는 부모의 예쁜 말 필사노트   \n",
       "31  32                                  대온실 수리 보고서   \n",
       "32  33                                      마음의 기술   \n",
       "33  34                   돈의 심리학 (30만 부 기념 스페셜 에디션)   \n",
       "34  35                  마흔에 읽는 쇼펜하우어 (200쇄 기념 확장판)   \n",
       "35  36  2024 큰별쌤 최태성의 별별한국사 한국사능력검정시험 심화(1,2,3급) 상   \n",
       "36  37                        행동하지 않으면 인생은 바뀌지 않는다   \n",
       "37  38              주술회전 28 + 2025 A2 캘린더 세트 (한정판)   \n",
       "38  39                                      불변의 법칙   \n",
       "39  40                         언젠가 우리가 같은 별을 바라본다면   \n",
       "\n",
       "                                저자                        출판사      가격  \n",
       "0                             한강 저                         창비  13,500  \n",
       "1                             한강 저                         창비  13,500  \n",
       "2                             한강 저                       문학동네  15,120  \n",
       "3                            유선경 저                     위즈덤하우스  21,420  \n",
       "4                             한강 저                     문학과지성사  10,800  \n",
       "5   김난도, 전미영, 최지혜, 권정윤, 한다혜 저 외 5명                       미래의창  18,000  \n",
       "6                      한강 저/최진혁 사진                       문학동네  13,050  \n",
       "7          맥 바넷 글/시드니 스미스 그림/김지은 역                       책읽는곰  13,500  \n",
       "8                             한강 저                       문학동네  11,700  \n",
       "9                   유발 하라리 저/김명주 역                        김영사  25,020  \n",
       "10                            태수 저                     페이지2북스  16,020  \n",
       "11                           박종훈 저                       글로퍼스  18,000  \n",
       "12                           강환국 저                      거인의정원  24,300  \n",
       "13                           조수용 저  레퍼런스 바이 비(REFERENCE by B)  19,800  \n",
       "14                         백희나 글그림                      스토리보울  15,300  \n",
       "15                           고명환 저                         라곰  15,120  \n",
       "16                  벤저민 하디 저/최은아 역                      상상스퀘어  19,800  \n",
       "17                   세스 고딘 저/윤영삼 역                         필름  21,420  \n",
       "18                           양귀자 저                         쓰다  11,700  \n",
       "19                           김미경 저                     어웨이크북스  16,200  \n",
       "20                           김종원 저                      퍼스트펭귄  16,200  \n",
       "21                           ETS 저                  YBM(와이비엠)  17,820  \n",
       "22                    세이노(SayNo) 저                        데이원   6,480  \n",
       "23                    조약돌 글/백재이 그림                      다산어린이  13,500  \n",
       "24                           이정은 저                        몽스북  16,920  \n",
       "25             토마스 힐란드 에릭센 저/이영래 역                       더퀘스트  16,920  \n",
       "26                  클레어 키건 저/홍한별 역                       다산책방  12,420  \n",
       "27                           김학렬 저                     에프엔미디어  26,100  \n",
       "28                           ETS 저                  YBM(와이비엠)  17,820  \n",
       "29                           김종원 저                      카시오페아  17,100  \n",
       "30                           김종원 저                     상상아카데미  19,800  \n",
       "31                           김금희 저                         창비  16,200  \n",
       "32        안-엘렌 클레르, 뱅상 트리부 저/구영옥 역                      상상스퀘어  18,900  \n",
       "33                  모건 하우절 저/이지연 역                      인플루엔셜  17,820  \n",
       "34                           강용수 저                       유노북스  15,300  \n",
       "35                           최태성 저                      이투스북   14,400  \n",
       "36               브라이언 트레이시 저/정지현 역                       현대지성  15,210  \n",
       "37               아쿠타미 게게 글그림/이정운 역            서울미디어코믹스(서울문화사)  41,400  \n",
       "38                  모건 하우절 저/이수경 역                        서삼독  22,500  \n",
       "39                           차인표 저                        해결책  10,800  "
      ]
     },
     "execution_count": 204,
     "metadata": {},
     "output_type": "execute_result"
    }
   ],
   "source": [
    "import requests\n",
    "from bs4 import BeautifulSoup\n",
    "url = 'https://www.yes24.com/Product/Category/BestSeller?categoryNumber=001&pageNumber=1&pageSize=40'\n",
    "response = requests.get(url)\n",
    "soup = BeautifulSoup(response.text,\"html.parser\")\n",
    "book_list=[]\n",
    "rank = soup.select('div.img_upper>em')\n",
    "title = soup.select('div.info_row > a.gd_name' )\n",
    "writer = soup.select('div.info_row > span.authPub.info_auth')\n",
    "publisher = soup.select('div.info_row > span.authPub.info_pub')\n",
    "price= soup.select('strong.txt_num> em.yes_b')\n",
    "# 화면출력\n",
    "ranks = [r.text for r in rank]\n",
    "titles = [t.text for t in title]\n",
    "writers = [w.text.split('\\r\\n')[0].strip() for w in writer]\n",
    "publishers = [p.text for p in publisher]\n",
    "prices = [p.text.strip() for p in price]\n",
    "\n",
    "for rank,title,writer,publisher,price in zip(ranks,titles,writers,publishers,prices):\n",
    "    book_list.append({'순위':rank,'제목':title,'저자':writer,'출판사':publisher,'가격':price})\n",
    "df= pd.DataFrame(book_list)\n",
    "df"
   ]
  },
  {
   "cell_type": "code",
   "execution_count": 205,
   "id": "909adac6",
   "metadata": {
    "ExecuteTime": {
     "end_time": "2024-12-10T08:08:26.257681Z",
     "start_time": "2024-12-10T08:08:26.249728Z"
    }
   },
   "outputs": [],
   "source": [
    "df.to_csv('data/ch14_예제.csv',index=False)"
   ]
  },
  {
   "cell_type": "code",
   "execution_count": null,
   "id": "d844e9cf",
   "metadata": {},
   "outputs": [],
   "source": []
  },
  {
   "cell_type": "code",
   "execution_count": null,
   "id": "ed33384b",
   "metadata": {},
   "outputs": [],
   "source": []
  },
  {
   "cell_type": "code",
   "execution_count": null,
   "id": "489f3e53",
   "metadata": {},
   "outputs": [],
   "source": []
  },
  {
   "cell_type": "code",
   "execution_count": null,
   "id": "fd4439e7",
   "metadata": {},
   "outputs": [],
   "source": []
  },
  {
   "cell_type": "code",
   "execution_count": null,
   "id": "5ef369e5",
   "metadata": {},
   "outputs": [],
   "source": []
  },
  {
   "cell_type": "code",
   "execution_count": null,
   "id": "4e4886cd",
   "metadata": {},
   "outputs": [],
   "source": []
  },
  {
   "cell_type": "code",
   "execution_count": null,
   "id": "38efcfdf",
   "metadata": {},
   "outputs": [],
   "source": []
  },
  {
   "cell_type": "code",
   "execution_count": null,
   "id": "51193fd1",
   "metadata": {},
   "outputs": [],
   "source": []
  },
  {
   "cell_type": "code",
   "execution_count": null,
   "id": "9a81bcf0",
   "metadata": {},
   "outputs": [],
   "source": []
  }
 ],
 "metadata": {
  "kernelspec": {
   "display_name": "Python 3 (ipykernel)",
   "language": "python",
   "name": "python3"
  },
  "language_info": {
   "codemirror_mode": {
    "name": "ipython",
    "version": 3
   },
   "file_extension": ".py",
   "mimetype": "text/x-python",
   "name": "python",
   "nbconvert_exporter": "python",
   "pygments_lexer": "ipython3",
   "version": "3.10.9"
  },
  "toc": {
   "base_numbering": 1,
   "nav_menu": {},
   "number_sections": true,
   "sideBar": true,
   "skip_h1_title": false,
   "title_cell": "Table of Contents",
   "title_sidebar": "Contents",
   "toc_cell": false,
   "toc_position": {
    "height": "calc(100% - 180px)",
    "left": "10px",
    "top": "150px",
    "width": "235.996px"
   },
   "toc_section_display": true,
   "toc_window_display": true
  }
 },
 "nbformat": 4,
 "nbformat_minor": 5
}
