{
 "cells": [
  {
   "cell_type": "code",
   "execution_count": 118,
   "id": "1838acfe",
   "metadata": {
    "ExecuteTime": {
     "end_time": "2024-12-11T08:49:41.883532Z",
     "start_time": "2024-12-11T08:49:41.876551Z"
    }
   },
   "outputs": [
    {
     "data": {
      "text/html": [
       "\n",
       "<style>\n",
       "div.container{width:80% !important;}\n",
       "div.CodeMirror {font-family:Consolas; font-size:12pt;}\n",
       "div.output {font-size:12pt; font-weight:bold;}\n",
       "div.input {font-family:Consolas; font-size:12pt;}\n",
       "div.prompt {min-width:70px;}\n",
       "div#toc-header{margin-top:150px;}\n",
       "</style>\n",
       "<style>\n",
       "span.toc-item-num{\n",
       "display:none;\n",
       "}\n",
       "</style>\n"
      ],
      "text/plain": [
       "<IPython.core.display.HTML object>"
      ]
     },
     "metadata": {},
     "output_type": "display_data"
    }
   ],
   "source": [
    "from IPython.display import display, HTML\n",
    "display(HTML(\"\"\"\n",
    "<style>\n",
    "div.container{width:80% !important;}\n",
    "div.CodeMirror {font-family:Consolas; font-size:12pt;}\n",
    "div.output {font-size:12pt; font-weight:bold;}\n",
    "div.input {font-family:Consolas; font-size:12pt;}\n",
    "div.prompt {min-width:70px;}\n",
    "div#toc-header{margin-top:150px;}\n",
    "</style>\n",
    "<style>\n",
    "span.toc-item-num{\n",
    "display:none;\n",
    "}\n",
    "</style>\n",
    "\"\"\"))"
   ]
  },
  {
   "cell_type": "markdown",
   "id": "ea693ab6",
   "metadata": {},
   "source": [
    "<b><font color=\"red\" size=\"6\">ch14. 웹데이터수집</font></b>\n",
    "\n",
    "# 1절.Selenium을 이용한 동적 웹크롤링 문법\n",
    "- "
   ]
  },
  {
   "cell_type": "code",
   "execution_count": 9,
   "id": "2f664989",
   "metadata": {
    "ExecuteTime": {
     "end_time": "2024-12-11T01:49:04.893983Z",
     "start_time": "2024-12-11T01:49:02.819050Z"
    }
   },
   "outputs": [],
   "source": [
    "from selenium import webdriver\n",
    "from selenium.webdriver.common.by import By\n",
    "import time\n",
    "dv = webdriver.Chrome()\n",
    "dv.get('http://python.org')\n",
    "elem = dv.find_element(By.NAME,'q')\n",
    "elem.clear()\n",
    "elem.send_keys('pycon')"
   ]
  },
  {
   "cell_type": "code",
   "execution_count": 8,
   "id": "185abee4",
   "metadata": {
    "ExecuteTime": {
     "end_time": "2024-12-11T01:48:13.226121Z",
     "start_time": "2024-12-11T01:48:12.754989Z"
    }
   },
   "outputs": [],
   "source": [
    "from selenium.webdriver.common.keys import Keys\n",
    "elem.send_keys(Keys.RETURN) # enter"
   ]
  },
  {
   "cell_type": "code",
   "execution_count": 14,
   "id": "744fa3d4",
   "metadata": {
    "ExecuteTime": {
     "end_time": "2024-12-11T01:53:26.854384Z",
     "start_time": "2024-12-11T01:53:26.329855Z"
    }
   },
   "outputs": [],
   "source": [
    "btn_elem = dv.find_element(By.CSS_SELECTOR,'button#submit')\n",
    "btn_elem.click()"
   ]
  },
  {
   "cell_type": "code",
   "execution_count": 16,
   "id": "2815b1f5",
   "metadata": {
    "ExecuteTime": {
     "end_time": "2024-12-11T02:02:12.299045Z",
     "start_time": "2024-12-11T02:02:11.977402Z"
    }
   },
   "outputs": [
    {
     "name": "stdout",
     "output_type": "stream",
     "text": [
      "PSF PyCon Trademark Usage Policy-https://www.python.org/psf/trademarks/pycon\n",
      "PyCon Italia 2016 (PyCon Sette)-https://www.python.org/events/python-events/378/\n",
      "PyCon Australia 2013-https://www.python.org/events/python-events/57/\n",
      "PyCon AU 2019-https://www.python.org/events/python-events/776/\n",
      "PyCon Australia 2014-https://www.python.org/events/python-events/10/\n",
      "PyCon Ireland 2012-https://www.python.org/events/python-events/76/\n",
      "PyCon Ireland 2016-https://www.python.org/events/python-events/429/\n",
      "PyCon Ireland 2022-https://www.python.org/events/python-events/1320/\n",
      "PyCon Australia 2014-https://www.python.org/events/python-events/1447/\n",
      "PyCon Ireland 2024-https://www.python.org/events/python-events/1862/\n",
      "PyCon APAC 2025-https://www.python.org/events/python-events/1879/\n",
      "PyCon AU 2018-https://www.python.org/events/python-events/696/\n",
      "PyCon APAC 2022-https://www.python.org/events/python-events/1216/\n",
      "PyCon PH 2024-https://www.python.org/events/python-events/1661/\n",
      "PyCon Ireland 2023-https://www.python.org/events/python-events/1568/\n",
      "PyCon PL 2014-https://www.python.org/events/python-events/191/\n",
      "PyCon MY 2015-https://www.python.org/events/python-events/313/\n",
      "PyCon Ireland 2015-https://www.python.org/events/python-events/333/\n",
      "PyCon AU 2015-https://www.python.org/events/python-events/273/\n",
      "PyCon Australia 2016-https://www.python.org/events/python-events/357/\n"
     ]
    }
   ],
   "source": [
    "result_list = dv.find_elements(By.CSS_SELECTOR,'li>h3>a')\n",
    "for result in result_list:\n",
    "    print(\"%s-%s\" % (result.text,result.get_attribute('href')))"
   ]
  },
  {
   "cell_type": "code",
   "execution_count": 19,
   "id": "70c16a4d",
   "metadata": {
    "ExecuteTime": {
     "end_time": "2024-12-11T02:06:55.856481Z",
     "start_time": "2024-12-11T02:06:55.795122Z"
    }
   },
   "outputs": [
    {
     "name": "stdout",
     "output_type": "stream",
     "text": [
      "PSF PyCon Trademark Usage Policy-/psf/trademarks/pycon\n",
      "PyCon Italia 2016 (PyCon Sette)-/events/python-events/378/\n",
      "PyCon Australia 2013-/events/python-events/57/\n",
      "PyCon AU 2019-/events/python-events/776/\n",
      "PyCon Australia 2014-/events/python-events/10/\n",
      "PyCon Ireland 2012-/events/python-events/76/\n",
      "PyCon Ireland 2016-/events/python-events/429/\n",
      "PyCon Ireland 2022-/events/python-events/1320/\n",
      "PyCon Australia 2014-/events/python-events/1447/\n",
      "PyCon Ireland 2024-/events/python-events/1862/\n",
      "PyCon APAC 2025-/events/python-events/1879/\n",
      "PyCon AU 2018-/events/python-events/696/\n",
      "PyCon APAC 2022-/events/python-events/1216/\n",
      "PyCon PH 2024-/events/python-events/1661/\n",
      "PyCon Ireland 2023-/events/python-events/1568/\n",
      "PyCon PL 2014-/events/python-events/191/\n",
      "PyCon MY 2015-/events/python-events/313/\n",
      "PyCon Ireland 2015-/events/python-events/333/\n",
      "PyCon AU 2015-/events/python-events/273/\n",
      "PyCon Australia 2016-/events/python-events/357/\n"
     ]
    }
   ],
   "source": [
    "from bs4 import BeautifulSoup\n",
    "soup = BeautifulSoup(dv.page_source,\"html.parser\")\n",
    "result_list = soup.select('li>h3>a')\n",
    "for result in result_list:\n",
    "    print(\"%s-%s\" % (result.text,result.attrs['href']))"
   ]
  },
  {
   "cell_type": "code",
   "execution_count": 26,
   "id": "a885702e",
   "metadata": {
    "ExecuteTime": {
     "end_time": "2024-12-11T02:15:26.168125Z",
     "start_time": "2024-12-11T02:15:26.154894Z"
    }
   },
   "outputs": [
    {
     "name": "stdout",
     "output_type": "stream",
     "text": [
      "현재 주소 : https://www.python.org/search/?q=pycon&submit=\n",
      "https www.python.org\n",
      "도메인: https://www.python.org\n"
     ]
    }
   ],
   "source": [
    "from urllib.parse import urlparse\n",
    "current_url = dv.current_url # 셀레니움을 통해 접근한 현재 url\n",
    "print('현재 주소 :',current_url)\n",
    "parse_url = urlparse(current_url)\n",
    "print(parse_url.scheme,parse_url.netloc)\n",
    "domain = f'{parse_url.scheme}://{parse_url.netloc}'\n",
    "print('도메인:',domain)"
   ]
  },
  {
   "cell_type": "code",
   "execution_count": 28,
   "id": "0fb91410",
   "metadata": {
    "ExecuteTime": {
     "end_time": "2024-12-11T02:17:03.919492Z",
     "start_time": "2024-12-11T02:17:03.858813Z"
    }
   },
   "outputs": [
    {
     "name": "stdout",
     "output_type": "stream",
     "text": [
      "PSF PyCon Trademark Usage Policy- https://www.python.org/psf/trademarks/pycon\n",
      "PyCon Italia 2016 (PyCon Sette)- https://www.python.org/events/python-events/378/\n",
      "PyCon Australia 2013- https://www.python.org/events/python-events/57/\n",
      "PyCon AU 2019- https://www.python.org/events/python-events/776/\n",
      "PyCon Australia 2014- https://www.python.org/events/python-events/10/\n",
      "PyCon Ireland 2012- https://www.python.org/events/python-events/76/\n",
      "PyCon Ireland 2016- https://www.python.org/events/python-events/429/\n",
      "PyCon Ireland 2022- https://www.python.org/events/python-events/1320/\n",
      "PyCon Australia 2014- https://www.python.org/events/python-events/1447/\n",
      "PyCon Ireland 2024- https://www.python.org/events/python-events/1862/\n",
      "PyCon APAC 2025- https://www.python.org/events/python-events/1879/\n",
      "PyCon AU 2018- https://www.python.org/events/python-events/696/\n",
      "PyCon APAC 2022- https://www.python.org/events/python-events/1216/\n",
      "PyCon PH 2024- https://www.python.org/events/python-events/1661/\n",
      "PyCon Ireland 2023- https://www.python.org/events/python-events/1568/\n",
      "PyCon PL 2014- https://www.python.org/events/python-events/191/\n",
      "PyCon MY 2015- https://www.python.org/events/python-events/313/\n",
      "PyCon Ireland 2015- https://www.python.org/events/python-events/333/\n",
      "PyCon AU 2015- https://www.python.org/events/python-events/273/\n",
      "PyCon Australia 2016- https://www.python.org/events/python-events/357/\n"
     ]
    }
   ],
   "source": [
    "from bs4 import BeautifulSoup\n",
    "soup = BeautifulSoup(dv.page_source,\"html.parser\")\n",
    "result_list = soup.select('li>h3>a')\n",
    "for result in result_list:\n",
    "    print(\"%s- %s\" % (result.text,domain + result.attrs['href']))"
   ]
  },
  {
   "cell_type": "code",
   "execution_count": 29,
   "id": "d481bcb6",
   "metadata": {
    "ExecuteTime": {
     "end_time": "2024-12-11T02:17:21.931676Z",
     "start_time": "2024-12-11T02:17:21.851147Z"
    }
   },
   "outputs": [],
   "source": [
    "dv.close()"
   ]
  },
  {
   "cell_type": "markdown",
   "id": "fca3b0d1",
   "metadata": {},
   "source": [
    "# 2절. 동적웹크롤링 예제\n",
    "## 2-1. 다음 뉴스 검색 "
   ]
  },
  {
   "cell_type": "code",
   "execution_count": 42,
   "id": "e61a1002",
   "metadata": {
    "ExecuteTime": {
     "end_time": "2024-12-11T03:01:24.533972Z",
     "start_time": "2024-12-11T03:01:16.491216Z"
    }
   },
   "outputs": [
    {
     "name": "stdout",
     "output_type": "stream",
     "text": [
      "검색할 단어는 ? 비트코인\n"
     ]
    }
   ],
   "source": [
    "driver = webdriver.Chrome()\n",
    "url = 'https://www.daum.net/'\n",
    "driver.get(url)\n",
    "driver.implicitly_wait(0.5) #요소를 찾을때까지 대기시간\n",
    "time.sleep(0.5) # 0.5초대기\n",
    "driver.find_element(By.CLASS_NAME,'tf_keyword').click()\n",
    "query = input('검색할 단어는 ? ')\n",
    "driver.find_element(By.CSS_SELECTOR,'input[type=\"text\"]').send_keys(query)\n",
    "driver.find_element(By.CLASS_NAME,'btn_ksearch').click()\n"
   ]
  },
  {
   "cell_type": "code",
   "execution_count": 47,
   "id": "c9f17f22",
   "metadata": {
    "ExecuteTime": {
     "end_time": "2024-12-11T03:15:59.134712Z",
     "start_time": "2024-12-11T03:15:58.394801Z"
    }
   },
   "outputs": [],
   "source": [
    "# 뉴스 탭 클릭\n",
    "els = driver.find_elements(By.CSS_SELECTOR,'ul.list_tab>li')[1].click()"
   ]
  },
  {
   "cell_type": "code",
   "execution_count": 49,
   "id": "2f7e236a",
   "metadata": {
    "ExecuteTime": {
     "end_time": "2024-12-11T03:19:39.502773Z",
     "start_time": "2024-12-11T03:19:39.251200Z"
    }
   },
   "outputs": [
    {
     "name": "stdout",
     "output_type": "stream",
     "text": [
      "[김대호 박사의 오늘의 키워드] 양자컴퓨팅·비트코인 빨간불·화웨이 금지법·트럼프 당근 http://v.daum.net/v/20241211071025706\n",
      "비트코인 조정 구간 돌입…MS 주주들, 비트코인 매입 반대[코인브리핑] http://v.daum.net/v/20241211110145033\n",
      "비트코인 10만달러 시대…\"비트코인 가격 추가 상승할 것\"-메리츠 http://v.daum.net/v/20241211084759570\n",
      "비트코인, 조정 이어져…1억3800만원대 http://v.daum.net/v/20241211093550195\n",
      "숨고르기 들어간 비트코인…부탄 정부, 비트코인 매도 시작[코인브리핑] http://v.daum.net/v/20241210110343588\n",
      "월가 차트분석 달인 \"비트코인 85K 추락 가능성\" http://v.daum.net/v/20241211104920355\n",
      "'트럼프 효과 다했나' 가상화폐 급락…비트코인 9만5천달러 하회 http://v.daum.net/v/20241211035608411\n",
      "‘초미의 관심’ MS의 비트코인 투자 여부…주주들은 “반대” 이유는 http://v.daum.net/v/20241211091115348\n",
      "[김대호 박사의 오늘 기업·사람] 구글·아이온큐·엔비디아·비트코인·이더리움·리플 http://v.daum.net/v/20241211080115555\n",
      "\"800만 코인러 환호\" 가상자산 과세 2년 유예… 비트코인 2억원 가나 http://v.daum.net/v/20241211054405308\n"
     ]
    }
   ],
   "source": [
    "news_list = []\n",
    "bodies = driver.find_elements(By.CSS_SELECTOR,'div.item-title>strong.tit-g')\n",
    "#bodies = driver.find_elements(By.CSS_SELECTOR,'div[class=\"item-title\"]>strong.tit-g>a')\n",
    "# print(len(bodies))\n",
    "for body in bodies:\n",
    "    a = body.find_element(By.TAG_NAME,'a')\n",
    "    title = a.text\n",
    "    link = a.get_attribute('href')\n",
    "    news_list.append([title,link])\n",
    "    print(title,link)"
   ]
  },
  {
   "cell_type": "code",
   "execution_count": 52,
   "id": "f7c2f969",
   "metadata": {
    "ExecuteTime": {
     "end_time": "2024-12-11T03:42:27.702808Z",
     "start_time": "2024-12-11T03:42:26.795147Z"
    }
   },
   "outputs": [],
   "source": [
    "page_nav = driver.find_element(By.CSS_SELECTOR,'div.inner_paging')\n",
    "next_page = page_nav.find_element(By.LINK_TEXT,\"3\")\n",
    "next_page.click()"
   ]
  },
  {
   "cell_type": "markdown",
   "id": "6876e802",
   "metadata": {},
   "source": [
    "## 2-2 페이징 처리\n",
    "- 다음 뉴스 페이징 처리\n"
   ]
  },
  {
   "cell_type": "code",
   "execution_count": 62,
   "id": "736f5ed7",
   "metadata": {
    "ExecuteTime": {
     "end_time": "2024-12-11T04:09:04.213819Z",
     "start_time": "2024-12-11T04:08:40.643197Z"
    }
   },
   "outputs": [
    {
     "name": "stdout",
     "output_type": "stream",
     "text": [
      "몇페이지 크롤링 할까요?3\n"
     ]
    },
    {
     "data": {
      "text/html": [
       "<div>\n",
       "<style scoped>\n",
       "    .dataframe tbody tr th:only-of-type {\n",
       "        vertical-align: middle;\n",
       "    }\n",
       "\n",
       "    .dataframe tbody tr th {\n",
       "        vertical-align: top;\n",
       "    }\n",
       "\n",
       "    .dataframe thead th {\n",
       "        text-align: right;\n",
       "    }\n",
       "</style>\n",
       "<table border=\"1\" class=\"dataframe\">\n",
       "  <thead>\n",
       "    <tr style=\"text-align: right;\">\n",
       "      <th></th>\n",
       "      <th>title</th>\n",
       "      <th>link</th>\n",
       "    </tr>\n",
       "  </thead>\n",
       "  <tbody>\n",
       "    <tr>\n",
       "      <th>0</th>\n",
       "      <td>비트코인 10만달러 시대…\"비트코인 가격 추가 상승할 것\"-메리츠</td>\n",
       "      <td>http://v.daum.net/v/20241211084759570</td>\n",
       "    </tr>\n",
       "    <tr>\n",
       "      <th>1</th>\n",
       "      <td>‘초미의 관심’ MS의 비트코인 투자 여부…주주들은 “반대” 이유는</td>\n",
       "      <td>http://v.daum.net/v/20241211091115348</td>\n",
       "    </tr>\n",
       "    <tr>\n",
       "      <th>2</th>\n",
       "      <td>비트코인 조정 구간 돌입…MS 주주들, 비트코인 매입 반대[코인브리핑]</td>\n",
       "      <td>http://v.daum.net/v/20241211110145033</td>\n",
       "    </tr>\n",
       "    <tr>\n",
       "      <th>3</th>\n",
       "      <td>비트코인, 조정 이어져…1억3800만원대</td>\n",
       "      <td>http://v.daum.net/v/20241211093550195</td>\n",
       "    </tr>\n",
       "    <tr>\n",
       "      <th>4</th>\n",
       "      <td>숨고르기 들어간 비트코인…부탄 정부, 비트코인 매도 시작[코인브리핑]</td>\n",
       "      <td>http://v.daum.net/v/20241210110343588</td>\n",
       "    </tr>\n",
       "    <tr>\n",
       "      <th>5</th>\n",
       "      <td>'트럼프 효과 다했나' 가상화폐 급락…비트코인 9만5천달러 하회</td>\n",
       "      <td>http://v.daum.net/v/20241211035608411</td>\n",
       "    </tr>\n",
       "    <tr>\n",
       "      <th>6</th>\n",
       "      <td>\"800만 코인러 환호\" 가상자산 과세 2년 유예… 비트코인 2억원 가나</td>\n",
       "      <td>http://v.daum.net/v/20241211054405308</td>\n",
       "    </tr>\n",
       "    <tr>\n",
       "      <th>7</th>\n",
       "      <td>마이크로소프트 주주들 비트코인 투자에 반대</td>\n",
       "      <td>http://v.daum.net/v/20241211064322197</td>\n",
       "    </tr>\n",
       "    <tr>\n",
       "      <th>8</th>\n",
       "      <td>20만달러 가능?…비트코인 10만 달러 재돌파</td>\n",
       "      <td>http://v.daum.net/v/20241209130203846</td>\n",
       "    </tr>\n",
       "    <tr>\n",
       "      <th>9</th>\n",
       "      <td>비트코인 전략 제안 거부한 마이크로소프트…주주 선택은 '안정'</td>\n",
       "      <td>http://v.daum.net/v/20241211085553764</td>\n",
       "    </tr>\n",
       "    <tr>\n",
       "      <th>10</th>\n",
       "      <td>\"미국만 코인 보유하나\"…중러도 '비트코인 비축' 카드 만지작</td>\n",
       "      <td>http://v.daum.net/v/20241210194912818</td>\n",
       "    </tr>\n",
       "    <tr>\n",
       "      <th>11</th>\n",
       "      <td>[블룸버그 칼럼]美 비트코인 비축, 나쁜 결과 가져올 것</td>\n",
       "      <td>http://v.daum.net/v/20241210095949338</td>\n",
       "    </tr>\n",
       "    <tr>\n",
       "      <th>12</th>\n",
       "      <td>[김대호 박사의 오늘의 키워드] 양자컴퓨팅·비트코인 빨간불·화웨이 금지법·트럼프 당근</td>\n",
       "      <td>http://v.daum.net/v/20241211071025706</td>\n",
       "    </tr>\n",
       "    <tr>\n",
       "      <th>13</th>\n",
       "      <td>[코인뉴스] \"죄다 파란불이네\"...비트코인 조정 국면에 알트코인도 일제히 하락</td>\n",
       "      <td>http://v.daum.net/v/20241211105754759</td>\n",
       "    </tr>\n",
       "    <tr>\n",
       "      <th>14</th>\n",
       "      <td>비트코인, 1억3600만원선까지 ‘폭락’…고점대비 10%↓</td>\n",
       "      <td>http://v.daum.net/v/20241211110153040</td>\n",
       "    </tr>\n",
       "    <tr>\n",
       "      <th>15</th>\n",
       "      <td>‘트럼프 효과’...美 비트코인 ETF에 100억불 유입</td>\n",
       "      <td>http://v.daum.net/v/20241209161507983</td>\n",
       "    </tr>\n",
       "    <tr>\n",
       "      <th>16</th>\n",
       "      <td>마이크로스트래티지, 비트코인 2만1,550개 추가 매입…\"21억 달러 규모\"</td>\n",
       "      <td>http://v.daum.net/v/20241210104806727</td>\n",
       "    </tr>\n",
       "    <tr>\n",
       "      <th>17</th>\n",
       "      <td>알트코인, 한때 20% 이상 폭락… 비트코인도 다시 10만 달러 밑으로</td>\n",
       "      <td>http://v.daum.net/v/20241210084214520</td>\n",
       "    </tr>\n",
       "    <tr>\n",
       "      <th>18</th>\n",
       "      <td>유재석 “비트코인! 비트코인!” 2011년 아닌 올초라도 말 들었어야 했나…‘$10...</td>\n",
       "      <td>http://v.daum.net/v/20241207060020551</td>\n",
       "    </tr>\n",
       "    <tr>\n",
       "      <th>19</th>\n",
       "      <td>'꿈의 10만달러' 찍은 비트코인…\"내년 20만달러 간다\"</td>\n",
       "      <td>http://v.daum.net/v/20241209173805996</td>\n",
       "    </tr>\n",
       "    <tr>\n",
       "      <th>20</th>\n",
       "      <td>비트코인 갑론을박...\"20만달러 vs 단기조정\"</td>\n",
       "      <td>http://v.daum.net/v/20241206103251287</td>\n",
       "    </tr>\n",
       "    <tr>\n",
       "      <th>21</th>\n",
       "      <td>비트코인, 채굴자 매도세에도 1억4100만원대 회복</td>\n",
       "      <td>http://v.daum.net/v/20241209094130683</td>\n",
       "    </tr>\n",
       "    <tr>\n",
       "      <th>22</th>\n",
       "      <td>'비트코인 빚투' 마이크로스트래티지, 또 샀다…고점 우려에도 3조원어치 추가 매입</td>\n",
       "      <td>http://v.daum.net/v/20241210044203347</td>\n",
       "    </tr>\n",
       "    <tr>\n",
       "      <th>23</th>\n",
       "      <td>비트코인 급락세는 끊어…리플은 5% 급등 반전(상보)</td>\n",
       "      <td>http://v.daum.net/v/20241211071817865</td>\n",
       "    </tr>\n",
       "    <tr>\n",
       "      <th>24</th>\n",
       "      <td>10만달러 돌파→재돌파…'트럼프 효과'에 고래도 춤췄다[비트코인 지금]</td>\n",
       "      <td>http://v.daum.net/v/20241209004217086</td>\n",
       "    </tr>\n",
       "    <tr>\n",
       "      <th>25</th>\n",
       "      <td>'10만 달러' 넘어선 비트코인...\"고점 아직\"vs\"과열\"</td>\n",
       "      <td>http://v.daum.net/v/20241206135550190</td>\n",
       "    </tr>\n",
       "    <tr>\n",
       "      <th>26</th>\n",
       "      <td>세상에 나온 지 '15년'...비트코인, 10만 달러 시대 열었다</td>\n",
       "      <td>http://v.daum.net/v/20241208072202024</td>\n",
       "    </tr>\n",
       "    <tr>\n",
       "      <th>27</th>\n",
       "      <td>'10만 달러' 넘은 비트코인, 어디까지 갈까 [글로벌 뉴스픽]</td>\n",
       "      <td>http://v.daum.net/v/20241206062101852</td>\n",
       "    </tr>\n",
       "    <tr>\n",
       "      <th>28</th>\n",
       "      <td>비트코인, 다시 10만 달러 붕괴…향후 전망은?</td>\n",
       "      <td>http://v.daum.net/v/20241206090709632</td>\n",
       "    </tr>\n",
       "    <tr>\n",
       "      <th>29</th>\n",
       "      <td>[글로벌 비즈 브리핑] '비트코인 빚투' 마이크로스트래티지, 또 샀다 外</td>\n",
       "      <td>http://v.daum.net/v/20241210044809410</td>\n",
       "    </tr>\n",
       "  </tbody>\n",
       "</table>\n",
       "</div>"
      ],
      "text/plain": [
       "                                                title  \\\n",
       "0                비트코인 10만달러 시대…\"비트코인 가격 추가 상승할 것\"-메리츠   \n",
       "1               ‘초미의 관심’ MS의 비트코인 투자 여부…주주들은 “반대” 이유는   \n",
       "2             비트코인 조정 구간 돌입…MS 주주들, 비트코인 매입 반대[코인브리핑]   \n",
       "3                              비트코인, 조정 이어져…1억3800만원대   \n",
       "4              숨고르기 들어간 비트코인…부탄 정부, 비트코인 매도 시작[코인브리핑]   \n",
       "5                 '트럼프 효과 다했나' 가상화폐 급락…비트코인 9만5천달러 하회   \n",
       "6            \"800만 코인러 환호\" 가상자산 과세 2년 유예… 비트코인 2억원 가나   \n",
       "7                             마이크로소프트 주주들 비트코인 투자에 반대   \n",
       "8                           20만달러 가능?…비트코인 10만 달러 재돌파   \n",
       "9                  비트코인 전략 제안 거부한 마이크로소프트…주주 선택은 '안정'   \n",
       "10                 \"미국만 코인 보유하나\"…중러도 '비트코인 비축' 카드 만지작   \n",
       "11                    [블룸버그 칼럼]美 비트코인 비축, 나쁜 결과 가져올 것   \n",
       "12    [김대호 박사의 오늘의 키워드] 양자컴퓨팅·비트코인 빨간불·화웨이 금지법·트럼프 당근   \n",
       "13       [코인뉴스] \"죄다 파란불이네\"...비트코인 조정 국면에 알트코인도 일제히 하락   \n",
       "14                   비트코인, 1억3600만원선까지 ‘폭락’…고점대비 10%↓   \n",
       "15                    ‘트럼프 효과’...美 비트코인 ETF에 100억불 유입   \n",
       "16         마이크로스트래티지, 비트코인 2만1,550개 추가 매입…\"21억 달러 규모\"   \n",
       "17            알트코인, 한때 20% 이상 폭락… 비트코인도 다시 10만 달러 밑으로   \n",
       "18  유재석 “비트코인! 비트코인!” 2011년 아닌 올초라도 말 들었어야 했나…‘$10...   \n",
       "19                   '꿈의 10만달러' 찍은 비트코인…\"내년 20만달러 간다\"   \n",
       "20                        비트코인 갑론을박...\"20만달러 vs 단기조정\"   \n",
       "21                       비트코인, 채굴자 매도세에도 1억4100만원대 회복   \n",
       "22      '비트코인 빚투' 마이크로스트래티지, 또 샀다…고점 우려에도 3조원어치 추가 매입   \n",
       "23                      비트코인 급락세는 끊어…리플은 5% 급등 반전(상보)   \n",
       "24            10만달러 돌파→재돌파…'트럼프 효과'에 고래도 춤췄다[비트코인 지금]   \n",
       "25                  '10만 달러' 넘어선 비트코인...\"고점 아직\"vs\"과열\"   \n",
       "26               세상에 나온 지 '15년'...비트코인, 10만 달러 시대 열었다   \n",
       "27                '10만 달러' 넘은 비트코인, 어디까지 갈까 [글로벌 뉴스픽]   \n",
       "28                         비트코인, 다시 10만 달러 붕괴…향후 전망은?   \n",
       "29           [글로벌 비즈 브리핑] '비트코인 빚투' 마이크로스트래티지, 또 샀다 外   \n",
       "\n",
       "                                     link  \n",
       "0   http://v.daum.net/v/20241211084759570  \n",
       "1   http://v.daum.net/v/20241211091115348  \n",
       "2   http://v.daum.net/v/20241211110145033  \n",
       "3   http://v.daum.net/v/20241211093550195  \n",
       "4   http://v.daum.net/v/20241210110343588  \n",
       "5   http://v.daum.net/v/20241211035608411  \n",
       "6   http://v.daum.net/v/20241211054405308  \n",
       "7   http://v.daum.net/v/20241211064322197  \n",
       "8   http://v.daum.net/v/20241209130203846  \n",
       "9   http://v.daum.net/v/20241211085553764  \n",
       "10  http://v.daum.net/v/20241210194912818  \n",
       "11  http://v.daum.net/v/20241210095949338  \n",
       "12  http://v.daum.net/v/20241211071025706  \n",
       "13  http://v.daum.net/v/20241211105754759  \n",
       "14  http://v.daum.net/v/20241211110153040  \n",
       "15  http://v.daum.net/v/20241209161507983  \n",
       "16  http://v.daum.net/v/20241210104806727  \n",
       "17  http://v.daum.net/v/20241210084214520  \n",
       "18  http://v.daum.net/v/20241207060020551  \n",
       "19  http://v.daum.net/v/20241209173805996  \n",
       "20  http://v.daum.net/v/20241206103251287  \n",
       "21  http://v.daum.net/v/20241209094130683  \n",
       "22  http://v.daum.net/v/20241210044203347  \n",
       "23  http://v.daum.net/v/20241211071817865  \n",
       "24  http://v.daum.net/v/20241209004217086  \n",
       "25  http://v.daum.net/v/20241206135550190  \n",
       "26  http://v.daum.net/v/20241208072202024  \n",
       "27  http://v.daum.net/v/20241206062101852  \n",
       "28  http://v.daum.net/v/20241206090709632  \n",
       "29  http://v.daum.net/v/20241210044809410  "
      ]
     },
     "metadata": {},
     "output_type": "display_data"
    }
   ],
   "source": [
    "from selenium import webdriver\n",
    "from selenium.webdriver.common.by import By\n",
    "from selenium.webdriver.common.keys import Keys\n",
    "import time\n",
    "# 원하는 페이지만큼 검색하여 결과를 데이터 프레임으로 출력\n",
    "driver = webdriver.Chrome()\n",
    "time.sleep(1)\n",
    "\n",
    "url = 'https://www.daum.net/'\n",
    "driver.get(url)\n",
    "driver.implicitly_wait(0.5) #요소를 찾을때까지 대기시간\n",
    "time.sleep(0.5) # 0.5초대기\n",
    "driver.find_element(By.CLASS_NAME,'tf_keyword').click()\n",
    "#query = input('검색할 단어는 ? ')\n",
    "driver.find_element(By.CSS_SELECTOR,'input[type=\"text\"]').send_keys('비트코인')\n",
    "driver.find_element(By.CLASS_NAME,'btn_ksearch').click()\n",
    "time.sleep(1)\n",
    "\n",
    "# 뉴스 탭 클릭\n",
    "els = driver.find_elements(By.CSS_SELECTOR,'ul.list_tab>li')[1].click()\n",
    "\n",
    "news_list = []\n",
    "\n",
    "page_numbers = int(input('몇페이지 크롤링 할까요?'))\n",
    "for page_number in range(1,page_numbers+1):\n",
    "    bodies = driver.find_elements(By.CSS_SELECTOR,'div.item-title>strong.tit-g')\n",
    "    bodies = driver.find_elements(By.CSS_SELECTOR,'div[class=\"item-title\"]>strong.tit-g')\n",
    "    # print(len(bodies))\n",
    "    for body in bodies:\n",
    "        a = body.find_element(By.TAG_NAME,'a')\n",
    "        title = a.text\n",
    "        link = a.get_attribute('href')\n",
    "        news_list.append([title,link])\n",
    "        #print(title,link)\n",
    "\n",
    "    page_nav = driver.find_element(By.CSS_SELECTOR,'div.inner_paging')\n",
    "    next_page = page_nav.find_element(By.LINK_TEXT,str(page_number+1))\n",
    "    time.sleep(3)\n",
    "    next_page.click()\n",
    "driver.close()\n",
    "import pandas as pd\n",
    "display(pd.DataFrame(news_list,columns=['title','link']))"
   ]
  },
  {
   "cell_type": "code",
   "execution_count": null,
   "id": "3fa7c4ad",
   "metadata": {},
   "outputs": [],
   "source": [
    "# 로그인이 될 수도 있게 우회하는 코드\n",
    "from selenium import webdriver\n",
    "from selenium.webdriver.common.by import By\n",
    "from selenium.webdriver.common.keys import Keys\n",
    "import time\n",
    "\n",
    "chrome_driver_path = 'chromedriver'\n",
    "driver = webdriver.Chrome()\n",
    "\n",
    "driver.get(\"https://nid.naver.com/nidlogin.login\")\n",
    "\n",
    "\n",
    "driver.execute_script(\"document.getElementById('id').value = '아이디';\")\n",
    "time.sleep(1)\n",
    "driver.execute_script(\"document.getElementById('pw').value = '비밀번호';\")\n",
    "time.sleep(1)\n",
    "\n",
    "driver.find_element(By.CLASS_NAME, \"btn_login\")\n"
   ]
  },
  {
   "cell_type": "markdown",
   "id": "5f1e2700",
   "metadata": {},
   "source": [
    "## 2-3맞춤법검사기\n",
    "- 네이버 맞춤법 검사기 이용"
   ]
  },
  {
   "cell_type": "code",
   "execution_count": 119,
   "id": "49942969",
   "metadata": {
    "ExecuteTime": {
     "end_time": "2024-12-11T08:50:12.147454Z",
     "start_time": "2024-12-11T08:50:12.143437Z"
    }
   },
   "outputs": [],
   "source": [
    "from selenium import webdriver\n",
    "from selenium.webdriver.common.keys import Keys\n",
    "from selenium.webdriver.common.by import By\n",
    "from bs4 import BeautifulSoup\n",
    "import time\n"
   ]
  },
  {
   "cell_type": "code",
   "execution_count": 68,
   "id": "871dbc4c",
   "metadata": {
    "ExecuteTime": {
     "end_time": "2024-12-11T05:43:16.865907Z",
     "start_time": "2024-12-11T05:43:07.051048Z"
    }
   },
   "outputs": [
    {
     "data": {
      "text/plain": [
       "'괸 찬아, 괜찮아'"
      ]
     },
     "execution_count": 68,
     "metadata": {},
     "output_type": "execute_result"
    }
   ],
   "source": [
    "driver = webdriver.Chrome()\n",
    "time.sleep(1)\n",
    "driver.get('https://www.naver.com/')\n",
    "elem = driver.find_element(By.CSS_SELECTOR,'input#query')\n",
    "elem.send_keys('맞춤법검사기')\n",
    "elem.send_keys(Keys.RETURN) # enter 누르기\n",
    "\n",
    "textarea = driver.find_element(By.CLASS_NAME,'txt_gray')\n",
    "textarea.send_keys('괸찬아,괸찮아')\n",
    "\n",
    "button = driver.find_element(By.CLASS_NAME, 'btn_check')\n",
    "button.click()\n",
    "time.sleep(4)\n",
    "\n",
    "soup = BeautifulSoup(driver.page_source,\"html.parser\")\n",
    "result = soup.select_one('p._result_text.stand_txt').text\n",
    "result"
   ]
  },
  {
   "cell_type": "markdown",
   "id": "96aa3f38",
   "metadata": {},
   "source": [
    "### 맞춤법 검사전 text파일을 맞춤법 검사 완료된 text파일로 output"
   ]
  },
  {
   "cell_type": "code",
   "execution_count": 109,
   "id": "281e7502",
   "metadata": {
    "ExecuteTime": {
     "end_time": "2024-12-11T07:44:19.483944Z",
     "start_time": "2024-12-11T07:44:19.476840Z"
    }
   },
   "outputs": [
    {
     "name": "stdout",
     "output_type": "stream",
     "text": [
      "253\n",
      "272\n",
      "220\n"
     ]
    }
   ],
   "source": [
    "with open('data/ch14_맞춤법검사전.txt','r',encoding='utf8') as f:\n",
    "    text = f.read()\n",
    "ready_list =[]\n",
    "while(len(text)>300) :\n",
    "    temp = text[:300]\n",
    "    last_dot_index = temp.rfind('.')\n",
    "    ready_list.append(text[:last_dot_index+1])\n",
    "    print(last_dot_index)\n",
    "    text = text[last_dot_index : ]\n",
    "ready_list.append(text)"
   ]
  },
  {
   "cell_type": "code",
   "execution_count": 110,
   "id": "aa049b0e",
   "metadata": {
    "ExecuteTime": {
     "end_time": "2024-12-11T07:44:20.786258Z",
     "start_time": "2024-12-11T07:44:20.779260Z"
    }
   },
   "outputs": [
    {
     "data": {
      "text/plain": [
       "[254, 273, 221, 177]"
      ]
     },
     "execution_count": 110,
     "metadata": {},
     "output_type": "execute_result"
    }
   ],
   "source": [
    "# ready list 확인\n",
    "[len(ready) for ready in ready_list]"
   ]
  },
  {
   "cell_type": "code",
   "execution_count": 108,
   "id": "d61469a2",
   "metadata": {
    "ExecuteTime": {
     "end_time": "2024-12-11T07:44:16.533875Z",
     "start_time": "2024-12-11T07:44:01.755720Z"
    }
   },
   "outputs": [
    {
     "name": "stdout",
     "output_type": "stream",
     "text": [
      "노벨문학상은 매년 세계에서 뛰어난 문학적 업적을 이룬 작가에게 수여되는 상으로, 스웨덴의 발명가 알프레드 노벨의 유언에 따라 1901년부터 제정되었습니다. 노벨은 자신의 재산을 사용하여 인류에 공헌한 분야에 상을 주기로 하였고, 그중 하나가 바로 문학이었습니다. 매년 수상자는 스웨덴 왕이 공식 발표하며, 시상식은 이듬해 12월 스톡홀름에서 열립니다. 이 상은 특정 장르에 제한을 두지 않고, 다양한 분야에서 뛰어난 업적을 이룬 작가들에게 주어집니다.. 주로 소설가, 시인, 극작가 등이 수상자로 선정되며, 문학적 기여를 인정받은 작가에\n",
      "\n"
     ]
    }
   ],
   "source": [
    "driver = webdriver.Chrome()\n",
    "time.sleep(1)\n",
    "driver.get('https://www.naver.com')\n",
    "elem = driver.find_element(By.NAME,'query')\n",
    "elem.send_keys('맞춤법 검사기')\n",
    "elem.send_keys(Keys.RETURN)\n",
    "time.sleep(1) # 1초대기\n",
    "results = ''\n",
    "textarea = driver.find_element(By.CLASS_NAME,'txt_gray')\n",
    "\n",
    "for ready in ready_list:\n",
    "    textarea.send_keys(Keys.CONTROL,'a') # ctrl + a\n",
    "    textarea.send_keys(ready)\n",
    "    button = driver.find_element(By.CLASS_NAME, 'btn_check')\n",
    "    button.click()\n",
    "    time.sleep(4)\n",
    "    soup = BeautifulSoup(driver.page_source,\"html.parser\")\n",
    "    result = soup.select_one('p._result_text').text\n",
    "    results += result + \"\\n\"\n",
    "driver.close()\n",
    "print(results)"
   ]
  },
  {
   "cell_type": "code",
   "execution_count": 88,
   "id": "33b1c4eb",
   "metadata": {
    "ExecuteTime": {
     "end_time": "2024-12-11T07:13:51.625198Z",
     "start_time": "2024-12-11T07:13:51.620212Z"
    }
   },
   "outputs": [],
   "source": [
    "# 맞춤법 결과 results 를 data/ch14_맞춤법검사후.txt로 출력\n",
    "with open('data/ch14_맞춤법검사후.txt','w',encoding='utf-8') as f:\n",
    "        f.write(results)"
   ]
  },
  {
   "cell_type": "markdown",
   "id": "00a19db7",
   "metadata": {},
   "source": [
    "# 연습문제"
   ]
  },
  {
   "cell_type": "code",
   "execution_count": 93,
   "id": "3d24449e",
   "metadata": {
    "ExecuteTime": {
     "end_time": "2024-12-11T07:21:34.978549Z",
     "start_time": "2024-12-11T07:21:34.970571Z"
    }
   },
   "outputs": [],
   "source": [
    "with open('data/ch14_맞춤법검사후.txt','r',encoding='utf8') as f:\n",
    "    text = f.read()\n",
    "ready_list =[]\n",
    "while(len(text)>1000) :\n",
    "    temp = text[:1000]\n",
    "    last_dot_index = temp.rfind('.')\n",
    "    ready_list.append(text[:last_dot_index+1])\n",
    "    print(last_dot_index)\n",
    "    text = text[last_dot_index : ]\n",
    "ready_list.append(text)"
   ]
  },
  {
   "cell_type": "code",
   "execution_count": 106,
   "id": "7a792a1f",
   "metadata": {
    "ExecuteTime": {
     "end_time": "2024-12-11T07:41:07.977154Z",
     "start_time": "2024-12-11T07:40:50.603953Z"
    }
   },
   "outputs": [
    {
     "name": "stdout",
     "output_type": "stream",
     "text": [
      " The Nobel Prize for Literature is awarded annually to a writer who has achieved outstanding literary achievements in the world. It was established in 1901 according to the will of Swedish inventor Alfred Nobel.,Nobel decided to use his wealth to award prizes to fields that contributed to humanity, one of which was literature.,Each year the award is officially presented by the King of Sweden, and the award ceremony takes place in Stockholm in December of the following year; the award is given to writers who have achieved outstanding achievements in a wide range of fields, without limiting themselves to a specific genre..Primarily novelists, poets, playwrights, etc., are selected as winners, and are awarded to authors who have been recognized for their literary contributions.,The Nobel Prize for Literature is not just an acknowledgment of literary merit, it is an award that evaluates the impact of a writer's work on humanity, social messages, and cultural contributions.,For example, Albert Camus won for his work on existentialism and absurdist literature, and Toni Morrison won for her work exploring African-American history and culture.. .,As such, the Nobel Prize for Literature is more than just recognizing outstanding literary works, it plays an important role in reflecting on the world's problems and presenting solutions through works created by writers. Recently, various issues in modern society have emerged as the subject of literary works, and the Nobel Prize for Literature has been influenced by that direction.,Works that reflect new trends such as environmental issues, racial issues, and digital literature are being selected as winners.. .,For example, in 2023, Japanese novelist Ami Okazaki won the prize, and she is recognized as a work that explores the complexity and psychological depth of human relationships. The Nobel Prize for Literature is the most prestigious prize in the world of literature, giving great honor to writers and giving them an opportunity to spread their work more widely around the world. \n",
      "\n"
     ]
    }
   ],
   "source": [
    "driver = webdriver.Chrome()\n",
    "time.sleep(1)\n",
    "driver.get('https://search.daum.net/search?w=tot&q=kakao%20i%20%EB%B2%88%EC%97%AD&DA=ESL&rtmaxcoll=TR2')\n",
    "results = ''\n",
    "textarea = driver.find_element(By.CLASS_NAME,'translate_area')\n",
    "\n",
    "for ready in ready_list:\n",
    "    textarea.send_keys(Keys.CONTROL,'a') # ctrl + a\n",
    "    textarea.send_keys(ready)\n",
    "    button = driver.find_element(By.CLASS_NAME,'btn_translate')\n",
    "    button.click()\n",
    "    time.sleep(5)\n",
    "    soup = BeautifulSoup(driver.page_source,\"html.parser\")\n",
    "    result = soup.select_one('div.result_area').text\n",
    "    results += result + \"\\n\"\n",
    "driver.close()\n",
    "print(results)"
   ]
  },
  {
   "cell_type": "code",
   "execution_count": 107,
   "id": "23229b66",
   "metadata": {
    "ExecuteTime": {
     "end_time": "2024-12-11T07:42:05.121908Z",
     "start_time": "2024-12-11T07:42:05.117757Z"
    }
   },
   "outputs": [],
   "source": [
    "with open('data/ch14_영문번역.txt','w',encoding='utf-8') as f:\n",
    "        f.write(results)"
   ]
  },
  {
   "cell_type": "code",
   "execution_count": 112,
   "id": "597f9417",
   "metadata": {
    "ExecuteTime": {
     "end_time": "2024-12-11T07:47:58.122626Z",
     "start_time": "2024-12-11T07:47:58.114677Z"
    }
   },
   "outputs": [
    {
     "name": "stdout",
     "output_type": "stream",
     "text": [
      "982\n",
      "983\n"
     ]
    }
   ],
   "source": [
    "with open('data/test1.txt','r',encoding='utf8') as f:\n",
    "    text = f.read()\n",
    "ready_list =[]\n",
    "while(len(text)>1000) :\n",
    "    temp = text[:1000]\n",
    "    last_dot_index = temp.rfind('.')\n",
    "    ready_list.append(text[:last_dot_index+1])\n",
    "    print(last_dot_index)\n",
    "    text = text[last_dot_index : ]\n",
    "ready_list.append(text)"
   ]
  },
  {
   "cell_type": "code",
   "execution_count": 113,
   "id": "ecf172f6",
   "metadata": {
    "ExecuteTime": {
     "end_time": "2024-12-11T07:49:01.475847Z",
     "start_time": "2024-12-11T07:48:18.938913Z"
    }
   },
   "outputs": [
    {
     "name": "stdout",
     "output_type": "stream",
     "text": [
      " When the amendment to the Constitution is approved by paragraph (2), the amendment shall be finalized and the President shall immediately promulgate it. The State Council shall consist of the President and the Prime Minister and between 15 and 30 members of the State Council. The members of the State Council shall be appointed by the President upon the recommendation of the Prime Minister.,The establishment, organization and scope of duties of each administrative department shall be determined by law. The head of the Constitutional Court shall be appointed by the President from among the judges with the consent of the National Assembly. The publication of the contents of the meeting that has not been disclosed shall be governed by the Act.,The Supreme Court of Justice shall be appointed by the President with the consent of the National Assembly upon the recommendation of the Chief Justice of the Supreme Court. The amendment of the Constitution to extend the term of office of the President or to change the term of office shall not be effective against the President at the time of the proposed amendment of the Constitution.The State shall be obliged to foster the local economy for the balanced development between the regions; the President shall conclude and ratify treaties, trust, accept or dispatch diplomatic envoys, and declare and strengthen war.,If there is an objection to the bill, the President may return it to the National Assembly with a written objection within the period referred to in paragraph (1), and demand its reconsideration. The same shall also apply during the closing of the National Assembly. The sovereignty of the Republic of Korea lies with the people, and all power comes from the people.,A soldier cannot be appointed a member of the State Council unless he or she has been relieved of active duty. All citizens have the right to work.,The State shall endeavor to promote the employment of workers and guarantee the appropriate wages in social and economic ways, and shall implement the minimum wage system as prescribed by law.The State shall be obliged to implement policies for the improvement of the welfare of older persons and juveniles. The right to collective action of workers engaged in major defense industries prescribed by law may not be restricted or recognized as prescribed by law.,The National Assembly shall not increase the amount of each item of expenditure budget submitted by the Government or install new items without the consent of the Government. The President shall, without delay, promulgate the laws established by the provisions of paragraphs 4 and 5.,If the President fails to promulgate the Act within five days after the Act has been finalized pursuant to paragraph (5) or the definite law pursuant to paragraph (4) has been transferred to the Government, the Speaker of the National Assembly shall promulgate it. \n",
      " . Military tribunals under emergency martial law may be made unilaterally only in cases of crimes committed by soldiers or civil servants or of espionage related to military affairs, and in cases where the law stipulates among crimes concerning sentries, guard posts, toxic food supply, and prisoners: Provided, That this shall not apply where the death penalty is pronounced.When the Constitutional Court makes a decision on the unconstitutionality of the law, a decision on impeachment, a decision on the dissolution of a political party, or a decision on a constitutional complaint, there must be at least six judges.,The state can regulate and adjust the economy to maintain balanced growth and stability of the national economy and proper distribution of income, to prevent market dominance and abuse of economic power, and to democratize the economy through harmony among economic agents.,The President may, if deemed necessary, attach important policies on foreign affairs, defense, unification and other national security to the referendum. Three of the judges in paragraph (2) appoint those elected by the National Assembly, and three appoint those appointed by the Chief Justice of the Supreme Court.,Matters necessary to guarantee the facility standards for communications and broadcasting and the functions of newspapers shall be prescribed by law.The State shall be obliged to examine the petition. All citizens shall not be infringed on the confidentiality and freedom of privacy. The publication of the contents of the meeting which is not disclosed shall be governed by the Act.,If the defendant's confession is found not to have been arbitrarily stated by torture, assault, intimidation, redemption, or other means, or if the defendant's confession is the only evidence against him in a formal trial, It can not be punished.,Marriage and family life must be established and maintained on the basis of individual dignity and equality of nurture, and the state guarantees this.,The President shall, in the event of a crisis, foreign exchange, genius, disaster, or serious financial or economic crisis, require urgent measures to maintain national security or public well-being and can not afford to wait for the assembly of the National Assembly, Or to issue an order with the effect of law.The State shall be obliged to implement policies to improve the welfare of the elderly and juveniles. \n",
      " . The National Assembly elects one chairman and two vice-chairmen.,A citizen who is not a soldier or a civil servant shall not be tried by a military court in the territory of the Republic of Korea, except in cases where the law on serious military confidentiality, superpowers, superpowers, toxic food supply, captivity, military use is declared and emergency martial law is declared.,Acceptance, use or restriction of property rights due to public necessity and compensation therefor shall be made by law, but fair compensation shall be paid. If the approval under paragraph (3) is not obtained, the disposition or order shall cease to be effective from then on.,In this case, the law that was amended or abolished by the order shall, of course, be restored to effect from the time the order is not approved. \n",
      "\n"
     ]
    }
   ],
   "source": [
    "driver = webdriver.Chrome()\n",
    "time.sleep(1)\n",
    "driver.get('https://search.daum.net/search?w=tot&q=kakao%20i%20%EB%B2%88%EC%97%AD&DA=ESL&rtmaxcoll=TR2')\n",
    "results = ''\n",
    "textarea = driver.find_element(By.CLASS_NAME,'translate_area')\n",
    "\n",
    "for ready in ready_list:\n",
    "    textarea.send_keys(Keys.CONTROL,'a') # ctrl + a\n",
    "    textarea.send_keys(ready)\n",
    "    button = driver.find_element(By.CLASS_NAME,'btn_translate')\n",
    "    button.click()\n",
    "    time.sleep(5)\n",
    "    soup = BeautifulSoup(driver.page_source,\"html.parser\")\n",
    "    result = soup.select_one('div.result_area').text\n",
    "    results += result + \"\\n\"\n",
    "driver.close()\n",
    "print(results)"
   ]
  },
  {
   "cell_type": "code",
   "execution_count": 114,
   "id": "d0f352e2",
   "metadata": {
    "ExecuteTime": {
     "end_time": "2024-12-11T07:49:14.176955Z",
     "start_time": "2024-12-11T07:49:14.172956Z"
    }
   },
   "outputs": [],
   "source": [
    "with open('data/ch14_영문번역2000자.txt','w',encoding='utf-8') as f:\n",
    "        f.write(results)"
   ]
  },
  {
   "cell_type": "markdown",
   "id": "6fa64f7f",
   "metadata": {},
   "source": [
    "# 3절. 자동화\n",
    "## 3-1. 컴퓨터가 파이썬을 실행\n",
    "    - unix : corn\n",
    "    - win: 작업스케쥴러\n",
    "        * window + R :taskschd.msc\n",
    "## 3-2. 파이썬 프로그램에서 스케쥴링\n",
    "    -pip install schedeul"
   ]
  },
  {
   "cell_type": "code",
   "execution_count": 117,
   "id": "4bf35d0b",
   "metadata": {
    "ExecuteTime": {
     "end_time": "2024-12-11T08:48:26.286444Z",
     "start_time": "2024-12-11T08:46:24.243616Z"
    }
   },
   "outputs": [
    {
     "name": "stdout",
     "output_type": "stream",
     "text": [
      "작업이 실행되었습니다.\n",
      "작업이 실행되었습니다.\n",
      "작업이 실행되었습니다.\n",
      "작업이 실행되었습니다.\n",
      "작업이 실행되었습니다.\n",
      "작업이 실행되었습니다.\n",
      "작업이 실행되었습니다.\n",
      "작업이 실행되었습니다.\n",
      "작업이 실행되었습니다.\n",
      "작업이 실행되었습니다.\n",
      "작업이 실행되었습니다.\n",
      "작업이 실행되었습니다.\n",
      "작업이 실행되었습니다.\n",
      "작업이 실행되었습니다.\n",
      "작업이 실행되었습니다.\n",
      "작업이 실행되었습니다.\n",
      "작업이 실행되었습니다.\n",
      "작업이 실행되었습니다.\n",
      "작업이 실행되었습니다.\n",
      "작업이 실행되었습니다.\n",
      "작업이 실행되었습니다.\n",
      "작업이 실행되었습니다.\n",
      "작업이 실행되었습니다.\n",
      "작업이 실행되었습니다.\n",
      "작업이 실행되었습니다.\n",
      "작업이 실행되었습니다.\n"
     ]
    },
    {
     "ename": "KeyboardInterrupt",
     "evalue": "",
     "output_type": "error",
     "traceback": [
      "\u001b[1;31m---------------------------------------------------------------------------\u001b[0m",
      "\u001b[1;31mKeyboardInterrupt\u001b[0m                         Traceback (most recent call last)",
      "Cell \u001b[1;32mIn[117], line 14\u001b[0m\n\u001b[0;32m     12\u001b[0m \u001b[38;5;28;01mwhile\u001b[39;00m \u001b[38;5;28;01mTrue\u001b[39;00m :\n\u001b[0;32m     13\u001b[0m         schedule\u001b[38;5;241m.\u001b[39mrun_pending()\n\u001b[1;32m---> 14\u001b[0m         \u001b[43mtime\u001b[49m\u001b[38;5;241;43m.\u001b[39;49m\u001b[43msleep\u001b[49m\u001b[43m(\u001b[49m\u001b[38;5;241;43m2\u001b[39;49m\u001b[43m)\u001b[49m\n",
      "\u001b[1;31mKeyboardInterrupt\u001b[0m: "
     ]
    }
   ],
   "source": [
    "import schedule\n",
    "import time\n",
    "def job():\n",
    "    print('작업이 실행되었습니다.')\n",
    "    \n",
    "schedule.every(10).seconds.do(job) #마다 수행\n",
    "\n",
    "# schedule.every().day.at(\"17:59\").do(job)\n",
    "#schedule.every().hour.do(job)\n",
    "#schedule.every().minute.do(job) #한번수행\n",
    "# 무한 루프를 돌며 스케쥴된 작업이 있는지 확인하고 자동화\n",
    "while True :\n",
    "        schedule.run_pending()\n",
    "        time.sleep(2)"
   ]
  },
  {
   "cell_type": "code",
   "execution_count": null,
   "id": "7fc52302",
   "metadata": {},
   "outputs": [],
   "source": [
    "def"
   ]
  },
  {
   "cell_type": "code",
   "execution_count": null,
   "id": "4c9ea044",
   "metadata": {},
   "outputs": [],
   "source": []
  }
 ],
 "metadata": {
  "kernelspec": {
   "display_name": "Python 3 (ipykernel)",
   "language": "python",
   "name": "python3"
  },
  "language_info": {
   "codemirror_mode": {
    "name": "ipython",
    "version": 3
   },
   "file_extension": ".py",
   "mimetype": "text/x-python",
   "name": "python",
   "nbconvert_exporter": "python",
   "pygments_lexer": "ipython3",
   "version": "3.10.9"
  },
  "toc": {
   "base_numbering": 1,
   "nav_menu": {},
   "number_sections": true,
   "sideBar": true,
   "skip_h1_title": false,
   "title_cell": "Table of Contents",
   "title_sidebar": "Contents",
   "toc_cell": false,
   "toc_position": {
    "height": "calc(100% - 180px)",
    "left": "10px",
    "top": "150px",
    "width": "165px"
   },
   "toc_section_display": true,
   "toc_window_display": true
  }
 },
 "nbformat": 4,
 "nbformat_minor": 5
}
