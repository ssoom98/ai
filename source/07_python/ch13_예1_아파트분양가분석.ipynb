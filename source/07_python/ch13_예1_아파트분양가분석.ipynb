{
 "cells": [
  {
   "cell_type": "code",
   "execution_count": 1,
   "id": "f4be5588",
   "metadata": {
    "ExecuteTime": {
     "end_time": "2024-12-03T05:34:54.448926Z",
     "start_time": "2024-12-03T05:34:54.438797Z"
    }
   },
   "outputs": [
    {
     "data": {
      "text/html": [
       "\n",
       "<style>\n",
       "div.container{width:80% !important;}\n",
       "div.CodeMirror {font-family:Consolas; font-size:12pt;}\n",
       "div.output {font-size:12pt; font-weight:bold;}\n",
       "div.input {font-family:Consolas; font-size:12pt;}\n",
       "div.prompt {min-width:70px;}\n",
       "div#toc-header{margin-top:150px;}\n",
       "</style>\n",
       "<style>\n",
       "span.toc-item-num{\n",
       "display:none;\n",
       "}\n",
       "</style>\n"
      ],
      "text/plain": [
       "<IPython.core.display.HTML object>"
      ]
     },
     "metadata": {},
     "output_type": "display_data"
    }
   ],
   "source": [
    "from IPython.display import display, HTML\n",
    "display(HTML(\"\"\"\n",
    "<style>\n",
    "div.container{width:80% !important;}\n",
    "div.CodeMirror {font-family:Consolas; font-size:12pt;}\n",
    "div.output {font-size:12pt; font-weight:bold;}\n",
    "div.input {font-family:Consolas; font-size:12pt;}\n",
    "div.prompt {min-width:70px;}\n",
    "div#toc-header{margin-top:150px;}\n",
    "</style>\n",
    "<style>\n",
    "span.toc-item-num{\n",
    "display:none;\n",
    "}\n",
    "</style>\n",
    "\"\"\"))"
   ]
  },
  {
   "cell_type": "markdown",
   "id": "e49efd38",
   "metadata": {},
   "source": [
    "# 1.패키지 로드\n"
   ]
  },
  {
   "cell_type": "code",
   "execution_count": 2,
   "id": "a142f862",
   "metadata": {
    "ExecuteTime": {
     "end_time": "2024-12-03T08:46:53.454198Z",
     "start_time": "2024-12-03T08:46:53.444225Z"
    }
   },
   "outputs": [],
   "source": [
    "#패키지 import\n",
    "import matplotlib.pyplot as plt\n",
    "import seaborn as sns\n",
    "import pandas as pd\n",
    "import numpy as np\n",
    "\n",
    "#시각화 선명도\n",
    "%matplotlib inline\n",
    "%config InlineBackend.figure_format= \"retina\"\n",
    "\n",
    "# 한글설정\n",
    "plt.rc('font',family='Malgun Gothic') # 윈도우즈\n",
    "plt.rc('axes',unicode_minus=False)# 축의 -깨짐방지\n",
    "\n",
    "# warnig 감추기\n",
    "import warnings\n",
    "warnings.filterwarnings(action='ignore') #안보이게\n",
    "#warnings.filterwarnings(action='default') #보이게\n",
    "\n"
   ]
  },
  {
   "cell_type": "markdown",
   "id": "a126fb05",
   "metadata": {},
   "source": [
    "# 2.데이터 다운로드\n",
    "- https://www.data.go.kr 에서 \"아파트 분양 가격 \"을 검색한 csv다운로드"
   ]
  },
  {
   "cell_type": "markdown",
   "id": "0b0c7229",
   "metadata": {},
   "source": [
    "## ① 2013년9월부터 2015년8월까지 데이터는 df_first 변수에 담아 탐색"
   ]
  },
  {
   "cell_type": "code",
   "execution_count": 3,
   "id": "f4748b0e",
   "metadata": {
    "ExecuteTime": {
     "end_time": "2024-12-03T05:34:55.987245Z",
     "start_time": "2024-12-03T05:34:55.956328Z"
    }
   },
   "outputs": [
    {
     "name": "stderr",
     "output_type": "stream",
     "text": [
      "지정된 경로를 찾을 수 없습니다.\n"
     ]
    }
   ],
   "source": [
    "%ls D:\\ai\\Downloads\\shareData"
   ]
  },
  {
   "cell_type": "code",
   "execution_count": 4,
   "id": "fcc12a7c",
   "metadata": {
    "ExecuteTime": {
     "end_time": "2024-12-03T05:34:56.019376Z",
     "start_time": "2024-12-03T05:34:55.989212Z"
    }
   },
   "outputs": [
    {
     "ename": "FileNotFoundError",
     "evalue": "[Errno 2] No such file or directory: 'D:\\\\ai\\\\Downloads\\\\shareData\\\\전국 평균 평당 분양가격(2013년 9월부터 2015년 8월까지).csv'",
     "output_type": "error",
     "traceback": [
      "\u001b[1;31m---------------------------------------------------------------------------\u001b[0m",
      "\u001b[1;31mFileNotFoundError\u001b[0m                         Traceback (most recent call last)",
      "Cell \u001b[1;32mIn[4], line 1\u001b[0m\n\u001b[1;32m----> 1\u001b[0m df_first \u001b[38;5;241m=\u001b[39m \u001b[43mpd\u001b[49m\u001b[38;5;241;43m.\u001b[39;49m\u001b[43mread_csv\u001b[49m\u001b[43m(\u001b[49m\u001b[38;5;124;43mr\u001b[39;49m\u001b[38;5;124;43m'\u001b[39;49m\u001b[38;5;124;43mD:\u001b[39;49m\u001b[38;5;124;43m\\\u001b[39;49m\u001b[38;5;124;43mai\u001b[39;49m\u001b[38;5;124;43m\\\u001b[39;49m\u001b[38;5;124;43mDownloads\u001b[39;49m\u001b[38;5;124;43m\\\u001b[39;49m\u001b[38;5;124;43mshareData\u001b[39;49m\u001b[38;5;124;43m\\\u001b[39;49m\u001b[38;5;124;43m전국 평균 평당 분양가격(2013년 9월부터 2015년 8월까지).csv\u001b[39;49m\u001b[38;5;124;43m'\u001b[39;49m\u001b[43m,\u001b[49m\n\u001b[0;32m      2\u001b[0m \u001b[43m                      \u001b[49m\u001b[43mencoding\u001b[49m\u001b[38;5;241;43m=\u001b[39;49m\u001b[38;5;124;43m'\u001b[39;49m\u001b[38;5;124;43mcp949\u001b[39;49m\u001b[38;5;124;43m'\u001b[39;49m\u001b[43m)\u001b[49m\n\u001b[0;32m      3\u001b[0m df_first\n",
      "File \u001b[1;32mC:\\ai\\IDE\\anaconda\\lib\\site-packages\\pandas\\util\\_decorators.py:211\u001b[0m, in \u001b[0;36mdeprecate_kwarg.<locals>._deprecate_kwarg.<locals>.wrapper\u001b[1;34m(*args, **kwargs)\u001b[0m\n\u001b[0;32m    209\u001b[0m     \u001b[38;5;28;01melse\u001b[39;00m:\n\u001b[0;32m    210\u001b[0m         kwargs[new_arg_name] \u001b[38;5;241m=\u001b[39m new_arg_value\n\u001b[1;32m--> 211\u001b[0m \u001b[38;5;28;01mreturn\u001b[39;00m func(\u001b[38;5;241m*\u001b[39margs, \u001b[38;5;241m*\u001b[39m\u001b[38;5;241m*\u001b[39mkwargs)\n",
      "File \u001b[1;32mC:\\ai\\IDE\\anaconda\\lib\\site-packages\\pandas\\util\\_decorators.py:331\u001b[0m, in \u001b[0;36mdeprecate_nonkeyword_arguments.<locals>.decorate.<locals>.wrapper\u001b[1;34m(*args, **kwargs)\u001b[0m\n\u001b[0;32m    325\u001b[0m \u001b[38;5;28;01mif\u001b[39;00m \u001b[38;5;28mlen\u001b[39m(args) \u001b[38;5;241m>\u001b[39m num_allow_args:\n\u001b[0;32m    326\u001b[0m     warnings\u001b[38;5;241m.\u001b[39mwarn(\n\u001b[0;32m    327\u001b[0m         msg\u001b[38;5;241m.\u001b[39mformat(arguments\u001b[38;5;241m=\u001b[39m_format_argument_list(allow_args)),\n\u001b[0;32m    328\u001b[0m         \u001b[38;5;167;01mFutureWarning\u001b[39;00m,\n\u001b[0;32m    329\u001b[0m         stacklevel\u001b[38;5;241m=\u001b[39mfind_stack_level(),\n\u001b[0;32m    330\u001b[0m     )\n\u001b[1;32m--> 331\u001b[0m \u001b[38;5;28;01mreturn\u001b[39;00m func(\u001b[38;5;241m*\u001b[39margs, \u001b[38;5;241m*\u001b[39m\u001b[38;5;241m*\u001b[39mkwargs)\n",
      "File \u001b[1;32mC:\\ai\\IDE\\anaconda\\lib\\site-packages\\pandas\\io\\parsers\\readers.py:950\u001b[0m, in \u001b[0;36mread_csv\u001b[1;34m(filepath_or_buffer, sep, delimiter, header, names, index_col, usecols, squeeze, prefix, mangle_dupe_cols, dtype, engine, converters, true_values, false_values, skipinitialspace, skiprows, skipfooter, nrows, na_values, keep_default_na, na_filter, verbose, skip_blank_lines, parse_dates, infer_datetime_format, keep_date_col, date_parser, dayfirst, cache_dates, iterator, chunksize, compression, thousands, decimal, lineterminator, quotechar, quoting, doublequote, escapechar, comment, encoding, encoding_errors, dialect, error_bad_lines, warn_bad_lines, on_bad_lines, delim_whitespace, low_memory, memory_map, float_precision, storage_options)\u001b[0m\n\u001b[0;32m    935\u001b[0m kwds_defaults \u001b[38;5;241m=\u001b[39m _refine_defaults_read(\n\u001b[0;32m    936\u001b[0m     dialect,\n\u001b[0;32m    937\u001b[0m     delimiter,\n\u001b[1;32m   (...)\u001b[0m\n\u001b[0;32m    946\u001b[0m     defaults\u001b[38;5;241m=\u001b[39m{\u001b[38;5;124m\"\u001b[39m\u001b[38;5;124mdelimiter\u001b[39m\u001b[38;5;124m\"\u001b[39m: \u001b[38;5;124m\"\u001b[39m\u001b[38;5;124m,\u001b[39m\u001b[38;5;124m\"\u001b[39m},\n\u001b[0;32m    947\u001b[0m )\n\u001b[0;32m    948\u001b[0m kwds\u001b[38;5;241m.\u001b[39mupdate(kwds_defaults)\n\u001b[1;32m--> 950\u001b[0m \u001b[38;5;28;01mreturn\u001b[39;00m \u001b[43m_read\u001b[49m\u001b[43m(\u001b[49m\u001b[43mfilepath_or_buffer\u001b[49m\u001b[43m,\u001b[49m\u001b[43m \u001b[49m\u001b[43mkwds\u001b[49m\u001b[43m)\u001b[49m\n",
      "File \u001b[1;32mC:\\ai\\IDE\\anaconda\\lib\\site-packages\\pandas\\io\\parsers\\readers.py:605\u001b[0m, in \u001b[0;36m_read\u001b[1;34m(filepath_or_buffer, kwds)\u001b[0m\n\u001b[0;32m    602\u001b[0m _validate_names(kwds\u001b[38;5;241m.\u001b[39mget(\u001b[38;5;124m\"\u001b[39m\u001b[38;5;124mnames\u001b[39m\u001b[38;5;124m\"\u001b[39m, \u001b[38;5;28;01mNone\u001b[39;00m))\n\u001b[0;32m    604\u001b[0m \u001b[38;5;66;03m# Create the parser.\u001b[39;00m\n\u001b[1;32m--> 605\u001b[0m parser \u001b[38;5;241m=\u001b[39m TextFileReader(filepath_or_buffer, \u001b[38;5;241m*\u001b[39m\u001b[38;5;241m*\u001b[39mkwds)\n\u001b[0;32m    607\u001b[0m \u001b[38;5;28;01mif\u001b[39;00m chunksize \u001b[38;5;129;01mor\u001b[39;00m iterator:\n\u001b[0;32m    608\u001b[0m     \u001b[38;5;28;01mreturn\u001b[39;00m parser\n",
      "File \u001b[1;32mC:\\ai\\IDE\\anaconda\\lib\\site-packages\\pandas\\io\\parsers\\readers.py:1442\u001b[0m, in \u001b[0;36mTextFileReader.__init__\u001b[1;34m(self, f, engine, **kwds)\u001b[0m\n\u001b[0;32m   1439\u001b[0m     \u001b[38;5;28mself\u001b[39m\u001b[38;5;241m.\u001b[39moptions[\u001b[38;5;124m\"\u001b[39m\u001b[38;5;124mhas_index_names\u001b[39m\u001b[38;5;124m\"\u001b[39m] \u001b[38;5;241m=\u001b[39m kwds[\u001b[38;5;124m\"\u001b[39m\u001b[38;5;124mhas_index_names\u001b[39m\u001b[38;5;124m\"\u001b[39m]\n\u001b[0;32m   1441\u001b[0m \u001b[38;5;28mself\u001b[39m\u001b[38;5;241m.\u001b[39mhandles: IOHandles \u001b[38;5;241m|\u001b[39m \u001b[38;5;28;01mNone\u001b[39;00m \u001b[38;5;241m=\u001b[39m \u001b[38;5;28;01mNone\u001b[39;00m\n\u001b[1;32m-> 1442\u001b[0m \u001b[38;5;28mself\u001b[39m\u001b[38;5;241m.\u001b[39m_engine \u001b[38;5;241m=\u001b[39m \u001b[38;5;28;43mself\u001b[39;49m\u001b[38;5;241;43m.\u001b[39;49m\u001b[43m_make_engine\u001b[49m\u001b[43m(\u001b[49m\u001b[43mf\u001b[49m\u001b[43m,\u001b[49m\u001b[43m \u001b[49m\u001b[38;5;28;43mself\u001b[39;49m\u001b[38;5;241;43m.\u001b[39;49m\u001b[43mengine\u001b[49m\u001b[43m)\u001b[49m\n",
      "File \u001b[1;32mC:\\ai\\IDE\\anaconda\\lib\\site-packages\\pandas\\io\\parsers\\readers.py:1735\u001b[0m, in \u001b[0;36mTextFileReader._make_engine\u001b[1;34m(self, f, engine)\u001b[0m\n\u001b[0;32m   1733\u001b[0m     \u001b[38;5;28;01mif\u001b[39;00m \u001b[38;5;124m\"\u001b[39m\u001b[38;5;124mb\u001b[39m\u001b[38;5;124m\"\u001b[39m \u001b[38;5;129;01mnot\u001b[39;00m \u001b[38;5;129;01min\u001b[39;00m mode:\n\u001b[0;32m   1734\u001b[0m         mode \u001b[38;5;241m+\u001b[39m\u001b[38;5;241m=\u001b[39m \u001b[38;5;124m\"\u001b[39m\u001b[38;5;124mb\u001b[39m\u001b[38;5;124m\"\u001b[39m\n\u001b[1;32m-> 1735\u001b[0m \u001b[38;5;28mself\u001b[39m\u001b[38;5;241m.\u001b[39mhandles \u001b[38;5;241m=\u001b[39m \u001b[43mget_handle\u001b[49m\u001b[43m(\u001b[49m\n\u001b[0;32m   1736\u001b[0m \u001b[43m    \u001b[49m\u001b[43mf\u001b[49m\u001b[43m,\u001b[49m\n\u001b[0;32m   1737\u001b[0m \u001b[43m    \u001b[49m\u001b[43mmode\u001b[49m\u001b[43m,\u001b[49m\n\u001b[0;32m   1738\u001b[0m \u001b[43m    \u001b[49m\u001b[43mencoding\u001b[49m\u001b[38;5;241;43m=\u001b[39;49m\u001b[38;5;28;43mself\u001b[39;49m\u001b[38;5;241;43m.\u001b[39;49m\u001b[43moptions\u001b[49m\u001b[38;5;241;43m.\u001b[39;49m\u001b[43mget\u001b[49m\u001b[43m(\u001b[49m\u001b[38;5;124;43m\"\u001b[39;49m\u001b[38;5;124;43mencoding\u001b[39;49m\u001b[38;5;124;43m\"\u001b[39;49m\u001b[43m,\u001b[49m\u001b[43m \u001b[49m\u001b[38;5;28;43;01mNone\u001b[39;49;00m\u001b[43m)\u001b[49m\u001b[43m,\u001b[49m\n\u001b[0;32m   1739\u001b[0m \u001b[43m    \u001b[49m\u001b[43mcompression\u001b[49m\u001b[38;5;241;43m=\u001b[39;49m\u001b[38;5;28;43mself\u001b[39;49m\u001b[38;5;241;43m.\u001b[39;49m\u001b[43moptions\u001b[49m\u001b[38;5;241;43m.\u001b[39;49m\u001b[43mget\u001b[49m\u001b[43m(\u001b[49m\u001b[38;5;124;43m\"\u001b[39;49m\u001b[38;5;124;43mcompression\u001b[39;49m\u001b[38;5;124;43m\"\u001b[39;49m\u001b[43m,\u001b[49m\u001b[43m \u001b[49m\u001b[38;5;28;43;01mNone\u001b[39;49;00m\u001b[43m)\u001b[49m\u001b[43m,\u001b[49m\n\u001b[0;32m   1740\u001b[0m \u001b[43m    \u001b[49m\u001b[43mmemory_map\u001b[49m\u001b[38;5;241;43m=\u001b[39;49m\u001b[38;5;28;43mself\u001b[39;49m\u001b[38;5;241;43m.\u001b[39;49m\u001b[43moptions\u001b[49m\u001b[38;5;241;43m.\u001b[39;49m\u001b[43mget\u001b[49m\u001b[43m(\u001b[49m\u001b[38;5;124;43m\"\u001b[39;49m\u001b[38;5;124;43mmemory_map\u001b[39;49m\u001b[38;5;124;43m\"\u001b[39;49m\u001b[43m,\u001b[49m\u001b[43m \u001b[49m\u001b[38;5;28;43;01mFalse\u001b[39;49;00m\u001b[43m)\u001b[49m\u001b[43m,\u001b[49m\n\u001b[0;32m   1741\u001b[0m \u001b[43m    \u001b[49m\u001b[43mis_text\u001b[49m\u001b[38;5;241;43m=\u001b[39;49m\u001b[43mis_text\u001b[49m\u001b[43m,\u001b[49m\n\u001b[0;32m   1742\u001b[0m \u001b[43m    \u001b[49m\u001b[43merrors\u001b[49m\u001b[38;5;241;43m=\u001b[39;49m\u001b[38;5;28;43mself\u001b[39;49m\u001b[38;5;241;43m.\u001b[39;49m\u001b[43moptions\u001b[49m\u001b[38;5;241;43m.\u001b[39;49m\u001b[43mget\u001b[49m\u001b[43m(\u001b[49m\u001b[38;5;124;43m\"\u001b[39;49m\u001b[38;5;124;43mencoding_errors\u001b[39;49m\u001b[38;5;124;43m\"\u001b[39;49m\u001b[43m,\u001b[49m\u001b[43m \u001b[49m\u001b[38;5;124;43m\"\u001b[39;49m\u001b[38;5;124;43mstrict\u001b[39;49m\u001b[38;5;124;43m\"\u001b[39;49m\u001b[43m)\u001b[49m\u001b[43m,\u001b[49m\n\u001b[0;32m   1743\u001b[0m \u001b[43m    \u001b[49m\u001b[43mstorage_options\u001b[49m\u001b[38;5;241;43m=\u001b[39;49m\u001b[38;5;28;43mself\u001b[39;49m\u001b[38;5;241;43m.\u001b[39;49m\u001b[43moptions\u001b[49m\u001b[38;5;241;43m.\u001b[39;49m\u001b[43mget\u001b[49m\u001b[43m(\u001b[49m\u001b[38;5;124;43m\"\u001b[39;49m\u001b[38;5;124;43mstorage_options\u001b[39;49m\u001b[38;5;124;43m\"\u001b[39;49m\u001b[43m,\u001b[49m\u001b[43m \u001b[49m\u001b[38;5;28;43;01mNone\u001b[39;49;00m\u001b[43m)\u001b[49m\u001b[43m,\u001b[49m\n\u001b[0;32m   1744\u001b[0m \u001b[43m\u001b[49m\u001b[43m)\u001b[49m\n\u001b[0;32m   1745\u001b[0m \u001b[38;5;28;01massert\u001b[39;00m \u001b[38;5;28mself\u001b[39m\u001b[38;5;241m.\u001b[39mhandles \u001b[38;5;129;01mis\u001b[39;00m \u001b[38;5;129;01mnot\u001b[39;00m \u001b[38;5;28;01mNone\u001b[39;00m\n\u001b[0;32m   1746\u001b[0m f \u001b[38;5;241m=\u001b[39m \u001b[38;5;28mself\u001b[39m\u001b[38;5;241m.\u001b[39mhandles\u001b[38;5;241m.\u001b[39mhandle\n",
      "File \u001b[1;32mC:\\ai\\IDE\\anaconda\\lib\\site-packages\\pandas\\io\\common.py:856\u001b[0m, in \u001b[0;36mget_handle\u001b[1;34m(path_or_buf, mode, encoding, compression, memory_map, is_text, errors, storage_options)\u001b[0m\n\u001b[0;32m    851\u001b[0m \u001b[38;5;28;01melif\u001b[39;00m \u001b[38;5;28misinstance\u001b[39m(handle, \u001b[38;5;28mstr\u001b[39m):\n\u001b[0;32m    852\u001b[0m     \u001b[38;5;66;03m# Check whether the filename is to be opened in binary mode.\u001b[39;00m\n\u001b[0;32m    853\u001b[0m     \u001b[38;5;66;03m# Binary mode does not support 'encoding' and 'newline'.\u001b[39;00m\n\u001b[0;32m    854\u001b[0m     \u001b[38;5;28;01mif\u001b[39;00m ioargs\u001b[38;5;241m.\u001b[39mencoding \u001b[38;5;129;01mand\u001b[39;00m \u001b[38;5;124m\"\u001b[39m\u001b[38;5;124mb\u001b[39m\u001b[38;5;124m\"\u001b[39m \u001b[38;5;129;01mnot\u001b[39;00m \u001b[38;5;129;01min\u001b[39;00m ioargs\u001b[38;5;241m.\u001b[39mmode:\n\u001b[0;32m    855\u001b[0m         \u001b[38;5;66;03m# Encoding\u001b[39;00m\n\u001b[1;32m--> 856\u001b[0m         handle \u001b[38;5;241m=\u001b[39m \u001b[38;5;28;43mopen\u001b[39;49m\u001b[43m(\u001b[49m\n\u001b[0;32m    857\u001b[0m \u001b[43m            \u001b[49m\u001b[43mhandle\u001b[49m\u001b[43m,\u001b[49m\n\u001b[0;32m    858\u001b[0m \u001b[43m            \u001b[49m\u001b[43mioargs\u001b[49m\u001b[38;5;241;43m.\u001b[39;49m\u001b[43mmode\u001b[49m\u001b[43m,\u001b[49m\n\u001b[0;32m    859\u001b[0m \u001b[43m            \u001b[49m\u001b[43mencoding\u001b[49m\u001b[38;5;241;43m=\u001b[39;49m\u001b[43mioargs\u001b[49m\u001b[38;5;241;43m.\u001b[39;49m\u001b[43mencoding\u001b[49m\u001b[43m,\u001b[49m\n\u001b[0;32m    860\u001b[0m \u001b[43m            \u001b[49m\u001b[43merrors\u001b[49m\u001b[38;5;241;43m=\u001b[39;49m\u001b[43merrors\u001b[49m\u001b[43m,\u001b[49m\n\u001b[0;32m    861\u001b[0m \u001b[43m            \u001b[49m\u001b[43mnewline\u001b[49m\u001b[38;5;241;43m=\u001b[39;49m\u001b[38;5;124;43m\"\u001b[39;49m\u001b[38;5;124;43m\"\u001b[39;49m\u001b[43m,\u001b[49m\n\u001b[0;32m    862\u001b[0m \u001b[43m        \u001b[49m\u001b[43m)\u001b[49m\n\u001b[0;32m    863\u001b[0m     \u001b[38;5;28;01melse\u001b[39;00m:\n\u001b[0;32m    864\u001b[0m         \u001b[38;5;66;03m# Binary mode\u001b[39;00m\n\u001b[0;32m    865\u001b[0m         handle \u001b[38;5;241m=\u001b[39m \u001b[38;5;28mopen\u001b[39m(handle, ioargs\u001b[38;5;241m.\u001b[39mmode)\n",
      "\u001b[1;31mFileNotFoundError\u001b[0m: [Errno 2] No such file or directory: 'D:\\\\ai\\\\Downloads\\\\shareData\\\\전국 평균 평당 분양가격(2013년 9월부터 2015년 8월까지).csv'"
     ]
    }
   ],
   "source": [
    "df_first = pd.read_csv(r'D:\\ai\\Downloads\\shareData\\전국 평균 평당 분양가격(2013년 9월부터 2015년 8월까지).csv',\n",
    "                      encoding='cp949')\n",
    "df_first"
   ]
  },
  {
   "cell_type": "code",
   "execution_count": null,
   "id": "02b6a6dc",
   "metadata": {
    "ExecuteTime": {
     "end_time": "2024-12-03T05:34:56.036490Z",
     "start_time": "2024-12-03T05:34:56.022499Z"
    }
   },
   "outputs": [],
   "source": [
    "df_first.info()"
   ]
  },
  {
   "cell_type": "markdown",
   "id": "7be09a0f",
   "metadata": {},
   "source": [
    "- color map 참조 : https://matplotlib.org/stable/users/explain/colors/colormaps.html"
   ]
  },
  {
   "cell_type": "code",
   "execution_count": null,
   "id": "0dbb3bcb",
   "metadata": {
    "ExecuteTime": {
     "end_time": "2024-12-03T05:34:56.047429Z",
     "start_time": "2024-12-03T05:34:56.040171Z"
    }
   },
   "outputs": [],
   "source": [
    "df_first_heat=df_first.set_index('지역')"
   ]
  },
  {
   "cell_type": "code",
   "execution_count": null,
   "id": "e980d17f",
   "metadata": {
    "ExecuteTime": {
     "end_time": "2024-12-03T05:34:57.302955Z",
     "start_time": "2024-12-03T05:34:56.050393Z"
    }
   },
   "outputs": [],
   "source": [
    "plt.figure(figsize=(25,5))\n",
    "sns.heatmap(df_first_heat,annot=True,fmt='d',cmap='Greens',cbar=False)\n",
    "plt.show()"
   ]
  },
  {
   "cell_type": "markdown",
   "id": "4eb9cd15",
   "metadata": {},
   "source": [
    "## ② 이후 데이터 분양가격에 간헐적으로 comma() 추가하여 csv로 출력"
   ]
  },
  {
   "cell_type": "code",
   "execution_count": null,
   "id": "58c79820",
   "metadata": {
    "ExecuteTime": {
     "end_time": "2024-12-03T05:34:57.336427Z",
     "start_time": "2024-12-03T05:34:57.302955Z"
    }
   },
   "outputs": [],
   "source": [
    "ex = pd.read_csv(r'D:\\ai\\Downloads\\shareData\\주택도시보증공사_전국 신규 민간아파트 분양가격 동향_20240731.csv',encoding='cp949')"
   ]
  },
  {
   "cell_type": "code",
   "execution_count": null,
   "id": "354ee249",
   "metadata": {
    "ExecuteTime": {
     "end_time": "2024-12-03T05:34:57.356263Z",
     "start_time": "2024-12-03T05:34:57.338423Z"
    }
   },
   "outputs": [],
   "source": [
    "ex.info()"
   ]
  },
  {
   "cell_type": "code",
   "execution_count": null,
   "id": "89eb30b7",
   "metadata": {
    "ExecuteTime": {
     "end_time": "2024-12-03T05:34:57.366834Z",
     "start_time": "2024-12-03T05:34:57.359229Z"
    }
   },
   "outputs": [],
   "source": [
    "# 분양가격(제곱미터) 결측치 갯수 :isna(), isnull() - 결측치 여부\n",
    "ex['분양가격(제곱미터)'].isna().sum()"
   ]
  },
  {
   "cell_type": "code",
   "execution_count": null,
   "id": "88c8b9e3",
   "metadata": {
    "ExecuteTime": {
     "end_time": "2024-12-03T05:34:57.386372Z",
     "start_time": "2024-12-03T05:34:57.372796Z"
    }
   },
   "outputs": [],
   "source": [
    "# 분양가격(제곱미터)가 결측치인 행\n",
    "ex[ex['분양가격(제곱미터)'].isna()].head()"
   ]
  },
  {
   "cell_type": "code",
   "execution_count": null,
   "id": "cb5afa14",
   "metadata": {
    "ExecuteTime": {
     "end_time": "2024-12-03T05:34:57.393354Z",
     "start_time": "2024-12-03T05:34:57.389365Z"
    }
   },
   "outputs": [],
   "source": [
    "# 분양가격(제곱미터) 컬럼의 type을 float64로 타입변환: astype, pd.to_numeric()\n",
    "# ex['분양가격(제곱미터)'].astype('float64')\n",
    "# pd.to_numeric(ex['분양가격(제곱미터)'])\n",
    "# ' ' 나 '  ' 로 인해 float64 형변환불가"
   ]
  },
  {
   "cell_type": "code",
   "execution_count": null,
   "id": "a53f126d",
   "metadata": {
    "ExecuteTime": {
     "end_time": "2024-12-03T05:34:57.410470Z",
     "start_time": "2024-12-03T05:34:57.396508Z"
    }
   },
   "outputs": [],
   "source": [
    "# 분양가격(제곱미터) 컬럼이 space인 행\n",
    "ex[ex['분양가격(제곱미터)'].str.strip()==''].head(2)"
   ]
  },
  {
   "cell_type": "code",
   "execution_count": null,
   "id": "08db9073",
   "metadata": {
    "ExecuteTime": {
     "end_time": "2024-12-03T05:34:57.424499Z",
     "start_time": "2024-12-03T05:34:57.413634Z"
    }
   },
   "outputs": [],
   "source": [
    "nanex= ex.loc[368]\n",
    "spaceex=ex.loc[28]\n",
    "nanex,spaceex,ex.loc[0]"
   ]
  },
  {
   "cell_type": "code",
   "execution_count": null,
   "id": "3ccebb64",
   "metadata": {
    "ExecuteTime": {
     "end_time": "2024-12-03T05:34:57.437105Z",
     "start_time": "2024-12-03T05:34:57.427622Z"
    }
   },
   "outputs": [],
   "source": [
    "# 분양가격(제곱미터)이 nan이거나 space면 0, 그 외 분양가격의 문자자리수를 return 하는 함수\n",
    "def get_pricelen(row):\n",
    "    price= row['분양가격(제곱미터)']\n",
    "    # print(row.notnull()['분양가격(제곱미터)'])\n",
    "    if row.notnull()['분양가격(제곱미터)'] and price.strip()!='':\n",
    "        return len(price)\n",
    "    else:\n",
    "        return 0 \n",
    "get_pricelen(ex.loc[0]),get_pricelen(nanex),get_pricelen(spaceex)"
   ]
  },
  {
   "cell_type": "code",
   "execution_count": null,
   "id": "2a1db626",
   "metadata": {
    "ExecuteTime": {
     "end_time": "2024-12-03T05:34:58.353773Z",
     "start_time": "2024-12-03T05:34:57.439101Z"
    }
   },
   "outputs": [],
   "source": [
    "ex['가격자리수']= ex.apply(get_pricelen, axis=1)\n",
    "ex.head(2)"
   ]
  },
  {
   "cell_type": "code",
   "execution_count": null,
   "id": "358363f1",
   "metadata": {
    "ExecuteTime": {
     "end_time": "2024-12-03T05:34:58.363887Z",
     "start_time": "2024-12-03T05:34:58.356801Z"
    }
   },
   "outputs": [],
   "source": [
    "ex['가격자리수'].dtypes"
   ]
  },
  {
   "cell_type": "code",
   "execution_count": null,
   "id": "0874eda0",
   "metadata": {
    "ExecuteTime": {
     "end_time": "2024-12-03T05:34:58.379915Z",
     "start_time": "2024-12-03T05:34:58.367921Z"
    }
   },
   "outputs": [],
   "source": [
    "ex['가격자리수'].describe() # 가격자리수는 0,4,5"
   ]
  },
  {
   "cell_type": "code",
   "execution_count": null,
   "id": "f7e476ca",
   "metadata": {
    "ExecuteTime": {
     "end_time": "2024-12-03T05:34:58.393150Z",
     "start_time": "2024-12-03T05:34:58.382164Z"
    }
   },
   "outputs": [],
   "source": [
    "# 가격자리수 컬럼이 0,4,5가 아닌 행\n",
    "ex[~ex['가격자리수'].isin([0,4,5])]"
   ]
  },
  {
   "cell_type": "code",
   "execution_count": null,
   "id": "9d91bd5c",
   "metadata": {
    "ExecuteTime": {
     "end_time": "2024-12-03T05:34:58.408018Z",
     "start_time": "2024-12-03T05:34:58.394006Z"
    }
   },
   "outputs": [],
   "source": [
    "ex.head(2)"
   ]
  },
  {
   "cell_type": "code",
   "execution_count": null,
   "id": "e4141a0d",
   "metadata": {
    "ExecuteTime": {
     "end_time": "2024-12-03T05:34:58.422075Z",
     "start_time": "2024-12-03T05:34:58.410987Z"
    }
   },
   "outputs": [],
   "source": [
    "# index를 컬럼으로 포함\n",
    "ex.index.name = 'idx'\n",
    "ex.head(2)\n"
   ]
  },
  {
   "cell_type": "code",
   "execution_count": null,
   "id": "4bfff284",
   "metadata": {
    "ExecuteTime": {
     "end_time": "2024-12-03T05:34:58.437460Z",
     "start_time": "2024-12-03T05:34:58.425058Z"
    }
   },
   "outputs": [],
   "source": [
    "ex = ex.reset_index()\n",
    "ex.head(2)"
   ]
  },
  {
   "cell_type": "code",
   "execution_count": null,
   "id": "35b00369",
   "metadata": {
    "ExecuteTime": {
     "end_time": "2024-12-03T05:34:58.448601Z",
     "start_time": "2024-12-03T05:34:58.440453Z"
    }
   },
   "outputs": [],
   "source": [
    "ex.loc[0]"
   ]
  },
  {
   "cell_type": "code",
   "execution_count": null,
   "id": "4d85d04e",
   "metadata": {
    "ExecuteTime": {
     "end_time": "2024-12-03T05:34:58.461738Z",
     "start_time": "2024-12-03T05:34:58.450593Z"
    }
   },
   "outputs": [],
   "source": [
    "# 2021년 데이터 흉내내기 위한 함수 : nan,' ','','5123', '5,123'\n",
    "def comma_append(row):\n",
    "    price = row['분양가격(제곱미터)']\n",
    "    if (row.idx%2==0) & (row['가격자리수']==4):\n",
    "        price= price[0] +','+price[1:]\n",
    "    elif (row.idx%2==0) & (row['가격자리수']==5):\n",
    "        price= price[:2] +','+price[2:]\n",
    "    else:\n",
    "        price = price\n",
    "    return price\n",
    "\n",
    "comma_append(ex.loc[0]),comma_append(ex.loc[1]),comma_append(ex.loc[28]),comma_append(ex.loc[368])\n",
    "        \n"
   ]
  },
  {
   "cell_type": "code",
   "execution_count": null,
   "id": "04233601",
   "metadata": {
    "ExecuteTime": {
     "end_time": "2024-12-03T05:34:58.715277Z",
     "start_time": "2024-12-03T05:34:58.464730Z"
    }
   },
   "outputs": [],
   "source": [
    "ex.apply(comma_append,axis=1)"
   ]
  },
  {
   "cell_type": "code",
   "execution_count": null,
   "id": "a8f7ad5d",
   "metadata": {
    "ExecuteTime": {
     "end_time": "2024-12-03T05:34:58.964380Z",
     "start_time": "2024-12-03T05:34:58.717253Z"
    }
   },
   "outputs": [],
   "source": [
    "ex['분양가격(제곱미터)']=ex.apply(comma_append,axis=1)\n",
    "ex.head()"
   ]
  },
  {
   "cell_type": "code",
   "execution_count": null,
   "id": "a8e7d2ca",
   "metadata": {
    "ExecuteTime": {
     "end_time": "2024-12-03T05:34:58.979563Z",
     "start_time": "2024-12-03T05:34:58.967363Z"
    }
   },
   "outputs": [],
   "source": [
    "ex.drop(['idx','가격자리수'],axis=1, inplace=True)\n",
    "ex.tail()"
   ]
  },
  {
   "cell_type": "code",
   "execution_count": null,
   "id": "7c018580",
   "metadata": {
    "ExecuteTime": {
     "end_time": "2024-12-03T05:34:59.012780Z",
     "start_time": "2024-12-03T05:34:58.982526Z"
    }
   },
   "outputs": [],
   "source": [
    "ex.to_csv('data/전국제곱미터당분양가격(2015년10월부터2024년)_cp949.csv',\n",
    "          encoding='cp949',\n",
    "         index=False)"
   ]
  },
  {
   "cell_type": "code",
   "execution_count": null,
   "id": "d745bfbe",
   "metadata": {
    "ExecuteTime": {
     "end_time": "2024-12-03T05:34:59.058009Z",
     "start_time": "2024-12-03T05:34:59.015733Z"
    }
   },
   "outputs": [],
   "source": [
    "ex.to_csv('data/전국제곱미터당분양가격(2015년10월부터2024년)_utf8.csv',\n",
    "         #encoding='utf-8',\n",
    "          sep='\\t',\n",
    "         index=False)"
   ]
  },
  {
   "cell_type": "code",
   "execution_count": null,
   "id": "619e8ae2",
   "metadata": {
    "ExecuteTime": {
     "end_time": "2024-12-03T05:34:59.088307Z",
     "start_time": "2024-12-03T05:34:59.060999Z"
    }
   },
   "outputs": [],
   "source": [
    "df_last =pd.read_csv('data/전국제곱미터당분양가격(2015년10월부터2024년)_utf8.csv',\n",
    "                    sep='\\t')\n",
    "df_last.shape"
   ]
  },
  {
   "cell_type": "code",
   "execution_count": null,
   "id": "0c2d1c43",
   "metadata": {
    "ExecuteTime": {
     "end_time": "2024-12-03T05:34:59.101437Z",
     "start_time": "2024-12-03T05:34:59.091272Z"
    }
   },
   "outputs": [],
   "source": [
    "df_last.head()"
   ]
  },
  {
   "cell_type": "code",
   "execution_count": null,
   "id": "1ca06ea0",
   "metadata": {
    "ExecuteTime": {
     "end_time": "2024-12-03T05:34:59.118494Z",
     "start_time": "2024-12-03T05:34:59.104402Z"
    }
   },
   "outputs": [],
   "source": [
    "df_last.info()"
   ]
  },
  {
   "cell_type": "markdown",
   "id": "5c15e21d",
   "metadata": {},
   "source": [
    "# 3.df_last의 데이터 결측치를 확인하고 대체 고민"
   ]
  },
  {
   "cell_type": "code",
   "execution_count": null,
   "id": "d2f611fe",
   "metadata": {
    "ExecuteTime": {
     "end_time": "2024-12-03T05:34:59.136607Z",
     "start_time": "2024-12-03T05:34:59.120488Z"
    }
   },
   "outputs": [],
   "source": [
    "# 열별 결측시 갯수\n",
    "df_last.isnull().sum()\n",
    "df_last.isna().sum()"
   ]
  },
  {
   "cell_type": "code",
   "execution_count": null,
   "id": "1337b87e",
   "metadata": {
    "ExecuteTime": {
     "end_time": "2024-12-03T05:34:59.152692Z",
     "start_time": "2024-12-03T05:34:59.138151Z"
    }
   },
   "outputs": [],
   "source": [
    "# 열별 결측치를 제외한 갯수\n",
    "df_last.notnull().sum()"
   ]
  },
  {
   "cell_type": "markdown",
   "id": "5740d719",
   "metadata": {},
   "source": [
    "# 4.df_last 데이터셋에 평당분양가격컬럼추가\n",
    "## (1)6,222=> 6222 수정, space가 저장된경우 nan으로 수정하는 함수를 map적용\n",
    "## (2)astype('float') 나 pd.to_numeric()사용"
   ]
  },
  {
   "cell_type": "code",
   "execution_count": null,
   "id": "827d6af5",
   "metadata": {
    "ExecuteTime": {
     "end_time": "2024-12-03T05:34:59.167793Z",
     "start_time": "2024-12-03T05:34:59.163805Z"
    }
   },
   "outputs": [],
   "source": [
    "# df_last['분양가격(제곱미터)'] * 3.3\n",
    "# df_last.groupgy(['연도','지역명'])['분양가격(제곱미터)'].mean()에러"
   ]
  },
  {
   "cell_type": "code",
   "execution_count": null,
   "id": "dfeb6003",
   "metadata": {
    "ExecuteTime": {
     "end_time": "2024-12-03T05:34:59.184991Z",
     "start_time": "2024-12-03T05:34:59.170786Z"
    }
   },
   "outputs": [],
   "source": [
    "# df_last['분양가격(제곱미터)'].astype('float64')\n",
    "pd.to_numeric(df_last['분양가격(제곱미터)'],errors='coerce')"
   ]
  },
  {
   "cell_type": "code",
   "execution_count": null,
   "id": "b92e2b43",
   "metadata": {
    "ExecuteTime": {
     "end_time": "2024-12-03T05:34:59.194055Z",
     "start_time": "2024-12-03T05:34:59.187976Z"
    }
   },
   "outputs": [],
   "source": [
    "type(df_last.loc[0,'분양가격(제곱미터)'])# str"
   ]
  },
  {
   "cell_type": "code",
   "execution_count": null,
   "id": "25fe6dc5",
   "metadata": {
    "ExecuteTime": {
     "end_time": "2024-12-03T05:34:59.207997Z",
     "start_time": "2024-12-03T05:34:59.197028Z"
    }
   },
   "outputs": [],
   "source": [
    "df_last[df_last['분양가격(제곱미터)'].isnull()].head()"
   ]
  },
  {
   "cell_type": "code",
   "execution_count": null,
   "id": "cb352ea6",
   "metadata": {
    "ExecuteTime": {
     "end_time": "2024-12-03T05:34:59.217046Z",
     "start_time": "2024-12-03T05:34:59.211062Z"
    }
   },
   "outputs": [],
   "source": [
    "type(df_last.iloc[368,-1])"
   ]
  },
  {
   "cell_type": "code",
   "execution_count": null,
   "id": "3a727632",
   "metadata": {
    "ExecuteTime": {
     "end_time": "2024-12-03T05:34:59.233166Z",
     "start_time": "2024-12-03T05:34:59.220037Z"
    }
   },
   "outputs": [],
   "source": [
    "# 분양가격이 space문자인 행수:\n",
    "df_last[df_last['분양가격(제곱미터)'].str.strip()==''].shape[0]\n",
    "len(df_last[df_last['분양가격(제곱미터)'].str.strip()==''])"
   ]
  },
  {
   "cell_type": "code",
   "execution_count": null,
   "id": "9986bab8",
   "metadata": {
    "ExecuteTime": {
     "end_time": "2024-12-03T05:34:59.245225Z",
     "start_time": "2024-12-03T05:34:59.236130Z"
    }
   },
   "outputs": [],
   "source": [
    "# 분양가격이 space로 되어있는 지역명과 그 데이터수\n",
    "df_last.loc[df_last['분양가격(제곱미터)'].str.strip()=='','지역명'].unique()"
   ]
  },
  {
   "cell_type": "code",
   "execution_count": null,
   "id": "6c57b4d5",
   "metadata": {
    "ExecuteTime": {
     "end_time": "2024-12-03T05:34:59.255230Z",
     "start_time": "2024-12-03T05:34:59.248217Z"
    }
   },
   "outputs": [],
   "source": [
    "df_last['지역명'].value_counts()"
   ]
  },
  {
   "cell_type": "code",
   "execution_count": null,
   "id": "fc4505e7",
   "metadata": {
    "ExecuteTime": {
     "end_time": "2024-12-03T05:34:59.264209Z",
     "start_time": "2024-12-03T05:34:59.257226Z"
    }
   },
   "outputs": [],
   "source": [
    "# 지금 현재 결측치 갯수\n",
    "df_last['분양가격(제곱미터)'].isna().sum()"
   ]
  },
  {
   "cell_type": "code",
   "execution_count": null,
   "id": "6d8a4702",
   "metadata": {
    "ExecuteTime": {
     "end_time": "2024-12-03T05:34:59.278300Z",
     "start_time": "2024-12-03T05:34:59.266202Z"
    }
   },
   "outputs": [],
   "source": [
    "# apply수행후 결측치 갯수\n",
    "df_last['분양가격(제곱미터)'].isna().sum()+ \\\n",
    "len(df_last[df_last['분양가격(제곱미터)'].str.strip()==''])"
   ]
  },
  {
   "cell_type": "markdown",
   "id": "10471b9b",
   "metadata": {},
   "source": [
    "### apply"
   ]
  },
  {
   "cell_type": "code",
   "execution_count": null,
   "id": "7473967f",
   "metadata": {
    "ExecuteTime": {
     "end_time": "2024-12-03T05:34:59.286382Z",
     "start_time": "2024-12-03T05:34:59.280295Z"
    }
   },
   "outputs": [],
   "source": [
    "# 콤마가 있는 문자에서 콤마 없애기 방법1\n",
    "temp='12,513'\n",
    "tempsplit= temp.split(',')\n",
    "print(tempsplit)\n",
    "print(''.join(tempsplit))"
   ]
  },
  {
   "cell_type": "code",
   "execution_count": null,
   "id": "a413ce91",
   "metadata": {
    "ExecuteTime": {
     "end_time": "2024-12-03T05:34:59.294361Z",
     "start_time": "2024-12-03T05:34:59.288377Z"
    }
   },
   "outputs": [],
   "source": [
    "# 콤마가 있는 문자에서 콤마 없애기 방법 2\n",
    "temp='12,513'\n",
    "print(temp.replace(',',''))"
   ]
  },
  {
   "cell_type": "code",
   "execution_count": null,
   "id": "3e9763f9",
   "metadata": {
    "ExecuteTime": {
     "end_time": "2024-12-03T05:34:59.307433Z",
     "start_time": "2024-12-03T05:34:59.296357Z"
    }
   },
   "outputs": [],
   "source": [
    "# 분양가격 컬럼에 콤마(,)가 있는 경우 콤마(,)를 제거(5,123->5123)\n",
    "# 공백문자가 있는 경우 np.nan로 바꾸는 함수\n",
    "def commadrop(row):\n",
    "    price=row['분양가격(제곱미터)']\n",
    "    if row.notnull()['분양가격(제곱미터)'] :  # 분양가격이 결측치가 아닌 경우\n",
    "        if price.find(',') != -1: # 콤마제외\n",
    "            #row['제곱미터당분양가격'] = price.replace(',','')\n",
    "            pricesplited= price.split(',')\n",
    "            row['제곱미터당분양가격'] = ''.join(pricesplited)\n",
    "        elif price.strip() == '':    \n",
    "            row['제곱미터당분양가격']=np.nan    \n",
    "        else:\n",
    "            row['제곱미터당분양가격']=price\n",
    "    else : # 분양가격이 결측치인경우\n",
    "        row['제곱미터당분양가격']=np.nan\n",
    "    return row\n",
    "commadrop(df_last.loc[0])\n"
   ]
  },
  {
   "cell_type": "code",
   "execution_count": null,
   "id": "a8f3ecfb",
   "metadata": {
    "ExecuteTime": {
     "end_time": "2024-12-03T05:35:05.152093Z",
     "start_time": "2024-12-03T05:34:59.309423Z"
    }
   },
   "outputs": [],
   "source": [
    "# 공백문자는 결측치로, 콤마는 제거하기를 모든 행에 적용\n",
    "df_last=df_last.apply(commadrop,axis =1)\n",
    "df_last.head(3)"
   ]
  },
  {
   "cell_type": "code",
   "execution_count": null,
   "id": "791c35e3",
   "metadata": {
    "ExecuteTime": {
     "end_time": "2024-12-03T05:35:05.167998Z",
     "start_time": "2024-12-03T05:35:05.154871Z"
    }
   },
   "outputs": [],
   "source": [
    "# 결측치 갯수 : 분양가격(제곱미터)vs 제곱미터당분양가격\n",
    "df_last[['분양가격(제곱미터)','제곱미터당분양가격']].isna().sum()"
   ]
  },
  {
   "cell_type": "code",
   "execution_count": null,
   "id": "003bb209",
   "metadata": {
    "ExecuteTime": {
     "end_time": "2024-12-03T05:35:05.189310Z",
     "start_time": "2024-12-03T05:35:05.171977Z"
    }
   },
   "outputs": [],
   "source": [
    "# 공백문자 갯수 : 분양가격(제곱미터)vs 제곱미터당분양가격\n",
    "df_last[df_last['분양가격(제곱미터)'].str.strip()==''].shape[0],\\\n",
    "len(df_last[df_last['제곱미터당분양가격'].str.strip()==''])"
   ]
  },
  {
   "cell_type": "code",
   "execution_count": null,
   "id": "8299506b",
   "metadata": {
    "ExecuteTime": {
     "end_time": "2024-12-03T05:35:05.217818Z",
     "start_time": "2024-12-03T05:35:05.192408Z"
    }
   },
   "outputs": [],
   "source": [
    "# 콤마(,) 갯수 : 분양가격(제곱미터)vs 제곱미터당분양가격\n",
    "df_last[df_last['분양가격(제곱미터)'].notnull()&\\\n",
    "        (df_last['분양가격(제곱미터)'].str.find(',')!=-1)].shape[0], \\\n",
    "df_last[df_last['제곱미터당분양가격'].notnull()&\\\n",
    "        (df_last['제곱미터당분양가격'].str.find(',')!=-1)].shape[0]"
   ]
  },
  {
   "cell_type": "code",
   "execution_count": null,
   "id": "e6a9dfbe",
   "metadata": {
    "ExecuteTime": {
     "end_time": "2024-12-03T05:35:05.234883Z",
     "start_time": "2024-12-03T05:35:05.220822Z"
    }
   },
   "outputs": [],
   "source": [
    "df_last['분양가격(제곱미터)'].describe()"
   ]
  },
  {
   "cell_type": "code",
   "execution_count": null,
   "id": "298d8964",
   "metadata": {
    "ExecuteTime": {
     "end_time": "2024-12-03T05:35:05.250006Z",
     "start_time": "2024-12-03T05:35:05.237846Z"
    }
   },
   "outputs": [],
   "source": [
    "df_last['제곱미터당분양가격'].describe()"
   ]
  },
  {
   "cell_type": "code",
   "execution_count": null,
   "id": "90887f65",
   "metadata": {
    "ExecuteTime": {
     "end_time": "2024-12-03T05:35:05.266976Z",
     "start_time": "2024-12-03T05:35:05.252382Z"
    }
   },
   "outputs": [],
   "source": [
    "#제곱미터당분양가격 컬럼의 형변환\n",
    "df_last['제곱미터당분양가격'] = df_last['제곱미터당분양가격'].astype(np.float64)\n",
    "df_last['제곱미터당분양가격'] = pd.to_numeric(df_last['제곱미터당분양가격'])\n",
    "df_last.head()\n"
   ]
  },
  {
   "cell_type": "code",
   "execution_count": null,
   "id": "03f3f06f",
   "metadata": {
    "ExecuteTime": {
     "end_time": "2024-12-03T05:35:05.284134Z",
     "start_time": "2024-12-03T05:35:05.269951Z"
    }
   },
   "outputs": [],
   "source": [
    "df_last['평당분양가격'] = df_last['제곱미터당분양가격'] *3.3\n",
    "df_last.head()"
   ]
  },
  {
   "cell_type": "code",
   "execution_count": null,
   "id": "f840b2ff",
   "metadata": {
    "ExecuteTime": {
     "end_time": "2024-12-03T05:35:05.300916Z",
     "start_time": "2024-12-03T05:35:05.286407Z"
    }
   },
   "outputs": [],
   "source": [
    "df_last.drop(['평당분양가격','제곱미터당분양가격'],axis=1,inplace=True)\n",
    "df_last.sample(1)"
   ]
  },
  {
   "cell_type": "code",
   "execution_count": null,
   "id": "f26e2309",
   "metadata": {
    "ExecuteTime": {
     "end_time": "2024-12-03T05:35:05.314061Z",
     "start_time": "2024-12-03T05:35:05.303092Z"
    }
   },
   "outputs": [],
   "source": [
    "# '3,198' ->3198 return,'3198' ->3198 return, 공백문자-> 결측치 return, 결측치-> 결측치return\n",
    "\n",
    "def commadrop2(price):\n",
    "    # np.isnan(값) : nan만 결측치로 인식하고 결측치인지 여부\n",
    "    # pd.isna(값), pd.isnull(값): nan과 None을 모두 결측치로 인식하고 결측치인지 여부\n",
    "    # 값 is np.nan: 값이 nan인지 여부\n",
    "    if price is np.nan:\n",
    "        return np.nan\n",
    "    elif price.strip()== '':\n",
    "        return np.nan\n",
    "    elif price.find(',')!=-1:\n",
    "        pricesplited = price.split(',')\n",
    "        price = ''.join(pricesplited)\n",
    "        return int(price)\n",
    "    else:\n",
    "        return int(price)\n",
    "    \n",
    "commadrop2(df_last.loc[0,'분양가격(제곱미터)'])# 콤마 제외한 문자를 숫자로\n",
    "commadrop2(df_last.loc[1,'분양가격(제곱미터)'])\n",
    "commadrop2(df_last.loc[28,'분양가격(제곱미터)'])\n",
    "commadrop2(df_last.loc[368,'분양가격(제곱미터)'])"
   ]
  },
  {
   "cell_type": "markdown",
   "id": "e3f06a2a",
   "metadata": {},
   "source": [
    "- apply(함수,axis) - 1차원 2차원(axis지정, axis 기본값 0)\n",
    "- map(함수) -1차원\n",
    "- applymap(함수) - 2차원 모든 요소들에 함수를 적용\n"
   ]
  },
  {
   "cell_type": "code",
   "execution_count": null,
   "id": "13e83027",
   "metadata": {
    "ExecuteTime": {
     "end_time": "2024-12-03T05:35:05.336679Z",
     "start_time": "2024-12-03T05:35:05.316058Z"
    }
   },
   "outputs": [],
   "source": [
    "#df_last['분양가격(제곱미터)'].apply(commadrop2)\n",
    "df_last['제곱미터당분양가격'] = df_last['분양가격(제곱미터)'].map(commadrop2)\n",
    "df_last.tail(6)"
   ]
  },
  {
   "cell_type": "code",
   "execution_count": null,
   "id": "b500973e",
   "metadata": {
    "ExecuteTime": {
     "end_time": "2024-12-03T05:35:05.351861Z",
     "start_time": "2024-12-03T05:35:05.338674Z"
    }
   },
   "outputs": [],
   "source": [
    "df_last['평당분양가격'] = df_last['제곱미터당분양가격']*3.3\n",
    "df_last.head()"
   ]
  },
  {
   "cell_type": "code",
   "execution_count": null,
   "id": "13ace20d",
   "metadata": {
    "ExecuteTime": {
     "end_time": "2024-12-03T05:35:05.368936Z",
     "start_time": "2024-12-03T05:35:05.353856Z"
    }
   },
   "outputs": [],
   "source": [
    "df_last.info()"
   ]
  },
  {
   "cell_type": "markdown",
   "id": "43b1dbda",
   "metadata": {},
   "source": [
    "# 5. df_last 데이터셋에서 전용면적 컬럼을 추가한다 \n",
    "- 전용면적 컬럼, 필요없는 컬럼 처리로 메모리 절약"
   ]
  },
  {
   "cell_type": "code",
   "execution_count": null,
   "id": "c85efa44",
   "metadata": {
    "ExecuteTime": {
     "end_time": "2024-12-03T05:35:05.396085Z",
     "start_time": "2024-12-03T05:35:05.370931Z"
    }
   },
   "outputs": [],
   "source": [
    "#방법1\n",
    "df_last['전용면적'] \\\n",
    "    = df_last['규모구분'].apply(lambda x:x.replace('전용면적','')\\\n",
    "                           .replace('제곱미터','㎡')\\\n",
    "                           .replace('초과','~')\\\n",
    "                           .replace('이하','')\\\n",
    "                           .replace(' ',''))\n",
    "df_last.head()"
   ]
  },
  {
   "cell_type": "code",
   "execution_count": null,
   "id": "6a125514",
   "metadata": {
    "ExecuteTime": {
     "end_time": "2024-12-03T05:35:05.446565Z",
     "start_time": "2024-12-03T05:35:05.398081Z"
    }
   },
   "outputs": [],
   "source": [
    "# 방법2\n",
    "df_last['전용면적'] = df_last['규모구분'].str.replace('전용면적','').str.replace('이하','').str.replace('초과','~').str.replace('제곱미터','㎡').str.replace(' ','')\n",
    "df_last.head()"
   ]
  },
  {
   "cell_type": "code",
   "execution_count": null,
   "id": "49fe9be8",
   "metadata": {
    "ExecuteTime": {
     "end_time": "2024-12-03T05:35:05.456539Z",
     "start_time": "2024-12-03T05:35:05.448560Z"
    }
   },
   "outputs": [],
   "source": [
    "print(df_last['규모구분'].unique())\n",
    "print(df_last['전용면적'].unique())"
   ]
  },
  {
   "cell_type": "markdown",
   "id": "d2632dea",
   "metadata": {},
   "source": [
    "# 6. 메모리 사용량을 줄이기 위해 불필요한 컬럼 제거"
   ]
  },
  {
   "cell_type": "code",
   "execution_count": null,
   "id": "671f323a",
   "metadata": {
    "ExecuteTime": {
     "end_time": "2024-12-03T05:35:05.470860Z",
     "start_time": "2024-12-03T05:35:05.458600Z"
    }
   },
   "outputs": [],
   "source": [
    "df_last = df_last.drop(['규모구분','분양가격(제곱미터)','제곱미터당분양가격'],axis=1)\n",
    "df_last.head(1)"
   ]
  },
  {
   "cell_type": "code",
   "execution_count": null,
   "id": "b623979f",
   "metadata": {
    "ExecuteTime": {
     "end_time": "2024-12-03T05:35:05.488853Z",
     "start_time": "2024-12-03T05:35:05.472838Z"
    }
   },
   "outputs": [],
   "source": [
    "df_last.info()"
   ]
  },
  {
   "cell_type": "code",
   "execution_count": null,
   "id": "15e4983a",
   "metadata": {
    "ExecuteTime": {
     "end_time": "2024-12-03T05:35:05.502915Z",
     "start_time": "2024-12-03T05:35:05.490948Z"
    }
   },
   "outputs": [],
   "source": [
    "df_last[['지역명','전용면적','연도','월','평당분양가격']]\n",
    "df_last.head(1)"
   ]
  },
  {
   "cell_type": "code",
   "execution_count": null,
   "id": "24d80e32",
   "metadata": {
    "ExecuteTime": {
     "end_time": "2024-12-03T05:35:05.538283Z",
     "start_time": "2024-12-03T05:35:05.505047Z"
    }
   },
   "outputs": [],
   "source": [
    "df_last.to_csv('data/df_last.csv', index = False)"
   ]
  },
  {
   "cell_type": "markdown",
   "id": "7020b09e",
   "metadata": {},
   "source": [
    "# 7. GroupBy(unstack()함수이용) vs. pivot_table)"
   ]
  },
  {
   "cell_type": "code",
   "execution_count": null,
   "id": "c9e9418e",
   "metadata": {
    "ExecuteTime": {
     "end_time": "2024-12-03T05:35:05.564339Z",
     "start_time": "2024-12-03T05:35:05.541234Z"
    }
   },
   "outputs": [],
   "source": [
    "df_last= pd.read_csv('data/df_last.csv')\n",
    "df_last.head(1)"
   ]
  },
  {
   "cell_type": "markdown",
   "id": "8a39d367",
   "metadata": {},
   "source": [
    "- df_last.groupby([\"인덱스로사용할컬럼명\"])[\"계산할컬럼명\"].연산함수()\n",
    "- df_last.pivot_table(index=[\"인덱스로사용할컬럼명\"],\n",
    "                   values=[\"계산할컬럼명\"],\n",
    "                   aggfunc=\"연산함수명\")\n",
    "- pd.pivot_table(df_last,index=[\"인덱스로사용할컬럼명\"],\n",
    "                   values=[\"계산할컬럼명\"],\n",
    "                   aggfunc=\"연산함수명\")"
   ]
  },
  {
   "cell_type": "markdown",
   "id": "40d7fafe",
   "metadata": {},
   "source": [
    "## (1)지역별 데이터수"
   ]
  },
  {
   "cell_type": "code",
   "execution_count": null,
   "id": "699d24c1",
   "metadata": {
    "ExecuteTime": {
     "end_time": "2024-12-03T05:35:05.575404Z",
     "start_time": "2024-12-03T05:35:05.567331Z"
    }
   },
   "outputs": [],
   "source": [
    "# 지역명별 데이터 행 갯수(결측치 포함)\n",
    "df_last['지역명'].value_counts() #정렬까지"
   ]
  },
  {
   "cell_type": "code",
   "execution_count": null,
   "id": "d28ed583",
   "metadata": {
    "ExecuteTime": {
     "end_time": "2024-12-03T05:35:05.586514Z",
     "start_time": "2024-12-03T05:35:05.577399Z"
    }
   },
   "outputs": [],
   "source": [
    "# 지역명별 데이터 행 갯수(결측치 제외)\n",
    "df_last.groupby(['지역명'])['평당분양가격'].count()#결과가 1차원 시리즈"
   ]
  },
  {
   "cell_type": "code",
   "execution_count": null,
   "id": "6c8c49c6",
   "metadata": {},
   "outputs": [],
   "source": []
  },
  {
   "cell_type": "code",
   "execution_count": null,
   "id": "15e692d3",
   "metadata": {
    "ExecuteTime": {
     "end_time": "2024-12-03T05:35:05.593495Z",
     "start_time": "2024-12-03T05:35:05.588509Z"
    }
   },
   "outputs": [],
   "source": [
    "# 지역명별 데이터 행 갯수(결측치 제외): 결과가 2차원 데이터 프레임\n",
    "# 1. df_last.groupby(['지역명'])['평당분양가격'].count().to_frame().sort_values(by='평당분양가격',ascending=False)\n",
    "\n",
    "# 2. df_last.groupby(['지역명'])['평당분양가격'].count().reset_index()\n",
    "# 3. df_last.groupby(['지역명'],as_index=False)['평당분양가격'].count()\n",
    "# 4. df_last.groupby([''])"
   ]
  },
  {
   "cell_type": "code",
   "execution_count": null,
   "id": "0f27882a",
   "metadata": {
    "ExecuteTime": {
     "end_time": "2024-12-03T05:35:05.621649Z",
     "start_time": "2024-12-03T05:35:05.596488Z"
    }
   },
   "outputs": [],
   "source": [
    "# 지역명별 결측치를 제외한 데이터수 (pivot_table이용 : 결과는 데이터 프레임)\n",
    "df_last.pivot_table(index=['지역명'],\n",
    "                   values=['평당분양가격'],\n",
    "                   aggfunc='count')\n",
    "pd.pivot_table(df_last, index=['지역명'],\n",
    "                   values=['평당분양가격'],\n",
    "                   aggfunc='count')\n",
    "pd.pivot_table(df_last, index='지역명',\n",
    "                   values='평당분양가격',\n",
    "                   aggfunc='count').transpose()"
   ]
  },
  {
   "cell_type": "markdown",
   "id": "b1f73c90",
   "metadata": {},
   "source": [
    "## (2) 지역별 평당분양가격(평균,최대값,...요약통계량)"
   ]
  },
  {
   "cell_type": "code",
   "execution_count": null,
   "id": "06eea4fe",
   "metadata": {
    "ExecuteTime": {
     "end_time": "2024-12-03T05:35:05.637731Z",
     "start_time": "2024-12-03T05:35:05.623639Z"
    }
   },
   "outputs": [],
   "source": [
    "df_last.groupby(['지역명'])[['평당분양가격']].mean().sort_values(by='평당분양가격',ascending=False)"
   ]
  },
  {
   "cell_type": "code",
   "execution_count": null,
   "id": "8f411baf",
   "metadata": {
    "ExecuteTime": {
     "end_time": "2024-12-03T05:35:05.652853Z",
     "start_time": "2024-12-03T05:35:05.639727Z"
    }
   },
   "outputs": [],
   "source": [
    "df_last.groupby(['지역명'])[['평당분양가격']].max().sort_values(by='평당분양가격',ascending=False).head()\n"
   ]
  },
  {
   "cell_type": "code",
   "execution_count": null,
   "id": "ea6f1cbe",
   "metadata": {
    "ExecuteTime": {
     "end_time": "2024-12-03T05:35:05.666966Z",
     "start_time": "2024-12-03T05:35:05.655806Z"
    }
   },
   "outputs": [],
   "source": [
    "df_last.groupby(['지역명'])[['평당분양가격']].mean().sort_values(by='평당분양가격',ascending=False).head(3)"
   ]
  },
  {
   "cell_type": "code",
   "execution_count": null,
   "id": "218dce72",
   "metadata": {
    "ExecuteTime": {
     "end_time": "2024-12-03T05:35:05.719682Z",
     "start_time": "2024-12-03T05:35:05.669946Z"
    }
   },
   "outputs": [],
   "source": [
    "df_last.groupby('지역명')['평당분양가격'].describe()"
   ]
  },
  {
   "cell_type": "code",
   "execution_count": null,
   "id": "95c93f30",
   "metadata": {
    "ExecuteTime": {
     "end_time": "2024-12-03T05:35:05.738315Z",
     "start_time": "2024-12-03T05:35:05.722674Z"
    }
   },
   "outputs": [],
   "source": [
    "df_last.pivot_table(index=['지역명'],\n",
    "                    values=['평당분양가격'],\n",
    "                   aggfunc='max').sort_values(by='평당분양가격',ascending=False).iloc[:3]"
   ]
  },
  {
   "cell_type": "code",
   "execution_count": null,
   "id": "caaf6806",
   "metadata": {
    "ExecuteTime": {
     "end_time": "2024-12-03T05:35:05.756604Z",
     "start_time": "2024-12-03T05:35:05.740442Z"
    }
   },
   "outputs": [],
   "source": [
    "df_last.pivot_table(index='지역명',\n",
    "                    values='평당분양가격',\n",
    "                   aggfunc='mean').sort_values(by='평당분양가격',ascending=False).iloc[:3]"
   ]
  },
  {
   "cell_type": "code",
   "execution_count": null,
   "id": "490fa491",
   "metadata": {
    "ExecuteTime": {
     "end_time": "2024-12-03T05:35:05.832976Z",
     "start_time": "2024-12-03T05:35:05.759597Z"
    }
   },
   "outputs": [],
   "source": [
    "df_last.pivot_table(index='지역명',values = '평당분양가격', aggfunc='describe')\n"
   ]
  },
  {
   "cell_type": "markdown",
   "id": "d9a0b7f1",
   "metadata": {},
   "source": [
    "## (3) 전용면적별 평당분양가격(평균)"
   ]
  },
  {
   "cell_type": "code",
   "execution_count": null,
   "id": "e1e2f54f",
   "metadata": {
    "ExecuteTime": {
     "end_time": "2024-12-03T05:35:05.844098Z",
     "start_time": "2024-12-03T05:35:05.836108Z"
    }
   },
   "outputs": [],
   "source": [
    "df_last.groupby('전용면적')['평당분양가격'].mean()"
   ]
  },
  {
   "cell_type": "code",
   "execution_count": null,
   "id": "a6ac06ae",
   "metadata": {
    "ExecuteTime": {
     "end_time": "2024-12-03T05:35:05.860142Z",
     "start_time": "2024-12-03T05:35:05.847090Z"
    }
   },
   "outputs": [],
   "source": [
    "df_last.pivot_table(index ='전용면적',\n",
    "                   values='평당분양가격',\n",
    "                  aggfunc='mean')"
   ]
  },
  {
   "cell_type": "markdown",
   "id": "41c942f9",
   "metadata": {},
   "source": [
    "## (4) 지역별, 전용면적별 평당분양가격(평균)"
   ]
  },
  {
   "cell_type": "code",
   "execution_count": null,
   "id": "3df26185",
   "metadata": {
    "ExecuteTime": {
     "end_time": "2024-12-03T05:35:05.874204Z",
     "start_time": "2024-12-03T05:35:05.862109Z"
    }
   },
   "outputs": [],
   "source": [
    "r = df_last.groupby(['지역명','전용면적'])['평당분양가격'].mean()\n",
    "r\n",
    "print(r['서울'])\n",
    "# 서울중 '모든면적'의 평균\n",
    "print(r['서울']['모든면적'])\n",
    "print(r['서울','모든면적'])"
   ]
  },
  {
   "cell_type": "code",
   "execution_count": null,
   "id": "4630e7a7",
   "metadata": {
    "ExecuteTime": {
     "end_time": "2024-12-03T05:35:05.905403Z",
     "start_time": "2024-12-03T05:35:05.877206Z"
    }
   },
   "outputs": [],
   "source": [
    "r = df_last.groupby(['지역명','전용면적'])[['평당분양가격']].mean()\n",
    "display(r)\n",
    "display(r.loc['서울'])# 서울\n",
    "# 서울 중 모든면적\n",
    "display(r.loc['서울','모든면적'])# 서울\n",
    "display(r.loc['서울'].loc['모든면적'])# 서울"
   ]
  },
  {
   "cell_type": "code",
   "execution_count": null,
   "id": "91e64969",
   "metadata": {
    "ExecuteTime": {
     "end_time": "2024-12-03T05:35:05.927620Z",
     "start_time": "2024-12-03T05:35:05.907395Z"
    }
   },
   "outputs": [],
   "source": [
    "df_last.groupby(['지역명','전용면적'])[['평당분양가격']].mean().unstack()\n"
   ]
  },
  {
   "cell_type": "code",
   "execution_count": null,
   "id": "39dad814",
   "metadata": {
    "ExecuteTime": {
     "end_time": "2024-12-03T05:35:05.951740Z",
     "start_time": "2024-12-03T05:35:05.930621Z"
    }
   },
   "outputs": [],
   "source": [
    "df_last.pivot_table(index=['지역명','전용면적'],\n",
    "                   values='평당분양가격',\n",
    "                   ).unstack()"
   ]
  },
  {
   "cell_type": "code",
   "execution_count": null,
   "id": "75c7f9a4",
   "metadata": {
    "ExecuteTime": {
     "end_time": "2024-12-03T05:35:05.963834Z",
     "start_time": "2024-12-03T05:35:05.954704Z"
    }
   },
   "outputs": [],
   "source": [
    "df_last['전용면적'] = df_last['전용면적'].str.replace(' ','')"
   ]
  },
  {
   "cell_type": "code",
   "execution_count": null,
   "id": "e998d97c",
   "metadata": {
    "ExecuteTime": {
     "end_time": "2024-12-03T05:35:05.991078Z",
     "start_time": "2024-12-03T05:35:05.966826Z"
    }
   },
   "outputs": [],
   "source": [
    "r = df_last.pivot_table(index='지역명',\n",
    "                   columns='전용면적',\n",
    "                    values='평당분양가격',\n",
    "                    aggfunc='mean')\n",
    "r = r[['60㎡', '60㎡~85㎡','85㎡~102㎡','102㎡~', '모든면적']]\n",
    "r"
   ]
  },
  {
   "cell_type": "code",
   "execution_count": null,
   "id": "592fe16c",
   "metadata": {
    "ExecuteTime": {
     "end_time": "2024-12-03T05:35:06.642873Z",
     "start_time": "2024-12-03T05:35:05.993030Z"
    }
   },
   "outputs": [],
   "source": [
    "plt.figure(figsize=(15,5)) # 현재 plt 사이즈 조정(matplotlib,sns)\n",
    "\n",
    "sns.heatmap(r,cmap='cool',annot=True,fmt='.0f',\n",
    "           annot_kws={'color':'green','size':12,'weight':'bold'},cbar=False)"
   ]
  },
  {
   "cell_type": "markdown",
   "id": "7043d3fe",
   "metadata": {},
   "source": [
    "## (5) 연도, 지역별 평당 분양가격 (평균)\n"
   ]
  },
  {
   "cell_type": "code",
   "execution_count": null,
   "id": "4b5722c9",
   "metadata": {
    "ExecuteTime": {
     "end_time": "2024-12-03T05:35:06.659879Z",
     "start_time": "2024-12-03T05:35:06.645915Z"
    }
   },
   "outputs": [],
   "source": [
    "df_last.groupby(['연도','지역명'])['평당분양가격'].mean()"
   ]
  },
  {
   "cell_type": "code",
   "execution_count": null,
   "id": "19414fd0",
   "metadata": {
    "ExecuteTime": {
     "end_time": "2024-12-03T05:35:06.682064Z",
     "start_time": "2024-12-03T05:35:06.662984Z"
    }
   },
   "outputs": [],
   "source": [
    "r= df_last.pivot_table(index=['연도','지역명'],\n",
    "                   values=['평당분양가격'])\n",
    "r"
   ]
  },
  {
   "cell_type": "code",
   "execution_count": null,
   "id": "e7a2dbb2",
   "metadata": {
    "ExecuteTime": {
     "end_time": "2024-12-03T05:35:06.711316Z",
     "start_time": "2024-12-03T05:35:06.685057Z"
    }
   },
   "outputs": [],
   "source": [
    "r.unstack()"
   ]
  },
  {
   "cell_type": "code",
   "execution_count": null,
   "id": "be5f83b3",
   "metadata": {
    "ExecuteTime": {
     "end_time": "2024-12-03T05:35:06.729391Z",
     "start_time": "2024-12-03T05:35:06.714307Z"
    }
   },
   "outputs": [],
   "source": [
    "r =df_last.pivot_table(index='연도',\n",
    "                   columns='지역명',\n",
    "                   values='평당분양가격')"
   ]
  },
  {
   "cell_type": "code",
   "execution_count": null,
   "id": "09f14551",
   "metadata": {
    "ExecuteTime": {
     "end_time": "2024-12-03T05:35:06.741495Z",
     "start_time": "2024-12-03T05:35:06.731359Z"
    }
   },
   "outputs": [],
   "source": [
    "r.loc[2024].to_frame()"
   ]
  },
  {
   "cell_type": "code",
   "execution_count": null,
   "id": "95bd5877",
   "metadata": {
    "ExecuteTime": {
     "end_time": "2024-12-03T05:35:06.753489Z",
     "start_time": "2024-12-03T05:35:06.744486Z"
    }
   },
   "outputs": [],
   "source": [
    "r['경기'].to_frame()"
   ]
  },
  {
   "cell_type": "code",
   "execution_count": null,
   "id": "361f6c62",
   "metadata": {
    "ExecuteTime": {
     "end_time": "2024-12-03T05:35:07.560399Z",
     "start_time": "2024-12-03T05:35:06.755606Z"
    }
   },
   "outputs": [],
   "source": [
    "plt.figure(figsize=(20,5))\n",
    "sns.heatmap(r,annot=True,fmt='.0f',cmap='Blues',\n",
    "           annot_kws={'weight':'bold','color':'green',\n",
    "                     },cbar=False)\n",
    "plt.show()\n"
   ]
  },
  {
   "cell_type": "markdown",
   "id": "c9303a2a",
   "metadata": {},
   "source": [
    "# 8. 위의 도표를 시각화(matplotlib)"
   ]
  },
  {
   "cell_type": "code",
   "execution_count": null,
   "id": "53f36fce",
   "metadata": {
    "ExecuteTime": {
     "end_time": "2024-12-03T05:35:07.572533Z",
     "start_time": "2024-12-03T05:35:07.563391Z"
    }
   },
   "outputs": [],
   "source": [
    "#(1) 지역별 데이터수\n",
    "result =  df_last.groupby('지역명')['평당분양가격'].count().sort_values()\n",
    "result\n",
    "result.min(),result.max()"
   ]
  },
  {
   "cell_type": "code",
   "execution_count": null,
   "id": "332a5103",
   "metadata": {
    "ExecuteTime": {
     "end_time": "2024-12-03T05:35:07.783946Z",
     "start_time": "2024-12-03T05:35:07.575498Z"
    }
   },
   "outputs": [],
   "source": [
    "# result.plot(kind='line')\n",
    "ax= result.plot.line(figsize=(7,2))\n",
    "ax.set_title('지역별 데이터수')\n",
    "ax.set_ylim([result.min()-40,result.max()+20])\n",
    "plt.show()"
   ]
  },
  {
   "cell_type": "code",
   "execution_count": null,
   "id": "11e66238",
   "metadata": {
    "ExecuteTime": {
     "end_time": "2024-12-03T05:35:08.076121Z",
     "start_time": "2024-12-03T05:35:07.787023Z"
    }
   },
   "outputs": [],
   "source": [
    "# 지역별 데이터수를  barplot\n",
    "result.plot(kind='bar',rot=0,figsize=(7,2))\n",
    "plt.title('지역별 데이터 수')\n",
    "plt.ylim([result.min()-40,result.max()])"
   ]
  },
  {
   "cell_type": "code",
   "execution_count": null,
   "id": "cf1f7b29",
   "metadata": {
    "ExecuteTime": {
     "end_time": "2024-12-03T05:35:08.282202Z",
     "start_time": "2024-12-03T05:35:08.079089Z"
    }
   },
   "outputs": [],
   "source": [
    "# (2) 지역별 평당분양가격(평균,최대값,...요약통계량)\n",
    "df_last.groupby('지역명')['평당분양가격'].mean().plot(kind='line',figsize=(7,2))\n",
    "plt.show()"
   ]
  },
  {
   "cell_type": "code",
   "execution_count": null,
   "id": "a8e5b7ed",
   "metadata": {
    "ExecuteTime": {
     "end_time": "2024-12-03T05:35:08.498952Z",
     "start_time": "2024-12-03T05:35:08.285193Z"
    }
   },
   "outputs": [],
   "source": [
    "# barplot\n",
    "\n",
    "df_last.groupby('지역명')['평당분양가격'].mean().sort_values().plot(kind='bar',figsize=(7,2),rot=45)\n",
    "plt.show()"
   ]
  },
  {
   "cell_type": "code",
   "execution_count": null,
   "id": "557106e4",
   "metadata": {
    "ExecuteTime": {
     "end_time": "2024-12-03T05:35:08.730028Z",
     "start_time": "2024-12-03T05:35:08.501912Z"
    }
   },
   "outputs": [],
   "source": [
    "# (3) 전용면적별 평당분양가격(평균)\n",
    "result = df_last.groupby('전용면적')['평당분양가격'].mean()\n",
    "\n",
    "result.plot(kind='bar',rot=0,figsize=(10,3))"
   ]
  },
  {
   "cell_type": "code",
   "execution_count": null,
   "id": "81d5cbb3",
   "metadata": {
    "ExecuteTime": {
     "end_time": "2024-12-03T05:35:08.743163Z",
     "start_time": "2024-12-03T05:35:08.733020Z"
    }
   },
   "outputs": [],
   "source": [
    "# (3) 전용면적별 평당분양가격(barplot) -text추가(그래프안에 y값),ylim 조정\n",
    "result = df_last.groupby('전용면적')['평당분양가격'].mean()\n",
    "result"
   ]
  },
  {
   "cell_type": "code",
   "execution_count": null,
   "id": "73769568",
   "metadata": {
    "ExecuteTime": {
     "end_time": "2024-12-03T05:35:08.757439Z",
     "start_time": "2024-12-03T05:35:08.746141Z"
    }
   },
   "outputs": [],
   "source": [
    "for idx, val in enumerate(result):\n",
    "    print(idx,val)"
   ]
  },
  {
   "cell_type": "code",
   "execution_count": null,
   "id": "7de8a5ef",
   "metadata": {
    "ExecuteTime": {
     "end_time": "2024-12-03T05:35:08.985531Z",
     "start_time": "2024-12-03T05:35:08.760405Z"
    }
   },
   "outputs": [],
   "source": [
    "ax = result.plot(kind='bar',figsize=(7,4),rot=0)\n",
    "ax.set_ylim([12000,15000])\n",
    "for i, val in enumerate(result):\n",
    "    ax.text(i-0.18,val+200,round(val))"
   ]
  },
  {
   "cell_type": "code",
   "execution_count": null,
   "id": "12d4d420",
   "metadata": {
    "ExecuteTime": {
     "end_time": "2024-12-03T05:35:08.996594Z",
     "start_time": "2024-12-03T05:35:08.988495Z"
    }
   },
   "outputs": [],
   "source": [
    "# (4) 지역별, 전용면적별 평당분양가격(lineplot)\n",
    "result = df_last.groupby('연도')['평당분양가격'].mean()\n",
    "print('x축:',result.index)\n",
    "print('y축:',result)"
   ]
  },
  {
   "cell_type": "code",
   "execution_count": null,
   "id": "4fddcb10",
   "metadata": {
    "ExecuteTime": {
     "end_time": "2024-12-03T05:35:09.004561Z",
     "start_time": "2024-12-03T05:35:08.999557Z"
    }
   },
   "outputs": [],
   "source": [
    "for val in result:\n",
    "    print(round(val),end='\\t')"
   ]
  },
  {
   "cell_type": "code",
   "execution_count": null,
   "id": "f181bdd7",
   "metadata": {
    "ExecuteTime": {
     "end_time": "2024-12-03T05:35:09.025641Z",
     "start_time": "2024-12-03T05:35:09.020540Z"
    }
   },
   "outputs": [],
   "source": [
    "for i in result.index:\n",
    "    print(i,end='\\t')"
   ]
  },
  {
   "cell_type": "code",
   "execution_count": null,
   "id": "cc8fd657",
   "metadata": {
    "ExecuteTime": {
     "end_time": "2024-12-03T05:35:09.034615Z",
     "start_time": "2024-12-03T05:35:09.028631Z"
    }
   },
   "outputs": [],
   "source": [
    "for i,val in zip(result.index,result):\n",
    "    print(i,val)\n"
   ]
  },
  {
   "cell_type": "code",
   "execution_count": null,
   "id": "a4db7a4d",
   "metadata": {
    "ExecuteTime": {
     "end_time": "2024-12-03T05:35:09.309570Z",
     "start_time": "2024-12-03T05:35:09.037727Z"
    }
   },
   "outputs": [],
   "source": [
    "result.plot(kind='line',figsize=(10,3))\n",
    "for year in result.index:\n",
    "    plt.text(year,result[year]+1000,round(result[year]))\n",
    "plt.ylim([9000,21000])"
   ]
  },
  {
   "cell_type": "code",
   "execution_count": null,
   "id": "59366567",
   "metadata": {
    "ExecuteTime": {
     "end_time": "2024-12-03T05:35:09.323043Z",
     "start_time": "2024-12-03T05:35:09.312562Z"
    }
   },
   "outputs": [],
   "source": [
    "# 연도와 평당분양가격의 양의 상관관계를 가지는 듯 하나\n",
    "# 상관관계가 0.5정도\n",
    "# 연도와 평당분양가격의 변수가 scale이 맞지않아 scale 조정 필요\n",
    "df_last[['연도','평당분양가격']].corr()"
   ]
  },
  {
   "cell_type": "code",
   "execution_count": null,
   "id": "f540c846",
   "metadata": {
    "ExecuteTime": {
     "end_time": "2024-12-03T05:35:09.576062Z",
     "start_time": "2024-12-03T05:35:09.326035Z"
    }
   },
   "outputs": [],
   "source": [
    "# result.plot(line)\n",
    "result.plot(kind='line',figsize=(10,3))\n",
    "for year,val in zip(result.index,result):\n",
    "    plt.text(year-0.3,val+100,round(val))"
   ]
  },
  {
   "cell_type": "code",
   "execution_count": null,
   "id": "ab62c8c9",
   "metadata": {
    "ExecuteTime": {
     "end_time": "2024-12-03T05:35:09.853164Z",
     "start_time": "2024-12-03T05:35:09.579021Z"
    }
   },
   "outputs": [],
   "source": [
    "#\n",
    "result.plot(kind='bar',figsize=(10,3),rot=0)\n",
    "for year,val in enumerate(result):\n",
    "    plt.text(year-0.3,val+100,round(val))\n"
   ]
  },
  {
   "cell_type": "code",
   "execution_count": null,
   "id": "8e4681c9",
   "metadata": {
    "ExecuteTime": {
     "end_time": "2024-12-03T05:35:10.026342Z",
     "start_time": "2024-12-03T05:35:09.857163Z"
    }
   },
   "outputs": [],
   "source": [
    "# 위의 연도별 평당분양가격의 boxplot\n",
    "result.plot(kind='box')\n"
   ]
  },
  {
   "cell_type": "code",
   "execution_count": null,
   "id": "e82c0eca",
   "metadata": {
    "ExecuteTime": {
     "end_time": "2024-12-03T05:35:10.063983Z",
     "start_time": "2024-12-03T05:35:10.029297Z"
    }
   },
   "outputs": [],
   "source": [
    "# 연도별, 월별 평당 분양 가격의 boxplot\n",
    "result = df_last.groupby(['월','연도'])['평당분양가격'].mean().unstack()\n",
    "result = df_last.pivot_table(index=['월','연도'],values='평당분양가격').unstack()\n",
    "result = df_last.pivot_table(index=['월'],columns=['연도'],values='평당분양가격')\n",
    "result"
   ]
  },
  {
   "cell_type": "code",
   "execution_count": null,
   "id": "691355e3",
   "metadata": {
    "ExecuteTime": {
     "end_time": "2024-12-03T05:35:10.348642Z",
     "start_time": "2024-12-03T05:35:10.066985Z"
    }
   },
   "outputs": [],
   "source": [
    "result.plot(kind='box')"
   ]
  },
  {
   "cell_type": "code",
   "execution_count": null,
   "id": "87fc46f8",
   "metadata": {
    "ExecuteTime": {
     "end_time": "2024-12-03T05:35:10.986659Z",
     "start_time": "2024-12-03T05:35:10.350770Z"
    }
   },
   "outputs": [],
   "source": [
    "plt.figure(figsize=(20,5))\n",
    "sns.heatmap(result,cmap='Blues', annot=True,fmt='.0f',\n",
    "           annot_kws={'weight':'bold','size':12})\n",
    "plt.show()\n"
   ]
  },
  {
   "cell_type": "code",
   "execution_count": null,
   "id": "b7cd2e81",
   "metadata": {
    "ExecuteTime": {
     "end_time": "2024-12-03T05:35:11.444243Z",
     "start_time": "2024-12-03T05:35:10.989814Z"
    }
   },
   "outputs": [],
   "source": [
    "# 월별 , 연도별 평당분양가격의 추이(line plot)\n",
    "result.plot(figsize=(10,4))\n",
    "plt.legend(bbox_to_anchor=(1.05, 1), loc=2, borderaxespad=0.)"
   ]
  },
  {
   "cell_type": "code",
   "execution_count": null,
   "id": "90b183a3",
   "metadata": {
    "ExecuteTime": {
     "end_time": "2024-12-03T05:35:11.907297Z",
     "start_time": "2024-12-03T05:35:11.447210Z"
    }
   },
   "outputs": [],
   "source": [
    "# (5) 연도, 지역별 평당 분양가격 (평균)\n",
    "df_last.groupby(['연도','지역명'])['평당분양가격'].mean().unstack().plot(kind='box',figsize=(20,5))"
   ]
  },
  {
   "cell_type": "markdown",
   "id": "e509a249",
   "metadata": {},
   "source": [
    "# 9.seaborn으로 시각화\n",
    "- 위에서 시각화한 내용을 seaborn으로 시각화"
   ]
  },
  {
   "cell_type": "code",
   "execution_count": null,
   "id": "0cb6daf4",
   "metadata": {
    "ExecuteTime": {
     "end_time": "2024-12-03T05:35:11.916396Z",
     "start_time": "2024-12-03T05:35:11.909275Z"
    }
   },
   "outputs": [],
   "source": [
    "sns.set(rc={'figure.figsize':(10,3)})\n",
    "# 한글설정\n",
    "plt.rc('font',family='Malgun Gothic') # 윈도우즈\n",
    "plt.rc('axes',unicode_minus=False)# 축의 -깨짐방지"
   ]
  },
  {
   "cell_type": "markdown",
   "id": "4d247a61",
   "metadata": {},
   "source": [
    "## (1) 지역별 평당 분양가격(평균)"
   ]
  },
  {
   "cell_type": "code",
   "execution_count": null,
   "id": "5779a3ec",
   "metadata": {
    "ExecuteTime": {
     "end_time": "2024-12-03T05:35:12.283267Z",
     "start_time": "2024-12-03T05:35:11.920385Z"
    }
   },
   "outputs": [],
   "source": [
    "\n",
    "sns.barplot(data=df_last,x='지역명', y='평당분양가격',\n",
    "            errorbar='sd'#값의 표준편차\n",
    "            #ci='none'\n",
    "            #ci='sd' # error\n",
    "           )\n",
    "\n",
    "plt.show()"
   ]
  },
  {
   "cell_type": "code",
   "execution_count": null,
   "id": "9c957184",
   "metadata": {
    "ExecuteTime": {
     "end_time": "2024-12-03T05:35:13.582166Z",
     "start_time": "2024-12-03T05:35:12.286294Z"
    }
   },
   "outputs": [],
   "source": [
    "result = df_last.groupby('지역명')['평당분양가격'].mean().sort_values(ascending=False)\n",
    "#result.index\n",
    "sns.barplot(data=df_last,x='지역명', y='평당분양가격',order=result.index)\n",
    "plt.show()"
   ]
  },
  {
   "cell_type": "code",
   "execution_count": null,
   "id": "fd3f7b1d",
   "metadata": {
    "ExecuteTime": {
     "end_time": "2024-12-03T05:35:13.946529Z",
     "start_time": "2024-12-03T05:35:13.585174Z"
    }
   },
   "outputs": [],
   "source": [
    "# 시리즈\n",
    "sns.barplot(data=result.to_frame(),x=result.index, y = '평당분양가격') # 표본평균이 아니라 표준편차가 안나옴\n",
    "plt.show()"
   ]
  },
  {
   "cell_type": "code",
   "execution_count": null,
   "id": "3b074cff",
   "metadata": {
    "ExecuteTime": {
     "end_time": "2024-12-03T05:35:13.955484Z",
     "start_time": "2024-12-03T05:35:13.949481Z"
    }
   },
   "outputs": [],
   "source": [
    "for i , val in enumerate(result):\n",
    "    print(i,val,end='\\t')"
   ]
  },
  {
   "cell_type": "code",
   "execution_count": null,
   "id": "c604fcb6",
   "metadata": {
    "ExecuteTime": {
     "end_time": "2024-12-03T05:35:14.390544Z",
     "start_time": "2024-12-03T05:35:13.959543Z"
    }
   },
   "outputs": [],
   "source": [
    "sns.barplot(x=result.index,y=result)\n",
    "for i , v in enumerate(result):\n",
    "    plt.text(i-0.4, v ,round(v),fontsize=9)\n",
    "plt.show()"
   ]
  },
  {
   "cell_type": "code",
   "execution_count": null,
   "id": "a4f1269f",
   "metadata": {
    "ExecuteTime": {
     "end_time": "2024-12-03T05:35:14.918082Z",
     "start_time": "2024-12-03T05:35:14.393513Z"
    }
   },
   "outputs": [],
   "source": [
    "plt.figure(figsize=(10,7))\n",
    "sns.barplot(data=df_last, y= '지역명',x='평당분양가격', order=result.index, errorbar=None)\n",
    "for i, v in enumerate(result):\n",
    "    plt.text(v+100, i+0.2 ,round(v))\n",
    "plt.xlim([0,30000])"
   ]
  },
  {
   "cell_type": "markdown",
   "id": "0ba91504",
   "metadata": {},
   "source": [
    "\n",
    "## (2) 연도별 평당 분양가격"
   ]
  },
  {
   "cell_type": "code",
   "execution_count": null,
   "id": "eda32208",
   "metadata": {
    "ExecuteTime": {
     "end_time": "2024-12-03T05:35:15.838555Z",
     "start_time": "2024-12-03T05:35:14.921074Z"
    }
   },
   "outputs": [],
   "source": [
    "sns.barplot(data= df_last,x='연도',y='평당분양가격')\n",
    "plt.show()\n"
   ]
  },
  {
   "cell_type": "markdown",
   "id": "ce413180",
   "metadata": {},
   "source": [
    "## (3) 그 외 lineplot,relplot,boxplot,violinplot,boxexplot,regplot,swarmplot"
   ]
  },
  {
   "cell_type": "code",
   "execution_count": null,
   "id": "99519e14",
   "metadata": {
    "ExecuteTime": {
     "end_time": "2024-12-03T05:35:16.440432Z",
     "start_time": "2024-12-03T05:35:15.841566Z"
    }
   },
   "outputs": [],
   "source": [
    "# 년도별 평균 평당분양 가격 추이\n",
    "sns.lineplot(data=df_last,x='연도',y='평당분양가격')\n",
    "plt.show()"
   ]
  },
  {
   "cell_type": "code",
   "execution_count": null,
   "id": "9385540b",
   "metadata": {
    "ExecuteTime": {
     "end_time": "2024-12-03T05:35:21.229944Z",
     "start_time": "2024-12-03T05:35:16.443653Z"
    }
   },
   "outputs": [],
   "source": [
    "# 년도별 , 지역별  평당분양가격 추이 (lineplot)\n",
    "plt.figure(figsize=(12,5))\n",
    "sns.lineplot(data=df_last,x='연도',y='평당분양가격',hue='지역명')\n",
    "plt.legend(bbox_to_anchor=(1.05, 1), loc=2, borderaxespad=0.)"
   ]
  },
  {
   "cell_type": "code",
   "execution_count": null,
   "id": "029cf6e7",
   "metadata": {
    "ExecuteTime": {
     "end_time": "2024-12-03T05:35:33.301249Z",
     "start_time": "2024-12-03T05:35:21.229944Z"
    }
   },
   "outputs": [],
   "source": [
    "# 위의 그래프가 겹쳐져서 잘 보이지 않아 지역명별로 분리\n",
    "\n",
    "sns.relplot(data=df_last,x='연도',y='평당분양가격',hue='지역명',\n",
    "           kind='line',col='지역명',col_wrap=4,\n",
    "           facet_kws={'sharex':False,'sharey':True})\n",
    "plt.show()"
   ]
  },
  {
   "cell_type": "code",
   "execution_count": null,
   "id": "8fc613f7",
   "metadata": {
    "ExecuteTime": {
     "end_time": "2024-12-03T05:35:46.940668Z",
     "start_time": "2024-12-03T05:35:33.303262Z"
    }
   },
   "outputs": [],
   "source": [
    "# 연도별 평당분양가격을 지역명별로 서브플롯()\n",
    "    #서브플롯: relplot(관계형 그래프의 서브플롯)\n",
    "            #catplot(범주형 그래프의 서브플롯)\n",
    "sns.catplot(data=df_last, x='연도' ,y='평당분양가격',\n",
    "           kind='bar', col='지역명', col_wrap=4,\n",
    "            # facet_kws={'sharex':False,'sharey':True},\n",
    "            sharex=False)"
   ]
  },
  {
   "cell_type": "code",
   "execution_count": null,
   "id": "ea6657b0",
   "metadata": {
    "ExecuteTime": {
     "end_time": "2024-12-03T05:35:46.951293Z",
     "start_time": "2024-12-03T05:35:46.940668Z"
    }
   },
   "outputs": [],
   "source": [
    "# 연도별 평당분양가격 사분위수 boxplot, boxeplot\n"
   ]
  },
  {
   "cell_type": "code",
   "execution_count": null,
   "id": "2a40a7d9",
   "metadata": {
    "ExecuteTime": {
     "end_time": "2024-12-03T05:35:47.397134Z",
     "start_time": "2024-12-03T05:35:46.955284Z"
    }
   },
   "outputs": [],
   "source": [
    "sns.violinplot(data=df_last,x='연도', y='평당분양가격')\n",
    "plt.show()"
   ]
  },
  {
   "cell_type": "code",
   "execution_count": null,
   "id": "bdbec830",
   "metadata": {
    "ExecuteTime": {
     "end_time": "2024-12-03T05:35:47.746668Z",
     "start_time": "2024-12-03T05:35:47.400107Z"
    }
   },
   "outputs": [],
   "source": [
    "sns.boxenplot(data=df_last,x='연도', y='평당분양가격')\n",
    "plt.show()"
   ]
  },
  {
   "cell_type": "code",
   "execution_count": null,
   "id": "8b160d9c",
   "metadata": {},
   "outputs": [],
   "source": []
  },
  {
   "cell_type": "code",
   "execution_count": null,
   "id": "7618fd93",
   "metadata": {
    "ExecuteTime": {
     "end_time": "2024-12-03T05:35:58.173388Z",
     "start_time": "2024-12-03T05:35:47.749620Z"
    }
   },
   "outputs": [],
   "source": [
    "sns.catplot(data=df_last,x='연도', y='평당분양가격',hue='지역명',\n",
    "           kind='box',col='전용면적',col_wrap=4,sharex=False)\n",
    "plt.show()"
   ]
  },
  {
   "cell_type": "code",
   "execution_count": null,
   "id": "c3393e3e",
   "metadata": {
    "ExecuteTime": {
     "end_time": "2024-12-03T05:35:58.884373Z",
     "start_time": "2024-12-03T05:35:58.173388Z"
    }
   },
   "outputs": [],
   "source": [
    "# 연도에 따른 평당 분양가격을 회귀식으로 시각화\n",
    "sns.regplot(data=df_last,x='연도', y='평당분양가격')\n",
    "plt.show()"
   ]
  },
  {
   "cell_type": "code",
   "execution_count": null,
   "id": "633249da",
   "metadata": {
    "ExecuteTime": {
     "end_time": "2024-12-03T05:36:01.992678Z",
     "start_time": "2024-12-03T05:35:58.888518Z"
    }
   },
   "outputs": [],
   "source": [
    "sns.lmplot(data=df_last,x='연도', y='평당분양가격',hue='전용면적',col='전용면적',col_wrap=3,sharex=False)\n",
    "plt.show()"
   ]
  },
  {
   "cell_type": "code",
   "execution_count": null,
   "id": "bf3d57ea",
   "metadata": {
    "ExecuteTime": {
     "end_time": "2024-12-03T05:41:05.874572Z",
     "start_time": "2024-12-03T05:41:05.857432Z"
    }
   },
   "outputs": [],
   "source": [
    "# swarmplot은 많은 데이터를 그리기에 시간이 많이 걸려 sampling 후 그릴것을 추천\n",
    "df_sample = df_last.sample(frac=0.1,random_state=42)\n",
    "df_sample"
   ]
  },
  {
   "cell_type": "code",
   "execution_count": null,
   "id": "f5e0f547",
   "metadata": {
    "ExecuteTime": {
     "end_time": "2024-12-03T05:44:59.160866Z",
     "start_time": "2024-12-03T05:44:57.522417Z"
    }
   },
   "outputs": [],
   "source": [
    "sns.swarmplot(data= df_sample, x= '연도',y='평당분양가격',size=3,hue='전용면적')\n",
    "plt.show()\n"
   ]
  },
  {
   "cell_type": "code",
   "execution_count": null,
   "id": "fc62b83c",
   "metadata": {
    "ExecuteTime": {
     "end_time": "2024-12-03T05:44:30.381012Z",
     "start_time": "2024-12-03T05:43:06.401165Z"
    }
   },
   "outputs": [],
   "source": [
    "sns.swarmplot(data= df_last, x= '연도',y='평당분양가격',size=3)\n",
    "plt.show()\n"
   ]
  },
  {
   "cell_type": "code",
   "execution_count": null,
   "id": "9c664299",
   "metadata": {
    "ExecuteTime": {
     "end_time": "2024-12-03T05:48:00.796138Z",
     "start_time": "2024-12-03T05:48:00.490561Z"
    }
   },
   "outputs": [],
   "source": [
    "# 분양가격으로 히스토그램\n",
    "df_last['평당분양가격'].hist(bins=20)"
   ]
  },
  {
   "cell_type": "code",
   "execution_count": null,
   "id": "d1164043",
   "metadata": {
    "ExecuteTime": {
     "end_time": "2024-12-03T05:48:30.186868Z",
     "start_time": "2024-12-03T05:48:29.698826Z"
    }
   },
   "outputs": [],
   "source": [
    "sns.histplot(data=df_last,x='평당분양가격',kde=True)"
   ]
  },
  {
   "cell_type": "code",
   "execution_count": null,
   "id": "f9a8e577",
   "metadata": {
    "ExecuteTime": {
     "end_time": "2024-12-03T05:54:54.245171Z",
     "start_time": "2024-12-03T05:54:46.618702Z"
    }
   },
   "outputs": [],
   "source": [
    "# 데이터 프레임의 수치형 컬럼들의 상관관계를 한 눈에 볼수 있는 pairplot\n",
    "sns.pairplot(data=df_last,hue='전용면적')"
   ]
  },
  {
   "cell_type": "code",
   "execution_count": null,
   "id": "66d46b8d",
   "metadata": {
    "ExecuteTime": {
     "end_time": "2024-12-03T05:58:46.131916Z",
     "start_time": "2024-12-03T05:58:39.959978Z"
    }
   },
   "outputs": [],
   "source": [
    "# 지역별 평당분양가격의 히스토그램\n",
    "g = sns.FacetGrid(df_last,hue='지역명',col='지역명',col_wrap=4,sharex=False)\n",
    "g.map(sns.histplot,'평당분양가격') \n",
    "plt.show()"
   ]
  },
  {
   "cell_type": "markdown",
   "id": "abe1c3ee",
   "metadata": {},
   "source": [
    "# 10. 구조가 다른 df_last와 df_first를 연결\n",
    "##  (1) concat\n",
    "- new_first= df_first를 [지역명, 연도, 월, 평당분양가격]으로 변환\n",
    "- new_last = df_last를 [지역명, 연도, 월, 평당분양가격]으로 변환\n",
    "                (전용면적이 모든 면적인 행만 추출후 , 전용면적 열을 삭제)\n",
    "        * df = pd.concat(new_first,new_last) 후, reset_index()\n",
    "        * 완성된 df를 csv로 출력\n",
    "              "
   ]
  },
  {
   "cell_type": "code",
   "execution_count": null,
   "id": "1950ba3a",
   "metadata": {
    "ExecuteTime": {
     "end_time": "2024-12-03T06:52:32.188428Z",
     "start_time": "2024-12-03T06:52:32.170231Z"
    }
   },
   "outputs": [],
   "source": [
    "df_first"
   ]
  },
  {
   "cell_type": "code",
   "execution_count": null,
   "id": "00fe1ce5",
   "metadata": {
    "ExecuteTime": {
     "end_time": "2024-12-03T06:52:38.230322Z",
     "start_time": "2024-12-03T06:52:38.216221Z"
    },
    "scrolled": true
   },
   "outputs": [],
   "source": [
    "df_last"
   ]
  },
  {
   "cell_type": "code",
   "execution_count": null,
   "id": "139249d1",
   "metadata": {
    "ExecuteTime": {
     "end_time": "2024-12-03T07:20:26.334649Z",
     "start_time": "2024-12-03T07:20:26.319508Z"
    }
   },
   "outputs": [],
   "source": [
    "# (1) new_first 생성\n",
    "new_first= df_first.melt(id_vars=['지역'],\n",
    "                        var_name='연도월',\n",
    "                        value_name='평당분양가격')\n",
    "new_first"
   ]
  },
  {
   "cell_type": "code",
   "execution_count": null,
   "id": "71a10a94",
   "metadata": {
    "ExecuteTime": {
     "end_time": "2024-12-03T06:46:55.773139Z",
     "start_time": "2024-12-03T06:46:55.768953Z"
    }
   },
   "outputs": [],
   "source": [
    "#(2) 연도와 월로 분리하는 함수만들기\n",
    "def parse_year(x):\n",
    "    return int(x.split('년')[0])    "
   ]
  },
  {
   "cell_type": "code",
   "execution_count": null,
   "id": "bb73110a",
   "metadata": {
    "ExecuteTime": {
     "end_time": "2024-12-03T07:21:03.715043Z",
     "start_time": "2024-12-03T07:21:03.702889Z"
    }
   },
   "outputs": [],
   "source": [
    "#(3) 연도 분리\n",
    "new_first['연도']=new_first['연도월'].apply(lambda x :int(x.split('년')[0]))\n",
    "new_first.head()"
   ]
  },
  {
   "cell_type": "code",
   "execution_count": null,
   "id": "2f2f63b4",
   "metadata": {
    "ExecuteTime": {
     "end_time": "2024-12-03T07:21:08.667195Z",
     "start_time": "2024-12-03T07:21:08.655080Z"
    }
   },
   "outputs": [],
   "source": [
    "#(3) 월 분리\n",
    "new_first['월']=new_first['연도월'].apply(lambda x :int(x.split('년')[-1][:-1]))\n",
    "new_first.head()"
   ]
  },
  {
   "cell_type": "code",
   "execution_count": null,
   "id": "751375aa",
   "metadata": {
    "ExecuteTime": {
     "end_time": "2024-12-03T07:21:26.035873Z",
     "start_time": "2024-12-03T07:21:26.023905Z"
    }
   },
   "outputs": [],
   "source": [
    "new_first.drop(['연도월'],axis=1,inplace=True)\n",
    "new_first.head(1)"
   ]
  },
  {
   "cell_type": "code",
   "execution_count": null,
   "id": "6021c676",
   "metadata": {
    "ExecuteTime": {
     "end_time": "2024-12-03T07:23:26.493403Z",
     "start_time": "2024-12-03T07:23:26.489385Z"
    }
   },
   "outputs": [],
   "source": [
    "new_first.columns=['지역명','평당분양가격','월','연도']"
   ]
  },
  {
   "cell_type": "code",
   "execution_count": null,
   "id": "75ade538",
   "metadata": {
    "ExecuteTime": {
     "end_time": "2024-12-03T07:23:30.414432Z",
     "start_time": "2024-12-03T07:23:30.396242Z"
    }
   },
   "outputs": [],
   "source": [
    "new_last=df_last.loc[df_last['전용면적'].str.contains('모든면적')]\n",
    "\n",
    "new_last.drop(['전용면적'],axis=1,inplace=True)\n",
    "new_last.head()"
   ]
  },
  {
   "cell_type": "code",
   "execution_count": null,
   "id": "0633ba4c",
   "metadata": {
    "ExecuteTime": {
     "end_time": "2024-12-03T07:23:32.234449Z",
     "start_time": "2024-12-03T07:23:32.221272Z"
    }
   },
   "outputs": [],
   "source": [
    "new_last"
   ]
  },
  {
   "cell_type": "code",
   "execution_count": null,
   "id": "0afee0fc",
   "metadata": {
    "ExecuteTime": {
     "end_time": "2024-12-03T07:23:35.197350Z",
     "start_time": "2024-12-03T07:23:35.189153Z"
    }
   },
   "outputs": [],
   "source": [
    "new_first.head()"
   ]
  },
  {
   "cell_type": "code",
   "execution_count": null,
   "id": "42476628",
   "metadata": {
    "ExecuteTime": {
     "end_time": "2024-12-03T07:23:56.237949Z",
     "start_time": "2024-12-03T07:23:56.231930Z"
    }
   },
   "outputs": [],
   "source": [
    "df = pd.concat([new_first,new_last])\n"
   ]
  },
  {
   "cell_type": "code",
   "execution_count": null,
   "id": "50dacdab",
   "metadata": {
    "ExecuteTime": {
     "end_time": "2024-12-03T08:15:15.504200Z",
     "start_time": "2024-12-03T08:15:15.493259Z"
    }
   },
   "outputs": [],
   "source": [
    "df = df.reset_index(drop=True)\n",
    "df.head(1)"
   ]
  },
  {
   "cell_type": "code",
   "execution_count": null,
   "id": "47514902",
   "metadata": {
    "ExecuteTime": {
     "end_time": "2024-12-03T07:25:04.490762Z",
     "start_time": "2024-12-03T07:25:04.478325Z"
    }
   },
   "outputs": [],
   "source": [
    "df.to_csv('data/df.csv', index = False)"
   ]
  },
  {
   "cell_type": "markdown",
   "id": "abd06cc6",
   "metadata": {},
   "source": [
    "## (2) 결측치 대체(연도별, 지역별 중위값)"
   ]
  },
  {
   "cell_type": "code",
   "execution_count": null,
   "id": "f23b43a9",
   "metadata": {
    "ExecuteTime": {
     "end_time": "2024-12-03T07:25:29.196672Z",
     "start_time": "2024-12-03T07:25:29.181550Z"
    }
   },
   "outputs": [],
   "source": [
    "result = df.pivot_table(index='연도',columns='지역명',values='평당분양가격',aggfunc='median')"
   ]
  },
  {
   "cell_type": "code",
   "execution_count": null,
   "id": "6be63c56",
   "metadata": {
    "ExecuteTime": {
     "end_time": "2024-12-03T08:15:57.344522Z",
     "start_time": "2024-12-03T08:15:57.333551Z"
    }
   },
   "outputs": [],
   "source": [
    "df.loc[df['평당분양가격'].isnull()].head(2)"
   ]
  },
  {
   "cell_type": "code",
   "execution_count": null,
   "id": "ef99b59c",
   "metadata": {
    "ExecuteTime": {
     "end_time": "2024-12-03T08:16:57.558691Z",
     "start_time": "2024-12-03T08:16:57.552701Z"
    }
   },
   "outputs": [],
   "source": [
    "result.loc[2018, '울산']"
   ]
  },
  {
   "cell_type": "code",
   "execution_count": null,
   "id": "febd2c6d",
   "metadata": {
    "ExecuteTime": {
     "end_time": "2024-12-03T07:28:15.341017Z",
     "start_time": "2024-12-03T07:28:15.310183Z"
    }
   },
   "outputs": [],
   "source": [
    "result"
   ]
  },
  {
   "cell_type": "code",
   "execution_count": null,
   "id": "3120b620",
   "metadata": {
    "ExecuteTime": {
     "end_time": "2024-12-03T08:40:44.060828Z",
     "start_time": "2024-12-03T08:40:44.050658Z"
    }
   },
   "outputs": [],
   "source": [
    "df.isnull().sum()"
   ]
  },
  {
   "cell_type": "code",
   "execution_count": null,
   "id": "e9404859",
   "metadata": {
    "ExecuteTime": {
     "end_time": "2024-12-03T08:37:40.515658Z",
     "start_time": "2024-12-03T08:37:40.507657Z"
    }
   },
   "outputs": [],
   "source": [
    "def fillna_mean(row):\n",
    "    if row.isnull :\n",
    "        row['평당분양가격'] = result.loc[row['연도'],row['지역명']]\n",
    "    return row\n",
    "fillna_mean(df.loc[1010]), df.loc[1010]"
   ]
  },
  {
   "cell_type": "code",
   "execution_count": null,
   "id": "98000ef2",
   "metadata": {
    "ExecuteTime": {
     "end_time": "2024-12-03T08:40:02.760593Z",
     "start_time": "2024-12-03T08:40:02.563532Z"
    }
   },
   "outputs": [],
   "source": [
    "df = df.apply(fillna_mean,axis=1)"
   ]
  },
  {
   "cell_type": "code",
   "execution_count": null,
   "id": "626f41e7",
   "metadata": {
    "ExecuteTime": {
     "end_time": "2024-12-03T08:40:17.288280Z",
     "start_time": "2024-12-03T08:40:17.276312Z"
    }
   },
   "outputs": [],
   "source": [
    "df.to_csv('data/df.csv', index = False)"
   ]
  },
  {
   "cell_type": "markdown",
   "id": "eb0256f2",
   "metadata": {},
   "source": [
    "## (3)  7절부터 9절까지 분석을 한다 (전용면적별 분석은 불가)"
   ]
  },
  {
   "cell_type": "code",
   "execution_count": null,
   "id": "5fee534f",
   "metadata": {
    "ExecuteTime": {
     "end_time": "2024-12-03T08:42:40.260980Z",
     "start_time": "2024-12-03T08:42:40.251975Z"
    }
   },
   "outputs": [],
   "source": [
    "df= pd.read_csv('data/df.csv')"
   ]
  },
  {
   "cell_type": "code",
   "execution_count": null,
   "id": "0812138a",
   "metadata": {
    "ExecuteTime": {
     "end_time": "2024-12-03T08:44:13.827867Z",
     "start_time": "2024-12-03T08:44:13.819870Z"
    }
   },
   "outputs": [],
   "source": [
    "df['지역명'].value_counts()"
   ]
  },
  {
   "cell_type": "code",
   "execution_count": null,
   "id": "e0aaa638",
   "metadata": {
    "ExecuteTime": {
     "end_time": "2024-12-03T08:44:48.676844Z",
     "start_time": "2024-12-03T08:44:48.650728Z"
    }
   },
   "outputs": [],
   "source": [
    "df.groupby(['지역명'])['평당분양가격'].count()"
   ]
  },
  {
   "cell_type": "code",
   "execution_count": null,
   "id": "0f37873a",
   "metadata": {
    "ExecuteTime": {
     "end_time": "2024-12-03T08:47:07.364819Z",
     "start_time": "2024-12-03T08:47:07.347366Z"
    }
   },
   "outputs": [],
   "source": [
    "pd.pivot_table(df,index='지역명',\n",
    "              values='평당분양가격',\n",
    "              aggfunc='count').transpose()"
   ]
  },
  {
   "cell_type": "code",
   "execution_count": null,
   "id": "8f637951",
   "metadata": {
    "ExecuteTime": {
     "end_time": "2024-12-03T08:47:58.689065Z",
     "start_time": "2024-12-03T08:47:58.674913Z"
    }
   },
   "outputs": [],
   "source": [
    "df.groupby(['지역명'])[['평당분양가격']].mean().sort_values(by='평당분양가격')"
   ]
  },
  {
   "cell_type": "code",
   "execution_count": null,
   "id": "db424970",
   "metadata": {
    "ExecuteTime": {
     "end_time": "2024-12-03T08:48:20.867769Z",
     "start_time": "2024-12-03T08:48:20.853529Z"
    }
   },
   "outputs": [],
   "source": [
    "df.groupby(['지역명'])[['평당분양가격']].max().sort_values(by='평당분양가격')"
   ]
  },
  {
   "cell_type": "code",
   "execution_count": null,
   "id": "2999dac7",
   "metadata": {
    "ExecuteTime": {
     "end_time": "2024-12-03T08:49:01.240423Z",
     "start_time": "2024-12-03T08:49:01.229245Z"
    }
   },
   "outputs": [],
   "source": [
    "df.groupby(['지역명'])[['평당분양가격']].mean().sort_values(by='평당분양가격',ascending=False).head(3)"
   ]
  },
  {
   "cell_type": "code",
   "execution_count": null,
   "id": "6c9a02fc",
   "metadata": {
    "ExecuteTime": {
     "end_time": "2024-12-03T08:49:26.123354Z",
     "start_time": "2024-12-03T08:49:26.066830Z"
    }
   },
   "outputs": [],
   "source": [
    "df.groupby('지역명')['평당분양가격'].describe()"
   ]
  },
  {
   "cell_type": "code",
   "execution_count": null,
   "id": "1c06ebcf",
   "metadata": {},
   "outputs": [],
   "source": []
  },
  {
   "cell_type": "code",
   "execution_count": null,
   "id": "ea777d40",
   "metadata": {},
   "outputs": [],
   "source": []
  },
  {
   "cell_type": "code",
   "execution_count": null,
   "id": "f8590986",
   "metadata": {},
   "outputs": [],
   "source": []
  },
  {
   "cell_type": "code",
   "execution_count": null,
   "id": "38e38bad",
   "metadata": {},
   "outputs": [],
   "source": []
  },
  {
   "cell_type": "code",
   "execution_count": null,
   "id": "f3ebf83b",
   "metadata": {},
   "outputs": [],
   "source": []
  },
  {
   "cell_type": "code",
   "execution_count": null,
   "id": "6dce55fb",
   "metadata": {},
   "outputs": [],
   "source": []
  },
  {
   "cell_type": "code",
   "execution_count": null,
   "id": "628b4ba9",
   "metadata": {},
   "outputs": [],
   "source": []
  },
  {
   "cell_type": "code",
   "execution_count": null,
   "id": "8d122384",
   "metadata": {},
   "outputs": [],
   "source": []
  },
  {
   "cell_type": "code",
   "execution_count": null,
   "id": "64aecf35",
   "metadata": {},
   "outputs": [],
   "source": []
  },
  {
   "cell_type": "code",
   "execution_count": null,
   "id": "5726bcf2",
   "metadata": {},
   "outputs": [],
   "source": []
  },
  {
   "cell_type": "code",
   "execution_count": null,
   "id": "aa308a52",
   "metadata": {},
   "outputs": [],
   "source": []
  },
  {
   "cell_type": "code",
   "execution_count": null,
   "id": "328a9401",
   "metadata": {},
   "outputs": [],
   "source": []
  }
 ],
 "metadata": {
  "kernelspec": {
   "display_name": "Python 3 (ipykernel)",
   "language": "python",
   "name": "python3"
  },
  "language_info": {
   "codemirror_mode": {
    "name": "ipython",
    "version": 3
   },
   "file_extension": ".py",
   "mimetype": "text/x-python",
   "name": "python",
   "nbconvert_exporter": "python",
   "pygments_lexer": "ipython3",
   "version": "3.10.9"
  },
  "toc": {
   "base_numbering": 1,
   "nav_menu": {},
   "number_sections": true,
   "sideBar": true,
   "skip_h1_title": false,
   "title_cell": "Table of Contents",
   "title_sidebar": "Contents",
   "toc_cell": false,
   "toc_position": {
    "height": "calc(100% - 180px)",
    "left": "10px",
    "top": "150px",
    "width": "165px"
   },
   "toc_section_display": true,
   "toc_window_display": true
  }
 },
 "nbformat": 4,
 "nbformat_minor": 5
}
