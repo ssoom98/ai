{
 "cells": [
  {
   "cell_type": "code",
   "execution_count": 1,
   "id": "496d0b6a",
   "metadata": {
    "ExecuteTime": {
     "end_time": "2024-12-09T01:37:36.266267Z",
     "start_time": "2024-12-09T01:37:36.256103Z"
    }
   },
   "outputs": [
    {
     "data": {
      "text/html": [
       "\n",
       "<style>\n",
       "div.container{width:80% !important;}\n",
       "div.CodeMirror {font-family:Consolas; font-size:12pt;}\n",
       "div.output {font-size:12pt; font-weight:bold;}\n",
       "div.input {font-family:Consolas; font-size:12pt;}\n",
       "div.prompt {min-width:70px;}\n",
       "div#toc-header{margin-top:150px;}\n",
       "</style>\n",
       "<style>\n",
       "span.toc-item-num{\n",
       "display:none;\n",
       "}\n",
       "</style>\n"
      ],
      "text/plain": [
       "<IPython.core.display.HTML object>"
      ]
     },
     "metadata": {},
     "output_type": "display_data"
    }
   ],
   "source": [
    "from IPython.display import display, HTML\n",
    "display(HTML(\"\"\"\n",
    "<style>\n",
    "div.container{width:80% !important;}\n",
    "div.CodeMirror {font-family:Consolas; font-size:12pt;}\n",
    "div.output {font-size:12pt; font-weight:bold;}\n",
    "div.input {font-family:Consolas; font-size:12pt;}\n",
    "div.prompt {min-width:70px;}\n",
    "div#toc-header{margin-top:150px;}\n",
    "</style>\n",
    "<style>\n",
    "span.toc-item-num{\n",
    "display:none;\n",
    "}\n",
    "</style>\n",
    "\"\"\"))"
   ]
  },
  {
   "cell_type": "markdown",
   "id": "2c5e168c",
   "metadata": {
    "ExecuteTime": {
     "end_time": "2024-12-06T02:57:31.909469Z",
     "start_time": "2024-12-06T02:57:31.903381Z"
    }
   },
   "source": [
    "<b><font color=\"red\" size=\"6\">ch14. 웹데이터수집</font></b>\n",
    "# 1절. BeautifulSoup과 parser\n",
    "\n",
    "`pip install bs4` 아나콘다를 설치하면 자동 설치되는 패키지 7500개에 포함\n",
    "\n"
   ]
  },
  {
   "cell_type": "code",
   "execution_count": 4,
   "id": "30b7e7dc",
   "metadata": {
    "ExecuteTime": {
     "end_time": "2024-12-06T03:14:26.140140Z",
     "start_time": "2024-12-06T03:14:26.135125Z"
    }
   },
   "outputs": [],
   "source": [
    "import requests\n",
    "from requests_file import FileAdapter"
   ]
  },
  {
   "cell_type": "code",
   "execution_count": 6,
   "id": "97e54255",
   "metadata": {
    "ExecuteTime": {
     "end_time": "2024-12-06T03:19:24.806519Z",
     "start_time": "2024-12-06T03:19:24.798513Z"
    }
   },
   "outputs": [
    {
     "data": {
      "text/plain": [
       "<Response [200]>"
      ]
     },
     "execution_count": 6,
     "metadata": {},
     "output_type": "execute_result"
    }
   ],
   "source": [
    "s= requests.Session()# HTTP 요청관리를 위한 세션객체\n",
    "s.mount(\"file://\",FileAdapter())\n",
    "response= s.get('file:///ai/source/07_python/ch14_sample.html')\n",
    "response"
   ]
  },
  {
   "cell_type": "code",
   "execution_count": 7,
   "id": "ac4c98cb",
   "metadata": {
    "ExecuteTime": {
     "end_time": "2024-12-06T03:37:53.420150Z",
     "start_time": "2024-12-06T03:37:53.414173Z"
    }
   },
   "outputs": [
    {
     "data": {
      "text/plain": [
       "'<!DOCTYPE html>\\r\\n<html lang=\"en\">\\r\\n<head>\\r\\n    <meta charset=\"UTF-8\">\\r\\n<body>\\r\\n    <h1 class=\"greeting css\" id=\"text\">Hello, CSS</h1>\\r\\n    <h1 class=\"css\">Hi, CSS</h1>\\r\\n    <div id=\"subject\">subject 선택자 안의 내용</div>\\r\\n    <p>CSS 선택자는 다양한 곳에서 활용됩니다</p>\\r\\n    <div class=\"contents\">\\r\\n        선택자를 어떻게 작성하는냐에 따라\\r\\n        <span>다른<b>요소가 반환</b></span> 됩니다\\r\\n    </div>\\r\\n    <div>CSS 선택자는 다양한 곳에<b>활용</b>됩니다</div>\\r\\n</body>\\r\\n</html>\\r\\n'"
      ]
     },
     "execution_count": 7,
     "metadata": {},
     "output_type": "execute_result"
    }
   ],
   "source": [
    "response.content.decode('utf-8')"
   ]
  },
  {
   "cell_type": "code",
   "execution_count": 9,
   "id": "cc3c463e",
   "metadata": {
    "ExecuteTime": {
     "end_time": "2024-12-06T03:39:00.165565Z",
     "start_time": "2024-12-06T03:39:00.158582Z"
    }
   },
   "outputs": [
    {
     "data": {
      "text/plain": [
       "'<!DOCTYPE html>\\r\\n<html lang=\"en\">\\r\\n<head>\\r\\n    <meta charset=\"UTF-8\">\\r\\n<body>\\r\\n    <h1 class=\"greeting css\" id=\"text\">Hello, CSS</h1>\\r\\n    <h1 class=\"css\">Hi, CSS</h1>\\r\\n    <div id=\"subject\">subject 선택자 안의 내용</div>\\r\\n    <p>CSS 선택자는 다양한 곳에서 활용됩니다</p>\\r\\n    <div class=\"contents\">\\r\\n        선택자를 어떻게 작성하는냐에 따라\\r\\n        <span>다른<b>요소가 반환</b></span> 됩니다\\r\\n    </div>\\r\\n    <div>CSS 선택자는 다양한 곳에<b>활용</b>됩니다</div>\\r\\n</body>\\r\\n</html>\\r\\n'"
      ]
     },
     "execution_count": 9,
     "metadata": {},
     "output_type": "execute_result"
    }
   ],
   "source": [
    "response.text"
   ]
  },
  {
   "cell_type": "code",
   "execution_count": 10,
   "id": "c48748da",
   "metadata": {
    "ExecuteTime": {
     "end_time": "2024-12-06T03:47:30.189254Z",
     "start_time": "2024-12-06T03:47:30.183244Z"
    }
   },
   "outputs": [],
   "source": [
    "# html파싱\n",
    "from bs4 import BeautifulSoup\n",
    "soup = BeautifulSoup(response.content, # response.text\n",
    "                    \"html.parser\")\n",
    "# soup\n"
   ]
  },
  {
   "cell_type": "code",
   "execution_count": 12,
   "id": "022c6353",
   "metadata": {
    "ExecuteTime": {
     "end_time": "2024-12-06T03:56:51.725599Z",
     "start_time": "2024-12-06T03:56:51.717390Z"
    }
   },
   "outputs": [
    {
     "name": "stdout",
     "output_type": "stream",
     "text": [
      "el: <h1 class=\"greeting css\" id=\"text\">Hello, CSS</h1>\n",
      "el.text: Hello, CSS\n",
      "el.string: Hello, CSS\n",
      "el의 속성들: {'class': ['greeting', 'css'], 'id': 'text'}\n",
      "el의 class속성: ['greeting', 'css']\n",
      "el의 name: h1\n"
     ]
    }
   ],
   "source": [
    "# soup.select_one('선택자') : 해당 선택자 처음 하나만\n",
    "el = soup.select_one('h1') # 처음 나오는 h1태그 하나만\n",
    "print('el:',el)\n",
    "print('el.text:',el.text)\n",
    "print('el.string:',el.string)\n",
    "print('el의 속성들:',el.attrs)\n",
    "print('el의 class속성:',el.attrs['class']) # class 속성은 하나라도 list로 생성\n",
    "print('el의 name:',el.name)"
   ]
  },
  {
   "cell_type": "code",
   "execution_count": 16,
   "id": "8e69fdfc",
   "metadata": {
    "ExecuteTime": {
     "end_time": "2024-12-06T04:07:11.803191Z",
     "start_time": "2024-12-06T04:07:11.797092Z"
    }
   },
   "outputs": [
    {
     "name": "stdout",
     "output_type": "stream",
     "text": [
      "el: [<h1 class=\"greeting css\" id=\"text\">Hello, CSS</h1>, <h1 class=\"css\">Hi, CSS</h1>]\n",
      "el들의 text: [<h1 class=\"greeting css\" id=\"text\">Hello, CSS</h1>, <h1 class=\"css\">Hi, CSS</h1>]\n",
      "el들의 string : ['Hello, CSS', 'Hi, CSS']\n",
      "el들의 속성들 : [{'class': ['greeting', 'css'], 'id': 'text'}, {'class': ['css']}]\n",
      "el들의 class 속성 : [['greeting', 'css'], ['css']]\n"
     ]
    }
   ],
   "source": [
    "# soup.select('선택자') : 해당 선택자 모든 엘리먼트를 리스트로\n",
    "el = soup.select('h1')\n",
    "print('el:',el)\n",
    "print('el들의 text:',[e for e in el])\n",
    "print('el들의 string :', [e.string for e in el])\n",
    "print('el들의 속성들 :', [e.attrs for e in el])\n",
    "print('el들의 class 속성 :', [e.attrs['class'] for e in el])"
   ]
  },
  {
   "cell_type": "code",
   "execution_count": 18,
   "id": "9f7a598c",
   "metadata": {
    "ExecuteTime": {
     "end_time": "2024-12-06T04:14:33.276666Z",
     "start_time": "2024-12-06T04:14:33.267521Z"
    }
   },
   "outputs": [
    {
     "name": "stdout",
     "output_type": "stream",
     "text": [
      "모든 h1, span태그(select):\n",
      "[<h1 class=\"greeting css\" id=\"text\">Hello, CSS</h1>, <h1 class=\"css\">Hi, CSS</h1>, <span>다른<b>요소가 반환</b></span>]\n",
      "모든 h1, span태그(find_all):\n",
      "[<h1 class=\"greeting css\" id=\"text\">Hello, CSS</h1>, <h1 class=\"css\">Hi, CSS</h1>]\n",
      "select_one:\n",
      "<h1 class=\"greeting css\" id=\"text\">Hello, CSS</h1>\n",
      "find:\n",
      "<h1 class=\"greeting css\" id=\"text\">Hello, CSS</h1>\n",
      "find:\n",
      "[<h1 class=\"greeting css\" id=\"text\">Hello, CSS</h1>, <h1 class=\"css\">Hi, CSS</h1>]\n",
      "find:\n",
      "None\n"
     ]
    }
   ],
   "source": [
    "#select('선택자')와 find_all(태그)\n",
    "print('모든 h1, span태그(select):',soup.select('h1,span'),sep='\\n')\n",
    "print('모든 h1, span태그(find_all):',soup.find_all(['h1','span'],\n",
    "                                              class_=['css']),sep='\\n')\n",
    "#select_all('선택자')와 find(태그)\n",
    "print('select_one:', soup.select_one('h1.css'),sep='\\n')\n",
    "print('find:', soup.find('h1',class_='css'),sep='\\n')\n",
    "\n",
    "print('find:', soup.find_all('h1',class_='css'),sep='\\n')\n",
    "print('find:', soup.find('a',class_='css'),sep='\\n')"
   ]
  },
  {
   "cell_type": "markdown",
   "id": "f28aa2de",
   "metadata": {},
   "source": [
    "# 2절. 정적 웹 데이터 수집(정적 웹크롤링)\n",
    "## 2.1 request모듈(GET 요청) / urlib.request 모듈(urlopen)"
   ]
  },
  {
   "cell_type": "code",
   "execution_count": null,
   "id": "83757bbb",
   "metadata": {},
   "outputs": [],
   "source": [
    "# 크롤링 허용범위마다 사이트마다 ~/robots.txt에서 확인할 수 있습니다\n",
    "    # User-agent: 모든 크롤링을 허용(*), 지침을 적용할 클로러를 지정\n",
    "    # Allow,Disallow: 크롤링을 제한할 경로"
   ]
  },
  {
   "cell_type": "code",
   "execution_count": 23,
   "id": "d5d12ea3",
   "metadata": {
    "ExecuteTime": {
     "end_time": "2024-12-06T05:22:06.242814Z",
     "start_time": "2024-12-06T05:22:06.185503Z"
    }
   },
   "outputs": [
    {
     "data": {
      "text/plain": [
       "(<Response [200]>, 200)"
      ]
     },
     "execution_count": 23,
     "metadata": {},
     "output_type": "execute_result"
    }
   ],
   "source": [
    "# 방법1\n",
    "import requests\n",
    "response = requests.get('http://api.github.com')\n",
    "response, response.status_code"
   ]
  },
  {
   "cell_type": "code",
   "execution_count": 25,
   "id": "377f974b",
   "metadata": {
    "ExecuteTime": {
     "end_time": "2024-12-06T05:28:04.457190Z",
     "start_time": "2024-12-06T05:28:04.450529Z"
    }
   },
   "outputs": [
    {
     "data": {
      "text/plain": [
       "dict"
      ]
     },
     "execution_count": 25,
     "metadata": {},
     "output_type": "execute_result"
    }
   ],
   "source": [
    "jsondata = response.json()\n",
    "type(jsondata)"
   ]
  },
  {
   "cell_type": "code",
   "execution_count": 27,
   "id": "610e5de9",
   "metadata": {
    "ExecuteTime": {
     "end_time": "2024-12-06T05:31:13.977406Z",
     "start_time": "2024-12-06T05:31:13.722469Z"
    }
   },
   "outputs": [
    {
     "data": {
      "text/plain": [
       "200"
      ]
     },
     "execution_count": 27,
     "metadata": {},
     "output_type": "execute_result"
    }
   ],
   "source": [
    "# 방법2\n",
    "from urllib.request import urlopen\n",
    "response = urlopen('http://api.github.com')\n",
    "response.status"
   ]
  },
  {
   "cell_type": "markdown",
   "id": "4afaa174",
   "metadata": {},
   "source": [
    "# 2.2  BeautifulSoup 모듈을 활용 html 웹 데이터 수집\n",
    "### 1) 환율정보 가져오기(네이버금융>시장지표)\n",
    " * https://finance.naver.com/marketindex/"
   ]
  },
  {
   "cell_type": "code",
   "execution_count": 38,
   "id": "596906d1",
   "metadata": {
    "ExecuteTime": {
     "end_time": "2024-12-06T05:57:03.733184Z",
     "start_time": "2024-12-06T05:57:03.273509Z"
    }
   },
   "outputs": [
    {
     "data": {
      "text/plain": [
       "[1419.3,\n",
       " 946.93,\n",
       " 1500.7,\n",
       " 195.43,\n",
       " 150.44,\n",
       " 1.06,\n",
       " 1.28,\n",
       " 105.7,\n",
       " 68.3,\n",
       " 1644.05,\n",
       " 2648.4,\n",
       " 120302.62]"
      ]
     },
     "execution_count": 38,
     "metadata": {},
     "output_type": "execute_result"
    }
   ],
   "source": [
    "# 방법1\n",
    "import requests\n",
    "from bs4 import BeautifulSoup\n",
    "url = 'https://finance.naver.com/marketindex/'\n",
    "response=requests.get(url)\n",
    "soup = BeautifulSoup(response.content,'html.parser')\n",
    "price= soup.select('div.head_info> span.value')\n",
    "[round(float(''.join(p.text.split(','))),2) for p in price]\n",
    "[round(float(p.text.replace(',','')),2)for p in price]"
   ]
  },
  {
   "cell_type": "code",
   "execution_count": 39,
   "id": "936a56cb",
   "metadata": {
    "ExecuteTime": {
     "end_time": "2024-12-06T05:59:39.514037Z",
     "start_time": "2024-12-06T05:59:39.105324Z"
    }
   },
   "outputs": [],
   "source": [
    "# 방법2\n",
    "from urllib.request import urlopen\n",
    "url = 'https://finance.naver.com/marketindex/'\n",
    "response=urlopen(url)\n",
    "soup = BeautifulSoup(response,'html.parser')\n"
   ]
  },
  {
   "cell_type": "code",
   "execution_count": 40,
   "id": "660cd7bd",
   "metadata": {
    "ExecuteTime": {
     "end_time": "2024-12-06T05:59:46.863947Z",
     "start_time": "2024-12-06T05:59:46.848819Z"
    }
   },
   "outputs": [
    {
     "data": {
      "text/plain": [
       "[1419.0,\n",
       " 946.41,\n",
       " 1500.17,\n",
       " 195.36,\n",
       " 150.44,\n",
       " 1.06,\n",
       " 1.28,\n",
       " 105.7,\n",
       " 68.3,\n",
       " 1644.05,\n",
       " 2648.4,\n",
       " 120302.62]"
      ]
     },
     "execution_count": 40,
     "metadata": {},
     "output_type": "execute_result"
    }
   ],
   "source": [
    "price= soup.select('div.head_info> span.value')\n",
    "[round(float(''.join(p.text.split(','))),2) for p in price]\n",
    "[round(float(p.text.replace(',','')),2)for p in price]"
   ]
  },
  {
   "cell_type": "code",
   "execution_count": 43,
   "id": "5b2a647e",
   "metadata": {
    "ExecuteTime": {
     "end_time": "2024-12-06T06:17:16.197262Z",
     "start_time": "2024-12-06T06:17:16.185076Z"
    }
   },
   "outputs": [
    {
     "name": "stdout",
     "output_type": "stream",
     "text": [
      "미국 USD\t일본 JPY(100엔)\t유럽연합 EUR\t중국 CNY\t달러/일본 엔\t유로/달러\t영국 파운드/달러\t달러인덱스\tWTI\t휘발유\t국제 금\t국내 금\t"
     ]
    }
   ],
   "source": [
    "title = soup.select('h3.h_lst > span.blind')\n",
    "for t in title:\n",
    "    print(t.text,end='\\t')"
   ]
  },
  {
   "cell_type": "code",
   "execution_count": 49,
   "id": "17a4ff43",
   "metadata": {
    "ExecuteTime": {
     "end_time": "2024-12-06T06:27:12.445840Z",
     "start_time": "2024-12-06T06:27:12.432729Z"
    }
   },
   "outputs": [
    {
     "data": {
      "text/plain": [
       "['원', '원', '원', '원', '엔', '달러', '달러', '', '달러', '원', '달러', '원']"
      ]
     },
     "execution_count": 49,
     "metadata": {},
     "output_type": "execute_result"
    }
   ],
   "source": [
    "unit = soup.select('div.head_info > span > span.blind')\n",
    "unit = [u.text for u in unit]\n",
    "unit.insert(7,'')\n",
    "unit"
   ]
  },
  {
   "cell_type": "code",
   "execution_count": 50,
   "id": "22998c59",
   "metadata": {
    "ExecuteTime": {
     "end_time": "2024-12-06T06:28:16.316832Z",
     "start_time": "2024-12-06T06:28:16.304701Z"
    }
   },
   "outputs": [
    {
     "name": "stdout",
     "output_type": "stream",
     "text": [
      "상승\t상승\t상승\t상승\t하락\t상승\t상승\t하락\t하락\t상승\t하락\t상승\t"
     ]
    }
   ],
   "source": [
    "status = soup.select('div.head_info> span.blind')\n",
    "for idx in range(len(status)):\n",
    "    print(status[idx].text,end='\\t')"
   ]
  },
  {
   "cell_type": "code",
   "execution_count": 52,
   "id": "f3e95b70",
   "metadata": {
    "ExecuteTime": {
     "end_time": "2024-12-06T06:29:29.774757Z",
     "start_time": "2024-12-06T06:29:29.768553Z"
    }
   },
   "outputs": [
    {
     "data": {
      "text/plain": [
       "(12, 12, 12, 12)"
      ]
     },
     "execution_count": 52,
     "metadata": {},
     "output_type": "execute_result"
    }
   ],
   "source": [
    "len(title),len(price),len(unit),len(status)"
   ]
  },
  {
   "cell_type": "code",
   "execution_count": 53,
   "id": "27d250b1",
   "metadata": {
    "ExecuteTime": {
     "end_time": "2024-12-06T06:31:21.180983Z",
     "start_time": "2024-12-06T06:31:21.175994Z"
    }
   },
   "outputs": [
    {
     "name": "stdout",
     "output_type": "stream",
     "text": [
      "미국 USD:1,419.00 원 - 상승\n",
      "일본 JPY(100엔):946.41 원 - 상승\n",
      "유럽연합 EUR:1,500.17 원 - 상승\n",
      "중국 CNY:195.36 원 - 상승\n",
      "달러/일본 엔:150.4400 엔 - 하락\n",
      "유로/달러:1.0575 달러 - 상승\n",
      "영국 파운드/달러:1.2758 달러 - 상승\n",
      "달러인덱스:105.7000  - 하락\n",
      "WTI:68.3 달러 - 하락\n",
      "휘발유:1644.05 원 - 상승\n",
      "국제 금:2648.4 달러 - 하락\n",
      "국내 금:120302.62 원 - 상승\n"
     ]
    }
   ],
   "source": [
    "for idx in range(len(title)):\n",
    "    print(\"{}:{} {} - {}\".format(title[idx].text,price[idx].text,unit[idx],status[idx].text))"
   ]
  },
  {
   "cell_type": "code",
   "execution_count": 55,
   "id": "db4217a2",
   "metadata": {
    "ExecuteTime": {
     "end_time": "2024-12-06T06:33:33.822919Z",
     "start_time": "2024-12-06T06:33:33.816906Z"
    }
   },
   "outputs": [
    {
     "name": "stdout",
     "output_type": "stream",
     "text": [
      "미국 USD:1,419.00 원 - 상승\n",
      "일본 JPY(100엔):946.41 원 - 상승\n",
      "유럽연합 EUR:1,500.17 원 - 상승\n",
      "중국 CNY:195.36 원 - 상승\n",
      "달러/일본 엔:150.4400 엔 - 하락\n",
      "유로/달러:1.0575 달러 - 상승\n",
      "영국 파운드/달러:1.2758 달러 - 상승\n",
      "달러인덱스:105.7000  - 하락\n",
      "WTI:68.3 달러 - 하락\n",
      "휘발유:1644.05 원 - 상승\n",
      "국제 금:2648.4 달러 - 하락\n",
      "국내 금:120302.62 원 - 상승\n"
     ]
    }
   ],
   "source": [
    "for t,p,u,s in zip(title,price,unit,status):\n",
    "    print(\"{}:{} {} - {}\".format(t.text,p.text,u,s.text))"
   ]
  },
  {
   "cell_type": "markdown",
   "id": "81395ca4",
   "metadata": {},
   "source": [
    "### 2) 이번주 로또번호 출력\n",
    "- https://dhlottery.co.kr/gameResult.do?method=byWin\n",
    "- 1148회 (2024년 11월 20일 추천)\n",
    "당첨번호 : [3,6,13,15,16,22]\n",
    "보너스번호 : 32"
   ]
  },
  {
   "cell_type": "code",
   "execution_count": 81,
   "id": "9c9f9ac0",
   "metadata": {
    "ExecuteTime": {
     "end_time": "2024-12-06T07:14:38.064359Z",
     "start_time": "2024-12-06T07:14:37.745470Z"
    }
   },
   "outputs": [],
   "source": [
    "# 방법2\n",
    "from urllib.request import urlopen\n",
    "url = 'https://dhlottery.co.kr/gameResult.do?method=byWin'\n",
    "response=urlopen(url)\n",
    "soup = BeautifulSoup(response,'html.parser')\n"
   ]
  },
  {
   "cell_type": "code",
   "execution_count": 95,
   "id": "a89b5c13",
   "metadata": {
    "ExecuteTime": {
     "end_time": "2024-12-06T07:33:59.778407Z",
     "start_time": "2024-12-06T07:33:59.758367Z"
    }
   },
   "outputs": [
    {
     "name": "stdout",
     "output_type": "stream",
     "text": [
      "1148회\n",
      "1148회 (2024년 11월 30일 추첨)\n",
      "로또번호 : [3, 6, 13, 15, 16, 22]\n",
      "보너스 번호: 32\n"
     ]
    }
   ],
   "source": [
    "# times = soup.select_one('div.win_result strong').text # 1148회\n",
    "winresult= soup.find('div',class_='win_result')\n",
    "times = winresult.find('strong').text\n",
    "date = winresult.find('p',class_='desc').text\n",
    "print(times)\n",
    "# date = soup.select_one('div.win_result p.desc').text # > 를 쓰고싶으면 바로 밑에 있는 자식이어야한다\n",
    "print(times,date)\n",
    "# lotto_number = soup.select('div.num.win span')\n",
    "win = soup.find('div',class_=['win'])\n",
    "lotto_numbers= win.find_all('span')\n",
    "print('로또번호 :',[int(lotto.text) for lotto in lotto_numbers])\n",
    "\n",
    "# bonus_number = soup.select_one('div.num.bonus span').text\n",
    "bonus = soup.find('div',class_='bonus')\n",
    "bonus_numbers = bonus.find('span').text\n",
    "print('보너스 번호:',bonus_number)"
   ]
  },
  {
   "cell_type": "markdown",
   "id": "f06b8e38",
   "metadata": {},
   "source": [
    "### 3) 다음 검색 리스트 가져오기\n",
    "```\n",
    "no title        href\n",
    "- 비트코인 뉴스 - https://search.daum.net/search?w=news&nil_search=btn&DA=NTB&enc=utf8&cluster=y&cluster_page=1&q=%EB%B9%84%ED%8A%B8%EC%BD%94%EC%9D%B8\n",
    "- \"비트코인 8800만원에 주운 사람이 승자\"…한밤 불태운 코인 투자자들 - https://v.daum.net/v/20241204113454203\n",
    "- [속보] 비상계엄 선포에 비트코인 '쇼크'…30% 급락 https://v.daum.net/v/20241203231205730\n",
    "\n",
    "```"
   ]
  },
  {
   "cell_type": "code",
   "execution_count": 108,
   "id": "d00efb6c",
   "metadata": {
    "ExecuteTime": {
     "end_time": "2024-12-06T08:18:35.585257Z",
     "start_time": "2024-12-06T08:18:35.205880Z"
    }
   },
   "outputs": [
    {
     "data": {
      "text/html": [
       "<div>\n",
       "<style scoped>\n",
       "    .dataframe tbody tr th:only-of-type {\n",
       "        vertical-align: middle;\n",
       "    }\n",
       "\n",
       "    .dataframe tbody tr th {\n",
       "        vertical-align: top;\n",
       "    }\n",
       "\n",
       "    .dataframe thead th {\n",
       "        text-align: right;\n",
       "    }\n",
       "</style>\n",
       "<table border=\"1\" class=\"dataframe\">\n",
       "  <thead>\n",
       "    <tr style=\"text-align: right;\">\n",
       "      <th></th>\n",
       "      <th>no</th>\n",
       "      <th>title</th>\n",
       "      <th>link</th>\n",
       "    </tr>\n",
       "  </thead>\n",
       "  <tbody>\n",
       "    <tr>\n",
       "      <th>0</th>\n",
       "      <td>0</td>\n",
       "      <td>\"비트코인 8800만원에 주운 사람이 승자\"…한밤 불태운 코인 투자자들</td>\n",
       "      <td>http://v.daum.net/v/20241204113454203</td>\n",
       "    </tr>\n",
       "    <tr>\n",
       "      <th>1</th>\n",
       "      <td>1</td>\n",
       "      <td>[속보] 비상계엄 선포에 비트코인 '쇼크'…30% 급락</td>\n",
       "      <td>http://v.daum.net/v/20241203231205730</td>\n",
       "    </tr>\n",
       "    <tr>\n",
       "      <th>2</th>\n",
       "      <td>2</td>\n",
       "      <td>10만 달러 찍은 비트코인… 더 오를까, 내릴까</td>\n",
       "      <td>http://v.daum.net/v/20241206151520972</td>\n",
       "    </tr>\n",
       "    <tr>\n",
       "      <th>3</th>\n",
       "      <td>3</td>\n",
       "      <td>비트코인 갑론을박...\"20만달러 vs 단기조정\"</td>\n",
       "      <td>http://v.daum.net/v/20241206103251287</td>\n",
       "    </tr>\n",
       "    <tr>\n",
       "      <th>4</th>\n",
       "      <td>4</td>\n",
       "      <td>'10만 달러' 넘어선 비트코인...\"고점 아직\"vs\"과열\"</td>\n",
       "      <td>http://v.daum.net/v/20241206135550190</td>\n",
       "    </tr>\n",
       "    <tr>\n",
       "      <th>5</th>\n",
       "      <td>5</td>\n",
       "      <td>비트코인, 다시 10만 달러 붕괴…향후 전망은?</td>\n",
       "      <td>http://v.daum.net/v/20241206090709632</td>\n",
       "    </tr>\n",
       "    <tr>\n",
       "      <th>6</th>\n",
       "      <td>6</td>\n",
       "      <td>'10만 달러' 넘은 비트코인, 어디까지 갈까 [글로벌 뉴스픽]</td>\n",
       "      <td>http://v.daum.net/v/20241206062101852</td>\n",
       "    </tr>\n",
       "    <tr>\n",
       "      <th>7</th>\n",
       "      <td>7</td>\n",
       "      <td>‘10만 돌파’ 비트코인, 금 대체한다...번스타인 주장</td>\n",
       "      <td>http://v.daum.net/v/20241206163907954</td>\n",
       "    </tr>\n",
       "    <tr>\n",
       "      <th>8</th>\n",
       "      <td>8</td>\n",
       "      <td>비트코인, 세계 7위 자산 등극[엠블록레터]</td>\n",
       "      <td>http://v.daum.net/v/20241206161800233</td>\n",
       "    </tr>\n",
       "    <tr>\n",
       "      <th>9</th>\n",
       "      <td>9</td>\n",
       "      <td>꿈의 '10만달러' 넘긴 비트코인…얼마나 더 오를까</td>\n",
       "      <td>http://v.daum.net/v/20241206070009297</td>\n",
       "    </tr>\n",
       "  </tbody>\n",
       "</table>\n",
       "</div>"
      ],
      "text/plain": [
       "   no                                      title  \\\n",
       "0   0   \"비트코인 8800만원에 주운 사람이 승자\"…한밤 불태운 코인 투자자들    \n",
       "1   1            [속보] 비상계엄 선포에 비트코인 '쇼크'…30% 급락    \n",
       "2   2                10만 달러 찍은 비트코인… 더 오를까, 내릴까    \n",
       "3   3               비트코인 갑론을박...\"20만달러 vs 단기조정\"    \n",
       "4   4         '10만 달러' 넘어선 비트코인...\"고점 아직\"vs\"과열\"    \n",
       "5   5                비트코인, 다시 10만 달러 붕괴…향후 전망은?    \n",
       "6   6       '10만 달러' 넘은 비트코인, 어디까지 갈까 [글로벌 뉴스픽]    \n",
       "7   7           ‘10만 돌파’ 비트코인, 금 대체한다...번스타인 주장    \n",
       "8   8                  비트코인, 세계 7위 자산 등극[엠블록레터]    \n",
       "9   9              꿈의 '10만달러' 넘긴 비트코인…얼마나 더 오를까    \n",
       "\n",
       "                                    link  \n",
       "0  http://v.daum.net/v/20241204113454203  \n",
       "1  http://v.daum.net/v/20241203231205730  \n",
       "2  http://v.daum.net/v/20241206151520972  \n",
       "3  http://v.daum.net/v/20241206103251287  \n",
       "4  http://v.daum.net/v/20241206135550190  \n",
       "5  http://v.daum.net/v/20241206090709632  \n",
       "6  http://v.daum.net/v/20241206062101852  \n",
       "7  http://v.daum.net/v/20241206163907954  \n",
       "8  http://v.daum.net/v/20241206161800233  \n",
       "9  http://v.daum.net/v/20241206070009297  "
      ]
     },
     "execution_count": 108,
     "metadata": {},
     "output_type": "execute_result"
    }
   ],
   "source": [
    "import requests\n",
    "from bs4 import BeautifulSoup\n",
    "url ='https://search.daum.net/search?w=news&nil_search=btn&DA=NTB&enc=utf8&cluster=y&cluster_page=1&q=%EB%B9%84%ED%8A%B8%EC%BD%94%EC%9D%B8'\n",
    "response = requests.get(url)\n",
    "soup = BeautifulSoup(response.text,\"html.parser\")\n",
    "items_find_list=[] # 검색한 결과를 담을 dict 리스트\n",
    "items_el = soup.select('div.item-title > strong.tit-g > a')\n",
    "for idx, item in enumerate(items_el):\n",
    "    items_find_list.append({'no':idx,\n",
    "                           'title':item.text,\n",
    "                           'link':item.attrs['href']})\n",
    "\n",
    "items_find_list\n",
    "import pandas as pd\n",
    "pd.DataFrame(items_find_list)\n"
   ]
  },
  {
   "cell_type": "code",
   "execution_count": 112,
   "id": "25c0ddf2",
   "metadata": {
    "ExecuteTime": {
     "end_time": "2024-12-06T08:24:49.541798Z",
     "start_time": "2024-12-06T08:24:49.155893Z"
    }
   },
   "outputs": [
    {
     "data": {
      "text/html": [
       "<div>\n",
       "<style scoped>\n",
       "    .dataframe tbody tr th:only-of-type {\n",
       "        vertical-align: middle;\n",
       "    }\n",
       "\n",
       "    .dataframe tbody tr th {\n",
       "        vertical-align: top;\n",
       "    }\n",
       "\n",
       "    .dataframe thead th {\n",
       "        text-align: right;\n",
       "    }\n",
       "</style>\n",
       "<table border=\"1\" class=\"dataframe\">\n",
       "  <thead>\n",
       "    <tr style=\"text-align: right;\">\n",
       "      <th></th>\n",
       "      <th>no</th>\n",
       "      <th>title</th>\n",
       "      <th>link</th>\n",
       "    </tr>\n",
       "  </thead>\n",
       "  <tbody>\n",
       "    <tr>\n",
       "      <th>0</th>\n",
       "      <td>0</td>\n",
       "      <td>'10만 달러' 넘어선 비트코인...\"고점 아직\"vs\"과열\"</td>\n",
       "      <td>http://v.daum.net/v/20241206135550190</td>\n",
       "    </tr>\n",
       "    <tr>\n",
       "      <th>1</th>\n",
       "      <td>1</td>\n",
       "      <td>트럼프 “비트코인 10만 달러, 천만에요”</td>\n",
       "      <td>http://v.daum.net/v/20241205230018960</td>\n",
       "    </tr>\n",
       "    <tr>\n",
       "      <th>2</th>\n",
       "      <td>2</td>\n",
       "      <td>비트코인, 차익 실현 매물에 5% 급락…1억3700만원대</td>\n",
       "      <td>http://v.daum.net/v/20241206092917378</td>\n",
       "    </tr>\n",
       "    <tr>\n",
       "      <th>3</th>\n",
       "      <td>3</td>\n",
       "      <td>비트코인 5%↑ 10만달러 돌파…급등 이유 2가지(종합2)</td>\n",
       "      <td>http://v.daum.net/v/20241205122727799</td>\n",
       "    </tr>\n",
       "    <tr>\n",
       "      <th>4</th>\n",
       "      <td>4</td>\n",
       "      <td>10만 달러 찍은 비트코인… 더 오를까, 내릴까</td>\n",
       "      <td>http://v.daum.net/v/20241206151520972</td>\n",
       "    </tr>\n",
       "    <tr>\n",
       "      <th>5</th>\n",
       "      <td>5</td>\n",
       "      <td>비트코인 갑론을박...\"20만달러 vs 단기조정\"</td>\n",
       "      <td>http://v.daum.net/v/20241206103251287</td>\n",
       "    </tr>\n",
       "    <tr>\n",
       "      <th>6</th>\n",
       "      <td>6</td>\n",
       "      <td>비트코인, 다시 10만 달러 붕괴…향후 전망은?</td>\n",
       "      <td>http://v.daum.net/v/20241206090709632</td>\n",
       "    </tr>\n",
       "    <tr>\n",
       "      <th>7</th>\n",
       "      <td>7</td>\n",
       "      <td>'10만 달러' 넘은 비트코인, 어디까지 갈까 [글로벌 뉴스픽]</td>\n",
       "      <td>http://v.daum.net/v/20241206062101852</td>\n",
       "    </tr>\n",
       "    <tr>\n",
       "      <th>8</th>\n",
       "      <td>8</td>\n",
       "      <td>‘10만 돌파’ 비트코인, 금 대체한다...번스타인 주장</td>\n",
       "      <td>http://v.daum.net/v/20241206163907954</td>\n",
       "    </tr>\n",
       "    <tr>\n",
       "      <th>9</th>\n",
       "      <td>9</td>\n",
       "      <td>비트코인, 세계 7위 자산 등극[엠블록레터]</td>\n",
       "      <td>http://v.daum.net/v/20241206161800233</td>\n",
       "    </tr>\n",
       "  </tbody>\n",
       "</table>\n",
       "</div>"
      ],
      "text/plain": [
       "   no                                  title  \\\n",
       "0   0     '10만 달러' 넘어선 비트코인...\"고점 아직\"vs\"과열\"    \n",
       "1   1               트럼프 “비트코인 10만 달러, 천만에요”    \n",
       "2   2       비트코인, 차익 실현 매물에 5% 급락…1억3700만원대    \n",
       "3   3      비트코인 5%↑ 10만달러 돌파…급등 이유 2가지(종합2)    \n",
       "4   4            10만 달러 찍은 비트코인… 더 오를까, 내릴까    \n",
       "5   5           비트코인 갑론을박...\"20만달러 vs 단기조정\"    \n",
       "6   6            비트코인, 다시 10만 달러 붕괴…향후 전망은?    \n",
       "7   7   '10만 달러' 넘은 비트코인, 어디까지 갈까 [글로벌 뉴스픽]    \n",
       "8   8       ‘10만 돌파’ 비트코인, 금 대체한다...번스타인 주장    \n",
       "9   9              비트코인, 세계 7위 자산 등극[엠블록레터]    \n",
       "\n",
       "                                    link  \n",
       "0  http://v.daum.net/v/20241206135550190  \n",
       "1  http://v.daum.net/v/20241205230018960  \n",
       "2  http://v.daum.net/v/20241206092917378  \n",
       "3  http://v.daum.net/v/20241205122727799  \n",
       "4  http://v.daum.net/v/20241206151520972  \n",
       "5  http://v.daum.net/v/20241206103251287  \n",
       "6  http://v.daum.net/v/20241206090709632  \n",
       "7  http://v.daum.net/v/20241206062101852  \n",
       "8  http://v.daum.net/v/20241206163907954  \n",
       "9  http://v.daum.net/v/20241206161800233  "
      ]
     },
     "execution_count": 112,
     "metadata": {},
     "output_type": "execute_result"
    }
   ],
   "source": [
    "import requests\n",
    "from bs4 import BeautifulSoup\n",
    "url ='https://search.daum.net/search?w=news&nil_search=btn&DA=NTB&enc=utf8&cluster=y&cluster_page=1&q=%EB%B9%84%ED%8A%B8%EC%BD%94%EC%9D%B8'\n",
    "response = requests.get(url)\n",
    "soup = BeautifulSoup(response.text,\"html.parser\")\n",
    "items_find_list=[] # 검색한 결과를 담을 dict 리스트\n",
    "items_el = soup.select('div.item-title > strong.tit-g > a')\n",
    "for idx, item in enumerate(items_el):\n",
    "    items_find_list.append([idx,item.text,item.attrs['href']])\n",
    "\n",
    "#print(items_find_list)\n",
    "import pandas as pd\n",
    "pd.DataFrame(items_find_list,columns=['no','title','link'])\n"
   ]
  },
  {
   "cell_type": "code",
   "execution_count": 123,
   "id": "f604af07",
   "metadata": {
    "ExecuteTime": {
     "end_time": "2024-12-06T08:38:10.136444Z",
     "start_time": "2024-12-06T08:38:10.116655Z"
    }
   },
   "outputs": [
    {
     "data": {
      "text/html": [
       "<div>\n",
       "<style scoped>\n",
       "    .dataframe tbody tr th:only-of-type {\n",
       "        vertical-align: middle;\n",
       "    }\n",
       "\n",
       "    .dataframe tbody tr th {\n",
       "        vertical-align: top;\n",
       "    }\n",
       "\n",
       "    .dataframe thead th {\n",
       "        text-align: right;\n",
       "    }\n",
       "</style>\n",
       "<table border=\"1\" class=\"dataframe\">\n",
       "  <thead>\n",
       "    <tr style=\"text-align: right;\">\n",
       "      <th></th>\n",
       "      <th>no</th>\n",
       "      <th>title</th>\n",
       "      <th>link</th>\n",
       "    </tr>\n",
       "  </thead>\n",
       "  <tbody>\n",
       "    <tr>\n",
       "      <th>0</th>\n",
       "      <td>0</td>\n",
       "      <td>'10만 달러' 넘어선 비트코인...\"고점 아직\"vs\"과열\"</td>\n",
       "      <td>http://v.daum.net/v/20241206135550190</td>\n",
       "    </tr>\n",
       "    <tr>\n",
       "      <th>1</th>\n",
       "      <td>1</td>\n",
       "      <td>트럼프 “비트코인 10만 달러, 천만에요”</td>\n",
       "      <td>http://v.daum.net/v/20241205230018960</td>\n",
       "    </tr>\n",
       "    <tr>\n",
       "      <th>2</th>\n",
       "      <td>2</td>\n",
       "      <td>비트코인, 차익 실현 매물에 5% 급락…1억3700만원대</td>\n",
       "      <td>http://v.daum.net/v/20241206092917378</td>\n",
       "    </tr>\n",
       "    <tr>\n",
       "      <th>3</th>\n",
       "      <td>3</td>\n",
       "      <td>비트코인 5%↑ 10만달러 돌파…급등 이유 2가지(종합2)</td>\n",
       "      <td>http://v.daum.net/v/20241205122727799</td>\n",
       "    </tr>\n",
       "    <tr>\n",
       "      <th>4</th>\n",
       "      <td>4</td>\n",
       "      <td>10만 달러 찍은 비트코인… 더 오를까, 내릴까</td>\n",
       "      <td>http://v.daum.net/v/20241206151520972</td>\n",
       "    </tr>\n",
       "    <tr>\n",
       "      <th>5</th>\n",
       "      <td>5</td>\n",
       "      <td>비트코인 갑론을박...\"20만달러 vs 단기조정\"</td>\n",
       "      <td>http://v.daum.net/v/20241206103251287</td>\n",
       "    </tr>\n",
       "    <tr>\n",
       "      <th>6</th>\n",
       "      <td>6</td>\n",
       "      <td>비트코인, 다시 10만 달러 붕괴…향후 전망은?</td>\n",
       "      <td>http://v.daum.net/v/20241206090709632</td>\n",
       "    </tr>\n",
       "    <tr>\n",
       "      <th>7</th>\n",
       "      <td>7</td>\n",
       "      <td>'10만 달러' 넘은 비트코인, 어디까지 갈까 [글로벌 뉴스픽]</td>\n",
       "      <td>http://v.daum.net/v/20241206062101852</td>\n",
       "    </tr>\n",
       "    <tr>\n",
       "      <th>8</th>\n",
       "      <td>8</td>\n",
       "      <td>‘10만 돌파’ 비트코인, 금 대체한다...번스타인 주장</td>\n",
       "      <td>http://v.daum.net/v/20241206163907954</td>\n",
       "    </tr>\n",
       "    <tr>\n",
       "      <th>9</th>\n",
       "      <td>9</td>\n",
       "      <td>비트코인, 세계 7위 자산 등극[엠블록레터]</td>\n",
       "      <td>http://v.daum.net/v/20241206161800233</td>\n",
       "    </tr>\n",
       "  </tbody>\n",
       "</table>\n",
       "</div>"
      ],
      "text/plain": [
       "   no                                  title  \\\n",
       "0   0     '10만 달러' 넘어선 비트코인...\"고점 아직\"vs\"과열\"    \n",
       "1   1               트럼프 “비트코인 10만 달러, 천만에요”    \n",
       "2   2       비트코인, 차익 실현 매물에 5% 급락…1억3700만원대    \n",
       "3   3      비트코인 5%↑ 10만달러 돌파…급등 이유 2가지(종합2)    \n",
       "4   4            10만 달러 찍은 비트코인… 더 오를까, 내릴까    \n",
       "5   5           비트코인 갑론을박...\"20만달러 vs 단기조정\"    \n",
       "6   6            비트코인, 다시 10만 달러 붕괴…향후 전망은?    \n",
       "7   7   '10만 달러' 넘은 비트코인, 어디까지 갈까 [글로벌 뉴스픽]    \n",
       "8   8       ‘10만 돌파’ 비트코인, 금 대체한다...번스타인 주장    \n",
       "9   9              비트코인, 세계 7위 자산 등극[엠블록레터]    \n",
       "\n",
       "                                    link  \n",
       "0  http://v.daum.net/v/20241206135550190  \n",
       "1  http://v.daum.net/v/20241205230018960  \n",
       "2  http://v.daum.net/v/20241206092917378  \n",
       "3  http://v.daum.net/v/20241205122727799  \n",
       "4  http://v.daum.net/v/20241206151520972  \n",
       "5  http://v.daum.net/v/20241206103251287  \n",
       "6  http://v.daum.net/v/20241206090709632  \n",
       "7  http://v.daum.net/v/20241206062101852  \n",
       "8  http://v.daum.net/v/20241206163907954  \n",
       "9  http://v.daum.net/v/20241206161800233  "
      ]
     },
     "execution_count": 123,
     "metadata": {},
     "output_type": "execute_result"
    }
   ],
   "source": [
    "items_find_list=[] # 검색한 결과를 담을 dict 리스트('div.item-title > strong.tit-g > a')\n",
    "item_titles = soup.find_all('div',class_='item-title')\n",
    "\n",
    "for idx, item in enumerate(item_titles):\n",
    "    strong = item.find('strong')\n",
    "    if strong:\n",
    "        a = strong.find('a')\n",
    "        items_find_list.append([idx, a.text,a.attrs['href']])\n",
    "pd.DataFrame(items_find_list, columns=['no','title','link'])        \n",
    "\n"
   ]
  },
  {
   "cell_type": "code",
   "execution_count": 13,
   "id": "e9453862",
   "metadata": {
    "ExecuteTime": {
     "end_time": "2024-12-09T01:51:38.727474Z",
     "start_time": "2024-12-09T01:51:38.720453Z"
    }
   },
   "outputs": [],
   "source": [
    "# 다음 검색 (원하는 키워드를 원하는 페이지 수 만큼)\n",
    "import requests\n",
    "from bs4 import BeautifulSoup\n",
    "import time\n",
    "import pandas as pd\n",
    "# print 하는 함수\n",
    "def collect_list(keyword, page):\n",
    "    '다음 검색을 keyword로 한 결과를 출력 '\n",
    "#   url = \"https://search.daum.net/search?w=news&nil_search=btn&DA=NTB&enc=utf8&cluster=y&cluster_page=1&q={}&p={}\".format(keyword,page)\n",
    "#   response = requests.get(url)\n",
    "    url = \"https://search.daum.net/search?w=news&nil_search=btn&DA=NTB&enc=utf8&cluster=y&cluster_y\"\n",
    "    response = requests.get(url,params = {'q':keyword,'p':page})\n",
    "    soup = BeautifulSoup(response.text,\"html.parser\")\n",
    "    items_find_list=[] # 검색한 결과를 담을 dict 리스트('div.item-title > strong.tit-g > a')\n",
    "    item_titles = soup.find_all('div',class_='item-title')\n",
    "\n",
    "    for idx, item in enumerate(item_titles):\n",
    "        strong = item.find('strong')\n",
    "        if strong:\n",
    "            a = strong.find('a')\n",
    "            items_find_list.append([(page-1)*10+idx+1, a.text,a.attrs['href']])\n",
    "            print((page-1)*10+idx, a.text,a['href'])\n",
    "\n"
   ]
  },
  {
   "cell_type": "code",
   "execution_count": 3,
   "id": "b38b613a",
   "metadata": {
    "ExecuteTime": {
     "end_time": "2024-12-09T01:37:49.783363Z",
     "start_time": "2024-12-09T01:37:49.375586Z"
    }
   },
   "outputs": [
    {
     "data": {
      "text/plain": [
       "[[1,\n",
       "  ' 에스파 닝닝, 워너비 청바지 핏..연일 리즈 찍는 비주얼 [스타IN★] ',\n",
       "  'http://v.daum.net/v/20241208001414598'],\n",
       " [2,\n",
       "  ' 56세 채시라, 흰티+청바지핏 20대 뺨쳐‥평생이 예쁘네 ',\n",
       "  'http://v.daum.net/v/20241205102113139'],\n",
       " [3,\n",
       "  \" 힙라인 美쳤다...'골프 여신' 유현주, 청바지 입고 뽐낸 '공격적 뒤태' \",\n",
       "  'http://v.daum.net/v/20241208200005828'],\n",
       " [4,\n",
       "  ' 이시영, 얼어죽어도 美! 폭설 속 찢어진 청바지에 돼지코 신발로 시선 강탈! ',\n",
       "  'http://v.daum.net/v/20241127170304793'],\n",
       " [5,\n",
       "  \" 56세 채시라, 흰 티에 청바지만 입어도 완벽… '데님 여신' 귀환 \",\n",
       "  'http://v.daum.net/v/20241206205810264'],\n",
       " [6,\n",
       "  ' ‘미스쓰리랑’ 김소연, 박상민과 ‘청바지 아가씨’ 즉석 화음 ',\n",
       "  'http://v.daum.net/v/20241129012015847'],\n",
       " [7, ' 50대의 흰티·청바지, 채시라 걸그룹 몸매 인증 ', 'http://v.daum.net/v/20241206020014186'],\n",
       " [8,\n",
       "  ' 서주경, 전성기 파격 패션 “몸매 예뻐 청바지 오픈” (퍼펙트)[결정적장면] ',\n",
       "  'http://v.daum.net/v/20241128060836398'],\n",
       " [9,\n",
       "  ' 채시라, 흰티+청바지 완벽 소화…50대 나이 안 믿기는 몸매 [MD★스타] ',\n",
       "  'http://v.daum.net/v/20241206162024306'],\n",
       " [10,\n",
       "  ' 크리스탈 ‘청바지에 가디건만 툭 걸쳐도 예쁨 완성’[포토엔HD] ',\n",
       "  'http://v.daum.net/v/20241203100807187']]"
      ]
     },
     "execution_count": 3,
     "metadata": {},
     "output_type": "execute_result"
    }
   ],
   "source": [
    "collect_list('청바지',1)"
   ]
  },
  {
   "cell_type": "code",
   "execution_count": 17,
   "id": "c76c94de",
   "metadata": {
    "ExecuteTime": {
     "end_time": "2024-12-09T01:53:09.173833Z",
     "start_time": "2024-12-09T01:53:01.135940Z"
    }
   },
   "outputs": [
    {
     "name": "stdout",
     "output_type": "stream",
     "text": [
      " 청바지 검색결과입니다\n",
      "0  에스파 닝닝, 워너비 청바지 핏..연일 리즈 찍는 비주얼 [스타IN★]  http://v.daum.net/v/20241208001414598\n",
      "1  56세 채시라, 흰티+청바지핏 20대 뺨쳐‥평생이 예쁘네  http://v.daum.net/v/20241205102113139\n",
      "2  힙라인 美쳤다...'골프 여신' 유현주, 청바지 입고 뽐낸 '공격적 뒤태'  http://v.daum.net/v/20241208200005828\n",
      "3  이시영, 얼어죽어도 美! 폭설 속 찢어진 청바지에 돼지코 신발로 시선 강탈!  http://v.daum.net/v/20241127170304793\n",
      "4  56세 채시라, 흰 티에 청바지만 입어도 완벽… '데님 여신' 귀환  http://v.daum.net/v/20241206205810264\n",
      "5  ‘미스쓰리랑’ 김소연, 박상민과 ‘청바지 아가씨’ 즉석 화음  http://v.daum.net/v/20241129012015847\n",
      "6  50대의 흰티·청바지, 채시라 걸그룹 몸매 인증  http://v.daum.net/v/20241206020014186\n",
      "7  서주경, 전성기 파격 패션 “몸매 예뻐 청바지 오픈” (퍼펙트)[결정적장면]  http://v.daum.net/v/20241128060836398\n",
      "8  채시라, 흰티+청바지 완벽 소화…50대 나이 안 믿기는 몸매 [MD★스타]  http://v.daum.net/v/20241206162024306\n",
      "9  크리스탈 ‘청바지에 가디건만 툭 걸쳐도 예쁨 완성’[포토엔HD]  http://v.daum.net/v/20241203100807187\n",
      "10  집에 굴러다니는 청바지 하나로 리사처럼 멋 내는 법  http://v.daum.net/v/20241127172605719\n",
      "11  서주경, 원조 섹시스타? 청바지 골반에 걸치고 당돌했던 패션(퍼펙트 라이프)  http://v.daum.net/v/20241127153650717\n",
      "12  고우리 ‘청바지가 잘 어울려’ [MK포토]  http://v.daum.net/v/20241205164814052\n",
      "13  [ET포토] 베이비몬스터 아현, '셔츠에 청바지면 완벽'  http://v.daum.net/v/20241204153708872\n",
      "14  제주서 청바지에 오리발 낀 시신 발견돼…실종 모터보트 선장 추정 \"확인 중\"  http://v.daum.net/v/20241124142017794\n",
      "15  대구시행복진흥원, 2024 청바지(청년이 바라는 지금 가족) 아카데미 발대식 개최  http://v.daum.net/v/20241109214942252\n",
      "16  미스전남 진 이하정 '청바지가 잘 어울리는 여자' [포토]  http://v.daum.net/v/20241205173202831\n",
      "17  ‘美 언더아머’ 가방에 청바지 입은 北학생… 러시아 유튜버가 포착한 평양의 모습  http://v.daum.net/v/20241129115100297\n",
      "18  김태리, 흰티+청바지 입은 정년이‥시크해도 예쁘네  http://v.daum.net/v/20241106084401512\n",
      "19  [美대선 D-1] 청바지 입은 해리스, 미화원 조끼 걸친 트럼프…패션 필살기는  http://v.daum.net/v/20241104162858090\n",
      "20  해리스는 청바지·트럼프는 미화원 조끼…패션으로 읽는 美 대선  http://v.daum.net/v/20241105233634359\n",
      "21  트럼프의 앞치마 vs 해리스의 청바지…‘서민 소통 상징’으로 패션정치 대결 [박영실의 이미지 브랜딩]  http://v.daum.net/v/20241103060502246\n",
      "22  김지원, 청바지에 숏패딩만 입어도 청순‥입술 쭉 애교는 덤  http://v.daum.net/v/20241120155408078\n",
      "23  가죽재킷·청바지 입은 '힙한' 비올레타가 온다…'라 트라비아타'  http://v.daum.net/v/20241111092157682\n",
      "24  ‘마이큐♥’ 김나영, 애들 없이 청바지만? ‘수영복 벗고 드러난 완벽 핏’  http://v.daum.net/v/20241105104509753\n",
      "25  홍주연 아나 슬리퍼+청바지 출근룩에 엄지인 경악 “업무 방해 돼”(당나귀 귀)  http://v.daum.net/v/20241110175438302\n",
      "26  강지영 ‘청바지 위에 청치마, 유일무이한 청청패션으로 극장 나들이’ [틀린그림찾기]  http://v.daum.net/v/20241115055701333\n",
      "27  ‘청바지 입은 내가 주인공’···순천시 해룡면 청바지 축제 개최  http://v.daum.net/v/20241016164702070\n",
      "28  수영강습 갔던 화성 여대생 주검으로…'정액 묻은 청바지'가 사라졌다  http://v.daum.net/v/20241027053149482\n",
      "29  효민의 패션은 거꾸로 간다! 코트는 ‘이불’, 청바지는 ‘방석’… 빈티지의 반란  http://v.daum.net/v/20241031081804118\n",
      " 닭가슴살 검색결과입니다\n",
      "0  닭가슴살 전문 굽네몰, '연말결산' 프로모션…최대 72% 할인  http://v.daum.net/v/20241209081510567\n",
      "1  ‘대장이 반찬’ 김대호, 이장우 닭가슴살 반찬에 “천재”  http://v.daum.net/v/20241201144503186\n",
      "2  \"닭가슴살 '단백질' 믿고 주문했는데…\" 배신 당한 다이어터들  http://v.daum.net/v/20240926092302756\n",
      "3  허경환, 27억 사기 피해…\"닭가슴살 사업 때, 이후로 사람 안 믿어\"  http://v.daum.net/v/20241126055714368\n",
      "4  허닭, 프로야구 전준우 선수 닭가슴살 협찬  http://v.daum.net/v/20241118114700286\n",
      "5  아들조차 외면한 정지선 셰프의 닭가슴살 요리…백종원 “엄마가 정지선인데!” 경악  http://v.daum.net/v/20241108222401781\n",
      "6  사조대림, 촉촉한 양념 닭가슴살 ‘소스에 퐁닭’ 3종 출시  http://v.daum.net/v/20241129091231041\n",
      "7  굽네몰, ‘2024년 연말결산 특가’ 통해 최대 72% 할인  http://v.daum.net/v/20241209090017767\n",
      "8  고소영, 직접 만든 '이 음식' 공개… 살 뺄 땐 먹지 말아야?  http://v.daum.net/v/20241208070329929\n",
      "9  동원홈푸드, 저당 닭가슴살 브리또·쌈장소스 등 4종 출시  http://v.daum.net/v/20241101160017021\n",
      "10  배다해, '이 시술'로 체중 많이 늘어...\"4kg 살 빼야 한다\", 왜?  http://v.daum.net/v/20241208161854863\n",
      "11  “이번엔 닭가슴살 레시피?” 최화정, 고기쌈에 ‘이것’ 곁들인다… 뭐길래?  http://v.daum.net/v/20241015000329588\n",
      "12  닭 가슴살에 매운 ‘이것’ 곁들이면, 다이어트 효과 상승!  http://v.daum.net/v/20241012220729064\n",
      "13  국내 최초 `꼬기다` 스틱 닭가슴살, 출시 두 달 만에 200만 개 완판! 건강한 간편식 시장의 새로운 강자  http://v.daum.net/v/20241025111217129\n",
      "14  “다이어트 위해” 혜리, 시상식 앞두고 ‘이 음식’만 먹어… 뭔가 보니?  http://v.daum.net/v/20241209101611345\n",
      "15  한소희, 42kg 가녀린 몸 비결?…닭가슴살 ‘이렇게’ 먹는다  http://v.daum.net/v/20241001200057813\n",
      "16  소유 “살 찐 내 몸 더럽다 느껴”→화사 “약 먹고 허벅지살 빼”..걸그룹 고충[Oh!쎈 이슈]  http://v.daum.net/v/20241130151717861\n",
      "17  “‘이렇게’ 먹으면 살 빠진다” 전효성, 다이어트 식단 대공개… 뭐 먹나 보니?  http://v.daum.net/v/20241122000130881\n",
      "18  “닭도 부위별로 즐긴다” 홈플러스,닭고기 부분육 매출 최대30% 껑충  http://v.daum.net/v/20241126082933710\n",
      "19  \"많이 먹어서 살쪘다\"…제이제이, 속옷 입고 62㎏ 몸매 인증  http://v.daum.net/v/20241203040018342\n",
      "20  \"닭가슴살보다 높은 단백질 함량\" 빙그레, '프로틴 치즈' 신제품 공개  http://v.daum.net/v/20241017091812646\n",
      "21  달걀, 삶은 닭고기 꾸준히 먹었더니... 뇌 신경-인지 기능에 변화가?  http://v.daum.net/v/20241119190128434\n",
      "22  다시 살찐 스윙스, \"다이어트 시작\" 밝혀… 직접 공개한 식단 보니?  http://v.daum.net/v/20241120141048522\n",
      "23  미 육류회사, 리스테리아균 발견 닭가슴살 등 무려 5천톤 리콜(종합)  http://v.daum.net/v/20241011065535513\n",
      "24  닭가슴살 들기름 메밀김밥 1위... 편의점 식재료 활용한 건강 레시피  http://v.daum.net/v/20241015085320023\n",
      "25  닭고기 부분육 수요↑…홈플러스, '순살 닭다리살' 구이 제품 출시  http://v.daum.net/v/20241126090420693\n",
      "26  ‘실내 공기 오염 최소’ 조리 기구, 실험으로 찾아보니… [건강한겨레]  http://v.daum.net/v/20241206090519564\n",
      "27  [Y터뷰] 배현성 \"'조립식 가족' 위해 사투리·농구 연습…여운 많이 남아요\"  http://v.daum.net/v/20241207080421527\n",
      "28  ‘대장이 반찬’ 김대호X이장우, 도파민 터지는 반찬기행  http://v.daum.net/v/20241202091502205\n",
      "29  “한 달에 평균 3kg 감량… 혈당만 관리해도 살은 저절로 빠져”[허진석의 톡톡 스타트업]  http://v.daum.net/v/20241207030403803\n"
     ]
    }
   ],
   "source": [
    "import time\n",
    "keywords = ['청바지','닭가슴살']\n",
    "pages = 3\n",
    "for keyword in keywords:\n",
    "    print(f\" {keyword} 검색결과입니다\")\n",
    "    for page in range(1,pages+1):\n",
    "        collect_list(keyword,page)\n",
    "        time.sleep(1) # 1초 잠시 쉼"
   ]
  },
  {
   "cell_type": "code",
   "execution_count": 21,
   "id": "acdd1556",
   "metadata": {
    "ExecuteTime": {
     "end_time": "2024-12-09T02:00:20.759439Z",
     "start_time": "2024-12-09T02:00:20.752429Z"
    }
   },
   "outputs": [],
   "source": [
    "# 다음 검색 (원하는 키워드를 원하는 페이지 수 만큼)\n",
    "import requests\n",
    "from bs4 import BeautifulSoup\n",
    "import time\n",
    "import pandas as pd\n",
    "# print 하는 함수\n",
    "def collect_list_return(keyword, page):\n",
    "    '다음 검색을 keyword로 한 결과를 출력 '\n",
    "#   url = \"https://search.daum.net/search?w=news&nil_search=btn&DA=NTB&enc=utf8&cluster=y&cluster_page=1&q={}&p={}\".format(keyword,page)\n",
    "#   response = requests.get(url)\n",
    "    url = \"https://search.daum.net/search?w=news&nil_search=btn&DA=NTB&enc=utf8&cluster=y&cluster_y\"\n",
    "    response = requests.get(url,params = {'q':keyword,'p':page})\n",
    "    soup = BeautifulSoup(response.text,\"html.parser\")\n",
    "    items_find_list=[] # 검색한 결과를 담을 dict 리스트('div.item-title > strong.tit-g > a')\n",
    "    item_titles = soup.find_all('div',class_='item-title')\n",
    "\n",
    "    for idx, item in enumerate(item_titles):\n",
    "        strong = item.find('strong')\n",
    "        if strong:\n",
    "            a = strong.find('a')\n",
    "            items_find_list.append([(page-1)*10+idx+1, a.text,a.attrs['href']])\n",
    "#            items_find_list.append({\n",
    "#                'no':(page-1)*10+idx,\n",
    "#                'title':a.text,\n",
    "#                'link':a['href']\n",
    "#            })\n",
    "            #print((page-1)*10+idx, a.text,a['href'])\n",
    "            if idx == 9 :\n",
    "                print(page,'페이지 완료')\n",
    "    return items_find_list\n",
    "\n"
   ]
  },
  {
   "cell_type": "code",
   "execution_count": 20,
   "id": "dbfcaeea",
   "metadata": {
    "ExecuteTime": {
     "end_time": "2024-12-09T01:56:21.870017Z",
     "start_time": "2024-12-09T01:56:21.543852Z"
    }
   },
   "outputs": [
    {
     "name": "stdout",
     "output_type": "stream",
     "text": [
      "2 페이지 완료\n"
     ]
    }
   ],
   "source": [
    "temp = collect_list_return('청바지',2)"
   ]
  },
  {
   "cell_type": "code",
   "execution_count": 23,
   "id": "4ed588e0",
   "metadata": {
    "ExecuteTime": {
     "end_time": "2024-12-09T02:01:02.971792Z",
     "start_time": "2024-12-09T02:01:02.615059Z"
    }
   },
   "outputs": [
    {
     "name": "stdout",
     "output_type": "stream",
     "text": [
      "2 페이지 완료\n"
     ]
    },
    {
     "data": {
      "text/html": [
       "<div>\n",
       "<style scoped>\n",
       "    .dataframe tbody tr th:only-of-type {\n",
       "        vertical-align: middle;\n",
       "    }\n",
       "\n",
       "    .dataframe tbody tr th {\n",
       "        vertical-align: top;\n",
       "    }\n",
       "\n",
       "    .dataframe thead th {\n",
       "        text-align: right;\n",
       "    }\n",
       "</style>\n",
       "<table border=\"1\" class=\"dataframe\">\n",
       "  <thead>\n",
       "    <tr style=\"text-align: right;\">\n",
       "      <th></th>\n",
       "      <th>no</th>\n",
       "      <th>title</th>\n",
       "      <th>link</th>\n",
       "    </tr>\n",
       "  </thead>\n",
       "  <tbody>\n",
       "    <tr>\n",
       "      <th>0</th>\n",
       "      <td>10</td>\n",
       "      <td>집에 굴러다니는 청바지 하나로 리사처럼 멋 내는 법</td>\n",
       "      <td>http://v.daum.net/v/20241127172605719</td>\n",
       "    </tr>\n",
       "    <tr>\n",
       "      <th>1</th>\n",
       "      <td>11</td>\n",
       "      <td>서주경, 원조 섹시스타? 청바지 골반에 걸치고 당돌했던 패션(퍼펙트 라이프)</td>\n",
       "      <td>http://v.daum.net/v/20241127153650717</td>\n",
       "    </tr>\n",
       "    <tr>\n",
       "      <th>2</th>\n",
       "      <td>12</td>\n",
       "      <td>고우리 ‘청바지가 잘 어울려’ [MK포토]</td>\n",
       "      <td>http://v.daum.net/v/20241205164814052</td>\n",
       "    </tr>\n",
       "    <tr>\n",
       "      <th>3</th>\n",
       "      <td>13</td>\n",
       "      <td>[ET포토] 베이비몬스터 아현, '셔츠에 청바지면 완벽'</td>\n",
       "      <td>http://v.daum.net/v/20241204153708872</td>\n",
       "    </tr>\n",
       "    <tr>\n",
       "      <th>4</th>\n",
       "      <td>14</td>\n",
       "      <td>제주서 청바지에 오리발 낀 시신 발견돼…실종 모터보트 선장 추정 \"확인 중\"</td>\n",
       "      <td>http://v.daum.net/v/20241124142017794</td>\n",
       "    </tr>\n",
       "    <tr>\n",
       "      <th>5</th>\n",
       "      <td>15</td>\n",
       "      <td>대구시행복진흥원, 2024 청바지(청년이 바라는 지금 가족) 아카데미 발대식 개최</td>\n",
       "      <td>http://v.daum.net/v/20241109214942252</td>\n",
       "    </tr>\n",
       "    <tr>\n",
       "      <th>6</th>\n",
       "      <td>16</td>\n",
       "      <td>미스전남 진 이하정 '청바지가 잘 어울리는 여자' [포토]</td>\n",
       "      <td>http://v.daum.net/v/20241205173202831</td>\n",
       "    </tr>\n",
       "    <tr>\n",
       "      <th>7</th>\n",
       "      <td>17</td>\n",
       "      <td>‘美 언더아머’ 가방에 청바지 입은 北학생… 러시아 유튜버가 포착한 평양의 모습</td>\n",
       "      <td>http://v.daum.net/v/20241129115100297</td>\n",
       "    </tr>\n",
       "    <tr>\n",
       "      <th>8</th>\n",
       "      <td>18</td>\n",
       "      <td>김태리, 흰티+청바지 입은 정년이‥시크해도 예쁘네</td>\n",
       "      <td>http://v.daum.net/v/20241106084401512</td>\n",
       "    </tr>\n",
       "    <tr>\n",
       "      <th>9</th>\n",
       "      <td>19</td>\n",
       "      <td>[美대선 D-1] 청바지 입은 해리스, 미화원 조끼 걸친 트럼프…패션 필살기는</td>\n",
       "      <td>http://v.daum.net/v/20241104162858090</td>\n",
       "    </tr>\n",
       "  </tbody>\n",
       "</table>\n",
       "</div>"
      ],
      "text/plain": [
       "   no                                            title  \\\n",
       "0  10                    집에 굴러다니는 청바지 하나로 리사처럼 멋 내는 법    \n",
       "1  11      서주경, 원조 섹시스타? 청바지 골반에 걸치고 당돌했던 패션(퍼펙트 라이프)    \n",
       "2  12                         고우리 ‘청바지가 잘 어울려’ [MK포토]    \n",
       "3  13                 [ET포토] 베이비몬스터 아현, '셔츠에 청바지면 완벽'    \n",
       "4  14      제주서 청바지에 오리발 낀 시신 발견돼…실종 모터보트 선장 추정 \"확인 중\"    \n",
       "5  15   대구시행복진흥원, 2024 청바지(청년이 바라는 지금 가족) 아카데미 발대식 개최    \n",
       "6  16                미스전남 진 이하정 '청바지가 잘 어울리는 여자' [포토]    \n",
       "7  17    ‘美 언더아머’ 가방에 청바지 입은 北학생… 러시아 유튜버가 포착한 평양의 모습    \n",
       "8  18                     김태리, 흰티+청바지 입은 정년이‥시크해도 예쁘네    \n",
       "9  19     [美대선 D-1] 청바지 입은 해리스, 미화원 조끼 걸친 트럼프…패션 필살기는    \n",
       "\n",
       "                                    link  \n",
       "0  http://v.daum.net/v/20241127172605719  \n",
       "1  http://v.daum.net/v/20241127153650717  \n",
       "2  http://v.daum.net/v/20241205164814052  \n",
       "3  http://v.daum.net/v/20241204153708872  \n",
       "4  http://v.daum.net/v/20241124142017794  \n",
       "5  http://v.daum.net/v/20241109214942252  \n",
       "6  http://v.daum.net/v/20241205173202831  \n",
       "7  http://v.daum.net/v/20241129115100297  \n",
       "8  http://v.daum.net/v/20241106084401512  \n",
       "9  http://v.daum.net/v/20241104162858090  "
      ]
     },
     "execution_count": 23,
     "metadata": {},
     "output_type": "execute_result"
    }
   ],
   "source": [
    "import pandas as pd\n",
    "pd.DataFrame(collect_list_return('청바지',2),\n",
    "             columns=['no','title','link'])"
   ]
  },
  {
   "cell_type": "code",
   "execution_count": 32,
   "id": "da1145e3",
   "metadata": {
    "ExecuteTime": {
     "end_time": "2024-12-09T02:17:55.961617Z",
     "start_time": "2024-12-09T02:17:53.831184Z"
    }
   },
   "outputs": [
    {
     "name": "stdout",
     "output_type": "stream",
     "text": [
      "============1번째 검색어 청바지검색결과 수집중입니다\n",
      "1 페이지 완료\n",
      "2 페이지 완료\n",
      "3 페이지 완료\n",
      "============2번째 검색어 닭가슴살검색결과 수집중입니다\n",
      "1 페이지 완료\n",
      "2 페이지 완료\n",
      "3 페이지 완료\n"
     ]
    }
   ],
   "source": [
    "keywords = ['청바지','닭가슴살']\n",
    "result0=[]# 청바지 1~pages까지 검색결과를 담을 list\n",
    "result1=[]# 닭가슴살 1~pages까지 검색결과를 담을 list\n",
    "\n",
    "pages = 3\n",
    "for i, keyword in enumerate(keywords):\n",
    "    print(f'============{i+1}번째 검색어 {keyword}검색결과 수집중입니다')\n",
    "    for page in range(1,pages+1):\n",
    "        if i==0:\n",
    "            result0.extend(collect_list_return(keyword,page))\n",
    "        elif i==1:\n",
    "            result1.extend(collect_list_return(keyword,page))"
   ]
  },
  {
   "cell_type": "code",
   "execution_count": 34,
   "id": "c92a2be8",
   "metadata": {
    "ExecuteTime": {
     "end_time": "2024-12-09T02:19:25.620365Z",
     "start_time": "2024-12-09T02:19:25.615350Z"
    }
   },
   "outputs": [],
   "source": [
    "result0_df=pd.DataFrame(result0)\n",
    "result1_df=pd.DataFrame(result1)\n"
   ]
  },
  {
   "cell_type": "code",
   "execution_count": 35,
   "id": "4b199f5b",
   "metadata": {
    "ExecuteTime": {
     "end_time": "2024-12-09T02:21:38.912096Z",
     "start_time": "2024-12-09T02:21:38.878958Z"
    }
   },
   "outputs": [],
   "source": [
    "result0_df.to_csv('data/ch14_'+keywords[0]+'.csv',index=False)\n",
    "result1_df.to_csv('data/ch14_'+keywords[1]+'.csv',index=False)"
   ]
  },
  {
   "cell_type": "code",
   "execution_count": null,
   "id": "8e7bdff2",
   "metadata": {},
   "outputs": [],
   "source": []
  },
  {
   "cell_type": "code",
   "execution_count": null,
   "id": "98441e1c",
   "metadata": {},
   "outputs": [],
   "source": []
  }
 ],
 "metadata": {
  "kernelspec": {
   "display_name": "Python 3 (ipykernel)",
   "language": "python",
   "name": "python3"
  },
  "language_info": {
   "codemirror_mode": {
    "name": "ipython",
    "version": 3
   },
   "file_extension": ".py",
   "mimetype": "text/x-python",
   "name": "python",
   "nbconvert_exporter": "python",
   "pygments_lexer": "ipython3",
   "version": "3.10.9"
  },
  "toc": {
   "base_numbering": 1,
   "nav_menu": {},
   "number_sections": true,
   "sideBar": true,
   "skip_h1_title": false,
   "title_cell": "Table of Contents",
   "title_sidebar": "Contents",
   "toc_cell": false,
   "toc_position": {
    "height": "calc(100% - 180px)",
    "left": "10px",
    "top": "150px",
    "width": "236px"
   },
   "toc_section_display": true,
   "toc_window_display": true
  }
 },
 "nbformat": 4,
 "nbformat_minor": 5
}
