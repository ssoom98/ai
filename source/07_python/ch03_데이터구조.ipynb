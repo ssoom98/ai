{
 "cells": [
  {
   "cell_type": "code",
   "execution_count": 1,
   "id": "bba37778",
   "metadata": {},
   "outputs": [
    {
     "data": {
      "text/html": [
       "\n",
       "<style>\n",
       "div.container{width:80% !important;}\n",
       "div.CodeMirror {font-family:Consolas; font-size:12pt;}\n",
       "div.output {font-size:12pt; font-weight:bold;}\n",
       "div.input {font-family:Consolas; font-size:12pt;}\n",
       "div.prompt {min-width:70px;}\n",
       "div#toc-header{margin-top:150px;}\n",
       ".cm-s-ipython span.cm-comment{font-size:12pt; font-style:normal; color:orange;}\n",
       ".ansi-yellow-bg{color:black;font-size:15pt;}\n",
       "\n",
       "</style>\n",
       "<style>\n",
       "span.toc-item-num{display:none;}\n",
       "</style>\n"
      ],
      "text/plain": [
       "<IPython.core.display.HTML object>"
      ]
     },
     "metadata": {},
     "output_type": "display_data"
    }
   ],
   "source": [
    "from IPython.display import display, HTML\n",
    "display(HTML(\"\"\"\n",
    "<style>\n",
    "div.container{width:80% !important;}\n",
    "div.CodeMirror {font-family:Consolas; font-size:12pt;}\n",
    "div.output {font-size:12pt; font-weight:bold;}\n",
    "div.input {font-family:Consolas; font-size:12pt;}\n",
    "div.prompt {min-width:70px;}\n",
    "div#toc-header{margin-top:150px;}\n",
    ".cm-s-ipython span.cm-comment{font-size:12pt; font-style:normal; color:orange;}\n",
    ".ansi-yellow-bg{color:black;font-size:15pt;}\n",
    "\n",
    "</style>\n",
    "<style>\n",
    "span.toc-item-num{display:none;}\n",
    "</style>\n",
    "\"\"\"))"
   ]
  },
  {
   "cell_type": "markdown",
   "id": "683412b8",
   "metadata": {},
   "source": [
    "<b><font size=\"6\" color=\"red\"> ch03. 데이터구조</font><b>\n",
    "   - 리스트 [], 튜플(),딕셔너리(hashMap과 유사),셋"
   ]
  },
  {
   "cell_type": "markdown",
   "id": "0b0959a3",
   "metadata": {},
   "source": [
    "# 1절. 리스트"
   ]
  },
  {
   "cell_type": "markdown",
   "id": "0540cab9",
   "metadata": {},
   "source": [
    "## 1.1 리스트 만들기\n",
    "    *[]를 이용해서 만들며, 여러개 값을 하나의 변수에 저장/관리할 수 있음\n",
    "    * list()함수 이용도 가능\n",
    "    * 인덱스 : 각 요소의 위치. 인덱스는 0부터 시작 . 맨마지막 인덱스는 -1\n",
    "    * 슬라이싱([from:to:by]) : 부분 데이터셋\n",
    "    * 인덱스와 슬라이싱을 이용해서 쓰기와 읽기 지원"
   ]
  },
  {
   "cell_type": "code",
   "execution_count": 2,
   "id": "86cfe9cf",
   "metadata": {},
   "outputs": [
    {
     "data": {
      "text/plain": [
       "list"
      ]
     },
     "execution_count": 2,
     "metadata": {},
     "output_type": "execute_result"
    }
   ],
   "source": [
    "fruits = ['banana','apple','orange', 'grape']\n",
    "type(fruits)"
   ]
  },
  {
   "cell_type": "code",
   "execution_count": 3,
   "id": "77426e18",
   "metadata": {},
   "outputs": [
    {
     "name": "stdout",
     "output_type": "stream",
     "text": [
      "['banana', 'apple', 'orange', 'grape']\n"
     ]
    }
   ],
   "source": [
    "print(fruits)"
   ]
  },
  {
   "cell_type": "code",
   "execution_count": 4,
   "id": "299c3df5",
   "metadata": {},
   "outputs": [
    {
     "name": "stdout",
     "output_type": "stream",
     "text": [
      "banana\n"
     ]
    }
   ],
   "source": [
    "print(fruits[0])"
   ]
  },
  {
   "cell_type": "code",
   "execution_count": 5,
   "id": "8997f065",
   "metadata": {},
   "outputs": [
    {
     "name": "stdout",
     "output_type": "stream",
     "text": [
      "['mango', 'apple', 'orange', 'grape']\n"
     ]
    }
   ],
   "source": [
    "fruits[0]= 'mango'\n",
    "print(fruits)"
   ]
  },
  {
   "cell_type": "code",
   "execution_count": 6,
   "id": "b4dce839",
   "metadata": {},
   "outputs": [
    {
     "name": "stdout",
     "output_type": "stream",
     "text": [
      "x = mango\n",
      "y = apple\n",
      "z = orange\n"
     ]
    }
   ],
   "source": [
    "fruits=['mango','apple','orange']\n",
    "x,y,z = fruits\n",
    "print('x = {}'.format(x))\n",
    "print('y = {}'.format(y))\n",
    "print('z = {}'.format(z))"
   ]
  },
  {
   "cell_type": "code",
   "execution_count": 7,
   "id": "c7c52eca",
   "metadata": {},
   "outputs": [
    {
     "data": {
      "text/plain": [
       "range(0, 10)"
      ]
     },
     "execution_count": 7,
     "metadata": {},
     "output_type": "execute_result"
    }
   ],
   "source": [
    "# range(from,to,by) : from부터 to앞까지 by씩 증가하면서 지정된 범위의\n",
    "                    #숫자를 순차적으로 사용할 수 있게 \n",
    "                    # from 생략시 0, by 생략시 1\n",
    "range(10)"
   ]
  },
  {
   "cell_type": "code",
   "execution_count": 8,
   "id": "462b59f0",
   "metadata": {},
   "outputs": [
    {
     "data": {
      "text/plain": [
       "[0, 1, 2, 3, 4, 5, 6, 7, 8, 9]"
      ]
     },
     "execution_count": 8,
     "metadata": {},
     "output_type": "execute_result"
    }
   ],
   "source": [
    "list(range(10))"
   ]
  },
  {
   "cell_type": "code",
   "execution_count": 9,
   "id": "48458cc6",
   "metadata": {},
   "outputs": [
    {
     "data": {
      "text/plain": [
       "[0, 2, 4, 6, 8]"
      ]
     },
     "execution_count": 9,
     "metadata": {},
     "output_type": "execute_result"
    }
   ],
   "source": [
    "list(range(0,10,2))"
   ]
  },
  {
   "cell_type": "code",
   "execution_count": 10,
   "id": "afd280ce",
   "metadata": {},
   "outputs": [
    {
     "data": {
      "text/plain": [
       "[10, 8, 6, 4, 2, 0]"
      ]
     },
     "execution_count": 10,
     "metadata": {},
     "output_type": "execute_result"
    }
   ],
   "source": [
    "list(range(10,-1,-2))"
   ]
  },
  {
   "cell_type": "code",
   "execution_count": 11,
   "id": "f465668e",
   "metadata": {},
   "outputs": [
    {
     "name": "stdout",
     "output_type": "stream",
     "text": [
      "0\n",
      "1\n",
      "2\n"
     ]
    }
   ],
   "source": [
    "for i in [0,1,2] : # 0부터 3까지 순차적인 수\n",
    "    print(i)"
   ]
  },
  {
   "cell_type": "code",
   "execution_count": 12,
   "id": "2e327533",
   "metadata": {},
   "outputs": [
    {
     "name": "stdout",
     "output_type": "stream",
     "text": [
      "0\n",
      "1\n",
      "2\n"
     ]
    }
   ],
   "source": [
    "for i in range(3):\n",
    "    print(i)"
   ]
  },
  {
   "cell_type": "code",
   "execution_count": 13,
   "id": "76587040",
   "metadata": {},
   "outputs": [
    {
     "name": "stdout",
     "output_type": "stream",
     "text": [
      "mango\n",
      "apple\n",
      "orange\n"
     ]
    }
   ],
   "source": [
    "for fruit in fruits:\n",
    "    print(fruit)"
   ]
  },
  {
   "cell_type": "markdown",
   "id": "b0b8786e",
   "metadata": {},
   "source": [
    "## 1.2 기본 정보 조회"
   ]
  },
  {
   "cell_type": "code",
   "execution_count": 14,
   "id": "4c1a4abe",
   "metadata": {},
   "outputs": [
    {
     "name": "stdout",
     "output_type": "stream",
     "text": [
      "0번째 과일은 mango\n",
      "1번째 과일은 apple\n",
      "2번째 과일은 orange\n",
      "3번째 과일은 banana\n"
     ]
    }
   ],
   "source": [
    "fruits = ['mango','apple','orange', 'banana']\n",
    "for idx in range(len(fruits)) :\n",
    "    print(\"{}번째 과일은 {}\".format(idx,fruits[idx]))"
   ]
  },
  {
   "cell_type": "code",
   "execution_count": 15,
   "id": "79ef4eb1",
   "metadata": {},
   "outputs": [
    {
     "data": {
      "text/plain": [
       "[(0, 'mango'), (1, 'apple'), (2, 'orange'), (3, 'banana')]"
      ]
     },
     "execution_count": 15,
     "metadata": {},
     "output_type": "execute_result"
    }
   ],
   "source": [
    "list(enumerate(fruits))"
   ]
  },
  {
   "cell_type": "code",
   "execution_count": 16,
   "id": "b38a7518",
   "metadata": {},
   "outputs": [
    {
     "name": "stdout",
     "output_type": "stream",
     "text": [
      "0번째 과일은 mango\n",
      "1번째 과일은 apple\n",
      "2번째 과일은 orange\n",
      "3번째 과일은 banana\n"
     ]
    }
   ],
   "source": [
    "for idx, value in enumerate(fruits) : # key 와 value쌍을 하나씩 사용할수 있게 만드는 함수 enumerate\n",
    "    print(\"{}번째 과일은 {}\".format(idx,value))"
   ]
  },
  {
   "cell_type": "code",
   "execution_count": 17,
   "id": "76de1553",
   "metadata": {},
   "outputs": [
    {
     "data": {
      "text/plain": [
       "[1, 2, 3, '4', True, [1, 2, 3]]"
      ]
     },
     "execution_count": 17,
     "metadata": {},
     "output_type": "execute_result"
    }
   ],
   "source": [
    "numbers = [1,2,3,'4',True,[1,2,3]]\n",
    "numbers"
   ]
  },
  {
   "cell_type": "code",
   "execution_count": 18,
   "id": "f702ce6b",
   "metadata": {},
   "outputs": [
    {
     "data": {
      "text/plain": [
       "(3, 5)"
      ]
     },
     "execution_count": 18,
     "metadata": {},
     "output_type": "execute_result"
    }
   ],
   "source": [
    "# 2차원 리스트\n",
    "numbers_2d = [[1,2,3,4,5],[11,12,13,14,15],[101,102,103,94,95]]\n",
    "len(numbers_2d),len(numbers_2d[0]) #리스트갯수\n"
   ]
  },
  {
   "cell_type": "code",
   "execution_count": 19,
   "id": "abf0518d",
   "metadata": {},
   "outputs": [
    {
     "data": {
      "text/plain": [
       "12"
      ]
     },
     "execution_count": 19,
     "metadata": {},
     "output_type": "execute_result"
    }
   ],
   "source": [
    "numbers_2d[1][1]"
   ]
  },
  {
   "cell_type": "code",
   "execution_count": 20,
   "id": "42f335fa",
   "metadata": {},
   "outputs": [
    {
     "name": "stdout",
     "output_type": "stream",
     "text": [
      "0행 0열 : 1\t\n",
      "0행 1열 : 2\t\n",
      "0행 2열 : 3\t\n",
      "0행 3열 : 4\t\n",
      "0행 4열 : 5\t\n",
      "1행 0열 : 11\t\n",
      "1행 1열 : 12\t\n",
      "1행 2열 : 13\t\n",
      "1행 3열 : 14\t\n",
      "1행 4열 : 15\t\n",
      "2행 0열 : 101\t\n",
      "2행 1열 : 102\t\n",
      "2행 2열 : 103\t\n",
      "2행 3열 : 94\t\n",
      "2행 4열 : 95\t\n"
     ]
    }
   ],
   "source": [
    "for i in range(len(numbers_2d)):\n",
    "    for j in range(len(numbers_2d[1])):\n",
    "        print(\"{}행 {}열 : {}\".format(i,j,numbers_2d[i][j]),end = '\\t')\n",
    "        \n",
    "        print() # 개행"
   ]
  },
  {
   "cell_type": "code",
   "execution_count": 21,
   "id": "2498597e",
   "metadata": {},
   "outputs": [],
   "source": [
    "numbers = [1,12,3,4,5]\n",
    "numbers_2d=[[100,0,1,2,3],[9,199,111,123,414]]\n",
    "\n"
   ]
  },
  {
   "cell_type": "code",
   "execution_count": 22,
   "id": "ba580b7d",
   "metadata": {},
   "outputs": [
    {
     "name": "stdout",
     "output_type": "stream",
     "text": [
      "5 2\n"
     ]
    }
   ],
   "source": [
    "#요소의 수 \n",
    "print(len(numbers),len(numbers_2d))"
   ]
  },
  {
   "cell_type": "code",
   "execution_count": 23,
   "id": "f98b8fff",
   "metadata": {},
   "outputs": [
    {
     "data": {
      "text/plain": [
       "(1, 12)"
      ]
     },
     "execution_count": 23,
     "metadata": {},
     "output_type": "execute_result"
    }
   ],
   "source": [
    "# 최소값, 최대값\n",
    "min(numbers),max(numbers)"
   ]
  },
  {
   "cell_type": "code",
   "execution_count": null,
   "id": "60356baf",
   "metadata": {},
   "outputs": [],
   "source": []
  },
  {
   "cell_type": "code",
   "execution_count": 24,
   "id": "68a0f666",
   "metadata": {},
   "outputs": [
    {
     "data": {
      "text/plain": [
       "([9, 199, 111, 123, 414], [100, 0, 1, 2, 3])"
      ]
     },
     "execution_count": 24,
     "metadata": {},
     "output_type": "execute_result"
    }
   ],
   "source": [
    "# 2차원 list의 min(): 부분 리스트 중에서 첫 요소가 가장 작은 값\n",
    "#             max(): 부분 리스트 중에서 첫 요소가 가장 큰 값\n",
    "min(numbers_2d),max(numbers_2d)"
   ]
  },
  {
   "cell_type": "code",
   "execution_count": 25,
   "id": "1389c907",
   "metadata": {},
   "outputs": [
    {
     "data": {
      "text/plain": [
       "('apple', 'orange')"
      ]
     },
     "execution_count": 25,
     "metadata": {},
     "output_type": "execute_result"
    }
   ],
   "source": [
    "# list의 데이터가 문자일 경우 ascii 코드 값으로 min(),max() 적용된다\n",
    "fruits = ['mango','apple','banana','orange']\n",
    "min(fruits),max(fruits)"
   ]
  },
  {
   "cell_type": "code",
   "execution_count": 26,
   "id": "32309fec",
   "metadata": {},
   "outputs": [
    {
     "name": "stdout",
     "output_type": "stream",
     "text": [
      "오름차순 정렬 : [1, 3, 5, 12, 14]\n",
      "내림차순 정렬 : [14, 12, 5, 3, 1]\n",
      "합 :  35\n",
      "sorted 함수 사용시 리스트 내용이 바뀌지 않음 : [1, 12, 3, 14, 5]\n"
     ]
    }
   ],
   "source": [
    "# 정렬하기\n",
    "numbers = [1,12,3,14,5]\n",
    "print('오름차순 정렬 :' ,sorted(numbers) )\n",
    "print('내림차순 정렬 :' ,sorted(numbers,reverse=True))\n",
    "print('합 : ',sum(numbers))\n",
    "print('sorted 함수 사용시 리스트 내용이 바뀌지 않음 :',numbers)"
   ]
  },
  {
   "cell_type": "markdown",
   "id": "c8a4098b",
   "metadata": {},
   "source": [
    "## 1.3 요소 추가"
   ]
  },
  {
   "cell_type": "code",
   "execution_count": 27,
   "id": "6ae35448",
   "metadata": {},
   "outputs": [],
   "source": [
    "# + : 두 리스트 연결\n",
    "# * : 리스트를 곱한 수 만큼 반복\n",
    "# append() : 요소 맨뒤에 추가\n",
    "# extend() : 리스트를 요소별로 맨 뒤에 추가\n",
    "# insert(idx,값) : idx 번째 인덱스 위치에 값 추가"
   ]
  },
  {
   "cell_type": "code",
   "execution_count": 28,
   "id": "70791aa2",
   "metadata": {},
   "outputs": [
    {
     "name": "stdout",
     "output_type": "stream",
     "text": [
      "[1, 2, 3, 1, 2, 3, 1, 2, 3]\n"
     ]
    }
   ],
   "source": [
    "numbers= [1,2,3]\n",
    "print(3*numbers) # 곱한 수 만큼 list 반복"
   ]
  },
  {
   "cell_type": "code",
   "execution_count": 29,
   "id": "8f89a083",
   "metadata": {},
   "outputs": [
    {
     "data": {
      "text/plain": [
       "[1, 2, 3, 4]"
      ]
     },
     "execution_count": 29,
     "metadata": {},
     "output_type": "execute_result"
    }
   ],
   "source": [
    "numbers.append(4)\n",
    "numbers"
   ]
  },
  {
   "cell_type": "code",
   "execution_count": 30,
   "id": "f1470bc7",
   "metadata": {},
   "outputs": [],
   "source": [
    "numbers.append([5,6,7]) # 맨뒤에 요소 추가"
   ]
  },
  {
   "cell_type": "code",
   "execution_count": 31,
   "id": "14913d6d",
   "metadata": {},
   "outputs": [
    {
     "data": {
      "text/plain": [
       "[1, 2, 3, 4, [5, 6, 7]]"
      ]
     },
     "execution_count": 31,
     "metadata": {},
     "output_type": "execute_result"
    }
   ],
   "source": [
    "numbers"
   ]
  },
  {
   "cell_type": "code",
   "execution_count": 32,
   "id": "8caeb9c9",
   "metadata": {},
   "outputs": [
    {
     "data": {
      "text/plain": [
       "[1, 2, 3, 4, 5, 6]"
      ]
     },
     "execution_count": 32,
     "metadata": {},
     "output_type": "execute_result"
    }
   ],
   "source": [
    "num = [1,2,3]\n",
    "num.extend([4,5,6]) #요소별로 맨뒤에 각기 추가\n",
    "num"
   ]
  },
  {
   "cell_type": "code",
   "execution_count": 33,
   "id": "bcbd5e4b",
   "metadata": {},
   "outputs": [],
   "source": [
    "lst = ['a','b','c']"
   ]
  },
  {
   "cell_type": "code",
   "execution_count": 34,
   "id": "a08156cb",
   "metadata": {},
   "outputs": [
    {
     "data": {
      "text/plain": [
       "['a', 'b', 'c', 'd']"
      ]
     },
     "execution_count": 34,
     "metadata": {},
     "output_type": "execute_result"
    }
   ],
   "source": [
    "lst.append('d')\n",
    "lst"
   ]
  },
  {
   "cell_type": "code",
   "execution_count": 35,
   "id": "9fac55c0",
   "metadata": {},
   "outputs": [
    {
     "data": {
      "text/plain": [
       "['a', 'b', 'c', 'd', 'hello']"
      ]
     },
     "execution_count": 35,
     "metadata": {},
     "output_type": "execute_result"
    }
   ],
   "source": [
    "lst.append('hello')\n",
    "lst"
   ]
  },
  {
   "cell_type": "code",
   "execution_count": 36,
   "id": "455c331a",
   "metadata": {},
   "outputs": [
    {
     "data": {
      "text/plain": [
       "['a', 'b', 'c', 'd', 'hello', 'h', 'e', 'l', 'l', 'o']"
      ]
     },
     "execution_count": 36,
     "metadata": {},
     "output_type": "execute_result"
    }
   ],
   "source": [
    "lst.extend('hello')\n",
    "lst"
   ]
  },
  {
   "cell_type": "code",
   "execution_count": 37,
   "id": "08cfb573",
   "metadata": {},
   "outputs": [
    {
     "data": {
      "text/plain": [
       "[1, 'xx', 2, 3, 4, 5]"
      ]
     },
     "execution_count": 37,
     "metadata": {},
     "output_type": "execute_result"
    }
   ],
   "source": [
    "numbers = [1,2,3,4,5]\n",
    "numbers.insert(1,'xx')\n",
    "numbers"
   ]
  },
  {
   "cell_type": "markdown",
   "id": "6d7f44fc",
   "metadata": {},
   "source": [
    "## 1.4 인덱싱과 요소 갯수\n",
    "- 변수[index] : 인덱스를 이용한 접근\n",
    "- index(찾을데이터) : 해당 찾을 데이터가 있는 요소의 index를 반환\n",
    "- count(찾을데이터) : 리스트에서 데이터의 갯수 반환\n"
   ]
  },
  {
   "cell_type": "code",
   "execution_count": 38,
   "id": "d1ca262e",
   "metadata": {},
   "outputs": [],
   "source": [
    "numbers = [1,2,3,[1,2,3],1,2,3]"
   ]
  },
  {
   "cell_type": "code",
   "execution_count": 39,
   "id": "985203ed",
   "metadata": {},
   "outputs": [
    {
     "data": {
      "text/plain": [
       "2"
      ]
     },
     "execution_count": 39,
     "metadata": {},
     "output_type": "execute_result"
    }
   ],
   "source": [
    "numbers.count(2)"
   ]
  },
  {
   "cell_type": "code",
   "execution_count": 40,
   "id": "f56a5754",
   "metadata": {},
   "outputs": [
    {
     "data": {
      "text/plain": [
       "0"
      ]
     },
     "execution_count": 40,
     "metadata": {},
     "output_type": "execute_result"
    }
   ],
   "source": [
    "numbers.count(9)"
   ]
  },
  {
   "cell_type": "code",
   "execution_count": 41,
   "id": "73d46342",
   "metadata": {},
   "outputs": [
    {
     "data": {
      "text/plain": [
       "False"
      ]
     },
     "execution_count": 41,
     "metadata": {},
     "output_type": "execute_result"
    }
   ],
   "source": [
    "9 in numbers # 9가 numbers 의 요소인지 여부"
   ]
  },
  {
   "cell_type": "code",
   "execution_count": 42,
   "id": "37aac356",
   "metadata": {},
   "outputs": [
    {
     "data": {
      "text/plain": [
       "1"
      ]
     },
     "execution_count": 42,
     "metadata": {},
     "output_type": "execute_result"
    }
   ],
   "source": [
    "numbers = [1,2,3,[1,2,3],1,2,3]\n",
    "numbers.index(2) # 처음(0인덱스)부터 2가 나오는 위치\n"
   ]
  },
  {
   "cell_type": "code",
   "execution_count": 43,
   "id": "dfcce4bc",
   "metadata": {},
   "outputs": [
    {
     "data": {
      "text/plain": [
       "5"
      ]
     },
     "execution_count": 43,
     "metadata": {},
     "output_type": "execute_result"
    }
   ],
   "source": [
    "numbers.index(2,2) # 2번인덱스부터 2가 처음 나오는 위치"
   ]
  },
  {
   "cell_type": "code",
   "execution_count": 44,
   "id": "66fc6631",
   "metadata": {},
   "outputs": [
    {
     "name": "stdout",
     "output_type": "stream",
     "text": [
      "0\n",
      "False\n"
     ]
    }
   ],
   "source": [
    "# 9가 numbers 리스트의 요소에 있는지 여부를 검사\n",
    "print(numbers.count(9))\n",
    "print(9 in numbers)"
   ]
  },
  {
   "cell_type": "code",
   "execution_count": 45,
   "id": "7c944dd4",
   "metadata": {},
   "outputs": [
    {
     "name": "stdout",
     "output_type": "stream",
     "text": [
      "9가 요소에 포함되지 않습니다\n"
     ]
    }
   ],
   "source": [
    "if 9 in numbers:\n",
    "    print(numbers.index(9))\n",
    "else : \n",
    "    print('9가 요소에 포함되지 않습니다')"
   ]
  },
  {
   "cell_type": "code",
   "execution_count": 46,
   "id": "4e3daa00",
   "metadata": {},
   "outputs": [],
   "source": [
    "def safe_index(lst, item):\n",
    "        if item in lst:\n",
    "            return lst.index(item)\n",
    "        else:\n",
    "            return -1"
   ]
  },
  {
   "cell_type": "code",
   "execution_count": 47,
   "id": "8e39a7e5",
   "metadata": {},
   "outputs": [],
   "source": [
    "def safe_index(lst,item):\n",
    "    return lst.index(item) if item in lst else -1"
   ]
  },
  {
   "cell_type": "code",
   "execution_count": 48,
   "id": "6c256e1d",
   "metadata": {},
   "outputs": [
    {
     "data": {
      "text/plain": [
       "-1"
      ]
     },
     "execution_count": 48,
     "metadata": {},
     "output_type": "execute_result"
    }
   ],
   "source": [
    "safe_index(numbers,9)\n"
   ]
  },
  {
   "cell_type": "code",
   "execution_count": 49,
   "id": "6b62152c",
   "metadata": {
    "scrolled": true
   },
   "outputs": [
    {
     "ename": "IndexError",
     "evalue": "list index out of range",
     "output_type": "error",
     "traceback": [
      "\u001b[1;31m---------------------------------------------------------------------------\u001b[0m",
      "\u001b[1;31mIndexError\u001b[0m                                Traceback (most recent call last)",
      "Cell \u001b[1;32mIn[49], line 1\u001b[0m\n\u001b[1;32m----> 1\u001b[0m \u001b[43mnumbers\u001b[49m\u001b[43m[\u001b[49m\u001b[38;5;241;43m20\u001b[39;49m\u001b[43m]\u001b[49m\n",
      "\u001b[1;31mIndexError\u001b[0m: list index out of range"
     ]
    }
   ],
   "source": [
    "numbers[20]"
   ]
  },
  {
   "cell_type": "markdown",
   "id": "83612a0d",
   "metadata": {},
   "source": [
    "## 1.5 리스트 슬라이싱\n",
    "- 인덱스의 범위를 벗어난 값도 에러나지 않음\n",
    "- [from:stop:step] from 부터 stop앞까지 step씩 증가하는 index값 추출\n",
    "          from 생략시 처음, stop 생략시 끝, setp생략시 1, 모두 생략가능\n",
    "- 인덱스는 음수가능<br><br>\n",
    "\n",
    "\n",
    "2. <b><font color = \"red\">리스트 컴프리헨션</font></b>: list에서 원하는 데이터 추출"
   ]
  },
  {
   "cell_type": "code",
   "execution_count": null,
   "id": "7b335655",
   "metadata": {},
   "outputs": [],
   "source": [
    "numbers = [1,3,5,7,9,12,13,18,19,20]\n",
    "#거꾸로 출력\n",
    "print(numbers[::-1])\n",
    "print(numbers[0:10:2])\n",
    "print(numbers[:100])"
   ]
  },
  {
   "cell_type": "code",
   "execution_count": null,
   "id": "61c3c70b",
   "metadata": {},
   "outputs": [],
   "source": [
    "# 리스트 컴프리헨션을 이용해서 lsit의 원하는 데이터 액세스\n",
    "numbers = [1,3,5,7,9,12,13,18,19,20]\n",
    "# 모든 데이터 추출\n",
    "#for data in numbers:\n",
    " #       print(data, end= '\\t')\n",
    "[data for data in numbers]"
   ]
  },
  {
   "cell_type": "code",
   "execution_count": 154,
   "id": "131e9e89",
   "metadata": {},
   "outputs": [
    {
     "data": {
      "text/plain": [
       "[2, 4, 6, 8, 10, 100, 200, 300, 400, 500]"
      ]
     },
     "execution_count": 154,
     "metadata": {},
     "output_type": "execute_result"
    }
   ],
   "source": [
    "# 짝수 데이터 추출\n",
    "#for data in numbers:\n",
    " #   if data%2==0:\n",
    " #       print(data, end='\\t')\n",
    "[data for data in numbers if data%2==0]"
   ]
  },
  {
   "cell_type": "code",
   "execution_count": null,
   "id": "2dc35e08",
   "metadata": {},
   "outputs": [],
   "source": [
    "# ex1. numbers 에서 10이상 요소만 추출\n",
    "[data for data in numbers if data>=10]"
   ]
  },
  {
   "cell_type": "code",
   "execution_count": null,
   "id": "b4c70bcb",
   "metadata": {},
   "outputs": [],
   "source": [
    "# ex2. fruits에서 과일의 글자가 5글자 이상인 과일만 추출\n",
    "fruits = ['orange','apple','mango','kiwi']\n",
    "[data for data in fruits if len(data)>=5]"
   ]
  },
  {
   "cell_type": "code",
   "execution_count": null,
   "id": "8ce4561e",
   "metadata": {},
   "outputs": [],
   "source": [
    "# ex-1. fruits 리스트의 과일 글자수\n",
    "[len(fruit) for fruit in fruits]"
   ]
  },
  {
   "cell_type": "code",
   "execution_count": null,
   "id": "4efa2973",
   "metadata": {},
   "outputs": [],
   "source": [
    "#ex 3. 3이상의 리스트의 값의 제곱을 추출\n",
    "L=[1,2,3,4,5]\n",
    "[l**2 for l in L if l>=3]"
   ]
  },
  {
   "cell_type": "code",
   "execution_count": null,
   "id": "271b02b5",
   "metadata": {},
   "outputs": [],
   "source": [
    "# ex4.리스트의 값의 두배로 추출\n",
    "L =[1,2,3,4,5]\n",
    "[l*2 for l in L]"
   ]
  },
  {
   "cell_type": "markdown",
   "id": "d7eed879",
   "metadata": {},
   "source": [
    "## 1.6 요소 수정하기"
   ]
  },
  {
   "cell_type": "code",
   "execution_count": null,
   "id": "5cd5646e",
   "metadata": {},
   "outputs": [],
   "source": [
    "numbers=[0,1,2,3,4,5,6,7,8,9]\n",
    "numbers[2]=222\n",
    "numbers"
   ]
  },
  {
   "cell_type": "code",
   "execution_count": null,
   "id": "cabae99e",
   "metadata": {},
   "outputs": [],
   "source": [
    "# 슬라이싱(step부분 미포함)을 이용하여 부분리스트를 통째로 수정\n",
    "numbers[0:2] = ['xx','xx','xx','xx']\n",
    "numbers"
   ]
  },
  {
   "cell_type": "code",
   "execution_count": 191,
   "id": "c1d6f56a",
   "metadata": {},
   "outputs": [
    {
     "name": "stdout",
     "output_type": "stream",
     "text": [
      "수정전 : [0, 0, 0, 0, 0, 0, 0, 0, 0, 0]\n",
      "수정후 : [9, 0, 9, 0, 9, 0, 9, 0, 9, 0]\n"
     ]
    }
   ],
   "source": [
    "# 슬라이싱(step부분 포함)을 이용하여 부분수정\\\n",
    "numbers =[0]*10\n",
    "print('수정전 :' , numbers)\n",
    "numbers[::2] = [9,9,9,9,9]\n",
    "print('수정후 :', numbers)"
   ]
  },
  {
   "cell_type": "markdown",
   "id": "d48df1ff",
   "metadata": {},
   "source": [
    "## 1.7 요소 삭제\n",
    "- pop() : 가장 마지막 인덱스의 요소가 반환되고 삭제\n",
    "- pop(idx) : idx번째 요소가 반환되고 삭제\n",
    "- remove(data) : list안의 data가 삭제\n",
    "- del 리스트변수[idx]: idx번째 요소가 삭제"
   ]
  },
  {
   "cell_type": "code",
   "execution_count": null,
   "id": "700f733e",
   "metadata": {},
   "outputs": [],
   "source": [
    "numbers = [1,2,3,4,5]\n",
    "print('삭제한 데이터 :', numbers.pop())\n",
    "print('삭제한 후 numbers :' , numbers)\n",
    "print('삭제한 데이터 :', numbers.pop())\n",
    "print('삭제한 후 numbers :' , numbers)\n",
    "print('삭제한 데이터 :', numbers.pop(0))\n",
    "print('삭제한 후 numbers :' , numbers)"
   ]
  },
  {
   "cell_type": "code",
   "execution_count": null,
   "id": "34e1bf1f",
   "metadata": {},
   "outputs": [],
   "source": [
    "numbers = [0,1,2,3,4,5]\n",
    "print(numbers.remove(3)) # remove()는 반환값이 없고, 해당 데이터 삭제만\n",
    "print(numbers)"
   ]
  },
  {
   "cell_type": "code",
   "execution_count": null,
   "id": "1e061b6f",
   "metadata": {},
   "outputs": [],
   "source": [
    "numbers.remove(9)"
   ]
  },
  {
   "cell_type": "code",
   "execution_count": null,
   "id": "1d742ed6",
   "metadata": {},
   "outputs": [],
   "source": [
    "if 9 in numbers:\n",
    "    numbers.remove(9)\n",
    "else:\n",
    "    print('해당 데이터는 없는 데이터입니다')"
   ]
  },
  {
   "cell_type": "code",
   "execution_count": null,
   "id": "226d2075",
   "metadata": {},
   "outputs": [],
   "source": [
    "def safe_remove(lst, remove_item):\n",
    "    if remove_item in lst:\n",
    "        lst.remove(remove_item)\n",
    "    else:\n",
    "        print('해당 데이터는 없는 아이템입니다')\n",
    "        "
   ]
  },
  {
   "cell_type": "code",
   "execution_count": null,
   "id": "d0710db4",
   "metadata": {},
   "outputs": [],
   "source": [
    "safe_remove(numbers,9)"
   ]
  },
  {
   "cell_type": "code",
   "execution_count": null,
   "id": "fe06b8eb",
   "metadata": {},
   "outputs": [],
   "source": [
    "numbers =[0,1,2,3,4,5]\n",
    "del numbers[2]\n",
    "print ('삭제 후:',numbers)"
   ]
  },
  {
   "cell_type": "code",
   "execution_count": null,
   "id": "6ed2ca16",
   "metadata": {},
   "outputs": [],
   "source": [
    "del numbers # 변수삭제"
   ]
  },
  {
   "cell_type": "code",
   "execution_count": null,
   "id": "d412b64d",
   "metadata": {},
   "outputs": [],
   "source": [
    "numbers"
   ]
  },
  {
   "cell_type": "markdown",
   "id": "9a3b072d",
   "metadata": {},
   "source": [
    "## 1.8 정렬하기"
   ]
  },
  {
   "cell_type": "code",
   "execution_count": null,
   "id": "b5d2c802",
   "metadata": {},
   "outputs": [],
   "source": [
    "numbers = [9,5,0,8,6]\n",
    "numbers.sort()# numbers 자체가 정렬한 결과로 바뀜\n",
    "numbers"
   ]
  },
  {
   "cell_type": "code",
   "execution_count": null,
   "id": "677b70dd",
   "metadata": {},
   "outputs": [],
   "source": [
    "numbers = numbers[::-1]# 오름차순 결과를 내림차순으로\n",
    "numbers"
   ]
  },
  {
   "cell_type": "code",
   "execution_count": null,
   "id": "db698977",
   "metadata": {},
   "outputs": [],
   "source": [
    "numbers.reverse() # 리스트를 역순으로 변경\n",
    "numbers"
   ]
  },
  {
   "cell_type": "markdown",
   "id": "56b2e8a0",
   "metadata": {},
   "source": [
    "## 1.9 리스트 복제"
   ]
  },
  {
   "cell_type": "code",
   "execution_count": null,
   "id": "2eecc12c",
   "metadata": {},
   "outputs": [],
   "source": [
    "# 얕은 복사 \n",
    "numbers = [5,6,1,9]\n",
    "new_numbers = numbers # 얕은 복사\n",
    "new_numbers.sort()\n",
    "print('원본 :',numbers)\n",
    "print('정렬 :',new_numbers)\n",
    "print('원본 주소:', id(numbers))\n",
    "print('정렬본 주소 : ', id(new_numbers))"
   ]
  },
  {
   "cell_type": "code",
   "execution_count": null,
   "id": "a9ae2da3",
   "metadata": {},
   "outputs": [],
   "source": [
    "# 깊은 복사(복제)\n",
    "numbers = [5,6,1,9]\n",
    "new_numbers = numbers.copy() # numbers를 복제(깊은복사)\n",
    "new_numbers.sort(reverse=True) # 내림차순 정렬\n",
    "print('numbers :',numbers)\n",
    "print('new_numbers :', new_numbers)\n",
    "print('numbers 주소 :', id(numbers))\n",
    "print('new_numbers 주소', id(new_numbers))\n"
   ]
  },
  {
   "cell_type": "code",
   "execution_count": null,
   "id": "0a39488d",
   "metadata": {},
   "outputs": [],
   "source": [
    "city=['서울','부산','대전','대구','인천','광주','제주']\n",
    "temp= city.copy()\n",
    "temp.sort()\n",
    "print('정렬전 :', ' '.join(city))\n",
    "print('정렬후 :', ' '.join(temp))"
   ]
  },
  {
   "cell_type": "markdown",
   "id": "00435e5b",
   "metadata": {},
   "source": [
    "# 2절. 튜플\n",
    "- 리스트([])와 유사하지만 읽기전용. 수정이 필요없는 데이터에서 사용\n",
    "- 수정이 불가하므로 튜플에 데이터 수정, 추가, 삭제 불가\n",
    "- 제공되는 함수도 많지 않음\n",
    "- () 이용해서 생성"
   ]
  },
  {
   "cell_type": "code",
   "execution_count": null,
   "id": "6b075bd3",
   "metadata": {},
   "outputs": [],
   "source": [
    "city=('서울','부산','인천','목포')\n",
    "print(type(city))\n",
    "print(city)"
   ]
  },
  {
   "cell_type": "code",
   "execution_count": null,
   "id": "31bdc6f6",
   "metadata": {},
   "outputs": [],
   "source": [
    "', '.join(city)"
   ]
  },
  {
   "cell_type": "code",
   "execution_count": null,
   "id": "db8a7991",
   "metadata": {},
   "outputs": [],
   "source": [
    "l=['서울'] # 요소가 하나 있는 리스트\n",
    "print(type(l))\n",
    "print(l)\n",
    "print(len(l))"
   ]
  },
  {
   "cell_type": "code",
   "execution_count": null,
   "id": "f652790f",
   "metadata": {},
   "outputs": [],
   "source": [
    "city = ('서울') # 요소가 하나있는 튜플(x)\n",
    "print(type(city))\n",
    "print(city)\n",
    "print(len(city))"
   ]
  },
  {
   "cell_type": "code",
   "execution_count": null,
   "id": "4ffac2c8",
   "metadata": {},
   "outputs": [],
   "source": [
    "city = ('서울',) # 요소가 하나 있는 튜플(o)\n",
    "print(type(city))\n",
    "print(city)\n",
    "print(len(city))"
   ]
  },
  {
   "cell_type": "code",
   "execution_count": null,
   "id": "55868e1a",
   "metadata": {},
   "outputs": [],
   "source": [
    "(a, b) = (10 , 20)"
   ]
  },
  {
   "cell_type": "code",
   "execution_count": null,
   "id": "1a1cf5d9",
   "metadata": {},
   "outputs": [],
   "source": [
    "numbers = 1,2,3 # numbers = (1,2,3)\n",
    "print(type(numbers))\n",
    "print(numbers)"
   ]
  },
  {
   "cell_type": "code",
   "execution_count": null,
   "id": "fe92bd66",
   "metadata": {},
   "outputs": [],
   "source": [
    "#numbers.remove(3) 수정하기 위한 함수는 제공되지 않음"
   ]
  },
  {
   "cell_type": "code",
   "execution_count": null,
   "id": "43cc328c",
   "metadata": {},
   "outputs": [],
   "source": [
    "min(numbers),max(numbers),len(numbers)"
   ]
  },
  {
   "cell_type": "code",
   "execution_count": null,
   "id": "f1cb8acc",
   "metadata": {},
   "outputs": [],
   "source": [
    "numbers=(0,1,2,(1,2),0,1,2)\n",
    "numbers.count(2)"
   ]
  },
  {
   "cell_type": "code",
   "execution_count": null,
   "id": "28e3ccf1",
   "metadata": {},
   "outputs": [],
   "source": [
    "numbers.index(2) # 2가 있는 곳의 index"
   ]
  },
  {
   "cell_type": "code",
   "execution_count": null,
   "id": "95833138",
   "metadata": {},
   "outputs": [],
   "source": [
    "numbers.index(2,3) # 3번째부터 2가 나오는 index"
   ]
  },
  {
   "cell_type": "code",
   "execution_count": null,
   "id": "3c3d8606",
   "metadata": {},
   "outputs": [],
   "source": [
    "numbers.index(9)"
   ]
  },
  {
   "cell_type": "code",
   "execution_count": null,
   "id": "05b12126",
   "metadata": {},
   "outputs": [],
   "source": [
    "# numbers안에 9 요소가 있는 여부\n",
    "print(numbers.count(9))\n",
    "print(9 in numbers)"
   ]
  },
  {
   "cell_type": "code",
   "execution_count": null,
   "id": "20f8bddd",
   "metadata": {},
   "outputs": [],
   "source": [
    "def safe_index(lst,item):\n",
    "    if item in lst:\n",
    "        return lst.index(item)\n",
    "    else:\n",
    "        return -1\n",
    "def safe_index(lst,item):\n",
    "    return lst.index(item) if item in lst else -1\n"
   ]
  },
  {
   "cell_type": "code",
   "execution_count": null,
   "id": "afbb0216",
   "metadata": {},
   "outputs": [],
   "source": [
    "safe_index(numbers,9)"
   ]
  },
  {
   "cell_type": "code",
   "execution_count": null,
   "id": "ee0c6521",
   "metadata": {},
   "outputs": [],
   "source": [
    "numbers =(1,2,3)\n",
    "numbers + numbers #연결"
   ]
  },
  {
   "cell_type": "code",
   "execution_count": null,
   "id": "f56d304a",
   "metadata": {},
   "outputs": [],
   "source": [
    "numbers *3 #반복"
   ]
  },
  {
   "cell_type": "code",
   "execution_count": null,
   "id": "c32d594d",
   "metadata": {},
   "outputs": [],
   "source": [
    "# ex. 짝수 요소들을 추출하여 제곱한 리스트를 출력하시오\n",
    "numbers = (1,2,3,4,5,6)\n",
    "[x**2 for x in numbers if x%2==0]"
   ]
  },
  {
   "cell_type": "markdown",
   "id": "2a7c4291",
   "metadata": {},
   "source": [
    "# 3절. 딕셔너리\n",
    "cf. 자바에서의 hashMap\n",
    "- 중괄호({})를 이용해서 딕셔너리 생성. 키(key)-값(value)쌍으로 구성된 자료구조\n",
    "- 키는 유일한 값(중복 허용 안함). 키에 list는 사용불가. 키에 tuple은 사용가능\n",
    "- 값은 중복 가능. 모든 데이터 타입이 가능\n",
    "- 없는 키의 값을 참조하면 에러발생\n",
    "- 인덱스를 이용한 참조는 지원 안 함"
   ]
  },
  {
   "cell_type": "code",
   "execution_count": null,
   "id": "c84c1c8c",
   "metadata": {},
   "outputs": [],
   "source": [
    "dic = {'name':'홍길동',1:22,(1,2):[1,2]}\n",
    "print(type(dic))\n",
    "print(dic)"
   ]
  },
  {
   "cell_type": "code",
   "execution_count": null,
   "id": "c63d9bf1",
   "metadata": {},
   "outputs": [],
   "source": [
    "len(dic) # 데이터 요소의 갯수"
   ]
  },
  {
   "cell_type": "code",
   "execution_count": 232,
   "id": "d948314c",
   "metadata": {},
   "outputs": [
    {
     "data": {
      "text/plain": [
       "{'fruit': 'apple', 'number': 12, 'sport': 'golf'}"
      ]
     },
     "execution_count": 232,
     "metadata": {},
     "output_type": "execute_result"
    }
   ],
   "source": [
    "my_favorite = {'fruit':'apple','number':12,'sport':'golf'}\n",
    "my_favorite"
   ]
  },
  {
   "cell_type": "code",
   "execution_count": 231,
   "id": "64f830ce",
   "metadata": {},
   "outputs": [
    {
     "data": {
      "text/plain": [
       "'mango'"
      ]
     },
     "execution_count": 231,
     "metadata": {},
     "output_type": "execute_result"
    }
   ],
   "source": [
    "my_favorite['fruit']"
   ]
  },
  {
   "cell_type": "code",
   "execution_count": null,
   "id": "d436f9a0",
   "metadata": {},
   "outputs": [],
   "source": [
    "my_favorite.get('fruit')\n"
   ]
  },
  {
   "cell_type": "code",
   "execution_count": null,
   "id": "0175fae7",
   "metadata": {},
   "outputs": [],
   "source": [
    "# print(my_favorite['people']) # 키 목록에 없는 데이터를 인덱스로 참조시 에러\n",
    "print(my_favorite.get('people')) #없는 키를 get함수로 참조시 None리턴"
   ]
  },
  {
   "cell_type": "code",
   "execution_count": 230,
   "id": "bf42ad87",
   "metadata": {},
   "outputs": [
    {
     "name": "stdout",
     "output_type": "stream",
     "text": [
      "fruit 수정 후 : {'fruit': 'mango', 'number': 12, 'sport': 'golf'}\n",
      "people 키 추가후 : {'fruit': 'mango', 'number': 12, 'sport': 'golf', 'people': '홍길동'}\n",
      "데이터 갯수 : 4\n",
      "제거 후 : {'fruit': 'mango', 'number': 12, 'people': '홍길동'}\n"
     ]
    }
   ],
   "source": [
    "# 딕셔너리 수정\n",
    "my_favorite = {'fruit':'apple','number':12,'sport':'golf'}\n",
    "my_favorite['fruit'] = 'mango'\n",
    "print('fruit 수정 후 :', my_favorite)\n",
    "my_favorite['people']='홍길동'\n",
    "print('people 키 추가후 :', my_favorite)\n",
    "print('데이터 갯수 :' ,len(my_favorite))\n",
    "# del my_favorite['sport'] # 'sport':'golf' 제거\n",
    "#del my_favorite['sport'] \n",
    "my_favorite.pop('sport')\n",
    "print('제거 후 :',  my_favorite)"
   ]
  },
  {
   "cell_type": "code",
   "execution_count": 228,
   "id": "03e4b5e5",
   "metadata": {},
   "outputs": [],
   "source": [
    "my_tuple = ('홍길동',30,'010-9999-9999')"
   ]
  },
  {
   "cell_type": "code",
   "execution_count": 229,
   "id": "1a4dca14",
   "metadata": {},
   "outputs": [
    {
     "name": "stdout",
     "output_type": "stream",
     "text": [
      "홍길동\t\n",
      "0번째 :홍길동\t1번째 :30\t2번째 :010-9999-9999\t30\t\n",
      "0번째 :홍길동\t1번째 :30\t2번째 :010-9999-9999\t010-9999-9999\t\n",
      "0번째 :홍길동\t1번째 :30\t2번째 :010-9999-9999\t0번째 : 홍길동\t1번째 : 30\t2번째 : 010-9999-9999\t"
     ]
    }
   ],
   "source": [
    "for data in my_tuple :\n",
    "    print(data, end='\\t')\n",
    "    print()\n",
    "    for idx in range(len(my_tuple)):\n",
    "        print(\"{}번째 :{}\\t\".format(idx,my_tuple[idx]),end=\"\")\n",
    "for idx, value in enumerate(my_tuple):\n",
    "              print('{}번째 : {}'.format(idx,value), end ='\\t')"
   ]
  },
  {
   "cell_type": "code",
   "execution_count": null,
   "id": "ac8f268d",
   "metadata": {},
   "outputs": [],
   "source": [
    "# for문을 이용한 딕셔너리 출력\n",
    "my_dic ={'name':'홍길동','age':30,'tel':'010-9999-9999'}"
   ]
  },
  {
   "cell_type": "code",
   "execution_count": null,
   "id": "76e0a82b",
   "metadata": {},
   "outputs": [],
   "source": [
    "# 비추\n",
    "for key in my_dic:\n",
    "    print(\"{}:{}\".format(key,my_dic[key]), end = '\\t')"
   ]
  },
  {
   "cell_type": "code",
   "execution_count": null,
   "id": "86c34d1e",
   "metadata": {},
   "outputs": [],
   "source": [
    "# 딕셔너리에서는 enumerate 사용에 의미가 없음\n",
    "for idx, value in enumerate(my_dic):\n",
    "    print('{}:{}'.format(idx,value))"
   ]
  },
  {
   "cell_type": "code",
   "execution_count": null,
   "id": "2460b188",
   "metadata": {},
   "outputs": [],
   "source": [
    "my_dic.keys() # key 목록"
   ]
  },
  {
   "cell_type": "code",
   "execution_count": null,
   "id": "4146579c",
   "metadata": {},
   "outputs": [],
   "source": [
    "my_dic.values() # 값들의 목록"
   ]
  },
  {
   "cell_type": "code",
   "execution_count": null,
   "id": "6ed678a1",
   "metadata": {},
   "outputs": [],
   "source": [
    "my_dic.items()# 키-값의 목록"
   ]
  },
  {
   "cell_type": "code",
   "execution_count": 226,
   "id": "61c1a846",
   "metadata": {},
   "outputs": [
    {
     "name": "stdout",
     "output_type": "stream",
     "text": [
      "홍\t33\t신림\t"
     ]
    }
   ],
   "source": [
    "for value in my_dic.values():\n",
    "    print(value,end='\\t')"
   ]
  },
  {
   "cell_type": "code",
   "execution_count": 225,
   "id": "a8c0c205",
   "metadata": {},
   "outputs": [
    {
     "name": "stdout",
     "output_type": "stream",
     "text": [
      "name:홍\tage:33\taddress:신림\t"
     ]
    }
   ],
   "source": [
    "for key, value in my_dic.items():\n",
    "    print(\"{}:{}\\t\".format(key,value), end='')"
   ]
  },
  {
   "cell_type": "code",
   "execution_count": null,
   "id": "b958eff9",
   "metadata": {},
   "outputs": [],
   "source": [
    "# in 연산자\n",
    "t = (10,20,30)\n",
    "30 in t"
   ]
  },
  {
   "cell_type": "code",
   "execution_count": null,
   "id": "0161b38b",
   "metadata": {},
   "outputs": [],
   "source": [
    "my_dic ={'name':'홍길동','age':30,'tel':'010-9999-9999'}\n",
    "'name' in my_dic\n",
    "# 딕셔너리에서의 in연산자는 키가 있는지 여부 반환"
   ]
  },
  {
   "cell_type": "code",
   "execution_count": null,
   "id": "e39dea26",
   "metadata": {},
   "outputs": [],
   "source": [
    "'홍길동' in my_dic"
   ]
  },
  {
   "cell_type": "code",
   "execution_count": null,
   "id": "e1846a50",
   "metadata": {},
   "outputs": [],
   "source": [
    "# 얕은 복사\n",
    "my_favorite = {'fruit':'apple','number':12}\n",
    "new_favorite = my_favorite; # 얕은 복사(할당)\n",
    "print('my_favorite의 주소 :', id(my_favorite))\n",
    "print('new_favorite의 주소 :', id(new_favorite))"
   ]
  },
  {
   "cell_type": "code",
   "execution_count": null,
   "id": "b39a0a22",
   "metadata": {},
   "outputs": [],
   "source": [
    "new_favorite['fruit'] = '과일은 다좋아 . 하나를 어찌 선택해'\n",
    "new_favorite['people'] = 'hong'\n",
    "print('원본 :', my_favorite)\n",
    "print('수정본 :', new_favorite)"
   ]
  },
  {
   "cell_type": "code",
   "execution_count": null,
   "id": "17b53b74",
   "metadata": {},
   "outputs": [],
   "source": [
    "# 깊은 복사\n",
    "my_favorite = {'fruit':'apple','number':12}\n",
    "new_favorite = my_favorite.copy(); # 깊은 복사(복제)\n",
    "print('my_favorite의 주소 :', id(my_favorite))\n",
    "print('new_favorite의 주소 :', id(new_favorite))\n",
    "new_favorite['fruit'] = '과일은 다좋아 . 하나를 어찌 선택해'\n",
    "new_favorite['people'] = 'hong'\n",
    "print('원본 :', my_favorite)\n",
    "print('수정본 :', new_favorite)"
   ]
  },
  {
   "cell_type": "markdown",
   "id": "c0bffea5",
   "metadata": {},
   "source": [
    "# 4절. 셋\n",
    "- 중복을 허용하지 않는 집합(순서x)\n",
    "- 중괄호({})나 set() 함수를 이용해서 셋 생성 : set([1,2]), set({'name':'홍길동'})\n",
    "- 추가 : add(), update()\n",
    "- 집합연산자 : &-교집합, |-합집합, -차집합, \n",
    "- 삭제 : remove()"
   ]
  },
  {
   "cell_type": "code",
   "execution_count": null,
   "id": "cc911c08",
   "metadata": {},
   "outputs": [],
   "source": [
    "fruits = {'banana','orange','apple','apple'}\n",
    "fruits"
   ]
  },
  {
   "cell_type": "code",
   "execution_count": 90,
   "id": "04f5821b",
   "metadata": {},
   "outputs": [
    {
     "data": {
      "text/plain": [
       "{1, 2, 3, 4}"
      ]
     },
     "execution_count": 90,
     "metadata": {},
     "output_type": "execute_result"
    }
   ],
   "source": [
    "s1 = set([1,2,3,4,4,4,4,4,4,4])\n",
    "s1\n"
   ]
  },
  {
   "cell_type": "code",
   "execution_count": null,
   "id": "34857fff",
   "metadata": {},
   "outputs": [],
   "source": [
    "s2 = set((1,2,3,1))\n",
    "s2"
   ]
  },
  {
   "cell_type": "code",
   "execution_count": null,
   "id": "e998c05c",
   "metadata": {},
   "outputs": [],
   "source": [
    "# set함수를 이용해서 딕셔너리를 셋으로 전환할때는 key만 적용\n",
    "s3 = set({'name':'홍','age':33,'add':'서울'})\n",
    "s3"
   ]
  },
  {
   "cell_type": "markdown",
   "id": "c7d3b43f",
   "metadata": {},
   "source": [
    "## 추가하기\n",
    "- add() : 기본자료형, 튜플 데이터 하나 추가. list, dic, set 유형은 add()함수 사용 불가\n",
    "- update() :  리스트, 튜플, 딕셔너리, 셋 요소를 하나씩 따로 추가. dic사용시 key만 적용\n",
    "            cf. list의 extend()"
   ]
  },
  {
   "cell_type": "code",
   "execution_count": null,
   "id": "9970c4a0",
   "metadata": {},
   "outputs": [],
   "source": [
    "s2.add(4)\n",
    "s2.add(5)\n",
    "s2.add((6,7,8))\n",
    "s2"
   ]
  },
  {
   "cell_type": "code",
   "execution_count": null,
   "id": "7a4c0215",
   "metadata": {},
   "outputs": [],
   "source": [
    "s2.add(0)\n",
    "s2"
   ]
  },
  {
   "cell_type": "code",
   "execution_count": null,
   "id": "49283079",
   "metadata": {},
   "outputs": [],
   "source": [
    "s2={1,2,3}\n",
    "s2.add(False)\n",
    "s2"
   ]
  },
  {
   "cell_type": "code",
   "execution_count": null,
   "id": "8ac5da5b",
   "metadata": {},
   "outputs": [],
   "source": [
    "s2.add(True)\n",
    "s2"
   ]
  },
  {
   "cell_type": "code",
   "execution_count": null,
   "id": "f205a12f",
   "metadata": {},
   "outputs": [],
   "source": [
    "s2.update((4,5,6))\n",
    "s2"
   ]
  },
  {
   "cell_type": "code",
   "execution_count": null,
   "id": "67b6c0b5",
   "metadata": {},
   "outputs": [],
   "source": [
    "s2.update({'name':'hong'})# 딕셔너리는 키만 추가\n",
    "s2"
   ]
  },
  {
   "cell_type": "code",
   "execution_count": 50,
   "id": "29706f5b",
   "metadata": {},
   "outputs": [
    {
     "data": {
      "text/plain": [
       "{1, 2, 3, 4}"
      ]
     },
     "execution_count": 50,
     "metadata": {},
     "output_type": "execute_result"
    }
   ],
   "source": [
    "# 삭제 : remove()\n",
    "s1 ={1,2,3,4,1,1}\n",
    "s1"
   ]
  },
  {
   "cell_type": "code",
   "execution_count": 51,
   "id": "697b2299",
   "metadata": {},
   "outputs": [],
   "source": [
    "s1.remove(2)"
   ]
  },
  {
   "cell_type": "code",
   "execution_count": 52,
   "id": "1f4ce4c2",
   "metadata": {},
   "outputs": [
    {
     "ename": "KeyError",
     "evalue": "9",
     "output_type": "error",
     "traceback": [
      "\u001b[1;31m---------------------------------------------------------------------------\u001b[0m",
      "\u001b[1;31mKeyError\u001b[0m                                  Traceback (most recent call last)",
      "Cell \u001b[1;32mIn[52], line 1\u001b[0m\n\u001b[1;32m----> 1\u001b[0m \u001b[43ms1\u001b[49m\u001b[38;5;241;43m.\u001b[39;49m\u001b[43mremove\u001b[49m\u001b[43m(\u001b[49m\u001b[38;5;241;43m9\u001b[39;49m\u001b[43m)\u001b[49m\n",
      "\u001b[1;31mKeyError\u001b[0m: 9"
     ]
    }
   ],
   "source": [
    "s1.remove(9)"
   ]
  },
  {
   "cell_type": "code",
   "execution_count": 54,
   "id": "bbef8a3c",
   "metadata": {},
   "outputs": [
    {
     "name": "stdout",
     "output_type": "stream",
     "text": [
      "9가 없습니다\n"
     ]
    }
   ],
   "source": [
    "if 9 in s1:\n",
    "    s1.remove(9)\n",
    "else:\n",
    "    print('9가 없습니다')"
   ]
  },
  {
   "cell_type": "code",
   "execution_count": 56,
   "id": "322c2453",
   "metadata": {},
   "outputs": [],
   "source": [
    "def safe_remove(lst, remove_item): # data : list, set\n",
    "    if remove_item in lst :\n",
    "        lst.remove(remove_item)\n",
    "    else:\n",
    "        print('해당 데이터는 없는 아이템입니다')"
   ]
  },
  {
   "cell_type": "code",
   "execution_count": 57,
   "id": "87ab0dbf",
   "metadata": {},
   "outputs": [
    {
     "name": "stdout",
     "output_type": "stream",
     "text": [
      "해당 데이터는 없는 아이템입니다\n"
     ]
    }
   ],
   "source": [
    "safe_remove(s1,9)"
   ]
  },
  {
   "cell_type": "code",
   "execution_count": 58,
   "id": "ee2dcef4",
   "metadata": {},
   "outputs": [
    {
     "data": {
      "text/plain": [
       "{1, 3, 4}"
      ]
     },
     "execution_count": 58,
     "metadata": {},
     "output_type": "execute_result"
    }
   ],
   "source": [
    "s1"
   ]
  },
  {
   "cell_type": "code",
   "execution_count": 60,
   "id": "7ab8428e",
   "metadata": {},
   "outputs": [
    {
     "ename": "KeyError",
     "evalue": "True",
     "output_type": "error",
     "traceback": [
      "\u001b[1;31m---------------------------------------------------------------------------\u001b[0m",
      "\u001b[1;31mKeyError\u001b[0m                                  Traceback (most recent call last)",
      "Cell \u001b[1;32mIn[60], line 1\u001b[0m\n\u001b[1;32m----> 1\u001b[0m \u001b[43ms1\u001b[49m\u001b[38;5;241;43m.\u001b[39;49m\u001b[43mremove\u001b[49m\u001b[43m(\u001b[49m\u001b[38;5;28;43;01mTrue\u001b[39;49;00m\u001b[43m)\u001b[49m\n\u001b[0;32m      2\u001b[0m s1\n",
      "\u001b[1;31mKeyError\u001b[0m: True"
     ]
    }
   ],
   "source": [
    "# 논리값 False는 0으로 삭제할 수 없으며, True는 1로 삭제할 수 있음\n",
    "# 논리값 0은 False으로 삭제할 수 있으며, 1은 True로 삭제할 수 없음\n",
    "s1.remove(True)\n",
    "s1"
   ]
  },
  {
   "cell_type": "markdown",
   "id": "39dd70e2",
   "metadata": {},
   "source": [
    "## 합집합(|) 교집합(&) 차집합(-)"
   ]
  },
  {
   "cell_type": "code",
   "execution_count": 61,
   "id": "59dc77ae",
   "metadata": {},
   "outputs": [
    {
     "name": "stdout",
     "output_type": "stream",
     "text": [
      "s1 : {1, 2, 3, 4, 5}\n",
      "s2 : {3, 4, 5, 6, 7}\n",
      "s1|s2 : {1, 2, 3, 4, 5, 6, 7}\n",
      "s1&s2 : {3, 4, 5}\n",
      "s1-s2 : {1, 2}\n"
     ]
    }
   ],
   "source": [
    "s1={1,2,3,4,5}\n",
    "s2={3,4,5,6,7}\n",
    "print('s1 :', s1)\n",
    "print('s2 :', s2)\n",
    "print('s1|s2 :', s1|s2) # &,| : 집합연산자, 논리연산자, 비트연산자\n",
    "print('s1&s2 :', s1&s2)\n",
    "print('s1-s2 :', s1-s2)"
   ]
  },
  {
   "cell_type": "code",
   "execution_count": 62,
   "id": "0491ebc3",
   "metadata": {},
   "outputs": [
    {
     "name": "stdout",
     "output_type": "stream",
     "text": [
      "{'순자', '길동', '길자'}\n"
     ]
    }
   ],
   "source": [
    "names={'길자','순자','길동'}\n",
    "print(names)"
   ]
  },
  {
   "cell_type": "code",
   "execution_count": 63,
   "id": "7ea076ce",
   "metadata": {},
   "outputs": [
    {
     "name": "stdout",
     "output_type": "stream",
     "text": [
      "순자\t길동\t길자\t"
     ]
    }
   ],
   "source": [
    "for name in names:\n",
    "    print(name, end='\\t')"
   ]
  },
  {
   "cell_type": "markdown",
   "id": "3267ddb3",
   "metadata": {},
   "source": [
    "# 5절 enumerate\n",
    "- 반복자 또는 순서 객체로 반복문을 처리할 때 사용하는 함수\n",
    "- 리스트, 튜플, 셋을 for 문에 사용시"
   ]
  },
  {
   "cell_type": "code",
   "execution_count": 64,
   "id": "af19ea23",
   "metadata": {},
   "outputs": [
    {
     "data": {
      "text/plain": [
       "[(0, '순자'), (1, '길동'), (2, '길자')]"
      ]
     },
     "execution_count": 64,
     "metadata": {},
     "output_type": "execute_result"
    }
   ],
   "source": [
    "list(enumerate(names))"
   ]
  },
  {
   "cell_type": "code",
   "execution_count": 65,
   "id": "b002c755",
   "metadata": {},
   "outputs": [
    {
     "name": "stdout",
     "output_type": "stream",
     "text": [
      "0.순자\t1.길동\t2.길자\t"
     ]
    }
   ],
   "source": [
    "for no,name in  enumerate(names):\n",
    "    print(\"{}.{}\".format(no,name),end='\\t')"
   ]
  },
  {
   "cell_type": "code",
   "execution_count": 68,
   "id": "0830aa7c",
   "metadata": {},
   "outputs": [
    {
     "name": "stdout",
     "output_type": "stream",
     "text": [
      "1.순자\n",
      "2.길동\n",
      "3.길자\n"
     ]
    }
   ],
   "source": [
    "names =['순자','길동','길자']\n",
    "\n",
    "for idx,name in enumerate(names):\n",
    "    print(\"{}.{}\".\n",
    "          format(idx+1,name))"
   ]
  },
  {
   "cell_type": "code",
   "execution_count": 70,
   "id": "ca114578",
   "metadata": {},
   "outputs": [
    {
     "name": "stdout",
     "output_type": "stream",
     "text": [
      "1.순자님의 연락처는010-9999-9999이고 서울 살아요\n",
      "2.길동님의 연락처는010-7777-7777이고 인천 살아요\n",
      "3.길자님의 연락처는010-6666-6666이고 판교 살아요\n"
     ]
    }
   ],
   "source": [
    "name= ['순자','길동','길자']\n",
    "tels= ['010-9999-9999','010-7777-7777','010-6666-6666']\n",
    "adds=['서울','인천','판교']\n",
    "for idx in range(len(names)):\n",
    "    print(\"{}.{}님의 연락처는{}이고 {} 살아요\".format(idx+1,names[idx],tels[idx],adds[idx]))"
   ]
  },
  {
   "cell_type": "code",
   "execution_count": 74,
   "id": "610c2ef8",
   "metadata": {},
   "outputs": [
    {
     "name": "stdout",
     "output_type": "stream",
     "text": [
      "홍\n",
      "33\n",
      "신림\n",
      "name:홍\n",
      "age:33\n",
      "address:신림\n"
     ]
    }
   ],
   "source": [
    "my_dic={'name':'홍','age':33,'address':'신림'}\n",
    "for data in my_dic.values(): # value값들만 추출\n",
    "    print(data)\n",
    "for key, value in my_dic.items(): # key -value값 추출\n",
    "    print(\"{}:{}\".format(key,value))"
   ]
  },
  {
   "cell_type": "code",
   "execution_count": 77,
   "id": "d44411a1",
   "metadata": {},
   "outputs": [
    {
     "data": {
      "text/plain": [
       "[(0, ('name', '홍')), (1, ('age', 33)), (2, ('address', '신림'))]"
      ]
     },
     "execution_count": 77,
     "metadata": {},
     "output_type": "execute_result"
    }
   ],
   "source": [
    "list(enumerate(my_dic.items()))"
   ]
  },
  {
   "cell_type": "code",
   "execution_count": null,
   "id": "704d5260",
   "metadata": {},
   "outputs": [],
   "source": [
    "for idx, (key,value) in enumerate(my_dic.items()):\n",
    "    print(\"{}.{} :{}\".format(idx+1, key, value))"
   ]
  },
  {
   "cell_type": "markdown",
   "id": "3bd98d99",
   "metadata": {},
   "source": [
    "## 연습문제(실습형)"
   ]
  },
  {
   "cell_type": "markdown",
   "id": "502b84c0",
   "metadata": {},
   "source": [
    "다음 리스트가 주어졌을 경우 요구사항대로 코드를 작성하시오\n",
    "numbers=[1,2,3,4,5,6,7,8,9,10]"
   ]
  },
  {
   "cell_type": "code",
   "execution_count": 204,
   "id": "3a1b00a4",
   "metadata": {},
   "outputs": [
    {
     "name": "stdout",
     "output_type": "stream",
     "text": [
      "[1, 2, 3, 4, 5, 6, 7, 8, 9, 10]\n"
     ]
    }
   ],
   "source": [
    "numbers=[1,2,3,4,5,6,7,8,9,10]\n",
    "\n",
    "print(numbers)"
   ]
  },
  {
   "cell_type": "code",
   "execution_count": 205,
   "id": "234bd535",
   "metadata": {},
   "outputs": [
    {
     "name": "stdout",
     "output_type": "stream",
     "text": [
      "[1, 2, 3, 4, 5, 6, 7, 8, 9, 10, 100]\n"
     ]
    }
   ],
   "source": [
    "numbers.append(100)\n",
    "print(numbers)"
   ]
  },
  {
   "cell_type": "code",
   "execution_count": 206,
   "id": "ccb1ef27",
   "metadata": {},
   "outputs": [
    {
     "name": "stdout",
     "output_type": "stream",
     "text": [
      "[1, 2, 3, 4, 5, 6, 7, 8, 9, 10, 100, 200, 300, 400, 500]\n"
     ]
    }
   ],
   "source": [
    "data=[200,300,400,500]\n",
    "numbers.extend(data)\n",
    "print(numbers)"
   ]
  },
  {
   "cell_type": "code",
   "execution_count": 207,
   "id": "f36a49d1",
   "metadata": {},
   "outputs": [
    {
     "data": {
      "text/plain": [
       "[1, 2, 3, 4, 5]"
      ]
     },
     "execution_count": 207,
     "metadata": {},
     "output_type": "execute_result"
    }
   ],
   "source": [
    "numbers[:5:]"
   ]
  },
  {
   "cell_type": "code",
   "execution_count": 268,
   "id": "522cb8a4",
   "metadata": {},
   "outputs": [
    {
     "data": {
      "text/plain": [
       "[1, 3, 5, 7, 9]"
      ]
     },
     "execution_count": 268,
     "metadata": {},
     "output_type": "execute_result"
    }
   ],
   "source": [
    "numbers[1::2]"
   ]
  },
  {
   "cell_type": "code",
   "execution_count": 209,
   "id": "e0ca2d04",
   "metadata": {},
   "outputs": [
    {
     "name": "stdout",
     "output_type": "stream",
     "text": [
      "[1, 0, 3, 0, 5, 0, 7, 0, 9, 0, 100, 0, 300, 0, 500]\n"
     ]
    }
   ],
   "source": [
    "numbers[1::2]=[0,0,0,0,0,0,0]\n",
    "print(numbers)"
   ]
  },
  {
   "cell_type": "code",
   "execution_count": 215,
   "id": "2968948c",
   "metadata": {},
   "outputs": [
    {
     "name": "stdout",
     "output_type": "stream",
     "text": [
      "[500, 0, 300, 0, 100, 0, 9, 0, 7, 0, 5, 0, 3, 0, 1]\n"
     ]
    }
   ],
   "source": [
    "print(numbers[::-1])"
   ]
  },
  {
   "cell_type": "code",
   "execution_count": 217,
   "id": "0e331065",
   "metadata": {},
   "outputs": [],
   "source": [
    "member_info = {'name':'홍길동', 'age':20, 'address':'서울시 마포구',\n",
    "'score':90}"
   ]
  },
  {
   "cell_type": "code",
   "execution_count": 219,
   "id": "c2f55368",
   "metadata": {},
   "outputs": [
    {
     "name": "stdout",
     "output_type": "stream",
     "text": [
      "서울시 마포구\n"
     ]
    }
   ],
   "source": [
    "print(member_info.get('address'))"
   ]
  },
  {
   "cell_type": "code",
   "execution_count": 223,
   "id": "8b032b8e",
   "metadata": {},
   "outputs": [
    {
     "name": "stdout",
     "output_type": "stream",
     "text": [
      "90\n"
     ]
    },
    {
     "data": {
      "text/plain": [
       "90"
      ]
     },
     "execution_count": 223,
     "metadata": {},
     "output_type": "execute_result"
    }
   ],
   "source": [
    "print(member_info.get('score'))\n",
    "member_info.pop('score')"
   ]
  },
  {
   "cell_type": "code",
   "execution_count": 224,
   "id": "2af96943",
   "metadata": {},
   "outputs": [],
   "source": [
    "member_info['address']='서울시 서대문구'"
   ]
  },
  {
   "cell_type": "code",
   "execution_count": 234,
   "id": "7a233d25",
   "metadata": {},
   "outputs": [
    {
     "data": {
      "text/plain": [
       "[('name', '홍길동'), ('age', 20), ('address', '서울시 서대문구')]"
      ]
     },
     "execution_count": 234,
     "metadata": {},
     "output_type": "execute_result"
    }
   ],
   "source": [
    "list(member_info.items())"
   ]
  },
  {
   "cell_type": "code",
   "execution_count": 236,
   "id": "48af7d94",
   "metadata": {},
   "outputs": [
    {
     "name": "stdout",
     "output_type": "stream",
     "text": [
      "['orange', 'banana']\n"
     ]
    }
   ],
   "source": [
    "L1 = ('orange','apple','banana','kiwi')\n",
    "new_list = [i for i in L1 if len(i)>5]\n",
    "print(new_list)"
   ]
  },
  {
   "cell_type": "code",
   "execution_count": 238,
   "id": "cfe2ad3a",
   "metadata": {},
   "outputs": [
    {
     "name": "stdout",
     "output_type": "stream",
     "text": [
      "[10, 9, 8, 7, 6, 5, 4, 3, 2, 1]\n"
     ]
    }
   ],
   "source": [
    "print(list(range(10,0,-1)))"
   ]
  },
  {
   "cell_type": "code",
   "execution_count": 239,
   "id": "c3789fbc",
   "metadata": {},
   "outputs": [
    {
     "data": {
      "text/plain": [
       "1"
      ]
     },
     "execution_count": 239,
     "metadata": {},
     "output_type": "execute_result"
    }
   ],
   "source": [
    "numbers_2d = [ [1,2,3,4,5], [10,20,30,40],[1,3,5],[2,] ]\n",
    "len(numbers_2d[3])"
   ]
  },
  {
   "cell_type": "code",
   "execution_count": 242,
   "id": "6f127b62",
   "metadata": {},
   "outputs": [
    {
     "data": {
      "text/plain": [
       "[1, 2, 3, 4, 5, 10, 20, 30, 40, 50]"
      ]
     },
     "execution_count": 242,
     "metadata": {},
     "output_type": "execute_result"
    }
   ],
   "source": [
    "numbers = [1,2,3,4,5]\n",
    "numbers.extend([10,20,30,40,50])\n",
    "numbers"
   ]
  },
  {
   "cell_type": "code",
   "execution_count": 245,
   "id": "f4d8792c",
   "metadata": {},
   "outputs": [
    {
     "name": "stdout",
     "output_type": "stream",
     "text": [
      "[0, 1, 0, 3, 0, 5, 0, 7, 0, 9]\n"
     ]
    }
   ],
   "source": [
    "numbers = list(range(10))\n",
    "numbers[ : : 2]= [0] * len(numbers[ : : 2])\n",
    "print(numbers)\n"
   ]
  },
  {
   "cell_type": "code",
   "execution_count": 246,
   "id": "f7b9d182",
   "metadata": {},
   "outputs": [
    {
     "name": "stdout",
     "output_type": "stream",
     "text": [
      "[0, 1, 1, 3, 2, 5, 3, 7, 4, 9]\n"
     ]
    }
   ],
   "source": [
    "numbers = [0, 1, 2, 3, 4, 5, 6, 7, 8, 9]\n",
    "numbers[ : : 2]= numbers[:5]\n",
    "print(numbers)\n"
   ]
  },
  {
   "cell_type": "code",
   "execution_count": 255,
   "id": "2ceb286a",
   "metadata": {},
   "outputs": [
    {
     "ename": "KeyError",
     "evalue": "0",
     "output_type": "error",
     "traceback": [
      "\u001b[1;31m---------------------------------------------------------------------------\u001b[0m",
      "\u001b[1;31mKeyError\u001b[0m                                  Traceback (most recent call last)",
      "Cell \u001b[1;32mIn[255], line 2\u001b[0m\n\u001b[0;32m      1\u001b[0m my_dic \u001b[38;5;241m=\u001b[39m {\u001b[38;5;124m'\u001b[39m\u001b[38;5;124ma\u001b[39m\u001b[38;5;124m'\u001b[39m:\u001b[38;5;241m10\u001b[39m, \u001b[38;5;124m'\u001b[39m\u001b[38;5;124mb\u001b[39m\u001b[38;5;124m'\u001b[39m:\u001b[38;5;241m20\u001b[39m, \u001b[38;5;124m'\u001b[39m\u001b[38;5;124mc\u001b[39m\u001b[38;5;124m'\u001b[39m:\u001b[38;5;241m30\u001b[39m}\n\u001b[1;32m----> 2\u001b[0m \u001b[43mmy_dic\u001b[49m\u001b[43m[\u001b[49m\u001b[38;5;241;43m0\u001b[39;49m\u001b[43m]\u001b[49m\n",
      "\u001b[1;31mKeyError\u001b[0m: 0"
     ]
    }
   ],
   "source": [
    "my_dic = {'a':10, 'b':20, 'c':30}\n",
    "my_dic[0]\n",
    "\n",
    "\n"
   ]
  },
  {
   "cell_type": "code",
   "execution_count": 262,
   "id": "dd1627dd",
   "metadata": {},
   "outputs": [
    {
     "name": "stdout",
     "output_type": "stream",
     "text": [
      "apple\n",
      "banana\n",
      "orange\n"
     ]
    }
   ],
   "source": [
    "fruits = [ 'apple', 'banana', 'orange']\n",
    "x, y, z = fruits\n",
    "print(x)\n",
    "print(y)\n",
    "print(z)"
   ]
  },
  {
   "cell_type": "code",
   "execution_count": 266,
   "id": "a4b3d12d",
   "metadata": {},
   "outputs": [
    {
     "name": "stdout",
     "output_type": "stream",
     "text": [
      "3\n"
     ]
    }
   ],
   "source": [
    "fruits = ['apple','banana','orange']\n",
    "print(len(fruits))\n"
   ]
  },
  {
   "cell_type": "code",
   "execution_count": null,
   "id": "efee4fc9",
   "metadata": {},
   "outputs": [],
   "source": [
    "# def"
   ]
  }
 ],
 "metadata": {
  "kernelspec": {
   "display_name": "Python 3 (ipykernel)",
   "language": "python",
   "name": "python3"
  },
  "language_info": {
   "codemirror_mode": {
    "name": "ipython",
    "version": 3
   },
   "file_extension": ".py",
   "mimetype": "text/x-python",
   "name": "python",
   "nbconvert_exporter": "python",
   "pygments_lexer": "ipython3",
   "version": "3.10.9"
  },
  "toc": {
   "base_numbering": 1,
   "nav_menu": {},
   "number_sections": true,
   "sideBar": true,
   "skip_h1_title": false,
   "title_cell": "Table of Contents",
   "title_sidebar": "Contents",
   "toc_cell": false,
   "toc_position": {
    "height": "calc(100% - 180px)",
    "left": "10px",
    "top": "150px",
    "width": "196px"
   },
   "toc_section_display": true,
   "toc_window_display": true
  }
 },
 "nbformat": 4,
 "nbformat_minor": 5
}
