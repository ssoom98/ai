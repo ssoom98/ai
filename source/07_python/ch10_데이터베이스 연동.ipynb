{
 "cells": [
  {
   "cell_type": "code",
   "execution_count": 1,
   "id": "b44b0577",
   "metadata": {},
   "outputs": [
    {
     "data": {
      "text/html": [
       "\n",
       "<style>\n",
       "div.container{width:80% !important;}\n",
       "div.CodeMirror {font-family:Consolas; font-size:12pt;}\n",
       "div.output {font-size:12pt; font-weight:bold;}\n",
       "div.input {font-family:Consolas; font-size:12pt;}\n",
       "div.prompt {min-width:70px;}\n",
       "div#toc-header{margin-top:150px;}\n",
       "</style>\n",
       "<style>\n",
       "span.toc-item-num{\n",
       "display:none;\n",
       "}\n",
       "</style>\n"
      ],
      "text/plain": [
       "<IPython.core.display.HTML object>"
      ]
     },
     "metadata": {},
     "output_type": "display_data"
    }
   ],
   "source": [
    "from IPython.display import display, HTML\n",
    "display(HTML(\"\"\"\n",
    "<style>\n",
    "div.container{width:80% !important;}\n",
    "div.CodeMirror {font-family:Consolas; font-size:12pt;}\n",
    "div.output {font-size:12pt; font-weight:bold;}\n",
    "div.input {font-family:Consolas; font-size:12pt;}\n",
    "div.prompt {min-width:70px;}\n",
    "div#toc-header{margin-top:150px;}\n",
    "</style>\n",
    "<style>\n",
    "span.toc-item-num{\n",
    "display:none;\n",
    "}\n",
    "</style>\n",
    "\"\"\"))"
   ]
  },
  {
   "cell_type": "markdown",
   "id": "88d8261b",
   "metadata": {},
   "source": [
    "<b><font size=\"6\" color=\"red\">ch10. 데이터베이스 연동</font></b>"
   ]
  },
  {
   "cell_type": "markdown",
   "id": "84b50845",
   "metadata": {},
   "source": [
    "# 1절. SQLite\n",
    "- SQLite 데이터 베이스는 별도의 DBMS없이 SQL을 이용하여 DB 엑세스 할 수 있도록 만든 간단한 디스크 기반의 DB제공\n",
    "- C 라이브러리\n",
    "- SQLite는 프로토 타입을 만들 때 사용\n",
    "- 프로젝트 단계 : 분석 -> 설계 -> 구현 -> 테스트 -> 고객에게 배포 -> 유지보수\n",
    "                -  프로토타입         시제품          완제품(Oracle, Mysql, Maria...)\n",
    "- \n",
    "- [DB browser for SQLite](https://sqlitebrowser.org/dl/)\n",
    "\n",
    "## 1.1 SQLite browser 설치 및 sqlite3 패키지 load"
   ]
  },
  {
   "cell_type": "code",
   "execution_count": 4,
   "id": "b00a9c12",
   "metadata": {},
   "outputs": [
    {
     "data": {
      "text/plain": [
       "'3.40.1'"
      ]
     },
     "execution_count": 4,
     "metadata": {},
     "output_type": "execute_result"
    }
   ],
   "source": [
    "import sqlite3\n",
    "sqlite3.sqlite_version # sqlite3 패키지의 버전"
   ]
  },
  {
   "cell_type": "code",
   "execution_count": null,
   "id": "f665ed86",
   "metadata": {},
   "outputs": [],
   "source": [
    "import pandas as pd\n",
    "pd.__version__"
   ]
  },
  {
   "cell_type": "code",
   "execution_count": null,
   "id": "c9e56604",
   "metadata": {},
   "outputs": [],
   "source": [
    "import numpy as np\n",
    "np.__version__"
   ]
  },
  {
   "cell_type": "markdown",
   "id": "490d0dc3",
   "metadata": {},
   "source": [
    "## 1.2 데이터베이스 생성 및 연결\n",
    "- SQLite DB연결시, DB파일이 있으면 연결, DB파일이 없으면 빈 DB파일 생성"
   ]
  },
  {
   "cell_type": "code",
   "execution_count": 10,
   "id": "c9a0eb8c",
   "metadata": {},
   "outputs": [
    {
     "data": {
      "text/plain": [
       "<sqlite3.Connection at 0x29bb89aa540>"
      ]
     },
     "execution_count": 10,
     "metadata": {},
     "output_type": "execute_result"
    }
   ],
   "source": [
    "# DB 연결\n",
    "conn = sqlite3.connect('data/ch10_example.db')\n",
    "conn"
   ]
  },
  {
   "cell_type": "code",
   "execution_count": 11,
   "id": "22f79017",
   "metadata": {},
   "outputs": [
    {
     "data": {
      "text/plain": [
       "<sqlite3.Cursor at 0x29bb89c47c0>"
      ]
     },
     "execution_count": 11,
     "metadata": {},
     "output_type": "execute_result"
    }
   ],
   "source": [
    "# 커서 객체 생성 커서는 SQL문을 실행시키고, 결과데이터를 조회(select, 그외)하는데 사용하는 객체\n",
    "\n",
    "cursor = conn.cursor()\n",
    "cursor\n"
   ]
  },
  {
   "cell_type": "code",
   "execution_count": null,
   "id": "4b37c878",
   "metadata": {},
   "outputs": [],
   "source": [
    "cursor.execute('DROP TABLE MEMBER')"
   ]
  },
  {
   "cell_type": "code",
   "execution_count": null,
   "id": "74e60842",
   "metadata": {},
   "outputs": [],
   "source": [
    "cursor.execute('''\n",
    "    CREATE TABLE MEMBER (\n",
    "        NAME TEXT,\n",
    "        AGE INT,\n",
    "        EMAIL TEXT\n",
    "    )\n",
    "\n",
    "''')"
   ]
  },
  {
   "cell_type": "code",
   "execution_count": null,
   "id": "9c03d4fd",
   "metadata": {},
   "outputs": [],
   "source": [
    "cursor.execute('INSERT INTO MEMBER VALUES(\\'홍길동\\',20,\\'h@h.com\\')')\n",
    "print('수행 결과 행수 :', cursor.rowcount)\n",
    "sql = \"INSERT INTO MEMBER VALUES('신길동',25, 's@s.com')\"\n",
    "cursor.execute(sql)\n",
    "print('수행 결과 행수 :', cursor.rowcount)\n",
    "cursor.execute('INSERT INTO MEMBER VALUES(\\'긴길동\\',20,\\'h@h.com\\')')\n",
    "print('수행 결과 행수 :', cursor.rowcount)"
   ]
  },
  {
   "cell_type": "code",
   "execution_count": null,
   "id": "cd05575c",
   "metadata": {},
   "outputs": [],
   "source": [
    "conn.commit() # conn.rolback() DML문에서만 commit"
   ]
  },
  {
   "cell_type": "code",
   "execution_count": null,
   "id": "daac4e91",
   "metadata": {},
   "outputs": [],
   "source": [
    "# SQL 전송 결과는 cursor가 가리킴\n",
    "cursor.execute(\"SELECT * FROM MEMBER ORDER BY NAME\")"
   ]
  },
  {
   "cell_type": "code",
   "execution_count": null,
   "id": "b1d451cb",
   "metadata": {},
   "outputs": [],
   "source": [
    "# insert, update, delete 문 실행 결과: cursor.rowcount\n",
    "# select문 실행 결과를 받는 함수들\n",
    "    ## fetchone() : 결과를 한행씩 받을때 (튜플)\n",
    "    ## fetchall() : 결과를 모두 받을 때 (튜플 list)\n",
    "    ## fetchmany(n) : 결과를 n행 받을때 (튜플 list)\n",
    "print(cursor.fetchall())"
   ]
  },
  {
   "cell_type": "code",
   "execution_count": null,
   "id": "cb26b73a",
   "metadata": {},
   "outputs": [],
   "source": [
    "print(cursor.fetchall()) # 한번 소요된 cursor 객체는 다시 fetch할 수 없음"
   ]
  },
  {
   "cell_type": "code",
   "execution_count": null,
   "id": "3c28eec9",
   "metadata": {},
   "outputs": [],
   "source": [
    "cursor.execute(\"SELECT NAME,AGE,EMAIL FROM MEMBER ORDER BY AGE\")\n",
    "members = cursor.fetchall()\n",
    "members # 튜플리스트"
   ]
  },
  {
   "cell_type": "code",
   "execution_count": null,
   "id": "4e187f72",
   "metadata": {},
   "outputs": [],
   "source": [
    "# 한줄씩 읽기\n",
    "cursor.execute(\"SELECT NAME, AGE, EMAIL FROM MEMBER ORDER BY AGE\")\n",
    "member_list = []\n",
    "while True:\n",
    "    member = cursor.fetchone() # SQL문 수행 결과 한줄 가져오기\n",
    "    if member is None:\n",
    "        break\n",
    "    member_list.append({'name':member[0],'age':member[1],'email':member[2]}"
   ]
  },
  {
   "cell_type": "code",
   "execution_count": null,
   "id": "f422ef6a",
   "metadata": {},
   "outputs": [],
   "source": [
    "member_list"
   ]
  },
  {
   "cell_type": "code",
   "execution_count": null,
   "id": "06041a4c",
   "metadata": {},
   "outputs": [],
   "source": [
    "# 최상위 n행 읽기\n",
    "cursor.execute(\"SELECT NAME, AGE,EMAIL FROM MEMbER ORDER BY AGE\")\n",
    "for member in cursor.fetchmany(10):\n",
    "    print(member)"
   ]
  },
  {
   "cell_type": "code",
   "execution_count": 6,
   "id": "05409685",
   "metadata": {},
   "outputs": [],
   "source": [
    "class Member:\n",
    "    'Member 테이블의 내용을 받을 객체 타임'\n",
    "    def __init__(self,name,age,email):\n",
    "        self.name=name\n",
    "        self.age=age\n",
    "        self.email=email\n",
    "    def as_dic(self): # insert문 전송시 필요\n",
    "        return{'name':self.name,\n",
    "                'age': self.age,\n",
    "               'email':self.email}\n",
    "    def __str__(self):\n",
    "        return \"{}\\t{}\\t{}\".format(self.name,self.age,self.email)\n",
    "    \n",
    "def to_member(*row): # 튜플 데이터를 매개변수로 받아 Member형 객체로 return\n",
    "    return Member(row[0],row[1],row[2])"
   ]
  },
  {
   "cell_type": "code",
   "execution_count": null,
   "id": "3f3036c1",
   "metadata": {},
   "outputs": [],
   "source": [
    "dbreadmember = ('홍길동', 20,'h@h.com')\n",
    "m = to_member(*dbreadmember) # 튜플 언패킹\n",
    "print(m)\n",
    "print(m.as_dic())"
   ]
  },
  {
   "cell_type": "code",
   "execution_count": null,
   "id": "9696b252",
   "metadata": {},
   "outputs": [],
   "source": [
    "# DB검색 결과를 객체 list 로\n",
    "cursor.execute('SELECT NAME, AGE, EMAIL FROM MEMBER')\n",
    "member_list = [] # sql 문 수행 결과를 담을 객체 list\n",
    "members = cursor.fetchall() #튜플 list\n",
    "#print(members)\n",
    "for member in members:\n",
    "    member_list.append(to_member(*member))"
   ]
  },
  {
   "cell_type": "code",
   "execution_count": null,
   "id": "205a47fe",
   "metadata": {},
   "outputs": [],
   "source": [
    "type(members[0]), type(member_list[0])"
   ]
  },
  {
   "cell_type": "code",
   "execution_count": null,
   "id": "3b5d835b",
   "metadata": {},
   "outputs": [],
   "source": [
    "for member in member_list:\n",
    "    print(member)"
   ]
  },
  {
   "cell_type": "code",
   "execution_count": null,
   "id": "38655049",
   "metadata": {},
   "outputs": [],
   "source": [
    "cursor.close() # cursor.close()는 생략 가능\n",
    "conn.close()"
   ]
  },
  {
   "cell_type": "markdown",
   "id": "88e3cddb",
   "metadata": {},
   "source": [
    "## 1.3 SQL구문에 파라미터 사용하기\n",
    "- qmark(db에 따라 불가한 경우가 있음)\n",
    "- named(추천)\n"
   ]
  },
  {
   "cell_type": "code",
   "execution_count": 8,
   "id": "ec4e356a",
   "metadata": {},
   "outputs": [
    {
     "data": {
      "text/plain": [
       "[('홍길동', 20, 'h@h.com'),\n",
       " ('신길동', 25, 's@s.com'),\n",
       " ('홍길동', 20, 'h@h.com'),\n",
       " ('신길동', 25, 's@s.com')]"
      ]
     },
     "execution_count": 8,
     "metadata": {},
     "output_type": "execute_result"
    }
   ],
   "source": [
    "conn = sqlite3.connect('data/ch10_example.db')\n",
    "cursor = conn.cursor()\n",
    "cursor.execute('SELECT * FROM MEMBER WHERE NAME IN (\\'홍길동\\',\\'신길동\\')')\n",
    "cursor.fetchall()"
   ]
  },
  {
   "cell_type": "code",
   "execution_count": null,
   "id": "01a28949",
   "metadata": {},
   "outputs": [],
   "source": [
    "name1 = input('검색할 이름1:')\n",
    "name2 = input('검색할 이름2:')\n",
    "names = (name1,name2)\n",
    "cursor.execute(\"SELECT * FROM MEMBER WHERE NAME IN(?,?)\",(names))\n",
    "cursor.fetchall()"
   ]
  },
  {
   "cell_type": "code",
   "execution_count": 16,
   "id": "22bf3e77",
   "metadata": {},
   "outputs": [
    {
     "ename": "KeyboardInterrupt",
     "evalue": "Interrupted by user",
     "output_type": "error",
     "traceback": [
      "\u001b[1;31m---------------------------------------------------------------------------\u001b[0m",
      "\u001b[1;31mKeyboardInterrupt\u001b[0m                         Traceback (most recent call last)",
      "Cell \u001b[1;32mIn[16], line 2\u001b[0m\n\u001b[0;32m      1\u001b[0m \u001b[38;5;66;03m# 파라미터 사용하기 : named 방법이용\u001b[39;00m\n\u001b[1;32m----> 2\u001b[0m name \u001b[38;5;241m=\u001b[39m \u001b[38;5;28;43minput\u001b[39;49m\u001b[43m(\u001b[49m\u001b[38;5;124;43m'\u001b[39;49m\u001b[38;5;124;43m검색할 이름은 >\u001b[39;49m\u001b[38;5;124;43m'\u001b[39;49m\u001b[43m)\u001b[49m\n\u001b[0;32m      3\u001b[0m cursor\u001b[38;5;241m.\u001b[39mexecute(\u001b[38;5;124m\"\u001b[39m\u001b[38;5;124mSELECT *FROM MEMBER WHERE NAME=:name\u001b[39m\u001b[38;5;124m\"\u001b[39m,{\u001b[38;5;124m'\u001b[39m\u001b[38;5;124mname\u001b[39m\u001b[38;5;124m'\u001b[39m:name})\n\u001b[0;32m      4\u001b[0m members \u001b[38;5;241m=\u001b[39m cursor\u001b[38;5;241m.\u001b[39mfetchall()\n",
      "File \u001b[1;32m~\\anaconda3\\lib\\site-packages\\ipykernel\\kernelbase.py:1175\u001b[0m, in \u001b[0;36mKernel.raw_input\u001b[1;34m(self, prompt)\u001b[0m\n\u001b[0;32m   1171\u001b[0m \u001b[38;5;28;01mif\u001b[39;00m \u001b[38;5;129;01mnot\u001b[39;00m \u001b[38;5;28mself\u001b[39m\u001b[38;5;241m.\u001b[39m_allow_stdin:\n\u001b[0;32m   1172\u001b[0m     \u001b[38;5;28;01mraise\u001b[39;00m StdinNotImplementedError(\n\u001b[0;32m   1173\u001b[0m         \u001b[38;5;124m\"\u001b[39m\u001b[38;5;124mraw_input was called, but this frontend does not support input requests.\u001b[39m\u001b[38;5;124m\"\u001b[39m\n\u001b[0;32m   1174\u001b[0m     )\n\u001b[1;32m-> 1175\u001b[0m \u001b[38;5;28;01mreturn\u001b[39;00m \u001b[38;5;28;43mself\u001b[39;49m\u001b[38;5;241;43m.\u001b[39;49m\u001b[43m_input_request\u001b[49m\u001b[43m(\u001b[49m\n\u001b[0;32m   1176\u001b[0m \u001b[43m    \u001b[49m\u001b[38;5;28;43mstr\u001b[39;49m\u001b[43m(\u001b[49m\u001b[43mprompt\u001b[49m\u001b[43m)\u001b[49m\u001b[43m,\u001b[49m\n\u001b[0;32m   1177\u001b[0m \u001b[43m    \u001b[49m\u001b[38;5;28;43mself\u001b[39;49m\u001b[38;5;241;43m.\u001b[39;49m\u001b[43m_parent_ident\u001b[49m\u001b[43m[\u001b[49m\u001b[38;5;124;43m\"\u001b[39;49m\u001b[38;5;124;43mshell\u001b[39;49m\u001b[38;5;124;43m\"\u001b[39;49m\u001b[43m]\u001b[49m\u001b[43m,\u001b[49m\n\u001b[0;32m   1178\u001b[0m \u001b[43m    \u001b[49m\u001b[38;5;28;43mself\u001b[39;49m\u001b[38;5;241;43m.\u001b[39;49m\u001b[43mget_parent\u001b[49m\u001b[43m(\u001b[49m\u001b[38;5;124;43m\"\u001b[39;49m\u001b[38;5;124;43mshell\u001b[39;49m\u001b[38;5;124;43m\"\u001b[39;49m\u001b[43m)\u001b[49m\u001b[43m,\u001b[49m\n\u001b[0;32m   1179\u001b[0m \u001b[43m    \u001b[49m\u001b[43mpassword\u001b[49m\u001b[38;5;241;43m=\u001b[39;49m\u001b[38;5;28;43;01mFalse\u001b[39;49;00m\u001b[43m,\u001b[49m\n\u001b[0;32m   1180\u001b[0m \u001b[43m\u001b[49m\u001b[43m)\u001b[49m\n",
      "File \u001b[1;32m~\\anaconda3\\lib\\site-packages\\ipykernel\\kernelbase.py:1217\u001b[0m, in \u001b[0;36mKernel._input_request\u001b[1;34m(self, prompt, ident, parent, password)\u001b[0m\n\u001b[0;32m   1214\u001b[0m             \u001b[38;5;28;01mbreak\u001b[39;00m\n\u001b[0;32m   1215\u001b[0m \u001b[38;5;28;01mexcept\u001b[39;00m \u001b[38;5;167;01mKeyboardInterrupt\u001b[39;00m:\n\u001b[0;32m   1216\u001b[0m     \u001b[38;5;66;03m# re-raise KeyboardInterrupt, to truncate traceback\u001b[39;00m\n\u001b[1;32m-> 1217\u001b[0m     \u001b[38;5;28;01mraise\u001b[39;00m \u001b[38;5;167;01mKeyboardInterrupt\u001b[39;00m(\u001b[38;5;124m\"\u001b[39m\u001b[38;5;124mInterrupted by user\u001b[39m\u001b[38;5;124m\"\u001b[39m) \u001b[38;5;28;01mfrom\u001b[39;00m \u001b[38;5;28mNone\u001b[39m\n\u001b[0;32m   1218\u001b[0m \u001b[38;5;28;01mexcept\u001b[39;00m \u001b[38;5;167;01mException\u001b[39;00m:\n\u001b[0;32m   1219\u001b[0m     \u001b[38;5;28mself\u001b[39m\u001b[38;5;241m.\u001b[39mlog\u001b[38;5;241m.\u001b[39mwarning(\u001b[38;5;124m\"\u001b[39m\u001b[38;5;124mInvalid Message:\u001b[39m\u001b[38;5;124m\"\u001b[39m, exc_info\u001b[38;5;241m=\u001b[39m\u001b[38;5;28;01mTrue\u001b[39;00m)\n",
      "\u001b[1;31mKeyboardInterrupt\u001b[0m: Interrupted by user"
     ]
    }
   ],
   "source": [
    "# 파라미터 사용하기 : named 방법이용\n",
    "name = input('검색할 이름은 >')\n",
    "cursor.execute(\"SELECT *FROM MEMBER WHERE NAME=:name\",{'name':name})\n",
    "members = cursor.fetchall()\n",
    "if len(members):\n",
    "    print(members)\n",
    "else : \n",
    "    print('해당 이름의 데이터가 없습니다')"
   ]
  },
  {
   "cell_type": "code",
   "execution_count": null,
   "id": "2ae1132c",
   "metadata": {},
   "outputs": [],
   "source": [
    "# named 방법\n",
    "name1 = input('검색할 이름1:')\n",
    "name2 = input('검색할 이름2:')\n",
    "names = (name1,name2)\n",
    "cursor.execute(\"SELECT * FROM MEMBER WHERE NAME IN(:name1,:name2)\",{'name1':name1,\n",
    "                                                                   'name2':name2})\n",
    "cursor.fetchall()"
   ]
  },
  {
   "cell_type": "code",
   "execution_count": null,
   "id": "5718f8a9",
   "metadata": {},
   "outputs": [],
   "source": [
    "# named 방법\n",
    "name1 = input('검색할 이름1:')\n",
    "name2 = input('검색할 이름2:')\n",
    "names = {'name1':name1,'name2':name2}\n",
    "#cursor.execute(\"SELECT * FROM MEMBER WHERE NAME IN(:name1,:name2)\",{'name1':name1,\n",
    "#                                                                   'name2':name2})\n",
    "cursor.execute(\"SELECT * FROM MEMBER WHERE NAME IN(:name1,:name2)\",names)\n",
    "cursor.fetchall()"
   ]
  },
  {
   "cell_type": "code",
   "execution_count": 12,
   "id": "c78780bb",
   "metadata": {},
   "outputs": [
    {
     "name": "stdout",
     "output_type": "stream",
     "text": [
      "입력할 이름은:김수민\n",
      "입력할 나이는:ㅁ\n",
      "유효하지 않은 나이를 입력하신 경우 18세로 초기화\n",
      "입력할 메일은 :s@s.com\n",
      "저장완료\n"
     ]
    }
   ],
   "source": [
    "# MEMBER 테이블에 입력(사용자로부터 이름 나이 메일을 입력받아 insert)\n",
    "try:\n",
    "    name = input('입력할 이름은:')\n",
    "    age = int(input('입력할 나이는:'))\n",
    "except ValueError:\n",
    "    print('유효하지 않은 나이를 입력하신 경우 18세로 초기화')\n",
    "    age = 18\n",
    "finally:\n",
    "    email = input('입력할 메일은 :')\n",
    "inputdata={'name':name,'age':age,'email':email}\n",
    "inputdata2=(name,age,email) # qmark방식\n",
    "#cursor.execute('INSERT INTO MEMBER VALUES(?,?,?)', inputdata2)\n",
    "cursor.execute('INSERT INTO MEMBER VALUES(:name,:age,:email)', \n",
    "               inputdata)\n",
    "conn.commit()\n",
    "if cursor.rowcount ==1:\n",
    "    print('저장완료')\n"
   ]
  },
  {
   "cell_type": "code",
   "execution_count": 77,
   "id": "c743dc2a",
   "metadata": {},
   "outputs": [
    {
     "data": {
      "text/plain": [
       "[('최수민', '010-4413-3419', 'soom@siim.com', 27, 1, 'soom')]"
      ]
     },
     "execution_count": 77,
     "metadata": {},
     "output_type": "execute_result"
    }
   ],
   "source": [
    "cursor.execute('SELECT * FROM MEMBER')\n",
    "cursor.fetchall()"
   ]
  },
  {
   "cell_type": "code",
   "execution_count": 18,
   "id": "5e27fdce",
   "metadata": {},
   "outputs": [
    {
     "name": "stdout",
     "output_type": "stream",
     "text": [
      "입력할 이름은:ririri\n",
      "입력할 나이는:23\n",
      "입력할 메일은 :ri@ri.com\n",
      "{'name': 'ririri', 'age': '23', 'email': 'ri@ri.com'}\n",
      "입력성공\n"
     ]
    }
   ],
   "source": [
    "# MEMBER 테이블에 입력(사용자로부터 이름 나이 메일을 입력받아 insert)\n",
    "try:\n",
    "    name = input('입력할 이름은:')\n",
    "    age = input('입력할 나이는:')\n",
    "except ValueError:\n",
    "    print('유효하지 않은 나이를 입력하신 경우 18세로 초기화')\n",
    "    age = 18\n",
    "finally:\n",
    "    email = input('입력할 메일은 :')\n",
    "    \n",
    "newMember = Member(name,age,email)\n",
    "print(newMember.as_dic())\n",
    "cursor.execute('INSERT INTO MEMBER VALUES (:name,:age,:email)',newMember.as_dic())\n",
    "conn.commit()\n",
    "if cursor.rowcount==1:\n",
    "    print('입력성공')"
   ]
  },
  {
   "cell_type": "code",
   "execution_count": 14,
   "id": "8b671783",
   "metadata": {},
   "outputs": [
    {
     "name": "stdout",
     "output_type": "stream",
     "text": [
      "입력할 이름은(종료는 0):0\n",
      "입력할 메일은 :a\n",
      "입력된 데이터는 0명입니다\n"
     ]
    }
   ],
   "source": [
    "# member 테이블에 데이터를 n번 입력하고\n",
    "# 이름에 0을 입력할때까지 이름, 나이, 메일을 받아 insert\n",
    "# 이름에 0을 입력하면 이때까지 입력한 데이터들을 출력하고 몇명을 입력했는지도 출력\n",
    "\n",
    "member_list = [] # 입력한 member들이 저장 될 list변수\n",
    "while True:\n",
    "    try:\n",
    "        name = input('입력할 이름은(종료는 0):')\n",
    "        if name=='0':\n",
    "            break\n",
    "        age = int(input('입력할 나이는'))\n",
    "    except ValueError:\n",
    "        print('유효하지 않은 나이입니다. 18세로 초기화')\n",
    "        age = 18\n",
    "        \n",
    "    finally:\n",
    "        email = input('입력할 메일은 :')\n",
    "    newMember = {'name':name,'age':age,'email':email}\n",
    "    member_list.append(newMember)\n",
    "    cursor.execute('INSERT INTO MEMBER VALUES(:name, :age,:email)',newMember)\n",
    "conn.commit()\n",
    "print('입력된 데이터는 ', len(member_list), '명입니다', sep='')\n",
    "for member in member_list:\n",
    "    print(\"{}\\t{}\\t{}\".format(member['name'],member['age'],member['email']))"
   ]
  },
  {
   "cell_type": "code",
   "execution_count": 19,
   "id": "ab847c9d",
   "metadata": {},
   "outputs": [
    {
     "name": "stdout",
     "output_type": "stream",
     "text": [
      "입력할 이름은(종료는 0):0\n",
      "0\t25\tramaba@ra.com\n",
      "입력된 자료는 다음과 같이 1명입니다\n",
      "이름\t나이\t메일\n",
      "0\t25\tramaba@ra.com\n"
     ]
    }
   ],
   "source": [
    "member_list = [] # 입력한 member들이 저장 될 list변수(딕셔너리 리스트)\n",
    "while True:\n",
    "    try:\n",
    "        name = input('입력할 이름은(종료는 0):')\n",
    "        if name=='0':\n",
    "            break\n",
    "        age = int(input('입력할 나이는'))\n",
    "        email = input('입력할 메일은 :')\n",
    "    except ValueError:\n",
    "        print('유효하지 않은 나이입니다. 18세로 초기화')\n",
    "        age = 18\n",
    "        \n",
    "    finally:  \n",
    "        newMember = Member(name,age,email)\n",
    "        member_list.append(newMember)\n",
    "        cursor.execute('INSERT INTO MEMBER VALUES(:name, :age,:email)',newMember.as_dic())\n",
    "        print(newMember)\n",
    "conn.commit()\n",
    "print('입력된 자료는 다음과 같이 {}명입니다'.format(len(member_list)))\n",
    "print('이름\\t나이\\t메일')\n",
    "for member in member_list:\n",
    "    print(member)"
   ]
  },
  {
   "cell_type": "code",
   "execution_count": 20,
   "id": "0da68e0c",
   "metadata": {},
   "outputs": [],
   "source": [
    "cursor.close()\n",
    "conn.close()"
   ]
  },
  {
   "cell_type": "markdown",
   "id": "063a2219",
   "metadata": {},
   "source": [
    "# 2절. 오라클 데이터 베이스 연결\n",
    "- [cx_Oracle](https://cx-oracle.readthedocs.io/en/latest/)"
   ]
  },
  {
   "cell_type": "code",
   "execution_count": 21,
   "id": "f4771967",
   "metadata": {},
   "outputs": [],
   "source": [
    "import cx_Oracle"
   ]
  },
  {
   "cell_type": "code",
   "execution_count": 25,
   "id": "901cea57",
   "metadata": {},
   "outputs": [
    {
     "name": "stdout",
     "output_type": "stream",
     "text": [
      "(DESCRIPTION=(ADDRESS=(PROTOCOL=TCP)(HOST=localhost)(PORT=1521))(CONNECT_DATA=(SID=xe)))\n"
     ]
    },
    {
     "data": {
      "text/plain": [
       "<cx_Oracle.Connection to scott@(DESCRIPTION=(ADDRESS=(PROTOCOL=TCP)(HOST=localhost)(PORT=1521))(CONNECT_DATA=(SID=xe)))>"
      ]
     },
     "execution_count": 25,
     "metadata": {},
     "output_type": "execute_result"
    }
   ],
   "source": [
    "# conn 얻어오는 방법 1\n",
    "oracle_dsn = cx_Oracle.makedsn(host=\"localhost\",port=1521,sid='xe')\n",
    "print(oracle_dsn)\n",
    "conn = cx_Oracle.connect(\"scott\",\"tiger\",dsn= oracle_dsn)\n",
    "conn\n",
    "# 여기서 예외가 날 경우 VS_redist.x64.exe"
   ]
  },
  {
   "cell_type": "code",
   "execution_count": 26,
   "id": "c9a851c8",
   "metadata": {},
   "outputs": [],
   "source": [
    "conn.close()"
   ]
  },
  {
   "cell_type": "code",
   "execution_count": 28,
   "id": "9cf784be",
   "metadata": {},
   "outputs": [
    {
     "data": {
      "text/plain": [
       "<cx_Oracle.Connection to scott@localhost:1521/xe>"
      ]
     },
     "execution_count": 28,
     "metadata": {},
     "output_type": "execute_result"
    }
   ],
   "source": [
    "# conn 얻어오는 방법 2\n",
    "conn = cx_Oracle.connect(\"scott\",\"tiger\",\"localhost:1521/xe\")\n",
    "conn"
   ]
  },
  {
   "cell_type": "code",
   "execution_count": 29,
   "id": "72864246",
   "metadata": {},
   "outputs": [],
   "source": [
    "# cursor 객체 생성\n",
    "cursor= conn.cursor()\n",
    "sql = \"SELECT * FROM EMP\"\n",
    "cursor.execute(sql)\n",
    "emp = cursor.fetchall()\n"
   ]
  },
  {
   "cell_type": "code",
   "execution_count": 30,
   "id": "4caca82d",
   "metadata": {},
   "outputs": [
    {
     "name": "stdout",
     "output_type": "stream",
     "text": [
      "(7369, 'SMITH', 'CLERK', 7902, datetime.datetime(1980, 12, 17, 0, 0), 800.0, None, 20)\n",
      "(7499, 'ALLEN', 'SALESMAN', 7698, datetime.datetime(1981, 2, 20, 0, 0), 1600.0, 300.0, 30)\n",
      "(7521, 'WARD', 'SALESMAN', 7698, datetime.datetime(1981, 2, 22, 0, 0), 1250.0, 500.0, 30)\n",
      "(7566, 'JONES', 'MANAGER', 7839, datetime.datetime(1981, 4, 2, 0, 0), 2975.0, None, 20)\n",
      "(7654, 'MARTIN', 'SALESMAN', 7698, datetime.datetime(1981, 9, 28, 0, 0), 1250.0, 1400.0, 30)\n",
      "(7698, 'BLAKE', 'MANAGER', 7839, datetime.datetime(1981, 5, 1, 0, 0), 2850.0, None, 30)\n",
      "(7782, 'CLARK', 'MANAGER', 7839, datetime.datetime(1981, 6, 9, 0, 0), 2450.0, None, 10)\n",
      "(7788, 'SCOTT', 'ANALYST', 7566, datetime.datetime(1982, 12, 9, 0, 0), 3000.0, None, 20)\n",
      "(7839, 'KING', 'PRESIDENT', None, datetime.datetime(1981, 11, 17, 0, 0), 5000.0, None, 10)\n",
      "(7844, 'TURNER', 'SALESMAN', 7698, datetime.datetime(1981, 9, 8, 0, 0), 1500.0, 0.0, 30)\n",
      "(7876, 'ADAMS', 'CLERK', 7788, datetime.datetime(1983, 1, 12, 0, 0), 1100.0, None, 20)\n",
      "(7900, 'JAMES', 'CLERK', 7698, datetime.datetime(1981, 12, 3, 0, 0), 950.0, None, 30)\n",
      "(7902, 'FORD', 'ANALYST', 7566, datetime.datetime(1981, 12, 3, 0, 0), 3000.0, None, 20)\n",
      "(7934, 'MILLER', 'CLERK', 7782, datetime.datetime(1982, 1, 23, 0, 0), 1300.0, None, 10)\n"
     ]
    }
   ],
   "source": [
    "for e in emp : # 튜플 리스트라 field 가 많은 경우 가독성 다소 떨어짐\n",
    "    print(e)"
   ]
  },
  {
   "cell_type": "code",
   "execution_count": 33,
   "id": "a6e5e6e3",
   "metadata": {},
   "outputs": [
    {
     "data": {
      "text/html": [
       "<div>\n",
       "<style scoped>\n",
       "    .dataframe tbody tr th:only-of-type {\n",
       "        vertical-align: middle;\n",
       "    }\n",
       "\n",
       "    .dataframe tbody tr th {\n",
       "        vertical-align: top;\n",
       "    }\n",
       "\n",
       "    .dataframe thead th {\n",
       "        text-align: right;\n",
       "    }\n",
       "</style>\n",
       "<table border=\"1\" class=\"dataframe\">\n",
       "  <thead>\n",
       "    <tr style=\"text-align: right;\">\n",
       "      <th></th>\n",
       "      <th>0</th>\n",
       "      <th>1</th>\n",
       "      <th>2</th>\n",
       "      <th>3</th>\n",
       "      <th>4</th>\n",
       "      <th>5</th>\n",
       "      <th>6</th>\n",
       "      <th>7</th>\n",
       "    </tr>\n",
       "  </thead>\n",
       "  <tbody>\n",
       "    <tr>\n",
       "      <th>0</th>\n",
       "      <td>7369</td>\n",
       "      <td>SMITH</td>\n",
       "      <td>CLERK</td>\n",
       "      <td>7902.0</td>\n",
       "      <td>1980-12-17</td>\n",
       "      <td>800.0</td>\n",
       "      <td>NaN</td>\n",
       "      <td>20</td>\n",
       "    </tr>\n",
       "    <tr>\n",
       "      <th>1</th>\n",
       "      <td>7499</td>\n",
       "      <td>ALLEN</td>\n",
       "      <td>SALESMAN</td>\n",
       "      <td>7698.0</td>\n",
       "      <td>1981-02-20</td>\n",
       "      <td>1600.0</td>\n",
       "      <td>300.0</td>\n",
       "      <td>30</td>\n",
       "    </tr>\n",
       "    <tr>\n",
       "      <th>2</th>\n",
       "      <td>7521</td>\n",
       "      <td>WARD</td>\n",
       "      <td>SALESMAN</td>\n",
       "      <td>7698.0</td>\n",
       "      <td>1981-02-22</td>\n",
       "      <td>1250.0</td>\n",
       "      <td>500.0</td>\n",
       "      <td>30</td>\n",
       "    </tr>\n",
       "    <tr>\n",
       "      <th>3</th>\n",
       "      <td>7566</td>\n",
       "      <td>JONES</td>\n",
       "      <td>MANAGER</td>\n",
       "      <td>7839.0</td>\n",
       "      <td>1981-04-02</td>\n",
       "      <td>2975.0</td>\n",
       "      <td>NaN</td>\n",
       "      <td>20</td>\n",
       "    </tr>\n",
       "    <tr>\n",
       "      <th>4</th>\n",
       "      <td>7654</td>\n",
       "      <td>MARTIN</td>\n",
       "      <td>SALESMAN</td>\n",
       "      <td>7698.0</td>\n",
       "      <td>1981-09-28</td>\n",
       "      <td>1250.0</td>\n",
       "      <td>1400.0</td>\n",
       "      <td>30</td>\n",
       "    </tr>\n",
       "  </tbody>\n",
       "</table>\n",
       "</div>"
      ],
      "text/plain": [
       "      0       1         2       3          4       5       6   7\n",
       "0  7369   SMITH     CLERK  7902.0 1980-12-17   800.0     NaN  20\n",
       "1  7499   ALLEN  SALESMAN  7698.0 1981-02-20  1600.0   300.0  30\n",
       "2  7521    WARD  SALESMAN  7698.0 1981-02-22  1250.0   500.0  30\n",
       "3  7566   JONES   MANAGER  7839.0 1981-04-02  2975.0     NaN  20\n",
       "4  7654  MARTIN  SALESMAN  7698.0 1981-09-28  1250.0  1400.0  30"
      ]
     },
     "execution_count": 33,
     "metadata": {},
     "output_type": "execute_result"
    }
   ],
   "source": [
    "import pandas as pd\n",
    "emp_df = pd.DataFrame(emp)\n",
    "emp_df.head()"
   ]
  },
  {
   "cell_type": "code",
   "execution_count": 34,
   "id": "1bfb7252",
   "metadata": {},
   "outputs": [
    {
     "data": {
      "text/plain": [
       "[('EMPNO', <cx_Oracle.DbType DB_TYPE_NUMBER>, 5, None, 4, 0, 0),\n",
       " ('ENAME', <cx_Oracle.DbType DB_TYPE_VARCHAR>, 10, 10, None, None, 1),\n",
       " ('JOB', <cx_Oracle.DbType DB_TYPE_VARCHAR>, 9, 9, None, None, 1),\n",
       " ('MGR', <cx_Oracle.DbType DB_TYPE_NUMBER>, 5, None, 4, 0, 1),\n",
       " ('HIREDATE', <cx_Oracle.DbType DB_TYPE_DATE>, 23, None, None, None, 1),\n",
       " ('SAL', <cx_Oracle.DbType DB_TYPE_NUMBER>, 11, None, 7, 2, 1),\n",
       " ('COMM', <cx_Oracle.DbType DB_TYPE_NUMBER>, 11, None, 7, 2, 1),\n",
       " ('DEPTNO', <cx_Oracle.DbType DB_TYPE_NUMBER>, 3, None, 2, 0, 1)]"
      ]
     },
     "execution_count": 34,
     "metadata": {},
     "output_type": "execute_result"
    }
   ],
   "source": [
    "# select문을 수행한 각 필드 정보\n",
    "cursor.description\n"
   ]
  },
  {
   "cell_type": "code",
   "execution_count": 36,
   "id": "006bc30c",
   "metadata": {},
   "outputs": [
    {
     "data": {
      "text/plain": [
       "['EMPNO', 'ENAME', 'JOB', 'MGR', 'HIREDATE', 'SAL', 'COMM', 'DEPTNO']"
      ]
     },
     "execution_count": 36,
     "metadata": {},
     "output_type": "execute_result"
    }
   ],
   "source": [
    "result =[]\n",
    "for description in cursor.description:\n",
    "    result.append(description[0])\n",
    "result"
   ]
  },
  {
   "cell_type": "code",
   "execution_count": 38,
   "id": "e9940d66",
   "metadata": {},
   "outputs": [
    {
     "data": {
      "text/plain": [
       "['EMPNO', 'ENAME', 'JOB', 'MGR', 'HIREDATE', 'SAL', 'COMM', 'DEPTNO']"
      ]
     },
     "execution_count": 38,
     "metadata": {},
     "output_type": "execute_result"
    }
   ],
   "source": [
    "[row[0] for row in cursor.description]"
   ]
  },
  {
   "cell_type": "code",
   "execution_count": 42,
   "id": "896d9011",
   "metadata": {},
   "outputs": [
    {
     "data": {
      "text/plain": [
       "RangeIndex(start=0, stop=8, step=1)"
      ]
     },
     "execution_count": 42,
     "metadata": {},
     "output_type": "execute_result"
    }
   ],
   "source": [
    "emp_df.columns"
   ]
  },
  {
   "cell_type": "code",
   "execution_count": 44,
   "id": "c5b1dbcf",
   "metadata": {},
   "outputs": [
    {
     "data": {
      "text/html": [
       "<div>\n",
       "<style scoped>\n",
       "    .dataframe tbody tr th:only-of-type {\n",
       "        vertical-align: middle;\n",
       "    }\n",
       "\n",
       "    .dataframe tbody tr th {\n",
       "        vertical-align: top;\n",
       "    }\n",
       "\n",
       "    .dataframe thead th {\n",
       "        text-align: right;\n",
       "    }\n",
       "</style>\n",
       "<table border=\"1\" class=\"dataframe\">\n",
       "  <thead>\n",
       "    <tr style=\"text-align: right;\">\n",
       "      <th></th>\n",
       "      <th>EMPNO</th>\n",
       "      <th>ENAME</th>\n",
       "      <th>JOB</th>\n",
       "      <th>MGR</th>\n",
       "      <th>HIREDATE</th>\n",
       "      <th>SAL</th>\n",
       "      <th>COMM</th>\n",
       "      <th>DEPTNO</th>\n",
       "    </tr>\n",
       "  </thead>\n",
       "  <tbody>\n",
       "    <tr>\n",
       "      <th>12</th>\n",
       "      <td>7902</td>\n",
       "      <td>FORD</td>\n",
       "      <td>ANALYST</td>\n",
       "      <td>7566.0</td>\n",
       "      <td>1981-12-03</td>\n",
       "      <td>3000.0</td>\n",
       "      <td>NaN</td>\n",
       "      <td>20</td>\n",
       "    </tr>\n",
       "  </tbody>\n",
       "</table>\n",
       "</div>"
      ],
      "text/plain": [
       "    EMPNO ENAME      JOB     MGR   HIREDATE     SAL  COMM  DEPTNO\n",
       "12   7902  FORD  ANALYST  7566.0 1981-12-03  3000.0   NaN      20"
      ]
     },
     "execution_count": 44,
     "metadata": {},
     "output_type": "execute_result"
    }
   ],
   "source": [
    "emp_df.columns= [row[0] for row in cursor.description]\n",
    "emp_df.sample()# 임의의 한줄 출력"
   ]
  },
  {
   "cell_type": "code",
   "execution_count": 47,
   "id": "d3f8fd9d",
   "metadata": {},
   "outputs": [
    {
     "name": "stdout",
     "output_type": "stream",
     "text": [
      "검색할 이름은?scott\n",
      "(7788, 'SCOTT', 'ANALYST', 7566, datetime.datetime(1982, 12, 9, 0, 0), 3000.0, None, 20)\n"
     ]
    }
   ],
   "source": [
    "# 검색할 이름을 사용자 에게 받아 해당 내용을 출력\n",
    "ename = input('검색할 이름은?')\n",
    "sql = \"SELECT *FROM EMP WHERE ENAME = UPPER(:name)\"\n",
    "cursor.execute(sql,{'name':ename})\n",
    "emp = cursor.fetchall()\n",
    "if len(emp):\n",
    "    for e in emp:\n",
    "        print(e)\n",
    "else:\n",
    "    print('입력하신 이름의 데이터는 없습니다')"
   ]
  },
  {
   "cell_type": "code",
   "execution_count": 51,
   "id": "10fc5372",
   "metadata": {},
   "outputs": [
    {
     "name": "stdout",
     "output_type": "stream",
     "text": [
      "['EMPNO', 'ENAME', 'JOB', 'MGR', 'HIREDATE', 'SAL', 'COMM', 'DEPTNO']\n",
      "(7788, 'SCOTT', 'ANALYST', 7566, datetime.datetime(1982, 12, 9, 0, 0), 3000.0, None, 20)\n"
     ]
    }
   ],
   "source": [
    "fieldnames=[description[0] for description in cursor.description]\n",
    "print(fieldnames)\n",
    "print(e)"
   ]
  },
  {
   "cell_type": "code",
   "execution_count": 52,
   "id": "d2f81657",
   "metadata": {},
   "outputs": [
    {
     "name": "stdout",
     "output_type": "stream",
     "text": [
      "EMPNO:7788\n",
      "ENAME:SCOTT\n",
      "JOB:ANALYST\n",
      "MGR:7566\n",
      "HIREDATE:1982-12-09 00:00:00\n",
      "SAL:3000.0\n",
      "COMM:\n",
      "DEPTNO:20\n"
     ]
    }
   ],
   "source": [
    "for idx in range(len(e)):\n",
    "    print(\"{}:{}\".format(fieldnames[idx],e[idx] if e[idx] is not None else ''))"
   ]
  },
  {
   "cell_type": "code",
   "execution_count": 53,
   "id": "f9450031",
   "metadata": {},
   "outputs": [
    {
     "name": "stdout",
     "output_type": "stream",
     "text": [
      "EMPNO:7788\n",
      "ENAME:SCOTT\n",
      "JOB:ANALYST\n",
      "MGR:7566\n",
      "HIREDATE:1982-12-09 00:00:00\n",
      "SAL:3000.0\n",
      "COMM:-\n",
      "DEPTNO:20\n"
     ]
    }
   ],
   "source": [
    "for fieldname, data in zip(fieldnames,e):\n",
    "    print(\"{}:{}\".format(fieldname,data if data is not None else '-'))"
   ]
  },
  {
   "cell_type": "code",
   "execution_count": 54,
   "id": "3f867161",
   "metadata": {},
   "outputs": [],
   "source": [
    "cursor.close()\n",
    "conn.close()"
   ]
  },
  {
   "cell_type": "markdown",
   "id": "16245316",
   "metadata": {},
   "source": [
    "# 3절. 연습문제"
   ]
  },
  {
   "cell_type": "code",
   "execution_count": 82,
   "id": "79b0f3bd",
   "metadata": {},
   "outputs": [],
   "source": [
    "class Member:\n",
    "    def __init__(self, name, phone, email, age, grade, etc):\n",
    "        self.name = name\n",
    "        self.phone = phone\n",
    "        self.email = email\n",
    "        self.age = age\n",
    "        self.grade = grade\n",
    "        self.etc = self\n",
    "    def __str__(self):\n",
    "        return \"{}\\t{}\\t{}\\t{}\\t{}\\t{}\".format(self.name,self.phone,self.email,self.age,self.grade,self.etc)\n",
    "    def as_dict(self):\n",
    "        return {'name':self.name,\n",
    "                'phone':self.phone,\n",
    "                'email':self.email,\n",
    "                'age':self.age,\n",
    "                'grade':self.grade,\n",
    "               'etc': self.etc}\n",
    "    def to_member(*row): # 튜플 데이터를 매개변수로 받아 Member형 객체로 반환\n",
    "        return Member(row[0],row[1],row[2],row[3],row[4],row[5])"
   ]
  },
  {
   "cell_type": "code",
   "execution_count": 83,
   "id": "c96c182e",
   "metadata": {},
   "outputs": [],
   "source": [
    "# 1.입력\n",
    "def insert_member():\n",
    "    name = input('입력할 이름은 :')\n",
    "    phone = input('입력할 전화번호는 :')\n",
    "    email = input('입력할 이메일은 :')\n",
    "    try:\n",
    "        age = int(input('입력할 나이는 :'))\n",
    "        if age<0:\n",
    "            age=0\n",
    "    except ValueError:\n",
    "        print('유효한 나이가 아닙니다')\n",
    "        age = 0\n",
    "    try:\n",
    "        grade = int(input('입력할 등급은 :'))\n",
    "        if grade < 1:\n",
    "            grade = 1\n",
    "        if grade >5:\n",
    "            grade = 5\n",
    "    except ValueError:\n",
    "        print('유효한 등급이 아닙니다')\n",
    "        grade = 1\n",
    "    etc = input('입력할 기타내용은 :')\n",
    "    inputm = (name, phone,email,age,grade,etc)\n",
    "    cursor.execute('INSERT INTO MEMBER VALUES(?,?,?,?,?,?)',inputm)\n",
    "    conn.commit()\n",
    "    if cursor.rowcount ==1:\n",
    "        print('정상적으로 INSERT')\n",
    "    \n",
    "    "
   ]
  },
  {
   "cell_type": "code",
   "execution_count": 95,
   "id": "9ef7fb11",
   "metadata": {},
   "outputs": [],
   "source": [
    "# 2. 전체 출력\n",
    "def select_all():\n",
    "    cursor.execute('SELECT *FROM MEMBER')\n",
    "    members = cursor.fetchall()\n",
    "    for member in members:\n",
    "        print(member)"
   ]
  },
  {
   "cell_type": "code",
   "execution_count": 96,
   "id": "db7486b3",
   "metadata": {},
   "outputs": [
    {
     "name": "stdout",
     "output_type": "stream",
     "text": [
      "('최수민', '010-4413-3419', 'soom@siim.com', 27, 1, 'soom')\n"
     ]
    }
   ],
   "source": [
    "cursor = conn.cursor()\n",
    "select_all()"
   ]
  },
  {
   "cell_type": "code",
   "execution_count": 104,
   "id": "818009a7",
   "metadata": {},
   "outputs": [],
   "source": [
    "# 3. 이름 검색\n",
    "def select_name():\n",
    "    name = input('검색할 이름은?')\n",
    "    cursor.execute('SELECT * FROM MEMBER WHERE NAME=:name',{'name':name})\n",
    "    members = cursor.fetchall()\n",
    "    for member in members:\n",
    "        print(member)"
   ]
  },
  {
   "cell_type": "code",
   "execution_count": null,
   "id": "3793ea85",
   "metadata": {},
   "outputs": [],
   "source": [
    "# 4. 메일 삭제\n",
    "def delete_email():\n",
    "    "
   ]
  },
  {
   "cell_type": "code",
   "execution_count": null,
   "id": "075747a3",
   "metadata": {},
   "outputs": [],
   "source": [
    "# 5. CSV 내보내기\n",
    "def save_csv():\n",
    "    "
   ]
  },
  {
   "cell_type": "code",
   "execution_count": null,
   "id": "5874dc83",
   "metadata": {},
   "outputs": [],
   "source": [
    "# 0. 종료\n",
    "def close_sql():\n",
    "\n"
   ]
  },
  {
   "cell_type": "code",
   "execution_count": 80,
   "id": "96991170",
   "metadata": {},
   "outputs": [],
   "source": [
    "def main():\n",
    "    while True:\n",
    "        print(\"1.입력\", \"2.전체 조회\", \"3.이름 찾기\", \"4.메일 삭제\", \"5.CSV 내보내기\", \"0.종료\",\n",
    "        sep=\" | \")\n",
    "        try:\n",
    "            menu = int(input(\"메뉴 선택: \"))\n",
    "        except:\n",
    "            print(\"유효하지 않은 값을 입력하였습니다. 다시 선택해주세요.\")\n",
    "        if menu==1:\n",
    "            insert_member()\n",
    "        elif menu==2:\n",
    "            select_all()\n",
    "        elif menu==3:\n",
    "            select_name()\n",
    "        elif menu==4:\n",
    "            delete_email()\n",
    "        elif menu==5:\n",
    "            save_csv()\n",
    "        elif menu==0:\n",
    "            close_sql()\n",
    "            break\n",
    "\n"
   ]
  },
  {
   "cell_type": "code",
   "execution_count": 105,
   "id": "1cb18f20",
   "metadata": {},
   "outputs": [
    {
     "name": "stdout",
     "output_type": "stream",
     "text": [
      "1.입력 | 2.전체 조회 | 3.이름 찾기 | 4.메일 삭제 | 5.CSV 내보내기 | 0.종료\n",
      "메뉴 선택: 3\n",
      "검색할 이름은?최수민\n",
      "('최수민', '010-4413-3419', 'soom@siim.com', 27, 1, 'soom')\n",
      "1.입력 | 2.전체 조회 | 3.이름 찾기 | 4.메일 삭제 | 5.CSV 내보내기 | 0.종료\n",
      "메뉴 선택: 3\n",
      "검색할 이름은?최수믠\n",
      "('최수믠', '010-2222-4453', 'min@min.com', 22, 5, 'mmin')\n",
      "1.입력 | 2.전체 조회 | 3.이름 찾기 | 4.메일 삭제 | 5.CSV 내보내기 | 0.종료\n",
      "유효하지 않은 값을 입력하였습니다. 다시 선택해주세요.\n"
     ]
    },
    {
     "ename": "KeyboardInterrupt",
     "evalue": "Interrupted by user",
     "output_type": "error",
     "traceback": [
      "\u001b[1;31m---------------------------------------------------------------------------\u001b[0m",
      "\u001b[1;31mKeyboardInterrupt\u001b[0m                         Traceback (most recent call last)",
      "Cell \u001b[1;32mIn[105], line 6\u001b[0m\n\u001b[0;32m      4\u001b[0m conn \u001b[38;5;241m=\u001b[39m sqlite3\u001b[38;5;241m.\u001b[39mconnect(\u001b[38;5;124m'\u001b[39m\u001b[38;5;124mdata/ch10_data.db\u001b[39m\u001b[38;5;124m'\u001b[39m)\n\u001b[0;32m      5\u001b[0m cursor \u001b[38;5;241m=\u001b[39m conn\u001b[38;5;241m.\u001b[39mcursor()\n\u001b[1;32m----> 6\u001b[0m \u001b[43mmain\u001b[49m\u001b[43m(\u001b[49m\u001b[43m)\u001b[49m\n",
      "Cell \u001b[1;32mIn[80], line 14\u001b[0m, in \u001b[0;36mmain\u001b[1;34m()\u001b[0m\n\u001b[0;32m     12\u001b[0m     select_all()\n\u001b[0;32m     13\u001b[0m \u001b[38;5;28;01melif\u001b[39;00m menu\u001b[38;5;241m==\u001b[39m\u001b[38;5;241m3\u001b[39m:\n\u001b[1;32m---> 14\u001b[0m     \u001b[43mselect_name\u001b[49m\u001b[43m(\u001b[49m\u001b[43m)\u001b[49m\n\u001b[0;32m     15\u001b[0m \u001b[38;5;28;01melif\u001b[39;00m menu\u001b[38;5;241m==\u001b[39m\u001b[38;5;241m4\u001b[39m:\n\u001b[0;32m     16\u001b[0m     delete_email()\n",
      "Cell \u001b[1;32mIn[104], line 3\u001b[0m, in \u001b[0;36mselect_name\u001b[1;34m()\u001b[0m\n\u001b[0;32m      2\u001b[0m \u001b[38;5;28;01mdef\u001b[39;00m \u001b[38;5;21mselect_name\u001b[39m():\n\u001b[1;32m----> 3\u001b[0m     name \u001b[38;5;241m=\u001b[39m \u001b[38;5;28;43minput\u001b[39;49m\u001b[43m(\u001b[49m\u001b[38;5;124;43m'\u001b[39;49m\u001b[38;5;124;43m검색할 이름은?\u001b[39;49m\u001b[38;5;124;43m'\u001b[39;49m\u001b[43m)\u001b[49m\n\u001b[0;32m      4\u001b[0m     cursor\u001b[38;5;241m.\u001b[39mexecute(\u001b[38;5;124m'\u001b[39m\u001b[38;5;124mSELECT * FROM MEMBER WHERE NAME=:name\u001b[39m\u001b[38;5;124m'\u001b[39m,{\u001b[38;5;124m'\u001b[39m\u001b[38;5;124mname\u001b[39m\u001b[38;5;124m'\u001b[39m:name})\n\u001b[0;32m      5\u001b[0m     members \u001b[38;5;241m=\u001b[39m cursor\u001b[38;5;241m.\u001b[39mfetchall()\n",
      "File \u001b[1;32m~\\anaconda3\\lib\\site-packages\\ipykernel\\kernelbase.py:1175\u001b[0m, in \u001b[0;36mKernel.raw_input\u001b[1;34m(self, prompt)\u001b[0m\n\u001b[0;32m   1171\u001b[0m \u001b[38;5;28;01mif\u001b[39;00m \u001b[38;5;129;01mnot\u001b[39;00m \u001b[38;5;28mself\u001b[39m\u001b[38;5;241m.\u001b[39m_allow_stdin:\n\u001b[0;32m   1172\u001b[0m     \u001b[38;5;28;01mraise\u001b[39;00m StdinNotImplementedError(\n\u001b[0;32m   1173\u001b[0m         \u001b[38;5;124m\"\u001b[39m\u001b[38;5;124mraw_input was called, but this frontend does not support input requests.\u001b[39m\u001b[38;5;124m\"\u001b[39m\n\u001b[0;32m   1174\u001b[0m     )\n\u001b[1;32m-> 1175\u001b[0m \u001b[38;5;28;01mreturn\u001b[39;00m \u001b[38;5;28;43mself\u001b[39;49m\u001b[38;5;241;43m.\u001b[39;49m\u001b[43m_input_request\u001b[49m\u001b[43m(\u001b[49m\n\u001b[0;32m   1176\u001b[0m \u001b[43m    \u001b[49m\u001b[38;5;28;43mstr\u001b[39;49m\u001b[43m(\u001b[49m\u001b[43mprompt\u001b[49m\u001b[43m)\u001b[49m\u001b[43m,\u001b[49m\n\u001b[0;32m   1177\u001b[0m \u001b[43m    \u001b[49m\u001b[38;5;28;43mself\u001b[39;49m\u001b[38;5;241;43m.\u001b[39;49m\u001b[43m_parent_ident\u001b[49m\u001b[43m[\u001b[49m\u001b[38;5;124;43m\"\u001b[39;49m\u001b[38;5;124;43mshell\u001b[39;49m\u001b[38;5;124;43m\"\u001b[39;49m\u001b[43m]\u001b[49m\u001b[43m,\u001b[49m\n\u001b[0;32m   1178\u001b[0m \u001b[43m    \u001b[49m\u001b[38;5;28;43mself\u001b[39;49m\u001b[38;5;241;43m.\u001b[39;49m\u001b[43mget_parent\u001b[49m\u001b[43m(\u001b[49m\u001b[38;5;124;43m\"\u001b[39;49m\u001b[38;5;124;43mshell\u001b[39;49m\u001b[38;5;124;43m\"\u001b[39;49m\u001b[43m)\u001b[49m\u001b[43m,\u001b[49m\n\u001b[0;32m   1179\u001b[0m \u001b[43m    \u001b[49m\u001b[43mpassword\u001b[49m\u001b[38;5;241;43m=\u001b[39;49m\u001b[38;5;28;43;01mFalse\u001b[39;49;00m\u001b[43m,\u001b[49m\n\u001b[0;32m   1180\u001b[0m \u001b[43m\u001b[49m\u001b[43m)\u001b[49m\n",
      "File \u001b[1;32m~\\anaconda3\\lib\\site-packages\\ipykernel\\kernelbase.py:1217\u001b[0m, in \u001b[0;36mKernel._input_request\u001b[1;34m(self, prompt, ident, parent, password)\u001b[0m\n\u001b[0;32m   1214\u001b[0m             \u001b[38;5;28;01mbreak\u001b[39;00m\n\u001b[0;32m   1215\u001b[0m \u001b[38;5;28;01mexcept\u001b[39;00m \u001b[38;5;167;01mKeyboardInterrupt\u001b[39;00m:\n\u001b[0;32m   1216\u001b[0m     \u001b[38;5;66;03m# re-raise KeyboardInterrupt, to truncate traceback\u001b[39;00m\n\u001b[1;32m-> 1217\u001b[0m     \u001b[38;5;28;01mraise\u001b[39;00m \u001b[38;5;167;01mKeyboardInterrupt\u001b[39;00m(\u001b[38;5;124m\"\u001b[39m\u001b[38;5;124mInterrupted by user\u001b[39m\u001b[38;5;124m\"\u001b[39m) \u001b[38;5;28;01mfrom\u001b[39;00m \u001b[38;5;28mNone\u001b[39m\n\u001b[0;32m   1218\u001b[0m \u001b[38;5;28;01mexcept\u001b[39;00m \u001b[38;5;167;01mException\u001b[39;00m:\n\u001b[0;32m   1219\u001b[0m     \u001b[38;5;28mself\u001b[39m\u001b[38;5;241m.\u001b[39mlog\u001b[38;5;241m.\u001b[39mwarning(\u001b[38;5;124m\"\u001b[39m\u001b[38;5;124mInvalid Message:\u001b[39m\u001b[38;5;124m\"\u001b[39m, exc_info\u001b[38;5;241m=\u001b[39m\u001b[38;5;28;01mTrue\u001b[39;00m)\n",
      "\u001b[1;31mKeyboardInterrupt\u001b[0m: Interrupted by user"
     ]
    }
   ],
   "source": [
    "if __name__=='__main__':\n",
    "    import sqlite3\n",
    "    global conn\n",
    "    conn = sqlite3.connect('data/ch10_data.db')\n",
    "    cursor = conn.cursor()\n",
    "    main()\n"
   ]
  },
  {
   "cell_type": "code",
   "execution_count": null,
   "id": "cc9e588d",
   "metadata": {},
   "outputs": [],
   "source": []
  }
 ],
 "metadata": {
  "kernelspec": {
   "display_name": "Python 3 (ipykernel)",
   "language": "python",
   "name": "python3"
  },
  "language_info": {
   "codemirror_mode": {
    "name": "ipython",
    "version": 3
   },
   "file_extension": ".py",
   "mimetype": "text/x-python",
   "name": "python",
   "nbconvert_exporter": "python",
   "pygments_lexer": "ipython3",
   "version": "3.10.9"
  },
  "toc": {
   "base_numbering": 1,
   "nav_menu": {},
   "number_sections": true,
   "sideBar": true,
   "skip_h1_title": false,
   "title_cell": "Table of Contents",
   "title_sidebar": "Contents",
   "toc_cell": false,
   "toc_position": {
    "height": "calc(100% - 180px)",
    "left": "10px",
    "top": "150px",
    "width": "187px"
   },
   "toc_section_display": true,
   "toc_window_display": true
  }
 },
 "nbformat": 4,
 "nbformat_minor": 5
}
