{
 "cells": [
  {
   "cell_type": "code",
   "execution_count": 74,
   "id": "5ba6a815",
   "metadata": {},
   "outputs": [
    {
     "data": {
      "text/html": [
       "\n",
       "<style>\n",
       "div.container{width:80% !important;}\n",
       "div.CodeMirror {font-family:Consolas; font-size:12pt;}\n",
       "div.output {font-size:12pt; font-weight:bold;}\n",
       "div.input {font-family:Consolas; font-size:12pt;}\n",
       "div.prompt {min-width:70px;}\n",
       "div#toc-header{margin-top:150px;}\n",
       ".cm-s-ipython span.cm-comment{font-size:12pt; font-style:normal; color:orange;}\n",
       ".ansi-yellow-bg{color:black;font-size:15pt;}\n",
       "\n",
       "</style>\n",
       "<style>\n",
       "span.toc-item-num{display:none;}\n",
       "</style>\n"
      ],
      "text/plain": [
       "<IPython.core.display.HTML object>"
      ]
     },
     "metadata": {},
     "output_type": "display_data"
    }
   ],
   "source": [
    "from IPython.display import display, HTML\n",
    "display(HTML(\"\"\"\n",
    "<style>\n",
    "div.container{width:80% !important;}\n",
    "div.CodeMirror {font-family:Consolas; font-size:12pt;}\n",
    "div.output {font-size:12pt; font-weight:bold;}\n",
    "div.input {font-family:Consolas; font-size:12pt;}\n",
    "div.prompt {min-width:70px;}\n",
    "div#toc-header{margin-top:150px;}\n",
    ".cm-s-ipython span.cm-comment{font-size:12pt; font-style:normal; color:orange;}\n",
    ".ansi-yellow-bg{color:black;font-size:15pt;}\n",
    "\n",
    "</style>\n",
    "<style>\n",
    "span.toc-item-num{display:none;}\n",
    "</style>\n",
    "\"\"\"))"
   ]
  },
  {
   "cell_type": "markdown",
   "id": "a03bc293",
   "metadata": {},
   "source": [
    "<b><font size=\"6\" color=\"red\"> ch02. 자료형과 연산자</font><b>"
   ]
  },
  {
   "cell_type": "markdown",
   "id": "6c52c577",
   "metadata": {},
   "source": [
    "# 4절.포맷팅\n",
    "    -포맷팅이란? 출력할 문자, 숫자, 날자 데이터에 형식을 지정하는 것\n",
    "    -변수와 텍스트를 결합해서 보기 좋은 형식의 새로운 텍스트를 만들 수도 있음"
   ]
  },
  {
   "cell_type": "markdown",
   "id": "339bca64",
   "metadata": {},
   "source": [
    "## 4.1 문자열에 형식지정"
   ]
  },
  {
   "cell_type": "code",
   "execution_count": 5,
   "id": "8a0deee3",
   "metadata": {},
   "outputs": [
    {
     "name": "stdout",
     "output_type": "stream",
     "text": [
      "홍길동님의 나이는 30살입니다\n"
     ]
    }
   ],
   "source": [
    "name = \"홍길동\"\n",
    "age = 30\n",
    "print(name, '님의 나이는 ', age, '살입니다', sep='')"
   ]
  },
  {
   "cell_type": "code",
   "execution_count": 8,
   "id": "1659e949",
   "metadata": {},
   "outputs": [
    {
     "name": "stdout",
     "output_type": "stream",
     "text": [
      "홍길동님의 나이는 30살입니다\n",
      "홍길동님의 나이는 30살입니다\n"
     ]
    }
   ],
   "source": [
    "# %s문자, $d10진수정수, %f실수\n",
    "print(\"%s님의 나이는 %d살입니다\" % (name, age))\n",
    "print(f\"{name}님의 나이는 {age}살입니다\")"
   ]
  },
  {
   "cell_type": "code",
   "execution_count": 11,
   "id": "b3f53ae4",
   "metadata": {},
   "outputs": [
    {
     "name": "stdout",
     "output_type": "stream",
     "text": [
      "홍길동님의 나이는 30살입니다\n",
      "홍길동님의 나이는 30살입니다\n",
      "30살 홍길동님 반갑습니다.홍길동님 편히 가세요\n"
     ]
    }
   ],
   "source": [
    "print(\"{}님의 나이는 {}살입니다\".format(name, age))\n",
    "print(\"{0}님의 나이는 {1}살입니다\".format(name, age))\n",
    "print(\"{0}살 {1}님 반갑습니다.{1}님 편히 가세요\".format(age, name))"
   ]
  },
  {
   "cell_type": "markdown",
   "id": "c1189d25",
   "metadata": {},
   "source": [
    "## 4.2 format() 문법\n"
   ]
  },
  {
   "cell_type": "code",
   "execution_count": 13,
   "id": "c23ab348",
   "metadata": {},
   "outputs": [],
   "source": [
    "# \"{[인덱스]:[공백대체문자][정렬방법][자릿수][타입]}\".format(변수명)\n",
    "\n",
    "# 인덱스 : format 함수안의 매개변수의 순서\n",
    "# 정렬방법 : <: 왼쪽정렬,>:오른쪽정렬,^:가운데정렬\n",
    "# 정수 자릿수 : 출력할 자릿수, 변수 내용보다 작은 자릿수가 지정되면 자릿수 지정 무시\n",
    "# 실수 자릿수 : 전체 출력될 자리수.변수 중에 출력자리수\n",
    "# 타입 : d(10진수정수),o(8진수),b(2진수), x(16진수), f(실수), s(문자)"
   ]
  },
  {
   "cell_type": "code",
   "execution_count": 1,
   "id": "0f18dc16",
   "metadata": {},
   "outputs": [
    {
     "name": "stdout",
     "output_type": "stream",
     "text": [
      "이름은?ghdrl\n",
      "나이는?22\n",
      "22살ghdrl님 안녕하세요\n",
      "*22**살ghdrl_____님 안녕하세요\n"
     ]
    }
   ],
   "source": [
    "name = input('이름은?')\n",
    "age = int(input('나이는?'))\n",
    "print('{}살{}님 안녕하세요'.format(age, name))\n",
    "# 공백대체문자를 쓸 경우 정렬 방식을 기입해야함\n",
    "print('{0:*^5d}살{1:_<10}님 안녕하세요'.format(age, name))"
   ]
  },
  {
   "cell_type": "code",
   "execution_count": 25,
   "id": "1753f108",
   "metadata": {},
   "outputs": [
    {
     "name": "stdout",
     "output_type": "stream",
     "text": [
      "[12345],[     12345],[     12345]\n",
      "[Hello],[Hello     ],[Hello]\n"
     ]
    }
   ],
   "source": [
    "# 숫자의 경우 오른쪽 정렬 (기본값)\n",
    "# 문자의 경우 왼쪽 정렬 (기본값)\n",
    "# 변수보다 작은 자리수를 지정하면 자릿구ㅏ 무시되고 다 출력(정수 자릿수)\n",
    "a = 12345\n",
    "s = 'Hello'\n",
    "print(\"[{}],[{:10}],[{:10}]\".format(a, a, a))\n",
    "print(\"[{0}],[{0:10}],[{0:3}]\".format(s))"
   ]
  },
  {
   "cell_type": "code",
   "execution_count": 7,
   "id": "0956420a",
   "metadata": {},
   "outputs": [
    {
     "name": "stdout",
     "output_type": "stream",
     "text": [
      "[10  ],[  20],[ 3  ]\n"
     ]
    }
   ],
   "source": [
    "# 정렬방법 : < ^ >\n",
    "a, b, c = 10, 20, 3\n",
    "print(\"[{:<4}],[{:>4}],[{:^4}]\".format(a, b, c))"
   ]
  },
  {
   "cell_type": "code",
   "execution_count": 13,
   "id": "7e9ccf40",
   "metadata": {},
   "outputs": [
    {
     "name": "stdout",
     "output_type": "stream",
     "text": [
      "[$$$$$$$$10],[     10.00],[     123.6],[He        ]\n"
     ]
    }
   ],
   "source": [
    "# 실수 자릿수\n",
    "a = 10\n",
    "f = 123.56\n",
    "s = 'Hello'\n",
    "print('[{0:$>10}],[{0:10.2f}],[{1:10.1f}],[{2:10.2}]'.format(a, f, s))\n",
    "# 2번 매개변수를 10자리 확보하여 변수의 2자리만 출력"
   ]
  },
  {
   "cell_type": "code",
   "execution_count": 18,
   "id": "be3cd356",
   "metadata": {},
   "outputs": [
    {
     "name": "stdout",
     "output_type": "stream",
     "text": [
      "[$$$$$$$123]\n"
     ]
    }
   ],
   "source": [
    "# 공백대체문자를 쓸 경우 반드시 정렬방식을 표현\n",
    "print(\"[{:$>10}]\".format(a))\n",
    "# print(\"[{:$10}]\".format(a)) -에러남"
   ]
  },
  {
   "cell_type": "code",
   "execution_count": 25,
   "id": "deebf154",
   "metadata": {},
   "outputs": [
    {
     "name": "stdout",
     "output_type": "stream",
     "text": [
      "[      -123],[      +123],[       123]\n",
      "[-      123],[       123],[       123]\n",
      "[-      123],[+      123],[       123]\n",
      "[-000000123],[+000000123],[0000000123]\n",
      "[-★★★★★★123],[+★★★★★★123],[★★★123★★★★]\n"
     ]
    }
   ],
   "source": [
    "#자리수앞에 +를 붙이면 양수의 경우도 부호를 붙여줌\n",
    "#자리수앞에 =를 붙이면 부호가 자릿수 맨앞에 표시됨(음수의경우)\n",
    "#자리수앞에 =+를 붙이면 부호가 자릿수 맨앞에 표시됨(양수,음수 모두)\n",
    "#자리수앞에 0을 채우면 빈자리에 0을 채움\n",
    "#공백대체문자를 쓸 경우 자리수 앞의 0이 무시\n",
    "a,b = 123, -123\n",
    "print(\"[{:+10}],[{:+10}],[{:10}]\".format(b,a,a))\n",
    "print(\"[{:=10}],[{:=10}],[{:10}]\".format(b,a,a))\n",
    "print(\"[{:=+10}],[{:=+10}],[{:10}]\".format(b,a,a))\n",
    "print(\"[{:=+010}],[{:=+010}],[{:010}]\".format(b,a,a))\n",
    "print(\"[{:★=+010}],[{:★=+010}],[{:★^10}]\".format(b,a,a))"
   ]
  },
  {
   "cell_type": "code",
   "execution_count": 32,
   "id": "bbdb94b8",
   "metadata": {},
   "outputs": [
    {
     "name": "stdout",
     "output_type": "stream",
     "text": [
      "a=[       2.8]\n",
      "s=[he        ]\n"
     ]
    }
   ],
   "source": [
    "# 전체자리수.표현될자리수\n",
    "a = 2.758\n",
    "s = \"hello\"\n",
    "print(\"a=[{:10.2}]\".format(a))\n",
    "print(\"s=[{:10.2}]\".format(s))"
   ]
  },
  {
   "cell_type": "code",
   "execution_count": 35,
   "id": "3cb39809",
   "metadata": {},
   "outputs": [
    {
     "name": "stdout",
     "output_type": "stream",
     "text": [
      "a=[     15.00]\n"
     ]
    }
   ],
   "source": [
    "# 전체자리수.표현될자리수 f\n",
    "print(\"a=[{:10.2f}]\".format(a))\n",
    "\n",
    "\n"
   ]
  },
  {
   "cell_type": "code",
   "execution_count": 38,
   "id": "d52f98bf",
   "metadata": {},
   "outputs": [
    {
     "name": "stdout",
     "output_type": "stream",
     "text": [
      "10진수 : [   15]\n",
      "16진수 : [    f]\n",
      "8진수 : [   17]\n",
      "2진수 : [ 1111]\n"
     ]
    }
   ],
   "source": [
    "# 10진수, 8진수, 16진수, 2진수 출력\n",
    "a = 15\n",
    "print(\"10진수 : [{:5d}]\".format(a))\n",
    "print(\"16진수 : [{:5x}]\".format(a))\n",
    "print(\"8진수 : [{:5o}]\".format(a))\n",
    "print(\"2진수 : [{:5b}]\".format(a))"
   ]
  },
  {
   "cell_type": "code",
   "execution_count": 41,
   "id": "efe258fd",
   "metadata": {},
   "outputs": [
    {
     "name": "stdout",
     "output_type": "stream",
     "text": [
      "[     +2.79]\n"
     ]
    }
   ],
   "source": [
    "a = 2.785\n",
    "print(\"[{:+10.3}]\".format(a))"
   ]
  },
  {
   "cell_type": "code",
   "execution_count": 46,
   "id": "5cb71226",
   "metadata": {},
   "outputs": [
    {
     "name": "stdout",
     "output_type": "stream",
     "text": [
      "[    +2.785]\n",
      "[    +2.785]\n"
     ]
    }
   ],
   "source": [
    "sign = '+'\n",
    "width = 10\n",
    "precision = 4\n",
    "print(\"[{:{sign}{width}.{precision}}]\".format(a,sign=sign,width=width, precision=precision))\n",
    "print(\"[{:{}{}.{}}]\".format(a,sign,width,precision))"
   ]
  },
  {
   "cell_type": "markdown",
   "id": "96a6085d",
   "metadata": {},
   "source": [
    "## 4.3 날짜출력\n"
   ]
  },
  {
   "cell_type": "code",
   "execution_count": 51,
   "id": "b56cba5c",
   "metadata": {},
   "outputs": [
    {
     "data": {
      "text/plain": [
       "datetime.datetime(2024, 11, 5, 14, 42)"
      ]
     },
     "execution_count": 51,
     "metadata": {},
     "output_type": "execute_result"
    }
   ],
   "source": [
    "# format 이용\n",
    "# from 모듈 import 함수나 변수\n",
    "# from 패키지(폴더) import 모듈(파이썬파일)\n",
    "# datetime 모듈(파이썬 파일 : datetime.py)안에 datetime이라는 함수 가져오기\n",
    "from datetime import datetime #from이 자바의 object느낌\n",
    "thatday =  datetime(2024,11,5) # 24년 11월 5일 0시0분0초\n",
    "thatday =  datetime(2024,11,5,14,42) # 24년 11월 5일 오후2시 42분 0초\n",
    "thatday"
   ]
  },
  {
   "cell_type": "code",
   "execution_count": 55,
   "id": "29664bdb",
   "metadata": {},
   "outputs": [
    {
     "name": "stdout",
     "output_type": "stream",
     "text": [
      "2024년11월05일14시42분00초\n",
      "2024년11월05일 PM 02시42분00초\n"
     ]
    }
   ],
   "source": [
    "print(\"{:%Y년%m월%d일%H시%M분%S초}\".format(thatday))\n",
    "print(\"{:%Y년%m월%d일 %p %I시%M분%S초}\".format(thatday))"
   ]
  },
  {
   "cell_type": "code",
   "execution_count": 64,
   "id": "a2b1c05e",
   "metadata": {},
   "outputs": [
    {
     "data": {
      "text/plain": [
       "'2024 11 05 PM 02 50'"
      ]
     },
     "execution_count": 64,
     "metadata": {},
     "output_type": "execute_result"
    }
   ],
   "source": [
    "# 날짜를 문자열로 전환하는 함수\n",
    "from time import strftime\n",
    "thatdayStr =strftime(\"%Y %m %d %p %I %M\".format(thatday))\n",
    "thatdayStr"
   ]
  },
  {
   "cell_type": "code",
   "execution_count": 67,
   "id": "669e2aa6",
   "metadata": {},
   "outputs": [
    {
     "data": {
      "text/plain": [
       "time.struct_time(tm_year=2024, tm_mon=11, tm_mday=5, tm_hour=14, tm_min=51, tm_sec=47, tm_wday=1, tm_yday=310, tm_isdst=0)"
      ]
     },
     "execution_count": 67,
     "metadata": {},
     "output_type": "execute_result"
    }
   ],
   "source": [
    "from time import localtime\n",
    "now = localtime() # 현재의 날짜와 시간\n",
    "now"
   ]
  },
  {
   "cell_type": "code",
   "execution_count": 70,
   "id": "484608fa",
   "metadata": {},
   "outputs": [
    {
     "data": {
      "text/plain": [
       "'2024년 11월 05일 PM 02시54분18초'"
      ]
     },
     "execution_count": 70,
     "metadata": {},
     "output_type": "execute_result"
    }
   ],
   "source": [
    "strftime(\"%Y년 %m월 %d일 %p %I시%M분%S초\".format(now))"
   ]
  },
  {
   "cell_type": "code",
   "execution_count": 72,
   "id": "06cc0afb",
   "metadata": {},
   "outputs": [],
   "source": [
    "#print(strftime(\"%Y년 %m월 %d일 %p %I시%M분%S초\".format(now))) error남"
   ]
  },
  {
   "cell_type": "markdown",
   "id": "27b6894f",
   "metadata": {},
   "source": [
    "# 5절. 연산자"
   ]
  },
  {
   "cell_type": "markdown",
   "id": "e5282a83",
   "metadata": {},
   "source": [
    "## 5.1 산술 연산자 : +, -, *, /, //(몫연산자), %(나머지), **(제곱)"
   ]
  },
  {
   "cell_type": "code",
   "execution_count": 76,
   "id": "43346e24",
   "metadata": {},
   "outputs": [
    {
     "name": "stdout",
     "output_type": "stream",
     "text": [
      "10000000000\n"
     ]
    }
   ],
   "source": [
    "print(100**5)"
   ]
  },
  {
   "cell_type": "markdown",
   "id": "d689674f",
   "metadata": {},
   "source": [
    "## 5.2 할당연산자: =,+=,-+,*=,/=,//=,     %=\n"
   ]
  },
  {
   "cell_type": "code",
   "execution_count": 77,
   "id": "17c8fa75",
   "metadata": {},
   "outputs": [
    {
     "data": {
      "text/plain": [
       "3"
      ]
     },
     "execution_count": 77,
     "metadata": {},
     "output_type": "execute_result"
    }
   ],
   "source": [
    " a = 10\n",
    "a//=3 # a= a//3\n",
    "a\n"
   ]
  },
  {
   "cell_type": "markdown",
   "id": "11935716",
   "metadata": {},
   "source": [
    "## 5.3 논리연산자: &,and, |,or,not"
   ]
  },
  {
   "cell_type": "code",
   "execution_count": 79,
   "id": "18b291f2",
   "metadata": {},
   "outputs": [
    {
     "name": "stdout",
     "output_type": "stream",
     "text": [
      "True\n",
      "0\n"
     ]
    }
   ],
   "source": [
    "print ((10>3)&(10>5)) #논리연산 True & True\n",
    "print (12 & 1) # 비트연산 #1100(12)\n",
    "                # 0001 (1)\n",
    "                # & 0000(0)"
   ]
  },
  {
   "cell_type": "code",
   "execution_count": 84,
   "id": "0fafce3e",
   "metadata": {},
   "outputs": [
    {
     "name": "stdout",
     "output_type": "stream",
     "text": [
      "abc\n",
      "0\n",
      "None\n"
     ]
    }
   ],
   "source": [
    "# and: 거짓으로 판별되는 첫번째 항의 결과 반환\n",
    "    # 모든 항이 참으로 판별되면 마지막 항의 결과 반환\n",
    "print (True and True and 'abc')\n",
    "print (0 and False)\n",
    "print (True and None)"
   ]
  },
  {
   "cell_type": "code",
   "execution_count": 82,
   "id": "5f5aa5ff",
   "metadata": {},
   "outputs": [
    {
     "name": "stdout",
     "output_type": "stream",
     "text": [
      "True\n"
     ]
    }
   ],
   "source": [
    "print ((10>5)and(10>7))"
   ]
  },
  {
   "cell_type": "code",
   "execution_count": 85,
   "id": "6d7e7e6e",
   "metadata": {},
   "outputs": [
    {
     "name": "stdout",
     "output_type": "stream",
     "text": [
      "논리연산(연산자 앞뒤에 논리형일때) : True\n",
      "비트연산(연산자 앞이나 뒤에 숫자일 때) 3\n"
     ]
    }
   ],
   "source": [
    "# / : 논리연산, 비트연산\n",
    "result = False | True\n",
    "print('논리연산(연산자 앞뒤에 논리형일때) :', result)\n",
    "result = False | 3 # 0000|0011\n",
    "print('비트연산(연산자 앞이나 뒤에 숫자일 때)',result)"
   ]
  },
  {
   "cell_type": "code",
   "execution_count": 87,
   "id": "00c3cd95",
   "metadata": {},
   "outputs": [
    {
     "name": "stdout",
     "output_type": "stream",
     "text": [
      "[]\n",
      "HONG\n"
     ]
    }
   ],
   "source": [
    "# or : 참으로 판별되는 첫번째 항의 결과 반환\n",
    "    # 모든 항이 거짓이면, 마지막 항의 결과 반환\n",
    "print(False or 0 or '' or None or [])\n",
    "print('HONG' or 0 or False)"
   ]
  },
  {
   "cell_type": "markdown",
   "id": "82bae048",
   "metadata": {},
   "source": [
    "## 5.4 비교연산자 :>,>=,<,<=,==,!="
   ]
  },
  {
   "cell_type": "code",
   "execution_count": 97,
   "id": "97c2777c",
   "metadata": {},
   "outputs": [
    {
     "name": "stdout",
     "output_type": "stream",
     "text": [
      "True\n"
     ]
    }
   ],
   "source": [
    "# 비교연산자는 이항, 삼항, ... 다항 연산자\n",
    "x = 5\n",
    "print((4<x)&(x<10))"
   ]
  },
  {
   "cell_type": "code",
   "execution_count": 100,
   "id": "3ae38115",
   "metadata": {},
   "outputs": [
    {
     "name": "stdout",
     "output_type": "stream",
     "text": [
      "True\n",
      "False\n",
      "False\n",
      "0\n",
      "False\n"
     ]
    }
   ],
   "source": [
    "# 비교연산자의 우선순위가 논리연산의 우선순위보다 낮다\n",
    "print((10>5)&(10>7))\n",
    "print(10>5 & 10>7) # 5&10이 우선순위가 높다\n",
    "print(10>(5 & 10)>7)\n",
    "#0101(5)\n",
    "#1010(10)\n",
    "print (5&10)\n",
    "print(10>0>7)"
   ]
  },
  {
   "cell_type": "code",
   "execution_count": 102,
   "id": "7cd732ea",
   "metadata": {},
   "outputs": [
    {
     "data": {
      "text/plain": [
       "True"
      ]
     },
     "execution_count": 102,
     "metadata": {},
     "output_type": "execute_result"
    }
   ],
   "source": [
    "# 문자는 ASCII 코드 순으로 비교 : 특수문자 < 숫자문자< 대문자< 소문자(abc순)\n",
    "'scott'<'tiger'"
   ]
  },
  {
   "cell_type": "code",
   "execution_count": 105,
   "id": "6c6b8dfa",
   "metadata": {},
   "outputs": [
    {
     "data": {
      "text/plain": [
       "True"
      ]
     },
     "execution_count": 105,
     "metadata": {},
     "output_type": "execute_result"
    }
   ],
   "source": [
    "'감우성'<'홍길동'"
   ]
  },
  {
   "cell_type": "code",
   "execution_count": 107,
   "id": "3c3b511e",
   "metadata": {},
   "outputs": [
    {
     "ename": "TypeError",
     "evalue": "unsupported operand type(s) for &: 'str' and 'int'",
     "output_type": "error",
     "traceback": [
      "\u001b[1;31m---------------------------------------------------------------------------\u001b[0m",
      "\u001b[1;31mTypeError\u001b[0m                                 Traceback (most recent call last)",
      "Cell \u001b[1;32mIn[107], line 3\u001b[0m\n\u001b[0;32m      1\u001b[0m address\u001b[38;5;241m=\u001b[39m \u001b[38;5;124m'\u001b[39m\u001b[38;5;124m서울\u001b[39m\u001b[38;5;124m'\u001b[39m\n\u001b[0;32m      2\u001b[0m age \u001b[38;5;241m=\u001b[39m \u001b[38;5;241m29\u001b[39m\n\u001b[1;32m----> 3\u001b[0m \u001b[38;5;28mprint\u001b[39m(address\u001b[38;5;241m==\u001b[39m\u001b[38;5;124;43m'\u001b[39;49m\u001b[38;5;124;43m서울\u001b[39;49m\u001b[38;5;124;43m'\u001b[39;49m\u001b[43m \u001b[49m\u001b[38;5;241;43m&\u001b[39;49m\u001b[43m \u001b[49m\u001b[43mage\u001b[49m\u001b[38;5;241m>\u001b[39m\u001b[38;5;241m=\u001b[39m\u001b[38;5;241m30\u001b[39m)\n",
      "\u001b[1;31mTypeError\u001b[0m: unsupported operand type(s) for &: 'str' and 'int'"
     ]
    }
   ],
   "source": [
    "address= '서울'\n",
    "age = 29\n",
    "print(address=='서울' & age>=30) # 우선순위를 보고 괄호를 반드시"
   ]
  },
  {
   "cell_type": "markdown",
   "id": "512bb2d7",
   "metadata": {},
   "source": [
    "## 5.5비트연산"
   ]
  },
  {
   "cell_type": "code",
   "execution_count": 108,
   "id": "20b2d36b",
   "metadata": {},
   "outputs": [],
   "source": [
    "a='''\n",
    "x   y   x&y   x|y   x^y(XOR)  ~x\n",
    "0   0    0     0      0        1\n",
    "0   1    0     1      1        1\n",
    "1   0    0     1      1        0\n",
    "1   1    1     1      0        0\n",
    "'''"
   ]
  },
  {
   "cell_type": "code",
   "execution_count": 111,
   "id": "fcb34cd2",
   "metadata": {},
   "outputs": [
    {
     "name": "stdout",
     "output_type": "stream",
     "text": [
      "a = 15:1111\n",
      "b =  2 :0010\n",
      "a&b =  2 :0010\n",
      "a|b = 15 :1111\n",
      "a^b = 13 :1101\n"
     ]
    }
   ],
   "source": [
    "a = 15\n",
    "b = 2\n",
    "print(\"a = {0:2}:{0:04b}\".format(a))\n",
    "print(\"b = {0:2} :{0:04b}\".format(b))\n",
    "print(\"a&b = {0:2} :{0:04b}\".format(a&b))\n",
    "print(\"a|b = {0:2} :{0:04b}\".format(a|b))\n",
    "print(\"a^b = {0:2} :{0:04b}\".format(a^b))"
   ]
  },
  {
   "cell_type": "markdown",
   "id": "8f4bb5ec",
   "metadata": {},
   "source": [
    "## 5.6 isinstance"
   ]
  },
  {
   "cell_type": "code",
   "execution_count": 112,
   "id": "5477e0c1",
   "metadata": {},
   "outputs": [
    {
     "data": {
      "text/plain": [
       "False"
      ]
     },
     "execution_count": 112,
     "metadata": {},
     "output_type": "execute_result"
    }
   ],
   "source": [
    "a = 15\n",
    "isinstance(a, float)"
   ]
  },
  {
   "cell_type": "markdown",
   "id": "46d1eec0",
   "metadata": {},
   "source": [
    "- 포맷팅 : \"{[인덱스]:[공백대체문자][정렬방법][자릿수][타입]}\".format(변수명)\n",
    "- 연산자 \n",
    "    * 산술 연산 : + - * / // % **\n",
    "    * 할당 연산 : = += -+ *= /= //= %=\n",
    "    * 논리 연산 : & and | or not\n",
    "    * 비트 연산 : ^(XOR) &(and) |(or) ~(not)\n",
    "논리 연산자가 비교연산자보다 우선순위가 높다"
   ]
  }
 ],
 "metadata": {
  "kernelspec": {
   "display_name": "Python 3 (ipykernel)",
   "language": "python",
   "name": "python3"
  },
  "language_info": {
   "codemirror_mode": {
    "name": "ipython",
    "version": 3
   },
   "file_extension": ".py",
   "mimetype": "text/x-python",
   "name": "python",
   "nbconvert_exporter": "python",
   "pygments_lexer": "ipython3",
   "version": "3.10.9"
  },
  "toc": {
   "base_numbering": 1,
   "nav_menu": {},
   "number_sections": true,
   "sideBar": true,
   "skip_h1_title": false,
   "title_cell": "Table of Contents",
   "title_sidebar": "Contents",
   "toc_cell": false,
   "toc_position": {},
   "toc_section_display": true,
   "toc_window_display": false
  }
 },
 "nbformat": 4,
 "nbformat_minor": 5
}
