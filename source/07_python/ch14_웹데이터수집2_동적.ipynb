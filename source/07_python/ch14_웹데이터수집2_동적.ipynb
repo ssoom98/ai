{
 "cells": [
  {
   "cell_type": "markdown",
   "id": "ea693ab6",
   "metadata": {},
   "source": [
    "<b><font color=\"red\" size=\"6\">ch14. 웹데이터수집</font></b>\n",
    "\n",
    "# 1절.Selenium을 이용한 동적 웹크롤링 문법\n",
    "- "
   ]
  },
  {
   "cell_type": "code",
   "execution_count": 12,
   "id": "2f664989",
   "metadata": {
    "ExecuteTime": {
     "end_time": "2024-12-10T08:59:14.446061Z",
     "start_time": "2024-12-10T08:59:12.391212Z"
    }
   },
   "outputs": [],
   "source": [
    "from selenium import webdriver\n",
    "from selenium.webdriver.common.by import By\n",
    "import time\n",
    "dv = webdriver.Chrome()\n",
    "dv.get('http://python.org')\n",
    "elem = dv.find_element(By.NAME,'q')\n",
    "elem.clear()\n",
    "elem.send_keys('pycon')"
   ]
  },
  {
   "cell_type": "code",
   "execution_count": 13,
   "id": "185abee4",
   "metadata": {
    "ExecuteTime": {
     "end_time": "2024-12-10T08:59:27.759035Z",
     "start_time": "2024-12-10T08:59:25.503199Z"
    }
   },
   "outputs": [
    {
     "ename": "WebDriverException",
     "evalue": "Message: disconnected: not connected to DevTools\n  (failed to check if window was closed: disconnected: not connected to DevTools)\n  (Session info: chrome=131.0.6778.109)\nStacktrace:\n\tGetHandleVerifier [0x00007FF69EDD6CF5+28821]\n\t(No symbol) [0x00007FF69ED43880]\n\t(No symbol) [0x00007FF69EBE578A]\n\t(No symbol) [0x00007FF69EBD0866]\n\t(No symbol) [0x00007FF69EBD1D1F]\n\t(No symbol) [0x00007FF69EBE5DD3]\n\t(No symbol) [0x00007FF69EBBEFCD]\n\t(No symbol) [0x00007FF69EC6D699]\n\t(No symbol) [0x00007FF69EC5F2C0]\n\t(No symbol) [0x00007FF69EC2A778]\n\t(No symbol) [0x00007FF69EC2B8E1]\n\tGetHandleVerifier [0x00007FF69F10FCED+3408013]\n\tGetHandleVerifier [0x00007FF69F12745F+3504127]\n\tGetHandleVerifier [0x00007FF69F11B63D+3455453]\n\tGetHandleVerifier [0x00007FF69EE9BDFB+835995]\n\t(No symbol) [0x00007FF69ED4EB9F]\n\t(No symbol) [0x00007FF69ED4A854]\n\t(No symbol) [0x00007FF69ED4A9ED]\n\t(No symbol) [0x00007FF69ED3A1D9]\n\tBaseThreadInitThunk [0x00007FFCE6AF7BD4+20]\n\tRtlUserThreadStart [0x00007FFCE872CED1+33]\n",
     "output_type": "error",
     "traceback": [
      "\u001b[1;31m---------------------------------------------------------------------------\u001b[0m",
      "\u001b[1;31mWebDriverException\u001b[0m                        Traceback (most recent call last)",
      "Cell \u001b[1;32mIn[13], line 1\u001b[0m\n\u001b[1;32m----> 1\u001b[0m \u001b[43mdv\u001b[49m\u001b[38;5;241;43m.\u001b[39;49m\u001b[43mclose\u001b[49m\u001b[43m(\u001b[49m\u001b[43m)\u001b[49m\n",
      "File \u001b[1;32m~\\anaconda3\\lib\\site-packages\\selenium\\webdriver\\remote\\webdriver.py:495\u001b[0m, in \u001b[0;36mWebDriver.close\u001b[1;34m(self)\u001b[0m\n\u001b[0;32m    487\u001b[0m \u001b[38;5;28;01mdef\u001b[39;00m \u001b[38;5;21mclose\u001b[39m(\u001b[38;5;28mself\u001b[39m) \u001b[38;5;241m-\u001b[39m\u001b[38;5;241m>\u001b[39m \u001b[38;5;28;01mNone\u001b[39;00m:\n\u001b[0;32m    488\u001b[0m     \u001b[38;5;124;03m\"\"\"Closes the current window.\u001b[39;00m\n\u001b[0;32m    489\u001b[0m \n\u001b[0;32m    490\u001b[0m \u001b[38;5;124;03m    :Usage:\u001b[39;00m\n\u001b[1;32m   (...)\u001b[0m\n\u001b[0;32m    493\u001b[0m \u001b[38;5;124;03m            driver.close()\u001b[39;00m\n\u001b[0;32m    494\u001b[0m \u001b[38;5;124;03m    \"\"\"\u001b[39;00m\n\u001b[1;32m--> 495\u001b[0m     \u001b[38;5;28;43mself\u001b[39;49m\u001b[38;5;241;43m.\u001b[39;49m\u001b[43mexecute\u001b[49m\u001b[43m(\u001b[49m\u001b[43mCommand\u001b[49m\u001b[38;5;241;43m.\u001b[39;49m\u001b[43mCLOSE\u001b[49m\u001b[43m)\u001b[49m\n",
      "File \u001b[1;32m~\\anaconda3\\lib\\site-packages\\selenium\\webdriver\\remote\\webdriver.py:384\u001b[0m, in \u001b[0;36mWebDriver.execute\u001b[1;34m(self, driver_command, params)\u001b[0m\n\u001b[0;32m    382\u001b[0m response \u001b[38;5;241m=\u001b[39m \u001b[38;5;28mself\u001b[39m\u001b[38;5;241m.\u001b[39mcommand_executor\u001b[38;5;241m.\u001b[39mexecute(driver_command, params)\n\u001b[0;32m    383\u001b[0m \u001b[38;5;28;01mif\u001b[39;00m response:\n\u001b[1;32m--> 384\u001b[0m     \u001b[38;5;28;43mself\u001b[39;49m\u001b[38;5;241;43m.\u001b[39;49m\u001b[43merror_handler\u001b[49m\u001b[38;5;241;43m.\u001b[39;49m\u001b[43mcheck_response\u001b[49m\u001b[43m(\u001b[49m\u001b[43mresponse\u001b[49m\u001b[43m)\u001b[49m\n\u001b[0;32m    385\u001b[0m     response[\u001b[38;5;124m\"\u001b[39m\u001b[38;5;124mvalue\u001b[39m\u001b[38;5;124m\"\u001b[39m] \u001b[38;5;241m=\u001b[39m \u001b[38;5;28mself\u001b[39m\u001b[38;5;241m.\u001b[39m_unwrap_value(response\u001b[38;5;241m.\u001b[39mget(\u001b[38;5;124m\"\u001b[39m\u001b[38;5;124mvalue\u001b[39m\u001b[38;5;124m\"\u001b[39m, \u001b[38;5;28;01mNone\u001b[39;00m))\n\u001b[0;32m    386\u001b[0m     \u001b[38;5;28;01mreturn\u001b[39;00m response\n",
      "File \u001b[1;32m~\\anaconda3\\lib\\site-packages\\selenium\\webdriver\\remote\\errorhandler.py:232\u001b[0m, in \u001b[0;36mErrorHandler.check_response\u001b[1;34m(self, response)\u001b[0m\n\u001b[0;32m    230\u001b[0m         alert_text \u001b[38;5;241m=\u001b[39m value[\u001b[38;5;124m\"\u001b[39m\u001b[38;5;124malert\u001b[39m\u001b[38;5;124m\"\u001b[39m]\u001b[38;5;241m.\u001b[39mget(\u001b[38;5;124m\"\u001b[39m\u001b[38;5;124mtext\u001b[39m\u001b[38;5;124m\"\u001b[39m)\n\u001b[0;32m    231\u001b[0m     \u001b[38;5;28;01mraise\u001b[39;00m exception_class(message, screen, stacktrace, alert_text)  \u001b[38;5;66;03m# type: ignore[call-arg]  # mypy is not smart enough here\u001b[39;00m\n\u001b[1;32m--> 232\u001b[0m \u001b[38;5;28;01mraise\u001b[39;00m exception_class(message, screen, stacktrace)\n",
      "\u001b[1;31mWebDriverException\u001b[0m: Message: disconnected: not connected to DevTools\n  (failed to check if window was closed: disconnected: not connected to DevTools)\n  (Session info: chrome=131.0.6778.109)\nStacktrace:\n\tGetHandleVerifier [0x00007FF69EDD6CF5+28821]\n\t(No symbol) [0x00007FF69ED43880]\n\t(No symbol) [0x00007FF69EBE578A]\n\t(No symbol) [0x00007FF69EBD0866]\n\t(No symbol) [0x00007FF69EBD1D1F]\n\t(No symbol) [0x00007FF69EBE5DD3]\n\t(No symbol) [0x00007FF69EBBEFCD]\n\t(No symbol) [0x00007FF69EC6D699]\n\t(No symbol) [0x00007FF69EC5F2C0]\n\t(No symbol) [0x00007FF69EC2A778]\n\t(No symbol) [0x00007FF69EC2B8E1]\n\tGetHandleVerifier [0x00007FF69F10FCED+3408013]\n\tGetHandleVerifier [0x00007FF69F12745F+3504127]\n\tGetHandleVerifier [0x00007FF69F11B63D+3455453]\n\tGetHandleVerifier [0x00007FF69EE9BDFB+835995]\n\t(No symbol) [0x00007FF69ED4EB9F]\n\t(No symbol) [0x00007FF69ED4A854]\n\t(No symbol) [0x00007FF69ED4A9ED]\n\t(No symbol) [0x00007FF69ED3A1D9]\n\tBaseThreadInitThunk [0x00007FFCE6AF7BD4+20]\n\tRtlUserThreadStart [0x00007FFCE872CED1+33]\n"
     ]
    }
   ],
   "source": [
    "dv.close()"
   ]
  },
  {
   "cell_type": "code",
   "execution_count": 9,
   "id": "70c16a4d",
   "metadata": {
    "ExecuteTime": {
     "end_time": "2024-12-10T08:58:08.305478Z",
     "start_time": "2024-12-10T08:58:08.255501Z"
    }
   },
   "outputs": [],
   "source": []
  },
  {
   "cell_type": "code",
   "execution_count": 10,
   "id": "e61a1002",
   "metadata": {
    "ExecuteTime": {
     "end_time": "2024-12-10T08:58:17.900648Z",
     "start_time": "2024-12-10T08:58:17.823966Z"
    }
   },
   "outputs": [],
   "source": []
  },
  {
   "cell_type": "code",
   "execution_count": null,
   "id": "206844fe",
   "metadata": {},
   "outputs": [],
   "source": []
  },
  {
   "cell_type": "code",
   "execution_count": null,
   "id": "0cd47f4f",
   "metadata": {},
   "outputs": [],
   "source": []
  },
  {
   "cell_type": "code",
   "execution_count": null,
   "id": "430bd010",
   "metadata": {},
   "outputs": [],
   "source": []
  },
  {
   "cell_type": "code",
   "execution_count": null,
   "id": "6ce0ae4a",
   "metadata": {},
   "outputs": [],
   "source": []
  }
 ],
 "metadata": {
  "kernelspec": {
   "display_name": "Python 3 (ipykernel)",
   "language": "python",
   "name": "python3"
  },
  "language_info": {
   "codemirror_mode": {
    "name": "ipython",
    "version": 3
   },
   "file_extension": ".py",
   "mimetype": "text/x-python",
   "name": "python",
   "nbconvert_exporter": "python",
   "pygments_lexer": "ipython3",
   "version": "3.10.9"
  },
  "toc": {
   "base_numbering": 1,
   "nav_menu": {},
   "number_sections": true,
   "sideBar": true,
   "skip_h1_title": false,
   "title_cell": "Table of Contents",
   "title_sidebar": "Contents",
   "toc_cell": false,
   "toc_position": {},
   "toc_section_display": true,
   "toc_window_display": false
  }
 },
 "nbformat": 4,
 "nbformat_minor": 5
}
