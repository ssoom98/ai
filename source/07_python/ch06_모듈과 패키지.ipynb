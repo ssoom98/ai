{
 "cells": [
  {
   "cell_type": "code",
   "execution_count": 3,
   "id": "4d6f02e8",
   "metadata": {},
   "outputs": [
    {
     "data": {
      "text/html": [
       "\n",
       "<style>\n",
       "div.container{width:80% !important;}\n",
       "div.CodeMirror {font-family:Consolas; font-size:12pt;}\n",
       "div.output {font-size:12pt; font-weight:bold;}\n",
       "div.input {font-family:Consolas; font-size:12pt;}\n",
       "div.prompt {min-width:70px;}\n",
       "div#toc-header{margin-top:150px;}\n",
       "</style>\n",
       "<style>\n",
       "span.toc-item-num{\n",
       "display:none;\n",
       "}\n",
       "</style>\n"
      ],
      "text/plain": [
       "<IPython.core.display.HTML object>"
      ]
     },
     "metadata": {},
     "output_type": "display_data"
    }
   ],
   "source": [
    "from IPython.display import display, HTML\n",
    "display(HTML(\"\"\"\n",
    "<style>\n",
    "div.container{width:80% !important;}\n",
    "div.CodeMirror {font-family:Consolas; font-size:12pt;}\n",
    "div.output {font-size:12pt; font-weight:bold;}\n",
    "div.input {font-family:Consolas; font-size:12pt;}\n",
    "div.prompt {min-width:70px;}\n",
    "div#toc-header{margin-top:150px;}\n",
    "</style>\n",
    "<style>\n",
    "span.toc-item-num{\n",
    "display:none;\n",
    "}\n",
    "</style>\n",
    "\"\"\"))"
   ]
  },
  {
   "cell_type": "markdown",
   "id": "aec50ee6",
   "metadata": {},
   "source": [
    "<b><font size=\"6\" color=\"red\">ch06. 모듈과 패키지</font></b>\n",
    "# 1절. 파이썬 표준 모듈 사용\n",
    "\n",
    "- 모듈 : 함수, 변수, 클래스 등을 담고 있는 파이썬 코드 파일(*.py)\n",
    "- 파이썬 표준 모듈 200여개는 파이썬 인터프리터와 함께 install 됨\n",
    "- anaconda는 1500개 이상의 패키지 install(정확한 갯수는 버전마다 상이)"
   ]
  },
  {
   "cell_type": "code",
   "execution_count": 2,
   "id": "76d6ab18",
   "metadata": {},
   "outputs": [
    {
     "data": {
      "text/plain": [
       "'Tue Nov 12 16:37:07 2024'"
      ]
     },
     "execution_count": 2,
     "metadata": {},
     "output_type": "execute_result"
    }
   ],
   "source": [
    "# 1. import 모듈명: 모듈안의 함수, 클래스, 변수를 모듈명.함수명(), .. 사용\n",
    "import time # time 모듈안의 함수, 변수, 클래스가 메모리 로드\n",
    "time.ctime()\n"
   ]
  },
  {
   "cell_type": "code",
   "execution_count": 3,
   "id": "ea6eef33",
   "metadata": {},
   "outputs": [
    {
     "data": {
      "text/plain": [
       "1731397027.2373345"
      ]
     },
     "execution_count": 3,
     "metadata": {},
     "output_type": "execute_result"
    }
   ],
   "source": [
    "time.time() # 1970.1.1부터의 밀리세컨"
   ]
  },
  {
   "cell_type": "code",
   "execution_count": 4,
   "id": "01dc701c",
   "metadata": {},
   "outputs": [],
   "source": [
    "del time # 모듈을 메모리에서 unload"
   ]
  },
  {
   "cell_type": "code",
   "execution_count": 5,
   "id": "26acbf82",
   "metadata": {},
   "outputs": [
    {
     "data": {
      "text/plain": [
       "'Tue Nov 12 16:37:07 2024'"
      ]
     },
     "execution_count": 5,
     "metadata": {},
     "output_type": "execute_result"
    }
   ],
   "source": [
    "# 2. from 모듈(A) import 함수 또는 클래스 또는 변수(B) :A모듈안의 B만 로드\n",
    "#    from 패키지(A) import 모듈(B) : A패키지 안의 B모듈을 로드\n",
    "#    from 패키지(A).모듈명(B) import 함수명(C): 패키지 안의 모듈안의 특정 함수를 로드\n",
    "from time import ctime, time\n",
    "ctime()\n"
   ]
  },
  {
   "cell_type": "code",
   "execution_count": 6,
   "id": "8d990b92",
   "metadata": {},
   "outputs": [
    {
     "data": {
      "text/plain": [
       "1731397027.2655947"
      ]
     },
     "execution_count": 6,
     "metadata": {},
     "output_type": "execute_result"
    }
   ],
   "source": [
    "time()"
   ]
  },
  {
   "cell_type": "code",
   "execution_count": 7,
   "id": "d5a2e276",
   "metadata": {},
   "outputs": [],
   "source": [
    "del ctime\n",
    "del time"
   ]
  },
  {
   "cell_type": "code",
   "execution_count": 8,
   "id": "5957464e",
   "metadata": {},
   "outputs": [
    {
     "data": {
      "text/plain": [
       "'Tue Nov 12 16:37:07 2024'"
      ]
     },
     "execution_count": 8,
     "metadata": {},
     "output_type": "execute_result"
    }
   ],
   "source": [
    "# 3. import 모듈명 as 별칭 : 모듈을 메모리에서 로드하고 별칭으로 사용\n",
    "import time as t\n",
    "t.ctime()"
   ]
  },
  {
   "cell_type": "code",
   "execution_count": 9,
   "id": "a99b7da9",
   "metadata": {},
   "outputs": [
    {
     "data": {
      "text/plain": [
       "1731397027.2886243"
      ]
     },
     "execution_count": 9,
     "metadata": {},
     "output_type": "execute_result"
    }
   ],
   "source": [
    "t.time()"
   ]
  },
  {
   "cell_type": "code",
   "execution_count": 10,
   "id": "1455c5d3",
   "metadata": {},
   "outputs": [],
   "source": [
    "del t"
   ]
  },
  {
   "cell_type": "code",
   "execution_count": 11,
   "id": "584bc42a",
   "metadata": {},
   "outputs": [
    {
     "data": {
      "text/plain": [
       "'Tue Nov 12 16:37:07 2024'"
      ]
     },
     "execution_count": 11,
     "metadata": {},
     "output_type": "execute_result"
    }
   ],
   "source": [
    "#4.  from모듈명 import 함수명 as 별칭\n",
    "#    from 패키지명 import 모듈명 as 별칭\n",
    "#    from 패키지명.모듈명 import 함수명 as 별칭\n",
    "from time import ctime as ct\n",
    "ct()"
   ]
  },
  {
   "cell_type": "markdown",
   "id": "09c08764",
   "metadata": {},
   "source": [
    "\n",
    "* import A - A 모듈을 로드\n",
    "* import A as B - A 모듈을 B이름으로 로드\n",
    "* from A import B - A 모듈안의 B함수(클래스|변수)를 가져옴\n",
    "* from A import B as C - A모듈안의 B함수를 C이름으로 가져옴\n",
    "\n",
    "* from A import B - A 패키지안의 B 모듈을 가져옴\n",
    "* from A.B import C - A 패키지안의 B모듈안의 C함수를 가져옴\n",
    "* from A import B as C - A패키지안의 B모듈을 C이름으로 가져옴\n",
    "* from A.B import C as D - A패키지안의 B모듈안의 C 함수를 D이름으로 가져옴\n"
   ]
  },
  {
   "cell_type": "code",
   "execution_count": 5,
   "id": "168739b1",
   "metadata": {},
   "outputs": [
    {
     "data": {
      "text/plain": [
       "['_STRUCT_TM_ITEMS',\n",
       " '__doc__',\n",
       " '__loader__',\n",
       " '__name__',\n",
       " '__package__',\n",
       " '__spec__',\n",
       " 'altzone',\n",
       " 'asctime',\n",
       " 'ctime',\n",
       " 'daylight',\n",
       " 'get_clock_info',\n",
       " 'gmtime',\n",
       " 'localtime',\n",
       " 'mktime',\n",
       " 'monotonic',\n",
       " 'monotonic_ns',\n",
       " 'perf_counter',\n",
       " 'perf_counter_ns',\n",
       " 'process_time',\n",
       " 'process_time_ns',\n",
       " 'sleep',\n",
       " 'strftime',\n",
       " 'strptime',\n",
       " 'struct_time',\n",
       " 'thread_time',\n",
       " 'thread_time_ns',\n",
       " 'time',\n",
       " 'time_ns',\n",
       " 'timezone',\n",
       " 'tzname']"
      ]
     },
     "execution_count": 5,
     "metadata": {},
     "output_type": "execute_result"
    }
   ],
   "source": [
    "import time\n",
    "dir(time) # time내의 변수, 함수, 클래스 등이 list로 출력"
   ]
  },
  {
   "cell_type": "code",
   "execution_count": null,
   "id": "3e9642a7",
   "metadata": {},
   "outputs": [],
   "source": []
  },
  {
   "cell_type": "markdown",
   "id": "e7630401",
   "metadata": {},
   "source": [
    "# 2절. 사용자 정의 모듈\n",
    "- 함수나 클래스 등을 파이썬 파일에 저장해서 모듈을 만들고 재사용할 수 있음\n",
    "- 모듈을 가져오는 순서 (1)표준묘듈 (2)sys.path 변수에 저장된 경로"
   ]
  },
  {
   "cell_type": "code",
   "execution_count": 6,
   "id": "ff5e2236",
   "metadata": {},
   "outputs": [
    {
     "data": {
      "text/plain": [
       "['C:\\\\ai\\\\source\\\\07_python',\n",
       " 'C:\\\\ai\\\\IDE\\\\anaconda\\\\python310.zip',\n",
       " 'C:\\\\ai\\\\IDE\\\\anaconda\\\\DLLs',\n",
       " 'C:\\\\ai\\\\IDE\\\\anaconda\\\\lib',\n",
       " 'C:\\\\ai\\\\IDE\\\\anaconda',\n",
       " '',\n",
       " 'C:\\\\ai\\\\IDE\\\\anaconda\\\\lib\\\\site-packages',\n",
       " 'C:\\\\ai\\\\IDE\\\\anaconda\\\\lib\\\\site-packages\\\\win32',\n",
       " 'C:\\\\ai\\\\IDE\\\\anaconda\\\\lib\\\\site-packages\\\\win32\\\\lib',\n",
       " 'C:\\\\ai\\\\IDE\\\\anaconda\\\\lib\\\\site-packages\\\\Pythonwin']"
      ]
     },
     "execution_count": 6,
     "metadata": {},
     "output_type": "execute_result"
    }
   ],
   "source": [
    "import sys\n",
    "# dir(sys)\n",
    "sys.path"
   ]
  },
  {
   "cell_type": "code",
   "execution_count": 14,
   "id": "cc1f98a8",
   "metadata": {},
   "outputs": [],
   "source": [
    "# 사용자 정의 모듈을 저장할 폴더 : d:/ai/source/pylib"
   ]
  },
  {
   "cell_type": "code",
   "execution_count": 9,
   "id": "bd9e9393",
   "metadata": {},
   "outputs": [
    {
     "data": {
      "text/plain": [
       "['C:\\\\ai\\\\source\\\\07_python',\n",
       " 'C:\\\\ai\\\\IDE\\\\anaconda\\\\python310.zip',\n",
       " 'C:\\\\ai\\\\IDE\\\\anaconda\\\\DLLs',\n",
       " 'C:\\\\ai\\\\IDE\\\\anaconda\\\\lib',\n",
       " 'C:\\\\ai\\\\IDE\\\\anaconda',\n",
       " '',\n",
       " 'C:\\\\ai\\\\IDE\\\\anaconda\\\\lib\\\\site-packages',\n",
       " 'C:\\\\ai\\\\IDE\\\\anaconda\\\\lib\\\\site-packages\\\\win32',\n",
       " 'C:\\\\ai\\\\IDE\\\\anaconda\\\\lib\\\\site-packages\\\\win32\\\\lib',\n",
       " 'C:\\\\ai\\\\IDE\\\\anaconda\\\\lib\\\\site-packages\\\\Pythonwin',\n",
       " 'D:\\\\ai\\\\source\\\\pylib',\n",
       " 'ㅊ:\\\\ai\\\\source\\\\pylib',\n",
       " 'C:\\\\ai\\\\source\\\\pylib']"
      ]
     },
     "execution_count": 9,
     "metadata": {},
     "output_type": "execute_result"
    }
   ],
   "source": [
    "import sys\n",
    "sys.path.append(r'C:\\ai\\source\\pylib')\n",
    "sys.path\n"
   ]
  },
  {
   "cell_type": "code",
   "execution_count": 16,
   "id": "bdd9216e",
   "metadata": {},
   "outputs": [],
   "source": [
    "# 1. import 모듈명\n",
    "import fibonacci"
   ]
  },
  {
   "cell_type": "code",
   "execution_count": 17,
   "id": "9c842219",
   "metadata": {},
   "outputs": [
    {
     "name": "stdout",
     "output_type": "stream",
     "text": [
      "0 1 1 2 3 5 8 13 21 34 55 89 \n"
     ]
    }
   ],
   "source": [
    "fibonacci.fibo_print(100)"
   ]
  },
  {
   "cell_type": "code",
   "execution_count": 18,
   "id": "53da3817",
   "metadata": {},
   "outputs": [
    {
     "data": {
      "text/plain": [
       "[0, 1, 1, 2, 3, 5, 8, 13, 21, 34, 55, 89]"
      ]
     },
     "execution_count": 18,
     "metadata": {},
     "output_type": "execute_result"
    }
   ],
   "source": [
    "fibonacci.fibo_return(100)"
   ]
  },
  {
   "cell_type": "code",
   "execution_count": 19,
   "id": "fbbc76a0",
   "metadata": {},
   "outputs": [
    {
     "name": "stdout",
     "output_type": "stream",
     "text": [
      " D 드라이브의 볼륨: 새 볼륨\n",
      " 볼륨 일련 번호: A822-4F57\n",
      "\n",
      " D:\\ai\\source\\07_python 디렉터리\n",
      "\n",
      "2024-11-12  오후 04:37    <DIR>          .\n",
      "2024-11-12  오후 04:37    <DIR>          ..\n",
      "2024-11-12  오후 12:43    <DIR>          .ipynb_checkpoints\n",
      "2024-11-08  오후 01:06               204 a.py\n",
      "2024-11-04  오후 04:15             6,051 ch01_파이썬개요 및 환경설정.ipynb\n",
      "2024-11-06  오전 11:37            46,123 ch02. 1절변수 2절화면io 3절기본자료형.ipynb\n",
      "2024-11-08  오전 10:18            23,599 ch02_4절포맷팅_5절연산자.ipynb\n",
      "2024-11-06  오전 11:46            28,068 ch02_6절문자열다루기_8절연습문제.ipynb\n",
      "2024-11-08  오전 10:53            65,488 ch03_데이터구조.ipynb\n",
      "2024-11-08  오전 11:59            27,929 ch04_제어문.ipynb\n",
      "2024-11-12  오후 12:39            76,609 ch05_함수.ipynb\n",
      "2024-11-12  오후 04:37            20,411 ch06_모듈과 패키지.ipynb\n",
      "2024-11-05  오전 10:43                28 test.txt\n",
      "2024-11-08  오후 02:19    <DIR>          __pycache__\n",
      "              10개 파일             294,510 바이트\n",
      "               4개 디렉터리  405,352,538,112 바이트 남음\n"
     ]
    }
   ],
   "source": [
    "! dir"
   ]
  },
  {
   "cell_type": "code",
   "execution_count": 20,
   "id": "7475a59b",
   "metadata": {},
   "outputs": [
    {
     "name": "stdout",
     "output_type": "stream",
     "text": [
      "1. print test : 0 1 1 2 3 5 8 13 21 34 55 89 144 \n",
      "2. return된 lsit test : [0, 1, 1, 2, 3, 5, 8, 13, 21, 34, 55, 89, 144]\n"
     ]
    }
   ],
   "source": [
    "! python d:/ai/source/pylib/fibonacci.py 200"
   ]
  },
  {
   "cell_type": "code",
   "execution_count": 21,
   "id": "04149b17",
   "metadata": {},
   "outputs": [],
   "source": [
    "del fibonacci"
   ]
  },
  {
   "cell_type": "code",
   "execution_count": 22,
   "id": "798c4088",
   "metadata": {},
   "outputs": [
    {
     "name": "stdout",
     "output_type": "stream",
     "text": [
      "0 1 1 2 3 5 8 13 21 34 55 89 \n"
     ]
    }
   ],
   "source": [
    "# 2. from A import B\n",
    "from fibonacci import fibo_print,fibo_return\n",
    "fibo_print(100)"
   ]
  },
  {
   "cell_type": "code",
   "execution_count": 23,
   "id": "6a14ab60",
   "metadata": {},
   "outputs": [
    {
     "data": {
      "text/plain": [
       "[0, 1, 1, 2, 3, 5, 8, 13, 21, 34, 55, 89]"
      ]
     },
     "execution_count": 23,
     "metadata": {},
     "output_type": "execute_result"
    }
   ],
   "source": [
    "fibo_return(100)"
   ]
  },
  {
   "cell_type": "code",
   "execution_count": 24,
   "id": "e04a30f9",
   "metadata": {},
   "outputs": [],
   "source": [
    "del fibo_print\n",
    "del fibo_return\n"
   ]
  },
  {
   "cell_type": "code",
   "execution_count": 25,
   "id": "f9bd2c2c",
   "metadata": {},
   "outputs": [
    {
     "name": "stdout",
     "output_type": "stream",
     "text": [
      "0 1 1 2 3 5 8 13 21 34 55 89 \n"
     ]
    }
   ],
   "source": [
    "# 3. import 모듈명 as 별칭\n",
    "import fibonacci as f\n",
    "f.fibo_print(100)"
   ]
  },
  {
   "cell_type": "code",
   "execution_count": 26,
   "id": "082cb3aa",
   "metadata": {},
   "outputs": [
    {
     "data": {
      "text/plain": [
       "[0, 1, 1, 2, 3, 5, 8, 13, 21, 34, 55, 89]"
      ]
     },
     "execution_count": 26,
     "metadata": {},
     "output_type": "execute_result"
    }
   ],
   "source": [
    "f.fibo_return(100)"
   ]
  },
  {
   "cell_type": "code",
   "execution_count": 27,
   "id": "0a68a168",
   "metadata": {},
   "outputs": [],
   "source": [
    "del f"
   ]
  },
  {
   "cell_type": "code",
   "execution_count": 28,
   "id": "526b2910",
   "metadata": {},
   "outputs": [],
   "source": [
    "# 4. from 모듈명 import 함수명 as 별칭\n",
    "from fibonacci import fibo_print as fibo_p\n"
   ]
  },
  {
   "cell_type": "code",
   "execution_count": 29,
   "id": "2f7c79f1",
   "metadata": {},
   "outputs": [
    {
     "name": "stdout",
     "output_type": "stream",
     "text": [
      "0 1 1 2 3 5 8 13 21 34 55 89 \n"
     ]
    }
   ],
   "source": [
    "fibo_p(100)"
   ]
  },
  {
   "cell_type": "code",
   "execution_count": 30,
   "id": "622bfc90",
   "metadata": {},
   "outputs": [],
   "source": [
    "import info"
   ]
  },
  {
   "cell_type": "code",
   "execution_count": 31,
   "id": "329b92e5",
   "metadata": {},
   "outputs": [
    {
     "name": "stdout",
     "output_type": "stream",
     "text": [
      "<class 'info.Cal'>\n"
     ]
    }
   ],
   "source": [
    "print(info.Cal)"
   ]
  },
  {
   "cell_type": "code",
   "execution_count": 32,
   "id": "846c8d23",
   "metadata": {},
   "outputs": [],
   "source": [
    "import info as i\n",
    "obj = i.Cal(10,5)"
   ]
  },
  {
   "cell_type": "code",
   "execution_count": 33,
   "id": "74d4fa4d",
   "metadata": {},
   "outputs": [],
   "source": [
    "del i"
   ]
  },
  {
   "cell_type": "code",
   "execution_count": 34,
   "id": "80311818",
   "metadata": {},
   "outputs": [],
   "source": [
    " from info import Cal"
   ]
  },
  {
   "cell_type": "code",
   "execution_count": 35,
   "id": "af1b62a1",
   "metadata": {},
   "outputs": [
    {
     "name": "stdout",
     "output_type": "stream",
     "text": [
      "obj.num1 : 10\n",
      "obj.num2 : 5\n",
      "add test : 15\n",
      "sub test : 5\n"
     ]
    }
   ],
   "source": [
    "obj = Cal(10,5)\n",
    "print('obj.num1 :', obj.num1)\n",
    "print('obj.num2 :', obj.num2)\n",
    "print('add test :', obj.add())\n",
    "print('sub test :', obj.sub())"
   ]
  },
  {
   "cell_type": "code",
   "execution_count": 36,
   "id": "346dd90d",
   "metadata": {},
   "outputs": [
    {
     "name": "stdout",
     "output_type": "stream",
     "text": [
      "obj.num1 : 10\n",
      "obj.num2 : 5\n",
      "add test : 15\n",
      "sub test : 5\n"
     ]
    }
   ],
   "source": [
    "from info import Cal as Calculate\n",
    "obj = Calculate(10,5)\n",
    "print('obj.num1 :', obj.num1)\n",
    "print('obj.num2 :', obj.num2)\n",
    "print('add test :', obj.add())\n",
    "print('sub test :', obj.sub())"
   ]
  },
  {
   "cell_type": "markdown",
   "id": "0c7c4407",
   "metadata": {},
   "source": [
    "# 3절. 패키지"
   ]
  },
  {
   "cell_type": "code",
   "execution_count": 49,
   "id": "e92b4f70",
   "metadata": {},
   "outputs": [],
   "source": [
    "import sys\n",
    "sys.path.append(r'D:\\ai\\source\\pylib')"
   ]
  },
  {
   "cell_type": "code",
   "execution_count": 38,
   "id": "263a7f2f",
   "metadata": {},
   "outputs": [
    {
     "name": "stdout",
     "output_type": "stream",
     "text": [
      "sample_pac 패키지를 로드했는데 확인하는 print입니다\n"
     ]
    }
   ],
   "source": [
    "# 상위 패키지를 import 한다고 하위 패키지가 import 되지 않습니다\n",
    "import sample_pac"
   ]
  },
  {
   "cell_type": "code",
   "execution_count": 39,
   "id": "8ffd93b4",
   "metadata": {},
   "outputs": [
    {
     "name": "stdout",
     "output_type": "stream",
     "text": [
      "sample_pac 패키지 안의 ab패키지가 로드되었습니다\n"
     ]
    }
   ],
   "source": [
    "import sample_pac.ab"
   ]
  },
  {
   "cell_type": "code",
   "execution_count": 40,
   "id": "a73d48d3",
   "metadata": {},
   "outputs": [
    {
     "name": "stdout",
     "output_type": "stream",
     "text": [
      "sample_pac 패키지 안의 cd패키지가 로드되었습니다\n"
     ]
    }
   ],
   "source": [
    "from sample_pac import cd"
   ]
  },
  {
   "cell_type": "code",
   "execution_count": 41,
   "id": "da76c4ab",
   "metadata": {},
   "outputs": [
    {
     "name": "stdout",
     "output_type": "stream",
     "text": [
      "D:\\ai\\source\\pylib\\sample_pac\\__init__.py\n"
     ]
    }
   ],
   "source": [
    "print(sample_pac.__file__)"
   ]
  },
  {
   "cell_type": "code",
   "execution_count": 42,
   "id": "881e1e20",
   "metadata": {},
   "outputs": [
    {
     "name": "stdout",
     "output_type": "stream",
     "text": [
      "['D:\\\\ai\\\\source\\\\pylib\\\\sample_pac']\n"
     ]
    }
   ],
   "source": [
    "print(sample_pac.__path__)\n"
   ]
  },
  {
   "cell_type": "code",
   "execution_count": 47,
   "id": "e5b2a2f0",
   "metadata": {},
   "outputs": [
    {
     "ename": "AttributeError",
     "evalue": "ab",
     "output_type": "error",
     "traceback": [
      "\u001b[1;31m---------------------------------------------------------------------------\u001b[0m",
      "\u001b[1;31mAttributeError\u001b[0m                            Traceback (most recent call last)",
      "Cell \u001b[1;32mIn[47], line 1\u001b[0m\n\u001b[1;32m----> 1\u001b[0m \u001b[38;5;28;01mdel\u001b[39;00m sample_pac\u001b[38;5;241m.\u001b[39mab\n\u001b[0;32m      2\u001b[0m \u001b[38;5;28;01mdel\u001b[39;00m cd\n",
      "\u001b[1;31mAttributeError\u001b[0m: ab"
     ]
    }
   ],
   "source": [
    "del sample_pac.ab\n",
    "del cd"
   ]
  },
  {
   "cell_type": "code",
   "execution_count": 1,
   "id": "6d141b3b",
   "metadata": {},
   "outputs": [],
   "source": [
    "import sys\n",
    "sys.path.append(r'D:\\ai\\source\\pylib')"
   ]
  },
  {
   "cell_type": "code",
   "execution_count": 2,
   "id": "800ee1d1",
   "metadata": {},
   "outputs": [
    {
     "name": "stdout",
     "output_type": "stream",
     "text": [
      "sample_pac 패키지를 로드했는데 확인하는 print입니다\n",
      "sample_pac 패키지 안의 ab패키지가 로드되었습니다\n"
     ]
    }
   ],
   "source": [
    "from sample_pac.ab import * # __init__.py 안의 __all__속성인 a.py 로드"
   ]
  },
  {
   "cell_type": "code",
   "execution_count": 4,
   "id": "81155573",
   "metadata": {},
   "outputs": [
    {
     "name": "stdout",
     "output_type": "stream",
     "text": [
      "sample_pac/ab/b모듈안의 world\n"
     ]
    }
   ],
   "source": [
    "from sample_pac.ab import b\n",
    "b.world()"
   ]
  },
  {
   "cell_type": "code",
   "execution_count": 5,
   "id": "97ca8558",
   "metadata": {},
   "outputs": [
    {
     "name": "stdout",
     "output_type": "stream",
     "text": [
      "sample_pac/ab/a모듈의 Hello\n"
     ]
    }
   ],
   "source": [
    "a.hello()"
   ]
  },
  {
   "cell_type": "code",
   "execution_count": 9,
   "id": "6bff8313",
   "metadata": {},
   "outputs": [
    {
     "name": "stdout",
     "output_type": "stream",
     "text": [
      "sample_pac/ab/b모듈안의 world\n"
     ]
    }
   ],
   "source": [
    "from sample_pac.ab.b import world\n",
    "world()"
   ]
  },
  {
   "cell_type": "code",
   "execution_count": 10,
   "id": "e00ddcf7",
   "metadata": {},
   "outputs": [],
   "source": [
    "del a"
   ]
  },
  {
   "cell_type": "code",
   "execution_count": 2,
   "id": "a4836a2f",
   "metadata": {},
   "outputs": [
    {
     "name": "stdout",
     "output_type": "stream",
     "text": [
      "sample_pac 패키지를 로드했는데 확인하는 print입니다\n",
      "sample_pac 패키지 안의 cd패키지가 로드되었습니다\n",
      "sample_pac 패키지 안의 ab패키지가 로드되었습니다\n"
     ]
    }
   ],
   "source": [
    "import sample_pac.cd.c as c\n",
    "#from sample_pac.cd import c\n",
    "#cd패키지 아래의 c는 a를 참조"
   ]
  },
  {
   "cell_type": "code",
   "execution_count": 3,
   "id": "753af7e3",
   "metadata": {},
   "outputs": [
    {
     "name": "stdout",
     "output_type": "stream",
     "text": [
      "sample_pac\n",
      "sample_pac/ab/a모듈의 Hello\n"
     ]
    }
   ],
   "source": [
    "c.nice()"
   ]
  },
  {
   "cell_type": "code",
   "execution_count": 5,
   "id": "f65cf557",
   "metadata": {},
   "outputs": [
    {
     "name": "stdout",
     "output_type": "stream",
     "text": [
      "sample_pac/ab/a모듈의 Hello\n"
     ]
    }
   ],
   "source": [
    "c.a.hello()"
   ]
  },
  {
   "cell_type": "markdown",
   "id": "499ffff6",
   "metadata": {},
   "source": [
    "# 4절. 패키지 설치 및 삭제\n",
    "- 패키지 설치 : pip install 패키지명[==버전] / conda install 패키지명[==버전]\n",
    "- 패키지 확인 : pip show 패키지명           / conda list 패키지명\n",
    "- 패키지 삭제 : pip uninstall 패키지명      / conda remove 패키지명"
   ]
  },
  {
   "cell_type": "code",
   "execution_count": 1,
   "id": "238d5159",
   "metadata": {},
   "outputs": [
    {
     "ename": "ModuleNotFoundError",
     "evalue": "No module named 'objgraph'",
     "output_type": "error",
     "traceback": [
      "\u001b[1;31m---------------------------------------------------------------------------\u001b[0m",
      "\u001b[1;31mModuleNotFoundError\u001b[0m                       Traceback (most recent call last)",
      "Cell \u001b[1;32mIn[1], line 1\u001b[0m\n\u001b[1;32m----> 1\u001b[0m \u001b[38;5;28;01mimport\u001b[39;00m \u001b[38;5;21;01mobjgraph\u001b[39;00m\n",
      "\u001b[1;31mModuleNotFoundError\u001b[0m: No module named 'objgraph'"
     ]
    }
   ],
   "source": [
    "import objgraph"
   ]
  },
  {
   "cell_type": "code",
   "execution_count": 2,
   "id": "3322a24e",
   "metadata": {},
   "outputs": [
    {
     "ename": "NameError",
     "evalue": "name 'objgraph' is not defined",
     "output_type": "error",
     "traceback": [
      "\u001b[1;31m---------------------------------------------------------------------------\u001b[0m",
      "\u001b[1;31mNameError\u001b[0m                                 Traceback (most recent call last)",
      "Cell \u001b[1;32mIn[2], line 1\u001b[0m\n\u001b[1;32m----> 1\u001b[0m \u001b[43mobjgraph\u001b[49m\u001b[38;5;241m.\u001b[39mshow_most_common_types()\n",
      "\u001b[1;31mNameError\u001b[0m: name 'objgraph' is not defined"
     ]
    }
   ],
   "source": [
    "objgraph.show_most_common_types() #메모리 사용량 출력"
   ]
  },
  {
   "cell_type": "code",
   "execution_count": 3,
   "id": "d5c1c52e",
   "metadata": {},
   "outputs": [
    {
     "ename": "NameError",
     "evalue": "name 'l' is not defined",
     "output_type": "error",
     "traceback": [
      "\u001b[1;31m---------------------------------------------------------------------------\u001b[0m",
      "\u001b[1;31mNameError\u001b[0m                                 Traceback (most recent call last)",
      "Cell \u001b[1;32mIn[3], line 2\u001b[0m\n\u001b[0;32m      1\u001b[0m \u001b[38;5;28;01mfor\u001b[39;00m i \u001b[38;5;129;01min\u001b[39;00m \u001b[38;5;28mrange\u001b[39m(\u001b[38;5;241m1000000\u001b[39m):\n\u001b[1;32m----> 2\u001b[0m     \u001b[43ml\u001b[49m\u001b[38;5;241m.\u001b[39mappend(\u001b[38;5;124m'\u001b[39m\u001b[38;5;124maaaa\u001b[39m\u001b[38;5;124m'\u001b[39m)\n\u001b[0;32m      3\u001b[0m     l\u001b[38;5;241m.\u001b[39mappend(\u001b[38;5;124m'\u001b[39m\u001b[38;5;124mbbbb\u001b[39m\u001b[38;5;124m'\u001b[39m)\n",
      "\u001b[1;31mNameError\u001b[0m: name 'l' is not defined"
     ]
    }
   ],
   "source": [
    "for i in range(1000000):\n",
    "    l.append('aaaa')\n",
    "    l.append('bbbb')\n"
   ]
  },
  {
   "cell_type": "code",
   "execution_count": 4,
   "id": "23f3ef3e",
   "metadata": {},
   "outputs": [
    {
     "ename": "NameError",
     "evalue": "name 'objgraph' is not defined",
     "output_type": "error",
     "traceback": [
      "\u001b[1;31m---------------------------------------------------------------------------\u001b[0m",
      "\u001b[1;31mNameError\u001b[0m                                 Traceback (most recent call last)",
      "Cell \u001b[1;32mIn[4], line 1\u001b[0m\n\u001b[1;32m----> 1\u001b[0m \u001b[43mobjgraph\u001b[49m\u001b[38;5;241m.\u001b[39mshow_most_common_types()\n",
      "\u001b[1;31mNameError\u001b[0m: name 'objgraph' is not defined"
     ]
    }
   ],
   "source": [
    "objgraph.show_most_common_types() #메모리 사용량 출력"
   ]
  },
  {
   "cell_type": "markdown",
   "id": "3baf8d1e",
   "metadata": {},
   "source": [
    "# 5절.연습문제"
   ]
  },
  {
   "cell_type": "code",
   "execution_count": null,
   "id": "a4811c34",
   "metadata": {},
   "outputs": [],
   "source": []
  },
  {
   "cell_type": "code",
   "execution_count": null,
   "id": "01feca76",
   "metadata": {},
   "outputs": [],
   "source": []
  },
  {
   "cell_type": "code",
   "execution_count": null,
   "id": "7b4983fe",
   "metadata": {},
   "outputs": [],
   "source": []
  },
  {
   "cell_type": "code",
   "execution_count": null,
   "id": "647a1deb",
   "metadata": {},
   "outputs": [],
   "source": []
  }
 ],
 "metadata": {
  "kernelspec": {
   "display_name": "Python 3 (ipykernel)",
   "language": "python",
   "name": "python3"
  },
  "language_info": {
   "codemirror_mode": {
    "name": "ipython",
    "version": 3
   },
   "file_extension": ".py",
   "mimetype": "text/x-python",
   "name": "python",
   "nbconvert_exporter": "python",
   "pygments_lexer": "ipython3",
   "version": "3.10.9"
  },
  "toc": {
   "base_numbering": 1,
   "nav_menu": {},
   "number_sections": true,
   "sideBar": true,
   "skip_h1_title": false,
   "title_cell": "Table of Contents",
   "title_sidebar": "Contents",
   "toc_cell": false,
   "toc_position": {
    "height": "calc(100% - 180px)",
    "left": "10px",
    "top": "150px",
    "width": "335px"
   },
   "toc_section_display": true,
   "toc_window_display": true
  }
 },
 "nbformat": 4,
 "nbformat_minor": 5
}
