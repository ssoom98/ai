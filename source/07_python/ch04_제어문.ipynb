{
 "cells": [
  {
   "cell_type": "code",
   "execution_count": 59,
   "id": "16cc6cec",
   "metadata": {},
   "outputs": [
    {
     "data": {
      "text/html": [
       "\n",
       "<style>\n",
       "div.container{width:80% !important;}\n",
       "div.CodeMirror {font-family:Consolas; font-size:12pt;}\n",
       "div.output {font-size:12pt; font-weight:bold;}\n",
       "div.input {font-family:Consolas; font-size:12pt;}\n",
       "div.prompt {min-width:70px;}\n",
       "div#toc-header{margin-top:150px;}\n",
       ".cm-s-ipython span.cm-comment{font-size:12pt; font-style:normal; color:orange;}\n",
       ".ansi-yellow-bg{color:black;font-size:15pt;}\n",
       "\n",
       "</style>\n",
       "<style>\n",
       "span.toc-item-num{display:none;}\n",
       "</style>\n"
      ],
      "text/plain": [
       "<IPython.core.display.HTML object>"
      ]
     },
     "metadata": {},
     "output_type": "display_data"
    }
   ],
   "source": [
    "from IPython.display import display, HTML\n",
    "display(HTML(\"\"\"\n",
    "<style>\n",
    "div.container{width:80% !important;}\n",
    "div.CodeMirror {font-family:Consolas; font-size:12pt;}\n",
    "div.output {font-size:12pt; font-weight:bold;}\n",
    "div.input {font-family:Consolas; font-size:12pt;}\n",
    "div.prompt {min-width:70px;}\n",
    "div#toc-header{margin-top:150px;}\n",
    ".cm-s-ipython span.cm-comment{font-size:12pt; font-style:normal; color:orange;}\n",
    ".ansi-yellow-bg{color:black;font-size:15pt;}\n",
    "\n",
    "</style>\n",
    "<style>\n",
    "span.toc-item-num{display:none;}\n",
    "</style>\n",
    "\"\"\"))"
   ]
  },
  {
   "cell_type": "markdown",
   "id": "c252c4df",
   "metadata": {},
   "source": [
    "<b><font size=\"6\" color=\"red\"> ch04. 제어문</font><b>\n",
    "- if문, for-in문, while문, 중첩가능, 중첩루프탈출"
   ]
  },
  {
   "cell_type": "markdown",
   "id": "5aced21c",
   "metadata": {},
   "source": [
    "# 1절. 조건문(if문)"
   ]
  },
  {
   "cell_type": "code",
   "execution_count": 4,
   "id": "539258f5",
   "metadata": {},
   "outputs": [
    {
     "name": "stdout",
     "output_type": "stream",
     "text": [
      "Enter your score >50\n",
      "재시험 응시하셔야 합니다\n",
      "화이팅\n"
     ]
    }
   ],
   "source": [
    "score= int(input('Enter your score >'))\n",
    "if score>=90:\n",
    "    print('참 잘했어요')\n",
    "    print('다음에도 기대할겡')\n",
    "elif score>=70:\n",
    "    print('분발하실거죠?')\n",
    "    print('뭐 그래도 고생했어요')\n",
    "else:\n",
    "    print('재시험 응시하셔야 합니다')\n",
    "    print('화이팅')\n",
    "    "
   ]
  },
  {
   "cell_type": "code",
   "execution_count": 6,
   "id": "61555f47",
   "metadata": {},
   "outputs": [
    {
     "name": "stdout",
     "output_type": "stream",
     "text": [
      "Enter your score >90\n",
      "입력하신 점수는 90점이고, A등급입니다\n"
     ]
    }
   ],
   "source": [
    "# 점수를 입력받아 학점출력(A,B,C,D,F,유효하지 않은 점수)\n",
    "score = int(input('Enter your score >'))\n",
    "if 90<=score<=100 :  # if (90<=score) & (100>=score) 할 필요 없음\n",
    "    grade='A'\n",
    "elif 80<=score<90 :\n",
    "        grade='B' \n",
    "elif 70<=score<80 :\n",
    "        grade='C' \n",
    "elif 60<=score<70 :\n",
    "        grade='D' \n",
    "elif 0<=score<60 :\n",
    "        grade='F' \n",
    "else:\n",
    "    grade = '유효하지않은 점수입니다'\n",
    "    \n",
    "print(\"입력하신 점수는 {}점이고, {}등급입니다\". format(score,grade))"
   ]
  },
  {
   "cell_type": "markdown",
   "id": "4c0aa00d",
   "metadata": {},
   "source": [
    "# 2절. 반복문\n",
    "## 2.1 for-in문\n",
    "```\n",
    "for 임시변수 in 나열가능한자료:\n",
    "    반복할문장1\n",
    "    반복할문장2\n",
    "else:\n",
    "    나열한가능한 자료를 다 소요하여 for블럭을 다 수행한 후 , 최종한번만 실행할 문장(else선택사항)\n",
    "    for문안에 break가 있을경우, else블럭은 수행되지 않음"
   ]
  },
  {
   "cell_type": "code",
   "execution_count": 11,
   "id": "c1668dd6",
   "metadata": {},
   "outputs": [
    {
     "name": "stdout",
     "output_type": "stream",
     "text": [
      "1\t3\tEND\n"
     ]
    }
   ],
   "source": [
    "for i in range(1,10,2):\n",
    "    if i==5:\n",
    "        break\n",
    "    print(i, end='\\t')\n",
    "else:\n",
    "    print('\\nDONE')\n",
    "print(\"END\")"
   ]
  },
  {
   "cell_type": "code",
   "execution_count": 15,
   "id": "82a92c9e",
   "metadata": {},
   "outputs": [
    {
     "name": "stdout",
     "output_type": "stream",
     "text": [
      "1~100까지 짝수의 합은 2550\n"
     ]
    }
   ],
   "source": [
    "# 1~100까지 짝수의 합을 계산하고 출력하시오(for문)\n",
    "sum=0 #누적변수\n",
    "for i in range(1,101):\n",
    "    if i%2==0:\n",
    "        sum +=i\n",
    "else:\n",
    "    pass\n",
    "print('1~100까지 짝수의 합은',sum)"
   ]
  },
  {
   "cell_type": "markdown",
   "id": "0de0754e",
   "metadata": {},
   "source": [
    "## 2.2 while문\n",
    "```\n",
    "while 조건 :\n",
    "    조건이 참일 경우 반복할 문장1\n",
    "    조건이 참일 경우 반복할 문장2....\n",
    "else:\n",
    "    조건이 거짓일 경우 한번 실행할 문장(else구문 선택사항)\n",
    "```"
   ]
  },
  {
   "cell_type": "code",
   "execution_count": 16,
   "id": "018ee5fd",
   "metadata": {},
   "outputs": [
    {
     "name": "stdout",
     "output_type": "stream",
     "text": [
      "1~100까지 짝수의 합은 2550\n"
     ]
    }
   ],
   "source": [
    "# 1~100 까지 짝수의 합을 계산하고 출력하시오(while)\n",
    "i=1\n",
    "sum=0 #누적변수\n",
    "while i<=100:\n",
    "    if i%2==0:\n",
    "        sum += i\n",
    "    i += 1 ## ++,-- 증감연산자가 파이썬에는 없음e\n",
    "else:\n",
    "    pass\n",
    "print(\"1~100까지 짝수의 합은\", sum)"
   ]
  },
  {
   "cell_type": "code",
   "execution_count": 17,
   "id": "21327c8f",
   "metadata": {},
   "outputs": [],
   "source": [
    "# 사용자에게 두 정수를 입력받아, 작은수부터 큰수까지 홀수의 합 누적해서 출력"
   ]
  },
  {
   "cell_type": "code",
   "execution_count": 26,
   "id": "8966736d",
   "metadata": {},
   "outputs": [
    {
     "name": "stdout",
     "output_type": "stream",
     "text": [
      "1\n",
      "10\n",
      "1~10까지 홀수들의 합은 25입니다\n"
     ]
    }
   ],
   "source": [
    "first= int(input())\n",
    "second= int(input())\n",
    "\n",
    "if first>= second:\n",
    "    max = first\n",
    "    min = second\n",
    "else:\n",
    "    max = second\n",
    "    min= first\n",
    "sum = 0# 누적변수\n",
    "#for i in range(min,max+1):\n",
    "#    if i%2!=0:\n",
    "#        sum += i\n",
    "i = min\n",
    "while i <= max:\n",
    "    if i%2!=0:\n",
    "        sum+=i\n",
    "    i += 1\n",
    "print(\"{}~{}까지 홀수들의 합은 {}입니다\".format(min,max,sum))"
   ]
  },
  {
   "cell_type": "code",
   "execution_count": 9,
   "id": "2772efac",
   "metadata": {},
   "outputs": [
    {
     "name": "stdout",
     "output_type": "stream",
     "text": [
      "0번째까지 :[12]\n",
      "1번째까지 :[12, 15]\n",
      "2번째까지 :[12, 15, 17]\n",
      "3번째까지 :[12, 15, 17, 18]\n",
      "4번째까지 :[12, 15, 17, 18, 27]\n",
      "5번째까지 :[12, 15, 17, 18, 27, 28]\n"
     ]
    }
   ],
   "source": [
    "# ex2. 로또번호 6개를 추출후, 정렬하여 출력하시오\n",
    "import random\n",
    "# random.seed(7) # seed값이 값이 같으면 랜덤수가 같아짐\n",
    "lotto_lst = []\n",
    "'''\n",
    "while len(lotto_lst)<6:\n",
    "    temp = random.randint(1,45) # 임의의 수를 temp변수\n",
    "    for no in lotto_lst:\n",
    "        if no == temp:\n",
    "            break \n",
    "    else: \n",
    "        lotto_lst.append(temp)\n",
    "lotto_lst\n",
    "'''\n",
    "while len(lotto_lst)<=6:\n",
    "    temp = random.randint(1,45) # 임의의 수를 temp변수\n",
    "    if temp in lotto_lst:\n",
    "            break \n",
    "    else: \n",
    "       lotto_lst.append(temp)\n",
    "# 정렬 알고리즘\n",
    "for i in range(len(lotto_lst)-1):\n",
    "    for j in range(i+1, len(lotto_lst)):\n",
    "        if lotto_lst[i] > lotto_lst[j]:\n",
    "            lotto_lst[i],lotto_lst[j]=lotto_lst[j],lotto_lst[i]\n",
    "    print(\"{}번째까지 :{}\".format(i, lotto_lst[:i+1]))"
   ]
  },
  {
   "cell_type": "code",
   "execution_count": 16,
   "id": "b3adb328",
   "metadata": {},
   "outputs": [
    {
     "name": "stdout",
     "output_type": "stream",
     "text": [
      "6개 로또번호는 7번 추출함\n",
      "정렬 전 : {1, 38, 9, 15, 25, 31}\n",
      "정렬 후 : [1, 9, 15, 25, 31, 38]\n"
     ]
    }
   ],
   "source": [
    "# ex2. 로또번호 6개를 추출후, 정렬하여 출력하시오\n",
    "import random\n",
    "# random.seed(7) # seed값이 값이 같으면 랜덤수가 같아짐\n",
    "\n",
    "lotto_set=set()\n",
    "cnt = 0\n",
    "while len(lotto_set)<6:\n",
    "    lotto_set.add(random.randint(1,45))\n",
    "    cnt+=1\n",
    "print(\"6개 로또번호는 {}번 추출함\".format(cnt))\n",
    "print(\"정렬 전 :\", lotto_set)\n",
    "print(\"정렬 후 :\", sorted(list(lotto_set)))"
   ]
  },
  {
   "cell_type": "code",
   "execution_count": 17,
   "id": "3a0077a4",
   "metadata": {},
   "outputs": [
    {
     "data": {
      "text/plain": [
       "[1, 4, 6, 10, 19, 43]"
      ]
     },
     "execution_count": 17,
     "metadata": {},
     "output_type": "execute_result"
    }
   ],
   "source": [
    "# ex2. 1~45중에 6개 뽑기\n",
    "sorted(random.sample(range(1,46),6))"
   ]
  },
  {
   "cell_type": "markdown",
   "id": "b03c23ba",
   "metadata": {},
   "source": [
    "## 2.3 break, continue"
   ]
  },
  {
   "cell_type": "code",
   "execution_count": 19,
   "id": "de1bffee",
   "metadata": {},
   "outputs": [
    {
     "name": "stdout",
     "output_type": "stream",
     "text": [
      "1 2 3 4 "
     ]
    }
   ],
   "source": [
    "num = 0\n",
    "while num<10:\n",
    "    num += 1\n",
    "    if num ==5:\n",
    "        #break\n",
    "        continue\n",
    "    print(num,end=' ')\n",
    "print('DONE')"
   ]
  },
  {
   "cell_type": "code",
   "execution_count": 75,
   "id": "67829607",
   "metadata": {},
   "outputs": [
    {
     "name": "stdout",
     "output_type": "stream",
     "text": [
      "22\n",
      "1~100의 사이의 수를 맞춰보세요 >22\n",
      "정답입니다\n",
      "DONE\n"
     ]
    }
   ],
   "source": [
    "# 숫자 찾기 게임\n",
    "'''\n",
    "1~100 사이의 정수를 맞추기 프로그램\n",
    "(프로그램안에서 random수가 만들어지고 그 random수 맞추기)\n",
    "1단계: 숫자를 못 맞추면 UP/DOWN을 출력하고, 맞추면 축하메세지 뿌리고 끝남\n",
    "2단계: 숫자를 못 맞추면 min~max를 조정, 맞추면 축하메세지 뿌리고 끝남\n",
    "3단계: 2단계와 동일하나 기회는 5회로 제한. 기회소진시 실패 성공시 축하메세지\n",
    "'''\n",
    "import random\n",
    "ranNum = random.randint(1,100)\n",
    "print(ranNum)\n",
    "inputNum = 0 \n",
    "while ranNum!=inputNum:\n",
    "    inputNum= int(input(\"1~100의 사이의 수를 맞춰보세요 >\"))\n",
    "    if (inputNum<1)|(inputNum>100) :\n",
    "        print('1~100사이의 값을 입력하세요')\n",
    "    elif ranNum<inputNum:\n",
    "        print('DOWN↓')\n",
    "    elif ranNum>inputNum:\n",
    "        print('UP↑')\n",
    "    else:\n",
    "        print('정답입니다')\n",
    "print('DONE')"
   ]
  },
  {
   "cell_type": "markdown",
   "id": "344b7225",
   "metadata": {},
   "source": [
    "# 3절. 중첩루프\n",
    "(반복문 안 반복문)"
   ]
  },
  {
   "cell_type": "code",
   "execution_count": 40,
   "id": "1c620427",
   "metadata": {},
   "outputs": [
    {
     "name": "stdout",
     "output_type": "stream",
     "text": [
      "  2단  \t  3단  \t  4단  \t  5단  \t  6단  \t  7단  \t  8단  \t  9단  \t\n",
      "2x1= 2\t3x1= 3\t4x1= 4\t5x1= 5\t6x1= 6\t7x1= 7\t8x1= 8\t9x1= 9\t\n",
      "2x2= 4\t3x2= 6\t4x2= 8\t5x2=10\t6x2=12\t7x2=14\t8x2=16\t9x2=18\t\n",
      "2x3= 6\t3x3= 9\t4x3=12\t5x3=15\t6x3=18\t7x3=21\t8x3=24\t9x3=27\t\n",
      "2x4= 8\t3x4=12\t4x4=16\t5x4=20\t6x4=24\t7x4=28\t8x4=32\t9x4=36\t\n",
      "2x5=10\t3x5=15\t4x5=20\t5x5=25\t6x5=30\t7x5=35\t8x5=40\t9x5=45\t\n",
      "2x6=12\t3x6=18\t4x6=24\t5x6=30\t6x6=36\t7x6=42\t8x6=48\t9x6=54\t\n",
      "2x7=14\t3x7=21\t4x7=28\t5x7=35\t6x7=42\t7x7=49\t8x7=56\t9x7=63\t\n",
      "2x8=16\t3x8=24\t4x8=32\t5x8=40\t6x8=48\t7x8=56\t8x8=64\t9x8=72\t\n",
      "2x9=18\t3x9=27\t4x9=36\t5x9=45\t6x9=54\t7x9=63\t8x9=72\t9x9=81\t\n"
     ]
    }
   ],
   "source": [
    "# 2~9단 구구단 출력\n",
    "for i in range(2,10):\n",
    "    print(\"{:^6}\".format(str(i)+\"단\"),end='\\t')\n",
    "print() #개행\n",
    "for i in range(1,10):\n",
    "    for j in range(2,10):\n",
    "        print(\"{}x{}={:>2}\".format(j,i,i*j), end='\\t')\n",
    "    print() #개행\n"
   ]
  },
  {
   "cell_type": "code",
   "execution_count": 44,
   "id": "b435181e",
   "metadata": {},
   "outputs": [
    {
     "name": "stdout",
     "output_type": "stream",
     "text": [
      "0:1\t1:2\t2:3\t\n",
      "데이터만 출력\n",
      "1\t2\t3\t"
     ]
    }
   ],
   "source": [
    "lst= [1,2,3]\n",
    "for i in range(len(lst)):\n",
    "    print(\"{}:{}\".format(i,lst[i]), end='\\t')\n",
    "print('\\n데이터만 출력')\n",
    "for l in lst:\n",
    "    print(l,end='\\t')"
   ]
  },
  {
   "cell_type": "code",
   "execution_count": null,
   "id": "f8923dfb",
   "metadata": {},
   "outputs": [],
   "source": []
  },
  {
   "cell_type": "code",
   "execution_count": 45,
   "id": "93d50c32",
   "metadata": {},
   "outputs": [
    {
     "name": "stdout",
     "output_type": "stream",
     "text": [
      "0행0열:1\t0행1열:2\t0행2열:3\t0행3열:4\t\n",
      "1행0열:5\t1행1열:6\t1행2열:7\t1행3열:8\t\n",
      "2행0열:1\t2행1열:2\t2행2열:3\t2행3열:4\t\n",
      "데이터만 출력\n",
      "[1, 2, 3, 4]\n",
      "[5, 6, 7, 8]\n",
      "[1, 2, 3, 4]\n"
     ]
    }
   ],
   "source": [
    "\n",
    "lst_2d=[[1,2,3,4],[5,6,7,8],[1,2,3,4],]# 논리적으로 3행 4열\n",
    "\n",
    "for i in range(len(lst_2d)):\n",
    "    for j in range(len(lst_2d[i])):\n",
    "        print(\"{}행{}열:{}\".format(i,j,lst_2d[i][j]),end='\\t')\n",
    "    print() #개행\n",
    "print('데이터만 출력')\n",
    "for row in lst_2d:\n",
    "    for data in row:\n",
    "        print(data,end='\\t')\n",
    "    print() #개행\n"
   ]
  },
  {
   "cell_type": "code",
   "execution_count": 56,
   "id": "76ac8182",
   "metadata": {},
   "outputs": [
    {
     "name": "stdout",
     "output_type": "stream",
     "text": [
      "[0면][0행][0열]:1\t[0면][0행][1열]:2\t[0면][0행][2열]:3\t[0면][0행][3열]:4.0\t[0면][1행][0열]:5\t[0면][1행][1열]:6\t[0면][1행][2열]:7\t[0면][1행][3열]:8\t[0면][2행][0열]:1\t[0면][2행][1열]:2\t[0면][2행][2열]:3\t[0면][2행][3열]:4\t-----------------\n",
      "[1면][0행][0열]:1\t[1면][0행][1열]:2\t[1면][0행][2열]:3\t[1면][0행][3열]:4\t[1면][1행][0열]:5\t[1면][1행][1열]:6\t[1면][1행][2열]:7\t[1면][1행][3열]:8\t[1면][2행][0열]:1\t[1면][2행][1열]:2\t[1면][2행][2열]:3\t[1면][2행][3열]:4\t-----------------\n",
      "데이터만\n",
      "1\t2\t3\t4.0\t\n",
      "5\t6\t7\t8\t\n",
      "1\t2\t3\t4\t\n",
      "-----------------\n",
      "1\t2\t3\t4\t\n",
      "5\t6\t7\t8\t\n",
      "1\t2\t3\t4\t\n",
      "-----------------\n"
     ]
    }
   ],
   "source": [
    "lst_3d=[[[1,2,3,4.0],[5,6,7,8],[1,2,3,4],],\n",
    "       [[1,2,3,4],[5,6,7,8],[1,2,3,4],]]# 논리적으로 2면 3행 4열\n",
    "for i in range(len(lst_3d)):\n",
    "    for j in range(len(lst_3d[i])):\n",
    "        for k in range(len(lst_3d[i][j])):\n",
    "            print(\"[{}면][{}행][{}열]:{}\".format(i,j,k,\\\n",
    "                                              lst_3d[i][j][k]),end='\\t')\n",
    "    print('-----------------')\n",
    "print('데이터만')   \n",
    "for face in lst_3d:\n",
    "    for row in face:\n",
    "        for data in row:\n",
    "            print(data,end='\\t')\n",
    "        print() #개행\n",
    "    print('-----------------')"
   ]
  },
  {
   "cell_type": "markdown",
   "id": "8a09a4db",
   "metadata": {},
   "source": [
    "# 4절. 중첩루프 탈출"
   ]
  },
  {
   "cell_type": "code",
   "execution_count": 60,
   "id": "bfd774f0",
   "metadata": {},
   "outputs": [
    {
     "name": "stdout",
     "output_type": "stream",
     "text": [
      "0 1\n",
      "0 2\n",
      "DONE\n"
     ]
    }
   ],
   "source": [
    "# 중첩 루프 탈출 : 방법 1. 플래그 변수 이용\n",
    "flag = False # break를 만나면 True\n",
    "for a in range(0,3): # a<=0,1,2\n",
    "    for b in range(1,3): #b<=1,2\n",
    "        if a==b:\n",
    "            flag = True\n",
    "            break  #break 를 만나면 안쪽 반복문 탈출\n",
    "        print(a,b)\n",
    "    break\n",
    "print('DONE')"
   ]
  },
  {
   "cell_type": "code",
   "execution_count": 61,
   "id": "5a065b7c",
   "metadata": {},
   "outputs": [],
   "source": [
    "# 방법 2. 인위적으로 예외를 발생 Exception 이용"
   ]
  },
  {
   "cell_type": "code",
   "execution_count": 62,
   "id": "3fb67188",
   "metadata": {},
   "outputs": [],
   "source": [
    "# Exception 을 상속받은 BreakOutLoopException 클래스 생성\n",
    "class BreakOutLoopError(Exception):\n",
    "    pass"
   ]
  },
  {
   "cell_type": "code",
   "execution_count": 65,
   "id": "9a9993b5",
   "metadata": {},
   "outputs": [
    {
     "name": "stdout",
     "output_type": "stream",
     "text": [
      "0 1\n",
      "0 2\n",
      "DONE\n"
     ]
    }
   ],
   "source": [
    "try:   \n",
    "    for a in range(0,3): # a<=0,1,2\n",
    "        for b in range(1,3): #b<=1,2\n",
    "            if a==b:\n",
    "                raise BreakOutLoopError#강제예외 발생\n",
    "            print(a,b)\n",
    "except BreakOutLoopError:    \n",
    "    print('DONE')"
   ]
  },
  {
   "cell_type": "markdown",
   "id": "9d641d1e",
   "metadata": {},
   "source": [
    "## 연습문제\n"
   ]
  },
  {
   "cell_type": "code",
   "execution_count": 123,
   "id": "1b842cf0",
   "metadata": {},
   "outputs": [
    {
     "name": "stdout",
     "output_type": "stream",
     "text": [
      "양의 정수를 입력하세요> -9\n",
      "다시 입력하세요\n",
      "양의 정수를 입력하세요> -4\n",
      "다시 입력하세요\n",
      "양의 정수를 입력하세요> 4\n",
      "짝수\n"
     ]
    }
   ],
   "source": [
    "#양의 정수를 입력 받아 홀수인지 짝수인지를 판별하는 프로그램을 작성하세요.\n",
    "#양의 정수가 아니면 숫자를 다시 입력 받아야 합니다.\n",
    "nums= 0\n",
    "while nums<=0:\n",
    "    nums= int(input(\"양의 정수를 입력하세요> \"))\n",
    "    if nums<=0: \n",
    "        print('다시 입력하세요')\n",
    "    elif (nums%2==0):\n",
    "        print('짝수')\n",
    "    else:\n",
    "        print('홀수')\n"
   ]
  },
  {
   "cell_type": "code",
   "execution_count": 40,
   "id": "4dbae36b",
   "metadata": {},
   "outputs": [
    {
     "name": "stdout",
     "output_type": "stream",
     "text": [
      "*****\n",
      "*****\n",
      "*****\n",
      "*****\n",
      "*****\n",
      "*\n",
      "**\n",
      "***\n",
      "****\n",
      "*****\n"
     ]
    }
   ],
   "source": [
    "#중첩for문을 이용하여 아래 패턴의 별을 출력하는 프로그램을 작성하세요.\n",
    "#1\n",
    "for i in range(1,6):\n",
    "    for j in range(5):\n",
    "        print('*',end='')\n",
    "    print()\n",
    "#2\n",
    "a='*'\n",
    "for i in range(1,6):\n",
    "    for j in range(i):\n",
    "        print('*',end='')\n",
    "    print() "
   ]
  },
  {
   "cell_type": "code",
   "execution_count": 41,
   "id": "2fcdf9c1",
   "metadata": {},
   "outputs": [
    {
     "name": "stdout",
     "output_type": "stream",
     "text": [
      "165\n"
     ]
    }
   ],
   "source": [
    "sum=0\n",
    "for i in range(0,31):\n",
    "    if i%3==0:\n",
    "        sum = sum+i\n",
    "    else:\n",
    "        pass\n",
    "print(sum)"
   ]
  },
  {
   "cell_type": "code",
   "execution_count": 43,
   "id": "e1bf6682",
   "metadata": {},
   "outputs": [
    {
     "name": "stdout",
     "output_type": "stream",
     "text": [
      "1 3 5 7 9 "
     ]
    }
   ],
   "source": [
    "num = 0\n",
    "while num <=10:\n",
    "    if num%2 == 1:\n",
    "        print(num,end=' ')\n",
    "    num += 1\n",
    "# for i in range(1, 10, 2):\n",
    "# print(i,end=' ')"
   ]
  },
  {
   "cell_type": "code",
   "execution_count": 53,
   "id": "12ee3dbb",
   "metadata": {},
   "outputs": [
    {
     "name": "stdout",
     "output_type": "stream",
     "text": [
      "123\n",
      "4567\n",
      "89\n"
     ]
    }
   ],
   "source": [
    "list2d = [ [1,2,3],[4,5,6,7],[8,9]]\n",
    "for row in list2d:\n",
    "    for data in row:\n",
    "        print(data,end='')\n",
    "    print()"
   ]
  },
  {
   "cell_type": "code",
   "execution_count": 61,
   "id": "9b847522",
   "metadata": {},
   "outputs": [
    {
     "name": "stdout",
     "output_type": "stream",
     "text": [
      "0 apple\n",
      "1 banana\n"
     ]
    }
   ],
   "source": [
    "colors ={\"red\":'apple',\"yellow\":'banana'}\n",
    "for i,v in enumerate(colors.values()):\n",
    "    print(i,v)"
   ]
  },
  {
   "cell_type": "code",
   "execution_count": 62,
   "id": "cd18a5e7",
   "metadata": {},
   "outputs": [
    {
     "name": "stdout",
     "output_type": "stream",
     "text": [
      "[1, 2, 3] 0\n"
     ]
    }
   ],
   "source": [
    "for i in range(0,2):\n",
    "    for j in range(0,2):\n",
    "        if i ==j:\n",
    "            break\n",
    "        print(l,j)"
   ]
  },
  {
   "cell_type": "code",
   "execution_count": 63,
   "id": "ec4c9bdc",
   "metadata": {},
   "outputs": [
    {
     "name": "stdout",
     "output_type": "stream",
     "text": [
      "0 0\n",
      "1 0\n",
      "1 1\n"
     ]
    }
   ],
   "source": [
    "for i in range(0,2):\n",
    "    for j in range(0,2):\n",
    "        print(i,j)\n",
    "        if i==j:\n",
    "            break"
   ]
  },
  {
   "cell_type": "code",
   "execution_count": 66,
   "id": "5637aa5c",
   "metadata": {},
   "outputs": [
    {
     "name": "stdout",
     "output_type": "stream",
     "text": [
      "3 5 7 9 "
     ]
    }
   ],
   "source": [
    "L = [3, 4, 5, 6, 7, 8, 9, 10]\n",
    "for i, data in enumerate(L):\n",
    "    if(i%2 == 0):\n",
    "        print(data, end=' ')"
   ]
  },
  {
   "cell_type": "code",
   "execution_count": 75,
   "id": "9fc91796",
   "metadata": {},
   "outputs": [
    {
     "name": "stdout",
     "output_type": "stream",
     "text": [
      "60\n",
      "0~100의 사이의 수를 맞춰보세요 >60\n",
      "정답입니다\n",
      "DONE\n"
     ]
    }
   ],
   "source": [
    "# 숫자 찾기 게임\n",
    "'''\n",
    "1~100 사이의 정수를 맞추기 프로그램\n",
    "(프로그램안에서 random수가 만들어지고 그 random수 맞추기)\n",
    "1단계: 숫자를 못 맞추면 UP/DOWN을 출력하고, 맞추면 축하메세지 뿌리고 끝남\n",
    "2단계: 숫자를 못 맞추면 min~max를 조정, 맞추면 축하메세지 뿌리고 끝남\n",
    "3단계: 2단계와 동일하나 기회는 5회로 제한. 기회소진시 실패 성공시 축하메세지\n",
    "'''\n",
    "import random\n",
    "ranNum = random.randint(1,100)\n",
    "print(ranNum)\n",
    "inputNum = 0 \n",
    "min = 0\n",
    "max = 100 \n",
    "\n",
    "while ranNum!=inputNum:\n",
    "    inputNum= int(input(\"{}~{}의 사이의 수를 맞춰보세요 >\".format(min,max)))\n",
    "    if (inputNum<min)|(inputNum>max) :\n",
    "        print('입력범위를 벗어났습니다')\n",
    "    elif ranNum<inputNum:\n",
    "        print('DOWN↓')\n",
    "        max = inputNum-1 \n",
    "    elif ranNum>inputNum:\n",
    "        print('UP↑')\n",
    "        min = inputNum+1\n",
    "    else:\n",
    "        print('정답입니다')\n",
    "print('DONE')\n"
   ]
  },
  {
   "cell_type": "code",
   "execution_count": 86,
   "id": "68d64ff1",
   "metadata": {},
   "outputs": [
    {
     "name": "stdout",
     "output_type": "stream",
     "text": [
      "10\n",
      "0~100의 사이의 수를 맞춰보세요 5번 남았습니다 >50\n",
      "DOWN↓\n",
      "0~49의 사이의 수를 맞춰보세요 4번 남았습니다 >25\n",
      "DOWN↓\n",
      "0~24의 사이의 수를 맞춰보세요 3번 남았습니다 >5\n",
      "UP↑\n",
      "6~24의 사이의 수를 맞춰보세요 2번 남았습니다 >2\n",
      "입력범위를 벗어났습니다\n",
      "6~24의 사이의 수를 맞춰보세요 1번 남았습니다 >2\n",
      "입력범위를 벗어났습니다\n",
      "기회소진\n"
     ]
    }
   ],
   "source": [
    "# 숫자 찾기 게임\n",
    "'''\n",
    "1~100 사이의 정수를 맞추기 프로그램\n",
    "(프로그램안에서 random수가 만들어지고 그 random수 맞추기)\n",
    "1단계: 숫자를 못 맞추면 UP/DOWN을 출력하고, 맞추면 축하메세지 뿌리고 끝남\n",
    "2단계: 숫자를 못 맞추면 min~max를 조정, 맞추면 축하메세지 뿌리고 끝남\n",
    "3단계: 2단계와 동일하나 기회는 5회로 제한. 기회소진시 실패 성공시 축하메세지\n",
    "'''\n",
    "import random\n",
    "ranNum = random.randint(1,100)\n",
    "print(ranNum)\n",
    "inputNum = 0 \n",
    "min = 0\n",
    "max = 100 \n",
    "for i in range (5, 0, -1):\n",
    "    inputNum= int(input(\"{}~{}의 사이의 수를 맞춰보세요 {}번 남았습니다 >\".format(min,max,i)))\n",
    "    if (inputNum<min)|(inputNum>max) :\n",
    "        print('입력범위를 벗어났습니다')\n",
    "    elif ranNum<inputNum:\n",
    "        print('DOWN↓')\n",
    "        max = inputNum-1 \n",
    "    elif ranNum>inputNum:\n",
    "        print('UP↑')\n",
    "        min = inputNum+1\n",
    "    else:\n",
    "        print('{}번만에 정답입니다'.format(6-i))\n",
    "        break\n",
    "else:\n",
    "    print('기회소진')"
   ]
  }
 ],
 "metadata": {
  "kernelspec": {
   "display_name": "Python 3 (ipykernel)",
   "language": "python",
   "name": "python3"
  },
  "language_info": {
   "codemirror_mode": {
    "name": "ipython",
    "version": 3
   },
   "file_extension": ".py",
   "mimetype": "text/x-python",
   "name": "python",
   "nbconvert_exporter": "python",
   "pygments_lexer": "ipython3",
   "version": "3.10.9"
  },
  "toc": {
   "base_numbering": 1,
   "nav_menu": {},
   "number_sections": true,
   "sideBar": true,
   "skip_h1_title": false,
   "title_cell": "Table of Contents",
   "title_sidebar": "Contents",
   "toc_cell": false,
   "toc_position": {
    "height": "calc(100% - 180px)",
    "left": "10px",
    "top": "150px",
    "width": "165px"
   },
   "toc_section_display": true,
   "toc_window_display": true
  }
 },
 "nbformat": 4,
 "nbformat_minor": 5
}
