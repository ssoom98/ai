{
 "cells": [
  {
   "cell_type": "markdown",
   "id": "1591558b",
   "metadata": {},
   "source": [
    "# GUI(Graphical User Interface)\n",
    "- 그래픽 사용자 인터페이스\n",
    "- 모델 load하여, GUI 창에서 입력된 독립변수('건축년도', '전용면적', '층')로 예측된 집값 출력"
   ]
  },
  {
   "cell_type": "code",
   "execution_count": 2,
   "id": "619641ed",
   "metadata": {
    "ExecuteTime": {
     "end_time": "2025-01-06T02:48:44.559262Z",
     "start_time": "2025-01-06T02:48:44.365096Z"
    }
   },
   "outputs": [],
   "source": [
    "import joblib        # Model Load\n",
    "import tkinter as tk # GUI 창 띄우기 위함"
   ]
  },
  {
   "cell_type": "code",
   "execution_count": 4,
   "id": "27994ed4",
   "metadata": {
    "ExecuteTime": {
     "end_time": "2025-01-06T02:48:59.664633Z",
     "start_time": "2025-01-06T02:48:58.870039Z"
    }
   },
   "outputs": [],
   "source": [
    "# Model Load\n",
    "loaded_model = joblib.load('../model/ex01_apt_price_regression.pkl')\n",
    "# summary는 모델 제대로 load 됐는지 확인용\n",
    "# loaded_model.summary()"
   ]
  },
  {
   "cell_type": "code",
   "execution_count": 5,
   "id": "700067e7",
   "metadata": {
    "ExecuteTime": {
     "end_time": "2025-01-06T02:49:00.527115Z",
     "start_time": "2025-01-06T02:49:00.318986Z"
    }
   },
   "outputs": [
    {
     "data": {
      "text/plain": [
       "'2585075605312on_submit'"
      ]
     },
     "execution_count": 5,
     "metadata": {},
     "output_type": "execute_result"
    }
   ],
   "source": [
    "def on_submit(event=None):\n",
    "    '입력된 건축년도, 전용면적, 층을 받아 -> 예측값을 pred_label 출력'\n",
    "    year = int(year_entry.get())\n",
    "    square = int(square_entry.get())\n",
    "    floor = int(floor_entry.get())\n",
    "    pred = loaded_model.predict([1,year,square,floor]) # [1436324.90445146]\n",
    "    print('예상금액 : {}만원입니다'.format(\n",
    "        format(round(pred[0]),',')))\n",
    "    pred_label.configure(text='예상금액 : {}만원입니다'.format(\n",
    "        format(round(pred[0]),',')))\n",
    "    \n",
    "root = tk.Tk()\n",
    "\n",
    "root.geometry(\"300x250\")\n",
    "\n",
    "year_label = tk.Label(root, text=\"건축년도 : \")\n",
    "year_label.pack()\n",
    "year_entry = tk.Entry(root)\n",
    "year_entry.pack(pady=5) # pady, padx : 위아래 여백\n",
    "\n",
    "square_label = tk.Label(root, text=\"전용면적(제곱미터) : \")\n",
    "square_label.pack()\n",
    "square_entry = tk.Entry(root)\n",
    "square_entry.pack(pady=5) # pady, padx : 위아래 여백\n",
    "\n",
    "floor_label = tk.Label(root, text=\"몇층 : \")\n",
    "floor_label.pack()\n",
    "floor_entry = tk.Entry(root)\n",
    "floor_entry.pack(pady=5)\n",
    "\n",
    "submit_button = tk.Button(root, text='예측', command=on_submit)\n",
    "submit_button.pack(pady=15)\n",
    "\n",
    "pred_label = tk.Label(root, text=\"예측 금액 출력 예정\")\n",
    "pred_label.pack(pady=10)\n",
    "\n",
    "year_entry.focus_set() # GUI 창이 포커싱되면 자동 year_entry에 포커싱\n",
    "root.bind('<Return>', on_submit)"
   ]
  },
  {
   "cell_type": "code",
   "execution_count": 6,
   "id": "64094ef9",
   "metadata": {
    "ExecuteTime": {
     "end_time": "2025-01-06T02:49:26.821978Z",
     "start_time": "2025-01-06T02:49:17.038204Z"
    }
   },
   "outputs": [
    {
     "name": "stderr",
     "output_type": "stream",
     "text": [
      "Exception in Tkinter callback\n",
      "Traceback (most recent call last):\n",
      "  File \"C:\\Users\\4545\\anaconda3\\lib\\tkinter\\__init__.py\", line 1921, in __call__\n",
      "    return self.func(*args)\n",
      "  File \"C:\\Users\\4545\\AppData\\Local\\Temp\\ipykernel_10876\\679462592.py\", line 3, in on_submit\n",
      "    year = int(year_entry.get())\n",
      "ValueError: invalid literal for int() with base 10: 'dd'\n"
     ]
    }
   ],
   "source": [
    "# root(GUI 객체) 실행\n",
    "# mainloop() 창 띄우기\n",
    "root.mainloop()"
   ]
  },
  {
   "cell_type": "code",
   "execution_count": null,
   "id": "cbcfd705",
   "metadata": {},
   "outputs": [],
   "source": []
  },
  {
   "cell_type": "code",
   "execution_count": null,
   "id": "df356090",
   "metadata": {},
   "outputs": [],
   "source": []
  },
  {
   "cell_type": "code",
   "execution_count": null,
   "id": "67a0ebac",
   "metadata": {},
   "outputs": [],
   "source": []
  },
  {
   "cell_type": "code",
   "execution_count": null,
   "id": "fc582fc6",
   "metadata": {},
   "outputs": [],
   "source": []
  },
  {
   "cell_type": "code",
   "execution_count": null,
   "id": "a4685cc8",
   "metadata": {},
   "outputs": [],
   "source": []
  },
  {
   "cell_type": "code",
   "execution_count": null,
   "id": "50a3078a",
   "metadata": {},
   "outputs": [],
   "source": []
  },
  {
   "cell_type": "code",
   "execution_count": null,
   "id": "644a9754",
   "metadata": {},
   "outputs": [],
   "source": []
  }
 ],
 "metadata": {
  "kernelspec": {
   "display_name": "Python 3 (ipykernel)",
   "language": "python",
   "name": "python3"
  },
  "language_info": {
   "codemirror_mode": {
    "name": "ipython",
    "version": 3
   },
   "file_extension": ".py",
   "mimetype": "text/x-python",
   "name": "python",
   "nbconvert_exporter": "python",
   "pygments_lexer": "ipython3",
   "version": "3.10.9"
  },
  "toc": {
   "base_numbering": 1,
   "nav_menu": {},
   "number_sections": true,
   "sideBar": true,
   "skip_h1_title": false,
   "title_cell": "Table of Contents",
   "title_sidebar": "Contents",
   "toc_cell": false,
   "toc_position": {},
   "toc_section_display": true,
   "toc_window_display": false
  }
 },
 "nbformat": 4,
 "nbformat_minor": 5
}
