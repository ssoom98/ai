{
 "cells": [
  {
   "cell_type": "code",
   "execution_count": 1,
   "id": "00862088",
   "metadata": {
    "ExecuteTime": {
     "end_time": "2024-12-19T05:53:02.099626Z",
     "start_time": "2024-12-19T05:53:02.088479Z"
    }
   },
   "outputs": [
    {
     "data": {
      "text/html": [
       "\n",
       "<style>\n",
       "div.container{width:99% !important;}\n",
       "div.cell.code_cell.rendered{width:90%;}\n",
       "div.CodeMirror {font-family:Consolas; font-size:18pt;}\n",
       "div.output {font-size:19pt; font-weight:bold;}\n",
       "div.input {font-family:Consolas; font-size:19pt;}\n",
       "div.prompt {min-width:70px;}\n",
       "div#toc-wrapper{padding-top:120px;}\n",
       "span.toc-item-num{display:none;}\n",
       "div.text_cell_render ul li{font-size:16pt;padding:5px;}\n",
       "div.CodeMirror-lines > div {padding-left:10px;}\n",
       "table.dataframe{font-size:19px;}\n",
       "</style>\n"
      ],
      "text/plain": [
       "<IPython.core.display.HTML object>"
      ]
     },
     "metadata": {},
     "output_type": "display_data"
    }
   ],
   "source": [
    "from IPython.display import display, HTML\n",
    "display(HTML(\"\"\"\n",
    "<style>\n",
    "div.container{width:99% !important;}\n",
    "div.cell.code_cell.rendered{width:90%;}\n",
    "div.CodeMirror {font-family:Consolas; font-size:18pt;}\n",
    "div.output {font-size:19pt; font-weight:bold;}\n",
    "div.input {font-family:Consolas; font-size:19pt;}\n",
    "div.prompt {min-width:70px;}\n",
    "div#toc-wrapper{padding-top:120px;}\n",
    "span.toc-item-num{display:none;}\n",
    "div.text_cell_render ul li{font-size:16pt;padding:5px;}\n",
    "div.CodeMirror-lines > div {padding-left:10px;}\n",
    "table.dataframe{font-size:19px;}\n",
    "</style>\n",
    "\"\"\"))"
   ]
  },
  {
   "cell_type": "code",
   "execution_count": 2,
   "id": "fe9803c3",
   "metadata": {
    "ExecuteTime": {
     "end_time": "2024-12-19T05:53:06.012028Z",
     "start_time": "2024-12-19T05:53:02.102624Z"
    }
   },
   "outputs": [],
   "source": [
    "import numpy as np\n",
    "import pandas as pd # read_csv,get_dumies(원핫인코딩)\n",
    "from sklearn.model_selection import train_test_split #훈련셋과 시험셋 나누기\n",
    "from sklearn.preprocessing import StandardScaler\n",
    "from tensorflow.keras.models import Sequential\n",
    "from tensorflow.keras.datasets import mnist\n",
    "from tensorflow.keras.layers import Dense,Input,Dropout\n",
    "from tensorflow.keras.callbacks import EarlyStopping,Callback\n",
    "from tensorflow.keras import metrics\n",
    "\n",
    "import matplotlib.pyplot as plt\n",
    "from pandas import get_dummies"
   ]
  },
  {
   "cell_type": "code",
   "execution_count": 3,
   "id": "d443b3d1",
   "metadata": {
    "ExecuteTime": {
     "end_time": "2024-12-19T05:53:06.023439Z",
     "start_time": "2024-12-19T05:53:06.017551Z"
    }
   },
   "outputs": [],
   "source": [
    "import os\n",
    "os.environ[\"CUDA_VISIBLE_DEVICES\"] = \"-1\""
   ]
  },
  {
   "cell_type": "markdown",
   "id": "85037e09",
   "metadata": {
    "ExecuteTime": {
     "end_time": "2024-12-19T03:01:55.016346Z",
     "start_time": "2024-12-19T03:01:55.009165Z"
    }
   },
   "source": [
    "- Red Wine 품질 등급 예측\n",
    "\n",
    "```\n",
    "1. 데이터 셋 확보 & 전처리\n",
    "    독립변수, 종속변수 분리 -> 독립 변수 스케일 조정(StandardScaler), 종속변수 원핫 인코딩, 훈련셋과 테스트셋 분리\n",
    "2. 모델구성(입력11,출력6)\n",
    "3. 모델 학습 과정 설정(다중분류에 맞는 설정)\n",
    "4. 학습시키기(callbacks이용)\n",
    "5. 모델 평가 - 그래프,평가(테스트셋), 교차표\n",
    "6. 모델 저장 및 모델사용하기\n",
    "    \n",
    "```"
   ]
  },
  {
   "cell_type": "code",
   "execution_count": 38,
   "id": "57a50e23",
   "metadata": {
    "ExecuteTime": {
     "end_time": "2024-12-19T05:58:01.003259Z",
     "start_time": "2024-12-19T05:58:00.972230Z"
    }
   },
   "outputs": [
    {
     "data": {
      "text/html": [
       "<div>\n",
       "<style scoped>\n",
       "    .dataframe tbody tr th:only-of-type {\n",
       "        vertical-align: middle;\n",
       "    }\n",
       "\n",
       "    .dataframe tbody tr th {\n",
       "        vertical-align: top;\n",
       "    }\n",
       "\n",
       "    .dataframe thead th {\n",
       "        text-align: right;\n",
       "    }\n",
       "</style>\n",
       "<table border=\"1\" class=\"dataframe\">\n",
       "  <thead>\n",
       "    <tr style=\"text-align: right;\">\n",
       "      <th></th>\n",
       "      <th>fixed acidity</th>\n",
       "      <th>volatile acidity</th>\n",
       "      <th>citric acid</th>\n",
       "      <th>residual sugar</th>\n",
       "      <th>chlorides</th>\n",
       "      <th>free sulfur dioxide</th>\n",
       "      <th>total sulfur dioxide</th>\n",
       "      <th>density</th>\n",
       "      <th>pH</th>\n",
       "      <th>sulphates</th>\n",
       "      <th>alcohol</th>\n",
       "      <th>quality</th>\n",
       "    </tr>\n",
       "  </thead>\n",
       "  <tbody>\n",
       "    <tr>\n",
       "      <th>0</th>\n",
       "      <td>7.4</td>\n",
       "      <td>0.700</td>\n",
       "      <td>0.00</td>\n",
       "      <td>1.9</td>\n",
       "      <td>0.076</td>\n",
       "      <td>11.0</td>\n",
       "      <td>34.0</td>\n",
       "      <td>0.99780</td>\n",
       "      <td>3.51</td>\n",
       "      <td>0.56</td>\n",
       "      <td>9.4</td>\n",
       "      <td>5</td>\n",
       "    </tr>\n",
       "    <tr>\n",
       "      <th>1</th>\n",
       "      <td>7.8</td>\n",
       "      <td>0.880</td>\n",
       "      <td>0.00</td>\n",
       "      <td>2.6</td>\n",
       "      <td>0.098</td>\n",
       "      <td>25.0</td>\n",
       "      <td>67.0</td>\n",
       "      <td>0.99680</td>\n",
       "      <td>3.20</td>\n",
       "      <td>0.68</td>\n",
       "      <td>9.8</td>\n",
       "      <td>5</td>\n",
       "    </tr>\n",
       "    <tr>\n",
       "      <th>2</th>\n",
       "      <td>7.8</td>\n",
       "      <td>0.760</td>\n",
       "      <td>0.04</td>\n",
       "      <td>2.3</td>\n",
       "      <td>0.092</td>\n",
       "      <td>15.0</td>\n",
       "      <td>54.0</td>\n",
       "      <td>0.99700</td>\n",
       "      <td>3.26</td>\n",
       "      <td>0.65</td>\n",
       "      <td>9.8</td>\n",
       "      <td>5</td>\n",
       "    </tr>\n",
       "    <tr>\n",
       "      <th>3</th>\n",
       "      <td>11.2</td>\n",
       "      <td>0.280</td>\n",
       "      <td>0.56</td>\n",
       "      <td>1.9</td>\n",
       "      <td>0.075</td>\n",
       "      <td>17.0</td>\n",
       "      <td>60.0</td>\n",
       "      <td>0.99800</td>\n",
       "      <td>3.16</td>\n",
       "      <td>0.58</td>\n",
       "      <td>9.8</td>\n",
       "      <td>6</td>\n",
       "    </tr>\n",
       "    <tr>\n",
       "      <th>4</th>\n",
       "      <td>7.4</td>\n",
       "      <td>0.700</td>\n",
       "      <td>0.00</td>\n",
       "      <td>1.9</td>\n",
       "      <td>0.076</td>\n",
       "      <td>11.0</td>\n",
       "      <td>34.0</td>\n",
       "      <td>0.99780</td>\n",
       "      <td>3.51</td>\n",
       "      <td>0.56</td>\n",
       "      <td>9.4</td>\n",
       "      <td>5</td>\n",
       "    </tr>\n",
       "    <tr>\n",
       "      <th>...</th>\n",
       "      <td>...</td>\n",
       "      <td>...</td>\n",
       "      <td>...</td>\n",
       "      <td>...</td>\n",
       "      <td>...</td>\n",
       "      <td>...</td>\n",
       "      <td>...</td>\n",
       "      <td>...</td>\n",
       "      <td>...</td>\n",
       "      <td>...</td>\n",
       "      <td>...</td>\n",
       "      <td>...</td>\n",
       "    </tr>\n",
       "    <tr>\n",
       "      <th>1594</th>\n",
       "      <td>6.2</td>\n",
       "      <td>0.600</td>\n",
       "      <td>0.08</td>\n",
       "      <td>2.0</td>\n",
       "      <td>0.090</td>\n",
       "      <td>32.0</td>\n",
       "      <td>44.0</td>\n",
       "      <td>0.99490</td>\n",
       "      <td>3.45</td>\n",
       "      <td>0.58</td>\n",
       "      <td>10.5</td>\n",
       "      <td>5</td>\n",
       "    </tr>\n",
       "    <tr>\n",
       "      <th>1595</th>\n",
       "      <td>5.9</td>\n",
       "      <td>0.550</td>\n",
       "      <td>0.10</td>\n",
       "      <td>2.2</td>\n",
       "      <td>0.062</td>\n",
       "      <td>39.0</td>\n",
       "      <td>51.0</td>\n",
       "      <td>0.99512</td>\n",
       "      <td>3.52</td>\n",
       "      <td>0.76</td>\n",
       "      <td>11.2</td>\n",
       "      <td>6</td>\n",
       "    </tr>\n",
       "    <tr>\n",
       "      <th>1596</th>\n",
       "      <td>6.3</td>\n",
       "      <td>0.510</td>\n",
       "      <td>0.13</td>\n",
       "      <td>2.3</td>\n",
       "      <td>0.076</td>\n",
       "      <td>29.0</td>\n",
       "      <td>40.0</td>\n",
       "      <td>0.99574</td>\n",
       "      <td>3.42</td>\n",
       "      <td>0.75</td>\n",
       "      <td>11.0</td>\n",
       "      <td>6</td>\n",
       "    </tr>\n",
       "    <tr>\n",
       "      <th>1597</th>\n",
       "      <td>5.9</td>\n",
       "      <td>0.645</td>\n",
       "      <td>0.12</td>\n",
       "      <td>2.0</td>\n",
       "      <td>0.075</td>\n",
       "      <td>32.0</td>\n",
       "      <td>44.0</td>\n",
       "      <td>0.99547</td>\n",
       "      <td>3.57</td>\n",
       "      <td>0.71</td>\n",
       "      <td>10.2</td>\n",
       "      <td>5</td>\n",
       "    </tr>\n",
       "    <tr>\n",
       "      <th>1598</th>\n",
       "      <td>6.0</td>\n",
       "      <td>0.310</td>\n",
       "      <td>0.47</td>\n",
       "      <td>3.6</td>\n",
       "      <td>0.067</td>\n",
       "      <td>18.0</td>\n",
       "      <td>42.0</td>\n",
       "      <td>0.99549</td>\n",
       "      <td>3.39</td>\n",
       "      <td>0.66</td>\n",
       "      <td>11.0</td>\n",
       "      <td>6</td>\n",
       "    </tr>\n",
       "  </tbody>\n",
       "</table>\n",
       "<p>1599 rows × 12 columns</p>\n",
       "</div>"
      ],
      "text/plain": [
       "      fixed acidity  volatile acidity  citric acid  residual sugar  chlorides  \\\n",
       "0               7.4             0.700         0.00             1.9      0.076   \n",
       "1               7.8             0.880         0.00             2.6      0.098   \n",
       "2               7.8             0.760         0.04             2.3      0.092   \n",
       "3              11.2             0.280         0.56             1.9      0.075   \n",
       "4               7.4             0.700         0.00             1.9      0.076   \n",
       "...             ...               ...          ...             ...        ...   \n",
       "1594            6.2             0.600         0.08             2.0      0.090   \n",
       "1595            5.9             0.550         0.10             2.2      0.062   \n",
       "1596            6.3             0.510         0.13             2.3      0.076   \n",
       "1597            5.9             0.645         0.12             2.0      0.075   \n",
       "1598            6.0             0.310         0.47             3.6      0.067   \n",
       "\n",
       "      free sulfur dioxide  total sulfur dioxide  density    pH  sulphates  \\\n",
       "0                    11.0                  34.0  0.99780  3.51       0.56   \n",
       "1                    25.0                  67.0  0.99680  3.20       0.68   \n",
       "2                    15.0                  54.0  0.99700  3.26       0.65   \n",
       "3                    17.0                  60.0  0.99800  3.16       0.58   \n",
       "4                    11.0                  34.0  0.99780  3.51       0.56   \n",
       "...                   ...                   ...      ...   ...        ...   \n",
       "1594                 32.0                  44.0  0.99490  3.45       0.58   \n",
       "1595                 39.0                  51.0  0.99512  3.52       0.76   \n",
       "1596                 29.0                  40.0  0.99574  3.42       0.75   \n",
       "1597                 32.0                  44.0  0.99547  3.57       0.71   \n",
       "1598                 18.0                  42.0  0.99549  3.39       0.66   \n",
       "\n",
       "      alcohol  quality  \n",
       "0         9.4        5  \n",
       "1         9.8        5  \n",
       "2         9.8        5  \n",
       "3         9.8        6  \n",
       "4         9.4        5  \n",
       "...       ...      ...  \n",
       "1594     10.5        5  \n",
       "1595     11.2        6  \n",
       "1596     11.0        6  \n",
       "1597     10.2        5  \n",
       "1598     11.0        6  \n",
       "\n",
       "[1599 rows x 12 columns]"
      ]
     },
     "execution_count": 38,
     "metadata": {},
     "output_type": "execute_result"
    }
   ],
   "source": [
    "redwine = pd.read_csv('./data/winequality-red.csv',sep=';')\n",
    "redwine"
   ]
  },
  {
   "cell_type": "code",
   "execution_count": 39,
   "id": "928ab372",
   "metadata": {
    "ExecuteTime": {
     "end_time": "2024-12-19T05:58:02.435436Z",
     "start_time": "2024-12-19T05:58:02.427914Z"
    }
   },
   "outputs": [
    {
     "data": {
      "text/plain": [
       "array([5, 6, 7, 4, 8, 3], dtype=int64)"
      ]
     },
     "execution_count": 39,
     "metadata": {},
     "output_type": "execute_result"
    }
   ],
   "source": [
    "redwine.quality.unique()"
   ]
  },
  {
   "cell_type": "code",
   "execution_count": 40,
   "id": "6abff3d9",
   "metadata": {
    "ExecuteTime": {
     "end_time": "2024-12-19T05:58:03.682081Z",
     "start_time": "2024-12-19T05:58:03.652416Z"
    }
   },
   "outputs": [
    {
     "data": {
      "text/html": [
       "<div>\n",
       "<style scoped>\n",
       "    .dataframe tbody tr th:only-of-type {\n",
       "        vertical-align: middle;\n",
       "    }\n",
       "\n",
       "    .dataframe tbody tr th {\n",
       "        vertical-align: top;\n",
       "    }\n",
       "\n",
       "    .dataframe thead th {\n",
       "        text-align: right;\n",
       "    }\n",
       "</style>\n",
       "<table border=\"1\" class=\"dataframe\">\n",
       "  <thead>\n",
       "    <tr style=\"text-align: right;\">\n",
       "      <th></th>\n",
       "      <th>fixed acidity</th>\n",
       "      <th>volatile acidity</th>\n",
       "      <th>citric acid</th>\n",
       "      <th>residual sugar</th>\n",
       "      <th>chlorides</th>\n",
       "      <th>free sulfur dioxide</th>\n",
       "      <th>total sulfur dioxide</th>\n",
       "      <th>density</th>\n",
       "      <th>pH</th>\n",
       "      <th>sulphates</th>\n",
       "      <th>alcohol</th>\n",
       "    </tr>\n",
       "  </thead>\n",
       "  <tbody>\n",
       "    <tr>\n",
       "      <th>0</th>\n",
       "      <td>7.4</td>\n",
       "      <td>0.700</td>\n",
       "      <td>0.00</td>\n",
       "      <td>1.9</td>\n",
       "      <td>0.076</td>\n",
       "      <td>11.0</td>\n",
       "      <td>34.0</td>\n",
       "      <td>0.99780</td>\n",
       "      <td>3.51</td>\n",
       "      <td>0.56</td>\n",
       "      <td>9.4</td>\n",
       "    </tr>\n",
       "    <tr>\n",
       "      <th>1</th>\n",
       "      <td>7.8</td>\n",
       "      <td>0.880</td>\n",
       "      <td>0.00</td>\n",
       "      <td>2.6</td>\n",
       "      <td>0.098</td>\n",
       "      <td>25.0</td>\n",
       "      <td>67.0</td>\n",
       "      <td>0.99680</td>\n",
       "      <td>3.20</td>\n",
       "      <td>0.68</td>\n",
       "      <td>9.8</td>\n",
       "    </tr>\n",
       "    <tr>\n",
       "      <th>2</th>\n",
       "      <td>7.8</td>\n",
       "      <td>0.760</td>\n",
       "      <td>0.04</td>\n",
       "      <td>2.3</td>\n",
       "      <td>0.092</td>\n",
       "      <td>15.0</td>\n",
       "      <td>54.0</td>\n",
       "      <td>0.99700</td>\n",
       "      <td>3.26</td>\n",
       "      <td>0.65</td>\n",
       "      <td>9.8</td>\n",
       "    </tr>\n",
       "    <tr>\n",
       "      <th>3</th>\n",
       "      <td>11.2</td>\n",
       "      <td>0.280</td>\n",
       "      <td>0.56</td>\n",
       "      <td>1.9</td>\n",
       "      <td>0.075</td>\n",
       "      <td>17.0</td>\n",
       "      <td>60.0</td>\n",
       "      <td>0.99800</td>\n",
       "      <td>3.16</td>\n",
       "      <td>0.58</td>\n",
       "      <td>9.8</td>\n",
       "    </tr>\n",
       "    <tr>\n",
       "      <th>4</th>\n",
       "      <td>7.4</td>\n",
       "      <td>0.700</td>\n",
       "      <td>0.00</td>\n",
       "      <td>1.9</td>\n",
       "      <td>0.076</td>\n",
       "      <td>11.0</td>\n",
       "      <td>34.0</td>\n",
       "      <td>0.99780</td>\n",
       "      <td>3.51</td>\n",
       "      <td>0.56</td>\n",
       "      <td>9.4</td>\n",
       "    </tr>\n",
       "    <tr>\n",
       "      <th>...</th>\n",
       "      <td>...</td>\n",
       "      <td>...</td>\n",
       "      <td>...</td>\n",
       "      <td>...</td>\n",
       "      <td>...</td>\n",
       "      <td>...</td>\n",
       "      <td>...</td>\n",
       "      <td>...</td>\n",
       "      <td>...</td>\n",
       "      <td>...</td>\n",
       "      <td>...</td>\n",
       "    </tr>\n",
       "    <tr>\n",
       "      <th>1594</th>\n",
       "      <td>6.2</td>\n",
       "      <td>0.600</td>\n",
       "      <td>0.08</td>\n",
       "      <td>2.0</td>\n",
       "      <td>0.090</td>\n",
       "      <td>32.0</td>\n",
       "      <td>44.0</td>\n",
       "      <td>0.99490</td>\n",
       "      <td>3.45</td>\n",
       "      <td>0.58</td>\n",
       "      <td>10.5</td>\n",
       "    </tr>\n",
       "    <tr>\n",
       "      <th>1595</th>\n",
       "      <td>5.9</td>\n",
       "      <td>0.550</td>\n",
       "      <td>0.10</td>\n",
       "      <td>2.2</td>\n",
       "      <td>0.062</td>\n",
       "      <td>39.0</td>\n",
       "      <td>51.0</td>\n",
       "      <td>0.99512</td>\n",
       "      <td>3.52</td>\n",
       "      <td>0.76</td>\n",
       "      <td>11.2</td>\n",
       "    </tr>\n",
       "    <tr>\n",
       "      <th>1596</th>\n",
       "      <td>6.3</td>\n",
       "      <td>0.510</td>\n",
       "      <td>0.13</td>\n",
       "      <td>2.3</td>\n",
       "      <td>0.076</td>\n",
       "      <td>29.0</td>\n",
       "      <td>40.0</td>\n",
       "      <td>0.99574</td>\n",
       "      <td>3.42</td>\n",
       "      <td>0.75</td>\n",
       "      <td>11.0</td>\n",
       "    </tr>\n",
       "    <tr>\n",
       "      <th>1597</th>\n",
       "      <td>5.9</td>\n",
       "      <td>0.645</td>\n",
       "      <td>0.12</td>\n",
       "      <td>2.0</td>\n",
       "      <td>0.075</td>\n",
       "      <td>32.0</td>\n",
       "      <td>44.0</td>\n",
       "      <td>0.99547</td>\n",
       "      <td>3.57</td>\n",
       "      <td>0.71</td>\n",
       "      <td>10.2</td>\n",
       "    </tr>\n",
       "    <tr>\n",
       "      <th>1598</th>\n",
       "      <td>6.0</td>\n",
       "      <td>0.310</td>\n",
       "      <td>0.47</td>\n",
       "      <td>3.6</td>\n",
       "      <td>0.067</td>\n",
       "      <td>18.0</td>\n",
       "      <td>42.0</td>\n",
       "      <td>0.99549</td>\n",
       "      <td>3.39</td>\n",
       "      <td>0.66</td>\n",
       "      <td>11.0</td>\n",
       "    </tr>\n",
       "  </tbody>\n",
       "</table>\n",
       "<p>1599 rows × 11 columns</p>\n",
       "</div>"
      ],
      "text/plain": [
       "      fixed acidity  volatile acidity  citric acid  residual sugar  chlorides  \\\n",
       "0               7.4             0.700         0.00             1.9      0.076   \n",
       "1               7.8             0.880         0.00             2.6      0.098   \n",
       "2               7.8             0.760         0.04             2.3      0.092   \n",
       "3              11.2             0.280         0.56             1.9      0.075   \n",
       "4               7.4             0.700         0.00             1.9      0.076   \n",
       "...             ...               ...          ...             ...        ...   \n",
       "1594            6.2             0.600         0.08             2.0      0.090   \n",
       "1595            5.9             0.550         0.10             2.2      0.062   \n",
       "1596            6.3             0.510         0.13             2.3      0.076   \n",
       "1597            5.9             0.645         0.12             2.0      0.075   \n",
       "1598            6.0             0.310         0.47             3.6      0.067   \n",
       "\n",
       "      free sulfur dioxide  total sulfur dioxide  density    pH  sulphates  \\\n",
       "0                    11.0                  34.0  0.99780  3.51       0.56   \n",
       "1                    25.0                  67.0  0.99680  3.20       0.68   \n",
       "2                    15.0                  54.0  0.99700  3.26       0.65   \n",
       "3                    17.0                  60.0  0.99800  3.16       0.58   \n",
       "4                    11.0                  34.0  0.99780  3.51       0.56   \n",
       "...                   ...                   ...      ...   ...        ...   \n",
       "1594                 32.0                  44.0  0.99490  3.45       0.58   \n",
       "1595                 39.0                  51.0  0.99512  3.52       0.76   \n",
       "1596                 29.0                  40.0  0.99574  3.42       0.75   \n",
       "1597                 32.0                  44.0  0.99547  3.57       0.71   \n",
       "1598                 18.0                  42.0  0.99549  3.39       0.66   \n",
       "\n",
       "      alcohol  \n",
       "0         9.4  \n",
       "1         9.8  \n",
       "2         9.8  \n",
       "3         9.8  \n",
       "4         9.4  \n",
       "...       ...  \n",
       "1594     10.5  \n",
       "1595     11.2  \n",
       "1596     11.0  \n",
       "1597     10.2  \n",
       "1598     11.0  \n",
       "\n",
       "[1599 rows x 11 columns]"
      ]
     },
     "metadata": {},
     "output_type": "display_data"
    },
    {
     "data": {
      "text/plain": [
       "0       5\n",
       "1       5\n",
       "2       5\n",
       "3       6\n",
       "4       5\n",
       "       ..\n",
       "1594    5\n",
       "1595    6\n",
       "1596    6\n",
       "1597    5\n",
       "1598    6\n",
       "Name: quality, Length: 1599, dtype: int64"
      ]
     },
     "metadata": {},
     "output_type": "display_data"
    }
   ],
   "source": [
    "# 원핫인코딩을 하기 위해서 시리즈로 분리 \n",
    "Input= redwine.iloc[:,:-1]\n",
    "target= redwine.iloc[:,-1]\n",
    "display(Input)\n",
    "display(target)"
   ]
  },
  {
   "cell_type": "code",
   "execution_count": 41,
   "id": "2573a65f",
   "metadata": {
    "ExecuteTime": {
     "end_time": "2024-12-19T05:58:06.199784Z",
     "start_time": "2024-12-19T05:58:06.191049Z"
    }
   },
   "outputs": [
    {
     "data": {
      "text/plain": [
       "(1599, 11)"
      ]
     },
     "execution_count": 41,
     "metadata": {},
     "output_type": "execute_result"
    }
   ],
   "source": [
    "# scale 조정(StandardScaler)\n",
    "scaler = StandardScaler()\n",
    "scaled_input = pd.DataFrame(scaler.fit_transform(Input))\n",
    "scaled_input.shape"
   ]
  },
  {
   "cell_type": "code",
   "execution_count": 42,
   "id": "07c7a011",
   "metadata": {
    "ExecuteTime": {
     "end_time": "2024-12-19T05:58:07.722110Z",
     "start_time": "2024-12-19T05:58:07.717108Z"
    }
   },
   "outputs": [],
   "source": [
    "# 종속변수 원핫 인코딩(get_dummies)\n",
    "target = get_dummies(target).to_numpy()"
   ]
  },
  {
   "cell_type": "code",
   "execution_count": 43,
   "id": "57bb2471",
   "metadata": {
    "ExecuteTime": {
     "end_time": "2024-12-19T05:58:08.939744Z",
     "start_time": "2024-12-19T05:58:08.932758Z"
    }
   },
   "outputs": [
    {
     "data": {
      "text/plain": [
       "(1599, 6)"
      ]
     },
     "execution_count": 43,
     "metadata": {},
     "output_type": "execute_result"
    }
   ],
   "source": [
    "target.shape"
   ]
  },
  {
   "cell_type": "code",
   "execution_count": 72,
   "id": "7710d600",
   "metadata": {
    "ExecuteTime": {
     "end_time": "2024-12-19T06:22:17.998550Z",
     "start_time": "2024-12-19T06:22:17.972555Z"
    }
   },
   "outputs": [
    {
     "data": {
      "text/plain": [
       "((1199, 11), (400, 11), (1199, 6), (400, 6))"
      ]
     },
     "execution_count": 72,
     "metadata": {},
     "output_type": "execute_result"
    }
   ],
   "source": [
    "# scaled_input와 target => 학습셋: 테스트셋 = 0.75:0.25\n",
    "X_train,X_test,y_train,y_test = train_test_split(scaled_input,\n",
    "                                                target,\n",
    "                                                test_size=0.25,\n",
    "                                                random_state=1,\n",
    "                                                stratify=target)# 층화추출(등급별 75:25로 추출)\n",
    "X_train.shape,X_test.shape,y_train.shape,y_test.shape "
   ]
  },
  {
   "cell_type": "code",
   "execution_count": 76,
   "id": "42896e1e",
   "metadata": {
    "ExecuteTime": {
     "end_time": "2024-12-19T06:23:31.709511Z",
     "start_time": "2024-12-19T06:23:31.700492Z"
    }
   },
   "outputs": [
    {
     "data": {
      "text/plain": [
       "array([[511, 170],\n",
       "       [478, 160],\n",
       "       [149,  50],\n",
       "       [ 40,  13],\n",
       "       [ 13,   5],\n",
       "       [  8,   2]], dtype=int64)"
      ]
     },
     "execution_count": 76,
     "metadata": {},
     "output_type": "execute_result"
    }
   ],
   "source": [
    "np.c_[pd.Series(y_train.argmax(axis=1)+3).value_counts(),pd.Series(y_test.argmax(axis=1)+3).value_counts()\n",
    "]"
   ]
  },
  {
   "cell_type": "code",
   "execution_count": 82,
   "id": "857e2c48",
   "metadata": {
    "ExecuteTime": {
     "end_time": "2024-12-19T06:28:44.701886Z",
     "start_time": "2024-12-19T06:28:44.627163Z"
    }
   },
   "outputs": [
    {
     "name": "stdout",
     "output_type": "stream",
     "text": [
      "Model: \"sequential_8\"\n",
      "_________________________________________________________________\n",
      " Layer (type)                Output Shape              Param #   \n",
      "=================================================================\n",
      " dense_32 (Dense)            (None, 64)                768       \n",
      "                                                                 \n",
      " dense_33 (Dense)            (None, 128)               8320      \n",
      "                                                                 \n",
      " dense_34 (Dense)            (None, 64)                8256      \n",
      "                                                                 \n",
      " dense_35 (Dense)            (None, 6)                 390       \n",
      "                                                                 \n",
      "=================================================================\n",
      "Total params: 17,734\n",
      "Trainable params: 17,734\n",
      "Non-trainable params: 0\n",
      "_________________________________________________________________\n"
     ]
    }
   ],
   "source": [
    "# 모델 생성 & 모델 구성\n",
    "model= Sequential()\n",
    "model.add(Dense(units=64, input_dim=11,activation = 'relu'))\n",
    "model.add(Dense(units=128, activation = 'relu'))\n",
    "\n",
    "model.add(Dense(units=64, activation = 'relu'))\n",
    "model.add(Dense(units=6, activation = 'softmax'))\n",
    "\n",
    "model.summary()"
   ]
  },
  {
   "cell_type": "code",
   "execution_count": 83,
   "id": "378233ca",
   "metadata": {
    "ExecuteTime": {
     "end_time": "2024-12-19T06:28:45.726746Z",
     "start_time": "2024-12-19T06:28:45.715167Z"
    }
   },
   "outputs": [],
   "source": [
    "model.compile(\n",
    "    loss='binary_crossentropy',\n",
    "    optimizer='adam',\n",
    "    metrics=['accuracy']\n",
    ")"
   ]
  },
  {
   "cell_type": "code",
   "execution_count": 84,
   "id": "bb0ba4f9",
   "metadata": {
    "ExecuteTime": {
     "end_time": "2024-12-19T06:28:49.472361Z",
     "start_time": "2024-12-19T06:28:46.355118Z"
    }
   },
   "outputs": [
    {
     "name": "stdout",
     "output_type": "stream",
     "text": [
      "Epoch 1/1000\n",
      "10/10 [==============================] - 1s 20ms/step - loss: 0.6202 - accuracy: 0.4088 - val_loss: 0.5259 - val_accuracy: 0.4083\n",
      "Epoch 2/1000\n",
      "10/10 [==============================] - 0s 5ms/step - loss: 0.4672 - accuracy: 0.4327 - val_loss: 0.3968 - val_accuracy: 0.4083\n",
      "Epoch 3/1000\n",
      "10/10 [==============================] - 0s 5ms/step - loss: 0.3673 - accuracy: 0.4692 - val_loss: 0.3302 - val_accuracy: 0.5167\n",
      "Epoch 4/1000\n",
      "10/10 [==============================] - 0s 5ms/step - loss: 0.3258 - accuracy: 0.5610 - val_loss: 0.3034 - val_accuracy: 0.5542\n",
      "Epoch 5/1000\n",
      "10/10 [==============================] - 0s 5ms/step - loss: 0.3083 - accuracy: 0.5641 - val_loss: 0.2926 - val_accuracy: 0.5542\n",
      "Epoch 6/1000\n",
      "10/10 [==============================] - 0s 5ms/step - loss: 0.2979 - accuracy: 0.5860 - val_loss: 0.2893 - val_accuracy: 0.5708\n",
      "Epoch 7/1000\n",
      "10/10 [==============================] - 0s 5ms/step - loss: 0.2914 - accuracy: 0.5933 - val_loss: 0.2900 - val_accuracy: 0.5667\n",
      "Epoch 8/1000\n",
      "10/10 [==============================] - 0s 5ms/step - loss: 0.2856 - accuracy: 0.6027 - val_loss: 0.2887 - val_accuracy: 0.5917\n",
      "Epoch 9/1000\n",
      "10/10 [==============================] - 0s 5ms/step - loss: 0.2804 - accuracy: 0.6058 - val_loss: 0.2876 - val_accuracy: 0.5917\n",
      "Epoch 10/1000\n",
      "10/10 [==============================] - 0s 5ms/step - loss: 0.2771 - accuracy: 0.6163 - val_loss: 0.2865 - val_accuracy: 0.5792\n",
      "Epoch 11/1000\n",
      "10/10 [==============================] - 0s 5ms/step - loss: 0.2732 - accuracy: 0.6194 - val_loss: 0.2873 - val_accuracy: 0.5708\n",
      "Epoch 12/1000\n",
      "10/10 [==============================] - 0s 5ms/step - loss: 0.2696 - accuracy: 0.6319 - val_loss: 0.2862 - val_accuracy: 0.5875\n",
      "Epoch 13/1000\n",
      "10/10 [==============================] - 0s 7ms/step - loss: 0.2686 - accuracy: 0.6204 - val_loss: 0.2852 - val_accuracy: 0.5833\n",
      "Epoch 14/1000\n",
      "10/10 [==============================] - 0s 4ms/step - loss: 0.2661 - accuracy: 0.6309 - val_loss: 0.2858 - val_accuracy: 0.5875\n",
      "Epoch 15/1000\n",
      "10/10 [==============================] - 0s 5ms/step - loss: 0.2634 - accuracy: 0.6277 - val_loss: 0.2846 - val_accuracy: 0.5792\n",
      "Epoch 16/1000\n",
      "10/10 [==============================] - 0s 5ms/step - loss: 0.2595 - accuracy: 0.6580 - val_loss: 0.2860 - val_accuracy: 0.5875\n",
      "Epoch 17/1000\n",
      "10/10 [==============================] - 0s 5ms/step - loss: 0.2570 - accuracy: 0.6601 - val_loss: 0.2856 - val_accuracy: 0.5875\n",
      "Epoch 18/1000\n",
      "10/10 [==============================] - 0s 5ms/step - loss: 0.2550 - accuracy: 0.6517 - val_loss: 0.2850 - val_accuracy: 0.5833\n",
      "Epoch 19/1000\n",
      "10/10 [==============================] - 0s 5ms/step - loss: 0.2542 - accuracy: 0.6538 - val_loss: 0.2874 - val_accuracy: 0.5750\n",
      "Epoch 20/1000\n",
      "10/10 [==============================] - 0s 5ms/step - loss: 0.2513 - accuracy: 0.6580 - val_loss: 0.2845 - val_accuracy: 0.5750\n",
      "Epoch 21/1000\n",
      "10/10 [==============================] - 0s 5ms/step - loss: 0.2497 - accuracy: 0.6611 - val_loss: 0.2885 - val_accuracy: 0.5875\n",
      "Epoch 22/1000\n",
      "10/10 [==============================] - 0s 5ms/step - loss: 0.2478 - accuracy: 0.6663 - val_loss: 0.2841 - val_accuracy: 0.5875\n",
      "Epoch 23/1000\n",
      "10/10 [==============================] - 0s 5ms/step - loss: 0.2443 - accuracy: 0.6590 - val_loss: 0.2860 - val_accuracy: 0.5750\n",
      "Epoch 24/1000\n",
      "10/10 [==============================] - 0s 5ms/step - loss: 0.2435 - accuracy: 0.6705 - val_loss: 0.2845 - val_accuracy: 0.5917\n",
      "Epoch 25/1000\n",
      "10/10 [==============================] - 0s 5ms/step - loss: 0.2406 - accuracy: 0.6726 - val_loss: 0.2842 - val_accuracy: 0.5708\n",
      "Epoch 26/1000\n",
      "10/10 [==============================] - 0s 5ms/step - loss: 0.2390 - accuracy: 0.6736 - val_loss: 0.2833 - val_accuracy: 0.5833\n",
      "Epoch 27/1000\n",
      "10/10 [==============================] - 0s 5ms/step - loss: 0.2374 - accuracy: 0.6851 - val_loss: 0.2868 - val_accuracy: 0.5708\n",
      "Epoch 28/1000\n",
      "10/10 [==============================] - 0s 5ms/step - loss: 0.2350 - accuracy: 0.6799 - val_loss: 0.2820 - val_accuracy: 0.5750\n",
      "Epoch 29/1000\n",
      "10/10 [==============================] - 0s 5ms/step - loss: 0.2338 - accuracy: 0.6872 - val_loss: 0.2861 - val_accuracy: 0.5833\n",
      "Epoch 30/1000\n",
      "10/10 [==============================] - 0s 5ms/step - loss: 0.2315 - accuracy: 0.6893 - val_loss: 0.2821 - val_accuracy: 0.5833\n",
      "Epoch 31/1000\n",
      "10/10 [==============================] - 0s 5ms/step - loss: 0.2302 - accuracy: 0.6955 - val_loss: 0.2873 - val_accuracy: 0.5667\n",
      "Epoch 32/1000\n",
      "10/10 [==============================] - 0s 5ms/step - loss: 0.2290 - accuracy: 0.6903 - val_loss: 0.2835 - val_accuracy: 0.5792\n",
      "Epoch 33/1000\n",
      "10/10 [==============================] - 0s 5ms/step - loss: 0.2275 - accuracy: 0.6986 - val_loss: 0.2841 - val_accuracy: 0.5875\n",
      "Epoch 34/1000\n",
      "10/10 [==============================] - 0s 5ms/step - loss: 0.2246 - accuracy: 0.7018 - val_loss: 0.2861 - val_accuracy: 0.5667\n",
      "Epoch 35/1000\n",
      "10/10 [==============================] - 0s 5ms/step - loss: 0.2228 - accuracy: 0.7132 - val_loss: 0.2832 - val_accuracy: 0.5875\n",
      "Epoch 36/1000\n",
      "10/10 [==============================] - 0s 5ms/step - loss: 0.2220 - accuracy: 0.7101 - val_loss: 0.2835 - val_accuracy: 0.5875\n",
      "Epoch 37/1000\n",
      "10/10 [==============================] - 0s 5ms/step - loss: 0.2199 - accuracy: 0.7143 - val_loss: 0.2868 - val_accuracy: 0.5750\n",
      "Epoch 38/1000\n",
      "10/10 [==============================] - 0s 5ms/step - loss: 0.2198 - accuracy: 0.7164 - val_loss: 0.2858 - val_accuracy: 0.5833\n",
      "Epoch 39/1000\n",
      "10/10 [==============================] - 0s 5ms/step - loss: 0.2157 - accuracy: 0.7185 - val_loss: 0.2826 - val_accuracy: 0.5917\n",
      "Epoch 40/1000\n",
      "10/10 [==============================] - 0s 5ms/step - loss: 0.2155 - accuracy: 0.7195 - val_loss: 0.2853 - val_accuracy: 0.5625\n",
      "Epoch 41/1000\n",
      "10/10 [==============================] - 0s 5ms/step - loss: 0.2124 - accuracy: 0.7278 - val_loss: 0.2859 - val_accuracy: 0.5792\n",
      "Epoch 42/1000\n",
      "10/10 [==============================] - 0s 5ms/step - loss: 0.2113 - accuracy: 0.7153 - val_loss: 0.2843 - val_accuracy: 0.5958\n",
      "Epoch 43/1000\n",
      "10/10 [==============================] - 0s 6ms/step - loss: 0.2082 - accuracy: 0.7331 - val_loss: 0.2910 - val_accuracy: 0.5792\n",
      "Epoch 44/1000\n",
      "10/10 [==============================] - 0s 5ms/step - loss: 0.2068 - accuracy: 0.7289 - val_loss: 0.2830 - val_accuracy: 0.5917\n",
      "Epoch 45/1000\n",
      "10/10 [==============================] - 0s 5ms/step - loss: 0.2043 - accuracy: 0.7351 - val_loss: 0.2857 - val_accuracy: 0.5833\n",
      "Epoch 46/1000\n",
      "10/10 [==============================] - 0s 5ms/step - loss: 0.2023 - accuracy: 0.7299 - val_loss: 0.2860 - val_accuracy: 0.5833\n",
      "Epoch 47/1000\n",
      "10/10 [==============================] - 0s 5ms/step - loss: 0.2006 - accuracy: 0.7351 - val_loss: 0.2880 - val_accuracy: 0.5917\n",
      "Epoch 48/1000\n",
      "10/10 [==============================] - 0s 5ms/step - loss: 0.1980 - accuracy: 0.7404 - val_loss: 0.2867 - val_accuracy: 0.6125\n"
     ]
    }
   ],
   "source": [
    "import tensorflow.keras.callbacks as callbacks\n",
    "class CustomHistory(callbacks.Callback): # on_epoch_end()\n",
    "    def __init__(self): # 생성자함수\n",
    "        self.epoch=0\n",
    "    def on_epoch_end(self, batch,logs={}):\n",
    "        self.epoch += 1\n",
    "        if self.epoch%5 ==5:\n",
    "            print('epoch:{},loss:{},acc:{},val_loss:{},val_acc:{}'.\\\n",
    "                 format(self.epoch,logs.get('loss'),logs.get('accuracy'),logs.get('val_loss'),logs.get('val_accuracy')))\n",
    "# 모델 학습\n",
    "from tensorflow.keras.callbacks import EarlyStopping\n",
    "earlyStopping = EarlyStopping(patience=20) # val_accuracy가 연달아 2번이상 성능이 좋아지지않으면 stop(loss,accuracy,val_loss,val_accuracy)\n",
    "customHistory = CustomHistory()\n",
    "hist = model.fit(X_train, y_train , epochs=1000,batch_size=100,\n",
    "                validation_split=0.2,\n",
    "                callbacks=[earlyStopping,customHistory])"
   ]
  },
  {
   "cell_type": "code",
   "execution_count": 85,
   "id": "53041547",
   "metadata": {
    "ExecuteTime": {
     "end_time": "2024-12-19T06:28:52.490308Z",
     "start_time": "2024-12-19T06:28:52.484296Z"
    }
   },
   "outputs": [
    {
     "data": {
      "text/plain": [
       "dict_keys(['loss', 'accuracy', 'val_loss', 'val_accuracy'])"
      ]
     },
     "execution_count": 85,
     "metadata": {},
     "output_type": "execute_result"
    }
   ],
   "source": [
    "hist.history.keys()"
   ]
  },
  {
   "cell_type": "code",
   "execution_count": 86,
   "id": "f8a330a2",
   "metadata": {
    "ExecuteTime": {
     "end_time": "2024-12-19T06:28:53.673312Z",
     "start_time": "2024-12-19T06:28:53.412350Z"
    }
   },
   "outputs": [
    {
     "data": {
      "image/png": "[encoded data removed]",
      "text/plain": [
       "<Figure size 1000x400 with 2 Axes>"
      ]
     },
     "metadata": {},
     "output_type": "display_data"
    }
   ],
   "source": [
    "# 학습과정 중의 loss와 accuracy\n",
    "import matplotlib.pyplot as plt\n",
    "fig, loss_ax = plt.subplots(figsize=(10,4))\n",
    "loss_ax.plot(hist.history['loss'],'y*',label='train loss')\n",
    "loss_ax.plot(hist.history['val_loss'],'r--',label='validation loss')\n",
    "acc_ax = loss_ax.twinx() # loss_ax와 x축을 공유하는 acc_ax 생성\n",
    "acc_ax.plot(hist.history['accuracy'],'g',label='train accuracy')\n",
    "acc_ax.plot(hist.history['val_accuracy'],'b',label='val accuracy')\n",
    "loss_ax.set_xlabel('epoch')\n",
    "loss_ax.set_ylabel('loss')\n",
    "acc_ax.set_ylabel('accuracy')\n",
    "loss_ax.legend(loc='center')\n",
    "acc_ax.legend(loc='center right')\n",
    "plt.show()"
   ]
  },
  {
   "cell_type": "code",
   "execution_count": 88,
   "id": "8afc81ff",
   "metadata": {
    "ExecuteTime": {
     "end_time": "2024-12-19T06:30:18.851521Z",
     "start_time": "2024-12-19T06:30:18.748355Z"
    }
   },
   "outputs": [
    {
     "name": "stdout",
     "output_type": "stream",
     "text": [
      "13/13 [==============================] - 0s 1ms/step\n"
     ]
    },
    {
     "data": {
      "text/html": [
       "<div>\n",
       "<style scoped>\n",
       "    .dataframe tbody tr th:only-of-type {\n",
       "        vertical-align: middle;\n",
       "    }\n",
       "\n",
       "    .dataframe tbody tr th {\n",
       "        vertical-align: top;\n",
       "    }\n",
       "\n",
       "    .dataframe thead th {\n",
       "        text-align: right;\n",
       "    }\n",
       "</style>\n",
       "<table border=\"1\" class=\"dataframe\">\n",
       "  <thead>\n",
       "    <tr style=\"text-align: right;\">\n",
       "      <th>col_0</th>\n",
       "      <th>4</th>\n",
       "      <th>5</th>\n",
       "      <th>6</th>\n",
       "      <th>7</th>\n",
       "    </tr>\n",
       "    <tr>\n",
       "      <th>row_0</th>\n",
       "      <th></th>\n",
       "      <th></th>\n",
       "      <th></th>\n",
       "      <th></th>\n",
       "    </tr>\n",
       "  </thead>\n",
       "  <tbody>\n",
       "    <tr>\n",
       "      <th>3</th>\n",
       "      <td>0</td>\n",
       "      <td>2</td>\n",
       "      <td>0</td>\n",
       "      <td>0</td>\n",
       "    </tr>\n",
       "    <tr>\n",
       "      <th>4</th>\n",
       "      <td>0</td>\n",
       "      <td>8</td>\n",
       "      <td>5</td>\n",
       "      <td>0</td>\n",
       "    </tr>\n",
       "    <tr>\n",
       "      <th>5</th>\n",
       "      <td>1</td>\n",
       "      <td>128</td>\n",
       "      <td>39</td>\n",
       "      <td>2</td>\n",
       "    </tr>\n",
       "    <tr>\n",
       "      <th>6</th>\n",
       "      <td>0</td>\n",
       "      <td>55</td>\n",
       "      <td>99</td>\n",
       "      <td>6</td>\n",
       "    </tr>\n",
       "    <tr>\n",
       "      <th>7</th>\n",
       "      <td>0</td>\n",
       "      <td>4</td>\n",
       "      <td>32</td>\n",
       "      <td>14</td>\n",
       "    </tr>\n",
       "    <tr>\n",
       "      <th>8</th>\n",
       "      <td>0</td>\n",
       "      <td>0</td>\n",
       "      <td>3</td>\n",
       "      <td>2</td>\n",
       "    </tr>\n",
       "  </tbody>\n",
       "</table>\n",
       "</div>"
      ],
      "text/plain": [
       "col_0  4    5   6   7\n",
       "row_0                \n",
       "3      0    2   0   0\n",
       "4      0    8   5   0\n",
       "5      1  128  39   2\n",
       "6      0   55  99   6\n",
       "7      0    4  32  14\n",
       "8      0    0   3   2"
      ]
     },
     "execution_count": 88,
     "metadata": {},
     "output_type": "execute_result"
    }
   ],
   "source": [
    "Y_hat = model.predict(X_test).argmax(axis=1)+3\n",
    "ctab = pd.crosstab(y_test.argmax(axis=1)+3,Y_hat)\n",
    "\n",
    "ctab"
   ]
  },
  {
   "cell_type": "code",
   "execution_count": 89,
   "id": "441aa798",
   "metadata": {
    "ExecuteTime": {
     "end_time": "2024-12-19T06:31:04.036084Z",
     "start_time": "2024-12-19T06:31:03.995327Z"
    }
   },
   "outputs": [],
   "source": [
    "model.save('model/winequality.h5')"
   ]
  },
  {
   "cell_type": "code",
   "execution_count": 61,
   "id": "2437fa4f",
   "metadata": {
    "ExecuteTime": {
     "end_time": "2024-12-19T06:12:27.580302Z",
     "start_time": "2024-12-19T06:12:27.563565Z"
    }
   },
   "outputs": [
    {
     "data": {
      "text/html": [
       "<div>\n",
       "<style scoped>\n",
       "    .dataframe tbody tr th:only-of-type {\n",
       "        vertical-align: middle;\n",
       "    }\n",
       "\n",
       "    .dataframe tbody tr th {\n",
       "        vertical-align: top;\n",
       "    }\n",
       "\n",
       "    .dataframe thead th {\n",
       "        text-align: right;\n",
       "    }\n",
       "</style>\n",
       "<table border=\"1\" class=\"dataframe\">\n",
       "  <thead>\n",
       "    <tr style=\"text-align: right;\">\n",
       "      <th></th>\n",
       "      <th>fixed acidity</th>\n",
       "      <th>volatile acidity</th>\n",
       "      <th>citric acid</th>\n",
       "      <th>residual sugar</th>\n",
       "      <th>chlorides</th>\n",
       "      <th>free sulfur dioxide</th>\n",
       "      <th>total sulfur dioxide</th>\n",
       "      <th>density</th>\n",
       "      <th>pH</th>\n",
       "      <th>sulphates</th>\n",
       "      <th>alcohol</th>\n",
       "      <th>quality</th>\n",
       "    </tr>\n",
       "  </thead>\n",
       "  <tbody>\n",
       "    <tr>\n",
       "      <th>450</th>\n",
       "      <td>11.9</td>\n",
       "      <td>0.39</td>\n",
       "      <td>0.69</td>\n",
       "      <td>2.8</td>\n",
       "      <td>0.095</td>\n",
       "      <td>17.0</td>\n",
       "      <td>35.0</td>\n",
       "      <td>0.9994</td>\n",
       "      <td>3.1</td>\n",
       "      <td>0.61</td>\n",
       "      <td>10.8</td>\n",
       "      <td>6</td>\n",
       "    </tr>\n",
       "  </tbody>\n",
       "</table>\n",
       "</div>"
      ],
      "text/plain": [
       "     fixed acidity  volatile acidity  citric acid  residual sugar  chlorides  \\\n",
       "450           11.9              0.39         0.69             2.8      0.095   \n",
       "\n",
       "     free sulfur dioxide  total sulfur dioxide  density   pH  sulphates  \\\n",
       "450                 17.0                  35.0   0.9994  3.1       0.61   \n",
       "\n",
       "     alcohol  quality  \n",
       "450     10.8        6  "
      ]
     },
     "execution_count": 61,
     "metadata": {},
     "output_type": "execute_result"
    }
   ],
   "source": [
    "redwine.sample()"
   ]
  }
 ],
 "metadata": {
  "kernelspec": {
   "display_name": "Python 3 (ipykernel)",
   "language": "python",
   "name": "python3"
  },
  "language_info": {
   "codemirror_mode": {
    "name": "ipython",
    "version": 3
   },
   "file_extension": ".py",
   "mimetype": "text/x-python",
   "name": "python",
   "nbconvert_exporter": "python",
   "pygments_lexer": "ipython3",
   "version": "3.10.9"
  },
  "toc": {
   "base_numbering": 1,
   "nav_menu": {},
   "number_sections": true,
   "sideBar": true,
   "skip_h1_title": false,
   "title_cell": "Table of Contents",
   "title_sidebar": "Contents",
   "toc_cell": false,
   "toc_position": {
    "height": "calc(100% - 180px)",
    "left": "10px",
    "top": "150px",
    "width": "165px"
   },
   "toc_section_display": true,
   "toc_window_display": false
  }
 },
 "nbformat": 4,
 "nbformat_minor": 5
}
