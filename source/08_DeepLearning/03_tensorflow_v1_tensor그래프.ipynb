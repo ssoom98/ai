{
 "cells": [
  {
   "cell_type": "code",
   "execution_count": 1,
   "id": "b8fadb69",
   "metadata": {
    "ExecuteTime": {
     "end_time": "2024-12-16T01:04:14.702512Z",
     "start_time": "2024-12-16T01:04:14.692360Z"
    }
   },
   "outputs": [
    {
     "data": {
      "text/html": [
       "\n",
       "<style>\n",
       "div.container{width:80% !important;}\n",
       "div.CodeMirror {font-family:Consolas; font-size:12pt;}\n",
       "div.output {font-size:12pt; font-weight:bold;}\n",
       "div.input {font-family:Consolas; font-size:12pt;}\n",
       "div.prompt {min-width:70px;}\n",
       "div#toc-header{margin-top:150px;}\n",
       ".cm-s-ipython span.cm-comment{font-size:12pt; font-style:normal; color:orange;}\n",
       ".ansi-yellow-bg{color:black;font-size:15pt;}\n",
       "\n",
       "</style>\n",
       "<style>\n",
       "span.toc-item-num{display:none;}\n",
       "</style>\n"
      ],
      "text/plain": [
       "<IPython.core.display.HTML object>"
      ]
     },
     "metadata": {},
     "output_type": "display_data"
    }
   ],
   "source": [
    "from IPython.display import display, HTML\n",
    "display(HTML(\"\"\"\n",
    "<style>\n",
    "div.container{width:80% !important;}\n",
    "div.CodeMirror {font-family:Consolas; font-size:12pt;}\n",
    "div.output {font-size:12pt; font-weight:bold;}\n",
    "div.input {font-family:Consolas; font-size:12pt;}\n",
    "div.prompt {min-width:70px;}\n",
    "div#toc-header{margin-top:150px;}\n",
    ".cm-s-ipython span.cm-comment{font-size:12pt; font-style:normal; color:orange;}\n",
    ".ansi-yellow-bg{color:black;font-size:15pt;}\n",
    "\n",
    "</style>\n",
    "<style>\n",
    "span.toc-item-num{display:none;}\n",
    "</style>\n",
    "\"\"\"))"
   ]
  },
  {
   "cell_type": "markdown",
   "id": "31f8053f",
   "metadata": {},
   "source": [
    "# 1. tensorflow v2.xx에서 v1을 사용하기"
   ]
  },
  {
   "cell_type": "code",
   "execution_count": 3,
   "id": "a89761b5",
   "metadata": {
    "ExecuteTime": {
     "end_time": "2024-12-16T01:34:07.647629Z",
     "start_time": "2024-12-16T01:34:04.641578Z"
    }
   },
   "outputs": [
    {
     "name": "stdout",
     "output_type": "stream",
     "text": [
      "WARNING:tensorflow:From C:\\Users\\4545\\anaconda3\\lib\\site-packages\\tensorflow\\python\\compat\\v2_compat.py:107: disable_resource_variables (from tensorflow.python.ops.variable_scope) is deprecated and will be removed in a future version.\n",
      "Instructions for updating:\n",
      "non-resource variables are not supported in the long term\n"
     ]
    }
   ],
   "source": [
    "import tensorflow.compat.v1 as tf\n",
    "tf.disable_v2_behavior()#  v2 비활성화하고 v1을 활성화"
   ]
  },
  {
   "cell_type": "markdown",
   "id": "a8ba9fc5",
   "metadata": {
    "ExecuteTime": {
     "end_time": "2024-12-13T00:58:56.545281Z",
     "start_time": "2024-12-13T00:58:56.523061Z"
    }
   },
   "source": [
    "# Tensorflow\n",
    "- 그래프를 정의(tensor객체의 흐름)\n",
    "- sess = tf.Session()을 실행\n",
    "- sess.run()을 통해 변수값을 확인할 수 있음"
   ]
  },
  {
   "cell_type": "code",
   "execution_count": 3,
   "id": "8afabace",
   "metadata": {
    "ExecuteTime": {
     "end_time": "2024-12-13T05:21:00.123699Z",
     "start_time": "2024-12-13T05:20:58.750396Z"
    }
   },
   "outputs": [
    {
     "name": "stdout",
     "output_type": "stream",
     "text": [
      "b'Hello,Tensorflow'\n",
      "b'Hello,Tensorflow'\n"
     ]
    },
    {
     "ename": "AttributeError",
     "evalue": "'NoneType' object has no attribute 'Decoding'",
     "output_type": "error",
     "traceback": [
      "\u001b[1;31m---------------------------------------------------------------------------\u001b[0m",
      "\u001b[1;31mAttributeError\u001b[0m                            Traceback (most recent call last)",
      "Cell \u001b[1;32mIn[3], line 5\u001b[0m\n\u001b[0;32m      3\u001b[0m sess \u001b[38;5;241m=\u001b[39m tf\u001b[38;5;241m.\u001b[39mSession()\n\u001b[0;32m      4\u001b[0m \u001b[38;5;28mprint\u001b[39m(sess\u001b[38;5;241m.\u001b[39mrun(node1))\n\u001b[1;32m----> 5\u001b[0m \u001b[38;5;28;43mprint\u001b[39;49m\u001b[43m(\u001b[49m\u001b[43msess\u001b[49m\u001b[38;5;241;43m.\u001b[39;49m\u001b[43mrun\u001b[49m\u001b[43m(\u001b[49m\u001b[43mnode1\u001b[49m\u001b[43m)\u001b[49m\u001b[43m)\u001b[49m\u001b[38;5;241;43m.\u001b[39;49m\u001b[43mDecoding\u001b[49m()\n",
      "\u001b[1;31mAttributeError\u001b[0m: 'NoneType' object has no attribute 'Decoding'"
     ]
    }
   ],
   "source": [
    "# tensor = data(상수,변수)와 연산\n",
    "node1= tf.constant('Hello,Tensorflow')\n",
    "sess = tf.Session()\n",
    "print(sess.run(node1))\n",
    "print(sess.run(node1)).Decoding()"
   ]
  },
  {
   "cell_type": "code",
   "execution_count": null,
   "id": "cf267aa9",
   "metadata": {
    "ExecuteTime": {
     "end_time": "2024-12-13T05:21:00.127650Z",
     "start_time": "2024-12-13T05:21:00.127650Z"
    }
   },
   "outputs": [],
   "source": [
    "# 간단한 수학 연산 tensor 그래프\n",
    "node1 = tf.constant(10,dtype = tf.float16)\n",
    "node2 = tf.constant(20,dtype = tf.float16)\n",
    "node3 = tf.add(node1,node2)\n",
    "sess = tf.Session()\n",
    "print(sess.run([node1,node2,node3]))"
   ]
  },
  {
   "cell_type": "code",
   "execution_count": 6,
   "id": "d396b7d2",
   "metadata": {
    "ExecuteTime": {
     "end_time": "2024-12-13T05:35:11.307351Z",
     "start_time": "2024-12-13T05:35:11.067943Z"
    }
   },
   "outputs": [
    {
     "data": {
      "text/plain": [
       "[array([1, 2, 3], dtype=int16), array([1., 2., 3.], dtype=float32)]"
      ]
     },
     "execution_count": 6,
     "metadata": {},
     "output_type": "execute_result"
    }
   ],
   "source": [
    "# 타입 변경\n",
    "import numpy as np\n",
    "node1 = tf.constant(np.array([1,2,3]),dtype=tf.int16)\n",
    "node2 = tf.cast(node1,dtype = tf.float32)\n",
    "sess = tf.Session()\n",
    "sess.run([node1,node2])"
   ]
  },
  {
   "cell_type": "code",
   "execution_count": null,
   "id": "10ea5741",
   "metadata": {
    "ExecuteTime": {
     "end_time": "2024-12-13T05:21:00.132637Z",
     "start_time": "2024-12-13T05:21:00.132637Z"
    }
   },
   "outputs": [],
   "source": [
    "# 평균값 계산: tf.reduce_mean()\n",
    "data = np.array([1.,2.,3.,4.])\n",
    "m = tf.reduce_mean(data)\n",
    "sess = tf.Session()\n",
    "sess.run(m)"
   ]
  },
  {
   "cell_type": "code",
   "execution_count": null,
   "id": "1aeabc84",
   "metadata": {
    "ExecuteTime": {
     "end_time": "2024-12-13T05:21:00.134632Z",
     "start_time": "2024-12-13T05:21:00.134632Z"
    }
   },
   "outputs": [],
   "source": [
    "# tf.random_normal([size]) : 평균 0이고, 표준편차가 1인 난수 size 개 발생, 난수갯수: 독립변수갯수\n",
    "import matplotlib.pyplot as plt\n",
    "tensor = tf.random_normal([1000]) # 평균 0 표준편차가 1인 난수 2(정규분포난수)\n",
    "sess = tf.Session()\n",
    "plt.hist(sess.run(tensor))\n",
    "plt.show()"
   ]
  },
  {
   "cell_type": "markdown",
   "id": "52eb74e7",
   "metadata": {},
   "source": [
    "# 2.tensorflow v1 을 이용한 linear regression 을 구현\n",
    "## 2.1 독립변수 x가 1개, 종속변수 y가 1개"
   ]
  },
  {
   "cell_type": "code",
   "execution_count": null,
   "id": "60f5cc88",
   "metadata": {
    "ExecuteTime": {
     "end_time": "2024-12-13T05:21:00.136626Z",
     "start_time": "2024-12-13T05:21:00.136626Z"
    }
   },
   "outputs": [],
   "source": [
    "# tensor 그래프(객체 흐름) 정의\n",
    "# data set(x,y)\n",
    "x = np.array([1,2,3])\n",
    "y = np.array([1,2,3])\n",
    "\n",
    "# w = weight와 bias(처음에는 랜덤값으로 셋팅했다가, 학습과정에서 변경)\n",
    "W = tf.Variable([tf.random.normal([1])],name='weight')\n",
    "b = tf.Variable(tf.random.normal([1]),name='bias')\n",
    "\n",
    "# Hypothesis\n",
    "H = W*x +b\n",
    "\n",
    "# cost function (손실함수 = mse : 최소제곱법)\n",
    "cost = tf.reduce_mean(tf.square(H-y))\n",
    "'''\n",
    "학습목적 : cost가 최소가 되는 w랑 b를 구하는것\n",
    "cost 함수는 2차함수이므로 곡선 그래프. 곡순위 미분값이 줄어드는 방향으로 학습(경사하강법)\n",
    "\n",
    "\n",
    "'''\n",
    "optimizer = tf.train.GradientDescentOptimizer(learning_rate=0.01)\n",
    "train = optimizer.minimize(cost)\n",
    "# Session 생성\n",
    "sess = tf.Session()\n",
    "# tf.Variable 변수 노드 (W,b)초기화\n",
    "sess.run(tf.global_variables_initializer())\n",
    "# 6000번 함수 (v2 에서의 fit 함수)\n",
    "for step in range(0,6001):\n",
    "    _, cost_val,W_val,b_val = sess.run([train,cost,W,b])\n",
    "    if step%300==0:\n",
    "        print(\"{}번째 cost:{},W:{},b:{}\".format(step,cost_val,W_val,b_val))\n",
    "    \n"
   ]
  },
  {
   "cell_type": "code",
   "execution_count": null,
   "id": "aa9eb1f6",
   "metadata": {
    "ExecuteTime": {
     "end_time": "2024-12-13T05:21:00.139618Z",
     "start_time": "2024-12-13T05:21:00.139618Z"
    }
   },
   "outputs": [],
   "source": [
    "#최종적으로 나온 회귀식 H= W*x + b\n",
    "sess.run([W,b])\n"
   ]
  },
  {
   "cell_type": "code",
   "execution_count": null,
   "id": "08b1a703",
   "metadata": {
    "ExecuteTime": {
     "end_time": "2024-12-13T05:21:00.140614Z",
     "start_time": "2024-12-13T05:21:00.140614Z"
    }
   },
   "outputs": [],
   "source": [
    "W_,b_ = sess.run([W,b])\n",
    "W_,b_\n"
   ]
  },
  {
   "cell_type": "code",
   "execution_count": null,
   "id": "426ee5c2",
   "metadata": {
    "ExecuteTime": {
     "end_time": "2024-12-13T05:21:00.143607Z",
     "start_time": "2024-12-13T05:21:00.143607Z"
    }
   },
   "outputs": [],
   "source": [
    "print('최종회귀식 : H = {}*x+{}'.format(W_[0],b_[0]))"
   ]
  },
  {
   "cell_type": "code",
   "execution_count": null,
   "id": "35149344",
   "metadata": {
    "ExecuteTime": {
     "end_time": "2024-12-13T05:21:00.146608Z",
     "start_time": "2024-12-13T05:21:00.146608Z"
    }
   },
   "outputs": [],
   "source": [
    "def to_predict(x):\n",
    "    return W_[0]*x+b_[0]"
   ]
  },
  {
   "cell_type": "code",
   "execution_count": null,
   "id": "92b7351b",
   "metadata": {
    "ExecuteTime": {
     "end_time": "2024-12-13T05:21:00.150589Z",
     "start_time": "2024-12-13T05:21:00.150589Z"
    }
   },
   "outputs": [],
   "source": [
    "to_predict(3)"
   ]
  },
  {
   "cell_type": "markdown",
   "id": "4a5100db",
   "metadata": {},
   "source": [
    "## 2.2 predict을 하기위한 placeholder 이용\n",
    "- place\n"
   ]
  },
  {
   "cell_type": "code",
   "execution_count": null,
   "id": "f9fb3749",
   "metadata": {
    "ExecuteTime": {
     "end_time": "2024-12-13T05:21:00.151586Z",
     "start_time": "2024-12-13T05:21:00.151586Z"
    }
   },
   "outputs": [],
   "source": [
    "a = tf.placeholder(tf.float16)\n",
    "b = tf.placeholder(tf.float16)\n",
    "ab = tf.add(a,b)\n",
    "sess = tf.Session()\n",
    "sess.run([a,b,ab], feed_dict ={a:10,b:20})"
   ]
  },
  {
   "cell_type": "code",
   "execution_count": null,
   "id": "95a1b446",
   "metadata": {
    "ExecuteTime": {
     "end_time": "2024-12-13T05:21:00.155590Z",
     "start_time": "2024-12-13T05:21:00.155590Z"
    }
   },
   "outputs": [],
   "source": [
    "sess.run(ab, feed_dict = {a:np.array([1,2,3]), b:np.array([1,2,3])})\n"
   ]
  },
  {
   "cell_type": "code",
   "execution_count": null,
   "id": "daa3b6b8",
   "metadata": {
    "ExecuteTime": {
     "end_time": "2024-12-13T05:21:00.157599Z",
     "start_time": "2024-12-13T05:21:00.157599Z"
    }
   },
   "outputs": [],
   "source": [
    "# data set\n",
    "x_data = np.array([1,2,3,5,8])\n",
    "y_data = np.array([3,5,7,11,17])\n",
    "\n",
    "# placeholder 설정(x,y)\n",
    "x = tf.placeholder(dtype=tf.float32)\n",
    "y = tf.placeholder(dtype=tf.float32)\n",
    "# weight & bias\n",
    "W = tf.Variable(tf.random.normal([1]),name='weight')\n",
    "b = tf.Variable(tf.random.normal([1]),name = 'bias')\n",
    "# Hypothesis\n",
    "H = W*x + b\n",
    "# cost function == Loss function\n",
    "cost = tf.reduce_mean(tf.square(H-y))\n",
    "#  경사하강법\n",
    "train = tf.train.GradientDescentOptimizer(learning_rate=0.001).minimize(cost)\n",
    "\n",
    "# session 생성 & 변수초기화 \n",
    "sess = tf.Session()\n",
    "sess.run(tf.global_variables_initializer())\n",
    "# 학습 6000번\n",
    "for step in range(6000):\n",
    "    _, cost_val,W_val,b_val = sess.run([train,cost,W,b],feed_dict={x:x_data,y:y_data})\n",
    "    if step % 200 == 0:\n",
    "        print(\"{}/6000번째 cost:{},W:{},b:{}\".format(step+1,cost_val,W_val,b_val))\n",
    "         "
   ]
  },
  {
   "cell_type": "code",
   "execution_count": null,
   "id": "c62d1fe4",
   "metadata": {
    "ExecuteTime": {
     "end_time": "2024-12-13T05:21:00.159567Z",
     "start_time": "2024-12-13T05:21:00.159567Z"
    }
   },
   "outputs": [],
   "source": [
    "# 최종 W,b\n",
    "sess.run([W,b])"
   ]
  },
  {
   "cell_type": "code",
   "execution_count": null,
   "id": "824ff0a7",
   "metadata": {
    "ExecuteTime": {
     "end_time": "2024-12-13T05:21:00.162557Z",
     "start_time": "2024-12-13T05:21:00.162557Z"
    }
   },
   "outputs": [],
   "source": [
    "#예측하기\n",
    "sess.run(H, feed_dict={x:5})"
   ]
  },
  {
   "cell_type": "code",
   "execution_count": null,
   "id": "c0ba6519",
   "metadata": {
    "ExecuteTime": {
     "end_time": "2024-12-13T05:21:00.165549Z",
     "start_time": "2024-12-13T05:21:00.165549Z"
    }
   },
   "outputs": [],
   "source": [
    "sess.run(H,feed_dict={x:np.array([5,6,7])})"
   ]
  },
  {
   "cell_type": "markdown",
   "id": "70fbde60",
   "metadata": {},
   "source": [
    "## 2.3 scale 이 다른 데이터들 linear regression 구현"
   ]
  },
  {
   "cell_type": "code",
   "execution_count": null,
   "id": "d234ad03",
   "metadata": {
    "ExecuteTime": {
     "end_time": "2024-12-13T05:21:00.168541Z",
     "start_time": "2024-12-13T05:21:00.168541Z"
    }
   },
   "outputs": [],
   "source": [
    "x_data = np.array([1,2,5,8,10])\n",
    "y_data = np.array([5,15,68,80,95])\n",
    "\n",
    "# placeholder 설정\n",
    "x = tf.placeholder(dtype=tf.float32)\n",
    "y = tf.placeholder(dtype=tf.float32)\n",
    "# weight & bias\n",
    "W = tf.Variable(tf.random.normal([1]),name = 'weight')\n",
    "b = tf.Variable(tf.random.normal([1]))\n",
    "\n",
    "# Hypothesis\n",
    "H = W*x +b\n",
    "# cost function (loss function ; 손실함수)\n",
    "cost=tf.reduce_mean(tf.square(H - y))\n",
    "# 경사하강법\n",
    "optimizer= tf.train.GradientDescentOptimizer(learning_rate=0.01)\n",
    "train= optimizer.minimize(cost)\n",
    "# Session & Variable 초기화\n",
    "sess = tf.Session()\n",
    "sess.run(tf.global_variables_initializer())\n",
    "\n",
    "# 학습\n",
    "for step in range (1,6001):\n",
    "        _, cost_val,W_val,b_val = sess.run([train, cost,W,b],\n",
    "                                          feed_dict={x:x_data,y:y_data})\n",
    "        \n",
    "        if step%300==1:\n",
    "            print(\"{}/6000번째 cost:{},W:{},b:{}\".format(step,cost_val,W_val,b_val))"
   ]
  },
  {
   "cell_type": "code",
   "execution_count": null,
   "id": "e31e6752",
   "metadata": {
    "ExecuteTime": {
     "end_time": "2024-12-13T05:21:00.169539Z",
     "start_time": "2024-12-13T05:21:00.169539Z"
    }
   },
   "outputs": [],
   "source": [
    "# 예측 \n",
    "sess.run(H, feed_dict={x:5})"
   ]
  },
  {
   "cell_type": "code",
   "execution_count": null,
   "id": "e661c587",
   "metadata": {
    "ExecuteTime": {
     "end_time": "2024-12-13T05:21:00.173527Z",
     "start_time": "2024-12-13T05:21:00.173527Z"
    }
   },
   "outputs": [],
   "source": [
    "# cost값이 멈춤 :local 최소값\n"
   ]
  },
  {
   "cell_type": "markdown",
   "id": "6277b6d4",
   "metadata": {},
   "source": [
    "## 2.4 scale이 다른 데이터들의 linear regression을 구현(조정 o)\n",
    "### scale을 맞추기\n",
    "- normalization(정규화) : 데이터의 최대값을 1 , 최소값을 0으로 변환\n",
    "                      x-Xmin\n",
    "    normalization = ─────────── \n",
    "                    Xmax - Xmin\n",
    "        * 위의 식을 써도 되지만 라이브러리를 주로 씀(sklearn.preprocessing.MinMaxScaler이용\n",
    "- standardization(표준화) : 데이터의 평균을 0,표준편차를 1로 조정\n",
    "                        x-Xmean(평균)\n",
    "     standardization = ─────────────────\n",
    "                        Xstd(표준편차)\n",
    "                       * 위의 식을 써도 되지만 라이브러리를 주로 씀(sklearn.preprocessing.StandardScaler이용)"
   ]
  },
  {
   "cell_type": "code",
   "execution_count": 8,
   "id": "8e51965c",
   "metadata": {
    "ExecuteTime": {
     "end_time": "2024-12-13T05:35:28.115923Z",
     "start_time": "2024-12-13T05:35:28.107953Z"
    }
   },
   "outputs": [
    {
     "name": "stdout",
     "output_type": "stream",
     "text": [
      "[0.         0.11111111 0.44444444 0.77777778 1.        ]\n",
      "[0.         0.11111111 0.7        0.83333333 1.        ]\n"
     ]
    }
   ],
   "source": [
    "# 라이브러리를 쓰지않고 정규화 : 예측할 경우 x데이터의 스케일을 하고, 스케일된 예측값을 변환이 번거로움\n",
    "x_data = np.array([1,2,5,8,10])\n",
    "y_data = np.array([5,15,68,80,95])\n",
    "\n",
    "\n",
    "scaled_x_data = (x_data - x_data.min())/ (x_data.max()-x_data.min())\n",
    "scaled_y_data = (y_data - y_data.min()) / (y_data.max()-y_data.min())\n",
    "print(scaled_x_data)\n",
    "print(scaled_y_data)\n"
   ]
  },
  {
   "cell_type": "code",
   "execution_count": 11,
   "id": "5af9e71d",
   "metadata": {
    "ExecuteTime": {
     "end_time": "2024-12-13T05:37:54.289876Z",
     "start_time": "2024-12-13T05:37:54.283871Z"
    }
   },
   "outputs": [
    {
     "data": {
      "text/plain": [
       "0.4444444444444444"
      ]
     },
     "execution_count": 11,
     "metadata": {},
     "output_type": "execute_result"
    }
   ],
   "source": [
    "x = (5- x_data.min())/(x_data.max()-x_data.min())\n",
    "x"
   ]
  },
  {
   "cell_type": "code",
   "execution_count": 16,
   "id": "405999fb",
   "metadata": {
    "ExecuteTime": {
     "end_time": "2024-12-13T05:52:30.838474Z",
     "start_time": "2024-12-13T05:52:17.531913Z"
    }
   },
   "outputs": [
    {
     "name": "stdout",
     "output_type": "stream",
     "text": [
      "위의 x데이터: [ 1  2  5  8 10]\n",
      "1/6000번째 cost:0.24475941061973572,W:[0.6790333],b:[-0.25543872]\n",
      "301/6000번째 cost:0.06408937275409698,W:[0.79443115],b:[-0.05908378]\n",
      "601/6000번째 cost:0.023451710119843483,W:[0.8532046],b:[0.03155867]\n",
      "901/6000번째 cost:0.014162952080368996,W:[0.88491565],b:[0.07235717]\n",
      "1201/6000번째 cost:0.011911621317267418,W:[0.90356374],b:[0.08972309]\n",
      "1501/6000번째 cost:0.011256897822022438,W:[0.91578823],b:[0.09613727]\n",
      "1801/6000번째 cost:0.010979014448821545,W:[0.92474407],b:[0.09749367]\n",
      "2101/6000번째 cost:0.010802561417222023,W:[0.9319399],b:[0.09657132]\n",
      "2401/6000번째 cost:0.010663690976798534,W:[0.93810403],b:[0.094677]\n",
      "2701/6000번째 cost:0.010546206496655941,W:[0.9435933],b:[0.09242138]\n",
      "3001/6000번째 cost:0.01044477429240942,W:[0.94859],b:[0.09008661]\n",
      "3301/6000번째 cost:0.010356731712818146,W:[0.9531918],b:[0.08780011]\n",
      "3601/6000번째 cost:0.010280219838023186,W:[0.95745534],b:[0.0856162]\n",
      "3901/6000번째 cost:0.010213697329163551,W:[0.9614181],b:[0.08355529]\n",
      "4201/6000번째 cost:0.010155854746699333,W:[0.96510726],b:[0.08162193]\n",
      "4501/6000번째 cost:0.010105554945766926,W:[0.96854466],b:[0.07981361]\n",
      "4801/6000번째 cost:0.010061820968985558,W:[0.97174835],b:[0.07812478]\n",
      "5101/6000번째 cost:0.01002378948032856,W:[0.9747353],b:[0.07654873]\n",
      "5401/6000번째 cost:0.009990721009671688,W:[0.9775203],b:[0.07507849]\n",
      "5701/6000번째 cost:0.00996196549385786,W:[0.980117],b:[0.07370726]\n"
     ]
    }
   ],
   "source": [
    "# 라이브러리를 쓰지않고 정규화 \n",
    "x_data = np.array([1,2,5,8,10])\n",
    "print('위의 x데이터:',x_data)\n",
    "x_data = np.array([1,2,5,8,10]).reshape(-1,1)\n",
    "y_data = np.array([5,15,68,80,95]).reshape(-1,1)\n",
    "\n",
    "from sklearn.preprocessing import MinMaxScaler\n",
    "scaler_x = MinMaxScaler() # x_data를 표준화 시킬객체\n",
    "scaler_x.fit(x_data)\n",
    "scaled_x_data = scaler_x.transform(x_data)\n",
    "scaled_y = MinMaxScaler() # y_data를 표준화 시킬 객체\n",
    "scaled_y.fit(y_data)\n",
    "scaled_y_data= scaled_y.transform(y_data)\n",
    "np.column_stack([x_data,scaled_x_data,y_data,scaled_y_data])\n",
    "\n",
    "# placeholder 설정\n",
    "x = tf.placeholder(dtype=tf.float32)\n",
    "y = tf.placeholder(dtype=tf.float32)\n",
    "# weight & bias\n",
    "W = tf.Variable(tf.random.normal([1]),name = 'weight')\n",
    "b = tf.Variable(tf.random.normal([1]))\n",
    "\n",
    "# Hypothesis\n",
    "H = W*x +b\n",
    "# cost function (loss function ; 손실함수)\n",
    "cost=tf.reduce_mean(tf.square(H - y))\n",
    "# 경사하강법\n",
    "optimizer= tf.train.GradientDescentOptimizer(learning_rate=0.001)\n",
    "train= optimizer.minimize(cost)\n",
    "# Session & Variable 초기화\n",
    "sess = tf.Session()\n",
    "sess.run(tf.global_variables_initializer())\n",
    "\n",
    "# 학습\n",
    "for step in range (1,6001):\n",
    "        _, cost_val,W_val,b_val = sess.run([train, cost,W,b],\n",
    "                                          feed_dict={x:scaled_x_data,y:scaled_y_data})\n",
    "        \n",
    "        if step%300==1:\n",
    "            print(\"{}/6000번째 cost:{},W:{},b:{}\".format(step,cost_val,W_val,b_val))"
   ]
  },
  {
   "cell_type": "code",
   "execution_count": 20,
   "id": "3c8e8b96",
   "metadata": {
    "ExecuteTime": {
     "end_time": "2024-12-13T05:58:54.716940Z",
     "start_time": "2024-12-13T05:58:54.707964Z"
    }
   },
   "outputs": [
    {
     "name": "stdout",
     "output_type": "stream",
     "text": [
      "2를 스케일 조정된 값: [[0.11111111]]\n",
      "예측값: [[21.343945]]\n"
     ]
    }
   ],
   "source": [
    "# 예측\n",
    "scaled_input=scaler_x.transform(np.array([[2]]))\n",
    "print(\"2를 스케일 조정된 값:\", scaled_input)\n",
    "scaled_output =sess.run(H,feed_dict={x:scaled_input})\n",
    "print('예측값:',scaled_y.inverse_transform(scaled_output))\n"
   ]
  },
  {
   "cell_type": "code",
   "execution_count": 28,
   "id": "21c2d5aa",
   "metadata": {
    "ExecuteTime": {
     "end_time": "2024-12-13T06:18:10.731778Z",
     "start_time": "2024-12-13T06:18:10.707841Z"
    }
   },
   "outputs": [
    {
     "data": {
      "text/plain": [
       "array([[ 5.        , 11.51856041],\n",
       "       [15.        , 21.34394455],\n",
       "       [68.        , 50.82010269],\n",
       "       [80.        , 80.29626465],\n",
       "       [95.        , 99.94702911]])"
      ]
     },
     "execution_count": 28,
     "metadata": {},
     "output_type": "execute_result"
    }
   ],
   "source": [
    "scaled_y_hat = sess.run(H, feed_dict={x:scaled_x_data})\n",
    "y_hat = scaled_y.inverse_transform(scaled_y_hat)\n",
    "np.column_stack([y_data,y_hat])"
   ]
  },
  {
   "cell_type": "code",
   "execution_count": 29,
   "id": "8b9f4a7f",
   "metadata": {
    "ExecuteTime": {
     "end_time": "2024-12-13T06:18:27.593334Z",
     "start_time": "2024-12-13T06:18:27.420191Z"
    }
   },
   "outputs": [
    {
     "data": {
      "text/plain": [
       "[<matplotlib.lines.Line2D at 0x128b6356260>]"
      ]
     },
     "execution_count": 29,
     "metadata": {},
     "output_type": "execute_result"
    },
    {
     "data": {
      "image/png": "[encoded data removed]",
      "text/plain": [
       "<Figure size 640x480 with 1 Axes>"
      ]
     },
     "metadata": {},
     "output_type": "display_data"
    }
   ],
   "source": [
    "import matplotlib.pyplot as plt\n",
    "plt.plot(x_data,y_data)\n",
    "plt.plot(x_data,y_hat)"
   ]
  },
  {
   "cell_type": "code",
   "execution_count": 30,
   "id": "4b2f4172",
   "metadata": {
    "ExecuteTime": {
     "end_time": "2024-12-13T06:24:48.884966Z",
     "start_time": "2024-12-13T06:24:48.380564Z"
    }
   },
   "outputs": [
    {
     "data": {
      "image/png": "[encoded data removed]",
      "text/plain": [
       "<Figure size 640x480 with 1 Axes>"
      ]
     },
     "metadata": {},
     "output_type": "display_data"
    }
   ],
   "source": [
    "import seaborn as sns\n",
    "import pandas as pd\n",
    "df = pd.DataFrame({'x':x_data[:,0],'y':y_data[:,0]})\n",
    "sns.regplot(data = df,x='x',y='y')\n",
    "plt.show()"
   ]
  },
  {
   "cell_type": "code",
   "execution_count": 35,
   "id": "2fcd14d5",
   "metadata": {
    "ExecuteTime": {
     "end_time": "2024-12-13T06:39:47.148485Z",
     "start_time": "2024-12-13T06:39:47.140363Z"
    }
   },
   "outputs": [
    {
     "data": {
      "text/plain": [
       "array([[-1.22474487, -1.32373476],\n",
       "       [-0.93313895, -1.04563922],\n",
       "       [-0.05832118,  0.42826713],\n",
       "       [ 0.81649658,  0.76198177],\n",
       "       [ 1.39970842,  1.17912508]])"
      ]
     },
     "execution_count": 35,
     "metadata": {},
     "output_type": "execute_result"
    }
   ],
   "source": [
    "# 라이브러리를 쓰지 않고 표준화\n",
    "x_data = np.array([1,2,5,8,10])\n",
    "y_data = np.array([5,15,68,80,95])\n",
    "scaled_x_data = (x_data - x_data.mean()) / x_data.std()\n",
    "scaled_y_data = (y_data - y_data.mean()) / y_data.std()\n",
    "np.column_stack([scaled_x_data, scaled_y_data])"
   ]
  },
  {
   "cell_type": "code",
   "execution_count": 48,
   "id": "0776293e",
   "metadata": {
    "ExecuteTime": {
     "end_time": "2024-12-13T06:50:49.349354Z",
     "start_time": "2024-12-13T06:50:27.404304Z"
    }
   },
   "outputs": [
    {
     "name": "stdout",
     "output_type": "stream",
     "text": [
      "1/10000번째 cost:1.3072694540023804,W:[0.37781426],b:[-0.94692427]\n",
      "1001/10000번째 cost:0.08393538743257523,W:[0.88907814],b:[-0.1278957]\n",
      "2001/10000번째 cost:0.0616188645362854,W:[0.9581317],b:[-0.01727416]\n",
      "3001/10000번째 cost:0.06121174618601799,W:[0.96745825],b:[-0.00233312]\n",
      "4001/10000번째 cost:0.061204325407743454,W:[0.968718],b:[-0.00031512]\n",
      "5001/10000번째 cost:0.06120418384671211,W:[0.9688861],b:[-4.2561314e-05]\n",
      "6001/10000번째 cost:0.06120418384671211,W:[0.9688999],b:[-5.7414045e-06]\n",
      "7001/10000번째 cost:0.06120418384671211,W:[0.9688999],b:[-7.68358e-07]\n",
      "8001/10000번째 cost:0.061204176396131516,W:[0.9688999],b:[-9.6479155e-08]\n",
      "9001/10000번째 cost:0.06120418384671211,W:[0.9688999],b:[-2.6548458e-08]\n"
     ]
    }
   ],
   "source": [
    "# 라이브러리를 써서 표준화\n",
    "x_data = np.array([1,2,5,8,10]).reshape(-1,1)\n",
    "y_data = np.array([5,15,68,80,95]).reshape(-1,1)\n",
    "from sklearn.preprocessing import StandardScaler\n",
    "scaler_x= StandardScaler()\n",
    "scaler_x.fit(x_data)\n",
    "scaled_x_data = scaler_x.transform(x_data)\n",
    "\n",
    "scaler_y= StandardScaler()\n",
    "scaler_y.fit(y_data)\n",
    "scaled_y_data = scaler_y.transform(y_data)\n",
    "\n",
    "np.column_stack([x_data,scaled_x_data])\n",
    "np.column_stack([y_data,scaled_y_data])\n",
    "\n",
    "# placeholder 설정\n",
    "x = tf.placeholder(dtype=tf.float32)\n",
    "y = tf.placeholder(dtype=tf.float32)\n",
    "# weight & bias\n",
    "W = tf.Variable(tf.random.normal([1]),name = 'weight')\n",
    "b = tf.Variable(tf.random.normal([1]))\n",
    "\n",
    "# Hypothesis\n",
    "H = W*x +b\n",
    "# cost function (loss function ; 손실함수)\n",
    "cost=tf.reduce_mean(tf.square(H - y))\n",
    "# 경사하강법\n",
    "optimizer= tf.train.GradientDescentOptimizer(learning_rate=0.001)\n",
    "train= optimizer.minimize(cost)\n",
    "# Session & Variable 초기화\n",
    "sess = tf.Session()\n",
    "sess.run(tf.global_variables_initializer())\n",
    "\n",
    "# 학습\n",
    "for step in range (1,10000):\n",
    "        _, cost_val,W_val,b_val = sess.run([train, cost,W,b],\n",
    "                                          feed_dict={x:scaled_x_data,y:scaled_y_data})\n",
    "        \n",
    "        if step%1000==1:\n",
    "            print(\"{}/10000번째 cost:{},W:{},b:{}\".format(step,cost_val,W_val,b_val))\n"
   ]
  },
  {
   "cell_type": "markdown",
   "id": "d09125db",
   "metadata": {},
   "source": [
    "# 2.5 독립변수 x가 여러개인 linear regression"
   ]
  },
  {
   "cell_type": "code",
   "execution_count": 6,
   "id": "a08cff7a",
   "metadata": {
    "ExecuteTime": {
     "end_time": "2024-12-16T01:40:14.316944Z",
     "start_time": "2024-12-16T01:40:14.311930Z"
    }
   },
   "outputs": [],
   "source": [
    "import pandas as pd\n",
    "import numpy as np"
   ]
  },
  {
   "cell_type": "markdown",
   "id": "c841ebe5",
   "metadata": {},
   "source": [
    "csv를 array로 읽어오기"
   ]
  },
  {
   "cell_type": "code",
   "execution_count": 9,
   "id": "40b3aead",
   "metadata": {
    "ExecuteTime": {
     "end_time": "2024-12-13T08:52:32.721507Z",
     "start_time": "2024-12-13T08:52:32.709538Z"
    }
   },
   "outputs": [
    {
     "data": {
      "text/plain": [
       "((111, 4), (111,))"
      ]
     },
     "execution_count": 9,
     "metadata": {},
     "output_type": "execute_result"
    }
   ],
   "source": [
    "#  방법 1: csv -> 데이터프레임 -> 넘파이 배열\n",
    "# 1.csv를 dataFrame 읽어와\n",
    "data = pd.read_csv('data/ozone.csv')\n",
    "# 2. 결측치대체 or 삭제\n",
    "#data.fillna(value=data.mean(),inplace=True)\n",
    "data.dropna(how='any',axis=0,inplace=True)\n",
    "X = data[['Ozone','Solar.R','Wind','Temp']].values\n",
    "y= data['Ozone'].values\n",
    "X.shape,y.shape"
   ]
  },
  {
   "cell_type": "code",
   "execution_count": 2,
   "id": "8a0f4ef2",
   "metadata": {
    "ExecuteTime": {
     "end_time": "2024-12-16T01:10:44.401020Z",
     "start_time": "2024-12-16T01:10:43.863326Z"
    },
    "collapsed": true
   },
   "outputs": [
    {
     "ename": "NameError",
     "evalue": "name 'np' is not defined",
     "output_type": "error",
     "traceback": [
      "\u001b[1;31m---------------------------------------------------------------------------\u001b[0m",
      "\u001b[1;31mNameError\u001b[0m                                 Traceback (most recent call last)",
      "Cell \u001b[1;32mIn[2], line 3\u001b[0m\n\u001b[0;32m      1\u001b[0m \u001b[38;5;66;03m# 방법 2: csv -> 넘파이 배열\u001b[39;00m\n\u001b[0;32m      2\u001b[0m \u001b[38;5;66;03m#data = np.loadtxt('data/ozone_nonan.csv',delimiter=',') NAN과 header 없어야함\u001b[39;00m\n\u001b[1;32m----> 3\u001b[0m data \u001b[38;5;241m=\u001b[39m \u001b[43mnp\u001b[49m\u001b[38;5;241m.\u001b[39mgenfromtxt(\u001b[38;5;124m'\u001b[39m\u001b[38;5;124mdata/ozone.csv\u001b[39m\u001b[38;5;124m'\u001b[39m,delimiter\u001b[38;5;241m=\u001b[39m\u001b[38;5;124m'\u001b[39m\u001b[38;5;124m,\u001b[39m\u001b[38;5;124m'\u001b[39m,skip_header\u001b[38;5;241m=\u001b[39m\u001b[38;5;241m1\u001b[39m, missing_values\u001b[38;5;241m=\u001b[39m\u001b[38;5;124m'\u001b[39m\u001b[38;5;124mNA\u001b[39m\u001b[38;5;124m'\u001b[39m, filling_values\u001b[38;5;241m=\u001b[39m np\u001b[38;5;241m.\u001b[39mnan)\n\u001b[0;32m      4\u001b[0m data\n",
      "\u001b[1;31mNameError\u001b[0m: name 'np' is not defined"
     ]
    }
   ],
   "source": [
    "# 방법 2: csv -> 넘파이 배열\n",
    "#data = np.loadtxt('data/ozone_nonan.csv',delimiter=',') NAN과 header 없어야함\n",
    "data = np.genfromtxt('data/ozone.csv',delimiter=',',skip_header=1, missing_values='NA', filling_values= np.nan)\n",
    "data"
   ]
  },
  {
   "cell_type": "code",
   "execution_count": 10,
   "id": "f6168e0a",
   "metadata": {
    "ExecuteTime": {
     "end_time": "2024-12-16T01:47:25.778275Z",
     "start_time": "2024-12-16T01:46:27.568388Z"
    }
   },
   "outputs": [
    {
     "name": "stdout",
     "output_type": "stream",
     "text": [
      "1번째 cost:133525.21875\n",
      "5001번째 cost:0.5067671537399292\n",
      "10001번째 cost:0.1954524964094162\n",
      "15001번째 cost:0.17123699188232422\n",
      "20001번째 cost:0.1668839156627655\n",
      "25001번째 cost:0.16443580389022827\n",
      "30001번째 cost:0.1625729501247406\n",
      "35001번째 cost:0.16110797226428986\n",
      "최종 cost:0.15995153784751892\n"
     ]
    }
   ],
   "source": [
    "# data set\n",
    "x_data = np.array([[73,80,75],\n",
    "                   [93,88,93],\n",
    "                   [89,91,90],\n",
    "                   [96,98,100],\n",
    "                   [73,66,70]])\n",
    "y_data = np.array([[152], \n",
    "                   [185], [180],[196],[142]])\n",
    "\n",
    "# tensor graph 정의\n",
    "# shape = [None,3] : x_data([5,3]) 도 받고, 예측할때는 [1,3]). 3열만 고정\n",
    "X = tf.placeholder(shape=[None, 3],dtype= tf.float32)\n",
    "Y = tf.placeholder(shape = [None,1],dtype= tf.float32)\n",
    "# weight & bias (weight 3개,bias 1개)\n",
    "W = tf.Variable(tf.random.normal([3,1]),name='weight')\n",
    "b = tf.Variable(tf.random.normal([1]), name='bias')\n",
    "# Hypothesis\n",
    "#H = W@x +b ; tf.matmul(X,W) - 행렬곱\n",
    "H = tf.matmul(X,W)+b\n",
    "# cost\n",
    "cost = tf.reduce_mean(tf.square(H-Y))\n",
    "#train\n",
    "train = tf.train.GradientDescentOptimizer(learning_rate=0.00001).minimize(cost)\n",
    "# session 생성과 Variable 초기화\n",
    "sess = tf.Session()\n",
    "sess.run(tf.global_variables_initializer())\n",
    "# 학습\n",
    "for step in range(1,40001):\n",
    "    _, cost_val = sess.run([train, cost],\n",
    "                          feed_dict={X:x_data,\n",
    "                                    Y:y_data})\n",
    "    if step%5000==1:\n",
    "        print('{}번째 cost:{}'.format(step,cost_val))\n",
    "print('최종 cost:{}'.format(cost_val))"
   ]
  },
  {
   "cell_type": "code",
   "execution_count": 12,
   "id": "a0294d6e",
   "metadata": {
    "ExecuteTime": {
     "end_time": "2024-12-16T01:48:04.974216Z",
     "start_time": "2024-12-16T01:48:04.943738Z"
    }
   },
   "outputs": [
    {
     "data": {
      "text/plain": [
       "array([[152.43643],\n",
       "       [150.3647 ]], dtype=float32)"
      ]
     },
     "execution_count": 12,
     "metadata": {},
     "output_type": "execute_result"
    }
   ],
   "source": [
    "sess.run(H,feed_dict={X:np.array([[73,80,77],[73,80,72]])})"
   ]
  },
  {
   "cell_type": "code",
   "execution_count": 38,
   "id": "fabbbf0d",
   "metadata": {
    "ExecuteTime": {
     "end_time": "2024-12-16T02:47:42.530776Z",
     "start_time": "2024-12-16T02:47:42.516622Z"
    }
   },
   "outputs": [
    {
     "name": "stdout",
     "output_type": "stream",
     "text": [
      "<class 'pandas.core.frame.DataFrame'>\n",
      "RangeIndex: 153 entries, 0 to 152\n",
      "Data columns (total 6 columns):\n",
      " #   Column   Non-Null Count  Dtype  \n",
      "---  ------   --------------  -----  \n",
      " 0   Ozone    116 non-null    float64\n",
      " 1   Solar.R  146 non-null    float64\n",
      " 2   Wind     153 non-null    float64\n",
      " 3   Temp     153 non-null    int64  \n",
      " 4   Month    153 non-null    int64  \n",
      " 5   Day      153 non-null    int64  \n",
      "dtypes: float64(3), int64(3)\n",
      "memory usage: 7.3 KB\n"
     ]
    }
   ],
   "source": [
    "# csv 파일->데이터프레임->결측치-> 넘파이 배열 -> 머신러닝\n",
    "# import statsmodels.api as sm\n",
    "# sm.datasets.get_rdataset('airquality').data\n",
    "data = pd.read_csv('data/ozone_nonan.csv')\n",
    "data.head()\n",
    "data.info()"
   ]
  },
  {
   "cell_type": "code",
   "execution_count": 39,
   "id": "b3cf2673",
   "metadata": {
    "ExecuteTime": {
     "end_time": "2024-12-16T02:47:44.159863Z",
     "start_time": "2024-12-16T02:47:44.150776Z"
    }
   },
   "outputs": [
    {
     "data": {
      "text/plain": [
       "Ozone       42.129310\n",
       "Solar.R    185.931507\n",
       "Wind         9.957516\n",
       "Temp        77.882353\n",
       "Month        6.993464\n",
       "Day         15.803922\n",
       "dtype: float64"
      ]
     },
     "execution_count": 39,
     "metadata": {},
     "output_type": "execute_result"
    }
   ],
   "source": [
    "data.mean(axis=0)"
   ]
  },
  {
   "cell_type": "code",
   "execution_count": 40,
   "id": "27c16a28",
   "metadata": {
    "ExecuteTime": {
     "end_time": "2024-12-16T02:47:45.762366Z",
     "start_time": "2024-12-16T02:47:45.709839Z"
    }
   },
   "outputs": [],
   "source": [
    "# 결측치 처리\n",
    "# data.dropna(how='any',axis = 0) # any: 열에 결측치가 하나라도 있으면 그 행 삭제 (학습할때 잘나옴)\n",
    "# 결측치 처리 방법 2 : 열별 평균값으로 대체\n",
    "# data.fillna(value= data.mean())\n",
    "# 결측치 처리 방법 3: 열별월별 평균값으로 대체\n",
    "mean_data = data.groupby('Month')[['Ozone','Solar.R']].mean()\n",
    "mean_data.loc[5,'Ozone']\n",
    "def fill_nan(row):\n",
    "    \"row['Ozone']과 row['Solar.R']값이 결측치면 mean_data.loc[월, 열이름]으로 대체\"\n",
    "    # row = row.copy()\n",
    "    pd.options.mode.copy_on_write = True\n",
    "    if row.isna()['Ozone']:\n",
    "        row['Ozone'] = mean_data.loc[row.Month, 'Ozone']\n",
    "    if row.isna()['Solar.R']:\n",
    "        row['Solar.R'] = mean_data.loc[row.Month, 'Solar.R']\n",
    "    return row\n",
    "# data.loc[4], fill_nan(data.loc[4])\n",
    "data = data.apply(fill_nan, axis = 1)\n",
    "data = data[['Ozone', 'Solar.R', 'Wind', 'Temp']]"
   ]
  },
  {
   "cell_type": "code",
   "execution_count": 41,
   "id": "d3b49abc",
   "metadata": {
    "ExecuteTime": {
     "end_time": "2024-12-16T02:47:47.605982Z",
     "start_time": "2024-12-16T02:47:47.597762Z"
    }
   },
   "outputs": [
    {
     "data": {
      "text/plain": [
       "(Ozone       23.615385\n",
       " Solar.R    181.296296\n",
       " Wind        14.300000\n",
       " Temp        56.000000\n",
       " Name: 4, dtype: float64,\n",
       " Ozone       23.615385\n",
       " Solar.R    181.296296\n",
       " Wind        14.300000\n",
       " Temp        56.000000\n",
       " Name: 4, dtype: float64)"
      ]
     },
     "execution_count": 41,
     "metadata": {},
     "output_type": "execute_result"
    }
   ],
   "source": [
    "data.loc[4],fill_nan(data.loc[4])"
   ]
  },
  {
   "cell_type": "code",
   "execution_count": 67,
   "id": "6178359c",
   "metadata": {
    "ExecuteTime": {
     "end_time": "2024-12-16T03:50:17.460092Z",
     "start_time": "2024-12-16T03:49:55.467061Z"
    }
   },
   "outputs": [
    {
     "name": "stdout",
     "output_type": "stream",
     "text": [
      "1번째cost:241828.390625\n",
      "2001번째cost:528.64990234375\n",
      "4001번째cost:478.82781982421875\n",
      "6001번째cost:466.2961120605469\n",
      "8001번째cost:463.1341857910156\n",
      "10001번째cost:462.32647705078125\n",
      "12001번째cost:462.1103515625\n",
      "14001번째cost:462.0428466796875\n",
      "최종cost:462.02569580078125,W:[[ 0.05532011]\n",
      " [-3.5655549 ]\n",
      " [ 0.8593279 ]],b:[-0.3591283]\n"
     ]
    }
   ],
   "source": [
    "x_data = data[['Solar.R','Wind','Temp']].values\n",
    "x_data = data.iloc[:,1:].values\n",
    "y_data = data['Ozone'].values.reshape(-1,1)\n",
    "y_data = data[['Ozone']].values\n",
    "x_data.shape, y_data.shape\n",
    "\n",
    "# tensorflow 구현\n",
    "# 1. X,Y\n",
    "X = tf.placeholder(shape=[None,3],dtype=tf.float32)\n",
    "Y = tf.placeholder(shape=[None,1],dtype=tf.float32)\n",
    "\n",
    "# 2.독립변수 3개 , 종속변수 1개인 모델의 weight,bias\n",
    "W = tf.Variable(tf.random_normal([3,1]))\n",
    "b = tf.Variable(tf.random_normal([1]))\n",
    "# 3. Hypothesis\n",
    "H = tf.matmul(X,W) +b\n",
    "# 4. cost함수 = loss 함수= 손실함수\n",
    "cost = tf.reduce_mean(tf.square(H-Y))\n",
    "# 5. train\n",
    "train = tf.train.GradientDescentOptimizer(learning_rate=1e-5).minimize(cost)\n",
    "# sess 객체 생성 & W,b 변수초기화\n",
    "sess = tf.Session()\n",
    "sess.run(tf.global_variables_initializer())\n",
    "# 학습\n",
    "for step in range(1, 15000):\n",
    "    _, cost_val = sess.run([train,cost],feed_dict={X:x_data,Y:y_data})\n",
    "    \n",
    "    if step%2000==1:\n",
    "        print(\"{}번째cost:{}\".format(step,cost_val))\n",
    "print(\"최종cost:{},W:{},b:{}\".format(cost_val,sess.run(W),sess.run(b)))"
   ]
  },
  {
   "cell_type": "code",
   "execution_count": 65,
   "id": "af47aa4c",
   "metadata": {
    "ExecuteTime": {
     "end_time": "2024-12-16T03:49:50.708194Z",
     "start_time": "2024-12-16T03:49:28.859671Z"
    }
   },
   "outputs": [
    {
     "name": "stdout",
     "output_type": "stream",
     "text": [
      "1번째cost:1.3659323453903198\n",
      "2001번째cost:1.1957169771194458\n",
      "4001번째cost:1.048235297203064\n",
      "6001번째cost:0.920447826385498\n",
      "8001번째cost:0.8097211718559265\n",
      "10001번째cost:0.7137759327888489\n",
      "12001번째cost:0.6306234002113342\n",
      "14001번째cost:0.5585585832595825\n",
      "최종cost:0.5262702703475952,W:[[1.3497986 ]\n",
      " [0.11151223]\n",
      " [0.540616  ]],b:[-0.21107364]\n"
     ]
    }
   ],
   "source": [
    "#MinMaxScaler 나 StandardScaler 을 이용하여 스케일 조정후 tensorflow 수행\n",
    "# 주로 0~1 사이    주로 0근처 \n",
    "data = pd.read_csv('data/ozone.csv')\n",
    "# 결측치 처리\n",
    "mean_data = data.groupby('Month')[['Ozone','Solar.R']].mean()\n",
    "def fill_nan(row):\n",
    "    \"row['Ozone']과 row['Solar.R']값이 결측치면 mean_data.loc[월, 열이름]으로 대체\"\n",
    "    # row = row.copy()\n",
    "    pd.options.mode.copy_on_write = True\n",
    "    if row.isna()['Ozone']:\n",
    "        row['Ozone'] = mean_data.loc[row.Month, 'Ozone']\n",
    "    if row.isna()['Solar.R']:\n",
    "        row['Solar.R'] = mean_data.loc[row.Month, 'Solar.R']\n",
    "    return row\n",
    "# data.loc[4], fill_nan(data.loc[4])\n",
    "data = data.apply(fill_nan, axis = 1)\n",
    "data = data[['Ozone', 'Solar.R', 'Wind', 'Temp']]\n",
    "\n",
    "x_data = data[['Solar.R','Wind','Temp']].values\n",
    "x_data = data.iloc[:,1:].values\n",
    "y_data = data['Ozone'].values.reshape(-1,1)\n",
    "y_data = data[['Ozone']].values\n",
    "x_data.shape, y_data.shape\n",
    "# 독립변수와 종속변수의 scale 조정\n",
    "from sklearn.preprocessing import MinMaxScaler\n",
    "scaler_x = MinMaxScaler()\n",
    "scaled_x_data=scaler_x.fit_transform(x_data)\n",
    "scaler_y = MinMaxScaler()\n",
    "scaled_y_data=scaler_y.fit_transform(y_data)\n",
    "\n",
    "\n",
    "# tensorflow 구현\n",
    "# 1. X,Y\n",
    "X = tf.placeholder(shape=[None,3],dtype=tf.float32)\n",
    "Y = tf.placeholder(shape=[None,1],dtype=tf.float32)\n",
    "\n",
    "# 2.독립변수 3개 , 종속변수 1개인 모델의 weight,bias\n",
    "W = tf.Variable(tf.random_normal([3,1]))\n",
    "b = tf.Variable(tf.random_normal([1]))\n",
    "# 3. Hypothesis\n",
    "H = tf.matmul(X,W) +b\n",
    "# 4. cost함수 = loss 함수= 손실함수\n",
    "cost = tf.reduce_mean(tf.square(H-Y))\n",
    "# 5. train\n",
    "train = tf.train.GradientDescentOptimizer(learning_rate=1e-5).minimize(cost)\n",
    "# sess 객체 생성 & W,b 변수초기화\n",
    "sess = tf.Session()\n",
    "sess.run(tf.global_variables_initializer())\n",
    "# 학습\n",
    "for step in range(1, 15000):\n",
    "    _, cost_val = sess.run([train,cost],feed_dict={X:scaled_x_data,Y:scaled_y_data})\n",
    "    \n",
    "    if step%2000==1:\n",
    "        print(\"{}번째cost:{}\".format(step,cost_val))\n",
    "print(\"최종cost:{},W:{},b:{}\".format(cost_val,sess.run(W),sess.run(b)))"
   ]
  },
  {
   "cell_type": "code",
   "execution_count": 68,
   "id": "1f0aa28b",
   "metadata": {
    "ExecuteTime": {
     "end_time": "2024-12-16T03:50:17.487681Z",
     "start_time": "2024-12-16T03:50:17.463155Z"
    }
   },
   "outputs": [
    {
     "data": {
      "text/plain": [
       "array([[39.515816]], dtype=float32)"
      ]
     },
     "execution_count": 68,
     "metadata": {},
     "output_type": "execute_result"
    }
   ],
   "source": [
    "# 예측하기(독립변수 118,8,72면 종속변수는 얼마?)\n",
    "input_data =np.array([[118,8,72]])\n",
    "sess.run(H, feed_dict={X :input_data})\n"
   ]
  },
  {
   "cell_type": "code",
   "execution_count": 64,
   "id": "f8db491c",
   "metadata": {
    "ExecuteTime": {
     "end_time": "2024-12-16T03:49:26.298664Z",
     "start_time": "2024-12-16T03:49:26.291682Z"
    }
   },
   "outputs": [
    {
     "data": {
      "text/plain": [
       "array([[190. ,   7.4,  67. ,  41. ],\n",
       "       [118. ,   8. ,  72. ,  36. ]])"
      ]
     },
     "execution_count": 64,
     "metadata": {},
     "output_type": "execute_result"
    }
   ],
   "source": [
    "np.column_stack([x_data[:2],y_data[:2]])\n"
   ]
  },
  {
   "cell_type": "code",
   "execution_count": 61,
   "id": "6244a9e0",
   "metadata": {
    "ExecuteTime": {
     "end_time": "2024-12-16T03:44:21.619165Z",
     "start_time": "2024-12-16T03:44:21.612097Z"
    }
   },
   "outputs": [
    {
     "data": {
      "text/plain": [
       "array([[0.55963303, 0.3       , 0.26829268, 0.23952096],\n",
       "       [0.33944954, 0.33157895, 0.3902439 , 0.20958084]])"
      ]
     },
     "execution_count": 61,
     "metadata": {},
     "output_type": "execute_result"
    }
   ],
   "source": [
    "np.column_stack([scaled_x_data[:2],scaled_y_data[:2]])"
   ]
  },
  {
   "cell_type": "markdown",
   "id": "da1ff699",
   "metadata": {},
   "source": [
    "# 3. logistic Regression = Binary classification(binary 분류분석)\n",
    "- logistic 회귀분석 vs 회귀분석\n",
    "- logistic 회귀분석 : 기존의 회귀분석과는 다른 처리가 필요"
   ]
  },
  {
   "cell_type": "code",
   "execution_count": 71,
   "id": "82ca4a07",
   "metadata": {
    "ExecuteTime": {
     "end_time": "2024-12-16T04:04:35.750117Z",
     "start_time": "2024-12-16T04:04:35.553206Z"
    }
   },
   "outputs": [
    {
     "data": {
      "image/png": "[encoded data removed]",
      "text/plain": [
       "<Figure size 500x200 with 1 Axes>"
      ]
     },
     "metadata": {},
     "output_type": "display_data"
    }
   ],
   "source": [
    "from scipy import stats\n",
    "import matplotlib.pyplot as plt\n",
    "plt.figure(figsize=(5,2))\n",
    "\n",
    "x = np.array([1, 2, 5, 8, 10,40])\n",
    "y = np.array([0, 0, 0, 1, 1,1]) # 실제값\n",
    "\n",
    "lm = stats.linregress(x,y)\n",
    "list(lm)\n",
    "H = lm[0]*x+lm[1] # 예측값\n",
    "plt.scatter(x,y)\n",
    "plt.plot(x,H,'r')\n",
    "plt.show()"
   ]
  },
  {
   "cell_type": "code",
   "execution_count": 85,
   "id": "00a4fccc",
   "metadata": {
    "ExecuteTime": {
     "end_time": "2024-12-16T05:41:38.331608Z",
     "start_time": "2024-12-16T05:41:26.352661Z"
    }
   },
   "outputs": [
    {
     "name": "stdout",
     "output_type": "stream",
     "text": [
      "1번째cost:1.9401994943618774\n",
      "601번째cost:0.2345426082611084\n",
      "1201번째cost:0.18538044393062592\n",
      "1801번째cost:0.15915437042713165\n",
      "2401번째cost:0.14050480723381042\n",
      "3001번째cost:0.12591640651226044\n",
      "3601번째cost:0.11400721967220306\n",
      "4201번째cost:0.10405190289020538\n",
      "4801번째cost:0.09559813886880875\n",
      "5401번째cost:0.08833412826061249\n",
      "최종cost:0.08205161243677139\n"
     ]
    }
   ],
   "source": [
    "# 교안 pt. 50\n",
    "x_data = np.array([[10,0],\n",
    "                   [8, 1],\n",
    "                   [3, 3],\n",
    "                   [2, 3],\n",
    "                   [5, 1],\n",
    "                   [2, 0],\n",
    "                   [1, 0]])\n",
    "y_data = np.array([[1],\n",
    "                   [1],\n",
    "                   [1],\n",
    "                   [1],\n",
    "                   [0],\n",
    "                   [0],\n",
    "                   [0]])\n",
    "\n",
    "# X,y\n",
    "X = tf.placeholder(shape=[None,2],dtype=tf.float32)\n",
    "y = tf.placeholder(shape=[None,1],dtype=tf.float32)\n",
    "# 독립변수가 2개 , 종속변수가 1개인 weight & bias\n",
    "W = tf.Variable(tf.random_normal([2,1]))\n",
    "b = tf.Variable(tf.random_normal([1]))\n",
    "# Hypothesis\n",
    "logits = tf.matmul(X,W) + b\n",
    "H = tf.sigmoid(logits)\n",
    "# cost 함수\n",
    "#cost= tf.reduce_mean(tf.square(H-y))\n",
    "cost = tf.reduce_mean(tf.nn.sigmoid_cross_entropy_with_logits(logits=logits,\n",
    "                                                             labels=y))\n",
    "# train\n",
    "train = tf.train.GradientDescentOptimizer(learning_rate=0.1).minimize(cost)\n",
    "# sess & 초기화\n",
    "sess = tf.Session()\n",
    "sess.run(tf.global_variables_initializer())\n",
    "# 학습\n",
    "for step in range(1, 6000):\n",
    "    _, cost_val = sess.run([train,cost],feed_dict={X:x_data,y:y_data})\n",
    "    \n",
    "    if step%600==1:\n",
    "        print(\"{}번째cost:{}\".format(step,cost_val))\n",
    "print(\"최종cost:{}\".format(cost_val))\n",
    "                                  \n",
    "\n",
    "\n"
   ]
  },
  {
   "cell_type": "code",
   "execution_count": 92,
   "id": "879bddc5",
   "metadata": {
    "ExecuteTime": {
     "end_time": "2024-12-16T05:46:21.754450Z",
     "start_time": "2024-12-16T05:46:21.678719Z"
    }
   },
   "outputs": [
    {
     "name": "stdout",
     "output_type": "stream",
     "text": [
      "모델의 정확도: 100.0 %\n"
     ]
    }
   ],
   "source": [
    "# accuracy\n",
    "predict =tf.cast(H>0.5,dtype= tf.float32)\n",
    "# sess.run(predict,feed_dict={X:x_data})\n",
    "correct = tf.equal(predict,y)\n",
    "#sess.run(correct,feed_dict={X:x_data,y:y_data})\n",
    "accuracy = tf.reduce_mean(tf.cast(correct,dtype=tf.float32))\n",
    "print('모델의 정확도:', sess.run(accuracy,feed_dict={X:x_data,y:y_data})*100,'%')"
   ]
  },
  {
   "cell_type": "code",
   "execution_count": 95,
   "id": "2a439e06",
   "metadata": {
    "ExecuteTime": {
     "end_time": "2024-12-16T05:49:35.870915Z",
     "start_time": "2024-12-16T05:49:35.822573Z"
    }
   },
   "outputs": [
    {
     "data": {
      "text/plain": [
       "array([[1.]], dtype=float32)"
      ]
     },
     "execution_count": 95,
     "metadata": {},
     "output_type": "execute_result"
    }
   ],
   "source": [
    "# 모델 사용하기 == 예측하기\n",
    "input_data = np.array([[10,3]])\n",
    "sess.run(predict,feed_dict={X:input_data})"
   ]
  },
  {
   "cell_type": "markdown",
   "id": "0946d517",
   "metadata": {},
   "source": [
    "# 4.분류분석\n",
    "- 종속변수가 2개이상\n",
    "- 교안 54pt\n"
   ]
  },
  {
   "cell_type": "code",
   "execution_count": 104,
   "id": "14baa77f",
   "metadata": {
    "ExecuteTime": {
     "end_time": "2024-12-16T06:25:41.072673Z",
     "start_time": "2024-12-16T06:25:41.057593Z"
    }
   },
   "outputs": [
    {
     "data": {
      "text/plain": [
       "((7, 4), (7, 3))"
      ]
     },
     "execution_count": 104,
     "metadata": {},
     "output_type": "execute_result"
    }
   ],
   "source": [
    "x_data = np.array([[10,7, 8, 5],\n",
    "                   [8, 8, 9, 4],\n",
    "                   [7, 8, 2, 3],\n",
    "                   [6, 3, 9, 3],\n",
    "                   [7, 5, 7, 4],\n",
    "                   [3, 5, 6, 2],\n",
    "                   [2, 4, 3, 1]])\n",
    "y_data = np.array([[\"A\"],\n",
    "                   [\"A\"],\n",
    "                   [\"B\"],\n",
    "                   [\"B\"],\n",
    "                   [\"B\"],\n",
    "                   [\"C\"],\n",
    "                   [\"C\"]])\n",
    "# 종속변수가 다중분류면 원핫 인코딩 ( 교안 58pt)\n",
    "# 원핫인코딩방법1\n",
    "from sklearn.preprocessing import LabelEncoder\n",
    "from tensorflow.keras.utils import to_categorical\n",
    "encoder = LabelEncoder()\n",
    "labeled_y_data = encoder.fit_transform(y_data.ravel())\n",
    "onehot_y_data = to_categorical(labeled_y_data)\n",
    "onehot_y_data\n",
    "#to_categorical(y_data)\n",
    "# 원핫 인코딩방법 2\n",
    "import pandas as pd\n",
    "encoder = LabelEncoder()\n",
    "labeled_y_data = encoder.fit_transform(y_data.ravel())\n",
    "onehot_y_data = pd.get_dummies(labeled_y_data).values # pd.get_dummies의 결과 데이터프레임\n",
    "onehot_y_data\n",
    "# 원핫인코딩방법3\n",
    "onehot_y_data = pd.get_dummies(y_data.ravel()).values\n",
    "x_data.shape,onehot_y_data.shape"
   ]
  },
  {
   "cell_type": "code",
   "execution_count": 105,
   "id": "84cb3d10",
   "metadata": {
    "ExecuteTime": {
     "end_time": "2024-12-16T06:29:05.896328Z",
     "start_time": "2024-12-16T06:29:05.889342Z"
    }
   },
   "outputs": [
    {
     "data": {
      "text/plain": [
       "array([[10,  7,  8,  5],\n",
       "       [ 8,  8,  9,  4],\n",
       "       [ 7,  8,  2,  3],\n",
       "       [ 6,  3,  9,  3],\n",
       "       [ 7,  5,  7,  4],\n",
       "       [ 3,  5,  6,  2],\n",
       "       [ 2,  4,  3,  1]])"
      ]
     },
     "execution_count": 105,
     "metadata": {},
     "output_type": "execute_result"
    }
   ],
   "source": [
    "x_data # 독립변수\n",
    "\n"
   ]
  },
  {
   "cell_type": "code",
   "execution_count": 106,
   "id": "381a3a7c",
   "metadata": {
    "ExecuteTime": {
     "end_time": "2024-12-16T06:29:16.614233Z",
     "start_time": "2024-12-16T06:29:16.608257Z"
    }
   },
   "outputs": [
    {
     "data": {
      "text/plain": [
       "array([[1, 0, 0],\n",
       "       [1, 0, 0],\n",
       "       [0, 1, 0],\n",
       "       [0, 1, 0],\n",
       "       [0, 1, 0],\n",
       "       [0, 0, 1],\n",
       "       [0, 0, 1]], dtype=uint8)"
      ]
     },
     "execution_count": 106,
     "metadata": {},
     "output_type": "execute_result"
    }
   ],
   "source": [
    "onehot_y_data # 종속변수"
   ]
  },
  {
   "cell_type": "code",
   "execution_count": 123,
   "id": "2e7237b2",
   "metadata": {
    "ExecuteTime": {
     "end_time": "2024-12-16T06:59:43.334377Z",
     "start_time": "2024-12-16T06:59:27.428349Z"
    }
   },
   "outputs": [
    {
     "name": "stdout",
     "output_type": "stream",
     "text": [
      "1번째cost:5.108121395111084\n",
      "1001번째cost:1.0702459812164307\n",
      "2001번째cost:0.05012881010770798\n",
      "3001번째cost:0.0390341654419899\n",
      "4001번째cost:0.0328034982085228\n",
      "5001번째cost:0.02845670096576214\n",
      "6001번째cost:0.02517475001513958\n",
      "7001번째cost:0.02258734405040741\n",
      "8001번째cost:0.020487839356064796\n",
      "9001번째cost:0.0187472365796566\n",
      "최종cost:0.01728086546063423\n"
     ]
    }
   ],
   "source": [
    "# X,y\n",
    "X = tf.placeholder(shape=[None,4],dtype=tf.float32)\n",
    "Y = tf.placeholder(shape=[None,3],dtype=tf.float32)\n",
    "# 독립변수가 4개 , 종속변수가 3개인 weight & bias\n",
    "W = tf.Variable(tf.random_normal([4,3]))\n",
    "b = tf.Variable(tf.random_normal([3]))\n",
    "# Hypothesis\n",
    "logits = tf.matmul(X,W) + b\n",
    "\n",
    "# H = tf.sigmoid(logits)(이진 분류)일 경우\n",
    "H = tf.nn.softmax(logits) #softmax : 종속변수들의 합이 1\n",
    "\n",
    "# cost 함수\n",
    "#cost= tf.reduce_mean(tf.square(H-y))\n",
    "cost = tf.reduce_mean(tf.nn.softmax_cross_entropy_with_logits_v2(logits=logits,\n",
    "                                                             labels=Y))\n",
    "# train\n",
    "train = tf.train.GradientDescentOptimizer(learning_rate=0.1).minimize(cost)\n",
    "# sess & 초기화\n",
    "sess = tf.Session()\n",
    "sess.run(tf.global_variables_initializer())\n",
    "# 학습\n",
    "for step in range(1, 10001):\n",
    "    _, cost_val = sess.run([train,cost],feed_dict={X:x_data,Y:onehot_y_data})\n",
    "    \n",
    "    if step%1000==1:\n",
    "        print(\"{}번째cost:{}\".format(step,cost_val))\n",
    "print(\"최종cost:{}\".format(cost_val))\n",
    "                                  \n",
    "\n"
   ]
  },
  {
   "cell_type": "code",
   "execution_count": 121,
   "id": "a05aea6f",
   "metadata": {
    "ExecuteTime": {
     "end_time": "2024-12-16T06:58:30.290883Z",
     "start_time": "2024-12-16T06:58:30.218548Z"
    }
   },
   "outputs": [
    {
     "name": "stdout",
     "output_type": "stream",
     "text": [
      "[0]\n"
     ]
    }
   ],
   "source": [
    "#예측하기\n",
    "input_data = np.array([[10,7,8,5]])\n",
    "y_hat = sess.run(H,feed_dict={X:input_data})\n",
    "y_hat\n",
    "print(y_hat.argmax(axis=1)) # argmax(axis=1) : 행별 최대값이 있는 index"
   ]
  },
  {
   "cell_type": "code",
   "execution_count": 124,
   "id": "6a4fc470",
   "metadata": {
    "ExecuteTime": {
     "end_time": "2024-12-16T06:59:47.988780Z",
     "start_time": "2024-12-16T06:59:47.884213Z"
    }
   },
   "outputs": [
    {
     "name": "stdout",
     "output_type": "stream",
     "text": [
      "100.0 %\n"
     ]
    }
   ],
   "source": [
    "# accuracy 측정\n",
    "# H(예측값) : 0.99 0.005 0.005 -> H.argmax -> 0\n",
    "# Y(실제값) : 1    0      0    -> Y.argmax -> 0\n",
    "\n",
    "predict = tf.argmax(H, axis = 1)\n",
    "# sess.run(predict,feed_dict={X:x_data})\n",
    "correct = tf.equal(predict,tf.argmax(Y,axis =1))\n",
    "# sess.run(correct,feed_dict={X:x_data,Y:onehot_y_data})\n",
    "accuracy = tf.reduce_mean(tf.cast(correct,dtype=tf.float32))\n",
    "print(sess.run(accuracy, feed_dict={X:x_data,Y:onehot_y_data})*100,'%')\n"
   ]
  },
  {
   "cell_type": "code",
   "execution_count": null,
   "id": "76b3a830",
   "metadata": {},
   "outputs": [],
   "source": [
    "\n"
   ]
  },
  {
   "cell_type": "code",
   "execution_count": null,
   "id": "4598695d",
   "metadata": {},
   "outputs": [],
   "source": []
  },
  {
   "cell_type": "code",
   "execution_count": null,
   "id": "3ae7657c",
   "metadata": {},
   "outputs": [],
   "source": []
  },
  {
   "cell_type": "code",
   "execution_count": null,
   "id": "bfe236ac",
   "metadata": {},
   "outputs": [],
   "source": []
  },
  {
   "cell_type": "code",
   "execution_count": null,
   "id": "7aa6457a",
   "metadata": {},
   "outputs": [],
   "source": [
    "\n"
   ]
  },
  {
   "cell_type": "code",
   "execution_count": null,
   "id": "1ed141c8",
   "metadata": {},
   "outputs": [],
   "source": []
  },
  {
   "cell_type": "code",
   "execution_count": null,
   "id": "c363b931",
   "metadata": {},
   "outputs": [],
   "source": []
  }
 ],
 "metadata": {
  "kernelspec": {
   "display_name": "Python 3 (ipykernel)",
   "language": "python",
   "name": "python3"
  },
  "language_info": {
   "codemirror_mode": {
    "name": "ipython",
    "version": 3
   },
   "file_extension": ".py",
   "mimetype": "text/x-python",
   "name": "python",
   "nbconvert_exporter": "python",
   "pygments_lexer": "ipython3",
   "version": "3.10.9"
  },
  "toc": {
   "base_numbering": 1,
   "nav_menu": {},
   "number_sections": true,
   "sideBar": true,
   "skip_h1_title": false,
   "title_cell": "Table of Contents",
   "title_sidebar": "Contents",
   "toc_cell": false,
   "toc_position": {
    "height": "calc(100% - 180px)",
    "left": "10px",
    "top": "150px",
    "width": "256.458px"
   },
   "toc_section_display": true,
   "toc_window_display": true
  }
 },
 "nbformat": 4,
 "nbformat_minor": 5
}
