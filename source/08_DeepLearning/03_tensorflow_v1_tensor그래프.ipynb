{
 "cells": [
  {
   "cell_type": "code",
   "execution_count": 1,
   "id": "b8fadb69",
   "metadata": {
    "ExecuteTime": {
     "end_time": "2024-12-13T05:20:55.601820Z",
     "start_time": "2024-12-13T05:20:55.580861Z"
    }
   },
   "outputs": [
    {
     "data": {
      "text/html": [
       "\n",
       "<style>\n",
       "div.container{width:80% !important;}\n",
       "div.CodeMirror {font-family:Consolas; font-size:12pt;}\n",
       "div.output {font-size:12pt; font-weight:bold;}\n",
       "div.input {font-family:Consolas; font-size:12pt;}\n",
       "div.prompt {min-width:70px;}\n",
       "div#toc-header{margin-top:150px;}\n",
       ".cm-s-ipython span.cm-comment{font-size:12pt; font-style:normal; color:orange;}\n",
       ".ansi-yellow-bg{color:black;font-size:15pt;}\n",
       "\n",
       "</style>\n",
       "<style>\n",
       "span.toc-item-num{display:none;}\n",
       "</style>\n"
      ],
      "text/plain": [
       "<IPython.core.display.HTML object>"
      ]
     },
     "metadata": {},
     "output_type": "display_data"
    }
   ],
   "source": [
    "from IPython.display import display, HTML\n",
    "display(HTML(\"\"\"\n",
    "<style>\n",
    "div.container{width:80% !important;}\n",
    "div.CodeMirror {font-family:Consolas; font-size:12pt;}\n",
    "div.output {font-size:12pt; font-weight:bold;}\n",
    "div.input {font-family:Consolas; font-size:12pt;}\n",
    "div.prompt {min-width:70px;}\n",
    "div#toc-header{margin-top:150px;}\n",
    ".cm-s-ipython span.cm-comment{font-size:12pt; font-style:normal; color:orange;}\n",
    ".ansi-yellow-bg{color:black;font-size:15pt;}\n",
    "\n",
    "</style>\n",
    "<style>\n",
    "span.toc-item-num{display:none;}\n",
    "</style>\n",
    "\"\"\"))"
   ]
  },
  {
   "cell_type": "markdown",
   "id": "31f8053f",
   "metadata": {},
   "source": [
    "# 1. tensorflow v2.xx에서 v1을 사용하기"
   ]
  },
  {
   "cell_type": "code",
   "execution_count": 5,
   "id": "a89761b5",
   "metadata": {
    "ExecuteTime": {
     "end_time": "2024-12-13T05:35:06.225109Z",
     "start_time": "2024-12-13T05:35:06.220112Z"
    }
   },
   "outputs": [],
   "source": [
    "import tensorflow.compat.v1 as tf\n",
    "tf.disable_v2_behavior()#  v2 비활성화하고 v1을 활성화"
   ]
  },
  {
   "cell_type": "markdown",
   "id": "a8ba9fc5",
   "metadata": {
    "ExecuteTime": {
     "end_time": "2024-12-13T00:58:56.545281Z",
     "start_time": "2024-12-13T00:58:56.523061Z"
    }
   },
   "source": [
    "# Tensorflow\n",
    "- 그래프를 정의(tensor객체의 흐름)\n",
    "- sess = tf.Session()을 실행\n",
    "- sess.run()을 통해 변수값을 확인할 수 있음"
   ]
  },
  {
   "cell_type": "code",
   "execution_count": 3,
   "id": "8afabace",
   "metadata": {
    "ExecuteTime": {
     "end_time": "2024-12-13T05:21:00.123699Z",
     "start_time": "2024-12-13T05:20:58.750396Z"
    }
   },
   "outputs": [
    {
     "name": "stdout",
     "output_type": "stream",
     "text": [
      "b'Hello,Tensorflow'\n",
      "b'Hello,Tensorflow'\n"
     ]
    },
    {
     "ename": "AttributeError",
     "evalue": "'NoneType' object has no attribute 'Decoding'",
     "output_type": "error",
     "traceback": [
      "\u001b[1;31m---------------------------------------------------------------------------\u001b[0m",
      "\u001b[1;31mAttributeError\u001b[0m                            Traceback (most recent call last)",
      "Cell \u001b[1;32mIn[3], line 5\u001b[0m\n\u001b[0;32m      3\u001b[0m sess \u001b[38;5;241m=\u001b[39m tf\u001b[38;5;241m.\u001b[39mSession()\n\u001b[0;32m      4\u001b[0m \u001b[38;5;28mprint\u001b[39m(sess\u001b[38;5;241m.\u001b[39mrun(node1))\n\u001b[1;32m----> 5\u001b[0m \u001b[38;5;28;43mprint\u001b[39;49m\u001b[43m(\u001b[49m\u001b[43msess\u001b[49m\u001b[38;5;241;43m.\u001b[39;49m\u001b[43mrun\u001b[49m\u001b[43m(\u001b[49m\u001b[43mnode1\u001b[49m\u001b[43m)\u001b[49m\u001b[43m)\u001b[49m\u001b[38;5;241;43m.\u001b[39;49m\u001b[43mDecoding\u001b[49m()\n",
      "\u001b[1;31mAttributeError\u001b[0m: 'NoneType' object has no attribute 'Decoding'"
     ]
    }
   ],
   "source": [
    "# tensor = data(상수,변수)와 연산\n",
    "node1= tf.constant('Hello,Tensorflow')\n",
    "sess = tf.Session()\n",
    "print(sess.run(node1))\n",
    "print(sess.run(node1)).Decoding()"
   ]
  },
  {
   "cell_type": "code",
   "execution_count": null,
   "id": "cf267aa9",
   "metadata": {
    "ExecuteTime": {
     "end_time": "2024-12-13T05:21:00.127650Z",
     "start_time": "2024-12-13T05:21:00.127650Z"
    }
   },
   "outputs": [],
   "source": [
    "# 간단한 수학 연산 tensor 그래프\n",
    "node1 = tf.constant(10,dtype = tf.float16)\n",
    "node2 = tf.constant(20,dtype = tf.float16)\n",
    "node3 = tf.add(node1,node2)\n",
    "sess = tf.Session()\n",
    "print(sess.run([node1,node2,node3]))"
   ]
  },
  {
   "cell_type": "code",
   "execution_count": 6,
   "id": "d396b7d2",
   "metadata": {
    "ExecuteTime": {
     "end_time": "2024-12-13T05:35:11.307351Z",
     "start_time": "2024-12-13T05:35:11.067943Z"
    }
   },
   "outputs": [
    {
     "data": {
      "text/plain": [
       "[array([1, 2, 3], dtype=int16), array([1., 2., 3.], dtype=float32)]"
      ]
     },
     "execution_count": 6,
     "metadata": {},
     "output_type": "execute_result"
    }
   ],
   "source": [
    "# 타입 변경\n",
    "import numpy as np\n",
    "node1 = tf.constant(np.array([1,2,3]),dtype=tf.int16)\n",
    "node2 = tf.cast(node1,dtype = tf.float32)\n",
    "sess = tf.Session()\n",
    "sess.run([node1,node2])"
   ]
  },
  {
   "cell_type": "code",
   "execution_count": null,
   "id": "10ea5741",
   "metadata": {
    "ExecuteTime": {
     "end_time": "2024-12-13T05:21:00.132637Z",
     "start_time": "2024-12-13T05:21:00.132637Z"
    }
   },
   "outputs": [],
   "source": [
    "# 평균값 계산: tf.reduce_mean()\n",
    "data = np.array([1.,2.,3.,4.])\n",
    "m = tf.reduce_mean(data)\n",
    "sess = tf.Session()\n",
    "sess.run(m)"
   ]
  },
  {
   "cell_type": "code",
   "execution_count": null,
   "id": "1aeabc84",
   "metadata": {
    "ExecuteTime": {
     "end_time": "2024-12-13T05:21:00.134632Z",
     "start_time": "2024-12-13T05:21:00.134632Z"
    }
   },
   "outputs": [],
   "source": [
    "# tf.random_normal([size]) : 평균 0이고, 표준편차가 1인 난수 size 개 발생, 난수갯수: 독립변수갯수\n",
    "import matplotlib.pyplot as plt\n",
    "tensor = tf.random_normal([1000]) # 평균 0 표준편차가 1인 난수 2(정규분포난수)\n",
    "sess = tf.Session()\n",
    "plt.hist(sess.run(tensor))\n",
    "plt.show()"
   ]
  },
  {
   "cell_type": "markdown",
   "id": "52eb74e7",
   "metadata": {},
   "source": [
    "# 2.tensorflow v1 을 이용한 linear regression 을 구현\n",
    "## 2.1 독립변수 x가 1개, 종속변수 y가 1개"
   ]
  },
  {
   "cell_type": "code",
   "execution_count": null,
   "id": "60f5cc88",
   "metadata": {
    "ExecuteTime": {
     "end_time": "2024-12-13T05:21:00.136626Z",
     "start_time": "2024-12-13T05:21:00.136626Z"
    }
   },
   "outputs": [],
   "source": [
    "# tensor 그래프(객체 흐름) 정의\n",
    "# data set(x,y)\n",
    "x = np.array([1,2,3])\n",
    "y = np.array([1,2,3])\n",
    "\n",
    "# w = weight와 bias(처음에는 랜덤값으로 셋팅했다가, 학습과정에서 변경)\n",
    "W = tf.Variable([tf.random.normal([1])],name='weight')\n",
    "b = tf.Variable(tf.random.normal([1]),name='bias')\n",
    "\n",
    "# Hypothesis\n",
    "H = W*x +b\n",
    "\n",
    "# cost function (손실함수 = mse : 최소제곱법)\n",
    "cost = tf.reduce_mean(tf.square(H-y))\n",
    "'''\n",
    "학습목적 : cost가 최소가 되는 w랑 b를 구하는것\n",
    "cost 함수는 2차함수이므로 곡선 그래프. 곡순위 미분값이 줄어드는 방향으로 학습(경사하강법)\n",
    "\n",
    "\n",
    "'''\n",
    "optimizer = tf.train.GradientDescentOptimizer(learning_rate=0.01)\n",
    "train = optimizer.minimize(cost)\n",
    "# Session 생성\n",
    "sess = tf.Session()\n",
    "# tf.Variable 변수 노드 (W,b)초기화\n",
    "sess.run(tf.global_variables_initializer())\n",
    "# 6000번 함수 (v2 에서의 fit 함수)\n",
    "for step in range(0,6001):\n",
    "    _, cost_val,W_val,b_val = sess.run([train,cost,W,b])\n",
    "    if step%300==0:\n",
    "        print(\"{}번째 cost:{},W:{},b:{}\".format(step,cost_val,W_val,b_val))\n",
    "    \n"
   ]
  },
  {
   "cell_type": "code",
   "execution_count": null,
   "id": "aa9eb1f6",
   "metadata": {
    "ExecuteTime": {
     "end_time": "2024-12-13T05:21:00.139618Z",
     "start_time": "2024-12-13T05:21:00.139618Z"
    }
   },
   "outputs": [],
   "source": [
    "#최종적으로 나온 회귀식 H= W*x + b\n",
    "sess.run([W,b])\n"
   ]
  },
  {
   "cell_type": "code",
   "execution_count": null,
   "id": "08b1a703",
   "metadata": {
    "ExecuteTime": {
     "end_time": "2024-12-13T05:21:00.140614Z",
     "start_time": "2024-12-13T05:21:00.140614Z"
    }
   },
   "outputs": [],
   "source": [
    "W_,b_ = sess.run([W,b])\n",
    "W_,b_\n"
   ]
  },
  {
   "cell_type": "code",
   "execution_count": null,
   "id": "426ee5c2",
   "metadata": {
    "ExecuteTime": {
     "end_time": "2024-12-13T05:21:00.143607Z",
     "start_time": "2024-12-13T05:21:00.143607Z"
    }
   },
   "outputs": [],
   "source": [
    "print('최종회귀식 : H = {}*x+{}'.format(W_[0],b_[0]))"
   ]
  },
  {
   "cell_type": "code",
   "execution_count": null,
   "id": "35149344",
   "metadata": {
    "ExecuteTime": {
     "end_time": "2024-12-13T05:21:00.146608Z",
     "start_time": "2024-12-13T05:21:00.146608Z"
    }
   },
   "outputs": [],
   "source": [
    "def to_predict(x):\n",
    "    return W_[0]*x+b_[0]"
   ]
  },
  {
   "cell_type": "code",
   "execution_count": null,
   "id": "92b7351b",
   "metadata": {
    "ExecuteTime": {
     "end_time": "2024-12-13T05:21:00.150589Z",
     "start_time": "2024-12-13T05:21:00.150589Z"
    }
   },
   "outputs": [],
   "source": [
    "to_predict(3)"
   ]
  },
  {
   "cell_type": "markdown",
   "id": "4a5100db",
   "metadata": {},
   "source": [
    "## 2.2 predict을 하기위한 placeholder 이용\n",
    "- place\n"
   ]
  },
  {
   "cell_type": "code",
   "execution_count": null,
   "id": "f9fb3749",
   "metadata": {
    "ExecuteTime": {
     "end_time": "2024-12-13T05:21:00.151586Z",
     "start_time": "2024-12-13T05:21:00.151586Z"
    }
   },
   "outputs": [],
   "source": [
    "a = tf.placeholder(tf.float16)\n",
    "b = tf.placeholder(tf.float16)\n",
    "ab = tf.add(a,b)\n",
    "sess = tf.Session()\n",
    "sess.run([a,b,ab], feed_dict ={a:10,b:20})"
   ]
  },
  {
   "cell_type": "code",
   "execution_count": null,
   "id": "95a1b446",
   "metadata": {
    "ExecuteTime": {
     "end_time": "2024-12-13T05:21:00.155590Z",
     "start_time": "2024-12-13T05:21:00.155590Z"
    }
   },
   "outputs": [],
   "source": [
    "sess.run(ab, feed_dict = {a:np.array([1,2,3]), b:np.array([1,2,3])})\n"
   ]
  },
  {
   "cell_type": "code",
   "execution_count": null,
   "id": "daa3b6b8",
   "metadata": {
    "ExecuteTime": {
     "end_time": "2024-12-13T05:21:00.157599Z",
     "start_time": "2024-12-13T05:21:00.157599Z"
    }
   },
   "outputs": [],
   "source": [
    "# data set\n",
    "x_data = np.array([1,2,3,5,8])\n",
    "y_data = np.array([3,5,7,11,17])\n",
    "\n",
    "# placeholder 설정(x,y)\n",
    "x = tf.placeholder(dtype=tf.float32)\n",
    "y = tf.placeholder(dtype=tf.float32)\n",
    "# weight & bias\n",
    "W = tf.Variable(tf.random.normal([1]),name='weight')\n",
    "b = tf.Variable(tf.random.normal([1]),name = 'bias')\n",
    "# Hypothesis\n",
    "H = W*x + b\n",
    "# cost function == Loss function\n",
    "cost = tf.reduce_mean(tf.square(H-y))\n",
    "#  경사하강법\n",
    "train = tf.train.GradientDescentOptimizer(learning_rate=0.001).minimize(cost)\n",
    "\n",
    "# session 생성 & 변수초기화 \n",
    "sess = tf.Session()\n",
    "sess.run(tf.global_variables_initializer())\n",
    "# 학습 6000번\n",
    "for step in range(6000):\n",
    "    _, cost_val,W_val,b_val = sess.run([train,cost,W,b],feed_dict={x:x_data,y:y_data})\n",
    "    if step % 200 == 0:\n",
    "        print(\"{}/6000번째 cost:{},W:{},b:{}\".format(step+1,cost_val,W_val,b_val))\n",
    "         "
   ]
  },
  {
   "cell_type": "code",
   "execution_count": null,
   "id": "c62d1fe4",
   "metadata": {
    "ExecuteTime": {
     "end_time": "2024-12-13T05:21:00.159567Z",
     "start_time": "2024-12-13T05:21:00.159567Z"
    }
   },
   "outputs": [],
   "source": [
    "# 최종 W,b\n",
    "sess.run([W,b])"
   ]
  },
  {
   "cell_type": "code",
   "execution_count": null,
   "id": "824ff0a7",
   "metadata": {
    "ExecuteTime": {
     "end_time": "2024-12-13T05:21:00.162557Z",
     "start_time": "2024-12-13T05:21:00.162557Z"
    }
   },
   "outputs": [],
   "source": [
    "#예측하기\n",
    "sess.run(H, feed_dict={x:5})"
   ]
  },
  {
   "cell_type": "code",
   "execution_count": null,
   "id": "c0ba6519",
   "metadata": {
    "ExecuteTime": {
     "end_time": "2024-12-13T05:21:00.165549Z",
     "start_time": "2024-12-13T05:21:00.165549Z"
    }
   },
   "outputs": [],
   "source": [
    "sess.run(H,feed_dict={x:np.array([5,6,7])})"
   ]
  },
  {
   "cell_type": "markdown",
   "id": "70fbde60",
   "metadata": {},
   "source": [
    "## 2.3 scale 이 다른 데이터들 linear regression 구현"
   ]
  },
  {
   "cell_type": "code",
   "execution_count": null,
   "id": "d234ad03",
   "metadata": {
    "ExecuteTime": {
     "end_time": "2024-12-13T05:21:00.168541Z",
     "start_time": "2024-12-13T05:21:00.168541Z"
    }
   },
   "outputs": [],
   "source": [
    "x_data = np.array([1,2,5,8,10])\n",
    "y_data = np.array([5,15,68,80,95])\n",
    "\n",
    "# placeholder 설정\n",
    "x = tf.placeholder(dtype=tf.float32)\n",
    "y = tf.placeholder(dtype=tf.float32)\n",
    "# weight & bias\n",
    "W = tf.Variable(tf.random.normal([1]),name = 'weight')\n",
    "b = tf.Variable(tf.random.normal([1]))\n",
    "\n",
    "# Hypothesis\n",
    "H = W*x +b\n",
    "# cost function (loss function ; 손실함수)\n",
    "cost=tf.reduce_mean(tf.square(H - y))\n",
    "# 경사하강법\n",
    "optimizer= tf.train.GradientDescentOptimizer(learning_rate=0.01)\n",
    "train= optimizer.minimize(cost)\n",
    "# Session & Variable 초기화\n",
    "sess = tf.Session()\n",
    "sess.run(tf.global_variables_initializer())\n",
    "\n",
    "# 학습\n",
    "for step in range (1,6001):\n",
    "        _, cost_val,W_val,b_val = sess.run([train, cost,W,b],\n",
    "                                          feed_dict={x:x_data,y:y_data})\n",
    "        \n",
    "        if step%300==1:\n",
    "            print(\"{}/6000번째 cost:{},W:{},b:{}\".format(step,cost_val,W_val,b_val))"
   ]
  },
  {
   "cell_type": "code",
   "execution_count": null,
   "id": "e31e6752",
   "metadata": {
    "ExecuteTime": {
     "end_time": "2024-12-13T05:21:00.169539Z",
     "start_time": "2024-12-13T05:21:00.169539Z"
    }
   },
   "outputs": [],
   "source": [
    "# 예측 \n",
    "sess.run(H, feed_dict={x:5})"
   ]
  },
  {
   "cell_type": "code",
   "execution_count": null,
   "id": "e661c587",
   "metadata": {
    "ExecuteTime": {
     "end_time": "2024-12-13T05:21:00.173527Z",
     "start_time": "2024-12-13T05:21:00.173527Z"
    }
   },
   "outputs": [],
   "source": [
    "# cost값이 멈춤 :local 최소값\n"
   ]
  },
  {
   "cell_type": "markdown",
   "id": "6277b6d4",
   "metadata": {},
   "source": [
    "## 2.4 scale이 다른 데이터들의 linear regression을 구현(조정 o)\n",
    "### scale을 맞추기\n",
    "- normalization(정규화) : 데이터의 최대값을 1 , 최소값을 0으로 변환\n",
    "                      x-Xmin\n",
    "    normalization = ─────────── \n",
    "                    Xmax - Xmin\n",
    "        * 위의 식을 써도 되지만 라이브러리를 주로 씀(sklearn.preprocessing.MinMaxScaler이용\n",
    "- standardization(표준화) : 데이터의 평균을 0,표준편차를 1로 조정\n",
    "                        x-Xmean(평균)\n",
    "     standardization = ─────────────────\n",
    "                        Xstd(표준편차)\n",
    "                       * 위의 식을 써도 되지만 라이브러리를 주로 씀(sklearn.preprocessing.StandardScaler이용)"
   ]
  },
  {
   "cell_type": "code",
   "execution_count": 8,
   "id": "8e51965c",
   "metadata": {
    "ExecuteTime": {
     "end_time": "2024-12-13T05:35:28.115923Z",
     "start_time": "2024-12-13T05:35:28.107953Z"
    }
   },
   "outputs": [
    {
     "name": "stdout",
     "output_type": "stream",
     "text": [
      "[0.         0.11111111 0.44444444 0.77777778 1.        ]\n",
      "[0.         0.11111111 0.7        0.83333333 1.        ]\n"
     ]
    }
   ],
   "source": [
    "# 라이브러리를 쓰지않고 정규화 : 예측할 경우 x데이터의 스케일을 하고, 스케일된 예측값을 변환이 번거로움\n",
    "x_data = np.array([1,2,5,8,10])\n",
    "y_data = np.array([5,15,68,80,95])\n",
    "\n",
    "\n",
    "scaled_x_data = (x_data - x_data.min())/ (x_data.max()-x_data.min())\n",
    "scaled_y_data = (y_data - y_data.min()) / (y_data.max()-y_data.min())\n",
    "print(scaled_x_data)\n",
    "print(scaled_y_data)\n"
   ]
  },
  {
   "cell_type": "code",
   "execution_count": 11,
   "id": "5af9e71d",
   "metadata": {
    "ExecuteTime": {
     "end_time": "2024-12-13T05:37:54.289876Z",
     "start_time": "2024-12-13T05:37:54.283871Z"
    }
   },
   "outputs": [
    {
     "data": {
      "text/plain": [
       "0.4444444444444444"
      ]
     },
     "execution_count": 11,
     "metadata": {},
     "output_type": "execute_result"
    }
   ],
   "source": [
    "x = (5- x_data.min())/(x_data.max()-x_data.min())\n",
    "x"
   ]
  },
  {
   "cell_type": "code",
   "execution_count": 16,
   "id": "405999fb",
   "metadata": {
    "ExecuteTime": {
     "end_time": "2024-12-13T05:52:30.838474Z",
     "start_time": "2024-12-13T05:52:17.531913Z"
    }
   },
   "outputs": [
    {
     "name": "stdout",
     "output_type": "stream",
     "text": [
      "위의 x데이터: [ 1  2  5  8 10]\n",
      "1/6000번째 cost:0.24475941061973572,W:[0.6790333],b:[-0.25543872]\n",
      "301/6000번째 cost:0.06408937275409698,W:[0.79443115],b:[-0.05908378]\n",
      "601/6000번째 cost:0.023451710119843483,W:[0.8532046],b:[0.03155867]\n",
      "901/6000번째 cost:0.014162952080368996,W:[0.88491565],b:[0.07235717]\n",
      "1201/6000번째 cost:0.011911621317267418,W:[0.90356374],b:[0.08972309]\n",
      "1501/6000번째 cost:0.011256897822022438,W:[0.91578823],b:[0.09613727]\n",
      "1801/6000번째 cost:0.010979014448821545,W:[0.92474407],b:[0.09749367]\n",
      "2101/6000번째 cost:0.010802561417222023,W:[0.9319399],b:[0.09657132]\n",
      "2401/6000번째 cost:0.010663690976798534,W:[0.93810403],b:[0.094677]\n",
      "2701/6000번째 cost:0.010546206496655941,W:[0.9435933],b:[0.09242138]\n",
      "3001/6000번째 cost:0.01044477429240942,W:[0.94859],b:[0.09008661]\n",
      "3301/6000번째 cost:0.010356731712818146,W:[0.9531918],b:[0.08780011]\n",
      "3601/6000번째 cost:0.010280219838023186,W:[0.95745534],b:[0.0856162]\n",
      "3901/6000번째 cost:0.010213697329163551,W:[0.9614181],b:[0.08355529]\n",
      "4201/6000번째 cost:0.010155854746699333,W:[0.96510726],b:[0.08162193]\n",
      "4501/6000번째 cost:0.010105554945766926,W:[0.96854466],b:[0.07981361]\n",
      "4801/6000번째 cost:0.010061820968985558,W:[0.97174835],b:[0.07812478]\n",
      "5101/6000번째 cost:0.01002378948032856,W:[0.9747353],b:[0.07654873]\n",
      "5401/6000번째 cost:0.009990721009671688,W:[0.9775203],b:[0.07507849]\n",
      "5701/6000번째 cost:0.00996196549385786,W:[0.980117],b:[0.07370726]\n"
     ]
    }
   ],
   "source": [
    "# 라이브러리를 쓰지않고 정규화 \n",
    "x_data = np.array([1,2,5,8,10])\n",
    "print('위의 x데이터:',x_data)\n",
    "x_data = np.array([1,2,5,8,10]).reshape(-1,1)\n",
    "y_data = np.array([5,15,68,80,95]).reshape(-1,1)\n",
    "\n",
    "from sklearn.preprocessing import MinMaxScaler\n",
    "scaler_x = MinMaxScaler() # x_data를 표준화 시킬객체\n",
    "scaler_x.fit(x_data)\n",
    "scaled_x_data = scaler_x.transform(x_data)\n",
    "scaled_y = MinMaxScaler() # y_data를 표준화 시킬 객체\n",
    "scaled_y.fit(y_data)\n",
    "scaled_y_data= scaled_y.transform(y_data)\n",
    "np.column_stack([x_data,scaled_x_data,y_data,scaled_y_data])\n",
    "\n",
    "# placeholder 설정\n",
    "x = tf.placeholder(dtype=tf.float32)\n",
    "y = tf.placeholder(dtype=tf.float32)\n",
    "# weight & bias\n",
    "W = tf.Variable(tf.random.normal([1]),name = 'weight')\n",
    "b = tf.Variable(tf.random.normal([1]))\n",
    "\n",
    "# Hypothesis\n",
    "H = W*x +b\n",
    "# cost function (loss function ; 손실함수)\n",
    "cost=tf.reduce_mean(tf.square(H - y))\n",
    "# 경사하강법\n",
    "optimizer= tf.train.GradientDescentOptimizer(learning_rate=0.001)\n",
    "train= optimizer.minimize(cost)\n",
    "# Session & Variable 초기화\n",
    "sess = tf.Session()\n",
    "sess.run(tf.global_variables_initializer())\n",
    "\n",
    "# 학습\n",
    "for step in range (1,6001):\n",
    "        _, cost_val,W_val,b_val = sess.run([train, cost,W,b],\n",
    "                                          feed_dict={x:scaled_x_data,y:scaled_y_data})\n",
    "        \n",
    "        if step%300==1:\n",
    "            print(\"{}/6000번째 cost:{},W:{},b:{}\".format(step,cost_val,W_val,b_val))"
   ]
  },
  {
   "cell_type": "code",
   "execution_count": 20,
   "id": "3c8e8b96",
   "metadata": {
    "ExecuteTime": {
     "end_time": "2024-12-13T05:58:54.716940Z",
     "start_time": "2024-12-13T05:58:54.707964Z"
    }
   },
   "outputs": [
    {
     "name": "stdout",
     "output_type": "stream",
     "text": [
      "2를 스케일 조정된 값: [[0.11111111]]\n",
      "예측값: [[21.343945]]\n"
     ]
    }
   ],
   "source": [
    "# 예측\n",
    "scaled_input=scaler_x.transform(np.array([[2]]))\n",
    "print(\"2를 스케일 조정된 값:\", scaled_input)\n",
    "scaled_output =sess.run(H,feed_dict={x:scaled_input})\n",
    "print('예측값:',scaled_y.inverse_transform(scaled_output))\n"
   ]
  },
  {
   "cell_type": "code",
   "execution_count": 28,
   "id": "21c2d5aa",
   "metadata": {
    "ExecuteTime": {
     "end_time": "2024-12-13T06:18:10.731778Z",
     "start_time": "2024-12-13T06:18:10.707841Z"
    }
   },
   "outputs": [
    {
     "data": {
      "text/plain": [
       "array([[ 5.        , 11.51856041],\n",
       "       [15.        , 21.34394455],\n",
       "       [68.        , 50.82010269],\n",
       "       [80.        , 80.29626465],\n",
       "       [95.        , 99.94702911]])"
      ]
     },
     "execution_count": 28,
     "metadata": {},
     "output_type": "execute_result"
    }
   ],
   "source": [
    "scaled_y_hat = sess.run(H, feed_dict={x:scaled_x_data})\n",
    "y_hat = scaled_y.inverse_transform(scaled_y_hat)\n",
    "np.column_stack([y_data,y_hat])"
   ]
  },
  {
   "cell_type": "code",
   "execution_count": 29,
   "id": "8b9f4a7f",
   "metadata": {
    "ExecuteTime": {
     "end_time": "2024-12-13T06:18:27.593334Z",
     "start_time": "2024-12-13T06:18:27.420191Z"
    }
   },
   "outputs": [
    {
     "data": {
      "text/plain": [
       "[<matplotlib.lines.Line2D at 0x128b6356260>]"
      ]
     },
     "execution_count": 29,
     "metadata": {},
     "output_type": "execute_result"
    },
    {
     "data": {
      "image/png": "[encoded data removed]",
      "text/plain": [
       "<Figure size 640x480 with 1 Axes>"
      ]
     },
     "metadata": {},
     "output_type": "display_data"
    }
   ],
   "source": [
    "import matplotlib.pyplot as plt\n",
    "plt.plot(x_data,y_data)\n",
    "plt.plot(x_data,y_hat)"
   ]
  },
  {
   "cell_type": "code",
   "execution_count": 30,
   "id": "4b2f4172",
   "metadata": {
    "ExecuteTime": {
     "end_time": "2024-12-13T06:24:48.884966Z",
     "start_time": "2024-12-13T06:24:48.380564Z"
    }
   },
   "outputs": [
    {
     "data": {
      "image/png": "[encoded data removed]",
      "text/plain": [
       "<Figure size 640x480 with 1 Axes>"
      ]
     },
     "metadata": {},
     "output_type": "display_data"
    }
   ],
   "source": [
    "import seaborn as sns\n",
    "import pandas as pd\n",
    "df = pd.DataFrame({'x':x_data[:,0],'y':y_data[:,0]})\n",
    "sns.regplot(data = df,x='x',y='y')\n",
    "plt.show()"
   ]
  },
  {
   "cell_type": "code",
   "execution_count": 35,
   "id": "2fcd14d5",
   "metadata": {
    "ExecuteTime": {
     "end_time": "2024-12-13T06:39:47.148485Z",
     "start_time": "2024-12-13T06:39:47.140363Z"
    }
   },
   "outputs": [
    {
     "data": {
      "text/plain": [
       "array([[-1.22474487, -1.32373476],\n",
       "       [-0.93313895, -1.04563922],\n",
       "       [-0.05832118,  0.42826713],\n",
       "       [ 0.81649658,  0.76198177],\n",
       "       [ 1.39970842,  1.17912508]])"
      ]
     },
     "execution_count": 35,
     "metadata": {},
     "output_type": "execute_result"
    }
   ],
   "source": [
    "# 라이브러리를 쓰지 않고 표준화\n",
    "x_data = np.array([1,2,5,8,10])\n",
    "y_data = np.array([5,15,68,80,95])\n",
    "scaled_x_data = (x_data - x_data.mean()) / x_data.std()\n",
    "scaled_y_data = (y_data - y_data.mean()) / y_data.std()\n",
    "np.column_stack([scaled_x_data, scaled_y_data])"
   ]
  },
  {
   "cell_type": "code",
   "execution_count": 48,
   "id": "0776293e",
   "metadata": {
    "ExecuteTime": {
     "end_time": "2024-12-13T06:50:49.349354Z",
     "start_time": "2024-12-13T06:50:27.404304Z"
    }
   },
   "outputs": [
    {
     "name": "stdout",
     "output_type": "stream",
     "text": [
      "1/10000번째 cost:1.3072694540023804,W:[0.37781426],b:[-0.94692427]\n",
      "1001/10000번째 cost:0.08393538743257523,W:[0.88907814],b:[-0.1278957]\n",
      "2001/10000번째 cost:0.0616188645362854,W:[0.9581317],b:[-0.01727416]\n",
      "3001/10000번째 cost:0.06121174618601799,W:[0.96745825],b:[-0.00233312]\n",
      "4001/10000번째 cost:0.061204325407743454,W:[0.968718],b:[-0.00031512]\n",
      "5001/10000번째 cost:0.06120418384671211,W:[0.9688861],b:[-4.2561314e-05]\n",
      "6001/10000번째 cost:0.06120418384671211,W:[0.9688999],b:[-5.7414045e-06]\n",
      "7001/10000번째 cost:0.06120418384671211,W:[0.9688999],b:[-7.68358e-07]\n",
      "8001/10000번째 cost:0.061204176396131516,W:[0.9688999],b:[-9.6479155e-08]\n",
      "9001/10000번째 cost:0.06120418384671211,W:[0.9688999],b:[-2.6548458e-08]\n"
     ]
    }
   ],
   "source": [
    "# 라이브러리를 써서 표준화\n",
    "x_data = np.array([1,2,5,8,10]).reshape(-1,1)\n",
    "y_data = np.array([5,15,68,80,95]).reshape(-1,1)\n",
    "from sklearn.preprocessing import StandardScaler\n",
    "scaler_x= StandardScaler()\n",
    "scaler_x.fit(x_data)\n",
    "scaled_x_data = scaler_x.transform(x_data)\n",
    "\n",
    "scaler_y= StandardScaler()\n",
    "scaler_y.fit(y_data)\n",
    "scaled_y_data = scaler_y.transform(y_data)\n",
    "\n",
    "np.column_stack([x_data,scaled_x_data])\n",
    "np.column_stack([y_data,scaled_y_data])\n",
    "\n",
    "# placeholder 설정\n",
    "x = tf.placeholder(dtype=tf.float32)\n",
    "y = tf.placeholder(dtype=tf.float32)\n",
    "# weight & bias\n",
    "W = tf.Variable(tf.random.normal([1]),name = 'weight')\n",
    "b = tf.Variable(tf.random.normal([1]))\n",
    "\n",
    "# Hypothesis\n",
    "H = W*x +b\n",
    "# cost function (loss function ; 손실함수)\n",
    "cost=tf.reduce_mean(tf.square(H - y))\n",
    "# 경사하강법\n",
    "optimizer= tf.train.GradientDescentOptimizer(learning_rate=0.001)\n",
    "train= optimizer.minimize(cost)\n",
    "# Session & Variable 초기화\n",
    "sess = tf.Session()\n",
    "sess.run(tf.global_variables_initializer())\n",
    "\n",
    "# 학습\n",
    "for step in range (1,10000):\n",
    "        _, cost_val,W_val,b_val = sess.run([train, cost,W,b],\n",
    "                                          feed_dict={x:scaled_x_data,y:scaled_y_data})\n",
    "        \n",
    "        if step%1000==1:\n",
    "            print(\"{}/10000번째 cost:{},W:{},b:{}\".format(step,cost_val,W_val,b_val))\n"
   ]
  },
  {
   "cell_type": "markdown",
   "id": "d09125db",
   "metadata": {},
   "source": [
    "# 2.5 독립변수 x가 여러개인 linear regression"
   ]
  },
  {
   "cell_type": "code",
   "execution_count": 11,
   "id": "a08cff7a",
   "metadata": {
    "ExecuteTime": {
     "end_time": "2024-12-13T08:58:25.592519Z",
     "start_time": "2024-12-13T08:58:25.588530Z"
    }
   },
   "outputs": [],
   "source": [
    "import pandas as pd\n",
    "import numpy as np"
   ]
  },
  {
   "cell_type": "markdown",
   "id": "c841ebe5",
   "metadata": {},
   "source": [
    "csv를 array로 읽어오기"
   ]
  },
  {
   "cell_type": "code",
   "execution_count": 9,
   "id": "40b3aead",
   "metadata": {
    "ExecuteTime": {
     "end_time": "2024-12-13T08:52:32.721507Z",
     "start_time": "2024-12-13T08:52:32.709538Z"
    }
   },
   "outputs": [
    {
     "data": {
      "text/plain": [
       "((111, 4), (111,))"
      ]
     },
     "execution_count": 9,
     "metadata": {},
     "output_type": "execute_result"
    }
   ],
   "source": [
    "#  방법 1: csv -> 데이터프레임 -> 넘파이 배열\n",
    "# 1.csv를 dataFrame 읽어와\n",
    "data = pd.read_csv('data/ozone.csv')\n",
    "# 2. 결측치대체 or 삭제\n",
    "#data.fillna(value=data.mean(),inplace=True)\n",
    "data.dropna(how='any',axis=0,inplace=True)\n",
    "X = data[['Ozone','Solar.R','Wind','Temp']].values\n",
    "y= data['Ozone'].values\n",
    "X.shape,y.shape"
   ]
  },
  {
   "cell_type": "code",
   "execution_count": 12,
   "id": "8a0f4ef2",
   "metadata": {
    "ExecuteTime": {
     "end_time": "2024-12-13T08:58:26.990996Z",
     "start_time": "2024-12-13T08:58:26.972059Z"
    }
   },
   "outputs": [
    {
     "data": {
      "text/plain": [
       "array([[ 41. , 190. ,   7.4,  67. ,   5. ,   1. ],\n",
       "       [ 36. , 118. ,   8. ,  72. ,   5. ,   2. ],\n",
       "       [ 12. , 149. ,  12.6,  74. ,   5. ,   3. ],\n",
       "       [ 18. , 313. ,  11.5,  62. ,   5. ,   4. ],\n",
       "       [  nan,   nan,  14.3,  56. ,   5. ,   5. ],\n",
       "       [ 28. ,   nan,  14.9,  66. ,   5. ,   6. ],\n",
       "       [ 23. , 299. ,   8.6,  65. ,   5. ,   7. ],\n",
       "       [ 19. ,  99. ,  13.8,  59. ,   5. ,   8. ],\n",
       "       [  8. ,  19. ,  20.1,  61. ,   5. ,   9. ],\n",
       "       [  nan, 194. ,   8.6,  69. ,   5. ,  10. ],\n",
       "       [  7. ,   nan,   6.9,  74. ,   5. ,  11. ],\n",
       "       [ 16. , 256. ,   9.7,  69. ,   5. ,  12. ],\n",
       "       [ 11. , 290. ,   9.2,  66. ,   5. ,  13. ],\n",
       "       [ 14. , 274. ,  10.9,  68. ,   5. ,  14. ],\n",
       "       [ 18. ,  65. ,  13.2,  58. ,   5. ,  15. ],\n",
       "       [ 14. , 334. ,  11.5,  64. ,   5. ,  16. ],\n",
       "       [ 34. , 307. ,  12. ,  66. ,   5. ,  17. ],\n",
       "       [  6. ,  78. ,  18.4,  57. ,   5. ,  18. ],\n",
       "       [ 30. , 322. ,  11.5,  68. ,   5. ,  19. ],\n",
       "       [ 11. ,  44. ,   9.7,  62. ,   5. ,  20. ],\n",
       "       [  1. ,   8. ,   9.7,  59. ,   5. ,  21. ],\n",
       "       [ 11. , 320. ,  16.6,  73. ,   5. ,  22. ],\n",
       "       [  4. ,  25. ,   9.7,  61. ,   5. ,  23. ],\n",
       "       [ 32. ,  92. ,  12. ,  61. ,   5. ,  24. ],\n",
       "       [  nan,  66. ,  16.6,  57. ,   5. ,  25. ],\n",
       "       [  nan, 266. ,  14.9,  58. ,   5. ,  26. ],\n",
       "       [  nan,   nan,   8. ,  57. ,   5. ,  27. ],\n",
       "       [ 23. ,  13. ,  12. ,  67. ,   5. ,  28. ],\n",
       "       [ 45. , 252. ,  14.9,  81. ,   5. ,  29. ],\n",
       "       [115. , 223. ,   5.7,  79. ,   5. ,  30. ],\n",
       "       [ 37. , 279. ,   7.4,  76. ,   5. ,  31. ],\n",
       "       [  nan, 286. ,   8.6,  78. ,   6. ,   1. ],\n",
       "       [  nan, 287. ,   9.7,  74. ,   6. ,   2. ],\n",
       "       [  nan, 242. ,  16.1,  67. ,   6. ,   3. ],\n",
       "       [  nan, 186. ,   9.2,  84. ,   6. ,   4. ],\n",
       "       [  nan, 220. ,   8.6,  85. ,   6. ,   5. ],\n",
       "       [  nan, 264. ,  14.3,  79. ,   6. ,   6. ],\n",
       "       [ 29. , 127. ,   9.7,  82. ,   6. ,   7. ],\n",
       "       [  nan, 273. ,   6.9,  87. ,   6. ,   8. ],\n",
       "       [ 71. , 291. ,  13.8,  90. ,   6. ,   9. ],\n",
       "       [ 39. , 323. ,  11.5,  87. ,   6. ,  10. ],\n",
       "       [  nan, 259. ,  10.9,  93. ,   6. ,  11. ],\n",
       "       [  nan, 250. ,   9.2,  92. ,   6. ,  12. ],\n",
       "       [ 23. , 148. ,   8. ,  82. ,   6. ,  13. ],\n",
       "       [  nan, 332. ,  13.8,  80. ,   6. ,  14. ],\n",
       "       [  nan, 322. ,  11.5,  79. ,   6. ,  15. ],\n",
       "       [ 21. , 191. ,  14.9,  77. ,   6. ,  16. ],\n",
       "       [ 37. , 284. ,  20.7,  72. ,   6. ,  17. ],\n",
       "       [ 20. ,  37. ,   9.2,  65. ,   6. ,  18. ],\n",
       "       [ 12. , 120. ,  11.5,  73. ,   6. ,  19. ],\n",
       "       [ 13. , 137. ,  10.3,  76. ,   6. ,  20. ],\n",
       "       [  nan, 150. ,   6.3,  77. ,   6. ,  21. ],\n",
       "       [  nan,  59. ,   1.7,  76. ,   6. ,  22. ],\n",
       "       [  nan,  91. ,   4.6,  76. ,   6. ,  23. ],\n",
       "       [  nan, 250. ,   6.3,  76. ,   6. ,  24. ],\n",
       "       [  nan, 135. ,   8. ,  75. ,   6. ,  25. ],\n",
       "       [  nan, 127. ,   8. ,  78. ,   6. ,  26. ],\n",
       "       [  nan,  47. ,  10.3,  73. ,   6. ,  27. ],\n",
       "       [  nan,  98. ,  11.5,  80. ,   6. ,  28. ],\n",
       "       [  nan,  31. ,  14.9,  77. ,   6. ,  29. ],\n",
       "       [  nan, 138. ,   8. ,  83. ,   6. ,  30. ],\n",
       "       [135. , 269. ,   4.1,  84. ,   7. ,   1. ],\n",
       "       [ 49. , 248. ,   9.2,  85. ,   7. ,   2. ],\n",
       "       [ 32. , 236. ,   9.2,  81. ,   7. ,   3. ],\n",
       "       [  nan, 101. ,  10.9,  84. ,   7. ,   4. ],\n",
       "       [ 64. , 175. ,   4.6,  83. ,   7. ,   5. ],\n",
       "       [ 40. , 314. ,  10.9,  83. ,   7. ,   6. ],\n",
       "       [ 77. , 276. ,   5.1,  88. ,   7. ,   7. ],\n",
       "       [ 97. , 267. ,   6.3,  92. ,   7. ,   8. ],\n",
       "       [ 97. , 272. ,   5.7,  92. ,   7. ,   9. ],\n",
       "       [ 85. , 175. ,   7.4,  89. ,   7. ,  10. ],\n",
       "       [  nan, 139. ,   8.6,  82. ,   7. ,  11. ],\n",
       "       [ 10. , 264. ,  14.3,  73. ,   7. ,  12. ],\n",
       "       [ 27. , 175. ,  14.9,  81. ,   7. ,  13. ],\n",
       "       [  nan, 291. ,  14.9,  91. ,   7. ,  14. ],\n",
       "       [  7. ,  48. ,  14.3,  80. ,   7. ,  15. ],\n",
       "       [ 48. , 260. ,   6.9,  81. ,   7. ,  16. ],\n",
       "       [ 35. , 274. ,  10.3,  82. ,   7. ,  17. ],\n",
       "       [ 61. , 285. ,   6.3,  84. ,   7. ,  18. ],\n",
       "       [ 79. , 187. ,   5.1,  87. ,   7. ,  19. ],\n",
       "       [ 63. , 220. ,  11.5,  85. ,   7. ,  20. ],\n",
       "       [ 16. ,   7. ,   6.9,  74. ,   7. ,  21. ],\n",
       "       [  nan, 258. ,   9.7,  81. ,   7. ,  22. ],\n",
       "       [  nan, 295. ,  11.5,  82. ,   7. ,  23. ],\n",
       "       [ 80. , 294. ,   8.6,  86. ,   7. ,  24. ],\n",
       "       [108. , 223. ,   8. ,  85. ,   7. ,  25. ],\n",
       "       [ 20. ,  81. ,   8.6,  82. ,   7. ,  26. ],\n",
       "       [ 52. ,  82. ,  12. ,  86. ,   7. ,  27. ],\n",
       "       [ 82. , 213. ,   7.4,  88. ,   7. ,  28. ],\n",
       "       [ 50. , 275. ,   7.4,  86. ,   7. ,  29. ],\n",
       "       [ 64. , 253. ,   7.4,  83. ,   7. ,  30. ],\n",
       "       [ 59. , 254. ,   9.2,  81. ,   7. ,  31. ],\n",
       "       [ 39. ,  83. ,   6.9,  81. ,   8. ,   1. ],\n",
       "       [  9. ,  24. ,  13.8,  81. ,   8. ,   2. ],\n",
       "       [ 16. ,  77. ,   7.4,  82. ,   8. ,   3. ],\n",
       "       [ 78. ,   nan,   6.9,  86. ,   8. ,   4. ],\n",
       "       [ 35. ,   nan,   7.4,  85. ,   8. ,   5. ],\n",
       "       [ 66. ,   nan,   4.6,  87. ,   8. ,   6. ],\n",
       "       [122. , 255. ,   4. ,  89. ,   8. ,   7. ],\n",
       "       [ 89. , 229. ,  10.3,  90. ,   8. ,   8. ],\n",
       "       [110. , 207. ,   8. ,  90. ,   8. ,   9. ],\n",
       "       [  nan, 222. ,   8.6,  92. ,   8. ,  10. ],\n",
       "       [  nan, 137. ,  11.5,  86. ,   8. ,  11. ],\n",
       "       [ 44. , 192. ,  11.5,  86. ,   8. ,  12. ],\n",
       "       [ 28. , 273. ,  11.5,  82. ,   8. ,  13. ],\n",
       "       [ 65. , 157. ,   9.7,  80. ,   8. ,  14. ],\n",
       "       [  nan,  64. ,  11.5,  79. ,   8. ,  15. ],\n",
       "       [ 22. ,  71. ,  10.3,  77. ,   8. ,  16. ],\n",
       "       [ 59. ,  51. ,   6.3,  79. ,   8. ,  17. ],\n",
       "       [ 23. , 115. ,   7.4,  76. ,   8. ,  18. ],\n",
       "       [ 31. , 244. ,  10.9,  78. ,   8. ,  19. ],\n",
       "       [ 44. , 190. ,  10.3,  78. ,   8. ,  20. ],\n",
       "       [ 21. , 259. ,  15.5,  77. ,   8. ,  21. ],\n",
       "       [  9. ,  36. ,  14.3,  72. ,   8. ,  22. ],\n",
       "       [  nan, 255. ,  12.6,  75. ,   8. ,  23. ],\n",
       "       [ 45. , 212. ,   9.7,  79. ,   8. ,  24. ],\n",
       "       [168. , 238. ,   3.4,  81. ,   8. ,  25. ],\n",
       "       [ 73. , 215. ,   8. ,  86. ,   8. ,  26. ],\n",
       "       [  nan, 153. ,   5.7,  88. ,   8. ,  27. ],\n",
       "       [ 76. , 203. ,   9.7,  97. ,   8. ,  28. ],\n",
       "       [118. , 225. ,   2.3,  94. ,   8. ,  29. ],\n",
       "       [ 84. , 237. ,   6.3,  96. ,   8. ,  30. ],\n",
       "       [ 85. , 188. ,   6.3,  94. ,   8. ,  31. ],\n",
       "       [ 96. , 167. ,   6.9,  91. ,   9. ,   1. ],\n",
       "       [ 78. , 197. ,   5.1,  92. ,   9. ,   2. ],\n",
       "       [ 73. , 183. ,   2.8,  93. ,   9. ,   3. ],\n",
       "       [ 91. , 189. ,   4.6,  93. ,   9. ,   4. ],\n",
       "       [ 47. ,  95. ,   7.4,  87. ,   9. ,   5. ],\n",
       "       [ 32. ,  92. ,  15.5,  84. ,   9. ,   6. ],\n",
       "       [ 20. , 252. ,  10.9,  80. ,   9. ,   7. ],\n",
       "       [ 23. , 220. ,  10.3,  78. ,   9. ,   8. ],\n",
       "       [ 21. , 230. ,  10.9,  75. ,   9. ,   9. ],\n",
       "       [ 24. , 259. ,   9.7,  73. ,   9. ,  10. ],\n",
       "       [ 44. , 236. ,  14.9,  81. ,   9. ,  11. ],\n",
       "       [ 21. , 259. ,  15.5,  76. ,   9. ,  12. ],\n",
       "       [ 28. , 238. ,   6.3,  77. ,   9. ,  13. ],\n",
       "       [  9. ,  24. ,  10.9,  71. ,   9. ,  14. ],\n",
       "       [ 13. , 112. ,  11.5,  71. ,   9. ,  15. ],\n",
       "       [ 46. , 237. ,   6.9,  78. ,   9. ,  16. ],\n",
       "       [ 18. , 224. ,  13.8,  67. ,   9. ,  17. ],\n",
       "       [ 13. ,  27. ,  10.3,  76. ,   9. ,  18. ],\n",
       "       [ 24. , 238. ,  10.3,  68. ,   9. ,  19. ],\n",
       "       [ 16. , 201. ,   8. ,  82. ,   9. ,  20. ],\n",
       "       [ 13. , 238. ,  12.6,  64. ,   9. ,  21. ],\n",
       "       [ 23. ,  14. ,   9.2,  71. ,   9. ,  22. ],\n",
       "       [ 36. , 139. ,  10.3,  81. ,   9. ,  23. ],\n",
       "       [  7. ,  49. ,  10.3,  69. ,   9. ,  24. ],\n",
       "       [ 14. ,  20. ,  16.6,  63. ,   9. ,  25. ],\n",
       "       [ 30. , 193. ,   6.9,  70. ,   9. ,  26. ],\n",
       "       [  nan, 145. ,  13.2,  77. ,   9. ,  27. ],\n",
       "       [ 14. , 191. ,  14.3,  75. ,   9. ,  28. ],\n",
       "       [ 18. , 131. ,   8. ,  76. ,   9. ,  29. ],\n",
       "       [ 20. , 223. ,  11.5,  68. ,   9. ,  30. ]])"
      ]
     },
     "execution_count": 12,
     "metadata": {},
     "output_type": "execute_result"
    }
   ],
   "source": [
    "# 방법 2: csv -> 넘파이 배열\n",
    "#data = np.loadtxt('data/ozone_nonan.csv',delimiter=',') NAN과 header 없어야함\n",
    "data = np.genfromtxt('data/ozone.csv',delimiter=',',skip_header=1, missing_values='NA', filling_values= np.nan)\n",
    "data"
   ]
  }
 ],
 "metadata": {
  "kernelspec": {
   "display_name": "Python 3 (ipykernel)",
   "language": "python",
   "name": "python3"
  },
  "language_info": {
   "codemirror_mode": {
    "name": "ipython",
    "version": 3
   },
   "file_extension": ".py",
   "mimetype": "text/x-python",
   "name": "python",
   "nbconvert_exporter": "python",
   "pygments_lexer": "ipython3",
   "version": "3.10.9"
  },
  "toc": {
   "base_numbering": 1,
   "nav_menu": {},
   "number_sections": true,
   "sideBar": true,
   "skip_h1_title": false,
   "title_cell": "Table of Contents",
   "title_sidebar": "Contents",
   "toc_cell": false,
   "toc_position": {
    "height": "calc(100% - 180px)",
    "left": "10px",
    "top": "150px",
    "width": "256.479px"
   },
   "toc_section_display": true,
   "toc_window_display": true
  }
 },
 "nbformat": 4,
 "nbformat_minor": 5
}
