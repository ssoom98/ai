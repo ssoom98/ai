{
 "cells": [
  {
   "cell_type": "code",
   "execution_count": 3,
   "id": "9ae985ec",
   "metadata": {
    "ExecuteTime": {
     "end_time": "2024-12-17T07:08:30.359057Z",
     "start_time": "2024-12-17T07:08:30.344621Z"
    }
   },
   "outputs": [
    {
     "data": {
      "text/html": [
       "\n",
       "<style>\n",
       "div.container{width:99% !important;}\n",
       "div.cell.code_cell.rendered{width:90%;}\n",
       "div.CodeMirror {font-family:Consolas; font-size:18pt;}\n",
       "div.output {font-size:19pt; font-weight:bold;}\n",
       "div.input {font-family:Consolas; font-size:19pt;}\n",
       "div.prompt {min-width:70px;}\n",
       "div#toc-wrapper{padding-top:120px;}\n",
       "span.toc-item-num{display:none;}\n",
       "div.text_cell_render ul li{font-size:16pt;padding:5px;}\n",
       "div.CodeMirror-lines > div {padding-left:10px;}\n",
       "table.dataframe{font-size:19px;}\n",
       "</style>\n"
      ],
      "text/plain": [
       "<IPython.core.display.HTML object>"
      ]
     },
     "metadata": {},
     "output_type": "display_data"
    }
   ],
   "source": [
    "from IPython.display import display, HTML\n",
    "display(HTML(\"\"\"\n",
    "<style>\n",
    "div.container{width:99% !important;}\n",
    "div.cell.code_cell.rendered{width:90%;}\n",
    "div.CodeMirror {font-family:Consolas; font-size:18pt;}\n",
    "div.output {font-size:19pt; font-weight:bold;}\n",
    "div.input {font-family:Consolas; font-size:19pt;}\n",
    "div.prompt {min-width:70px;}\n",
    "div#toc-wrapper{padding-top:120px;}\n",
    "span.toc-item-num{display:none;}\n",
    "div.text_cell_render ul li{font-size:16pt;padding:5px;}\n",
    "div.CodeMirror-lines > div {padding-left:10px;}\n",
    "table.dataframe{font-size:19px;}\n",
    "</style>\n",
    "\"\"\"))"
   ]
  },
  {
   "cell_type": "code",
   "execution_count": 2,
   "id": "41781197",
   "metadata": {
    "ExecuteTime": {
     "end_time": "2024-12-17T07:08:30.341723Z",
     "start_time": "2024-12-17T07:08:27.056065Z"
    }
   },
   "outputs": [],
   "source": [
    "import numpy as np\n",
    "import pandas as pd\n",
    "import sys\n",
    "from tensorflow.keras import utils # utils.to_categorical\n",
    "from tensorflow.keras.models import Sequential #모델생성\n",
    "from tensorflow.keras.layers import Dense,Input\n",
    "import matplotlib.pyplot as plt\n"
   ]
  },
  {
   "cell_type": "code",
   "execution_count": 1,
   "id": "99834cf7",
   "metadata": {
    "ExecuteTime": {
     "end_time": "2024-12-17T07:08:25.764165Z",
     "start_time": "2024-12-17T07:08:25.759019Z"
    }
   },
   "outputs": [],
   "source": [
    "import os\n",
    "os.environ[\"CUDA_VISIBLE_DEVICES\"] = \"-1\""
   ]
  },
  {
   "cell_type": "markdown",
   "id": "98715a4c",
   "metadata": {},
   "source": [
    "# 로지스틱회귀분석(이진분류)\n",
    "## 1. 데이터셋 생성 & 전처리\n"
   ]
  },
  {
   "cell_type": "code",
   "execution_count": 4,
   "id": "13adfa19",
   "metadata": {
    "ExecuteTime": {
     "end_time": "2024-12-17T07:08:34.124698Z",
     "start_time": "2024-12-17T07:08:34.111253Z"
    }
   },
   "outputs": [
    {
     "data": {
      "text/plain": [
       "array([[  6.   , 148.   ,  72.   , ...,   0.627,  50.   ,   1.   ],\n",
       "       [  1.   ,  85.   ,  66.   , ...,   0.351,  31.   ,   0.   ],\n",
       "       [  8.   , 183.   ,  64.   , ...,   0.672,  32.   ,   1.   ],\n",
       "       ...,\n",
       "       [  5.   , 121.   ,  72.   , ...,   0.245,  30.   ,   0.   ],\n",
       "       [  1.   , 126.   ,  60.   , ...,   0.349,  47.   ,   1.   ],\n",
       "       [  1.   ,  93.   ,  70.   , ...,   0.315,  23.   ,   0.   ]])"
      ]
     },
     "execution_count": 4,
     "metadata": {},
     "output_type": "execute_result"
    }
   ],
   "source": [
    "df= pd.read_csv('data/pima-indians-diabetes.csv',comment='#', header = None)\n",
    "df.values\n",
    "# 결측치 없으므로, csv파일을 바로 넘파이 배열로 읽어올 예정"
   ]
  },
  {
   "cell_type": "code",
   "execution_count": 5,
   "id": "47abdefc",
   "metadata": {
    "ExecuteTime": {
     "end_time": "2024-12-17T07:08:35.035896Z",
     "start_time": "2024-12-17T07:08:35.030937Z"
    }
   },
   "outputs": [],
   "source": [
    "np.set_printoptions(threshold=sys.maxsize)"
   ]
  },
  {
   "cell_type": "code",
   "execution_count": 6,
   "id": "8d318bc3",
   "metadata": {
    "ExecuteTime": {
     "end_time": "2024-12-17T07:08:35.984964Z",
     "start_time": "2024-12-17T07:08:35.975802Z"
    }
   },
   "outputs": [
    {
     "data": {
      "text/plain": [
       "(768, 9)"
      ]
     },
     "execution_count": 6,
     "metadata": {},
     "output_type": "execute_result"
    }
   ],
   "source": [
    "# csv 파일을 numpy 배열로 읽어오기\n",
    "dataset = np.loadtxt('data/pima-indians-diabetes.csv',delimiter=',')\n",
    "dataset.shape"
   ]
  },
  {
   "cell_type": "code",
   "execution_count": 7,
   "id": "d8d8556c",
   "metadata": {
    "ExecuteTime": {
     "end_time": "2024-12-17T07:08:38.871342Z",
     "start_time": "2024-12-17T07:08:38.863733Z"
    }
   },
   "outputs": [
    {
     "data": {
      "text/plain": [
       "((700, 8), (700,), (68, 8), (68,))"
      ]
     },
     "execution_count": 7,
     "metadata": {},
     "output_type": "execute_result"
    }
   ],
   "source": [
    "# 학습데이터셋(학습용 데이터) : 모델 학습시 사용\n",
    "X_train = dataset[:700, :-1]\n",
    "y_train = dataset[:700, -1]\n",
    "# 테스트데이터셋(시험용 데이터) : 모델 평가시 사용\n",
    "X_test = dataset[700:, :-1]\n",
    "y_test = dataset[700:, -1]\n",
    "X_train.shape, y_train.shape, X_test.shape, y_test.shape"
   ]
  },
  {
   "cell_type": "markdown",
   "id": "b505ae7f",
   "metadata": {},
   "source": [
    "## 2.모델구성"
   ]
  },
  {
   "cell_type": "code",
   "execution_count": 25,
   "id": "454cc933",
   "metadata": {
    "ExecuteTime": {
     "end_time": "2024-12-17T07:33:46.184674Z",
     "start_time": "2024-12-17T07:33:46.122352Z"
    }
   },
   "outputs": [
    {
     "name": "stdout",
     "output_type": "stream",
     "text": [
      "Model: \"sequential_3\"\n",
      "_________________________________________________________________\n",
      " Layer (type)                Output Shape              Param #   \n",
      "=================================================================\n",
      " dense_10 (Dense)            (None, 12)                108       \n",
      "                                                                 \n",
      " dense_11 (Dense)            (None, 8)                 104       \n",
      "                                                                 \n",
      " dense_12 (Dense)            (None, 1)                 9         \n",
      "                                                                 \n",
      "=================================================================\n",
      "Total params: 221\n",
      "Trainable params: 221\n",
      "Non-trainable params: 0\n",
      "_________________________________________________________________\n"
     ]
    }
   ],
   "source": [
    "model = Sequential()\n",
    "model.add(Input(shape=(8,)))\n",
    "\n",
    "model.add(Dense(units=12, activation='relu'))\n",
    "model.add(Dense(units=8,activation='relu'))\n",
    "model.add(Dense(units=1,activation='sigmoid'))\n",
    "model.summary()"
   ]
  },
  {
   "cell_type": "markdown",
   "id": "28017a45",
   "metadata": {},
   "source": [
    "## 3. 학습과정 설정\n"
   ]
  },
  {
   "cell_type": "code",
   "execution_count": 26,
   "id": "8d648931",
   "metadata": {
    "ExecuteTime": {
     "end_time": "2024-12-17T07:33:48.428349Z",
     "start_time": "2024-12-17T07:33:48.417738Z"
    }
   },
   "outputs": [],
   "source": [
    "#model.compile(loss = 'binary_crossentropy',optimizer='adam',metrics=['accuracy'])\n",
    "model.compile(loss = 'binary_crossentropy',optimizer='adam', metrics=['binary_accuracy'])"
   ]
  },
  {
   "cell_type": "markdown",
   "id": "65b5b9ec",
   "metadata": {},
   "source": [
    "## 4. 학습"
   ]
  },
  {
   "cell_type": "code",
   "execution_count": 27,
   "id": "7a9fcd4e",
   "metadata": {
    "ExecuteTime": {
     "end_time": "2024-12-17T07:33:57.233167Z",
     "start_time": "2024-12-17T07:33:49.497002Z"
    }
   },
   "outputs": [],
   "source": [
    "hist = model.fit(X_train, y_train,\n",
    "               epochs=300,\n",
    "               # batch_size=350,\n",
    "               # validation_split=0.2 # 검증데이터 비율(훈련데이터셋 중 20%를 검증용 데이터로)\n",
    "               verbose=0\n",
    "               )"
   ]
  },
  {
   "cell_type": "code",
   "execution_count": 28,
   "id": "d83e85c9",
   "metadata": {
    "ExecuteTime": {
     "end_time": "2024-12-17T07:33:57.242659Z",
     "start_time": "2024-12-17T07:33:57.235135Z"
    }
   },
   "outputs": [
    {
     "data": {
      "text/plain": [
       "dict_keys(['loss', 'binary_accuracy'])"
      ]
     },
     "execution_count": 28,
     "metadata": {},
     "output_type": "execute_result"
    }
   ],
   "source": [
    "hist.history.keys()"
   ]
  },
  {
   "cell_type": "code",
   "execution_count": 41,
   "id": "7ccafd2f",
   "metadata": {
    "ExecuteTime": {
     "end_time": "2024-12-17T07:44:35.809852Z",
     "start_time": "2024-12-17T07:44:35.522076Z"
    }
   },
   "outputs": [
    {
     "data": {
      "image/png": "[encoded data removed]",
      "text/plain": [
       "<Figure size 1000x500 with 2 Axes>"
      ]
     },
     "metadata": {},
     "output_type": "display_data"
    }
   ],
   "source": [
    "# 학습과정 표시하기(validation dataset 없는경우)\n",
    "fig,loss_ax = plt.subplots(figsize=(10,5))\n",
    "loss_ax.plot(hist.history['loss'],'r',label='train loss')\n",
    "loss_ax.set_xlabel('epoch')\n",
    "loss_ax.set_ylabel('loss')\n",
    "acc_ax = loss_ax.twinx()\n",
    "acc_ax.plot(hist.history['binary_accuracy'],'b',label= 'train accuracy')\n",
    "acc_ax.set_ylabel('accuracy')\n",
    "loss_ax.legend(loc='center right')\n",
    "acc_ax.legend(bbox_to_anchor=(0.999,0.65))\n",
    "plt.show()"
   ]
  },
  {
   "cell_type": "code",
   "execution_count": 43,
   "id": "83802a24",
   "metadata": {
    "ExecuteTime": {
     "end_time": "2024-12-17T07:44:59.822841Z",
     "start_time": "2024-12-17T07:44:59.730094Z"
    }
   },
   "outputs": [
    {
     "name": "stdout",
     "output_type": "stream",
     "text": [
      "22/22 [==============================] - 0s 1ms/step - loss: 0.5241 - binary_accuracy: 0.7471\n"
     ]
    },
    {
     "data": {
      "text/plain": [
       "[0.5241032838821411, 0.7471428513526917]"
      ]
     },
     "execution_count": 43,
     "metadata": {},
     "output_type": "execute_result"
    }
   ],
   "source": [
    "model.evaluate(X_train, y_train)"
   ]
  },
  {
   "cell_type": "markdown",
   "id": "77e1ba32",
   "metadata": {},
   "source": [
    "## 5. 모델 평가"
   ]
  },
  {
   "cell_type": "code",
   "execution_count": 46,
   "id": "18a56e8a",
   "metadata": {
    "ExecuteTime": {
     "end_time": "2024-12-17T07:45:54.156853Z",
     "start_time": "2024-12-17T07:45:54.051474Z"
    }
   },
   "outputs": [
    {
     "name": "stdout",
     "output_type": "stream",
     "text": [
      "22/22 [==============================] - 0s 1ms/step - loss: 0.5241 - binary_accuracy: 0.7471\n",
      "loss:0.5241032838821411,정확도:74.71428513526917%\n"
     ]
    }
   ],
   "source": [
    "\n",
    "score= model.evaluate(X_train,y_train)\n",
    "print('loss:{},정확도:{}%'.format(score[0],score[1]*100))"
   ]
  },
  {
   "cell_type": "markdown",
   "id": "99826638",
   "metadata": {},
   "source": [
    "## 6.모델 사용하기"
   ]
  },
  {
   "cell_type": "code",
   "execution_count": 47,
   "id": "4c57db3c",
   "metadata": {
    "ExecuteTime": {
     "end_time": "2024-12-17T07:46:30.114780Z",
     "start_time": "2024-12-17T07:46:30.106800Z"
    }
   },
   "outputs": [
    {
     "data": {
      "text/plain": [
       "(array([  4.   , 110.   ,  92.   ,   0.   ,   0.   ,  37.6  ,   0.191,\n",
       "         30.   ]),\n",
       " 0.0)"
      ]
     },
     "execution_count": 47,
     "metadata": {},
     "output_type": "execute_result"
    }
   ],
   "source": [
    "X_train[10], y_train[10]"
   ]
  },
  {
   "cell_type": "code",
   "execution_count": 48,
   "id": "602780dc",
   "metadata": {
    "ExecuteTime": {
     "end_time": "2024-12-17T07:46:40.774351Z",
     "start_time": "2024-12-17T07:46:40.690382Z"
    }
   },
   "outputs": [
    {
     "name": "stdout",
     "output_type": "stream",
     "text": [
      "1/1 [==============================] - 0s 38ms/step\n"
     ]
    },
    {
     "data": {
      "text/plain": [
       "array([[0.7556377]], dtype=float32)"
      ]
     },
     "execution_count": 48,
     "metadata": {},
     "output_type": "execute_result"
    }
   ],
   "source": [
    "model.predict([[5,148,72,35,0,33.6,0.627,45]])"
   ]
  },
  {
   "cell_type": "code",
   "execution_count": 50,
   "id": "cfc1c15a",
   "metadata": {
    "ExecuteTime": {
     "end_time": "2024-12-17T07:47:45.163187Z",
     "start_time": "2024-12-17T07:47:45.074661Z"
    }
   },
   "outputs": [
    {
     "name": "stdout",
     "output_type": "stream",
     "text": [
      "1/1 [==============================] - 0s 39ms/step\n"
     ]
    },
    {
     "data": {
      "text/plain": [
       "array([[0],\n",
       "       [1]])"
      ]
     },
     "execution_count": 50,
     "metadata": {},
     "output_type": "execute_result"
    }
   ],
   "source": [
    "(model.predict([[4,110,92,0,0,37.6,0.191,30],\n",
    "               [6,148,72,35,0,33.6,0.6,45]])>0.5).astype(int)"
   ]
  },
  {
   "cell_type": "markdown",
   "id": "9e393b34",
   "metadata": {},
   "source": [
    "## 7. 교차표\n",
    "- 테스트 데이터셋의 실제값(y_test)과 예측값"
   ]
  },
  {
   "cell_type": "code",
   "execution_count": 60,
   "id": "88a0dacf",
   "metadata": {
    "ExecuteTime": {
     "end_time": "2024-12-17T07:58:48.421909Z",
     "start_time": "2024-12-17T07:58:48.348272Z"
    }
   },
   "outputs": [
    {
     "name": "stdout",
     "output_type": "stream",
     "text": [
      "3/3 [==============================] - 0s 2ms/step\n",
      "14 13\n",
      "9 32\n"
     ]
    }
   ],
   "source": [
    "y_hat = (model.predict(X_test)>0.5).astype(float)\n",
    "cnt1=0; cnt2=0; cnt3=0; cnt4=0;\n",
    "y_hat.shape,y_test.shape\n",
    "#y_hat = y_hat.reshape\n",
    "for h,y in zip(y_hat.reshape(-1),y_test.reshape(-1)):\n",
    "    if h==1.0 and y == 1.0:\n",
    "        cnt1 += 1\n",
    "    elif y==1.0 and h==0.0:\n",
    "        cnt2 += 1\n",
    "    elif y==0.0 and h==1.0:\n",
    "        cnt3 += 1\n",
    "    else:\n",
    "        cnt4+=1\n",
    "print(cnt1,cnt2)\n",
    "print(cnt3,cnt4)"
   ]
  },
  {
   "cell_type": "code",
   "execution_count": 62,
   "id": "a0b5d6a6",
   "metadata": {
    "ExecuteTime": {
     "end_time": "2024-12-17T08:02:31.912775Z",
     "start_time": "2024-12-17T08:02:31.891719Z"
    }
   },
   "outputs": [
    {
     "data": {
      "text/html": [
       "<div>\n",
       "<style scoped>\n",
       "    .dataframe tbody tr th:only-of-type {\n",
       "        vertical-align: middle;\n",
       "    }\n",
       "\n",
       "    .dataframe tbody tr th {\n",
       "        vertical-align: top;\n",
       "    }\n",
       "\n",
       "    .dataframe thead th {\n",
       "        text-align: right;\n",
       "    }\n",
       "</style>\n",
       "<table border=\"1\" class=\"dataframe\">\n",
       "  <thead>\n",
       "    <tr style=\"text-align: right;\">\n",
       "      <th>예측값</th>\n",
       "      <th>0.0</th>\n",
       "      <th>1.0</th>\n",
       "    </tr>\n",
       "    <tr>\n",
       "      <th>실제값</th>\n",
       "      <th></th>\n",
       "      <th></th>\n",
       "    </tr>\n",
       "  </thead>\n",
       "  <tbody>\n",
       "    <tr>\n",
       "      <th>0.0</th>\n",
       "      <td>32</td>\n",
       "      <td>9</td>\n",
       "    </tr>\n",
       "    <tr>\n",
       "      <th>1.0</th>\n",
       "      <td>13</td>\n",
       "      <td>14</td>\n",
       "    </tr>\n",
       "  </tbody>\n",
       "</table>\n",
       "</div>"
      ],
      "text/plain": [
       "예측값  0.0  1.0\n",
       "실제값          \n",
       "0.0   32    9\n",
       "1.0   13   14"
      ]
     },
     "execution_count": 62,
     "metadata": {},
     "output_type": "execute_result"
    }
   ],
   "source": [
    "ctab= pd.crosstab(y_test,y_hat.reshape(-1))\n",
    "ctab.index.name = '실제값'\n",
    "ctab.columns.name = '예측값'\n",
    "ctab"
   ]
  },
  {
   "cell_type": "markdown",
   "id": "a0eab5a3",
   "metadata": {},
   "source": [
    "# 분류분석\n",
    "```\n",
    "1. 데이터셋( 훈련셋600, 검증셋 100, 테스트셋 68으로 분리,종속변수의 원핫 인코딩\n",
    "2. 모델생성(input 8, target 2): 출력층에서의 활성화 함수 softmax\n",
    "3. 모델학습과정 설정 (loss = 'categorical_crossentropy' metrics = ['accuracy']\n",
    "4. 학습 : validation_data=[X_val,y_val] 추가해서 학습\n",
    "5. 학습평가 : 그래프(hist.history.keys()를 확인후 4가지)\n",
    "            평가(X_test,Y_test)\n",
    "             교차표(pd.crosstab 이용)\n",
    "6. 모델 사용하기 - 예측\n",
    "              0       1\n",
    "              0.9912 0.00124\n",
    "```"
   ]
  },
  {
   "cell_type": "markdown",
   "id": "51a012a4",
   "metadata": {},
   "source": [
    "## 1. 데이터셋( 훈련셋600, 검증셋 100, 테스트셋 68으로 분리,종속변수의 원핫 인코딩)"
   ]
  },
  {
   "cell_type": "code",
   "execution_count": 79,
   "id": "0fcf9993",
   "metadata": {
    "ExecuteTime": {
     "end_time": "2024-12-17T08:42:10.541635Z",
     "start_time": "2024-12-17T08:42:10.536648Z"
    }
   },
   "outputs": [],
   "source": [
    "from tensorflow.keras.utils import to_categorical"
   ]
  },
  {
   "cell_type": "code",
   "execution_count": 124,
   "id": "ac2eaa10",
   "metadata": {
    "ExecuteTime": {
     "end_time": "2024-12-17T08:51:41.129731Z",
     "start_time": "2024-12-17T08:51:41.120604Z"
    }
   },
   "outputs": [
    {
     "data": {
      "text/plain": [
       "(768, 9)"
      ]
     },
     "execution_count": 124,
     "metadata": {},
     "output_type": "execute_result"
    }
   ],
   "source": [
    "# 데이터셋으로 파일 불러오기\n",
    "dataset = np.loadtxt('data/pima-indians-diabetes.csv',delimiter=',')\n",
    "dataset.shape"
   ]
  },
  {
   "cell_type": "code",
   "execution_count": 125,
   "id": "211dbadf",
   "metadata": {
    "ExecuteTime": {
     "end_time": "2024-12-17T08:51:41.935459Z",
     "start_time": "2024-12-17T08:51:41.927236Z"
    }
   },
   "outputs": [
    {
     "data": {
      "text/plain": [
       "((600, 8), (600,), (100, 8), (100,), (68, 8), (68,))"
      ]
     },
     "execution_count": 125,
     "metadata": {},
     "output_type": "execute_result"
    }
   ],
   "source": [
    "# 훈련데이터셋(학습용 데이터) : 모델 학습시 사용\n",
    "X_train = dataset[:600, :-1]\n",
    "y_train = dataset[:600, -1]\n",
    "# 검증데이터셋(검증용 데이터) : 모델 검증시 사용\n",
    "X_val = dataset[600:700, :-1]\n",
    "y_val = dataset[600:700, -1]\n",
    "# 테스트셋(테스트용 데이터) : 모델 테스트시 사용\n",
    "X_test = dataset[700:,:-1]\n",
    "y_test = dataset[700:,-1]\n",
    "\n",
    "X_train.shape, y_train.shape, X_val.shape, y_val.shape, X_test.shape, y_test.shape"
   ]
  },
  {
   "cell_type": "code",
   "execution_count": 126,
   "id": "e02fc6ff",
   "metadata": {
    "ExecuteTime": {
     "end_time": "2024-12-17T08:51:44.653589Z",
     "start_time": "2024-12-17T08:51:44.647475Z"
    }
   },
   "outputs": [],
   "source": [
    "# 분류분석을 위한 원핫 인코딩\n",
    "Y_train= to_categorical(y_train,2)\n",
    "Y_val= to_categorical(y_val,2)\n",
    "Y_test= to_categorical(y_test,2)"
   ]
  },
  {
   "cell_type": "markdown",
   "id": "b25a80d9",
   "metadata": {
    "ExecuteTime": {
     "end_time": "2024-12-17T08:35:44.579418Z",
     "start_time": "2024-12-17T08:35:44.574300Z"
    }
   },
   "source": [
    "## 2.모델생성(input 8, target 2): 출력층에서의 활성화 함수 softmax"
   ]
  },
  {
   "cell_type": "code",
   "execution_count": 132,
   "id": "2c067299",
   "metadata": {
    "ExecuteTime": {
     "end_time": "2024-12-17T08:52:44.922874Z",
     "start_time": "2024-12-17T08:52:44.855652Z"
    }
   },
   "outputs": [
    {
     "name": "stdout",
     "output_type": "stream",
     "text": [
      "Model: \"sequential_17\"\n",
      "_________________________________________________________________\n",
      " Layer (type)                Output Shape              Param #   \n",
      "=================================================================\n",
      " dense_53 (Dense)            (None, 12)                108       \n",
      "                                                                 \n",
      " dense_54 (Dense)            (None, 8)                 104       \n",
      "                                                                 \n",
      " dense_55 (Dense)            (None, 2)                 18        \n",
      "                                                                 \n",
      "=================================================================\n",
      "Total params: 230\n",
      "Trainable params: 230\n",
      "Non-trainable params: 0\n",
      "_________________________________________________________________\n"
     ]
    }
   ],
   "source": [
    "\n",
    "model = Sequential()\n",
    "model.add(Input(shape=(8,)))\n",
    "model.add(Dense(units=12, activation='relu'))\n",
    "model.add(Dense(units=8,activation='relu'))\n",
    "model.add(Dense(units=2,activation='softmax'))\n",
    "model.summary()"
   ]
  },
  {
   "cell_type": "markdown",
   "id": "20617952",
   "metadata": {},
   "source": [
    "## 3. 모델학습과정 설정 (loss = 'categorical_crossentropy' metrics = ['accuracy']"
   ]
  },
  {
   "cell_type": "code",
   "execution_count": 133,
   "id": "56b0d878",
   "metadata": {
    "ExecuteTime": {
     "end_time": "2024-12-17T08:52:46.721758Z",
     "start_time": "2024-12-17T08:52:46.711609Z"
    }
   },
   "outputs": [],
   "source": [
    "model.compile(loss = 'categorical_crossentropy',optimizer='adam', metrics=['accuracy'])\n"
   ]
  },
  {
   "cell_type": "markdown",
   "id": "d8165b88",
   "metadata": {},
   "source": [
    "## 4. 학습 : validation_data=[X_val,y_val] 추가해서 학습"
   ]
  },
  {
   "cell_type": "code",
   "execution_count": 134,
   "id": "03d7e9c2",
   "metadata": {
    "ExecuteTime": {
     "end_time": "2024-12-17T08:53:03.994781Z",
     "start_time": "2024-12-17T08:52:47.696691Z"
    },
    "collapsed": true
   },
   "outputs": [
    {
     "name": "stdout",
     "output_type": "stream",
     "text": [
      "Epoch 1/300\n",
      "19/19 - 1s - loss: 5.7699 - accuracy: 0.3667 - val_loss: 3.8537 - val_accuracy: 0.4500 - 561ms/epoch - 30ms/step\n",
      "Epoch 2/300\n",
      "19/19 - 0s - loss: 2.7430 - accuracy: 0.4083 - val_loss: 1.9995 - val_accuracy: 0.4700 - 52ms/epoch - 3ms/step\n",
      "Epoch 3/300\n",
      "19/19 - 0s - loss: 1.7507 - accuracy: 0.4600 - val_loss: 1.4432 - val_accuracy: 0.5100 - 51ms/epoch - 3ms/step\n",
      "Epoch 4/300\n",
      "19/19 - 0s - loss: 1.3848 - accuracy: 0.5150 - val_loss: 1.2795 - val_accuracy: 0.4700 - 51ms/epoch - 3ms/step\n",
      "Epoch 5/300\n",
      "19/19 - 0s - loss: 1.1690 - accuracy: 0.5333 - val_loss: 1.1552 - val_accuracy: 0.4900 - 49ms/epoch - 3ms/step\n",
      "Epoch 6/300\n",
      "19/19 - 0s - loss: 1.0380 - accuracy: 0.5500 - val_loss: 1.0819 - val_accuracy: 0.4800 - 54ms/epoch - 3ms/step\n",
      "Epoch 7/300\n",
      "19/19 - 0s - loss: 0.9469 - accuracy: 0.5550 - val_loss: 1.0017 - val_accuracy: 0.5000 - 47ms/epoch - 2ms/step\n",
      "Epoch 8/300\n",
      "19/19 - 0s - loss: 0.8734 - accuracy: 0.5683 - val_loss: 0.9402 - val_accuracy: 0.5200 - 50ms/epoch - 3ms/step\n",
      "Epoch 9/300\n",
      "19/19 - 0s - loss: 0.8223 - accuracy: 0.5667 - val_loss: 0.9020 - val_accuracy: 0.4900 - 54ms/epoch - 3ms/step\n",
      "Epoch 10/300\n",
      "19/19 - 0s - loss: 0.7821 - accuracy: 0.5750 - val_loss: 0.8533 - val_accuracy: 0.5300 - 52ms/epoch - 3ms/step\n",
      "Epoch 11/300\n",
      "19/19 - 0s - loss: 0.7434 - accuracy: 0.5900 - val_loss: 0.8277 - val_accuracy: 0.5200 - 50ms/epoch - 3ms/step\n",
      "Epoch 12/300\n",
      "19/19 - 0s - loss: 0.7164 - accuracy: 0.6017 - val_loss: 0.7872 - val_accuracy: 0.5500 - 49ms/epoch - 3ms/step\n",
      "Epoch 13/300\n",
      "19/19 - 0s - loss: 0.6927 - accuracy: 0.6117 - val_loss: 0.7620 - val_accuracy: 0.5600 - 49ms/epoch - 3ms/step\n",
      "Epoch 14/300\n",
      "19/19 - 0s - loss: 0.6733 - accuracy: 0.6083 - val_loss: 0.7324 - val_accuracy: 0.5700 - 48ms/epoch - 3ms/step\n",
      "Epoch 15/300\n",
      "19/19 - 0s - loss: 0.6565 - accuracy: 0.6333 - val_loss: 0.7338 - val_accuracy: 0.5800 - 50ms/epoch - 3ms/step\n",
      "Epoch 16/300\n",
      "19/19 - 0s - loss: 0.6373 - accuracy: 0.6350 - val_loss: 0.7054 - val_accuracy: 0.5800 - 50ms/epoch - 3ms/step\n",
      "Epoch 17/300\n",
      "19/19 - 0s - loss: 0.6293 - accuracy: 0.6450 - val_loss: 0.6997 - val_accuracy: 0.6000 - 49ms/epoch - 3ms/step\n",
      "Epoch 18/300\n",
      "19/19 - 0s - loss: 0.6239 - accuracy: 0.6483 - val_loss: 0.6912 - val_accuracy: 0.6000 - 49ms/epoch - 3ms/step\n",
      "Epoch 19/300\n",
      "19/19 - 0s - loss: 0.6206 - accuracy: 0.6533 - val_loss: 0.6895 - val_accuracy: 0.6000 - 49ms/epoch - 3ms/step\n",
      "Epoch 20/300\n",
      "19/19 - 0s - loss: 0.6171 - accuracy: 0.6567 - val_loss: 0.6819 - val_accuracy: 0.6000 - 46ms/epoch - 2ms/step\n",
      "Epoch 21/300\n",
      "19/19 - 0s - loss: 0.6128 - accuracy: 0.6600 - val_loss: 0.6769 - val_accuracy: 0.5900 - 49ms/epoch - 3ms/step\n",
      "Epoch 22/300\n",
      "19/19 - 0s - loss: 0.6100 - accuracy: 0.6500 - val_loss: 0.6671 - val_accuracy: 0.6200 - 48ms/epoch - 3ms/step\n",
      "Epoch 23/300\n",
      "19/19 - 0s - loss: 0.6063 - accuracy: 0.6683 - val_loss: 0.6699 - val_accuracy: 0.5900 - 49ms/epoch - 3ms/step\n",
      "Epoch 24/300\n",
      "19/19 - 0s - loss: 0.6036 - accuracy: 0.6683 - val_loss: 0.6677 - val_accuracy: 0.5800 - 50ms/epoch - 3ms/step\n",
      "Epoch 25/300\n",
      "19/19 - 0s - loss: 0.6002 - accuracy: 0.6667 - val_loss: 0.6547 - val_accuracy: 0.6100 - 52ms/epoch - 3ms/step\n",
      "Epoch 26/300\n",
      "19/19 - 0s - loss: 0.5964 - accuracy: 0.6683 - val_loss: 0.6554 - val_accuracy: 0.6200 - 50ms/epoch - 3ms/step\n",
      "Epoch 27/300\n",
      "19/19 - 0s - loss: 0.5964 - accuracy: 0.6633 - val_loss: 0.6485 - val_accuracy: 0.6100 - 48ms/epoch - 3ms/step\n",
      "Epoch 28/300\n",
      "19/19 - 0s - loss: 0.5946 - accuracy: 0.6633 - val_loss: 0.6524 - val_accuracy: 0.6100 - 47ms/epoch - 2ms/step\n",
      "Epoch 29/300\n",
      "19/19 - 0s - loss: 0.5926 - accuracy: 0.6633 - val_loss: 0.6398 - val_accuracy: 0.6300 - 47ms/epoch - 2ms/step\n",
      "Epoch 30/300\n",
      "19/19 - 0s - loss: 0.5895 - accuracy: 0.6667 - val_loss: 0.6373 - val_accuracy: 0.6400 - 49ms/epoch - 3ms/step\n",
      "Epoch 31/300\n",
      "19/19 - 0s - loss: 0.5886 - accuracy: 0.6650 - val_loss: 0.6414 - val_accuracy: 0.6200 - 50ms/epoch - 3ms/step\n",
      "Epoch 32/300\n",
      "19/19 - 0s - loss: 0.5913 - accuracy: 0.6733 - val_loss: 0.6339 - val_accuracy: 0.6500 - 67ms/epoch - 4ms/step\n",
      "Epoch 33/300\n",
      "19/19 - 0s - loss: 0.5872 - accuracy: 0.6650 - val_loss: 0.6427 - val_accuracy: 0.6200 - 49ms/epoch - 3ms/step\n",
      "Epoch 34/300\n",
      "19/19 - 0s - loss: 0.5874 - accuracy: 0.6700 - val_loss: 0.6324 - val_accuracy: 0.6400 - 49ms/epoch - 3ms/step\n",
      "Epoch 35/300\n",
      "19/19 - 0s - loss: 0.5844 - accuracy: 0.6650 - val_loss: 0.6378 - val_accuracy: 0.6200 - 49ms/epoch - 3ms/step\n",
      "Epoch 36/300\n",
      "19/19 - 0s - loss: 0.5854 - accuracy: 0.6733 - val_loss: 0.6323 - val_accuracy: 0.6400 - 48ms/epoch - 3ms/step\n",
      "Epoch 37/300\n",
      "19/19 - 0s - loss: 0.5841 - accuracy: 0.6650 - val_loss: 0.6374 - val_accuracy: 0.6400 - 50ms/epoch - 3ms/step\n",
      "Epoch 38/300\n",
      "19/19 - 0s - loss: 0.5833 - accuracy: 0.6717 - val_loss: 0.6297 - val_accuracy: 0.6500 - 49ms/epoch - 3ms/step\n",
      "Epoch 39/300\n",
      "19/19 - 0s - loss: 0.5825 - accuracy: 0.6700 - val_loss: 0.6329 - val_accuracy: 0.6500 - 50ms/epoch - 3ms/step\n",
      "Epoch 40/300\n",
      "19/19 - 0s - loss: 0.5830 - accuracy: 0.6683 - val_loss: 0.6276 - val_accuracy: 0.6600 - 53ms/epoch - 3ms/step\n",
      "Epoch 41/300\n",
      "19/19 - 0s - loss: 0.5844 - accuracy: 0.6783 - val_loss: 0.6311 - val_accuracy: 0.6400 - 51ms/epoch - 3ms/step\n",
      "Epoch 42/300\n",
      "19/19 - 0s - loss: 0.5826 - accuracy: 0.6683 - val_loss: 0.6336 - val_accuracy: 0.6300 - 50ms/epoch - 3ms/step\n",
      "Epoch 43/300\n",
      "19/19 - 0s - loss: 0.5819 - accuracy: 0.6650 - val_loss: 0.6264 - val_accuracy: 0.6500 - 52ms/epoch - 3ms/step\n",
      "Epoch 44/300\n",
      "19/19 - 0s - loss: 0.5820 - accuracy: 0.6767 - val_loss: 0.6209 - val_accuracy: 0.6500 - 51ms/epoch - 3ms/step\n",
      "Epoch 45/300\n",
      "19/19 - 0s - loss: 0.5802 - accuracy: 0.6717 - val_loss: 0.6307 - val_accuracy: 0.6400 - 49ms/epoch - 3ms/step\n",
      "Epoch 46/300\n",
      "19/19 - 0s - loss: 0.5801 - accuracy: 0.6683 - val_loss: 0.6203 - val_accuracy: 0.6600 - 51ms/epoch - 3ms/step\n",
      "Epoch 47/300\n",
      "19/19 - 0s - loss: 0.5791 - accuracy: 0.6750 - val_loss: 0.6171 - val_accuracy: 0.6400 - 50ms/epoch - 3ms/step\n",
      "Epoch 48/300\n",
      "19/19 - 0s - loss: 0.5793 - accuracy: 0.6750 - val_loss: 0.6261 - val_accuracy: 0.6500 - 47ms/epoch - 2ms/step\n",
      "Epoch 49/300\n",
      "19/19 - 0s - loss: 0.5795 - accuracy: 0.6750 - val_loss: 0.6210 - val_accuracy: 0.6600 - 48ms/epoch - 3ms/step\n",
      "Epoch 50/300\n",
      "19/19 - 0s - loss: 0.5789 - accuracy: 0.6700 - val_loss: 0.6299 - val_accuracy: 0.6300 - 47ms/epoch - 2ms/step\n",
      "Epoch 51/300\n",
      "19/19 - 0s - loss: 0.5797 - accuracy: 0.6767 - val_loss: 0.6197 - val_accuracy: 0.6600 - 50ms/epoch - 3ms/step\n",
      "Epoch 52/300\n",
      "19/19 - 0s - loss: 0.5784 - accuracy: 0.6750 - val_loss: 0.6182 - val_accuracy: 0.6600 - 51ms/epoch - 3ms/step\n",
      "Epoch 53/300\n",
      "19/19 - 0s - loss: 0.5779 - accuracy: 0.6717 - val_loss: 0.6245 - val_accuracy: 0.6400 - 49ms/epoch - 3ms/step\n",
      "Epoch 54/300\n",
      "19/19 - 0s - loss: 0.5782 - accuracy: 0.6750 - val_loss: 0.6205 - val_accuracy: 0.6600 - 46ms/epoch - 2ms/step\n",
      "Epoch 55/300\n",
      "19/19 - 0s - loss: 0.5780 - accuracy: 0.6717 - val_loss: 0.6151 - val_accuracy: 0.6500 - 47ms/epoch - 2ms/step\n",
      "Epoch 56/300\n",
      "19/19 - 0s - loss: 0.5768 - accuracy: 0.6767 - val_loss: 0.6161 - val_accuracy: 0.6600 - 50ms/epoch - 3ms/step\n",
      "Epoch 57/300\n",
      "19/19 - 0s - loss: 0.5772 - accuracy: 0.6800 - val_loss: 0.6199 - val_accuracy: 0.6600 - 48ms/epoch - 3ms/step\n",
      "Epoch 58/300\n",
      "19/19 - 0s - loss: 0.5785 - accuracy: 0.6767 - val_loss: 0.6138 - val_accuracy: 0.6500 - 49ms/epoch - 3ms/step\n",
      "Epoch 59/300\n",
      "19/19 - 0s - loss: 0.5760 - accuracy: 0.6617 - val_loss: 0.6250 - val_accuracy: 0.6300 - 50ms/epoch - 3ms/step\n",
      "Epoch 60/300\n",
      "19/19 - 0s - loss: 0.5764 - accuracy: 0.6817 - val_loss: 0.6144 - val_accuracy: 0.6500 - 51ms/epoch - 3ms/step\n",
      "Epoch 61/300\n",
      "19/19 - 0s - loss: 0.5758 - accuracy: 0.6817 - val_loss: 0.6176 - val_accuracy: 0.6600 - 53ms/epoch - 3ms/step\n",
      "Epoch 62/300\n",
      "19/19 - 0s - loss: 0.5767 - accuracy: 0.6717 - val_loss: 0.6134 - val_accuracy: 0.6500 - 49ms/epoch - 3ms/step\n",
      "Epoch 63/300\n",
      "19/19 - 0s - loss: 0.5777 - accuracy: 0.6900 - val_loss: 0.6094 - val_accuracy: 0.6400 - 49ms/epoch - 3ms/step\n",
      "Epoch 64/300\n",
      "19/19 - 0s - loss: 0.5739 - accuracy: 0.6817 - val_loss: 0.6159 - val_accuracy: 0.6600 - 48ms/epoch - 3ms/step\n",
      "Epoch 65/300\n",
      "19/19 - 0s - loss: 0.5752 - accuracy: 0.6717 - val_loss: 0.6153 - val_accuracy: 0.6600 - 50ms/epoch - 3ms/step\n",
      "Epoch 66/300\n",
      "19/19 - 0s - loss: 0.5755 - accuracy: 0.6783 - val_loss: 0.6080 - val_accuracy: 0.6400 - 48ms/epoch - 3ms/step\n",
      "Epoch 67/300\n",
      "19/19 - 0s - loss: 0.5741 - accuracy: 0.6733 - val_loss: 0.6179 - val_accuracy: 0.6400 - 48ms/epoch - 3ms/step\n"
     ]
    },
    {
     "name": "stdout",
     "output_type": "stream",
     "text": [
      "Epoch 68/300\n",
      "19/19 - 0s - loss: 0.5742 - accuracy: 0.6767 - val_loss: 0.6062 - val_accuracy: 0.6300 - 50ms/epoch - 3ms/step\n",
      "Epoch 69/300\n",
      "19/19 - 0s - loss: 0.5753 - accuracy: 0.6750 - val_loss: 0.6108 - val_accuracy: 0.6500 - 47ms/epoch - 2ms/step\n",
      "Epoch 70/300\n",
      "19/19 - 0s - loss: 0.5733 - accuracy: 0.6750 - val_loss: 0.6076 - val_accuracy: 0.6500 - 47ms/epoch - 2ms/step\n",
      "Epoch 71/300\n",
      "19/19 - 0s - loss: 0.5730 - accuracy: 0.6767 - val_loss: 0.6127 - val_accuracy: 0.6600 - 54ms/epoch - 3ms/step\n",
      "Epoch 72/300\n",
      "19/19 - 0s - loss: 0.5726 - accuracy: 0.6767 - val_loss: 0.6088 - val_accuracy: 0.6500 - 57ms/epoch - 3ms/step\n",
      "Epoch 73/300\n",
      "19/19 - 0s - loss: 0.5726 - accuracy: 0.6783 - val_loss: 0.6086 - val_accuracy: 0.6500 - 53ms/epoch - 3ms/step\n",
      "Epoch 74/300\n",
      "19/19 - 0s - loss: 0.5727 - accuracy: 0.6833 - val_loss: 0.6054 - val_accuracy: 0.6500 - 79ms/epoch - 4ms/step\n",
      "Epoch 75/300\n",
      "19/19 - 0s - loss: 0.5713 - accuracy: 0.6783 - val_loss: 0.6072 - val_accuracy: 0.6500 - 49ms/epoch - 3ms/step\n",
      "Epoch 76/300\n",
      "19/19 - 0s - loss: 0.5722 - accuracy: 0.6750 - val_loss: 0.6060 - val_accuracy: 0.6500 - 47ms/epoch - 2ms/step\n",
      "Epoch 77/300\n",
      "19/19 - 0s - loss: 0.5735 - accuracy: 0.6783 - val_loss: 0.6111 - val_accuracy: 0.6600 - 49ms/epoch - 3ms/step\n",
      "Epoch 78/300\n",
      "19/19 - 0s - loss: 0.5714 - accuracy: 0.6817 - val_loss: 0.5982 - val_accuracy: 0.6500 - 56ms/epoch - 3ms/step\n",
      "Epoch 79/300\n",
      "19/19 - 0s - loss: 0.5707 - accuracy: 0.6850 - val_loss: 0.6040 - val_accuracy: 0.6500 - 53ms/epoch - 3ms/step\n",
      "Epoch 80/300\n",
      "19/19 - 0s - loss: 0.5720 - accuracy: 0.6717 - val_loss: 0.6028 - val_accuracy: 0.6500 - 53ms/epoch - 3ms/step\n",
      "Epoch 81/300\n",
      "19/19 - 0s - loss: 0.5709 - accuracy: 0.6750 - val_loss: 0.6010 - val_accuracy: 0.6500 - 49ms/epoch - 3ms/step\n",
      "Epoch 82/300\n",
      "19/19 - 0s - loss: 0.5708 - accuracy: 0.6833 - val_loss: 0.6026 - val_accuracy: 0.6500 - 43ms/epoch - 2ms/step\n",
      "Epoch 83/300\n",
      "19/19 - 0s - loss: 0.5715 - accuracy: 0.6900 - val_loss: 0.6045 - val_accuracy: 0.6500 - 45ms/epoch - 2ms/step\n",
      "Epoch 84/300\n",
      "19/19 - 0s - loss: 0.5700 - accuracy: 0.6767 - val_loss: 0.6042 - val_accuracy: 0.6600 - 53ms/epoch - 3ms/step\n",
      "Epoch 85/300\n",
      "19/19 - 0s - loss: 0.5703 - accuracy: 0.6767 - val_loss: 0.6026 - val_accuracy: 0.6500 - 56ms/epoch - 3ms/step\n",
      "Epoch 86/300\n",
      "19/19 - 0s - loss: 0.5734 - accuracy: 0.6867 - val_loss: 0.5991 - val_accuracy: 0.6500 - 51ms/epoch - 3ms/step\n",
      "Epoch 87/300\n",
      "19/19 - 0s - loss: 0.5765 - accuracy: 0.6883 - val_loss: 0.6049 - val_accuracy: 0.6500 - 52ms/epoch - 3ms/step\n",
      "Epoch 88/300\n",
      "19/19 - 0s - loss: 0.5737 - accuracy: 0.6750 - val_loss: 0.5989 - val_accuracy: 0.6500 - 49ms/epoch - 3ms/step\n",
      "Epoch 89/300\n",
      "19/19 - 0s - loss: 0.5701 - accuracy: 0.6767 - val_loss: 0.5986 - val_accuracy: 0.6400 - 51ms/epoch - 3ms/step\n",
      "Epoch 90/300\n",
      "19/19 - 0s - loss: 0.5681 - accuracy: 0.6833 - val_loss: 0.5996 - val_accuracy: 0.6500 - 54ms/epoch - 3ms/step\n",
      "Epoch 91/300\n",
      "19/19 - 0s - loss: 0.5683 - accuracy: 0.6750 - val_loss: 0.5959 - val_accuracy: 0.6600 - 55ms/epoch - 3ms/step\n",
      "Epoch 92/300\n",
      "19/19 - 0s - loss: 0.5685 - accuracy: 0.6900 - val_loss: 0.5969 - val_accuracy: 0.6600 - 53ms/epoch - 3ms/step\n",
      "Epoch 93/300\n",
      "19/19 - 0s - loss: 0.5684 - accuracy: 0.6717 - val_loss: 0.5974 - val_accuracy: 0.6600 - 49ms/epoch - 3ms/step\n",
      "Epoch 94/300\n",
      "19/19 - 0s - loss: 0.5670 - accuracy: 0.6850 - val_loss: 0.5925 - val_accuracy: 0.6400 - 49ms/epoch - 3ms/step\n",
      "Epoch 95/300\n",
      "19/19 - 0s - loss: 0.5676 - accuracy: 0.6883 - val_loss: 0.5985 - val_accuracy: 0.6600 - 53ms/epoch - 3ms/step\n",
      "Epoch 96/300\n",
      "19/19 - 0s - loss: 0.5707 - accuracy: 0.6717 - val_loss: 0.5901 - val_accuracy: 0.6400 - 56ms/epoch - 3ms/step\n",
      "Epoch 97/300\n",
      "19/19 - 0s - loss: 0.5669 - accuracy: 0.6933 - val_loss: 0.5941 - val_accuracy: 0.6600 - 51ms/epoch - 3ms/step\n",
      "Epoch 98/300\n",
      "19/19 - 0s - loss: 0.5678 - accuracy: 0.6750 - val_loss: 0.5929 - val_accuracy: 0.6600 - 48ms/epoch - 3ms/step\n",
      "Epoch 99/300\n",
      "19/19 - 0s - loss: 0.5670 - accuracy: 0.6850 - val_loss: 0.5889 - val_accuracy: 0.6500 - 48ms/epoch - 3ms/step\n",
      "Epoch 100/300\n",
      "19/19 - 0s - loss: 0.5654 - accuracy: 0.6883 - val_loss: 0.5944 - val_accuracy: 0.6600 - 52ms/epoch - 3ms/step\n",
      "Epoch 101/300\n",
      "19/19 - 0s - loss: 0.5667 - accuracy: 0.6750 - val_loss: 0.5921 - val_accuracy: 0.6600 - 48ms/epoch - 3ms/step\n",
      "Epoch 102/300\n",
      "19/19 - 0s - loss: 0.5687 - accuracy: 0.6900 - val_loss: 0.5817 - val_accuracy: 0.6700 - 48ms/epoch - 3ms/step\n",
      "Epoch 103/300\n",
      "19/19 - 0s - loss: 0.5662 - accuracy: 0.6917 - val_loss: 0.5914 - val_accuracy: 0.6600 - 47ms/epoch - 2ms/step\n",
      "Epoch 104/300\n",
      "19/19 - 0s - loss: 0.5660 - accuracy: 0.6750 - val_loss: 0.5901 - val_accuracy: 0.6600 - 52ms/epoch - 3ms/step\n",
      "Epoch 105/300\n",
      "19/19 - 0s - loss: 0.5666 - accuracy: 0.6917 - val_loss: 0.5893 - val_accuracy: 0.6700 - 53ms/epoch - 3ms/step\n",
      "Epoch 106/300\n",
      "19/19 - 0s - loss: 0.5671 - accuracy: 0.6950 - val_loss: 0.5845 - val_accuracy: 0.6700 - 52ms/epoch - 3ms/step\n",
      "Epoch 107/300\n",
      "19/19 - 0s - loss: 0.5659 - accuracy: 0.6833 - val_loss: 0.5917 - val_accuracy: 0.6700 - 51ms/epoch - 3ms/step\n",
      "Epoch 108/300\n",
      "19/19 - 0s - loss: 0.5633 - accuracy: 0.6883 - val_loss: 0.5777 - val_accuracy: 0.6600 - 47ms/epoch - 2ms/step\n",
      "Epoch 109/300\n",
      "19/19 - 0s - loss: 0.5669 - accuracy: 0.6950 - val_loss: 0.5875 - val_accuracy: 0.6500 - 55ms/epoch - 3ms/step\n",
      "Epoch 110/300\n",
      "19/19 - 0s - loss: 0.5643 - accuracy: 0.6950 - val_loss: 0.5828 - val_accuracy: 0.6700 - 49ms/epoch - 3ms/step\n",
      "Epoch 111/300\n",
      "19/19 - 0s - loss: 0.5639 - accuracy: 0.6883 - val_loss: 0.5815 - val_accuracy: 0.6600 - 53ms/epoch - 3ms/step\n",
      "Epoch 112/300\n",
      "19/19 - 0s - loss: 0.5671 - accuracy: 0.6783 - val_loss: 0.5815 - val_accuracy: 0.6600 - 48ms/epoch - 3ms/step\n",
      "Epoch 113/300\n",
      "19/19 - 0s - loss: 0.5642 - accuracy: 0.6883 - val_loss: 0.5772 - val_accuracy: 0.6600 - 48ms/epoch - 3ms/step\n",
      "Epoch 114/300\n",
      "19/19 - 0s - loss: 0.5658 - accuracy: 0.6850 - val_loss: 0.5848 - val_accuracy: 0.6600 - 52ms/epoch - 3ms/step\n",
      "Epoch 115/300\n",
      "19/19 - 0s - loss: 0.5655 - accuracy: 0.6900 - val_loss: 0.5716 - val_accuracy: 0.6600 - 50ms/epoch - 3ms/step\n",
      "Epoch 116/300\n",
      "19/19 - 0s - loss: 0.5631 - accuracy: 0.6850 - val_loss: 0.5817 - val_accuracy: 0.6700 - 50ms/epoch - 3ms/step\n",
      "Epoch 117/300\n",
      "19/19 - 0s - loss: 0.5632 - accuracy: 0.6883 - val_loss: 0.5803 - val_accuracy: 0.6700 - 51ms/epoch - 3ms/step\n",
      "Epoch 118/300\n",
      "19/19 - 0s - loss: 0.5622 - accuracy: 0.6850 - val_loss: 0.5777 - val_accuracy: 0.6600 - 52ms/epoch - 3ms/step\n",
      "Epoch 119/300\n",
      "19/19 - 0s - loss: 0.5613 - accuracy: 0.6967 - val_loss: 0.5765 - val_accuracy: 0.6700 - 51ms/epoch - 3ms/step\n",
      "Epoch 120/300\n",
      "19/19 - 0s - loss: 0.5614 - accuracy: 0.6950 - val_loss: 0.5831 - val_accuracy: 0.6700 - 49ms/epoch - 3ms/step\n",
      "Epoch 121/300\n",
      "19/19 - 0s - loss: 0.5615 - accuracy: 0.6917 - val_loss: 0.5787 - val_accuracy: 0.6700 - 51ms/epoch - 3ms/step\n",
      "Epoch 122/300\n",
      "19/19 - 0s - loss: 0.5606 - accuracy: 0.6900 - val_loss: 0.5763 - val_accuracy: 0.6700 - 54ms/epoch - 3ms/step\n",
      "Epoch 123/300\n",
      "19/19 - 0s - loss: 0.5625 - accuracy: 0.6883 - val_loss: 0.5686 - val_accuracy: 0.6900 - 51ms/epoch - 3ms/step\n",
      "Epoch 124/300\n",
      "19/19 - 0s - loss: 0.5634 - accuracy: 0.6967 - val_loss: 0.5726 - val_accuracy: 0.6600 - 50ms/epoch - 3ms/step\n",
      "Epoch 125/300\n",
      "19/19 - 0s - loss: 0.5632 - accuracy: 0.6883 - val_loss: 0.5742 - val_accuracy: 0.6600 - 49ms/epoch - 3ms/step\n",
      "Epoch 126/300\n",
      "19/19 - 0s - loss: 0.5637 - accuracy: 0.6950 - val_loss: 0.5754 - val_accuracy: 0.6600 - 50ms/epoch - 3ms/step\n",
      "Epoch 127/300\n",
      "19/19 - 0s - loss: 0.5618 - accuracy: 0.6967 - val_loss: 0.5627 - val_accuracy: 0.6900 - 47ms/epoch - 2ms/step\n",
      "Epoch 128/300\n",
      "19/19 - 0s - loss: 0.5623 - accuracy: 0.6950 - val_loss: 0.5670 - val_accuracy: 0.6700 - 51ms/epoch - 3ms/step\n",
      "Epoch 129/300\n",
      "19/19 - 0s - loss: 0.5610 - accuracy: 0.6933 - val_loss: 0.5740 - val_accuracy: 0.6700 - 48ms/epoch - 3ms/step\n",
      "Epoch 130/300\n",
      "19/19 - 0s - loss: 0.5587 - accuracy: 0.6950 - val_loss: 0.5679 - val_accuracy: 0.6700 - 47ms/epoch - 2ms/step\n",
      "Epoch 131/300\n",
      "19/19 - 0s - loss: 0.5628 - accuracy: 0.6950 - val_loss: 0.5612 - val_accuracy: 0.6900 - 49ms/epoch - 3ms/step\n",
      "Epoch 132/300\n",
      "19/19 - 0s - loss: 0.5588 - accuracy: 0.6967 - val_loss: 0.5746 - val_accuracy: 0.6800 - 50ms/epoch - 3ms/step\n",
      "Epoch 133/300\n",
      "19/19 - 0s - loss: 0.5593 - accuracy: 0.6967 - val_loss: 0.5649 - val_accuracy: 0.6900 - 47ms/epoch - 2ms/step\n"
     ]
    },
    {
     "name": "stdout",
     "output_type": "stream",
     "text": [
      "Epoch 134/300\n",
      "19/19 - 0s - loss: 0.5603 - accuracy: 0.7000 - val_loss: 0.5629 - val_accuracy: 0.6800 - 50ms/epoch - 3ms/step\n",
      "Epoch 135/300\n",
      "19/19 - 0s - loss: 0.5635 - accuracy: 0.6900 - val_loss: 0.5665 - val_accuracy: 0.6700 - 50ms/epoch - 3ms/step\n",
      "Epoch 136/300\n",
      "19/19 - 0s - loss: 0.5658 - accuracy: 0.6867 - val_loss: 0.5651 - val_accuracy: 0.6900 - 47ms/epoch - 2ms/step\n",
      "Epoch 137/300\n",
      "19/19 - 0s - loss: 0.5600 - accuracy: 0.6983 - val_loss: 0.5637 - val_accuracy: 0.6900 - 50ms/epoch - 3ms/step\n",
      "Epoch 138/300\n",
      "19/19 - 0s - loss: 0.5619 - accuracy: 0.6900 - val_loss: 0.5825 - val_accuracy: 0.6700 - 47ms/epoch - 2ms/step\n",
      "Epoch 139/300\n",
      "19/19 - 0s - loss: 0.5630 - accuracy: 0.6900 - val_loss: 0.5537 - val_accuracy: 0.6800 - 49ms/epoch - 3ms/step\n",
      "Epoch 140/300\n",
      "19/19 - 0s - loss: 0.5613 - accuracy: 0.6850 - val_loss: 0.5745 - val_accuracy: 0.6600 - 48ms/epoch - 3ms/step\n",
      "Epoch 141/300\n",
      "19/19 - 0s - loss: 0.5592 - accuracy: 0.7000 - val_loss: 0.5581 - val_accuracy: 0.6900 - 49ms/epoch - 3ms/step\n",
      "Epoch 142/300\n",
      "19/19 - 0s - loss: 0.5582 - accuracy: 0.6983 - val_loss: 0.5589 - val_accuracy: 0.6900 - 48ms/epoch - 3ms/step\n",
      "Epoch 143/300\n",
      "19/19 - 0s - loss: 0.5570 - accuracy: 0.6983 - val_loss: 0.5557 - val_accuracy: 0.6900 - 48ms/epoch - 3ms/step\n",
      "Epoch 144/300\n",
      "19/19 - 0s - loss: 0.5587 - accuracy: 0.6950 - val_loss: 0.5590 - val_accuracy: 0.6700 - 50ms/epoch - 3ms/step\n",
      "Epoch 145/300\n",
      "19/19 - 0s - loss: 0.5584 - accuracy: 0.7033 - val_loss: 0.5576 - val_accuracy: 0.6900 - 46ms/epoch - 2ms/step\n",
      "Epoch 146/300\n",
      "19/19 - 0s - loss: 0.5590 - accuracy: 0.6950 - val_loss: 0.5543 - val_accuracy: 0.6900 - 51ms/epoch - 3ms/step\n",
      "Epoch 147/300\n",
      "19/19 - 0s - loss: 0.5567 - accuracy: 0.7000 - val_loss: 0.5555 - val_accuracy: 0.6900 - 51ms/epoch - 3ms/step\n",
      "Epoch 148/300\n",
      "19/19 - 0s - loss: 0.5586 - accuracy: 0.7000 - val_loss: 0.5615 - val_accuracy: 0.6800 - 50ms/epoch - 3ms/step\n",
      "Epoch 149/300\n",
      "19/19 - 0s - loss: 0.5583 - accuracy: 0.6967 - val_loss: 0.5552 - val_accuracy: 0.7000 - 50ms/epoch - 3ms/step\n",
      "Epoch 150/300\n",
      "19/19 - 0s - loss: 0.5555 - accuracy: 0.7000 - val_loss: 0.5482 - val_accuracy: 0.6900 - 52ms/epoch - 3ms/step\n",
      "Epoch 151/300\n",
      "19/19 - 0s - loss: 0.5548 - accuracy: 0.7033 - val_loss: 0.5556 - val_accuracy: 0.6900 - 49ms/epoch - 3ms/step\n",
      "Epoch 152/300\n",
      "19/19 - 0s - loss: 0.5557 - accuracy: 0.6967 - val_loss: 0.5514 - val_accuracy: 0.6900 - 51ms/epoch - 3ms/step\n",
      "Epoch 153/300\n",
      "19/19 - 0s - loss: 0.5547 - accuracy: 0.7017 - val_loss: 0.5550 - val_accuracy: 0.6900 - 49ms/epoch - 3ms/step\n",
      "Epoch 154/300\n",
      "19/19 - 0s - loss: 0.5549 - accuracy: 0.7000 - val_loss: 0.5441 - val_accuracy: 0.6900 - 46ms/epoch - 2ms/step\n",
      "Epoch 155/300\n",
      "19/19 - 0s - loss: 0.5547 - accuracy: 0.7033 - val_loss: 0.5495 - val_accuracy: 0.6900 - 50ms/epoch - 3ms/step\n",
      "Epoch 156/300\n",
      "19/19 - 0s - loss: 0.5561 - accuracy: 0.6950 - val_loss: 0.5601 - val_accuracy: 0.6900 - 50ms/epoch - 3ms/step\n",
      "Epoch 157/300\n",
      "19/19 - 0s - loss: 0.5530 - accuracy: 0.6950 - val_loss: 0.5430 - val_accuracy: 0.6900 - 48ms/epoch - 3ms/step\n",
      "Epoch 158/300\n",
      "19/19 - 0s - loss: 0.5574 - accuracy: 0.6983 - val_loss: 0.5464 - val_accuracy: 0.6900 - 50ms/epoch - 3ms/step\n",
      "Epoch 159/300\n",
      "19/19 - 0s - loss: 0.5548 - accuracy: 0.7000 - val_loss: 0.5548 - val_accuracy: 0.7000 - 44ms/epoch - 2ms/step\n",
      "Epoch 160/300\n",
      "19/19 - 0s - loss: 0.5559 - accuracy: 0.7017 - val_loss: 0.5502 - val_accuracy: 0.6900 - 46ms/epoch - 2ms/step\n",
      "Epoch 161/300\n",
      "19/19 - 0s - loss: 0.5609 - accuracy: 0.6900 - val_loss: 0.5503 - val_accuracy: 0.7100 - 52ms/epoch - 3ms/step\n",
      "Epoch 162/300\n",
      "19/19 - 0s - loss: 0.5569 - accuracy: 0.6917 - val_loss: 0.5616 - val_accuracy: 0.6800 - 51ms/epoch - 3ms/step\n",
      "Epoch 163/300\n",
      "19/19 - 0s - loss: 0.5559 - accuracy: 0.7000 - val_loss: 0.5487 - val_accuracy: 0.6800 - 49ms/epoch - 3ms/step\n",
      "Epoch 164/300\n",
      "19/19 - 0s - loss: 0.5590 - accuracy: 0.6933 - val_loss: 0.5584 - val_accuracy: 0.7000 - 49ms/epoch - 3ms/step\n",
      "Epoch 165/300\n",
      "19/19 - 0s - loss: 0.5565 - accuracy: 0.6967 - val_loss: 0.5454 - val_accuracy: 0.6800 - 49ms/epoch - 3ms/step\n",
      "Epoch 166/300\n",
      "19/19 - 0s - loss: 0.5536 - accuracy: 0.7017 - val_loss: 0.5517 - val_accuracy: 0.6900 - 47ms/epoch - 2ms/step\n",
      "Epoch 167/300\n",
      "19/19 - 0s - loss: 0.5561 - accuracy: 0.6933 - val_loss: 0.5521 - val_accuracy: 0.6900 - 52ms/epoch - 3ms/step\n",
      "Epoch 168/300\n",
      "19/19 - 0s - loss: 0.5541 - accuracy: 0.6983 - val_loss: 0.5442 - val_accuracy: 0.6900 - 57ms/epoch - 3ms/step\n",
      "Epoch 169/300\n",
      "19/19 - 0s - loss: 0.5551 - accuracy: 0.7033 - val_loss: 0.5540 - val_accuracy: 0.7000 - 49ms/epoch - 3ms/step\n",
      "Epoch 170/300\n",
      "19/19 - 0s - loss: 0.5551 - accuracy: 0.7000 - val_loss: 0.5458 - val_accuracy: 0.6900 - 48ms/epoch - 3ms/step\n",
      "Epoch 171/300\n",
      "19/19 - 0s - loss: 0.5556 - accuracy: 0.7017 - val_loss: 0.5498 - val_accuracy: 0.7000 - 46ms/epoch - 2ms/step\n",
      "Epoch 172/300\n",
      "19/19 - 0s - loss: 0.5528 - accuracy: 0.7000 - val_loss: 0.5512 - val_accuracy: 0.7000 - 46ms/epoch - 2ms/step\n",
      "Epoch 173/300\n",
      "19/19 - 0s - loss: 0.5527 - accuracy: 0.7050 - val_loss: 0.5436 - val_accuracy: 0.6900 - 48ms/epoch - 3ms/step\n",
      "Epoch 174/300\n",
      "19/19 - 0s - loss: 0.5522 - accuracy: 0.7033 - val_loss: 0.5389 - val_accuracy: 0.6900 - 49ms/epoch - 3ms/step\n",
      "Epoch 175/300\n",
      "19/19 - 0s - loss: 0.5512 - accuracy: 0.7017 - val_loss: 0.5390 - val_accuracy: 0.6900 - 53ms/epoch - 3ms/step\n",
      "Epoch 176/300\n",
      "19/19 - 0s - loss: 0.5520 - accuracy: 0.7017 - val_loss: 0.5460 - val_accuracy: 0.7000 - 53ms/epoch - 3ms/step\n",
      "Epoch 177/300\n",
      "19/19 - 0s - loss: 0.5518 - accuracy: 0.7050 - val_loss: 0.5430 - val_accuracy: 0.6900 - 52ms/epoch - 3ms/step\n",
      "Epoch 178/300\n",
      "19/19 - 0s - loss: 0.5511 - accuracy: 0.7033 - val_loss: 0.5405 - val_accuracy: 0.7000 - 67ms/epoch - 4ms/step\n",
      "Epoch 179/300\n",
      "19/19 - 0s - loss: 0.5515 - accuracy: 0.7050 - val_loss: 0.5390 - val_accuracy: 0.7000 - 44ms/epoch - 2ms/step\n",
      "Epoch 180/300\n",
      "19/19 - 0s - loss: 0.5533 - accuracy: 0.7083 - val_loss: 0.5444 - val_accuracy: 0.7000 - 46ms/epoch - 2ms/step\n",
      "Epoch 181/300\n",
      "19/19 - 0s - loss: 0.5514 - accuracy: 0.7050 - val_loss: 0.5401 - val_accuracy: 0.7000 - 45ms/epoch - 2ms/step\n",
      "Epoch 182/300\n",
      "19/19 - 0s - loss: 0.5511 - accuracy: 0.7000 - val_loss: 0.5455 - val_accuracy: 0.7000 - 47ms/epoch - 2ms/step\n",
      "Epoch 183/300\n",
      "19/19 - 0s - loss: 0.5546 - accuracy: 0.7017 - val_loss: 0.5325 - val_accuracy: 0.7000 - 47ms/epoch - 2ms/step\n",
      "Epoch 184/300\n",
      "19/19 - 0s - loss: 0.5504 - accuracy: 0.7000 - val_loss: 0.5429 - val_accuracy: 0.6900 - 50ms/epoch - 3ms/step\n",
      "Epoch 185/300\n",
      "19/19 - 0s - loss: 0.5524 - accuracy: 0.7050 - val_loss: 0.5448 - val_accuracy: 0.7000 - 51ms/epoch - 3ms/step\n",
      "Epoch 186/300\n",
      "19/19 - 0s - loss: 0.5519 - accuracy: 0.7033 - val_loss: 0.5324 - val_accuracy: 0.6800 - 51ms/epoch - 3ms/step\n",
      "Epoch 187/300\n",
      "19/19 - 0s - loss: 0.5548 - accuracy: 0.6967 - val_loss: 0.5450 - val_accuracy: 0.7000 - 51ms/epoch - 3ms/step\n",
      "Epoch 188/300\n",
      "19/19 - 0s - loss: 0.5541 - accuracy: 0.7050 - val_loss: 0.5344 - val_accuracy: 0.7000 - 49ms/epoch - 3ms/step\n",
      "Epoch 189/300\n",
      "19/19 - 0s - loss: 0.5503 - accuracy: 0.7083 - val_loss: 0.5455 - val_accuracy: 0.7100 - 54ms/epoch - 3ms/step\n",
      "Epoch 190/300\n",
      "19/19 - 0s - loss: 0.5521 - accuracy: 0.7017 - val_loss: 0.5353 - val_accuracy: 0.7000 - 46ms/epoch - 2ms/step\n",
      "Epoch 191/300\n",
      "19/19 - 0s - loss: 0.5505 - accuracy: 0.7050 - val_loss: 0.5363 - val_accuracy: 0.6900 - 50ms/epoch - 3ms/step\n",
      "Epoch 192/300\n",
      "19/19 - 0s - loss: 0.5539 - accuracy: 0.7000 - val_loss: 0.5371 - val_accuracy: 0.7000 - 49ms/epoch - 3ms/step\n",
      "Epoch 193/300\n",
      "19/19 - 0s - loss: 0.5587 - accuracy: 0.7000 - val_loss: 0.5435 - val_accuracy: 0.7000 - 48ms/epoch - 3ms/step\n",
      "Epoch 194/300\n",
      "19/19 - 0s - loss: 0.5495 - accuracy: 0.7000 - val_loss: 0.5291 - val_accuracy: 0.6800 - 51ms/epoch - 3ms/step\n",
      "Epoch 195/300\n",
      "19/19 - 0s - loss: 0.5481 - accuracy: 0.6950 - val_loss: 0.5415 - val_accuracy: 0.7000 - 52ms/epoch - 3ms/step\n",
      "Epoch 196/300\n",
      "19/19 - 0s - loss: 0.5495 - accuracy: 0.7083 - val_loss: 0.5380 - val_accuracy: 0.6900 - 50ms/epoch - 3ms/step\n",
      "Epoch 197/300\n",
      "19/19 - 0s - loss: 0.5482 - accuracy: 0.7033 - val_loss: 0.5341 - val_accuracy: 0.7000 - 47ms/epoch - 2ms/step\n",
      "Epoch 198/300\n",
      "19/19 - 0s - loss: 0.5486 - accuracy: 0.7033 - val_loss: 0.5365 - val_accuracy: 0.7000 - 51ms/epoch - 3ms/step\n",
      "Epoch 199/300\n",
      "19/19 - 0s - loss: 0.5491 - accuracy: 0.7033 - val_loss: 0.5347 - val_accuracy: 0.7000 - 50ms/epoch - 3ms/step\n"
     ]
    },
    {
     "name": "stdout",
     "output_type": "stream",
     "text": [
      "Epoch 200/300\n",
      "19/19 - 0s - loss: 0.5484 - accuracy: 0.7033 - val_loss: 0.5348 - val_accuracy: 0.7000 - 51ms/epoch - 3ms/step\n",
      "Epoch 201/300\n",
      "19/19 - 0s - loss: 0.5502 - accuracy: 0.7050 - val_loss: 0.5452 - val_accuracy: 0.7000 - 51ms/epoch - 3ms/step\n",
      "Epoch 202/300\n",
      "19/19 - 0s - loss: 0.5489 - accuracy: 0.7067 - val_loss: 0.5330 - val_accuracy: 0.7000 - 49ms/epoch - 3ms/step\n",
      "Epoch 203/300\n",
      "19/19 - 0s - loss: 0.5487 - accuracy: 0.7067 - val_loss: 0.5359 - val_accuracy: 0.7000 - 49ms/epoch - 3ms/step\n",
      "Epoch 204/300\n",
      "19/19 - 0s - loss: 0.5469 - accuracy: 0.7000 - val_loss: 0.5354 - val_accuracy: 0.7000 - 50ms/epoch - 3ms/step\n",
      "Epoch 205/300\n",
      "19/19 - 0s - loss: 0.5454 - accuracy: 0.7017 - val_loss: 0.5317 - val_accuracy: 0.7000 - 50ms/epoch - 3ms/step\n",
      "Epoch 206/300\n",
      "19/19 - 0s - loss: 0.5474 - accuracy: 0.7017 - val_loss: 0.5370 - val_accuracy: 0.7000 - 48ms/epoch - 3ms/step\n",
      "Epoch 207/300\n",
      "19/19 - 0s - loss: 0.5460 - accuracy: 0.7083 - val_loss: 0.5312 - val_accuracy: 0.7000 - 48ms/epoch - 3ms/step\n",
      "Epoch 208/300\n",
      "19/19 - 0s - loss: 0.5487 - accuracy: 0.7017 - val_loss: 0.5278 - val_accuracy: 0.7000 - 48ms/epoch - 3ms/step\n",
      "Epoch 209/300\n",
      "19/19 - 0s - loss: 0.5543 - accuracy: 0.7100 - val_loss: 0.5353 - val_accuracy: 0.7000 - 49ms/epoch - 3ms/step\n",
      "Epoch 210/300\n",
      "19/19 - 0s - loss: 0.5487 - accuracy: 0.7067 - val_loss: 0.5335 - val_accuracy: 0.6900 - 50ms/epoch - 3ms/step\n",
      "Epoch 211/300\n",
      "19/19 - 0s - loss: 0.5481 - accuracy: 0.7000 - val_loss: 0.5369 - val_accuracy: 0.7000 - 49ms/epoch - 3ms/step\n",
      "Epoch 212/300\n",
      "19/19 - 0s - loss: 0.5473 - accuracy: 0.6967 - val_loss: 0.5281 - val_accuracy: 0.6800 - 49ms/epoch - 3ms/step\n",
      "Epoch 213/300\n",
      "19/19 - 0s - loss: 0.5465 - accuracy: 0.7050 - val_loss: 0.5335 - val_accuracy: 0.7000 - 49ms/epoch - 3ms/step\n",
      "Epoch 214/300\n",
      "19/19 - 0s - loss: 0.5468 - accuracy: 0.7017 - val_loss: 0.5344 - val_accuracy: 0.7000 - 49ms/epoch - 3ms/step\n",
      "Epoch 215/300\n",
      "19/19 - 0s - loss: 0.5459 - accuracy: 0.7083 - val_loss: 0.5370 - val_accuracy: 0.7000 - 51ms/epoch - 3ms/step\n",
      "Epoch 216/300\n",
      "19/19 - 0s - loss: 0.5474 - accuracy: 0.7017 - val_loss: 0.5364 - val_accuracy: 0.6900 - 50ms/epoch - 3ms/step\n",
      "Epoch 217/300\n",
      "19/19 - 0s - loss: 0.5518 - accuracy: 0.7067 - val_loss: 0.5322 - val_accuracy: 0.7000 - 48ms/epoch - 3ms/step\n",
      "Epoch 218/300\n",
      "19/19 - 0s - loss: 0.5438 - accuracy: 0.6983 - val_loss: 0.5331 - val_accuracy: 0.7000 - 48ms/epoch - 3ms/step\n",
      "Epoch 219/300\n",
      "19/19 - 0s - loss: 0.5430 - accuracy: 0.7033 - val_loss: 0.5381 - val_accuracy: 0.7000 - 48ms/epoch - 3ms/step\n",
      "Epoch 220/300\n",
      "19/19 - 0s - loss: 0.5455 - accuracy: 0.7050 - val_loss: 0.5373 - val_accuracy: 0.7000 - 48ms/epoch - 3ms/step\n",
      "Epoch 221/300\n",
      "19/19 - 0s - loss: 0.5500 - accuracy: 0.7017 - val_loss: 0.5373 - val_accuracy: 0.6900 - 48ms/epoch - 3ms/step\n",
      "Epoch 222/300\n",
      "19/19 - 0s - loss: 0.5493 - accuracy: 0.7050 - val_loss: 0.5394 - val_accuracy: 0.7000 - 49ms/epoch - 3ms/step\n",
      "Epoch 223/300\n",
      "19/19 - 0s - loss: 0.5463 - accuracy: 0.7017 - val_loss: 0.5380 - val_accuracy: 0.7000 - 49ms/epoch - 3ms/step\n",
      "Epoch 224/300\n",
      "19/19 - 0s - loss: 0.5423 - accuracy: 0.7167 - val_loss: 0.5319 - val_accuracy: 0.7100 - 50ms/epoch - 3ms/step\n",
      "Epoch 225/300\n",
      "19/19 - 0s - loss: 0.5465 - accuracy: 0.7000 - val_loss: 0.5382 - val_accuracy: 0.7000 - 51ms/epoch - 3ms/step\n",
      "Epoch 226/300\n",
      "19/19 - 0s - loss: 0.5446 - accuracy: 0.7017 - val_loss: 0.5344 - val_accuracy: 0.7000 - 54ms/epoch - 3ms/step\n",
      "Epoch 227/300\n",
      "19/19 - 0s - loss: 0.5441 - accuracy: 0.7083 - val_loss: 0.5295 - val_accuracy: 0.7000 - 58ms/epoch - 3ms/step\n",
      "Epoch 228/300\n",
      "19/19 - 0s - loss: 0.5433 - accuracy: 0.7033 - val_loss: 0.5319 - val_accuracy: 0.7000 - 54ms/epoch - 3ms/step\n",
      "Epoch 229/300\n",
      "19/19 - 0s - loss: 0.5451 - accuracy: 0.7033 - val_loss: 0.5471 - val_accuracy: 0.7000 - 55ms/epoch - 3ms/step\n",
      "Epoch 230/300\n",
      "19/19 - 0s - loss: 0.5445 - accuracy: 0.7133 - val_loss: 0.5340 - val_accuracy: 0.7000 - 51ms/epoch - 3ms/step\n",
      "Epoch 231/300\n",
      "19/19 - 0s - loss: 0.5413 - accuracy: 0.7017 - val_loss: 0.5287 - val_accuracy: 0.7000 - 51ms/epoch - 3ms/step\n",
      "Epoch 232/300\n",
      "19/19 - 0s - loss: 0.5431 - accuracy: 0.7000 - val_loss: 0.5335 - val_accuracy: 0.7000 - 45ms/epoch - 2ms/step\n",
      "Epoch 233/300\n",
      "19/19 - 0s - loss: 0.5438 - accuracy: 0.7017 - val_loss: 0.5352 - val_accuracy: 0.7000 - 45ms/epoch - 2ms/step\n",
      "Epoch 234/300\n",
      "19/19 - 0s - loss: 0.5442 - accuracy: 0.7000 - val_loss: 0.5422 - val_accuracy: 0.7100 - 54ms/epoch - 3ms/step\n",
      "Epoch 235/300\n",
      "19/19 - 0s - loss: 0.5400 - accuracy: 0.7117 - val_loss: 0.5291 - val_accuracy: 0.7000 - 54ms/epoch - 3ms/step\n",
      "Epoch 236/300\n",
      "19/19 - 0s - loss: 0.5438 - accuracy: 0.7017 - val_loss: 0.5399 - val_accuracy: 0.7000 - 54ms/epoch - 3ms/step\n",
      "Epoch 237/300\n",
      "19/19 - 0s - loss: 0.5414 - accuracy: 0.7167 - val_loss: 0.5332 - val_accuracy: 0.6900 - 54ms/epoch - 3ms/step\n",
      "Epoch 238/300\n",
      "19/19 - 0s - loss: 0.5467 - accuracy: 0.7017 - val_loss: 0.5456 - val_accuracy: 0.7000 - 49ms/epoch - 3ms/step\n",
      "Epoch 239/300\n",
      "19/19 - 0s - loss: 0.5446 - accuracy: 0.7050 - val_loss: 0.5281 - val_accuracy: 0.7000 - 46ms/epoch - 2ms/step\n",
      "Epoch 240/300\n",
      "19/19 - 0s - loss: 0.5447 - accuracy: 0.6933 - val_loss: 0.5290 - val_accuracy: 0.7000 - 46ms/epoch - 2ms/step\n",
      "Epoch 241/300\n",
      "19/19 - 0s - loss: 0.5398 - accuracy: 0.7133 - val_loss: 0.5294 - val_accuracy: 0.7000 - 55ms/epoch - 3ms/step\n",
      "Epoch 242/300\n",
      "19/19 - 0s - loss: 0.5432 - accuracy: 0.7017 - val_loss: 0.5417 - val_accuracy: 0.7000 - 55ms/epoch - 3ms/step\n",
      "Epoch 243/300\n",
      "19/19 - 0s - loss: 0.5394 - accuracy: 0.7100 - val_loss: 0.5305 - val_accuracy: 0.6900 - 52ms/epoch - 3ms/step\n",
      "Epoch 244/300\n",
      "19/19 - 0s - loss: 0.5407 - accuracy: 0.7100 - val_loss: 0.5351 - val_accuracy: 0.7000 - 49ms/epoch - 3ms/step\n",
      "Epoch 245/300\n",
      "19/19 - 0s - loss: 0.5401 - accuracy: 0.7067 - val_loss: 0.5328 - val_accuracy: 0.7000 - 48ms/epoch - 3ms/step\n",
      "Epoch 246/300\n",
      "19/19 - 0s - loss: 0.5408 - accuracy: 0.7033 - val_loss: 0.5285 - val_accuracy: 0.7000 - 46ms/epoch - 2ms/step\n",
      "Epoch 247/300\n",
      "19/19 - 0s - loss: 0.5437 - accuracy: 0.7000 - val_loss: 0.5300 - val_accuracy: 0.7000 - 47ms/epoch - 2ms/step\n",
      "Epoch 248/300\n",
      "19/19 - 0s - loss: 0.5390 - accuracy: 0.7133 - val_loss: 0.5360 - val_accuracy: 0.7200 - 48ms/epoch - 3ms/step\n",
      "Epoch 249/300\n",
      "19/19 - 0s - loss: 0.5402 - accuracy: 0.7033 - val_loss: 0.5434 - val_accuracy: 0.7100 - 51ms/epoch - 3ms/step\n",
      "Epoch 250/300\n",
      "19/19 - 0s - loss: 0.5413 - accuracy: 0.7117 - val_loss: 0.5370 - val_accuracy: 0.7000 - 53ms/epoch - 3ms/step\n",
      "Epoch 251/300\n",
      "19/19 - 0s - loss: 0.5386 - accuracy: 0.7000 - val_loss: 0.5360 - val_accuracy: 0.7000 - 54ms/epoch - 3ms/step\n",
      "Epoch 252/300\n",
      "19/19 - 0s - loss: 0.5412 - accuracy: 0.7050 - val_loss: 0.5461 - val_accuracy: 0.7100 - 52ms/epoch - 3ms/step\n",
      "Epoch 253/300\n",
      "19/19 - 0s - loss: 0.5427 - accuracy: 0.7000 - val_loss: 0.5271 - val_accuracy: 0.6900 - 51ms/epoch - 3ms/step\n",
      "Epoch 254/300\n",
      "19/19 - 0s - loss: 0.5404 - accuracy: 0.7083 - val_loss: 0.5352 - val_accuracy: 0.7200 - 45ms/epoch - 2ms/step\n",
      "Epoch 255/300\n",
      "19/19 - 0s - loss: 0.5415 - accuracy: 0.7083 - val_loss: 0.5299 - val_accuracy: 0.7000 - 46ms/epoch - 2ms/step\n",
      "Epoch 256/300\n",
      "19/19 - 0s - loss: 0.5397 - accuracy: 0.7067 - val_loss: 0.5304 - val_accuracy: 0.7100 - 48ms/epoch - 3ms/step\n",
      "Epoch 257/300\n",
      "19/19 - 0s - loss: 0.5378 - accuracy: 0.7050 - val_loss: 0.5377 - val_accuracy: 0.6800 - 53ms/epoch - 3ms/step\n",
      "Epoch 258/300\n",
      "19/19 - 0s - loss: 0.5404 - accuracy: 0.7067 - val_loss: 0.5337 - val_accuracy: 0.6900 - 52ms/epoch - 3ms/step\n",
      "Epoch 259/300\n",
      "19/19 - 0s - loss: 0.5406 - accuracy: 0.7100 - val_loss: 0.5219 - val_accuracy: 0.7000 - 52ms/epoch - 3ms/step\n",
      "Epoch 260/300\n",
      "19/19 - 0s - loss: 0.5391 - accuracy: 0.7067 - val_loss: 0.5364 - val_accuracy: 0.7000 - 52ms/epoch - 3ms/step\n",
      "Epoch 261/300\n",
      "19/19 - 0s - loss: 0.5384 - accuracy: 0.7050 - val_loss: 0.5330 - val_accuracy: 0.7000 - 48ms/epoch - 3ms/step\n",
      "Epoch 262/300\n",
      "19/19 - 0s - loss: 0.5419 - accuracy: 0.7000 - val_loss: 0.5384 - val_accuracy: 0.6900 - 48ms/epoch - 3ms/step\n",
      "Epoch 263/300\n",
      "19/19 - 0s - loss: 0.5434 - accuracy: 0.7083 - val_loss: 0.5304 - val_accuracy: 0.7100 - 47ms/epoch - 2ms/step\n",
      "Epoch 264/300\n",
      "19/19 - 0s - loss: 0.5397 - accuracy: 0.7033 - val_loss: 0.5365 - val_accuracy: 0.7000 - 48ms/epoch - 3ms/step\n",
      "Epoch 265/300\n",
      "19/19 - 0s - loss: 0.5363 - accuracy: 0.7100 - val_loss: 0.5420 - val_accuracy: 0.7000 - 54ms/epoch - 3ms/step\n"
     ]
    },
    {
     "name": "stdout",
     "output_type": "stream",
     "text": [
      "Epoch 266/300\n",
      "19/19 - 0s - loss: 0.5378 - accuracy: 0.7083 - val_loss: 0.5344 - val_accuracy: 0.6900 - 55ms/epoch - 3ms/step\n",
      "Epoch 267/300\n",
      "19/19 - 0s - loss: 0.5375 - accuracy: 0.7050 - val_loss: 0.5328 - val_accuracy: 0.7100 - 51ms/epoch - 3ms/step\n",
      "Epoch 268/300\n",
      "19/19 - 0s - loss: 0.5384 - accuracy: 0.7150 - val_loss: 0.5351 - val_accuracy: 0.7100 - 48ms/epoch - 3ms/step\n",
      "Epoch 269/300\n",
      "19/19 - 0s - loss: 0.5438 - accuracy: 0.7017 - val_loss: 0.5485 - val_accuracy: 0.7100 - 46ms/epoch - 2ms/step\n",
      "Epoch 270/300\n",
      "19/19 - 0s - loss: 0.5371 - accuracy: 0.7100 - val_loss: 0.5375 - val_accuracy: 0.7000 - 47ms/epoch - 2ms/step\n",
      "Epoch 271/300\n",
      "19/19 - 0s - loss: 0.5392 - accuracy: 0.7033 - val_loss: 0.5384 - val_accuracy: 0.6800 - 48ms/epoch - 3ms/step\n",
      "Epoch 272/300\n",
      "19/19 - 0s - loss: 0.5381 - accuracy: 0.7083 - val_loss: 0.5305 - val_accuracy: 0.7100 - 48ms/epoch - 3ms/step\n",
      "Epoch 273/300\n",
      "19/19 - 0s - loss: 0.5383 - accuracy: 0.7050 - val_loss: 0.5374 - val_accuracy: 0.6900 - 47ms/epoch - 2ms/step\n",
      "Epoch 274/300\n",
      "19/19 - 0s - loss: 0.5356 - accuracy: 0.7100 - val_loss: 0.5337 - val_accuracy: 0.7000 - 50ms/epoch - 3ms/step\n",
      "Epoch 275/300\n",
      "19/19 - 0s - loss: 0.5347 - accuracy: 0.7067 - val_loss: 0.5340 - val_accuracy: 0.7200 - 48ms/epoch - 3ms/step\n",
      "Epoch 276/300\n",
      "19/19 - 0s - loss: 0.5382 - accuracy: 0.7150 - val_loss: 0.5443 - val_accuracy: 0.7000 - 49ms/epoch - 3ms/step\n",
      "Epoch 277/300\n",
      "19/19 - 0s - loss: 0.5338 - accuracy: 0.7133 - val_loss: 0.5353 - val_accuracy: 0.7100 - 51ms/epoch - 3ms/step\n",
      "Epoch 278/300\n",
      "19/19 - 0s - loss: 0.5357 - accuracy: 0.7067 - val_loss: 0.5439 - val_accuracy: 0.7200 - 48ms/epoch - 3ms/step\n",
      "Epoch 279/300\n",
      "19/19 - 0s - loss: 0.5390 - accuracy: 0.7000 - val_loss: 0.5366 - val_accuracy: 0.7100 - 51ms/epoch - 3ms/step\n",
      "Epoch 280/300\n",
      "19/19 - 0s - loss: 0.5373 - accuracy: 0.7117 - val_loss: 0.5309 - val_accuracy: 0.7200 - 50ms/epoch - 3ms/step\n",
      "Epoch 281/300\n",
      "19/19 - 0s - loss: 0.5346 - accuracy: 0.7100 - val_loss: 0.5486 - val_accuracy: 0.7000 - 49ms/epoch - 3ms/step\n",
      "Epoch 282/300\n",
      "19/19 - 0s - loss: 0.5401 - accuracy: 0.7067 - val_loss: 0.5490 - val_accuracy: 0.7200 - 50ms/epoch - 3ms/step\n",
      "Epoch 283/300\n",
      "19/19 - 0s - loss: 0.5338 - accuracy: 0.7150 - val_loss: 0.5332 - val_accuracy: 0.7000 - 48ms/epoch - 3ms/step\n",
      "Epoch 284/300\n",
      "19/19 - 0s - loss: 0.5377 - accuracy: 0.7083 - val_loss: 0.5366 - val_accuracy: 0.7200 - 48ms/epoch - 3ms/step\n",
      "Epoch 285/300\n",
      "19/19 - 0s - loss: 0.5342 - accuracy: 0.7100 - val_loss: 0.5363 - val_accuracy: 0.7100 - 48ms/epoch - 3ms/step\n",
      "Epoch 286/300\n",
      "19/19 - 0s - loss: 0.5315 - accuracy: 0.7150 - val_loss: 0.5348 - val_accuracy: 0.7100 - 50ms/epoch - 3ms/step\n",
      "Epoch 287/300\n",
      "19/19 - 0s - loss: 0.5365 - accuracy: 0.7083 - val_loss: 0.5341 - val_accuracy: 0.7100 - 49ms/epoch - 3ms/step\n",
      "Epoch 288/300\n",
      "19/19 - 0s - loss: 0.5391 - accuracy: 0.7033 - val_loss: 0.5334 - val_accuracy: 0.7200 - 50ms/epoch - 3ms/step\n",
      "Epoch 289/300\n",
      "19/19 - 0s - loss: 0.5331 - accuracy: 0.7100 - val_loss: 0.5327 - val_accuracy: 0.7100 - 50ms/epoch - 3ms/step\n",
      "Epoch 290/300\n",
      "19/19 - 0s - loss: 0.5346 - accuracy: 0.7150 - val_loss: 0.5283 - val_accuracy: 0.7200 - 48ms/epoch - 3ms/step\n",
      "Epoch 291/300\n",
      "19/19 - 0s - loss: 0.5342 - accuracy: 0.7117 - val_loss: 0.5445 - val_accuracy: 0.7000 - 49ms/epoch - 3ms/step\n",
      "Epoch 292/300\n",
      "19/19 - 0s - loss: 0.5315 - accuracy: 0.7150 - val_loss: 0.5300 - val_accuracy: 0.7000 - 50ms/epoch - 3ms/step\n",
      "Epoch 293/300\n",
      "19/19 - 0s - loss: 0.5334 - accuracy: 0.7100 - val_loss: 0.5590 - val_accuracy: 0.7100 - 49ms/epoch - 3ms/step\n",
      "Epoch 294/300\n",
      "19/19 - 0s - loss: 0.5342 - accuracy: 0.7083 - val_loss: 0.5328 - val_accuracy: 0.6900 - 49ms/epoch - 3ms/step\n",
      "Epoch 295/300\n",
      "19/19 - 0s - loss: 0.5337 - accuracy: 0.7083 - val_loss: 0.5360 - val_accuracy: 0.7100 - 48ms/epoch - 3ms/step\n",
      "Epoch 296/300\n",
      "19/19 - 0s - loss: 0.5311 - accuracy: 0.7150 - val_loss: 0.5360 - val_accuracy: 0.7100 - 48ms/epoch - 3ms/step\n",
      "Epoch 297/300\n",
      "19/19 - 0s - loss: 0.5323 - accuracy: 0.7067 - val_loss: 0.5440 - val_accuracy: 0.7200 - 49ms/epoch - 3ms/step\n",
      "Epoch 298/300\n",
      "19/19 - 0s - loss: 0.5338 - accuracy: 0.7117 - val_loss: 0.5363 - val_accuracy: 0.7200 - 47ms/epoch - 2ms/step\n",
      "Epoch 299/300\n",
      "19/19 - 0s - loss: 0.5303 - accuracy: 0.7133 - val_loss: 0.5444 - val_accuracy: 0.7000 - 47ms/epoch - 2ms/step\n",
      "Epoch 300/300\n",
      "19/19 - 0s - loss: 0.5310 - accuracy: 0.7167 - val_loss: 0.5328 - val_accuracy: 0.7200 - 66ms/epoch - 3ms/step\n"
     ]
    }
   ],
   "source": [
    "hist = model.fit(X_train, Y_train,\n",
    "                epochs = 300,                \n",
    "                verbose=2,\n",
    "                validation_data=[X_val,Y_val])"
   ]
  },
  {
   "cell_type": "markdown",
   "id": "35c1e4d7",
   "metadata": {},
   "source": [
    "## 5. 학습평가 : 그래프(hist.history.keys()를 확인후 4가지)\n",
    "            평가(X_test,Y_test)\n",
    "             교차표(pd.crosstab 이용)"
   ]
  },
  {
   "cell_type": "code",
   "execution_count": 136,
   "id": "7ab77fb4",
   "metadata": {
    "ExecuteTime": {
     "end_time": "2024-12-17T08:53:44.071860Z",
     "start_time": "2024-12-17T08:53:44.063910Z"
    }
   },
   "outputs": [
    {
     "data": {
      "text/plain": [
       "dict_keys(['loss', 'accuracy', 'val_loss', 'val_accuracy'])"
      ]
     },
     "execution_count": 136,
     "metadata": {},
     "output_type": "execute_result"
    }
   ],
   "source": [
    "hist.history.keys()"
   ]
  },
  {
   "cell_type": "code",
   "execution_count": 140,
   "id": "b2d037d0",
   "metadata": {
    "ExecuteTime": {
     "end_time": "2024-12-17T08:56:43.945994Z",
     "start_time": "2024-12-17T08:56:43.665087Z"
    }
   },
   "outputs": [
    {
     "data": {
      "image/png": "[encoded data removed]",
      "text/plain": [
       "<Figure size 1000x400 with 2 Axes>"
      ]
     },
     "metadata": {},
     "output_type": "display_data"
    }
   ],
   "source": [
    "# 학습과정 중의 loss와 accuracy\n",
    "import matplotlib.pyplot as plt\n",
    "fig, loss_ax = plt.subplots(figsize=(10,4))\n",
    "loss_ax.plot(hist.history['loss'],'y*',label='train loss')\n",
    "loss_ax.plot(hist.history['val_loss'],'r--',label='validation loss')\n",
    "acc_ax = loss_ax.twinx() # loss_ax와 x축을 공유하는 acc_ax 생성\n",
    "acc_ax.plot(hist.history['accuracy'],'g',label='train accuracy')\n",
    "acc_ax.plot(hist.history['val_accuracy'],'b',label='val accuracy')\n",
    "loss_ax.set_xlabel('epoch')\n",
    "loss_ax.set_ylabel('loss')\n",
    "acc_ax.set_ylabel('accuracy')\n",
    "loss_ax.legend(loc='center')\n",
    "acc_ax.legend(loc='center right')\n",
    "plt.show()"
   ]
  },
  {
   "cell_type": "markdown",
   "id": "b377be44",
   "metadata": {},
   "source": [
    "## 6. 모델 사용하기 - 예측\n",
    "              0       1\n",
    "              0.9912 0.00124"
   ]
  },
  {
   "cell_type": "code",
   "execution_count": 144,
   "id": "37532288",
   "metadata": {
    "ExecuteTime": {
     "end_time": "2024-12-17T08:58:42.959786Z",
     "start_time": "2024-12-17T08:58:42.856346Z"
    }
   },
   "outputs": [
    {
     "name": "stdout",
     "output_type": "stream",
     "text": [
      "3/3 [==============================] - 0s 2ms/step\n"
     ]
    },
    {
     "ename": "ValueError",
     "evalue": "operands could not be broadcast together with shapes (68,2) (1,136) ",
     "output_type": "error",
     "traceback": [
      "\u001b[1;31m---------------------------------------------------------------------------\u001b[0m",
      "\u001b[1;31mValueError\u001b[0m                                Traceback (most recent call last)",
      "Cell \u001b[1;32mIn[144], line 4\u001b[0m\n\u001b[0;32m      1\u001b[0m Y_hat \u001b[38;5;241m=\u001b[39m (model\u001b[38;5;241m.\u001b[39mpredict(X_test)\u001b[38;5;241m>\u001b[39m\u001b[38;5;241m0.5\u001b[39m)\u001b[38;5;241m.\u001b[39mastype(\u001b[38;5;28mfloat\u001b[39m)\n\u001b[0;32m      3\u001b[0m Y_hat\u001b[38;5;241m.\u001b[39mshape,Y_test\u001b[38;5;241m.\u001b[39mshape\n\u001b[1;32m----> 4\u001b[0m ctab\u001b[38;5;241m=\u001b[39m \u001b[43mpd\u001b[49m\u001b[38;5;241;43m.\u001b[39;49m\u001b[43mcrosstab\u001b[49m\u001b[43m(\u001b[49m\u001b[43mY_test\u001b[49m\u001b[43m,\u001b[49m\u001b[43mY_hat\u001b[49m\u001b[38;5;241;43m.\u001b[39;49m\u001b[43mreshape\u001b[49m\u001b[43m(\u001b[49m\u001b[38;5;241;43m-\u001b[39;49m\u001b[38;5;241;43m1\u001b[39;49m\u001b[43m)\u001b[49m\u001b[43m)\u001b[49m\n\u001b[0;32m      5\u001b[0m ctab\u001b[38;5;241m.\u001b[39mindex\u001b[38;5;241m.\u001b[39mname \u001b[38;5;241m=\u001b[39m \u001b[38;5;124m'\u001b[39m\u001b[38;5;124m실제값\u001b[39m\u001b[38;5;124m'\u001b[39m\n\u001b[0;32m      6\u001b[0m ctab\u001b[38;5;241m.\u001b[39mcolumns\u001b[38;5;241m.\u001b[39mname \u001b[38;5;241m=\u001b[39m \u001b[38;5;124m'\u001b[39m\u001b[38;5;124m예측값\u001b[39m\u001b[38;5;124m'\u001b[39m\n",
      "File \u001b[1;32m~\\anaconda3\\lib\\site-packages\\pandas\\core\\reshape\\pivot.py:661\u001b[0m, in \u001b[0;36mcrosstab\u001b[1;34m(index, columns, values, rownames, colnames, aggfunc, margins, margins_name, dropna, normalize)\u001b[0m\n\u001b[0;32m    658\u001b[0m     columns \u001b[38;5;241m=\u001b[39m [columns]\n\u001b[0;32m    660\u001b[0m common_idx \u001b[38;5;241m=\u001b[39m \u001b[38;5;28;01mNone\u001b[39;00m\n\u001b[1;32m--> 661\u001b[0m pass_objs \u001b[38;5;241m=\u001b[39m [x \u001b[38;5;28;01mfor\u001b[39;00m x \u001b[38;5;129;01min\u001b[39;00m \u001b[43mindex\u001b[49m\u001b[43m \u001b[49m\u001b[38;5;241;43m+\u001b[39;49m\u001b[43m \u001b[49m\u001b[43mcolumns\u001b[49m \u001b[38;5;28;01mif\u001b[39;00m \u001b[38;5;28misinstance\u001b[39m(x, (ABCSeries, ABCDataFrame))]\n\u001b[0;32m    662\u001b[0m \u001b[38;5;28;01mif\u001b[39;00m pass_objs:\n\u001b[0;32m    663\u001b[0m     common_idx \u001b[38;5;241m=\u001b[39m get_objs_combined_axis(pass_objs, intersect\u001b[38;5;241m=\u001b[39m\u001b[38;5;28;01mTrue\u001b[39;00m, sort\u001b[38;5;241m=\u001b[39m\u001b[38;5;28;01mFalse\u001b[39;00m)\n",
      "\u001b[1;31mValueError\u001b[0m: operands could not be broadcast together with shapes (68,2) (1,136) "
     ]
    }
   ],
   "source": [
    "Y_hat = (model.predict(X_test)>0.5).astype(float)\n",
    "\n",
    "Y_hat.shape,Y_test.shape\n",
    "ctab= pd.crosstab(Y_test,Y_hat.reshape(-1))\n",
    "ctab.index.name = '실제값'\n",
    "ctab.columns.name = '예측값'\n",
    "ctab"
   ]
  },
  {
   "cell_type": "code",
   "execution_count": null,
   "id": "54cd8cdc",
   "metadata": {},
   "outputs": [],
   "source": []
  }
 ],
 "metadata": {
  "kernelspec": {
   "display_name": "Python 3 (ipykernel)",
   "language": "python",
   "name": "python3"
  },
  "language_info": {
   "codemirror_mode": {
    "name": "ipython",
    "version": 3
   },
   "file_extension": ".py",
   "mimetype": "text/x-python",
   "name": "python",
   "nbconvert_exporter": "python",
   "pygments_lexer": "ipython3",
   "version": "3.10.9"
  },
  "toc": {
   "base_numbering": 1,
   "nav_menu": {},
   "number_sections": true,
   "sideBar": true,
   "skip_h1_title": false,
   "title_cell": "Table of Contents",
   "title_sidebar": "Contents",
   "toc_cell": false,
   "toc_position": {
    "height": "calc(100% - 180px)",
    "left": "10px",
    "top": "150px",
    "width": "227.246px"
   },
   "toc_section_display": true,
   "toc_window_display": true
  }
 },
 "nbformat": 4,
 "nbformat_minor": 5
}
