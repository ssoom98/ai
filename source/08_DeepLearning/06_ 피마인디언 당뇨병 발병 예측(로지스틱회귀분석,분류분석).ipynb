{
 "cells": [
  {
   "cell_type": "code",
   "execution_count": 1,
   "id": "9ae985ec",
   "metadata": {
    "ExecuteTime": {
     "end_time": "2024-12-18T00:48:06.710363Z",
     "start_time": "2024-12-18T00:48:06.700323Z"
    }
   },
   "outputs": [
    {
     "data": {
      "text/html": [
       "\n",
       "<style>\n",
       "div.container{width:99% !important;}\n",
       "div.cell.code_cell.rendered{width:90%;}\n",
       "div.CodeMirror {font-family:Consolas; font-size:18pt;}\n",
       "div.output {font-size:19pt; font-weight:bold;}\n",
       "div.input {font-family:Consolas; font-size:19pt;}\n",
       "div.prompt {min-width:70px;}\n",
       "div#toc-wrapper{padding-top:120px;}\n",
       "span.toc-item-num{display:none;}\n",
       "div.text_cell_render ul li{font-size:16pt;padding:5px;}\n",
       "div.CodeMirror-lines > div {padding-left:10px;}\n",
       "table.dataframe{font-size:19px;}\n",
       "</style>\n"
      ],
      "text/plain": [
       "<IPython.core.display.HTML object>"
      ]
     },
     "metadata": {},
     "output_type": "display_data"
    }
   ],
   "source": [
    "from IPython.display import display, HTML\n",
    "display(HTML(\"\"\"\n",
    "<style>\n",
    "div.container{width:99% !important;}\n",
    "div.cell.code_cell.rendered{width:90%;}\n",
    "div.CodeMirror {font-family:Consolas; font-size:18pt;}\n",
    "div.output {font-size:19pt; font-weight:bold;}\n",
    "div.input {font-family:Consolas; font-size:19pt;}\n",
    "div.prompt {min-width:70px;}\n",
    "div#toc-wrapper{padding-top:120px;}\n",
    "span.toc-item-num{display:none;}\n",
    "div.text_cell_render ul li{font-size:16pt;padding:5px;}\n",
    "div.CodeMirror-lines > div {padding-left:10px;}\n",
    "table.dataframe{font-size:19px;}\n",
    "</style>\n",
    "\"\"\"))"
   ]
  },
  {
   "cell_type": "code",
   "execution_count": 2,
   "id": "41781197",
   "metadata": {
    "ExecuteTime": {
     "end_time": "2024-12-18T00:48:14.549706Z",
     "start_time": "2024-12-18T00:48:06.713345Z"
    }
   },
   "outputs": [],
   "source": [
    "import numpy as np\n",
    "import pandas as pd\n",
    "import sys\n",
    "from tensorflow.keras import utils # utils.to_categorical\n",
    "from tensorflow.keras.models import Sequential #모델생성\n",
    "from tensorflow.keras.layers import Dense,Input\n",
    "import matplotlib.pyplot as plt\n"
   ]
  },
  {
   "cell_type": "code",
   "execution_count": 3,
   "id": "99834cf7",
   "metadata": {
    "ExecuteTime": {
     "end_time": "2024-12-18T00:48:14.558041Z",
     "start_time": "2024-12-18T00:48:14.553718Z"
    }
   },
   "outputs": [],
   "source": [
    "import os\n",
    "os.environ[\"CUDA_VISIBLE_DEVICES\"] = \"-1\""
   ]
  },
  {
   "cell_type": "markdown",
   "id": "98715a4c",
   "metadata": {},
   "source": [
    "# 로지스틱회귀분석(이진분류)\n",
    "## 1. 데이터셋 생성 & 전처리\n"
   ]
  },
  {
   "cell_type": "code",
   "execution_count": 4,
   "id": "13adfa19",
   "metadata": {
    "ExecuteTime": {
     "end_time": "2024-12-18T00:48:14.615208Z",
     "start_time": "2024-12-18T00:48:14.561158Z"
    }
   },
   "outputs": [
    {
     "data": {
      "text/plain": [
       "array([[  6.   , 148.   ,  72.   , ...,   0.627,  50.   ,   1.   ],\n",
       "       [  1.   ,  85.   ,  66.   , ...,   0.351,  31.   ,   0.   ],\n",
       "       [  8.   , 183.   ,  64.   , ...,   0.672,  32.   ,   1.   ],\n",
       "       ...,\n",
       "       [  5.   , 121.   ,  72.   , ...,   0.245,  30.   ,   0.   ],\n",
       "       [  1.   , 126.   ,  60.   , ...,   0.349,  47.   ,   1.   ],\n",
       "       [  1.   ,  93.   ,  70.   , ...,   0.315,  23.   ,   0.   ]])"
      ]
     },
     "execution_count": 4,
     "metadata": {},
     "output_type": "execute_result"
    }
   ],
   "source": [
    "df= pd.read_csv('data/pima-indians-diabetes.csv',comment='#', header = None)\n",
    "df.values\n",
    "# 결측치 없으므로, csv파일을 바로 넘파이 배열로 읽어올 예정"
   ]
  },
  {
   "cell_type": "code",
   "execution_count": 5,
   "id": "47abdefc",
   "metadata": {
    "ExecuteTime": {
     "end_time": "2024-12-18T00:48:14.624313Z",
     "start_time": "2024-12-18T00:48:14.619198Z"
    }
   },
   "outputs": [],
   "source": [
    "np.set_printoptions(threshold=sys.maxsize)"
   ]
  },
  {
   "cell_type": "code",
   "execution_count": 6,
   "id": "8d318bc3",
   "metadata": {
    "ExecuteTime": {
     "end_time": "2024-12-18T00:48:14.636324Z",
     "start_time": "2024-12-18T00:48:14.628345Z"
    }
   },
   "outputs": [
    {
     "data": {
      "text/plain": [
       "(768, 9)"
      ]
     },
     "execution_count": 6,
     "metadata": {},
     "output_type": "execute_result"
    }
   ],
   "source": [
    "# csv 파일을 numpy 배열로 읽어오기\n",
    "dataset = np.loadtxt('data/pima-indians-diabetes.csv',delimiter=',')\n",
    "dataset.shape\n"
   ]
  },
  {
   "cell_type": "code",
   "execution_count": 7,
   "id": "d8d8556c",
   "metadata": {
    "ExecuteTime": {
     "end_time": "2024-12-18T00:48:14.656514Z",
     "start_time": "2024-12-18T00:48:14.641362Z"
    }
   },
   "outputs": [
    {
     "data": {
      "text/plain": [
       "((700, 8), (700,), (68, 8), (68,))"
      ]
     },
     "execution_count": 7,
     "metadata": {},
     "output_type": "execute_result"
    }
   ],
   "source": [
    "# 학습데이터셋(학습용 데이터) : 모델 학습시 사용\n",
    "X_train = dataset[:700, :-1]\n",
    "y_train = dataset[:700, -1]\n",
    "# 테스트데이터셋(시험용 데이터) : 모델 평가시 사용\n",
    "X_test = dataset[700:, :-1]\n",
    "y_test = dataset[700:, -1]\n",
    "X_train.shape, y_train.shape, X_test.shape, y_test.shape"
   ]
  },
  {
   "cell_type": "markdown",
   "id": "b505ae7f",
   "metadata": {},
   "source": [
    "## 2.모델구성"
   ]
  },
  {
   "cell_type": "code",
   "execution_count": 8,
   "id": "454cc933",
   "metadata": {
    "ExecuteTime": {
     "end_time": "2024-12-18T00:48:15.008880Z",
     "start_time": "2024-12-18T00:48:14.661501Z"
    }
   },
   "outputs": [
    {
     "name": "stdout",
     "output_type": "stream",
     "text": [
      "Model: \"sequential\"\n",
      "_________________________________________________________________\n",
      " Layer (type)                Output Shape              Param #   \n",
      "=================================================================\n",
      " dense (Dense)               (None, 12)                108       \n",
      "                                                                 \n",
      " dense_1 (Dense)             (None, 8)                 104       \n",
      "                                                                 \n",
      " dense_2 (Dense)             (None, 1)                 9         \n",
      "                                                                 \n",
      "=================================================================\n",
      "Total params: 221\n",
      "Trainable params: 221\n",
      "Non-trainable params: 0\n",
      "_________________________________________________________________\n"
     ]
    }
   ],
   "source": [
    "model = Sequential()\n",
    "model.add(Input(shape=(8,)))\n",
    "\n",
    "model.add(Dense(units=12, activation='relu'))\n",
    "model.add(Dense(units=8,activation='relu'))\n",
    "model.add(Dense(units=1,activation='sigmoid'))\n",
    "model.summary()"
   ]
  },
  {
   "cell_type": "markdown",
   "id": "28017a45",
   "metadata": {},
   "source": [
    "## 3. 학습과정 설정\n"
   ]
  },
  {
   "cell_type": "code",
   "execution_count": 9,
   "id": "8d648931",
   "metadata": {
    "ExecuteTime": {
     "end_time": "2024-12-18T00:48:15.031260Z",
     "start_time": "2024-12-18T00:48:15.014431Z"
    }
   },
   "outputs": [],
   "source": [
    "#model.compile(loss = 'binary_crossentropy',optimizer='adam',metrics=['accuracy'])\n",
    "model.compile(loss = 'binary_crossentropy',optimizer='adam', metrics=['binary_accuracy'])"
   ]
  },
  {
   "cell_type": "markdown",
   "id": "65b5b9ec",
   "metadata": {},
   "source": [
    "## 4. 학습"
   ]
  },
  {
   "cell_type": "code",
   "execution_count": 10,
   "id": "7a9fcd4e",
   "metadata": {
    "ExecuteTime": {
     "end_time": "2024-12-18T00:48:23.880495Z",
     "start_time": "2024-12-18T00:48:15.034070Z"
    }
   },
   "outputs": [],
   "source": [
    "hist = model.fit(X_train, y_train,\n",
    "               epochs=300,\n",
    "               # batch_size=350,\n",
    "               # validation_split=0.2 # 검증데이터 비율(훈련데이터셋 중 20%를 검증용 데이터로)\n",
    "               verbose=0\n",
    "               )"
   ]
  },
  {
   "cell_type": "code",
   "execution_count": 11,
   "id": "d83e85c9",
   "metadata": {
    "ExecuteTime": {
     "end_time": "2024-12-18T00:48:23.889561Z",
     "start_time": "2024-12-18T00:48:23.882460Z"
    }
   },
   "outputs": [
    {
     "data": {
      "text/plain": [
       "dict_keys(['loss', 'binary_accuracy'])"
      ]
     },
     "execution_count": 11,
     "metadata": {},
     "output_type": "execute_result"
    }
   ],
   "source": [
    "hist.history.keys()"
   ]
  },
  {
   "cell_type": "code",
   "execution_count": 12,
   "id": "7ccafd2f",
   "metadata": {
    "ExecuteTime": {
     "end_time": "2024-12-18T00:48:24.208848Z",
     "start_time": "2024-12-18T00:48:23.895557Z"
    }
   },
   "outputs": [
    {
     "data": {
      "image/png": "[encoded data removed]",
      "text/plain": [
       "<Figure size 1000x500 with 2 Axes>"
      ]
     },
     "metadata": {},
     "output_type": "display_data"
    }
   ],
   "source": [
    "# 학습과정 표시하기(validation dataset 없는경우)\n",
    "fig,loss_ax = plt.subplots(figsize=(10,5))\n",
    "loss_ax.plot(hist.history['loss'],'r',label='train loss')\n",
    "loss_ax.set_xlabel('epoch')\n",
    "loss_ax.set_ylabel('loss')\n",
    "acc_ax = loss_ax.twinx()\n",
    "acc_ax.plot(hist.history['binary_accuracy'],'b',label= 'train accuracy')\n",
    "acc_ax.set_ylabel('accuracy')\n",
    "loss_ax.legend(loc='center right')\n",
    "acc_ax.legend(bbox_to_anchor=(0.999,0.65))\n",
    "plt.show()"
   ]
  },
  {
   "cell_type": "code",
   "execution_count": 13,
   "id": "83802a24",
   "metadata": {
    "ExecuteTime": {
     "end_time": "2024-12-18T00:48:24.434320Z",
     "start_time": "2024-12-18T00:48:24.212838Z"
    }
   },
   "outputs": [
    {
     "name": "stdout",
     "output_type": "stream",
     "text": [
      "22/22 [==============================] - 0s 1ms/step - loss: 0.4475 - binary_accuracy: 0.7929\n"
     ]
    },
    {
     "data": {
      "text/plain": [
       "[0.4474865198135376, 0.7928571701049805]"
      ]
     },
     "execution_count": 13,
     "metadata": {},
     "output_type": "execute_result"
    }
   ],
   "source": [
    "model.evaluate(X_train, y_train)"
   ]
  },
  {
   "cell_type": "markdown",
   "id": "77e1ba32",
   "metadata": {},
   "source": [
    "## 5. 모델 평가"
   ]
  },
  {
   "cell_type": "code",
   "execution_count": 14,
   "id": "18a56e8a",
   "metadata": {
    "ExecuteTime": {
     "end_time": "2024-12-18T00:48:24.533555Z",
     "start_time": "2024-12-18T00:48:24.437385Z"
    }
   },
   "outputs": [
    {
     "name": "stdout",
     "output_type": "stream",
     "text": [
      "22/22 [==============================] - 0s 1ms/step - loss: 0.4475 - binary_accuracy: 0.7929\n",
      "loss:0.4474865198135376,정확도:79.28571701049805%\n"
     ]
    }
   ],
   "source": [
    "\n",
    "score= model.evaluate(X_train,y_train)\n",
    "print('loss:{},정확도:{}%'.format(score[0],score[1]*100))"
   ]
  },
  {
   "cell_type": "markdown",
   "id": "99826638",
   "metadata": {},
   "source": [
    "## 6.모델 사용하기"
   ]
  },
  {
   "cell_type": "code",
   "execution_count": 15,
   "id": "4c57db3c",
   "metadata": {
    "ExecuteTime": {
     "end_time": "2024-12-18T00:48:24.543528Z",
     "start_time": "2024-12-18T00:48:24.536546Z"
    }
   },
   "outputs": [
    {
     "data": {
      "text/plain": [
       "(array([  4.   , 110.   ,  92.   ,   0.   ,   0.   ,  37.6  ,   0.191,\n",
       "         30.   ]),\n",
       " 0.0)"
      ]
     },
     "execution_count": 15,
     "metadata": {},
     "output_type": "execute_result"
    }
   ],
   "source": [
    "X_train[10], y_train[10]"
   ]
  },
  {
   "cell_type": "code",
   "execution_count": 16,
   "id": "602780dc",
   "metadata": {
    "ExecuteTime": {
     "end_time": "2024-12-18T00:48:24.696344Z",
     "start_time": "2024-12-18T00:48:24.546494Z"
    }
   },
   "outputs": [
    {
     "name": "stdout",
     "output_type": "stream",
     "text": [
      "1/1 [==============================] - 0s 95ms/step\n"
     ]
    },
    {
     "data": {
      "text/plain": [
       "array([[0.4512914]], dtype=float32)"
      ]
     },
     "execution_count": 16,
     "metadata": {},
     "output_type": "execute_result"
    }
   ],
   "source": [
    "model.predict([[5,148,72,35,0,33.6,0.627,45]])"
   ]
  },
  {
   "cell_type": "code",
   "execution_count": 17,
   "id": "cfc1c15a",
   "metadata": {
    "ExecuteTime": {
     "end_time": "2024-12-18T00:48:24.783895Z",
     "start_time": "2024-12-18T00:48:24.699336Z"
    }
   },
   "outputs": [
    {
     "name": "stdout",
     "output_type": "stream",
     "text": [
      "1/1 [==============================] - 0s 37ms/step\n"
     ]
    },
    {
     "data": {
      "text/plain": [
       "array([[0],\n",
       "       [1]])"
      ]
     },
     "execution_count": 17,
     "metadata": {},
     "output_type": "execute_result"
    }
   ],
   "source": [
    "(model.predict([[4,110,92,0,0,37.6,0.191,30],\n",
    "               [6,148,72,35,0,33.6,0.6,45]])>0.5).astype(int)"
   ]
  },
  {
   "cell_type": "markdown",
   "id": "9e393b34",
   "metadata": {},
   "source": [
    "## 7. 교차표\n",
    "- 테스트 데이터셋의 실제값(y_test)과 예측값"
   ]
  },
  {
   "cell_type": "code",
   "execution_count": 18,
   "id": "88a0dacf",
   "metadata": {
    "ExecuteTime": {
     "end_time": "2024-12-18T00:48:24.875416Z",
     "start_time": "2024-12-18T00:48:24.786888Z"
    }
   },
   "outputs": [
    {
     "name": "stdout",
     "output_type": "stream",
     "text": [
      "3/3 [==============================] - 0s 1ms/step\n",
      "9 18\n",
      "2 39\n"
     ]
    }
   ],
   "source": [
    "y_hat = (model.predict(X_test)>0.5).astype(float)\n",
    "cnt1=0; cnt2=0; cnt3=0; cnt4=0;\n",
    "y_hat.shape,y_test.shape\n",
    "#y_hat = y_hat.reshape\n",
    "for h,y in zip(y_hat.reshape(-1),y_test.reshape(-1)):\n",
    "    if h==1.0 and y == 1.0:\n",
    "        cnt1 += 1\n",
    "    elif y==1.0 and h==0.0:\n",
    "        cnt2 += 1\n",
    "    elif y==0.0 and h==1.0:\n",
    "        cnt3 += 1\n",
    "    else:\n",
    "        cnt4+=1\n",
    "print(cnt1,cnt2)\n",
    "print(cnt3,cnt4)"
   ]
  },
  {
   "cell_type": "code",
   "execution_count": 19,
   "id": "a0b5d6a6",
   "metadata": {
    "ExecuteTime": {
     "end_time": "2024-12-18T00:48:24.922801Z",
     "start_time": "2024-12-18T00:48:24.878411Z"
    }
   },
   "outputs": [
    {
     "data": {
      "text/html": [
       "<div>\n",
       "<style scoped>\n",
       "    .dataframe tbody tr th:only-of-type {\n",
       "        vertical-align: middle;\n",
       "    }\n",
       "\n",
       "    .dataframe tbody tr th {\n",
       "        vertical-align: top;\n",
       "    }\n",
       "\n",
       "    .dataframe thead th {\n",
       "        text-align: right;\n",
       "    }\n",
       "</style>\n",
       "<table border=\"1\" class=\"dataframe\">\n",
       "  <thead>\n",
       "    <tr style=\"text-align: right;\">\n",
       "      <th>예측값</th>\n",
       "      <th>0.0</th>\n",
       "      <th>1.0</th>\n",
       "    </tr>\n",
       "    <tr>\n",
       "      <th>실제값</th>\n",
       "      <th></th>\n",
       "      <th></th>\n",
       "    </tr>\n",
       "  </thead>\n",
       "  <tbody>\n",
       "    <tr>\n",
       "      <th>0.0</th>\n",
       "      <td>39</td>\n",
       "      <td>2</td>\n",
       "    </tr>\n",
       "    <tr>\n",
       "      <th>1.0</th>\n",
       "      <td>18</td>\n",
       "      <td>9</td>\n",
       "    </tr>\n",
       "  </tbody>\n",
       "</table>\n",
       "</div>"
      ],
      "text/plain": [
       "예측값  0.0  1.0\n",
       "실제값          \n",
       "0.0   39    2\n",
       "1.0   18    9"
      ]
     },
     "execution_count": 19,
     "metadata": {},
     "output_type": "execute_result"
    }
   ],
   "source": [
    "ctab= pd.crosstab(y_test,y_hat.reshape(-1))\n",
    "ctab.index.name = '실제값'\n",
    "ctab.columns.name = '예측값'\n",
    "ctab"
   ]
  },
  {
   "cell_type": "markdown",
   "id": "a0eab5a3",
   "metadata": {},
   "source": [
    "# 분류분석\n",
    "```\n",
    "1. 데이터셋( 훈련셋600, 검증셋 100, 테스트셋 68으로 분리,종속변수의 원핫 인코딩\n",
    "2. 모델생성(input 8, target 2): 출력층에서의 활성화 함수 softmax\n",
    "3. 모델학습과정 설정 (loss = 'categorical_crossentropy' metrics = ['accuracy']\n",
    "4. 학습 : validation_data=[X_val,y_val] 추가해서 학습\n",
    "5. 학습평가 : 그래프(hist.history.keys()를 확인후 4가지)\n",
    "            평가(X_test,Y_test)\n",
    "             교차표(pd.crosstab 이용)\n",
    "6. 모델 사용하기 - 예측\n",
    "              0       1\n",
    "              0.9912 0.00124\n",
    "```"
   ]
  },
  {
   "cell_type": "markdown",
   "id": "51a012a4",
   "metadata": {},
   "source": [
    "## 1. 데이터셋( 훈련셋600, 검증셋 100, 테스트셋 68으로 분리,종속변수의 원핫 인코딩)"
   ]
  },
  {
   "cell_type": "code",
   "execution_count": 20,
   "id": "0fcf9993",
   "metadata": {
    "ExecuteTime": {
     "end_time": "2024-12-18T00:48:24.930778Z",
     "start_time": "2024-12-18T00:48:24.925793Z"
    }
   },
   "outputs": [],
   "source": [
    "from tensorflow.keras.utils import to_categorical"
   ]
  },
  {
   "cell_type": "code",
   "execution_count": 21,
   "id": "ac2eaa10",
   "metadata": {
    "ExecuteTime": {
     "end_time": "2024-12-18T00:48:24.944851Z",
     "start_time": "2024-12-18T00:48:24.933772Z"
    }
   },
   "outputs": [
    {
     "data": {
      "text/plain": [
       "(768, 9)"
      ]
     },
     "execution_count": 21,
     "metadata": {},
     "output_type": "execute_result"
    }
   ],
   "source": [
    "# 데이터셋으로 파일 불러오기\n",
    "dataset = np.loadtxt('data/pima-indians-diabetes.csv',delimiter=',')\n",
    "dataset.shape"
   ]
  },
  {
   "cell_type": "code",
   "execution_count": 22,
   "id": "211dbadf",
   "metadata": {
    "ExecuteTime": {
     "end_time": "2024-12-18T00:48:24.956616Z",
     "start_time": "2024-12-18T00:48:24.947843Z"
    }
   },
   "outputs": [
    {
     "data": {
      "text/plain": [
       "((600, 8), (600,), (100, 8), (100,), (68, 8), (68,))"
      ]
     },
     "execution_count": 22,
     "metadata": {},
     "output_type": "execute_result"
    }
   ],
   "source": [
    "# 훈련데이터셋(학습용 데이터) : 모델 학습시 사용\n",
    "X_train = dataset[:600, :-1]\n",
    "y_train = dataset[:600, -1]\n",
    "# 검증데이터셋(검증용 데이터) : 모델 검증시 사용\n",
    "X_val = dataset[600:700, :-1]\n",
    "y_val = dataset[600:700, -1]\n",
    "# 테스트셋(테스트용 데이터) : 모델 테스트시 사용\n",
    "X_test = dataset[700:,:-1]\n",
    "y_test = dataset[700:,-1]\n",
    "\n",
    "X_train.shape, y_train.shape, X_val.shape, y_val.shape, X_test.shape, y_test.shape"
   ]
  },
  {
   "cell_type": "code",
   "execution_count": 23,
   "id": "e02fc6ff",
   "metadata": {
    "ExecuteTime": {
     "end_time": "2024-12-18T00:48:24.967587Z",
     "start_time": "2024-12-18T00:48:24.959612Z"
    }
   },
   "outputs": [],
   "source": [
    "# 분류분석을 위한 원핫 인코딩\n",
    "Y_train= to_categorical(y_train,2)\n",
    "Y_val= to_categorical(y_val,2)\n",
    "Y_test= to_categorical(y_test,2)"
   ]
  },
  {
   "cell_type": "markdown",
   "id": "b25a80d9",
   "metadata": {
    "ExecuteTime": {
     "end_time": "2024-12-17T08:35:44.579418Z",
     "start_time": "2024-12-17T08:35:44.574300Z"
    }
   },
   "source": [
    "## 2.모델생성(input 8, target 2): 출력층에서의 활성화 함수 softmax"
   ]
  },
  {
   "cell_type": "code",
   "execution_count": 24,
   "id": "2c067299",
   "metadata": {
    "ExecuteTime": {
     "end_time": "2024-12-18T00:48:25.029173Z",
     "start_time": "2024-12-18T00:48:24.969018Z"
    }
   },
   "outputs": [
    {
     "name": "stdout",
     "output_type": "stream",
     "text": [
      "Model: \"sequential_1\"\n",
      "_________________________________________________________________\n",
      " Layer (type)                Output Shape              Param #   \n",
      "=================================================================\n",
      " dense_3 (Dense)             (None, 12)                108       \n",
      "                                                                 \n",
      " dense_4 (Dense)             (None, 8)                 104       \n",
      "                                                                 \n",
      " dense_5 (Dense)             (None, 2)                 18        \n",
      "                                                                 \n",
      "=================================================================\n",
      "Total params: 230\n",
      "Trainable params: 230\n",
      "Non-trainable params: 0\n",
      "_________________________________________________________________\n"
     ]
    }
   ],
   "source": [
    "\n",
    "model = Sequential()\n",
    "model.add(Input(shape=(8,)))\n",
    "model.add(Dense(units=12, activation='relu'))\n",
    "model.add(Dense(units=8,activation='relu'))\n",
    "model.add(Dense(units=2,activation='softmax'))\n",
    "model.summary()"
   ]
  },
  {
   "cell_type": "markdown",
   "id": "20617952",
   "metadata": {},
   "source": [
    "## 3. 모델학습과정 설정 (loss = 'categorical_crossentropy' metrics = ['accuracy']"
   ]
  },
  {
   "cell_type": "code",
   "execution_count": 25,
   "id": "56b0d878",
   "metadata": {
    "ExecuteTime": {
     "end_time": "2024-12-18T00:48:25.041926Z",
     "start_time": "2024-12-18T00:48:25.031499Z"
    }
   },
   "outputs": [],
   "source": [
    "model.compile(loss = 'categorical_crossentropy',optimizer='adam', metrics=['accuracy'])\n"
   ]
  },
  {
   "cell_type": "markdown",
   "id": "d8165b88",
   "metadata": {},
   "source": [
    "## 4. 학습 : validation_data=[X_val,y_val] 추가해서 학습"
   ]
  },
  {
   "cell_type": "code",
   "execution_count": 26,
   "id": "03d7e9c2",
   "metadata": {
    "ExecuteTime": {
     "end_time": "2024-12-18T00:48:41.551328Z",
     "start_time": "2024-12-18T00:48:25.043920Z"
    }
   },
   "outputs": [
    {
     "name": "stdout",
     "output_type": "stream",
     "text": [
      "Epoch 1/300\n",
      "19/19 - 1s - loss: 2.9764 - accuracy: 0.4033 - val_loss: 1.8632 - val_accuracy: 0.5100 - 566ms/epoch - 30ms/step\n",
      "Epoch 2/300\n",
      "19/19 - 0s - loss: 1.8066 - accuracy: 0.5067 - val_loss: 1.3470 - val_accuracy: 0.6100 - 52ms/epoch - 3ms/step\n",
      "Epoch 3/300\n",
      "19/19 - 0s - loss: 1.4226 - accuracy: 0.5517 - val_loss: 1.1044 - val_accuracy: 0.5700 - 50ms/epoch - 3ms/step\n",
      "Epoch 4/300\n",
      "19/19 - 0s - loss: 1.1809 - accuracy: 0.5650 - val_loss: 0.9714 - val_accuracy: 0.6000 - 50ms/epoch - 3ms/step\n",
      "Epoch 5/300\n",
      "19/19 - 0s - loss: 1.0264 - accuracy: 0.5900 - val_loss: 0.8792 - val_accuracy: 0.6200 - 52ms/epoch - 3ms/step\n",
      "Epoch 6/300\n",
      "19/19 - 0s - loss: 0.9306 - accuracy: 0.6017 - val_loss: 0.8276 - val_accuracy: 0.6100 - 52ms/epoch - 3ms/step\n",
      "Epoch 7/300\n",
      "19/19 - 0s - loss: 0.8728 - accuracy: 0.6083 - val_loss: 0.7887 - val_accuracy: 0.6400 - 49ms/epoch - 3ms/step\n",
      "Epoch 8/300\n",
      "19/19 - 0s - loss: 0.8342 - accuracy: 0.6217 - val_loss: 0.8067 - val_accuracy: 0.5900 - 52ms/epoch - 3ms/step\n",
      "Epoch 9/300\n",
      "19/19 - 0s - loss: 0.8218 - accuracy: 0.6217 - val_loss: 0.7526 - val_accuracy: 0.5600 - 50ms/epoch - 3ms/step\n",
      "Epoch 10/300\n",
      "19/19 - 0s - loss: 0.7625 - accuracy: 0.6233 - val_loss: 0.7341 - val_accuracy: 0.5900 - 47ms/epoch - 2ms/step\n",
      "Epoch 11/300\n",
      "19/19 - 0s - loss: 0.7385 - accuracy: 0.6317 - val_loss: 0.6993 - val_accuracy: 0.6100 - 47ms/epoch - 2ms/step\n",
      "Epoch 12/300\n",
      "19/19 - 0s - loss: 0.7127 - accuracy: 0.6467 - val_loss: 0.6894 - val_accuracy: 0.6300 - 49ms/epoch - 3ms/step\n",
      "Epoch 13/300\n",
      "19/19 - 0s - loss: 0.6937 - accuracy: 0.6500 - val_loss: 0.6642 - val_accuracy: 0.6200 - 52ms/epoch - 3ms/step\n",
      "Epoch 14/300\n",
      "19/19 - 0s - loss: 0.6806 - accuracy: 0.6617 - val_loss: 0.6687 - val_accuracy: 0.6100 - 52ms/epoch - 3ms/step\n",
      "Epoch 15/300\n",
      "19/19 - 0s - loss: 0.6680 - accuracy: 0.6800 - val_loss: 0.6469 - val_accuracy: 0.6200 - 50ms/epoch - 3ms/step\n",
      "Epoch 16/300\n",
      "19/19 - 0s - loss: 0.6493 - accuracy: 0.6650 - val_loss: 0.6485 - val_accuracy: 0.6300 - 48ms/epoch - 3ms/step\n",
      "Epoch 17/300\n",
      "19/19 - 0s - loss: 0.6405 - accuracy: 0.6917 - val_loss: 0.6323 - val_accuracy: 0.6100 - 50ms/epoch - 3ms/step\n",
      "Epoch 18/300\n",
      "19/19 - 0s - loss: 0.6344 - accuracy: 0.6700 - val_loss: 0.6602 - val_accuracy: 0.6000 - 50ms/epoch - 3ms/step\n",
      "Epoch 19/300\n",
      "19/19 - 0s - loss: 0.6204 - accuracy: 0.6933 - val_loss: 0.6252 - val_accuracy: 0.6200 - 52ms/epoch - 3ms/step\n",
      "Epoch 20/300\n",
      "19/19 - 0s - loss: 0.6211 - accuracy: 0.6767 - val_loss: 0.6274 - val_accuracy: 0.6200 - 47ms/epoch - 2ms/step\n",
      "Epoch 21/300\n",
      "19/19 - 0s - loss: 0.6077 - accuracy: 0.7017 - val_loss: 0.6227 - val_accuracy: 0.5800 - 51ms/epoch - 3ms/step\n",
      "Epoch 22/300\n",
      "19/19 - 0s - loss: 0.6051 - accuracy: 0.6867 - val_loss: 0.6122 - val_accuracy: 0.6400 - 50ms/epoch - 3ms/step\n",
      "Epoch 23/300\n",
      "19/19 - 0s - loss: 0.5969 - accuracy: 0.7017 - val_loss: 0.6238 - val_accuracy: 0.6000 - 49ms/epoch - 3ms/step\n",
      "Epoch 24/300\n",
      "19/19 - 0s - loss: 0.5917 - accuracy: 0.6983 - val_loss: 0.6135 - val_accuracy: 0.6200 - 62ms/epoch - 3ms/step\n",
      "Epoch 25/300\n",
      "19/19 - 0s - loss: 0.5860 - accuracy: 0.7033 - val_loss: 0.6041 - val_accuracy: 0.6700 - 48ms/epoch - 3ms/step\n",
      "Epoch 26/300\n",
      "19/19 - 0s - loss: 0.5827 - accuracy: 0.7033 - val_loss: 0.6172 - val_accuracy: 0.6200 - 51ms/epoch - 3ms/step\n",
      "Epoch 27/300\n",
      "19/19 - 0s - loss: 0.5790 - accuracy: 0.7150 - val_loss: 0.6012 - val_accuracy: 0.6400 - 47ms/epoch - 2ms/step\n",
      "Epoch 28/300\n",
      "19/19 - 0s - loss: 0.5819 - accuracy: 0.6900 - val_loss: 0.6346 - val_accuracy: 0.6000 - 49ms/epoch - 3ms/step\n",
      "Epoch 29/300\n",
      "19/19 - 0s - loss: 0.5896 - accuracy: 0.6983 - val_loss: 0.6146 - val_accuracy: 0.6100 - 48ms/epoch - 3ms/step\n",
      "Epoch 30/300\n",
      "19/19 - 0s - loss: 0.5821 - accuracy: 0.7050 - val_loss: 0.5983 - val_accuracy: 0.6600 - 47ms/epoch - 2ms/step\n",
      "Epoch 31/300\n",
      "19/19 - 0s - loss: 0.5733 - accuracy: 0.7267 - val_loss: 0.6300 - val_accuracy: 0.6100 - 50ms/epoch - 3ms/step\n",
      "Epoch 32/300\n",
      "19/19 - 0s - loss: 0.5786 - accuracy: 0.7150 - val_loss: 0.6084 - val_accuracy: 0.6500 - 50ms/epoch - 3ms/step\n",
      "Epoch 33/300\n",
      "19/19 - 0s - loss: 0.5715 - accuracy: 0.7150 - val_loss: 0.6008 - val_accuracy: 0.6400 - 49ms/epoch - 3ms/step\n",
      "Epoch 34/300\n",
      "19/19 - 0s - loss: 0.5732 - accuracy: 0.7083 - val_loss: 0.5985 - val_accuracy: 0.6200 - 50ms/epoch - 3ms/step\n",
      "Epoch 35/300\n",
      "19/19 - 0s - loss: 0.5708 - accuracy: 0.7083 - val_loss: 0.6058 - val_accuracy: 0.6400 - 51ms/epoch - 3ms/step\n",
      "Epoch 36/300\n",
      "19/19 - 0s - loss: 0.5718 - accuracy: 0.7017 - val_loss: 0.5971 - val_accuracy: 0.6500 - 50ms/epoch - 3ms/step\n",
      "Epoch 37/300\n",
      "19/19 - 0s - loss: 0.5716 - accuracy: 0.6967 - val_loss: 0.5989 - val_accuracy: 0.6400 - 49ms/epoch - 3ms/step\n",
      "Epoch 38/300\n",
      "19/19 - 0s - loss: 0.5690 - accuracy: 0.7017 - val_loss: 0.5947 - val_accuracy: 0.6900 - 52ms/epoch - 3ms/step\n",
      "Epoch 39/300\n",
      "19/19 - 0s - loss: 0.5628 - accuracy: 0.7183 - val_loss: 0.6035 - val_accuracy: 0.6500 - 48ms/epoch - 3ms/step\n",
      "Epoch 40/300\n",
      "19/19 - 0s - loss: 0.5657 - accuracy: 0.7100 - val_loss: 0.5977 - val_accuracy: 0.6400 - 49ms/epoch - 3ms/step\n",
      "Epoch 41/300\n",
      "19/19 - 0s - loss: 0.5661 - accuracy: 0.7033 - val_loss: 0.5952 - val_accuracy: 0.6500 - 49ms/epoch - 3ms/step\n",
      "Epoch 42/300\n",
      "19/19 - 0s - loss: 0.5634 - accuracy: 0.7100 - val_loss: 0.5924 - val_accuracy: 0.6800 - 49ms/epoch - 3ms/step\n",
      "Epoch 43/300\n",
      "19/19 - 0s - loss: 0.5627 - accuracy: 0.7267 - val_loss: 0.5890 - val_accuracy: 0.6600 - 49ms/epoch - 3ms/step\n",
      "Epoch 44/300\n",
      "19/19 - 0s - loss: 0.5635 - accuracy: 0.7150 - val_loss: 0.5976 - val_accuracy: 0.6500 - 51ms/epoch - 3ms/step\n",
      "Epoch 45/300\n",
      "19/19 - 0s - loss: 0.5644 - accuracy: 0.7150 - val_loss: 0.6123 - val_accuracy: 0.6400 - 52ms/epoch - 3ms/step\n",
      "Epoch 46/300\n",
      "19/19 - 0s - loss: 0.5652 - accuracy: 0.7117 - val_loss: 0.6017 - val_accuracy: 0.6500 - 51ms/epoch - 3ms/step\n",
      "Epoch 47/300\n",
      "19/19 - 0s - loss: 0.5615 - accuracy: 0.7217 - val_loss: 0.5906 - val_accuracy: 0.6300 - 52ms/epoch - 3ms/step\n",
      "Epoch 48/300\n",
      "19/19 - 0s - loss: 0.5585 - accuracy: 0.7100 - val_loss: 0.5976 - val_accuracy: 0.7100 - 50ms/epoch - 3ms/step\n",
      "Epoch 49/300\n",
      "19/19 - 0s - loss: 0.5633 - accuracy: 0.7183 - val_loss: 0.6148 - val_accuracy: 0.6300 - 49ms/epoch - 3ms/step\n",
      "Epoch 50/300\n",
      "19/19 - 0s - loss: 0.5653 - accuracy: 0.7017 - val_loss: 0.6010 - val_accuracy: 0.6200 - 53ms/epoch - 3ms/step\n",
      "Epoch 51/300\n",
      "19/19 - 0s - loss: 0.5613 - accuracy: 0.7000 - val_loss: 0.5929 - val_accuracy: 0.6500 - 49ms/epoch - 3ms/step\n",
      "Epoch 52/300\n",
      "19/19 - 0s - loss: 0.5585 - accuracy: 0.7117 - val_loss: 0.6065 - val_accuracy: 0.6300 - 50ms/epoch - 3ms/step\n",
      "Epoch 53/300\n",
      "19/19 - 0s - loss: 0.5627 - accuracy: 0.7067 - val_loss: 0.5871 - val_accuracy: 0.6900 - 51ms/epoch - 3ms/step\n",
      "Epoch 54/300\n",
      "19/19 - 0s - loss: 0.5564 - accuracy: 0.7117 - val_loss: 0.5925 - val_accuracy: 0.6500 - 48ms/epoch - 3ms/step\n",
      "Epoch 55/300\n",
      "19/19 - 0s - loss: 0.5571 - accuracy: 0.7150 - val_loss: 0.5884 - val_accuracy: 0.6400 - 46ms/epoch - 2ms/step\n",
      "Epoch 56/300\n",
      "19/19 - 0s - loss: 0.5594 - accuracy: 0.7133 - val_loss: 0.5856 - val_accuracy: 0.6800 - 46ms/epoch - 2ms/step\n",
      "Epoch 57/300\n",
      "19/19 - 0s - loss: 0.5541 - accuracy: 0.7233 - val_loss: 0.5899 - val_accuracy: 0.6500 - 49ms/epoch - 3ms/step\n",
      "Epoch 58/300\n",
      "19/19 - 0s - loss: 0.5589 - accuracy: 0.7233 - val_loss: 0.5854 - val_accuracy: 0.6800 - 50ms/epoch - 3ms/step\n",
      "Epoch 59/300\n",
      "19/19 - 0s - loss: 0.5555 - accuracy: 0.7100 - val_loss: 0.5872 - val_accuracy: 0.6500 - 50ms/epoch - 3ms/step\n",
      "Epoch 60/300\n",
      "19/19 - 0s - loss: 0.5512 - accuracy: 0.7167 - val_loss: 0.5942 - val_accuracy: 0.6300 - 59ms/epoch - 3ms/step\n",
      "Epoch 61/300\n",
      "19/19 - 0s - loss: 0.5530 - accuracy: 0.7183 - val_loss: 0.5915 - val_accuracy: 0.6600 - 50ms/epoch - 3ms/step\n",
      "Epoch 62/300\n",
      "19/19 - 0s - loss: 0.5501 - accuracy: 0.7183 - val_loss: 0.5829 - val_accuracy: 0.6400 - 49ms/epoch - 3ms/step\n",
      "Epoch 63/300\n",
      "19/19 - 0s - loss: 0.5483 - accuracy: 0.7217 - val_loss: 0.5797 - val_accuracy: 0.6900 - 47ms/epoch - 2ms/step\n",
      "Epoch 64/300\n",
      "19/19 - 0s - loss: 0.5512 - accuracy: 0.7050 - val_loss: 0.5844 - val_accuracy: 0.7200 - 49ms/epoch - 3ms/step\n",
      "Epoch 65/300\n",
      "19/19 - 0s - loss: 0.5463 - accuracy: 0.7283 - val_loss: 0.5828 - val_accuracy: 0.6400 - 47ms/epoch - 2ms/step\n",
      "Epoch 66/300\n",
      "19/19 - 0s - loss: 0.5503 - accuracy: 0.7250 - val_loss: 0.5916 - val_accuracy: 0.6700 - 48ms/epoch - 3ms/step\n",
      "Epoch 67/300\n",
      "19/19 - 0s - loss: 0.5491 - accuracy: 0.7250 - val_loss: 0.5817 - val_accuracy: 0.6500 - 47ms/epoch - 2ms/step\n"
     ]
    },
    {
     "name": "stdout",
     "output_type": "stream",
     "text": [
      "Epoch 68/300\n",
      "19/19 - 0s - loss: 0.5444 - accuracy: 0.7283 - val_loss: 0.5826 - val_accuracy: 0.6800 - 47ms/epoch - 2ms/step\n",
      "Epoch 69/300\n",
      "19/19 - 0s - loss: 0.5528 - accuracy: 0.7117 - val_loss: 0.5850 - val_accuracy: 0.6800 - 48ms/epoch - 3ms/step\n",
      "Epoch 70/300\n",
      "19/19 - 0s - loss: 0.5589 - accuracy: 0.7233 - val_loss: 0.5909 - val_accuracy: 0.6700 - 47ms/epoch - 2ms/step\n",
      "Epoch 71/300\n",
      "19/19 - 0s - loss: 0.5502 - accuracy: 0.7100 - val_loss: 0.5895 - val_accuracy: 0.6700 - 50ms/epoch - 3ms/step\n",
      "Epoch 72/300\n",
      "19/19 - 0s - loss: 0.5480 - accuracy: 0.7033 - val_loss: 0.5795 - val_accuracy: 0.6500 - 49ms/epoch - 3ms/step\n",
      "Epoch 73/300\n",
      "19/19 - 0s - loss: 0.5501 - accuracy: 0.7167 - val_loss: 0.5770 - val_accuracy: 0.7000 - 49ms/epoch - 3ms/step\n",
      "Epoch 74/300\n",
      "19/19 - 0s - loss: 0.5552 - accuracy: 0.7067 - val_loss: 0.5814 - val_accuracy: 0.6600 - 48ms/epoch - 3ms/step\n",
      "Epoch 75/300\n",
      "19/19 - 0s - loss: 0.5493 - accuracy: 0.7117 - val_loss: 0.5773 - val_accuracy: 0.6900 - 50ms/epoch - 3ms/step\n",
      "Epoch 76/300\n",
      "19/19 - 0s - loss: 0.5473 - accuracy: 0.7217 - val_loss: 0.5768 - val_accuracy: 0.7100 - 48ms/epoch - 3ms/step\n",
      "Epoch 77/300\n",
      "19/19 - 0s - loss: 0.5526 - accuracy: 0.7083 - val_loss: 0.5762 - val_accuracy: 0.6600 - 50ms/epoch - 3ms/step\n",
      "Epoch 78/300\n",
      "19/19 - 0s - loss: 0.5523 - accuracy: 0.7100 - val_loss: 0.5847 - val_accuracy: 0.6700 - 48ms/epoch - 3ms/step\n",
      "Epoch 79/300\n",
      "19/19 - 0s - loss: 0.5422 - accuracy: 0.7167 - val_loss: 0.5756 - val_accuracy: 0.6700 - 49ms/epoch - 3ms/step\n",
      "Epoch 80/300\n",
      "19/19 - 0s - loss: 0.5387 - accuracy: 0.7250 - val_loss: 0.6005 - val_accuracy: 0.6800 - 49ms/epoch - 3ms/step\n",
      "Epoch 81/300\n",
      "19/19 - 0s - loss: 0.5627 - accuracy: 0.7117 - val_loss: 0.5995 - val_accuracy: 0.6800 - 50ms/epoch - 3ms/step\n",
      "Epoch 82/300\n",
      "19/19 - 0s - loss: 0.5519 - accuracy: 0.7233 - val_loss: 0.5875 - val_accuracy: 0.6700 - 49ms/epoch - 3ms/step\n",
      "Epoch 83/300\n",
      "19/19 - 0s - loss: 0.5437 - accuracy: 0.7233 - val_loss: 0.5660 - val_accuracy: 0.6600 - 49ms/epoch - 3ms/step\n",
      "Epoch 84/300\n",
      "19/19 - 0s - loss: 0.5397 - accuracy: 0.7217 - val_loss: 0.5700 - val_accuracy: 0.6900 - 50ms/epoch - 3ms/step\n",
      "Epoch 85/300\n",
      "19/19 - 0s - loss: 0.5438 - accuracy: 0.7233 - val_loss: 0.5826 - val_accuracy: 0.6700 - 48ms/epoch - 3ms/step\n",
      "Epoch 86/300\n",
      "19/19 - 0s - loss: 0.5529 - accuracy: 0.7083 - val_loss: 0.5708 - val_accuracy: 0.7000 - 47ms/epoch - 2ms/step\n",
      "Epoch 87/300\n",
      "19/19 - 0s - loss: 0.5409 - accuracy: 0.7233 - val_loss: 0.5804 - val_accuracy: 0.6800 - 48ms/epoch - 3ms/step\n",
      "Epoch 88/300\n",
      "19/19 - 0s - loss: 0.5376 - accuracy: 0.7217 - val_loss: 0.5725 - val_accuracy: 0.6400 - 49ms/epoch - 3ms/step\n",
      "Epoch 89/300\n",
      "19/19 - 0s - loss: 0.5403 - accuracy: 0.7117 - val_loss: 0.5870 - val_accuracy: 0.6800 - 48ms/epoch - 3ms/step\n",
      "Epoch 90/300\n",
      "19/19 - 0s - loss: 0.5448 - accuracy: 0.7183 - val_loss: 0.5815 - val_accuracy: 0.6600 - 48ms/epoch - 3ms/step\n",
      "Epoch 91/300\n",
      "19/19 - 0s - loss: 0.5418 - accuracy: 0.7233 - val_loss: 0.5772 - val_accuracy: 0.6500 - 47ms/epoch - 2ms/step\n",
      "Epoch 92/300\n",
      "19/19 - 0s - loss: 0.5393 - accuracy: 0.7317 - val_loss: 0.5772 - val_accuracy: 0.6700 - 48ms/epoch - 3ms/step\n",
      "Epoch 93/300\n",
      "19/19 - 0s - loss: 0.5371 - accuracy: 0.7283 - val_loss: 0.5674 - val_accuracy: 0.7100 - 48ms/epoch - 3ms/step\n",
      "Epoch 94/300\n",
      "19/19 - 0s - loss: 0.5438 - accuracy: 0.7400 - val_loss: 0.5700 - val_accuracy: 0.7100 - 49ms/epoch - 3ms/step\n",
      "Epoch 95/300\n",
      "19/19 - 0s - loss: 0.5456 - accuracy: 0.7217 - val_loss: 0.6135 - val_accuracy: 0.6500 - 48ms/epoch - 3ms/step\n",
      "Epoch 96/300\n",
      "19/19 - 0s - loss: 0.5425 - accuracy: 0.7233 - val_loss: 0.5667 - val_accuracy: 0.6800 - 47ms/epoch - 2ms/step\n",
      "Epoch 97/300\n",
      "19/19 - 0s - loss: 0.5363 - accuracy: 0.7150 - val_loss: 0.5667 - val_accuracy: 0.6800 - 49ms/epoch - 3ms/step\n",
      "Epoch 98/300\n",
      "19/19 - 0s - loss: 0.5379 - accuracy: 0.7200 - val_loss: 0.5804 - val_accuracy: 0.6600 - 48ms/epoch - 3ms/step\n",
      "Epoch 99/300\n",
      "19/19 - 0s - loss: 0.5391 - accuracy: 0.7283 - val_loss: 0.5711 - val_accuracy: 0.6700 - 48ms/epoch - 3ms/step\n",
      "Epoch 100/300\n",
      "19/19 - 0s - loss: 0.5350 - accuracy: 0.7267 - val_loss: 0.5674 - val_accuracy: 0.7000 - 47ms/epoch - 2ms/step\n",
      "Epoch 101/300\n",
      "19/19 - 0s - loss: 0.5327 - accuracy: 0.7267 - val_loss: 0.5692 - val_accuracy: 0.6700 - 48ms/epoch - 3ms/step\n",
      "Epoch 102/300\n",
      "19/19 - 0s - loss: 0.5321 - accuracy: 0.7300 - val_loss: 0.5772 - val_accuracy: 0.6800 - 48ms/epoch - 3ms/step\n",
      "Epoch 103/300\n",
      "19/19 - 0s - loss: 0.5321 - accuracy: 0.7400 - val_loss: 0.5700 - val_accuracy: 0.6800 - 48ms/epoch - 3ms/step\n",
      "Epoch 104/300\n",
      "19/19 - 0s - loss: 0.5458 - accuracy: 0.7083 - val_loss: 0.5627 - val_accuracy: 0.7100 - 49ms/epoch - 3ms/step\n",
      "Epoch 105/300\n",
      "19/19 - 0s - loss: 0.5328 - accuracy: 0.7300 - val_loss: 0.5640 - val_accuracy: 0.6700 - 48ms/epoch - 3ms/step\n",
      "Epoch 106/300\n",
      "19/19 - 0s - loss: 0.5378 - accuracy: 0.7200 - val_loss: 0.5586 - val_accuracy: 0.7000 - 47ms/epoch - 2ms/step\n",
      "Epoch 107/300\n",
      "19/19 - 0s - loss: 0.5289 - accuracy: 0.7400 - val_loss: 0.5605 - val_accuracy: 0.6500 - 49ms/epoch - 3ms/step\n",
      "Epoch 108/300\n",
      "19/19 - 0s - loss: 0.5301 - accuracy: 0.7250 - val_loss: 0.5605 - val_accuracy: 0.6800 - 48ms/epoch - 3ms/step\n",
      "Epoch 109/300\n",
      "19/19 - 0s - loss: 0.5277 - accuracy: 0.7400 - val_loss: 0.5580 - val_accuracy: 0.6900 - 48ms/epoch - 3ms/step\n",
      "Epoch 110/300\n",
      "19/19 - 0s - loss: 0.5304 - accuracy: 0.7317 - val_loss: 0.5827 - val_accuracy: 0.6700 - 50ms/epoch - 3ms/step\n",
      "Epoch 111/300\n",
      "19/19 - 0s - loss: 0.5297 - accuracy: 0.7317 - val_loss: 0.5575 - val_accuracy: 0.7000 - 48ms/epoch - 3ms/step\n",
      "Epoch 112/300\n",
      "19/19 - 0s - loss: 0.5332 - accuracy: 0.7267 - val_loss: 0.5602 - val_accuracy: 0.6500 - 47ms/epoch - 2ms/step\n",
      "Epoch 113/300\n",
      "19/19 - 0s - loss: 0.5300 - accuracy: 0.7200 - val_loss: 0.5785 - val_accuracy: 0.6600 - 49ms/epoch - 3ms/step\n",
      "Epoch 114/300\n",
      "19/19 - 0s - loss: 0.5307 - accuracy: 0.7350 - val_loss: 0.5623 - val_accuracy: 0.7200 - 49ms/epoch - 3ms/step\n",
      "Epoch 115/300\n",
      "19/19 - 0s - loss: 0.5263 - accuracy: 0.7333 - val_loss: 0.5568 - val_accuracy: 0.7100 - 49ms/epoch - 3ms/step\n",
      "Epoch 116/300\n",
      "19/19 - 0s - loss: 0.5255 - accuracy: 0.7383 - val_loss: 0.5702 - val_accuracy: 0.6600 - 49ms/epoch - 3ms/step\n",
      "Epoch 117/300\n",
      "19/19 - 0s - loss: 0.5291 - accuracy: 0.7267 - val_loss: 0.5651 - val_accuracy: 0.6600 - 50ms/epoch - 3ms/step\n",
      "Epoch 118/300\n",
      "19/19 - 0s - loss: 0.5364 - accuracy: 0.7167 - val_loss: 0.5752 - val_accuracy: 0.6600 - 49ms/epoch - 3ms/step\n",
      "Epoch 119/300\n",
      "19/19 - 0s - loss: 0.5267 - accuracy: 0.7367 - val_loss: 0.5578 - val_accuracy: 0.7000 - 47ms/epoch - 2ms/step\n",
      "Epoch 120/300\n",
      "19/19 - 0s - loss: 0.5288 - accuracy: 0.7300 - val_loss: 0.5558 - val_accuracy: 0.6900 - 49ms/epoch - 3ms/step\n",
      "Epoch 121/300\n",
      "19/19 - 0s - loss: 0.5302 - accuracy: 0.7450 - val_loss: 0.5634 - val_accuracy: 0.6900 - 47ms/epoch - 2ms/step\n",
      "Epoch 122/300\n",
      "19/19 - 0s - loss: 0.5240 - accuracy: 0.7333 - val_loss: 0.5584 - val_accuracy: 0.7100 - 48ms/epoch - 3ms/step\n",
      "Epoch 123/300\n",
      "19/19 - 0s - loss: 0.5267 - accuracy: 0.7417 - val_loss: 0.5563 - val_accuracy: 0.6600 - 51ms/epoch - 3ms/step\n",
      "Epoch 124/300\n",
      "19/19 - 0s - loss: 0.5255 - accuracy: 0.7333 - val_loss: 0.5619 - val_accuracy: 0.7100 - 54ms/epoch - 3ms/step\n",
      "Epoch 125/300\n",
      "19/19 - 0s - loss: 0.5247 - accuracy: 0.7283 - val_loss: 0.5593 - val_accuracy: 0.7000 - 50ms/epoch - 3ms/step\n",
      "Epoch 126/300\n",
      "19/19 - 0s - loss: 0.5220 - accuracy: 0.7267 - val_loss: 0.5584 - val_accuracy: 0.7000 - 54ms/epoch - 3ms/step\n",
      "Epoch 127/300\n",
      "19/19 - 0s - loss: 0.5254 - accuracy: 0.7300 - val_loss: 0.5803 - val_accuracy: 0.6500 - 52ms/epoch - 3ms/step\n",
      "Epoch 128/300\n",
      "19/19 - 0s - loss: 0.5321 - accuracy: 0.7283 - val_loss: 0.5620 - val_accuracy: 0.7000 - 63ms/epoch - 3ms/step\n",
      "Epoch 129/300\n",
      "19/19 - 0s - loss: 0.5260 - accuracy: 0.7217 - val_loss: 0.5551 - val_accuracy: 0.6800 - 48ms/epoch - 3ms/step\n",
      "Epoch 130/300\n",
      "19/19 - 0s - loss: 0.5208 - accuracy: 0.7433 - val_loss: 0.5480 - val_accuracy: 0.7000 - 47ms/epoch - 2ms/step\n",
      "Epoch 131/300\n",
      "19/19 - 0s - loss: 0.5217 - accuracy: 0.7350 - val_loss: 0.5614 - val_accuracy: 0.6700 - 47ms/epoch - 2ms/step\n",
      "Epoch 132/300\n",
      "19/19 - 0s - loss: 0.5207 - accuracy: 0.7417 - val_loss: 0.5580 - val_accuracy: 0.6800 - 47ms/epoch - 2ms/step\n",
      "Epoch 133/300\n",
      "19/19 - 0s - loss: 0.5184 - accuracy: 0.7383 - val_loss: 0.5517 - val_accuracy: 0.6900 - 51ms/epoch - 3ms/step\n"
     ]
    },
    {
     "name": "stdout",
     "output_type": "stream",
     "text": [
      "Epoch 134/300\n",
      "19/19 - 0s - loss: 0.5196 - accuracy: 0.7400 - val_loss: 0.5495 - val_accuracy: 0.7000 - 51ms/epoch - 3ms/step\n",
      "Epoch 135/300\n",
      "19/19 - 0s - loss: 0.5248 - accuracy: 0.7383 - val_loss: 0.5561 - val_accuracy: 0.7100 - 49ms/epoch - 3ms/step\n",
      "Epoch 136/300\n",
      "19/19 - 0s - loss: 0.5219 - accuracy: 0.7283 - val_loss: 0.5494 - val_accuracy: 0.6700 - 49ms/epoch - 3ms/step\n",
      "Epoch 137/300\n",
      "19/19 - 0s - loss: 0.5248 - accuracy: 0.7267 - val_loss: 0.5505 - val_accuracy: 0.6800 - 52ms/epoch - 3ms/step\n",
      "Epoch 138/300\n",
      "19/19 - 0s - loss: 0.5270 - accuracy: 0.7283 - val_loss: 0.5509 - val_accuracy: 0.6700 - 51ms/epoch - 3ms/step\n",
      "Epoch 139/300\n",
      "19/19 - 0s - loss: 0.5274 - accuracy: 0.7367 - val_loss: 0.5504 - val_accuracy: 0.7000 - 53ms/epoch - 3ms/step\n",
      "Epoch 140/300\n",
      "19/19 - 0s - loss: 0.5242 - accuracy: 0.7250 - val_loss: 0.5685 - val_accuracy: 0.6600 - 50ms/epoch - 3ms/step\n",
      "Epoch 141/300\n",
      "19/19 - 0s - loss: 0.5170 - accuracy: 0.7517 - val_loss: 0.5497 - val_accuracy: 0.7000 - 50ms/epoch - 3ms/step\n",
      "Epoch 142/300\n",
      "19/19 - 0s - loss: 0.5167 - accuracy: 0.7367 - val_loss: 0.5518 - val_accuracy: 0.7200 - 46ms/epoch - 2ms/step\n",
      "Epoch 143/300\n",
      "19/19 - 0s - loss: 0.5156 - accuracy: 0.7383 - val_loss: 0.5707 - val_accuracy: 0.6800 - 48ms/epoch - 3ms/step\n",
      "Epoch 144/300\n",
      "19/19 - 0s - loss: 0.5216 - accuracy: 0.7483 - val_loss: 0.5487 - val_accuracy: 0.7200 - 50ms/epoch - 3ms/step\n",
      "Epoch 145/300\n",
      "19/19 - 0s - loss: 0.5146 - accuracy: 0.7350 - val_loss: 0.5565 - val_accuracy: 0.7100 - 64ms/epoch - 3ms/step\n",
      "Epoch 146/300\n",
      "19/19 - 0s - loss: 0.5148 - accuracy: 0.7417 - val_loss: 0.5527 - val_accuracy: 0.6600 - 57ms/epoch - 3ms/step\n",
      "Epoch 147/300\n",
      "19/19 - 0s - loss: 0.5127 - accuracy: 0.7467 - val_loss: 0.5463 - val_accuracy: 0.7100 - 54ms/epoch - 3ms/step\n",
      "Epoch 148/300\n",
      "19/19 - 0s - loss: 0.5134 - accuracy: 0.7417 - val_loss: 0.5458 - val_accuracy: 0.7100 - 45ms/epoch - 2ms/step\n",
      "Epoch 149/300\n",
      "19/19 - 0s - loss: 0.5131 - accuracy: 0.7550 - val_loss: 0.5546 - val_accuracy: 0.7100 - 46ms/epoch - 2ms/step\n",
      "Epoch 150/300\n",
      "19/19 - 0s - loss: 0.5122 - accuracy: 0.7533 - val_loss: 0.5464 - val_accuracy: 0.7200 - 47ms/epoch - 2ms/step\n",
      "Epoch 151/300\n",
      "19/19 - 0s - loss: 0.5118 - accuracy: 0.7450 - val_loss: 0.5534 - val_accuracy: 0.7200 - 48ms/epoch - 3ms/step\n",
      "Epoch 152/300\n",
      "19/19 - 0s - loss: 0.5132 - accuracy: 0.7417 - val_loss: 0.5529 - val_accuracy: 0.6600 - 53ms/epoch - 3ms/step\n",
      "Epoch 153/300\n",
      "19/19 - 0s - loss: 0.5097 - accuracy: 0.7367 - val_loss: 0.5449 - val_accuracy: 0.7200 - 57ms/epoch - 3ms/step\n",
      "Epoch 154/300\n",
      "19/19 - 0s - loss: 0.5110 - accuracy: 0.7567 - val_loss: 0.5488 - val_accuracy: 0.7200 - 59ms/epoch - 3ms/step\n",
      "Epoch 155/300\n",
      "19/19 - 0s - loss: 0.5179 - accuracy: 0.7367 - val_loss: 0.5409 - val_accuracy: 0.7300 - 57ms/epoch - 3ms/step\n",
      "Epoch 156/300\n",
      "19/19 - 0s - loss: 0.5122 - accuracy: 0.7500 - val_loss: 0.5445 - val_accuracy: 0.7100 - 50ms/epoch - 3ms/step\n",
      "Epoch 157/300\n",
      "19/19 - 0s - loss: 0.5151 - accuracy: 0.7467 - val_loss: 0.5394 - val_accuracy: 0.7100 - 45ms/epoch - 2ms/step\n",
      "Epoch 158/300\n",
      "19/19 - 0s - loss: 0.5143 - accuracy: 0.7500 - val_loss: 0.5591 - val_accuracy: 0.6800 - 47ms/epoch - 2ms/step\n",
      "Epoch 159/300\n",
      "19/19 - 0s - loss: 0.5068 - accuracy: 0.7500 - val_loss: 0.5520 - val_accuracy: 0.6700 - 46ms/epoch - 2ms/step\n",
      "Epoch 160/300\n",
      "19/19 - 0s - loss: 0.5110 - accuracy: 0.7300 - val_loss: 0.5390 - val_accuracy: 0.7100 - 56ms/epoch - 3ms/step\n",
      "Epoch 161/300\n",
      "19/19 - 0s - loss: 0.5109 - accuracy: 0.7517 - val_loss: 0.5550 - val_accuracy: 0.7300 - 62ms/epoch - 3ms/step\n",
      "Epoch 162/300\n",
      "19/19 - 0s - loss: 0.5080 - accuracy: 0.7433 - val_loss: 0.5512 - val_accuracy: 0.6600 - 56ms/epoch - 3ms/step\n",
      "Epoch 163/300\n",
      "19/19 - 0s - loss: 0.5076 - accuracy: 0.7483 - val_loss: 0.5530 - val_accuracy: 0.6700 - 51ms/epoch - 3ms/step\n",
      "Epoch 164/300\n",
      "19/19 - 0s - loss: 0.5062 - accuracy: 0.7533 - val_loss: 0.5444 - val_accuracy: 0.7000 - 45ms/epoch - 2ms/step\n",
      "Epoch 165/300\n",
      "19/19 - 0s - loss: 0.5124 - accuracy: 0.7450 - val_loss: 0.5489 - val_accuracy: 0.7100 - 46ms/epoch - 2ms/step\n",
      "Epoch 166/300\n",
      "19/19 - 0s - loss: 0.5071 - accuracy: 0.7550 - val_loss: 0.5381 - val_accuracy: 0.7200 - 47ms/epoch - 2ms/step\n",
      "Epoch 167/300\n",
      "19/19 - 0s - loss: 0.5034 - accuracy: 0.7467 - val_loss: 0.5520 - val_accuracy: 0.6600 - 47ms/epoch - 2ms/step\n",
      "Epoch 168/300\n",
      "19/19 - 0s - loss: 0.5066 - accuracy: 0.7533 - val_loss: 0.5510 - val_accuracy: 0.7100 - 48ms/epoch - 3ms/step\n",
      "Epoch 169/300\n",
      "19/19 - 0s - loss: 0.5098 - accuracy: 0.7433 - val_loss: 0.5492 - val_accuracy: 0.6700 - 49ms/epoch - 3ms/step\n",
      "Epoch 170/300\n",
      "19/19 - 0s - loss: 0.5100 - accuracy: 0.7500 - val_loss: 0.5442 - val_accuracy: 0.7100 - 49ms/epoch - 3ms/step\n",
      "Epoch 171/300\n",
      "19/19 - 0s - loss: 0.5041 - accuracy: 0.7633 - val_loss: 0.5514 - val_accuracy: 0.6800 - 50ms/epoch - 3ms/step\n",
      "Epoch 172/300\n",
      "19/19 - 0s - loss: 0.5097 - accuracy: 0.7433 - val_loss: 0.5532 - val_accuracy: 0.6900 - 58ms/epoch - 3ms/step\n",
      "Epoch 173/300\n",
      "19/19 - 0s - loss: 0.5079 - accuracy: 0.7533 - val_loss: 0.5466 - val_accuracy: 0.7200 - 58ms/epoch - 3ms/step\n",
      "Epoch 174/300\n",
      "19/19 - 0s - loss: 0.5119 - accuracy: 0.7567 - val_loss: 0.5350 - val_accuracy: 0.7200 - 57ms/epoch - 3ms/step\n",
      "Epoch 175/300\n",
      "19/19 - 0s - loss: 0.5080 - accuracy: 0.7550 - val_loss: 0.5417 - val_accuracy: 0.7200 - 50ms/epoch - 3ms/step\n",
      "Epoch 176/300\n",
      "19/19 - 0s - loss: 0.5129 - accuracy: 0.7417 - val_loss: 0.5541 - val_accuracy: 0.6900 - 47ms/epoch - 2ms/step\n",
      "Epoch 177/300\n",
      "19/19 - 0s - loss: 0.5041 - accuracy: 0.7583 - val_loss: 0.5495 - val_accuracy: 0.6900 - 49ms/epoch - 3ms/step\n",
      "Epoch 178/300\n",
      "19/19 - 0s - loss: 0.5028 - accuracy: 0.7500 - val_loss: 0.5458 - val_accuracy: 0.7300 - 49ms/epoch - 3ms/step\n",
      "Epoch 179/300\n",
      "19/19 - 0s - loss: 0.4997 - accuracy: 0.7617 - val_loss: 0.5296 - val_accuracy: 0.7300 - 49ms/epoch - 3ms/step\n",
      "Epoch 180/300\n",
      "19/19 - 0s - loss: 0.5050 - accuracy: 0.7517 - val_loss: 0.5421 - val_accuracy: 0.7000 - 47ms/epoch - 2ms/step\n",
      "Epoch 181/300\n",
      "19/19 - 0s - loss: 0.5052 - accuracy: 0.7533 - val_loss: 0.5477 - val_accuracy: 0.7000 - 50ms/epoch - 3ms/step\n",
      "Epoch 182/300\n",
      "19/19 - 0s - loss: 0.5008 - accuracy: 0.7667 - val_loss: 0.5384 - val_accuracy: 0.7300 - 51ms/epoch - 3ms/step\n",
      "Epoch 183/300\n",
      "19/19 - 0s - loss: 0.5006 - accuracy: 0.7583 - val_loss: 0.5391 - val_accuracy: 0.7500 - 51ms/epoch - 3ms/step\n",
      "Epoch 184/300\n",
      "19/19 - 0s - loss: 0.5005 - accuracy: 0.7400 - val_loss: 0.5369 - val_accuracy: 0.7400 - 50ms/epoch - 3ms/step\n",
      "Epoch 185/300\n",
      "19/19 - 0s - loss: 0.5036 - accuracy: 0.7500 - val_loss: 0.5302 - val_accuracy: 0.7500 - 51ms/epoch - 3ms/step\n",
      "Epoch 186/300\n",
      "19/19 - 0s - loss: 0.4998 - accuracy: 0.7567 - val_loss: 0.5534 - val_accuracy: 0.6900 - 51ms/epoch - 3ms/step\n",
      "Epoch 187/300\n",
      "19/19 - 0s - loss: 0.4991 - accuracy: 0.7700 - val_loss: 0.5415 - val_accuracy: 0.7000 - 49ms/epoch - 3ms/step\n",
      "Epoch 188/300\n",
      "19/19 - 0s - loss: 0.5051 - accuracy: 0.7383 - val_loss: 0.5302 - val_accuracy: 0.7500 - 51ms/epoch - 3ms/step\n",
      "Epoch 189/300\n",
      "19/19 - 0s - loss: 0.5041 - accuracy: 0.7550 - val_loss: 0.5338 - val_accuracy: 0.7200 - 49ms/epoch - 3ms/step\n",
      "Epoch 190/300\n",
      "19/19 - 0s - loss: 0.4986 - accuracy: 0.7633 - val_loss: 0.5323 - val_accuracy: 0.7300 - 63ms/epoch - 3ms/step\n",
      "Epoch 191/300\n",
      "19/19 - 0s - loss: 0.4988 - accuracy: 0.7517 - val_loss: 0.5378 - val_accuracy: 0.7300 - 54ms/epoch - 3ms/step\n",
      "Epoch 192/300\n",
      "19/19 - 0s - loss: 0.5067 - accuracy: 0.7517 - val_loss: 0.5314 - val_accuracy: 0.7300 - 57ms/epoch - 3ms/step\n",
      "Epoch 193/300\n",
      "19/19 - 0s - loss: 0.5043 - accuracy: 0.7583 - val_loss: 0.5584 - val_accuracy: 0.6700 - 52ms/epoch - 3ms/step\n",
      "Epoch 194/300\n",
      "19/19 - 0s - loss: 0.5015 - accuracy: 0.7633 - val_loss: 0.5287 - val_accuracy: 0.7100 - 52ms/epoch - 3ms/step\n",
      "Epoch 195/300\n",
      "19/19 - 0s - loss: 0.4979 - accuracy: 0.7617 - val_loss: 0.5389 - val_accuracy: 0.7000 - 48ms/epoch - 3ms/step\n",
      "Epoch 196/300\n",
      "19/19 - 0s - loss: 0.5017 - accuracy: 0.7500 - val_loss: 0.5543 - val_accuracy: 0.6900 - 48ms/epoch - 3ms/step\n",
      "Epoch 197/300\n",
      "19/19 - 0s - loss: 0.5065 - accuracy: 0.7533 - val_loss: 0.5397 - val_accuracy: 0.7700 - 44ms/epoch - 2ms/step\n",
      "Epoch 198/300\n",
      "19/19 - 0s - loss: 0.5056 - accuracy: 0.7483 - val_loss: 0.5408 - val_accuracy: 0.7500 - 50ms/epoch - 3ms/step\n",
      "Epoch 199/300\n",
      "19/19 - 0s - loss: 0.5081 - accuracy: 0.7567 - val_loss: 0.5323 - val_accuracy: 0.7600 - 57ms/epoch - 3ms/step\n"
     ]
    },
    {
     "name": "stdout",
     "output_type": "stream",
     "text": [
      "Epoch 200/300\n",
      "19/19 - 0s - loss: 0.4982 - accuracy: 0.7550 - val_loss: 0.5394 - val_accuracy: 0.7200 - 53ms/epoch - 3ms/step\n",
      "Epoch 201/300\n",
      "19/19 - 0s - loss: 0.4981 - accuracy: 0.7450 - val_loss: 0.5214 - val_accuracy: 0.7400 - 50ms/epoch - 3ms/step\n",
      "Epoch 202/300\n",
      "19/19 - 0s - loss: 0.4939 - accuracy: 0.7533 - val_loss: 0.5346 - val_accuracy: 0.7600 - 46ms/epoch - 2ms/step\n",
      "Epoch 203/300\n",
      "19/19 - 0s - loss: 0.4960 - accuracy: 0.7467 - val_loss: 0.5318 - val_accuracy: 0.7200 - 46ms/epoch - 2ms/step\n",
      "Epoch 204/300\n",
      "19/19 - 0s - loss: 0.4938 - accuracy: 0.7650 - val_loss: 0.5346 - val_accuracy: 0.7000 - 49ms/epoch - 3ms/step\n",
      "Epoch 205/300\n",
      "19/19 - 0s - loss: 0.4928 - accuracy: 0.7533 - val_loss: 0.5297 - val_accuracy: 0.7400 - 46ms/epoch - 2ms/step\n",
      "Epoch 206/300\n",
      "19/19 - 0s - loss: 0.4987 - accuracy: 0.7483 - val_loss: 0.5315 - val_accuracy: 0.7500 - 48ms/epoch - 3ms/step\n",
      "Epoch 207/300\n",
      "19/19 - 0s - loss: 0.5024 - accuracy: 0.7517 - val_loss: 0.5159 - val_accuracy: 0.7600 - 51ms/epoch - 3ms/step\n",
      "Epoch 208/300\n",
      "19/19 - 0s - loss: 0.5089 - accuracy: 0.7367 - val_loss: 0.5267 - val_accuracy: 0.7600 - 51ms/epoch - 3ms/step\n",
      "Epoch 209/300\n",
      "19/19 - 0s - loss: 0.4983 - accuracy: 0.7550 - val_loss: 0.5292 - val_accuracy: 0.7500 - 56ms/epoch - 3ms/step\n",
      "Epoch 210/300\n",
      "19/19 - 0s - loss: 0.4973 - accuracy: 0.7450 - val_loss: 0.5216 - val_accuracy: 0.7500 - 51ms/epoch - 3ms/step\n",
      "Epoch 211/300\n",
      "19/19 - 0s - loss: 0.4984 - accuracy: 0.7483 - val_loss: 0.5279 - val_accuracy: 0.7500 - 53ms/epoch - 3ms/step\n",
      "Epoch 212/300\n",
      "19/19 - 0s - loss: 0.4930 - accuracy: 0.7617 - val_loss: 0.5219 - val_accuracy: 0.7700 - 51ms/epoch - 3ms/step\n",
      "Epoch 213/300\n",
      "19/19 - 0s - loss: 0.4944 - accuracy: 0.7633 - val_loss: 0.5196 - val_accuracy: 0.7400 - 54ms/epoch - 3ms/step\n",
      "Epoch 214/300\n",
      "19/19 - 0s - loss: 0.4886 - accuracy: 0.7750 - val_loss: 0.5408 - val_accuracy: 0.7000 - 56ms/epoch - 3ms/step\n",
      "Epoch 215/300\n",
      "19/19 - 0s - loss: 0.4989 - accuracy: 0.7650 - val_loss: 0.5220 - val_accuracy: 0.7600 - 56ms/epoch - 3ms/step\n",
      "Epoch 216/300\n",
      "19/19 - 0s - loss: 0.5038 - accuracy: 0.7450 - val_loss: 0.5281 - val_accuracy: 0.7600 - 54ms/epoch - 3ms/step\n",
      "Epoch 217/300\n",
      "19/19 - 0s - loss: 0.4928 - accuracy: 0.7483 - val_loss: 0.5223 - val_accuracy: 0.7500 - 52ms/epoch - 3ms/step\n",
      "Epoch 218/300\n",
      "19/19 - 0s - loss: 0.4925 - accuracy: 0.7550 - val_loss: 0.5207 - val_accuracy: 0.7600 - 45ms/epoch - 2ms/step\n",
      "Epoch 219/300\n",
      "19/19 - 0s - loss: 0.4912 - accuracy: 0.7583 - val_loss: 0.5189 - val_accuracy: 0.7300 - 46ms/epoch - 2ms/step\n",
      "Epoch 220/300\n",
      "19/19 - 0s - loss: 0.4935 - accuracy: 0.7667 - val_loss: 0.5261 - val_accuracy: 0.7500 - 48ms/epoch - 3ms/step\n",
      "Epoch 221/300\n",
      "19/19 - 0s - loss: 0.4918 - accuracy: 0.7583 - val_loss: 0.5289 - val_accuracy: 0.7500 - 49ms/epoch - 3ms/step\n",
      "Epoch 222/300\n",
      "19/19 - 0s - loss: 0.4871 - accuracy: 0.7650 - val_loss: 0.5177 - val_accuracy: 0.7600 - 53ms/epoch - 3ms/step\n",
      "Epoch 223/300\n",
      "19/19 - 0s - loss: 0.4891 - accuracy: 0.7750 - val_loss: 0.5158 - val_accuracy: 0.7700 - 59ms/epoch - 3ms/step\n",
      "Epoch 224/300\n",
      "19/19 - 0s - loss: 0.4899 - accuracy: 0.7600 - val_loss: 0.5142 - val_accuracy: 0.7600 - 54ms/epoch - 3ms/step\n",
      "Epoch 225/300\n",
      "19/19 - 0s - loss: 0.4879 - accuracy: 0.7617 - val_loss: 0.5263 - val_accuracy: 0.7600 - 51ms/epoch - 3ms/step\n",
      "Epoch 226/300\n",
      "19/19 - 0s - loss: 0.4901 - accuracy: 0.7533 - val_loss: 0.5069 - val_accuracy: 0.7800 - 52ms/epoch - 3ms/step\n",
      "Epoch 227/300\n",
      "19/19 - 0s - loss: 0.4909 - accuracy: 0.7633 - val_loss: 0.5394 - val_accuracy: 0.7400 - 45ms/epoch - 2ms/step\n",
      "Epoch 228/300\n",
      "19/19 - 0s - loss: 0.4978 - accuracy: 0.7583 - val_loss: 0.5581 - val_accuracy: 0.6900 - 51ms/epoch - 3ms/step\n",
      "Epoch 229/300\n",
      "19/19 - 0s - loss: 0.4967 - accuracy: 0.7483 - val_loss: 0.5292 - val_accuracy: 0.7400 - 57ms/epoch - 3ms/step\n",
      "Epoch 230/300\n",
      "19/19 - 0s - loss: 0.4958 - accuracy: 0.7583 - val_loss: 0.5095 - val_accuracy: 0.7700 - 51ms/epoch - 3ms/step\n",
      "Epoch 231/300\n",
      "19/19 - 0s - loss: 0.4891 - accuracy: 0.7667 - val_loss: 0.5156 - val_accuracy: 0.7500 - 54ms/epoch - 3ms/step\n",
      "Epoch 232/300\n",
      "19/19 - 0s - loss: 0.4853 - accuracy: 0.7567 - val_loss: 0.5298 - val_accuracy: 0.7400 - 53ms/epoch - 3ms/step\n",
      "Epoch 233/300\n",
      "19/19 - 0s - loss: 0.4849 - accuracy: 0.7633 - val_loss: 0.5056 - val_accuracy: 0.7600 - 49ms/epoch - 3ms/step\n",
      "Epoch 234/300\n",
      "19/19 - 0s - loss: 0.4869 - accuracy: 0.7617 - val_loss: 0.5206 - val_accuracy: 0.7600 - 46ms/epoch - 2ms/step\n",
      "Epoch 235/300\n",
      "19/19 - 0s - loss: 0.4833 - accuracy: 0.7633 - val_loss: 0.5051 - val_accuracy: 0.7600 - 53ms/epoch - 3ms/step\n",
      "Epoch 236/300\n",
      "19/19 - 0s - loss: 0.4856 - accuracy: 0.7650 - val_loss: 0.5078 - val_accuracy: 0.7900 - 51ms/epoch - 3ms/step\n",
      "Epoch 237/300\n",
      "19/19 - 0s - loss: 0.4868 - accuracy: 0.7683 - val_loss: 0.5152 - val_accuracy: 0.7600 - 53ms/epoch - 3ms/step\n",
      "Epoch 238/300\n",
      "19/19 - 0s - loss: 0.4929 - accuracy: 0.7517 - val_loss: 0.5219 - val_accuracy: 0.7400 - 54ms/epoch - 3ms/step\n",
      "Epoch 239/300\n",
      "19/19 - 0s - loss: 0.4875 - accuracy: 0.7717 - val_loss: 0.5421 - val_accuracy: 0.7400 - 49ms/epoch - 3ms/step\n",
      "Epoch 240/300\n",
      "19/19 - 0s - loss: 0.4954 - accuracy: 0.7517 - val_loss: 0.5152 - val_accuracy: 0.7600 - 49ms/epoch - 3ms/step\n",
      "Epoch 241/300\n",
      "19/19 - 0s - loss: 0.4881 - accuracy: 0.7600 - val_loss: 0.5009 - val_accuracy: 0.7600 - 56ms/epoch - 3ms/step\n",
      "Epoch 242/300\n",
      "19/19 - 0s - loss: 0.4915 - accuracy: 0.7417 - val_loss: 0.5305 - val_accuracy: 0.7500 - 56ms/epoch - 3ms/step\n",
      "Epoch 243/300\n",
      "19/19 - 0s - loss: 0.4844 - accuracy: 0.7600 - val_loss: 0.5235 - val_accuracy: 0.7500 - 54ms/epoch - 3ms/step\n",
      "Epoch 244/300\n",
      "19/19 - 0s - loss: 0.4811 - accuracy: 0.7717 - val_loss: 0.5080 - val_accuracy: 0.7500 - 58ms/epoch - 3ms/step\n",
      "Epoch 245/300\n",
      "19/19 - 0s - loss: 0.4848 - accuracy: 0.7567 - val_loss: 0.5092 - val_accuracy: 0.7700 - 51ms/epoch - 3ms/step\n",
      "Epoch 246/300\n",
      "19/19 - 0s - loss: 0.4797 - accuracy: 0.7650 - val_loss: 0.5084 - val_accuracy: 0.7600 - 53ms/epoch - 3ms/step\n",
      "Epoch 247/300\n",
      "19/19 - 0s - loss: 0.5152 - accuracy: 0.7533 - val_loss: 0.5167 - val_accuracy: 0.7700 - 53ms/epoch - 3ms/step\n",
      "Epoch 248/300\n",
      "19/19 - 0s - loss: 0.5030 - accuracy: 0.7583 - val_loss: 0.5221 - val_accuracy: 0.7400 - 52ms/epoch - 3ms/step\n",
      "Epoch 249/300\n",
      "19/19 - 0s - loss: 0.4957 - accuracy: 0.7400 - val_loss: 0.5319 - val_accuracy: 0.7300 - 54ms/epoch - 3ms/step\n",
      "Epoch 250/300\n",
      "19/19 - 0s - loss: 0.4800 - accuracy: 0.7733 - val_loss: 0.5031 - val_accuracy: 0.7600 - 48ms/epoch - 3ms/step\n",
      "Epoch 251/300\n",
      "19/19 - 0s - loss: 0.4818 - accuracy: 0.7633 - val_loss: 0.5185 - val_accuracy: 0.7600 - 52ms/epoch - 3ms/step\n",
      "Epoch 252/300\n",
      "19/19 - 0s - loss: 0.4797 - accuracy: 0.7600 - val_loss: 0.5148 - val_accuracy: 0.7400 - 50ms/epoch - 3ms/step\n",
      "Epoch 253/300\n",
      "19/19 - 0s - loss: 0.4781 - accuracy: 0.7800 - val_loss: 0.5041 - val_accuracy: 0.7400 - 65ms/epoch - 3ms/step\n",
      "Epoch 254/300\n",
      "19/19 - 0s - loss: 0.4822 - accuracy: 0.7617 - val_loss: 0.4992 - val_accuracy: 0.7700 - 48ms/epoch - 3ms/step\n",
      "Epoch 255/300\n",
      "19/19 - 0s - loss: 0.4818 - accuracy: 0.7667 - val_loss: 0.5111 - val_accuracy: 0.7700 - 49ms/epoch - 3ms/step\n",
      "Epoch 256/300\n",
      "19/19 - 0s - loss: 0.4879 - accuracy: 0.7467 - val_loss: 0.5131 - val_accuracy: 0.7500 - 52ms/epoch - 3ms/step\n",
      "Epoch 257/300\n",
      "19/19 - 0s - loss: 0.4772 - accuracy: 0.7767 - val_loss: 0.5023 - val_accuracy: 0.7400 - 55ms/epoch - 3ms/step\n",
      "Epoch 258/300\n",
      "19/19 - 0s - loss: 0.4799 - accuracy: 0.7683 - val_loss: 0.5162 - val_accuracy: 0.7600 - 52ms/epoch - 3ms/step\n",
      "Epoch 259/300\n",
      "19/19 - 0s - loss: 0.4804 - accuracy: 0.7683 - val_loss: 0.4985 - val_accuracy: 0.7800 - 52ms/epoch - 3ms/step\n",
      "Epoch 260/300\n",
      "19/19 - 0s - loss: 0.4803 - accuracy: 0.7567 - val_loss: 0.5127 - val_accuracy: 0.7400 - 49ms/epoch - 3ms/step\n",
      "Epoch 261/300\n",
      "19/19 - 0s - loss: 0.4803 - accuracy: 0.7683 - val_loss: 0.5233 - val_accuracy: 0.7200 - 58ms/epoch - 3ms/step\n",
      "Epoch 262/300\n",
      "19/19 - 0s - loss: 0.4790 - accuracy: 0.7600 - val_loss: 0.5007 - val_accuracy: 0.7700 - 53ms/epoch - 3ms/step\n",
      "Epoch 263/300\n",
      "19/19 - 0s - loss: 0.4773 - accuracy: 0.7633 - val_loss: 0.5010 - val_accuracy: 0.7500 - 51ms/epoch - 3ms/step\n",
      "Epoch 264/300\n",
      "19/19 - 0s - loss: 0.4761 - accuracy: 0.7650 - val_loss: 0.5000 - val_accuracy: 0.7700 - 46ms/epoch - 2ms/step\n",
      "Epoch 265/300\n",
      "19/19 - 0s - loss: 0.4811 - accuracy: 0.7667 - val_loss: 0.4982 - val_accuracy: 0.7600 - 44ms/epoch - 2ms/step\n"
     ]
    },
    {
     "name": "stdout",
     "output_type": "stream",
     "text": [
      "Epoch 266/300\n",
      "19/19 - 0s - loss: 0.4759 - accuracy: 0.7633 - val_loss: 0.5092 - val_accuracy: 0.7500 - 51ms/epoch - 3ms/step\n",
      "Epoch 267/300\n",
      "19/19 - 0s - loss: 0.4737 - accuracy: 0.7667 - val_loss: 0.4909 - val_accuracy: 0.7800 - 54ms/epoch - 3ms/step\n",
      "Epoch 268/300\n",
      "19/19 - 0s - loss: 0.4764 - accuracy: 0.7600 - val_loss: 0.5273 - val_accuracy: 0.7400 - 55ms/epoch - 3ms/step\n",
      "Epoch 269/300\n",
      "19/19 - 0s - loss: 0.4730 - accuracy: 0.7683 - val_loss: 0.4926 - val_accuracy: 0.7900 - 51ms/epoch - 3ms/step\n",
      "Epoch 270/300\n",
      "19/19 - 0s - loss: 0.4838 - accuracy: 0.7600 - val_loss: 0.5052 - val_accuracy: 0.7500 - 46ms/epoch - 2ms/step\n",
      "Epoch 271/300\n",
      "19/19 - 0s - loss: 0.4767 - accuracy: 0.7500 - val_loss: 0.5065 - val_accuracy: 0.7400 - 53ms/epoch - 3ms/step\n",
      "Epoch 272/300\n",
      "19/19 - 0s - loss: 0.4763 - accuracy: 0.7667 - val_loss: 0.4988 - val_accuracy: 0.7600 - 53ms/epoch - 3ms/step\n",
      "Epoch 273/300\n",
      "19/19 - 0s - loss: 0.4897 - accuracy: 0.7583 - val_loss: 0.5177 - val_accuracy: 0.7700 - 54ms/epoch - 3ms/step\n",
      "Epoch 274/300\n",
      "19/19 - 0s - loss: 0.4834 - accuracy: 0.7633 - val_loss: 0.4991 - val_accuracy: 0.7600 - 51ms/epoch - 3ms/step\n",
      "Epoch 275/300\n",
      "19/19 - 0s - loss: 0.4770 - accuracy: 0.7683 - val_loss: 0.5240 - val_accuracy: 0.7300 - 51ms/epoch - 3ms/step\n",
      "Epoch 276/300\n",
      "19/19 - 0s - loss: 0.4877 - accuracy: 0.7617 - val_loss: 0.4958 - val_accuracy: 0.7700 - 56ms/epoch - 3ms/step\n",
      "Epoch 277/300\n",
      "19/19 - 0s - loss: 0.4735 - accuracy: 0.7767 - val_loss: 0.4944 - val_accuracy: 0.7700 - 55ms/epoch - 3ms/step\n",
      "Epoch 278/300\n",
      "19/19 - 0s - loss: 0.4716 - accuracy: 0.7650 - val_loss: 0.4974 - val_accuracy: 0.7800 - 56ms/epoch - 3ms/step\n",
      "Epoch 279/300\n",
      "19/19 - 0s - loss: 0.4755 - accuracy: 0.7700 - val_loss: 0.4881 - val_accuracy: 0.7700 - 46ms/epoch - 2ms/step\n",
      "Epoch 280/300\n",
      "19/19 - 0s - loss: 0.4710 - accuracy: 0.7667 - val_loss: 0.5035 - val_accuracy: 0.7600 - 51ms/epoch - 3ms/step\n",
      "Epoch 281/300\n",
      "19/19 - 0s - loss: 0.4770 - accuracy: 0.7667 - val_loss: 0.5040 - val_accuracy: 0.7600 - 53ms/epoch - 3ms/step\n",
      "Epoch 282/300\n",
      "19/19 - 0s - loss: 0.4774 - accuracy: 0.7583 - val_loss: 0.5094 - val_accuracy: 0.7400 - 52ms/epoch - 3ms/step\n",
      "Epoch 283/300\n",
      "19/19 - 0s - loss: 0.4708 - accuracy: 0.7667 - val_loss: 0.4965 - val_accuracy: 0.7700 - 54ms/epoch - 3ms/step\n",
      "Epoch 284/300\n",
      "19/19 - 0s - loss: 0.4723 - accuracy: 0.7683 - val_loss: 0.4829 - val_accuracy: 0.7700 - 50ms/epoch - 3ms/step\n",
      "Epoch 285/300\n",
      "19/19 - 0s - loss: 0.4705 - accuracy: 0.7767 - val_loss: 0.4925 - val_accuracy: 0.7700 - 47ms/epoch - 2ms/step\n",
      "Epoch 286/300\n",
      "19/19 - 0s - loss: 0.4731 - accuracy: 0.7833 - val_loss: 0.5040 - val_accuracy: 0.7500 - 52ms/epoch - 3ms/step\n",
      "Epoch 287/300\n",
      "19/19 - 0s - loss: 0.4747 - accuracy: 0.7617 - val_loss: 0.4903 - val_accuracy: 0.7800 - 50ms/epoch - 3ms/step\n",
      "Epoch 288/300\n",
      "19/19 - 0s - loss: 0.4678 - accuracy: 0.7683 - val_loss: 0.5043 - val_accuracy: 0.7700 - 53ms/epoch - 3ms/step\n",
      "Epoch 289/300\n",
      "19/19 - 0s - loss: 0.4693 - accuracy: 0.7750 - val_loss: 0.4947 - val_accuracy: 0.7600 - 51ms/epoch - 3ms/step\n",
      "Epoch 290/300\n",
      "19/19 - 0s - loss: 0.4712 - accuracy: 0.7750 - val_loss: 0.5031 - val_accuracy: 0.7500 - 50ms/epoch - 3ms/step\n",
      "Epoch 291/300\n",
      "19/19 - 0s - loss: 0.4730 - accuracy: 0.7800 - val_loss: 0.4943 - val_accuracy: 0.7900 - 54ms/epoch - 3ms/step\n",
      "Epoch 292/300\n",
      "19/19 - 0s - loss: 0.4663 - accuracy: 0.7733 - val_loss: 0.5041 - val_accuracy: 0.7500 - 50ms/epoch - 3ms/step\n",
      "Epoch 293/300\n",
      "19/19 - 0s - loss: 0.4697 - accuracy: 0.7717 - val_loss: 0.4884 - val_accuracy: 0.7700 - 50ms/epoch - 3ms/step\n",
      "Epoch 294/300\n",
      "19/19 - 0s - loss: 0.4673 - accuracy: 0.7683 - val_loss: 0.4861 - val_accuracy: 0.7700 - 51ms/epoch - 3ms/step\n",
      "Epoch 295/300\n",
      "19/19 - 0s - loss: 0.4768 - accuracy: 0.7567 - val_loss: 0.4882 - val_accuracy: 0.7800 - 50ms/epoch - 3ms/step\n",
      "Epoch 296/300\n",
      "19/19 - 0s - loss: 0.4671 - accuracy: 0.7650 - val_loss: 0.4846 - val_accuracy: 0.7800 - 53ms/epoch - 3ms/step\n",
      "Epoch 297/300\n",
      "19/19 - 0s - loss: 0.4665 - accuracy: 0.7700 - val_loss: 0.4963 - val_accuracy: 0.7600 - 51ms/epoch - 3ms/step\n",
      "Epoch 298/300\n",
      "19/19 - 0s - loss: 0.4657 - accuracy: 0.7700 - val_loss: 0.4831 - val_accuracy: 0.7600 - 50ms/epoch - 3ms/step\n",
      "Epoch 299/300\n",
      "19/19 - 0s - loss: 0.4661 - accuracy: 0.7600 - val_loss: 0.5040 - val_accuracy: 0.7600 - 50ms/epoch - 3ms/step\n",
      "Epoch 300/300\n",
      "19/19 - 0s - loss: 0.4624 - accuracy: 0.7650 - val_loss: 0.4788 - val_accuracy: 0.8000 - 51ms/epoch - 3ms/step\n"
     ]
    }
   ],
   "source": [
    "hist = model.fit(X_train, Y_train,\n",
    "                epochs = 300,                \n",
    "                verbose=2,\n",
    "                validation_data=[X_val,Y_val])"
   ]
  },
  {
   "cell_type": "markdown",
   "id": "35c1e4d7",
   "metadata": {},
   "source": [
    "## 5. 학습평가 : 그래프(hist.history.keys()를 확인후 4가지)\n",
    "            평가(X_test,Y_test)\n",
    "             교차표(pd.crosstab 이용)"
   ]
  },
  {
   "cell_type": "code",
   "execution_count": 27,
   "id": "7ab77fb4",
   "metadata": {
    "ExecuteTime": {
     "end_time": "2024-12-18T00:48:41.562671Z",
     "start_time": "2024-12-18T00:48:41.553866Z"
    }
   },
   "outputs": [
    {
     "data": {
      "text/plain": [
       "dict_keys(['loss', 'accuracy', 'val_loss', 'val_accuracy'])"
      ]
     },
     "execution_count": 27,
     "metadata": {},
     "output_type": "execute_result"
    }
   ],
   "source": [
    "hist.history.keys()"
   ]
  },
  {
   "cell_type": "code",
   "execution_count": 28,
   "id": "b2d037d0",
   "metadata": {
    "ExecuteTime": {
     "end_time": "2024-12-18T00:48:42.034358Z",
     "start_time": "2024-12-18T00:48:41.565735Z"
    }
   },
   "outputs": [
    {
     "data": {
      "image/png": "[encoded data removed]",
      "text/plain": [
       "<Figure size 1000x400 with 2 Axes>"
      ]
     },
     "metadata": {},
     "output_type": "display_data"
    }
   ],
   "source": [
    "# 학습과정 중의 loss와 accuracy\n",
    "import matplotlib.pyplot as plt\n",
    "fig, loss_ax = plt.subplots(figsize=(10,4))\n",
    "loss_ax.plot(hist.history['loss'],'y*',label='train loss')\n",
    "loss_ax.plot(hist.history['val_loss'],'r--',label='validation loss')\n",
    "acc_ax = loss_ax.twinx() # loss_ax와 x축을 공유하는 acc_ax 생성\n",
    "acc_ax.plot(hist.history['accuracy'],'g',label='train accuracy')\n",
    "acc_ax.plot(hist.history['val_accuracy'],'b',label='val accuracy')\n",
    "loss_ax.set_xlabel('epoch')\n",
    "loss_ax.set_ylabel('loss')\n",
    "acc_ax.set_ylabel('accuracy')\n",
    "loss_ax.legend(loc='center')\n",
    "acc_ax.legend(loc='center right')\n",
    "plt.show()"
   ]
  },
  {
   "cell_type": "code",
   "execution_count": 30,
   "id": "d92a263a",
   "metadata": {
    "ExecuteTime": {
     "end_time": "2024-12-18T00:51:03.838246Z",
     "start_time": "2024-12-18T00:51:03.751336Z"
    }
   },
   "outputs": [
    {
     "name": "stdout",
     "output_type": "stream",
     "text": [
      "3/3 [==============================] - 0s 2ms/step - loss: 0.5868 - accuracy: 0.7647\n",
      "Test Dataset loss: 0.5867871046066284,accuracy(정확도) : 0.7647058963775635\n"
     ]
    }
   ],
   "source": [
    "# 모델 평가하기 (test dataset으로)\n",
    "score = model.evaluate(X_test,Y_test)\n",
    "print('Test Dataset loss: {},accuracy(정확도) : {}'.format(score[0],score[1]))"
   ]
  },
  {
   "cell_type": "code",
   "execution_count": 32,
   "id": "2ba0704a",
   "metadata": {
    "ExecuteTime": {
     "end_time": "2024-12-18T00:54:38.469508Z",
     "start_time": "2024-12-18T00:54:38.462517Z"
    }
   },
   "outputs": [
    {
     "data": {
      "text/plain": [
       "[0.5867871046066284, 0.7647058963775635]"
      ]
     },
     "execution_count": 32,
     "metadata": {},
     "output_type": "execute_result"
    }
   ],
   "source": [
    "score # loss와 compile에서 metrics=['accuracy']지정으로 accuracy가 저장"
   ]
  },
  {
   "cell_type": "code",
   "execution_count": 37,
   "id": "cdb57747",
   "metadata": {
    "ExecuteTime": {
     "end_time": "2024-12-18T01:06:26.161312Z",
     "start_time": "2024-12-18T01:06:26.154033Z"
    }
   },
   "outputs": [
    {
     "data": {
      "text/plain": [
       "True"
      ]
     },
     "execution_count": 37,
     "metadata": {},
     "output_type": "execute_result"
    }
   ],
   "source": [
    "# 교차표(원핫 인코딩을 이용한 분류분석)\n",
    "# pd.crosstab(실제값을 1차원,예측값을1차원) Y_\n",
    "all(Y_test.argmax(axis=1) == y_test) # crosstab에 들어갈 실제값"
   ]
  },
  {
   "cell_type": "code",
   "execution_count": 41,
   "id": "ceb99d8f",
   "metadata": {
    "ExecuteTime": {
     "end_time": "2024-12-18T01:08:01.259725Z",
     "start_time": "2024-12-18T01:08:01.184334Z"
    }
   },
   "outputs": [
    {
     "name": "stdout",
     "output_type": "stream",
     "text": [
      "3/3 [==============================] - 0s 3ms/step\n"
     ]
    },
    {
     "data": {
      "text/plain": [
       "array([0, 0, 1, 0, 0, 0, 0, 0, 1, 0, 0, 0, 1, 0, 0, 1, 1, 0, 0, 0, 0, 0,\n",
       "       0, 0, 0, 0, 0, 0, 0, 0, 0, 0, 1, 0, 0, 0, 0, 0, 0, 0, 1, 0, 0, 1,\n",
       "       1, 0, 0, 0, 1, 0, 1, 0, 0, 0, 1, 0, 0, 0, 0, 1, 0, 1, 0, 1, 0, 0,\n",
       "       0, 0], dtype=int64)"
      ]
     },
     "execution_count": 41,
     "metadata": {},
     "output_type": "execute_result"
    }
   ],
   "source": [
    "# 예측값\n",
    "Y_hat = model.predict(X_test)\n",
    "y_hat= Y_hat.argmax(axis=1)\n",
    "y_hat"
   ]
  },
  {
   "cell_type": "code",
   "execution_count": 43,
   "id": "5913d411",
   "metadata": {
    "ExecuteTime": {
     "end_time": "2024-12-18T01:11:22.556125Z",
     "start_time": "2024-12-18T01:11:22.536995Z"
    }
   },
   "outputs": [
    {
     "data": {
      "text/html": [
       "<div>\n",
       "<style scoped>\n",
       "    .dataframe tbody tr th:only-of-type {\n",
       "        vertical-align: middle;\n",
       "    }\n",
       "\n",
       "    .dataframe tbody tr th {\n",
       "        vertical-align: top;\n",
       "    }\n",
       "\n",
       "    .dataframe thead th {\n",
       "        text-align: right;\n",
       "    }\n",
       "</style>\n",
       "<table border=\"1\" class=\"dataframe\">\n",
       "  <thead>\n",
       "    <tr style=\"text-align: right;\">\n",
       "      <th>예측</th>\n",
       "      <th>0</th>\n",
       "      <th>1</th>\n",
       "    </tr>\n",
       "    <tr>\n",
       "      <th>실제</th>\n",
       "      <th></th>\n",
       "      <th></th>\n",
       "    </tr>\n",
       "  </thead>\n",
       "  <tbody>\n",
       "    <tr>\n",
       "      <th>0.0</th>\n",
       "      <td>39</td>\n",
       "      <td>2</td>\n",
       "    </tr>\n",
       "    <tr>\n",
       "      <th>1.0</th>\n",
       "      <td>14</td>\n",
       "      <td>13</td>\n",
       "    </tr>\n",
       "  </tbody>\n",
       "</table>\n",
       "</div>"
      ],
      "text/plain": [
       "예측    0   1\n",
       "실제         \n",
       "0.0  39   2\n",
       "1.0  14  13"
      ]
     },
     "execution_count": 43,
     "metadata": {},
     "output_type": "execute_result"
    }
   ],
   "source": [
    "ctab = pd.crosstab(y_test,y_hat)\n",
    "ctab.index.name = '실제'\n",
    "ctab.columns.name = '예측'\n",
    "ctab"
   ]
  },
  {
   "cell_type": "markdown",
   "id": "b377be44",
   "metadata": {},
   "source": [
    "## 6. 모델 사용하기 - 예측\n",
    "              0       1\n",
    "              0.9912 0.00124"
   ]
  },
  {
   "cell_type": "code",
   "execution_count": 46,
   "id": "37532288",
   "metadata": {
    "ExecuteTime": {
     "end_time": "2024-12-18T01:34:30.991716Z",
     "start_time": "2024-12-18T01:34:30.840695Z"
    }
   },
   "outputs": [
    {
     "name": "stdout",
     "output_type": "stream",
     "text": [
      "1/1 [==============================] - 0s 37ms/step\n",
      "1/1 [==============================] - 0s 34ms/step\n"
     ]
    },
    {
     "data": {
      "text/plain": [
       "array([[0.7160542, 0.2839458]], dtype=float32)"
      ]
     },
     "execution_count": 46,
     "metadata": {},
     "output_type": "execute_result"
    }
   ],
   "source": [
    "pred = model.predict([[2,122,76,27,200,35.9,0.483,26]])\n",
    "pred = model.predict([[2,122,76,27,200,35.9,0.483,26]]) # predict시 2차원데이터로\n",
    "pred"
   ]
  },
  {
   "cell_type": "code",
   "execution_count": null,
   "id": "54cd8cdc",
   "metadata": {},
   "outputs": [],
   "source": []
  }
 ],
 "metadata": {
  "kernelspec": {
   "display_name": "Python 3 (ipykernel)",
   "language": "python",
   "name": "python3"
  },
  "language_info": {
   "codemirror_mode": {
    "name": "ipython",
    "version": 3
   },
   "file_extension": ".py",
   "mimetype": "text/x-python",
   "name": "python",
   "nbconvert_exporter": "python",
   "pygments_lexer": "ipython3",
   "version": "3.10.9"
  },
  "toc": {
   "base_numbering": 1,
   "nav_menu": {},
   "number_sections": true,
   "sideBar": true,
   "skip_h1_title": false,
   "title_cell": "Table of Contents",
   "title_sidebar": "Contents",
   "toc_cell": false,
   "toc_position": {
    "height": "calc(100% - 180px)",
    "left": "10px",
    "top": "150px",
    "width": "227.227px"
   },
   "toc_section_display": true,
   "toc_window_display": true
  }
 },
 "nbformat": 4,
 "nbformat_minor": 5
}
