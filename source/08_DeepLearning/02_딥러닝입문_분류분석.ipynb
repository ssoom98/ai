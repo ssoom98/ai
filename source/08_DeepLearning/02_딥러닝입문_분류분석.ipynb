{
 "cells": [
  {
   "cell_type": "code",
   "execution_count": 1,
   "id": "5ee97a48",
   "metadata": {
    "ExecuteTime": {
     "end_time": "2024-12-12T07:38:18.512682Z",
     "start_time": "2024-12-12T07:38:15.399609Z"
    }
   },
   "outputs": [
    {
     "name": "stdout",
     "output_type": "stream",
     "text": [
      "2.10.0\n"
     ]
    },
    {
     "data": {
      "text/plain": [
       "[PhysicalDevice(name='/physical_device:GPU:0', device_type='GPU')]"
      ]
     },
     "execution_count": 1,
     "metadata": {},
     "output_type": "execute_result"
    }
   ],
   "source": [
    "import tensorflow as tf\n",
    "print(tf.__version__)\n",
    "tf.config.list_physical_devices('GPU')\n",
    "# 학원에서는 쓰지말고 아래거 사용"
   ]
  },
  {
   "cell_type": "code",
   "execution_count": 1,
   "id": "7d3972b9",
   "metadata": {
    "ExecuteTime": {
     "end_time": "2024-12-12T08:46:16.586561Z",
     "start_time": "2024-12-12T08:46:16.582551Z"
    }
   },
   "outputs": [],
   "source": [
    "# 1.우선실행\n",
    "import os\n",
    "os.environ[\"CUDA_VISIBLE_DEVICES\"] = \"-1\""
   ]
  },
  {
   "cell_type": "markdown",
   "id": "d41bcff9",
   "metadata": {},
   "source": [
    "## 머신러닝/딥러닝:데이터의 법칙성을 추출\n",
    "    - 다양한 분야에서 응용 : 글씨인식, 문장분류, 질병진단, 얼굴식별,etc...\n",
    "    \n",
    "    - 지도학습(회귀,분류) vs 비지도학습(군집) vs 강화학습(게임)"
   ]
  },
  {
   "cell_type": "markdown",
   "id": "1445c55c",
   "metadata": {
    "ExecuteTime": {
     "end_time": "2024-12-12T05:30:40.660456Z",
     "start_time": "2024-12-12T05:30:40.654472Z"
    }
   },
   "source": [
    "## 1. 데이터셋 생성\n",
    "## 2. 데이터 전처리"
   ]
  },
  {
   "cell_type": "code",
   "execution_count": 2,
   "id": "1d6768fd",
   "metadata": {
    "ExecuteTime": {
     "end_time": "2024-12-12T07:42:37.988420Z",
     "start_time": "2024-12-12T07:42:34.950433Z"
    }
   },
   "outputs": [],
   "source": [
    "import numpy as np\n",
    "from tensorflow.keras.utils import to_categorical # 분류분석시 원핫인코딩\n",
    "from tensorflow.keras.models import Sequential #모델생성\n",
    "from tensorflow.keras.layers import Dense # 모델에 레이어 추가시 \n",
    "from tensorflow.keras.layers import Input"
   ]
  },
  {
   "cell_type": "code",
   "execution_count": 3,
   "id": "12f3762e",
   "metadata": {
    "ExecuteTime": {
     "end_time": "2024-12-12T07:42:38.001031Z",
     "start_time": "2024-12-12T07:42:37.992044Z"
    }
   },
   "outputs": [],
   "source": [
    "#학습데이터 == 훈련데이터\n",
    "X_train = np.array([1,2,3,4,5,6,7,8,9]*10)\n",
    "Y_train = np.array([2,4,6,8,10,12,14,16,18]*10)\n",
    "# 검증데이터 \n",
    "X_val = np.array([1,2,3,4,5,6,7,8,9])\n",
    "Y_val = np.array([2,4,6,8,10,12,14,16,18])\n"
   ]
  },
  {
   "cell_type": "code",
   "execution_count": 4,
   "id": "b4483723",
   "metadata": {
    "ExecuteTime": {
     "end_time": "2024-12-12T07:42:38.529608Z",
     "start_time": "2024-12-12T07:42:38.005009Z"
    }
   },
   "outputs": [
    {
     "name": "stdout",
     "output_type": "stream",
     "text": [
      "1. 원 데이터 :  ['a' 'b' 'c' 'b' 'b']\n",
      "2. 라벨인코딩된 데이터: [0 1 2 1 1]\n",
      "3. 원 핫 인코딩된 데이터 :\n",
      " [[1. 0. 0.]\n",
      " [0. 1. 0.]\n",
      " [0. 0. 1.]\n",
      " [0. 1. 0.]\n",
      " [0. 1. 0.]]\n"
     ]
    }
   ],
   "source": [
    "# 분류분석을 위한 인코딩 종류\n",
    "data = np.array(['a','b','c','b','b'])\n",
    "print('1. 원 데이터 : ',data)\n",
    "from sklearn.preprocessing import LabelEncoder\n",
    "le = LabelEncoder()\n",
    "labeling_data = le.fit_transform(data)\n",
    "print('2. 라벨인코딩된 데이터:', labeling_data)\n",
    "one_hot_encoding_data = to_categorical(labeling_data)\n",
    "print('3. 원 핫 인코딩된 데이터 :\\n' , one_hot_encoding_data)"
   ]
  },
  {
   "cell_type": "code",
   "execution_count": 61,
   "id": "c10694f7",
   "metadata": {
    "ExecuteTime": {
     "end_time": "2024-12-12T06:44:23.228588Z",
     "start_time": "2024-12-12T06:44:23.213599Z"
    }
   },
   "outputs": [
    {
     "name": "stdout",
     "output_type": "stream",
     "text": [
      "원 데이터:  [1 2 2 5 2]\n",
      "to_categorical을 이용한 원 핫 인코딩\n",
      "(넘파이배열) [[0. 1. 0. 0. 0. 0.]\n",
      " [0. 0. 1. 0. 0. 0.]\n",
      " [0. 0. 1. 0. 0. 0.]\n",
      " [0. 0. 0. 0. 0. 1.]\n",
      " [0. 0. 1. 0. 0. 0.]]\n"
     ]
    },
    {
     "data": {
      "text/plain": [
       "'get_dummies를 이용한 원핫 인코딩(데이터프레임)'"
      ]
     },
     "metadata": {},
     "output_type": "display_data"
    },
    {
     "data": {
      "text/html": [
       "<div>\n",
       "<style scoped>\n",
       "    .dataframe tbody tr th:only-of-type {\n",
       "        vertical-align: middle;\n",
       "    }\n",
       "\n",
       "    .dataframe tbody tr th {\n",
       "        vertical-align: top;\n",
       "    }\n",
       "\n",
       "    .dataframe thead th {\n",
       "        text-align: right;\n",
       "    }\n",
       "</style>\n",
       "<table border=\"1\" class=\"dataframe\">\n",
       "  <thead>\n",
       "    <tr style=\"text-align: right;\">\n",
       "      <th></th>\n",
       "      <th>1</th>\n",
       "      <th>2</th>\n",
       "      <th>5</th>\n",
       "    </tr>\n",
       "  </thead>\n",
       "  <tbody>\n",
       "    <tr>\n",
       "      <th>0</th>\n",
       "      <td>1</td>\n",
       "      <td>0</td>\n",
       "      <td>0</td>\n",
       "    </tr>\n",
       "    <tr>\n",
       "      <th>1</th>\n",
       "      <td>0</td>\n",
       "      <td>1</td>\n",
       "      <td>0</td>\n",
       "    </tr>\n",
       "    <tr>\n",
       "      <th>2</th>\n",
       "      <td>0</td>\n",
       "      <td>1</td>\n",
       "      <td>0</td>\n",
       "    </tr>\n",
       "    <tr>\n",
       "      <th>3</th>\n",
       "      <td>0</td>\n",
       "      <td>0</td>\n",
       "      <td>1</td>\n",
       "    </tr>\n",
       "    <tr>\n",
       "      <th>4</th>\n",
       "      <td>0</td>\n",
       "      <td>1</td>\n",
       "      <td>0</td>\n",
       "    </tr>\n",
       "  </tbody>\n",
       "</table>\n",
       "</div>"
      ],
      "text/plain": [
       "   1  2  5\n",
       "0  1  0  0\n",
       "1  0  1  0\n",
       "2  0  1  0\n",
       "3  0  0  1\n",
       "4  0  1  0"
      ]
     },
     "metadata": {},
     "output_type": "display_data"
    }
   ],
   "source": [
    "# 분류분석을 위한 원핫인코딩 방법\n",
    "data = np.array([1,2,2,5,2])\n",
    "print('원 데이터: ', data)\n",
    "categorical_one_hot= to_categorical(data)\n",
    "print('to_categorical을 이용한 원 핫 인코딩\\n(넘파이배열)', categorical_one_hot)\n",
    "import pandas as pd\n",
    "display('get_dummies를 이용한 원핫 인코딩(데이터프레임)',pd.get_dummies(data))\n"
   ]
  },
  {
   "cell_type": "code",
   "execution_count": 62,
   "id": "02930eb0",
   "metadata": {
    "ExecuteTime": {
     "end_time": "2024-12-12T06:44:24.908895Z",
     "start_time": "2024-12-12T06:44:24.901905Z"
    }
   },
   "outputs": [
    {
     "data": {
      "text/plain": [
       "(array([2, 4]), array([2, 4]))"
      ]
     },
     "execution_count": 62,
     "metadata": {},
     "output_type": "execute_result"
    }
   ],
   "source": [
    "Y_train[:2], Y_val[:2]"
   ]
  },
  {
   "cell_type": "code",
   "execution_count": 5,
   "id": "d0df1aba",
   "metadata": {
    "ExecuteTime": {
     "end_time": "2024-12-12T07:42:39.891501Z",
     "start_time": "2024-12-12T07:42:39.886488Z"
    }
   },
   "outputs": [],
   "source": [
    "# 분류분석을 위해 종속변수(target변수)를 원핫 인코딩\n",
    "Y_train = to_categorical(Y_train,19)\n",
    "Y_val= to_categorical(Y_val)"
   ]
  },
  {
   "cell_type": "code",
   "execution_count": 5,
   "id": "5bdcfc83",
   "metadata": {
    "ExecuteTime": {
     "end_time": "2024-12-12T07:38:32.830410Z",
     "start_time": "2024-12-12T07:38:32.822432Z"
    }
   },
   "outputs": [
    {
     "data": {
      "text/plain": [
       "array([[0., 0., 1., 0., 0., 0., 0., 0., 0., 0., 0., 0., 0., 0., 0., 0.,\n",
       "        0., 0., 0.],\n",
       "       [0., 0., 0., 0., 1., 0., 0., 0., 0., 0., 0., 0., 0., 0., 0., 0.,\n",
       "        0., 0., 0.]], dtype=float32)"
      ]
     },
     "execution_count": 5,
     "metadata": {},
     "output_type": "execute_result"
    }
   ],
   "source": [
    "Y_train[:2]\n"
   ]
  },
  {
   "cell_type": "code",
   "execution_count": 6,
   "id": "6d8abcb3",
   "metadata": {
    "ExecuteTime": {
     "end_time": "2024-12-12T07:42:42.152563Z",
     "start_time": "2024-12-12T07:42:42.142607Z"
    }
   },
   "outputs": [
    {
     "data": {
      "text/plain": [
       "((90,), (90, 19), (9,), (9, 19))"
      ]
     },
     "execution_count": 6,
     "metadata": {},
     "output_type": "execute_result"
    }
   ],
   "source": [
    "X_train.shape,Y_train.shape,X_val.shape,Y_val.shape"
   ]
  },
  {
   "cell_type": "markdown",
   "id": "2665b004",
   "metadata": {},
   "source": [
    "## 3. 모델 구성"
   ]
  },
  {
   "cell_type": "code",
   "execution_count": 7,
   "id": "1f0e10c0",
   "metadata": {
    "ExecuteTime": {
     "end_time": "2024-12-12T07:42:43.531733Z",
     "start_time": "2024-12-12T07:42:43.358699Z"
    }
   },
   "outputs": [
    {
     "name": "stdout",
     "output_type": "stream",
     "text": [
      "Model: \"sequential\"\n",
      "_________________________________________________________________\n",
      " Layer (type)                Output Shape              Param #   \n",
      "=================================================================\n",
      " dense (Dense)               (None, 38)                76        \n",
      "                                                                 \n",
      " dense_1 (Dense)             (None, 64)                2496      \n",
      "                                                                 \n",
      " dense_2 (Dense)             (None, 32)                2080      \n",
      "                                                                 \n",
      " dense_3 (Dense)             (None, 19)                627       \n",
      "                                                                 \n",
      "=================================================================\n",
      "Total params: 5,279\n",
      "Trainable params: 5,279\n",
      "Non-trainable params: 0\n",
      "_________________________________________________________________\n",
      "None\n"
     ]
    }
   ],
   "source": [
    "model = Sequential()\n",
    "model.add(Input(shape=(1,)))\n",
    "model.add(Dense(units=38,activation='sigmoid')) # units= 출력갯수, activation (활성화 함수)\n",
    "model.add(Dense(units=64,activation='elu'))\n",
    "model.add(Dense(units=32,activation='elu'))\n",
    "model.add(Dense(units=19,activation='softmax'))\n",
    "# activation ='softmax' :모든 출력의 합이 1.분류분석의 마지막 layer에서 activation 함수로 사용\n",
    "print(model.summary())"
   ]
  },
  {
   "cell_type": "markdown",
   "id": "68cc2035",
   "metadata": {
    "ExecuteTime": {
     "end_time": "2024-12-12T06:59:36.473633Z",
     "start_time": "2024-12-12T06:59:36.454655Z"
    }
   },
   "source": [
    "## 4. 모델 학습과정 설정\n",
    "- 손실함수, 옵티마이저, 평가지표\n",
    "    * loss= 'categorical_crossentropy' :딥러닝 훈련시 다중분류분석에서의 손실함수\n",
    "            - 모델의 예측 확률 분포와 실제값의 확률 분포가 얼마나 다른지 계산\n",
    "    * metrics = ['accuracy']"
   ]
  },
  {
   "cell_type": "code",
   "execution_count": 8,
   "id": "28e87ac3",
   "metadata": {
    "ExecuteTime": {
     "end_time": "2024-12-12T07:42:45.374641Z",
     "start_time": "2024-12-12T07:42:45.358506Z"
    }
   },
   "outputs": [],
   "source": [
    "model.compile(loss='categorical_crossentropy', optimizer='adam', metrics=['accuracy'])"
   ]
  },
  {
   "cell_type": "markdown",
   "id": "66ede83d",
   "metadata": {
    "ExecuteTime": {
     "end_time": "2024-12-12T07:22:00.971517Z",
     "start_time": "2024-12-12T07:22:00.967518Z"
    }
   },
   "source": [
    "## 5. 모델 학습시키기"
   ]
  },
  {
   "cell_type": "code",
   "execution_count": 9,
   "id": "c8d2fe9d",
   "metadata": {
    "ExecuteTime": {
     "end_time": "2024-12-12T07:43:00.080411Z",
     "start_time": "2024-12-12T07:42:47.469784Z"
    }
   },
   "outputs": [
    {
     "name": "stdout",
     "output_type": "stream",
     "text": [
      "Epoch 1/300\n",
      "9/9 - 1s - loss: 2.8610 - accuracy: 0.1222 - val_loss: 2.6949 - val_accuracy: 0.1111 - 757ms/epoch - 84ms/step\n",
      "Epoch 2/300\n",
      "9/9 - 0s - loss: 2.6153 - accuracy: 0.0667 - val_loss: 2.4960 - val_accuracy: 0.1111 - 38ms/epoch - 4ms/step\n",
      "Epoch 3/300\n",
      "9/9 - 0s - loss: 2.4499 - accuracy: 0.1333 - val_loss: 2.3578 - val_accuracy: 0.3333 - 40ms/epoch - 4ms/step\n",
      "Epoch 4/300\n",
      "9/9 - 0s - loss: 2.3156 - accuracy: 0.2778 - val_loss: 2.2501 - val_accuracy: 0.2222 - 37ms/epoch - 4ms/step\n",
      "Epoch 5/300\n",
      "9/9 - 0s - loss: 2.2221 - accuracy: 0.1222 - val_loss: 2.1679 - val_accuracy: 0.1111 - 42ms/epoch - 5ms/step\n",
      "Epoch 6/300\n",
      "9/9 - 0s - loss: 2.1537 - accuracy: 0.1667 - val_loss: 2.0975 - val_accuracy: 0.3333 - 43ms/epoch - 5ms/step\n",
      "Epoch 7/300\n",
      "9/9 - 0s - loss: 2.0831 - accuracy: 0.2556 - val_loss: 2.0363 - val_accuracy: 0.4444 - 38ms/epoch - 4ms/step\n",
      "Epoch 8/300\n",
      "9/9 - 0s - loss: 2.0255 - accuracy: 0.3111 - val_loss: 1.9780 - val_accuracy: 0.4444 - 38ms/epoch - 4ms/step\n",
      "Epoch 9/300\n",
      "9/9 - 0s - loss: 1.9643 - accuracy: 0.3444 - val_loss: 1.9237 - val_accuracy: 0.3333 - 39ms/epoch - 4ms/step\n",
      "Epoch 10/300\n",
      "9/9 - 0s - loss: 1.9008 - accuracy: 0.3222 - val_loss: 1.8625 - val_accuracy: 0.2222 - 38ms/epoch - 4ms/step\n",
      "Epoch 11/300\n",
      "9/9 - 0s - loss: 1.8565 - accuracy: 0.1889 - val_loss: 1.8068 - val_accuracy: 0.3333 - 51ms/epoch - 6ms/step\n",
      "Epoch 12/300\n",
      "9/9 - 0s - loss: 1.7813 - accuracy: 0.3556 - val_loss: 1.7447 - val_accuracy: 0.3333 - 36ms/epoch - 4ms/step\n",
      "Epoch 13/300\n",
      "9/9 - 0s - loss: 1.7374 - accuracy: 0.2000 - val_loss: 1.6899 - val_accuracy: 0.4444 - 39ms/epoch - 4ms/step\n",
      "Epoch 14/300\n",
      "9/9 - 0s - loss: 1.6820 - accuracy: 0.3444 - val_loss: 1.6366 - val_accuracy: 0.3333 - 35ms/epoch - 4ms/step\n",
      "Epoch 15/300\n",
      "9/9 - 0s - loss: 1.6280 - accuracy: 0.4111 - val_loss: 1.5859 - val_accuracy: 0.5556 - 41ms/epoch - 5ms/step\n",
      "Epoch 16/300\n",
      "9/9 - 0s - loss: 1.5949 - accuracy: 0.5444 - val_loss: 1.5451 - val_accuracy: 0.6667 - 38ms/epoch - 4ms/step\n",
      "Epoch 17/300\n",
      "9/9 - 0s - loss: 1.5318 - accuracy: 0.5778 - val_loss: 1.4948 - val_accuracy: 0.4444 - 38ms/epoch - 4ms/step\n",
      "Epoch 18/300\n",
      "9/9 - 0s - loss: 1.4924 - accuracy: 0.4000 - val_loss: 1.4545 - val_accuracy: 0.5556 - 39ms/epoch - 4ms/step\n",
      "Epoch 19/300\n",
      "9/9 - 0s - loss: 1.4512 - accuracy: 0.4889 - val_loss: 1.4152 - val_accuracy: 0.6667 - 38ms/epoch - 4ms/step\n",
      "Epoch 20/300\n",
      "9/9 - 0s - loss: 1.4094 - accuracy: 0.6222 - val_loss: 1.3772 - val_accuracy: 0.6667 - 38ms/epoch - 4ms/step\n",
      "Epoch 21/300\n",
      "9/9 - 0s - loss: 1.3864 - accuracy: 0.6111 - val_loss: 1.3466 - val_accuracy: 0.6667 - 39ms/epoch - 4ms/step\n",
      "Epoch 22/300\n",
      "9/9 - 0s - loss: 1.3400 - accuracy: 0.7000 - val_loss: 1.3127 - val_accuracy: 0.6667 - 38ms/epoch - 4ms/step\n",
      "Epoch 23/300\n",
      "9/9 - 0s - loss: 1.3158 - accuracy: 0.6778 - val_loss: 1.2800 - val_accuracy: 0.7778 - 38ms/epoch - 4ms/step\n",
      "Epoch 24/300\n",
      "9/9 - 0s - loss: 1.2792 - accuracy: 0.6778 - val_loss: 1.2483 - val_accuracy: 0.8889 - 38ms/epoch - 4ms/step\n",
      "Epoch 25/300\n",
      "9/9 - 0s - loss: 1.2475 - accuracy: 0.7778 - val_loss: 1.2191 - val_accuracy: 0.7778 - 41ms/epoch - 5ms/step\n",
      "Epoch 26/300\n",
      "9/9 - 0s - loss: 1.2154 - accuracy: 0.7778 - val_loss: 1.1915 - val_accuracy: 0.6667 - 37ms/epoch - 4ms/step\n",
      "Epoch 27/300\n",
      "9/9 - 0s - loss: 1.1878 - accuracy: 0.7000 - val_loss: 1.1656 - val_accuracy: 0.7778 - 39ms/epoch - 4ms/step\n",
      "Epoch 28/300\n",
      "9/9 - 0s - loss: 1.1648 - accuracy: 0.6667 - val_loss: 1.1410 - val_accuracy: 0.6667 - 39ms/epoch - 4ms/step\n",
      "Epoch 29/300\n",
      "9/9 - 0s - loss: 1.1402 - accuracy: 0.7778 - val_loss: 1.1165 - val_accuracy: 0.8889 - 37ms/epoch - 4ms/step\n",
      "Epoch 30/300\n",
      "9/9 - 0s - loss: 1.1275 - accuracy: 0.7444 - val_loss: 1.0932 - val_accuracy: 0.7778 - 40ms/epoch - 4ms/step\n",
      "Epoch 31/300\n",
      "9/9 - 0s - loss: 1.1084 - accuracy: 0.7667 - val_loss: 1.0734 - val_accuracy: 0.7778 - 38ms/epoch - 4ms/step\n",
      "Epoch 32/300\n",
      "9/9 - 0s - loss: 1.0776 - accuracy: 0.8222 - val_loss: 1.0509 - val_accuracy: 0.7778 - 37ms/epoch - 4ms/step\n",
      "Epoch 33/300\n",
      "9/9 - 0s - loss: 1.0482 - accuracy: 0.7889 - val_loss: 1.0252 - val_accuracy: 0.8889 - 39ms/epoch - 4ms/step\n",
      "Epoch 34/300\n",
      "9/9 - 0s - loss: 1.0310 - accuracy: 0.7556 - val_loss: 1.0071 - val_accuracy: 0.8889 - 37ms/epoch - 4ms/step\n",
      "Epoch 35/300\n",
      "9/9 - 0s - loss: 1.0103 - accuracy: 0.8778 - val_loss: 0.9837 - val_accuracy: 0.8889 - 39ms/epoch - 4ms/step\n",
      "Epoch 36/300\n",
      "9/9 - 0s - loss: 0.9874 - accuracy: 0.8889 - val_loss: 0.9623 - val_accuracy: 0.8889 - 38ms/epoch - 4ms/step\n",
      "Epoch 37/300\n",
      "9/9 - 0s - loss: 0.9714 - accuracy: 0.8889 - val_loss: 0.9432 - val_accuracy: 0.8889 - 38ms/epoch - 4ms/step\n",
      "Epoch 38/300\n",
      "9/9 - 0s - loss: 0.9518 - accuracy: 0.8444 - val_loss: 0.9245 - val_accuracy: 0.8889 - 37ms/epoch - 4ms/step\n",
      "Epoch 39/300\n",
      "9/9 - 0s - loss: 0.9478 - accuracy: 0.8667 - val_loss: 0.9043 - val_accuracy: 0.8889 - 39ms/epoch - 4ms/step\n",
      "Epoch 40/300\n",
      "9/9 - 0s - loss: 0.9018 - accuracy: 0.8333 - val_loss: 0.8806 - val_accuracy: 1.0000 - 41ms/epoch - 5ms/step\n",
      "Epoch 41/300\n",
      "9/9 - 0s - loss: 0.9031 - accuracy: 0.8222 - val_loss: 0.8639 - val_accuracy: 0.8889 - 38ms/epoch - 4ms/step\n",
      "Epoch 42/300\n",
      "9/9 - 0s - loss: 0.8672 - accuracy: 0.9333 - val_loss: 0.8426 - val_accuracy: 1.0000 - 36ms/epoch - 4ms/step\n",
      "Epoch 43/300\n",
      "9/9 - 0s - loss: 0.8497 - accuracy: 0.9444 - val_loss: 0.8223 - val_accuracy: 1.0000 - 37ms/epoch - 4ms/step\n",
      "Epoch 44/300\n",
      "9/9 - 0s - loss: 0.8249 - accuracy: 0.9000 - val_loss: 0.8051 - val_accuracy: 0.8889 - 35ms/epoch - 4ms/step\n",
      "Epoch 45/300\n",
      "9/9 - 0s - loss: 0.8172 - accuracy: 0.8889 - val_loss: 0.7884 - val_accuracy: 0.8889 - 35ms/epoch - 4ms/step\n",
      "Epoch 46/300\n",
      "9/9 - 0s - loss: 0.7943 - accuracy: 0.8889 - val_loss: 0.7707 - val_accuracy: 0.8889 - 36ms/epoch - 4ms/step\n",
      "Epoch 47/300\n",
      "9/9 - 0s - loss: 0.7736 - accuracy: 0.8889 - val_loss: 0.7502 - val_accuracy: 0.8889 - 37ms/epoch - 4ms/step\n",
      "Epoch 48/300\n",
      "9/9 - 0s - loss: 0.7580 - accuracy: 0.8889 - val_loss: 0.7342 - val_accuracy: 1.0000 - 38ms/epoch - 4ms/step\n",
      "Epoch 49/300\n",
      "9/9 - 0s - loss: 0.7362 - accuracy: 0.9556 - val_loss: 0.7147 - val_accuracy: 0.8889 - 35ms/epoch - 4ms/step\n",
      "Epoch 50/300\n",
      "9/9 - 0s - loss: 0.7196 - accuracy: 0.8889 - val_loss: 0.7003 - val_accuracy: 0.8889 - 39ms/epoch - 4ms/step\n",
      "Epoch 51/300\n",
      "9/9 - 0s - loss: 0.7106 - accuracy: 0.8889 - val_loss: 0.6814 - val_accuracy: 1.0000 - 35ms/epoch - 4ms/step\n",
      "Epoch 52/300\n",
      "9/9 - 0s - loss: 0.6844 - accuracy: 1.0000 - val_loss: 0.6653 - val_accuracy: 1.0000 - 39ms/epoch - 4ms/step\n",
      "Epoch 53/300\n",
      "9/9 - 0s - loss: 0.6664 - accuracy: 0.9222 - val_loss: 0.6477 - val_accuracy: 1.0000 - 36ms/epoch - 4ms/step\n",
      "Epoch 54/300\n",
      "9/9 - 0s - loss: 0.6548 - accuracy: 0.9111 - val_loss: 0.6365 - val_accuracy: 0.8889 - 38ms/epoch - 4ms/step\n",
      "Epoch 55/300\n",
      "9/9 - 0s - loss: 0.6356 - accuracy: 0.8889 - val_loss: 0.6158 - val_accuracy: 0.8889 - 35ms/epoch - 4ms/step\n",
      "Epoch 56/300\n",
      "9/9 - 0s - loss: 0.6347 - accuracy: 0.8889 - val_loss: 0.6030 - val_accuracy: 1.0000 - 36ms/epoch - 4ms/step\n",
      "Epoch 57/300\n",
      "9/9 - 0s - loss: 0.6141 - accuracy: 0.9222 - val_loss: 0.5910 - val_accuracy: 0.8889 - 36ms/epoch - 4ms/step\n",
      "Epoch 58/300\n",
      "9/9 - 0s - loss: 0.5878 - accuracy: 0.9444 - val_loss: 0.5680 - val_accuracy: 1.0000 - 38ms/epoch - 4ms/step\n",
      "Epoch 59/300\n",
      "9/9 - 0s - loss: 0.5786 - accuracy: 0.9667 - val_loss: 0.5548 - val_accuracy: 1.0000 - 37ms/epoch - 4ms/step\n",
      "Epoch 60/300\n",
      "9/9 - 0s - loss: 0.5519 - accuracy: 0.9778 - val_loss: 0.5371 - val_accuracy: 0.8889 - 38ms/epoch - 4ms/step\n",
      "Epoch 61/300\n",
      "9/9 - 0s - loss: 0.5466 - accuracy: 0.8889 - val_loss: 0.5246 - val_accuracy: 1.0000 - 36ms/epoch - 4ms/step\n",
      "Epoch 62/300\n",
      "9/9 - 0s - loss: 0.5352 - accuracy: 1.0000 - val_loss: 0.5103 - val_accuracy: 1.0000 - 37ms/epoch - 4ms/step\n",
      "Epoch 63/300\n",
      "9/9 - 0s - loss: 0.5106 - accuracy: 0.9111 - val_loss: 0.4942 - val_accuracy: 1.0000 - 39ms/epoch - 4ms/step\n",
      "Epoch 64/300\n",
      "9/9 - 0s - loss: 0.5003 - accuracy: 1.0000 - val_loss: 0.4800 - val_accuracy: 1.0000 - 38ms/epoch - 4ms/step\n",
      "Epoch 65/300\n",
      "9/9 - 0s - loss: 0.4831 - accuracy: 1.0000 - val_loss: 0.4695 - val_accuracy: 1.0000 - 36ms/epoch - 4ms/step\n",
      "Epoch 66/300\n",
      "9/9 - 0s - loss: 0.4670 - accuracy: 1.0000 - val_loss: 0.4537 - val_accuracy: 1.0000 - 38ms/epoch - 4ms/step\n",
      "Epoch 67/300\n",
      "9/9 - 0s - loss: 0.4652 - accuracy: 0.9333 - val_loss: 0.4430 - val_accuracy: 1.0000 - 37ms/epoch - 4ms/step\n",
      "Epoch 68/300\n",
      "9/9 - 0s - loss: 0.4549 - accuracy: 0.9333 - val_loss: 0.4303 - val_accuracy: 0.8889 - 39ms/epoch - 4ms/step\n"
     ]
    },
    {
     "name": "stdout",
     "output_type": "stream",
     "text": [
      "Epoch 69/300\n",
      "9/9 - 0s - loss: 0.4240 - accuracy: 1.0000 - val_loss: 0.4144 - val_accuracy: 1.0000 - 36ms/epoch - 4ms/step\n",
      "Epoch 70/300\n",
      "9/9 - 0s - loss: 0.4285 - accuracy: 1.0000 - val_loss: 0.4031 - val_accuracy: 1.0000 - 37ms/epoch - 4ms/step\n",
      "Epoch 71/300\n",
      "9/9 - 0s - loss: 0.4019 - accuracy: 0.9778 - val_loss: 0.3931 - val_accuracy: 0.8889 - 36ms/epoch - 4ms/step\n",
      "Epoch 72/300\n",
      "9/9 - 0s - loss: 0.4009 - accuracy: 0.9667 - val_loss: 0.3788 - val_accuracy: 1.0000 - 37ms/epoch - 4ms/step\n",
      "Epoch 73/300\n",
      "9/9 - 0s - loss: 0.3911 - accuracy: 1.0000 - val_loss: 0.3677 - val_accuracy: 1.0000 - 38ms/epoch - 4ms/step\n",
      "Epoch 74/300\n",
      "9/9 - 0s - loss: 0.3907 - accuracy: 0.9222 - val_loss: 0.3718 - val_accuracy: 0.8889 - 38ms/epoch - 4ms/step\n",
      "Epoch 75/300\n",
      "9/9 - 0s - loss: 0.3733 - accuracy: 0.9667 - val_loss: 0.3540 - val_accuracy: 1.0000 - 36ms/epoch - 4ms/step\n",
      "Epoch 76/300\n",
      "9/9 - 0s - loss: 0.3535 - accuracy: 1.0000 - val_loss: 0.3339 - val_accuracy: 1.0000 - 36ms/epoch - 4ms/step\n",
      "Epoch 77/300\n",
      "9/9 - 0s - loss: 0.3396 - accuracy: 1.0000 - val_loss: 0.3236 - val_accuracy: 1.0000 - 37ms/epoch - 4ms/step\n",
      "Epoch 78/300\n",
      "9/9 - 0s - loss: 0.3255 - accuracy: 1.0000 - val_loss: 0.3144 - val_accuracy: 1.0000 - 37ms/epoch - 4ms/step\n",
      "Epoch 79/300\n",
      "9/9 - 0s - loss: 0.3133 - accuracy: 1.0000 - val_loss: 0.3046 - val_accuracy: 1.0000 - 37ms/epoch - 4ms/step\n",
      "Epoch 80/300\n",
      "9/9 - 0s - loss: 0.3051 - accuracy: 1.0000 - val_loss: 0.2950 - val_accuracy: 1.0000 - 36ms/epoch - 4ms/step\n",
      "Epoch 81/300\n",
      "9/9 - 0s - loss: 0.3047 - accuracy: 1.0000 - val_loss: 0.2861 - val_accuracy: 1.0000 - 36ms/epoch - 4ms/step\n",
      "Epoch 82/300\n",
      "9/9 - 0s - loss: 0.2943 - accuracy: 1.0000 - val_loss: 0.2779 - val_accuracy: 1.0000 - 35ms/epoch - 4ms/step\n",
      "Epoch 83/300\n",
      "9/9 - 0s - loss: 0.2760 - accuracy: 1.0000 - val_loss: 0.2689 - val_accuracy: 1.0000 - 34ms/epoch - 4ms/step\n",
      "Epoch 84/300\n",
      "9/9 - 0s - loss: 0.2714 - accuracy: 1.0000 - val_loss: 0.2595 - val_accuracy: 1.0000 - 35ms/epoch - 4ms/step\n",
      "Epoch 85/300\n",
      "9/9 - 0s - loss: 0.2650 - accuracy: 1.0000 - val_loss: 0.2527 - val_accuracy: 1.0000 - 37ms/epoch - 4ms/step\n",
      "Epoch 86/300\n",
      "9/9 - 0s - loss: 0.2481 - accuracy: 1.0000 - val_loss: 0.2423 - val_accuracy: 1.0000 - 34ms/epoch - 4ms/step\n",
      "Epoch 87/300\n",
      "9/9 - 0s - loss: 0.2469 - accuracy: 1.0000 - val_loss: 0.2357 - val_accuracy: 1.0000 - 35ms/epoch - 4ms/step\n",
      "Epoch 88/300\n",
      "9/9 - 0s - loss: 0.2394 - accuracy: 1.0000 - val_loss: 0.2309 - val_accuracy: 1.0000 - 35ms/epoch - 4ms/step\n",
      "Epoch 89/300\n",
      "9/9 - 0s - loss: 0.2284 - accuracy: 1.0000 - val_loss: 0.2229 - val_accuracy: 1.0000 - 37ms/epoch - 4ms/step\n",
      "Epoch 90/300\n",
      "9/9 - 0s - loss: 0.2324 - accuracy: 1.0000 - val_loss: 0.2142 - val_accuracy: 1.0000 - 37ms/epoch - 4ms/step\n",
      "Epoch 91/300\n",
      "9/9 - 0s - loss: 0.2215 - accuracy: 1.0000 - val_loss: 0.2100 - val_accuracy: 1.0000 - 37ms/epoch - 4ms/step\n",
      "Epoch 92/300\n",
      "9/9 - 0s - loss: 0.2304 - accuracy: 0.9667 - val_loss: 0.2279 - val_accuracy: 1.0000 - 37ms/epoch - 4ms/step\n",
      "Epoch 93/300\n",
      "9/9 - 0s - loss: 0.2091 - accuracy: 1.0000 - val_loss: 0.2081 - val_accuracy: 1.0000 - 37ms/epoch - 4ms/step\n",
      "Epoch 94/300\n",
      "9/9 - 0s - loss: 0.2016 - accuracy: 1.0000 - val_loss: 0.2008 - val_accuracy: 1.0000 - 37ms/epoch - 4ms/step\n",
      "Epoch 95/300\n",
      "9/9 - 0s - loss: 0.1982 - accuracy: 1.0000 - val_loss: 0.1832 - val_accuracy: 1.0000 - 38ms/epoch - 4ms/step\n",
      "Epoch 96/300\n",
      "9/9 - 0s - loss: 0.1848 - accuracy: 1.0000 - val_loss: 0.1743 - val_accuracy: 1.0000 - 37ms/epoch - 4ms/step\n",
      "Epoch 97/300\n",
      "9/9 - 0s - loss: 0.1816 - accuracy: 1.0000 - val_loss: 0.1696 - val_accuracy: 1.0000 - 37ms/epoch - 4ms/step\n",
      "Epoch 98/300\n",
      "9/9 - 0s - loss: 0.1690 - accuracy: 1.0000 - val_loss: 0.1671 - val_accuracy: 1.0000 - 37ms/epoch - 4ms/step\n",
      "Epoch 99/300\n",
      "9/9 - 0s - loss: 0.1674 - accuracy: 1.0000 - val_loss: 0.1608 - val_accuracy: 1.0000 - 38ms/epoch - 4ms/step\n",
      "Epoch 100/300\n",
      "9/9 - 0s - loss: 0.1606 - accuracy: 1.0000 - val_loss: 0.1584 - val_accuracy: 1.0000 - 37ms/epoch - 4ms/step\n",
      "Epoch 101/300\n",
      "9/9 - 0s - loss: 0.1701 - accuracy: 1.0000 - val_loss: 0.1560 - val_accuracy: 1.0000 - 35ms/epoch - 4ms/step\n",
      "Epoch 102/300\n",
      "9/9 - 0s - loss: 0.1536 - accuracy: 1.0000 - val_loss: 0.1551 - val_accuracy: 1.0000 - 36ms/epoch - 4ms/step\n",
      "Epoch 103/300\n",
      "9/9 - 0s - loss: 0.1511 - accuracy: 1.0000 - val_loss: 0.1404 - val_accuracy: 1.0000 - 36ms/epoch - 4ms/step\n",
      "Epoch 104/300\n",
      "9/9 - 0s - loss: 0.1385 - accuracy: 1.0000 - val_loss: 0.1335 - val_accuracy: 1.0000 - 38ms/epoch - 4ms/step\n",
      "Epoch 105/300\n",
      "9/9 - 0s - loss: 0.1381 - accuracy: 1.0000 - val_loss: 0.1296 - val_accuracy: 1.0000 - 38ms/epoch - 4ms/step\n",
      "Epoch 106/300\n",
      "9/9 - 0s - loss: 0.1368 - accuracy: 1.0000 - val_loss: 0.1291 - val_accuracy: 1.0000 - 37ms/epoch - 4ms/step\n",
      "Epoch 107/300\n",
      "9/9 - 0s - loss: 0.1271 - accuracy: 1.0000 - val_loss: 0.1229 - val_accuracy: 1.0000 - 37ms/epoch - 4ms/step\n",
      "Epoch 108/300\n",
      "9/9 - 0s - loss: 0.1211 - accuracy: 1.0000 - val_loss: 0.1182 - val_accuracy: 1.0000 - 36ms/epoch - 4ms/step\n",
      "Epoch 109/300\n",
      "9/9 - 0s - loss: 0.1183 - accuracy: 1.0000 - val_loss: 0.1122 - val_accuracy: 1.0000 - 37ms/epoch - 4ms/step\n",
      "Epoch 110/300\n",
      "9/9 - 0s - loss: 0.1151 - accuracy: 1.0000 - val_loss: 0.1099 - val_accuracy: 1.0000 - 37ms/epoch - 4ms/step\n",
      "Epoch 111/300\n",
      "9/9 - 0s - loss: 0.1085 - accuracy: 1.0000 - val_loss: 0.1061 - val_accuracy: 1.0000 - 36ms/epoch - 4ms/step\n",
      "Epoch 112/300\n",
      "9/9 - 0s - loss: 0.1109 - accuracy: 1.0000 - val_loss: 0.1039 - val_accuracy: 1.0000 - 37ms/epoch - 4ms/step\n",
      "Epoch 113/300\n",
      "9/9 - 0s - loss: 0.1086 - accuracy: 1.0000 - val_loss: 0.1016 - val_accuracy: 1.0000 - 36ms/epoch - 4ms/step\n",
      "Epoch 114/300\n",
      "9/9 - 0s - loss: 0.0986 - accuracy: 1.0000 - val_loss: 0.0998 - val_accuracy: 1.0000 - 36ms/epoch - 4ms/step\n",
      "Epoch 115/300\n",
      "9/9 - 0s - loss: 0.0989 - accuracy: 1.0000 - val_loss: 0.0920 - val_accuracy: 1.0000 - 36ms/epoch - 4ms/step\n",
      "Epoch 116/300\n",
      "9/9 - 0s - loss: 0.0938 - accuracy: 1.0000 - val_loss: 0.0905 - val_accuracy: 1.0000 - 36ms/epoch - 4ms/step\n",
      "Epoch 117/300\n",
      "9/9 - 0s - loss: 0.0897 - accuracy: 1.0000 - val_loss: 0.0884 - val_accuracy: 1.0000 - 37ms/epoch - 4ms/step\n",
      "Epoch 118/300\n",
      "9/9 - 0s - loss: 0.0874 - accuracy: 1.0000 - val_loss: 0.0841 - val_accuracy: 1.0000 - 36ms/epoch - 4ms/step\n",
      "Epoch 119/300\n",
      "9/9 - 0s - loss: 0.0850 - accuracy: 1.0000 - val_loss: 0.0817 - val_accuracy: 1.0000 - 36ms/epoch - 4ms/step\n",
      "Epoch 120/300\n",
      "9/9 - 0s - loss: 0.0816 - accuracy: 1.0000 - val_loss: 0.0777 - val_accuracy: 1.0000 - 36ms/epoch - 4ms/step\n",
      "Epoch 121/300\n",
      "9/9 - 0s - loss: 0.0779 - accuracy: 1.0000 - val_loss: 0.0754 - val_accuracy: 1.0000 - 37ms/epoch - 4ms/step\n",
      "Epoch 122/300\n",
      "9/9 - 0s - loss: 0.0762 - accuracy: 1.0000 - val_loss: 0.0731 - val_accuracy: 1.0000 - 37ms/epoch - 4ms/step\n",
      "Epoch 123/300\n",
      "9/9 - 0s - loss: 0.0754 - accuracy: 1.0000 - val_loss: 0.0712 - val_accuracy: 1.0000 - 38ms/epoch - 4ms/step\n",
      "Epoch 124/300\n",
      "9/9 - 0s - loss: 0.0701 - accuracy: 1.0000 - val_loss: 0.0690 - val_accuracy: 1.0000 - 37ms/epoch - 4ms/step\n",
      "Epoch 125/300\n",
      "9/9 - 0s - loss: 0.0686 - accuracy: 1.0000 - val_loss: 0.0661 - val_accuracy: 1.0000 - 37ms/epoch - 4ms/step\n",
      "Epoch 126/300\n",
      "9/9 - 0s - loss: 0.0677 - accuracy: 1.0000 - val_loss: 0.0649 - val_accuracy: 1.0000 - 37ms/epoch - 4ms/step\n",
      "Epoch 127/300\n",
      "9/9 - 0s - loss: 0.0644 - accuracy: 1.0000 - val_loss: 0.0628 - val_accuracy: 1.0000 - 36ms/epoch - 4ms/step\n",
      "Epoch 128/300\n",
      "9/9 - 0s - loss: 0.0621 - accuracy: 1.0000 - val_loss: 0.0614 - val_accuracy: 1.0000 - 37ms/epoch - 4ms/step\n",
      "Epoch 129/300\n",
      "9/9 - 0s - loss: 0.0614 - accuracy: 1.0000 - val_loss: 0.0601 - val_accuracy: 1.0000 - 36ms/epoch - 4ms/step\n",
      "Epoch 130/300\n",
      "9/9 - 0s - loss: 0.0608 - accuracy: 1.0000 - val_loss: 0.0564 - val_accuracy: 1.0000 - 38ms/epoch - 4ms/step\n",
      "Epoch 131/300\n",
      "9/9 - 0s - loss: 0.0576 - accuracy: 1.0000 - val_loss: 0.0556 - val_accuracy: 1.0000 - 36ms/epoch - 4ms/step\n",
      "Epoch 132/300\n",
      "9/9 - 0s - loss: 0.0560 - accuracy: 1.0000 - val_loss: 0.0532 - val_accuracy: 1.0000 - 39ms/epoch - 4ms/step\n",
      "Epoch 133/300\n",
      "9/9 - 0s - loss: 0.0531 - accuracy: 1.0000 - val_loss: 0.0520 - val_accuracy: 1.0000 - 38ms/epoch - 4ms/step\n",
      "Epoch 134/300\n",
      "9/9 - 0s - loss: 0.0520 - accuracy: 1.0000 - val_loss: 0.0502 - val_accuracy: 1.0000 - 36ms/epoch - 4ms/step\n",
      "Epoch 135/300\n",
      "9/9 - 0s - loss: 0.0499 - accuracy: 1.0000 - val_loss: 0.0486 - val_accuracy: 1.0000 - 37ms/epoch - 4ms/step\n"
     ]
    },
    {
     "name": "stdout",
     "output_type": "stream",
     "text": [
      "Epoch 136/300\n",
      "9/9 - 0s - loss: 0.0487 - accuracy: 1.0000 - val_loss: 0.0473 - val_accuracy: 1.0000 - 37ms/epoch - 4ms/step\n",
      "Epoch 137/300\n",
      "9/9 - 0s - loss: 0.0473 - accuracy: 1.0000 - val_loss: 0.0459 - val_accuracy: 1.0000 - 37ms/epoch - 4ms/step\n",
      "Epoch 138/300\n",
      "9/9 - 0s - loss: 0.0464 - accuracy: 1.0000 - val_loss: 0.0448 - val_accuracy: 1.0000 - 36ms/epoch - 4ms/step\n",
      "Epoch 139/300\n",
      "9/9 - 0s - loss: 0.0456 - accuracy: 1.0000 - val_loss: 0.0439 - val_accuracy: 1.0000 - 36ms/epoch - 4ms/step\n",
      "Epoch 140/300\n",
      "9/9 - 0s - loss: 0.0490 - accuracy: 1.0000 - val_loss: 0.0446 - val_accuracy: 1.0000 - 36ms/epoch - 4ms/step\n",
      "Epoch 141/300\n",
      "9/9 - 0s - loss: 0.0440 - accuracy: 1.0000 - val_loss: 0.0422 - val_accuracy: 1.0000 - 37ms/epoch - 4ms/step\n",
      "Epoch 142/300\n",
      "9/9 - 0s - loss: 0.0424 - accuracy: 1.0000 - val_loss: 0.0398 - val_accuracy: 1.0000 - 38ms/epoch - 4ms/step\n",
      "Epoch 143/300\n",
      "9/9 - 0s - loss: 0.0395 - accuracy: 1.0000 - val_loss: 0.0388 - val_accuracy: 1.0000 - 37ms/epoch - 4ms/step\n",
      "Epoch 144/300\n",
      "9/9 - 0s - loss: 0.0389 - accuracy: 1.0000 - val_loss: 0.0377 - val_accuracy: 1.0000 - 36ms/epoch - 4ms/step\n",
      "Epoch 145/300\n",
      "9/9 - 0s - loss: 0.0385 - accuracy: 1.0000 - val_loss: 0.0369 - val_accuracy: 1.0000 - 37ms/epoch - 4ms/step\n",
      "Epoch 146/300\n",
      "9/9 - 0s - loss: 0.0367 - accuracy: 1.0000 - val_loss: 0.0356 - val_accuracy: 1.0000 - 36ms/epoch - 4ms/step\n",
      "Epoch 147/300\n",
      "9/9 - 0s - loss: 0.0357 - accuracy: 1.0000 - val_loss: 0.0348 - val_accuracy: 1.0000 - 37ms/epoch - 4ms/step\n",
      "Epoch 148/300\n",
      "9/9 - 0s - loss: 0.0351 - accuracy: 1.0000 - val_loss: 0.0338 - val_accuracy: 1.0000 - 35ms/epoch - 4ms/step\n",
      "Epoch 149/300\n",
      "9/9 - 0s - loss: 0.0343 - accuracy: 1.0000 - val_loss: 0.0329 - val_accuracy: 1.0000 - 37ms/epoch - 4ms/step\n",
      "Epoch 150/300\n",
      "9/9 - 0s - loss: 0.0330 - accuracy: 1.0000 - val_loss: 0.0322 - val_accuracy: 1.0000 - 35ms/epoch - 4ms/step\n",
      "Epoch 151/300\n",
      "9/9 - 0s - loss: 0.0331 - accuracy: 1.0000 - val_loss: 0.0317 - val_accuracy: 1.0000 - 35ms/epoch - 4ms/step\n",
      "Epoch 152/300\n",
      "9/9 - 0s - loss: 0.0322 - accuracy: 1.0000 - val_loss: 0.0309 - val_accuracy: 1.0000 - 36ms/epoch - 4ms/step\n",
      "Epoch 153/300\n",
      "9/9 - 0s - loss: 0.0310 - accuracy: 1.0000 - val_loss: 0.0298 - val_accuracy: 1.0000 - 37ms/epoch - 4ms/step\n",
      "Epoch 154/300\n",
      "9/9 - 0s - loss: 0.0307 - accuracy: 1.0000 - val_loss: 0.0294 - val_accuracy: 1.0000 - 38ms/epoch - 4ms/step\n",
      "Epoch 155/300\n",
      "9/9 - 0s - loss: 0.0301 - accuracy: 1.0000 - val_loss: 0.0283 - val_accuracy: 1.0000 - 37ms/epoch - 4ms/step\n",
      "Epoch 156/300\n",
      "9/9 - 0s - loss: 0.0299 - accuracy: 1.0000 - val_loss: 0.0279 - val_accuracy: 1.0000 - 36ms/epoch - 4ms/step\n",
      "Epoch 157/300\n",
      "9/9 - 0s - loss: 0.0278 - accuracy: 1.0000 - val_loss: 0.0270 - val_accuracy: 1.0000 - 35ms/epoch - 4ms/step\n",
      "Epoch 158/300\n",
      "9/9 - 0s - loss: 0.0271 - accuracy: 1.0000 - val_loss: 0.0261 - val_accuracy: 1.0000 - 37ms/epoch - 4ms/step\n",
      "Epoch 159/300\n",
      "9/9 - 0s - loss: 0.0263 - accuracy: 1.0000 - val_loss: 0.0255 - val_accuracy: 1.0000 - 36ms/epoch - 4ms/step\n",
      "Epoch 160/300\n",
      "9/9 - 0s - loss: 0.0257 - accuracy: 1.0000 - val_loss: 0.0249 - val_accuracy: 1.0000 - 37ms/epoch - 4ms/step\n",
      "Epoch 161/300\n",
      "9/9 - 0s - loss: 0.0249 - accuracy: 1.0000 - val_loss: 0.0244 - val_accuracy: 1.0000 - 36ms/epoch - 4ms/step\n",
      "Epoch 162/300\n",
      "9/9 - 0s - loss: 0.0246 - accuracy: 1.0000 - val_loss: 0.0238 - val_accuracy: 1.0000 - 37ms/epoch - 4ms/step\n",
      "Epoch 163/300\n",
      "9/9 - 0s - loss: 0.0239 - accuracy: 1.0000 - val_loss: 0.0234 - val_accuracy: 1.0000 - 36ms/epoch - 4ms/step\n",
      "Epoch 164/300\n",
      "9/9 - 0s - loss: 0.0237 - accuracy: 1.0000 - val_loss: 0.0227 - val_accuracy: 1.0000 - 36ms/epoch - 4ms/step\n",
      "Epoch 165/300\n",
      "9/9 - 0s - loss: 0.0229 - accuracy: 1.0000 - val_loss: 0.0222 - val_accuracy: 1.0000 - 37ms/epoch - 4ms/step\n",
      "Epoch 166/300\n",
      "9/9 - 0s - loss: 0.0223 - accuracy: 1.0000 - val_loss: 0.0217 - val_accuracy: 1.0000 - 37ms/epoch - 4ms/step\n",
      "Epoch 167/300\n",
      "9/9 - 0s - loss: 0.0222 - accuracy: 1.0000 - val_loss: 0.0213 - val_accuracy: 1.0000 - 36ms/epoch - 4ms/step\n",
      "Epoch 168/300\n",
      "9/9 - 0s - loss: 0.0214 - accuracy: 1.0000 - val_loss: 0.0208 - val_accuracy: 1.0000 - 37ms/epoch - 4ms/step\n",
      "Epoch 169/300\n",
      "9/9 - 0s - loss: 0.0209 - accuracy: 1.0000 - val_loss: 0.0203 - val_accuracy: 1.0000 - 36ms/epoch - 4ms/step\n",
      "Epoch 170/300\n",
      "9/9 - 0s - loss: 0.0204 - accuracy: 1.0000 - val_loss: 0.0198 - val_accuracy: 1.0000 - 38ms/epoch - 4ms/step\n",
      "Epoch 171/300\n",
      "9/9 - 0s - loss: 0.0202 - accuracy: 1.0000 - val_loss: 0.0196 - val_accuracy: 1.0000 - 37ms/epoch - 4ms/step\n",
      "Epoch 172/300\n",
      "9/9 - 0s - loss: 0.0196 - accuracy: 1.0000 - val_loss: 0.0190 - val_accuracy: 1.0000 - 37ms/epoch - 4ms/step\n",
      "Epoch 173/300\n",
      "9/9 - 0s - loss: 0.0190 - accuracy: 1.0000 - val_loss: 0.0186 - val_accuracy: 1.0000 - 36ms/epoch - 4ms/step\n",
      "Epoch 174/300\n",
      "9/9 - 0s - loss: 0.0190 - accuracy: 1.0000 - val_loss: 0.0184 - val_accuracy: 1.0000 - 38ms/epoch - 4ms/step\n",
      "Epoch 175/300\n",
      "9/9 - 0s - loss: 0.0185 - accuracy: 1.0000 - val_loss: 0.0179 - val_accuracy: 1.0000 - 36ms/epoch - 4ms/step\n",
      "Epoch 176/300\n",
      "9/9 - 0s - loss: 0.0182 - accuracy: 1.0000 - val_loss: 0.0176 - val_accuracy: 1.0000 - 37ms/epoch - 4ms/step\n",
      "Epoch 177/300\n",
      "9/9 - 0s - loss: 0.0178 - accuracy: 1.0000 - val_loss: 0.0173 - val_accuracy: 1.0000 - 36ms/epoch - 4ms/step\n",
      "Epoch 178/300\n",
      "9/9 - 0s - loss: 0.0173 - accuracy: 1.0000 - val_loss: 0.0168 - val_accuracy: 1.0000 - 37ms/epoch - 4ms/step\n",
      "Epoch 179/300\n",
      "9/9 - 0s - loss: 0.0168 - accuracy: 1.0000 - val_loss: 0.0165 - val_accuracy: 1.0000 - 36ms/epoch - 4ms/step\n",
      "Epoch 180/300\n",
      "9/9 - 0s - loss: 0.0164 - accuracy: 1.0000 - val_loss: 0.0161 - val_accuracy: 1.0000 - 38ms/epoch - 4ms/step\n",
      "Epoch 181/300\n",
      "9/9 - 0s - loss: 0.0163 - accuracy: 1.0000 - val_loss: 0.0158 - val_accuracy: 1.0000 - 35ms/epoch - 4ms/step\n",
      "Epoch 182/300\n",
      "9/9 - 0s - loss: 0.0159 - accuracy: 1.0000 - val_loss: 0.0155 - val_accuracy: 1.0000 - 37ms/epoch - 4ms/step\n",
      "Epoch 183/300\n",
      "9/9 - 0s - loss: 0.0155 - accuracy: 1.0000 - val_loss: 0.0153 - val_accuracy: 1.0000 - 36ms/epoch - 4ms/step\n",
      "Epoch 184/300\n",
      "9/9 - 0s - loss: 0.0153 - accuracy: 1.0000 - val_loss: 0.0149 - val_accuracy: 1.0000 - 38ms/epoch - 4ms/step\n",
      "Epoch 185/300\n",
      "9/9 - 0s - loss: 0.0152 - accuracy: 1.0000 - val_loss: 0.0147 - val_accuracy: 1.0000 - 36ms/epoch - 4ms/step\n",
      "Epoch 186/300\n",
      "9/9 - 0s - loss: 0.0147 - accuracy: 1.0000 - val_loss: 0.0143 - val_accuracy: 1.0000 - 38ms/epoch - 4ms/step\n",
      "Epoch 187/300\n",
      "9/9 - 0s - loss: 0.0143 - accuracy: 1.0000 - val_loss: 0.0141 - val_accuracy: 1.0000 - 36ms/epoch - 4ms/step\n",
      "Epoch 188/300\n",
      "9/9 - 0s - loss: 0.0141 - accuracy: 1.0000 - val_loss: 0.0138 - val_accuracy: 1.0000 - 38ms/epoch - 4ms/step\n",
      "Epoch 189/300\n",
      "9/9 - 0s - loss: 0.0138 - accuracy: 1.0000 - val_loss: 0.0135 - val_accuracy: 1.0000 - 36ms/epoch - 4ms/step\n",
      "Epoch 190/300\n",
      "9/9 - 0s - loss: 0.0136 - accuracy: 1.0000 - val_loss: 0.0133 - val_accuracy: 1.0000 - 36ms/epoch - 4ms/step\n",
      "Epoch 191/300\n",
      "9/9 - 0s - loss: 0.0136 - accuracy: 1.0000 - val_loss: 0.0130 - val_accuracy: 1.0000 - 37ms/epoch - 4ms/step\n",
      "Epoch 192/300\n",
      "9/9 - 0s - loss: 0.0131 - accuracy: 1.0000 - val_loss: 0.0128 - val_accuracy: 1.0000 - 36ms/epoch - 4ms/step\n",
      "Epoch 193/300\n",
      "9/9 - 0s - loss: 0.0128 - accuracy: 1.0000 - val_loss: 0.0126 - val_accuracy: 1.0000 - 36ms/epoch - 4ms/step\n",
      "Epoch 194/300\n",
      "9/9 - 0s - loss: 0.0126 - accuracy: 1.0000 - val_loss: 0.0123 - val_accuracy: 1.0000 - 36ms/epoch - 4ms/step\n",
      "Epoch 195/300\n",
      "9/9 - 0s - loss: 0.0124 - accuracy: 1.0000 - val_loss: 0.0122 - val_accuracy: 1.0000 - 37ms/epoch - 4ms/step\n",
      "Epoch 196/300\n",
      "9/9 - 0s - loss: 0.0122 - accuracy: 1.0000 - val_loss: 0.0119 - val_accuracy: 1.0000 - 37ms/epoch - 4ms/step\n",
      "Epoch 197/300\n",
      "9/9 - 0s - loss: 0.0119 - accuracy: 1.0000 - val_loss: 0.0117 - val_accuracy: 1.0000 - 37ms/epoch - 4ms/step\n",
      "Epoch 198/300\n",
      "9/9 - 0s - loss: 0.0119 - accuracy: 1.0000 - val_loss: 0.0115 - val_accuracy: 1.0000 - 37ms/epoch - 4ms/step\n",
      "Epoch 199/300\n",
      "9/9 - 0s - loss: 0.0116 - accuracy: 1.0000 - val_loss: 0.0113 - val_accuracy: 1.0000 - 36ms/epoch - 4ms/step\n",
      "Epoch 200/300\n",
      "9/9 - 0s - loss: 0.0115 - accuracy: 1.0000 - val_loss: 0.0111 - val_accuracy: 1.0000 - 44ms/epoch - 5ms/step\n",
      "Epoch 201/300\n",
      "9/9 - 0s - loss: 0.0111 - accuracy: 1.0000 - val_loss: 0.0109 - val_accuracy: 1.0000 - 36ms/epoch - 4ms/step\n",
      "Epoch 202/300\n",
      "9/9 - 0s - loss: 0.0109 - accuracy: 1.0000 - val_loss: 0.0107 - val_accuracy: 1.0000 - 37ms/epoch - 4ms/step\n"
     ]
    },
    {
     "name": "stdout",
     "output_type": "stream",
     "text": [
      "Epoch 203/300\n",
      "9/9 - 0s - loss: 0.0107 - accuracy: 1.0000 - val_loss: 0.0105 - val_accuracy: 1.0000 - 37ms/epoch - 4ms/step\n",
      "Epoch 204/300\n",
      "9/9 - 0s - loss: 0.0105 - accuracy: 1.0000 - val_loss: 0.0103 - val_accuracy: 1.0000 - 37ms/epoch - 4ms/step\n",
      "Epoch 205/300\n",
      "9/9 - 0s - loss: 0.0104 - accuracy: 1.0000 - val_loss: 0.0102 - val_accuracy: 1.0000 - 37ms/epoch - 4ms/step\n",
      "Epoch 206/300\n",
      "9/9 - 0s - loss: 0.0102 - accuracy: 1.0000 - val_loss: 0.0100 - val_accuracy: 1.0000 - 36ms/epoch - 4ms/step\n",
      "Epoch 207/300\n",
      "9/9 - 0s - loss: 0.0101 - accuracy: 1.0000 - val_loss: 0.0099 - val_accuracy: 1.0000 - 36ms/epoch - 4ms/step\n",
      "Epoch 208/300\n",
      "9/9 - 0s - loss: 0.0099 - accuracy: 1.0000 - val_loss: 0.0097 - val_accuracy: 1.0000 - 37ms/epoch - 4ms/step\n",
      "Epoch 209/300\n",
      "9/9 - 0s - loss: 0.0097 - accuracy: 1.0000 - val_loss: 0.0095 - val_accuracy: 1.0000 - 36ms/epoch - 4ms/step\n",
      "Epoch 210/300\n",
      "9/9 - 0s - loss: 0.0095 - accuracy: 1.0000 - val_loss: 0.0094 - val_accuracy: 1.0000 - 38ms/epoch - 4ms/step\n",
      "Epoch 211/300\n",
      "9/9 - 0s - loss: 0.0093 - accuracy: 1.0000 - val_loss: 0.0092 - val_accuracy: 1.0000 - 37ms/epoch - 4ms/step\n",
      "Epoch 212/300\n",
      "9/9 - 0s - loss: 0.0093 - accuracy: 1.0000 - val_loss: 0.0091 - val_accuracy: 1.0000 - 37ms/epoch - 4ms/step\n",
      "Epoch 213/300\n",
      "9/9 - 0s - loss: 0.0090 - accuracy: 1.0000 - val_loss: 0.0089 - val_accuracy: 1.0000 - 36ms/epoch - 4ms/step\n",
      "Epoch 214/300\n",
      "9/9 - 0s - loss: 0.0089 - accuracy: 1.0000 - val_loss: 0.0088 - val_accuracy: 1.0000 - 37ms/epoch - 4ms/step\n",
      "Epoch 215/300\n",
      "9/9 - 0s - loss: 0.0089 - accuracy: 1.0000 - val_loss: 0.0086 - val_accuracy: 1.0000 - 36ms/epoch - 4ms/step\n",
      "Epoch 216/300\n",
      "9/9 - 0s - loss: 0.0087 - accuracy: 1.0000 - val_loss: 0.0085 - val_accuracy: 1.0000 - 37ms/epoch - 4ms/step\n",
      "Epoch 217/300\n",
      "9/9 - 0s - loss: 0.0085 - accuracy: 1.0000 - val_loss: 0.0084 - val_accuracy: 1.0000 - 36ms/epoch - 4ms/step\n",
      "Epoch 218/300\n",
      "9/9 - 0s - loss: 0.0084 - accuracy: 1.0000 - val_loss: 0.0083 - val_accuracy: 1.0000 - 36ms/epoch - 4ms/step\n",
      "Epoch 219/300\n",
      "9/9 - 0s - loss: 0.0082 - accuracy: 1.0000 - val_loss: 0.0081 - val_accuracy: 1.0000 - 37ms/epoch - 4ms/step\n",
      "Epoch 220/300\n",
      "9/9 - 0s - loss: 0.0081 - accuracy: 1.0000 - val_loss: 0.0080 - val_accuracy: 1.0000 - 37ms/epoch - 4ms/step\n",
      "Epoch 221/300\n",
      "9/9 - 0s - loss: 0.0080 - accuracy: 1.0000 - val_loss: 0.0079 - val_accuracy: 1.0000 - 38ms/epoch - 4ms/step\n",
      "Epoch 222/300\n",
      "9/9 - 0s - loss: 0.0080 - accuracy: 1.0000 - val_loss: 0.0078 - val_accuracy: 1.0000 - 38ms/epoch - 4ms/step\n",
      "Epoch 223/300\n",
      "9/9 - 0s - loss: 0.0078 - accuracy: 1.0000 - val_loss: 0.0077 - val_accuracy: 1.0000 - 35ms/epoch - 4ms/step\n",
      "Epoch 224/300\n",
      "9/9 - 0s - loss: 0.0077 - accuracy: 1.0000 - val_loss: 0.0075 - val_accuracy: 1.0000 - 38ms/epoch - 4ms/step\n",
      "Epoch 225/300\n",
      "9/9 - 0s - loss: 0.0075 - accuracy: 1.0000 - val_loss: 0.0074 - val_accuracy: 1.0000 - 36ms/epoch - 4ms/step\n",
      "Epoch 226/300\n",
      "9/9 - 0s - loss: 0.0074 - accuracy: 1.0000 - val_loss: 0.0073 - val_accuracy: 1.0000 - 39ms/epoch - 4ms/step\n",
      "Epoch 227/300\n",
      "9/9 - 0s - loss: 0.0073 - accuracy: 1.0000 - val_loss: 0.0072 - val_accuracy: 1.0000 - 35ms/epoch - 4ms/step\n",
      "Epoch 228/300\n",
      "9/9 - 0s - loss: 0.0072 - accuracy: 1.0000 - val_loss: 0.0071 - val_accuracy: 1.0000 - 37ms/epoch - 4ms/step\n",
      "Epoch 229/300\n",
      "9/9 - 0s - loss: 0.0071 - accuracy: 1.0000 - val_loss: 0.0070 - val_accuracy: 1.0000 - 36ms/epoch - 4ms/step\n",
      "Epoch 230/300\n",
      "9/9 - 0s - loss: 0.0070 - accuracy: 1.0000 - val_loss: 0.0069 - val_accuracy: 1.0000 - 38ms/epoch - 4ms/step\n",
      "Epoch 231/300\n",
      "9/9 - 0s - loss: 0.0069 - accuracy: 1.0000 - val_loss: 0.0068 - val_accuracy: 1.0000 - 36ms/epoch - 4ms/step\n",
      "Epoch 232/300\n",
      "9/9 - 0s - loss: 0.0068 - accuracy: 1.0000 - val_loss: 0.0067 - val_accuracy: 1.0000 - 36ms/epoch - 4ms/step\n",
      "Epoch 233/300\n",
      "9/9 - 0s - loss: 0.0067 - accuracy: 1.0000 - val_loss: 0.0066 - val_accuracy: 1.0000 - 36ms/epoch - 4ms/step\n",
      "Epoch 234/300\n",
      "9/9 - 0s - loss: 0.0066 - accuracy: 1.0000 - val_loss: 0.0065 - val_accuracy: 1.0000 - 37ms/epoch - 4ms/step\n",
      "Epoch 235/300\n",
      "9/9 - 0s - loss: 0.0065 - accuracy: 1.0000 - val_loss: 0.0064 - val_accuracy: 1.0000 - 36ms/epoch - 4ms/step\n",
      "Epoch 236/300\n",
      "9/9 - 0s - loss: 0.0064 - accuracy: 1.0000 - val_loss: 0.0063 - val_accuracy: 1.0000 - 36ms/epoch - 4ms/step\n",
      "Epoch 237/300\n",
      "9/9 - 0s - loss: 0.0063 - accuracy: 1.0000 - val_loss: 0.0062 - val_accuracy: 1.0000 - 36ms/epoch - 4ms/step\n",
      "Epoch 238/300\n",
      "9/9 - 0s - loss: 0.0063 - accuracy: 1.0000 - val_loss: 0.0062 - val_accuracy: 1.0000 - 39ms/epoch - 4ms/step\n",
      "Epoch 239/300\n",
      "9/9 - 0s - loss: 0.0062 - accuracy: 1.0000 - val_loss: 0.0061 - val_accuracy: 1.0000 - 37ms/epoch - 4ms/step\n",
      "Epoch 240/300\n",
      "9/9 - 0s - loss: 0.0060 - accuracy: 1.0000 - val_loss: 0.0060 - val_accuracy: 1.0000 - 37ms/epoch - 4ms/step\n",
      "Epoch 241/300\n",
      "9/9 - 0s - loss: 0.0060 - accuracy: 1.0000 - val_loss: 0.0059 - val_accuracy: 1.0000 - 37ms/epoch - 4ms/step\n",
      "Epoch 242/300\n",
      "9/9 - 0s - loss: 0.0059 - accuracy: 1.0000 - val_loss: 0.0058 - val_accuracy: 1.0000 - 37ms/epoch - 4ms/step\n",
      "Epoch 243/300\n",
      "9/9 - 0s - loss: 0.0058 - accuracy: 1.0000 - val_loss: 0.0057 - val_accuracy: 1.0000 - 38ms/epoch - 4ms/step\n",
      "Epoch 244/300\n",
      "9/9 - 0s - loss: 0.0057 - accuracy: 1.0000 - val_loss: 0.0057 - val_accuracy: 1.0000 - 37ms/epoch - 4ms/step\n",
      "Epoch 245/300\n",
      "9/9 - 0s - loss: 0.0057 - accuracy: 1.0000 - val_loss: 0.0056 - val_accuracy: 1.0000 - 39ms/epoch - 4ms/step\n",
      "Epoch 246/300\n",
      "9/9 - 0s - loss: 0.0056 - accuracy: 1.0000 - val_loss: 0.0055 - val_accuracy: 1.0000 - 37ms/epoch - 4ms/step\n",
      "Epoch 247/300\n",
      "9/9 - 0s - loss: 0.0055 - accuracy: 1.0000 - val_loss: 0.0054 - val_accuracy: 1.0000 - 37ms/epoch - 4ms/step\n",
      "Epoch 248/300\n",
      "9/9 - 0s - loss: 0.0055 - accuracy: 1.0000 - val_loss: 0.0054 - val_accuracy: 1.0000 - 36ms/epoch - 4ms/step\n",
      "Epoch 249/300\n",
      "9/9 - 0s - loss: 0.0053 - accuracy: 1.0000 - val_loss: 0.0053 - val_accuracy: 1.0000 - 37ms/epoch - 4ms/step\n",
      "Epoch 250/300\n",
      "9/9 - 0s - loss: 0.0053 - accuracy: 1.0000 - val_loss: 0.0052 - val_accuracy: 1.0000 - 37ms/epoch - 4ms/step\n",
      "Epoch 251/300\n",
      "9/9 - 0s - loss: 0.0052 - accuracy: 1.0000 - val_loss: 0.0052 - val_accuracy: 1.0000 - 37ms/epoch - 4ms/step\n",
      "Epoch 252/300\n",
      "9/9 - 0s - loss: 0.0052 - accuracy: 1.0000 - val_loss: 0.0051 - val_accuracy: 1.0000 - 36ms/epoch - 4ms/step\n",
      "Epoch 253/300\n",
      "9/9 - 0s - loss: 0.0051 - accuracy: 1.0000 - val_loss: 0.0050 - val_accuracy: 1.0000 - 39ms/epoch - 4ms/step\n",
      "Epoch 254/300\n",
      "9/9 - 0s - loss: 0.0050 - accuracy: 1.0000 - val_loss: 0.0050 - val_accuracy: 1.0000 - 37ms/epoch - 4ms/step\n",
      "Epoch 255/300\n",
      "9/9 - 0s - loss: 0.0050 - accuracy: 1.0000 - val_loss: 0.0049 - val_accuracy: 1.0000 - 35ms/epoch - 4ms/step\n",
      "Epoch 256/300\n",
      "9/9 - 0s - loss: 0.0049 - accuracy: 1.0000 - val_loss: 0.0048 - val_accuracy: 1.0000 - 36ms/epoch - 4ms/step\n",
      "Epoch 257/300\n",
      "9/9 - 0s - loss: 0.0048 - accuracy: 1.0000 - val_loss: 0.0048 - val_accuracy: 1.0000 - 37ms/epoch - 4ms/step\n",
      "Epoch 258/300\n",
      "9/9 - 0s - loss: 0.0048 - accuracy: 1.0000 - val_loss: 0.0047 - val_accuracy: 1.0000 - 38ms/epoch - 4ms/step\n",
      "Epoch 259/300\n",
      "9/9 - 0s - loss: 0.0047 - accuracy: 1.0000 - val_loss: 0.0047 - val_accuracy: 1.0000 - 37ms/epoch - 4ms/step\n",
      "Epoch 260/300\n",
      "9/9 - 0s - loss: 0.0047 - accuracy: 1.0000 - val_loss: 0.0046 - val_accuracy: 1.0000 - 40ms/epoch - 4ms/step\n",
      "Epoch 261/300\n",
      "9/9 - 0s - loss: 0.0046 - accuracy: 1.0000 - val_loss: 0.0045 - val_accuracy: 1.0000 - 38ms/epoch - 4ms/step\n",
      "Epoch 262/300\n",
      "9/9 - 0s - loss: 0.0045 - accuracy: 1.0000 - val_loss: 0.0045 - val_accuracy: 1.0000 - 38ms/epoch - 4ms/step\n",
      "Epoch 263/300\n",
      "9/9 - 0s - loss: 0.0045 - accuracy: 1.0000 - val_loss: 0.0044 - val_accuracy: 1.0000 - 37ms/epoch - 4ms/step\n",
      "Epoch 264/300\n",
      "9/9 - 0s - loss: 0.0044 - accuracy: 1.0000 - val_loss: 0.0044 - val_accuracy: 1.0000 - 37ms/epoch - 4ms/step\n",
      "Epoch 265/300\n",
      "9/9 - 0s - loss: 0.0044 - accuracy: 1.0000 - val_loss: 0.0044 - val_accuracy: 1.0000 - 36ms/epoch - 4ms/step\n",
      "Epoch 266/300\n",
      "9/9 - 0s - loss: 0.0043 - accuracy: 1.0000 - val_loss: 0.0043 - val_accuracy: 1.0000 - 41ms/epoch - 5ms/step\n",
      "Epoch 267/300\n",
      "9/9 - 0s - loss: 0.0043 - accuracy: 1.0000 - val_loss: 0.0042 - val_accuracy: 1.0000 - 38ms/epoch - 4ms/step\n",
      "Epoch 268/300\n",
      "9/9 - 0s - loss: 0.0042 - accuracy: 1.0000 - val_loss: 0.0042 - val_accuracy: 1.0000 - 35ms/epoch - 4ms/step\n",
      "Epoch 269/300\n",
      "9/9 - 0s - loss: 0.0042 - accuracy: 1.0000 - val_loss: 0.0041 - val_accuracy: 1.0000 - 35ms/epoch - 4ms/step\n"
     ]
    },
    {
     "name": "stdout",
     "output_type": "stream",
     "text": [
      "Epoch 270/300\n",
      "9/9 - 0s - loss: 0.0041 - accuracy: 1.0000 - val_loss: 0.0041 - val_accuracy: 1.0000 - 36ms/epoch - 4ms/step\n",
      "Epoch 271/300\n",
      "9/9 - 0s - loss: 0.0041 - accuracy: 1.0000 - val_loss: 0.0040 - val_accuracy: 1.0000 - 36ms/epoch - 4ms/step\n",
      "Epoch 272/300\n",
      "9/9 - 0s - loss: 0.0040 - accuracy: 1.0000 - val_loss: 0.0040 - val_accuracy: 1.0000 - 37ms/epoch - 4ms/step\n",
      "Epoch 273/300\n",
      "9/9 - 0s - loss: 0.0040 - accuracy: 1.0000 - val_loss: 0.0039 - val_accuracy: 1.0000 - 38ms/epoch - 4ms/step\n",
      "Epoch 274/300\n",
      "9/9 - 0s - loss: 0.0039 - accuracy: 1.0000 - val_loss: 0.0039 - val_accuracy: 1.0000 - 37ms/epoch - 4ms/step\n",
      "Epoch 275/300\n",
      "9/9 - 0s - loss: 0.0039 - accuracy: 1.0000 - val_loss: 0.0038 - val_accuracy: 1.0000 - 36ms/epoch - 4ms/step\n",
      "Epoch 276/300\n",
      "9/9 - 0s - loss: 0.0038 - accuracy: 1.0000 - val_loss: 0.0038 - val_accuracy: 1.0000 - 37ms/epoch - 4ms/step\n",
      "Epoch 277/300\n",
      "9/9 - 0s - loss: 0.0038 - accuracy: 1.0000 - val_loss: 0.0037 - val_accuracy: 1.0000 - 37ms/epoch - 4ms/step\n",
      "Epoch 278/300\n",
      "9/9 - 0s - loss: 0.0037 - accuracy: 1.0000 - val_loss: 0.0037 - val_accuracy: 1.0000 - 36ms/epoch - 4ms/step\n",
      "Epoch 279/300\n",
      "9/9 - 0s - loss: 0.0037 - accuracy: 1.0000 - val_loss: 0.0037 - val_accuracy: 1.0000 - 36ms/epoch - 4ms/step\n",
      "Epoch 280/300\n",
      "9/9 - 0s - loss: 0.0037 - accuracy: 1.0000 - val_loss: 0.0036 - val_accuracy: 1.0000 - 36ms/epoch - 4ms/step\n",
      "Epoch 281/300\n",
      "9/9 - 0s - loss: 0.0037 - accuracy: 1.0000 - val_loss: 0.0036 - val_accuracy: 1.0000 - 36ms/epoch - 4ms/step\n",
      "Epoch 282/300\n",
      "9/9 - 0s - loss: 0.0036 - accuracy: 1.0000 - val_loss: 0.0035 - val_accuracy: 1.0000 - 37ms/epoch - 4ms/step\n",
      "Epoch 283/300\n",
      "9/9 - 0s - loss: 0.0035 - accuracy: 1.0000 - val_loss: 0.0035 - val_accuracy: 1.0000 - 35ms/epoch - 4ms/step\n",
      "Epoch 284/300\n",
      "9/9 - 0s - loss: 0.0035 - accuracy: 1.0000 - val_loss: 0.0034 - val_accuracy: 1.0000 - 36ms/epoch - 4ms/step\n",
      "Epoch 285/300\n",
      "9/9 - 0s - loss: 0.0035 - accuracy: 1.0000 - val_loss: 0.0034 - val_accuracy: 1.0000 - 36ms/epoch - 4ms/step\n",
      "Epoch 286/300\n",
      "9/9 - 0s - loss: 0.0034 - accuracy: 1.0000 - val_loss: 0.0034 - val_accuracy: 1.0000 - 36ms/epoch - 4ms/step\n",
      "Epoch 287/300\n",
      "9/9 - 0s - loss: 0.0034 - accuracy: 1.0000 - val_loss: 0.0033 - val_accuracy: 1.0000 - 36ms/epoch - 4ms/step\n",
      "Epoch 288/300\n",
      "9/9 - 0s - loss: 0.0033 - accuracy: 1.0000 - val_loss: 0.0033 - val_accuracy: 1.0000 - 34ms/epoch - 4ms/step\n",
      "Epoch 289/300\n",
      "9/9 - 0s - loss: 0.0033 - accuracy: 1.0000 - val_loss: 0.0033 - val_accuracy: 1.0000 - 36ms/epoch - 4ms/step\n",
      "Epoch 290/300\n",
      "9/9 - 0s - loss: 0.0033 - accuracy: 1.0000 - val_loss: 0.0032 - val_accuracy: 1.0000 - 37ms/epoch - 4ms/step\n",
      "Epoch 291/300\n",
      "9/9 - 0s - loss: 0.0032 - accuracy: 1.0000 - val_loss: 0.0032 - val_accuracy: 1.0000 - 35ms/epoch - 4ms/step\n",
      "Epoch 292/300\n",
      "9/9 - 0s - loss: 0.0032 - accuracy: 1.0000 - val_loss: 0.0032 - val_accuracy: 1.0000 - 38ms/epoch - 4ms/step\n",
      "Epoch 293/300\n",
      "9/9 - 0s - loss: 0.0032 - accuracy: 1.0000 - val_loss: 0.0031 - val_accuracy: 1.0000 - 34ms/epoch - 4ms/step\n",
      "Epoch 294/300\n",
      "9/9 - 0s - loss: 0.0031 - accuracy: 1.0000 - val_loss: 0.0031 - val_accuracy: 1.0000 - 36ms/epoch - 4ms/step\n",
      "Epoch 295/300\n",
      "9/9 - 0s - loss: 0.0031 - accuracy: 1.0000 - val_loss: 0.0030 - val_accuracy: 1.0000 - 34ms/epoch - 4ms/step\n",
      "Epoch 296/300\n",
      "9/9 - 0s - loss: 0.0031 - accuracy: 1.0000 - val_loss: 0.0030 - val_accuracy: 1.0000 - 35ms/epoch - 4ms/step\n",
      "Epoch 297/300\n",
      "9/9 - 0s - loss: 0.0030 - accuracy: 1.0000 - val_loss: 0.0030 - val_accuracy: 1.0000 - 38ms/epoch - 4ms/step\n",
      "Epoch 298/300\n",
      "9/9 - 0s - loss: 0.0030 - accuracy: 1.0000 - val_loss: 0.0030 - val_accuracy: 1.0000 - 37ms/epoch - 4ms/step\n",
      "Epoch 299/300\n",
      "9/9 - 0s - loss: 0.0030 - accuracy: 1.0000 - val_loss: 0.0029 - val_accuracy: 1.0000 - 38ms/epoch - 4ms/step\n",
      "Epoch 300/300\n",
      "9/9 - 0s - loss: 0.0029 - accuracy: 1.0000 - val_loss: 0.0029 - val_accuracy: 1.0000 - 35ms/epoch - 4ms/step\n"
     ]
    }
   ],
   "source": [
    "hist = model.fit(X_train, Y_train, # 훈련(학습)데이터 \n",
    "                 epochs     = 300, # 학습 횟수\n",
    "                 batch_size = 10,  # 가중치를 조정하는 단위\n",
    "                 verbose    = 2,   # 0: 출력없음, 1: 진행상황만 출력, 2:epoch별 로그메세지\n",
    "                 validation_data = (X_val, Y_val), # 검증 데이터셋\n",
    "                )"
   ]
  },
  {
   "cell_type": "markdown",
   "id": "573e870c",
   "metadata": {
    "ExecuteTime": {
     "end_time": "2024-12-12T07:42:27.442428Z",
     "start_time": "2024-12-12T07:42:27.438426Z"
    }
   },
   "source": [
    "## 6.모델과정 평가하기\n",
    "- 학습과정 중 loss와 평가지표(accuracy),evalate 함수)"
   ]
  },
  {
   "cell_type": "code",
   "execution_count": 10,
   "id": "435ac55b",
   "metadata": {
    "ExecuteTime": {
     "end_time": "2024-12-12T07:50:54.989943Z",
     "start_time": "2024-12-12T07:50:54.982951Z"
    }
   },
   "outputs": [
    {
     "data": {
      "text/plain": [
       "dict_keys(['loss', 'accuracy', 'val_loss', 'val_accuracy'])"
      ]
     },
     "execution_count": 10,
     "metadata": {},
     "output_type": "execute_result"
    }
   ],
   "source": [
    "hist.history.keys()"
   ]
  },
  {
   "cell_type": "code",
   "execution_count": 35,
   "id": "c12d3b4f",
   "metadata": {
    "ExecuteTime": {
     "end_time": "2024-12-12T08:19:28.403539Z",
     "start_time": "2024-12-12T08:19:28.134884Z"
    }
   },
   "outputs": [
    {
     "data": {
      "image/png": "[encoded data removed]",
      "text/plain": [
       "<Figure size 1000x400 with 2 Axes>"
      ]
     },
     "metadata": {},
     "output_type": "display_data"
    }
   ],
   "source": [
    "# 학습과정 중의 loss와 accuracy\n",
    "import matplotlib.pyplot as plt\n",
    "fig, loss_ax = plt.subplots(figsize=(10,4))\n",
    "loss_ax.plot(hist.history['loss'],'y*',label='train loss')\n",
    "loss_ax.plot(hist.history['val_loss'],'r--',label='val loss')\n",
    "acc_ax = loss_ax.twinx() # loss_ax와 x축을 공유하는 acc_ax 생성\n",
    "acc_ax.plot(hist.history['accuracy'],'g',label='train accuracy')\n",
    "acc_ax.plot(hist.history['val_accuracy'],'b',label='val accuracy')\n",
    "loss_ax.set_xlabel('epoch')\n",
    "loss_ax.set_ylabel('loss')\n",
    "acc_ax.set_ylabel('accuracy')\n",
    "loss_ax.legend(loc='center')\n",
    "acc_ax.legend(loc='center right')\n",
    "plt.show()"
   ]
  },
  {
   "cell_type": "code",
   "execution_count": 39,
   "id": "e1a95a6f",
   "metadata": {
    "ExecuteTime": {
     "end_time": "2024-12-12T08:26:05.345610Z",
     "start_time": "2024-12-12T08:26:05.262833Z"
    }
   },
   "outputs": [
    {
     "name": "stdout",
     "output_type": "stream",
     "text": [
      "3/3 [==============================] - 0s 2ms/step - loss: 0.0029 - accuracy: 1.0000\n"
     ]
    },
    {
     "data": {
      "text/plain": [
       "[0.0028888462111353874, 1.0]"
      ]
     },
     "execution_count": 39,
     "metadata": {},
     "output_type": "execute_result"
    }
   ],
   "source": [
    "# 모델 평가하기\n",
    "score = model.evaluate(X_val,Y_val,batch_size=3)\n",
    "score"
   ]
  },
  {
   "cell_type": "code",
   "execution_count": 41,
   "id": "c1987a09",
   "metadata": {
    "ExecuteTime": {
     "end_time": "2024-12-12T08:26:25.437508Z",
     "start_time": "2024-12-12T08:26:25.431533Z"
    }
   },
   "outputs": [
    {
     "name": "stdout",
     "output_type": "stream",
     "text": [
      "평가된 loss값 :  0.0028888462111353874\n",
      "평가된 accuracy: 100.0 %\n"
     ]
    }
   ],
   "source": [
    "print('평가된 loss값 : ', score[0])\n",
    "print('평가된 accuracy:', score[1]*100,'%')"
   ]
  },
  {
   "cell_type": "markdown",
   "id": "ad8914e5",
   "metadata": {},
   "source": [
    "## 7. 모델 사용하기(모델을 사용해서 예측하기) "
   ]
  },
  {
   "cell_type": "code",
   "execution_count": 42,
   "id": "3151748a",
   "metadata": {
    "ExecuteTime": {
     "end_time": "2024-12-12T08:28:22.737228Z",
     "start_time": "2024-12-12T08:28:22.598665Z"
    }
   },
   "outputs": [
    {
     "name": "stdout",
     "output_type": "stream",
     "text": [
      "1/1 [==============================] - 0s 88ms/step\n"
     ]
    },
    {
     "data": {
      "text/plain": [
       "array([[2.7241562e-19, 8.8192533e-18, 1.2701559e-18, 6.1349289e-27,\n",
       "        1.2991747e-09, 1.2965181e-17, 1.1868750e-03, 1.7011060e-22,\n",
       "        9.9768877e-01, 1.5678649e-18, 1.1243282e-03, 3.6774143e-22,\n",
       "        8.6303219e-13, 3.5752087e-21, 1.6235909e-14, 7.9390307e-21,\n",
       "        6.1050619e-22, 1.5153789e-24, 0.0000000e+00]], dtype=float32)"
      ]
     },
     "execution_count": 42,
     "metadata": {},
     "output_type": "execute_result"
    }
   ],
   "source": [
    "H = model.predict(np.array([4]))\n",
    "H"
   ]
  },
  {
   "cell_type": "code",
   "execution_count": 43,
   "id": "e6ed383b",
   "metadata": {
    "ExecuteTime": {
     "end_time": "2024-12-12T08:35:30.228748Z",
     "start_time": "2024-12-12T08:35:30.158935Z"
    }
   },
   "outputs": [
    {
     "name": "stdout",
     "output_type": "stream",
     "text": [
      "1/1 [==============================] - 0s 20ms/step\n"
     ]
    },
    {
     "data": {
      "text/plain": [
       "8"
      ]
     },
     "execution_count": 43,
     "metadata": {},
     "output_type": "execute_result"
    }
   ],
   "source": [
    "model.predict(np.array([4])).argmax()"
   ]
  },
  {
   "cell_type": "code",
   "execution_count": 45,
   "id": "7bf286fd",
   "metadata": {
    "ExecuteTime": {
     "end_time": "2024-12-12T08:37:06.773918Z",
     "start_time": "2024-12-12T08:37:06.766955Z"
    }
   },
   "outputs": [
    {
     "data": {
      "text/plain": [
       "0.9976888"
      ]
     },
     "execution_count": 45,
     "metadata": {},
     "output_type": "execute_result"
    }
   ],
   "source": [
    "# 몇퍼센트의 확률로 분류되었는지 알고싶을때\n",
    "H[0,H.argmax()]"
   ]
  },
  {
   "cell_type": "markdown",
   "id": "2f0dce5a",
   "metadata": {},
   "source": [
    "## 8. 모델 저장하기"
   ]
  },
  {
   "cell_type": "code",
   "execution_count": 46,
   "id": "c4ea5280",
   "metadata": {
    "ExecuteTime": {
     "end_time": "2024-12-12T08:39:16.080922Z",
     "start_time": "2024-12-12T08:39:16.038862Z"
    }
   },
   "outputs": [],
   "source": [
    "model.save('model/2_deep_begin.h5')"
   ]
  },
  {
   "cell_type": "markdown",
   "id": "7ccb5196",
   "metadata": {},
   "source": [
    "## 저장된 모델 사용하기"
   ]
  },
  {
   "cell_type": "code",
   "execution_count": 2,
   "id": "bb2fc260",
   "metadata": {
    "ExecuteTime": {
     "end_time": "2024-12-12T08:46:30.308420Z",
     "start_time": "2024-12-12T08:46:27.021976Z"
    }
   },
   "outputs": [],
   "source": [
    "from tensorflow.keras.models import load_model\n",
    "import numpy as np\n",
    "model2 =load_model('model/2_deep_begin.h5')"
   ]
  },
  {
   "cell_type": "code",
   "execution_count": 4,
   "id": "01b5c47c",
   "metadata": {
    "ExecuteTime": {
     "end_time": "2024-12-12T08:47:17.007508Z",
     "start_time": "2024-12-12T08:47:16.935702Z"
    }
   },
   "outputs": [
    {
     "name": "stdout",
     "output_type": "stream",
     "text": [
      "1/1 [==============================] - 0s 26ms/step\n"
     ]
    },
    {
     "data": {
      "text/plain": [
       "array([[6.8854496e-25, 1.0397046e-20, 7.1899180e-04, 5.1081191e-38,\n",
       "        9.9854267e-01, 3.3880143e-23, 7.3841016e-04, 8.6300240e-34,\n",
       "        2.2664599e-11, 3.6951864e-25, 4.9288079e-19, 4.2483093e-29,\n",
       "        7.5081988e-34, 6.3787811e-29, 5.5962889e-34, 3.6574168e-27,\n",
       "        7.2435029e-38, 7.1730223e-32, 0.0000000e+00]], dtype=float32)"
      ]
     },
     "execution_count": 4,
     "metadata": {},
     "output_type": "execute_result"
    }
   ],
   "source": [
    "H = model2.predict(np.array([2]))\n",
    "H"
   ]
  },
  {
   "cell_type": "code",
   "execution_count": 5,
   "id": "967bab37",
   "metadata": {
    "ExecuteTime": {
     "end_time": "2024-12-12T08:47:31.326843Z",
     "start_time": "2024-12-12T08:47:31.318885Z"
    }
   },
   "outputs": [
    {
     "data": {
      "text/plain": [
       "0.99854267"
      ]
     },
     "execution_count": 5,
     "metadata": {},
     "output_type": "execute_result"
    }
   ],
   "source": [
    "H[0,H.argmax()]"
   ]
  },
  {
   "cell_type": "code",
   "execution_count": 8,
   "id": "94d096b7",
   "metadata": {
    "ExecuteTime": {
     "end_time": "2024-12-12T08:50:12.918259Z",
     "start_time": "2024-12-12T08:50:12.911277Z"
    }
   },
   "outputs": [
    {
     "data": {
      "text/plain": [
       "[0.001, 0.999, 0.001]"
      ]
     },
     "execution_count": 8,
     "metadata": {},
     "output_type": "execute_result"
    }
   ],
   "source": [
    "[round(val,3) for val in H[0,[2,4,6]]]"
   ]
  },
  {
   "cell_type": "code",
   "execution_count": null,
   "id": "7dab1266",
   "metadata": {},
   "outputs": [],
   "source": []
  },
  {
   "cell_type": "code",
   "execution_count": null,
   "id": "953ada5c",
   "metadata": {},
   "outputs": [],
   "source": []
  }
 ],
 "metadata": {
  "kernelspec": {
   "display_name": "Python 3 (ipykernel)",
   "language": "python",
   "name": "python3"
  },
  "language_info": {
   "codemirror_mode": {
    "name": "ipython",
    "version": 3
   },
   "file_extension": ".py",
   "mimetype": "text/x-python",
   "name": "python",
   "nbconvert_exporter": "python",
   "pygments_lexer": "ipython3",
   "version": "3.10.9"
  },
  "toc": {
   "base_numbering": 1,
   "nav_menu": {},
   "number_sections": true,
   "sideBar": true,
   "skip_h1_title": false,
   "title_cell": "Table of Contents",
   "title_sidebar": "Contents",
   "toc_cell": false,
   "toc_position": {
    "height": "calc(100% - 180px)",
    "left": "10px",
    "top": "150px",
    "width": "236.229px"
   },
   "toc_section_display": true,
   "toc_window_display": true
  }
 },
 "nbformat": 4,
 "nbformat_minor": 5
}
