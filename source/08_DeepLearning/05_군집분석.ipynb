{
 "cells": [
  {
   "cell_type": "code",
   "execution_count": 2,
   "id": "6fdd8c2c",
   "metadata": {
    "ExecuteTime": {
     "end_time": "2024-12-17T02:16:38.680888Z",
     "start_time": "2024-12-17T02:16:38.673879Z"
    }
   },
   "outputs": [
    {
     "data": {
      "text/html": [
       "\n",
       "<style>\n",
       "div.container{width:99% !important;}\n",
       "div.cell.code_cell.rendered{width:90%;}\n",
       "div.CodeMirror {font-family:Consolas; font-size:18pt;}\n",
       "div.output {font-size:19pt; font-weight:bold;}\n",
       "div.input {font-family:Consolas; font-size:19pt;}\n",
       "div.prompt {min-width:70px;}\n",
       "div#toc-wrapper{padding-top:120px;}\n",
       "span.toc-item-num{display:none;}\n",
       "div.text_cell_render ul li{font-size:16pt;padding:5px;}\n",
       "div.CodeMirror-lines > div {padding-left:10px;}\n",
       "table.dataframe{font-size:19px;}\n",
       "</style>\n"
      ],
      "text/plain": [
       "<IPython.core.display.HTML object>"
      ]
     },
     "metadata": {},
     "output_type": "display_data"
    }
   ],
   "source": [
    "from IPython.display import display, HTML\n",
    "display(HTML(\"\"\"\n",
    "<style>\n",
    "div.container{width:99% !important;}\n",
    "div.cell.code_cell.rendered{width:90%;}\n",
    "div.CodeMirror {font-family:Consolas; font-size:18pt;}\n",
    "div.output {font-size:19pt; font-weight:bold;}\n",
    "div.input {font-family:Consolas; font-size:19pt;}\n",
    "div.prompt {min-width:70px;}\n",
    "div#toc-wrapper{padding-top:120px;}\n",
    "span.toc-item-num{display:none;}\n",
    "div.text_cell_render ul li{font-size:16pt;padding:5px;}\n",
    "div.CodeMirror-lines > div {padding-left:10px;}\n",
    "table.dataframe{font-size:19px;}\n",
    "</style>\n",
    "\"\"\"))"
   ]
  },
  {
   "cell_type": "markdown",
   "id": "6e01b449",
   "metadata": {},
   "source": [
    "# 1. 데이터 생성\n",
    "- 남자, 여자 데이터 생성 군집화"
   ]
  },
  {
   "cell_type": "code",
   "execution_count": 3,
   "id": "9808ed59",
   "metadata": {
    "ExecuteTime": {
     "end_time": "2024-12-17T02:19:14.638661Z",
     "start_time": "2024-12-17T02:19:14.098089Z"
    }
   },
   "outputs": [],
   "source": [
    "import random\n",
    "import numpy as np\n",
    "import matplotlib.pyplot as plt\n"
   ]
  },
  {
   "cell_type": "code",
   "execution_count": 5,
   "id": "24b10d54",
   "metadata": {
    "ExecuteTime": {
     "end_time": "2024-12-17T02:33:51.458861Z",
     "start_time": "2024-12-17T02:33:51.451886Z"
    }
   },
   "outputs": [
    {
     "data": {
      "text/plain": [
       "45"
      ]
     },
     "execution_count": 5,
     "metadata": {},
     "output_type": "execute_result"
    }
   ],
   "source": [
    "random.randint(40,70) # 40"
   ]
  },
  {
   "cell_type": "code",
   "execution_count": 8,
   "id": "0a069481",
   "metadata": {
    "ExecuteTime": {
     "end_time": "2024-12-17T02:42:18.679975Z",
     "start_time": "2024-12-17T02:42:18.666843Z"
    }
   },
   "outputs": [
    {
     "data": {
      "text/plain": [
       "[[47, 161],\n",
       " [81, 194],\n",
       " [45, 145],\n",
       " [109, 188],\n",
       " [50, 162],\n",
       " [99, 180],\n",
       " [43, 173],\n",
       " [73, 170],\n",
       " [42, 171],\n",
       " [97, 177],\n",
       " [42, 160],\n",
       " [90, 185],\n",
       " [42, 155],\n",
       " [65, 191],\n",
       " [41, 149],\n",
       " [107, 187],\n",
       " [49, 175],\n",
       " [97, 199],\n",
       " [61, 169],\n",
       " [101, 195],\n",
       " [47, 152],\n",
       " [81, 195],\n",
       " [70, 151],\n",
       " [84, 176],\n",
       " [52, 168],\n",
       " [102, 196],\n",
       " [44, 162],\n",
       " [79, 180],\n",
       " [48, 160],\n",
       " [81, 187],\n",
       " [49, 167],\n",
       " [95, 178],\n",
       " [45, 157],\n",
       " [102, 179],\n",
       " [55, 153],\n",
       " [69, 197],\n",
       " [65, 145],\n",
       " [102, 182],\n",
       " [64, 169],\n",
       " [71, 195],\n",
       " [43, 174],\n",
       " [79, 180],\n",
       " [48, 155],\n",
       " [98, 200],\n",
       " [59, 160],\n",
       " [68, 192],\n",
       " [42, 152],\n",
       " [86, 182],\n",
       " [59, 152],\n",
       " [99, 186],\n",
       " [43, 161],\n",
       " [98, 199],\n",
       " [46, 162],\n",
       " [65, 170],\n",
       " [40, 155],\n",
       " [98, 187],\n",
       " [57, 148],\n",
       " [65, 192],\n",
       " [70, 158],\n",
       " [95, 173],\n",
       " [70, 145],\n",
       " [68, 179],\n",
       " [51, 144],\n",
       " [70, 192],\n",
       " [42, 153],\n",
       " [68, 187],\n",
       " [48, 158],\n",
       " [97, 195],\n",
       " [60, 142],\n",
       " [96, 193],\n",
       " [67, 142],\n",
       " [70, 181],\n",
       " [58, 159],\n",
       " [99, 184],\n",
       " [66, 171],\n",
       " [81, 192],\n",
       " [62, 174],\n",
       " [79, 194],\n",
       " [59, 152],\n",
       " [96, 174],\n",
       " [69, 163],\n",
       " [74, 188],\n",
       " [66, 173],\n",
       " [71, 191],\n",
       " [60, 160],\n",
       " [93, 171],\n",
       " [41, 154],\n",
       " [62, 193],\n",
       " [54, 158],\n",
       " [93, 184],\n",
       " [62, 156],\n",
       " [70, 187],\n",
       " [42, 171],\n",
       " [90, 187],\n",
       " [45, 155],\n",
       " [70, 192],\n",
       " [48, 147],\n",
       " [108, 186],\n",
       " [62, 141],\n",
       " [101, 170]]"
      ]
     },
     "execution_count": 8,
     "metadata": {},
     "output_type": "execute_result"
    }
   ],
   "source": [
    "data = []\n",
    "for i in range(50):\n",
    "    data.append([random.randint(40,70),random.randint(140,175)])# 여자\n",
    "    data.append([random.randint(60,110),random.randint(170,200)]) # 남자\n",
    "data"
   ]
  },
  {
   "cell_type": "code",
   "execution_count": 12,
   "id": "5cd75273",
   "metadata": {
    "ExecuteTime": {
     "end_time": "2024-12-17T02:44:09.745962Z",
     "start_time": "2024-12-17T02:44:09.738834Z"
    }
   },
   "outputs": [
    {
     "name": "stdout",
     "output_type": "stream",
     "text": [
      "[47, 161] [45, 145] [50, 162] [43, 173] [42, 171] [42, 160] [42, 155] [41, 149] [49, 175] [61, 169] [47, 152] [70, 151] [52, 168] [44, 162] [48, 160] [49, 167] [45, 157] [55, 153] [65, 145] [64, 169] [43, 174] [48, 155] [59, 160] [42, 152] [59, 152] [43, 161] [46, 162] [40, 155] [57, 148] [70, 158] [70, 145] [51, 144] [42, 153] [48, 158] [60, 142] [67, 142] [58, 159] [66, 171] [62, 174] [59, 152] [69, 163] [66, 173] [60, 160] [41, 154] [54, 158] [62, 156] [42, 171] [45, 155] [48, 147] [62, 141] \n",
      "---------------------------------------------------------------\n",
      "[81, 194] [109, 188] [99, 180] [73, 170] [97, 177] [90, 185] [65, 191] [107, 187] [97, 199] [101, 195] [81, 195] [84, 176] [102, 196] [79, 180] [81, 187] [95, 178] [102, 179] [69, 197] [102, 182] [71, 195] [79, 180] [98, 200] [68, 192] [86, 182] [99, 186] [98, 199] [65, 170] [98, 187] [65, 192] [95, 173] [68, 179] [70, 192] [68, 187] [97, 195] [96, 193] [70, 181] [99, 184] [81, 192] [79, 194] [96, 174] [74, 188] [71, 191] [93, 171] [62, 193] [93, 184] [70, 187] [90, 187] [70, 192] [108, 186] [101, 170] "
     ]
    }
   ],
   "source": [
    "# 여자\n",
    "for female in data[:100:2]:\n",
    "    print(female,end=' ')\n",
    "print('\\n---------------------------------------------------------------')\n",
    "for male in data[1:100:2]:\n",
    "    print(male,end=' ')"
   ]
  },
  {
   "cell_type": "code",
   "execution_count": 16,
   "id": "53c17851",
   "metadata": {
    "ExecuteTime": {
     "end_time": "2024-12-17T02:51:16.690843Z",
     "start_time": "2024-12-17T02:51:16.499648Z"
    }
   },
   "outputs": [
    {
     "name": "stdout",
     "output_type": "stream",
     "text": [
      "여자몸무게 : [47, 45, 50, 43, 42, 42, 42, 41, 49, 61, 47, 70, 52, 44, 48, 49, 45, 55, 65, 64, 43, 48, 59, 42, 59, 43, 46, 40, 57, 70, 70, 51, 42, 48, 60, 67, 58, 66, 62, 59, 69, 66, 60, 41, 54, 62, 42, 45, 48, 62]\n",
      "여자키 : [161, 145, 162, 173, 171, 160, 155, 149, 175, 169, 152, 151, 168, 162, 160, 167, 157, 153, 145, 169, 174, 155, 160, 152, 152, 161, 162, 155, 148, 158, 145, 144, 153, 158, 142, 142, 159, 171, 174, 152, 163, 173, 160, 154, 158, 156, 171, 155, 147, 141]\n",
      "남자몸무게 : [81, 109, 99, 73, 97, 90, 65, 107, 97, 101, 81, 84, 102, 79, 81, 95, 102, 69, 102, 71, 79, 98, 68, 86, 99, 98, 65, 98, 65, 95, 68, 70, 68, 97, 96, 70, 99, 81, 79, 96, 74, 71, 93, 62, 93, 70, 90, 70, 108, 101]\n",
      "남자키 : [194, 188, 180, 170, 177, 185, 191, 187, 199, 195, 195, 176, 196, 180, 187, 178, 179, 197, 182, 195, 180, 200, 192, 182, 186, 199, 170, 187, 192, 173, 179, 192, 187, 195, 193, 181, 184, 192, 194, 174, 188, 191, 171, 193, 184, 187, 187, 192, 186, 170]\n"
     ]
    },
    {
     "data": {
      "text/plain": [
       "[<matplotlib.lines.Line2D at 0x2696076aa40>]"
      ]
     },
     "execution_count": 16,
     "metadata": {},
     "output_type": "execute_result"
    },
    {
     "data": {
      "image/png": "[encoded data removed]",
      "text/plain": [
       "<Figure size 640x480 with 1 Axes>"
      ]
     },
     "metadata": {},
     "output_type": "display_data"
    }
   ],
   "source": [
    "# x: 몸무게, y:키\n",
    "print('여자몸무게 :', [d[0] for d in data[:100:2]])\n",
    "print('여자키 :', [d[1] for d in data[:100:2]])\n",
    "print('남자몸무게 :', [d[0] for d in data[1:100:2]])\n",
    "print('남자키 :', [d[1] for d in data[1:100:2]])\n",
    "\n",
    "plt.plot([d[0] for d in data[:100:2]],\n",
    "        [d[1] for d in data[:100:2]], 'o')\n",
    "plt.plot([d[0] for d in data[1:100:2]],\n",
    "        [d[1] for d in data[1:100:2]], '^',color='r')"
   ]
  },
  {
   "cell_type": "markdown",
   "id": "76bf9c1a",
   "metadata": {},
   "source": [
    "# 2. 군집화 로직"
   ]
  },
  {
   "cell_type": "code",
   "execution_count": 18,
   "id": "9bf02894",
   "metadata": {
    "ExecuteTime": {
     "end_time": "2024-12-17T03:02:39.402494Z",
     "start_time": "2024-12-17T03:02:39.396504Z"
    }
   },
   "outputs": [
    {
     "name": "stdout",
     "output_type": "stream",
     "text": [
      "초기 랜덤기준점: [[82, 177], [96, 158]]\n"
     ]
    }
   ],
   "source": [
    "random_points = [[random.randint(40,110),random.randint(140,200)],\n",
    "                [random.randint(40,100),random.randint(140,200)]]\n",
    "print('초기 랜덤기준점:', random_points)"
   ]
  },
  {
   "cell_type": "code",
   "execution_count": 21,
   "id": "720cf1b7",
   "metadata": {
    "ExecuteTime": {
     "end_time": "2024-12-17T03:09:04.363357Z",
     "start_time": "2024-12-17T03:09:04.173164Z"
    }
   },
   "outputs": [
    {
     "data": {
      "text/plain": [
       "[<matplotlib.lines.Line2D at 0x26965a76fb0>]"
      ]
     },
     "execution_count": 21,
     "metadata": {},
     "output_type": "execute_result"
    },
    {
     "data": {
      "image/png": "[encoded data removed]",
      "text/plain": [
       "<Figure size 640x480 with 1 Axes>"
      ]
     },
     "metadata": {},
     "output_type": "display_data"
    }
   ],
   "source": [
    "plt.plot([d[0] for d in data],[d[1] for d in data],'o',color='k')\n",
    "plt.plot(random_points[0][0],random_points[0][1],'x',color='r',markersize=20)\n",
    "plt.plot(random_points[1][0],random_points[1][1],'x',color='r',markersize=20)"
   ]
  },
  {
   "cell_type": "code",
   "execution_count": 24,
   "id": "8ca8a4e5",
   "metadata": {
    "ExecuteTime": {
     "end_time": "2024-12-17T03:15:30.917521Z",
     "start_time": "2024-12-17T03:15:30.910517Z"
    }
   },
   "outputs": [
    {
     "data": {
      "text/plain": [
       "5.0"
      ]
     },
     "execution_count": 24,
     "metadata": {},
     "output_type": "execute_result"
    }
   ],
   "source": [
    "# 두점 사이의 거리를 return하는 함수 [0,0]~[3,4]\n",
    "def dist(a,b):\n",
    "    return np.sqrt((a[0] - b[0])**2+(a[1]-b[1])**2)\n",
    "dist([1,1],[4,5])"
   ]
  },
  {
   "cell_type": "code",
   "execution_count": 25,
   "id": "eb33122d",
   "metadata": {
    "ExecuteTime": {
     "end_time": "2024-12-17T03:16:34.020116Z",
     "start_time": "2024-12-17T03:16:34.013128Z"
    }
   },
   "outputs": [
    {
     "data": {
      "text/plain": [
       "23.600847442411894"
      ]
     },
     "execution_count": 25,
     "metadata": {},
     "output_type": "execute_result"
    }
   ],
   "source": [
    "dist(random_points[0],random_points[1])"
   ]
  },
  {
   "cell_type": "code",
   "execution_count": 42,
   "id": "35472589",
   "metadata": {
    "ExecuteTime": {
     "end_time": "2024-12-17T03:52:53.511452Z",
     "start_time": "2024-12-17T03:52:53.504478Z"
    }
   },
   "outputs": [
    {
     "data": {
      "text/plain": [
       "(93, 7)"
      ]
     },
     "execution_count": 42,
     "metadata": {},
     "output_type": "execute_result"
    }
   ],
   "source": [
    "# random_points[0],random_points[1]을 기준으로 두 영역을 나눔\n",
    "group0 = []# random_points[0]이 더 가까운 group\n",
    "\n",
    "group1 = []#\n",
    "for d in data:\n",
    "    if dist(random_points[0],d)<dist(random_points[1],d):\n",
    "        group0.append(d)\n",
    "    else:\n",
    "        group1.append(d)\n",
    "len(group0),len(group1)"
   ]
  },
  {
   "cell_type": "code",
   "execution_count": 43,
   "id": "ff81009c",
   "metadata": {
    "ExecuteTime": {
     "end_time": "2024-12-17T03:52:54.558643Z",
     "start_time": "2024-12-17T03:52:54.368208Z"
    }
   },
   "outputs": [
    {
     "data": {
      "text/plain": [
       "[<matplotlib.lines.Line2D at 0x26965b693f0>]"
      ]
     },
     "execution_count": 43,
     "metadata": {},
     "output_type": "execute_result"
    },
    {
     "data": {
      "image/png": "[encoded data removed]",
      "text/plain": [
       "<Figure size 640x480 with 1 Axes>"
      ]
     },
     "metadata": {},
     "output_type": "display_data"
    }
   ],
   "source": [
    "\n",
    "plt.plot(random_points[0][0],random_points[0][1],'x',color='r',markersize=20)\n",
    "plt.plot(random_points[1][0],random_points[1][1],'x',color='r',markersize=20)\n",
    "plt.plot([d[0] for d in group0], [d[1] for d in group0], 'bo')"
   ]
  },
  {
   "cell_type": "code",
   "execution_count": 44,
   "id": "3e4054ae",
   "metadata": {
    "ExecuteTime": {
     "end_time": "2024-12-17T03:52:55.311399Z",
     "start_time": "2024-12-17T03:52:55.304205Z"
    }
   },
   "outputs": [
    {
     "name": "stdout",
     "output_type": "stream",
     "text": [
      "초기랜덤지점 : [[82, 177], [96, 158]]\n",
      "새로운 기준점 : [[69.21505376344086, 173.9247311827957], [70.71428571428571, 148.0]]\n"
     ]
    }
   ],
   "source": [
    "print('초기랜덤지점 :', random_points)\n",
    "# group 0의 중심점과 group1의 중심점으로 만들어진 new_points 할당\n",
    "sumX=0; sumY=0\n",
    "for g in group0:\n",
    "    sumX += g[0]# x축값 snwr\n",
    "    sumY += g[1]\n",
    "new_points = [] # 새로운 기준점\n",
    "new_points.append([sumX/len(group0),sumY/len(group0)])#group0의 중간지점\n",
    "sumX=0; sumY=0\n",
    "for g in group1:\n",
    "    sumX += g[0]\n",
    "    sumY += g[1]\n",
    "new_points.append([sumX/len(group1),sumY/len(group1)])#group0의 중간지점\n",
    "print('새로운 기준점 :', new_points)"
   ]
  },
  {
   "cell_type": "code",
   "execution_count": 45,
   "id": "8b896da5",
   "metadata": {
    "ExecuteTime": {
     "end_time": "2024-12-17T03:52:56.810421Z",
     "start_time": "2024-12-17T03:52:56.623248Z"
    }
   },
   "outputs": [
    {
     "data": {
      "text/plain": [
       "[<matplotlib.lines.Line2D at 0x26965f89f00>]"
      ]
     },
     "execution_count": 45,
     "metadata": {},
     "output_type": "execute_result"
    },
    {
     "data": {
      "image/png": "[encoded data removed]",
      "text/plain": [
       "<Figure size 640x480 with 1 Axes>"
      ]
     },
     "metadata": {},
     "output_type": "display_data"
    }
   ],
   "source": [
    "plt.plot(random_points[0][0], random_points[0][1], 'x', color='b', markersize=20)\n",
    "plt.plot(random_points[1][0], random_points[1][1], 'x', color='r', markersize=20)\n",
    "plt.plot([d[0] for d in group0], [d[1] for d in group0], 'o',color='b')\n",
    "plt.plot([d[0] for d in group1], [d[1] for d in group1], 'o',color='r')\n",
    "plt.plot(new_points[0][0], new_points[0][1], '^', color='b', markersize=20)\n",
    "plt.plot(new_points[1][0], new_points[1][1], '^', color='r', markersize=20)"
   ]
  },
  {
   "cell_type": "code",
   "execution_count": 46,
   "id": "de46036c",
   "metadata": {
    "ExecuteTime": {
     "end_time": "2024-12-17T03:52:57.959231Z",
     "start_time": "2024-12-17T03:52:57.951262Z"
    }
   },
   "outputs": [
    {
     "data": {
      "text/plain": [
       "(70, 30)"
      ]
     },
     "execution_count": 46,
     "metadata": {},
     "output_type": "execute_result"
    }
   ],
   "source": [
    "# new_points[0]과 new_points[1]을 두 영역을 나눔\n",
    "group0=[]\n",
    "group1=[]\n",
    "for d in data:\n",
    "    if dist(new_points[0],d) < dist(new_points[1],d):\n",
    "        group0.append(d)\n",
    "    else:\n",
    "        group1.append(d)\n",
    "len(group0),len(group1)"
   ]
  },
  {
   "cell_type": "code",
   "execution_count": 49,
   "id": "4c5b274c",
   "metadata": {
    "ExecuteTime": {
     "end_time": "2024-12-17T03:53:56.138023Z",
     "start_time": "2024-12-17T03:53:55.952655Z"
    }
   },
   "outputs": [
    {
     "data": {
      "text/plain": [
       "[<matplotlib.lines.Line2D at 0x269663a3670>]"
      ]
     },
     "execution_count": 49,
     "metadata": {},
     "output_type": "execute_result"
    },
    {
     "data": {
      "image/png": "[encoded data removed]",
      "text/plain": [
       "<Figure size 640x480 with 1 Axes>"
      ]
     },
     "metadata": {},
     "output_type": "display_data"
    }
   ],
   "source": [
    "plt.plot([d[0] for d in group0], [d[1] for d in group0], 'o',color='b')\n",
    "plt.plot([d[0] for d in group1], [d[1] for d in group1], 'o',color='r')\n",
    "plt.plot(new_points[0][0], new_points[0][1], '^', color='b', markersize=20)\n",
    "plt.plot(new_points[1][0], new_points[1][1], '^', color='r', markersize=20)"
   ]
  },
  {
   "cell_type": "markdown",
   "id": "95ce5a93",
   "metadata": {},
   "source": [
    "# 3. 전체코드 (for 문사용)"
   ]
  },
  {
   "cell_type": "code",
   "execution_count": 61,
   "id": "56d65140",
   "metadata": {
    "ExecuteTime": {
     "end_time": "2024-12-17T05:21:11.750332Z",
     "start_time": "2024-12-17T05:21:11.544923Z"
    },
    "scrolled": true
   },
   "outputs": [
    {
     "name": "stdout",
     "output_type": "stream",
     "text": [
      "1 번째 기준점 : [[68, 162], [50, 179]]\n",
      "2 번째 기준점 : [[73.33333333333333, 167.12], [56.64, 179.84]]\n",
      "3 번째 기준점 : [[75.96969696969697, 167.86363636363637], [55.94117647058823, 175.02941176470588]]\n",
      "4 번째 기준점 : [[81.2280701754386, 173.31578947368422], [53.16279069767442, 166.30232558139534]]\n",
      "5 번째 기준점 : [[84.0, 183.52], [54.32, 157.08]]\n",
      "6 번째 기준점 : [[83.7, 184.38], [54.62, 156.22]]\n",
      "7 번째 기준점 : [[83.7, 184.38], [54.62, 156.22]]\n",
      "8 번째 기준점 : [[83.7, 184.38], [54.62, 156.22]]\n",
      "9 번째 기준점 : [[83.7, 184.38], [54.62, 156.22]]\n",
      "10 번째 기준점 : [[83.7, 184.38], [54.62, 156.22]]\n"
     ]
    },
    {
     "data": {
      "text/plain": [
       "[<matplotlib.lines.Line2D at 0x2696830a3b0>]"
      ]
     },
     "execution_count": 61,
     "metadata": {},
     "output_type": "execute_result"
    },
    {
     "data": {
      "image/png": "[encoded data removed]",
      "text/plain": [
       "<Figure size 640x480 with 1 Axes>"
      ]
     },
     "metadata": {},
     "output_type": "display_data"
    }
   ],
   "source": [
    "def dist(a,b):\n",
    "    return np.sqrt((a[0] - b[0])**2+(a[1]-b[1])**2)\n",
    "data = []\n",
    "for i in range(50):\n",
    "    data.append([random.randint(40,70),random.randint(140,175)])# 여자\n",
    "    data.append([random.randint(60,110),random.randint(170,200)]) # 남자\n",
    "    \n",
    "points = [[random.randint(40,110),random.randint(140,200)],\n",
    "         [random.randint(40,110),random.randint(140,200)]]\n",
    "plt.plot(points[0][0],points[0][1],'x',color='b',markersize=15)\n",
    "plt.plot(points[1][0],points[1][1],'x',color='r',markersize=15)\n",
    "\n",
    "for i in range(1,11):\n",
    "    print(i, '번째 기준점 :', points)\n",
    "    group0=[]\n",
    "    group1=[]\n",
    "    for d in data:\n",
    "        if dist(points[0],d) < dist(points[1],d):\n",
    "            group0.append(d)\n",
    "        else:\n",
    "            group1.append(d)\n",
    "    sumX = 0; sumY=0\n",
    "    points = []\n",
    "    for g in group0:\n",
    "        sumX+=g[0]\n",
    "        sumY+=g[1]\n",
    "    points.append([sumX/len(group0),sumY/len(group0)])# group0들의 중심점\n",
    "    sumX = 0; sumY=0\n",
    "    for g in group1:\n",
    "        sumX+=g[0]\n",
    "        sumY+=g[1]\n",
    "    points.append([sumX/len(group1),sumY/len(group1)])# group1들의 중심점\n",
    "plt.plot([d[0]for d in group0],[d[1] for d in group0],'o',color='b')\n",
    "plt.plot([d[0]for d in group1],[d[1] for d in group1],'o',color='r')\n",
    "plt.plot(points[0][0],points[0][1],'^',color='b',markersize=15)\n",
    "plt.plot(points[1][0],points[1][1],'^',color='r',markersize=15)"
   ]
  },
  {
   "cell_type": "code",
   "execution_count": 63,
   "id": "21ef185f",
   "metadata": {
    "ExecuteTime": {
     "end_time": "2024-12-17T05:23:34.243456Z",
     "start_time": "2024-12-17T05:23:34.087766Z"
    }
   },
   "outputs": [
    {
     "data": {
      "image/png": "[encoded data removed]",
      "text/plain": [
       "<Figure size 640x480 with 1 Axes>"
      ]
     },
     "metadata": {},
     "output_type": "display_data"
    }
   ],
   "source": [
    "plt.plot([d[0] for d in data[:100:2]],[d[1] for d in data[:100:2]],'o',color='r')\n",
    "plt.plot([d[0] for d in data[1:100:2]],[d[1] for d in data[1:100:2]],'o',color='b')\n",
    "plt.show()"
   ]
  },
  {
   "cell_type": "markdown",
   "id": "058f8fa0",
   "metadata": {},
   "source": [
    "# 4.api(sklearn) 이용한 군집분석\n",
    "- sklearn : 머신러닝 패키지"
   ]
  },
  {
   "cell_type": "code",
   "execution_count": 65,
   "id": "0535823c",
   "metadata": {
    "ExecuteTime": {
     "end_time": "2024-12-17T05:30:26.418913Z",
     "start_time": "2024-12-17T05:30:25.920701Z"
    }
   },
   "outputs": [
    {
     "name": "stderr",
     "output_type": "stream",
     "text": [
      "C:\\Users\\4545\\anaconda3\\lib\\site-packages\\sklearn\\cluster\\_kmeans.py:1382: UserWarning: KMeans is known to have a memory leak on Windows with MKL, when there are less chunks than available threads. You can avoid it by setting the environment variable OMP_NUM_THREADS=1.\n",
      "  warnings.warn(\n"
     ]
    },
    {
     "data": {
      "text/html": [
       "<style>#sk-container-id-2 {color: black;background-color: white;}#sk-container-id-2 pre{padding: 0;}#sk-container-id-2 div.sk-toggleable {background-color: white;}#sk-container-id-2 label.sk-toggleable__label {cursor: pointer;display: block;width: 100%;margin-bottom: 0;padding: 0.3em;box-sizing: border-box;text-align: center;}#sk-container-id-2 label.sk-toggleable__label-arrow:before {content: \"▸\";float: left;margin-right: 0.25em;color: #696969;}#sk-container-id-2 label.sk-toggleable__label-arrow:hover:before {color: black;}#sk-container-id-2 div.sk-estimator:hover label.sk-toggleable__label-arrow:before {color: black;}#sk-container-id-2 div.sk-toggleable__content {max-height: 0;max-width: 0;overflow: hidden;text-align: left;background-color: #f0f8ff;}#sk-container-id-2 div.sk-toggleable__content pre {margin: 0.2em;color: black;border-radius: 0.25em;background-color: #f0f8ff;}#sk-container-id-2 input.sk-toggleable__control:checked~div.sk-toggleable__content {max-height: 200px;max-width: 100%;overflow: auto;}#sk-container-id-2 input.sk-toggleable__control:checked~label.sk-toggleable__label-arrow:before {content: \"▾\";}#sk-container-id-2 div.sk-estimator input.sk-toggleable__control:checked~label.sk-toggleable__label {background-color: #d4ebff;}#sk-container-id-2 div.sk-label input.sk-toggleable__control:checked~label.sk-toggleable__label {background-color: #d4ebff;}#sk-container-id-2 input.sk-hidden--visually {border: 0;clip: rect(1px 1px 1px 1px);clip: rect(1px, 1px, 1px, 1px);height: 1px;margin: -1px;overflow: hidden;padding: 0;position: absolute;width: 1px;}#sk-container-id-2 div.sk-estimator {font-family: monospace;background-color: #f0f8ff;border: 1px dotted black;border-radius: 0.25em;box-sizing: border-box;margin-bottom: 0.5em;}#sk-container-id-2 div.sk-estimator:hover {background-color: #d4ebff;}#sk-container-id-2 div.sk-parallel-item::after {content: \"\";width: 100%;border-bottom: 1px solid gray;flex-grow: 1;}#sk-container-id-2 div.sk-label:hover label.sk-toggleable__label {background-color: #d4ebff;}#sk-container-id-2 div.sk-serial::before {content: \"\";position: absolute;border-left: 1px solid gray;box-sizing: border-box;top: 0;bottom: 0;left: 50%;z-index: 0;}#sk-container-id-2 div.sk-serial {display: flex;flex-direction: column;align-items: center;background-color: white;padding-right: 0.2em;padding-left: 0.2em;position: relative;}#sk-container-id-2 div.sk-item {position: relative;z-index: 1;}#sk-container-id-2 div.sk-parallel {display: flex;align-items: stretch;justify-content: center;background-color: white;position: relative;}#sk-container-id-2 div.sk-item::before, #sk-container-id-2 div.sk-parallel-item::before {content: \"\";position: absolute;border-left: 1px solid gray;box-sizing: border-box;top: 0;bottom: 0;left: 50%;z-index: -1;}#sk-container-id-2 div.sk-parallel-item {display: flex;flex-direction: column;z-index: 1;position: relative;background-color: white;}#sk-container-id-2 div.sk-parallel-item:first-child::after {align-self: flex-end;width: 50%;}#sk-container-id-2 div.sk-parallel-item:last-child::after {align-self: flex-start;width: 50%;}#sk-container-id-2 div.sk-parallel-item:only-child::after {width: 0;}#sk-container-id-2 div.sk-dashed-wrapped {border: 1px dashed gray;margin: 0 0.4em 0.5em 0.4em;box-sizing: border-box;padding-bottom: 0.4em;background-color: white;}#sk-container-id-2 div.sk-label label {font-family: monospace;font-weight: bold;display: inline-block;line-height: 1.2em;}#sk-container-id-2 div.sk-label-container {text-align: center;}#sk-container-id-2 div.sk-container {/* jupyter's `normalize.less` sets `[hidden] { display: none; }` but bootstrap.min.css set `[hidden] { display: none !important; }` so we also need the `!important` here to be able to override the default hidden behavior on the sphinx rendered scikit-learn.org. See: https://github.com/scikit-learn/scikit-learn/issues/21755 */display: inline-block !important;position: relative;}#sk-container-id-2 div.sk-text-repr-fallback {display: none;}</style><div id=\"sk-container-id-2\" class=\"sk-top-container\"><div class=\"sk-text-repr-fallback\"><pre>KMeans(init=&#x27;random&#x27;, n_clusters=2, n_init=10, random_state=42)</pre><b>In a Jupyter environment, please rerun this cell to show the HTML representation or trust the notebook. <br />On GitHub, the HTML representation is unable to render, please try loading this page with nbviewer.org.</b></div><div class=\"sk-container\" hidden><div class=\"sk-item\"><div class=\"sk-estimator sk-toggleable\"><input class=\"sk-toggleable__control sk-hidden--visually\" id=\"sk-estimator-id-2\" type=\"checkbox\" checked><label for=\"sk-estimator-id-2\" class=\"sk-toggleable__label sk-toggleable__label-arrow\">KMeans</label><div class=\"sk-toggleable__content\"><pre>KMeans(init=&#x27;random&#x27;, n_clusters=2, n_init=10, random_state=42)</pre></div></div></div></div></div>"
      ],
      "text/plain": [
       "KMeans(init='random', n_clusters=2, n_init=10, random_state=42)"
      ]
     },
     "execution_count": 65,
     "metadata": {},
     "output_type": "execute_result"
    }
   ],
   "source": [
    "from sklearn.cluster import KMeans\n",
    "data = np.array(data)\n",
    "model = KMeans(n_clusters=2, #2개 그룹으로 군집분석\n",
    "              init= 'random',\n",
    "              n_init=10,\n",
    "              random_state = 42)\n",
    "model.fit(data)"
   ]
  },
  {
   "cell_type": "code",
   "execution_count": 66,
   "id": "a89c2c6b",
   "metadata": {
    "ExecuteTime": {
     "end_time": "2024-12-17T05:31:36.536169Z",
     "start_time": "2024-12-17T05:31:36.529191Z"
    }
   },
   "outputs": [
    {
     "data": {
      "text/plain": [
       "array([[ 83.7 , 184.38],\n",
       "       [ 54.62, 156.22]])"
      ]
     },
     "execution_count": 66,
     "metadata": {},
     "output_type": "execute_result"
    }
   ],
   "source": [
    "model.cluster_centers_# 최종 중심점"
   ]
  },
  {
   "cell_type": "code",
   "execution_count": 68,
   "id": "60b70fd4",
   "metadata": {
    "ExecuteTime": {
     "end_time": "2024-12-17T05:33:07.799114Z",
     "start_time": "2024-12-17T05:33:07.792967Z"
    }
   },
   "outputs": [
    {
     "data": {
      "text/plain": [
       "array([1, 0, 1, 0, 1, 0, 1, 0, 1, 0, 1, 0, 1, 0, 1, 1, 1, 0, 1, 0, 1, 0,\n",
       "       1, 0, 1, 0, 1, 0, 1, 0, 1, 0, 1, 0, 1, 0, 1, 0, 1, 0, 1, 0, 1, 0,\n",
       "       0, 0, 1, 0, 1, 0, 1, 0, 1, 0, 1, 0, 1, 0, 1, 0, 1, 0, 1, 0, 1, 0,\n",
       "       1, 0, 1, 0, 1, 0, 1, 0, 1, 0, 1, 0, 1, 0, 1, 0, 1, 0, 1, 0, 1, 0,\n",
       "       1, 0, 1, 0, 1, 1, 1, 0, 1, 0, 0, 0])"
      ]
     },
     "execution_count": 68,
     "metadata": {},
     "output_type": "execute_result"
    }
   ],
   "source": [
    "model.labels_"
   ]
  },
  {
   "cell_type": "code",
   "execution_count": 70,
   "id": "abca2f14",
   "metadata": {
    "ExecuteTime": {
     "end_time": "2024-12-17T05:34:32.015955Z",
     "start_time": "2024-12-17T05:34:31.959743Z"
    }
   },
   "outputs": [
    {
     "data": {
      "text/plain": [
       "array([1, 0])"
      ]
     },
     "execution_count": 70,
     "metadata": {},
     "output_type": "execute_result"
    }
   ],
   "source": [
    "model.predict(np.array([[50,165],\n",
    "                       [99,199]]))"
   ]
  },
  {
   "cell_type": "code",
   "execution_count": 74,
   "id": "f7004e14",
   "metadata": {
    "ExecuteTime": {
     "end_time": "2024-12-17T05:40:29.379234Z",
     "start_time": "2024-12-17T05:40:29.185533Z"
    }
   },
   "outputs": [
    {
     "name": "stdout",
     "output_type": "stream",
     "text": [
      "모델의 1번 group의 x값: [54 53 57 70 67 63 68 41 63 68 69 48 60 57 40 51 58 48 57 50 66 70 47 42\n",
      " 48 48 50 63 64 46 67 63 41 40 70 44 48 56 45 51 62 43 59 43 44 50 53 60\n",
      " 60 46]\n",
      "모델의 1번 group의 y값: [161 151 166 164 151 140 159 171 171 159 169 170 152 140 168 167 147 147\n",
      " 143 164 166 151 145 150 175 149 143 153 162 172 157 140 170 151 148 166\n",
      " 157 149 148 170 140 140 158 160 141 146 141 170 162 171]\n",
      "모델의 1번 group의 x값: [ 96  64  84  73  89  95 109 105  85  66  75  85 109  89  64  71 101  73\n",
      "  66  85  86  70  63  90  81  73  94  83  85  60  74  82  95  70 109 105\n",
      "  61  87 110  96  89  83  82  75  94  61  96  94  66  87]\n",
      "모델의 1번 group의 y값: [182 186 193 182 184 178 188 175 196 187 173 179 177 173 186 182 176 198\n",
      " 175 178 200 170 186 179 196 199 198 183 176 199 180 177 197 178 194 198\n",
      " 190 178 176 178 189 171 181 194 173 200 172 195 175 189]\n"
     ]
    },
    {
     "data": {
      "text/plain": [
       "[<matplotlib.lines.Line2D at 0x2696b04d4b0>]"
      ]
     },
     "execution_count": 74,
     "metadata": {},
     "output_type": "execute_result"
    },
    {
     "data": {
      "image/png": "[encoded data removed]",
      "text/plain": [
       "<Figure size 640x480 with 1 Axes>"
      ]
     },
     "metadata": {},
     "output_type": "display_data"
    }
   ],
   "source": [
    "print('모델의 1번 group의 x값:', data[model.labels_==1,0])\n",
    "print('모델의 1번 group의 y값:', data[model.labels_==1,1])\n",
    "print('모델의 1번 group의 x값:', data[model.labels_==0,0])\n",
    "print('모델의 1번 group의 y값:', data[model.labels_==0,1])\n",
    "plt.plot(data[model.labels_==1,0],\n",
    "        data[model.labels_==1,1],'o',color='r')\n",
    "plt.plot(data[model.labels_==0,0],\n",
    "        data[model.labels_==0,1],'o',color='b')\n",
    "plt.plot(model.cluster_centers_[0][0],model.cluster_centers_[0][1],'x',color='k')\n",
    "plt.plot(model.cluster_centers_[1][0],model.cluster_centers_[1][1],'x',color='k')"
   ]
  },
  {
   "cell_type": "code",
   "execution_count": null,
   "id": "2e9a6215",
   "metadata": {},
   "outputs": [],
   "source": []
  },
  {
   "cell_type": "code",
   "execution_count": null,
   "id": "297c9e01",
   "metadata": {},
   "outputs": [],
   "source": []
  },
  {
   "cell_type": "code",
   "execution_count": null,
   "id": "f46e1921",
   "metadata": {},
   "outputs": [],
   "source": []
  },
  {
   "cell_type": "code",
   "execution_count": null,
   "id": "a107b09b",
   "metadata": {},
   "outputs": [],
   "source": []
  },
  {
   "cell_type": "code",
   "execution_count": null,
   "id": "74071e56",
   "metadata": {},
   "outputs": [],
   "source": []
  },
  {
   "cell_type": "code",
   "execution_count": null,
   "id": "f98d65ab",
   "metadata": {},
   "outputs": [],
   "source": []
  }
 ],
 "metadata": {
  "kernelspec": {
   "display_name": "Python 3 (ipykernel)",
   "language": "python",
   "name": "python3"
  },
  "language_info": {
   "codemirror_mode": {
    "name": "ipython",
    "version": 3
   },
   "file_extension": ".py",
   "mimetype": "text/x-python",
   "name": "python",
   "nbconvert_exporter": "python",
   "pygments_lexer": "ipython3",
   "version": "3.10.9"
  },
  "toc": {
   "base_numbering": 1,
   "nav_menu": {},
   "number_sections": true,
   "sideBar": true,
   "skip_h1_title": false,
   "title_cell": "Table of Contents",
   "title_sidebar": "Contents",
   "toc_cell": false,
   "toc_position": {
    "height": "calc(100% - 180px)",
    "left": "10px",
    "top": "150px",
    "width": "202.246px"
   },
   "toc_section_display": true,
   "toc_window_display": true
  }
 },
 "nbformat": 4,
 "nbformat_minor": 5
}
