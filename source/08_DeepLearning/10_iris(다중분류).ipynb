{
 "cells": [
  {
   "cell_type": "code",
   "execution_count": 1,
   "id": "7771510a",
   "metadata": {
    "ExecuteTime": {
     "end_time": "2024-12-19T07:42:07.876729Z",
     "start_time": "2024-12-19T07:42:07.863643Z"
    }
   },
   "outputs": [
    {
     "data": {
      "text/html": [
       "\n",
       "<style>\n",
       "div.container{width:99% !important;}\n",
       "div.cell.code_cell.rendered{width:90%;}\n",
       "div.CodeMirror {font-family:Consolas; font-size:18pt;}\n",
       "div.output {font-size:19pt; font-weight:bold;}\n",
       "div.input {font-family:Consolas; font-size:19pt;}\n",
       "div.prompt {min-width:70px;}\n",
       "div#toc-wrapper{padding-top:120px;}\n",
       "span.toc-item-num{display:none;}\n",
       "div.text_cell_render ul li{font-size:16pt;padding:5px;}\n",
       "div.CodeMirror-lines > div {padding-left:10px;}\n",
       "table.dataframe{font-size:19px;}\n",
       "</style>\n"
      ],
      "text/plain": [
       "<IPython.core.display.HTML object>"
      ]
     },
     "metadata": {},
     "output_type": "display_data"
    }
   ],
   "source": [
    "from IPython.display import display, HTML\n",
    "display(HTML(\"\"\"\n",
    "<style>\n",
    "div.container{width:99% !important;}\n",
    "div.cell.code_cell.rendered{width:90%;}\n",
    "div.CodeMirror {font-family:Consolas; font-size:18pt;}\n",
    "div.output {font-size:19pt; font-weight:bold;}\n",
    "div.input {font-family:Consolas; font-size:19pt;}\n",
    "div.prompt {min-width:70px;}\n",
    "div#toc-wrapper{padding-top:120px;}\n",
    "span.toc-item-num{display:none;}\n",
    "div.text_cell_render ul li{font-size:16pt;padding:5px;}\n",
    "div.CodeMirror-lines > div {padding-left:10px;}\n",
    "table.dataframe{font-size:19px;}\n",
    "</style>\n",
    "\"\"\"))"
   ]
  },
  {
   "cell_type": "code",
   "execution_count": null,
   "id": "cf524232",
   "metadata": {
    "ExecuteTime": {
     "end_time": "2024-12-19T06:33:16.528915Z",
     "start_time": "2024-12-19T06:33:12.588090Z"
    }
   },
   "outputs": [],
   "source": []
  },
  {
   "cell_type": "markdown",
   "id": "e6c1f968",
   "metadata": {},
   "source": [
    "- iris 데이터 종 예측"
   ]
  },
  {
   "cell_type": "code",
   "execution_count": 2,
   "id": "357220c3",
   "metadata": {
    "ExecuteTime": {
     "end_time": "2024-12-19T07:42:11.714994Z",
     "start_time": "2024-12-19T07:42:07.880719Z"
    }
   },
   "outputs": [],
   "source": [
    "import seaborn as sns\n",
    "import pandas as pd\n",
    "import numpy as np\n",
    "from tensorflow.keras.models import Sequential\n",
    "from tensorflow.keras.layers import Dense,Dropout,Input\n",
    "from sklearn.model_selection import train_test_split\n",
    "from tensorflow.keras.callbacks import ModelCheckpoint, EarlyStopping\n",
    "import matplotlib.pyplot as plt\n",
    "\n",
    "\n"
   ]
  },
  {
   "cell_type": "code",
   "execution_count": 3,
   "id": "b500f515",
   "metadata": {
    "ExecuteTime": {
     "end_time": "2024-12-19T07:42:11.724019Z",
     "start_time": "2024-12-19T07:42:11.719966Z"
    }
   },
   "outputs": [],
   "source": [
    "import os\n",
    "os.environ[\"CUDA_VISIBLE_DEVICES\"] = \"-1\""
   ]
  },
  {
   "cell_type": "code",
   "execution_count": 11,
   "id": "20d0b511",
   "metadata": {
    "ExecuteTime": {
     "end_time": "2024-12-19T07:43:20.721982Z",
     "start_time": "2024-12-19T07:43:20.704820Z"
    }
   },
   "outputs": [
    {
     "data": {
      "text/plain": [
       "((120, 4), (30, 4), (120, 3), (30, 3))"
      ]
     },
     "execution_count": 11,
     "metadata": {},
     "output_type": "execute_result"
    }
   ],
   "source": [
    "#1. 데이터 생성 및 전처리\n",
    "iris = sns.load_dataset('iris')\n",
    "# 독립변수와 종속변수 분리 종속변수 원핫 인코딩\n",
    "iris_X = iris.iloc[:,:-1].to_numpy()\n",
    "iris_y = iris.iloc[:,-1]\n",
    "\n",
    "#원핫인코딩\n",
    "iris_Y= pd.get_dummies(iris_y).values\n",
    "iris_Y\n",
    "\n",
    "# 훈련셋과 테스트 셋 분리\n",
    "X_train, X_test ,Y_train, Y_test = train_test_split(iris_X,iris_Y,\n",
    "                                                   test_size=0.2,\n",
    "                                                   random_state=1,\n",
    "                                                   stratify=iris_Y)\n",
    "X_train.shape, X_test.shape ,Y_train.shape, Y_test.shape"
   ]
  },
  {
   "cell_type": "code",
   "execution_count": 16,
   "id": "e8ef0e8b",
   "metadata": {
    "ExecuteTime": {
     "end_time": "2024-12-19T07:45:01.858499Z",
     "start_time": "2024-12-19T07:45:01.785747Z"
    }
   },
   "outputs": [
    {
     "name": "stdout",
     "output_type": "stream",
     "text": [
      "Model: \"sequential_4\"\n",
      "_________________________________________________________________\n",
      " Layer (type)                Output Shape              Param #   \n",
      "=================================================================\n",
      " dense_16 (Dense)            (None, 60)                300       \n",
      "                                                                 \n",
      " dense_17 (Dense)            (None, 50)                3050      \n",
      "                                                                 \n",
      " dense_18 (Dense)            (None, 30)                1530      \n",
      "                                                                 \n",
      " dense_19 (Dense)            (None, 3)                 93        \n",
      "                                                                 \n",
      "=================================================================\n",
      "Total params: 4,973\n",
      "Trainable params: 4,973\n",
      "Non-trainable params: 0\n",
      "_________________________________________________________________\n"
     ]
    }
   ],
   "source": [
    "#2. 모델구성하기(입력 4 - 출력 3)\n",
    "model=Sequential()\n",
    "model.add(Dense(units=60, input_dim=4, activation='relu'))\n",
    "model.add(Dense(units=50,activation='relu'))\n",
    "model.add(Dense(units=30,activation='relu'))\n",
    "model.add(Dense(units=3,activation='softmax'))\n",
    "\n",
    "model.summary()\n",
    "          "
   ]
  },
  {
   "cell_type": "code",
   "execution_count": 22,
   "id": "24840430",
   "metadata": {
    "ExecuteTime": {
     "end_time": "2024-12-19T07:46:05.429835Z",
     "start_time": "2024-12-19T07:46:05.360983Z"
    }
   },
   "outputs": [
    {
     "name": "stdout",
     "output_type": "stream",
     "text": [
      "Model: \"sequential_5\"\n",
      "_________________________________________________________________\n",
      " Layer (type)                Output Shape              Param #   \n",
      "=================================================================\n",
      " dense_20 (Dense)            (None, 60)                300       \n",
      "                                                                 \n",
      " dense_21 (Dense)            (None, 50)                3050      \n",
      "                                                                 \n",
      " dense_22 (Dense)            (None, 30)                1530      \n",
      "                                                                 \n",
      " dense_23 (Dense)            (None, 3)                 93        \n",
      "                                                                 \n",
      "=================================================================\n",
      "Total params: 4,973\n",
      "Trainable params: 4,973\n",
      "Non-trainable params: 0\n",
      "_________________________________________________________________\n"
     ]
    }
   ],
   "source": [
    "#2. 모델구성하기(입력 4 - 출력 3)\n",
    "model=Sequential([\n",
    "    Input(4,),\n",
    "    Dense(units=60,activation='relu'),\n",
    "    Dense(units=50,activation='relu'),\n",
    "    Dense(units=30,activation='relu'),\n",
    "    Dense(units=3,activation='softmax')  \n",
    "])\n",
    "model.summary()"
   ]
  },
  {
   "cell_type": "code",
   "execution_count": 23,
   "id": "c962ae41",
   "metadata": {
    "ExecuteTime": {
     "end_time": "2024-12-19T07:46:05.748109Z",
     "start_time": "2024-12-19T07:46:05.737367Z"
    }
   },
   "outputs": [],
   "source": [
    "# 3. 모델학습과정\n",
    "model.compile(loss='categorical_crossentropy',\n",
    "              optimizer='adam',\n",
    "              metrics=['accuracy'])\n"
   ]
  },
  {
   "cell_type": "code",
   "execution_count": 56,
   "id": "b6905279",
   "metadata": {
    "ExecuteTime": {
     "end_time": "2024-12-19T08:28:26.166337Z",
     "start_time": "2024-12-19T08:28:24.249110Z"
    }
   },
   "outputs": [
    {
     "name": "stdout",
     "output_type": "stream",
     "text": [
      "Epoch 1/300\n",
      "1/3 [=========>....................] - ETA: 0s - loss: 0.1415 - accuracy: 0.9688\n",
      "Epoch 1: val_loss improved from inf to 0.04074, saving model to ./model\\iris-001-val1.0000.h5\n",
      "3/3 [==============================] - 0s 40ms/step - loss: 0.0734 - accuracy: 0.9792 - val_loss: 0.0407 - val_accuracy: 1.0000\n",
      "Epoch 2/300\n",
      "1/3 [=========>....................] - ETA: 0s - loss: 0.0786 - accuracy: 0.9688\n",
      "Epoch 2: val_loss did not improve from 0.04074\n",
      "3/3 [==============================] - 0s 17ms/step - loss: 0.1080 - accuracy: 0.9375 - val_loss: 0.0410 - val_accuracy: 1.0000\n",
      "Epoch 3/300\n",
      "1/3 [=========>....................] - ETA: 0s - loss: 0.0947 - accuracy: 0.9688\n",
      "Epoch 3: val_loss did not improve from 0.04074\n",
      "3/3 [==============================] - 0s 15ms/step - loss: 0.0983 - accuracy: 0.9583 - val_loss: 0.0410 - val_accuracy: 0.9583\n",
      "Epoch 4/300\n",
      "1/3 [=========>....................] - ETA: 0s - loss: 0.1641 - accuracy: 0.9688\n",
      "Epoch 4: val_loss improved from 0.04074 to 0.02916, saving model to ./model\\iris-004-val1.0000.h5\n",
      "3/3 [==============================] - 0s 26ms/step - loss: 0.1081 - accuracy: 0.9688 - val_loss: 0.0292 - val_accuracy: 1.0000\n",
      "Epoch 5/300\n",
      "1/3 [=========>....................] - ETA: 0s - loss: 0.0323 - accuracy: 1.0000\n",
      "Epoch 5: val_loss did not improve from 0.02916\n",
      "3/3 [==============================] - 0s 16ms/step - loss: 0.0684 - accuracy: 0.9688 - val_loss: 0.0347 - val_accuracy: 1.0000\n",
      "Epoch 6/300\n",
      "1/3 [=========>....................] - ETA: 0s - loss: 0.0345 - accuracy: 1.0000\n",
      "Epoch 6: val_loss did not improve from 0.02916\n",
      "3/3 [==============================] - 0s 16ms/step - loss: 0.0939 - accuracy: 0.9479 - val_loss: 0.0520 - val_accuracy: 0.9583\n",
      "Epoch 7/300\n",
      "1/3 [=========>....................] - ETA: 0s - loss: 0.0367 - accuracy: 1.0000\n",
      "Epoch 7: val_loss improved from 0.02916 to 0.02445, saving model to ./model\\iris-007-val1.0000.h5\n",
      "3/3 [==============================] - 0s 23ms/step - loss: 0.0737 - accuracy: 0.9792 - val_loss: 0.0245 - val_accuracy: 1.0000\n",
      "Epoch 8/300\n",
      "1/3 [=========>....................] - ETA: 0s - loss: 0.0517 - accuracy: 0.9688\n",
      "Epoch 8: val_loss did not improve from 0.02445\n",
      "3/3 [==============================] - 0s 17ms/step - loss: 0.0739 - accuracy: 0.9688 - val_loss: 0.0266 - val_accuracy: 1.0000\n",
      "Epoch 9/300\n",
      "1/3 [=========>....................] - ETA: 0s - loss: 0.1324 - accuracy: 0.9688\n",
      "Epoch 9: val_loss did not improve from 0.02445\n",
      "3/3 [==============================] - 0s 14ms/step - loss: 0.0769 - accuracy: 0.9688 - val_loss: 0.0253 - val_accuracy: 1.0000\n",
      "Epoch 10/300\n",
      "1/3 [=========>....................] - ETA: 0s - loss: 0.1488 - accuracy: 0.9375\n",
      "Epoch 10: val_loss did not improve from 0.02445\n",
      "3/3 [==============================] - 0s 15ms/step - loss: 0.0859 - accuracy: 0.9583 - val_loss: 0.0484 - val_accuracy: 0.9583\n",
      "Epoch 11/300\n",
      "1/3 [=========>....................] - ETA: 0s - loss: 0.0578 - accuracy: 1.0000\n",
      "Epoch 11: val_loss did not improve from 0.02445\n",
      "3/3 [==============================] - 0s 15ms/step - loss: 0.0738 - accuracy: 0.9792 - val_loss: 0.0308 - val_accuracy: 1.0000\n",
      "Epoch 12/300\n",
      "1/3 [=========>....................] - ETA: 0s - loss: 0.0359 - accuracy: 1.0000\n",
      "Epoch 12: val_loss did not improve from 0.02445\n",
      "3/3 [==============================] - 0s 15ms/step - loss: 0.0614 - accuracy: 0.9896 - val_loss: 0.0260 - val_accuracy: 1.0000\n",
      "Epoch 13/300\n",
      "1/3 [=========>....................] - ETA: 0s - loss: 0.1257 - accuracy: 0.9688\n",
      "Epoch 13: val_loss did not improve from 0.02445\n",
      "3/3 [==============================] - 0s 13ms/step - loss: 0.0731 - accuracy: 0.9688 - val_loss: 0.0262 - val_accuracy: 1.0000\n",
      "Epoch 14/300\n",
      "1/3 [=========>....................] - ETA: 0s - loss: 0.0380 - accuracy: 0.9688\n",
      "Epoch 14: val_loss did not improve from 0.02445\n",
      "3/3 [==============================] - 0s 15ms/step - loss: 0.0668 - accuracy: 0.9688 - val_loss: 0.0296 - val_accuracy: 1.0000\n",
      "Epoch 15/300\n",
      "1/3 [=========>....................] - ETA: 0s - loss: 0.0325 - accuracy: 1.0000\n",
      "Epoch 15: val_loss did not improve from 0.02445\n",
      "3/3 [==============================] - 0s 16ms/step - loss: 0.0706 - accuracy: 0.9792 - val_loss: 0.0407 - val_accuracy: 1.0000\n",
      "Epoch 16/300\n",
      "1/3 [=========>....................] - ETA: 0s - loss: 0.1173 - accuracy: 0.9688\n",
      "Epoch 16: val_loss did not improve from 0.02445\n",
      "3/3 [==============================] - 0s 16ms/step - loss: 0.0683 - accuracy: 0.9792 - val_loss: 0.0298 - val_accuracy: 1.0000\n",
      "Epoch 17/300\n",
      "1/3 [=========>....................] - ETA: 0s - loss: 0.1409 - accuracy: 0.9688\n",
      "Epoch 17: val_loss did not improve from 0.02445\n",
      "3/3 [==============================] - 0s 15ms/step - loss: 0.0617 - accuracy: 0.9896 - val_loss: 0.0255 - val_accuracy: 1.0000\n",
      "Epoch 18/300\n",
      "1/3 [=========>....................] - ETA: 0s - loss: 0.1411 - accuracy: 0.9375\n",
      "Epoch 18: val_loss did not improve from 0.02445\n",
      "3/3 [==============================] - 0s 15ms/step - loss: 0.0690 - accuracy: 0.9792 - val_loss: 0.0258 - val_accuracy: 1.0000\n",
      "Epoch 19/300\n",
      "1/3 [=========>....................] - ETA: 0s - loss: 0.1234 - accuracy: 0.9688\n",
      "Epoch 19: val_loss did not improve from 0.02445\n",
      "3/3 [==============================] - 0s 24ms/step - loss: 0.0657 - accuracy: 0.9792 - val_loss: 0.0276 - val_accuracy: 1.0000\n",
      "Epoch 20/300\n",
      "1/3 [=========>....................] - ETA: 0s - loss: 0.0425 - accuracy: 1.0000\n",
      "Epoch 20: val_loss did not improve from 0.02445\n",
      "3/3 [==============================] - 0s 14ms/step - loss: 0.0651 - accuracy: 0.9896 - val_loss: 0.0293 - val_accuracy: 1.0000\n",
      "Epoch 21/300\n",
      "1/3 [=========>....................] - ETA: 0s - loss: 0.0362 - accuracy: 1.0000\n",
      "Epoch 21: val_loss did not improve from 0.02445\n",
      "3/3 [==============================] - 0s 15ms/step - loss: 0.0678 - accuracy: 0.9896 - val_loss: 0.0275 - val_accuracy: 1.0000\n",
      "Epoch 22/300\n",
      "1/3 [=========>....................] - ETA: 0s - loss: 0.0192 - accuracy: 1.0000\n",
      "Epoch 22: val_loss did not improve from 0.02445\n",
      "3/3 [==============================] - 0s 17ms/step - loss: 0.0637 - accuracy: 0.9896 - val_loss: 0.0302 - val_accuracy: 1.0000\n",
      "Epoch 23/300\n",
      "1/3 [=========>....................] - ETA: 0s - loss: 0.0334 - accuracy: 0.9688\n",
      "Epoch 23: val_loss did not improve from 0.02445\n",
      "3/3 [==============================] - 0s 16ms/step - loss: 0.0666 - accuracy: 0.9792 - val_loss: 0.0281 - val_accuracy: 1.0000\n",
      "Epoch 24/300\n",
      "1/3 [=========>....................] - ETA: 0s - loss: 0.0316 - accuracy: 1.0000\n",
      "Epoch 24: val_loss did not improve from 0.02445\n",
      "3/3 [==============================] - 0s 16ms/step - loss: 0.0675 - accuracy: 0.9792 - val_loss: 0.0273 - val_accuracy: 1.0000\n",
      "Epoch 25/300\n",
      "1/3 [=========>....................] - ETA: 0s - loss: 0.0420 - accuracy: 1.0000\n",
      "Epoch 25: val_loss did not improve from 0.02445\n",
      "3/3 [==============================] - 0s 16ms/step - loss: 0.0632 - accuracy: 0.9792 - val_loss: 0.0326 - val_accuracy: 1.0000\n",
      "Epoch 26/300\n",
      "1/3 [=========>....................] - ETA: 0s - loss: 0.0278 - accuracy: 1.0000\n",
      "Epoch 26: val_loss did not improve from 0.02445\n",
      "3/3 [==============================] - 0s 15ms/step - loss: 0.0676 - accuracy: 0.9792 - val_loss: 0.0347 - val_accuracy: 1.0000\n",
      "Epoch 27/300\n",
      "1/3 [=========>....................] - ETA: 0s - loss: 0.0428 - accuracy: 0.9688\n",
      "Epoch 27: val_loss did not improve from 0.02445\n",
      "3/3 [==============================] - 0s 16ms/step - loss: 0.0643 - accuracy: 0.9792 - val_loss: 0.0262 - val_accuracy: 1.0000\n",
      "Epoch 28/300\n",
      "1/3 [=========>....................] - ETA: 0s - loss: 0.0166 - accuracy: 1.0000\n",
      "Epoch 28: val_loss did not improve from 0.02445\n",
      "3/3 [==============================] - 0s 15ms/step - loss: 0.0683 - accuracy: 0.9792 - val_loss: 0.0253 - val_accuracy: 1.0000\n",
      "Epoch 29/300\n",
      "1/3 [=========>....................] - ETA: 0s - loss: 0.0263 - accuracy: 1.0000\n",
      "Epoch 29: val_loss did not improve from 0.02445\n",
      "3/3 [==============================] - 0s 16ms/step - loss: 0.0650 - accuracy: 0.9792 - val_loss: 0.0272 - val_accuracy: 1.0000\n",
      "Epoch 30/300\n",
      "1/3 [=========>....................] - ETA: 0s - loss: 0.0173 - accuracy: 1.0000\n",
      "Epoch 30: val_loss did not improve from 0.02445\n",
      "3/3 [==============================] - 0s 15ms/step - loss: 0.0681 - accuracy: 0.9792 - val_loss: 0.0351 - val_accuracy: 1.0000\n"
     ]
    },
    {
     "name": "stdout",
     "output_type": "stream",
     "text": [
      "Epoch 31/300\n",
      "1/3 [=========>....................] - ETA: 0s - loss: 0.0032 - accuracy: 1.0000\n",
      "Epoch 31: val_loss did not improve from 0.02445\n",
      "3/3 [==============================] - 0s 15ms/step - loss: 0.0653 - accuracy: 0.9792 - val_loss: 0.0287 - val_accuracy: 1.0000\n",
      "Epoch 32/300\n",
      "1/3 [=========>....................] - ETA: 0s - loss: 0.0133 - accuracy: 1.0000\n",
      "Epoch 32: val_loss did not improve from 0.02445\n",
      "3/3 [==============================] - 0s 15ms/step - loss: 0.0664 - accuracy: 0.9792 - val_loss: 0.0254 - val_accuracy: 1.0000\n",
      "Epoch 33/300\n",
      "1/3 [=========>....................] - ETA: 0s - loss: 0.0268 - accuracy: 1.0000\n",
      "Epoch 33: val_loss did not improve from 0.02445\n",
      "3/3 [==============================] - 0s 16ms/step - loss: 0.0678 - accuracy: 0.9792 - val_loss: 0.0279 - val_accuracy: 1.0000\n",
      "Epoch 34/300\n",
      "1/3 [=========>....................] - ETA: 0s - loss: 0.0077 - accuracy: 1.0000\n",
      "Epoch 34: val_loss did not improve from 0.02445\n",
      "3/3 [==============================] - 0s 17ms/step - loss: 0.0650 - accuracy: 0.9792 - val_loss: 0.0354 - val_accuracy: 1.0000\n",
      "Epoch 35/300\n",
      "1/3 [=========>....................] - ETA: 0s - loss: 0.0521 - accuracy: 0.9688\n",
      "Epoch 35: val_loss did not improve from 0.02445\n",
      "3/3 [==============================] - 0s 16ms/step - loss: 0.0675 - accuracy: 0.9792 - val_loss: 0.0278 - val_accuracy: 1.0000\n",
      "Epoch 36/300\n",
      "1/3 [=========>....................] - ETA: 0s - loss: 0.1155 - accuracy: 0.9688\n",
      "Epoch 36: val_loss did not improve from 0.02445\n",
      "3/3 [==============================] - 0s 17ms/step - loss: 0.0630 - accuracy: 0.9896 - val_loss: 0.0271 - val_accuracy: 1.0000\n",
      "Epoch 37/300\n",
      "1/3 [=========>....................] - ETA: 0s - loss: 0.1160 - accuracy: 0.9688\n",
      "Epoch 37: val_loss did not improve from 0.02445\n",
      "3/3 [==============================] - 0s 16ms/step - loss: 0.0650 - accuracy: 0.9896 - val_loss: 0.0274 - val_accuracy: 1.0000\n",
      "Epoch 38/300\n",
      "1/3 [=========>....................] - ETA: 0s - loss: 0.0284 - accuracy: 1.0000\n",
      "Epoch 38: val_loss did not improve from 0.02445\n",
      "3/3 [==============================] - 0s 16ms/step - loss: 0.0683 - accuracy: 0.9896 - val_loss: 0.0253 - val_accuracy: 1.0000\n",
      "Epoch 39/300\n",
      "1/3 [=========>....................] - ETA: 0s - loss: 0.0463 - accuracy: 1.0000\n",
      "Epoch 39: val_loss did not improve from 0.02445\n",
      "3/3 [==============================] - 0s 15ms/step - loss: 0.0658 - accuracy: 0.9792 - val_loss: 0.0260 - val_accuracy: 1.0000\n",
      "Epoch 40/300\n",
      "1/3 [=========>....................] - ETA: 0s - loss: 0.0070 - accuracy: 1.0000\n",
      "Epoch 40: val_loss did not improve from 0.02445\n",
      "3/3 [==============================] - 0s 14ms/step - loss: 0.0656 - accuracy: 0.9792 - val_loss: 0.0334 - val_accuracy: 1.0000\n",
      "Epoch 41/300\n",
      "1/3 [=========>....................] - ETA: 0s - loss: 0.0202 - accuracy: 1.0000\n",
      "Epoch 41: val_loss did not improve from 0.02445\n",
      "3/3 [==============================] - 0s 15ms/step - loss: 0.0643 - accuracy: 0.9792 - val_loss: 0.0296 - val_accuracy: 1.0000\n",
      "Epoch 42/300\n",
      "1/3 [=========>....................] - ETA: 0s - loss: 0.0131 - accuracy: 1.0000\n",
      "Epoch 42: val_loss did not improve from 0.02445\n",
      "3/3 [==============================] - 0s 15ms/step - loss: 0.0684 - accuracy: 0.9896 - val_loss: 0.0253 - val_accuracy: 1.0000\n",
      "Epoch 43/300\n",
      "1/3 [=========>....................] - ETA: 0s - loss: 0.0196 - accuracy: 1.0000\n",
      "Epoch 43: val_loss did not improve from 0.02445\n",
      "3/3 [==============================] - 0s 15ms/step - loss: 0.0684 - accuracy: 0.9792 - val_loss: 0.0284 - val_accuracy: 1.0000\n",
      "Epoch 44/300\n",
      "1/3 [=========>....................] - ETA: 0s - loss: 0.0088 - accuracy: 1.0000\n",
      "Epoch 44: val_loss did not improve from 0.02445\n",
      "3/3 [==============================] - 0s 14ms/step - loss: 0.0626 - accuracy: 0.9792 - val_loss: 0.0334 - val_accuracy: 1.0000\n",
      "Epoch 45/300\n",
      "1/3 [=========>....................] - ETA: 0s - loss: 0.0317 - accuracy: 1.0000\n",
      "Epoch 45: val_loss did not improve from 0.02445\n",
      "3/3 [==============================] - 0s 14ms/step - loss: 0.0693 - accuracy: 0.9792 - val_loss: 0.0323 - val_accuracy: 1.0000\n",
      "Epoch 46/300\n",
      "1/3 [=========>....................] - ETA: 0s - loss: 0.0463 - accuracy: 0.9688\n",
      "Epoch 46: val_loss did not improve from 0.02445\n",
      "3/3 [==============================] - 0s 15ms/step - loss: 0.0708 - accuracy: 0.9688 - val_loss: 0.0257 - val_accuracy: 1.0000\n",
      "Epoch 47/300\n",
      "1/3 [=========>....................] - ETA: 0s - loss: 0.0634 - accuracy: 0.9375\n",
      "Epoch 47: val_loss did not improve from 0.02445\n",
      "3/3 [==============================] - 0s 14ms/step - loss: 0.0681 - accuracy: 0.9688 - val_loss: 0.0272 - val_accuracy: 1.0000\n"
     ]
    }
   ],
   "source": [
    "# 4. 학습 : epoch 마다 val_accuracy(val_loss, accuracy,loss)값이 좋을때 모델을 자동저장 callback 추가\n",
    "            # 모델을 저장할 경로:./model/iris-100-val0.6521.h5\n",
    "import os\n",
    "model_save_folder ='./model/'\n",
    "if not os.path.exists(model_save_folder):\n",
    "    os.mkdir(model_save_folder) # model_save_folder가 없으면 폴더 생성\n",
    "# 조기 종료 콜백\n",
    "earlystopping = EarlyStopping(patience=40)\n",
    "# 모델 자동 저장 콜백\n",
    "file = model_save_folder+'iris-{epoch:03d}-val{val_accuracy:.4f}.h5'\n",
    "checkpoint= ModelCheckpoint(filepath= file, #저장경로\n",
    "                           monitor='val_loss', #모티터링지표\n",
    "                            save_best_only=True, # 지표가 개선된 경우만 저장.False면 매번 저장\n",
    "                            mode= 'auto', #값이 클수록 저장.'min'은 값이 작을수록 저장. auto\n",
    "                            verbose=1\n",
    "                           )\n",
    "\n",
    "hist = model.fit(X_train,Y_train,\n",
    "                #batch_size=50, # 한배치사이즈마다 w,b조정,\n",
    "                 epochs=300,\n",
    "                 validation_split=0.2,\n",
    "                 callbacks=[checkpoint,earlystopping]\n",
    "                 )"
   ]
  },
  {
   "cell_type": "code",
   "execution_count": 63,
   "id": "05c05937",
   "metadata": {
    "ExecuteTime": {
     "end_time": "2024-12-19T08:30:22.228139Z",
     "start_time": "2024-12-19T08:30:21.968837Z"
    }
   },
   "outputs": [
    {
     "data": {
      "image/png": "[encoded data removed]",
      "text/plain": [
       "<Figure size 1000x400 with 2 Axes>"
      ]
     },
     "metadata": {},
     "output_type": "display_data"
    }
   ],
   "source": [
    "# 학습과정 중의 loss와 accuracy\n",
    "import matplotlib.pyplot as plt\n",
    "fig, loss_ax = plt.subplots(figsize=(10,4))\n",
    "loss_ax.plot(hist.history['loss'],'y*',label='train loss')\n",
    "loss_ax.plot(hist.history['val_loss'],'r--',label='validation loss')\n",
    "acc_ax = loss_ax.twinx() # loss_ax와 x축을 공유하는 acc_ax 생성\n",
    "acc_ax.plot(hist.history['accuracy'],'g',label='train accuracy')\n",
    "acc_ax.plot(hist.history['val_accuracy'],'b',label='val accuracy')\n",
    "loss_ax.set_xlabel('epoch')\n",
    "loss_ax.set_ylabel('loss')\n",
    "acc_ax.set_ylabel('accuracy')\n",
    "loss_ax.legend(loc='center')\n",
    "acc_ax.legend(loc='center right')\n",
    "plt.show()"
   ]
  },
  {
   "cell_type": "code",
   "execution_count": 58,
   "id": "6b895cf4",
   "metadata": {
    "ExecuteTime": {
     "end_time": "2024-12-19T08:28:31.280869Z",
     "start_time": "2024-12-19T08:28:31.208817Z"
    }
   },
   "outputs": [
    {
     "name": "stdout",
     "output_type": "stream",
     "text": [
      "1/1 [==============================] - 0s 25ms/step - loss: 0.0046 - accuracy: 1.0000\n"
     ]
    },
    {
     "data": {
      "text/plain": [
       "[0.004564077593386173, 1.0]"
      ]
     },
     "execution_count": 58,
     "metadata": {},
     "output_type": "execute_result"
    }
   ],
   "source": [
    "# 모델평가\n",
    "model.evaluate(X_test,Y_test)"
   ]
  },
  {
   "cell_type": "code",
   "execution_count": 62,
   "id": "bac7afe8",
   "metadata": {
    "ExecuteTime": {
     "end_time": "2024-12-19T08:29:09.573850Z",
     "start_time": "2024-12-19T08:29:09.463794Z"
    }
   },
   "outputs": [
    {
     "name": "stdout",
     "output_type": "stream",
     "text": [
      "1/1 [==============================] - 0s 56ms/step\n"
     ]
    },
    {
     "data": {
      "text/html": [
       "<div>\n",
       "<style scoped>\n",
       "    .dataframe tbody tr th:only-of-type {\n",
       "        vertical-align: middle;\n",
       "    }\n",
       "\n",
       "    .dataframe tbody tr th {\n",
       "        vertical-align: top;\n",
       "    }\n",
       "\n",
       "    .dataframe thead th {\n",
       "        text-align: right;\n",
       "    }\n",
       "</style>\n",
       "<table border=\"1\" class=\"dataframe\">\n",
       "  <thead>\n",
       "    <tr style=\"text-align: right;\">\n",
       "      <th>predict</th>\n",
       "      <th>setosa</th>\n",
       "      <th>versicolor</th>\n",
       "      <th>virginica</th>\n",
       "    </tr>\n",
       "    <tr>\n",
       "      <th>real</th>\n",
       "      <th></th>\n",
       "      <th></th>\n",
       "      <th></th>\n",
       "    </tr>\n",
       "  </thead>\n",
       "  <tbody>\n",
       "    <tr>\n",
       "      <th>setosa</th>\n",
       "      <td>10</td>\n",
       "      <td>0</td>\n",
       "      <td>0</td>\n",
       "    </tr>\n",
       "    <tr>\n",
       "      <th>versicolor</th>\n",
       "      <td>0</td>\n",
       "      <td>10</td>\n",
       "      <td>0</td>\n",
       "    </tr>\n",
       "    <tr>\n",
       "      <th>virginica</th>\n",
       "      <td>0</td>\n",
       "      <td>0</td>\n",
       "      <td>10</td>\n",
       "    </tr>\n",
       "  </tbody>\n",
       "</table>\n",
       "</div>"
      ],
      "text/plain": [
       "predict     setosa  versicolor  virginica\n",
       "real                                     \n",
       "setosa          10           0          0\n",
       "versicolor       0          10          0\n",
       "virginica        0           0         10"
      ]
     },
     "execution_count": 62,
     "metadata": {},
     "output_type": "execute_result"
    }
   ],
   "source": [
    "# 교차표 ctab\n",
    "real = np.argmax(Y_test,axis=1)\n",
    "pred = np.argmax(model2.predict(X_test),axis=1)\n",
    "ctab =pd.crosstab(real,pred)\n",
    "\n",
    "\n",
    "ctab.columns=list(iris['species'][::50])\n",
    "ctab.columns.name='predict'\n",
    "ctab.index=iris['species'][::50]\n",
    "ctab.index.name='real'\n",
    "ctab"
   ]
  },
  {
   "cell_type": "code",
   "execution_count": 61,
   "id": "47f4b991",
   "metadata": {
    "ExecuteTime": {
     "end_time": "2024-12-19T08:29:04.614767Z",
     "start_time": "2024-12-19T08:29:04.368782Z"
    }
   },
   "outputs": [
    {
     "name": "stdout",
     "output_type": "stream",
     "text": [
      "1/1 [==============================] - 0s 129ms/step - loss: 0.0055 - accuracy: 1.0000\n"
     ]
    },
    {
     "data": {
      "text/plain": [
       "[0.005459693260490894, 1.0]"
      ]
     },
     "execution_count": 61,
     "metadata": {},
     "output_type": "execute_result"
    }
   ],
   "source": [
    "# 저장된 모델 중 성능이 제일 좋은 파일 load\n",
    "from tensorflow.keras.models import load_model\n",
    "model2=load_model('./model/iris-007-val1.0000.h5')\n",
    "model2.evaluate(X_test,Y_test)"
   ]
  },
  {
   "cell_type": "code",
   "execution_count": 70,
   "id": "a7279c16",
   "metadata": {
    "ExecuteTime": {
     "end_time": "2024-12-19T08:37:54.396008Z",
     "start_time": "2024-12-19T08:37:54.385087Z"
    }
   },
   "outputs": [
    {
     "data": {
      "text/html": [
       "<div>\n",
       "<style scoped>\n",
       "    .dataframe tbody tr th:only-of-type {\n",
       "        vertical-align: middle;\n",
       "    }\n",
       "\n",
       "    .dataframe tbody tr th {\n",
       "        vertical-align: top;\n",
       "    }\n",
       "\n",
       "    .dataframe thead th {\n",
       "        text-align: right;\n",
       "    }\n",
       "</style>\n",
       "<table border=\"1\" class=\"dataframe\">\n",
       "  <thead>\n",
       "    <tr style=\"text-align: right;\">\n",
       "      <th></th>\n",
       "      <th>sepal_length</th>\n",
       "      <th>sepal_width</th>\n",
       "      <th>petal_length</th>\n",
       "      <th>petal_width</th>\n",
       "      <th>species</th>\n",
       "    </tr>\n",
       "  </thead>\n",
       "  <tbody>\n",
       "    <tr>\n",
       "      <th>100</th>\n",
       "      <td>6.3</td>\n",
       "      <td>3.3</td>\n",
       "      <td>6.0</td>\n",
       "      <td>2.5</td>\n",
       "      <td>virginica</td>\n",
       "    </tr>\n",
       "  </tbody>\n",
       "</table>\n",
       "</div>"
      ],
      "text/plain": [
       "     sepal_length  sepal_width  petal_length  petal_width    species\n",
       "100           6.3          3.3           6.0          2.5  virginica"
      ]
     },
     "execution_count": 70,
     "metadata": {},
     "output_type": "execute_result"
    }
   ],
   "source": [
    "# 모델사용하기(예측하기)\n",
    "iris[100:101]"
   ]
  },
  {
   "cell_type": "code",
   "execution_count": 71,
   "id": "a64863ca",
   "metadata": {
    "ExecuteTime": {
     "end_time": "2024-12-19T08:38:12.885233Z",
     "start_time": "2024-12-19T08:38:12.815364Z"
    }
   },
   "outputs": [
    {
     "name": "stdout",
     "output_type": "stream",
     "text": [
      "1/1 [==============================] - 0s 22ms/step\n"
     ]
    },
    {
     "data": {
      "text/plain": [
       "array([[8.7288388e-10, 3.0492689e-05, 9.9996948e-01]], dtype=float32)"
      ]
     },
     "execution_count": 71,
     "metadata": {},
     "output_type": "execute_result"
    }
   ],
   "source": [
    "model.predict(np.array([[6.3,3.3,6,2.5]]))"
   ]
  },
  {
   "cell_type": "code",
   "execution_count": null,
   "id": "6e0d8a66",
   "metadata": {},
   "outputs": [],
   "source": []
  },
  {
   "cell_type": "code",
   "execution_count": null,
   "id": "bb6a0d7c",
   "metadata": {},
   "outputs": [],
   "source": []
  },
  {
   "cell_type": "code",
   "execution_count": null,
   "id": "c729859b",
   "metadata": {},
   "outputs": [],
   "source": []
  }
 ],
 "metadata": {
  "kernelspec": {
   "display_name": "Python 3 (ipykernel)",
   "language": "python",
   "name": "python3"
  },
  "language_info": {
   "codemirror_mode": {
    "name": "ipython",
    "version": 3
   },
   "file_extension": ".py",
   "mimetype": "text/x-python",
   "name": "python",
   "nbconvert_exporter": "python",
   "pygments_lexer": "ipython3",
   "version": "3.10.9"
  },
  "toc": {
   "base_numbering": 1,
   "nav_menu": {},
   "number_sections": true,
   "sideBar": true,
   "skip_h1_title": false,
   "title_cell": "Table of Contents",
   "title_sidebar": "Contents",
   "toc_cell": false,
   "toc_position": {},
   "toc_section_display": true,
   "toc_window_display": false
  }
 },
 "nbformat": 4,
 "nbformat_minor": 5
}
