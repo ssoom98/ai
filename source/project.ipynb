{
 "cells": [
  {
   "cell_type": "code",
   "execution_count": 22,
   "id": "35b7f0c3",
   "metadata": {
    "ExecuteTime": {
     "end_time": "2025-01-03T08:19:50.068790Z",
     "start_time": "2025-01-03T08:19:49.269626Z"
    }
   },
   "outputs": [],
   "source": [
    "#패키지 import\n",
    "import matplotlib.pyplot as plt\n",
    "import seaborn as sns\n",
    "import pandas as pd\n",
    "import numpy as np\n",
    "\n",
    "#시각화 선명도\n",
    "%matplotlib inline\n",
    "%config InlineBackend.figure_format= \"retina\"\n",
    "\n",
    "# 한글설정\n",
    "plt.rc('font',family='Malgun Gothic') # 윈도우즈\n",
    "plt.rc('axes',unicode_minus=False)# 축의 -깨짐방지\n",
    "\n",
    "# warnig 감추기\n",
    "import warnings\n",
    "warnings.filterwarnings(action='ignore') #안보이게\n",
    "#warnings.filterwarnings(action='default') #보이게\n",
    "\n"
   ]
  },
  {
   "cell_type": "code",
   "execution_count": null,
   "id": "c8071da7",
   "metadata": {},
   "outputs": [],
   "source": []
  },
  {
   "cell_type": "raw",
   "id": "8d6d035a",
   "metadata": {},
   "source": []
  }
 ],
 "metadata": {
  "kernelspec": {
   "display_name": "Python 3 (ipykernel)",
   "language": "python",
   "name": "python3"
  },
  "language_info": {
   "codemirror_mode": {
    "name": "ipython",
    "version": 3
   },
   "file_extension": ".py",
   "mimetype": "text/x-python",
   "name": "python",
   "nbconvert_exporter": "python",
   "pygments_lexer": "ipython3",
   "version": "3.10.9"
  },
  "toc": {
   "base_numbering": 1,
   "nav_menu": {},
   "number_sections": true,
   "sideBar": true,
   "skip_h1_title": false,
   "title_cell": "Table of Contents",
   "title_sidebar": "Contents",
   "toc_cell": false,
   "toc_position": {},
   "toc_section_display": true,
   "toc_window_display": false
  }
 },
 "nbformat": 4,
 "nbformat_minor": 5
}
